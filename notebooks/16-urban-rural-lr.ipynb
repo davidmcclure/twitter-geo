{
 "cells": [
  {
   "cell_type": "code",
   "execution_count": 127,
   "metadata": {},
   "outputs": [],
   "source": [
    "import ujson\n",
    "import numpy as np\n",
    "import re\n",
    "\n",
    "from tqdm import tqdm_notebook\n",
    "from glob import glob\n",
    "\n",
    "from sklearn.linear_model import LogisticRegression\n",
    "from sklearn.feature_extraction.text import CountVectorizer\n",
    "from sklearn.model_selection import train_test_split\n",
    "from sklearn.metrics import f1_score, accuracy_score"
   ]
  },
  {
   "cell_type": "code",
   "execution_count": 99,
   "metadata": {},
   "outputs": [],
   "source": [
    "def read_tweets(pattern):\n",
    "    \n",
    "    tweets = []\n",
    "    for path in glob(pattern):\n",
    "        with open(path) as fh:\n",
    "            for line in tqdm_notebook(fh):\n",
    "                tweet = ujson.loads(line)\n",
    "                text = re.sub('(#|@|http)\\S+', '', tweet['body'])\n",
    "                tweets.append(text)\n",
    "                \n",
    "    return tweets"
   ]
  },
  {
   "cell_type": "code",
   "execution_count": 100,
   "metadata": {},
   "outputs": [
    {
     "data": {
      "application/vnd.jupyter.widget-view+json": {
       "model_id": "8f2a674ee648488fadbd2d0c8ef8b200",
       "version_major": 2,
       "version_minor": 0
      },
      "text/html": [
       "<p>Failed to display Jupyter Widget of type <code>HBox</code>.</p>\n",
       "<p>\n",
       "  If you're reading this message in Jupyter Notebook or JupyterLab, it may mean\n",
       "  that the widgets JavaScript is still loading. If this message persists, it\n",
       "  likely means that the widgets JavaScript library is either not installed or\n",
       "  not enabled. See the <a href=\"https://ipywidgets.readthedocs.io/en/stable/user_install.html\">Jupyter\n",
       "  Widgets Documentation</a> for setup instructions.\n",
       "</p>\n",
       "<p>\n",
       "  If you're reading this message in another notebook frontend (for example, a static\n",
       "  rendering on GitHub or <a href=\"https://nbviewer.jupyter.org/\">NBViewer</a>),\n",
       "  it may mean that your frontend doesn't currently support widgets.\n",
       "</p>\n"
      ],
      "text/plain": [
       "HBox(children=(IntProgress(value=1, bar_style='info', max=1), HTML(value='')))"
      ]
     },
     "metadata": {},
     "output_type": "display_data"
    },
    {
     "name": "stdout",
     "output_type": "stream",
     "text": [
      "\n"
     ]
    },
    {
     "data": {
      "application/vnd.jupyter.widget-view+json": {
       "model_id": "610438af12624ab48a91984b706e6fb9",
       "version_major": 2,
       "version_minor": 0
      },
      "text/html": [
       "<p>Failed to display Jupyter Widget of type <code>HBox</code>.</p>\n",
       "<p>\n",
       "  If you're reading this message in Jupyter Notebook or JupyterLab, it may mean\n",
       "  that the widgets JavaScript is still loading. If this message persists, it\n",
       "  likely means that the widgets JavaScript library is either not installed or\n",
       "  not enabled. See the <a href=\"https://ipywidgets.readthedocs.io/en/stable/user_install.html\">Jupyter\n",
       "  Widgets Documentation</a> for setup instructions.\n",
       "</p>\n",
       "<p>\n",
       "  If you're reading this message in another notebook frontend (for example, a static\n",
       "  rendering on GitHub or <a href=\"https://nbviewer.jupyter.org/\">NBViewer</a>),\n",
       "  it may mean that your frontend doesn't currently support widgets.\n",
       "</p>\n"
      ],
      "text/plain": [
       "HBox(children=(IntProgress(value=1, bar_style='info', max=1), HTML(value='')))"
      ]
     },
     "metadata": {},
     "output_type": "display_data"
    },
    {
     "name": "stdout",
     "output_type": "stream",
     "text": [
      "\n"
     ]
    },
    {
     "data": {
      "application/vnd.jupyter.widget-view+json": {
       "model_id": "38c200c1a5b642b1b1e28bfc9a428e7e",
       "version_major": 2,
       "version_minor": 0
      },
      "text/html": [
       "<p>Failed to display Jupyter Widget of type <code>HBox</code>.</p>\n",
       "<p>\n",
       "  If you're reading this message in Jupyter Notebook or JupyterLab, it may mean\n",
       "  that the widgets JavaScript is still loading. If this message persists, it\n",
       "  likely means that the widgets JavaScript library is either not installed or\n",
       "  not enabled. See the <a href=\"https://ipywidgets.readthedocs.io/en/stable/user_install.html\">Jupyter\n",
       "  Widgets Documentation</a> for setup instructions.\n",
       "</p>\n",
       "<p>\n",
       "  If you're reading this message in another notebook frontend (for example, a static\n",
       "  rendering on GitHub or <a href=\"https://nbviewer.jupyter.org/\">NBViewer</a>),\n",
       "  it may mean that your frontend doesn't currently support widgets.\n",
       "</p>\n"
      ],
      "text/plain": [
       "HBox(children=(IntProgress(value=1, bar_style='info', max=1), HTML(value='')))"
      ]
     },
     "metadata": {},
     "output_type": "display_data"
    },
    {
     "name": "stdout",
     "output_type": "stream",
     "text": [
      "\n"
     ]
    },
    {
     "data": {
      "application/vnd.jupyter.widget-view+json": {
       "model_id": "5483a232baa54f56a6823cea3558de1d",
       "version_major": 2,
       "version_minor": 0
      },
      "text/html": [
       "<p>Failed to display Jupyter Widget of type <code>HBox</code>.</p>\n",
       "<p>\n",
       "  If you're reading this message in Jupyter Notebook or JupyterLab, it may mean\n",
       "  that the widgets JavaScript is still loading. If this message persists, it\n",
       "  likely means that the widgets JavaScript library is either not installed or\n",
       "  not enabled. See the <a href=\"https://ipywidgets.readthedocs.io/en/stable/user_install.html\">Jupyter\n",
       "  Widgets Documentation</a> for setup instructions.\n",
       "</p>\n",
       "<p>\n",
       "  If you're reading this message in another notebook frontend (for example, a static\n",
       "  rendering on GitHub or <a href=\"https://nbviewer.jupyter.org/\">NBViewer</a>),\n",
       "  it may mean that your frontend doesn't currently support widgets.\n",
       "</p>\n"
      ],
      "text/plain": [
       "HBox(children=(IntProgress(value=1, bar_style='info', max=1), HTML(value='')))"
      ]
     },
     "metadata": {},
     "output_type": "display_data"
    },
    {
     "name": "stdout",
     "output_type": "stream",
     "text": [
      "\n"
     ]
    },
    {
     "data": {
      "application/vnd.jupyter.widget-view+json": {
       "model_id": "03708fffe1194f02b33198a24e4d0c67",
       "version_major": 2,
       "version_minor": 0
      },
      "text/html": [
       "<p>Failed to display Jupyter Widget of type <code>HBox</code>.</p>\n",
       "<p>\n",
       "  If you're reading this message in Jupyter Notebook or JupyterLab, it may mean\n",
       "  that the widgets JavaScript is still loading. If this message persists, it\n",
       "  likely means that the widgets JavaScript library is either not installed or\n",
       "  not enabled. See the <a href=\"https://ipywidgets.readthedocs.io/en/stable/user_install.html\">Jupyter\n",
       "  Widgets Documentation</a> for setup instructions.\n",
       "</p>\n",
       "<p>\n",
       "  If you're reading this message in another notebook frontend (for example, a static\n",
       "  rendering on GitHub or <a href=\"https://nbviewer.jupyter.org/\">NBViewer</a>),\n",
       "  it may mean that your frontend doesn't currently support widgets.\n",
       "</p>\n"
      ],
      "text/plain": [
       "HBox(children=(IntProgress(value=1, bar_style='info', max=1), HTML(value='')))"
      ]
     },
     "metadata": {},
     "output_type": "display_data"
    },
    {
     "name": "stdout",
     "output_type": "stream",
     "text": [
      "\n"
     ]
    },
    {
     "data": {
      "application/vnd.jupyter.widget-view+json": {
       "model_id": "65bdd7ba1c2a4e589580e31a6c1a37e6",
       "version_major": 2,
       "version_minor": 0
      },
      "text/html": [
       "<p>Failed to display Jupyter Widget of type <code>HBox</code>.</p>\n",
       "<p>\n",
       "  If you're reading this message in Jupyter Notebook or JupyterLab, it may mean\n",
       "  that the widgets JavaScript is still loading. If this message persists, it\n",
       "  likely means that the widgets JavaScript library is either not installed or\n",
       "  not enabled. See the <a href=\"https://ipywidgets.readthedocs.io/en/stable/user_install.html\">Jupyter\n",
       "  Widgets Documentation</a> for setup instructions.\n",
       "</p>\n",
       "<p>\n",
       "  If you're reading this message in another notebook frontend (for example, a static\n",
       "  rendering on GitHub or <a href=\"https://nbviewer.jupyter.org/\">NBViewer</a>),\n",
       "  it may mean that your frontend doesn't currently support widgets.\n",
       "</p>\n"
      ],
      "text/plain": [
       "HBox(children=(IntProgress(value=1, bar_style='info', max=1), HTML(value='')))"
      ]
     },
     "metadata": {},
     "output_type": "display_data"
    },
    {
     "name": "stdout",
     "output_type": "stream",
     "text": [
      "\n"
     ]
    },
    {
     "data": {
      "application/vnd.jupyter.widget-view+json": {
       "model_id": "53b68e233723435fbf2aa77ba046ef4f",
       "version_major": 2,
       "version_minor": 0
      },
      "text/html": [
       "<p>Failed to display Jupyter Widget of type <code>HBox</code>.</p>\n",
       "<p>\n",
       "  If you're reading this message in Jupyter Notebook or JupyterLab, it may mean\n",
       "  that the widgets JavaScript is still loading. If this message persists, it\n",
       "  likely means that the widgets JavaScript library is either not installed or\n",
       "  not enabled. See the <a href=\"https://ipywidgets.readthedocs.io/en/stable/user_install.html\">Jupyter\n",
       "  Widgets Documentation</a> for setup instructions.\n",
       "</p>\n",
       "<p>\n",
       "  If you're reading this message in another notebook frontend (for example, a static\n",
       "  rendering on GitHub or <a href=\"https://nbviewer.jupyter.org/\">NBViewer</a>),\n",
       "  it may mean that your frontend doesn't currently support widgets.\n",
       "</p>\n"
      ],
      "text/plain": [
       "HBox(children=(IntProgress(value=1, bar_style='info', max=1), HTML(value='')))"
      ]
     },
     "metadata": {},
     "output_type": "display_data"
    },
    {
     "name": "stdout",
     "output_type": "stream",
     "text": [
      "\n"
     ]
    },
    {
     "data": {
      "application/vnd.jupyter.widget-view+json": {
       "model_id": "5db15052f59e4442a0166102571c51af",
       "version_major": 2,
       "version_minor": 0
      },
      "text/html": [
       "<p>Failed to display Jupyter Widget of type <code>HBox</code>.</p>\n",
       "<p>\n",
       "  If you're reading this message in Jupyter Notebook or JupyterLab, it may mean\n",
       "  that the widgets JavaScript is still loading. If this message persists, it\n",
       "  likely means that the widgets JavaScript library is either not installed or\n",
       "  not enabled. See the <a href=\"https://ipywidgets.readthedocs.io/en/stable/user_install.html\">Jupyter\n",
       "  Widgets Documentation</a> for setup instructions.\n",
       "</p>\n",
       "<p>\n",
       "  If you're reading this message in another notebook frontend (for example, a static\n",
       "  rendering on GitHub or <a href=\"https://nbviewer.jupyter.org/\">NBViewer</a>),\n",
       "  it may mean that your frontend doesn't currently support widgets.\n",
       "</p>\n"
      ],
      "text/plain": [
       "HBox(children=(IntProgress(value=1, bar_style='info', max=1), HTML(value='')))"
      ]
     },
     "metadata": {},
     "output_type": "display_data"
    },
    {
     "name": "stdout",
     "output_type": "stream",
     "text": [
      "\n"
     ]
    },
    {
     "data": {
      "application/vnd.jupyter.widget-view+json": {
       "model_id": "1151eaf7b8e54a1e8f4dcd00552374ae",
       "version_major": 2,
       "version_minor": 0
      },
      "text/html": [
       "<p>Failed to display Jupyter Widget of type <code>HBox</code>.</p>\n",
       "<p>\n",
       "  If you're reading this message in Jupyter Notebook or JupyterLab, it may mean\n",
       "  that the widgets JavaScript is still loading. If this message persists, it\n",
       "  likely means that the widgets JavaScript library is either not installed or\n",
       "  not enabled. See the <a href=\"https://ipywidgets.readthedocs.io/en/stable/user_install.html\">Jupyter\n",
       "  Widgets Documentation</a> for setup instructions.\n",
       "</p>\n",
       "<p>\n",
       "  If you're reading this message in another notebook frontend (for example, a static\n",
       "  rendering on GitHub or <a href=\"https://nbviewer.jupyter.org/\">NBViewer</a>),\n",
       "  it may mean that your frontend doesn't currently support widgets.\n",
       "</p>\n"
      ],
      "text/plain": [
       "HBox(children=(IntProgress(value=1, bar_style='info', max=1), HTML(value='')))"
      ]
     },
     "metadata": {},
     "output_type": "display_data"
    },
    {
     "name": "stdout",
     "output_type": "stream",
     "text": [
      "\n"
     ]
    },
    {
     "data": {
      "application/vnd.jupyter.widget-view+json": {
       "model_id": "fd9067d8e5ff4695944ae59c9a604749",
       "version_major": 2,
       "version_minor": 0
      },
      "text/html": [
       "<p>Failed to display Jupyter Widget of type <code>HBox</code>.</p>\n",
       "<p>\n",
       "  If you're reading this message in Jupyter Notebook or JupyterLab, it may mean\n",
       "  that the widgets JavaScript is still loading. If this message persists, it\n",
       "  likely means that the widgets JavaScript library is either not installed or\n",
       "  not enabled. See the <a href=\"https://ipywidgets.readthedocs.io/en/stable/user_install.html\">Jupyter\n",
       "  Widgets Documentation</a> for setup instructions.\n",
       "</p>\n",
       "<p>\n",
       "  If you're reading this message in another notebook frontend (for example, a static\n",
       "  rendering on GitHub or <a href=\"https://nbviewer.jupyter.org/\">NBViewer</a>),\n",
       "  it may mean that your frontend doesn't currently support widgets.\n",
       "</p>\n"
      ],
      "text/plain": [
       "HBox(children=(IntProgress(value=1, bar_style='info', max=1), HTML(value='')))"
      ]
     },
     "metadata": {},
     "output_type": "display_data"
    },
    {
     "name": "stdout",
     "output_type": "stream",
     "text": [
      "\n"
     ]
    }
   ],
   "source": [
    "rural = read_tweets('../../data/geo-lt10k.json/part-0000*')"
   ]
  },
  {
   "cell_type": "code",
   "execution_count": 101,
   "metadata": {},
   "outputs": [
    {
     "data": {
      "application/vnd.jupyter.widget-view+json": {
       "model_id": "2b97ea36c8df435b836b92dd8f532c0f",
       "version_major": 2,
       "version_minor": 0
      },
      "text/html": [
       "<p>Failed to display Jupyter Widget of type <code>HBox</code>.</p>\n",
       "<p>\n",
       "  If you're reading this message in Jupyter Notebook or JupyterLab, it may mean\n",
       "  that the widgets JavaScript is still loading. If this message persists, it\n",
       "  likely means that the widgets JavaScript library is either not installed or\n",
       "  not enabled. See the <a href=\"https://ipywidgets.readthedocs.io/en/stable/user_install.html\">Jupyter\n",
       "  Widgets Documentation</a> for setup instructions.\n",
       "</p>\n",
       "<p>\n",
       "  If you're reading this message in another notebook frontend (for example, a static\n",
       "  rendering on GitHub or <a href=\"https://nbviewer.jupyter.org/\">NBViewer</a>),\n",
       "  it may mean that your frontend doesn't currently support widgets.\n",
       "</p>\n"
      ],
      "text/plain": [
       "HBox(children=(IntProgress(value=1, bar_style='info', max=1), HTML(value='')))"
      ]
     },
     "metadata": {},
     "output_type": "display_data"
    },
    {
     "name": "stdout",
     "output_type": "stream",
     "text": [
      "\n"
     ]
    },
    {
     "data": {
      "application/vnd.jupyter.widget-view+json": {
       "model_id": "fd494c575ccf4f44a233212fbf294867",
       "version_major": 2,
       "version_minor": 0
      },
      "text/html": [
       "<p>Failed to display Jupyter Widget of type <code>HBox</code>.</p>\n",
       "<p>\n",
       "  If you're reading this message in Jupyter Notebook or JupyterLab, it may mean\n",
       "  that the widgets JavaScript is still loading. If this message persists, it\n",
       "  likely means that the widgets JavaScript library is either not installed or\n",
       "  not enabled. See the <a href=\"https://ipywidgets.readthedocs.io/en/stable/user_install.html\">Jupyter\n",
       "  Widgets Documentation</a> for setup instructions.\n",
       "</p>\n",
       "<p>\n",
       "  If you're reading this message in another notebook frontend (for example, a static\n",
       "  rendering on GitHub or <a href=\"https://nbviewer.jupyter.org/\">NBViewer</a>),\n",
       "  it may mean that your frontend doesn't currently support widgets.\n",
       "</p>\n"
      ],
      "text/plain": [
       "HBox(children=(IntProgress(value=1, bar_style='info', max=1), HTML(value='')))"
      ]
     },
     "metadata": {},
     "output_type": "display_data"
    },
    {
     "name": "stdout",
     "output_type": "stream",
     "text": [
      "\n"
     ]
    },
    {
     "data": {
      "application/vnd.jupyter.widget-view+json": {
       "model_id": "8d0108e7bd74434384ba8ee90c38a6aa",
       "version_major": 2,
       "version_minor": 0
      },
      "text/html": [
       "<p>Failed to display Jupyter Widget of type <code>HBox</code>.</p>\n",
       "<p>\n",
       "  If you're reading this message in Jupyter Notebook or JupyterLab, it may mean\n",
       "  that the widgets JavaScript is still loading. If this message persists, it\n",
       "  likely means that the widgets JavaScript library is either not installed or\n",
       "  not enabled. See the <a href=\"https://ipywidgets.readthedocs.io/en/stable/user_install.html\">Jupyter\n",
       "  Widgets Documentation</a> for setup instructions.\n",
       "</p>\n",
       "<p>\n",
       "  If you're reading this message in another notebook frontend (for example, a static\n",
       "  rendering on GitHub or <a href=\"https://nbviewer.jupyter.org/\">NBViewer</a>),\n",
       "  it may mean that your frontend doesn't currently support widgets.\n",
       "</p>\n"
      ],
      "text/plain": [
       "HBox(children=(IntProgress(value=1, bar_style='info', max=1), HTML(value='')))"
      ]
     },
     "metadata": {},
     "output_type": "display_data"
    },
    {
     "name": "stdout",
     "output_type": "stream",
     "text": [
      "\n"
     ]
    },
    {
     "data": {
      "application/vnd.jupyter.widget-view+json": {
       "model_id": "97b3b7c947074fe0b122c7b9ffc1624a",
       "version_major": 2,
       "version_minor": 0
      },
      "text/html": [
       "<p>Failed to display Jupyter Widget of type <code>HBox</code>.</p>\n",
       "<p>\n",
       "  If you're reading this message in Jupyter Notebook or JupyterLab, it may mean\n",
       "  that the widgets JavaScript is still loading. If this message persists, it\n",
       "  likely means that the widgets JavaScript library is either not installed or\n",
       "  not enabled. See the <a href=\"https://ipywidgets.readthedocs.io/en/stable/user_install.html\">Jupyter\n",
       "  Widgets Documentation</a> for setup instructions.\n",
       "</p>\n",
       "<p>\n",
       "  If you're reading this message in another notebook frontend (for example, a static\n",
       "  rendering on GitHub or <a href=\"https://nbviewer.jupyter.org/\">NBViewer</a>),\n",
       "  it may mean that your frontend doesn't currently support widgets.\n",
       "</p>\n"
      ],
      "text/plain": [
       "HBox(children=(IntProgress(value=1, bar_style='info', max=1), HTML(value='')))"
      ]
     },
     "metadata": {},
     "output_type": "display_data"
    },
    {
     "name": "stdout",
     "output_type": "stream",
     "text": [
      "\n"
     ]
    },
    {
     "data": {
      "application/vnd.jupyter.widget-view+json": {
       "model_id": "2444ec34c24e438babe4fc7fbf9195e1",
       "version_major": 2,
       "version_minor": 0
      },
      "text/html": [
       "<p>Failed to display Jupyter Widget of type <code>HBox</code>.</p>\n",
       "<p>\n",
       "  If you're reading this message in Jupyter Notebook or JupyterLab, it may mean\n",
       "  that the widgets JavaScript is still loading. If this message persists, it\n",
       "  likely means that the widgets JavaScript library is either not installed or\n",
       "  not enabled. See the <a href=\"https://ipywidgets.readthedocs.io/en/stable/user_install.html\">Jupyter\n",
       "  Widgets Documentation</a> for setup instructions.\n",
       "</p>\n",
       "<p>\n",
       "  If you're reading this message in another notebook frontend (for example, a static\n",
       "  rendering on GitHub or <a href=\"https://nbviewer.jupyter.org/\">NBViewer</a>),\n",
       "  it may mean that your frontend doesn't currently support widgets.\n",
       "</p>\n"
      ],
      "text/plain": [
       "HBox(children=(IntProgress(value=1, bar_style='info', max=1), HTML(value='')))"
      ]
     },
     "metadata": {},
     "output_type": "display_data"
    },
    {
     "name": "stdout",
     "output_type": "stream",
     "text": [
      "\n"
     ]
    },
    {
     "data": {
      "application/vnd.jupyter.widget-view+json": {
       "model_id": "97d0418ed951411f9c32d391587638f7",
       "version_major": 2,
       "version_minor": 0
      },
      "text/html": [
       "<p>Failed to display Jupyter Widget of type <code>HBox</code>.</p>\n",
       "<p>\n",
       "  If you're reading this message in Jupyter Notebook or JupyterLab, it may mean\n",
       "  that the widgets JavaScript is still loading. If this message persists, it\n",
       "  likely means that the widgets JavaScript library is either not installed or\n",
       "  not enabled. See the <a href=\"https://ipywidgets.readthedocs.io/en/stable/user_install.html\">Jupyter\n",
       "  Widgets Documentation</a> for setup instructions.\n",
       "</p>\n",
       "<p>\n",
       "  If you're reading this message in another notebook frontend (for example, a static\n",
       "  rendering on GitHub or <a href=\"https://nbviewer.jupyter.org/\">NBViewer</a>),\n",
       "  it may mean that your frontend doesn't currently support widgets.\n",
       "</p>\n"
      ],
      "text/plain": [
       "HBox(children=(IntProgress(value=1, bar_style='info', max=1), HTML(value='')))"
      ]
     },
     "metadata": {},
     "output_type": "display_data"
    },
    {
     "name": "stdout",
     "output_type": "stream",
     "text": [
      "\n"
     ]
    },
    {
     "data": {
      "application/vnd.jupyter.widget-view+json": {
       "model_id": "072c3e0827fe41cda3cc62c8b63fb6a6",
       "version_major": 2,
       "version_minor": 0
      },
      "text/html": [
       "<p>Failed to display Jupyter Widget of type <code>HBox</code>.</p>\n",
       "<p>\n",
       "  If you're reading this message in Jupyter Notebook or JupyterLab, it may mean\n",
       "  that the widgets JavaScript is still loading. If this message persists, it\n",
       "  likely means that the widgets JavaScript library is either not installed or\n",
       "  not enabled. See the <a href=\"https://ipywidgets.readthedocs.io/en/stable/user_install.html\">Jupyter\n",
       "  Widgets Documentation</a> for setup instructions.\n",
       "</p>\n",
       "<p>\n",
       "  If you're reading this message in another notebook frontend (for example, a static\n",
       "  rendering on GitHub or <a href=\"https://nbviewer.jupyter.org/\">NBViewer</a>),\n",
       "  it may mean that your frontend doesn't currently support widgets.\n",
       "</p>\n"
      ],
      "text/plain": [
       "HBox(children=(IntProgress(value=1, bar_style='info', max=1), HTML(value='')))"
      ]
     },
     "metadata": {},
     "output_type": "display_data"
    },
    {
     "name": "stdout",
     "output_type": "stream",
     "text": [
      "\n"
     ]
    },
    {
     "data": {
      "application/vnd.jupyter.widget-view+json": {
       "model_id": "53750fbef6d04434ba8ecd79954326c5",
       "version_major": 2,
       "version_minor": 0
      },
      "text/html": [
       "<p>Failed to display Jupyter Widget of type <code>HBox</code>.</p>\n",
       "<p>\n",
       "  If you're reading this message in Jupyter Notebook or JupyterLab, it may mean\n",
       "  that the widgets JavaScript is still loading. If this message persists, it\n",
       "  likely means that the widgets JavaScript library is either not installed or\n",
       "  not enabled. See the <a href=\"https://ipywidgets.readthedocs.io/en/stable/user_install.html\">Jupyter\n",
       "  Widgets Documentation</a> for setup instructions.\n",
       "</p>\n",
       "<p>\n",
       "  If you're reading this message in another notebook frontend (for example, a static\n",
       "  rendering on GitHub or <a href=\"https://nbviewer.jupyter.org/\">NBViewer</a>),\n",
       "  it may mean that your frontend doesn't currently support widgets.\n",
       "</p>\n"
      ],
      "text/plain": [
       "HBox(children=(IntProgress(value=1, bar_style='info', max=1), HTML(value='')))"
      ]
     },
     "metadata": {},
     "output_type": "display_data"
    },
    {
     "name": "stdout",
     "output_type": "stream",
     "text": [
      "\n"
     ]
    },
    {
     "data": {
      "application/vnd.jupyter.widget-view+json": {
       "model_id": "562ae5bc8fd74a70add2f402322cb526",
       "version_major": 2,
       "version_minor": 0
      },
      "text/html": [
       "<p>Failed to display Jupyter Widget of type <code>HBox</code>.</p>\n",
       "<p>\n",
       "  If you're reading this message in Jupyter Notebook or JupyterLab, it may mean\n",
       "  that the widgets JavaScript is still loading. If this message persists, it\n",
       "  likely means that the widgets JavaScript library is either not installed or\n",
       "  not enabled. See the <a href=\"https://ipywidgets.readthedocs.io/en/stable/user_install.html\">Jupyter\n",
       "  Widgets Documentation</a> for setup instructions.\n",
       "</p>\n",
       "<p>\n",
       "  If you're reading this message in another notebook frontend (for example, a static\n",
       "  rendering on GitHub or <a href=\"https://nbviewer.jupyter.org/\">NBViewer</a>),\n",
       "  it may mean that your frontend doesn't currently support widgets.\n",
       "</p>\n"
      ],
      "text/plain": [
       "HBox(children=(IntProgress(value=1, bar_style='info', max=1), HTML(value='')))"
      ]
     },
     "metadata": {},
     "output_type": "display_data"
    },
    {
     "name": "stdout",
     "output_type": "stream",
     "text": [
      "\n"
     ]
    },
    {
     "data": {
      "application/vnd.jupyter.widget-view+json": {
       "model_id": "9a05acb3ab084061a7ba798396c2498d",
       "version_major": 2,
       "version_minor": 0
      },
      "text/html": [
       "<p>Failed to display Jupyter Widget of type <code>HBox</code>.</p>\n",
       "<p>\n",
       "  If you're reading this message in Jupyter Notebook or JupyterLab, it may mean\n",
       "  that the widgets JavaScript is still loading. If this message persists, it\n",
       "  likely means that the widgets JavaScript library is either not installed or\n",
       "  not enabled. See the <a href=\"https://ipywidgets.readthedocs.io/en/stable/user_install.html\">Jupyter\n",
       "  Widgets Documentation</a> for setup instructions.\n",
       "</p>\n",
       "<p>\n",
       "  If you're reading this message in another notebook frontend (for example, a static\n",
       "  rendering on GitHub or <a href=\"https://nbviewer.jupyter.org/\">NBViewer</a>),\n",
       "  it may mean that your frontend doesn't currently support widgets.\n",
       "</p>\n"
      ],
      "text/plain": [
       "HBox(children=(IntProgress(value=1, bar_style='info', max=1), HTML(value='')))"
      ]
     },
     "metadata": {},
     "output_type": "display_data"
    },
    {
     "name": "stdout",
     "output_type": "stream",
     "text": [
      "\n"
     ]
    }
   ],
   "source": [
    "urban = read_tweets('../../data/geo-gt1m.json/part-0000*')"
   ]
  },
  {
   "cell_type": "code",
   "execution_count": 103,
   "metadata": {},
   "outputs": [],
   "source": [
    "X = rural + urban"
   ]
  },
  {
   "cell_type": "code",
   "execution_count": 104,
   "metadata": {},
   "outputs": [],
   "source": [
    "y = ([-1] * len(rural)) + ([1] * len(urban))"
   ]
  },
  {
   "cell_type": "code",
   "execution_count": 105,
   "metadata": {},
   "outputs": [
    {
     "data": {
      "text/plain": [
       "8499039"
      ]
     },
     "execution_count": 105,
     "metadata": {},
     "output_type": "execute_result"
    }
   ],
   "source": [
    "len(y)"
   ]
  },
  {
   "cell_type": "code",
   "execution_count": 108,
   "metadata": {},
   "outputs": [],
   "source": [
    "cv = CountVectorizer(max_features=5000)"
   ]
  },
  {
   "cell_type": "code",
   "execution_count": 109,
   "metadata": {},
   "outputs": [],
   "source": [
    "X = cv.fit_transform(X)"
   ]
  },
  {
   "cell_type": "code",
   "execution_count": 110,
   "metadata": {},
   "outputs": [
    {
     "data": {
      "text/plain": [
       "<8499039x5000 sparse matrix of type '<class 'numpy.int64'>'\n",
       "\twith 60338933 stored elements in Compressed Sparse Row format>"
      ]
     },
     "execution_count": 110,
     "metadata": {},
     "output_type": "execute_result"
    }
   ],
   "source": [
    "X"
   ]
  },
  {
   "cell_type": "code",
   "execution_count": 111,
   "metadata": {},
   "outputs": [],
   "source": [
    "X_train, X_test, y_train, y_test = train_test_split(X, y)"
   ]
  },
  {
   "cell_type": "code",
   "execution_count": 112,
   "metadata": {},
   "outputs": [],
   "source": [
    "model = LogisticRegression().fit(X_train, y_train)"
   ]
  },
  {
   "cell_type": "code",
   "execution_count": 113,
   "metadata": {},
   "outputs": [],
   "source": [
    "y_pred = model.predict(X_test)"
   ]
  },
  {
   "cell_type": "code",
   "execution_count": 114,
   "metadata": {},
   "outputs": [
    {
     "data": {
      "text/plain": [
       "0.85360321764462765"
      ]
     },
     "execution_count": 114,
     "metadata": {},
     "output_type": "execute_result"
    }
   ],
   "source": [
    "f1_score(y_test, y_pred)"
   ]
  },
  {
   "cell_type": "code",
   "execution_count": 128,
   "metadata": {},
   "outputs": [
    {
     "data": {
      "text/plain": [
       "0.74710037839567767"
      ]
     },
     "execution_count": 128,
     "metadata": {},
     "output_type": "execute_result"
    }
   ],
   "source": [
    "accuracy_score(y_test, y_pred)"
   ]
  },
  {
   "cell_type": "code",
   "execution_count": 115,
   "metadata": {},
   "outputs": [
    {
     "data": {
      "text/plain": [
       "array([[-0.44186456, -0.00806768,  0.66545517, ...,  0.0022634 ,\n",
       "        -0.0267197 , -0.16827428]])"
      ]
     },
     "execution_count": 115,
     "metadata": {},
     "output_type": "execute_result"
    }
   ],
   "source": [
    "model.coef_"
   ]
  },
  {
   "cell_type": "code",
   "execution_count": 116,
   "metadata": {},
   "outputs": [],
   "source": [
    "names = cv.get_feature_names()"
   ]
  },
  {
   "cell_type": "code",
   "execution_count": 117,
   "metadata": {},
   "outputs": [
    {
     "data": {
      "text/plain": [
       "5000"
      ]
     },
     "execution_count": 117,
     "metadata": {},
     "output_type": "execute_result"
    }
   ],
   "source": [
    "len(names)"
   ]
  },
  {
   "cell_type": "code",
   "execution_count": 118,
   "metadata": {},
   "outputs": [],
   "source": [
    "rural_idxs = model.coef_[0].argsort()"
   ]
  },
  {
   "cell_type": "code",
   "execution_count": 125,
   "metadata": {
    "scrolled": false
   },
   "outputs": [
    {
     "name": "stdout",
     "output_type": "stream",
     "text": [
      "-2.92395005101 honeoye\n",
      "-1.75409972724 gust\n",
      "-1.71168189639 barometer\n",
      "-1.57260493008 varsity\n",
      "-1.52280689246 softball\n",
      "-1.49325144942 jv\n",
      "-1.46019827957 earning\n",
      "-1.41942667461 mt\n",
      "-1.15582969952 county\n",
      "-1.11825320593 volleyball\n",
      "-1.08586255935 edt\n",
      "-1.08231119509 listing\n",
      "-1.05809574967 hum\n",
      "-1.0494358308 nc\n",
      "-0.993028871007 fishing\n",
      "-0.987780744305 seniors\n",
      "-0.966698144091 temp\n",
      "-0.948708919993 tigers\n",
      "-0.933649193292 mrs\n",
      "-0.892452710379 kentucky\n",
      "-0.858793592506 00inches\n",
      "-0.845805078512 iowa\n",
      "-0.831447143423 0mph\n",
      "-0.811833518591 ct\n",
      "-0.810181157637 forecast\n",
      "-0.807960805247 creek\n",
      "-0.802213969697 psa\n",
      "-0.789060108767 coins\n",
      "-0.77291222652 serial\n",
      "-0.752462622716 lions\n",
      "-0.741123947002 farm\n",
      "-0.736960075129 unknown\n",
      "-0.716160286624 visits\n",
      "-0.710025761661 tn\n",
      "-0.706479807732 halftime\n",
      "-0.697658167813 storms\n",
      "-0.687811255708 ford\n",
      "-0.674680581052 gaga\n",
      "-0.669157992492 patch\n",
      "-0.668649017773 racing\n",
      "-0.658019023152 michigan\n",
      "-0.657738614243 regional\n",
      "-0.656572988387 georgia\n",
      "-0.656404404718 rewards\n",
      "-0.650069842053 thankful\n",
      "-0.644540135966 ohio\n",
      "-0.638984489643 shed\n",
      "-0.636246338988 lake\n",
      "-0.636064167142 mph\n",
      "-0.635753746243 region\n",
      "-0.632910724712 pittsburgh\n",
      "-0.620850180422 classroom\n",
      "-0.615686497385 quiz\n",
      "-0.612204012016 alabama\n",
      "-0.60961062092 visited\n",
      "-0.609403985693 snow\n",
      "-0.608674200773 ole\n",
      "-0.604099550542 mountain\n",
      "-0.603353603528 hannah\n",
      "-0.602672601997 elementary\n",
      "-0.60055159213 ch\n",
      "-0.59669789765 carolina\n",
      "-0.594939601989 river\n",
      "-0.594502811105 recap\n",
      "-0.589065804263 refs\n",
      "-0.585925583348 cowboy\n",
      "-0.585631721997 entered\n",
      "-0.579267438509 bff\n",
      "-0.578586467573 specials\n",
      "-0.576530524699 completed\n",
      "-0.576264453264 prom\n",
      "-0.574944162037 congratulations\n",
      "-0.572636540535 leads\n",
      "-0.57044582867 weather\n",
      "-0.565736199731 rocking\n",
      "-0.563967012517 automatically\n",
      "-0.558623088247 thunderstorm\n",
      "-0.556856253443 fl\n",
      "-0.556570532374 jewelry\n",
      "-0.556043307061 vehicle\n",
      "-0.555549690478 baseball\n",
      "-0.555496035224 kansas\n",
      "-0.554169512443 northern\n",
      "-0.55078695022 colorado\n",
      "-0.550665060713 senior\n",
      "-0.550339701812 liked\n",
      "-0.549540081184 prayers\n",
      "-0.549519504859 ga\n",
      "-0.545440732744 pm\n",
      "-0.543686586851 va\n",
      "-0.541359807554 porno\n",
      "-0.533332675618 duke\n",
      "-0.527247771501 اللهم\n",
      "-0.526641773648 tournament\n",
      "-0.52594651417 ny\n",
      "-0.518897442076 pumped\n",
      "-0.518507735382 giveaway\n",
      "-0.51441937932 retweeted\n",
      "-0.51228814032 lightning\n",
      "-0.512261639424 minnesota\n",
      "-0.512191358315 outdoor\n",
      "-0.511353464789 ss\n",
      "-0.506812535805 yard\n",
      "-0.506687754568 corn\n",
      "-0.504727903695 dirt\n",
      "-0.504092170337 buffalo\n",
      "-0.50253229518 virginia\n",
      "-0.502156022927 coupon\n",
      "-0.50166297266 walmart\n",
      "-0.501569718856 tennis\n",
      "-0.500077322389 golf\n",
      "-0.499882332578 domestic\n",
      "-0.498706035986 trail\n",
      "-0.497556123002 pennsylvania\n",
      "-0.483241348305 junior\n",
      "-0.480685412341 ebay\n",
      "-0.477892395788 received\n",
      "-0.475707072297 steelers\n",
      "-0.474934169676 eagle\n",
      "-0.47406249674 athletes\n",
      "-0.471457294669 freshman\n",
      "-0.470218295351 port\n",
      "-0.465380553086 awhile\n",
      "-0.464200386443 championship\n",
      "-0.463607495713 happier\n",
      "-0.460621166331 unit\n",
      "-0.459011449633 md\n",
      "-0.455233233414 equipment\n",
      "-0.453948949198 petition\n",
      "-0.453701218638 coaches\n",
      "-0.451391408845 prizes\n",
      "-0.450860932905 miles\n",
      "-0.449055535 checked\n",
      "-0.448668687206 country\n",
      "-0.446856817349 sunny\n",
      "-0.445774927676 freaking\n",
      "-0.441864560219 00\n",
      "-0.438253302885 coach\n",
      "-0.437708931439 inning\n",
      "-0.43758942834 listed\n",
      "-0.435662966099 falls\n",
      "-0.43563038385 advisory\n",
      "-0.433330097041 6th\n",
      "-0.432816565193 bull\n",
      "-0.432492088849 swamp\n",
      "-0.431269278286 7th\n",
      "-0.427795465925 florida\n",
      "-0.427412412783 crap\n",
      "-0.425176293623 wisconsin\n",
      "-0.419788325255 tool\n",
      "-0.418730520383 ik\n",
      "-0.417527145247 tornado\n",
      "-0.416148333812 library\n",
      "-0.415825826786 grass\n",
      "-0.414880153895 78\n",
      "-0.414826069845 72\n",
      "-0.414305053009 boys\n",
      "-0.414164600072 indiana\n",
      "-0.41147200674 flood\n",
      "-0.410291588908 ab\n",
      "-0.408478068246 nashville\n",
      "-0.407462042609 amen\n",
      "-0.407121255505 road\n",
      "-0.407002453433 download\n",
      "-0.405435303631 beach\n",
      "-0.404714772221 loaded\n",
      "-0.404244638876 lt\n",
      "-0.404038784285 oregon\n",
      "-0.403708413262 students\n",
      "-0.403392058661 camp\n",
      "-0.401630399208 gosh\n",
      "-0.401417765468 dang\n",
      "-0.400728312519 ocean\n",
      "-0.39906993819 irma\n",
      "-0.394220258217 nude\n",
      "-0.393804758808 25th\n",
      "-0.393500201504 tire\n",
      "-0.392632957145 score\n",
      "-0.390839667527 messed\n",
      "-0.390635248553 hockey\n",
      "-0.390572626478 brad\n",
      "-0.390295740807 tied\n",
      "-0.389530744963 76\n",
      "-0.389176088304 motion\n",
      "-0.388541753209 springs\n",
      "-0.388268212815 oomf\n",
      "-0.387397842408 5th\n",
      "-0.386067291804 activities\n",
      "-0.385808407813 utc\n",
      "-0.385224591011 dip\n",
      "-0.384621843458 coin\n",
      "-0.3825643513 morgan\n",
      "-0.381796969015 potter\n",
      "-0.381673668916 wrestling\n",
      "-0.381204205685 scores\n",
      "-0.380967709479 district\n",
      "-0.380406590321 novel\n",
      "-0.378852957301 td\n",
      "-0.376626937628 cheer\n",
      "-0.374962255332 wa\n"
     ]
    }
   ],
   "source": [
    "for idx in rural_idxs[:200]:\n",
    "    print(model.coef_[0][idx], names[idx])"
   ]
  },
  {
   "cell_type": "code",
   "execution_count": 120,
   "metadata": {},
   "outputs": [],
   "source": [
    "urban_idxs = np.flip(model.coef_[0].argsort(), 0)"
   ]
  },
  {
   "cell_type": "code",
   "execution_count": 126,
   "metadata": {
    "scrolled": false
   },
   "outputs": [
    {
     "name": "stdout",
     "output_type": "stream",
     "text": [
      "4.2619756395 gmt\n",
      "3.70744543294 helloo\n",
      "3.57815827875 fornadine\n",
      "2.80640933171 node\n",
      "2.77747956847 adderall\n",
      "1.86321317215 nigerian\n",
      "1.77560003293 az\n",
      "1.77491596859 asl\n",
      "1.75615688029 chicago\n",
      "1.67602691932 angeles\n",
      "1.64713557651 philadelphia\n",
      "1.56568068173 houston\n",
      "1.53403015353 ca\n",
      "1.50323156553 lmfaooooo\n",
      "1.50121767388 lmfaoooo\n",
      "1.45237107975 dallas\n",
      "1.43519594317 astros\n",
      "1.41047493333 wire\n",
      "1.40044975357 spotted\n",
      "1.35879233739 dodgers\n",
      "1.33944279435 startup\n",
      "1.32980584007 lmfaooo\n",
      "1.32565975183 lmfaoo\n",
      "1.29980037498 lmaoooo\n",
      "1.29906486072 brooklyn\n",
      "1.29819023793 il\n",
      "1.25429416094 phoenix\n",
      "1.24913265807 lmaooo\n",
      "1.23353600992 trains\n",
      "1.22454921104 tx\n",
      "1.20678897133 diego\n",
      "1.1983502237 lmaoo\n",
      "1.17770521928 blvd\n",
      "1.17218758487 shorty\n",
      "1.15625504389 nyt\n",
      "1.15215711634 nyc\n",
      "1.12954496984 ucla\n",
      "1.12464771154 incident\n",
      "1.0848002217 mixtape\n",
      "1.08379746473 arizona\n",
      "1.08091189882 pill\n",
      "1.04478482607 articles\n",
      "1.04274956581 lyft\n",
      "1.04059798071 tix\n",
      "1.04013969858 lmaooooo\n",
      "1.02982078827 snorlax\n",
      "1.02202568826 submit\n",
      "1.00060914536 philly\n",
      "0.995515957433 rsvp\n",
      "0.99425485934 screening\n",
      "0.98731792175 engineer\n",
      "0.983964222998 stan\n",
      "0.976288932761 kawhi\n",
      "0.967558780949 cus\n",
      "0.96583657558 bulls\n",
      "0.949287526878 cubs\n",
      "0.946179879314 lmfao\n",
      "0.937589724883 airlines\n",
      "0.93316956869 madrid\n",
      "0.930953190919 lakers\n",
      "0.925516582042 knicks\n",
      "0.921517332241 nicki\n",
      "0.915368735686 trending\n",
      "0.908544851046 gracias\n",
      "0.908475731612 san\n",
      "0.901890517063 nowplaying\n",
      "0.892379772664 nike\n",
      "0.888217666403 adidas\n",
      "0.881146872487 chart\n",
      "0.873188448671 ave\n",
      "0.86419201177 brunch\n",
      "0.860157522526 mfs\n",
      "0.856692008414 katy\n",
      "0.854682443943 avenue\n",
      "0.848652022687 chargers\n",
      "0.846271463554 sd\n",
      "0.842957622965 developer\n",
      "0.837751198287 dj\n",
      "0.83146995971 delays\n",
      "0.831427147691 beyoncé\n",
      "0.825244532412 spurs\n",
      "0.825202432667 kardashian\n",
      "0.824806266012 texans\n",
      "0.817678882551 manhattan\n",
      "0.814958668708 chi\n",
      "0.812969140132 harden\n",
      "0.807248138616 temperature\n",
      "0.799489467045 prod\n",
      "0.798304435445 rihanna\n",
      "0.790000439601 casting\n",
      "0.788829856576 usc\n",
      "0.783096654047 flights\n",
      "0.782144041515 merch\n",
      "0.775508181573 surely\n",
      "0.766959100043 premiere\n",
      "0.764614843659 asks\n",
      "0.763337487568 selena\n",
      "0.758584288303 bts\n",
      "0.752596563508 tl\n",
      "0.752591900466 collision\n",
      "0.751660266301 29m\n",
      "0.751370972673 producer\n",
      "0.747602897167 hollywood\n",
      "0.744938290129 studios\n",
      "0.744860180703 remix\n",
      "0.744128967993 rockets\n",
      "0.733180594648 queens\n",
      "0.731202225937 la\n",
      "0.728387767473 oc\n",
      "0.726302701125 beyonce\n",
      "0.724223261662 kanye\n",
      "0.717169505545 horny\n",
      "0.716938613349 trading\n",
      "0.71634045403 cp\n",
      "0.715063014187 prospect\n",
      "0.714578740842 vibes\n",
      "0.713287989811 antonio\n",
      "0.712940638491 analyst\n",
      "0.711442724061 ig\n",
      "0.710063193635 ay\n",
      "0.709936007679 comedy\n",
      "0.698823666472 dope\n",
      "0.696482648742 entrepreneur\n",
      "0.691169622204 uber\n",
      "0.687663500263 california\n",
      "0.679186682818 vegan\n",
      "0.678587876484 thread\n",
      "0.675813693577 headline\n",
      "0.668895784854 com\n",
      "0.665954716834 artists\n",
      "0.66546625674 flight\n",
      "0.665455171322 0000\n",
      "0.66475809469 iconic\n",
      "0.661953779296 tumblr\n",
      "0.660712155124 drag\n",
      "0.659928275549 cock\n",
      "0.657060766566 lounge\n",
      "0.651672628631 ali\n",
      "0.650580272254 rmvontwit\n",
      "0.648961232819 cleared\n",
      "0.642622145779 thrones\n",
      "0.64201329587 jose\n",
      "0.640950048955 dm\n",
      "0.639470160963 films\n",
      "0.63593471106 india\n",
      "0.633864638083 deadass\n",
      "0.633003233264 kendrick\n",
      "0.632542318018 tales\n",
      "0.632260173232 freestyle\n",
      "0.631083461399 african\n",
      "0.630430229204 lmao\n",
      "0.630262920898 founder\n",
      "0.627426649343 lowkey\n",
      "0.625103862685 remy\n",
      "0.60928232354 drum\n",
      "0.604466678132 film\n",
      "0.602450595999 sf\n",
      "0.601985400467 wild\n",
      "0.600964186348 icymi\n",
      "0.600688394695 produced\n",
      "0.600372990874 restaurants\n",
      "0.596089557724 goddamn\n",
      "0.593583862073 lonzo\n",
      "0.59314916029 streets\n",
      "0.590443523634 melo\n",
      "0.587794104219 smh\n",
      "0.584643627871 sis\n",
      "0.584331542316 itunes\n",
      "0.584126218677 rappers\n",
      "0.583452626323 cali\n",
      "0.582840801109 codes\n",
      "0.581721140322 lgbt\n",
      "0.578520380525 australia\n",
      "0.577843511795 brands\n",
      "0.5763165358 28m\n",
      "0.574592553068 welp\n",
      "0.569174667156 icon\n",
      "0.566086250738 journalism\n",
      "0.562359348267 fashion\n",
      "0.561901593613 vol\n",
      "0.560337982453 niggas\n",
      "0.559726613024 ep\n",
      "0.558512714656 dms\n",
      "0.555376749331 neighborhood\n",
      "0.555225667921 350\n",
      "0.554928070794 santa\n",
      "0.552740366584 trans\n",
      "0.550783417255 thousands\n",
      "0.550512382709 broadway\n",
      "0.548888886862 celebrities\n",
      "0.546935369504 yikes\n",
      "0.546520330722 robot\n",
      "0.546234842717 client\n",
      "0.546045926001 coordinator\n",
      "0.544229938942 issa\n",
      "0.544188740914 studio\n",
      "0.543611851072 poshmark\n",
      "0.538461637193 nba\n",
      "0.537613669697 cc\n",
      "0.536083615059 toronto\n"
     ]
    }
   ],
   "source": [
    "for idx in urban_idxs[:200]:\n",
    "    print(model.coef_[0][idx], names[idx])"
   ]
  },
  {
   "cell_type": "code",
   "execution_count": null,
   "metadata": {},
   "outputs": [],
   "source": []
  }
 ],
 "metadata": {
  "kernelspec": {
   "display_name": "Python 3",
   "language": "python",
   "name": "python3"
  },
  "language_info": {
   "codemirror_mode": {
    "name": "ipython",
    "version": 3
   },
   "file_extension": ".py",
   "mimetype": "text/x-python",
   "name": "python",
   "nbconvert_exporter": "python",
   "pygments_lexer": "ipython3",
   "version": "3.6.2"
  }
 },
 "nbformat": 4,
 "nbformat_minor": 2
}
