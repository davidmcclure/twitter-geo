{
 "cells": [
  {
   "cell_type": "code",
   "execution_count": 1,
   "metadata": {},
   "outputs": [],
   "source": [
    "import ujson\n",
    "import re\n",
    "import pandas as pd\n",
    "\n",
    "from glob import glob\n",
    "from gensim.models.word2vec import Word2Vec\n",
    "from itertools import product\n",
    "from IPython.display import Markdown, display\n",
    "from wordfreq import top_n_list\n",
    "from tqdm import tqdm_notebook\n",
    "from tabulate import tabulate"
   ]
  },
  {
   "cell_type": "code",
   "execution_count": 2,
   "metadata": {},
   "outputs": [],
   "source": [
    "pd.options.display.max_rows = 1000"
   ]
  },
  {
   "cell_type": "code",
   "execution_count": 3,
   "metadata": {},
   "outputs": [],
   "source": [
    "def read_tweets(pattern, fcount=None):\n",
    "    \n",
    "    paths = glob(pattern)\n",
    "    \n",
    "    if fcount:\n",
    "        paths = paths[:fcount]\n",
    "    \n",
    "    tweets = []\n",
    "    for path in paths:\n",
    "        with open(path) as fh:\n",
    "            for line in fh:\n",
    "                \n",
    "                tweet = ujson.loads(line)\n",
    "                text = re.sub('(#|@|http)\\S+', '', tweet['body'])\n",
    "                tokens = re.findall('[a-z0-9]+', text.lower())\n",
    "                tweets.append(tokens)\n",
    "                \n",
    "    return tweets"
   ]
  },
  {
   "cell_type": "code",
   "execution_count": 4,
   "metadata": {},
   "outputs": [],
   "source": [
    "rural = read_tweets('../../data/geo-lt10k.json/*.json', 60)"
   ]
  },
  {
   "cell_type": "code",
   "execution_count": 5,
   "metadata": {},
   "outputs": [],
   "source": [
    "urban = read_tweets('../../data/geo-gt1m.json/*.json', 20)"
   ]
  },
  {
   "cell_type": "code",
   "execution_count": 6,
   "metadata": {},
   "outputs": [
    {
     "data": {
      "text/plain": [
       "11780936"
      ]
     },
     "execution_count": 6,
     "metadata": {},
     "output_type": "execute_result"
    }
   ],
   "source": [
    "len(rural)"
   ]
  },
  {
   "cell_type": "code",
   "execution_count": 7,
   "metadata": {},
   "outputs": [
    {
     "data": {
      "text/plain": [
       "12325982"
      ]
     },
     "execution_count": 7,
     "metadata": {},
     "output_type": "execute_result"
    }
   ],
   "source": [
    "len(urban)"
   ]
  },
  {
   "cell_type": "code",
   "execution_count": 108,
   "metadata": {},
   "outputs": [],
   "source": [
    "rural_model = Word2Vec(rural, min_count=1000, workers=8)"
   ]
  },
  {
   "cell_type": "code",
   "execution_count": 109,
   "metadata": {},
   "outputs": [],
   "source": [
    "urban_model = Word2Vec(urban, min_count=1000, workers=8)"
   ]
  },
  {
   "cell_type": "code",
   "execution_count": 11,
   "metadata": {},
   "outputs": [],
   "source": [
    "rural_model.save('../data/models/rural.bin')"
   ]
  },
  {
   "cell_type": "code",
   "execution_count": 12,
   "metadata": {},
   "outputs": [],
   "source": [
    "urban_model.save('../data/models/urban.bin')"
   ]
  },
  {
   "cell_type": "code",
   "execution_count": 110,
   "metadata": {},
   "outputs": [
    {
     "data": {
      "text/plain": [
       "[('planet', 0.7846516370773315),\n",
       " ('universe', 0.495510071516037),\n",
       " ('purpose', 0.4822278320789337),\n",
       " ('moon', 0.4742686450481415),\n",
       " ('world', 0.4736853539943695),\n",
       " ('alien', 0.47179871797561646),\n",
       " ('species', 0.46059975028038025),\n",
       " ('mars', 0.4551383852958679),\n",
       " ('nature', 0.44583749771118164),\n",
       " ('shining', 0.4440971910953522)]"
      ]
     },
     "execution_count": 110,
     "metadata": {},
     "output_type": "execute_result"
    }
   ],
   "source": [
    "rural_model.most_similar('earth')"
   ]
  },
  {
   "cell_type": "code",
   "execution_count": 111,
   "metadata": {},
   "outputs": [
    {
     "data": {
      "text/plain": [
       "[('planet', 0.7880303859710693),\n",
       " ('darkness', 0.49556586146354675),\n",
       " ('nature', 0.48827022314071655),\n",
       " ('thrive', 0.4876272678375244),\n",
       " ('invisible', 0.48423391580581665),\n",
       " ('heaven', 0.4732300639152527),\n",
       " ('moon', 0.4650537371635437),\n",
       " ('trees', 0.45670124888420105),\n",
       " ('species', 0.45475828647613525),\n",
       " ('christ', 0.451892614364624)]"
      ]
     },
     "execution_count": 111,
     "metadata": {},
     "output_type": "execute_result"
    }
   ],
   "source": [
    "urban_model.most_similar('earth')"
   ]
  },
  {
   "cell_type": "code",
   "execution_count": 112,
   "metadata": {},
   "outputs": [],
   "source": [
    "def score_shift(m1, m2, token, n=10):\n",
    "    \n",
    "    m1_similar = [t for t, _ in m1.most_similar(token, topn=n)]\n",
    "    m2_similar = [t for t, _ in m2.most_similar(token, topn=n)]\n",
    "    \n",
    "    score = 0\n",
    "    for t1, t2 in product(m1_similar, m2_similar):\n",
    "        if t1 in m2 and t2 in m2:\n",
    "            score += m2.similarity(t1, t2)\n",
    "        \n",
    "    return score"
   ]
  },
  {
   "cell_type": "code",
   "execution_count": 121,
   "metadata": {},
   "outputs": [],
   "source": [
    "rural_vocab = set([t for t, v in rural_model.wv.vocab.items() if v.count > 5000])\n",
    "urban_vocab = set([t for t, v in urban_model.wv.vocab.items() if v.count > 5000])"
   ]
  },
  {
   "cell_type": "code",
   "execution_count": 122,
   "metadata": {},
   "outputs": [
    {
     "data": {
      "text/plain": [
       "2049"
      ]
     },
     "execution_count": 122,
     "metadata": {},
     "output_type": "execute_result"
    }
   ],
   "source": [
    "len(rural_vocab)"
   ]
  },
  {
   "cell_type": "code",
   "execution_count": 123,
   "metadata": {},
   "outputs": [
    {
     "data": {
      "text/plain": [
       "2268"
      ]
     },
     "execution_count": 123,
     "metadata": {},
     "output_type": "execute_result"
    }
   ],
   "source": [
    "len(urban_vocab)"
   ]
  },
  {
   "cell_type": "code",
   "execution_count": 124,
   "metadata": {},
   "outputs": [],
   "source": [
    "vocab = set.intersection(rural_vocab, urban_vocab)"
   ]
  },
  {
   "cell_type": "code",
   "execution_count": 125,
   "metadata": {},
   "outputs": [
    {
     "data": {
      "text/plain": [
       "1897"
      ]
     },
     "execution_count": 125,
     "metadata": {},
     "output_type": "execute_result"
    }
   ],
   "source": [
    "len(vocab)"
   ]
  },
  {
   "cell_type": "code",
   "execution_count": 126,
   "metadata": {
    "scrolled": false
   },
   "outputs": [
    {
     "data": {
      "application/vnd.jupyter.widget-view+json": {
       "model_id": "bf4612e39c5148328efc311b0a4a49c0",
       "version_major": 2,
       "version_minor": 0
      },
      "text/html": [
       "<p>Failed to display Jupyter Widget of type <code>HBox</code>.</p>\n",
       "<p>\n",
       "  If you're reading this message in Jupyter Notebook or JupyterLab, it may mean\n",
       "  that the widgets JavaScript is still loading. If this message persists, it\n",
       "  likely means that the widgets JavaScript library is either not installed or\n",
       "  not enabled. See the <a href=\"https://ipywidgets.readthedocs.io/en/stable/user_install.html\">Jupyter\n",
       "  Widgets Documentation</a> for setup instructions.\n",
       "</p>\n",
       "<p>\n",
       "  If you're reading this message in another notebook frontend (for example, a static\n",
       "  rendering on GitHub or <a href=\"https://nbviewer.jupyter.org/\">NBViewer</a>),\n",
       "  it may mean that your frontend doesn't currently support widgets.\n",
       "</p>\n"
      ],
      "text/plain": [
       "HBox(children=(IntProgress(value=0, max=1897), HTML(value='')))"
      ]
     },
     "metadata": {},
     "output_type": "display_data"
    },
    {
     "name": "stdout",
     "output_type": "stream",
     "text": [
      "\n"
     ]
    }
   ],
   "source": [
    "data = []\n",
    "\n",
    "for token in tqdm_notebook(vocab):\n",
    "    try:\n",
    "        score = score_shift(urban_model, rural_model, token)\n",
    "        data.append((token, score))\n",
    "    except: pass"
   ]
  },
  {
   "cell_type": "code",
   "execution_count": 127,
   "metadata": {},
   "outputs": [],
   "source": [
    "df = pd.DataFrame(data, columns=('token', 'score'))"
   ]
  },
  {
   "cell_type": "code",
   "execution_count": 131,
   "metadata": {
    "scrolled": false
   },
   "outputs": [
    {
     "data": {
      "text/html": [
       "<div>\n",
       "<style>\n",
       "    .dataframe thead tr:only-child th {\n",
       "        text-align: right;\n",
       "    }\n",
       "\n",
       "    .dataframe thead th {\n",
       "        text-align: left;\n",
       "    }\n",
       "\n",
       "    .dataframe tbody tr th {\n",
       "        vertical-align: top;\n",
       "    }\n",
       "</style>\n",
       "<table border=\"1\" class=\"dataframe\">\n",
       "  <thead>\n",
       "    <tr style=\"text-align: right;\">\n",
       "      <th></th>\n",
       "      <th>token</th>\n",
       "      <th>score</th>\n",
       "    </tr>\n",
       "  </thead>\n",
       "  <tbody>\n",
       "    <tr>\n",
       "      <th>868</th>\n",
       "      <td>lady</td>\n",
       "      <td>1.000451</td>\n",
       "    </tr>\n",
       "    <tr>\n",
       "      <th>296</th>\n",
       "      <td>lo</td>\n",
       "      <td>1.521036</td>\n",
       "    </tr>\n",
       "    <tr>\n",
       "      <th>1241</th>\n",
       "      <td>fair</td>\n",
       "      <td>2.445868</td>\n",
       "    </tr>\n",
       "    <tr>\n",
       "      <th>784</th>\n",
       "      <td>mostly</td>\n",
       "      <td>4.540545</td>\n",
       "    </tr>\n",
       "    <tr>\n",
       "      <th>1822</th>\n",
       "      <td>race</td>\n",
       "      <td>4.615573</td>\n",
       "    </tr>\n",
       "    <tr>\n",
       "      <th>848</th>\n",
       "      <td>track</td>\n",
       "      <td>5.253162</td>\n",
       "    </tr>\n",
       "    <tr>\n",
       "      <th>993</th>\n",
       "      <td>network</td>\n",
       "      <td>5.509127</td>\n",
       "    </tr>\n",
       "    <tr>\n",
       "      <th>843</th>\n",
       "      <td>gaga</td>\n",
       "      <td>6.023442</td>\n",
       "    </tr>\n",
       "    <tr>\n",
       "      <th>1847</th>\n",
       "      <td>lt</td>\n",
       "      <td>7.210392</td>\n",
       "    </tr>\n",
       "    <tr>\n",
       "      <th>1564</th>\n",
       "      <td>yasss</td>\n",
       "      <td>9.599905</td>\n",
       "    </tr>\n",
       "    <tr>\n",
       "      <th>634</th>\n",
       "      <td>clear</td>\n",
       "      <td>10.435197</td>\n",
       "    </tr>\n",
       "    <tr>\n",
       "      <th>1380</th>\n",
       "      <td>main</td>\n",
       "      <td>11.124158</td>\n",
       "    </tr>\n",
       "    <tr>\n",
       "      <th>1251</th>\n",
       "      <td>reminder</td>\n",
       "      <td>11.410927</td>\n",
       "    </tr>\n",
       "    <tr>\n",
       "      <th>919</th>\n",
       "      <td>traffic</td>\n",
       "      <td>12.230646</td>\n",
       "    </tr>\n",
       "    <tr>\n",
       "      <th>839</th>\n",
       "      <td>ma</td>\n",
       "      <td>13.074635</td>\n",
       "    </tr>\n",
       "    <tr>\n",
       "      <th>1387</th>\n",
       "      <td>single</td>\n",
       "      <td>14.501025</td>\n",
       "    </tr>\n",
       "    <tr>\n",
       "      <th>1736</th>\n",
       "      <td>surprise</td>\n",
       "      <td>14.695857</td>\n",
       "    </tr>\n",
       "    <tr>\n",
       "      <th>567</th>\n",
       "      <td>holy</td>\n",
       "      <td>14.962802</td>\n",
       "    </tr>\n",
       "    <tr>\n",
       "      <th>205</th>\n",
       "      <td>rt</td>\n",
       "      <td>15.190822</td>\n",
       "    </tr>\n",
       "    <tr>\n",
       "      <th>231</th>\n",
       "      <td>mix</td>\n",
       "      <td>16.020746</td>\n",
       "    </tr>\n",
       "    <tr>\n",
       "      <th>546</th>\n",
       "      <td>female</td>\n",
       "      <td>16.028267</td>\n",
       "    </tr>\n",
       "    <tr>\n",
       "      <th>1803</th>\n",
       "      <td>actual</td>\n",
       "      <td>16.457734</td>\n",
       "    </tr>\n",
       "    <tr>\n",
       "      <th>923</th>\n",
       "      <td>mi</td>\n",
       "      <td>16.853916</td>\n",
       "    </tr>\n",
       "    <tr>\n",
       "      <th>1416</th>\n",
       "      <td>least</td>\n",
       "      <td>17.626863</td>\n",
       "    </tr>\n",
       "    <tr>\n",
       "      <th>743</th>\n",
       "      <td>jordan</td>\n",
       "      <td>17.940720</td>\n",
       "    </tr>\n",
       "    <tr>\n",
       "      <th>115</th>\n",
       "      <td>recently</td>\n",
       "      <td>18.739802</td>\n",
       "    </tr>\n",
       "    <tr>\n",
       "      <th>1602</th>\n",
       "      <td>rip</td>\n",
       "      <td>19.054263</td>\n",
       "    </tr>\n",
       "    <tr>\n",
       "      <th>682</th>\n",
       "      <td>train</td>\n",
       "      <td>19.217719</td>\n",
       "    </tr>\n",
       "    <tr>\n",
       "      <th>451</th>\n",
       "      <td>top</td>\n",
       "      <td>19.309927</td>\n",
       "    </tr>\n",
       "    <tr>\n",
       "      <th>46</th>\n",
       "      <td>moves</td>\n",
       "      <td>19.372246</td>\n",
       "    </tr>\n",
       "    <tr>\n",
       "      <th>577</th>\n",
       "      <td>here</td>\n",
       "      <td>19.556490</td>\n",
       "    </tr>\n",
       "    <tr>\n",
       "      <th>1061</th>\n",
       "      <td>effect</td>\n",
       "      <td>19.845168</td>\n",
       "    </tr>\n",
       "    <tr>\n",
       "      <th>125</th>\n",
       "      <td>local</td>\n",
       "      <td>20.102160</td>\n",
       "    </tr>\n",
       "    <tr>\n",
       "      <th>889</th>\n",
       "      <td>age</td>\n",
       "      <td>20.318397</td>\n",
       "    </tr>\n",
       "    <tr>\n",
       "      <th>523</th>\n",
       "      <td>award</td>\n",
       "      <td>20.421315</td>\n",
       "    </tr>\n",
       "    <tr>\n",
       "      <th>447</th>\n",
       "      <td>automatically</td>\n",
       "      <td>20.460862</td>\n",
       "    </tr>\n",
       "    <tr>\n",
       "      <th>888</th>\n",
       "      <td>report</td>\n",
       "      <td>20.477661</td>\n",
       "    </tr>\n",
       "    <tr>\n",
       "      <th>643</th>\n",
       "      <td>hi</td>\n",
       "      <td>20.502519</td>\n",
       "    </tr>\n",
       "    <tr>\n",
       "      <th>1700</th>\n",
       "      <td>wild</td>\n",
       "      <td>20.565455</td>\n",
       "    </tr>\n",
       "    <tr>\n",
       "      <th>1812</th>\n",
       "      <td>especially</td>\n",
       "      <td>20.612064</td>\n",
       "    </tr>\n",
       "    <tr>\n",
       "      <th>1587</th>\n",
       "      <td>due</td>\n",
       "      <td>20.684416</td>\n",
       "    </tr>\n",
       "    <tr>\n",
       "      <th>626</th>\n",
       "      <td>stage</td>\n",
       "      <td>20.765404</td>\n",
       "    </tr>\n",
       "    <tr>\n",
       "      <th>194</th>\n",
       "      <td>alert</td>\n",
       "      <td>20.884539</td>\n",
       "    </tr>\n",
       "    <tr>\n",
       "      <th>1639</th>\n",
       "      <td>boys</td>\n",
       "      <td>20.940708</td>\n",
       "    </tr>\n",
       "    <tr>\n",
       "      <th>1129</th>\n",
       "      <td>station</td>\n",
       "      <td>21.302807</td>\n",
       "    </tr>\n",
       "    <tr>\n",
       "      <th>1</th>\n",
       "      <td>f</td>\n",
       "      <td>21.324619</td>\n",
       "    </tr>\n",
       "    <tr>\n",
       "      <th>159</th>\n",
       "      <td>now</td>\n",
       "      <td>21.466838</td>\n",
       "    </tr>\n",
       "    <tr>\n",
       "      <th>1298</th>\n",
       "      <td>fire</td>\n",
       "      <td>21.488540</td>\n",
       "    </tr>\n",
       "    <tr>\n",
       "      <th>1752</th>\n",
       "      <td>complete</td>\n",
       "      <td>21.518114</td>\n",
       "    </tr>\n",
       "    <tr>\n",
       "      <th>1635</th>\n",
       "      <td>cast</td>\n",
       "      <td>21.622170</td>\n",
       "    </tr>\n",
       "    <tr>\n",
       "      <th>984</th>\n",
       "      <td>currently</td>\n",
       "      <td>21.624273</td>\n",
       "    </tr>\n",
       "    <tr>\n",
       "      <th>1701</th>\n",
       "      <td>human</td>\n",
       "      <td>21.626898</td>\n",
       "    </tr>\n",
       "    <tr>\n",
       "      <th>5</th>\n",
       "      <td>gt</td>\n",
       "      <td>21.841492</td>\n",
       "    </tr>\n",
       "    <tr>\n",
       "      <th>1488</th>\n",
       "      <td>regular</td>\n",
       "      <td>21.872041</td>\n",
       "    </tr>\n",
       "    <tr>\n",
       "      <th>337</th>\n",
       "      <td>low</td>\n",
       "      <td>21.881466</td>\n",
       "    </tr>\n",
       "    <tr>\n",
       "      <th>442</th>\n",
       "      <td>one</td>\n",
       "      <td>22.045617</td>\n",
       "    </tr>\n",
       "    <tr>\n",
       "      <th>932</th>\n",
       "      <td>high</td>\n",
       "      <td>22.112237</td>\n",
       "    </tr>\n",
       "    <tr>\n",
       "      <th>1795</th>\n",
       "      <td>without</td>\n",
       "      <td>22.211378</td>\n",
       "    </tr>\n",
       "    <tr>\n",
       "      <th>1723</th>\n",
       "      <td>interested</td>\n",
       "      <td>22.332291</td>\n",
       "    </tr>\n",
       "    <tr>\n",
       "      <th>1878</th>\n",
       "      <td>at</td>\n",
       "      <td>22.465866</td>\n",
       "    </tr>\n",
       "    <tr>\n",
       "      <th>10</th>\n",
       "      <td>search</td>\n",
       "      <td>22.492948</td>\n",
       "    </tr>\n",
       "    <tr>\n",
       "      <th>1369</th>\n",
       "      <td>rich</td>\n",
       "      <td>22.518883</td>\n",
       "    </tr>\n",
       "    <tr>\n",
       "      <th>273</th>\n",
       "      <td>note</td>\n",
       "      <td>22.596507</td>\n",
       "    </tr>\n",
       "    <tr>\n",
       "      <th>570</th>\n",
       "      <td>than</td>\n",
       "      <td>22.795786</td>\n",
       "    </tr>\n",
       "    <tr>\n",
       "      <th>750</th>\n",
       "      <td>pre</td>\n",
       "      <td>22.796583</td>\n",
       "    </tr>\n",
       "    <tr>\n",
       "      <th>1678</th>\n",
       "      <td>by</td>\n",
       "      <td>22.838381</td>\n",
       "    </tr>\n",
       "    <tr>\n",
       "      <th>1646</th>\n",
       "      <td>gay</td>\n",
       "      <td>22.918772</td>\n",
       "    </tr>\n",
       "    <tr>\n",
       "      <th>711</th>\n",
       "      <td>view</td>\n",
       "      <td>23.009928</td>\n",
       "    </tr>\n",
       "    <tr>\n",
       "      <th>865</th>\n",
       "      <td>speed</td>\n",
       "      <td>23.025073</td>\n",
       "    </tr>\n",
       "    <tr>\n",
       "      <th>1893</th>\n",
       "      <td>forward</td>\n",
       "      <td>23.071592</td>\n",
       "    </tr>\n",
       "    <tr>\n",
       "      <th>793</th>\n",
       "      <td>co</td>\n",
       "      <td>23.697496</td>\n",
       "    </tr>\n",
       "    <tr>\n",
       "      <th>72</th>\n",
       "      <td>recommend</td>\n",
       "      <td>23.758327</td>\n",
       "    </tr>\n",
       "    <tr>\n",
       "      <th>114</th>\n",
       "      <td>based</td>\n",
       "      <td>23.809894</td>\n",
       "    </tr>\n",
       "    <tr>\n",
       "      <th>696</th>\n",
       "      <td>forever</td>\n",
       "      <td>23.834035</td>\n",
       "    </tr>\n",
       "    <tr>\n",
       "      <th>166</th>\n",
       "      <td>character</td>\n",
       "      <td>23.941101</td>\n",
       "    </tr>\n",
       "    <tr>\n",
       "      <th>26</th>\n",
       "      <td>artist</td>\n",
       "      <td>24.022744</td>\n",
       "    </tr>\n",
       "    <tr>\n",
       "      <th>552</th>\n",
       "      <td>senior</td>\n",
       "      <td>24.251138</td>\n",
       "    </tr>\n",
       "    <tr>\n",
       "      <th>290</th>\n",
       "      <td>luck</td>\n",
       "      <td>24.609763</td>\n",
       "    </tr>\n",
       "    <tr>\n",
       "      <th>1382</th>\n",
       "      <td>model</td>\n",
       "      <td>24.618962</td>\n",
       "    </tr>\n",
       "    <tr>\n",
       "      <th>558</th>\n",
       "      <td>full</td>\n",
       "      <td>24.630266</td>\n",
       "    </tr>\n",
       "    <tr>\n",
       "      <th>1229</th>\n",
       "      <td>bowl</td>\n",
       "      <td>24.668274</td>\n",
       "    </tr>\n",
       "    <tr>\n",
       "      <th>1783</th>\n",
       "      <td>wait</td>\n",
       "      <td>24.840548</td>\n",
       "    </tr>\n",
       "    <tr>\n",
       "      <th>1042</th>\n",
       "      <td>while</td>\n",
       "      <td>24.849037</td>\n",
       "    </tr>\n",
       "    <tr>\n",
       "      <th>651</th>\n",
       "      <td>ft</td>\n",
       "      <td>24.931124</td>\n",
       "    </tr>\n",
       "    <tr>\n",
       "      <th>765</th>\n",
       "      <td>have</td>\n",
       "      <td>24.953026</td>\n",
       "    </tr>\n",
       "    <tr>\n",
       "      <th>1032</th>\n",
       "      <td>born</td>\n",
       "      <td>24.959821</td>\n",
       "    </tr>\n",
       "    <tr>\n",
       "      <th>1834</th>\n",
       "      <td>beginning</td>\n",
       "      <td>24.979694</td>\n",
       "    </tr>\n",
       "    <tr>\n",
       "      <th>190</th>\n",
       "      <td>level</td>\n",
       "      <td>24.996899</td>\n",
       "    </tr>\n",
       "    <tr>\n",
       "      <th>951</th>\n",
       "      <td>yours</td>\n",
       "      <td>25.147809</td>\n",
       "    </tr>\n",
       "    <tr>\n",
       "      <th>295</th>\n",
       "      <td>yesterday</td>\n",
       "      <td>25.185219</td>\n",
       "    </tr>\n",
       "    <tr>\n",
       "      <th>425</th>\n",
       "      <td>for</td>\n",
       "      <td>25.230335</td>\n",
       "    </tr>\n",
       "    <tr>\n",
       "      <th>624</th>\n",
       "      <td>etc</td>\n",
       "      <td>25.468716</td>\n",
       "    </tr>\n",
       "    <tr>\n",
       "      <th>264</th>\n",
       "      <td>base</td>\n",
       "      <td>25.519258</td>\n",
       "    </tr>\n",
       "    <tr>\n",
       "      <th>1760</th>\n",
       "      <td>results</td>\n",
       "      <td>25.610632</td>\n",
       "    </tr>\n",
       "    <tr>\n",
       "      <th>1478</th>\n",
       "      <td>connect</td>\n",
       "      <td>25.676107</td>\n",
       "    </tr>\n",
       "    <tr>\n",
       "      <th>490</th>\n",
       "      <td>its</td>\n",
       "      <td>25.683328</td>\n",
       "    </tr>\n",
       "    <tr>\n",
       "      <th>1065</th>\n",
       "      <td>common</td>\n",
       "      <td>25.700742</td>\n",
       "    </tr>\n",
       "    <tr>\n",
       "      <th>1424</th>\n",
       "      <td>temperature</td>\n",
       "      <td>25.702952</td>\n",
       "    </tr>\n",
       "    <tr>\n",
       "      <th>120</th>\n",
       "      <td>record</td>\n",
       "      <td>25.705348</td>\n",
       "    </tr>\n",
       "    <tr>\n",
       "      <th>1351</th>\n",
       "      <td>apply</td>\n",
       "      <td>25.911887</td>\n",
       "    </tr>\n",
       "    <tr>\n",
       "      <th>270</th>\n",
       "      <td>number</td>\n",
       "      <td>26.042755</td>\n",
       "    </tr>\n",
       "    <tr>\n",
       "      <th>781</th>\n",
       "      <td>streaming</td>\n",
       "      <td>26.202812</td>\n",
       "    </tr>\n",
       "    <tr>\n",
       "      <th>670</th>\n",
       "      <td>la</td>\n",
       "      <td>26.300285</td>\n",
       "    </tr>\n",
       "    <tr>\n",
       "      <th>569</th>\n",
       "      <td>clean</td>\n",
       "      <td>26.445020</td>\n",
       "    </tr>\n",
       "    <tr>\n",
       "      <th>1824</th>\n",
       "      <td>changing</td>\n",
       "      <td>26.501760</td>\n",
       "    </tr>\n",
       "    <tr>\n",
       "      <th>1586</th>\n",
       "      <td>below</td>\n",
       "      <td>26.548320</td>\n",
       "    </tr>\n",
       "    <tr>\n",
       "      <th>1128</th>\n",
       "      <td>san</td>\n",
       "      <td>26.606732</td>\n",
       "    </tr>\n",
       "    <tr>\n",
       "      <th>912</th>\n",
       "      <td>pls</td>\n",
       "      <td>26.634723</td>\n",
       "    </tr>\n",
       "    <tr>\n",
       "      <th>1081</th>\n",
       "      <td>job</td>\n",
       "      <td>26.722363</td>\n",
       "    </tr>\n",
       "    <tr>\n",
       "      <th>976</th>\n",
       "      <td>fit</td>\n",
       "      <td>26.777454</td>\n",
       "    </tr>\n",
       "    <tr>\n",
       "      <th>401</th>\n",
       "      <td>planning</td>\n",
       "      <td>26.890532</td>\n",
       "    </tr>\n",
       "    <tr>\n",
       "      <th>1627</th>\n",
       "      <td>travel</td>\n",
       "      <td>26.923001</td>\n",
       "    </tr>\n",
       "    <tr>\n",
       "      <th>1279</th>\n",
       "      <td>listen</td>\n",
       "      <td>26.954065</td>\n",
       "    </tr>\n",
       "    <tr>\n",
       "      <th>1585</th>\n",
       "      <td>study</td>\n",
       "      <td>27.035373</td>\n",
       "    </tr>\n",
       "    <tr>\n",
       "      <th>1706</th>\n",
       "      <td>checked</td>\n",
       "      <td>27.075403</td>\n",
       "    </tr>\n",
       "    <tr>\n",
       "      <th>331</th>\n",
       "      <td>challenge</td>\n",
       "      <td>27.101720</td>\n",
       "    </tr>\n",
       "    <tr>\n",
       "      <th>1784</th>\n",
       "      <td>breaking</td>\n",
       "      <td>27.230516</td>\n",
       "    </tr>\n",
       "    <tr>\n",
       "      <th>299</th>\n",
       "      <td>signs</td>\n",
       "      <td>27.367583</td>\n",
       "    </tr>\n",
       "    <tr>\n",
       "      <th>1551</th>\n",
       "      <td>of</td>\n",
       "      <td>27.424693</td>\n",
       "    </tr>\n",
       "    <tr>\n",
       "      <th>1811</th>\n",
       "      <td>playing</td>\n",
       "      <td>27.460434</td>\n",
       "    </tr>\n",
       "    <tr>\n",
       "      <th>916</th>\n",
       "      <td>mac</td>\n",
       "      <td>27.579573</td>\n",
       "    </tr>\n",
       "    <tr>\n",
       "      <th>1493</th>\n",
       "      <td>rd</td>\n",
       "      <td>27.601843</td>\n",
       "    </tr>\n",
       "    <tr>\n",
       "      <th>1319</th>\n",
       "      <td>cancer</td>\n",
       "      <td>27.639192</td>\n",
       "    </tr>\n",
       "    <tr>\n",
       "      <th>1558</th>\n",
       "      <td>liked</td>\n",
       "      <td>27.667995</td>\n",
       "    </tr>\n",
       "    <tr>\n",
       "      <th>1793</th>\n",
       "      <td>focus</td>\n",
       "      <td>27.783139</td>\n",
       "    </tr>\n",
       "    <tr>\n",
       "      <th>758</th>\n",
       "      <td>soon</td>\n",
       "      <td>27.806056</td>\n",
       "    </tr>\n",
       "    <tr>\n",
       "      <th>689</th>\n",
       "      <td>yay</td>\n",
       "      <td>27.818839</td>\n",
       "    </tr>\n",
       "    <tr>\n",
       "      <th>557</th>\n",
       "      <td>date</td>\n",
       "      <td>27.848777</td>\n",
       "    </tr>\n",
       "    <tr>\n",
       "      <th>1581</th>\n",
       "      <td>crew</td>\n",
       "      <td>27.860629</td>\n",
       "    </tr>\n",
       "    <tr>\n",
       "      <th>1133</th>\n",
       "      <td>again</td>\n",
       "      <td>27.875694</td>\n",
       "    </tr>\n",
       "    <tr>\n",
       "      <th>323</th>\n",
       "      <td>market</td>\n",
       "      <td>27.944717</td>\n",
       "    </tr>\n",
       "    <tr>\n",
       "      <th>385</th>\n",
       "      <td>recent</td>\n",
       "      <td>28.045741</td>\n",
       "    </tr>\n",
       "    <tr>\n",
       "      <th>1417</th>\n",
       "      <td>officially</td>\n",
       "      <td>28.095846</td>\n",
       "    </tr>\n",
       "    <tr>\n",
       "      <th>1183</th>\n",
       "      <td>trouble</td>\n",
       "      <td>28.112935</td>\n",
       "    </tr>\n",
       "    <tr>\n",
       "      <th>1503</th>\n",
       "      <td>deal</td>\n",
       "      <td>28.154215</td>\n",
       "    </tr>\n",
       "    <tr>\n",
       "      <th>1660</th>\n",
       "      <td>dead</td>\n",
       "      <td>28.160900</td>\n",
       "    </tr>\n",
       "    <tr>\n",
       "      <th>1056</th>\n",
       "      <td>example</td>\n",
       "      <td>28.242428</td>\n",
       "    </tr>\n",
       "    <tr>\n",
       "      <th>1436</th>\n",
       "      <td>chance</td>\n",
       "      <td>28.280761</td>\n",
       "    </tr>\n",
       "    <tr>\n",
       "      <th>726</th>\n",
       "      <td>asap</td>\n",
       "      <td>28.288197</td>\n",
       "    </tr>\n",
       "    <tr>\n",
       "      <th>994</th>\n",
       "      <td>a</td>\n",
       "      <td>28.413055</td>\n",
       "    </tr>\n",
       "    <tr>\n",
       "      <th>167</th>\n",
       "      <td>air</td>\n",
       "      <td>28.453919</td>\n",
       "    </tr>\n",
       "    <tr>\n",
       "      <th>863</th>\n",
       "      <td>piece</td>\n",
       "      <td>28.505659</td>\n",
       "    </tr>\n",
       "    <tr>\n",
       "      <th>200</th>\n",
       "      <td>heavy</td>\n",
       "      <td>28.557900</td>\n",
       "    </tr>\n",
       "    <tr>\n",
       "      <th>1415</th>\n",
       "      <td>review</td>\n",
       "      <td>28.604533</td>\n",
       "    </tr>\n",
       "    <tr>\n",
       "      <th>601</th>\n",
       "      <td>goodbye</td>\n",
       "      <td>28.613958</td>\n",
       "    </tr>\n",
       "    <tr>\n",
       "      <th>1721</th>\n",
       "      <td>jersey</td>\n",
       "      <td>28.614537</td>\n",
       "    </tr>\n",
       "    <tr>\n",
       "      <th>1714</th>\n",
       "      <td>tour</td>\n",
       "      <td>28.640984</td>\n",
       "    </tr>\n",
       "    <tr>\n",
       "      <th>1623</th>\n",
       "      <td>each</td>\n",
       "      <td>28.804725</td>\n",
       "    </tr>\n",
       "    <tr>\n",
       "      <th>869</th>\n",
       "      <td>hell</td>\n",
       "      <td>28.844250</td>\n",
       "    </tr>\n",
       "    <tr>\n",
       "      <th>134</th>\n",
       "      <td>wedding</td>\n",
       "      <td>29.020796</td>\n",
       "    </tr>\n",
       "    <tr>\n",
       "      <th>649</th>\n",
       "      <td>rest</td>\n",
       "      <td>29.030945</td>\n",
       "    </tr>\n",
       "    <tr>\n",
       "      <th>1788</th>\n",
       "      <td>please</td>\n",
       "      <td>29.127566</td>\n",
       "    </tr>\n",
       "    <tr>\n",
       "      <th>1157</th>\n",
       "      <td>worth</td>\n",
       "      <td>29.189547</td>\n",
       "    </tr>\n",
       "    <tr>\n",
       "      <th>1483</th>\n",
       "      <td>an</td>\n",
       "      <td>29.193457</td>\n",
       "    </tr>\n",
       "    <tr>\n",
       "      <th>1772</th>\n",
       "      <td>has</td>\n",
       "      <td>29.219679</td>\n",
       "    </tr>\n",
       "    <tr>\n",
       "      <th>234</th>\n",
       "      <td>magic</td>\n",
       "      <td>29.317613</td>\n",
       "    </tr>\n",
       "    <tr>\n",
       "      <th>605</th>\n",
       "      <td>famous</td>\n",
       "      <td>29.351280</td>\n",
       "    </tr>\n",
       "    <tr>\n",
       "      <th>493</th>\n",
       "      <td>right</td>\n",
       "      <td>29.372989</td>\n",
       "    </tr>\n",
       "    <tr>\n",
       "      <th>1495</th>\n",
       "      <td>during</td>\n",
       "      <td>29.489724</td>\n",
       "    </tr>\n",
       "    <tr>\n",
       "      <th>469</th>\n",
       "      <td>finally</td>\n",
       "      <td>29.497967</td>\n",
       "    </tr>\n",
       "    <tr>\n",
       "      <th>1460</th>\n",
       "      <td>quite</td>\n",
       "      <td>29.538163</td>\n",
       "    </tr>\n",
       "    <tr>\n",
       "      <th>1868</th>\n",
       "      <td>disney</td>\n",
       "      <td>29.603659</td>\n",
       "    </tr>\n",
       "    <tr>\n",
       "      <th>91</th>\n",
       "      <td>the</td>\n",
       "      <td>29.609812</td>\n",
       "    </tr>\n",
       "    <tr>\n",
       "      <th>1881</th>\n",
       "      <td>popular</td>\n",
       "      <td>29.658074</td>\n",
       "    </tr>\n",
       "    <tr>\n",
       "      <th>1444</th>\n",
       "      <td>calls</td>\n",
       "      <td>29.681650</td>\n",
       "    </tr>\n",
       "    <tr>\n",
       "      <th>719</th>\n",
       "      <td>mine</td>\n",
       "      <td>29.693454</td>\n",
       "    </tr>\n",
       "    <tr>\n",
       "      <th>762</th>\n",
       "      <td>heat</td>\n",
       "      <td>29.750802</td>\n",
       "    </tr>\n",
       "    <tr>\n",
       "      <th>1466</th>\n",
       "      <td>extra</td>\n",
       "      <td>29.813917</td>\n",
       "    </tr>\n",
       "    <tr>\n",
       "      <th>319</th>\n",
       "      <td>earth</td>\n",
       "      <td>29.882647</td>\n",
       "    </tr>\n",
       "    <tr>\n",
       "      <th>1877</th>\n",
       "      <td>earlier</td>\n",
       "      <td>29.889243</td>\n",
       "    </tr>\n",
       "    <tr>\n",
       "      <th>1482</th>\n",
       "      <td>with</td>\n",
       "      <td>29.897978</td>\n",
       "    </tr>\n",
       "    <tr>\n",
       "      <th>540</th>\n",
       "      <td>loud</td>\n",
       "      <td>29.911806</td>\n",
       "    </tr>\n",
       "    <tr>\n",
       "      <th>817</th>\n",
       "      <td>middle</td>\n",
       "      <td>29.968882</td>\n",
       "    </tr>\n",
       "    <tr>\n",
       "      <th>1237</th>\n",
       "      <td>happening</td>\n",
       "      <td>29.985628</td>\n",
       "    </tr>\n",
       "    <tr>\n",
       "      <th>1554</th>\n",
       "      <td>hello</td>\n",
       "      <td>30.007408</td>\n",
       "    </tr>\n",
       "    <tr>\n",
       "      <th>1616</th>\n",
       "      <td>judge</td>\n",
       "      <td>30.012869</td>\n",
       "    </tr>\n",
       "    <tr>\n",
       "      <th>1401</th>\n",
       "      <td>followers</td>\n",
       "      <td>30.063797</td>\n",
       "    </tr>\n",
       "    <tr>\n",
       "      <th>1443</th>\n",
       "      <td>stats</td>\n",
       "      <td>30.107206</td>\n",
       "    </tr>\n",
       "    <tr>\n",
       "      <th>1019</th>\n",
       "      <td>left</td>\n",
       "      <td>30.162307</td>\n",
       "    </tr>\n",
       "    <tr>\n",
       "      <th>184</th>\n",
       "      <td>books</td>\n",
       "      <td>30.177880</td>\n",
       "    </tr>\n",
       "    <tr>\n",
       "      <th>659</th>\n",
       "      <td>party</td>\n",
       "      <td>30.216286</td>\n",
       "    </tr>\n",
       "    <tr>\n",
       "      <th>213</th>\n",
       "      <td>listening</td>\n",
       "      <td>30.290874</td>\n",
       "    </tr>\n",
       "    <tr>\n",
       "      <th>788</th>\n",
       "      <td>bye</td>\n",
       "      <td>30.301936</td>\n",
       "    </tr>\n",
       "    <tr>\n",
       "      <th>266</th>\n",
       "      <td>tip</td>\n",
       "      <td>30.335427</td>\n",
       "    </tr>\n",
       "    <tr>\n",
       "      <th>93</th>\n",
       "      <td>having</td>\n",
       "      <td>30.390247</td>\n",
       "    </tr>\n",
       "    <tr>\n",
       "      <th>874</th>\n",
       "      <td>against</td>\n",
       "      <td>30.457887</td>\n",
       "    </tr>\n",
       "    <tr>\n",
       "      <th>886</th>\n",
       "      <td>gun</td>\n",
       "      <td>30.466739</td>\n",
       "    </tr>\n",
       "    <tr>\n",
       "      <th>808</th>\n",
       "      <td>personal</td>\n",
       "      <td>30.510053</td>\n",
       "    </tr>\n",
       "    <tr>\n",
       "      <th>1246</th>\n",
       "      <td>mo</td>\n",
       "      <td>30.553770</td>\n",
       "    </tr>\n",
       "    <tr>\n",
       "      <th>417</th>\n",
       "      <td>there</td>\n",
       "      <td>30.569626</td>\n",
       "    </tr>\n",
       "    <tr>\n",
       "      <th>284</th>\n",
       "      <td>tune</td>\n",
       "      <td>30.606296</td>\n",
       "    </tr>\n",
       "    <tr>\n",
       "      <th>1825</th>\n",
       "      <td>release</td>\n",
       "      <td>30.613812</td>\n",
       "    </tr>\n",
       "    <tr>\n",
       "      <th>532</th>\n",
       "      <td>earned</td>\n",
       "      <td>30.636524</td>\n",
       "    </tr>\n",
       "    <tr>\n",
       "      <th>840</th>\n",
       "      <td>aint</td>\n",
       "      <td>30.700567</td>\n",
       "    </tr>\n",
       "    <tr>\n",
       "      <th>1195</th>\n",
       "      <td>radio</td>\n",
       "      <td>30.731728</td>\n",
       "    </tr>\n",
       "    <tr>\n",
       "      <th>1109</th>\n",
       "      <td>reality</td>\n",
       "      <td>30.733053</td>\n",
       "    </tr>\n",
       "    <tr>\n",
       "      <th>1015</th>\n",
       "      <td>humidity</td>\n",
       "      <td>30.784089</td>\n",
       "    </tr>\n",
       "    <tr>\n",
       "      <th>1618</th>\n",
       "      <td>shooting</td>\n",
       "      <td>30.929834</td>\n",
       "    </tr>\n",
       "    <tr>\n",
       "      <th>1447</th>\n",
       "      <td>english</td>\n",
       "      <td>30.991899</td>\n",
       "    </tr>\n",
       "    <tr>\n",
       "      <th>1182</th>\n",
       "      <td>zero</td>\n",
       "      <td>31.016558</td>\n",
       "    </tr>\n",
       "    <tr>\n",
       "      <th>1236</th>\n",
       "      <td>young</td>\n",
       "      <td>31.047903</td>\n",
       "    </tr>\n",
       "    <tr>\n",
       "      <th>961</th>\n",
       "      <td>amp</td>\n",
       "      <td>31.100122</td>\n",
       "    </tr>\n",
       "    <tr>\n",
       "      <th>478</th>\n",
       "      <td>as</td>\n",
       "      <td>31.117955</td>\n",
       "    </tr>\n",
       "    <tr>\n",
       "      <th>156</th>\n",
       "      <td>wind</td>\n",
       "      <td>31.118614</td>\n",
       "    </tr>\n",
       "    <tr>\n",
       "      <th>1601</th>\n",
       "      <td>social</td>\n",
       "      <td>31.227267</td>\n",
       "    </tr>\n",
       "    <tr>\n",
       "      <th>381</th>\n",
       "      <td>point</td>\n",
       "      <td>31.249108</td>\n",
       "    </tr>\n",
       "    <tr>\n",
       "      <th>1548</th>\n",
       "      <td>classic</td>\n",
       "      <td>31.295205</td>\n",
       "    </tr>\n",
       "    <tr>\n",
       "      <th>1633</th>\n",
       "      <td>finding</td>\n",
       "      <td>31.298755</td>\n",
       "    </tr>\n",
       "    <tr>\n",
       "      <th>1529</th>\n",
       "      <td>straight</td>\n",
       "      <td>31.341609</td>\n",
       "    </tr>\n",
       "    <tr>\n",
       "      <th>102</th>\n",
       "      <td>grade</td>\n",
       "      <td>31.354575</td>\n",
       "    </tr>\n",
       "    <tr>\n",
       "      <th>1785</th>\n",
       "      <td>big</td>\n",
       "      <td>31.408375</td>\n",
       "    </tr>\n",
       "    <tr>\n",
       "      <th>1457</th>\n",
       "      <td>safe</td>\n",
       "      <td>31.413195</td>\n",
       "    </tr>\n",
       "    <tr>\n",
       "      <th>1687</th>\n",
       "      <td>cover</td>\n",
       "      <td>31.419406</td>\n",
       "    </tr>\n",
       "    <tr>\n",
       "      <th>347</th>\n",
       "      <td>form</td>\n",
       "      <td>31.438578</td>\n",
       "    </tr>\n",
       "    <tr>\n",
       "      <th>804</th>\n",
       "      <td>our</td>\n",
       "      <td>31.546842</td>\n",
       "    </tr>\n",
       "    <tr>\n",
       "      <th>250</th>\n",
       "      <td>official</td>\n",
       "      <td>31.562918</td>\n",
       "    </tr>\n",
       "    <tr>\n",
       "      <th>946</th>\n",
       "      <td>action</td>\n",
       "      <td>31.564284</td>\n",
       "    </tr>\n",
       "    <tr>\n",
       "      <th>1833</th>\n",
       "      <td>usually</td>\n",
       "      <td>31.571342</td>\n",
       "    </tr>\n",
       "    <tr>\n",
       "      <th>818</th>\n",
       "      <td>black</td>\n",
       "      <td>31.597603</td>\n",
       "    </tr>\n",
       "    <tr>\n",
       "      <th>702</th>\n",
       "      <td>or</td>\n",
       "      <td>31.625664</td>\n",
       "    </tr>\n",
       "    <tr>\n",
       "      <th>48</th>\n",
       "      <td>sir</td>\n",
       "      <td>31.668354</td>\n",
       "    </tr>\n",
       "    <tr>\n",
       "      <th>1191</th>\n",
       "      <td>original</td>\n",
       "      <td>31.687376</td>\n",
       "    </tr>\n",
       "    <tr>\n",
       "      <th>383</th>\n",
       "      <td>shout</td>\n",
       "      <td>31.720501</td>\n",
       "    </tr>\n",
       "    <tr>\n",
       "      <th>1420</th>\n",
       "      <td>between</td>\n",
       "      <td>31.730461</td>\n",
       "    </tr>\n",
       "    <tr>\n",
       "      <th>1823</th>\n",
       "      <td>hurts</td>\n",
       "      <td>31.804533</td>\n",
       "    </tr>\n",
       "    <tr>\n",
       "      <th>654</th>\n",
       "      <td>music</td>\n",
       "      <td>31.821078</td>\n",
       "    </tr>\n",
       "    <tr>\n",
       "      <th>1111</th>\n",
       "      <td>position</td>\n",
       "      <td>31.841651</td>\n",
       "    </tr>\n",
       "    <tr>\n",
       "      <th>306</th>\n",
       "      <td>bank</td>\n",
       "      <td>31.857838</td>\n",
       "    </tr>\n",
       "    <tr>\n",
       "      <th>836</th>\n",
       "      <td>living</td>\n",
       "      <td>31.892946</td>\n",
       "    </tr>\n",
       "    <tr>\n",
       "      <th>345</th>\n",
       "      <td>opening</td>\n",
       "      <td>31.911860</td>\n",
       "    </tr>\n",
       "    <tr>\n",
       "      <th>1738</th>\n",
       "      <td>performance</td>\n",
       "      <td>31.964715</td>\n",
       "    </tr>\n",
       "    <tr>\n",
       "      <th>599</th>\n",
       "      <td>tattoo</td>\n",
       "      <td>31.969837</td>\n",
       "    </tr>\n",
       "    <tr>\n",
       "      <th>1430</th>\n",
       "      <td>im</td>\n",
       "      <td>31.994758</td>\n",
       "    </tr>\n",
       "    <tr>\n",
       "      <th>1592</th>\n",
       "      <td>entered</td>\n",
       "      <td>32.025301</td>\n",
       "    </tr>\n",
       "    <tr>\n",
       "      <th>1132</th>\n",
       "      <td>reasons</td>\n",
       "      <td>32.065638</td>\n",
       "    </tr>\n",
       "    <tr>\n",
       "      <th>433</th>\n",
       "      <td>vs</td>\n",
       "      <td>32.068062</td>\n",
       "    </tr>\n",
       "    <tr>\n",
       "      <th>1347</th>\n",
       "      <td>songs</td>\n",
       "      <td>32.084896</td>\n",
       "    </tr>\n",
       "    <tr>\n",
       "      <th>388</th>\n",
       "      <td>marketing</td>\n",
       "      <td>32.087229</td>\n",
       "    </tr>\n",
       "    <tr>\n",
       "      <th>1243</th>\n",
       "      <td>concert</td>\n",
       "      <td>32.090844</td>\n",
       "    </tr>\n",
       "    <tr>\n",
       "      <th>534</th>\n",
       "      <td>broken</td>\n",
       "      <td>32.151808</td>\n",
       "    </tr>\n",
       "    <tr>\n",
       "      <th>1390</th>\n",
       "      <td>shows</td>\n",
       "      <td>32.155414</td>\n",
       "    </tr>\n",
       "    <tr>\n",
       "      <th>1702</th>\n",
       "      <td>playlist</td>\n",
       "      <td>32.189855</td>\n",
       "    </tr>\n",
       "    <tr>\n",
       "      <th>339</th>\n",
       "      <td>well</td>\n",
       "      <td>32.200583</td>\n",
       "    </tr>\n",
       "    <tr>\n",
       "      <th>1707</th>\n",
       "      <td>sold</td>\n",
       "      <td>32.206772</td>\n",
       "    </tr>\n",
       "    <tr>\n",
       "      <th>812</th>\n",
       "      <td>end</td>\n",
       "      <td>32.273960</td>\n",
       "    </tr>\n",
       "    <tr>\n",
       "      <th>112</th>\n",
       "      <td>show</td>\n",
       "      <td>32.294163</td>\n",
       "    </tr>\n",
       "    <tr>\n",
       "      <th>1491</th>\n",
       "      <td>win</td>\n",
       "      <td>32.302706</td>\n",
       "    </tr>\n",
       "    <tr>\n",
       "      <th>191</th>\n",
       "      <td>download</td>\n",
       "      <td>32.314168</td>\n",
       "    </tr>\n",
       "    <tr>\n",
       "      <th>1268</th>\n",
       "      <td>te</td>\n",
       "      <td>32.315817</td>\n",
       "    </tr>\n",
       "    <tr>\n",
       "      <th>1463</th>\n",
       "      <td>created</td>\n",
       "      <td>32.366507</td>\n",
       "    </tr>\n",
       "    <tr>\n",
       "      <th>613</th>\n",
       "      <td>bomb</td>\n",
       "      <td>32.374813</td>\n",
       "    </tr>\n",
       "    <tr>\n",
       "      <th>1574</th>\n",
       "      <td>product</td>\n",
       "      <td>32.392588</td>\n",
       "    </tr>\n",
       "    <tr>\n",
       "      <th>386</th>\n",
       "      <td>pair</td>\n",
       "      <td>32.397458</td>\n",
       "    </tr>\n",
       "    <tr>\n",
       "      <th>1095</th>\n",
       "      <td>stock</td>\n",
       "      <td>32.404999</td>\n",
       "    </tr>\n",
       "    <tr>\n",
       "      <th>1193</th>\n",
       "      <td>being</td>\n",
       "      <td>32.410045</td>\n",
       "    </tr>\n",
       "    <tr>\n",
       "      <th>1504</th>\n",
       "      <td>plans</td>\n",
       "      <td>32.467427</td>\n",
       "    </tr>\n",
       "    <tr>\n",
       "      <th>1346</th>\n",
       "      <td>positive</td>\n",
       "      <td>32.486857</td>\n",
       "    </tr>\n",
       "    <tr>\n",
       "      <th>1694</th>\n",
       "      <td>via</td>\n",
       "      <td>32.487129</td>\n",
       "    </tr>\n",
       "    <tr>\n",
       "      <th>809</th>\n",
       "      <td>inside</td>\n",
       "      <td>32.490206</td>\n",
       "    </tr>\n",
       "    <tr>\n",
       "      <th>757</th>\n",
       "      <td>early</td>\n",
       "      <td>32.500734</td>\n",
       "    </tr>\n",
       "    <tr>\n",
       "      <th>1163</th>\n",
       "      <td>poor</td>\n",
       "      <td>32.548588</td>\n",
       "    </tr>\n",
       "    <tr>\n",
       "      <th>459</th>\n",
       "      <td>shot</td>\n",
       "      <td>32.574436</td>\n",
       "    </tr>\n",
       "    <tr>\n",
       "      <th>1584</th>\n",
       "      <td>wwe</td>\n",
       "      <td>32.577192</td>\n",
       "    </tr>\n",
       "    <tr>\n",
       "      <th>1383</th>\n",
       "      <td>golden</td>\n",
       "      <td>32.628935</td>\n",
       "    </tr>\n",
       "    <tr>\n",
       "      <th>805</th>\n",
       "      <td>cup</td>\n",
       "      <td>32.690551</td>\n",
       "    </tr>\n",
       "    <tr>\n",
       "      <th>1617</th>\n",
       "      <td>reading</td>\n",
       "      <td>32.702068</td>\n",
       "    </tr>\n",
       "    <tr>\n",
       "      <th>1763</th>\n",
       "      <td>starting</td>\n",
       "      <td>32.713796</td>\n",
       "    </tr>\n",
       "    <tr>\n",
       "      <th>180</th>\n",
       "      <td>unfollowed</td>\n",
       "      <td>32.739497</td>\n",
       "    </tr>\n",
       "    <tr>\n",
       "      <th>291</th>\n",
       "      <td>above</td>\n",
       "      <td>32.748472</td>\n",
       "    </tr>\n",
       "    <tr>\n",
       "      <th>444</th>\n",
       "      <td>stuck</td>\n",
       "      <td>32.769573</td>\n",
       "    </tr>\n",
       "    <tr>\n",
       "      <th>959</th>\n",
       "      <td>ahead</td>\n",
       "      <td>32.778617</td>\n",
       "    </tr>\n",
       "    <tr>\n",
       "      <th>373</th>\n",
       "      <td>since</td>\n",
       "      <td>32.809472</td>\n",
       "    </tr>\n",
       "    <tr>\n",
       "      <th>806</th>\n",
       "      <td>post</td>\n",
       "      <td>32.813928</td>\n",
       "    </tr>\n",
       "    <tr>\n",
       "      <th>739</th>\n",
       "      <td>current</td>\n",
       "      <td>32.835308</td>\n",
       "    </tr>\n",
       "    <tr>\n",
       "      <th>977</th>\n",
       "      <td>no</td>\n",
       "      <td>32.849768</td>\n",
       "    </tr>\n",
       "    <tr>\n",
       "      <th>304</th>\n",
       "      <td>outta</td>\n",
       "      <td>32.863386</td>\n",
       "    </tr>\n",
       "    <tr>\n",
       "      <th>279</th>\n",
       "      <td>switch</td>\n",
       "      <td>32.915402</td>\n",
       "    </tr>\n",
       "    <tr>\n",
       "      <th>1472</th>\n",
       "      <td>from</td>\n",
       "      <td>32.926094</td>\n",
       "    </tr>\n",
       "    <tr>\n",
       "      <th>1746</th>\n",
       "      <td>visit</td>\n",
       "      <td>32.999365</td>\n",
       "    </tr>\n",
       "    <tr>\n",
       "      <th>1582</th>\n",
       "      <td>sunglasses</td>\n",
       "      <td>33.011065</td>\n",
       "    </tr>\n",
       "    <tr>\n",
       "      <th>687</th>\n",
       "      <td>looking</td>\n",
       "      <td>33.021374</td>\n",
       "    </tr>\n",
       "    <tr>\n",
       "      <th>1362</th>\n",
       "      <td>other</td>\n",
       "      <td>33.052175</td>\n",
       "    </tr>\n",
       "    <tr>\n",
       "      <th>1204</th>\n",
       "      <td>dirty</td>\n",
       "      <td>33.054707</td>\n",
       "    </tr>\n",
       "    <tr>\n",
       "      <th>1729</th>\n",
       "      <td>finish</td>\n",
       "      <td>33.065382</td>\n",
       "    </tr>\n",
       "    <tr>\n",
       "      <th>676</th>\n",
       "      <td>named</td>\n",
       "      <td>33.076675</td>\n",
       "    </tr>\n",
       "    <tr>\n",
       "      <th>1446</th>\n",
       "      <td>fan</td>\n",
       "      <td>33.083206</td>\n",
       "    </tr>\n",
       "    <tr>\n",
       "      <th>1176</th>\n",
       "      <td>money</td>\n",
       "      <td>33.093902</td>\n",
       "    </tr>\n",
       "    <tr>\n",
       "      <th>731</th>\n",
       "      <td>watching</td>\n",
       "      <td>33.133844</td>\n",
       "    </tr>\n",
       "    <tr>\n",
       "      <th>1739</th>\n",
       "      <td>about</td>\n",
       "      <td>33.189032</td>\n",
       "    </tr>\n",
       "    <tr>\n",
       "      <th>420</th>\n",
       "      <td>loss</td>\n",
       "      <td>33.232231</td>\n",
       "    </tr>\n",
       "    <tr>\n",
       "      <th>900</th>\n",
       "      <td>trailer</td>\n",
       "      <td>33.289122</td>\n",
       "    </tr>\n",
       "    <tr>\n",
       "      <th>1730</th>\n",
       "      <td>freaking</td>\n",
       "      <td>33.290000</td>\n",
       "    </tr>\n",
       "    <tr>\n",
       "      <th>348</th>\n",
       "      <td>version</td>\n",
       "      <td>33.295159</td>\n",
       "    </tr>\n",
       "    <tr>\n",
       "      <th>1884</th>\n",
       "      <td>meet</td>\n",
       "      <td>33.317065</td>\n",
       "    </tr>\n",
       "    <tr>\n",
       "      <th>65</th>\n",
       "      <td>case</td>\n",
       "      <td>33.321614</td>\n",
       "    </tr>\n",
       "    <tr>\n",
       "      <th>782</th>\n",
       "      <td>q</td>\n",
       "      <td>33.369022</td>\n",
       "    </tr>\n",
       "    <tr>\n",
       "      <th>1598</th>\n",
       "      <td>design</td>\n",
       "      <td>33.404273</td>\n",
       "    </tr>\n",
       "    <tr>\n",
       "      <th>814</th>\n",
       "      <td>beyond</td>\n",
       "      <td>33.412105</td>\n",
       "    </tr>\n",
       "    <tr>\n",
       "      <th>218</th>\n",
       "      <td>spot</td>\n",
       "      <td>33.461192</td>\n",
       "    </tr>\n",
       "    <tr>\n",
       "      <th>964</th>\n",
       "      <td>doubt</td>\n",
       "      <td>33.466386</td>\n",
       "    </tr>\n",
       "  </tbody>\n",
       "</table>\n",
       "</div>"
      ],
      "text/plain": [
       "              token      score\n",
       "868            lady   1.000451\n",
       "296              lo   1.521036\n",
       "1241           fair   2.445868\n",
       "784          mostly   4.540545\n",
       "1822           race   4.615573\n",
       "848           track   5.253162\n",
       "993         network   5.509127\n",
       "843            gaga   6.023442\n",
       "1847             lt   7.210392\n",
       "1564          yasss   9.599905\n",
       "634           clear  10.435197\n",
       "1380           main  11.124158\n",
       "1251       reminder  11.410927\n",
       "919         traffic  12.230646\n",
       "839              ma  13.074635\n",
       "1387         single  14.501025\n",
       "1736       surprise  14.695857\n",
       "567            holy  14.962802\n",
       "205              rt  15.190822\n",
       "231             mix  16.020746\n",
       "546          female  16.028267\n",
       "1803         actual  16.457734\n",
       "923              mi  16.853916\n",
       "1416          least  17.626863\n",
       "743          jordan  17.940720\n",
       "115        recently  18.739802\n",
       "1602            rip  19.054263\n",
       "682           train  19.217719\n",
       "451             top  19.309927\n",
       "46            moves  19.372246\n",
       "577            here  19.556490\n",
       "1061         effect  19.845168\n",
       "125           local  20.102160\n",
       "889             age  20.318397\n",
       "523           award  20.421315\n",
       "447   automatically  20.460862\n",
       "888          report  20.477661\n",
       "643              hi  20.502519\n",
       "1700           wild  20.565455\n",
       "1812     especially  20.612064\n",
       "1587            due  20.684416\n",
       "626           stage  20.765404\n",
       "194           alert  20.884539\n",
       "1639           boys  20.940708\n",
       "1129        station  21.302807\n",
       "1                 f  21.324619\n",
       "159             now  21.466838\n",
       "1298           fire  21.488540\n",
       "1752       complete  21.518114\n",
       "1635           cast  21.622170\n",
       "984       currently  21.624273\n",
       "1701          human  21.626898\n",
       "5                gt  21.841492\n",
       "1488        regular  21.872041\n",
       "337             low  21.881466\n",
       "442             one  22.045617\n",
       "932            high  22.112237\n",
       "1795        without  22.211378\n",
       "1723     interested  22.332291\n",
       "1878             at  22.465866\n",
       "10           search  22.492948\n",
       "1369           rich  22.518883\n",
       "273            note  22.596507\n",
       "570            than  22.795786\n",
       "750             pre  22.796583\n",
       "1678             by  22.838381\n",
       "1646            gay  22.918772\n",
       "711            view  23.009928\n",
       "865           speed  23.025073\n",
       "1893        forward  23.071592\n",
       "793              co  23.697496\n",
       "72        recommend  23.758327\n",
       "114           based  23.809894\n",
       "696         forever  23.834035\n",
       "166       character  23.941101\n",
       "26           artist  24.022744\n",
       "552          senior  24.251138\n",
       "290            luck  24.609763\n",
       "1382          model  24.618962\n",
       "558            full  24.630266\n",
       "1229           bowl  24.668274\n",
       "1783           wait  24.840548\n",
       "1042          while  24.849037\n",
       "651              ft  24.931124\n",
       "765            have  24.953026\n",
       "1032           born  24.959821\n",
       "1834      beginning  24.979694\n",
       "190           level  24.996899\n",
       "951           yours  25.147809\n",
       "295       yesterday  25.185219\n",
       "425             for  25.230335\n",
       "624             etc  25.468716\n",
       "264            base  25.519258\n",
       "1760        results  25.610632\n",
       "1478        connect  25.676107\n",
       "490             its  25.683328\n",
       "1065         common  25.700742\n",
       "1424    temperature  25.702952\n",
       "120          record  25.705348\n",
       "1351          apply  25.911887\n",
       "270          number  26.042755\n",
       "781       streaming  26.202812\n",
       "670              la  26.300285\n",
       "569           clean  26.445020\n",
       "1824       changing  26.501760\n",
       "1586          below  26.548320\n",
       "1128            san  26.606732\n",
       "912             pls  26.634723\n",
       "1081            job  26.722363\n",
       "976             fit  26.777454\n",
       "401        planning  26.890532\n",
       "1627         travel  26.923001\n",
       "1279         listen  26.954065\n",
       "1585          study  27.035373\n",
       "1706        checked  27.075403\n",
       "331       challenge  27.101720\n",
       "1784       breaking  27.230516\n",
       "299           signs  27.367583\n",
       "1551             of  27.424693\n",
       "1811        playing  27.460434\n",
       "916             mac  27.579573\n",
       "1493             rd  27.601843\n",
       "1319         cancer  27.639192\n",
       "1558          liked  27.667995\n",
       "1793          focus  27.783139\n",
       "758            soon  27.806056\n",
       "689             yay  27.818839\n",
       "557            date  27.848777\n",
       "1581           crew  27.860629\n",
       "1133          again  27.875694\n",
       "323          market  27.944717\n",
       "385          recent  28.045741\n",
       "1417     officially  28.095846\n",
       "1183        trouble  28.112935\n",
       "1503           deal  28.154215\n",
       "1660           dead  28.160900\n",
       "1056        example  28.242428\n",
       "1436         chance  28.280761\n",
       "726            asap  28.288197\n",
       "994               a  28.413055\n",
       "167             air  28.453919\n",
       "863           piece  28.505659\n",
       "200           heavy  28.557900\n",
       "1415         review  28.604533\n",
       "601         goodbye  28.613958\n",
       "1721         jersey  28.614537\n",
       "1714           tour  28.640984\n",
       "1623           each  28.804725\n",
       "869            hell  28.844250\n",
       "134         wedding  29.020796\n",
       "649            rest  29.030945\n",
       "1788         please  29.127566\n",
       "1157          worth  29.189547\n",
       "1483             an  29.193457\n",
       "1772            has  29.219679\n",
       "234           magic  29.317613\n",
       "605          famous  29.351280\n",
       "493           right  29.372989\n",
       "1495         during  29.489724\n",
       "469         finally  29.497967\n",
       "1460          quite  29.538163\n",
       "1868         disney  29.603659\n",
       "91              the  29.609812\n",
       "1881        popular  29.658074\n",
       "1444          calls  29.681650\n",
       "719            mine  29.693454\n",
       "762            heat  29.750802\n",
       "1466          extra  29.813917\n",
       "319           earth  29.882647\n",
       "1877        earlier  29.889243\n",
       "1482           with  29.897978\n",
       "540            loud  29.911806\n",
       "817          middle  29.968882\n",
       "1237      happening  29.985628\n",
       "1554          hello  30.007408\n",
       "1616          judge  30.012869\n",
       "1401      followers  30.063797\n",
       "1443          stats  30.107206\n",
       "1019           left  30.162307\n",
       "184           books  30.177880\n",
       "659           party  30.216286\n",
       "213       listening  30.290874\n",
       "788             bye  30.301936\n",
       "266             tip  30.335427\n",
       "93           having  30.390247\n",
       "874         against  30.457887\n",
       "886             gun  30.466739\n",
       "808        personal  30.510053\n",
       "1246             mo  30.553770\n",
       "417           there  30.569626\n",
       "284            tune  30.606296\n",
       "1825        release  30.613812\n",
       "532          earned  30.636524\n",
       "840            aint  30.700567\n",
       "1195          radio  30.731728\n",
       "1109        reality  30.733053\n",
       "1015       humidity  30.784089\n",
       "1618       shooting  30.929834\n",
       "1447        english  30.991899\n",
       "1182           zero  31.016558\n",
       "1236          young  31.047903\n",
       "961             amp  31.100122\n",
       "478              as  31.117955\n",
       "156            wind  31.118614\n",
       "1601         social  31.227267\n",
       "381           point  31.249108\n",
       "1548        classic  31.295205\n",
       "1633        finding  31.298755\n",
       "1529       straight  31.341609\n",
       "102           grade  31.354575\n",
       "1785            big  31.408375\n",
       "1457           safe  31.413195\n",
       "1687          cover  31.419406\n",
       "347            form  31.438578\n",
       "804             our  31.546842\n",
       "250        official  31.562918\n",
       "946          action  31.564284\n",
       "1833        usually  31.571342\n",
       "818           black  31.597603\n",
       "702              or  31.625664\n",
       "48              sir  31.668354\n",
       "1191       original  31.687376\n",
       "383           shout  31.720501\n",
       "1420        between  31.730461\n",
       "1823          hurts  31.804533\n",
       "654           music  31.821078\n",
       "1111       position  31.841651\n",
       "306            bank  31.857838\n",
       "836          living  31.892946\n",
       "345         opening  31.911860\n",
       "1738    performance  31.964715\n",
       "599          tattoo  31.969837\n",
       "1430             im  31.994758\n",
       "1592        entered  32.025301\n",
       "1132        reasons  32.065638\n",
       "433              vs  32.068062\n",
       "1347          songs  32.084896\n",
       "388       marketing  32.087229\n",
       "1243        concert  32.090844\n",
       "534          broken  32.151808\n",
       "1390          shows  32.155414\n",
       "1702       playlist  32.189855\n",
       "339            well  32.200583\n",
       "1707           sold  32.206772\n",
       "812             end  32.273960\n",
       "112            show  32.294163\n",
       "1491            win  32.302706\n",
       "191        download  32.314168\n",
       "1268             te  32.315817\n",
       "1463        created  32.366507\n",
       "613            bomb  32.374813\n",
       "1574        product  32.392588\n",
       "386            pair  32.397458\n",
       "1095          stock  32.404999\n",
       "1193          being  32.410045\n",
       "1504          plans  32.467427\n",
       "1346       positive  32.486857\n",
       "1694            via  32.487129\n",
       "809          inside  32.490206\n",
       "757           early  32.500734\n",
       "1163           poor  32.548588\n",
       "459            shot  32.574436\n",
       "1584            wwe  32.577192\n",
       "1383         golden  32.628935\n",
       "805             cup  32.690551\n",
       "1617        reading  32.702068\n",
       "1763       starting  32.713796\n",
       "180      unfollowed  32.739497\n",
       "291           above  32.748472\n",
       "444           stuck  32.769573\n",
       "959           ahead  32.778617\n",
       "373           since  32.809472\n",
       "806            post  32.813928\n",
       "739         current  32.835308\n",
       "977              no  32.849768\n",
       "304           outta  32.863386\n",
       "279          switch  32.915402\n",
       "1472           from  32.926094\n",
       "1746          visit  32.999365\n",
       "1582     sunglasses  33.011065\n",
       "687         looking  33.021374\n",
       "1362          other  33.052175\n",
       "1204          dirty  33.054707\n",
       "1729         finish  33.065382\n",
       "676           named  33.076675\n",
       "1446            fan  33.083206\n",
       "1176          money  33.093902\n",
       "731        watching  33.133844\n",
       "1739          about  33.189032\n",
       "420            loss  33.232231\n",
       "900         trailer  33.289122\n",
       "1730       freaking  33.290000\n",
       "348         version  33.295159\n",
       "1884           meet  33.317065\n",
       "65             case  33.321614\n",
       "782               q  33.369022\n",
       "1598         design  33.404273\n",
       "814          beyond  33.412105\n",
       "218            spot  33.461192\n",
       "964           doubt  33.466386"
      ]
     },
     "execution_count": 131,
     "metadata": {},
     "output_type": "execute_result"
    }
   ],
   "source": [
    "df.sort_values('score').head(300)"
   ]
  },
  {
   "cell_type": "code",
   "execution_count": 132,
   "metadata": {},
   "outputs": [],
   "source": [
    "def compare(token):\n",
    "    \n",
    "    u_similar = urban_model.most_similar(token)\n",
    "    r_similar = rural_model.most_similar(token)\n",
    "    \n",
    "    u_tokens = [[t] for t, _ in u_similar]\n",
    "    r_tokens = [[t] for t, _ in r_similar]\n",
    "    \n",
    "    return u_tokens, r_tokens"
   ]
  },
  {
   "cell_type": "code",
   "execution_count": 168,
   "metadata": {},
   "outputs": [
    {
     "data": {
      "text/plain": [
       "([['petty'],\n",
       "  ['miserable'],\n",
       "  ['rude'],\n",
       "  ['bitter'],\n",
       "  ['disrespectful'],\n",
       "  ['childish'],\n",
       "  ['ignorant'],\n",
       "  ['delusional'],\n",
       "  ['stupid'],\n",
       "  ['reckless']],\n",
       " [['heartless'],\n",
       "  ['rude'],\n",
       "  ['childish'],\n",
       "  ['disrespectful'],\n",
       "  ['petty'],\n",
       "  ['miserable'],\n",
       "  ['immature'],\n",
       "  ['spoiled'],\n",
       "  ['cruel'],\n",
       "  ['jealous']])"
      ]
     },
     "execution_count": 168,
     "metadata": {},
     "output_type": "execute_result"
    }
   ],
   "source": [
    "compare('selfish')"
   ]
  },
  {
   "cell_type": "code",
   "execution_count": 133,
   "metadata": {
    "scrolled": false
   },
   "outputs": [
    {
     "data": {
      "text/markdown": [
       "# lady"
      ],
      "text/plain": [
       "<IPython.core.display.Markdown object>"
      ]
     },
     "metadata": {},
     "output_type": "display_data"
    },
    {
     "data": {
      "text/markdown": [
       "#### Urban"
      ],
      "text/plain": [
       "<IPython.core.display.Markdown object>"
      ]
     },
     "metadata": {},
     "output_type": "display_data"
    },
    {
     "name": "stdout",
     "output_type": "stream",
     "text": [
      "--------\n",
      "girl\n",
      "woman\n",
      "guy\n",
      "gal\n",
      "man\n",
      "boy\n",
      "chick\n",
      "kid\n",
      "bride\n",
      "coworker\n",
      "--------\n"
     ]
    },
    {
     "data": {
      "text/markdown": [
       "#### Rural"
      ],
      "text/plain": [
       "<IPython.core.display.Markdown object>"
      ]
     },
     "metadata": {},
     "output_type": "display_data"
    },
    {
     "name": "stdout",
     "output_type": "stream",
     "text": [
      "--------\n",
      "knights\n",
      "bulldogs\n",
      "tigers\n",
      "timeout\n",
      "panthers\n",
      "wildcats\n",
      "halftime\n",
      "lions\n",
      "boys\n",
      "indians\n",
      "--------\n"
     ]
    },
    {
     "data": {
      "text/markdown": [
       "# lo"
      ],
      "text/plain": [
       "<IPython.core.display.Markdown object>"
      ]
     },
     "metadata": {},
     "output_type": "display_data"
    },
    {
     "data": {
      "text/markdown": [
       "#### Urban"
      ],
      "text/plain": [
       "<IPython.core.display.Markdown object>"
      ]
     },
     "metadata": {},
     "output_type": "display_data"
    },
    {
     "name": "stdout",
     "output_type": "stream",
     "text": [
      "------\n",
      "muy\n",
      "todo\n",
      "tiene\n",
      "mejor\n",
      "esta\n",
      "nunca\n",
      "tu\n",
      "cuando\n",
      "como\n",
      "bien\n",
      "------\n"
     ]
    },
    {
     "data": {
      "text/markdown": [
       "#### Rural"
      ],
      "text/plain": [
       "<IPython.core.display.Markdown object>"
      ]
     },
     "metadata": {},
     "output_type": "display_data"
    },
    {
     "name": "stdout",
     "output_type": "stream",
     "text": [
      "--------\n",
      "partly\n",
      "showers\n",
      "cloudy\n",
      "hi\n",
      "fog\n",
      "precip\n",
      "overcast\n",
      "hum\n",
      "sunny\n",
      "mostly\n",
      "--------\n"
     ]
    },
    {
     "data": {
      "text/markdown": [
       "# fair"
      ],
      "text/plain": [
       "<IPython.core.display.Markdown object>"
      ]
     },
     "metadata": {},
     "output_type": "display_data"
    },
    {
     "data": {
      "text/markdown": [
       "#### Urban"
      ],
      "text/plain": [
       "<IPython.core.display.Markdown object>"
      ]
     },
     "metadata": {},
     "output_type": "display_data"
    },
    {
     "name": "stdout",
     "output_type": "stream",
     "text": [
      "-----------\n",
      "valid\n",
      "unfair\n",
      "reasonable\n",
      "biased\n",
      "necessary\n",
      "tough\n",
      "absurd\n",
      "technically\n",
      "acceptable\n",
      "obvious\n",
      "-----------\n"
     ]
    },
    {
     "data": {
      "text/markdown": [
       "#### Rural"
      ],
      "text/plain": [
       "<IPython.core.display.Markdown object>"
      ]
     },
     "metadata": {},
     "output_type": "display_data"
    },
    {
     "name": "stdout",
     "output_type": "stream",
     "text": [
      "----------\n",
      "windy\n",
      "technical\n",
      "required\n",
      "aspen\n",
      "institute\n",
      "nc\n",
      "attending\n",
      "summit\n",
      "expo\n",
      "university\n",
      "----------\n"
     ]
    },
    {
     "data": {
      "text/markdown": [
       "# mostly"
      ],
      "text/plain": [
       "<IPython.core.display.Markdown object>"
      ]
     },
     "metadata": {},
     "output_type": "display_data"
    },
    {
     "data": {
      "text/markdown": [
       "#### Urban"
      ],
      "text/plain": [
       "<IPython.core.display.Markdown object>"
      ]
     },
     "metadata": {},
     "output_type": "display_data"
    },
    {
     "name": "stdout",
     "output_type": "stream",
     "text": [
      "------------\n",
      "mainly\n",
      "generally\n",
      "somewhat\n",
      "fairly\n",
      "usually\n",
      "particularly\n",
      "rarely\n",
      "biased\n",
      "also\n",
      "entirely\n",
      "------------\n"
     ]
    },
    {
     "data": {
      "text/markdown": [
       "#### Rural"
      ],
      "text/plain": [
       "<IPython.core.display.Markdown object>"
      ]
     },
     "metadata": {},
     "output_type": "display_data"
    },
    {
     "name": "stdout",
     "output_type": "stream",
     "text": [
      "-------------\n",
      "mainly\n",
      "partly\n",
      "cloudy\n",
      "sunny\n",
      "fog\n",
      "showers\n",
      "thunderstorms\n",
      "degrees\n",
      "overcast\n",
      "skies\n",
      "-------------\n"
     ]
    },
    {
     "data": {
      "text/markdown": [
       "# race"
      ],
      "text/plain": [
       "<IPython.core.display.Markdown object>"
      ]
     },
     "metadata": {},
     "output_type": "display_data"
    },
    {
     "data": {
      "text/markdown": [
       "#### Urban"
      ],
      "text/plain": [
       "<IPython.core.display.Markdown object>"
      ]
     },
     "metadata": {},
     "output_type": "display_data"
    },
    {
     "name": "stdout",
     "output_type": "stream",
     "text": [
      "---------\n",
      "racial\n",
      "gender\n",
      "racism\n",
      "movement\n",
      "identity\n",
      "debate\n",
      "fascism\n",
      "politics\n",
      "narrative\n",
      "violence\n",
      "---------\n"
     ]
    },
    {
     "data": {
      "text/markdown": [
       "#### Rural"
      ],
      "text/plain": [
       "<IPython.core.display.Markdown object>"
      ]
     },
     "metadata": {},
     "output_type": "display_data"
    },
    {
     "name": "stdout",
     "output_type": "stream",
     "text": [
      "---------\n",
      "races\n",
      "nascar\n",
      "racing\n",
      "semi\n",
      "division\n",
      "sprint\n",
      "indy\n",
      "series\n",
      "match\n",
      "nationals\n",
      "---------\n"
     ]
    },
    {
     "data": {
      "text/markdown": [
       "# track"
      ],
      "text/plain": [
       "<IPython.core.display.Markdown object>"
      ]
     },
     "metadata": {},
     "output_type": "display_data"
    },
    {
     "data": {
      "text/markdown": [
       "#### Urban"
      ],
      "text/plain": [
       "<IPython.core.display.Markdown object>"
      ]
     },
     "metadata": {},
     "output_type": "display_data"
    },
    {
     "name": "stdout",
     "output_type": "stream",
     "text": [
      "------------\n",
      "tracks\n",
      "album\n",
      "banger\n",
      "freestyle\n",
      "song\n",
      "ep\n",
      "instrumental\n",
      "wave\n",
      "verse\n",
      "intro\n",
      "------------\n"
     ]
    },
    {
     "data": {
      "text/markdown": [
       "#### Rural"
      ],
      "text/plain": [
       "<IPython.core.display.Markdown object>"
      ]
     },
     "metadata": {},
     "output_type": "display_data"
    },
    {
     "name": "stdout",
     "output_type": "stream",
     "text": [
      "------------\n",
      "field\n",
      "invitational\n",
      "lax\n",
      "tennis\n",
      "volleyball\n",
      "lacrosse\n",
      "sectional\n",
      "hoops\n",
      "nationals\n",
      "soccer\n",
      "------------\n"
     ]
    },
    {
     "data": {
      "text/markdown": [
       "# network"
      ],
      "text/plain": [
       "<IPython.core.display.Markdown object>"
      ]
     },
     "metadata": {},
     "output_type": "display_data"
    },
    {
     "data": {
      "text/markdown": [
       "#### Urban"
      ],
      "text/plain": [
       "<IPython.core.display.Markdown object>"
      ]
     },
     "metadata": {},
     "output_type": "display_data"
    },
    {
     "name": "stdout",
     "output_type": "stream",
     "text": [
      "----------\n",
      "networks\n",
      "enterprise\n",
      "dataminer\n",
      "xmlrpc\n",
      "hub\n",
      "login\n",
      "brute\n",
      "host\n",
      "mobile\n",
      "ovh\n",
      "----------\n"
     ]
    },
    {
     "data": {
      "text/markdown": [
       "#### Rural"
      ],
      "text/plain": [
       "<IPython.core.display.Markdown object>"
      ]
     },
     "metadata": {},
     "output_type": "display_data"
    },
    {
     "name": "stdout",
     "output_type": "stream",
     "text": [
      "------------\n",
      "television\n",
      "platform\n",
      "channel\n",
      "channels\n",
      "gaming\n",
      "advertising\n",
      "nbc\n",
      "tv\n",
      "cbs\n",
      "organization\n",
      "------------\n"
     ]
    },
    {
     "data": {
      "text/markdown": [
       "# gaga"
      ],
      "text/plain": [
       "<IPython.core.display.Markdown object>"
      ]
     },
     "metadata": {},
     "output_type": "display_data"
    },
    {
     "data": {
      "text/markdown": [
       "#### Urban"
      ],
      "text/plain": [
       "<IPython.core.display.Markdown object>"
      ]
     },
     "metadata": {},
     "output_type": "display_data"
    },
    {
     "name": "stdout",
     "output_type": "stream",
     "text": [
      "-------\n",
      "adele\n",
      "beyonce\n",
      "grammys\n",
      "britney\n",
      "ellen\n",
      "minaj\n",
      "rihanna\n",
      "grammy\n",
      "cyrus\n",
      "beyonc\n",
      "-------\n"
     ]
    },
    {
     "data": {
      "text/markdown": [
       "#### Rural"
      ],
      "text/plain": [
       "<IPython.core.display.Markdown object>"
      ]
     },
     "metadata": {},
     "output_type": "display_data"
    },
    {
     "name": "stdout",
     "output_type": "stream",
     "text": [
      "-------------\n",
      "raisalghousia\n",
      "beyonc\n",
      "tm1dn\n",
      "amanda\n",
      "mc\n",
      "trey\n",
      "perry\n",
      "halftime\n",
      "shelton\n",
      "titans\n",
      "-------------\n"
     ]
    },
    {
     "data": {
      "text/markdown": [
       "# lt"
      ],
      "text/plain": [
       "<IPython.core.display.Markdown object>"
      ]
     },
     "metadata": {},
     "output_type": "display_data"
    },
    {
     "data": {
      "text/markdown": [
       "#### Urban"
      ],
      "text/plain": [
       "<IPython.core.display.Markdown object>"
      ]
     },
     "metadata": {},
     "output_type": "display_data"
    },
    {
     "name": "stdout",
     "output_type": "stream",
     "text": [
      "--------\n",
      "gt\n",
      "tales\n",
      "oo\n",
      "erotic\n",
      "ali\n",
      "checkout\n",
      "saga\n",
      "xx\n",
      "xoxo\n",
      "lesbian\n",
      "--------\n"
     ]
    },
    {
     "data": {
      "text/markdown": [
       "#### Rural"
      ],
      "text/plain": [
       "<IPython.core.display.Markdown object>"
      ]
     },
     "metadata": {},
     "output_type": "display_data"
    },
    {
     "name": "stdout",
     "output_type": "stream",
     "text": [
      "---------\n",
      "gt\n",
      "br\n",
      "ch\n",
      "3\n",
      "com\n",
      "baro\n",
      "utc\n",
      "chevrolet\n",
      "33\n",
      "boats\n",
      "---------\n"
     ]
    },
    {
     "data": {
      "text/markdown": [
       "# yasss"
      ],
      "text/plain": [
       "<IPython.core.display.Markdown object>"
      ]
     },
     "metadata": {},
     "output_type": "display_data"
    },
    {
     "data": {
      "text/markdown": [
       "#### Urban"
      ],
      "text/plain": [
       "<IPython.core.display.Markdown object>"
      ]
     },
     "metadata": {},
     "output_type": "display_data"
    },
    {
     "name": "stdout",
     "output_type": "stream",
     "text": [
      "---------\n",
      "yassss\n",
      "valentine\n",
      "gracias\n",
      "fit\n",
      "sake\n",
      "wendy\n",
      "daddy\n",
      "jo\n",
      "issa\n",
      "preciate\n",
      "---------\n"
     ]
    },
    {
     "data": {
      "text/markdown": [
       "#### Rural"
      ],
      "text/plain": [
       "<IPython.core.display.Markdown object>"
      ]
     },
     "metadata": {},
     "output_type": "display_data"
    },
    {
     "name": "stdout",
     "output_type": "stream",
     "text": [
      "--------\n",
      "hum\n",
      "wtmp\n",
      "sake\n",
      "patrick\n",
      "raising\n",
      "entered\n",
      "mwd\n",
      "l\n",
      "ty\n",
      "giveaway\n",
      "--------\n"
     ]
    },
    {
     "data": {
      "text/markdown": [
       "# clear"
      ],
      "text/plain": [
       "<IPython.core.display.Markdown object>"
      ]
     },
     "metadata": {},
     "output_type": "display_data"
    },
    {
     "data": {
      "text/markdown": [
       "#### Urban"
      ],
      "text/plain": [
       "<IPython.core.display.Markdown object>"
      ]
     },
     "metadata": {},
     "output_type": "display_data"
    },
    {
     "name": "stdout",
     "output_type": "stream",
     "text": [
      "----------\n",
      "obvious\n",
      "reasonable\n",
      "valid\n",
      "simple\n",
      "consistent\n",
      "possible\n",
      "correct\n",
      "helpful\n",
      "useful\n",
      "aware\n",
      "----------\n"
     ]
    },
    {
     "data": {
      "text/markdown": [
       "#### Rural"
      ],
      "text/plain": [
       "<IPython.core.display.Markdown object>"
      ]
     },
     "metadata": {},
     "output_type": "display_data"
    },
    {
     "name": "stdout",
     "output_type": "stream",
     "text": [
      "--------\n",
      "overcast\n",
      "fog\n",
      "cloudy\n",
      "skies\n",
      "partly\n",
      "clouds\n",
      "dry\n",
      "moderate\n",
      "appears\n",
      "bright\n",
      "--------\n"
     ]
    },
    {
     "data": {
      "text/markdown": [
       "# main"
      ],
      "text/plain": [
       "<IPython.core.display.Markdown object>"
      ]
     },
     "metadata": {},
     "output_type": "display_data"
    },
    {
     "data": {
      "text/markdown": [
       "#### Urban"
      ],
      "text/plain": [
       "<IPython.core.display.Markdown object>"
      ]
     },
     "metadata": {},
     "output_type": "display_data"
    },
    {
     "name": "stdout",
     "output_type": "stream",
     "text": [
      "--------\n",
      "premier\n",
      "third\n",
      "favorite\n",
      "broad\n",
      "biggest\n",
      "closest\n",
      "coolest\n",
      "current\n",
      "street\n",
      "fave\n",
      "--------\n"
     ]
    },
    {
     "data": {
      "text/markdown": [
       "#### Rural"
      ],
      "text/plain": [
       "<IPython.core.display.Markdown object>"
      ]
     },
     "metadata": {},
     "output_type": "display_data"
    },
    {
     "name": "stdout",
     "output_type": "stream",
     "text": [
      "--------\n",
      "closing\n",
      "crossing\n",
      "located\n",
      "street\n",
      "rd\n",
      "ga\n",
      "pole\n",
      "closed\n",
      "commerce\n",
      "nj\n",
      "--------\n"
     ]
    },
    {
     "data": {
      "text/markdown": [
       "# reminder"
      ],
      "text/plain": [
       "<IPython.core.display.Markdown object>"
      ]
     },
     "metadata": {},
     "output_type": "display_data"
    },
    {
     "data": {
      "text/markdown": [
       "#### Urban"
      ],
      "text/plain": [
       "<IPython.core.display.Markdown object>"
      ]
     },
     "metadata": {},
     "output_type": "display_data"
    },
    {
     "name": "stdout",
     "output_type": "stream",
     "text": [
      "-----------\n",
      "basis\n",
      "distraction\n",
      "fyi\n",
      "quote\n",
      "question\n",
      "idea\n",
      "blessing\n",
      "message\n",
      "patriot\n",
      "joke\n",
      "-----------\n"
     ]
    },
    {
     "data": {
      "text/markdown": [
       "#### Rural"
      ],
      "text/plain": [
       "<IPython.core.display.Markdown object>"
      ]
     },
     "metadata": {},
     "output_type": "display_data"
    },
    {
     "name": "stdout",
     "output_type": "stream",
     "text": [
      "---------\n",
      "meeting\n",
      "fyi\n",
      "event\n",
      "practice\n",
      "hosting\n",
      "parent\n",
      "banquet\n",
      "retreat\n",
      "program\n",
      "gathering\n",
      "---------\n"
     ]
    },
    {
     "data": {
      "text/markdown": [
       "# traffic"
      ],
      "text/plain": [
       "<IPython.core.display.Markdown object>"
      ]
     },
     "metadata": {},
     "output_type": "display_data"
    },
    {
     "data": {
      "text/markdown": [
       "#### Urban"
      ],
      "text/plain": [
       "<IPython.core.display.Markdown object>"
      ]
     },
     "metadata": {},
     "output_type": "display_data"
    },
    {
     "name": "stdout",
     "output_type": "stream",
     "text": [
      "-------\n",
      "nb\n",
      "fwy\n",
      "eb\n",
      "freeway\n",
      "blvd\n",
      "route\n",
      "wb\n",
      "delay\n",
      "sb\n",
      "jammed\n",
      "-------\n"
     ]
    },
    {
     "data": {
      "text/markdown": [
       "#### Rural"
      ],
      "text/plain": [
       "<IPython.core.display.Markdown object>"
      ]
     },
     "metadata": {},
     "output_type": "display_data"
    },
    {
     "name": "stdout",
     "output_type": "stream",
     "text": [
      "------------\n",
      "vehicle\n",
      "construction\n",
      "signal\n",
      "hwy\n",
      "route\n",
      "roads\n",
      "crash\n",
      "caution\n",
      "highway\n",
      "bridge\n",
      "------------\n"
     ]
    },
    {
     "data": {
      "text/markdown": [
       "# ma"
      ],
      "text/plain": [
       "<IPython.core.display.Markdown object>"
      ]
     },
     "metadata": {},
     "output_type": "display_data"
    },
    {
     "data": {
      "text/markdown": [
       "#### Urban"
      ],
      "text/plain": [
       "<IPython.core.display.Markdown object>"
      ]
     },
     "metadata": {},
     "output_type": "display_data"
    },
    {
     "name": "stdout",
     "output_type": "stream",
     "text": [
      "-----\n",
      "ho\n",
      "tu\n",
      "yuh\n",
      "ay\n",
      "yung\n",
      "den\n",
      "yo\n",
      "ta\n",
      "yg\n",
      "holla\n",
      "-----\n"
     ]
    },
    {
     "data": {
      "text/markdown": [
       "#### Rural"
      ],
      "text/plain": [
       "<IPython.core.display.Markdown object>"
      ]
     },
     "metadata": {},
     "output_type": "display_data"
    },
    {
     "name": "stdout",
     "output_type": "stream",
     "text": [
      "------\n",
      "nh\n",
      "il\n",
      "wa\n",
      "pa\n",
      "nj\n",
      "ga\n",
      "avenue\n",
      "rd\n",
      "ave\n",
      "ln\n",
      "------\n"
     ]
    },
    {
     "data": {
      "text/markdown": [
       "# single"
      ],
      "text/plain": [
       "<IPython.core.display.Markdown object>"
      ]
     },
     "metadata": {},
     "output_type": "display_data"
    },
    {
     "data": {
      "text/markdown": [
       "#### Urban"
      ],
      "text/plain": [
       "<IPython.core.display.Markdown object>"
      ]
     },
     "metadata": {},
     "output_type": "display_data"
    },
    {
     "name": "stdout",
     "output_type": "stream",
     "text": [
      "-------\n",
      "song\n",
      "mixtape\n",
      "banger\n",
      "album\n",
      "verse\n",
      "bop\n",
      "penny\n",
      "track\n",
      "wave\n",
      "lyric\n",
      "-------\n"
     ]
    },
    {
     "data": {
      "text/markdown": [
       "#### Rural"
      ],
      "text/plain": [
       "<IPython.core.display.Markdown object>"
      ]
     },
     "metadata": {},
     "output_type": "display_data"
    },
    {
     "name": "stdout",
     "output_type": "stream",
     "text": [
      "------\n",
      "dime\n",
      "lonely\n",
      "penny\n",
      "blunt\n",
      "rbi\n",
      "broken\n",
      "song\n",
      "second\n",
      "one\n",
      "counts\n",
      "------\n"
     ]
    },
    {
     "data": {
      "text/markdown": [
       "# surprise"
      ],
      "text/plain": [
       "<IPython.core.display.Markdown object>"
      ]
     },
     "metadata": {},
     "output_type": "display_data"
    },
    {
     "data": {
      "text/markdown": [
       "#### Urban"
      ],
      "text/plain": [
       "<IPython.core.display.Markdown object>"
      ]
     },
     "metadata": {},
     "output_type": "display_data"
    },
    {
     "name": "stdout",
     "output_type": "stream",
     "text": [
      "------------\n",
      "date\n",
      "surprises\n",
      "announcement\n",
      "bash\n",
      "hint\n",
      "pun\n",
      "doubt\n",
      "invite\n",
      "return\n",
      "cutie\n",
      "------------\n"
     ]
    },
    {
     "data": {
      "text/markdown": [
       "#### Rural"
      ],
      "text/plain": [
       "<IPython.core.display.Markdown object>"
      ]
     },
     "metadata": {},
     "output_type": "display_data"
    },
    {
     "name": "stdout",
     "output_type": "stream",
     "text": [
      "--------\n",
      "invite\n",
      "deal\n",
      "hug\n",
      "message\n",
      "mess\n",
      "question\n",
      "answer\n",
      "roast\n",
      "date\n",
      "concern\n",
      "--------\n"
     ]
    },
    {
     "data": {
      "text/markdown": [
       "# holy"
      ],
      "text/plain": [
       "<IPython.core.display.Markdown object>"
      ]
     },
     "metadata": {},
     "output_type": "display_data"
    },
    {
     "data": {
      "text/markdown": [
       "#### Urban"
      ],
      "text/plain": [
       "<IPython.core.display.Markdown object>"
      ]
     },
     "metadata": {},
     "output_type": "display_data"
    },
    {
     "name": "stdout",
     "output_type": "stream",
     "text": [
      "------------\n",
      "literal\n",
      "oh\n",
      "ohhhh\n",
      "absolute\n",
      "piece\n",
      "unbelievable\n",
      "bloody\n",
      "sack\n",
      "bull\n",
      "aw\n",
      "------------\n"
     ]
    },
    {
     "data": {
      "text/markdown": [
       "#### Rural"
      ],
      "text/plain": [
       "<IPython.core.display.Markdown object>"
      ]
     },
     "metadata": {},
     "output_type": "display_data"
    },
    {
     "name": "stdout",
     "output_type": "stream",
     "text": [
      "--------\n",
      "bull\n",
      "wicked\n",
      "goddamn\n",
      "piece\n",
      "pure\n",
      "aged\n",
      "complete\n",
      "jesus\n",
      "christ\n",
      "dead\n",
      "--------\n"
     ]
    },
    {
     "data": {
      "text/markdown": [
       "# rt"
      ],
      "text/plain": [
       "<IPython.core.display.Markdown object>"
      ]
     },
     "metadata": {},
     "output_type": "display_data"
    },
    {
     "data": {
      "text/markdown": [
       "#### Urban"
      ],
      "text/plain": [
       "<IPython.core.display.Markdown object>"
      ]
     },
     "metadata": {},
     "output_type": "display_data"
    },
    {
     "name": "stdout",
     "output_type": "stream",
     "text": [
      "---------------\n",
      "retweet\n",
      "pls\n",
      "ifb\n",
      "follow\n",
      "plz\n",
      "entrepreneur\n",
      "sportspoliticen\n",
      "share\n",
      "submit\n",
      "quien\n",
      "---------------\n"
     ]
    },
    {
     "data": {
      "text/markdown": [
       "#### Rural"
      ],
      "text/plain": [
       "<IPython.core.display.Markdown object>"
      ]
     },
     "metadata": {},
     "output_type": "display_data"
    },
    {
     "name": "stdout",
     "output_type": "stream",
     "text": [
      "-------------\n",
      "retweet\n",
      "raisalghousia\n",
      "tm1dn\n",
      "ufc\n",
      "link\n",
      "share\n",
      "follow\n",
      "icymi\n",
      "mma\n",
      "pledge\n",
      "-------------\n"
     ]
    },
    {
     "data": {
      "text/markdown": [
       "# mix"
      ],
      "text/plain": [
       "<IPython.core.display.Markdown object>"
      ]
     },
     "metadata": {},
     "output_type": "display_data"
    },
    {
     "data": {
      "text/markdown": [
       "#### Urban"
      ],
      "text/plain": [
       "<IPython.core.display.Markdown object>"
      ]
     },
     "metadata": {},
     "output_type": "display_data"
    },
    {
     "name": "stdout",
     "output_type": "stream",
     "text": [
      "------------\n",
      "remix\n",
      "funk\n",
      "dj\n",
      "bass\n",
      "intro\n",
      "tunes\n",
      "freestyle\n",
      "mp3\n",
      "instrumental\n",
      "rhythm\n",
      "------------\n"
     ]
    },
    {
     "data": {
      "text/markdown": [
       "#### Rural"
      ],
      "text/plain": [
       "<IPython.core.display.Markdown object>"
      ]
     },
     "metadata": {},
     "output_type": "display_data"
    },
    {
     "name": "stdout",
     "output_type": "stream",
     "text": [
      "----------\n",
      "vanilla\n",
      "pop\n",
      "blend\n",
      "remix\n",
      "spice\n",
      "sour\n",
      "strawberry\n",
      "juicy\n",
      "juice\n",
      "version\n",
      "----------\n"
     ]
    },
    {
     "data": {
      "text/markdown": [
       "# female"
      ],
      "text/plain": [
       "<IPython.core.display.Markdown object>"
      ]
     },
     "metadata": {},
     "output_type": "display_data"
    },
    {
     "data": {
      "text/markdown": [
       "#### Urban"
      ],
      "text/plain": [
       "<IPython.core.display.Markdown object>"
      ]
     },
     "metadata": {},
     "output_type": "display_data"
    },
    {
     "name": "stdout",
     "output_type": "stream",
     "text": [
      "--------\n",
      "male\n",
      "latina\n",
      "feminist\n",
      "woman\n",
      "hispanic\n",
      "queer\n",
      "dancer\n",
      "gay\n",
      "actors\n",
      "poc\n",
      "--------\n"
     ]
    },
    {
     "data": {
      "text/markdown": [
       "#### Rural"
      ],
      "text/plain": [
       "<IPython.core.display.Markdown object>"
      ]
     },
     "metadata": {},
     "output_type": "display_data"
    },
    {
     "name": "stdout",
     "output_type": "stream",
     "text": [
      "--------\n",
      "male\n",
      "woman\n",
      "domestic\n",
      "lesbian\n",
      "thug\n",
      "sexual\n",
      "mature\n",
      "adoption\n",
      "trans\n",
      "slave\n",
      "--------\n"
     ]
    },
    {
     "data": {
      "text/markdown": [
       "# actual"
      ],
      "text/plain": [
       "<IPython.core.display.Markdown object>"
      ]
     },
     "metadata": {},
     "output_type": "display_data"
    },
    {
     "data": {
      "text/markdown": [
       "#### Urban"
      ],
      "text/plain": [
       "<IPython.core.display.Markdown object>"
      ]
     },
     "metadata": {},
     "output_type": "display_data"
    },
    {
     "name": "stdout",
     "output_type": "stream",
     "text": [
      "-------------\n",
      "alternate\n",
      "intellectual\n",
      "alternative\n",
      "absolute\n",
      "absurd\n",
      "awful\n",
      "extreme\n",
      "extraordinary\n",
      "literal\n",
      "entire\n",
      "-------------\n"
     ]
    },
    {
     "data": {
      "text/markdown": [
       "#### Rural"
      ],
      "text/plain": [
       "<IPython.core.display.Markdown object>"
      ]
     },
     "metadata": {},
     "output_type": "display_data"
    },
    {
     "name": "stdout",
     "output_type": "stream",
     "text": [
      "-----------\n",
      "unexpected\n",
      "odd\n",
      "absolute\n",
      "anonymous\n",
      "idiot\n",
      "appropriate\n",
      "alternative\n",
      "apology\n",
      "insult\n",
      "unnecessary\n",
      "-----------\n"
     ]
    },
    {
     "data": {
      "text/markdown": [
       "# mi"
      ],
      "text/plain": [
       "<IPython.core.display.Markdown object>"
      ]
     },
     "metadata": {},
     "output_type": "display_data"
    },
    {
     "data": {
      "text/markdown": [
       "#### Urban"
      ],
      "text/plain": [
       "<IPython.core.display.Markdown object>"
      ]
     },
     "metadata": {},
     "output_type": "display_data"
    },
    {
     "name": "stdout",
     "output_type": "stream",
     "text": [
      "-------\n",
      "tu\n",
      "amor\n",
      "esta\n",
      "una\n",
      "como\n",
      "muy\n",
      "el\n",
      "casa\n",
      "siempre\n",
      "esto\n",
      "-------\n"
     ]
    },
    {
     "data": {
      "text/markdown": [
       "#### Rural"
      ],
      "text/plain": [
       "<IPython.core.display.Markdown object>"
      ]
     },
     "metadata": {},
     "output_type": "display_data"
    },
    {
     "name": "stdout",
     "output_type": "stream",
     "text": [
      "-----\n",
      "il\n",
      "fe\n",
      "route\n",
      "de\n",
      "se\n",
      "mn\n",
      "ia\n",
      "acres\n",
      "en\n",
      "1h\n",
      "-----\n"
     ]
    },
    {
     "data": {
      "text/markdown": [
       "# least"
      ],
      "text/plain": [
       "<IPython.core.display.Markdown object>"
      ]
     },
     "metadata": {},
     "output_type": "display_data"
    },
    {
     "data": {
      "text/markdown": [
       "#### Urban"
      ],
      "text/plain": [
       "<IPython.core.display.Markdown object>"
      ]
     },
     "metadata": {},
     "output_type": "display_data"
    },
    {
     "name": "stdout",
     "output_type": "stream",
     "text": [
      "-------\n",
      "point\n",
      "acc\n",
      "look\n",
      "only\n",
      "yelled\n",
      "also\n",
      "aim\n",
      "maybe\n",
      "atleast\n",
      "risk\n",
      "-------\n"
     ]
    },
    {
     "data": {
      "text/markdown": [
       "#### Rural"
      ],
      "text/plain": [
       "<IPython.core.display.Markdown object>"
      ]
     },
     "metadata": {},
     "output_type": "display_data"
    },
    {
     "name": "stdout",
     "output_type": "stream",
     "text": [
      "-------\n",
      "point\n",
      "atleast\n",
      "yelled\n",
      "stare\n",
      "walmart\n",
      "staring\n",
      "yell\n",
      "look\n",
      "finest\n",
      "laugh\n",
      "-------\n"
     ]
    },
    {
     "data": {
      "text/markdown": [
       "# jordan"
      ],
      "text/plain": [
       "<IPython.core.display.Markdown object>"
      ]
     },
     "metadata": {},
     "output_type": "display_data"
    },
    {
     "data": {
      "text/markdown": [
       "#### Urban"
      ],
      "text/plain": [
       "<IPython.core.display.Markdown object>"
      ]
     },
     "metadata": {},
     "output_type": "display_data"
    },
    {
     "name": "stdout",
     "output_type": "stream",
     "text": [
      "------\n",
      "nike\n",
      "retro\n",
      "max\n",
      "cp3\n",
      "rc\n",
      "og\n",
      "kobe\n",
      "sz\n",
      "adidas\n",
      "mj\n",
      "------\n"
     ]
    },
    {
     "data": {
      "text/markdown": [
       "#### Rural"
      ],
      "text/plain": [
       "<IPython.core.display.Markdown object>"
      ]
     },
     "metadata": {},
     "output_type": "display_data"
    },
    {
     "name": "stdout",
     "output_type": "stream",
     "text": [
      "-------\n",
      "allen\n",
      "derek\n",
      "danny\n",
      "matt\n",
      "cooper\n",
      "bradley\n",
      "bryant\n",
      "brandon\n",
      "cameron\n",
      "brad\n",
      "-------\n"
     ]
    },
    {
     "data": {
      "text/markdown": [
       "# recently"
      ],
      "text/plain": [
       "<IPython.core.display.Markdown object>"
      ]
     },
     "metadata": {},
     "output_type": "display_data"
    },
    {
     "data": {
      "text/markdown": [
       "#### Urban"
      ],
      "text/plain": [
       "<IPython.core.display.Markdown object>"
      ]
     },
     "metadata": {},
     "output_type": "display_data"
    },
    {
     "name": "stdout",
     "output_type": "stream",
     "text": [
      "------------\n",
      "originally\n",
      "yesterday\n",
      "newly\n",
      "earlier\n",
      "apparently\n",
      "successfully\n",
      "ve\n",
      "since\n",
      "finally\n",
      "2012\n",
      "------------\n"
     ]
    },
    {
     "data": {
      "text/markdown": [
       "#### Rural"
      ],
      "text/plain": [
       "<IPython.core.display.Markdown object>"
      ]
     },
     "metadata": {},
     "output_type": "display_data"
    },
    {
     "name": "stdout",
     "output_type": "stream",
     "text": [
      "---------\n",
      "newly\n",
      "2008\n",
      "2007\n",
      "2010\n",
      "recent\n",
      "2014\n",
      "2005\n",
      "2013\n",
      "bookstore\n",
      "2012\n",
      "---------\n"
     ]
    },
    {
     "data": {
      "text/markdown": [
       "# rip"
      ],
      "text/plain": [
       "<IPython.core.display.Markdown object>"
      ]
     },
     "metadata": {},
     "output_type": "display_data"
    },
    {
     "data": {
      "text/markdown": [
       "#### Urban"
      ],
      "text/plain": [
       "<IPython.core.display.Markdown object>"
      ]
     },
     "metadata": {},
     "output_type": "display_data"
    },
    {
     "name": "stdout",
     "output_type": "stream",
     "text": [
      "-------\n",
      "murphy\n",
      "legend\n",
      "aka\n",
      "tribute\n",
      "curse\n",
      "uncle\n",
      "bless\n",
      "kick\n",
      "salute\n",
      "brought\n",
      "-------\n"
     ]
    },
    {
     "data": {
      "text/markdown": [
       "#### Rural"
      ],
      "text/plain": [
       "<IPython.core.display.Markdown object>"
      ]
     },
     "metadata": {},
     "output_type": "display_data"
    },
    {
     "name": "stdout",
     "output_type": "stream",
     "text": [
      "-------\n",
      "kick\n",
      "kicks\n",
      "aka\n",
      "ripped\n",
      "beat\n",
      "kicking\n",
      "cut\n",
      "knock\n",
      "kiss\n",
      "uncle\n",
      "-------\n"
     ]
    },
    {
     "data": {
      "text/markdown": [
       "# train"
      ],
      "text/plain": [
       "<IPython.core.display.Markdown object>"
      ]
     },
     "metadata": {},
     "output_type": "display_data"
    },
    {
     "data": {
      "text/markdown": [
       "#### Urban"
      ],
      "text/plain": [
       "<IPython.core.display.Markdown object>"
      ]
     },
     "metadata": {},
     "output_type": "display_data"
    },
    {
     "name": "stdout",
     "output_type": "stream",
     "text": [
      "--------\n",
      "bus\n",
      "subway\n",
      "freeway\n",
      "trains\n",
      "plane\n",
      "highway\n",
      "rail\n",
      "av\n",
      "terminal\n",
      "buses\n",
      "--------\n"
     ]
    },
    {
     "data": {
      "text/markdown": [
       "#### Rural"
      ],
      "text/plain": [
       "<IPython.core.display.Markdown object>"
      ]
     },
     "metadata": {},
     "output_type": "display_data"
    },
    {
     "name": "stdout",
     "output_type": "stream",
     "text": [
      "----------\n",
      "bus\n",
      "plane\n",
      "bridge\n",
      "motorcycle\n",
      "jet\n",
      "bike\n",
      "highway\n",
      "roof\n",
      "boat\n",
      "dirt\n",
      "----------\n"
     ]
    },
    {
     "data": {
      "text/markdown": [
       "# top"
      ],
      "text/plain": [
       "<IPython.core.display.Markdown object>"
      ]
     },
     "metadata": {},
     "output_type": "display_data"
    },
    {
     "data": {
      "text/markdown": [
       "#### Urban"
      ],
      "text/plain": [
       "<IPython.core.display.Markdown object>"
      ]
     },
     "metadata": {},
     "output_type": "display_data"
    },
    {
     "name": "stdout",
     "output_type": "stream",
     "text": [
      "---------\n",
      "tops\n",
      "ranking\n",
      "hottest\n",
      "charts\n",
      "forbes\n",
      "bottom\n",
      "ranked\n",
      "billboard\n",
      "highest\n",
      "percent\n",
      "---------\n"
     ]
    },
    {
     "data": {
      "text/markdown": [
       "#### Rural"
      ],
      "text/plain": [
       "<IPython.core.display.Markdown object>"
      ]
     },
     "metadata": {},
     "output_type": "display_data"
    },
    {
     "name": "stdout",
     "output_type": "stream",
     "text": [
      "-------\n",
      "bottom\n",
      "ranked\n",
      "tops\n",
      "recap\n",
      "chart\n",
      "round\n",
      "scale\n",
      "rank\n",
      "percent\n",
      "region\n",
      "-------\n"
     ]
    },
    {
     "data": {
      "text/markdown": [
       "# moves"
      ],
      "text/plain": [
       "<IPython.core.display.Markdown object>"
      ]
     },
     "metadata": {},
     "output_type": "display_data"
    },
    {
     "data": {
      "text/markdown": [
       "#### Urban"
      ],
      "text/plain": [
       "<IPython.core.display.Markdown object>"
      ]
     },
     "metadata": {},
     "output_type": "display_data"
    },
    {
     "name": "stdout",
     "output_type": "stream",
     "text": [
      "-----------\n",
      "decisions\n",
      "trades\n",
      "mistakes\n",
      "plans\n",
      "noise\n",
      "excuses\n",
      "connections\n",
      "changes\n",
      "rounds\n",
      "promises\n",
      "-----------\n"
     ]
    },
    {
     "data": {
      "text/markdown": [
       "#### Rural"
      ],
      "text/plain": [
       "<IPython.core.display.Markdown object>"
      ]
     },
     "metadata": {},
     "output_type": "display_data"
    },
    {
     "name": "stdout",
     "output_type": "stream",
     "text": [
      "---------\n",
      "catches\n",
      "throws\n",
      "runs\n",
      "noise\n",
      "plays\n",
      "hits\n",
      "sets\n",
      "decisions\n",
      "faces\n",
      "ground\n",
      "---------\n"
     ]
    },
    {
     "data": {
      "text/markdown": [
       "# here"
      ],
      "text/plain": [
       "<IPython.core.display.Markdown object>"
      ]
     },
     "metadata": {},
     "output_type": "display_data"
    },
    {
     "data": {
      "text/markdown": [
       "#### Urban"
      ],
      "text/plain": [
       "<IPython.core.display.Markdown object>"
      ]
     },
     "metadata": {},
     "output_type": "display_data"
    },
    {
     "name": "stdout",
     "output_type": "stream",
     "text": [
      "----------\n",
      "there\n",
      "now\n",
      "today\n",
      "details\n",
      "check\n",
      "missing\n",
      "checking\n",
      "freaking\n",
      "tuned\n",
      "newsletter\n",
      "----------\n"
     ]
    },
    {
     "data": {
      "text/markdown": [
       "#### Rural"
      ],
      "text/plain": [
       "<IPython.core.display.Markdown object>"
      ]
     },
     "metadata": {},
     "output_type": "display_data"
    },
    {
     "name": "stdout",
     "output_type": "stream",
     "text": [
      "----------\n",
      "there\n",
      "now\n",
      "below\n",
      "tuned\n",
      "website\n",
      "ready\n",
      "planning\n",
      "happening\n",
      "newsletter\n",
      "details\n",
      "----------\n"
     ]
    },
    {
     "data": {
      "text/markdown": [
       "# effect"
      ],
      "text/plain": [
       "<IPython.core.display.Markdown object>"
      ]
     },
     "metadata": {},
     "output_type": "display_data"
    },
    {
     "data": {
      "text/markdown": [
       "#### Urban"
      ],
      "text/plain": [
       "<IPython.core.display.Markdown object>"
      ]
     },
     "metadata": {},
     "output_type": "display_data"
    },
    {
     "name": "stdout",
     "output_type": "stream",
     "text": [
      "-----------\n",
      "capacity\n",
      "activity\n",
      "effects\n",
      "chaos\n",
      "horizon\n",
      "spectrum\n",
      "destruction\n",
      "severe\n",
      "internal\n",
      "extreme\n",
      "-----------\n"
     ]
    },
    {
     "data": {
      "text/markdown": [
       "#### Rural"
      ],
      "text/plain": [
       "<IPython.core.display.Markdown object>"
      ]
     },
     "metadata": {},
     "output_type": "display_data"
    },
    {
     "name": "stdout",
     "output_type": "stream",
     "text": [
      "--------\n",
      "advisory\n",
      "remains\n",
      "severe\n",
      "fog\n",
      "tornado\n",
      "flood\n",
      "areas\n",
      "flooding\n",
      "mdt\n",
      "cdt\n",
      "--------\n"
     ]
    },
    {
     "data": {
      "text/markdown": [
       "# local"
      ],
      "text/plain": [
       "<IPython.core.display.Markdown object>"
      ]
     },
     "metadata": {},
     "output_type": "display_data"
    },
    {
     "data": {
      "text/markdown": [
       "#### Urban"
      ],
      "text/plain": [
       "<IPython.core.display.Markdown object>"
      ]
     },
     "metadata": {},
     "output_type": "display_data"
    },
    {
     "name": "stdout",
     "output_type": "stream",
     "text": [
      "-------------\n",
      "networking\n",
      "volunteer\n",
      "fundraiser\n",
      "orgs\n",
      "organizations\n",
      "nationwide\n",
      "partners\n",
      "hub\n",
      "charity\n",
      "nyc\n",
      "-------------\n"
     ]
    },
    {
     "data": {
      "text/markdown": [
       "#### Rural"
      ],
      "text/plain": [
       "<IPython.core.display.Markdown object>"
      ]
     },
     "metadata": {},
     "output_type": "display_data"
    },
    {
     "name": "stdout",
     "output_type": "stream",
     "text": [
      "-------------\n",
      "farmers\n",
      "association\n",
      "partners\n",
      "community\n",
      "farm\n",
      "craft\n",
      "monthly\n",
      "residents\n",
      "professionals\n",
      "visitors\n",
      "-------------\n"
     ]
    },
    {
     "data": {
      "text/markdown": [
       "# age"
      ],
      "text/plain": [
       "<IPython.core.display.Markdown object>"
      ]
     },
     "metadata": {},
     "output_type": "display_data"
    },
    {
     "data": {
      "text/markdown": [
       "#### Urban"
      ],
      "text/plain": [
       "<IPython.core.display.Markdown object>"
      ]
     },
     "metadata": {},
     "output_type": "display_data"
    },
    {
     "name": "stdout",
     "output_type": "stream",
     "text": [
      "----------\n",
      "20s\n",
      "height\n",
      "era\n",
      "50s\n",
      "generation\n",
      "population\n",
      "marriage\n",
      "year\n",
      "average\n",
      "dies\n",
      "----------\n"
     ]
    },
    {
     "data": {
      "text/markdown": [
       "#### Rural"
      ],
      "text/plain": [
       "<IPython.core.display.Markdown object>"
      ]
     },
     "metadata": {},
     "output_type": "display_data"
    },
    {
     "name": "stdout",
     "output_type": "stream",
     "text": [
      "----------\n",
      "iq\n",
      "average\n",
      "percent\n",
      "aged\n",
      "population\n",
      "older\n",
      "yr\n",
      "male\n",
      "risk\n",
      "years\n",
      "----------\n"
     ]
    },
    {
     "data": {
      "text/markdown": [
       "# award"
      ],
      "text/plain": [
       "<IPython.core.display.Markdown object>"
      ]
     },
     "metadata": {},
     "output_type": "display_data"
    },
    {
     "data": {
      "text/markdown": [
       "#### Urban"
      ],
      "text/plain": [
       "<IPython.core.display.Markdown object>"
      ]
     },
     "metadata": {},
     "output_type": "display_data"
    },
    {
     "name": "stdout",
     "output_type": "stream",
     "text": [
      "----------\n",
      "emmy\n",
      "oscar\n",
      "awards\n",
      "grammy\n",
      "nominated\n",
      "honors\n",
      "grammys\n",
      "actress\n",
      "nomination\n",
      "oscars\n",
      "----------\n"
     ]
    },
    {
     "data": {
      "text/markdown": [
       "#### Rural"
      ],
      "text/plain": [
       "<IPython.core.display.Markdown object>"
      ]
     },
     "metadata": {},
     "output_type": "display_data"
    },
    {
     "name": "stdout",
     "output_type": "stream",
     "text": [
      "-----------\n",
      "awards\n",
      "oscar\n",
      "recognition\n",
      "honors\n",
      "academic\n",
      "outstanding\n",
      "winner\n",
      "athlete\n",
      "spotlight\n",
      "actress\n",
      "-----------\n"
     ]
    },
    {
     "data": {
      "text/markdown": [
       "# automatically"
      ],
      "text/plain": [
       "<IPython.core.display.Markdown object>"
      ]
     },
     "metadata": {},
     "output_type": "display_data"
    },
    {
     "data": {
      "text/markdown": [
       "#### Urban"
      ],
      "text/plain": [
       "<IPython.core.display.Markdown object>"
      ]
     },
     "metadata": {},
     "output_type": "display_data"
    },
    {
     "name": "stdout",
     "output_type": "stream",
     "text": [
      "----------\n",
      "unfollowed\n",
      "followed\n",
      "judge\n",
      "texting\n",
      "confess\n",
      "randomly\n",
      "sane\n",
      "just\n",
      "removing\n",
      "startup\n",
      "----------\n"
     ]
    },
    {
     "data": {
      "text/markdown": [
       "#### Rural"
      ],
      "text/plain": [
       "<IPython.core.display.Markdown object>"
      ]
     },
     "metadata": {},
     "output_type": "display_data"
    },
    {
     "name": "stdout",
     "output_type": "stream",
     "text": [
      "----------\n",
      "followed\n",
      "unfollowed\n",
      "tracked\n",
      "texting\n",
      "kills\n",
      "judge\n",
      "tweeps\n",
      "providing\n",
      "block\n",
      "cuh\n",
      "----------\n"
     ]
    },
    {
     "data": {
      "text/markdown": [
       "# report"
      ],
      "text/plain": [
       "<IPython.core.display.Markdown object>"
      ]
     },
     "metadata": {},
     "output_type": "display_data"
    },
    {
     "data": {
      "text/markdown": [
       "#### Urban"
      ],
      "text/plain": [
       "<IPython.core.display.Markdown object>"
      ]
     },
     "metadata": {},
     "output_type": "display_data"
    },
    {
     "name": "stdout",
     "output_type": "stream",
     "text": [
      "---------\n",
      "reports\n",
      "reuters\n",
      "breach\n",
      "probe\n",
      "transfer\n",
      "roundup\n",
      "analysis\n",
      "amid\n",
      "targeting\n",
      "warns\n",
      "---------\n"
     ]
    },
    {
     "data": {
      "text/markdown": [
       "#### Rural"
      ],
      "text/plain": [
       "<IPython.core.display.Markdown object>"
      ]
     },
     "metadata": {},
     "output_type": "display_data"
    },
    {
     "name": "stdout",
     "output_type": "stream",
     "text": [
      "----------\n",
      "reports\n",
      "probe\n",
      "analysis\n",
      "leak\n",
      "irs\n",
      "breitbart\n",
      "regarding\n",
      "reported\n",
      "lawsuit\n",
      "commission\n",
      "----------\n"
     ]
    },
    {
     "data": {
      "text/markdown": [
       "# hi"
      ],
      "text/plain": [
       "<IPython.core.display.Markdown object>"
      ]
     },
     "metadata": {},
     "output_type": "display_data"
    },
    {
     "data": {
      "text/markdown": [
       "#### Urban"
      ],
      "text/plain": [
       "<IPython.core.display.Markdown object>"
      ]
     },
     "metadata": {},
     "output_type": "display_data"
    },
    {
     "name": "stdout",
     "output_type": "stream",
     "text": [
      "-------\n",
      "hello\n",
      "hey\n",
      "helloo\n",
      "sorry\n",
      "xoxo\n",
      "welcome\n",
      "ms\n",
      "glad\n",
      "btw\n",
      "hola\n",
      "-------\n"
     ]
    },
    {
     "data": {
      "text/markdown": [
       "#### Rural"
      ],
      "text/plain": [
       "<IPython.core.display.Markdown object>"
      ]
     },
     "metadata": {},
     "output_type": "display_data"
    },
    {
     "name": "stdout",
     "output_type": "stream",
     "text": [
      "---------\n",
      "hello\n",
      "hey\n",
      "lo\n",
      "goodnight\n",
      "goodbye\n",
      "welcome\n",
      "marie\n",
      "hbd\n",
      "dear\n",
      "f\n",
      "---------\n"
     ]
    },
    {
     "data": {
      "text/markdown": [
       "# wild"
      ],
      "text/plain": [
       "<IPython.core.display.Markdown object>"
      ]
     },
     "metadata": {},
     "output_type": "display_data"
    },
    {
     "data": {
      "text/markdown": [
       "#### Urban"
      ],
      "text/plain": [
       "<IPython.core.display.Markdown object>"
      ]
     },
     "metadata": {},
     "output_type": "display_data"
    },
    {
     "name": "stdout",
     "output_type": "stream",
     "text": [
      "-------\n",
      "aipom\n",
      "shuckle\n",
      "crazy\n",
      "wicked\n",
      "weird\n",
      "demon\n",
      "scary\n",
      "dark\n",
      "rough\n",
      "hot\n",
      "-------\n"
     ]
    },
    {
     "data": {
      "text/markdown": [
       "#### Rural"
      ],
      "text/plain": [
       "<IPython.core.display.Markdown object>"
      ]
     },
     "metadata": {},
     "output_type": "display_data"
    },
    {
     "name": "stdout",
     "output_type": "stream",
     "text": [
      "-------\n",
      "hot\n",
      "wicked\n",
      "ghost\n",
      "pirate\n",
      "buffalo\n",
      "rare\n",
      "dark\n",
      "deer\n",
      "sweet\n",
      "zelda\n",
      "-------\n"
     ]
    },
    {
     "data": {
      "text/markdown": [
       "# especially"
      ],
      "text/plain": [
       "<IPython.core.display.Markdown object>"
      ]
     },
     "metadata": {},
     "output_type": "display_data"
    },
    {
     "data": {
      "text/markdown": [
       "#### Urban"
      ],
      "text/plain": [
       "<IPython.core.display.Markdown object>"
      ]
     },
     "metadata": {},
     "output_type": "display_data"
    },
    {
     "name": "stdout",
     "output_type": "stream",
     "text": [
      "-------------\n",
      "esp\n",
      "particularly\n",
      "dealing\n",
      "equally\n",
      "happens\n",
      "comes\n",
      "relationships\n",
      "are\n",
      "were\n",
      "except\n",
      "-------------\n"
     ]
    },
    {
     "data": {
      "text/markdown": [
       "#### Rural"
      ],
      "text/plain": [
       "<IPython.core.display.Markdown object>"
      ]
     },
     "metadata": {},
     "output_type": "display_data"
    },
    {
     "name": "stdout",
     "output_type": "stream",
     "text": [
      "-------------\n",
      "are\n",
      "were\n",
      "dealing\n",
      "comes\n",
      "relationships\n",
      "happens\n",
      "rains\n",
      "re\n",
      "protesting\n",
      "arguing\n",
      "-------------\n"
     ]
    },
    {
     "data": {
      "text/markdown": [
       "# due"
      ],
      "text/plain": [
       "<IPython.core.display.Markdown object>"
      ]
     },
     "metadata": {},
     "output_type": "display_data"
    },
    {
     "data": {
      "text/markdown": [
       "#### Urban"
      ],
      "text/plain": [
       "<IPython.core.display.Markdown object>"
      ]
     },
     "metadata": {},
     "output_type": "display_data"
    },
    {
     "name": "stdout",
     "output_type": "stream",
     "text": [
      "------------\n",
      "delayed\n",
      "prior\n",
      "causing\n",
      "delays\n",
      "mezzanine\n",
      "delay\n",
      "scheduled\n",
      "rail\n",
      "experiencing\n",
      "terminal\n",
      "------------\n"
     ]
    },
    {
     "data": {
      "text/markdown": [
       "#### Rural"
      ],
      "text/plain": [
       "<IPython.core.display.Markdown object>"
      ]
     },
     "metadata": {},
     "output_type": "display_data"
    },
    {
     "name": "stdout",
     "output_type": "stream",
     "text": [
      "---------\n",
      "prior\n",
      "delayed\n",
      "delay\n",
      "canceled\n",
      "scheduled\n",
      "cancelled\n",
      "according\n",
      "postponed\n",
      "required\n",
      "related\n",
      "---------\n"
     ]
    },
    {
     "data": {
      "text/markdown": [
       "# stage"
      ],
      "text/plain": [
       "<IPython.core.display.Markdown object>"
      ]
     },
     "metadata": {},
     "output_type": "display_data"
    },
    {
     "data": {
      "text/markdown": [
       "#### Urban"
      ],
      "text/plain": [
       "<IPython.core.display.Markdown object>"
      ]
     },
     "metadata": {},
     "output_type": "display_data"
    },
    {
     "name": "stdout",
     "output_type": "stream",
     "text": [
      "--------\n",
      "broadway\n",
      "floor\n",
      "grammys\n",
      "tour\n",
      "pole\n",
      "mic\n",
      "entrance\n",
      "freeway\n",
      "event\n",
      "field\n",
      "--------\n"
     ]
    },
    {
     "data": {
      "text/markdown": [
       "#### Rural"
      ],
      "text/plain": [
       "<IPython.core.display.Markdown object>"
      ]
     },
     "metadata": {},
     "output_type": "display_data"
    },
    {
     "name": "stdout",
     "output_type": "stream",
     "text": [
      "-------\n",
      "pole\n",
      "floor\n",
      "par\n",
      "casino\n",
      "goal\n",
      "battle\n",
      "match\n",
      "edge\n",
      "field\n",
      "victory\n",
      "-------\n"
     ]
    },
    {
     "data": {
      "text/markdown": [
       "# alert"
      ],
      "text/plain": [
       "<IPython.core.display.Markdown object>"
      ]
     },
     "metadata": {},
     "output_type": "display_data"
    },
    {
     "data": {
      "text/markdown": [
       "#### Urban"
      ],
      "text/plain": [
       "<IPython.core.display.Markdown object>"
      ]
     },
     "metadata": {},
     "output_type": "display_data"
    },
    {
     "name": "stdout",
     "output_type": "stream",
     "text": [
      "---------\n",
      "releases\n",
      "launches\n",
      "announces\n",
      "cbs\n",
      "advisory\n",
      "amid\n",
      "exclusive\n",
      "sparks\n",
      "update\n",
      "issued\n",
      "---------\n"
     ]
    },
    {
     "data": {
      "text/markdown": [
       "#### Rural"
      ],
      "text/plain": [
       "<IPython.core.display.Markdown object>"
      ]
     },
     "metadata": {},
     "output_type": "display_data"
    },
    {
     "name": "stdout",
     "output_type": "stream",
     "text": [
      "---------\n",
      "update\n",
      "amber\n",
      "report\n",
      "85\n",
      "75\n",
      "rd\n",
      "releases\n",
      "hwy\n",
      "emergency\n",
      "sta\n",
      "---------\n"
     ]
    },
    {
     "data": {
      "text/markdown": [
       "# boys"
      ],
      "text/plain": [
       "<IPython.core.display.Markdown object>"
      ]
     },
     "metadata": {},
     "output_type": "display_data"
    },
    {
     "data": {
      "text/markdown": [
       "#### Urban"
      ],
      "text/plain": [
       "<IPython.core.display.Markdown object>"
      ]
     },
     "metadata": {},
     "output_type": "display_data"
    },
    {
     "name": "stdout",
     "output_type": "stream",
     "text": [
      "--------\n",
      "girls\n",
      "dudes\n",
      "chicks\n",
      "kids\n",
      "babies\n",
      "brothers\n",
      "men\n",
      "ladies\n",
      "boyz\n",
      "homies\n",
      "--------\n"
     ]
    },
    {
     "data": {
      "text/markdown": [
       "#### Rural"
      ],
      "text/plain": [
       "<IPython.core.display.Markdown object>"
      ]
     },
     "metadata": {},
     "output_type": "display_data"
    },
    {
     "name": "stdout",
     "output_type": "stream",
     "text": [
      "----------\n",
      "girls\n",
      "jv\n",
      "hoops\n",
      "volleyball\n",
      "varsity\n",
      "softball\n",
      "wildcats\n",
      "freshmen\n",
      "panthers\n",
      "bulldogs\n",
      "----------\n"
     ]
    },
    {
     "data": {
      "text/markdown": [
       "# station"
      ],
      "text/plain": [
       "<IPython.core.display.Markdown object>"
      ]
     },
     "metadata": {},
     "output_type": "display_data"
    },
    {
     "data": {
      "text/markdown": [
       "#### Urban"
      ],
      "text/plain": [
       "<IPython.core.display.Markdown object>"
      ]
     },
     "metadata": {},
     "output_type": "display_data"
    },
    {
     "name": "stdout",
     "output_type": "stream",
     "text": [
      "--------\n",
      "stations\n",
      "highway\n",
      "terminal\n",
      "uptown\n",
      "rail\n",
      "port\n",
      "metro\n",
      "subway\n",
      "plaza\n",
      "bridge\n",
      "--------\n"
     ]
    },
    {
     "data": {
      "text/markdown": [
       "#### Rural"
      ],
      "text/plain": [
       "<IPython.core.display.Markdown object>"
      ]
     },
     "metadata": {},
     "output_type": "display_data"
    },
    {
     "name": "stdout",
     "output_type": "stream",
     "text": [
      "----------\n",
      "fire\n",
      "park\n",
      "department\n",
      "airport\n",
      "mount\n",
      "port\n",
      "alarm\n",
      "units\n",
      "city\n",
      "gate\n",
      "----------\n"
     ]
    },
    {
     "data": {
      "text/markdown": [
       "# f"
      ],
      "text/plain": [
       "<IPython.core.display.Markdown object>"
      ]
     },
     "metadata": {},
     "output_type": "display_data"
    },
    {
     "data": {
      "text/markdown": [
       "#### Urban"
      ],
      "text/plain": [
       "<IPython.core.display.Markdown object>"
      ]
     },
     "metadata": {},
     "output_type": "display_data"
    },
    {
     "name": "stdout",
     "output_type": "stream",
     "text": [
      "--\n",
      "h\n",
      "k\n",
      "p\n",
      "e\n",
      "g\n",
      "ck\n",
      "o\n",
      "b\n",
      "j\n",
      "n\n",
      "--\n"
     ]
    },
    {
     "data": {
      "text/markdown": [
       "#### Rural"
      ],
      "text/plain": [
       "<IPython.core.display.Markdown object>"
      ]
     },
     "metadata": {},
     "output_type": "display_data"
    },
    {
     "name": "stdout",
     "output_type": "stream",
     "text": [
      "--------\n",
      "dewpoint\n",
      "pct\n",
      "73\n",
      "74\n",
      "71\n",
      "84\n",
      "78\n",
      "mwd\n",
      "degrees\n",
      "77\n",
      "--------\n"
     ]
    },
    {
     "data": {
      "text/markdown": [
       "# now"
      ],
      "text/plain": [
       "<IPython.core.display.Markdown object>"
      ]
     },
     "metadata": {},
     "output_type": "display_data"
    },
    {
     "data": {
      "text/markdown": [
       "#### Urban"
      ],
      "text/plain": [
       "<IPython.core.display.Markdown object>"
      ]
     },
     "metadata": {},
     "output_type": "display_data"
    },
    {
     "name": "stdout",
     "output_type": "stream",
     "text": [
      "---------\n",
      "here\n",
      "alt\n",
      "wing\n",
      "currently\n",
      "still\n",
      "itunes\n",
      "already\n",
      "asap\n",
      "rn\n",
      "tomorrow\n",
      "---------\n"
     ]
    },
    {
     "data": {
      "text/markdown": [
       "#### Rural"
      ],
      "text/plain": [
       "<IPython.core.display.Markdown object>"
      ]
     },
     "metadata": {},
     "output_type": "display_data"
    },
    {
     "name": "stdout",
     "output_type": "stream",
     "text": [
      "---------\n",
      "here\n",
      "still\n",
      "alt\n",
      "currently\n",
      "wing\n",
      "already\n",
      "patiently\n",
      "danz\n",
      "rn\n",
      "corner\n",
      "---------\n"
     ]
    },
    {
     "data": {
      "text/markdown": [
       "# fire"
      ],
      "text/plain": [
       "<IPython.core.display.Markdown object>"
      ]
     },
     "metadata": {},
     "output_type": "display_data"
    },
    {
     "data": {
      "text/markdown": [
       "#### Urban"
      ],
      "text/plain": [
       "<IPython.core.display.Markdown object>"
      ]
     },
     "metadata": {},
     "output_type": "display_data"
    },
    {
     "name": "stdout",
     "output_type": "stream",
     "text": [
      "-------\n",
      "burning\n",
      "flames\n",
      "flame\n",
      "roof\n",
      "raid\n",
      "killer\n",
      "alarm\n",
      "freeway\n",
      "heavy\n",
      "van\n",
      "-------\n"
     ]
    },
    {
     "data": {
      "text/markdown": [
       "#### Rural"
      ],
      "text/plain": [
       "<IPython.core.display.Markdown object>"
      ]
     },
     "metadata": {},
     "output_type": "display_data"
    },
    {
     "name": "stdout",
     "output_type": "stream",
     "text": [
      "----------\n",
      "structure\n",
      "highway\n",
      "units\n",
      "hwy\n",
      "station\n",
      "roof\n",
      "birmingham\n",
      "rd\n",
      "police\n",
      "air\n",
      "----------\n"
     ]
    },
    {
     "data": {
      "text/markdown": [
       "# complete"
      ],
      "text/plain": [
       "<IPython.core.display.Markdown object>"
      ]
     },
     "metadata": {},
     "output_type": "display_data"
    },
    {
     "data": {
      "text/markdown": [
       "#### Urban"
      ],
      "text/plain": [
       "<IPython.core.display.Markdown object>"
      ]
     },
     "metadata": {},
     "output_type": "display_data"
    },
    {
     "name": "stdout",
     "output_type": "stream",
     "text": [
      "----------\n",
      "total\n",
      "useless\n",
      "ultimate\n",
      "crucial\n",
      "practical\n",
      "full\n",
      "survival\n",
      "absurd\n",
      "critical\n",
      "management\n",
      "----------\n"
     ]
    },
    {
     "data": {
      "text/markdown": [
       "#### Rural"
      ],
      "text/plain": [
       "<IPython.core.display.Markdown object>"
      ]
     },
     "metadata": {},
     "output_type": "display_data"
    },
    {
     "name": "stdout",
     "output_type": "stream",
     "text": [
      "----------\n",
      "total\n",
      "full\n",
      "pure\n",
      "useless\n",
      "failure\n",
      "perfection\n",
      "itself\n",
      "combined\n",
      "survival\n",
      "creating\n",
      "----------\n"
     ]
    },
    {
     "data": {
      "text/markdown": [
       "# cast"
      ],
      "text/plain": [
       "<IPython.core.display.Markdown object>"
      ]
     },
     "metadata": {},
     "output_type": "display_data"
    },
    {
     "data": {
      "text/markdown": [
       "#### Urban"
      ],
      "text/plain": [
       "<IPython.core.display.Markdown object>"
      ]
     },
     "metadata": {},
     "output_type": "display_data"
    },
    {
     "name": "stdout",
     "output_type": "stream",
     "text": [
      "-----------\n",
      "crew\n",
      "film\n",
      "segment\n",
      "character\n",
      "musical\n",
      "producer\n",
      "actor\n",
      "pod\n",
      "villain\n",
      "performance\n",
      "-----------\n"
     ]
    },
    {
     "data": {
      "text/markdown": [
       "#### Rural"
      ],
      "text/plain": [
       "<IPython.core.display.Markdown object>"
      ]
     },
     "metadata": {},
     "output_type": "display_data"
    },
    {
     "name": "stdout",
     "output_type": "stream",
     "text": [
      "-----------\n",
      "mark\n",
      "performance\n",
      "fate\n",
      "heroes\n",
      "favorites\n",
      "fist\n",
      "tribe\n",
      "hero\n",
      "voice\n",
      "crew\n",
      "-----------\n"
     ]
    },
    {
     "data": {
      "text/markdown": [
       "# currently"
      ],
      "text/plain": [
       "<IPython.core.display.Markdown object>"
      ]
     },
     "metadata": {},
     "output_type": "display_data"
    },
    {
     "data": {
      "text/markdown": [
       "#### Urban"
      ],
      "text/plain": [
       "<IPython.core.display.Markdown object>"
      ]
     },
     "metadata": {},
     "output_type": "display_data"
    },
    {
     "name": "stdout",
     "output_type": "stream",
     "text": [
      "------------\n",
      "while\n",
      "rn\n",
      "now\n",
      "still\n",
      "atm\n",
      "officially\n",
      "slowly\n",
      "meanwhile\n",
      "applications\n",
      "sitting\n",
      "------------\n"
     ]
    },
    {
     "data": {
      "text/markdown": [
       "#### Rural"
      ],
      "text/plain": [
       "<IPython.core.display.Markdown object>"
      ]
     },
     "metadata": {},
     "output_type": "display_data"
    },
    {
     "name": "stdout",
     "output_type": "stream",
     "text": [
      "-------\n",
      "rn\n",
      "now\n",
      "rapidly\n",
      "81\n",
      "72\n",
      "sitting\n",
      "while\n",
      "slowly\n",
      "still\n",
      "76\n",
      "-------\n"
     ]
    },
    {
     "data": {
      "text/markdown": [
       "# human"
      ],
      "text/plain": [
       "<IPython.core.display.Markdown object>"
      ]
     },
     "metadata": {},
     "output_type": "display_data"
    },
    {
     "data": {
      "text/markdown": [
       "#### Urban"
      ],
      "text/plain": [
       "<IPython.core.display.Markdown object>"
      ]
     },
     "metadata": {},
     "output_type": "display_data"
    },
    {
     "name": "stdout",
     "output_type": "stream",
     "text": [
      "----------\n",
      "humans\n",
      "individual\n",
      "religious\n",
      "disease\n",
      "vile\n",
      "equal\n",
      "literal\n",
      "disorder\n",
      "civil\n",
      "vulnerable\n",
      "----------\n"
     ]
    },
    {
     "data": {
      "text/markdown": [
       "#### Rural"
      ],
      "text/plain": [
       "<IPython.core.display.Markdown object>"
      ]
     },
     "metadata": {},
     "output_type": "display_data"
    },
    {
     "name": "stdout",
     "output_type": "stream",
     "text": [
      "----------\n",
      "humans\n",
      "equal\n",
      "belief\n",
      "politician\n",
      "journalist\n",
      "species\n",
      "person\n",
      "patient\n",
      "hypocrite\n",
      "leader\n",
      "----------\n"
     ]
    },
    {
     "data": {
      "text/markdown": [
       "# gt"
      ],
      "text/plain": [
       "<IPython.core.display.Markdown object>"
      ]
     },
     "metadata": {},
     "output_type": "display_data"
    },
    {
     "data": {
      "text/markdown": [
       "#### Urban"
      ],
      "text/plain": [
       "<IPython.core.display.Markdown object>"
      ]
     },
     "metadata": {},
     "output_type": "display_data"
    },
    {
     "name": "stdout",
     "output_type": "stream",
     "text": [
      "--------\n",
      "lt\n",
      "com\n",
      "ali\n",
      "sizes\n",
      "dot\n",
      "checkout\n",
      "mag\n",
      "coupon\n",
      "nigerian\n",
      "cum\n",
      "--------\n"
     ]
    },
    {
     "data": {
      "text/markdown": [
       "#### Rural"
      ],
      "text/plain": [
       "<IPython.core.display.Markdown object>"
      ]
     },
     "metadata": {},
     "output_type": "display_data"
    },
    {
     "name": "stdout",
     "output_type": "stream",
     "text": [
      "--------\n",
      "lt\n",
      "com\n",
      "coupon\n",
      "promo\n",
      "scarf\n",
      "boats\n",
      "baro\n",
      "remedies\n",
      "hacks\n",
      "necklace\n",
      "--------\n"
     ]
    },
    {
     "data": {
      "text/markdown": [
       "# regular"
      ],
      "text/plain": [
       "<IPython.core.display.Markdown object>"
      ]
     },
     "metadata": {},
     "output_type": "display_data"
    },
    {
     "data": {
      "text/markdown": [
       "#### Urban"
      ],
      "text/plain": [
       "<IPython.core.display.Markdown object>"
      ]
     },
     "metadata": {},
     "output_type": "display_data"
    },
    {
     "name": "stdout",
     "output_type": "stream",
     "text": [
      "-----------\n",
      "decent\n",
      "shitty\n",
      "normal\n",
      "starter\n",
      "boring\n",
      "limited\n",
      "competitive\n",
      "solid\n",
      "full\n",
      "trash\n",
      "-----------\n"
     ]
    },
    {
     "data": {
      "text/markdown": [
       "#### Rural"
      ],
      "text/plain": [
       "<IPython.core.display.Markdown object>"
      ]
     },
     "metadata": {},
     "output_type": "display_data"
    },
    {
     "name": "stdout",
     "output_type": "stream",
     "text": [
      "---------\n",
      "playoff\n",
      "limited\n",
      "pre\n",
      "full\n",
      "prep\n",
      "solid\n",
      "prime\n",
      "preseason\n",
      "scheduled\n",
      "per\n",
      "---------\n"
     ]
    },
    {
     "data": {
      "text/markdown": [
       "# low"
      ],
      "text/plain": [
       "<IPython.core.display.Markdown object>"
      ]
     },
     "metadata": {},
     "output_type": "display_data"
    },
    {
     "data": {
      "text/markdown": [
       "#### Urban"
      ],
      "text/plain": [
       "<IPython.core.display.Markdown object>"
      ]
     },
     "metadata": {},
     "output_type": "display_data"
    },
    {
     "name": "stdout",
     "output_type": "stream",
     "text": [
      "--------\n",
      "high\n",
      "lower\n",
      "higher\n",
      "lowest\n",
      "solid\n",
      "standard\n",
      "key\n",
      "prices\n",
      "rate\n",
      "rates\n",
      "--------\n"
     ]
    },
    {
     "data": {
      "text/markdown": [
       "#### Rural"
      ],
      "text/plain": [
       "<IPython.core.display.Markdown object>"
      ]
     },
     "metadata": {},
     "output_type": "display_data"
    },
    {
     "name": "stdout",
     "output_type": "stream",
     "text": [
      "--------\n",
      "high\n",
      "cloudy\n",
      "78\n",
      "dry\n",
      "lower\n",
      "partly\n",
      "mostly\n",
      "69\n",
      "74\n",
      "overcast\n",
      "--------\n"
     ]
    },
    {
     "data": {
      "text/markdown": [
       "# one"
      ],
      "text/plain": [
       "<IPython.core.display.Markdown object>"
      ]
     },
     "metadata": {},
     "output_type": "display_data"
    },
    {
     "data": {
      "text/markdown": [
       "#### Urban"
      ],
      "text/plain": [
       "<IPython.core.display.Markdown object>"
      ]
     },
     "metadata": {},
     "output_type": "display_data"
    },
    {
     "name": "stdout",
     "output_type": "stream",
     "text": [
      "-------\n",
      "two\n",
      "half\n",
      "mine\n",
      "none\n",
      "rest\n",
      "second\n",
      "kind\n",
      "ones\n",
      "idea\n",
      "worries\n",
      "-------\n"
     ]
    },
    {
     "data": {
      "text/markdown": [
       "#### Rural"
      ],
      "text/plain": [
       "<IPython.core.display.Markdown object>"
      ]
     },
     "metadata": {},
     "output_type": "display_data"
    },
    {
     "name": "stdout",
     "output_type": "stream",
     "text": [
      "-------\n",
      "worries\n",
      "ones\n",
      "two\n",
      "ever\n",
      "kind\n",
      "doubt\n",
      "every\n",
      "idea\n",
      "meaning\n",
      "regrets\n",
      "-------\n"
     ]
    },
    {
     "data": {
      "text/markdown": [
       "# high"
      ],
      "text/plain": [
       "<IPython.core.display.Markdown object>"
      ]
     },
     "metadata": {},
     "output_type": "display_data"
    },
    {
     "data": {
      "text/markdown": [
       "#### Urban"
      ],
      "text/plain": [
       "<IPython.core.display.Markdown object>"
      ]
     },
     "metadata": {},
     "output_type": "display_data"
    },
    {
     "name": "stdout",
     "output_type": "stream",
     "text": [
      "----------\n",
      "low\n",
      "elementary\n",
      "grad\n",
      "higher\n",
      "tight\n",
      "lowest\n",
      "lower\n",
      "middle\n",
      "solid\n",
      "drunk\n",
      "----------\n"
     ]
    },
    {
     "data": {
      "text/markdown": [
       "#### Rural"
      ],
      "text/plain": [
       "<IPython.core.display.Markdown object>"
      ]
     },
     "metadata": {},
     "output_type": "display_data"
    },
    {
     "name": "stdout",
     "output_type": "stream",
     "text": [
      "----------\n",
      "elementary\n",
      "low\n",
      "middle\n",
      "record\n",
      "windy\n",
      "varsity\n",
      "nevada\n",
      "district\n",
      "technical\n",
      "hs\n",
      "----------\n"
     ]
    },
    {
     "data": {
      "text/markdown": [
       "# without"
      ],
      "text/plain": [
       "<IPython.core.display.Markdown object>"
      ]
     },
     "metadata": {},
     "output_type": "display_data"
    },
    {
     "data": {
      "text/markdown": [
       "#### Urban"
      ],
      "text/plain": [
       "<IPython.core.display.Markdown object>"
      ]
     },
     "metadata": {},
     "output_type": "display_data"
    },
    {
     "name": "stdout",
     "output_type": "stream",
     "text": [
      "-------\n",
      "justify\n",
      "imagine\n",
      "or\n",
      "towards\n",
      "besides\n",
      "prevent\n",
      "despite\n",
      "with\n",
      "through\n",
      "for\n",
      "-------\n"
     ]
    },
    {
     "data": {
      "text/markdown": [
       "#### Rural"
      ],
      "text/plain": [
       "<IPython.core.display.Markdown object>"
      ]
     },
     "metadata": {},
     "output_type": "display_data"
    },
    {
     "name": "stdout",
     "output_type": "stream",
     "text": [
      "-------\n",
      "imagine\n",
      "towards\n",
      "besides\n",
      "within\n",
      "with\n",
      "or\n",
      "through\n",
      "rather\n",
      "after\n",
      "unless\n",
      "-------\n"
     ]
    },
    {
     "data": {
      "text/markdown": [
       "# interested"
      ],
      "text/plain": [
       "<IPython.core.display.Markdown object>"
      ]
     },
     "metadata": {},
     "output_type": "display_data"
    },
    {
     "data": {
      "text/markdown": [
       "#### Urban"
      ],
      "text/plain": [
       "<IPython.core.display.Markdown object>"
      ]
     },
     "metadata": {},
     "output_type": "display_data"
    },
    {
     "name": "stdout",
     "output_type": "stream",
     "text": [
      "-----------\n",
      "participate\n",
      "particular\n",
      "general\n",
      "involved\n",
      "included\n",
      "recommend\n",
      "trouble\n",
      "helpful\n",
      "useful\n",
      "case\n",
      "-----------\n"
     ]
    },
    {
     "data": {
      "text/markdown": [
       "#### Rural"
      ],
      "text/plain": [
       "<IPython.core.display.Markdown object>"
      ]
     },
     "metadata": {},
     "output_type": "display_data"
    },
    {
     "name": "stdout",
     "output_type": "stream",
     "text": [
      "-------------\n",
      "participating\n",
      "pa\n",
      "area\n",
      "md\n",
      "il\n",
      "ak\n",
      "recommend\n",
      "fl\n",
      "bookstore\n",
      "particular\n",
      "-------------\n"
     ]
    },
    {
     "data": {
      "text/markdown": [
       "# at"
      ],
      "text/plain": [
       "<IPython.core.display.Markdown object>"
      ]
     },
     "metadata": {},
     "output_type": "display_data"
    },
    {
     "data": {
      "text/markdown": [
       "#### Urban"
      ],
      "text/plain": [
       "<IPython.core.display.Markdown object>"
      ]
     },
     "metadata": {},
     "output_type": "display_data"
    },
    {
     "name": "stdout",
     "output_type": "stream",
     "text": [
      "---------\n",
      "near\n",
      "tmrw\n",
      "in\n",
      "during\n",
      "forward\n",
      "outside\n",
      "fri\n",
      "attending\n",
      "saturday\n",
      "from\n",
      "---------\n"
     ]
    },
    {
     "data": {
      "text/markdown": [
       "#### Rural"
      ],
      "text/plain": [
       "<IPython.core.display.Markdown object>"
      ]
     },
     "metadata": {},
     "output_type": "display_data"
    },
    {
     "name": "stdout",
     "output_type": "stream",
     "text": [
      "--------\n",
      "cedar\n",
      "pst\n",
      "fri\n",
      "sat\n",
      "hosts\n",
      "thurs\n",
      "till\n",
      "wed\n",
      "after\n",
      "district\n",
      "--------\n"
     ]
    },
    {
     "data": {
      "text/markdown": [
       "# search"
      ],
      "text/plain": [
       "<IPython.core.display.Markdown object>"
      ]
     },
     "metadata": {},
     "output_type": "display_data"
    },
    {
     "data": {
      "text/markdown": [
       "#### Urban"
      ],
      "text/plain": [
       "<IPython.core.display.Markdown object>"
      ]
     },
     "metadata": {},
     "output_type": "display_data"
    },
    {
     "name": "stdout",
     "output_type": "stream",
     "text": [
      "---------\n",
      "google\n",
      "bbc\n",
      "report\n",
      "cbs\n",
      "breach\n",
      "abc\n",
      "analytics\n",
      "yahoo\n",
      "seo\n",
      "newspaper\n",
      "---------\n"
     ]
    },
    {
     "data": {
      "text/markdown": [
       "#### Rural"
      ],
      "text/plain": [
       "<IPython.core.display.Markdown object>"
      ]
     },
     "metadata": {},
     "output_type": "display_data"
    },
    {
     "name": "stdout",
     "output_type": "stream",
     "text": [
      "---------\n",
      "google\n",
      "maps\n",
      "software\n",
      "mobile\n",
      "user\n",
      "seo\n",
      "searching\n",
      "sites\n",
      "files\n",
      "marketing\n",
      "---------\n"
     ]
    },
    {
     "data": {
      "text/markdown": [
       "# rich"
      ],
      "text/plain": [
       "<IPython.core.display.Markdown object>"
      ]
     },
     "metadata": {},
     "output_type": "display_data"
    },
    {
     "data": {
      "text/markdown": [
       "#### Urban"
      ],
      "text/plain": [
       "<IPython.core.display.Markdown object>"
      ]
     },
     "metadata": {},
     "output_type": "display_data"
    },
    {
     "name": "stdout",
     "output_type": "stream",
     "text": [
      "-----------\n",
      "wealthy\n",
      "greedy\n",
      "billionaire\n",
      "poor\n",
      "selfish\n",
      "millionaire\n",
      "young\n",
      "educated\n",
      "spoiled\n",
      "filthy\n",
      "-----------\n"
     ]
    },
    {
     "data": {
      "text/markdown": [
       "#### Rural"
      ],
      "text/plain": [
       "<IPython.core.display.Markdown object>"
      ]
     },
     "metadata": {},
     "output_type": "display_data"
    },
    {
     "name": "stdout",
     "output_type": "stream",
     "text": [
      "---------\n",
      "educated\n",
      "poor\n",
      "heartless\n",
      "funded\n",
      "spoiled\n",
      "young\n",
      "selfish\n",
      "corrupt\n",
      "seth\n",
      "smart\n",
      "---------\n"
     ]
    },
    {
     "data": {
      "text/markdown": [
       "# note"
      ],
      "text/plain": [
       "<IPython.core.display.Markdown object>"
      ]
     },
     "metadata": {},
     "output_type": "display_data"
    },
    {
     "data": {
      "text/markdown": [
       "#### Urban"
      ],
      "text/plain": [
       "<IPython.core.display.Markdown object>"
      ]
     },
     "metadata": {},
     "output_type": "display_data"
    },
    {
     "name": "stdout",
     "output_type": "stream",
     "text": [
      "---------\n",
      "hint\n",
      "penalty\n",
      "test\n",
      "notes\n",
      "condition\n",
      "task\n",
      "effect\n",
      "picture\n",
      "level\n",
      "trigger\n",
      "---------\n"
     ]
    },
    {
     "data": {
      "text/markdown": [
       "#### Rural"
      ],
      "text/plain": [
       "<IPython.core.display.Markdown object>"
      ]
     },
     "metadata": {},
     "output_type": "display_data"
    },
    {
     "name": "stdout",
     "output_type": "stream",
     "text": [
      "----------\n",
      "notes\n",
      "letter\n",
      "survey\n",
      "message\n",
      "advice\n",
      "poem\n",
      "test\n",
      "photograph\n",
      "subject\n",
      "picture\n",
      "----------\n"
     ]
    },
    {
     "data": {
      "text/markdown": [
       "# than"
      ],
      "text/plain": [
       "<IPython.core.display.Markdown object>"
      ]
     },
     "metadata": {},
     "output_type": "display_data"
    },
    {
     "data": {
      "text/markdown": [
       "#### Urban"
      ],
      "text/plain": [
       "<IPython.core.display.Markdown object>"
      ]
     },
     "metadata": {},
     "output_type": "display_data"
    },
    {
     "name": "stdout",
     "output_type": "stream",
     "text": [
      "-----------\n",
      "slightly\n",
      "compared\n",
      "sagittarius\n",
      "significant\n",
      "pisces\n",
      "besides\n",
      "capricorn\n",
      "likely\n",
      "libra\n",
      "gemini\n",
      "-----------\n"
     ]
    },
    {
     "data": {
      "text/markdown": [
       "#### Rural"
      ],
      "text/plain": [
       "<IPython.core.display.Markdown object>"
      ]
     },
     "metadata": {},
     "output_type": "display_data"
    },
    {
     "name": "stdout",
     "output_type": "stream",
     "text": [
      "-----------\n",
      "compared\n",
      "besides\n",
      "slightly\n",
      "or\n",
      "unlike\n",
      "likely\n",
      "becoming\n",
      "significant\n",
      "then\n",
      "even\n",
      "-----------\n"
     ]
    },
    {
     "data": {
      "text/markdown": [
       "# pre"
      ],
      "text/plain": [
       "<IPython.core.display.Markdown object>"
      ]
     },
     "metadata": {},
     "output_type": "display_data"
    },
    {
     "data": {
      "text/markdown": [
       "#### Urban"
      ],
      "text/plain": [
       "<IPython.core.display.Markdown object>"
      ]
     },
     "metadata": {},
     "output_type": "display_data"
    },
    {
     "name": "stdout",
     "output_type": "stream",
     "text": [
      "---------\n",
      "packages\n",
      "custom\n",
      "dvd\n",
      "limited\n",
      "1st\n",
      "premium\n",
      "prep\n",
      "tmrw\n",
      "canceled\n",
      "cancelled\n",
      "---------\n"
     ]
    },
    {
     "data": {
      "text/markdown": [
       "#### Rural"
      ],
      "text/plain": [
       "<IPython.core.display.Markdown object>"
      ]
     },
     "metadata": {},
     "output_type": "display_data"
    },
    {
     "name": "stdout",
     "output_type": "stream",
     "text": [
      "------------\n",
      "upcoming\n",
      "pricing\n",
      "online\n",
      "deadline\n",
      "custom\n",
      "prior\n",
      "regular\n",
      "prep\n",
      "registration\n",
      "clearance\n",
      "------------\n"
     ]
    },
    {
     "data": {
      "text/markdown": [
       "# by"
      ],
      "text/plain": [
       "<IPython.core.display.Markdown object>"
      ]
     },
     "metadata": {},
     "output_type": "display_data"
    },
    {
     "data": {
      "text/markdown": [
       "#### Urban"
      ],
      "text/plain": [
       "<IPython.core.display.Markdown object>"
      ]
     },
     "metadata": {},
     "output_type": "display_data"
    },
    {
     "name": "stdout",
     "output_type": "stream",
     "text": [
      "------------\n",
      "from\n",
      "amp\n",
      "ft\n",
      "feat\n",
      "via\n",
      "x\n",
      "remix\n",
      "radio\n",
      "beautifully\n",
      "instrumental\n",
      "------------\n"
     ]
    },
    {
     "data": {
      "text/markdown": [
       "#### Rural"
      ],
      "text/plain": [
       "<IPython.core.display.Markdown object>"
      ]
     },
     "metadata": {},
     "output_type": "display_data"
    },
    {
     "name": "stdout",
     "output_type": "stream",
     "text": [
      "-------\n",
      "from\n",
      "amp\n",
      "via\n",
      "multi\n",
      "vintage\n",
      "x\n",
      "wood\n",
      "thus\n",
      "brown\n",
      "toward\n",
      "-------\n"
     ]
    },
    {
     "data": {
      "text/markdown": [
       "# gay"
      ],
      "text/plain": [
       "<IPython.core.display.Markdown object>"
      ]
     },
     "metadata": {},
     "output_type": "display_data"
    },
    {
     "data": {
      "text/markdown": [
       "#### Urban"
      ],
      "text/plain": [
       "<IPython.core.display.Markdown object>"
      ]
     },
     "metadata": {},
     "output_type": "display_data"
    },
    {
     "name": "stdout",
     "output_type": "stream",
     "text": [
      "--------\n",
      "trans\n",
      "queer\n",
      "feminist\n",
      "sexist\n",
      "hispanic\n",
      "racist\n",
      "sexually\n",
      "jewish\n",
      "rude\n",
      "asian\n",
      "--------\n"
     ]
    },
    {
     "data": {
      "text/markdown": [
       "#### Rural"
      ],
      "text/plain": [
       "<IPython.core.display.Markdown object>"
      ]
     },
     "metadata": {},
     "output_type": "display_data"
    },
    {
     "name": "stdout",
     "output_type": "stream",
     "text": [
      "-------------\n",
      "retarded\n",
      "trans\n",
      "rude\n",
      "dumb\n",
      "racist\n",
      "mature\n",
      "immature\n",
      "lesbian\n",
      "disrespectful\n",
      "silly\n",
      "-------------\n"
     ]
    },
    {
     "data": {
      "text/markdown": [
       "# view"
      ],
      "text/plain": [
       "<IPython.core.display.Markdown object>"
      ]
     },
     "metadata": {},
     "output_type": "display_data"
    },
    {
     "data": {
      "text/markdown": [
       "#### Urban"
      ],
      "text/plain": [
       "<IPython.core.display.Markdown object>"
      ]
     },
     "metadata": {},
     "output_type": "display_data"
    },
    {
     "name": "stdout",
     "output_type": "stream",
     "text": [
      "--------------\n",
      "landscape\n",
      "desert\n",
      "neighborhood\n",
      "malibu\n",
      "representation\n",
      "northern\n",
      "hike\n",
      "map\n",
      "backyard\n",
      "venice\n",
      "--------------\n"
     ]
    },
    {
     "data": {
      "text/markdown": [
       "#### Rural"
      ],
      "text/plain": [
       "<IPython.core.display.Markdown object>"
      ]
     },
     "metadata": {},
     "output_type": "display_data"
    },
    {
     "name": "stdout",
     "output_type": "stream",
     "text": [
      "---------\n",
      "location\n",
      "display\n",
      "listing\n",
      "ca\n",
      "land\n",
      "selection\n",
      "md\n",
      "village\n",
      "ak\n",
      "views\n",
      "---------\n"
     ]
    },
    {
     "data": {
      "text/markdown": [
       "# speed"
      ],
      "text/plain": [
       "<IPython.core.display.Markdown object>"
      ]
     },
     "metadata": {},
     "output_type": "display_data"
    },
    {
     "data": {
      "text/markdown": [
       "#### Urban"
      ],
      "text/plain": [
       "<IPython.core.display.Markdown object>"
      ]
     },
     "metadata": {},
     "output_type": "display_data"
    },
    {
     "name": "stdout",
     "output_type": "stream",
     "text": [
      "------------\n",
      "volume\n",
      "iq\n",
      "fuel\n",
      "battery\n",
      "rail\n",
      "capacity\n",
      "signal\n",
      "equipment\n",
      "expectations\n",
      "command\n",
      "------------\n"
     ]
    },
    {
     "data": {
      "text/markdown": [
       "#### Rural"
      ],
      "text/plain": [
       "<IPython.core.display.Markdown object>"
      ]
     },
     "metadata": {},
     "output_type": "display_data"
    },
    {
     "name": "stdout",
     "output_type": "stream",
     "text": [
      "----------\n",
      "fuel\n",
      "powered\n",
      "power\n",
      "iq\n",
      "gap\n",
      "1mph\n",
      "rate\n",
      "height\n",
      "solar\n",
      "confidence\n",
      "----------\n"
     ]
    },
    {
     "data": {
      "text/markdown": [
       "# forward"
      ],
      "text/plain": [
       "<IPython.core.display.Markdown object>"
      ]
     },
     "metadata": {},
     "output_type": "display_data"
    },
    {
     "data": {
      "text/markdown": [
       "#### Urban"
      ],
      "text/plain": [
       "<IPython.core.display.Markdown object>"
      ]
     },
     "metadata": {},
     "output_type": "display_data"
    },
    {
     "name": "stdout",
     "output_type": "stream",
     "text": [
      "--------\n",
      "start\n",
      "closer\n",
      "begin\n",
      "continue\n",
      "for\n",
      "enjoy\n",
      "at\n",
      "into\n",
      "fabulous\n",
      "along\n",
      "--------\n"
     ]
    },
    {
     "data": {
      "text/markdown": [
       "#### Rural"
      ],
      "text/plain": [
       "<IPython.core.display.Markdown object>"
      ]
     },
     "metadata": {},
     "output_type": "display_data"
    },
    {
     "name": "stdout",
     "output_type": "stream",
     "text": [
      "---------\n",
      "closer\n",
      "start\n",
      "begin\n",
      "for\n",
      "enjoyed\n",
      "familiar\n",
      "continue\n",
      "after\n",
      "celebrate\n",
      "back\n",
      "---------\n"
     ]
    },
    {
     "data": {
      "text/markdown": [
       "# co"
      ],
      "text/plain": [
       "<IPython.core.display.Markdown object>"
      ]
     },
     "metadata": {},
     "output_type": "display_data"
    },
    {
     "data": {
      "text/markdown": [
       "#### Urban"
      ],
      "text/plain": [
       "<IPython.core.display.Markdown object>"
      ]
     },
     "metadata": {},
     "output_type": "display_data"
    },
    {
     "name": "stdout",
     "output_type": "stream",
     "text": [
      "---------\n",
      "inc\n",
      "partners\n",
      "ceo\n",
      "llc\n",
      "company\n",
      "warehouse\n",
      "producer\n",
      "vice\n",
      "former\n",
      "director\n",
      "---------\n"
     ]
    },
    {
     "data": {
      "text/markdown": [
       "#### Rural"
      ],
      "text/plain": [
       "<IPython.core.display.Markdown object>"
      ]
     },
     "metadata": {},
     "output_type": "display_data"
    },
    {
     "name": "stdout",
     "output_type": "stream",
     "text": [
      "------\n",
      "county\n",
      "nj\n",
      "va\n",
      "rd\n",
      "md\n",
      "ct\n",
      "valley\n",
      "ia\n",
      "mount\n",
      "port\n",
      "------\n"
     ]
    },
    {
     "data": {
      "text/markdown": [
       "# recommend"
      ],
      "text/plain": [
       "<IPython.core.display.Markdown object>"
      ]
     },
     "metadata": {},
     "output_type": "display_data"
    },
    {
     "data": {
      "text/markdown": [
       "#### Urban"
      ],
      "text/plain": [
       "<IPython.core.display.Markdown object>"
      ]
     },
     "metadata": {},
     "output_type": "display_data"
    },
    {
     "name": "stdout",
     "output_type": "stream",
     "text": [
      "-----------\n",
      "fit\n",
      "recommended\n",
      "suggest\n",
      "thank\n",
      "associate\n",
      "interested\n",
      "technician\n",
      "believe\n",
      "pharmacy\n",
      "blame\n",
      "-----------\n"
     ]
    },
    {
     "data": {
      "text/markdown": [
       "#### Rural"
      ],
      "text/plain": [
       "<IPython.core.display.Markdown object>"
      ]
     },
     "metadata": {},
     "output_type": "display_data"
    },
    {
     "name": "stdout",
     "output_type": "stream",
     "text": [
      "-----------\n",
      "suggest\n",
      "recommended\n",
      "fit\n",
      "associate\n",
      "interested\n",
      "thank\n",
      "physician\n",
      "hire\n",
      "relate\n",
      "residential\n",
      "-----------\n"
     ]
    },
    {
     "data": {
      "text/markdown": [
       "# based"
      ],
      "text/plain": [
       "<IPython.core.display.Markdown object>"
      ]
     },
     "metadata": {},
     "output_type": "display_data"
    },
    {
     "data": {
      "text/markdown": [
       "#### Urban"
      ],
      "text/plain": [
       "<IPython.core.display.Markdown object>"
      ]
     },
     "metadata": {},
     "output_type": "display_data"
    },
    {
     "name": "stdout",
     "output_type": "stream",
     "text": [
      "----------\n",
      "depending\n",
      "focusing\n",
      "rely\n",
      "focus\n",
      "depends\n",
      "purpose\n",
      "cultural\n",
      "publishing\n",
      "reflect\n",
      "historical\n",
      "----------\n"
     ]
    },
    {
     "data": {
      "text/markdown": [
       "#### Rural"
      ],
      "text/plain": [
       "<IPython.core.display.Markdown object>"
      ]
     },
     "metadata": {},
     "output_type": "display_data"
    },
    {
     "name": "stdout",
     "output_type": "stream",
     "text": [
      "----------\n",
      "focusing\n",
      "depends\n",
      "focus\n",
      "rely\n",
      "developing\n",
      "impact\n",
      "influence\n",
      "economic\n",
      "specific\n",
      "analysis\n",
      "----------\n"
     ]
    },
    {
     "data": {
      "text/markdown": [
       "# forever"
      ],
      "text/plain": [
       "<IPython.core.display.Markdown object>"
      ]
     },
     "metadata": {},
     "output_type": "display_data"
    },
    {
     "data": {
      "text/markdown": [
       "#### Urban"
      ],
      "text/plain": [
       "<IPython.core.display.Markdown object>"
      ]
     },
     "metadata": {},
     "output_type": "display_data"
    },
    {
     "name": "stdout",
     "output_type": "stream",
     "text": [
      "---------\n",
      "always\n",
      "never\n",
      "happily\n",
      "awhile\n",
      "life\n",
      "lonely\n",
      "ever\n",
      "blessings\n",
      "die\n",
      "savage\n",
      "---------\n"
     ]
    },
    {
     "data": {
      "text/markdown": [
       "#### Rural"
      ],
      "text/plain": [
       "<IPython.core.display.Markdown object>"
      ]
     },
     "metadata": {},
     "output_type": "display_data"
    },
    {
     "name": "stdout",
     "output_type": "stream",
     "text": [
      "----------\n",
      "always\n",
      "never\n",
      "awhile\n",
      "mine\n",
      "life\n",
      "bestfriend\n",
      "ever\n",
      "tears\n",
      "promise\n",
      "nowplaying\n",
      "----------\n"
     ]
    },
    {
     "data": {
      "text/markdown": [
       "# character"
      ],
      "text/plain": [
       "<IPython.core.display.Markdown object>"
      ]
     },
     "metadata": {},
     "output_type": "display_data"
    },
    {
     "data": {
      "text/markdown": [
       "#### Urban"
      ],
      "text/plain": [
       "<IPython.core.display.Markdown object>"
      ]
     },
     "metadata": {},
     "output_type": "display_data"
    },
    {
     "name": "stdout",
     "output_type": "stream",
     "text": [
      "-----------\n",
      "villain\n",
      "characters\n",
      "personality\n",
      "fandom\n",
      "genre\n",
      "role\n",
      "actor\n",
      "superhero\n",
      "cartoon\n",
      "script\n",
      "-----------\n"
     ]
    },
    {
     "data": {
      "text/markdown": [
       "#### Rural"
      ],
      "text/plain": [
       "<IPython.core.display.Markdown object>"
      ]
     },
     "metadata": {},
     "output_type": "display_data"
    },
    {
     "name": "stdout",
     "output_type": "stream",
     "text": [
      "-----------\n",
      "personality\n",
      "characters\n",
      "actor\n",
      "imagination\n",
      "comparison\n",
      "belief\n",
      "phrase\n",
      "reference\n",
      "role\n",
      "concept\n",
      "-----------\n"
     ]
    },
    {
     "data": {
      "text/markdown": [
       "# artist"
      ],
      "text/plain": [
       "<IPython.core.display.Markdown object>"
      ]
     },
     "metadata": {},
     "output_type": "display_data"
    },
    {
     "data": {
      "text/markdown": [
       "#### Urban"
      ],
      "text/plain": [
       "<IPython.core.display.Markdown object>"
      ]
     },
     "metadata": {},
     "output_type": "display_data"
    },
    {
     "name": "stdout",
     "output_type": "stream",
     "text": [
      "---------\n",
      "artists\n",
      "singer\n",
      "icon\n",
      "musicians\n",
      "indie\n",
      "actor\n",
      "producer\n",
      "dancer\n",
      "rapper\n",
      "producers\n",
      "---------\n"
     ]
    },
    {
     "data": {
      "text/markdown": [
       "#### Rural"
      ],
      "text/plain": [
       "<IPython.core.display.Markdown object>"
      ]
     },
     "metadata": {},
     "output_type": "display_data"
    },
    {
     "name": "stdout",
     "output_type": "stream",
     "text": [
      "---------\n",
      "actress\n",
      "icon\n",
      "artists\n",
      "singer\n",
      "actor\n",
      "writer\n",
      "celebrity\n",
      "athlete\n",
      "bts\n",
      "author\n",
      "---------\n"
     ]
    },
    {
     "data": {
      "text/markdown": [
       "# senior"
      ],
      "text/plain": [
       "<IPython.core.display.Markdown object>"
      ]
     },
     "metadata": {},
     "output_type": "display_data"
    },
    {
     "data": {
      "text/markdown": [
       "#### Urban"
      ],
      "text/plain": [
       "<IPython.core.display.Markdown object>"
      ]
     },
     "metadata": {},
     "output_type": "display_data"
    },
    {
     "name": "stdout",
     "output_type": "stream",
     "text": [
      "-----------\n",
      "junior\n",
      "principal\n",
      "accounting\n",
      "intern\n",
      "grad\n",
      "coordinator\n",
      "manager\n",
      "assistant\n",
      "engineering\n",
      "specialist\n",
      "-----------\n"
     ]
    },
    {
     "data": {
      "text/markdown": [
       "#### Rural"
      ],
      "text/plain": [
       "<IPython.core.display.Markdown object>"
      ]
     },
     "metadata": {},
     "output_type": "display_data"
    },
    {
     "name": "stdout",
     "output_type": "stream",
     "text": [
      "-----------\n",
      "junior\n",
      "sophomore\n",
      "freshman\n",
      "freshmen\n",
      "grad\n",
      "graduation\n",
      "homecoming\n",
      "seniors\n",
      "graduating\n",
      "scholarship\n",
      "-----------\n"
     ]
    },
    {
     "data": {
      "text/markdown": [
       "# luck"
      ],
      "text/plain": [
       "<IPython.core.display.Markdown object>"
      ]
     },
     "metadata": {},
     "output_type": "display_data"
    },
    {
     "data": {
      "text/markdown": [
       "#### Urban"
      ],
      "text/plain": [
       "<IPython.core.display.Markdown object>"
      ]
     },
     "metadata": {},
     "output_type": "display_data"
    },
    {
     "name": "stdout",
     "output_type": "stream",
     "text": [
      "----------\n",
      "vibes\n",
      "intentions\n",
      "grades\n",
      "wishes\n",
      "ol\n",
      "hugs\n",
      "memories\n",
      "ole\n",
      "timing\n",
      "job\n",
      "----------\n"
     ]
    },
    {
     "data": {
      "text/markdown": [
       "#### Rural"
      ],
      "text/plain": [
       "<IPython.core.display.Markdown object>"
      ]
     },
     "metadata": {},
     "output_type": "display_data"
    },
    {
     "name": "stdout",
     "output_type": "stream",
     "text": [
      "---------------\n",
      "vibes\n",
      "congrats\n",
      "teammates\n",
      "wishes\n",
      "job\n",
      "ol\n",
      "intentions\n",
      "congratulations\n",
      "meet\n",
      "coaches\n",
      "---------------\n"
     ]
    },
    {
     "data": {
      "text/markdown": [
       "# model"
      ],
      "text/plain": [
       "<IPython.core.display.Markdown object>"
      ]
     },
     "metadata": {},
     "output_type": "display_data"
    },
    {
     "data": {
      "text/markdown": [
       "#### Urban"
      ],
      "text/plain": [
       "<IPython.core.display.Markdown object>"
      ]
     },
     "metadata": {},
     "output_type": "display_data"
    },
    {
     "name": "stdout",
     "output_type": "stream",
     "text": [
      "------------\n",
      "models\n",
      "designer\n",
      "photographer\n",
      "dancer\n",
      "design\n",
      "actress\n",
      "developer\n",
      "designers\n",
      "bikini\n",
      "latina\n",
      "------------\n"
     ]
    },
    {
     "data": {
      "text/markdown": [
       "#### Rural"
      ],
      "text/plain": [
       "<IPython.core.display.Markdown object>"
      ]
     },
     "metadata": {},
     "output_type": "display_data"
    },
    {
     "name": "stdout",
     "output_type": "stream",
     "text": [
      "--------\n",
      "models\n",
      "designer\n",
      "design\n",
      "3d\n",
      "actress\n",
      "oc\n",
      "engineer\n",
      "luxury\n",
      "film\n",
      "graphic\n",
      "--------\n"
     ]
    },
    {
     "data": {
      "text/markdown": [
       "# full"
      ],
      "text/plain": [
       "<IPython.core.display.Markdown object>"
      ]
     },
     "metadata": {},
     "output_type": "display_data"
    },
    {
     "data": {
      "text/markdown": [
       "#### Urban"
      ],
      "text/plain": [
       "<IPython.core.display.Markdown object>"
      ]
     },
     "metadata": {},
     "output_type": "display_data"
    },
    {
     "name": "stdout",
     "output_type": "stream",
     "text": [
      "--------\n",
      "limited\n",
      "total\n",
      "whole\n",
      "complete\n",
      "wasted\n",
      "short\n",
      "courtesy\n",
      "regular\n",
      "every\n",
      "entire\n",
      "--------\n"
     ]
    },
    {
     "data": {
      "text/markdown": [
       "#### Rural"
      ],
      "text/plain": [
       "<IPython.core.display.Markdown object>"
      ]
     },
     "metadata": {},
     "output_type": "display_data"
    },
    {
     "name": "stdout",
     "output_type": "stream",
     "text": [
      "----------\n",
      "complete\n",
      "short\n",
      "variety\n",
      "limited\n",
      "production\n",
      "premiere\n",
      "regular\n",
      "whole\n",
      "thrones\n",
      "ton\n",
      "----------\n"
     ]
    },
    {
     "data": {
      "text/markdown": [
       "# bowl"
      ],
      "text/plain": [
       "<IPython.core.display.Markdown object>"
      ]
     },
     "metadata": {},
     "output_type": "display_data"
    },
    {
     "data": {
      "text/markdown": [
       "#### Urban"
      ],
      "text/plain": [
       "<IPython.core.display.Markdown object>"
      ]
     },
     "metadata": {},
     "output_type": "display_data"
    },
    {
     "name": "stdout",
     "output_type": "stream",
     "text": [
      "--------\n",
      "mario\n",
      "derby\n",
      "rodeo\n",
      "cup\n",
      "pool\n",
      "oscars\n",
      "halftime\n",
      "cocktail\n",
      "playoff\n",
      "fiesta\n",
      "--------\n"
     ]
    },
    {
     "data": {
      "text/markdown": [
       "#### Rural"
      ],
      "text/plain": [
       "<IPython.core.display.Markdown object>"
      ]
     },
     "metadata": {},
     "output_type": "display_data"
    },
    {
     "name": "stdout",
     "output_type": "stream",
     "text": [
      "--------\n",
      "mario\n",
      "playoff\n",
      "playoffs\n",
      "cup\n",
      "pats\n",
      "falcons\n",
      "packers\n",
      "lottery\n",
      "stadium\n",
      "dolphins\n",
      "--------\n"
     ]
    },
    {
     "data": {
      "text/markdown": [
       "# wait"
      ],
      "text/plain": [
       "<IPython.core.display.Markdown object>"
      ]
     },
     "metadata": {},
     "output_type": "display_data"
    },
    {
     "data": {
      "text/markdown": [
       "#### Urban"
      ],
      "text/plain": [
       "<IPython.core.display.Markdown object>"
      ]
     },
     "metadata": {},
     "output_type": "display_data"
    },
    {
     "name": "stdout",
     "output_type": "stream",
     "text": [
      "---------\n",
      "relate\n",
      "afford\n",
      "countdown\n",
      "breathe\n",
      "sleep\n",
      "waiting\n",
      "decide\n",
      "believe\n",
      "come\n",
      "excited\n",
      "---------\n"
     ]
    },
    {
     "data": {
      "text/markdown": [
       "#### Rural"
      ],
      "text/plain": [
       "<IPython.core.display.Markdown object>"
      ]
     },
     "metadata": {},
     "output_type": "display_data"
    },
    {
     "name": "stdout",
     "output_type": "stream",
     "text": [
      "-------\n",
      "relate\n",
      "sleep\n",
      "breathe\n",
      "afford\n",
      "excited\n",
      "come\n",
      "waiting\n",
      "pumped\n",
      "ready\n",
      "yay\n",
      "-------\n"
     ]
    },
    {
     "data": {
      "text/markdown": [
       "# while"
      ],
      "text/plain": [
       "<IPython.core.display.Markdown object>"
      ]
     },
     "metadata": {},
     "output_type": "display_data"
    },
    {
     "data": {
      "text/markdown": [
       "#### Urban"
      ],
      "text/plain": [
       "<IPython.core.display.Markdown object>"
      ]
     },
     "metadata": {},
     "output_type": "display_data"
    },
    {
     "name": "stdout",
     "output_type": "stream",
     "text": [
      "---------\n",
      "and\n",
      "awhile\n",
      "when\n",
      "currently\n",
      "before\n",
      "meanwhile\n",
      "after\n",
      "couch\n",
      "blast\n",
      "sitting\n",
      "---------\n"
     ]
    },
    {
     "data": {
      "text/markdown": [
       "#### Rural"
      ],
      "text/plain": [
       "<IPython.core.display.Markdown object>"
      ]
     },
     "metadata": {},
     "output_type": "display_data"
    },
    {
     "name": "stdout",
     "output_type": "stream",
     "text": [
      "---------\n",
      "and\n",
      "awhile\n",
      "when\n",
      "meanwhile\n",
      "basement\n",
      "before\n",
      "room\n",
      "because\n",
      "sitting\n",
      "cause\n",
      "---------\n"
     ]
    },
    {
     "data": {
      "text/markdown": [
       "# ft"
      ],
      "text/plain": [
       "<IPython.core.display.Markdown object>"
      ]
     },
     "metadata": {},
     "output_type": "display_data"
    },
    {
     "data": {
      "text/markdown": [
       "#### Urban"
      ],
      "text/plain": [
       "<IPython.core.display.Markdown object>"
      ]
     },
     "metadata": {},
     "output_type": "display_data"
    },
    {
     "name": "stdout",
     "output_type": "stream",
     "text": [
      "----------\n",
      "feat\n",
      "remix\n",
      "prod\n",
      "x\n",
      "nowplaying\n",
      "freestyle\n",
      "dj\n",
      "wiz\n",
      "chainz\n",
      "nas\n",
      "----------\n"
     ]
    },
    {
     "data": {
      "text/markdown": [
       "#### Rural"
      ],
      "text/plain": [
       "<IPython.core.display.Markdown object>"
      ]
     },
     "metadata": {},
     "output_type": "display_data"
    },
    {
     "name": "stdout",
     "output_type": "stream",
     "text": [
      "-----\n",
      "wvht\n",
      "feat\n",
      "remix\n",
      "swell\n",
      "apd\n",
      "pt\n",
      "wave\n",
      "dj\n",
      "wnw\n",
      "x\n",
      "-----\n"
     ]
    },
    {
     "data": {
      "text/markdown": [
       "# have"
      ],
      "text/plain": [
       "<IPython.core.display.Markdown object>"
      ]
     },
     "metadata": {},
     "output_type": "display_data"
    },
    {
     "data": {
      "text/markdown": [
       "#### Urban"
      ],
      "text/plain": [
       "<IPython.core.display.Markdown object>"
      ]
     },
     "metadata": {},
     "output_type": "display_data"
    },
    {
     "name": "stdout",
     "output_type": "stream",
     "text": [
      "-------\n",
      "ve\n",
      "exist\n",
      "expect\n",
      "give\n",
      "allow\n",
      "provide\n",
      "havent\n",
      "use\n",
      "get\n",
      "had\n",
      "-------\n"
     ]
    },
    {
     "data": {
      "text/markdown": [
       "#### Rural"
      ],
      "text/plain": [
       "<IPython.core.display.Markdown object>"
      ]
     },
     "metadata": {},
     "output_type": "display_data"
    },
    {
     "name": "stdout",
     "output_type": "stream",
     "text": [
      "------\n",
      "ve\n",
      "ive\n",
      "haven\n",
      "havent\n",
      "get\n",
      "had\n",
      "exist\n",
      "give\n",
      "allow\n",
      "having\n",
      "------\n"
     ]
    },
    {
     "data": {
      "text/markdown": [
       "# born"
      ],
      "text/plain": [
       "<IPython.core.display.Markdown object>"
      ]
     },
     "metadata": {},
     "output_type": "display_data"
    },
    {
     "data": {
      "text/markdown": [
       "#### Urban"
      ],
      "text/plain": [
       "<IPython.core.display.Markdown object>"
      ]
     },
     "metadata": {},
     "output_type": "display_data"
    },
    {
     "name": "stdout",
     "output_type": "stream",
     "text": [
      "----------\n",
      "adopted\n",
      "murdered\n",
      "raised\n",
      "raped\n",
      "celebrated\n",
      "jewish\n",
      "slaves\n",
      "married\n",
      "slavery\n",
      "rome\n",
      "----------\n"
     ]
    },
    {
     "data": {
      "text/markdown": [
       "#### Rural"
      ],
      "text/plain": [
       "<IPython.core.display.Markdown object>"
      ]
     },
     "metadata": {},
     "output_type": "display_data"
    },
    {
     "name": "stdout",
     "output_type": "stream",
     "text": [
      "--------\n",
      "murdered\n",
      "married\n",
      "raised\n",
      "alive\n",
      "adopted\n",
      "slavery\n",
      "jewish\n",
      "pregnant\n",
      "named\n",
      "sin\n",
      "--------\n"
     ]
    },
    {
     "data": {
      "text/markdown": [
       "# beginning"
      ],
      "text/plain": [
       "<IPython.core.display.Markdown object>"
      ]
     },
     "metadata": {},
     "output_type": "display_data"
    },
    {
     "data": {
      "text/markdown": [
       "#### Urban"
      ],
      "text/plain": [
       "<IPython.core.display.Markdown object>"
      ]
     },
     "metadata": {},
     "output_type": "display_data"
    },
    {
     "name": "stdout",
     "output_type": "stream",
     "text": [
      "---------\n",
      "opposite\n",
      "evolution\n",
      "ending\n",
      "cycle\n",
      "peak\n",
      "era\n",
      "moment\n",
      "universe\n",
      "meaning\n",
      "result\n",
      "---------\n"
     ]
    },
    {
     "data": {
      "text/markdown": [
       "#### Rural"
      ],
      "text/plain": [
       "<IPython.core.display.Markdown object>"
      ]
     },
     "metadata": {},
     "output_type": "display_data"
    },
    {
     "name": "stdout",
     "output_type": "stream",
     "text": [
      "---------\n",
      "starting\n",
      "evolution\n",
      "cycle\n",
      "chapter\n",
      "semester\n",
      "happening\n",
      "first\n",
      "result\n",
      "discovery\n",
      "preview\n",
      "---------\n"
     ]
    },
    {
     "data": {
      "text/markdown": [
       "# level"
      ],
      "text/plain": [
       "<IPython.core.display.Markdown object>"
      ]
     },
     "metadata": {},
     "output_type": "display_data"
    },
    {
     "data": {
      "text/markdown": [
       "#### Urban"
      ],
      "text/plain": [
       "<IPython.core.display.Markdown object>"
      ]
     },
     "metadata": {},
     "output_type": "display_data"
    },
    {
     "name": "stdout",
     "output_type": "stream",
     "text": [
      "----------\n",
      "levels\n",
      "scale\n",
      "iq\n",
      "generation\n",
      "speed\n",
      "capacity\n",
      "point\n",
      "wave\n",
      "height\n",
      "wheel\n",
      "----------\n"
     ]
    },
    {
     "data": {
      "text/markdown": [
       "#### Rural"
      ],
      "text/plain": [
       "<IPython.core.display.Markdown object>"
      ]
     },
     "metadata": {},
     "output_type": "display_data"
    },
    {
     "name": "stdout",
     "output_type": "stream",
     "text": [
      "-----------\n",
      "levels\n",
      "badge\n",
      "phase\n",
      "volume\n",
      "wave\n",
      "generation\n",
      "scale\n",
      "chapter\n",
      "wheel\n",
      "achievement\n",
      "-----------\n"
     ]
    },
    {
     "data": {
      "text/markdown": [
       "# yours"
      ],
      "text/plain": [
       "<IPython.core.display.Markdown object>"
      ]
     },
     "metadata": {},
     "output_type": "display_data"
    },
    {
     "data": {
      "text/markdown": [
       "#### Urban"
      ],
      "text/plain": [
       "<IPython.core.display.Markdown object>"
      ]
     },
     "metadata": {},
     "output_type": "display_data"
    },
    {
     "name": "stdout",
     "output_type": "stream",
     "text": [
      "---------\n",
      "repost\n",
      "mine\n",
      "your\n",
      "ours\n",
      "gift\n",
      "flowers\n",
      "prints\n",
      "gifts\n",
      "yourself\n",
      "happiness\n",
      "---------\n"
     ]
    },
    {
     "data": {
      "text/markdown": [
       "#### Rural"
      ],
      "text/plain": [
       "<IPython.core.display.Markdown object>"
      ]
     },
     "metadata": {},
     "output_type": "display_data"
    },
    {
     "name": "stdout",
     "output_type": "stream",
     "text": [
      "---------\n",
      "mine\n",
      "your\n",
      "ours\n",
      "yourself\n",
      "avon\n",
      "happiness\n",
      "you\n",
      "repost\n",
      "copy\n",
      "followers\n",
      "---------\n"
     ]
    },
    {
     "data": {
      "text/markdown": [
       "# yesterday"
      ],
      "text/plain": [
       "<IPython.core.display.Markdown object>"
      ]
     },
     "metadata": {},
     "output_type": "display_data"
    },
    {
     "data": {
      "text/markdown": [
       "#### Urban"
      ],
      "text/plain": [
       "<IPython.core.display.Markdown object>"
      ]
     },
     "metadata": {},
     "output_type": "display_data"
    },
    {
     "name": "stdout",
     "output_type": "stream",
     "text": [
      "------------\n",
      "earlier\n",
      "today\n",
      "recently\n",
      "almost\n",
      "originally\n",
      "last\n",
      "accidentally\n",
      "morning\n",
      "whoops\n",
      "oops\n",
      "------------\n"
     ]
    },
    {
     "data": {
      "text/markdown": [
       "#### Rural"
      ],
      "text/plain": [
       "<IPython.core.display.Markdown object>"
      ]
     },
     "metadata": {},
     "output_type": "display_data"
    },
    {
     "name": "stdout",
     "output_type": "stream",
     "text": [
      "------------\n",
      "earlier\n",
      "today\n",
      "almost\n",
      "last\n",
      "oops\n",
      "grandpa\n",
      "ago\n",
      "kindergarten\n",
      "grandma\n",
      "recently\n",
      "------------\n"
     ]
    },
    {
     "data": {
      "text/markdown": [
       "# for"
      ],
      "text/plain": [
       "<IPython.core.display.Markdown object>"
      ]
     },
     "metadata": {},
     "output_type": "display_data"
    },
    {
     "data": {
      "text/markdown": [
       "#### Urban"
      ],
      "text/plain": [
       "<IPython.core.display.Markdown object>"
      ]
     },
     "metadata": {},
     "output_type": "display_data"
    },
    {
     "name": "stdout",
     "output_type": "stream",
     "text": [
      "---------\n",
      "fo\n",
      "without\n",
      "with\n",
      "advance\n",
      "forward\n",
      "including\n",
      "during\n",
      "after\n",
      "within\n",
      "upon\n",
      "---------\n"
     ]
    },
    {
     "data": {
      "text/markdown": [
       "#### Rural"
      ],
      "text/plain": [
       "<IPython.core.display.Markdown object>"
      ]
     },
     "metadata": {},
     "output_type": "display_data"
    },
    {
     "name": "stdout",
     "output_type": "stream",
     "text": [
      "----------\n",
      "fo\n",
      "during\n",
      "including\n",
      "forward\n",
      "with\n",
      "after\n",
      "throughout\n",
      "enjoy\n",
      "towards\n",
      "spare\n",
      "----------\n"
     ]
    },
    {
     "data": {
      "text/markdown": [
       "# etc"
      ],
      "text/plain": [
       "<IPython.core.display.Markdown object>"
      ]
     },
     "metadata": {},
     "output_type": "display_data"
    },
    {
     "data": {
      "text/markdown": [
       "#### Urban"
      ],
      "text/plain": [
       "<IPython.core.display.Markdown object>"
      ]
     },
     "metadata": {},
     "output_type": "display_data"
    },
    {
     "name": "stdout",
     "output_type": "stream",
     "text": [
      "------------\n",
      "non\n",
      "related\n",
      "various\n",
      "their\n",
      "amp\n",
      "electronic\n",
      "multiple\n",
      "specifically\n",
      "traditional\n",
      "including\n",
      "------------\n"
     ]
    },
    {
     "data": {
      "text/markdown": [
       "#### Rural"
      ],
      "text/plain": [
       "<IPython.core.display.Markdown object>"
      ]
     },
     "metadata": {},
     "output_type": "display_data"
    },
    {
     "name": "stdout",
     "output_type": "stream",
     "text": [
      "---------\n",
      "non\n",
      "amp\n",
      "anti\n",
      "creates\n",
      "promote\n",
      "private\n",
      "foreign\n",
      "their\n",
      "political\n",
      "breitbart\n",
      "---------\n"
     ]
    },
    {
     "data": {
      "text/markdown": [
       "# base"
      ],
      "text/plain": [
       "<IPython.core.display.Markdown object>"
      ]
     },
     "metadata": {},
     "output_type": "display_data"
    },
    {
     "data": {
      "text/markdown": [
       "#### Urban"
      ],
      "text/plain": [
       "<IPython.core.display.Markdown object>"
      ]
     },
     "metadata": {},
     "output_type": "display_data"
    },
    {
     "name": "stdout",
     "output_type": "stream",
     "text": [
      "----------\n",
      "stance\n",
      "team\n",
      "bases\n",
      "defense\n",
      "potential\n",
      "jets\n",
      "agenda\n",
      "reputation\n",
      "salary\n",
      "backs\n",
      "----------\n"
     ]
    },
    {
     "data": {
      "text/markdown": [
       "#### Rural"
      ],
      "text/plain": [
       "<IPython.core.display.Markdown object>"
      ]
     },
     "metadata": {},
     "output_type": "display_data"
    },
    {
     "name": "stdout",
     "output_type": "stream",
     "text": [
      "-------\n",
      "bases\n",
      "inning\n",
      "runners\n",
      "pitch\n",
      "homer\n",
      "rbi\n",
      "line\n",
      "defense\n",
      "net\n",
      "bottom\n",
      "-------\n"
     ]
    },
    {
     "data": {
      "text/markdown": [
       "# results"
      ],
      "text/plain": [
       "<IPython.core.display.Markdown object>"
      ]
     },
     "metadata": {},
     "output_type": "display_data"
    },
    {
     "data": {
      "text/markdown": [
       "#### Urban"
      ],
      "text/plain": [
       "<IPython.core.display.Markdown object>"
      ]
     },
     "metadata": {},
     "output_type": "display_data"
    },
    {
     "name": "stdout",
     "output_type": "stream",
     "text": [
      "-------------\n",
      "opportunities\n",
      "analysis\n",
      "numbers\n",
      "losses\n",
      "earnings\n",
      "predictions\n",
      "data\n",
      "insights\n",
      "analytics\n",
      "strategies\n",
      "-------------\n"
     ]
    },
    {
     "data": {
      "text/markdown": [
       "#### Rural"
      ],
      "text/plain": [
       "<IPython.core.display.Markdown object>"
      ]
     },
     "metadata": {},
     "output_type": "display_data"
    },
    {
     "name": "stdout",
     "output_type": "stream",
     "text": [
      "-------------\n",
      "opportunities\n",
      "numbers\n",
      "highlights\n",
      "titles\n",
      "practices\n",
      "images\n",
      "candidates\n",
      "updates\n",
      "strategies\n",
      "analysis\n",
      "-------------\n"
     ]
    },
    {
     "data": {
      "text/markdown": [
       "# connect"
      ],
      "text/plain": [
       "<IPython.core.display.Markdown object>"
      ]
     },
     "metadata": {},
     "output_type": "display_data"
    },
    {
     "data": {
      "text/markdown": [
       "#### Urban"
      ],
      "text/plain": [
       "<IPython.core.display.Markdown object>"
      ]
     },
     "metadata": {},
     "output_type": "display_data"
    },
    {
     "name": "stdout",
     "output_type": "stream",
     "text": [
      "-----------\n",
      "share\n",
      "chat\n",
      "connecting\n",
      "follow\n",
      "assist\n",
      "communicate\n",
      "partnership\n",
      "hangout\n",
      "engage\n",
      "explore\n",
      "-----------\n"
     ]
    },
    {
     "data": {
      "text/markdown": [
       "#### Rural"
      ],
      "text/plain": [
       "<IPython.core.display.Markdown object>"
      ]
     },
     "metadata": {},
     "output_type": "display_data"
    },
    {
     "name": "stdout",
     "output_type": "stream",
     "text": [
      "-----------\n",
      "connecting\n",
      "opportunity\n",
      "chat\n",
      "url\n",
      "connected\n",
      "assist\n",
      "discuss\n",
      "feature\n",
      "insight\n",
      "engage\n",
      "-----------\n"
     ]
    },
    {
     "data": {
      "text/markdown": [
       "# its"
      ],
      "text/plain": [
       "<IPython.core.display.Markdown object>"
      ]
     },
     "metadata": {},
     "output_type": "display_data"
    },
    {
     "data": {
      "text/markdown": [
       "#### Urban"
      ],
      "text/plain": [
       "<IPython.core.display.Markdown object>"
      ]
     },
     "metadata": {},
     "output_type": "display_data"
    },
    {
     "name": "stdout",
     "output_type": "stream",
     "text": [
      "----------\n",
      "theyre\n",
      "hes\n",
      "thats\n",
      "capitalism\n",
      "shes\n",
      "itself\n",
      "entirely\n",
      "s\n",
      "mines\n",
      "youre\n",
      "----------\n"
     ]
    },
    {
     "data": {
      "text/markdown": [
       "#### Rural"
      ],
      "text/plain": [
       "<IPython.core.display.Markdown object>"
      ]
     },
     "metadata": {},
     "output_type": "display_data"
    },
    {
     "name": "stdout",
     "output_type": "stream",
     "text": [
      "------\n",
      "thats\n",
      "hes\n",
      "s\n",
      "is\n",
      "youre\n",
      "shes\n",
      "im\n",
      "exists\n",
      "it\n",
      "ur\n",
      "------\n"
     ]
    },
    {
     "data": {
      "text/markdown": [
       "# common"
      ],
      "text/plain": [
       "<IPython.core.display.Markdown object>"
      ]
     },
     "metadata": {},
     "output_type": "display_data"
    },
    {
     "data": {
      "text/markdown": [
       "#### Urban"
      ],
      "text/plain": [
       "<IPython.core.display.Markdown object>"
      ]
     },
     "metadata": {},
     "output_type": "display_data"
    },
    {
     "name": "stdout",
     "output_type": "stream",
     "text": [
      "-----------\n",
      "powerful\n",
      "empathy\n",
      "important\n",
      "dangerous\n",
      "effective\n",
      "particular\n",
      "practical\n",
      "basic\n",
      "absurd\n",
      "challenging\n",
      "-----------\n"
     ]
    },
    {
     "data": {
      "text/markdown": [
       "#### Rural"
      ],
      "text/plain": [
       "<IPython.core.display.Markdown object>"
      ]
     },
     "metadata": {},
     "output_type": "display_data"
    },
    {
     "name": "stdout",
     "output_type": "stream",
     "text": [
      "-------------\n",
      "powerful\n",
      "important\n",
      "disturbing\n",
      "humor\n",
      "moral\n",
      "specific\n",
      "dangerous\n",
      "understanding\n",
      "confusion\n",
      "particular\n",
      "-------------\n"
     ]
    },
    {
     "data": {
      "text/markdown": [
       "# temperature"
      ],
      "text/plain": [
       "<IPython.core.display.Markdown object>"
      ]
     },
     "metadata": {},
     "output_type": "display_data"
    },
    {
     "data": {
      "text/markdown": [
       "#### Urban"
      ],
      "text/plain": [
       "<IPython.core.display.Markdown object>"
      ]
     },
     "metadata": {},
     "output_type": "display_data"
    },
    {
     "name": "stdout",
     "output_type": "stream",
     "text": [
      "--------\n",
      "humidity\n",
      "0000\n",
      "wind\n",
      "clouds\n",
      "gmt\n",
      "temp\n",
      "km\n",
      "utc\n",
      "cloudy\n",
      "degrees\n",
      "--------\n"
     ]
    },
    {
     "data": {
      "text/markdown": [
       "#### Rural"
      ],
      "text/plain": [
       "<IPython.core.display.Markdown object>"
      ]
     },
     "metadata": {},
     "output_type": "display_data"
    },
    {
     "name": "stdout",
     "output_type": "stream",
     "text": [
      "--------\n",
      "humidity\n",
      "overcast\n",
      "pct\n",
      "inhg\n",
      "rapidly\n",
      "wc\n",
      "baro\n",
      "94\n",
      "dp\n",
      "wd\n",
      "--------\n"
     ]
    },
    {
     "data": {
      "text/markdown": [
       "# record"
      ],
      "text/plain": [
       "<IPython.core.display.Markdown object>"
      ]
     },
     "metadata": {},
     "output_type": "display_data"
    },
    {
     "data": {
      "text/markdown": [
       "#### Urban"
      ],
      "text/plain": [
       "<IPython.core.display.Markdown object>"
      ]
     },
     "metadata": {},
     "output_type": "display_data"
    },
    {
     "name": "stdout",
     "output_type": "stream",
     "text": [
      "---------\n",
      "records\n",
      "track\n",
      "contract\n",
      "album\n",
      "title\n",
      "release\n",
      "billboard\n",
      "debut\n",
      "pace\n",
      "cd\n",
      "---------\n"
     ]
    },
    {
     "data": {
      "text/markdown": [
       "#### Rural"
      ],
      "text/plain": [
       "<IPython.core.display.Markdown object>"
      ]
     },
     "metadata": {},
     "output_type": "display_data"
    },
    {
     "name": "stdout",
     "output_type": "stream",
     "text": [
      "--------\n",
      "records\n",
      "title\n",
      "pr\n",
      "final\n",
      "high\n",
      "sweep\n",
      "overall\n",
      "approval\n",
      "ncaa\n",
      "contract\n",
      "--------\n"
     ]
    },
    {
     "data": {
      "text/markdown": [
       "# apply"
      ],
      "text/plain": [
       "<IPython.core.display.Markdown object>"
      ]
     },
     "metadata": {},
     "output_type": "display_data"
    },
    {
     "data": {
      "text/markdown": [
       "#### Urban"
      ],
      "text/plain": [
       "<IPython.core.display.Markdown object>"
      ]
     },
     "metadata": {},
     "output_type": "display_data"
    },
    {
     "name": "stdout",
     "output_type": "stream",
     "text": [
      "-----------\n",
      "specialist\n",
      "associate\n",
      "supervisor\n",
      "consultant\n",
      "technician\n",
      "assistant\n",
      "clerk\n",
      "coordinator\n",
      "registered\n",
      "clinical\n",
      "-----------\n"
     ]
    },
    {
     "data": {
      "text/markdown": [
       "#### Rural"
      ],
      "text/plain": [
       "<IPython.core.display.Markdown object>"
      ]
     },
     "metadata": {},
     "output_type": "display_data"
    },
    {
     "name": "stdout",
     "output_type": "stream",
     "text": [
      "-----------\n",
      "physician\n",
      "associate\n",
      "hiring\n",
      "specialist\n",
      "donate\n",
      "assistant\n",
      "residential\n",
      "provide\n",
      "register\n",
      "nurse\n",
      "-----------\n"
     ]
    },
    {
     "data": {
      "text/markdown": [
       "# number"
      ],
      "text/plain": [
       "<IPython.core.display.Markdown object>"
      ]
     },
     "metadata": {},
     "output_type": "display_data"
    },
    {
     "data": {
      "text/markdown": [
       "#### Urban"
      ],
      "text/plain": [
       "<IPython.core.display.Markdown object>"
      ]
     },
     "metadata": {},
     "output_type": "display_data"
    },
    {
     "name": "stdout",
     "output_type": "stream",
     "text": [
      "------------\n",
      "acct\n",
      "address\n",
      "account\n",
      "password\n",
      "paypal\n",
      "name\n",
      "email\n",
      "phone\n",
      "charger\n",
      "confirmation\n",
      "------------\n"
     ]
    },
    {
     "data": {
      "text/markdown": [
       "#### Rural"
      ],
      "text/plain": [
       "<IPython.core.display.Markdown object>"
      ]
     },
     "metadata": {},
     "output_type": "display_data"
    },
    {
     "name": "stdout",
     "output_type": "stream",
     "text": [
      "--------\n",
      "name\n",
      "cents\n",
      "password\n",
      "numbers\n",
      "mentions\n",
      "copy\n",
      "percent\n",
      "answer\n",
      "billion\n",
      "account\n",
      "--------\n"
     ]
    },
    {
     "data": {
      "text/markdown": [
       "# streaming"
      ],
      "text/plain": [
       "<IPython.core.display.Markdown object>"
      ]
     },
     "metadata": {},
     "output_type": "display_data"
    },
    {
     "data": {
      "text/markdown": [
       "#### Urban"
      ],
      "text/plain": [
       "<IPython.core.display.Markdown object>"
      ]
     },
     "metadata": {},
     "output_type": "display_data"
    },
    {
     "name": "stdout",
     "output_type": "stream",
     "text": [
      "----------\n",
      "stream\n",
      "streams\n",
      "hulu\n",
      "gaming\n",
      "twitch\n",
      "vr\n",
      "livestream\n",
      "youtube\n",
      "channel\n",
      "tv\n",
      "----------\n"
     ]
    },
    {
     "data": {
      "text/markdown": [
       "#### Rural"
      ],
      "text/plain": [
       "<IPython.core.display.Markdown object>"
      ]
     },
     "metadata": {},
     "output_type": "display_data"
    },
    {
     "name": "stdout",
     "output_type": "stream",
     "text": [
      "----------\n",
      "stream\n",
      "playing\n",
      "tune\n",
      "performing\n",
      "twitch\n",
      "jamming\n",
      "livestream\n",
      "live\n",
      "karaoke\n",
      "acoustic\n",
      "----------\n"
     ]
    },
    {
     "data": {
      "text/markdown": [
       "# la"
      ],
      "text/plain": [
       "<IPython.core.display.Markdown object>"
      ]
     },
     "metadata": {},
     "output_type": "display_data"
    },
    {
     "data": {
      "text/markdown": [
       "#### Urban"
      ],
      "text/plain": [
       "<IPython.core.display.Markdown object>"
      ]
     },
     "metadata": {},
     "output_type": "display_data"
    },
    {
     "name": "stdout",
     "output_type": "stream",
     "text": [
      "--------\n",
      "sd\n",
      "nyc\n",
      "downtown\n",
      "chicago\n",
      "philly\n",
      "vista\n",
      "mesa\n",
      "seattle\n",
      "jamaica\n",
      "sf\n",
      "--------\n"
     ]
    },
    {
     "data": {
      "text/markdown": [
       "#### Rural"
      ],
      "text/plain": [
       "<IPython.core.display.Markdown object>"
      ]
     },
     "metadata": {},
     "output_type": "display_data"
    },
    {
     "name": "stdout",
     "output_type": "stream",
     "text": [
      "---\n",
      "el\n",
      "il\n",
      "de\n",
      "des\n",
      "los\n",
      "en\n",
      "tx\n",
      "una\n",
      "rio\n",
      "pa\n",
      "---\n"
     ]
    },
    {
     "data": {
      "text/markdown": [
       "# clean"
      ],
      "text/plain": [
       "<IPython.core.display.Markdown object>"
      ]
     },
     "metadata": {},
     "output_type": "display_data"
    },
    {
     "data": {
      "text/markdown": [
       "#### Urban"
      ],
      "text/plain": [
       "<IPython.core.display.Markdown object>"
      ]
     },
     "metadata": {},
     "output_type": "display_data"
    },
    {
     "name": "stdout",
     "output_type": "stream",
     "text": [
      "----------\n",
      "dirty\n",
      "wash\n",
      "smooth\n",
      "cleaning\n",
      "nowplaying\n",
      "whip\n",
      "remix\n",
      "shake\n",
      "ft\n",
      "pump\n",
      "----------\n"
     ]
    },
    {
     "data": {
      "text/markdown": [
       "#### Rural"
      ],
      "text/plain": [
       "<IPython.core.display.Markdown object>"
      ]
     },
     "metadata": {},
     "output_type": "display_data"
    },
    {
     "name": "stdout",
     "output_type": "stream",
     "text": [
      "--------\n",
      "cleaning\n",
      "wash\n",
      "cleaned\n",
      "dry\n",
      "filling\n",
      "warm\n",
      "washed\n",
      "brush\n",
      "laundry\n",
      "pump\n",
      "--------\n"
     ]
    },
    {
     "data": {
      "text/markdown": [
       "# changing"
      ],
      "text/plain": [
       "<IPython.core.display.Markdown object>"
      ]
     },
     "metadata": {},
     "output_type": "display_data"
    },
    {
     "data": {
      "text/markdown": [
       "#### Urban"
      ],
      "text/plain": [
       "<IPython.core.display.Markdown object>"
      ]
     },
     "metadata": {},
     "output_type": "display_data"
    },
    {
     "name": "stdout",
     "output_type": "stream",
     "text": [
      "-----------\n",
      "ruining\n",
      "improving\n",
      "change\n",
      "saving\n",
      "changes\n",
      "changed\n",
      "fixing\n",
      "switching\n",
      "destroying\n",
      "challenging\n",
      "-----------\n"
     ]
    },
    {
     "data": {
      "text/markdown": [
       "#### Rural"
      ],
      "text/plain": [
       "<IPython.core.display.Markdown object>"
      ]
     },
     "metadata": {},
     "output_type": "display_data"
    },
    {
     "name": "stdout",
     "output_type": "stream",
     "text": [
      "---------\n",
      "improving\n",
      "change\n",
      "ruining\n",
      "changes\n",
      "adding\n",
      "growing\n",
      "important\n",
      "living\n",
      "using\n",
      "creating\n",
      "---------\n"
     ]
    },
    {
     "data": {
      "text/markdown": [
       "# below"
      ],
      "text/plain": [
       "<IPython.core.display.Markdown object>"
      ]
     },
     "metadata": {},
     "output_type": "display_data"
    },
    {
     "data": {
      "text/markdown": [
       "#### Urban"
      ],
      "text/plain": [
       "<IPython.core.display.Markdown object>"
      ]
     },
     "metadata": {},
     "output_type": "display_data"
    },
    {
     "name": "stdout",
     "output_type": "stream",
     "text": [
      "-------\n",
      "above\n",
      "link\n",
      "chart\n",
      "bio\n",
      "usd\n",
      "initial\n",
      "links\n",
      "bonus\n",
      "section\n",
      "index\n",
      "-------\n"
     ]
    },
    {
     "data": {
      "text/markdown": [
       "#### Rural"
      ],
      "text/plain": [
       "<IPython.core.display.Markdown object>"
      ]
     },
     "metadata": {},
     "output_type": "display_data"
    },
    {
     "name": "stdout",
     "output_type": "stream",
     "text": [
      "----------\n",
      "link\n",
      "details\n",
      "links\n",
      "click\n",
      "select\n",
      "map\n",
      "chart\n",
      "info\n",
      "location\n",
      "additional\n",
      "----------\n"
     ]
    },
    {
     "data": {
      "text/markdown": [
       "# san"
      ],
      "text/plain": [
       "<IPython.core.display.Markdown object>"
      ]
     },
     "metadata": {},
     "output_type": "display_data"
    },
    {
     "data": {
      "text/markdown": [
       "#### Urban"
      ],
      "text/plain": [
       "<IPython.core.display.Markdown object>"
      ]
     },
     "metadata": {},
     "output_type": "display_data"
    },
    {
     "name": "stdout",
     "output_type": "stream",
     "text": [
      "--------\n",
      "dfw\n",
      "phoenix\n",
      "costa\n",
      "vista\n",
      "houston\n",
      "socal\n",
      "venice\n",
      "arizona\n",
      "pasadena\n",
      "sf\n",
      "--------\n"
     ]
    },
    {
     "data": {
      "text/markdown": [
       "#### Rural"
      ],
      "text/plain": [
       "<IPython.core.display.Markdown object>"
      ]
     },
     "metadata": {},
     "output_type": "display_data"
    },
    {
     "name": "stdout",
     "output_type": "stream",
     "text": [
      "------------\n",
      "orlando\n",
      "denver\n",
      "philadelphia\n",
      "seattle\n",
      "houston\n",
      "nyc\n",
      "chicago\n",
      "downtown\n",
      "tx\n",
      "tampa\n",
      "------------\n"
     ]
    },
    {
     "data": {
      "text/markdown": [
       "# pls"
      ],
      "text/plain": [
       "<IPython.core.display.Markdown object>"
      ]
     },
     "metadata": {},
     "output_type": "display_data"
    },
    {
     "data": {
      "text/markdown": [
       "#### Urban"
      ],
      "text/plain": [
       "<IPython.core.display.Markdown object>"
      ]
     },
     "metadata": {},
     "output_type": "display_data"
    },
    {
     "name": "stdout",
     "output_type": "stream",
     "text": [
      "----------\n",
      "plz\n",
      "please\n",
      "rt\n",
      "asap\n",
      "specialist\n",
      "lets\n",
      "fulltime\n",
      "needa\n",
      "services\n",
      "dm\n",
      "----------\n"
     ]
    },
    {
     "data": {
      "text/markdown": [
       "#### Rural"
      ],
      "text/plain": [
       "<IPython.core.display.Markdown object>"
      ]
     },
     "metadata": {},
     "output_type": "display_data"
    },
    {
     "name": "stdout",
     "output_type": "stream",
     "text": [
      "------\n",
      "plz\n",
      "please\n",
      "sos\n",
      "needa\n",
      "lemme\n",
      "ill\n",
      "asap\n",
      "wanna\n",
      "lets\n",
      "tryna\n",
      "------\n"
     ]
    },
    {
     "data": {
      "text/markdown": [
       "# job"
      ],
      "text/plain": [
       "<IPython.core.display.Markdown object>"
      ]
     },
     "metadata": {},
     "output_type": "display_data"
    },
    {
     "data": {
      "text/markdown": [
       "#### Urban"
      ],
      "text/plain": [
       "<IPython.core.display.Markdown object>"
      ]
     },
     "metadata": {},
     "output_type": "display_data"
    },
    {
     "name": "stdout",
     "output_type": "stream",
     "text": [
      "--------\n",
      "haircut\n",
      "gig\n",
      "position\n",
      "work\n",
      "company\n",
      "hw\n",
      "homework\n",
      "resume\n",
      "client\n",
      "career\n",
      "--------\n"
     ]
    },
    {
     "data": {
      "text/markdown": [
       "#### Rural"
      ],
      "text/plain": [
       "<IPython.core.display.Markdown object>"
      ]
     },
     "metadata": {},
     "output_type": "display_data"
    },
    {
     "name": "stdout",
     "output_type": "stream",
     "text": [
      "--------\n",
      "career\n",
      "work\n",
      "position\n",
      "haircut\n",
      "effort\n",
      "eyebrows\n",
      "luck\n",
      "homework\n",
      "team\n",
      "staff\n",
      "--------\n"
     ]
    },
    {
     "data": {
      "text/markdown": [
       "# fit"
      ],
      "text/plain": [
       "<IPython.core.display.Markdown object>"
      ]
     },
     "metadata": {},
     "output_type": "display_data"
    },
    {
     "data": {
      "text/markdown": [
       "#### Urban"
      ],
      "text/plain": [
       "<IPython.core.display.Markdown object>"
      ]
     },
     "metadata": {},
     "output_type": "display_data"
    },
    {
     "name": "stdout",
     "output_type": "stream",
     "text": [
      "----------\n",
      "recommend\n",
      "supervisor\n",
      "resource\n",
      "consultant\n",
      "technician\n",
      "position\n",
      "pharmacy\n",
      "associate\n",
      "apply\n",
      "ca\n",
      "----------\n"
     ]
    },
    {
     "data": {
      "text/markdown": [
       "#### Rural"
      ],
      "text/plain": [
       "<IPython.core.display.Markdown object>"
      ]
     },
     "metadata": {},
     "output_type": "display_data"
    },
    {
     "name": "stdout",
     "output_type": "stream",
     "text": [
      "----------\n",
      "recommend\n",
      "addition\n",
      "shape\n",
      "ak\n",
      "designer\n",
      "resource\n",
      "interested\n",
      "physician\n",
      "apply\n",
      "associate\n",
      "----------\n"
     ]
    },
    {
     "data": {
      "text/markdown": [
       "# planning"
      ],
      "text/plain": [
       "<IPython.core.display.Markdown object>"
      ]
     },
     "metadata": {},
     "output_type": "display_data"
    },
    {
     "data": {
      "text/markdown": [
       "#### Urban"
      ],
      "text/plain": [
       "<IPython.core.display.Markdown object>"
      ]
     },
     "metadata": {},
     "output_type": "display_data"
    },
    {
     "name": "stdout",
     "output_type": "stream",
     "text": [
      "----------\n",
      "preparing\n",
      "plan\n",
      "plans\n",
      "organizing\n",
      "vacation\n",
      "ready\n",
      "prep\n",
      "underway\n",
      "investing\n",
      "hosting\n",
      "----------\n"
     ]
    },
    {
     "data": {
      "text/markdown": [
       "#### Rural"
      ],
      "text/plain": [
       "<IPython.core.display.Markdown object>"
      ]
     },
     "metadata": {},
     "output_type": "display_data"
    },
    {
     "name": "stdout",
     "output_type": "stream",
     "text": [
      "----------\n",
      "preparing\n",
      "vacation\n",
      "plan\n",
      "attending\n",
      "ready\n",
      "traveling\n",
      "retirement\n",
      "packing\n",
      "plans\n",
      "going\n",
      "----------\n"
     ]
    },
    {
     "data": {
      "text/markdown": [
       "# travel"
      ],
      "text/plain": [
       "<IPython.core.display.Markdown object>"
      ]
     },
     "metadata": {},
     "output_type": "display_data"
    },
    {
     "data": {
      "text/markdown": [
       "#### Urban"
      ],
      "text/plain": [
       "<IPython.core.display.Markdown object>"
      ]
     },
     "metadata": {},
     "output_type": "display_data"
    },
    {
     "name": "stdout",
     "output_type": "stream",
     "text": [
      "-----------\n",
      "hotels\n",
      "flights\n",
      "explore\n",
      "immigration\n",
      "cuba\n",
      "ban\n",
      "visa\n",
      "trips\n",
      "refugee\n",
      "labor\n",
      "-----------\n"
     ]
    },
    {
     "data": {
      "text/markdown": [
       "#### Rural"
      ],
      "text/plain": [
       "<IPython.core.display.Markdown object>"
      ]
     },
     "metadata": {},
     "output_type": "display_data"
    },
    {
     "name": "stdout",
     "output_type": "stream",
     "text": [
      "-------------\n",
      "traveling\n",
      "explore\n",
      "travels\n",
      "immigration\n",
      "trips\n",
      "sanctuary\n",
      "create\n",
      "canada\n",
      "international\n",
      "getaway\n",
      "-------------\n"
     ]
    },
    {
     "data": {
      "text/markdown": [
       "# listen"
      ],
      "text/plain": [
       "<IPython.core.display.Markdown object>"
      ]
     },
     "metadata": {},
     "output_type": "display_data"
    },
    {
     "data": {
      "text/markdown": [
       "#### Urban"
      ],
      "text/plain": [
       "<IPython.core.display.Markdown object>"
      ]
     },
     "metadata": {},
     "output_type": "display_data"
    },
    {
     "name": "stdout",
     "output_type": "stream",
     "text": [
      "----------\n",
      "listening\n",
      "listened\n",
      "sing\n",
      "mp3\n",
      "hear\n",
      "edit\n",
      "tune\n",
      "trapavelli\n",
      "prod\n",
      "intro\n",
      "----------\n"
     ]
    },
    {
     "data": {
      "text/markdown": [
       "#### Rural"
      ],
      "text/plain": [
       "<IPython.core.display.Markdown object>"
      ]
     },
     "metadata": {},
     "output_type": "display_data"
    },
    {
     "name": "stdout",
     "output_type": "stream",
     "text": [
      "---------\n",
      "listening\n",
      "sing\n",
      "listened\n",
      "hear\n",
      "talk\n",
      "watch\n",
      "react\n",
      "speak\n",
      "edit\n",
      "try\n",
      "---------\n"
     ]
    },
    {
     "data": {
      "text/markdown": [
       "# study"
      ],
      "text/plain": [
       "<IPython.core.display.Markdown object>"
      ]
     },
     "metadata": {},
     "output_type": "display_data"
    },
    {
     "data": {
      "text/markdown": [
       "#### Urban"
      ],
      "text/plain": [
       "<IPython.core.display.Markdown object>"
      ]
     },
     "metadata": {},
     "output_type": "display_data"
    },
    {
     "name": "stdout",
     "output_type": "stream",
     "text": [
      "-----------\n",
      "research\n",
      "science\n",
      "physics\n",
      "studies\n",
      "scientific\n",
      "stem\n",
      "survey\n",
      "researchers\n",
      "fda\n",
      "psychology\n",
      "-----------\n"
     ]
    },
    {
     "data": {
      "text/markdown": [
       "#### Rural"
      ],
      "text/plain": [
       "<IPython.core.display.Markdown object>"
      ]
     },
     "metadata": {},
     "output_type": "display_data"
    },
    {
     "name": "stdout",
     "output_type": "stream",
     "text": [
      "-----------\n",
      "research\n",
      "science\n",
      "studies\n",
      "engineering\n",
      "survey\n",
      "physical\n",
      "activity\n",
      "therapy\n",
      "test\n",
      "math\n",
      "-----------\n"
     ]
    },
    {
     "data": {
      "text/markdown": [
       "# checked"
      ],
      "text/plain": [
       "<IPython.core.display.Markdown object>"
      ]
     },
     "metadata": {},
     "output_type": "display_data"
    },
    {
     "data": {
      "text/markdown": [
       "#### Urban"
      ],
      "text/plain": [
       "<IPython.core.display.Markdown object>"
      ]
     },
     "metadata": {},
     "output_type": "display_data"
    },
    {
     "name": "stdout",
     "output_type": "stream",
     "text": [
      "--------\n",
      "yelled\n",
      "found\n",
      "worked\n",
      "tagged\n",
      "checking\n",
      "landed\n",
      "sold\n",
      "hung\n",
      "unlocked\n",
      "listed\n",
      "--------\n"
     ]
    },
    {
     "data": {
      "text/markdown": [
       "#### Rural"
      ],
      "text/plain": [
       "<IPython.core.display.Markdown object>"
      ]
     },
     "metadata": {},
     "output_type": "display_data"
    },
    {
     "name": "stdout",
     "output_type": "stream",
     "text": [
      "--------\n",
      "listed\n",
      "yelled\n",
      "unlocked\n",
      "spotted\n",
      "laughed\n",
      "stare\n",
      "chillin\n",
      "chilling\n",
      "staring\n",
      "walked\n",
      "--------\n"
     ]
    },
    {
     "data": {
      "text/markdown": [
       "# challenge"
      ],
      "text/plain": [
       "<IPython.core.display.Markdown object>"
      ]
     },
     "metadata": {},
     "output_type": "display_data"
    },
    {
     "data": {
      "text/markdown": [
       "#### Urban"
      ],
      "text/plain": [
       "<IPython.core.display.Markdown object>"
      ]
     },
     "metadata": {},
     "output_type": "display_data"
    },
    {
     "name": "stdout",
     "output_type": "stream",
     "text": [
      "-----------\n",
      "contest\n",
      "guide\n",
      "giveaway\n",
      "prize\n",
      "competition\n",
      "prepare\n",
      "battle\n",
      "tournament\n",
      "exercises\n",
      "task\n",
      "-----------\n"
     ]
    },
    {
     "data": {
      "text/markdown": [
       "#### Rural"
      ],
      "text/plain": [
       "<IPython.core.display.Markdown object>"
      ]
     },
     "metadata": {},
     "output_type": "display_data"
    },
    {
     "name": "stdout",
     "output_type": "stream",
     "text": [
      "-----------\n",
      "competition\n",
      "winner\n",
      "fitness\n",
      "trivia\n",
      "bonus\n",
      "challenges\n",
      "winners\n",
      "battle\n",
      "masters\n",
      "ultimate\n",
      "-----------\n"
     ]
    },
    {
     "data": {
      "text/markdown": [
       "# breaking"
      ],
      "text/plain": [
       "<IPython.core.display.Markdown object>"
      ]
     },
     "metadata": {},
     "output_type": "display_data"
    },
    {
     "data": {
      "text/markdown": [
       "#### Urban"
      ],
      "text/plain": [
       "<IPython.core.display.Markdown object>"
      ]
     },
     "metadata": {},
     "output_type": "display_data"
    },
    {
     "name": "stdout",
     "output_type": "stream",
     "text": [
      "--------\n",
      "breaks\n",
      "covering\n",
      "stepping\n",
      "facing\n",
      "burning\n",
      "slams\n",
      "amid\n",
      "fox\n",
      "rolling\n",
      "bbc\n",
      "--------\n"
     ]
    },
    {
     "data": {
      "text/markdown": [
       "#### Rural"
      ],
      "text/plain": [
       "<IPython.core.display.Markdown object>"
      ]
     },
     "metadata": {},
     "output_type": "display_data"
    },
    {
     "name": "stdout",
     "output_type": "stream",
     "text": [
      "---------\n",
      "breaks\n",
      "bbc\n",
      "backed\n",
      "covering\n",
      "facing\n",
      "broken\n",
      "abc\n",
      "fires\n",
      "nbc\n",
      "breitbart\n",
      "---------\n"
     ]
    },
    {
     "data": {
      "text/markdown": [
       "# signs"
      ],
      "text/plain": [
       "<IPython.core.display.Markdown object>"
      ]
     },
     "metadata": {},
     "output_type": "display_data"
    },
    {
     "data": {
      "text/markdown": [
       "#### Urban"
      ],
      "text/plain": [
       "<IPython.core.display.Markdown object>"
      ]
     },
     "metadata": {},
     "output_type": "display_data"
    },
    {
     "name": "stdout",
     "output_type": "stream",
     "text": [
      "----------\n",
      "symptoms\n",
      "reports\n",
      "cases\n",
      "challenges\n",
      "sources\n",
      "examples\n",
      "deaths\n",
      "rumors\n",
      "documents\n",
      "percent\n",
      "----------\n"
     ]
    },
    {
     "data": {
      "text/markdown": [
       "#### Rural"
      ],
      "text/plain": [
       "<IPython.core.display.Markdown object>"
      ]
     },
     "metadata": {},
     "output_type": "display_data"
    },
    {
     "name": "stdout",
     "output_type": "stream",
     "text": [
      "-------\n",
      "forms\n",
      "cases\n",
      "beware\n",
      "deaths\n",
      "victims\n",
      "flags\n",
      "reports\n",
      "areas\n",
      "blocks\n",
      "experts\n",
      "-------\n"
     ]
    },
    {
     "data": {
      "text/markdown": [
       "# of"
      ],
      "text/plain": [
       "<IPython.core.display.Markdown object>"
      ]
     },
     "metadata": {},
     "output_type": "display_data"
    },
    {
     "data": {
      "text/markdown": [
       "#### Urban"
      ],
      "text/plain": [
       "<IPython.core.display.Markdown object>"
      ]
     },
     "metadata": {},
     "output_type": "display_data"
    },
    {
     "name": "stdout",
     "output_type": "stream",
     "text": [
      "----------\n",
      "throughout\n",
      "including\n",
      "among\n",
      "historical\n",
      "within\n",
      "in\n",
      "includes\n",
      "vital\n",
      "memorable\n",
      "from\n",
      "----------\n"
     ]
    },
    {
     "data": {
      "text/markdown": [
       "#### Rural"
      ],
      "text/plain": [
       "<IPython.core.display.Markdown object>"
      ]
     },
     "metadata": {},
     "output_type": "display_data"
    },
    {
     "name": "stdout",
     "output_type": "stream",
     "text": [
      "----------\n",
      "throughout\n",
      "among\n",
      "including\n",
      "despite\n",
      "in\n",
      "within\n",
      "common\n",
      "parking\n",
      "chart\n",
      "includes\n",
      "----------\n"
     ]
    },
    {
     "data": {
      "text/markdown": [
       "# playing"
      ],
      "text/plain": [
       "<IPython.core.display.Markdown object>"
      ]
     },
     "metadata": {},
     "output_type": "display_data"
    },
    {
     "data": {
      "text/markdown": [
       "#### Urban"
      ],
      "text/plain": [
       "<IPython.core.display.Markdown object>"
      ]
     },
     "metadata": {},
     "output_type": "display_data"
    },
    {
     "name": "stdout",
     "output_type": "stream",
     "text": [
      "--------\n",
      "playin\n",
      "dancing\n",
      "singing\n",
      "played\n",
      "spinning\n",
      "hitting\n",
      "blasting\n",
      "watching\n",
      "play\n",
      "plays\n",
      "--------\n"
     ]
    },
    {
     "data": {
      "text/markdown": [
       "#### Rural"
      ],
      "text/plain": [
       "<IPython.core.display.Markdown object>"
      ]
     },
     "metadata": {},
     "output_type": "display_data"
    },
    {
     "name": "stdout",
     "output_type": "stream",
     "text": [
      "---------\n",
      "playin\n",
      "jamming\n",
      "streaming\n",
      "played\n",
      "feat\n",
      "singing\n",
      "rockin\n",
      "ripping\n",
      "rocking\n",
      "livin\n",
      "---------\n"
     ]
    },
    {
     "data": {
      "text/markdown": [
       "# mac"
      ],
      "text/plain": [
       "<IPython.core.display.Markdown object>"
      ]
     },
     "metadata": {},
     "output_type": "display_data"
    },
    {
     "data": {
      "text/markdown": [
       "#### Urban"
      ],
      "text/plain": [
       "<IPython.core.display.Markdown object>"
      ]
     },
     "metadata": {},
     "output_type": "display_data"
    },
    {
     "name": "stdout",
     "output_type": "stream",
     "text": [
      "--------\n",
      "apple\n",
      "cheese\n",
      "ipad\n",
      "grilled\n",
      "android\n",
      "wireless\n",
      "pi\n",
      "lg\n",
      "keyboard\n",
      "scratch\n",
      "--------\n"
     ]
    },
    {
     "data": {
      "text/markdown": [
       "#### Rural"
      ],
      "text/plain": [
       "<IPython.core.display.Markdown object>"
      ]
     },
     "metadata": {},
     "output_type": "display_data"
    },
    {
     "name": "stdout",
     "output_type": "stream",
     "text": [
      "--------\n",
      "ham\n",
      "cheese\n",
      "cinnamon\n",
      "bacon\n",
      "grilled\n",
      "salsa\n",
      "bbq\n",
      "steak\n",
      "sauce\n",
      "jelly\n",
      "--------\n"
     ]
    },
    {
     "data": {
      "text/markdown": [
       "# rd"
      ],
      "text/plain": [
       "<IPython.core.display.Markdown object>"
      ]
     },
     "metadata": {},
     "output_type": "display_data"
    },
    {
     "data": {
      "text/markdown": [
       "#### Urban"
      ],
      "text/plain": [
       "<IPython.core.display.Markdown object>"
      ]
     },
     "metadata": {},
     "output_type": "display_data"
    },
    {
     "name": "stdout",
     "output_type": "stream",
     "text": [
      "----\n",
      "ave\n",
      "blvd\n",
      "st\n",
      "ln\n",
      "fwy\n",
      "sb\n",
      "nb\n",
      "av\n",
      "sw\n",
      "eb\n",
      "----\n"
     ]
    },
    {
     "data": {
      "text/markdown": [
       "#### Rural"
      ],
      "text/plain": [
       "<IPython.core.display.Markdown object>"
      ]
     },
     "metadata": {},
     "output_type": "display_data"
    },
    {
     "name": "stdout",
     "output_type": "stream",
     "text": [
      "----------\n",
      "ave\n",
      "hwy\n",
      "avenue\n",
      "ln\n",
      "birmingham\n",
      "mill\n",
      "highway\n",
      "street\n",
      "nj\n",
      "ga\n",
      "----------\n"
     ]
    },
    {
     "data": {
      "text/markdown": [
       "# cancer"
      ],
      "text/plain": [
       "<IPython.core.display.Markdown object>"
      ]
     },
     "metadata": {},
     "output_type": "display_data"
    },
    {
     "data": {
      "text/markdown": [
       "#### Urban"
      ],
      "text/plain": [
       "<IPython.core.display.Markdown object>"
      ]
     },
     "metadata": {},
     "output_type": "display_data"
    },
    {
     "name": "stdout",
     "output_type": "stream",
     "text": [
      "---------\n",
      "breast\n",
      "disease\n",
      "treatment\n",
      "aids\n",
      "patients\n",
      "surgery\n",
      "addiction\n",
      "mental\n",
      "diabetes\n",
      "symptoms\n",
      "---------\n"
     ]
    },
    {
     "data": {
      "text/markdown": [
       "#### Rural"
      ],
      "text/plain": [
       "<IPython.core.display.Markdown object>"
      ]
     },
     "metadata": {},
     "output_type": "display_data"
    },
    {
     "name": "stdout",
     "output_type": "stream",
     "text": [
      "---------\n",
      "disease\n",
      "leo\n",
      "breast\n",
      "treatment\n",
      "pisces\n",
      "gemini\n",
      "autism\n",
      "virgo\n",
      "scorpio\n",
      "patients\n",
      "---------\n"
     ]
    },
    {
     "data": {
      "text/markdown": [
       "# liked"
      ],
      "text/plain": [
       "<IPython.core.display.Markdown object>"
      ]
     },
     "metadata": {},
     "output_type": "display_data"
    },
    {
     "data": {
      "text/markdown": [
       "#### Urban"
      ],
      "text/plain": [
       "<IPython.core.display.Markdown object>"
      ]
     },
     "metadata": {},
     "output_type": "display_data"
    },
    {
     "name": "stdout",
     "output_type": "stream",
     "text": [
      "--------\n",
      "playlist\n",
      "added\n",
      "lyric\n",
      "posted\n",
      "uploaded\n",
      "saw\n",
      "watched\n",
      "stole\n",
      "filmed\n",
      "nuevo\n",
      "--------\n"
     ]
    },
    {
     "data": {
      "text/markdown": [
       "#### Rural"
      ],
      "text/plain": [
       "<IPython.core.display.Markdown object>"
      ]
     },
     "metadata": {},
     "output_type": "display_data"
    },
    {
     "name": "stdout",
     "output_type": "stream",
     "text": [
      "-----------\n",
      "playlist\n",
      "added\n",
      "lyric\n",
      "posted\n",
      "uploaded\n",
      "watched\n",
      "saw\n",
      "zombie\n",
      "compilation\n",
      "minecraft\n",
      "-----------\n"
     ]
    },
    {
     "data": {
      "text/markdown": [
       "# focus"
      ],
      "text/plain": [
       "<IPython.core.display.Markdown object>"
      ]
     },
     "metadata": {},
     "output_type": "display_data"
    },
    {
     "data": {
      "text/markdown": [
       "#### Urban"
      ],
      "text/plain": [
       "<IPython.core.display.Markdown object>"
      ]
     },
     "metadata": {},
     "output_type": "display_data"
    },
    {
     "name": "stdout",
     "output_type": "stream",
     "text": [
      "---------\n",
      "focusing\n",
      "rely\n",
      "focused\n",
      "reflect\n",
      "depending\n",
      "thrive\n",
      "educate\n",
      "depends\n",
      "carry\n",
      "based\n",
      "---------\n"
     ]
    },
    {
     "data": {
      "text/markdown": [
       "#### Rural"
      ],
      "text/plain": [
       "<IPython.core.display.Markdown object>"
      ]
     },
     "metadata": {},
     "output_type": "display_data"
    },
    {
     "name": "stdout",
     "output_type": "stream",
     "text": [
      "---------\n",
      "focusing\n",
      "focused\n",
      "rely\n",
      "based\n",
      "depends\n",
      "basis\n",
      "improving\n",
      "carry\n",
      "move\n",
      "grind\n",
      "---------\n"
     ]
    },
    {
     "data": {
      "text/markdown": [
       "# soon"
      ],
      "text/plain": [
       "<IPython.core.display.Markdown object>"
      ]
     },
     "metadata": {},
     "output_type": "display_data"
    },
    {
     "data": {
      "text/markdown": [
       "#### Urban"
      ],
      "text/plain": [
       "<IPython.core.display.Markdown object>"
      ]
     },
     "metadata": {},
     "output_type": "display_data"
    },
    {
     "name": "stdout",
     "output_type": "stream",
     "text": [
      "----------\n",
      "someday\n",
      "sometime\n",
      "shortly\n",
      "eventually\n",
      "tomorrow\n",
      "hopefully\n",
      "quickly\n",
      "asap\n",
      "tmrw\n",
      "early\n",
      "----------\n"
     ]
    },
    {
     "data": {
      "text/markdown": [
       "#### Rural"
      ],
      "text/plain": [
       "<IPython.core.display.Markdown object>"
      ]
     },
     "metadata": {},
     "output_type": "display_data"
    },
    {
     "name": "stdout",
     "output_type": "stream",
     "text": [
      "----------\n",
      "sometime\n",
      "quickly\n",
      "someday\n",
      "asap\n",
      "hopefully\n",
      "sooner\n",
      "eventually\n",
      "tomorrow\n",
      "fast\n",
      "early\n",
      "----------\n"
     ]
    },
    {
     "data": {
      "text/markdown": [
       "# yay"
      ],
      "text/plain": [
       "<IPython.core.display.Markdown object>"
      ]
     },
     "metadata": {},
     "output_type": "display_data"
    },
    {
     "data": {
      "text/markdown": [
       "#### Urban"
      ],
      "text/plain": [
       "<IPython.core.display.Markdown object>"
      ]
     },
     "metadata": {},
     "output_type": "display_data"
    },
    {
     "name": "stdout",
     "output_type": "stream",
     "text": [
      "---------\n",
      "hehe\n",
      "ahhhh\n",
      "ahhh\n",
      "ps\n",
      "xoxo\n",
      "yessss\n",
      "finally\n",
      "ilysm\n",
      "goodnight\n",
      "excited\n",
      "---------\n"
     ]
    },
    {
     "data": {
      "text/markdown": [
       "#### Rural"
      ],
      "text/plain": [
       "<IPython.core.display.Markdown object>"
      ]
     },
     "metadata": {},
     "output_type": "display_data"
    },
    {
     "name": "stdout",
     "output_type": "stream",
     "text": [
      "-------\n",
      "finally\n",
      "pumped\n",
      "excited\n",
      "glad\n",
      "yesss\n",
      "stoked\n",
      "woo\n",
      "yessss\n",
      "hoo\n",
      "ahhh\n",
      "-------\n"
     ]
    },
    {
     "data": {
      "text/markdown": [
       "# date"
      ],
      "text/plain": [
       "<IPython.core.display.Markdown object>"
      ]
     },
     "metadata": {},
     "output_type": "display_data"
    },
    {
     "data": {
      "text/markdown": [
       "#### Urban"
      ],
      "text/plain": [
       "<IPython.core.display.Markdown object>"
      ]
     },
     "metadata": {},
     "output_type": "display_data"
    },
    {
     "name": "stdout",
     "output_type": "stream",
     "text": [
      "---------\n",
      "prom\n",
      "dates\n",
      "surprise\n",
      "trip\n",
      "invite\n",
      "outfit\n",
      "ticket\n",
      "pick\n",
      "cheat\n",
      "halloween\n",
      "---------\n"
     ]
    },
    {
     "data": {
      "text/markdown": [
       "#### Rural"
      ],
      "text/plain": [
       "<IPython.core.display.Markdown object>"
      ]
     },
     "metadata": {},
     "output_type": "display_data"
    },
    {
     "name": "stdout",
     "output_type": "stream",
     "text": [
      "---------\n",
      "prom\n",
      "dates\n",
      "hurry\n",
      "dress\n",
      "wedding\n",
      "vacation\n",
      "halloween\n",
      "trip\n",
      "reunion\n",
      "facetime\n",
      "---------\n"
     ]
    },
    {
     "data": {
      "text/markdown": [
       "# crew"
      ],
      "text/plain": [
       "<IPython.core.display.Markdown object>"
      ]
     },
     "metadata": {},
     "output_type": "display_data"
    },
    {
     "data": {
      "text/markdown": [
       "#### Urban"
      ],
      "text/plain": [
       "<IPython.core.display.Markdown object>"
      ]
     },
     "metadata": {},
     "output_type": "display_data"
    },
    {
     "name": "stdout",
     "output_type": "stream",
     "text": [
      "------\n",
      "cast\n",
      "squad\n",
      "pod\n",
      "lounge\n",
      "guests\n",
      "band\n",
      "studio\n",
      "gig\n",
      "staff\n",
      "venue\n",
      "------\n"
     ]
    },
    {
     "data": {
      "text/markdown": [
       "#### Rural"
      ],
      "text/plain": [
       "<IPython.core.display.Markdown object>"
      ]
     },
     "metadata": {},
     "output_type": "display_data"
    },
    {
     "name": "stdout",
     "output_type": "stream",
     "text": [
      "-----------\n",
      "staff\n",
      "squad\n",
      "ace\n",
      "tribe\n",
      "band\n",
      "performance\n",
      "team\n",
      "volunteers\n",
      "guests\n",
      "deck\n",
      "-----------\n"
     ]
    },
    {
     "data": {
      "text/markdown": [
       "# again"
      ],
      "text/plain": [
       "<IPython.core.display.Markdown object>"
      ]
     },
     "metadata": {},
     "output_type": "display_data"
    },
    {
     "data": {
      "text/markdown": [
       "#### Urban"
      ],
      "text/plain": [
       "<IPython.core.display.Markdown object>"
      ]
     },
     "metadata": {},
     "output_type": "display_data"
    },
    {
     "name": "stdout",
     "output_type": "stream",
     "text": [
      "--------\n",
      "then\n",
      "sometime\n",
      "anyway\n",
      "alright\n",
      "back\n",
      "welp\n",
      "brb\n",
      "anyways\n",
      "okay\n",
      "quit\n",
      "--------\n"
     ]
    },
    {
     "data": {
      "text/markdown": [
       "#### Rural"
      ],
      "text/plain": [
       "<IPython.core.display.Markdown object>"
      ]
     },
     "metadata": {},
     "output_type": "display_data"
    },
    {
     "name": "stdout",
     "output_type": "stream",
     "text": [
      "---------\n",
      "sometime\n",
      "back\n",
      "quit\n",
      "hopefully\n",
      "alright\n",
      "stop\n",
      "something\n",
      "still\n",
      "anyway\n",
      "gone\n",
      "---------\n"
     ]
    },
    {
     "data": {
      "text/markdown": [
       "# market"
      ],
      "text/plain": [
       "<IPython.core.display.Markdown object>"
      ]
     },
     "metadata": {},
     "output_type": "display_data"
    },
    {
     "data": {
      "text/markdown": [
       "#### Urban"
      ],
      "text/plain": [
       "<IPython.core.display.Markdown object>"
      ]
     },
     "metadata": {},
     "output_type": "display_data"
    },
    {
     "name": "stdout",
     "output_type": "stream",
     "text": [
      "-------------\n",
      "markets\n",
      "revenue\n",
      "enterprise\n",
      "stocks\n",
      "consumer\n",
      "bitcoin\n",
      "economy\n",
      "investors\n",
      "manufacturing\n",
      "investment\n",
      "-------------\n"
     ]
    },
    {
     "data": {
      "text/markdown": [
       "#### Rural"
      ],
      "text/plain": [
       "<IPython.core.display.Markdown object>"
      ]
     },
     "metadata": {},
     "output_type": "display_data"
    },
    {
     "name": "stdout",
     "output_type": "stream",
     "text": [
      "------------\n",
      "markets\n",
      "prices\n",
      "farmers\n",
      "housing\n",
      "sales\n",
      "industry\n",
      "retail\n",
      "economy\n",
      "construction\n",
      "pricing\n",
      "------------\n"
     ]
    },
    {
     "data": {
      "text/markdown": [
       "# recent"
      ],
      "text/plain": [
       "<IPython.core.display.Markdown object>"
      ]
     },
     "metadata": {},
     "output_type": "display_data"
    },
    {
     "data": {
      "text/markdown": [
       "#### Urban"
      ],
      "text/plain": [
       "<IPython.core.display.Markdown object>"
      ]
     },
     "metadata": {},
     "output_type": "display_data"
    },
    {
     "name": "stdout",
     "output_type": "stream",
     "text": [
      "---------\n",
      "previous\n",
      "upcoming\n",
      "brief\n",
      "regarding\n",
      "latest\n",
      "memorable\n",
      "major\n",
      "depth\n",
      "newest\n",
      "readers\n",
      "---------\n"
     ]
    },
    {
     "data": {
      "text/markdown": [
       "#### Rural"
      ],
      "text/plain": [
       "<IPython.core.display.Markdown object>"
      ]
     },
     "metadata": {},
     "output_type": "display_data"
    },
    {
     "name": "stdout",
     "output_type": "stream",
     "text": [
      "---------\n",
      "insight\n",
      "upcoming\n",
      "previous\n",
      "recently\n",
      "potential\n",
      "continued\n",
      "readers\n",
      "viewers\n",
      "icymi\n",
      "articles\n",
      "---------\n"
     ]
    },
    {
     "data": {
      "text/markdown": [
       "# officially"
      ],
      "text/plain": [
       "<IPython.core.display.Markdown object>"
      ]
     },
     "metadata": {},
     "output_type": "display_data"
    },
    {
     "data": {
      "text/markdown": [
       "#### Urban"
      ],
      "text/plain": [
       "<IPython.core.display.Markdown object>"
      ]
     },
     "metadata": {},
     "output_type": "display_data"
    },
    {
     "name": "stdout",
     "output_type": "stream",
     "text": [
      "---------\n",
      "already\n",
      "finally\n",
      "yet\n",
      "since\n",
      "countdown\n",
      "almost\n",
      "2019\n",
      "newly\n",
      "canceled\n",
      "cancelled\n",
      "---------\n"
     ]
    },
    {
     "data": {
      "text/markdown": [
       "#### Rural"
      ],
      "text/plain": [
       "<IPython.core.display.Markdown object>"
      ]
     },
     "metadata": {},
     "output_type": "display_data"
    },
    {
     "name": "stdout",
     "output_type": "stream",
     "text": [
      "------------\n",
      "already\n",
      "finally\n",
      "almost\n",
      "since\n",
      "yet\n",
      "countdown\n",
      "yay\n",
      "sophomore\n",
      "registration\n",
      "welp\n",
      "------------\n"
     ]
    },
    {
     "data": {
      "text/markdown": [
       "# trouble"
      ],
      "text/plain": [
       "<IPython.core.display.Markdown object>"
      ]
     },
     "metadata": {},
     "output_type": "display_data"
    },
    {
     "data": {
      "text/markdown": [
       "#### Urban"
      ],
      "text/plain": [
       "<IPython.core.display.Markdown object>"
      ]
     },
     "metadata": {},
     "output_type": "display_data"
    },
    {
     "name": "stdout",
     "output_type": "stream",
     "text": [
      "-----------\n",
      "involved\n",
      "problems\n",
      "issues\n",
      "problem\n",
      "stuck\n",
      "confidence\n",
      "interested\n",
      "frustration\n",
      "feelings\n",
      "nightmares\n",
      "-----------\n"
     ]
    },
    {
     "data": {
      "text/markdown": [
       "#### Rural"
      ],
      "text/plain": [
       "<IPython.core.display.Markdown object>"
      ]
     },
     "metadata": {},
     "output_type": "display_data"
    },
    {
     "name": "stdout",
     "output_type": "stream",
     "text": [
      "----------\n",
      "involved\n",
      "stuck\n",
      "problems\n",
      "problem\n",
      "issues\n",
      "confidence\n",
      "feelings\n",
      "caught\n",
      "thrown\n",
      "faith\n",
      "----------\n"
     ]
    },
    {
     "data": {
      "text/markdown": [
       "# deal"
      ],
      "text/plain": [
       "<IPython.core.display.Markdown object>"
      ]
     },
     "metadata": {},
     "output_type": "display_data"
    },
    {
     "data": {
      "text/markdown": [
       "#### Urban"
      ],
      "text/plain": [
       "<IPython.core.display.Markdown object>"
      ]
     },
     "metadata": {},
     "output_type": "display_data"
    },
    {
     "name": "stdout",
     "output_type": "stream",
     "text": [
      "---------\n",
      "contract\n",
      "problem\n",
      "compete\n",
      "trade\n",
      "argue\n",
      "agreement\n",
      "dealing\n",
      "deals\n",
      "replace\n",
      "comeback\n",
      "---------\n"
     ]
    },
    {
     "data": {
      "text/markdown": [
       "#### Rural"
      ],
      "text/plain": [
       "<IPython.core.display.Markdown object>"
      ]
     },
     "metadata": {},
     "output_type": "display_data"
    },
    {
     "name": "stdout",
     "output_type": "stream",
     "text": [
      "----------\n",
      "deals\n",
      "problem\n",
      "argue\n",
      "mess\n",
      "dealing\n",
      "trade\n",
      "agreement\n",
      "agree\n",
      "surprise\n",
      "connection\n",
      "----------\n"
     ]
    },
    {
     "data": {
      "text/markdown": [
       "# dead"
      ],
      "text/plain": [
       "<IPython.core.display.Markdown object>"
      ]
     },
     "metadata": {},
     "output_type": "display_data"
    },
    {
     "data": {
      "text/markdown": [
       "#### Urban"
      ],
      "text/plain": [
       "<IPython.core.display.Markdown object>"
      ]
     },
     "metadata": {},
     "output_type": "display_data"
    },
    {
     "name": "stdout",
     "output_type": "stream",
     "text": [
      "---------\n",
      "dying\n",
      "screaming\n",
      "trapped\n",
      "buried\n",
      "shook\n",
      "crying\n",
      "killed\n",
      "killing\n",
      "bald\n",
      "injured\n",
      "---------\n"
     ]
    },
    {
     "data": {
      "text/markdown": [
       "#### Rural"
      ],
      "text/plain": [
       "<IPython.core.display.Markdown object>"
      ]
     },
     "metadata": {},
     "output_type": "display_data"
    },
    {
     "name": "stdout",
     "output_type": "stream",
     "text": [
      "---------\n",
      "dying\n",
      "alive\n",
      "killed\n",
      "injured\n",
      "screaming\n",
      "psycho\n",
      "killing\n",
      "creepy\n",
      "deadly\n",
      "guilty\n",
      "---------\n"
     ]
    },
    {
     "data": {
      "text/markdown": [
       "# example"
      ],
      "text/plain": [
       "<IPython.core.display.Markdown object>"
      ]
     },
     "metadata": {},
     "output_type": "display_data"
    },
    {
     "data": {
      "text/markdown": [
       "#### Urban"
      ],
      "text/plain": [
       "<IPython.core.display.Markdown object>"
      ]
     },
     "metadata": {},
     "output_type": "display_data"
    },
    {
     "name": "stdout",
     "output_type": "stream",
     "text": [
      "--------------\n",
      "explanation\n",
      "representation\n",
      "definition\n",
      "understanding\n",
      "combination\n",
      "form\n",
      "intellectual\n",
      "idea\n",
      "individual\n",
      "organization\n",
      "--------------\n"
     ]
    },
    {
     "data": {
      "text/markdown": [
       "#### Rural"
      ],
      "text/plain": [
       "<IPython.core.display.Markdown object>"
      ]
     },
     "metadata": {},
     "output_type": "display_data"
    },
    {
     "name": "stdout",
     "output_type": "stream",
     "text": [
      "-------------\n",
      "explanation\n",
      "organization\n",
      "platform\n",
      "definition\n",
      "image\n",
      "embarrassment\n",
      "source\n",
      "description\n",
      "piece\n",
      "dose\n",
      "-------------\n"
     ]
    },
    {
     "data": {
      "text/markdown": [
       "# chance"
      ],
      "text/plain": [
       "<IPython.core.display.Markdown object>"
      ]
     },
     "metadata": {},
     "output_type": "display_data"
    },
    {
     "data": {
      "text/markdown": [
       "#### Urban"
      ],
      "text/plain": [
       "<IPython.core.display.Markdown object>"
      ]
     },
     "metadata": {},
     "output_type": "display_data"
    },
    {
     "name": "stdout",
     "output_type": "stream",
     "text": [
      "-----------\n",
      "opportunity\n",
      "ticket\n",
      "goal\n",
      "choice\n",
      "chances\n",
      "donation\n",
      "pair\n",
      "prize\n",
      "enter\n",
      "spot\n",
      "-----------\n"
     ]
    },
    {
     "data": {
      "text/markdown": [
       "#### Rural"
      ],
      "text/plain": [
       "<IPython.core.display.Markdown object>"
      ]
     },
     "metadata": {},
     "output_type": "display_data"
    },
    {
     "name": "stdout",
     "output_type": "stream",
     "text": [
      "--------\n",
      "entered\n",
      "giveaway\n",
      "enter\n",
      "sweeps\n",
      "pair\n",
      "combo\n",
      "getaway\n",
      "bag\n",
      "choice\n",
      "discount\n",
      "--------\n"
     ]
    },
    {
     "data": {
      "text/markdown": [
       "# asap"
      ],
      "text/plain": [
       "<IPython.core.display.Markdown object>"
      ]
     },
     "metadata": {},
     "output_type": "display_data"
    },
    {
     "data": {
      "text/markdown": [
       "#### Urban"
      ],
      "text/plain": [
       "<IPython.core.display.Markdown object>"
      ]
     },
     "metadata": {},
     "output_type": "display_data"
    },
    {
     "name": "stdout",
     "output_type": "stream",
     "text": [
      "--------\n",
      "sometime\n",
      "pls\n",
      "plz\n",
      "soon\n",
      "hml\n",
      "hurry\n",
      "hmu\n",
      "tmrw\n",
      "lemme\n",
      "scoop\n",
      "--------\n"
     ]
    },
    {
     "data": {
      "text/markdown": [
       "#### Rural"
      ],
      "text/plain": [
       "<IPython.core.display.Markdown object>"
      ]
     },
     "metadata": {},
     "output_type": "display_data"
    },
    {
     "name": "stdout",
     "output_type": "stream",
     "text": [
      "-----------\n",
      "sometime\n",
      "soon\n",
      "plz\n",
      "pls\n",
      "hurry\n",
      "sos\n",
      "dm\n",
      "suggestions\n",
      "hmu\n",
      "please\n",
      "-----------\n"
     ]
    },
    {
     "data": {
      "text/markdown": [
       "# a"
      ],
      "text/plain": [
       "<IPython.core.display.Markdown object>"
      ]
     },
     "metadata": {},
     "output_type": "display_data"
    },
    {
     "data": {
      "text/markdown": [
       "#### Urban"
      ],
      "text/plain": [
       "<IPython.core.display.Markdown object>"
      ]
     },
     "metadata": {},
     "output_type": "display_data"
    },
    {
     "name": "stdout",
     "output_type": "stream",
     "text": [
      "--------\n",
      "another\n",
      "this\n",
      "every\n",
      "an\n",
      "issa\n",
      "any\n",
      "the\n",
      "such\n",
      "syndrome\n",
      "that\n",
      "--------\n"
     ]
    },
    {
     "data": {
      "text/markdown": [
       "#### Rural"
      ],
      "text/plain": [
       "<IPython.core.display.Markdown object>"
      ]
     },
     "metadata": {},
     "output_type": "display_data"
    },
    {
     "name": "stdout",
     "output_type": "stream",
     "text": [
      "---------\n",
      "another\n",
      "this\n",
      "an\n",
      "every\n",
      "issa\n",
      "any\n",
      "the\n",
      "such\n",
      "something\n",
      "whole\n",
      "---------\n"
     ]
    },
    {
     "data": {
      "text/markdown": [
       "# air"
      ],
      "text/plain": [
       "<IPython.core.display.Markdown object>"
      ]
     },
     "metadata": {},
     "output_type": "display_data"
    },
    {
     "data": {
      "text/markdown": [
       "#### Urban"
      ],
      "text/plain": [
       "<IPython.core.display.Markdown object>"
      ]
     },
     "metadata": {},
     "output_type": "display_data"
    },
    {
     "name": "stdout",
     "output_type": "stream",
     "text": [
      "---------\n",
      "nike\n",
      "skies\n",
      "electric\n",
      "sky\n",
      "lightning\n",
      "brute\n",
      "retro\n",
      "v2\n",
      "edge\n",
      "ground\n",
      "---------\n"
     ]
    },
    {
     "data": {
      "text/markdown": [
       "#### Rural"
      ],
      "text/plain": [
       "<IPython.core.display.Markdown object>"
      ]
     },
     "metadata": {},
     "output_type": "display_data"
    },
    {
     "name": "stdout",
     "output_type": "stream",
     "text": [
      "-------\n",
      "water\n",
      "dust\n",
      "breeze\n",
      "surface\n",
      "fire\n",
      "range\n",
      "pad\n",
      "waves\n",
      "roof\n",
      "desert\n",
      "-------\n"
     ]
    },
    {
     "data": {
      "text/markdown": [
       "# piece"
      ],
      "text/plain": [
       "<IPython.core.display.Markdown object>"
      ]
     },
     "metadata": {},
     "output_type": "display_data"
    },
    {
     "data": {
      "text/markdown": [
       "#### Urban"
      ],
      "text/plain": [
       "<IPython.core.display.Markdown object>"
      ]
     },
     "metadata": {},
     "output_type": "display_data"
    },
    {
     "name": "stdout",
     "output_type": "stream",
     "text": [
      "-----------\n",
      "pile\n",
      "sack\n",
      "pieces\n",
      "slice\n",
      "example\n",
      "definition\n",
      "combination\n",
      "ton\n",
      "bunch\n",
      "thread\n",
      "-----------\n"
     ]
    },
    {
     "data": {
      "text/markdown": [
       "#### Rural"
      ],
      "text/plain": [
       "<IPython.core.display.Markdown object>"
      ]
     },
     "metadata": {},
     "output_type": "display_data"
    },
    {
     "name": "stdout",
     "output_type": "stream",
     "text": [
      "------\n",
      "sack\n",
      "pieces\n",
      "bag\n",
      "bunch\n",
      "ton\n",
      "pile\n",
      "pair\n",
      "kind\n",
      "string\n",
      "box\n",
      "------\n"
     ]
    },
    {
     "data": {
      "text/markdown": [
       "# heavy"
      ],
      "text/plain": [
       "<IPython.core.display.Markdown object>"
      ]
     },
     "metadata": {},
     "output_type": "display_data"
    },
    {
     "data": {
      "text/markdown": [
       "#### Urban"
      ],
      "text/plain": [
       "<IPython.core.display.Markdown object>"
      ]
     },
     "metadata": {},
     "output_type": "display_data"
    },
    {
     "name": "stdout",
     "output_type": "stream",
     "text": [
      "------\n",
      "cold\n",
      "metal\n",
      "smooth\n",
      "fire\n",
      "tight\n",
      "acid\n",
      "steady\n",
      "severe\n",
      "heat\n",
      "soft\n",
      "------\n"
     ]
    },
    {
     "data": {
      "text/markdown": [
       "#### Rural"
      ],
      "text/plain": [
       "<IPython.core.display.Markdown object>"
      ]
     },
     "metadata": {},
     "output_type": "display_data"
    },
    {
     "name": "stdout",
     "output_type": "stream",
     "text": [
      "--------\n",
      "hail\n",
      "cold\n",
      "snow\n",
      "freezing\n",
      "thunder\n",
      "metal\n",
      "fog\n",
      "wet\n",
      "large\n",
      "severe\n",
      "--------\n"
     ]
    },
    {
     "data": {
      "text/markdown": [
       "# review"
      ],
      "text/plain": [
       "<IPython.core.display.Markdown object>"
      ]
     },
     "metadata": {},
     "output_type": "display_data"
    },
    {
     "data": {
      "text/markdown": [
       "#### Urban"
      ],
      "text/plain": [
       "<IPython.core.display.Markdown object>"
      ]
     },
     "metadata": {},
     "output_type": "display_data"
    },
    {
     "name": "stdout",
     "output_type": "stream",
     "text": [
      "---------\n",
      "preview\n",
      "reviews\n",
      "novel\n",
      "teaser\n",
      "edition\n",
      "featuring\n",
      "recap\n",
      "summary\n",
      "trailer\n",
      "series\n",
      "---------\n"
     ]
    },
    {
     "data": {
      "text/markdown": [
       "#### Rural"
      ],
      "text/plain": [
       "<IPython.core.display.Markdown object>"
      ]
     },
     "metadata": {},
     "output_type": "display_data"
    },
    {
     "name": "stdout",
     "output_type": "stream",
     "text": [
      "------------\n",
      "reviews\n",
      "analysis\n",
      "magazine\n",
      "collection\n",
      "release\n",
      "releases\n",
      "editor\n",
      "presentation\n",
      "book\n",
      "guide\n",
      "------------\n"
     ]
    },
    {
     "data": {
      "text/markdown": [
       "# goodbye"
      ],
      "text/plain": [
       "<IPython.core.display.Markdown object>"
      ]
     },
     "metadata": {},
     "output_type": "display_data"
    },
    {
     "data": {
      "text/markdown": [
       "#### Urban"
      ],
      "text/plain": [
       "<IPython.core.display.Markdown object>"
      ]
     },
     "metadata": {},
     "output_type": "display_data"
    },
    {
     "name": "stdout",
     "output_type": "stream",
     "text": [
      "---------\n",
      "bye\n",
      "hello\n",
      "goodnight\n",
      "cough\n",
      "prayer\n",
      "hi\n",
      "xoxo\n",
      "cheers\n",
      "tracked\n",
      "follower\n",
      "---------\n"
     ]
    },
    {
     "data": {
      "text/markdown": [
       "#### Rural"
      ],
      "text/plain": [
       "<IPython.core.display.Markdown object>"
      ]
     },
     "metadata": {},
     "output_type": "display_data"
    },
    {
     "name": "stdout",
     "output_type": "stream",
     "text": [
      "-----------\n",
      "hello\n",
      "bye\n",
      "goodnight\n",
      "tweeps\n",
      "unfollowers\n",
      "hi\n",
      "unfollower\n",
      "follower\n",
      "cheers\n",
      "barack\n",
      "-----------\n"
     ]
    },
    {
     "data": {
      "text/markdown": [
       "# jersey"
      ],
      "text/plain": [
       "<IPython.core.display.Markdown object>"
      ]
     },
     "metadata": {},
     "output_type": "display_data"
    },
    {
     "data": {
      "text/markdown": [
       "#### Urban"
      ],
      "text/plain": [
       "<IPython.core.display.Markdown object>"
      ]
     },
     "metadata": {},
     "output_type": "display_data"
    },
    {
     "name": "stdout",
     "output_type": "stream",
     "text": [
      "--------\n",
      "uniform\n",
      "helmet\n",
      "jerseys\n",
      "jacket\n",
      "hoodie\n",
      "majestic\n",
      "xl\n",
      "nwt\n",
      "stadium\n",
      "mens\n",
      "--------\n"
     ]
    },
    {
     "data": {
      "text/markdown": [
       "#### Rural"
      ],
      "text/plain": [
       "<IPython.core.display.Markdown object>"
      ]
     },
     "metadata": {},
     "output_type": "display_data"
    },
    {
     "name": "stdout",
     "output_type": "stream",
     "text": [
      "-------\n",
      "england\n",
      "jerseys\n",
      "york\n",
      "uniform\n",
      "orleans\n",
      "stadium\n",
      "albany\n",
      "hoodie\n",
      "helmet\n",
      "castle\n",
      "-------\n"
     ]
    },
    {
     "data": {
      "text/markdown": [
       "# tour"
      ],
      "text/plain": [
       "<IPython.core.display.Markdown object>"
      ]
     },
     "metadata": {},
     "output_type": "display_data"
    },
    {
     "data": {
      "text/markdown": [
       "#### Urban"
      ],
      "text/plain": [
       "<IPython.core.display.Markdown object>"
      ]
     },
     "metadata": {},
     "output_type": "display_data"
    },
    {
     "name": "stdout",
     "output_type": "stream",
     "text": [
      "---------\n",
      "concert\n",
      "premiere\n",
      "festival\n",
      "adventure\n",
      "rodeo\n",
      "stage\n",
      "trip\n",
      "cruise\n",
      "fest\n",
      "takeover\n",
      "---------\n"
     ]
    },
    {
     "data": {
      "text/markdown": [
       "#### Rural"
      ],
      "text/plain": [
       "<IPython.core.display.Markdown object>"
      ]
     },
     "metadata": {},
     "output_type": "display_data"
    },
    {
     "name": "stdout",
     "output_type": "stream",
     "text": [
      "----------\n",
      "virtual\n",
      "reunion\n",
      "adventures\n",
      "adventure\n",
      "canyon\n",
      "project\n",
      "exhibit\n",
      "toyota\n",
      "preview\n",
      "listing\n",
      "----------\n"
     ]
    },
    {
     "data": {
      "text/markdown": [
       "# each"
      ],
      "text/plain": [
       "<IPython.core.display.Markdown object>"
      ]
     },
     "metadata": {},
     "output_type": "display_data"
    },
    {
     "data": {
      "text/markdown": [
       "#### Urban"
      ],
      "text/plain": [
       "<IPython.core.display.Markdown object>"
      ]
     },
     "metadata": {},
     "output_type": "display_data"
    },
    {
     "name": "stdout",
     "output_type": "stream",
     "text": [
      "-----------\n",
      "peoples\n",
      "significant\n",
      "every\n",
      "races\n",
      "monsters\n",
      "countries\n",
      "the\n",
      "pisces\n",
      "humans\n",
      "groups\n",
      "-----------\n"
     ]
    },
    {
     "data": {
      "text/markdown": [
       "#### Rural"
      ],
      "text/plain": [
       "<IPython.core.display.Markdown object>"
      ]
     },
     "metadata": {},
     "output_type": "display_data"
    },
    {
     "name": "stdout",
     "output_type": "stream",
     "text": [
      "-----------\n",
      "every\n",
      "significant\n",
      "peoples\n",
      "countries\n",
      "teams\n",
      "the\n",
      "people\n",
      "humans\n",
      "everyday\n",
      "groups\n",
      "-----------\n"
     ]
    },
    {
     "data": {
      "text/markdown": [
       "# hell"
      ],
      "text/plain": [
       "<IPython.core.display.Markdown object>"
      ]
     },
     "metadata": {},
     "output_type": "display_data"
    },
    {
     "data": {
      "text/markdown": [
       "#### Urban"
      ],
      "text/plain": [
       "<IPython.core.display.Markdown object>"
      ]
     },
     "metadata": {},
     "output_type": "display_data"
    },
    {
     "name": "stdout",
     "output_type": "stream",
     "text": [
      "------------\n",
      "heck\n",
      "fuck\n",
      "tf\n",
      "well\n",
      "fuk\n",
      "motherfucker\n",
      "kid\n",
      "shit\n",
      "crap\n",
      "cow\n",
      "------------\n"
     ]
    },
    {
     "data": {
      "text/markdown": [
       "#### Rural"
      ],
      "text/plain": [
       "<IPython.core.display.Markdown object>"
      ]
     },
     "metadata": {},
     "output_type": "display_data"
    },
    {
     "name": "stdout",
     "output_type": "stream",
     "text": [
      "-------\n",
      "heck\n",
      "fuck\n",
      "tf\n",
      "crap\n",
      "shit\n",
      "well\n",
      "nowhere\n",
      "uh\n",
      "exactly\n",
      "usual\n",
      "-------\n"
     ]
    },
    {
     "data": {
      "text/markdown": [
       "# wedding"
      ],
      "text/plain": [
       "<IPython.core.display.Markdown object>"
      ]
     },
     "metadata": {},
     "output_type": "display_data"
    },
    {
     "data": {
      "text/markdown": [
       "#### Urban"
      ],
      "text/plain": [
       "<IPython.core.display.Markdown object>"
      ]
     },
     "metadata": {},
     "output_type": "display_data"
    },
    {
     "name": "stdout",
     "output_type": "stream",
     "text": [
      "----------\n",
      "graduation\n",
      "bride\n",
      "prom\n",
      "gala\n",
      "cocktail\n",
      "halloween\n",
      "themed\n",
      "ceremony\n",
      "brunch\n",
      "funeral\n",
      "----------\n"
     ]
    },
    {
     "data": {
      "text/markdown": [
       "#### Rural"
      ],
      "text/plain": [
       "<IPython.core.display.Markdown object>"
      ]
     },
     "metadata": {},
     "output_type": "display_data"
    },
    {
     "name": "stdout",
     "output_type": "stream",
     "text": [
      "----------\n",
      "prom\n",
      "graduation\n",
      "bride\n",
      "christmas\n",
      "valentines\n",
      "costume\n",
      "valentine\n",
      "halloween\n",
      "outfit\n",
      "holiday\n",
      "----------\n"
     ]
    },
    {
     "data": {
      "text/markdown": [
       "# rest"
      ],
      "text/plain": [
       "<IPython.core.display.Markdown object>"
      ]
     },
     "metadata": {},
     "output_type": "display_data"
    },
    {
     "data": {
      "text/markdown": [
       "#### Urban"
      ],
      "text/plain": [
       "<IPython.core.display.Markdown object>"
      ]
     },
     "metadata": {},
     "output_type": "display_data"
    },
    {
     "name": "stdout",
     "output_type": "stream",
     "text": [
      "---------\n",
      "end\n",
      "rid\n",
      "spirit\n",
      "ahead\n",
      "highlight\n",
      "course\n",
      "future\n",
      "one\n",
      "none\n",
      "lord\n",
      "---------\n"
     ]
    },
    {
     "data": {
      "text/markdown": [
       "#### Rural"
      ],
      "text/plain": [
       "<IPython.core.display.Markdown object>"
      ]
     },
     "metadata": {},
     "output_type": "display_data"
    },
    {
     "name": "stdout",
     "output_type": "stream",
     "text": [
      "--------\n",
      "end\n",
      "spirit\n",
      "course\n",
      "ahead\n",
      "rid\n",
      "all\n",
      "lord\n",
      "sake\n",
      "dose\n",
      "majority\n",
      "--------\n"
     ]
    },
    {
     "data": {
      "text/markdown": [
       "# please"
      ],
      "text/plain": [
       "<IPython.core.display.Markdown object>"
      ]
     },
     "metadata": {},
     "output_type": "display_data"
    },
    {
     "data": {
      "text/markdown": [
       "#### Urban"
      ],
      "text/plain": [
       "<IPython.core.display.Markdown object>"
      ]
     },
     "metadata": {},
     "output_type": "display_data"
    },
    {
     "name": "stdout",
     "output_type": "stream",
     "text": [
      "--------\n",
      "plz\n",
      "pls\n",
      "request\n",
      "lets\n",
      "let\n",
      "requests\n",
      "lemme\n",
      "petition\n",
      "dm\n",
      "help\n",
      "--------\n"
     ]
    },
    {
     "data": {
      "text/markdown": [
       "#### Rural"
      ],
      "text/plain": [
       "<IPython.core.display.Markdown object>"
      ]
     },
     "metadata": {},
     "output_type": "display_data"
    },
    {
     "name": "stdout",
     "output_type": "stream",
     "text": [
      "-------\n",
      "pls\n",
      "plz\n",
      "request\n",
      "pledge\n",
      "let\n",
      "lets\n",
      "dear\n",
      "help\n",
      "ill\n",
      "us\n",
      "-------\n"
     ]
    },
    {
     "data": {
      "text/markdown": [
       "# worth"
      ],
      "text/plain": [
       "<IPython.core.display.Markdown object>"
      ]
     },
     "metadata": {},
     "output_type": "display_data"
    },
    {
     "data": {
      "text/markdown": [
       "#### Urban"
      ],
      "text/plain": [
       "<IPython.core.display.Markdown object>"
      ]
     },
     "metadata": {},
     "output_type": "display_data"
    },
    {
     "name": "stdout",
     "output_type": "stream",
     "text": [
      "----------\n",
      "exhausting\n",
      "worthy\n",
      "fault\n",
      "fair\n",
      "necessary\n",
      "ridiculous\n",
      "capable\n",
      "impossible\n",
      "valuable\n",
      "aware\n",
      "----------\n"
     ]
    },
    {
     "data": {
      "text/markdown": [
       "#### Rural"
      ],
      "text/plain": [
       "<IPython.core.display.Markdown object>"
      ]
     },
     "metadata": {},
     "output_type": "display_data"
    },
    {
     "name": "stdout",
     "output_type": "stream",
     "text": [
      "----------\n",
      "guaranteed\n",
      "fault\n",
      "worthy\n",
      "expensive\n",
      "accurate\n",
      "okay\n",
      "priceless\n",
      "ridiculous\n",
      "pointless\n",
      "unreal\n",
      "----------\n"
     ]
    },
    {
     "data": {
      "text/markdown": [
       "# an"
      ],
      "text/plain": [
       "<IPython.core.display.Markdown object>"
      ]
     },
     "metadata": {},
     "output_type": "display_data"
    },
    {
     "data": {
      "text/markdown": [
       "#### Urban"
      ],
      "text/plain": [
       "<IPython.core.display.Markdown object>"
      ]
     },
     "metadata": {},
     "output_type": "display_data"
    },
    {
     "name": "stdout",
     "output_type": "stream",
     "text": [
      "--------\n",
      "another\n",
      "a\n",
      "rush\n",
      "this\n",
      "huge\n",
      "any\n",
      "complete\n",
      "itself\n",
      "multi\n",
      "proper\n",
      "--------\n"
     ]
    },
    {
     "data": {
      "text/markdown": [
       "#### Rural"
      ],
      "text/plain": [
       "<IPython.core.display.Markdown object>"
      ]
     },
     "metadata": {},
     "output_type": "display_data"
    },
    {
     "name": "stdout",
     "output_type": "stream",
     "text": [
      "----------\n",
      "another\n",
      "a\n",
      "complete\n",
      "this\n",
      "honesty\n",
      "huge\n",
      "proper\n",
      "reasonable\n",
      "zero\n",
      "any\n",
      "----------\n"
     ]
    },
    {
     "data": {
      "text/markdown": [
       "# has"
      ],
      "text/plain": [
       "<IPython.core.display.Markdown object>"
      ]
     },
     "metadata": {},
     "output_type": "display_data"
    },
    {
     "data": {
      "text/markdown": [
       "#### Urban"
      ],
      "text/plain": [
       "<IPython.core.display.Markdown object>"
      ]
     },
     "metadata": {},
     "output_type": "display_data"
    },
    {
     "name": "stdout",
     "output_type": "stream",
     "text": [
      "--------\n",
      "hasn\n",
      "ive\n",
      "deserves\n",
      "remains\n",
      "s\n",
      "needs\n",
      "uses\n",
      "gets\n",
      "owns\n",
      "have\n",
      "--------\n"
     ]
    },
    {
     "data": {
      "text/markdown": [
       "#### Rural"
      ],
      "text/plain": [
       "<IPython.core.display.Markdown object>"
      ]
     },
     "metadata": {},
     "output_type": "display_data"
    },
    {
     "name": "stdout",
     "output_type": "stream",
     "text": [
      "------\n",
      "hasn\n",
      "ive\n",
      "needs\n",
      "s\n",
      "sees\n",
      "woulda\n",
      "is\n",
      "owns\n",
      "ve\n",
      "gets\n",
      "------\n"
     ]
    },
    {
     "data": {
      "text/markdown": [
       "# magic"
      ],
      "text/plain": [
       "<IPython.core.display.Markdown object>"
      ]
     },
     "metadata": {},
     "output_type": "display_data"
    },
    {
     "data": {
      "text/markdown": [
       "#### Urban"
      ],
      "text/plain": [
       "<IPython.core.display.Markdown object>"
      ]
     },
     "metadata": {},
     "output_type": "display_data"
    },
    {
     "name": "stdout",
     "output_type": "stream",
     "text": [
      "----------\n",
      "jack\n",
      "knight\n",
      "piano\n",
      "johnson\n",
      "mickey\n",
      "hunter\n",
      "jungle\n",
      "mysterious\n",
      "clay\n",
      "malcolm\n",
      "----------\n"
     ]
    },
    {
     "data": {
      "text/markdown": [
       "#### Rural"
      ],
      "text/plain": [
       "<IPython.core.display.Markdown object>"
      ]
     },
     "metadata": {},
     "output_type": "display_data"
    },
    {
     "name": "stdout",
     "output_type": "stream",
     "text": [
      "--------\n",
      "trio\n",
      "batman\n",
      "shadows\n",
      "ghost\n",
      "wooden\n",
      "universe\n",
      "ancient\n",
      "elvis\n",
      "jungle\n",
      "mickey\n",
      "--------\n"
     ]
    },
    {
     "data": {
      "text/markdown": [
       "# famous"
      ],
      "text/plain": [
       "<IPython.core.display.Markdown object>"
      ]
     },
     "metadata": {},
     "output_type": "display_data"
    },
    {
     "data": {
      "text/markdown": [
       "#### Urban"
      ],
      "text/plain": [
       "<IPython.core.display.Markdown object>"
      ]
     },
     "metadata": {},
     "output_type": "display_data"
    },
    {
     "name": "stdout",
     "output_type": "stream",
     "text": [
      "---------\n",
      "popular\n",
      "funny\n",
      "celebrity\n",
      "gay\n",
      "ghetto\n",
      "rich\n",
      "iconic\n",
      "offended\n",
      "legendary\n",
      "raped\n",
      "---------\n"
     ]
    },
    {
     "data": {
      "text/markdown": [
       "#### Rural"
      ],
      "text/plain": [
       "<IPython.core.display.Markdown object>"
      ]
     },
     "metadata": {},
     "output_type": "display_data"
    },
    {
     "name": "stdout",
     "output_type": "stream",
     "text": [
      "---------\n",
      "popular\n",
      "funny\n",
      "legendary\n",
      "iconic\n",
      "celebrity\n",
      "offended\n",
      "drunk\n",
      "hilarious\n",
      "hottest\n",
      "gay\n",
      "---------\n"
     ]
    },
    {
     "data": {
      "text/markdown": [
       "# right"
      ],
      "text/plain": [
       "<IPython.core.display.Markdown object>"
      ]
     },
     "metadata": {},
     "output_type": "display_data"
    },
    {
     "data": {
      "text/markdown": [
       "#### Urban"
      ],
      "text/plain": [
       "<IPython.core.display.Markdown object>"
      ]
     },
     "metadata": {},
     "output_type": "display_data"
    },
    {
     "name": "stdout",
     "output_type": "stream",
     "text": [
      "----------\n",
      "wrong\n",
      "correct\n",
      "same\n",
      "irrelevant\n",
      "yup\n",
      "okay\n",
      "stuck\n",
      "what\n",
      "realizing\n",
      "trending\n",
      "----------\n"
     ]
    },
    {
     "data": {
      "text/markdown": [
       "#### Rural"
      ],
      "text/plain": [
       "<IPython.core.display.Markdown object>"
      ]
     },
     "metadata": {},
     "output_type": "display_data"
    },
    {
     "name": "stdout",
     "output_type": "stream",
     "text": [
      "----------\n",
      "wrong\n",
      "same\n",
      "correct\n",
      "danz\n",
      "where\n",
      "irrelevant\n",
      "what\n",
      "better\n",
      "whatever\n",
      "jamming\n",
      "----------\n"
     ]
    },
    {
     "data": {
      "text/markdown": [
       "# during"
      ],
      "text/plain": [
       "<IPython.core.display.Markdown object>"
      ]
     },
     "metadata": {},
     "output_type": "display_data"
    },
    {
     "data": {
      "text/markdown": [
       "#### Urban"
      ],
      "text/plain": [
       "<IPython.core.display.Markdown object>"
      ]
     },
     "metadata": {},
     "output_type": "display_data"
    },
    {
     "name": "stdout",
     "output_type": "stream",
     "text": [
      "----------\n",
      "after\n",
      "throughout\n",
      "before\n",
      "prior\n",
      "last\n",
      "in\n",
      "amid\n",
      "first\n",
      "national\n",
      "despite\n",
      "----------\n"
     ]
    },
    {
     "data": {
      "text/markdown": [
       "#### Rural"
      ],
      "text/plain": [
       "<IPython.core.display.Markdown object>"
      ]
     },
     "metadata": {},
     "output_type": "display_data"
    },
    {
     "name": "stdout",
     "output_type": "stream",
     "text": [
      "----------\n",
      "after\n",
      "throughout\n",
      "prior\n",
      "before\n",
      "last\n",
      "in\n",
      "first\n",
      "extended\n",
      "from\n",
      "upcoming\n",
      "----------\n"
     ]
    },
    {
     "data": {
      "text/markdown": [
       "# finally"
      ],
      "text/plain": [
       "<IPython.core.display.Markdown object>"
      ]
     },
     "metadata": {},
     "output_type": "display_data"
    },
    {
     "data": {
      "text/markdown": [
       "#### Urban"
      ],
      "text/plain": [
       "<IPython.core.display.Markdown object>"
      ]
     },
     "metadata": {},
     "output_type": "display_data"
    },
    {
     "name": "stdout",
     "output_type": "stream",
     "text": [
      "----------\n",
      "officially\n",
      "already\n",
      "yay\n",
      "before\n",
      "just\n",
      "today\n",
      "glad\n",
      "suddenly\n",
      "recently\n",
      "hopefully\n",
      "----------\n"
     ]
    },
    {
     "data": {
      "text/markdown": [
       "#### Rural"
      ],
      "text/plain": [
       "<IPython.core.display.Markdown object>"
      ]
     },
     "metadata": {},
     "output_type": "display_data"
    },
    {
     "name": "stdout",
     "output_type": "stream",
     "text": [
      "----------\n",
      "officially\n",
      "already\n",
      "yay\n",
      "welp\n",
      "almost\n",
      "just\n",
      "glad\n",
      "before\n",
      "chills\n",
      "patiently\n",
      "----------\n"
     ]
    },
    {
     "data": {
      "text/markdown": [
       "# quite"
      ],
      "text/plain": [
       "<IPython.core.display.Markdown object>"
      ]
     },
     "metadata": {},
     "output_type": "display_data"
    },
    {
     "data": {
      "text/markdown": [
       "#### Urban"
      ],
      "text/plain": [
       "<IPython.core.display.Markdown object>"
      ]
     },
     "metadata": {},
     "output_type": "display_data"
    },
    {
     "name": "stdout",
     "output_type": "stream",
     "text": [
      "-------------\n",
      "somewhat\n",
      "surprisingly\n",
      "very\n",
      "particularly\n",
      "sadly\n",
      "although\n",
      "fairly\n",
      "unfortunately\n",
      "incredibly\n",
      "entirely\n",
      "-------------\n"
     ]
    },
    {
     "data": {
      "text/markdown": [
       "#### Rural"
      ],
      "text/plain": [
       "<IPython.core.display.Markdown object>"
      ]
     },
     "metadata": {},
     "output_type": "display_data"
    },
    {
     "name": "stdout",
     "output_type": "stream",
     "text": [
      "-------------\n",
      "very\n",
      "however\n",
      "extremely\n",
      "although\n",
      "certainly\n",
      "sadly\n",
      "unfortunately\n",
      "pretty\n",
      "entirely\n",
      "indeed\n",
      "-------------\n"
     ]
    },
    {
     "data": {
      "text/markdown": [
       "# disney"
      ],
      "text/plain": [
       "<IPython.core.display.Markdown object>"
      ]
     },
     "metadata": {},
     "output_type": "display_data"
    },
    {
     "data": {
      "text/markdown": [
       "#### Urban"
      ],
      "text/plain": [
       "<IPython.core.display.Markdown object>"
      ]
     },
     "metadata": {},
     "output_type": "display_data"
    },
    {
     "name": "stdout",
     "output_type": "stream",
     "text": [
      "----------\n",
      "marvel\n",
      "disneyland\n",
      "lego\n",
      "horror\n",
      "premiere\n",
      "studios\n",
      "animated\n",
      "superhero\n",
      "sony\n",
      "cinema\n",
      "----------\n"
     ]
    },
    {
     "data": {
      "text/markdown": [
       "#### Rural"
      ],
      "text/plain": [
       "<IPython.core.display.Markdown object>"
      ]
     },
     "metadata": {},
     "output_type": "display_data"
    },
    {
     "name": "stdout",
     "output_type": "stream",
     "text": [
      "--------\n",
      "premiere\n",
      "lego\n",
      "kong\n",
      "marvel\n",
      "romantic\n",
      "theatre\n",
      "horror\n",
      "animated\n",
      "sonic\n",
      "haunted\n",
      "--------\n"
     ]
    },
    {
     "data": {
      "text/markdown": [
       "# the"
      ],
      "text/plain": [
       "<IPython.core.display.Markdown object>"
      ]
     },
     "metadata": {},
     "output_type": "display_data"
    },
    {
     "data": {
      "text/markdown": [
       "#### Urban"
      ],
      "text/plain": [
       "<IPython.core.display.Markdown object>"
      ]
     },
     "metadata": {},
     "output_type": "display_data"
    },
    {
     "name": "stdout",
     "output_type": "stream",
     "text": [
      "-------\n",
      "our\n",
      "this\n",
      "their\n",
      "which\n",
      "each\n",
      "america\n",
      "another\n",
      "worlds\n",
      "any\n",
      "history\n",
      "-------\n"
     ]
    },
    {
     "data": {
      "text/markdown": [
       "#### Rural"
      ],
      "text/plain": [
       "<IPython.core.display.Markdown object>"
      ]
     },
     "metadata": {},
     "output_type": "display_data"
    },
    {
     "name": "stdout",
     "output_type": "stream",
     "text": [
      "--------\n",
      "our\n",
      "their\n",
      "this\n",
      "which\n",
      "america\n",
      "humanity\n",
      "history\n",
      "a\n",
      "each\n",
      "his\n",
      "--------\n"
     ]
    },
    {
     "data": {
      "text/markdown": [
       "# popular"
      ],
      "text/plain": [
       "<IPython.core.display.Markdown object>"
      ]
     },
     "metadata": {},
     "output_type": "display_data"
    },
    {
     "data": {
      "text/markdown": [
       "#### Urban"
      ],
      "text/plain": [
       "<IPython.core.display.Markdown object>"
      ]
     },
     "metadata": {},
     "output_type": "display_data"
    },
    {
     "name": "stdout",
     "output_type": "stream",
     "text": [
      "-------------\n",
      "likely\n",
      "famous\n",
      "controversial\n",
      "dangerous\n",
      "memorable\n",
      "valuable\n",
      "expensive\n",
      "relevant\n",
      "mainstream\n",
      "qualified\n",
      "-------------\n"
     ]
    },
    {
     "data": {
      "text/markdown": [
       "#### Rural"
      ],
      "text/plain": [
       "<IPython.core.display.Markdown object>"
      ]
     },
     "metadata": {},
     "output_type": "display_data"
    },
    {
     "name": "stdout",
     "output_type": "stream",
     "text": [
      "------------\n",
      "famous\n",
      "effective\n",
      "likely\n",
      "expensive\n",
      "dangerous\n",
      "iconic\n",
      "valuable\n",
      "underrated\n",
      "presidential\n",
      "accurate\n",
      "------------\n"
     ]
    },
    {
     "data": {
      "text/markdown": [
       "# calls"
      ],
      "text/plain": [
       "<IPython.core.display.Markdown object>"
      ]
     },
     "metadata": {},
     "output_type": "display_data"
    },
    {
     "data": {
      "text/markdown": [
       "#### Urban"
      ],
      "text/plain": [
       "<IPython.core.display.Markdown object>"
      ]
     },
     "metadata": {},
     "output_type": "display_data"
    },
    {
     "name": "stdout",
     "output_type": "stream",
     "text": [
      "-------\n",
      "leaves\n",
      "sends\n",
      "slams\n",
      "cries\n",
      "fires\n",
      "tries\n",
      "speaks\n",
      "demands\n",
      "calling\n",
      "pulls\n",
      "-------\n"
     ]
    },
    {
     "data": {
      "text/markdown": [
       "#### Rural"
      ],
      "text/plain": [
       "<IPython.core.display.Markdown object>"
      ]
     },
     "metadata": {},
     "output_type": "display_data"
    },
    {
     "name": "stdout",
     "output_type": "stream",
     "text": [
      "-------\n",
      "sends\n",
      "asks\n",
      "leaves\n",
      "calling\n",
      "tells\n",
      "pulls\n",
      "call\n",
      "tries\n",
      "texts\n",
      "called\n",
      "-------\n"
     ]
    },
    {
     "data": {
      "text/markdown": [
       "# mine"
      ],
      "text/plain": [
       "<IPython.core.display.Markdown object>"
      ]
     },
     "metadata": {},
     "output_type": "display_data"
    },
    {
     "data": {
      "text/markdown": [
       "#### Urban"
      ],
      "text/plain": [
       "<IPython.core.display.Markdown object>"
      ]
     },
     "metadata": {},
     "output_type": "display_data"
    },
    {
     "name": "stdout",
     "output_type": "stream",
     "text": [
      "-----\n",
      "mines\n",
      "yours\n",
      "my\n",
      "it\n",
      "jk\n",
      "ours\n",
      "she\n",
      "okay\n",
      "i\n",
      "one\n",
      "-----\n"
     ]
    },
    {
     "data": {
      "text/markdown": [
       "#### Rural"
      ],
      "text/plain": [
       "<IPython.core.display.Markdown object>"
      ]
     },
     "metadata": {},
     "output_type": "display_data"
    },
    {
     "name": "stdout",
     "output_type": "stream",
     "text": [
      "-----\n",
      "yours\n",
      "my\n",
      "it\n",
      "ours\n",
      "her\n",
      "okay\n",
      "she\n",
      "mines\n",
      "mommy\n",
      "daddy\n",
      "-----\n"
     ]
    },
    {
     "data": {
      "text/markdown": [
       "# heat"
      ],
      "text/plain": [
       "<IPython.core.display.Markdown object>"
      ]
     },
     "metadata": {},
     "output_type": "display_data"
    },
    {
     "data": {
      "text/markdown": [
       "#### Urban"
      ],
      "text/plain": [
       "<IPython.core.display.Markdown object>"
      ]
     },
     "metadata": {},
     "output_type": "display_data"
    },
    {
     "name": "stdout",
     "output_type": "stream",
     "text": [
      "-------\n",
      "rain\n",
      "thunder\n",
      "winds\n",
      "wind\n",
      "storm\n",
      "winter\n",
      "storms\n",
      "snow\n",
      "weather\n",
      "flames\n",
      "-------\n"
     ]
    },
    {
     "data": {
      "text/markdown": [
       "#### Rural"
      ],
      "text/plain": [
       "<IPython.core.display.Markdown object>"
      ]
     },
     "metadata": {},
     "output_type": "display_data"
    },
    {
     "name": "stdout",
     "output_type": "stream",
     "text": [
      "-------\n",
      "index\n",
      "67\n",
      "caution\n",
      "uv\n",
      "64\n",
      "winds\n",
      "degrees\n",
      "pool\n",
      "snow\n",
      "thunder\n",
      "-------\n"
     ]
    },
    {
     "data": {
      "text/markdown": [
       "# extra"
      ],
      "text/plain": [
       "<IPython.core.display.Markdown object>"
      ]
     },
     "metadata": {},
     "output_type": "display_data"
    },
    {
     "data": {
      "text/markdown": [
       "#### Urban"
      ],
      "text/plain": [
       "<IPython.core.display.Markdown object>"
      ]
     },
     "metadata": {},
     "output_type": "display_data"
    },
    {
     "name": "stdout",
     "output_type": "stream",
     "text": [
      "-----------\n",
      "atm\n",
      "easy\n",
      "expensive\n",
      "additional\n",
      "upgrade\n",
      "empty\n",
      "noodles\n",
      "unnecessary\n",
      "unlimited\n",
      "plus\n",
      "-----------\n"
     ]
    },
    {
     "data": {
      "text/markdown": [
       "#### Rural"
      ],
      "text/plain": [
       "<IPython.core.display.Markdown object>"
      ]
     },
     "metadata": {},
     "output_type": "display_data"
    },
    {
     "name": "stdout",
     "output_type": "stream",
     "text": [
      "----------\n",
      "additional\n",
      "easy\n",
      "unlimited\n",
      "chipotle\n",
      "expensive\n",
      "plus\n",
      "a1\n",
      "bags\n",
      "empty\n",
      "unexpected\n",
      "----------\n"
     ]
    },
    {
     "data": {
      "text/markdown": [
       "# earth"
      ],
      "text/plain": [
       "<IPython.core.display.Markdown object>"
      ]
     },
     "metadata": {},
     "output_type": "display_data"
    },
    {
     "data": {
      "text/markdown": [
       "#### Urban"
      ],
      "text/plain": [
       "<IPython.core.display.Markdown object>"
      ]
     },
     "metadata": {},
     "output_type": "display_data"
    },
    {
     "name": "stdout",
     "output_type": "stream",
     "text": [
      "---------\n",
      "planet\n",
      "darkness\n",
      "nature\n",
      "thrive\n",
      "invisible\n",
      "heaven\n",
      "moon\n",
      "trees\n",
      "species\n",
      "christ\n",
      "---------\n"
     ]
    },
    {
     "data": {
      "text/markdown": [
       "#### Rural"
      ],
      "text/plain": [
       "<IPython.core.display.Markdown object>"
      ]
     },
     "metadata": {},
     "output_type": "display_data"
    },
    {
     "name": "stdout",
     "output_type": "stream",
     "text": [
      "--------\n",
      "planet\n",
      "universe\n",
      "purpose\n",
      "moon\n",
      "world\n",
      "alien\n",
      "species\n",
      "mars\n",
      "nature\n",
      "shining\n",
      "--------\n"
     ]
    },
    {
     "data": {
      "text/markdown": [
       "# earlier"
      ],
      "text/plain": [
       "<IPython.core.display.Markdown object>"
      ]
     },
     "metadata": {},
     "output_type": "display_data"
    },
    {
     "data": {
      "text/markdown": [
       "#### Urban"
      ],
      "text/plain": [
       "<IPython.core.display.Markdown object>"
      ]
     },
     "metadata": {},
     "output_type": "display_data"
    },
    {
     "name": "stdout",
     "output_type": "stream",
     "text": [
      "----------\n",
      "yesterday\n",
      "ago\n",
      "last\n",
      "twice\n",
      "originally\n",
      "recently\n",
      "later\n",
      "oops\n",
      "whoops\n",
      "previous\n",
      "----------\n"
     ]
    },
    {
     "data": {
      "text/markdown": [
       "#### Rural"
      ],
      "text/plain": [
       "<IPython.core.display.Markdown object>"
      ]
     },
     "metadata": {},
     "output_type": "display_data"
    },
    {
     "name": "stdout",
     "output_type": "stream",
     "text": [
      "------------\n",
      "yesterday\n",
      "ago\n",
      "last\n",
      "twice\n",
      "almost\n",
      "oops\n",
      "later\n",
      "early\n",
      "accidentally\n",
      "before\n",
      "------------\n"
     ]
    },
    {
     "data": {
      "text/markdown": [
       "# with"
      ],
      "text/plain": [
       "<IPython.core.display.Markdown object>"
      ]
     },
     "metadata": {},
     "output_type": "display_data"
    },
    {
     "data": {
      "text/markdown": [
       "#### Urban"
      ],
      "text/plain": [
       "<IPython.core.display.Markdown object>"
      ]
     },
     "metadata": {},
     "output_type": "display_data"
    },
    {
     "name": "stdout",
     "output_type": "stream",
     "text": [
      "-------\n",
      "w\n",
      "wit\n",
      "gives\n",
      "between\n",
      "without\n",
      "gave\n",
      "for\n",
      "giving\n",
      "brings\n",
      "from\n",
      "-------\n"
     ]
    },
    {
     "data": {
      "text/markdown": [
       "#### Rural"
      ],
      "text/plain": [
       "<IPython.core.display.Markdown object>"
      ]
     },
     "metadata": {},
     "output_type": "display_data"
    },
    {
     "name": "stdout",
     "output_type": "stream",
     "text": [
      "-------\n",
      "w\n",
      "wit\n",
      "without\n",
      "gives\n",
      "and\n",
      "towards\n",
      "for\n",
      "between\n",
      "gave\n",
      "brings\n",
      "-------\n"
     ]
    },
    {
     "data": {
      "text/markdown": [
       "# loud"
      ],
      "text/plain": [
       "<IPython.core.display.Markdown object>"
      ]
     },
     "metadata": {},
     "output_type": "display_data"
    },
    {
     "data": {
      "text/markdown": [
       "#### Urban"
      ],
      "text/plain": [
       "<IPython.core.display.Markdown object>"
      ]
     },
     "metadata": {},
     "output_type": "display_data"
    },
    {
     "name": "stdout",
     "output_type": "stream",
     "text": [
      "--------\n",
      "corny\n",
      "stressed\n",
      "window\n",
      "blasting\n",
      "freak\n",
      "freaking\n",
      "burnt\n",
      "dumb\n",
      "annoying\n",
      "spit\n",
      "--------\n"
     ]
    },
    {
     "data": {
      "text/markdown": [
       "#### Rural"
      ],
      "text/plain": [
       "<IPython.core.display.Markdown object>"
      ]
     },
     "metadata": {},
     "output_type": "display_data"
    },
    {
     "name": "stdout",
     "output_type": "stream",
     "text": [
      "-------------\n",
      "window\n",
      "freak\n",
      "stressed\n",
      "dumb\n",
      "spit\n",
      "annoying\n",
      "bored\n",
      "drunk\n",
      "knocked\n",
      "disrespectful\n",
      "-------------\n"
     ]
    },
    {
     "data": {
      "text/markdown": [
       "# middle"
      ],
      "text/plain": [
       "<IPython.core.display.Markdown object>"
      ]
     },
     "metadata": {},
     "output_type": "display_data"
    },
    {
     "data": {
      "text/markdown": [
       "#### Urban"
      ],
      "text/plain": [
       "<IPython.core.display.Markdown object>"
      ]
     },
     "metadata": {},
     "output_type": "display_data"
    },
    {
     "name": "stdout",
     "output_type": "stream",
     "text": [
      "----------\n",
      "front\n",
      "elementary\n",
      "corner\n",
      "third\n",
      "harlem\n",
      "bronx\n",
      "fourth\n",
      "6th\n",
      "upper\n",
      "3rd\n",
      "----------\n"
     ]
    },
    {
     "data": {
      "text/markdown": [
       "#### Rural"
      ],
      "text/plain": [
       "<IPython.core.display.Markdown object>"
      ]
     },
     "metadata": {},
     "output_type": "display_data"
    },
    {
     "name": "stdout",
     "output_type": "stream",
     "text": [
      "----------\n",
      "elementary\n",
      "high\n",
      "front\n",
      "upper\n",
      "sixth\n",
      "board\n",
      "stairs\n",
      "7th\n",
      "bus\n",
      "third\n",
      "----------\n"
     ]
    },
    {
     "data": {
      "text/markdown": [
       "# happening"
      ],
      "text/plain": [
       "<IPython.core.display.Markdown object>"
      ]
     },
     "metadata": {},
     "output_type": "display_data"
    },
    {
     "data": {
      "text/markdown": [
       "#### Urban"
      ],
      "text/plain": [
       "<IPython.core.display.Markdown object>"
      ]
     },
     "metadata": {},
     "output_type": "display_data"
    },
    {
     "name": "stdout",
     "output_type": "stream",
     "text": [
      "-----------\n",
      "happened\n",
      "happens\n",
      "doing\n",
      "going\n",
      "coincidence\n",
      "happen\n",
      "raining\n",
      "possible\n",
      "coming\n",
      "there\n",
      "-----------\n"
     ]
    },
    {
     "data": {
      "text/markdown": [
       "#### Rural"
      ],
      "text/plain": [
       "<IPython.core.display.Markdown object>"
      ]
     },
     "metadata": {},
     "output_type": "display_data"
    },
    {
     "name": "stdout",
     "output_type": "stream",
     "text": [
      "---------\n",
      "happens\n",
      "happened\n",
      "doing\n",
      "coming\n",
      "happen\n",
      "possible\n",
      "starting\n",
      "going\n",
      "realizing\n",
      "beginning\n",
      "---------\n"
     ]
    },
    {
     "data": {
      "text/markdown": [
       "# hello"
      ],
      "text/plain": [
       "<IPython.core.display.Markdown object>"
      ]
     },
     "metadata": {},
     "output_type": "display_data"
    },
    {
     "data": {
      "text/markdown": [
       "#### Urban"
      ],
      "text/plain": [
       "<IPython.core.display.Markdown object>"
      ]
     },
     "metadata": {},
     "output_type": "display_data"
    },
    {
     "name": "stdout",
     "output_type": "stream",
     "text": [
      "---------\n",
      "hi\n",
      "hey\n",
      "helloo\n",
      "welcome\n",
      "goodbye\n",
      "xoxo\n",
      "goodnight\n",
      "dear\n",
      "yay\n",
      "kitty\n",
      "---------\n"
     ]
    },
    {
     "data": {
      "text/markdown": [
       "#### Rural"
      ],
      "text/plain": [
       "<IPython.core.display.Markdown object>"
      ]
     },
     "metadata": {},
     "output_type": "display_data"
    },
    {
     "name": "stdout",
     "output_type": "stream",
     "text": [
      "---------\n",
      "hi\n",
      "goodnight\n",
      "goodbye\n",
      "hey\n",
      "welcome\n",
      "dear\n",
      "marie\n",
      "kitty\n",
      "prayer\n",
      "bye\n",
      "---------\n"
     ]
    },
    {
     "data": {
      "text/markdown": [
       "# judge"
      ],
      "text/plain": [
       "<IPython.core.display.Markdown object>"
      ]
     },
     "metadata": {},
     "output_type": "display_data"
    },
    {
     "data": {
      "text/markdown": [
       "#### Urban"
      ],
      "text/plain": [
       "<IPython.core.display.Markdown object>"
      ]
     },
     "metadata": {},
     "output_type": "display_data"
    },
    {
     "name": "stdout",
     "output_type": "stream",
     "text": [
      "---------\n",
      "sue\n",
      "court\n",
      "hernandez\n",
      "pardon\n",
      "filed\n",
      "attorney\n",
      "defend\n",
      "arrest\n",
      "sheriff\n",
      "commit\n",
      "---------\n"
     ]
    },
    {
     "data": {
      "text/markdown": [
       "#### Rural"
      ],
      "text/plain": [
       "<IPython.core.display.Markdown object>"
      ]
     },
     "metadata": {},
     "output_type": "display_data"
    },
    {
     "name": "stdout",
     "output_type": "stream",
     "text": [
      "-------\n",
      "blame\n",
      "pardon\n",
      "defend\n",
      "trust\n",
      "deny\n",
      "sue\n",
      "accept\n",
      "judges\n",
      "gorsuch\n",
      "rule\n",
      "-------\n"
     ]
    },
    {
     "data": {
      "text/markdown": [
       "# followers"
      ],
      "text/plain": [
       "<IPython.core.display.Markdown object>"
      ]
     },
     "metadata": {},
     "output_type": "display_data"
    },
    {
     "data": {
      "text/markdown": [
       "#### Urban"
      ],
      "text/plain": [
       "<IPython.core.display.Markdown object>"
      ]
     },
     "metadata": {},
     "output_type": "display_data"
    },
    {
     "name": "stdout",
     "output_type": "stream",
     "text": [
      "-----------\n",
      "follower\n",
      "retweets\n",
      "subscribers\n",
      "rts\n",
      "stats\n",
      "tweets\n",
      "accounts\n",
      "subs\n",
      "views\n",
      "influencers\n",
      "-----------\n"
     ]
    },
    {
     "data": {
      "text/markdown": [
       "#### Rural"
      ],
      "text/plain": [
       "<IPython.core.display.Markdown object>"
      ]
     },
     "metadata": {},
     "output_type": "display_data"
    },
    {
     "name": "stdout",
     "output_type": "stream",
     "text": [
      "--------\n",
      "follower\n",
      "retweets\n",
      "stats\n",
      "tweets\n",
      "tweeps\n",
      "accounts\n",
      "twitter\n",
      "subs\n",
      "mentions\n",
      "replies\n",
      "--------\n"
     ]
    },
    {
     "data": {
      "text/markdown": [
       "# stats"
      ],
      "text/plain": [
       "<IPython.core.display.Markdown object>"
      ]
     },
     "metadata": {},
     "output_type": "display_data"
    },
    {
     "data": {
      "text/markdown": [
       "#### Urban"
      ],
      "text/plain": [
       "<IPython.core.display.Markdown object>"
      ]
     },
     "metadata": {},
     "output_type": "display_data"
    },
    {
     "name": "stdout",
     "output_type": "stream",
     "text": [
      "-----------\n",
      "followers\n",
      "unfollowers\n",
      "follower\n",
      "unfollower\n",
      "tactics\n",
      "numbers\n",
      "motivation\n",
      "tweets\n",
      "updates\n",
      "app\n",
      "-----------\n"
     ]
    },
    {
     "data": {
      "text/markdown": [
       "#### Rural"
      ],
      "text/plain": [
       "<IPython.core.display.Markdown object>"
      ]
     },
     "metadata": {},
     "output_type": "display_data"
    },
    {
     "name": "stdout",
     "output_type": "stream",
     "text": [
      "-----------\n",
      "followers\n",
      "follower\n",
      "unfollower\n",
      "unfollowers\n",
      "results\n",
      "numbers\n",
      "app\n",
      "links\n",
      "updates\n",
      "poll\n",
      "-----------\n"
     ]
    },
    {
     "data": {
      "text/markdown": [
       "# left"
      ],
      "text/plain": [
       "<IPython.core.display.Markdown object>"
      ]
     },
     "metadata": {},
     "output_type": "display_data"
    },
    {
     "data": {
      "text/markdown": [
       "#### Urban"
      ],
      "text/plain": [
       "<IPython.core.display.Markdown object>"
      ]
     },
     "metadata": {},
     "output_type": "display_data"
    },
    {
     "name": "stdout",
     "output_type": "stream",
     "text": [
      "-------\n",
      "moved\n",
      "jumped\n",
      "walked\n",
      "passed\n",
      "drove\n",
      "handed\n",
      "grabbed\n",
      "slept\n",
      "blocks\n",
      "landed\n",
      "-------\n"
     ]
    },
    {
     "data": {
      "text/markdown": [
       "#### Rural"
      ],
      "text/plain": [
       "<IPython.core.display.Markdown object>"
      ]
     },
     "metadata": {},
     "output_type": "display_data"
    },
    {
     "name": "stdout",
     "output_type": "stream",
     "text": [
      "---------\n",
      "remaining\n",
      "scored\n",
      "jumped\n",
      "slept\n",
      "half\n",
      "walked\n",
      "runs\n",
      "tied\n",
      "pp\n",
      "ran\n",
      "---------\n"
     ]
    },
    {
     "data": {
      "text/markdown": [
       "# books"
      ],
      "text/plain": [
       "<IPython.core.display.Markdown object>"
      ]
     },
     "metadata": {},
     "output_type": "display_data"
    },
    {
     "data": {
      "text/markdown": [
       "#### Urban"
      ],
      "text/plain": [
       "<IPython.core.display.Markdown object>"
      ]
     },
     "metadata": {},
     "output_type": "display_data"
    },
    {
     "name": "stdout",
     "output_type": "stream",
     "text": [
      "--------\n",
      "book\n",
      "authors\n",
      "comics\n",
      "blogs\n",
      "podcasts\n",
      "pages\n",
      "letters\n",
      "posters\n",
      "readers\n",
      "lists\n",
      "--------\n"
     ]
    },
    {
     "data": {
      "text/markdown": [
       "#### Rural"
      ],
      "text/plain": [
       "<IPython.core.display.Markdown object>"
      ]
     },
     "metadata": {},
     "output_type": "display_data"
    },
    {
     "name": "stdout",
     "output_type": "stream",
     "text": [
      "--------\n",
      "book\n",
      "papers\n",
      "readers\n",
      "articles\n",
      "letters\n",
      "pages\n",
      "poetry\n",
      "comics\n",
      "writers\n",
      "quotes\n",
      "--------\n"
     ]
    },
    {
     "data": {
      "text/markdown": [
       "# party"
      ],
      "text/plain": [
       "<IPython.core.display.Markdown object>"
      ]
     },
     "metadata": {},
     "output_type": "display_data"
    },
    {
     "data": {
      "text/markdown": [
       "#### Urban"
      ],
      "text/plain": [
       "<IPython.core.display.Markdown object>"
      ]
     },
     "metadata": {},
     "output_type": "display_data"
    },
    {
     "name": "stdout",
     "output_type": "stream",
     "text": [
      "-----------\n",
      "parties\n",
      "brunch\n",
      "bash\n",
      "celebration\n",
      "cocktail\n",
      "fiesta\n",
      "club\n",
      "pool\n",
      "bar\n",
      "dinner\n",
      "-----------\n"
     ]
    },
    {
     "data": {
      "text/markdown": [
       "#### Rural"
      ],
      "text/plain": [
       "<IPython.core.display.Markdown object>"
      ]
     },
     "metadata": {},
     "output_type": "display_data"
    },
    {
     "name": "stdout",
     "output_type": "stream",
     "text": [
      "-----------\n",
      "parties\n",
      "bash\n",
      "mansion\n",
      "lounge\n",
      "club\n",
      "reunion\n",
      "celebration\n",
      "democratic\n",
      "nite\n",
      "picnic\n",
      "-----------\n"
     ]
    },
    {
     "data": {
      "text/markdown": [
       "# listening"
      ],
      "text/plain": [
       "<IPython.core.display.Markdown object>"
      ]
     },
     "metadata": {},
     "output_type": "display_data"
    },
    {
     "data": {
      "text/markdown": [
       "#### Urban"
      ],
      "text/plain": [
       "<IPython.core.display.Markdown object>"
      ]
     },
     "metadata": {},
     "output_type": "display_data"
    },
    {
     "name": "stdout",
     "output_type": "stream",
     "text": [
      "----------\n",
      "listen\n",
      "blasting\n",
      "singing\n",
      "listened\n",
      "addicted\n",
      "going\n",
      "trying\n",
      "soundtrack\n",
      "lyrics\n",
      "dancing\n",
      "----------\n"
     ]
    },
    {
     "data": {
      "text/markdown": [
       "#### Rural"
      ],
      "text/plain": [
       "<IPython.core.display.Markdown object>"
      ]
     },
     "metadata": {},
     "output_type": "display_data"
    },
    {
     "name": "stdout",
     "output_type": "stream",
     "text": [
      "---------\n",
      "listen\n",
      "jamming\n",
      "singing\n",
      "listened\n",
      "addicted\n",
      "jam\n",
      "screaming\n",
      "sing\n",
      "referring\n",
      "hearing\n",
      "---------\n"
     ]
    },
    {
     "data": {
      "text/markdown": [
       "# bye"
      ],
      "text/plain": [
       "<IPython.core.display.Markdown object>"
      ]
     },
     "metadata": {},
     "output_type": "display_data"
    },
    {
     "data": {
      "text/markdown": [
       "#### Urban"
      ],
      "text/plain": [
       "<IPython.core.display.Markdown object>"
      ]
     },
     "metadata": {},
     "output_type": "display_data"
    },
    {
     "name": "stdout",
     "output_type": "stream",
     "text": [
      "---------\n",
      "wyd\n",
      "goodnight\n",
      "gn\n",
      "stfu\n",
      "goodbye\n",
      "wya\n",
      "jk\n",
      "huh\n",
      "noooo\n",
      "ole\n",
      "---------\n"
     ]
    },
    {
     "data": {
      "text/markdown": [
       "#### Rural"
      ],
      "text/plain": [
       "<IPython.core.display.Markdown object>"
      ]
     },
     "metadata": {},
     "output_type": "display_data"
    },
    {
     "name": "stdout",
     "output_type": "stream",
     "text": [
      "---------\n",
      "goodbye\n",
      "goodnight\n",
      "stfu\n",
      "wyd\n",
      "huh\n",
      "boo\n",
      "lololol\n",
      "jk\n",
      "nvm\n",
      "ohh\n",
      "---------\n"
     ]
    },
    {
     "data": {
      "text/markdown": [
       "# tip"
      ],
      "text/plain": [
       "<IPython.core.display.Markdown object>"
      ]
     },
     "metadata": {},
     "output_type": "display_data"
    },
    {
     "data": {
      "text/markdown": [
       "#### Urban"
      ],
      "text/plain": [
       "<IPython.core.display.Markdown object>"
      ]
     },
     "metadata": {},
     "output_type": "display_data"
    },
    {
     "name": "stdout",
     "output_type": "stream",
     "text": [
      "----------\n",
      "tips\n",
      "workout\n",
      "tools\n",
      "routine\n",
      "pad\n",
      "strategies\n",
      "exercises\n",
      "protein\n",
      "exercise\n",
      "seo\n",
      "----------\n"
     ]
    },
    {
     "data": {
      "text/markdown": [
       "#### Rural"
      ],
      "text/plain": [
       "<IPython.core.display.Markdown object>"
      ]
     },
     "metadata": {},
     "output_type": "display_data"
    },
    {
     "name": "stdout",
     "output_type": "stream",
     "text": [
      "--------\n",
      "tips\n",
      "seo\n",
      "boost\n",
      "tutorial\n",
      "mat\n",
      "diy\n",
      "gloves\n",
      "hat\n",
      "cap\n",
      "scale\n",
      "--------\n"
     ]
    },
    {
     "data": {
      "text/markdown": [
       "# having"
      ],
      "text/plain": [
       "<IPython.core.display.Markdown object>"
      ]
     },
     "metadata": {},
     "output_type": "display_data"
    },
    {
     "data": {
      "text/markdown": [
       "#### Urban"
      ],
      "text/plain": [
       "<IPython.core.display.Markdown object>"
      ]
     },
     "metadata": {},
     "output_type": "display_data"
    },
    {
     "name": "stdout",
     "output_type": "stream",
     "text": [
      "------------\n",
      "spending\n",
      "wasting\n",
      "making\n",
      "experiencing\n",
      "sleeping\n",
      "getting\n",
      "dealing\n",
      "had\n",
      "arguing\n",
      "enjoying\n",
      "------------\n"
     ]
    },
    {
     "data": {
      "text/markdown": [
       "#### Rural"
      ],
      "text/plain": [
       "<IPython.core.display.Markdown object>"
      ]
     },
     "metadata": {},
     "output_type": "display_data"
    },
    {
     "name": "stdout",
     "output_type": "stream",
     "text": [
      "----------\n",
      "making\n",
      "practicing\n",
      "getting\n",
      "spending\n",
      "enjoying\n",
      "sleeping\n",
      "arguing\n",
      "needing\n",
      "wasting\n",
      "such\n",
      "----------\n"
     ]
    },
    {
     "data": {
      "text/markdown": [
       "# against"
      ],
      "text/plain": [
       "<IPython.core.display.Markdown object>"
      ]
     },
     "metadata": {},
     "output_type": "display_data"
    },
    {
     "data": {
      "text/markdown": [
       "#### Urban"
      ],
      "text/plain": [
       "<IPython.core.display.Markdown object>"
      ]
     },
     "metadata": {},
     "output_type": "display_data"
    },
    {
     "name": "stdout",
     "output_type": "stream",
     "text": [
      "---------\n",
      "towards\n",
      "toward\n",
      "despite\n",
      "defeat\n",
      "anti\n",
      "defend\n",
      "defending\n",
      "oppose\n",
      "racial\n",
      "among\n",
      "---------\n"
     ]
    },
    {
     "data": {
      "text/markdown": [
       "#### Rural"
      ],
      "text/plain": [
       "<IPython.core.display.Markdown object>"
      ]
     },
     "metadata": {},
     "output_type": "display_data"
    },
    {
     "name": "stdout",
     "output_type": "stream",
     "text": [
      "---------\n",
      "defeat\n",
      "indians\n",
      "despite\n",
      "defend\n",
      "vs\n",
      "division\n",
      "defending\n",
      "toward\n",
      "courts\n",
      "panthers\n",
      "---------\n"
     ]
    },
    {
     "data": {
      "text/markdown": [
       "# gun"
      ],
      "text/plain": [
       "<IPython.core.display.Markdown object>"
      ]
     },
     "metadata": {},
     "output_type": "display_data"
    },
    {
     "data": {
      "text/markdown": [
       "#### Urban"
      ],
      "text/plain": [
       "<IPython.core.display.Markdown object>"
      ]
     },
     "metadata": {},
     "output_type": "display_data"
    },
    {
     "name": "stdout",
     "output_type": "stream",
     "text": [
      "-------\n",
      "bullet\n",
      "knife\n",
      "police\n",
      "guns\n",
      "cops\n",
      "cop\n",
      "raid\n",
      "nypd\n",
      "armed\n",
      "shooter\n",
      "-------\n"
     ]
    },
    {
     "data": {
      "text/markdown": [
       "#### Rural"
      ],
      "text/plain": [
       "<IPython.core.display.Markdown object>"
      ]
     },
     "metadata": {},
     "output_type": "display_data"
    },
    {
     "name": "stdout",
     "output_type": "stream",
     "text": [
      "--------\n",
      "guns\n",
      "bullet\n",
      "machine\n",
      "counter\n",
      "beam\n",
      "pipe\n",
      "hammer\n",
      "deadly\n",
      "knife\n",
      "chemical\n",
      "--------\n"
     ]
    },
    {
     "data": {
      "text/markdown": [
       "# personal"
      ],
      "text/plain": [
       "<IPython.core.display.Markdown object>"
      ]
     },
     "metadata": {},
     "output_type": "display_data"
    },
    {
     "data": {
      "text/markdown": [
       "#### Urban"
      ],
      "text/plain": [
       "<IPython.core.display.Markdown object>"
      ]
     },
     "metadata": {},
     "output_type": "display_data"
    },
    {
     "name": "stdout",
     "output_type": "stream",
     "text": [
      "------------\n",
      "professional\n",
      "specific\n",
      "financial\n",
      "physical\n",
      "managing\n",
      "user\n",
      "private\n",
      "practical\n",
      "branding\n",
      "wealth\n",
      "------------\n"
     ]
    },
    {
     "data": {
      "text/markdown": [
       "#### Rural"
      ],
      "text/plain": [
       "<IPython.core.display.Markdown object>"
      ]
     },
     "metadata": {},
     "output_type": "display_data"
    },
    {
     "name": "stdout",
     "output_type": "stream",
     "text": [
      "-------------\n",
      "status\n",
      "wealth\n",
      "financial\n",
      "specific\n",
      "source\n",
      "professional\n",
      "communication\n",
      "business\n",
      "knowledge\n",
      "skill\n",
      "-------------\n"
     ]
    },
    {
     "data": {
      "text/markdown": [
       "# mo"
      ],
      "text/plain": [
       "<IPython.core.display.Markdown object>"
      ]
     },
     "metadata": {},
     "output_type": "display_data"
    },
    {
     "data": {
      "text/markdown": [
       "#### Urban"
      ],
      "text/plain": [
       "<IPython.core.display.Markdown object>"
      ]
     },
     "metadata": {},
     "output_type": "display_data"
    },
    {
     "name": "stdout",
     "output_type": "stream",
     "text": [
      "-----\n",
      "ba\n",
      "ka\n",
      "wala\n",
      "di\n",
      "sa\n",
      "po\n",
      "ke\n",
      "ng\n",
      "naman\n",
      "si\n",
      "-----\n"
     ]
    },
    {
     "data": {
      "text/markdown": [
       "#### Rural"
      ],
      "text/plain": [
       "<IPython.core.display.Markdown object>"
      ]
     },
     "metadata": {},
     "output_type": "display_data"
    },
    {
     "name": "stdout",
     "output_type": "stream",
     "text": [
      "---\n",
      "ga\n",
      "il\n",
      "ia\n",
      "fl\n",
      "ks\n",
      "pa\n",
      "ada\n",
      "ne\n",
      "va\n",
      "tx\n",
      "---\n"
     ]
    },
    {
     "data": {
      "text/markdown": [
       "# there"
      ],
      "text/plain": [
       "<IPython.core.display.Markdown object>"
      ]
     },
     "metadata": {},
     "output_type": "display_data"
    },
    {
     "data": {
      "text/markdown": [
       "#### Urban"
      ],
      "text/plain": [
       "<IPython.core.display.Markdown object>"
      ]
     },
     "metadata": {},
     "output_type": "display_data"
    },
    {
     "name": "stdout",
     "output_type": "stream",
     "text": [
      "-------------\n",
      "here\n",
      "that\n",
      "it\n",
      "unfortunately\n",
      "necessary\n",
      "theres\n",
      "longer\n",
      "happening\n",
      "sadly\n",
      "valid\n",
      "-------------\n"
     ]
    },
    {
     "data": {
      "text/markdown": [
       "#### Rural"
      ],
      "text/plain": [
       "<IPython.core.display.Markdown object>"
      ]
     },
     "metadata": {},
     "output_type": "display_data"
    },
    {
     "name": "stdout",
     "output_type": "stream",
     "text": [
      "----------\n",
      "here\n",
      "that\n",
      "it\n",
      "sadly\n",
      "longer\n",
      "necessary\n",
      "but\n",
      "doubt\n",
      "problem\n",
      "acceptable\n",
      "----------\n"
     ]
    },
    {
     "data": {
      "text/markdown": [
       "# tune"
      ],
      "text/plain": [
       "<IPython.core.display.Markdown object>"
      ]
     },
     "metadata": {},
     "output_type": "display_data"
    },
    {
     "data": {
      "text/markdown": [
       "#### Urban"
      ],
      "text/plain": [
       "<IPython.core.display.Markdown object>"
      ]
     },
     "metadata": {},
     "output_type": "display_data"
    },
    {
     "name": "stdout",
     "output_type": "stream",
     "text": [
      "------\n",
      "studio\n",
      "mix\n",
      "listen\n",
      "8pm\n",
      "10pm\n",
      "hosted\n",
      "djs\n",
      "7pm\n",
      "9pm\n",
      "6pm\n",
      "------\n"
     ]
    },
    {
     "data": {
      "text/markdown": [
       "#### Rural"
      ],
      "text/plain": [
       "<IPython.core.display.Markdown object>"
      ]
     },
     "metadata": {},
     "output_type": "display_data"
    },
    {
     "name": "stdout",
     "output_type": "stream",
     "text": [
      "---------\n",
      "streaming\n",
      "tap\n",
      "live\n",
      "radio\n",
      "booth\n",
      "studio\n",
      "playing\n",
      "beau\n",
      "10pm\n",
      "jamming\n",
      "---------\n"
     ]
    },
    {
     "data": {
      "text/markdown": [
       "# release"
      ],
      "text/plain": [
       "<IPython.core.display.Markdown object>"
      ]
     },
     "metadata": {},
     "output_type": "display_data"
    },
    {
     "data": {
      "text/markdown": [
       "#### Urban"
      ],
      "text/plain": [
       "<IPython.core.display.Markdown object>"
      ]
     },
     "metadata": {},
     "output_type": "display_data"
    },
    {
     "name": "stdout",
     "output_type": "stream",
     "text": [
      "----------\n",
      "releases\n",
      "launch\n",
      "releasing\n",
      "released\n",
      "arrival\n",
      "return\n",
      "announcing\n",
      "announce\n",
      "cover\n",
      "announces\n",
      "----------\n"
     ]
    },
    {
     "data": {
      "text/markdown": [
       "#### Rural"
      ],
      "text/plain": [
       "<IPython.core.display.Markdown object>"
      ]
     },
     "metadata": {},
     "output_type": "display_data"
    },
    {
     "name": "stdout",
     "output_type": "stream",
     "text": [
      "---------\n",
      "releases\n",
      "launch\n",
      "released\n",
      "review\n",
      "announces\n",
      "report\n",
      "arrive\n",
      "edition\n",
      "premiere\n",
      "return\n",
      "---------\n"
     ]
    },
    {
     "data": {
      "text/markdown": [
       "# earned"
      ],
      "text/plain": [
       "<IPython.core.display.Markdown object>"
      ]
     },
     "metadata": {},
     "output_type": "display_data"
    },
    {
     "data": {
      "text/markdown": [
       "#### Urban"
      ],
      "text/plain": [
       "<IPython.core.display.Markdown object>"
      ]
     },
     "metadata": {},
     "output_type": "display_data"
    },
    {
     "name": "stdout",
     "output_type": "stream",
     "text": [
      "---------\n",
      "unlocked\n",
      "completed\n",
      "witnessed\n",
      "entered\n",
      "badge\n",
      "reached\n",
      "landed\n",
      "ipa\n",
      "added\n",
      "finished\n",
      "---------\n"
     ]
    },
    {
     "data": {
      "text/markdown": [
       "#### Rural"
      ],
      "text/plain": [
       "<IPython.core.display.Markdown object>"
      ]
     },
     "metadata": {},
     "output_type": "display_data"
    },
    {
     "name": "stdout",
     "output_type": "stream",
     "text": [
      "-----------\n",
      "unlocked\n",
      "completed\n",
      "collected\n",
      "reached\n",
      "entered\n",
      "finished\n",
      "badge\n",
      "picked\n",
      "achievement\n",
      "gained\n",
      "-----------\n"
     ]
    },
    {
     "data": {
      "text/markdown": [
       "# aint"
      ],
      "text/plain": [
       "<IPython.core.display.Markdown object>"
      ]
     },
     "metadata": {},
     "output_type": "display_data"
    },
    {
     "data": {
      "text/markdown": [
       "#### Urban"
      ],
      "text/plain": [
       "<IPython.core.display.Markdown object>"
      ]
     },
     "metadata": {},
     "output_type": "display_data"
    },
    {
     "name": "stdout",
     "output_type": "stream",
     "text": [
      "-------\n",
      "ain\n",
      "frfr\n",
      "wasnt\n",
      "ion\n",
      "forreal\n",
      "lmaoo\n",
      "dnt\n",
      "idgaf\n",
      "lmfaoo\n",
      "fwm\n",
      "-------\n"
     ]
    },
    {
     "data": {
      "text/markdown": [
       "#### Rural"
      ],
      "text/plain": [
       "<IPython.core.display.Markdown object>"
      ]
     },
     "metadata": {},
     "output_type": "display_data"
    },
    {
     "name": "stdout",
     "output_type": "stream",
     "text": [
      "-----\n",
      "ain\n",
      "frfr\n",
      "ion\n",
      "bih\n",
      "wasnt\n",
      "lmaoo\n",
      "wit\n",
      "kno\n",
      "idgaf\n",
      "doe\n",
      "-----\n"
     ]
    },
    {
     "data": {
      "text/markdown": [
       "# radio"
      ],
      "text/plain": [
       "<IPython.core.display.Markdown object>"
      ]
     },
     "metadata": {},
     "output_type": "display_data"
    },
    {
     "data": {
      "text/markdown": [
       "#### Urban"
      ],
      "text/plain": [
       "<IPython.core.display.Markdown object>"
      ]
     },
     "metadata": {},
     "output_type": "display_data"
    },
    {
     "name": "stdout",
     "output_type": "stream",
     "text": [
      "----------\n",
      "fm\n",
      "gospel\n",
      "dj\n",
      "remix\n",
      "funk\n",
      "itunes\n",
      "jazz\n",
      "djs\n",
      "television\n",
      "feat\n",
      "----------\n"
     ]
    },
    {
     "data": {
      "text/markdown": [
       "#### Rural"
      ],
      "text/plain": [
       "<IPython.core.display.Markdown object>"
      ]
     },
     "metadata": {},
     "output_type": "display_data"
    },
    {
     "name": "stdout",
     "output_type": "stream",
     "text": [
      "----------\n",
      "danz\n",
      "pandora\n",
      "feat\n",
      "dj\n",
      "fm\n",
      "remix\n",
      "television\n",
      "podcast\n",
      "collective\n",
      "network\n",
      "----------\n"
     ]
    },
    {
     "data": {
      "text/markdown": [
       "# reality"
      ],
      "text/plain": [
       "<IPython.core.display.Markdown object>"
      ]
     },
     "metadata": {},
     "output_type": "display_data"
    },
    {
     "data": {
      "text/markdown": [
       "#### Urban"
      ],
      "text/plain": [
       "<IPython.core.display.Markdown object>"
      ]
     },
     "metadata": {},
     "output_type": "display_data"
    },
    {
     "name": "stdout",
     "output_type": "stream",
     "text": [
      "----------\n",
      "universe\n",
      "narrative\n",
      "tv\n",
      "capitalism\n",
      "democracy\n",
      "ignorance\n",
      "fascism\n",
      "denial\n",
      "political\n",
      "identity\n",
      "----------\n"
     ]
    },
    {
     "data": {
      "text/markdown": [
       "#### Rural"
      ],
      "text/plain": [
       "<IPython.core.display.Markdown object>"
      ]
     },
     "metadata": {},
     "output_type": "display_data"
    },
    {
     "name": "stdout",
     "output_type": "stream",
     "text": [
      "----------\n",
      "universe\n",
      "politics\n",
      "political\n",
      "hypocrisy\n",
      "ignorance\n",
      "vr\n",
      "television\n",
      "evolution\n",
      "journalism\n",
      "failure\n",
      "----------\n"
     ]
    },
    {
     "data": {
      "text/markdown": [
       "# humidity"
      ],
      "text/plain": [
       "<IPython.core.display.Markdown object>"
      ]
     },
     "metadata": {},
     "output_type": "display_data"
    },
    {
     "data": {
      "text/markdown": [
       "#### Urban"
      ],
      "text/plain": [
       "<IPython.core.display.Markdown object>"
      ]
     },
     "metadata": {},
     "output_type": "display_data"
    },
    {
     "name": "stdout",
     "output_type": "stream",
     "text": [
      "-----------\n",
      "temperature\n",
      "temp\n",
      "degrees\n",
      "0000\n",
      "cloudy\n",
      "wind\n",
      "gmt\n",
      "00\n",
      "63\n",
      "mph\n",
      "-----------\n"
     ]
    },
    {
     "data": {
      "text/markdown": [
       "#### Rural"
      ],
      "text/plain": [
       "<IPython.core.display.Markdown object>"
      ]
     },
     "metadata": {},
     "output_type": "display_data"
    },
    {
     "name": "stdout",
     "output_type": "stream",
     "text": [
      "-----------\n",
      "temperature\n",
      "baro\n",
      "inhg\n",
      "rain\n",
      "wd\n",
      "barometer\n",
      "rh\n",
      "degrees\n",
      "0\n",
      "pct\n",
      "-----------\n"
     ]
    },
    {
     "data": {
      "text/markdown": [
       "# shooting"
      ],
      "text/plain": [
       "<IPython.core.display.Markdown object>"
      ]
     },
     "metadata": {},
     "output_type": "display_data"
    },
    {
     "data": {
      "text/markdown": [
       "#### Urban"
      ],
      "text/plain": [
       "<IPython.core.display.Markdown object>"
      ]
     },
     "metadata": {},
     "output_type": "display_data"
    },
    {
     "name": "stdout",
     "output_type": "stream",
     "text": [
      "--------\n",
      "robbery\n",
      "suspect\n",
      "shoots\n",
      "injured\n",
      "shooter\n",
      "crash\n",
      "arrested\n",
      "fatal\n",
      "nypd\n",
      "arrest\n",
      "--------\n"
     ]
    },
    {
     "data": {
      "text/markdown": [
       "#### Rural"
      ],
      "text/plain": [
       "<IPython.core.display.Markdown object>"
      ]
     },
     "metadata": {},
     "output_type": "display_data"
    },
    {
     "name": "stdout",
     "output_type": "stream",
     "text": [
      "---------\n",
      "shooter\n",
      "injured\n",
      "beating\n",
      "suspect\n",
      "crash\n",
      "incident\n",
      "arrested\n",
      "baltimore\n",
      "fires\n",
      "armed\n",
      "---------\n"
     ]
    },
    {
     "data": {
      "text/markdown": [
       "# english"
      ],
      "text/plain": [
       "<IPython.core.display.Markdown object>"
      ]
     },
     "metadata": {},
     "output_type": "display_data"
    },
    {
     "data": {
      "text/markdown": [
       "#### Urban"
      ],
      "text/plain": [
       "<IPython.core.display.Markdown object>"
      ]
     },
     "metadata": {},
     "output_type": "display_data"
    },
    {
     "name": "stdout",
     "output_type": "stream",
     "text": [
      "-----------\n",
      "spanish\n",
      "language\n",
      "german\n",
      "grammar\n",
      "philosophy\n",
      "professor\n",
      "translation\n",
      "prof\n",
      "math\n",
      "japanese\n",
      "-----------\n"
     ]
    },
    {
     "data": {
      "text/markdown": [
       "#### Rural"
      ],
      "text/plain": [
       "<IPython.core.display.Markdown object>"
      ]
     },
     "metadata": {},
     "output_type": "display_data"
    },
    {
     "name": "stdout",
     "output_type": "stream",
     "text": [
      "---------\n",
      "spanish\n",
      "language\n",
      "professor\n",
      "math\n",
      "teacher\n",
      "essay\n",
      "grammar\n",
      "ap\n",
      "class\n",
      "pe\n",
      "---------\n"
     ]
    },
    {
     "data": {
      "text/markdown": [
       "# zero"
      ],
      "text/plain": [
       "<IPython.core.display.Markdown object>"
      ]
     },
     "metadata": {},
     "output_type": "display_data"
    },
    {
     "data": {
      "text/markdown": [
       "#### Urban"
      ],
      "text/plain": [
       "<IPython.core.display.Markdown object>"
      ]
     },
     "metadata": {},
     "output_type": "display_data"
    },
    {
     "name": "stdout",
     "output_type": "stream",
     "text": [
      "---------\n",
      "no\n",
      "increased\n",
      "total\n",
      "fewer\n",
      "multiple\n",
      "constant\n",
      "major\n",
      "authority\n",
      "integrity\n",
      "moral\n",
      "---------\n"
     ]
    },
    {
     "data": {
      "text/markdown": [
       "#### Rural"
      ],
      "text/plain": [
       "<IPython.core.display.Markdown object>"
      ]
     },
     "metadata": {},
     "output_type": "display_data"
    },
    {
     "name": "stdout",
     "output_type": "stream",
     "text": [
      "---------\n",
      "no\n",
      "total\n",
      "increased\n",
      "massive\n",
      "valid\n",
      "conflict\n",
      "extreme\n",
      "major\n",
      "combined\n",
      "multiple\n",
      "---------\n"
     ]
    },
    {
     "data": {
      "text/markdown": [
       "# young"
      ],
      "text/plain": [
       "<IPython.core.display.Markdown object>"
      ]
     },
     "metadata": {},
     "output_type": "display_data"
    },
    {
     "data": {
      "text/markdown": [
       "#### Urban"
      ],
      "text/plain": [
       "<IPython.core.display.Markdown object>"
      ]
     },
     "metadata": {},
     "output_type": "display_data"
    },
    {
     "name": "stdout",
     "output_type": "stream",
     "text": [
      "--------\n",
      "soulja\n",
      "rich\n",
      "faithful\n",
      "mature\n",
      "talented\n",
      "grown\n",
      "handsome\n",
      "ghetto\n",
      "savage\n",
      "gay\n",
      "--------\n"
     ]
    },
    {
     "data": {
      "text/markdown": [
       "#### Rural"
      ],
      "text/plain": [
       "<IPython.core.display.Markdown object>"
      ]
     },
     "metadata": {},
     "output_type": "display_data"
    },
    {
     "name": "stdout",
     "output_type": "stream",
     "text": [
      "---------\n",
      "talented\n",
      "brave\n",
      "gentlemen\n",
      "teenage\n",
      "wise\n",
      "mature\n",
      "rich\n",
      "grown\n",
      "gay\n",
      "badass\n",
      "---------\n"
     ]
    },
    {
     "data": {
      "text/markdown": [
       "# amp"
      ],
      "text/plain": [
       "<IPython.core.display.Markdown object>"
      ]
     },
     "metadata": {},
     "output_type": "display_data"
    },
    {
     "data": {
      "text/markdown": [
       "#### Urban"
      ],
      "text/plain": [
       "<IPython.core.display.Markdown object>"
      ]
     },
     "metadata": {},
     "output_type": "display_data"
    },
    {
     "name": "stdout",
     "output_type": "stream",
     "text": [
      "---------\n",
      "w\n",
      "and\n",
      "n\n",
      "via\n",
      "presents\n",
      "etc\n",
      "featuring\n",
      "by\n",
      "feat\n",
      "exclusive\n",
      "---------\n"
     ]
    },
    {
     "data": {
      "text/markdown": [
       "#### Rural"
      ],
      "text/plain": [
       "<IPython.core.display.Markdown object>"
      ]
     },
     "metadata": {},
     "output_type": "display_data"
    },
    {
     "name": "stdout",
     "output_type": "stream",
     "text": [
      "--------\n",
      "n\n",
      "and\n",
      "w\n",
      "via\n",
      "etc\n",
      "j\n",
      "by\n",
      "inc\n",
      "g\n",
      "presents\n",
      "--------\n"
     ]
    },
    {
     "data": {
      "text/markdown": [
       "# as"
      ],
      "text/plain": [
       "<IPython.core.display.Markdown object>"
      ]
     },
     "metadata": {},
     "output_type": "display_data"
    },
    {
     "data": {
      "text/markdown": [
       "#### Urban"
      ],
      "text/plain": [
       "<IPython.core.display.Markdown object>"
      ]
     },
     "metadata": {},
     "output_type": "display_data"
    },
    {
     "name": "stdout",
     "output_type": "stream",
     "text": [
      "-------\n",
      "very\n",
      "however\n",
      "too\n",
      "equally\n",
      "term\n",
      "so\n",
      "thus\n",
      "fairly\n",
      "result\n",
      "such\n",
      "-------\n"
     ]
    },
    {
     "data": {
      "text/markdown": [
       "#### Rural"
      ],
      "text/plain": [
       "<IPython.core.display.Markdown object>"
      ]
     },
     "metadata": {},
     "output_type": "display_data"
    },
    {
     "name": "stdout",
     "output_type": "stream",
     "text": [
      "----------\n",
      "very\n",
      "however\n",
      "too\n",
      "term\n",
      "so\n",
      "extremely\n",
      "reputation\n",
      "how\n",
      "well\n",
      "such\n",
      "----------\n"
     ]
    },
    {
     "data": {
      "text/markdown": [
       "# wind"
      ],
      "text/plain": [
       "<IPython.core.display.Markdown object>"
      ]
     },
     "metadata": {},
     "output_type": "display_data"
    },
    {
     "data": {
      "text/markdown": [
       "#### Urban"
      ],
      "text/plain": [
       "<IPython.core.display.Markdown object>"
      ]
     },
     "metadata": {},
     "output_type": "display_data"
    },
    {
     "name": "stdout",
     "output_type": "stream",
     "text": [
      "-----------\n",
      "clouds\n",
      "winds\n",
      "rain\n",
      "sky\n",
      "km\n",
      "mph\n",
      "storms\n",
      "heat\n",
      "temperature\n",
      "mountains\n",
      "-----------\n"
     ]
    },
    {
     "data": {
      "text/markdown": [
       "#### Rural"
      ],
      "text/plain": [
       "<IPython.core.display.Markdown object>"
      ]
     },
     "metadata": {},
     "output_type": "display_data"
    },
    {
     "name": "stdout",
     "output_type": "stream",
     "text": [
      "--------\n",
      "winds\n",
      "mph\n",
      "pct\n",
      "2mph\n",
      "wnw\n",
      "ssw\n",
      "ene\n",
      "clouds\n",
      "overcast\n",
      "temp\n",
      "--------\n"
     ]
    },
    {
     "data": {
      "text/markdown": [
       "# social"
      ],
      "text/plain": [
       "<IPython.core.display.Markdown object>"
      ]
     },
     "metadata": {},
     "output_type": "display_data"
    },
    {
     "data": {
      "text/markdown": [
       "#### Urban"
      ],
      "text/plain": [
       "<IPython.core.display.Markdown object>"
      ]
     },
     "metadata": {},
     "output_type": "display_data"
    },
    {
     "name": "stdout",
     "output_type": "stream",
     "text": [
      "----------\n",
      "mainstream\n",
      "marketing\n",
      "wordpress\n",
      "digital\n",
      "analytics\n",
      "creative\n",
      "seo\n",
      "twitter\n",
      "platform\n",
      "pinterest\n",
      "----------\n"
     ]
    },
    {
     "data": {
      "text/markdown": [
       "#### Rural"
      ],
      "text/plain": [
       "<IPython.core.display.Markdown object>"
      ]
     },
     "metadata": {},
     "output_type": "display_data"
    },
    {
     "name": "stdout",
     "output_type": "stream",
     "text": [
      "---------\n",
      "linkedin\n",
      "twitter\n",
      "content\n",
      "platform\n",
      "focused\n",
      "instagram\n",
      "software\n",
      "apps\n",
      "user\n",
      "websites\n",
      "---------\n"
     ]
    },
    {
     "data": {
      "text/markdown": [
       "# point"
      ],
      "text/plain": [
       "<IPython.core.display.Markdown object>"
      ]
     },
     "metadata": {},
     "output_type": "display_data"
    },
    {
     "data": {
      "text/markdown": [
       "#### Urban"
      ],
      "text/plain": [
       "<IPython.core.display.Markdown object>"
      ]
     },
     "metadata": {},
     "output_type": "display_data"
    },
    {
     "name": "stdout",
     "output_type": "stream",
     "text": [
      "---------\n",
      "least\n",
      "argument\n",
      "situation\n",
      "question\n",
      "level\n",
      "thread\n",
      "sense\n",
      "joke\n",
      "context\n",
      "offense\n",
      "---------\n"
     ]
    },
    {
     "data": {
      "text/markdown": [
       "#### Rural"
      ],
      "text/plain": [
       "<IPython.core.display.Markdown object>"
      ]
     },
     "metadata": {},
     "output_type": "display_data"
    },
    {
     "name": "stdout",
     "output_type": "stream",
     "text": [
      "---------\n",
      "situation\n",
      "least\n",
      "argument\n",
      "score\n",
      "end\n",
      "moment\n",
      "question\n",
      "attempt\n",
      "goal\n",
      "level\n",
      "---------\n"
     ]
    },
    {
     "data": {
      "text/markdown": [
       "# classic"
      ],
      "text/plain": [
       "<IPython.core.display.Markdown object>"
      ]
     },
     "metadata": {},
     "output_type": "display_data"
    },
    {
     "data": {
      "text/markdown": [
       "#### Urban"
      ],
      "text/plain": [
       "<IPython.core.display.Markdown object>"
      ]
     },
     "metadata": {},
     "output_type": "display_data"
    },
    {
     "name": "stdout",
     "output_type": "stream",
     "text": [
      "---------\n",
      "original\n",
      "vintage\n",
      "70s\n",
      "theme\n",
      "opera\n",
      "legendary\n",
      "metal\n",
      "mini\n",
      "vinyl\n",
      "cowboy\n",
      "---------\n"
     ]
    },
    {
     "data": {
      "text/markdown": [
       "#### Rural"
      ],
      "text/plain": [
       "<IPython.core.display.Markdown object>"
      ]
     },
     "metadata": {},
     "output_type": "display_data"
    },
    {
     "name": "stdout",
     "output_type": "stream",
     "text": [
      "---------\n",
      "retro\n",
      "vintage\n",
      "featuring\n",
      "festival\n",
      "theme\n",
      "series\n",
      "style\n",
      "edition\n",
      "jazz\n",
      "trailer\n",
      "---------\n"
     ]
    },
    {
     "data": {
      "text/markdown": [
       "# finding"
      ],
      "text/plain": [
       "<IPython.core.display.Markdown object>"
      ]
     },
     "metadata": {},
     "output_type": "display_data"
    },
    {
     "data": {
      "text/markdown": [
       "#### Urban"
      ],
      "text/plain": [
       "<IPython.core.display.Markdown object>"
      ]
     },
     "metadata": {},
     "output_type": "display_data"
    },
    {
     "name": "stdout",
     "output_type": "stream",
     "text": [
      "--------\n",
      "find\n",
      "reaching\n",
      "checking\n",
      "working\n",
      "pointing\n",
      "found\n",
      "choosing\n",
      "creating\n",
      "managing\n",
      "learning\n",
      "--------\n"
     ]
    },
    {
     "data": {
      "text/markdown": [
       "#### Rural"
      ],
      "text/plain": [
       "<IPython.core.display.Markdown object>"
      ]
     },
     "metadata": {},
     "output_type": "display_data"
    },
    {
     "name": "stdout",
     "output_type": "stream",
     "text": [
      "---------\n",
      "find\n",
      "reaching\n",
      "checking\n",
      "creating\n",
      "found\n",
      "working\n",
      "buying\n",
      "searching\n",
      "putting\n",
      "missing\n",
      "---------\n"
     ]
    },
    {
     "data": {
      "text/markdown": [
       "# straight"
      ],
      "text/plain": [
       "<IPython.core.display.Markdown object>"
      ]
     },
     "metadata": {},
     "output_type": "display_data"
    },
    {
     "data": {
      "text/markdown": [
       "#### Urban"
      ],
      "text/plain": [
       "<IPython.core.display.Markdown object>"
      ]
     },
     "metadata": {},
     "output_type": "display_data"
    },
    {
     "name": "stdout",
     "output_type": "stream",
     "text": [
      "-------\n",
      "thumbs\n",
      "woke\n",
      "tied\n",
      "locked\n",
      "smh\n",
      "picking\n",
      "washed\n",
      "fucked\n",
      "flames\n",
      "knocked\n",
      "-------\n"
     ]
    },
    {
     "data": {
      "text/markdown": [
       "#### Rural"
      ],
      "text/plain": [
       "<IPython.core.display.Markdown object>"
      ]
     },
     "metadata": {},
     "output_type": "display_data"
    },
    {
     "name": "stdout",
     "output_type": "stream",
     "text": [
      "-------\n",
      "thumbs\n",
      "runner\n",
      "heads\n",
      "split\n",
      "fucked\n",
      "blowing\n",
      "tied\n",
      "bat\n",
      "smh\n",
      "beating\n",
      "-------\n"
     ]
    },
    {
     "data": {
      "text/markdown": [
       "# grade"
      ],
      "text/plain": [
       "<IPython.core.display.Markdown object>"
      ]
     },
     "metadata": {},
     "output_type": "display_data"
    },
    {
     "data": {
      "text/markdown": [
       "#### Urban"
      ],
      "text/plain": [
       "<IPython.core.display.Markdown object>"
      ]
     },
     "metadata": {},
     "output_type": "display_data"
    },
    {
     "name": "stdout",
     "output_type": "stream",
     "text": [
      "----------\n",
      "class\n",
      "elementary\n",
      "hs\n",
      "quarter\n",
      "math\n",
      "college\n",
      "ward\n",
      "teacher\n",
      "inning\n",
      "circuit\n",
      "----------\n"
     ]
    },
    {
     "data": {
      "text/markdown": [
       "#### Rural"
      ],
      "text/plain": [
       "<IPython.core.display.Markdown object>"
      ]
     },
     "metadata": {},
     "output_type": "display_data"
    },
    {
     "name": "stdout",
     "output_type": "stream",
     "text": [
      "------------\n",
      "graders\n",
      "class\n",
      "kindergarten\n",
      "hs\n",
      "annual\n",
      "period\n",
      "freshmen\n",
      "finishes\n",
      "placed\n",
      "math\n",
      "------------\n"
     ]
    },
    {
     "data": {
      "text/markdown": [
       "# big"
      ],
      "text/plain": [
       "<IPython.core.display.Markdown object>"
      ]
     },
     "metadata": {},
     "output_type": "display_data"
    },
    {
     "data": {
      "text/markdown": [
       "#### Urban"
      ],
      "text/plain": [
       "<IPython.core.display.Markdown object>"
      ]
     },
     "metadata": {},
     "output_type": "display_data"
    },
    {
     "name": "stdout",
     "output_type": "stream",
     "text": [
      "-------\n",
      "huge\n",
      "small\n",
      "tough\n",
      "biggest\n",
      "little\n",
      "bigger\n",
      "major\n",
      "giant\n",
      "massive\n",
      "rocket\n",
      "-------\n"
     ]
    },
    {
     "data": {
      "text/markdown": [
       "#### Rural"
      ],
      "text/plain": [
       "<IPython.core.display.Markdown object>"
      ]
     },
     "metadata": {},
     "output_type": "display_data"
    },
    {
     "name": "stdout",
     "output_type": "stream",
     "text": [
      "------\n",
      "huge\n",
      "small\n",
      "tough\n",
      "little\n",
      "major\n",
      "bigger\n",
      "solid\n",
      "tight\n",
      "minor\n",
      "great\n",
      "------\n"
     ]
    },
    {
     "data": {
      "text/markdown": [
       "# safe"
      ],
      "text/plain": [
       "<IPython.core.display.Markdown object>"
      ]
     },
     "metadata": {},
     "output_type": "display_data"
    },
    {
     "data": {
      "text/markdown": [
       "#### Urban"
      ],
      "text/plain": [
       "<IPython.core.display.Markdown object>"
      ]
     },
     "metadata": {},
     "output_type": "display_data"
    },
    {
     "name": "stdout",
     "output_type": "stream",
     "text": [
      "---------\n",
      "quiet\n",
      "sane\n",
      "connected\n",
      "protected\n",
      "friendly\n",
      "careful\n",
      "strong\n",
      "healthy\n",
      "alive\n",
      "peaceful\n",
      "---------\n"
     ]
    },
    {
     "data": {
      "text/markdown": [
       "#### Rural"
      ],
      "text/plain": [
       "<IPython.core.display.Markdown object>"
      ]
     },
     "metadata": {},
     "output_type": "display_data"
    },
    {
     "name": "stdout",
     "output_type": "stream",
     "text": [
      "---------\n",
      "quiet\n",
      "prepared\n",
      "protected\n",
      "tuned\n",
      "careful\n",
      "safely\n",
      "patient\n",
      "warm\n",
      "healthy\n",
      "motivated\n",
      "---------\n"
     ]
    },
    {
     "data": {
      "text/markdown": [
       "# cover"
      ],
      "text/plain": [
       "<IPython.core.display.Markdown object>"
      ]
     },
     "metadata": {},
     "output_type": "display_data"
    },
    {
     "data": {
      "text/markdown": [
       "#### Urban"
      ],
      "text/plain": [
       "<IPython.core.display.Markdown object>"
      ]
     },
     "metadata": {},
     "output_type": "display_data"
    },
    {
     "name": "stdout",
     "output_type": "stream",
     "text": [
      "-------\n",
      "covers\n",
      "set\n",
      "poster\n",
      "release\n",
      "pin\n",
      "pop\n",
      "lock\n",
      "review\n",
      "sign\n",
      "sketch\n",
      "-------\n"
     ]
    },
    {
     "data": {
      "text/markdown": [
       "#### Rural"
      ],
      "text/plain": [
       "<IPython.core.display.Markdown object>"
      ]
     },
     "metadata": {},
     "output_type": "display_data"
    },
    {
     "name": "stdout",
     "output_type": "stream",
     "text": [
      "-------\n",
      "covers\n",
      "pop\n",
      "lock\n",
      "review\n",
      "hook\n",
      "set\n",
      "release\n",
      "label\n",
      "ripping\n",
      "tone\n",
      "-------\n"
     ]
    },
    {
     "data": {
      "text/markdown": [
       "# form"
      ],
      "text/plain": [
       "<IPython.core.display.Markdown object>"
      ]
     },
     "metadata": {},
     "output_type": "display_data"
    },
    {
     "data": {
      "text/markdown": [
       "#### Urban"
      ],
      "text/plain": [
       "<IPython.core.display.Markdown object>"
      ]
     },
     "metadata": {},
     "output_type": "display_data"
    },
    {
     "name": "stdout",
     "output_type": "stream",
     "text": [
      "--------------\n",
      "result\n",
      "forms\n",
      "expression\n",
      "representation\n",
      "definition\n",
      "image\n",
      "structure\n",
      "philosophy\n",
      "concept\n",
      "lack\n",
      "--------------\n"
     ]
    },
    {
     "data": {
      "text/markdown": [
       "#### Rural"
      ],
      "text/plain": [
       "<IPython.core.display.Markdown object>"
      ]
     },
     "metadata": {},
     "output_type": "display_data"
    },
    {
     "name": "stdout",
     "output_type": "stream",
     "text": [
      "---------\n",
      "concept\n",
      "method\n",
      "context\n",
      "result\n",
      "language\n",
      "knowledge\n",
      "source\n",
      "forms\n",
      "image\n",
      "belief\n",
      "---------\n"
     ]
    },
    {
     "data": {
      "text/markdown": [
       "# our"
      ],
      "text/plain": [
       "<IPython.core.display.Markdown object>"
      ]
     },
     "metadata": {},
     "output_type": "display_data"
    },
    {
     "data": {
      "text/markdown": [
       "#### Urban"
      ],
      "text/plain": [
       "<IPython.core.display.Markdown object>"
      ]
     },
     "metadata": {},
     "output_type": "display_data"
    },
    {
     "name": "stdout",
     "output_type": "stream",
     "text": [
      "-------------\n",
      "their\n",
      "your\n",
      "ours\n",
      "the\n",
      "us\n",
      "ourselves\n",
      "programs\n",
      "opportunities\n",
      "my\n",
      "solutions\n",
      "-------------\n"
     ]
    },
    {
     "data": {
      "text/markdown": [
       "#### Rural"
      ],
      "text/plain": [
       "<IPython.core.display.Markdown object>"
      ]
     },
     "metadata": {},
     "output_type": "display_data"
    },
    {
     "name": "stdout",
     "output_type": "stream",
     "text": [
      "---------\n",
      "their\n",
      "your\n",
      "ours\n",
      "the\n",
      "us\n",
      "events\n",
      "tradition\n",
      "programs\n",
      "alumni\n",
      "ourselves\n",
      "---------\n"
     ]
    },
    {
     "data": {
      "text/markdown": [
       "# official"
      ],
      "text/plain": [
       "<IPython.core.display.Markdown object>"
      ]
     },
     "metadata": {},
     "output_type": "display_data"
    },
    {
     "data": {
      "text/markdown": [
       "#### Urban"
      ],
      "text/plain": [
       "<IPython.core.display.Markdown object>"
      ]
     },
     "metadata": {},
     "output_type": "display_data"
    },
    {
     "name": "stdout",
     "output_type": "stream",
     "text": [
      "---------\n",
      "releases\n",
      "exclusive\n",
      "dir\n",
      "release\n",
      "hq\n",
      "audio\n",
      "via\n",
      "extended\n",
      "featuring\n",
      "unveils\n",
      "---------\n"
     ]
    },
    {
     "data": {
      "text/markdown": [
       "#### Rural"
      ],
      "text/plain": [
       "<IPython.core.display.Markdown object>"
      ]
     },
     "metadata": {},
     "output_type": "display_data"
    },
    {
     "name": "stdout",
     "output_type": "stream",
     "text": [
      "-----------\n",
      "lyric\n",
      "audio\n",
      "exclusive\n",
      "releases\n",
      "launches\n",
      "announces\n",
      "underground\n",
      "release\n",
      "creation\n",
      "theme\n",
      "-----------\n"
     ]
    },
    {
     "data": {
      "text/markdown": [
       "# action"
      ],
      "text/plain": [
       "<IPython.core.display.Markdown object>"
      ]
     },
     "metadata": {},
     "output_type": "display_data"
    },
    {
     "data": {
      "text/markdown": [
       "#### Urban"
      ],
      "text/plain": [
       "<IPython.core.display.Markdown object>"
      ]
     },
     "metadata": {},
     "output_type": "display_data"
    },
    {
     "name": "stdout",
     "output_type": "stream",
     "text": [
      "--------------\n",
      "risks\n",
      "task\n",
      "responsibility\n",
      "effort\n",
      "diversity\n",
      "advantage\n",
      "environmental\n",
      "resistance\n",
      "coverage\n",
      "aim\n",
      "--------------\n"
     ]
    },
    {
     "data": {
      "text/markdown": [
       "#### Rural"
      ],
      "text/plain": [
       "<IPython.core.display.Markdown object>"
      ]
     },
     "metadata": {},
     "output_type": "display_data"
    },
    {
     "name": "stdout",
     "output_type": "stream",
     "text": [
      "--------------\n",
      "conference\n",
      "competition\n",
      "responsibility\n",
      "advantage\n",
      "movement\n",
      "effort\n",
      "survey\n",
      "courts\n",
      "rally\n",
      "reality\n",
      "--------------\n"
     ]
    },
    {
     "data": {
      "text/markdown": [
       "# usually"
      ],
      "text/plain": [
       "<IPython.core.display.Markdown object>"
      ]
     },
     "metadata": {},
     "output_type": "display_data"
    },
    {
     "data": {
      "text/markdown": [
       "#### Urban"
      ],
      "text/plain": [
       "<IPython.core.display.Markdown object>"
      ]
     },
     "metadata": {},
     "output_type": "display_data"
    },
    {
     "name": "stdout",
     "output_type": "stream",
     "text": [
      "---------\n",
      "normally\n",
      "generally\n",
      "rarely\n",
      "often\n",
      "sometimes\n",
      "mostly\n",
      "certain\n",
      "tend\n",
      "mainly\n",
      "actually\n",
      "---------\n"
     ]
    },
    {
     "data": {
      "text/markdown": [
       "#### Rural"
      ],
      "text/plain": [
       "<IPython.core.display.Markdown object>"
      ]
     },
     "metadata": {},
     "output_type": "display_data"
    },
    {
     "name": "stdout",
     "output_type": "stream",
     "text": [
      "---------\n",
      "normally\n",
      "rarely\n",
      "often\n",
      "sometimes\n",
      "assuming\n",
      "certain\n",
      "meh\n",
      "tend\n",
      "anyways\n",
      "actually\n",
      "---------\n"
     ]
    },
    {
     "data": {
      "text/markdown": [
       "# black"
      ],
      "text/plain": [
       "<IPython.core.display.Markdown object>"
      ]
     },
     "metadata": {},
     "output_type": "display_data"
    },
    {
     "data": {
      "text/markdown": [
       "#### Urban"
      ],
      "text/plain": [
       "<IPython.core.display.Markdown object>"
      ]
     },
     "metadata": {},
     "output_type": "display_data"
    },
    {
     "name": "stdout",
     "output_type": "stream",
     "text": [
      "--------\n",
      "white\n",
      "hispanic\n",
      "trans\n",
      "queer\n",
      "male\n",
      "gay\n",
      "asian\n",
      "blue\n",
      "brown\n",
      "colored\n",
      "--------\n"
     ]
    },
    {
     "data": {
      "text/markdown": [
       "#### Rural"
      ],
      "text/plain": [
       "<IPython.core.display.Markdown object>"
      ]
     },
     "metadata": {},
     "output_type": "display_data"
    },
    {
     "name": "stdout",
     "output_type": "stream",
     "text": [
      "-------\n",
      "white\n",
      "yellow\n",
      "blue\n",
      "purple\n",
      "red\n",
      "gray\n",
      "colored\n",
      "pink\n",
      "male\n",
      "orange\n",
      "-------\n"
     ]
    },
    {
     "data": {
      "text/markdown": [
       "# or"
      ],
      "text/plain": [
       "<IPython.core.display.Markdown object>"
      ]
     },
     "metadata": {},
     "output_type": "display_data"
    },
    {
     "data": {
      "text/markdown": [
       "#### Urban"
      ],
      "text/plain": [
       "<IPython.core.display.Markdown object>"
      ]
     },
     "metadata": {},
     "output_type": "display_data"
    },
    {
     "name": "stdout",
     "output_type": "stream",
     "text": [
      "-----------\n",
      "unless\n",
      "nor\n",
      "without\n",
      "maybe\n",
      "necessarily\n",
      "otherwise\n",
      "either\n",
      "if\n",
      "whether\n",
      "etc\n",
      "-----------\n"
     ]
    },
    {
     "data": {
      "text/markdown": [
       "#### Rural"
      ],
      "text/plain": [
       "<IPython.core.display.Markdown object>"
      ]
     },
     "metadata": {},
     "output_type": "display_data"
    },
    {
     "name": "stdout",
     "output_type": "stream",
     "text": [
      "---------\n",
      "unless\n",
      "maybe\n",
      "nor\n",
      "besides\n",
      "without\n",
      "if\n",
      "otherwise\n",
      "allowed\n",
      "than\n",
      "any\n",
      "---------\n"
     ]
    },
    {
     "data": {
      "text/markdown": [
       "# sir"
      ],
      "text/plain": [
       "<IPython.core.display.Markdown object>"
      ]
     },
     "metadata": {},
     "output_type": "display_data"
    },
    {
     "data": {
      "text/markdown": [
       "#### Urban"
      ],
      "text/plain": [
       "<IPython.core.display.Markdown object>"
      ]
     },
     "metadata": {},
     "output_type": "display_data"
    },
    {
     "name": "stdout",
     "output_type": "stream",
     "text": [
      "----------\n",
      "hun\n",
      "sweetie\n",
      "mr\n",
      "indeed\n",
      "yes\n",
      "sincerely\n",
      "sweetheart\n",
      "pal\n",
      "darling\n",
      "mate\n",
      "----------\n"
     ]
    },
    {
     "data": {
      "text/markdown": [
       "#### Rural"
      ],
      "text/plain": [
       "<IPython.core.display.Markdown object>"
      ]
     },
     "metadata": {},
     "output_type": "display_data"
    },
    {
     "name": "stdout",
     "output_type": "stream",
     "text": [
      "----------\n",
      "indeed\n",
      "sweetie\n",
      "yes\n",
      "mr\n",
      "senator\n",
      "hun\n",
      "sweetheart\n",
      "btw\n",
      "president\n",
      "amen\n",
      "----------\n"
     ]
    },
    {
     "data": {
      "text/markdown": [
       "# original"
      ],
      "text/plain": [
       "<IPython.core.display.Markdown object>"
      ]
     },
     "metadata": {},
     "output_type": "display_data"
    },
    {
     "data": {
      "text/markdown": [
       "#### Urban"
      ],
      "text/plain": [
       "<IPython.core.display.Markdown object>"
      ]
     },
     "metadata": {},
     "output_type": "display_data"
    },
    {
     "name": "stdout",
     "output_type": "stream",
     "text": [
      "----------\n",
      "animated\n",
      "classic\n",
      "theme\n",
      "acoustic\n",
      "iconic\n",
      "soundtrack\n",
      "animation\n",
      "edited\n",
      "genre\n",
      "cd\n",
      "----------\n"
     ]
    },
    {
     "data": {
      "text/markdown": [
       "#### Rural"
      ],
      "text/plain": [
       "<IPython.core.display.Markdown object>"
      ]
     },
     "metadata": {},
     "output_type": "display_data"
    },
    {
     "name": "stdout",
     "output_type": "stream",
     "text": [
      "---------\n",
      "vinyl\n",
      "iconic\n",
      "cd\n",
      "animated\n",
      "rare\n",
      "dvd\n",
      "legendary\n",
      "exclusive\n",
      "acoustic\n",
      "printed\n",
      "---------\n"
     ]
    },
    {
     "data": {
      "text/markdown": [
       "# shout"
      ],
      "text/plain": [
       "<IPython.core.display.Markdown object>"
      ]
     },
     "metadata": {},
     "output_type": "display_data"
    },
    {
     "data": {
      "text/markdown": [
       "#### Urban"
      ],
      "text/plain": [
       "<IPython.core.display.Markdown object>"
      ]
     },
     "metadata": {},
     "output_type": "display_data"
    },
    {
     "name": "stdout",
     "output_type": "stream",
     "text": [
      "--------\n",
      "shoutout\n",
      "check\n",
      "kudos\n",
      "reaching\n",
      "props\n",
      "cheers\n",
      "thanks\n",
      "hang\n",
      "hanging\n",
      "congrats\n",
      "--------\n"
     ]
    },
    {
     "data": {
      "text/markdown": [
       "#### Rural"
      ],
      "text/plain": [
       "<IPython.core.display.Markdown object>"
      ]
     },
     "metadata": {},
     "output_type": "display_data"
    },
    {
     "name": "stdout",
     "output_type": "stream",
     "text": [
      "---------------\n",
      "shoutout\n",
      "check\n",
      "props\n",
      "hang\n",
      "reaching\n",
      "thanks\n",
      "congrats\n",
      "hanging\n",
      "congratulations\n",
      "reach\n",
      "---------------\n"
     ]
    },
    {
     "data": {
      "text/markdown": [
       "# between"
      ],
      "text/plain": [
       "<IPython.core.display.Markdown object>"
      ]
     },
     "metadata": {},
     "output_type": "display_data"
    },
    {
     "data": {
      "text/markdown": [
       "#### Urban"
      ],
      "text/plain": [
       "<IPython.core.display.Markdown object>"
      ]
     },
     "metadata": {},
     "output_type": "display_data"
    },
    {
     "name": "stdout",
     "output_type": "stream",
     "text": [
      "--------\n",
      "behind\n",
      "toward\n",
      "requires\n",
      "affects\n",
      "with\n",
      "towards\n",
      "includes\n",
      "within\n",
      "against\n",
      "among\n",
      "--------\n"
     ]
    },
    {
     "data": {
      "text/markdown": [
       "#### Rural"
      ],
      "text/plain": [
       "<IPython.core.display.Markdown object>"
      ]
     },
     "metadata": {},
     "output_type": "display_data"
    },
    {
     "name": "stdout",
     "output_type": "stream",
     "text": [
      "--------\n",
      "behind\n",
      "against\n",
      "toward\n",
      "with\n",
      "avoid\n",
      "among\n",
      "beside\n",
      "causes\n",
      "towards\n",
      "separate\n",
      "--------\n"
     ]
    },
    {
     "data": {
      "text/markdown": [
       "# hurts"
      ],
      "text/plain": [
       "<IPython.core.display.Markdown object>"
      ]
     },
     "metadata": {},
     "output_type": "display_data"
    },
    {
     "data": {
      "text/markdown": [
       "#### Urban"
      ],
      "text/plain": [
       "<IPython.core.display.Markdown object>"
      ]
     },
     "metadata": {},
     "output_type": "display_data"
    },
    {
     "name": "stdout",
     "output_type": "stream",
     "text": [
      "-------\n",
      "sucks\n",
      "hurt\n",
      "hurting\n",
      "blows\n",
      "affects\n",
      "makes\n",
      "feels\n",
      "sore\n",
      "pain\n",
      "hate\n",
      "-------\n"
     ]
    },
    {
     "data": {
      "text/markdown": [
       "#### Rural"
      ],
      "text/plain": [
       "<IPython.core.display.Markdown object>"
      ]
     },
     "metadata": {},
     "output_type": "display_data"
    },
    {
     "name": "stdout",
     "output_type": "stream",
     "text": [
      "-------\n",
      "sucks\n",
      "hurt\n",
      "hurting\n",
      "numb\n",
      "breaks\n",
      "blows\n",
      "feels\n",
      "sore\n",
      "makes\n",
      "matters\n",
      "-------\n"
     ]
    },
    {
     "data": {
      "text/markdown": [
       "# music"
      ],
      "text/plain": [
       "<IPython.core.display.Markdown object>"
      ]
     },
     "metadata": {},
     "output_type": "display_data"
    },
    {
     "data": {
      "text/markdown": [
       "#### Urban"
      ],
      "text/plain": [
       "<IPython.core.display.Markdown object>"
      ]
     },
     "metadata": {},
     "output_type": "display_data"
    },
    {
     "name": "stdout",
     "output_type": "stream",
     "text": [
      "----------\n",
      "tunes\n",
      "songs\n",
      "song\n",
      "audio\n",
      "jams\n",
      "soundtrack\n",
      "album\n",
      "vocals\n",
      "podcasts\n",
      "spotify\n",
      "----------\n"
     ]
    },
    {
     "data": {
      "text/markdown": [
       "#### Rural"
      ],
      "text/plain": [
       "<IPython.core.display.Markdown object>"
      ]
     },
     "metadata": {},
     "output_type": "display_data"
    },
    {
     "name": "stdout",
     "output_type": "stream",
     "text": [
      "----------\n",
      "songs\n",
      "song\n",
      "acoustic\n",
      "piano\n",
      "rap\n",
      "jazz\n",
      "soundtrack\n",
      "album\n",
      "audio\n",
      "karaoke\n",
      "----------\n"
     ]
    },
    {
     "data": {
      "text/markdown": [
       "# position"
      ],
      "text/plain": [
       "<IPython.core.display.Markdown object>"
      ]
     },
     "metadata": {},
     "output_type": "display_data"
    },
    {
     "data": {
      "text/markdown": [
       "#### Urban"
      ],
      "text/plain": [
       "<IPython.core.display.Markdown object>"
      ]
     },
     "metadata": {},
     "output_type": "display_data"
    },
    {
     "name": "stdout",
     "output_type": "stream",
     "text": [
      "---------\n",
      "role\n",
      "situation\n",
      "positions\n",
      "defense\n",
      "job\n",
      "qb\n",
      "team\n",
      "stance\n",
      "offense\n",
      "priority\n",
      "---------\n"
     ]
    },
    {
     "data": {
      "text/markdown": [
       "#### Rural"
      ],
      "text/plain": [
       "<IPython.core.display.Markdown object>"
      ]
     },
     "metadata": {},
     "output_type": "display_data"
    },
    {
     "name": "stdout",
     "output_type": "stream",
     "text": [
      "---------\n",
      "situation\n",
      "role\n",
      "career\n",
      "approach\n",
      "strategy\n",
      "positions\n",
      "opinion\n",
      "platform\n",
      "job\n",
      "terms\n",
      "---------\n"
     ]
    },
    {
     "data": {
      "text/markdown": [
       "# bank"
      ],
      "text/plain": [
       "<IPython.core.display.Markdown object>"
      ]
     },
     "metadata": {},
     "output_type": "display_data"
    },
    {
     "data": {
      "text/markdown": [
       "#### Urban"
      ],
      "text/plain": [
       "<IPython.core.display.Markdown object>"
      ]
     },
     "metadata": {},
     "output_type": "display_data"
    },
    {
     "name": "stdout",
     "output_type": "stream",
     "text": [
      "---------\n",
      "savings\n",
      "private\n",
      "payments\n",
      "breach\n",
      "paypal\n",
      "fee\n",
      "theft\n",
      "property\n",
      "corporate\n",
      "cash\n",
      "---------\n"
     ]
    },
    {
     "data": {
      "text/markdown": [
       "#### Rural"
      ],
      "text/plain": [
       "<IPython.core.display.Markdown object>"
      ]
     },
     "metadata": {},
     "output_type": "display_data"
    },
    {
     "name": "stdout",
     "output_type": "stream",
     "text": [
      "---------\n",
      "federal\n",
      "loan\n",
      "union\n",
      "capital\n",
      "loans\n",
      "paypal\n",
      "corporate\n",
      "fees\n",
      "fund\n",
      "irs\n",
      "---------\n"
     ]
    },
    {
     "data": {
      "text/markdown": [
       "# living"
      ],
      "text/plain": [
       "<IPython.core.display.Markdown object>"
      ]
     },
     "metadata": {},
     "output_type": "display_data"
    },
    {
     "data": {
      "text/markdown": [
       "#### Urban"
      ],
      "text/plain": [
       "<IPython.core.display.Markdown object>"
      ]
     },
     "metadata": {},
     "output_type": "display_data"
    },
    {
     "name": "stdout",
     "output_type": "stream",
     "text": [
      "---------\n",
      "staying\n",
      "trapped\n",
      "working\n",
      "falling\n",
      "moving\n",
      "fighting\n",
      "finding\n",
      "built\n",
      "building\n",
      "believing\n",
      "---------\n"
     ]
    },
    {
     "data": {
      "text/markdown": [
       "#### Rural"
      ],
      "text/plain": [
       "<IPython.core.display.Markdown object>"
      ]
     },
     "metadata": {},
     "output_type": "display_data"
    },
    {
     "name": "stdout",
     "output_type": "stream",
     "text": [
      "---------\n",
      "livin\n",
      "staying\n",
      "traveling\n",
      "sitting\n",
      "changing\n",
      "moving\n",
      "breathing\n",
      "working\n",
      "laying\n",
      "built\n",
      "---------\n"
     ]
    },
    {
     "data": {
      "text/markdown": [
       "# opening"
      ],
      "text/plain": [
       "<IPython.core.display.Markdown object>"
      ]
     },
     "metadata": {},
     "output_type": "display_data"
    },
    {
     "data": {
      "text/markdown": [
       "#### Urban"
      ],
      "text/plain": [
       "<IPython.core.display.Markdown object>"
      ]
     },
     "metadata": {},
     "output_type": "display_data"
    },
    {
     "name": "stdout",
     "output_type": "stream",
     "text": [
      "----------\n",
      "opens\n",
      "supervisor\n",
      "closing\n",
      "inventory\n",
      "click\n",
      "az\n",
      "assistant\n",
      "preview\n",
      "open\n",
      "operations\n",
      "----------\n"
     ]
    },
    {
     "data": {
      "text/markdown": [
       "#### Rural"
      ],
      "text/plain": [
       "<IPython.core.display.Markdown object>"
      ]
     },
     "metadata": {},
     "output_type": "display_data"
    },
    {
     "name": "stdout",
     "output_type": "stream",
     "text": [
      "--------\n",
      "opens\n",
      "click\n",
      "preview\n",
      "upcoming\n",
      "opener\n",
      "underway\n",
      "details\n",
      "memorial\n",
      "md\n",
      "closing\n",
      "--------\n"
     ]
    },
    {
     "data": {
      "text/markdown": [
       "# performance"
      ],
      "text/plain": [
       "<IPython.core.display.Markdown object>"
      ]
     },
     "metadata": {},
     "output_type": "display_data"
    },
    {
     "data": {
      "text/markdown": [
       "#### Urban"
      ],
      "text/plain": [
       "<IPython.core.display.Markdown object>"
      ]
     },
     "metadata": {},
     "output_type": "display_data"
    },
    {
     "name": "stdout",
     "output_type": "stream",
     "text": [
      "------------\n",
      "performances\n",
      "presentation\n",
      "production\n",
      "showcase\n",
      "career\n",
      "film\n",
      "audition\n",
      "segment\n",
      "grammy\n",
      "musical\n",
      "------------\n"
     ]
    },
    {
     "data": {
      "text/markdown": [
       "#### Rural"
      ],
      "text/plain": [
       "<IPython.core.display.Markdown object>"
      ]
     },
     "metadata": {},
     "output_type": "display_data"
    },
    {
     "name": "stdout",
     "output_type": "stream",
     "text": [
      "--------------\n",
      "presentation\n",
      "segment\n",
      "production\n",
      "competition\n",
      "lineup\n",
      "film\n",
      "career\n",
      "debut\n",
      "transformation\n",
      "selection\n",
      "--------------\n"
     ]
    },
    {
     "data": {
      "text/markdown": [
       "# tattoo"
      ],
      "text/plain": [
       "<IPython.core.display.Markdown object>"
      ]
     },
     "metadata": {},
     "output_type": "display_data"
    },
    {
     "data": {
      "text/markdown": [
       "#### Urban"
      ],
      "text/plain": [
       "<IPython.core.display.Markdown object>"
      ]
     },
     "metadata": {},
     "output_type": "display_data"
    },
    {
     "name": "stdout",
     "output_type": "stream",
     "text": [
      "-------\n",
      "haircut\n",
      "wig\n",
      "outfit\n",
      "wax\n",
      "romper\n",
      "tattoos\n",
      "crush\n",
      "bra\n",
      "shirt\n",
      "nails\n",
      "-------\n"
     ]
    },
    {
     "data": {
      "text/markdown": [
       "#### Rural"
      ],
      "text/plain": [
       "<IPython.core.display.Markdown object>"
      ]
     },
     "metadata": {},
     "output_type": "display_data"
    },
    {
     "name": "stdout",
     "output_type": "stream",
     "text": [
      "--------\n",
      "haircut\n",
      "pierced\n",
      "piercing\n",
      "palette\n",
      "outfit\n",
      "nails\n",
      "hair\n",
      "merch\n",
      "puppy\n",
      "lipstick\n",
      "--------\n"
     ]
    },
    {
     "data": {
      "text/markdown": [
       "# im"
      ],
      "text/plain": [
       "<IPython.core.display.Markdown object>"
      ]
     },
     "metadata": {},
     "output_type": "display_data"
    },
    {
     "data": {
      "text/markdown": [
       "#### Urban"
      ],
      "text/plain": [
       "<IPython.core.display.Markdown object>"
      ]
     },
     "metadata": {},
     "output_type": "display_data"
    },
    {
     "name": "stdout",
     "output_type": "stream",
     "text": [
      "------\n",
      "m\n",
      "am\n",
      "youre\n",
      "theyre\n",
      "shes\n",
      "hes\n",
      "whos\n",
      "brb\n",
      "wasnt\n",
      "rn\n",
      "------\n"
     ]
    },
    {
     "data": {
      "text/markdown": [
       "#### Rural"
      ],
      "text/plain": [
       "<IPython.core.display.Markdown object>"
      ]
     },
     "metadata": {},
     "output_type": "display_data"
    },
    {
     "name": "stdout",
     "output_type": "stream",
     "text": [
      "------\n",
      "m\n",
      "youre\n",
      "am\n",
      "shes\n",
      "hes\n",
      "re\n",
      "lowkey\n",
      "rn\n",
      "myself\n",
      "wasnt\n",
      "------\n"
     ]
    },
    {
     "data": {
      "text/markdown": [
       "# entered"
      ],
      "text/plain": [
       "<IPython.core.display.Markdown object>"
      ]
     },
     "metadata": {},
     "output_type": "display_data"
    },
    {
     "data": {
      "text/markdown": [
       "#### Urban"
      ],
      "text/plain": [
       "<IPython.core.display.Markdown object>"
      ]
     },
     "metadata": {},
     "output_type": "display_data"
    },
    {
     "name": "stdout",
     "output_type": "stream",
     "text": [
      "---------\n",
      "enter\n",
      "giveaway\n",
      "added\n",
      "unlocked\n",
      "prize\n",
      "purchased\n",
      "completed\n",
      "launched\n",
      "arrived\n",
      "earned\n",
      "---------\n"
     ]
    },
    {
     "data": {
      "text/markdown": [
       "#### Rural"
      ],
      "text/plain": [
       "<IPython.core.display.Markdown object>"
      ]
     },
     "metadata": {},
     "output_type": "display_data"
    },
    {
     "name": "stdout",
     "output_type": "stream",
     "text": [
      "------------\n",
      "enter\n",
      "giveaway\n",
      "added\n",
      "participated\n",
      "unlocked\n",
      "applied\n",
      "chance\n",
      "posted\n",
      "earned\n",
      "completed\n",
      "------------\n"
     ]
    },
    {
     "data": {
      "text/markdown": [
       "# reasons"
      ],
      "text/plain": [
       "<IPython.core.display.Markdown object>"
      ]
     },
     "metadata": {},
     "output_type": "display_data"
    },
    {
     "data": {
      "text/markdown": [
       "#### Urban"
      ],
      "text/plain": [
       "<IPython.core.display.Markdown object>"
      ]
     },
     "metadata": {},
     "output_type": "display_data"
    },
    {
     "name": "stdout",
     "output_type": "stream",
     "text": [
      "----------\n",
      "reason\n",
      "ways\n",
      "times\n",
      "seasons\n",
      "episodes\n",
      "strategies\n",
      "examples\n",
      "things\n",
      "brands\n",
      "tactics\n",
      "----------\n"
     ]
    },
    {
     "data": {
      "text/markdown": [
       "#### Rural"
      ],
      "text/plain": [
       "<IPython.core.display.Markdown object>"
      ]
     },
     "metadata": {},
     "output_type": "display_data"
    },
    {
     "name": "stdout",
     "output_type": "stream",
     "text": [
      "----------\n",
      "episodes\n",
      "ways\n",
      "reason\n",
      "times\n",
      "seasons\n",
      "jeffbullas\n",
      "brands\n",
      "things\n",
      "channels\n",
      "foods\n",
      "----------\n"
     ]
    },
    {
     "data": {
      "text/markdown": [
       "# vs"
      ],
      "text/plain": [
       "<IPython.core.display.Markdown object>"
      ]
     },
     "metadata": {},
     "output_type": "display_data"
    },
    {
     "data": {
      "text/markdown": [
       "#### Urban"
      ],
      "text/plain": [
       "<IPython.core.display.Markdown object>"
      ]
     },
     "metadata": {},
     "output_type": "display_data"
    },
    {
     "name": "stdout",
     "output_type": "stream",
     "text": [
      "------------\n",
      "versus\n",
      "fc\n",
      "v\n",
      "highlights\n",
      "blackhawks\n",
      "preview\n",
      "wizards\n",
      "wire\n",
      "wins\n",
      "championship\n",
      "------------\n"
     ]
    },
    {
     "data": {
      "text/markdown": [
       "#### Rural"
      ],
      "text/plain": [
       "<IPython.core.display.Markdown object>"
      ]
     },
     "metadata": {},
     "output_type": "display_data"
    },
    {
     "name": "stdout",
     "output_type": "stream",
     "text": [
      "------------\n",
      "v\n",
      "fc\n",
      "defeats\n",
      "championship\n",
      "central\n",
      "sectional\n",
      "regional\n",
      "final\n",
      "wrestling\n",
      "bball\n",
      "------------\n"
     ]
    },
    {
     "data": {
      "text/markdown": [
       "# songs"
      ],
      "text/plain": [
       "<IPython.core.display.Markdown object>"
      ]
     },
     "metadata": {},
     "output_type": "display_data"
    },
    {
     "data": {
      "text/markdown": [
       "#### Urban"
      ],
      "text/plain": [
       "<IPython.core.display.Markdown object>"
      ]
     },
     "metadata": {},
     "output_type": "display_data"
    },
    {
     "name": "stdout",
     "output_type": "stream",
     "text": [
      "--------\n",
      "albums\n",
      "tracks\n",
      "lyrics\n",
      "song\n",
      "bands\n",
      "tunes\n",
      "vocals\n",
      "podcasts\n",
      "music\n",
      "rappers\n",
      "--------\n"
     ]
    },
    {
     "data": {
      "text/markdown": [
       "#### Rural"
      ],
      "text/plain": [
       "<IPython.core.display.Markdown object>"
      ]
     },
     "metadata": {},
     "output_type": "display_data"
    },
    {
     "name": "stdout",
     "output_type": "stream",
     "text": [
      "--------\n",
      "albums\n",
      "song\n",
      "bands\n",
      "tracks\n",
      "music\n",
      "lyrics\n",
      "album\n",
      "artists\n",
      "episodes\n",
      "movies\n",
      "--------\n"
     ]
    },
    {
     "data": {
      "text/markdown": [
       "# marketing"
      ],
      "text/plain": [
       "<IPython.core.display.Markdown object>"
      ]
     },
     "metadata": {},
     "output_type": "display_data"
    },
    {
     "data": {
      "text/markdown": [
       "#### Urban"
      ],
      "text/plain": [
       "<IPython.core.display.Markdown object>"
      ]
     },
     "metadata": {},
     "output_type": "display_data"
    },
    {
     "name": "stdout",
     "output_type": "stream",
     "text": [
      "-----------\n",
      "seo\n",
      "analytics\n",
      "marketers\n",
      "infographic\n",
      "automation\n",
      "branding\n",
      "strategy\n",
      "wordpress\n",
      "digital\n",
      "strategies\n",
      "-----------\n"
     ]
    },
    {
     "data": {
      "text/markdown": [
       "#### Rural"
      ],
      "text/plain": [
       "<IPython.core.display.Markdown object>"
      ]
     },
     "metadata": {},
     "output_type": "display_data"
    },
    {
     "name": "stdout",
     "output_type": "stream",
     "text": [
      "-----------\n",
      "seo\n",
      "infographic\n",
      "strategy\n",
      "strategies\n",
      "software\n",
      "startup\n",
      "advertising\n",
      "content\n",
      "jeffbullas\n",
      "biz\n",
      "-----------\n"
     ]
    },
    {
     "data": {
      "text/markdown": [
       "# concert"
      ],
      "text/plain": [
       "<IPython.core.display.Markdown object>"
      ]
     },
     "metadata": {},
     "output_type": "display_data"
    },
    {
     "data": {
      "text/markdown": [
       "#### Urban"
      ],
      "text/plain": [
       "<IPython.core.display.Markdown object>"
      ]
     },
     "metadata": {},
     "output_type": "display_data"
    },
    {
     "name": "stdout",
     "output_type": "stream",
     "text": [
      "----------\n",
      "performing\n",
      "fest\n",
      "rodeo\n",
      "coachella\n",
      "tour\n",
      "perform\n",
      "festival\n",
      "grammys\n",
      "disneyland\n",
      "venue\n",
      "----------\n"
     ]
    },
    {
     "data": {
      "text/markdown": [
       "#### Rural"
      ],
      "text/plain": [
       "<IPython.core.display.Markdown object>"
      ]
     },
     "metadata": {},
     "output_type": "display_data"
    },
    {
     "name": "stdout",
     "output_type": "stream",
     "text": [
      "----------\n",
      "band\n",
      "fest\n",
      "jazz\n",
      "theatre\n",
      "concerts\n",
      "performing\n",
      "reunion\n",
      "festival\n",
      "perform\n",
      "theater\n",
      "----------\n"
     ]
    },
    {
     "data": {
      "text/markdown": [
       "# broken"
      ],
      "text/plain": [
       "<IPython.core.display.Markdown object>"
      ]
     },
     "metadata": {},
     "output_type": "display_data"
    },
    {
     "data": {
      "text/markdown": [
       "#### Urban"
      ],
      "text/plain": [
       "<IPython.core.display.Markdown object>"
      ]
     },
     "metadata": {},
     "output_type": "display_data"
    },
    {
     "name": "stdout",
     "output_type": "stream",
     "text": [
      "---------\n",
      "shaped\n",
      "broke\n",
      "touched\n",
      "built\n",
      "burning\n",
      "breaking\n",
      "falling\n",
      "clear\n",
      "hurting\n",
      "developed\n",
      "---------\n"
     ]
    },
    {
     "data": {
      "text/markdown": [
       "#### Rural"
      ],
      "text/plain": [
       "<IPython.core.display.Markdown object>"
      ]
     },
     "metadata": {},
     "output_type": "display_data"
    },
    {
     "name": "stdout",
     "output_type": "stream",
     "text": [
      "--------\n",
      "broke\n",
      "touched\n",
      "shaped\n",
      "shaking\n",
      "breaking\n",
      "cracked\n",
      "numb\n",
      "burning\n",
      "washed\n",
      "blown\n",
      "--------\n"
     ]
    },
    {
     "data": {
      "text/markdown": [
       "# shows"
      ],
      "text/plain": [
       "<IPython.core.display.Markdown object>"
      ]
     },
     "metadata": {},
     "output_type": "display_data"
    },
    {
     "data": {
      "text/markdown": [
       "#### Urban"
      ],
      "text/plain": [
       "<IPython.core.display.Markdown object>"
      ]
     },
     "metadata": {},
     "output_type": "display_data"
    },
    {
     "name": "stdout",
     "output_type": "stream",
     "text": [
      "-------\n",
      "showing\n",
      "sets\n",
      "showed\n",
      "show\n",
      "reveals\n",
      "films\n",
      "covers\n",
      "matches\n",
      "watches\n",
      "holds\n",
      "-------\n"
     ]
    },
    {
     "data": {
      "text/markdown": [
       "#### Rural"
      ],
      "text/plain": [
       "<IPython.core.display.Markdown object>"
      ]
     },
     "metadata": {},
     "output_type": "display_data"
    },
    {
     "name": "stdout",
     "output_type": "stream",
     "text": [
      "--------\n",
      "showed\n",
      "showing\n",
      "reveals\n",
      "proves\n",
      "covers\n",
      "show\n",
      "explains\n",
      "releases\n",
      "finds\n",
      "reads\n",
      "--------\n"
     ]
    },
    {
     "data": {
      "text/markdown": [
       "# playlist"
      ],
      "text/plain": [
       "<IPython.core.display.Markdown object>"
      ]
     },
     "metadata": {},
     "output_type": "display_data"
    },
    {
     "data": {
      "text/markdown": [
       "#### Urban"
      ],
      "text/plain": [
       "<IPython.core.display.Markdown object>"
      ]
     },
     "metadata": {},
     "output_type": "display_data"
    },
    {
     "name": "stdout",
     "output_type": "stream",
     "text": [
      "---------\n",
      "liked\n",
      "feat\n",
      "lyric\n",
      "remix\n",
      "intro\n",
      "ft\n",
      "tribute\n",
      "throwback\n",
      "dj\n",
      "video\n",
      "---------\n"
     ]
    },
    {
     "data": {
      "text/markdown": [
       "#### Rural"
      ],
      "text/plain": [
       "<IPython.core.display.Markdown object>"
      ]
     },
     "metadata": {},
     "output_type": "display_data"
    },
    {
     "name": "stdout",
     "output_type": "stream",
     "text": [
      "---------\n",
      "liked\n",
      "tribute\n",
      "via\n",
      "remix\n",
      "lyric\n",
      "hd\n",
      "trap\n",
      "guide\n",
      "minecraft\n",
      "video\n",
      "---------\n"
     ]
    },
    {
     "data": {
      "text/markdown": [
       "# well"
      ],
      "text/plain": [
       "<IPython.core.display.Markdown object>"
      ]
     },
     "metadata": {},
     "output_type": "display_data"
    },
    {
     "data": {
      "text/markdown": [
       "#### Urban"
      ],
      "text/plain": [
       "<IPython.core.display.Markdown object>"
      ]
     },
     "metadata": {},
     "output_type": "display_data"
    },
    {
     "name": "stdout",
     "output_type": "stream",
     "text": [
      "--------\n",
      "poorly\n",
      "nicely\n",
      "yeah\n",
      "anyway\n",
      "hell\n",
      "although\n",
      "fine\n",
      "haha\n",
      "it\n",
      "good\n",
      "--------\n"
     ]
    },
    {
     "data": {
      "text/markdown": [
       "#### Rural"
      ],
      "text/plain": [
       "<IPython.core.display.Markdown object>"
      ]
     },
     "metadata": {},
     "output_type": "display_data"
    },
    {
     "name": "stdout",
     "output_type": "stream",
     "text": [
      "-------\n",
      "yeah\n",
      "usual\n",
      "anyway\n",
      "yea\n",
      "ok\n",
      "hell\n",
      "fine\n",
      "alright\n",
      "it\n",
      "okay\n",
      "-------\n"
     ]
    },
    {
     "data": {
      "text/markdown": [
       "# sold"
      ],
      "text/plain": [
       "<IPython.core.display.Markdown object>"
      ]
     },
     "metadata": {},
     "output_type": "display_data"
    },
    {
     "data": {
      "text/markdown": [
       "#### Urban"
      ],
      "text/plain": [
       "<IPython.core.display.Markdown object>"
      ]
     },
     "metadata": {},
     "output_type": "display_data"
    },
    {
     "name": "stdout",
     "output_type": "stream",
     "text": [
      "---------\n",
      "sells\n",
      "purchased\n",
      "shipped\n",
      "figured\n",
      "selling\n",
      "checking\n",
      "bought\n",
      "found\n",
      "kicked\n",
      "worn\n",
      "---------\n"
     ]
    },
    {
     "data": {
      "text/markdown": [
       "#### Rural"
      ],
      "text/plain": [
       "<IPython.core.display.Markdown object>"
      ]
     },
     "metadata": {},
     "output_type": "display_data"
    },
    {
     "name": "stdout",
     "output_type": "stream",
     "text": [
      "---------\n",
      "purchased\n",
      "found\n",
      "bought\n",
      "owned\n",
      "ordered\n",
      "selling\n",
      "check\n",
      "listed\n",
      "worn\n",
      "reduced\n",
      "---------\n"
     ]
    },
    {
     "data": {
      "text/markdown": [
       "# end"
      ],
      "text/plain": [
       "<IPython.core.display.Markdown object>"
      ]
     },
     "metadata": {},
     "output_type": "display_data"
    },
    {
     "data": {
      "text/markdown": [
       "#### Urban"
      ],
      "text/plain": [
       "<IPython.core.display.Markdown object>"
      ]
     },
     "metadata": {},
     "output_type": "display_data"
    },
    {
     "name": "stdout",
     "output_type": "stream",
     "text": [
      "------\n",
      "rest\n",
      "wake\n",
      "ending\n",
      "ended\n",
      "catch\n",
      "rise\n",
      "ends\n",
      "start\n",
      "waking\n",
      "finish\n",
      "------\n"
     ]
    },
    {
     "data": {
      "text/markdown": [
       "#### Rural"
      ],
      "text/plain": [
       "<IPython.core.display.Markdown object>"
      ]
     },
     "metadata": {},
     "output_type": "display_data"
    },
    {
     "name": "stdout",
     "output_type": "stream",
     "text": [
      "------\n",
      "ended\n",
      "rise\n",
      "wake\n",
      "ending\n",
      "rest\n",
      "start\n",
      "catch\n",
      "finish\n",
      "half\n",
      "point\n",
      "------\n"
     ]
    },
    {
     "data": {
      "text/markdown": [
       "# show"
      ],
      "text/plain": [
       "<IPython.core.display.Markdown object>"
      ]
     },
     "metadata": {},
     "output_type": "display_data"
    },
    {
     "data": {
      "text/markdown": [
       "#### Urban"
      ],
      "text/plain": [
       "<IPython.core.display.Markdown object>"
      ]
     },
     "metadata": {},
     "output_type": "display_data"
    },
    {
     "name": "stdout",
     "output_type": "stream",
     "text": [
      "-------\n",
      "segment\n",
      "catch\n",
      "movie\n",
      "concert\n",
      "stream\n",
      "event\n",
      "comedy\n",
      "shows\n",
      "podcast\n",
      "showing\n",
      "-------\n"
     ]
    },
    {
     "data": {
      "text/markdown": [
       "#### Rural"
      ],
      "text/plain": [
       "<IPython.core.display.Markdown object>"
      ]
     },
     "metadata": {},
     "output_type": "display_data"
    },
    {
     "name": "stdout",
     "output_type": "stream",
     "text": [
      "-----------\n",
      "showing\n",
      "segment\n",
      "shows\n",
      "concert\n",
      "movie\n",
      "catch\n",
      "documentary\n",
      "perform\n",
      "pick\n",
      "comedy\n",
      "-----------\n"
     ]
    },
    {
     "data": {
      "text/markdown": [
       "# win"
      ],
      "text/plain": [
       "<IPython.core.display.Markdown object>"
      ]
     },
     "metadata": {},
     "output_type": "display_data"
    },
    {
     "data": {
      "text/markdown": [
       "#### Urban"
      ],
      "text/plain": [
       "<IPython.core.display.Markdown object>"
      ]
     },
     "metadata": {},
     "output_type": "display_data"
    },
    {
     "name": "stdout",
     "output_type": "stream",
     "text": [
      "-------\n",
      "lose\n",
      "score\n",
      "enter\n",
      "play\n",
      "sweep\n",
      "fight\n",
      "wins\n",
      "compete\n",
      "match\n",
      "draw\n",
      "-------\n"
     ]
    },
    {
     "data": {
      "text/markdown": [
       "#### Rural"
      ],
      "text/plain": [
       "<IPython.core.display.Markdown object>"
      ]
     },
     "metadata": {},
     "output_type": "display_data"
    },
    {
     "name": "stdout",
     "output_type": "stream",
     "text": [
      "-----------\n",
      "giveaway\n",
      "enter\n",
      "sweeps\n",
      "play\n",
      "sweep\n",
      "lose\n",
      "wins\n",
      "beat\n",
      "prizes\n",
      "sweepstakes\n",
      "-----------\n"
     ]
    },
    {
     "data": {
      "text/markdown": [
       "# download"
      ],
      "text/plain": [
       "<IPython.core.display.Markdown object>"
      ]
     },
     "metadata": {},
     "output_type": "display_data"
    },
    {
     "data": {
      "text/markdown": [
       "#### Urban"
      ],
      "text/plain": [
       "<IPython.core.display.Markdown object>"
      ]
     },
     "metadata": {},
     "output_type": "display_data"
    },
    {
     "name": "stdout",
     "output_type": "stream",
     "text": [
      "--------\n",
      "app\n",
      "ebook\n",
      "promo\n",
      "shop\n",
      "purchase\n",
      "demo\n",
      "enter\n",
      "store\n",
      "register\n",
      "link\n",
      "--------\n"
     ]
    },
    {
     "data": {
      "text/markdown": [
       "#### Rural"
      ],
      "text/plain": [
       "<IPython.core.display.Markdown object>"
      ]
     },
     "metadata": {},
     "output_type": "display_data"
    },
    {
     "name": "stdout",
     "output_type": "stream",
     "text": [
      "--------\n",
      "mpoints\n",
      "shop\n",
      "shell\n",
      "tire\n",
      "mobile\n",
      "demo\n",
      "cafe\n",
      "app\n",
      "factory\n",
      "purchase\n",
      "--------\n"
     ]
    },
    {
     "data": {
      "text/markdown": [
       "# te"
      ],
      "text/plain": [
       "<IPython.core.display.Markdown object>"
      ]
     },
     "metadata": {},
     "output_type": "display_data"
    },
    {
     "data": {
      "text/markdown": [
       "#### Urban"
      ],
      "text/plain": [
       "<IPython.core.display.Markdown object>"
      ]
     },
     "metadata": {},
     "output_type": "display_data"
    },
    {
     "name": "stdout",
     "output_type": "stream",
     "text": [
      "-------\n",
      "si\n",
      "muy\n",
      "tu\n",
      "como\n",
      "ser\n",
      "cuando\n",
      "mejor\n",
      "siempre\n",
      "esta\n",
      "porque\n",
      "-------\n"
     ]
    },
    {
     "data": {
      "text/markdown": [
       "#### Rural"
      ],
      "text/plain": [
       "<IPython.core.display.Markdown object>"
      ]
     },
     "metadata": {},
     "output_type": "display_data"
    },
    {
     "name": "stdout",
     "output_type": "stream",
     "text": [
      "----\n",
      "una\n",
      "para\n",
      "el\n",
      "por\n",
      "su\n",
      "si\n",
      "ser\n",
      "en\n",
      "que\n",
      "tu\n",
      "----\n"
     ]
    },
    {
     "data": {
      "text/markdown": [
       "# created"
      ],
      "text/plain": [
       "<IPython.core.display.Markdown object>"
      ]
     },
     "metadata": {},
     "output_type": "display_data"
    },
    {
     "data": {
      "text/markdown": [
       "#### Urban"
      ],
      "text/plain": [
       "<IPython.core.display.Markdown object>"
      ]
     },
     "metadata": {},
     "output_type": "display_data"
    },
    {
     "name": "stdout",
     "output_type": "stream",
     "text": [
      "----------\n",
      "invented\n",
      "designed\n",
      "built\n",
      "developed\n",
      "provided\n",
      "launched\n",
      "driven\n",
      "chosen\n",
      "introduced\n",
      "shared\n",
      "----------\n"
     ]
    },
    {
     "data": {
      "text/markdown": [
       "#### Rural"
      ],
      "text/plain": [
       "<IPython.core.display.Markdown object>"
      ]
     },
     "metadata": {},
     "output_type": "display_data"
    },
    {
     "name": "stdout",
     "output_type": "stream",
     "text": [
      "----------\n",
      "invented\n",
      "designed\n",
      "built\n",
      "shared\n",
      "provided\n",
      "explained\n",
      "discovered\n",
      "shown\n",
      "chosen\n",
      "supported\n",
      "----------\n"
     ]
    },
    {
     "data": {
      "text/markdown": [
       "# bomb"
      ],
      "text/plain": [
       "<IPython.core.display.Markdown object>"
      ]
     },
     "metadata": {},
     "output_type": "display_data"
    },
    {
     "data": {
      "text/markdown": [
       "#### Urban"
      ],
      "text/plain": [
       "<IPython.core.display.Markdown object>"
      ]
     },
     "metadata": {},
     "output_type": "display_data"
    },
    {
     "name": "stdout",
     "output_type": "stream",
     "text": [
      "-----\n",
      "nasty\n",
      "hot\n",
      "yummy\n",
      "dope\n",
      "blunt\n",
      "bombs\n",
      "fat\n",
      "crab\n",
      "cold\n",
      "tasty\n",
      "-----\n"
     ]
    },
    {
     "data": {
      "text/markdown": [
       "#### Rural"
      ],
      "text/plain": [
       "<IPython.core.display.Markdown object>"
      ]
     },
     "metadata": {},
     "output_type": "display_data"
    },
    {
     "name": "stdout",
     "output_type": "stream",
     "text": [
      "--------\n",
      "nasty\n",
      "hot\n",
      "dope\n",
      "mud\n",
      "bombs\n",
      "nut\n",
      "wack\n",
      "korean\n",
      "blizzard\n",
      "blunt\n",
      "--------\n"
     ]
    },
    {
     "data": {
      "text/markdown": [
       "# product"
      ],
      "text/plain": [
       "<IPython.core.display.Markdown object>"
      ]
     },
     "metadata": {},
     "output_type": "display_data"
    },
    {
     "data": {
      "text/markdown": [
       "#### Urban"
      ],
      "text/plain": [
       "<IPython.core.display.Markdown object>"
      ]
     },
     "metadata": {},
     "output_type": "display_data"
    },
    {
     "name": "stdout",
     "output_type": "stream",
     "text": [
      "----------\n",
      "software\n",
      "products\n",
      "growth\n",
      "tools\n",
      "tool\n",
      "automation\n",
      "enterprise\n",
      "portfolio\n",
      "strategy\n",
      "inventory\n",
      "----------\n"
     ]
    },
    {
     "data": {
      "text/markdown": [
       "#### Rural"
      ],
      "text/plain": [
       "<IPython.core.display.Markdown object>"
      ]
     },
     "metadata": {},
     "output_type": "display_data"
    },
    {
     "name": "stdout",
     "output_type": "stream",
     "text": [
      "----------\n",
      "products\n",
      "software\n",
      "brand\n",
      "design\n",
      "method\n",
      "device\n",
      "technology\n",
      "site\n",
      "client\n",
      "item\n",
      "----------\n"
     ]
    },
    {
     "data": {
      "text/markdown": [
       "# pair"
      ],
      "text/plain": [
       "<IPython.core.display.Markdown object>"
      ]
     },
     "metadata": {},
     "output_type": "display_data"
    },
    {
     "data": {
      "text/markdown": [
       "#### Urban"
      ],
      "text/plain": [
       "<IPython.core.display.Markdown object>"
      ]
     },
     "metadata": {},
     "output_type": "display_data"
    },
    {
     "name": "stdout",
     "output_type": "stream",
     "text": [
      "------\n",
      "pairs\n",
      "bunch\n",
      "bottle\n",
      "bag\n",
      "copy\n",
      "bundle\n",
      "coat\n",
      "slice\n",
      "pack\n",
      "hoodie\n",
      "------\n"
     ]
    },
    {
     "data": {
      "text/markdown": [
       "#### Rural"
      ],
      "text/plain": [
       "<IPython.core.display.Markdown object>"
      ]
     },
     "metadata": {},
     "output_type": "display_data"
    },
    {
     "name": "stdout",
     "output_type": "stream",
     "text": [
      "------\n",
      "bunch\n",
      "bag\n",
      "copy\n",
      "ton\n",
      "coat\n",
      "piece\n",
      "couple\n",
      "combo\n",
      "bottle\n",
      "box\n",
      "------\n"
     ]
    },
    {
     "data": {
      "text/markdown": [
       "# stock"
      ],
      "text/plain": [
       "<IPython.core.display.Markdown object>"
      ]
     },
     "metadata": {},
     "output_type": "display_data"
    },
    {
     "data": {
      "text/markdown": [
       "#### Urban"
      ],
      "text/plain": [
       "<IPython.core.display.Markdown object>"
      ]
     },
     "metadata": {},
     "output_type": "display_data"
    },
    {
     "name": "stdout",
     "output_type": "stream",
     "text": [
      "---------\n",
      "stocks\n",
      "prices\n",
      "bitcoin\n",
      "inventory\n",
      "earnings\n",
      "premium\n",
      "markets\n",
      "index\n",
      "revenue\n",
      "stores\n",
      "---------\n"
     ]
    },
    {
     "data": {
      "text/markdown": [
       "#### Rural"
      ],
      "text/plain": [
       "<IPython.core.display.Markdown object>"
      ]
     },
     "metadata": {},
     "output_type": "display_data"
    },
    {
     "name": "stdout",
     "output_type": "stream",
     "text": [
      "-------\n",
      "prices\n",
      "select\n",
      "stores\n",
      "pricing\n",
      "market\n",
      "sales\n",
      "trucks\n",
      "markets\n",
      "retail\n",
      "price\n",
      "-------\n"
     ]
    },
    {
     "data": {
      "text/markdown": [
       "# being"
      ],
      "text/plain": [
       "<IPython.core.display.Markdown object>"
      ]
     },
     "metadata": {},
     "output_type": "display_data"
    },
    {
     "data": {
      "text/markdown": [
       "#### Urban"
      ],
      "text/plain": [
       "<IPython.core.display.Markdown object>"
      ]
     },
     "metadata": {},
     "output_type": "display_data"
    },
    {
     "name": "stdout",
     "output_type": "stream",
     "text": [
      "-----------\n",
      "caring\n",
      "becoming\n",
      "getting\n",
      "behavior\n",
      "mentally\n",
      "emotionally\n",
      "believing\n",
      "worrying\n",
      "beings\n",
      "bullying\n",
      "-----------\n"
     ]
    },
    {
     "data": {
      "text/markdown": [
       "#### Rural"
      ],
      "text/plain": [
       "<IPython.core.display.Markdown object>"
      ]
     },
     "metadata": {},
     "output_type": "display_data"
    },
    {
     "name": "stdout",
     "output_type": "stream",
     "text": [
      "---------\n",
      "caring\n",
      "getting\n",
      "becoming\n",
      "arguing\n",
      "mentally\n",
      "acting\n",
      "extremely\n",
      "whining\n",
      "staying\n",
      "bullying\n",
      "---------\n"
     ]
    },
    {
     "data": {
      "text/markdown": [
       "# plans"
      ],
      "text/plain": [
       "<IPython.core.display.Markdown object>"
      ]
     },
     "metadata": {},
     "output_type": "display_data"
    },
    {
     "data": {
      "text/markdown": [
       "#### Urban"
      ],
      "text/plain": [
       "<IPython.core.display.Markdown object>"
      ]
     },
     "metadata": {},
     "output_type": "display_data"
    },
    {
     "name": "stdout",
     "output_type": "stream",
     "text": [
      "-----------\n",
      "plan\n",
      "connections\n",
      "meetings\n",
      "moves\n",
      "planning\n",
      "funds\n",
      "efforts\n",
      "options\n",
      "payments\n",
      "decisions\n",
      "-----------\n"
     ]
    },
    {
     "data": {
      "text/markdown": [
       "#### Rural"
      ],
      "text/plain": [
       "<IPython.core.display.Markdown object>"
      ]
     },
     "metadata": {},
     "output_type": "display_data"
    },
    {
     "name": "stdout",
     "output_type": "stream",
     "text": [
      "-------------\n",
      "plan\n",
      "decisions\n",
      "planning\n",
      "excuses\n",
      "choices\n",
      "dates\n",
      "money\n",
      "opportunities\n",
      "meetings\n",
      "donations\n",
      "-------------\n"
     ]
    },
    {
     "data": {
      "text/markdown": [
       "# positive"
      ],
      "text/plain": [
       "<IPython.core.display.Markdown object>"
      ]
     },
     "metadata": {},
     "output_type": "display_data"
    },
    {
     "data": {
      "text/markdown": [
       "#### Urban"
      ],
      "text/plain": [
       "<IPython.core.display.Markdown object>"
      ]
     },
     "metadata": {},
     "output_type": "display_data"
    },
    {
     "name": "stdout",
     "output_type": "stream",
     "text": [
      "----------\n",
      "negative\n",
      "positivity\n",
      "motivated\n",
      "consistent\n",
      "strong\n",
      "constant\n",
      "certain\n",
      "productive\n",
      "conscious\n",
      "creativity\n",
      "----------\n"
     ]
    },
    {
     "data": {
      "text/markdown": [
       "#### Rural"
      ],
      "text/plain": [
       "<IPython.core.display.Markdown object>"
      ]
     },
     "metadata": {},
     "output_type": "display_data"
    },
    {
     "name": "stdout",
     "output_type": "stream",
     "text": [
      "-------------\n",
      "negative\n",
      "consistent\n",
      "patient\n",
      "humble\n",
      "focused\n",
      "creative\n",
      "constant\n",
      "productive\n",
      "sensitive\n",
      "communication\n",
      "-------------\n"
     ]
    },
    {
     "data": {
      "text/markdown": [
       "# via"
      ],
      "text/plain": [
       "<IPython.core.display.Markdown object>"
      ]
     },
     "metadata": {},
     "output_type": "display_data"
    },
    {
     "data": {
      "text/markdown": [
       "#### Urban"
      ],
      "text/plain": [
       "<IPython.core.display.Markdown object>"
      ]
     },
     "metadata": {},
     "output_type": "display_data"
    },
    {
     "name": "stdout",
     "output_type": "stream",
     "text": [
      "-------------\n",
      "launches\n",
      "announces\n",
      "inc\n",
      "amid\n",
      "seeks\n",
      "cnet\n",
      "reuters\n",
      "international\n",
      "led\n",
      "featuring\n",
      "-------------\n"
     ]
    },
    {
     "data": {
      "text/markdown": [
       "#### Rural"
      ],
      "text/plain": [
       "<IPython.core.display.Markdown object>"
      ]
     },
     "metadata": {},
     "output_type": "display_data"
    },
    {
     "name": "stdout",
     "output_type": "stream",
     "text": [
      "-------------\n",
      "launches\n",
      "vintage\n",
      "multi\n",
      "announces\n",
      "review\n",
      "seeks\n",
      "digital\n",
      "international\n",
      "ii\n",
      "magazine\n",
      "-------------\n"
     ]
    },
    {
     "data": {
      "text/markdown": [
       "# inside"
      ],
      "text/plain": [
       "<IPython.core.display.Markdown object>"
      ]
     },
     "metadata": {},
     "output_type": "display_data"
    },
    {
     "data": {
      "text/markdown": [
       "#### Urban"
      ],
      "text/plain": [
       "<IPython.core.display.Markdown object>"
      ]
     },
     "metadata": {},
     "output_type": "display_data"
    },
    {
     "name": "stdout",
     "output_type": "stream",
     "text": [
      "----------\n",
      "outside\n",
      "window\n",
      "behind\n",
      "empty\n",
      "into\n",
      "floating\n",
      "tiny\n",
      "in\n",
      "mysterious\n",
      "walls\n",
      "----------\n"
     ]
    },
    {
     "data": {
      "text/markdown": [
       "#### Rural"
      ],
      "text/plain": [
       "<IPython.core.display.Markdown object>"
      ]
     },
     "metadata": {},
     "output_type": "display_data"
    },
    {
     "name": "stdout",
     "output_type": "stream",
     "text": [
      "--------\n",
      "outside\n",
      "window\n",
      "empty\n",
      "behind\n",
      "floating\n",
      "basement\n",
      "shadows\n",
      "porch\n",
      "tiny\n",
      "eye\n",
      "--------\n"
     ]
    },
    {
     "data": {
      "text/markdown": [
       "# early"
      ],
      "text/plain": [
       "<IPython.core.display.Markdown object>"
      ]
     },
     "metadata": {},
     "output_type": "display_data"
    },
    {
     "data": {
      "text/markdown": [
       "#### Urban"
      ],
      "text/plain": [
       "<IPython.core.display.Markdown object>"
      ]
     },
     "metadata": {},
     "output_type": "display_data"
    },
    {
     "name": "stdout",
     "output_type": "stream",
     "text": [
      "---------\n",
      "late\n",
      "tomorrow\n",
      "cancelled\n",
      "busy\n",
      "tmrw\n",
      "schedule\n",
      "stressful\n",
      "mid\n",
      "monday\n",
      "canceled\n",
      "---------\n"
     ]
    },
    {
     "data": {
      "text/markdown": [
       "#### Rural"
      ],
      "text/plain": [
       "<IPython.core.display.Markdown object>"
      ]
     },
     "metadata": {},
     "output_type": "display_data"
    },
    {
     "name": "stdout",
     "output_type": "stream",
     "text": [
      "--------\n",
      "late\n",
      "tomorrow\n",
      "busy\n",
      "monday\n",
      "later\n",
      "8am\n",
      "earlier\n",
      "rough\n",
      "mid\n",
      "thursday\n",
      "--------\n"
     ]
    },
    {
     "data": {
      "text/markdown": [
       "# poor"
      ],
      "text/plain": [
       "<IPython.core.display.Markdown object>"
      ]
     },
     "metadata": {},
     "output_type": "display_data"
    },
    {
     "data": {
      "text/markdown": [
       "#### Urban"
      ],
      "text/plain": [
       "<IPython.core.display.Markdown object>"
      ]
     },
     "metadata": {},
     "output_type": "display_data"
    },
    {
     "name": "stdout",
     "output_type": "stream",
     "text": [
      "---------\n",
      "wealthy\n",
      "greedy\n",
      "disabled\n",
      "elderly\n",
      "innocent\n",
      "rich\n",
      "homeless\n",
      "attacking\n",
      "pathetic\n",
      "vile\n",
      "---------\n"
     ]
    },
    {
     "data": {
      "text/markdown": [
       "#### Rural"
      ],
      "text/plain": [
       "<IPython.core.display.Markdown object>"
      ]
     },
     "metadata": {},
     "output_type": "display_data"
    },
    {
     "name": "stdout",
     "output_type": "stream",
     "text": [
      "-----------\n",
      "disabled\n",
      "elderly\n",
      "innocent\n",
      "rich\n",
      "spoiled\n",
      "homeless\n",
      "heartless\n",
      "cruel\n",
      "responsible\n",
      "delusional\n",
      "-----------\n"
     ]
    },
    {
     "data": {
      "text/markdown": [
       "# shot"
      ],
      "text/plain": [
       "<IPython.core.display.Markdown object>"
      ]
     },
     "metadata": {},
     "output_type": "display_data"
    },
    {
     "data": {
      "text/markdown": [
       "#### Urban"
      ],
      "text/plain": [
       "<IPython.core.display.Markdown object>"
      ]
     },
     "metadata": {},
     "output_type": "display_data"
    },
    {
     "name": "stdout",
     "output_type": "stream",
     "text": [
      "---------\n",
      "shots\n",
      "shooting\n",
      "touchdown\n",
      "robbed\n",
      "shoots\n",
      "killed\n",
      "bullet\n",
      "injured\n",
      "td\n",
      "penalty\n",
      "---------\n"
     ]
    },
    {
     "data": {
      "text/markdown": [
       "#### Rural"
      ],
      "text/plain": [
       "<IPython.core.display.Markdown object>"
      ]
     },
     "metadata": {},
     "output_type": "display_data"
    },
    {
     "name": "stdout",
     "output_type": "stream",
     "text": [
      "----------\n",
      "possession\n",
      "dunk\n",
      "penalty\n",
      "homer\n",
      "foul\n",
      "shots\n",
      "touchdown\n",
      "td\n",
      "bat\n",
      "pitch\n",
      "----------\n"
     ]
    },
    {
     "data": {
      "text/markdown": [
       "# wwe"
      ],
      "text/plain": [
       "<IPython.core.display.Markdown object>"
      ]
     },
     "metadata": {},
     "output_type": "display_data"
    },
    {
     "data": {
      "text/markdown": [
       "#### Urban"
      ],
      "text/plain": [
       "<IPython.core.display.Markdown object>"
      ]
     },
     "metadata": {},
     "output_type": "display_data"
    },
    {
     "name": "stdout",
     "output_type": "stream",
     "text": [
      "------------\n",
      "smackdown\n",
      "wrestlemania\n",
      "wrestling\n",
      "nxt\n",
      "cena\n",
      "reigns\n",
      "ufc\n",
      "brock\n",
      "nba\n",
      "roman\n",
      "------------\n"
     ]
    },
    {
     "data": {
      "text/markdown": [
       "#### Rural"
      ],
      "text/plain": [
       "<IPython.core.display.Markdown object>"
      ]
     },
     "metadata": {},
     "output_type": "display_data"
    },
    {
     "name": "stdout",
     "output_type": "stream",
     "text": [
      "---------\n",
      "cena\n",
      "ufc\n",
      "raw\n",
      "wrestling\n",
      "nba\n",
      "marvel\n",
      "brock\n",
      "roman\n",
      "boxing\n",
      "nhl\n",
      "---------\n"
     ]
    },
    {
     "data": {
      "text/markdown": [
       "# golden"
      ],
      "text/plain": [
       "<IPython.core.display.Markdown object>"
      ]
     },
     "metadata": {},
     "output_type": "display_data"
    },
    {
     "data": {
      "text/markdown": [
       "#### Urban"
      ],
      "text/plain": [
       "<IPython.core.display.Markdown object>"
      ]
     },
     "metadata": {},
     "output_type": "display_data"
    },
    {
     "name": "stdout",
     "output_type": "stream",
     "text": [
      "--------\n",
      "royal\n",
      "oklahoma\n",
      "utah\n",
      "michigan\n",
      "farm\n",
      "oregon\n",
      "kansas\n",
      "ohio\n",
      "scout\n",
      "palace\n",
      "--------\n"
     ]
    },
    {
     "data": {
      "text/markdown": [
       "#### Rural"
      ],
      "text/plain": [
       "<IPython.core.display.Markdown object>"
      ]
     },
     "metadata": {},
     "output_type": "display_data"
    },
    {
     "name": "stdout",
     "output_type": "stream",
     "text": [
      "------------\n",
      "royal\n",
      "tri\n",
      "mississippi\n",
      "blue\n",
      "crown\n",
      "kansas\n",
      "champion\n",
      "rose\n",
      "championship\n",
      "red\n",
      "------------\n"
     ]
    },
    {
     "data": {
      "text/markdown": [
       "# cup"
      ],
      "text/plain": [
       "<IPython.core.display.Markdown object>"
      ]
     },
     "metadata": {},
     "output_type": "display_data"
    },
    {
     "data": {
      "text/markdown": [
       "#### Urban"
      ],
      "text/plain": [
       "<IPython.core.display.Markdown object>"
      ]
     },
     "metadata": {},
     "output_type": "display_data"
    },
    {
     "name": "stdout",
     "output_type": "stream",
     "text": [
      "-------\n",
      "iced\n",
      "bottle\n",
      "slice\n",
      "round\n",
      "cups\n",
      "seed\n",
      "vanilla\n",
      "beer\n",
      "tourney\n",
      "peach\n",
      "-------\n"
     ]
    },
    {
     "data": {
      "text/markdown": [
       "#### Rural"
      ],
      "text/plain": [
       "<IPython.core.display.Markdown object>"
      ]
     },
     "metadata": {},
     "output_type": "display_data"
    },
    {
     "name": "stdout",
     "output_type": "stream",
     "text": [
      "-------\n",
      "bottle\n",
      "cups\n",
      "stanley\n",
      "round\n",
      "pong\n",
      "coffee\n",
      "semi\n",
      "beer\n",
      "barrel\n",
      "tea\n",
      "-------\n"
     ]
    },
    {
     "data": {
      "text/markdown": [
       "# reading"
      ],
      "text/plain": [
       "<IPython.core.display.Markdown object>"
      ]
     },
     "metadata": {},
     "output_type": "display_data"
    },
    {
     "data": {
      "text/markdown": [
       "#### Urban"
      ],
      "text/plain": [
       "<IPython.core.display.Markdown object>"
      ]
     },
     "metadata": {},
     "output_type": "display_data"
    },
    {
     "name": "stdout",
     "output_type": "stream",
     "text": [
      "----------\n",
      "writing\n",
      "read\n",
      "retweeting\n",
      "posting\n",
      "hearing\n",
      "tweeting\n",
      "typing\n",
      "studying\n",
      "publishing\n",
      "poetry\n",
      "----------\n"
     ]
    },
    {
     "data": {
      "text/markdown": [
       "#### Rural"
      ],
      "text/plain": [
       "<IPython.core.display.Markdown object>"
      ]
     },
     "metadata": {},
     "output_type": "display_data"
    },
    {
     "name": "stdout",
     "output_type": "stream",
     "text": [
      "----------\n",
      "writing\n",
      "read\n",
      "poetry\n",
      "editing\n",
      "posting\n",
      "retweeting\n",
      "drawing\n",
      "poem\n",
      "articles\n",
      "studying\n",
      "----------\n"
     ]
    },
    {
     "data": {
      "text/markdown": [
       "# starting"
      ],
      "text/plain": [
       "<IPython.core.display.Markdown object>"
      ]
     },
     "metadata": {},
     "output_type": "display_data"
    },
    {
     "data": {
      "text/markdown": [
       "#### Urban"
      ],
      "text/plain": [
       "<IPython.core.display.Markdown object>"
      ]
     },
     "metadata": {},
     "output_type": "display_data"
    },
    {
     "name": "stdout",
     "output_type": "stream",
     "text": [
      "----------\n",
      "going\n",
      "coming\n",
      "heading\n",
      "ready\n",
      "dropping\n",
      "underway\n",
      "switching\n",
      "finishing\n",
      "struggling\n",
      "headed\n",
      "----------\n"
     ]
    },
    {
     "data": {
      "text/markdown": [
       "#### Rural"
      ],
      "text/plain": [
       "<IPython.core.display.Markdown object>"
      ]
     },
     "metadata": {},
     "output_type": "display_data"
    },
    {
     "name": "stdout",
     "output_type": "stream",
     "text": [
      "---------\n",
      "going\n",
      "underway\n",
      "coming\n",
      "ready\n",
      "scheduled\n",
      "starts\n",
      "beginning\n",
      "moving\n",
      "begins\n",
      "dropping\n",
      "---------\n"
     ]
    },
    {
     "data": {
      "text/markdown": [
       "# unfollowed"
      ],
      "text/plain": [
       "<IPython.core.display.Markdown object>"
      ]
     },
     "metadata": {},
     "output_type": "display_data"
    },
    {
     "data": {
      "text/markdown": [
       "#### Urban"
      ],
      "text/plain": [
       "<IPython.core.display.Markdown object>"
      ]
     },
     "metadata": {},
     "output_type": "display_data"
    },
    {
     "name": "stdout",
     "output_type": "stream",
     "text": [
      "-------------\n",
      "followed\n",
      "automatically\n",
      "texting\n",
      "texted\n",
      "unfollow\n",
      "blocked\n",
      "follows\n",
      "kills\n",
      "unfollowers\n",
      "told\n",
      "-------------\n"
     ]
    },
    {
     "data": {
      "text/markdown": [
       "#### Rural"
      ],
      "text/plain": [
       "<IPython.core.display.Markdown object>"
      ]
     },
     "metadata": {},
     "output_type": "display_data"
    },
    {
     "name": "stdout",
     "output_type": "stream",
     "text": [
      "-------------\n",
      "followed\n",
      "automatically\n",
      "kills\n",
      "texted\n",
      "texting\n",
      "sane\n",
      "forgive\n",
      "traveled\n",
      "unfollow\n",
      "psalm\n",
      "-------------\n"
     ]
    },
    {
     "data": {
      "text/markdown": [
       "# above"
      ],
      "text/plain": [
       "<IPython.core.display.Markdown object>"
      ]
     },
     "metadata": {},
     "output_type": "display_data"
    },
    {
     "data": {
      "text/markdown": [
       "#### Urban"
      ],
      "text/plain": [
       "<IPython.core.display.Markdown object>"
      ]
     },
     "metadata": {},
     "output_type": "display_data"
    },
    {
     "name": "stdout",
     "output_type": "stream",
     "text": [
      "---------\n",
      "under\n",
      "below\n",
      "across\n",
      "towards\n",
      "toward\n",
      "ceiling\n",
      "lower\n",
      "higher\n",
      "within\n",
      "protected\n",
      "---------\n"
     ]
    },
    {
     "data": {
      "text/markdown": [
       "#### Rural"
      ],
      "text/plain": [
       "<IPython.core.display.Markdown object>"
      ]
     },
     "metadata": {},
     "output_type": "display_data"
    },
    {
     "name": "stdout",
     "output_type": "stream",
     "text": [
      "-----------\n",
      "under\n",
      "towards\n",
      "across\n",
      "toward\n",
      "within\n",
      "enforcement\n",
      "path\n",
      "protected\n",
      "below\n",
      "among\n",
      "-----------\n"
     ]
    },
    {
     "data": {
      "text/markdown": [
       "# stuck"
      ],
      "text/plain": [
       "<IPython.core.display.Markdown object>"
      ]
     },
     "metadata": {},
     "output_type": "display_data"
    },
    {
     "data": {
      "text/markdown": [
       "#### Urban"
      ],
      "text/plain": [
       "<IPython.core.display.Markdown object>"
      ]
     },
     "metadata": {},
     "output_type": "display_data"
    },
    {
     "name": "stdout",
     "output_type": "stream",
     "text": [
      "--------\n",
      "trapped\n",
      "locked\n",
      "sitting\n",
      "shaking\n",
      "flooded\n",
      "chilling\n",
      "caught\n",
      "heated\n",
      "washed\n",
      "closed\n",
      "--------\n"
     ]
    },
    {
     "data": {
      "text/markdown": [
       "#### Rural"
      ],
      "text/plain": [
       "<IPython.core.display.Markdown object>"
      ]
     },
     "metadata": {},
     "output_type": "display_data"
    },
    {
     "name": "stdout",
     "output_type": "stream",
     "text": [
      "--------\n",
      "laying\n",
      "locked\n",
      "sitting\n",
      "caught\n",
      "shaking\n",
      "chilling\n",
      "trouble\n",
      "heated\n",
      "busted\n",
      "broke\n",
      "--------\n"
     ]
    },
    {
     "data": {
      "text/markdown": [
       "# ahead"
      ],
      "text/plain": [
       "<IPython.core.display.Markdown object>"
      ]
     },
     "metadata": {},
     "output_type": "display_data"
    },
    {
     "data": {
      "text/markdown": [
       "#### Urban"
      ],
      "text/plain": [
       "<IPython.core.display.Markdown object>"
      ]
     },
     "metadata": {},
     "output_type": "display_data"
    },
    {
     "name": "stdout",
     "output_type": "stream",
     "text": [
      "-------\n",
      "through\n",
      "rest\n",
      "apart\n",
      "back\n",
      "next\n",
      "lets\n",
      "rid\n",
      "down\n",
      "into\n",
      "away\n",
      "-------\n"
     ]
    },
    {
     "data": {
      "text/markdown": [
       "#### Rural"
      ],
      "text/plain": [
       "<IPython.core.display.Markdown object>"
      ]
     },
     "metadata": {},
     "output_type": "display_data"
    },
    {
     "name": "stdout",
     "output_type": "stream",
     "text": [
      "-------\n",
      "through\n",
      "away\n",
      "rest\n",
      "lets\n",
      "next\n",
      "rid\n",
      "back\n",
      "down\n",
      "into\n",
      "letting\n",
      "-------\n"
     ]
    },
    {
     "data": {
      "text/markdown": [
       "# since"
      ],
      "text/plain": [
       "<IPython.core.display.Markdown object>"
      ]
     },
     "metadata": {},
     "output_type": "display_data"
    },
    {
     "data": {
      "text/markdown": [
       "#### Urban"
      ],
      "text/plain": [
       "<IPython.core.display.Markdown object>"
      ]
     },
     "metadata": {},
     "output_type": "display_data"
    },
    {
     "name": "stdout",
     "output_type": "stream",
     "text": [
      "----------\n",
      "almost\n",
      "before\n",
      "already\n",
      "b4\n",
      "until\n",
      "2014\n",
      "officially\n",
      "ago\n",
      "2012\n",
      "2011\n",
      "----------\n"
     ]
    },
    {
     "data": {
      "text/markdown": [
       "#### Rural"
      ],
      "text/plain": [
       "<IPython.core.display.Markdown object>"
      ]
     },
     "metadata": {},
     "output_type": "display_data"
    },
    {
     "name": "stdout",
     "output_type": "stream",
     "text": [
      "----------\n",
      "before\n",
      "already\n",
      "almost\n",
      "until\n",
      "officially\n",
      "ago\n",
      "yet\n",
      "shoulda\n",
      "b4\n",
      "after\n",
      "----------\n"
     ]
    },
    {
     "data": {
      "text/markdown": [
       "# post"
      ],
      "text/plain": [
       "<IPython.core.display.Markdown object>"
      ]
     },
     "metadata": {},
     "output_type": "display_data"
    },
    {
     "data": {
      "text/markdown": [
       "#### Urban"
      ],
      "text/plain": [
       "<IPython.core.display.Markdown object>"
      ]
     },
     "metadata": {},
     "output_type": "display_data"
    },
    {
     "name": "stdout",
     "output_type": "stream",
     "text": [
      "------------\n",
      "posts\n",
      "tweet\n",
      "pinned\n",
      "cycling\n",
      "share\n",
      "comment\n",
      "agriculture\n",
      "delete\n",
      "profile\n",
      "architecture\n",
      "------------\n"
     ]
    },
    {
     "data": {
      "text/markdown": [
       "#### Rural"
      ],
      "text/plain": [
       "<IPython.core.display.Markdown object>"
      ]
     },
     "metadata": {},
     "output_type": "display_data"
    },
    {
     "name": "stdout",
     "output_type": "stream",
     "text": [
      "----------\n",
      "posts\n",
      "upload\n",
      "tweet\n",
      "comment\n",
      "posting\n",
      "delete\n",
      "caption\n",
      "screenshot\n",
      "share\n",
      "comments\n",
      "----------\n"
     ]
    },
    {
     "data": {
      "text/markdown": [
       "# current"
      ],
      "text/plain": [
       "<IPython.core.display.Markdown object>"
      ]
     },
     "metadata": {},
     "output_type": "display_data"
    },
    {
     "data": {
      "text/markdown": [
       "#### Urban"
      ],
      "text/plain": [
       "<IPython.core.display.Markdown object>"
      ]
     },
     "metadata": {},
     "output_type": "display_data"
    },
    {
     "name": "stdout",
     "output_type": "stream",
     "text": [
      "-------------\n",
      "previous\n",
      "ideal\n",
      "political\n",
      "regarding\n",
      "environmental\n",
      "vital\n",
      "improving\n",
      "specific\n",
      "future\n",
      "developing\n",
      "-------------\n"
     ]
    },
    {
     "data": {
      "text/markdown": [
       "#### Rural"
      ],
      "text/plain": [
       "<IPython.core.display.Markdown object>"
      ]
     },
     "metadata": {},
     "output_type": "display_data"
    },
    {
     "name": "stdout",
     "output_type": "stream",
     "text": [
      "----------\n",
      "outlook\n",
      "analysis\n",
      "previous\n",
      "personal\n",
      "expand\n",
      "status\n",
      "improving\n",
      "economic\n",
      "conditions\n",
      "concerns\n",
      "----------\n"
     ]
    },
    {
     "data": {
      "text/markdown": [
       "# no"
      ],
      "text/plain": [
       "<IPython.core.display.Markdown object>"
      ]
     },
     "metadata": {},
     "output_type": "display_data"
    },
    {
     "data": {
      "text/markdown": [
       "#### Urban"
      ],
      "text/plain": [
       "<IPython.core.display.Markdown object>"
      ]
     },
     "metadata": {},
     "output_type": "display_data"
    },
    {
     "name": "stdout",
     "output_type": "stream",
     "text": [
      "----------\n",
      "zero\n",
      "any\n",
      "only\n",
      "nothing\n",
      "nobody\n",
      "either\n",
      "valid\n",
      "reasonable\n",
      "fewer\n",
      "neither\n",
      "----------\n"
     ]
    },
    {
     "data": {
      "text/markdown": [
       "#### Rural"
      ],
      "text/plain": [
       "<IPython.core.display.Markdown object>"
      ]
     },
     "metadata": {},
     "output_type": "display_data"
    },
    {
     "name": "stdout",
     "output_type": "stream",
     "text": [
      "----------\n",
      "zero\n",
      "any\n",
      "either\n",
      "only\n",
      "nobody\n",
      "nothing\n",
      "neither\n",
      "reasonable\n",
      "nooo\n",
      "obviously\n",
      "----------\n"
     ]
    },
    {
     "data": {
      "text/markdown": [
       "# outta"
      ],
      "text/plain": [
       "<IPython.core.display.Markdown object>"
      ]
     },
     "metadata": {},
     "output_type": "display_data"
    },
    {
     "data": {
      "text/markdown": [
       "#### Urban"
      ],
      "text/plain": [
       "<IPython.core.display.Markdown object>"
      ]
     },
     "metadata": {},
     "output_type": "display_data"
    },
    {
     "name": "stdout",
     "output_type": "stream",
     "text": [
      "------\n",
      "out\n",
      "over\n",
      "around\n",
      "off\n",
      "wit\n",
      "naw\n",
      "into\n",
      "loose\n",
      "foh\n",
      "smh\n",
      "------\n"
     ]
    },
    {
     "data": {
      "text/markdown": [
       "#### Rural"
      ],
      "text/plain": [
       "<IPython.core.display.Markdown object>"
      ]
     },
     "metadata": {},
     "output_type": "display_data"
    },
    {
     "name": "stdout",
     "output_type": "stream",
     "text": [
      "------\n",
      "out\n",
      "over\n",
      "off\n",
      "into\n",
      "around\n",
      "frfr\n",
      "wit\n",
      "bruh\n",
      "loose\n",
      "naw\n",
      "------\n"
     ]
    },
    {
     "data": {
      "text/markdown": [
       "# switch"
      ],
      "text/plain": [
       "<IPython.core.display.Markdown object>"
      ]
     },
     "metadata": {},
     "output_type": "display_data"
    },
    {
     "data": {
      "text/markdown": [
       "#### Urban"
      ],
      "text/plain": [
       "<IPython.core.display.Markdown object>"
      ]
     },
     "metadata": {},
     "output_type": "display_data"
    },
    {
     "name": "stdout",
     "output_type": "stream",
     "text": [
      "---------\n",
      "switching\n",
      "console\n",
      "pull\n",
      "switched\n",
      "ps4\n",
      "pc\n",
      "turn\n",
      "pick\n",
      "hook\n",
      "lock\n",
      "---------\n"
     ]
    },
    {
     "data": {
      "text/markdown": [
       "#### Rural"
      ],
      "text/plain": [
       "<IPython.core.display.Markdown object>"
      ]
     },
     "metadata": {},
     "output_type": "display_data"
    },
    {
     "name": "stdout",
     "output_type": "stream",
     "text": [
      "--------\n",
      "ps4\n",
      "console\n",
      "pull\n",
      "turn\n",
      "switched\n",
      "xbox\n",
      "pass\n",
      "pick\n",
      "upgrade\n",
      "catch\n",
      "--------\n"
     ]
    },
    {
     "data": {
      "text/markdown": [
       "# from"
      ],
      "text/plain": [
       "<IPython.core.display.Markdown object>"
      ]
     },
     "metadata": {},
     "output_type": "display_data"
    },
    {
     "data": {
      "text/markdown": [
       "#### Urban"
      ],
      "text/plain": [
       "<IPython.core.display.Markdown object>"
      ]
     },
     "metadata": {},
     "output_type": "display_data"
    },
    {
     "name": "stdout",
     "output_type": "stream",
     "text": [
      "---------\n",
      "by\n",
      "in\n",
      "into\n",
      "across\n",
      "behind\n",
      "through\n",
      "offers\n",
      "with\n",
      "including\n",
      "within\n",
      "---------\n"
     ]
    },
    {
     "data": {
      "text/markdown": [
       "#### Rural"
      ],
      "text/plain": [
       "<IPython.core.display.Markdown object>"
      ]
     },
     "metadata": {},
     "output_type": "display_data"
    },
    {
     "name": "stdout",
     "output_type": "stream",
     "text": [
      "---------\n",
      "in\n",
      "by\n",
      "behind\n",
      "across\n",
      "including\n",
      "during\n",
      "within\n",
      "amp\n",
      "offers\n",
      "after\n",
      "---------\n"
     ]
    },
    {
     "data": {
      "text/markdown": [
       "# visit"
      ],
      "text/plain": [
       "<IPython.core.display.Markdown object>"
      ]
     },
     "metadata": {},
     "output_type": "display_data"
    },
    {
     "data": {
      "text/markdown": [
       "#### Urban"
      ],
      "text/plain": [
       "<IPython.core.display.Markdown object>"
      ]
     },
     "metadata": {},
     "output_type": "display_data"
    },
    {
     "name": "stdout",
     "output_type": "stream",
     "text": [
      "---------\n",
      "join\n",
      "contact\n",
      "meet\n",
      "register\n",
      "volunteer\n",
      "invite\n",
      "share\n",
      "donate\n",
      "explore\n",
      "meetup\n",
      "---------\n"
     ]
    },
    {
     "data": {
      "text/markdown": [
       "#### Rural"
      ],
      "text/plain": [
       "<IPython.core.display.Markdown object>"
      ]
     },
     "metadata": {},
     "output_type": "display_data"
    },
    {
     "name": "stdout",
     "output_type": "stream",
     "text": [
      "--------\n",
      "join\n",
      "contact\n",
      "visitors\n",
      "meet\n",
      "register\n",
      "explore\n",
      "checkout\n",
      "visiting\n",
      "email\n",
      "website\n",
      "--------\n"
     ]
    },
    {
     "data": {
      "text/markdown": [
       "# sunglasses"
      ],
      "text/plain": [
       "<IPython.core.display.Markdown object>"
      ]
     },
     "metadata": {},
     "output_type": "display_data"
    },
    {
     "data": {
      "text/markdown": [
       "#### Urban"
      ],
      "text/plain": [
       "<IPython.core.display.Markdown object>"
      ]
     },
     "metadata": {},
     "output_type": "display_data"
    },
    {
     "name": "stdout",
     "output_type": "stream",
     "text": [
      "-----------\n",
      "rayban\n",
      "99\n",
      "discount\n",
      "accessories\n",
      "glasses\n",
      "items\n",
      "denim\n",
      "leggings\n",
      "socks\n",
      "79\n",
      "-----------\n"
     ]
    },
    {
     "data": {
      "text/markdown": [
       "#### Rural"
      ],
      "text/plain": [
       "<IPython.core.display.Markdown object>"
      ]
     },
     "metadata": {},
     "output_type": "display_data"
    },
    {
     "name": "stdout",
     "output_type": "stream",
     "text": [
      "-----------\n",
      "rayban\n",
      "99\n",
      "strongly\n",
      "accessories\n",
      "ray\n",
      "boutique\n",
      "specials\n",
      "jewelry\n",
      "tattoos\n",
      "leggings\n",
      "-----------\n"
     ]
    },
    {
     "data": {
      "text/markdown": [
       "# looking"
      ],
      "text/plain": [
       "<IPython.core.display.Markdown object>"
      ]
     },
     "metadata": {},
     "output_type": "display_data"
    },
    {
     "data": {
      "text/markdown": [
       "#### Urban"
      ],
      "text/plain": [
       "<IPython.core.display.Markdown object>"
      ]
     },
     "metadata": {},
     "output_type": "display_data"
    },
    {
     "name": "stdout",
     "output_type": "stream",
     "text": [
      "---------\n",
      "lookin\n",
      "searching\n",
      "waiting\n",
      "look\n",
      "staring\n",
      "moving\n",
      "asking\n",
      "applying\n",
      "visiting\n",
      "putting\n",
      "---------\n"
     ]
    },
    {
     "data": {
      "text/markdown": [
       "#### Rural"
      ],
      "text/plain": [
       "<IPython.core.display.Markdown object>"
      ]
     },
     "metadata": {},
     "output_type": "display_data"
    },
    {
     "name": "stdout",
     "output_type": "stream",
     "text": [
      "---------\n",
      "lookin\n",
      "searching\n",
      "moving\n",
      "waiting\n",
      "look\n",
      "asking\n",
      "preparing\n",
      "staring\n",
      "aries\n",
      "putting\n",
      "---------\n"
     ]
    },
    {
     "data": {
      "text/markdown": [
       "# other"
      ],
      "text/plain": [
       "<IPython.core.display.Markdown object>"
      ]
     },
     "metadata": {},
     "output_type": "display_data"
    },
    {
     "data": {
      "text/markdown": [
       "#### Urban"
      ],
      "text/plain": [
       "<IPython.core.display.Markdown object>"
      ]
     },
     "metadata": {},
     "output_type": "display_data"
    },
    {
     "name": "stdout",
     "output_type": "stream",
     "text": [
      "-----------\n",
      "different\n",
      "diff\n",
      "more\n",
      "fewer\n",
      "differently\n",
      "separate\n",
      "certain\n",
      "worse\n",
      "others\n",
      "louder\n",
      "-----------\n"
     ]
    },
    {
     "data": {
      "text/markdown": [
       "#### Rural"
      ],
      "text/plain": [
       "<IPython.core.display.Markdown object>"
      ]
     },
     "metadata": {},
     "output_type": "display_data"
    },
    {
     "name": "stdout",
     "output_type": "stream",
     "text": [
      "-----------\n",
      "different\n",
      "louder\n",
      "worse\n",
      "more\n",
      "differently\n",
      "better\n",
      "smarter\n",
      "bigger\n",
      "others\n",
      "multiple\n",
      "-----------\n"
     ]
    },
    {
     "data": {
      "text/markdown": [
       "# dirty"
      ],
      "text/plain": [
       "<IPython.core.display.Markdown object>"
      ]
     },
     "metadata": {},
     "output_type": "display_data"
    },
    {
     "data": {
      "text/markdown": [
       "#### Urban"
      ],
      "text/plain": [
       "<IPython.core.display.Markdown object>"
      ]
     },
     "metadata": {},
     "output_type": "display_data"
    },
    {
     "name": "stdout",
     "output_type": "stream",
     "text": [
      "------\n",
      "clean\n",
      "nasty\n",
      "slick\n",
      "filthy\n",
      "goofy\n",
      "pussy\n",
      "wet\n",
      "trap\n",
      "dumb\n",
      "ghetto\n",
      "------\n"
     ]
    },
    {
     "data": {
      "text/markdown": [
       "#### Rural"
      ],
      "text/plain": [
       "<IPython.core.display.Markdown object>"
      ]
     },
     "metadata": {},
     "output_type": "display_data"
    },
    {
     "name": "stdout",
     "output_type": "stream",
     "text": [
      "------\n",
      "nasty\n",
      "punk\n",
      "dumb\n",
      "rat\n",
      "slick\n",
      "fat\n",
      "dirt\n",
      "shady\n",
      "stupid\n",
      "silly\n",
      "------\n"
     ]
    },
    {
     "data": {
      "text/markdown": [
       "# finish"
      ],
      "text/plain": [
       "<IPython.core.display.Markdown object>"
      ]
     },
     "metadata": {},
     "output_type": "display_data"
    },
    {
     "data": {
      "text/markdown": [
       "#### Urban"
      ],
      "text/plain": [
       "<IPython.core.display.Markdown object>"
      ]
     },
     "metadata": {},
     "output_type": "display_data"
    },
    {
     "name": "stdout",
     "output_type": "stream",
     "text": [
      "---------\n",
      "start\n",
      "finishing\n",
      "finished\n",
      "draw\n",
      "catch\n",
      "pass\n",
      "go\n",
      "skip\n",
      "get\n",
      "write\n",
      "---------\n"
     ]
    },
    {
     "data": {
      "text/markdown": [
       "#### Rural"
      ],
      "text/plain": [
       "<IPython.core.display.Markdown object>"
      ]
     },
     "metadata": {},
     "output_type": "display_data"
    },
    {
     "name": "stdout",
     "output_type": "stream",
     "text": [
      "---------\n",
      "finishing\n",
      "start\n",
      "sweep\n",
      "finished\n",
      "run\n",
      "finishes\n",
      "draw\n",
      "catch\n",
      "play\n",
      "fall\n",
      "---------\n"
     ]
    },
    {
     "data": {
      "text/markdown": [
       "# named"
      ],
      "text/plain": [
       "<IPython.core.display.Markdown object>"
      ]
     },
     "metadata": {},
     "output_type": "display_data"
    },
    {
     "data": {
      "text/markdown": [
       "#### Urban"
      ],
      "text/plain": [
       "<IPython.core.display.Markdown object>"
      ]
     },
     "metadata": {},
     "output_type": "display_data"
    },
    {
     "name": "stdout",
     "output_type": "stream",
     "text": [
      "-----------\n",
      "retired\n",
      "introduced\n",
      "hired\n",
      "former\n",
      "murdered\n",
      "adopted\n",
      "interviewed\n",
      "killed\n",
      "selected\n",
      "claimed\n",
      "-----------\n"
     ]
    },
    {
     "data": {
      "text/markdown": [
       "#### Rural"
      ],
      "text/plain": [
       "<IPython.core.display.Markdown object>"
      ]
     },
     "metadata": {},
     "output_type": "display_data"
    },
    {
     "name": "stdout",
     "output_type": "stream",
     "text": [
      "----------\n",
      "selected\n",
      "recognized\n",
      "former\n",
      "retired\n",
      "hired\n",
      "joins\n",
      "honors\n",
      "murdered\n",
      "drafted\n",
      "robinson\n",
      "----------\n"
     ]
    },
    {
     "data": {
      "text/markdown": [
       "# fan"
      ],
      "text/plain": [
       "<IPython.core.display.Markdown object>"
      ]
     },
     "metadata": {},
     "output_type": "display_data"
    },
    {
     "data": {
      "text/markdown": [
       "#### Urban"
      ],
      "text/plain": [
       "<IPython.core.display.Markdown object>"
      ]
     },
     "metadata": {},
     "output_type": "display_data"
    },
    {
     "name": "stdout",
     "output_type": "stream",
     "text": [
      "--------------\n",
      "hater\n",
      "legend\n",
      "supporter\n",
      "fans\n",
      "disappointment\n",
      "stan\n",
      "nerd\n",
      "superstar\n",
      "loser\n",
      "player\n",
      "--------------\n"
     ]
    },
    {
     "data": {
      "text/markdown": [
       "#### Rural"
      ],
      "text/plain": [
       "<IPython.core.display.Markdown object>"
      ]
     },
     "metadata": {},
     "output_type": "display_data"
    },
    {
     "name": "stdout",
     "output_type": "stream",
     "text": [
      "--------------\n",
      "hater\n",
      "supporter\n",
      "fans\n",
      "disappointment\n",
      "player\n",
      "hero\n",
      "legend\n",
      "loser\n",
      "patriot\n",
      "joke\n",
      "--------------\n"
     ]
    },
    {
     "data": {
      "text/markdown": [
       "# money"
      ],
      "text/plain": [
       "<IPython.core.display.Markdown object>"
      ]
     },
     "metadata": {},
     "output_type": "display_data"
    },
    {
     "data": {
      "text/markdown": [
       "#### Urban"
      ],
      "text/plain": [
       "<IPython.core.display.Markdown object>"
      ]
     },
     "metadata": {},
     "output_type": "display_data"
    },
    {
     "name": "stdout",
     "output_type": "stream",
     "text": [
      "---------\n",
      "cash\n",
      "clout\n",
      "dollars\n",
      "attention\n",
      "profits\n",
      "taxes\n",
      "excuses\n",
      "funds\n",
      "bills\n",
      "clothes\n",
      "---------\n"
     ]
    },
    {
     "data": {
      "text/markdown": [
       "#### Rural"
      ],
      "text/plain": [
       "<IPython.core.display.Markdown object>"
      ]
     },
     "metadata": {},
     "output_type": "display_data"
    },
    {
     "name": "stdout",
     "output_type": "stream",
     "text": [
      "---------\n",
      "taxes\n",
      "dollars\n",
      "cash\n",
      "funds\n",
      "paycheck\n",
      "excuses\n",
      "income\n",
      "drugs\n",
      "attention\n",
      "gas\n",
      "---------\n"
     ]
    },
    {
     "data": {
      "text/markdown": [
       "# watching"
      ],
      "text/plain": [
       "<IPython.core.display.Markdown object>"
      ]
     },
     "metadata": {},
     "output_type": "display_data"
    },
    {
     "data": {
      "text/markdown": [
       "#### Urban"
      ],
      "text/plain": [
       "<IPython.core.display.Markdown object>"
      ]
     },
     "metadata": {},
     "output_type": "display_data"
    },
    {
     "name": "stdout",
     "output_type": "stream",
     "text": [
      "--------\n",
      "seeing\n",
      "filming\n",
      "crying\n",
      "watched\n",
      "dying\n",
      "tweeting\n",
      "watch\n",
      "playing\n",
      "sleeping\n",
      "enjoying\n",
      "--------\n"
     ]
    },
    {
     "data": {
      "text/markdown": [
       "#### Rural"
      ],
      "text/plain": [
       "<IPython.core.display.Markdown object>"
      ]
     },
     "metadata": {},
     "output_type": "display_data"
    },
    {
     "name": "stdout",
     "output_type": "stream",
     "text": [
      "---------\n",
      "crying\n",
      "watch\n",
      "watched\n",
      "seeing\n",
      "singing\n",
      "dying\n",
      "screaming\n",
      "chilling\n",
      "laughing\n",
      "vampire\n",
      "---------\n"
     ]
    },
    {
     "data": {
      "text/markdown": [
       "# about"
      ],
      "text/plain": [
       "<IPython.core.display.Markdown object>"
      ]
     },
     "metadata": {},
     "output_type": "display_data"
    },
    {
     "data": {
      "text/markdown": [
       "#### Urban"
      ],
      "text/plain": [
       "<IPython.core.display.Markdown object>"
      ]
     },
     "metadata": {},
     "output_type": "display_data"
    },
    {
     "name": "stdout",
     "output_type": "stream",
     "text": [
      "----------\n",
      "abt\n",
      "bout\n",
      "besides\n",
      "exactly\n",
      "ab\n",
      "regarding\n",
      "irrelevant\n",
      "silly\n",
      "explaining\n",
      "constantly\n",
      "----------\n"
     ]
    },
    {
     "data": {
      "text/markdown": [
       "#### Rural"
      ],
      "text/plain": [
       "<IPython.core.display.Markdown object>"
      ]
     },
     "metadata": {},
     "output_type": "display_data"
    },
    {
     "name": "stdout",
     "output_type": "stream",
     "text": [
      "----------\n",
      "abt\n",
      "ab\n",
      "bout\n",
      "besides\n",
      "constantly\n",
      "exactly\n",
      "related\n",
      "funny\n",
      "irrelevant\n",
      "important\n",
      "----------\n"
     ]
    },
    {
     "data": {
      "text/markdown": [
       "# loss"
      ],
      "text/plain": [
       "<IPython.core.display.Markdown object>"
      ]
     },
     "metadata": {},
     "output_type": "display_data"
    },
    {
     "data": {
      "text/markdown": [
       "#### Urban"
      ],
      "text/plain": [
       "<IPython.core.display.Markdown object>"
      ]
     },
     "metadata": {},
     "output_type": "display_data"
    },
    {
     "name": "stdout",
     "output_type": "stream",
     "text": [
      "--------------\n",
      "losing\n",
      "victory\n",
      "recovery\n",
      "lose\n",
      "losses\n",
      "disappointment\n",
      "stroke\n",
      "failure\n",
      "injury\n",
      "weight\n",
      "--------------\n"
     ]
    },
    {
     "data": {
      "text/markdown": [
       "#### Rural"
      ],
      "text/plain": [
       "<IPython.core.display.Markdown object>"
      ]
     },
     "metadata": {},
     "output_type": "display_data"
    },
    {
     "name": "stdout",
     "output_type": "stream",
     "text": [
      "-------\n",
      "losing\n",
      "victory\n",
      "losses\n",
      "stroke\n",
      "gain\n",
      "goal\n",
      "lose\n",
      "defeat\n",
      "score\n",
      "failure\n",
      "-------\n"
     ]
    },
    {
     "data": {
      "text/markdown": [
       "# trailer"
      ],
      "text/plain": [
       "<IPython.core.display.Markdown object>"
      ]
     },
     "metadata": {},
     "output_type": "display_data"
    },
    {
     "data": {
      "text/markdown": [
       "#### Urban"
      ],
      "text/plain": [
       "<IPython.core.display.Markdown object>"
      ]
     },
     "metadata": {},
     "output_type": "display_data"
    },
    {
     "name": "stdout",
     "output_type": "stream",
     "text": [
      "-----------\n",
      "teaser\n",
      "sequel\n",
      "documentary\n",
      "series\n",
      "remake\n",
      "film\n",
      "movie\n",
      "poster\n",
      "premiere\n",
      "vampire\n",
      "-----------\n"
     ]
    },
    {
     "data": {
      "text/markdown": [
       "#### Rural"
      ],
      "text/plain": [
       "<IPython.core.display.Markdown object>"
      ]
     },
     "metadata": {},
     "output_type": "display_data"
    },
    {
     "name": "stdout",
     "output_type": "stream",
     "text": [
      "----------\n",
      "hd\n",
      "dvd\n",
      "gameplay\n",
      "screenrant\n",
      "film\n",
      "lego\n",
      "series\n",
      "knight\n",
      "ep\n",
      "marvel\n",
      "----------\n"
     ]
    },
    {
     "data": {
      "text/markdown": [
       "# freaking"
      ],
      "text/plain": [
       "<IPython.core.display.Markdown object>"
      ]
     },
     "metadata": {},
     "output_type": "display_data"
    },
    {
     "data": {
      "text/markdown": [
       "#### Urban"
      ],
      "text/plain": [
       "<IPython.core.display.Markdown object>"
      ]
     },
     "metadata": {},
     "output_type": "display_data"
    },
    {
     "name": "stdout",
     "output_type": "stream",
     "text": [
      "---------\n",
      "freakin\n",
      "fucking\n",
      "stressing\n",
      "stressed\n",
      "crying\n",
      "omg\n",
      "freak\n",
      "hanging\n",
      "reaching\n",
      "fucken\n",
      "---------\n"
     ]
    },
    {
     "data": {
      "text/markdown": [
       "#### Rural"
      ],
      "text/plain": [
       "<IPython.core.display.Markdown object>"
      ]
     },
     "metadata": {},
     "output_type": "display_data"
    },
    {
     "name": "stdout",
     "output_type": "stream",
     "text": [
      "--------\n",
      "freakin\n",
      "fucking\n",
      "omg\n",
      "ugh\n",
      "omfg\n",
      "crying\n",
      "fuckin\n",
      "oml\n",
      "stressed\n",
      "freak\n",
      "--------\n"
     ]
    },
    {
     "data": {
      "text/markdown": [
       "# version"
      ],
      "text/plain": [
       "<IPython.core.display.Markdown object>"
      ]
     },
     "metadata": {},
     "output_type": "display_data"
    },
    {
     "data": {
      "text/markdown": [
       "#### Urban"
      ],
      "text/plain": [
       "<IPython.core.display.Markdown object>"
      ]
     },
     "metadata": {},
     "output_type": "display_data"
    },
    {
     "name": "stdout",
     "output_type": "stream",
     "text": [
      "----------\n",
      "remake\n",
      "concept\n",
      "mix\n",
      "soundtrack\n",
      "intro\n",
      "definition\n",
      "genre\n",
      "theme\n",
      "audio\n",
      "song\n",
      "----------\n"
     ]
    },
    {
     "data": {
      "text/markdown": [
       "#### Rural"
      ],
      "text/plain": [
       "<IPython.core.display.Markdown object>"
      ]
     },
     "metadata": {},
     "output_type": "display_data"
    },
    {
     "name": "stdout",
     "output_type": "stream",
     "text": [
      "----------\n",
      "soundtrack\n",
      "cd\n",
      "remix\n",
      "evolution\n",
      "concept\n",
      "recording\n",
      "albums\n",
      "album\n",
      "song\n",
      "mix\n",
      "----------\n"
     ]
    },
    {
     "data": {
      "text/markdown": [
       "# meet"
      ],
      "text/plain": [
       "<IPython.core.display.Markdown object>"
      ]
     },
     "metadata": {},
     "output_type": "display_data"
    },
    {
     "data": {
      "text/markdown": [
       "#### Urban"
      ],
      "text/plain": [
       "<IPython.core.display.Markdown object>"
      ]
     },
     "metadata": {},
     "output_type": "display_data"
    },
    {
     "name": "stdout",
     "output_type": "stream",
     "text": [
      "---------\n",
      "introduce\n",
      "see\n",
      "invite\n",
      "cheer\n",
      "hangout\n",
      "visit\n",
      "catch\n",
      "marry\n",
      "hang\n",
      "met\n",
      "---------\n"
     ]
    },
    {
     "data": {
      "text/markdown": [
       "#### Rural"
      ],
      "text/plain": [
       "<IPython.core.display.Markdown object>"
      ]
     },
     "metadata": {},
     "output_type": "display_data"
    },
    {
     "name": "stdout",
     "output_type": "stream",
     "text": [
      "------------\n",
      "invite\n",
      "see\n",
      "introduce\n",
      "cheer\n",
      "visit\n",
      "perform\n",
      "representing\n",
      "meets\n",
      "celebrate\n",
      "compete\n",
      "------------\n"
     ]
    },
    {
     "data": {
      "text/markdown": [
       "# case"
      ],
      "text/plain": [
       "<IPython.core.display.Markdown object>"
      ]
     },
     "metadata": {},
     "output_type": "display_data"
    },
    {
     "data": {
      "text/markdown": [
       "#### Urban"
      ],
      "text/plain": [
       "<IPython.core.display.Markdown object>"
      ]
     },
     "metadata": {},
     "output_type": "display_data"
    },
    {
     "name": "stdout",
     "output_type": "stream",
     "text": [
      "--------\n",
      "cases\n",
      "charges\n",
      "charge\n",
      "file\n",
      "scenario\n",
      "lawsuit\n",
      "general\n",
      "shell\n",
      "probe\n",
      "box\n",
      "--------\n"
     ]
    },
    {
     "data": {
      "text/markdown": [
       "#### Rural"
      ],
      "text/plain": [
       "<IPython.core.display.Markdown object>"
      ]
     },
     "metadata": {},
     "output_type": "display_data"
    },
    {
     "name": "stdout",
     "output_type": "stream",
     "text": [
      "----------\n",
      "cases\n",
      "charges\n",
      "charge\n",
      "general\n",
      "suspect\n",
      "fact\n",
      "fraud\n",
      "lawsuit\n",
      "particular\n",
      "scam\n",
      "----------\n"
     ]
    },
    {
     "data": {
      "text/markdown": [
       "# q"
      ],
      "text/plain": [
       "<IPython.core.display.Markdown object>"
      ]
     },
     "metadata": {},
     "output_type": "display_data"
    },
    {
     "data": {
      "text/markdown": [
       "#### Urban"
      ],
      "text/plain": [
       "<IPython.core.display.Markdown object>"
      ]
     },
     "metadata": {},
     "output_type": "display_data"
    },
    {
     "name": "stdout",
     "output_type": "stream",
     "text": [
      "---\n",
      "ir\n",
      "dos\n",
      "ama\n",
      "p\n",
      "et\n",
      "te\n",
      "ser\n",
      "est\n",
      "e\n",
      "l\n",
      "---\n"
     ]
    },
    {
     "data": {
      "text/markdown": [
       "#### Rural"
      ],
      "text/plain": [
       "<IPython.core.display.Markdown object>"
      ]
     },
     "metadata": {},
     "output_type": "display_data"
    },
    {
     "name": "stdout",
     "output_type": "stream",
     "text": [
      "----\n",
      "su\n",
      "g\n",
      "mc\n",
      "tr\n",
      "os\n",
      "p\n",
      "j\n",
      "et\n",
      "gen\n",
      "para\n",
      "----\n"
     ]
    },
    {
     "data": {
      "text/markdown": [
       "# design"
      ],
      "text/plain": [
       "<IPython.core.display.Markdown object>"
      ]
     },
     "metadata": {},
     "output_type": "display_data"
    },
    {
     "data": {
      "text/markdown": [
       "#### Urban"
      ],
      "text/plain": [
       "<IPython.core.display.Markdown object>"
      ]
     },
     "metadata": {},
     "output_type": "display_data"
    },
    {
     "name": "stdout",
     "output_type": "stream",
     "text": [
      "-----------\n",
      "interior\n",
      "branding\n",
      "innovative\n",
      "photography\n",
      "designers\n",
      "3d\n",
      "designs\n",
      "landscape\n",
      "graphics\n",
      "hardware\n",
      "-----------\n"
     ]
    },
    {
     "data": {
      "text/markdown": [
       "#### Rural"
      ],
      "text/plain": [
       "<IPython.core.display.Markdown object>"
      ]
     },
     "metadata": {},
     "output_type": "display_data"
    },
    {
     "name": "stdout",
     "output_type": "stream",
     "text": [
      "-----------\n",
      "interior\n",
      "designs\n",
      "graphic\n",
      "custom\n",
      "visual\n",
      "landscape\n",
      "digital\n",
      "3d\n",
      "infographic\n",
      "avon\n",
      "-----------\n"
     ]
    },
    {
     "data": {
      "text/markdown": [
       "# beyond"
      ],
      "text/plain": [
       "<IPython.core.display.Markdown object>"
      ]
     },
     "metadata": {},
     "output_type": "display_data"
    },
    {
     "data": {
      "text/markdown": [
       "#### Urban"
      ],
      "text/plain": [
       "<IPython.core.display.Markdown object>"
      ]
     },
     "metadata": {},
     "output_type": "display_data"
    },
    {
     "name": "stdout",
     "output_type": "stream",
     "text": [
      "----------\n",
      "extremely\n",
      "incredibly\n",
      "thus\n",
      "towards\n",
      "toward\n",
      "truly\n",
      "very\n",
      "deeper\n",
      "absolutely\n",
      "belief\n",
      "----------\n"
     ]
    },
    {
     "data": {
      "text/markdown": [
       "#### Rural"
      ],
      "text/plain": [
       "<IPython.core.display.Markdown object>"
      ]
     },
     "metadata": {},
     "output_type": "display_data"
    },
    {
     "name": "stdout",
     "output_type": "stream",
     "text": [
      "----------\n",
      "incredibly\n",
      "extremely\n",
      "truly\n",
      "thus\n",
      "absolutely\n",
      "very\n",
      "soooo\n",
      "soooooo\n",
      "so\n",
      "sooooo\n",
      "----------\n"
     ]
    },
    {
     "data": {
      "text/markdown": [
       "# spot"
      ],
      "text/plain": [
       "<IPython.core.display.Markdown object>"
      ]
     },
     "metadata": {},
     "output_type": "display_data"
    },
    {
     "data": {
      "text/markdown": [
       "#### Urban"
      ],
      "text/plain": [
       "<IPython.core.display.Markdown object>"
      ]
     },
     "metadata": {},
     "output_type": "display_data"
    },
    {
     "name": "stdout",
     "output_type": "stream",
     "text": [
      "----------\n",
      "place\n",
      "spots\n",
      "line\n",
      "plate\n",
      "roster\n",
      "venue\n",
      "position\n",
      "seat\n",
      "boat\n",
      "restaurant\n",
      "----------\n"
     ]
    },
    {
     "data": {
      "text/markdown": [
       "#### Rural"
      ],
      "text/plain": [
       "<IPython.core.display.Markdown object>"
      ]
     },
     "metadata": {},
     "output_type": "display_data"
    },
    {
     "name": "stdout",
     "output_type": "stream",
     "text": [
      "------\n",
      "line\n",
      "place\n",
      "boat\n",
      "pitch\n",
      "base\n",
      "shot\n",
      "lap\n",
      "corner\n",
      "bench\n",
      "seat\n",
      "------\n"
     ]
    },
    {
     "data": {
      "text/markdown": [
       "# doubt"
      ],
      "text/plain": [
       "<IPython.core.display.Markdown object>"
      ]
     },
     "metadata": {},
     "output_type": "display_data"
    },
    {
     "data": {
      "text/markdown": [
       "#### Urban"
      ],
      "text/plain": [
       "<IPython.core.display.Markdown object>"
      ]
     },
     "metadata": {},
     "output_type": "display_data"
    },
    {
     "name": "stdout",
     "output_type": "stream",
     "text": [
      "----------\n",
      "worries\n",
      "slander\n",
      "think\n",
      "regrets\n",
      "prob\n",
      "clue\n",
      "sadly\n",
      "promise\n",
      "disrespect\n",
      "trust\n",
      "----------\n"
     ]
    },
    {
     "data": {
      "text/markdown": [
       "#### Rural"
      ],
      "text/plain": [
       "<IPython.core.display.Markdown object>"
      ]
     },
     "metadata": {},
     "output_type": "display_data"
    },
    {
     "name": "stdout",
     "output_type": "stream",
     "text": [
      "-------\n",
      "worries\n",
      "fear\n",
      "regrets\n",
      "trust\n",
      "sadly\n",
      "prob\n",
      "respect\n",
      "problem\n",
      "matter\n",
      "lie\n",
      "-------\n"
     ]
    }
   ],
   "source": [
    "for token in df.sort_values('score').head(300)['token']:\n",
    "    u, r = compare(token)\n",
    "    display(Markdown(f'# {token}'))\n",
    "    display(Markdown(f'#### Urban'))\n",
    "    print(tabulate(u))\n",
    "    display(Markdown(f'#### Rural'))\n",
    "    print(tabulate(r))"
   ]
  },
  {
   "cell_type": "markdown",
   "metadata": {},
   "source": [
    "- lady - person vs sports team\n",
    "- stranger - person vs adjective\n",
    "\n",
    "- sessions **\n",
    "- russian **\n",
    "- bush **\n",
    "\n",
    "- genuine - sincere vs. gemstone\n",
    "- track - song vs running\n",
    "\n",
    "- raw\n",
    "\n",
    "- march ***\n",
    "- rob - verb vs name\n",
    "- race ***\n",
    "- drama\n",
    "\n",
    "- associate - verb vs noun\n",
    "- noble - verb vs name\n",
    "\n",
    "- foundation - makeup vs ?\n",
    "- waters - outdoors vs politics\n",
    "- faced ?\n",
    "\n",
    "- single - song vs baseball\n",
    "- boys - boys vs sports team\n",
    "- apple - fruit vs company\n",
    "- clear - obvious vs weather\n",
    "- moderate - politics vs weather\n",
    "\n",
    "- saint ***\n",
    "- he - obama, putin, postus\n",
    "- sacred ???\n",
    "- holywood\n",
    "\n",
    "- catholic ***\n",
    "- church ***\n",
    "\n",
    "- black"
   ]
  },
  {
   "cell_type": "code",
   "execution_count": null,
   "metadata": {},
   "outputs": [],
   "source": []
  }
 ],
 "metadata": {
  "kernelspec": {
   "display_name": "Python 3",
   "language": "python",
   "name": "python3"
  },
  "language_info": {
   "codemirror_mode": {
    "name": "ipython",
    "version": 3
   },
   "file_extension": ".py",
   "mimetype": "text/x-python",
   "name": "python",
   "nbconvert_exporter": "python",
   "pygments_lexer": "ipython3",
   "version": "3.6.2"
  }
 },
 "nbformat": 4,
 "nbformat_minor": 2
}
