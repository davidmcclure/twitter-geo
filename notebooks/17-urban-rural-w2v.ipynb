{
 "cells": [
  {
   "cell_type": "code",
   "execution_count": 101,
   "metadata": {},
   "outputs": [],
   "source": [
    "import ujson\n",
    "import re\n",
    "import pandas as pd\n",
    "\n",
    "from tqdm import tqdm_notebook\n",
    "from glob import glob\n",
    "from gensim.models.word2vec import Word2Vec\n",
    "from itertools import product\n",
    "from wordfreq import top_n_list\n",
    "from IPython.display import Markdown, HTML, display\n",
    "from tabulate import tabulate"
   ]
  },
  {
   "cell_type": "code",
   "execution_count": 117,
   "metadata": {},
   "outputs": [],
   "source": [
    "pd.options.display.max_rows = 1000"
   ]
  },
  {
   "cell_type": "code",
   "execution_count": 18,
   "metadata": {},
   "outputs": [],
   "source": [
    "def read_tweets(pattern):\n",
    "    \n",
    "    tweets = []\n",
    "    for path in glob(pattern):\n",
    "        with open(path) as fh:\n",
    "            for line in tqdm_notebook(fh):\n",
    "                \n",
    "                tweet = ujson.loads(line)\n",
    "                \n",
    "                text = re.sub('(#|@|http)\\S+', '', tweet['body'])\n",
    "                tokens = re.findall('[a-z0-9]+', text.lower())\n",
    "                \n",
    "                tweets.append(tokens)\n",
    "                \n",
    "    return tweets"
   ]
  },
  {
   "cell_type": "code",
   "execution_count": 19,
   "metadata": {},
   "outputs": [
    {
     "data": {
      "application/vnd.jupyter.widget-view+json": {
       "model_id": "4dc57feb0c2044aa8ca58fb8648a707b",
       "version_major": 2,
       "version_minor": 0
      },
      "text/html": [
       "<p>Failed to display Jupyter Widget of type <code>HBox</code>.</p>\n",
       "<p>\n",
       "  If you're reading this message in Jupyter Notebook or JupyterLab, it may mean\n",
       "  that the widgets JavaScript is still loading. If this message persists, it\n",
       "  likely means that the widgets JavaScript library is either not installed or\n",
       "  not enabled. See the <a href=\"https://ipywidgets.readthedocs.io/en/stable/user_install.html\">Jupyter\n",
       "  Widgets Documentation</a> for setup instructions.\n",
       "</p>\n",
       "<p>\n",
       "  If you're reading this message in another notebook frontend (for example, a static\n",
       "  rendering on GitHub or <a href=\"https://nbviewer.jupyter.org/\">NBViewer</a>),\n",
       "  it may mean that your frontend doesn't currently support widgets.\n",
       "</p>\n"
      ],
      "text/plain": [
       "HBox(children=(IntProgress(value=1, bar_style='info', max=1), HTML(value='')))"
      ]
     },
     "metadata": {},
     "output_type": "display_data"
    },
    {
     "name": "stdout",
     "output_type": "stream",
     "text": [
      "\n"
     ]
    },
    {
     "data": {
      "application/vnd.jupyter.widget-view+json": {
       "model_id": "30f2dbeb8eb74cb9b89e954f5fdc7711",
       "version_major": 2,
       "version_minor": 0
      },
      "text/html": [
       "<p>Failed to display Jupyter Widget of type <code>HBox</code>.</p>\n",
       "<p>\n",
       "  If you're reading this message in Jupyter Notebook or JupyterLab, it may mean\n",
       "  that the widgets JavaScript is still loading. If this message persists, it\n",
       "  likely means that the widgets JavaScript library is either not installed or\n",
       "  not enabled. See the <a href=\"https://ipywidgets.readthedocs.io/en/stable/user_install.html\">Jupyter\n",
       "  Widgets Documentation</a> for setup instructions.\n",
       "</p>\n",
       "<p>\n",
       "  If you're reading this message in another notebook frontend (for example, a static\n",
       "  rendering on GitHub or <a href=\"https://nbviewer.jupyter.org/\">NBViewer</a>),\n",
       "  it may mean that your frontend doesn't currently support widgets.\n",
       "</p>\n"
      ],
      "text/plain": [
       "HBox(children=(IntProgress(value=1, bar_style='info', max=1), HTML(value='')))"
      ]
     },
     "metadata": {},
     "output_type": "display_data"
    },
    {
     "name": "stdout",
     "output_type": "stream",
     "text": [
      "\n"
     ]
    },
    {
     "data": {
      "application/vnd.jupyter.widget-view+json": {
       "model_id": "d6112c02ac1f4886b81d119e68f44f08",
       "version_major": 2,
       "version_minor": 0
      },
      "text/html": [
       "<p>Failed to display Jupyter Widget of type <code>HBox</code>.</p>\n",
       "<p>\n",
       "  If you're reading this message in Jupyter Notebook or JupyterLab, it may mean\n",
       "  that the widgets JavaScript is still loading. If this message persists, it\n",
       "  likely means that the widgets JavaScript library is either not installed or\n",
       "  not enabled. See the <a href=\"https://ipywidgets.readthedocs.io/en/stable/user_install.html\">Jupyter\n",
       "  Widgets Documentation</a> for setup instructions.\n",
       "</p>\n",
       "<p>\n",
       "  If you're reading this message in another notebook frontend (for example, a static\n",
       "  rendering on GitHub or <a href=\"https://nbviewer.jupyter.org/\">NBViewer</a>),\n",
       "  it may mean that your frontend doesn't currently support widgets.\n",
       "</p>\n"
      ],
      "text/plain": [
       "HBox(children=(IntProgress(value=1, bar_style='info', max=1), HTML(value='')))"
      ]
     },
     "metadata": {},
     "output_type": "display_data"
    },
    {
     "name": "stdout",
     "output_type": "stream",
     "text": [
      "\n"
     ]
    },
    {
     "data": {
      "application/vnd.jupyter.widget-view+json": {
       "model_id": "8bac6c1c6ce348849d915aefd9a192d5",
       "version_major": 2,
       "version_minor": 0
      },
      "text/html": [
       "<p>Failed to display Jupyter Widget of type <code>HBox</code>.</p>\n",
       "<p>\n",
       "  If you're reading this message in Jupyter Notebook or JupyterLab, it may mean\n",
       "  that the widgets JavaScript is still loading. If this message persists, it\n",
       "  likely means that the widgets JavaScript library is either not installed or\n",
       "  not enabled. See the <a href=\"https://ipywidgets.readthedocs.io/en/stable/user_install.html\">Jupyter\n",
       "  Widgets Documentation</a> for setup instructions.\n",
       "</p>\n",
       "<p>\n",
       "  If you're reading this message in another notebook frontend (for example, a static\n",
       "  rendering on GitHub or <a href=\"https://nbviewer.jupyter.org/\">NBViewer</a>),\n",
       "  it may mean that your frontend doesn't currently support widgets.\n",
       "</p>\n"
      ],
      "text/plain": [
       "HBox(children=(IntProgress(value=1, bar_style='info', max=1), HTML(value='')))"
      ]
     },
     "metadata": {},
     "output_type": "display_data"
    },
    {
     "name": "stdout",
     "output_type": "stream",
     "text": [
      "\n"
     ]
    },
    {
     "data": {
      "application/vnd.jupyter.widget-view+json": {
       "model_id": "92d91a0892684fd6bac43833310ab3e1",
       "version_major": 2,
       "version_minor": 0
      },
      "text/html": [
       "<p>Failed to display Jupyter Widget of type <code>HBox</code>.</p>\n",
       "<p>\n",
       "  If you're reading this message in Jupyter Notebook or JupyterLab, it may mean\n",
       "  that the widgets JavaScript is still loading. If this message persists, it\n",
       "  likely means that the widgets JavaScript library is either not installed or\n",
       "  not enabled. See the <a href=\"https://ipywidgets.readthedocs.io/en/stable/user_install.html\">Jupyter\n",
       "  Widgets Documentation</a> for setup instructions.\n",
       "</p>\n",
       "<p>\n",
       "  If you're reading this message in another notebook frontend (for example, a static\n",
       "  rendering on GitHub or <a href=\"https://nbviewer.jupyter.org/\">NBViewer</a>),\n",
       "  it may mean that your frontend doesn't currently support widgets.\n",
       "</p>\n"
      ],
      "text/plain": [
       "HBox(children=(IntProgress(value=1, bar_style='info', max=1), HTML(value='')))"
      ]
     },
     "metadata": {},
     "output_type": "display_data"
    },
    {
     "name": "stdout",
     "output_type": "stream",
     "text": [
      "\n"
     ]
    },
    {
     "data": {
      "application/vnd.jupyter.widget-view+json": {
       "model_id": "76d3afa3116846978813a04d35ea52f7",
       "version_major": 2,
       "version_minor": 0
      },
      "text/html": [
       "<p>Failed to display Jupyter Widget of type <code>HBox</code>.</p>\n",
       "<p>\n",
       "  If you're reading this message in Jupyter Notebook or JupyterLab, it may mean\n",
       "  that the widgets JavaScript is still loading. If this message persists, it\n",
       "  likely means that the widgets JavaScript library is either not installed or\n",
       "  not enabled. See the <a href=\"https://ipywidgets.readthedocs.io/en/stable/user_install.html\">Jupyter\n",
       "  Widgets Documentation</a> for setup instructions.\n",
       "</p>\n",
       "<p>\n",
       "  If you're reading this message in another notebook frontend (for example, a static\n",
       "  rendering on GitHub or <a href=\"https://nbviewer.jupyter.org/\">NBViewer</a>),\n",
       "  it may mean that your frontend doesn't currently support widgets.\n",
       "</p>\n"
      ],
      "text/plain": [
       "HBox(children=(IntProgress(value=1, bar_style='info', max=1), HTML(value='')))"
      ]
     },
     "metadata": {},
     "output_type": "display_data"
    },
    {
     "name": "stdout",
     "output_type": "stream",
     "text": [
      "\n"
     ]
    },
    {
     "data": {
      "application/vnd.jupyter.widget-view+json": {
       "model_id": "4a0ce635e3254793a8889b5803378443",
       "version_major": 2,
       "version_minor": 0
      },
      "text/html": [
       "<p>Failed to display Jupyter Widget of type <code>HBox</code>.</p>\n",
       "<p>\n",
       "  If you're reading this message in Jupyter Notebook or JupyterLab, it may mean\n",
       "  that the widgets JavaScript is still loading. If this message persists, it\n",
       "  likely means that the widgets JavaScript library is either not installed or\n",
       "  not enabled. See the <a href=\"https://ipywidgets.readthedocs.io/en/stable/user_install.html\">Jupyter\n",
       "  Widgets Documentation</a> for setup instructions.\n",
       "</p>\n",
       "<p>\n",
       "  If you're reading this message in another notebook frontend (for example, a static\n",
       "  rendering on GitHub or <a href=\"https://nbviewer.jupyter.org/\">NBViewer</a>),\n",
       "  it may mean that your frontend doesn't currently support widgets.\n",
       "</p>\n"
      ],
      "text/plain": [
       "HBox(children=(IntProgress(value=1, bar_style='info', max=1), HTML(value='')))"
      ]
     },
     "metadata": {},
     "output_type": "display_data"
    },
    {
     "name": "stdout",
     "output_type": "stream",
     "text": [
      "\n"
     ]
    },
    {
     "data": {
      "application/vnd.jupyter.widget-view+json": {
       "model_id": "916593f961a943c1947d5114d3172a5d",
       "version_major": 2,
       "version_minor": 0
      },
      "text/html": [
       "<p>Failed to display Jupyter Widget of type <code>HBox</code>.</p>\n",
       "<p>\n",
       "  If you're reading this message in Jupyter Notebook or JupyterLab, it may mean\n",
       "  that the widgets JavaScript is still loading. If this message persists, it\n",
       "  likely means that the widgets JavaScript library is either not installed or\n",
       "  not enabled. See the <a href=\"https://ipywidgets.readthedocs.io/en/stable/user_install.html\">Jupyter\n",
       "  Widgets Documentation</a> for setup instructions.\n",
       "</p>\n",
       "<p>\n",
       "  If you're reading this message in another notebook frontend (for example, a static\n",
       "  rendering on GitHub or <a href=\"https://nbviewer.jupyter.org/\">NBViewer</a>),\n",
       "  it may mean that your frontend doesn't currently support widgets.\n",
       "</p>\n"
      ],
      "text/plain": [
       "HBox(children=(IntProgress(value=1, bar_style='info', max=1), HTML(value='')))"
      ]
     },
     "metadata": {},
     "output_type": "display_data"
    },
    {
     "name": "stdout",
     "output_type": "stream",
     "text": [
      "\n"
     ]
    },
    {
     "data": {
      "application/vnd.jupyter.widget-view+json": {
       "model_id": "7ae67d9a46194369848c5976d07dbd0f",
       "version_major": 2,
       "version_minor": 0
      },
      "text/html": [
       "<p>Failed to display Jupyter Widget of type <code>HBox</code>.</p>\n",
       "<p>\n",
       "  If you're reading this message in Jupyter Notebook or JupyterLab, it may mean\n",
       "  that the widgets JavaScript is still loading. If this message persists, it\n",
       "  likely means that the widgets JavaScript library is either not installed or\n",
       "  not enabled. See the <a href=\"https://ipywidgets.readthedocs.io/en/stable/user_install.html\">Jupyter\n",
       "  Widgets Documentation</a> for setup instructions.\n",
       "</p>\n",
       "<p>\n",
       "  If you're reading this message in another notebook frontend (for example, a static\n",
       "  rendering on GitHub or <a href=\"https://nbviewer.jupyter.org/\">NBViewer</a>),\n",
       "  it may mean that your frontend doesn't currently support widgets.\n",
       "</p>\n"
      ],
      "text/plain": [
       "HBox(children=(IntProgress(value=1, bar_style='info', max=1), HTML(value='')))"
      ]
     },
     "metadata": {},
     "output_type": "display_data"
    },
    {
     "name": "stdout",
     "output_type": "stream",
     "text": [
      "\n"
     ]
    },
    {
     "data": {
      "application/vnd.jupyter.widget-view+json": {
       "model_id": "3a0fcb40045a4cf298b7b7ab4215319c",
       "version_major": 2,
       "version_minor": 0
      },
      "text/html": [
       "<p>Failed to display Jupyter Widget of type <code>HBox</code>.</p>\n",
       "<p>\n",
       "  If you're reading this message in Jupyter Notebook or JupyterLab, it may mean\n",
       "  that the widgets JavaScript is still loading. If this message persists, it\n",
       "  likely means that the widgets JavaScript library is either not installed or\n",
       "  not enabled. See the <a href=\"https://ipywidgets.readthedocs.io/en/stable/user_install.html\">Jupyter\n",
       "  Widgets Documentation</a> for setup instructions.\n",
       "</p>\n",
       "<p>\n",
       "  If you're reading this message in another notebook frontend (for example, a static\n",
       "  rendering on GitHub or <a href=\"https://nbviewer.jupyter.org/\">NBViewer</a>),\n",
       "  it may mean that your frontend doesn't currently support widgets.\n",
       "</p>\n"
      ],
      "text/plain": [
       "HBox(children=(IntProgress(value=1, bar_style='info', max=1), HTML(value='')))"
      ]
     },
     "metadata": {},
     "output_type": "display_data"
    },
    {
     "name": "stdout",
     "output_type": "stream",
     "text": [
      "\n"
     ]
    }
   ],
   "source": [
    "rural = read_tweets('../../data/geo-lt10k.json/part-0000*')"
   ]
  },
  {
   "cell_type": "code",
   "execution_count": 15,
   "metadata": {},
   "outputs": [
    {
     "data": {
      "application/vnd.jupyter.widget-view+json": {
       "model_id": "10018ac93972497789b6071fa930abfa",
       "version_major": 2,
       "version_minor": 0
      },
      "text/html": [
       "<p>Failed to display Jupyter Widget of type <code>HBox</code>.</p>\n",
       "<p>\n",
       "  If you're reading this message in Jupyter Notebook or JupyterLab, it may mean\n",
       "  that the widgets JavaScript is still loading. If this message persists, it\n",
       "  likely means that the widgets JavaScript library is either not installed or\n",
       "  not enabled. See the <a href=\"https://ipywidgets.readthedocs.io/en/stable/user_install.html\">Jupyter\n",
       "  Widgets Documentation</a> for setup instructions.\n",
       "</p>\n",
       "<p>\n",
       "  If you're reading this message in another notebook frontend (for example, a static\n",
       "  rendering on GitHub or <a href=\"https://nbviewer.jupyter.org/\">NBViewer</a>),\n",
       "  it may mean that your frontend doesn't currently support widgets.\n",
       "</p>\n"
      ],
      "text/plain": [
       "HBox(children=(IntProgress(value=1, bar_style='info', max=1), HTML(value='')))"
      ]
     },
     "metadata": {},
     "output_type": "display_data"
    },
    {
     "name": "stdout",
     "output_type": "stream",
     "text": [
      "\n"
     ]
    },
    {
     "data": {
      "application/vnd.jupyter.widget-view+json": {
       "model_id": "34593fec9b544624a46cae215b5db09c",
       "version_major": 2,
       "version_minor": 0
      },
      "text/html": [
       "<p>Failed to display Jupyter Widget of type <code>HBox</code>.</p>\n",
       "<p>\n",
       "  If you're reading this message in Jupyter Notebook or JupyterLab, it may mean\n",
       "  that the widgets JavaScript is still loading. If this message persists, it\n",
       "  likely means that the widgets JavaScript library is either not installed or\n",
       "  not enabled. See the <a href=\"https://ipywidgets.readthedocs.io/en/stable/user_install.html\">Jupyter\n",
       "  Widgets Documentation</a> for setup instructions.\n",
       "</p>\n",
       "<p>\n",
       "  If you're reading this message in another notebook frontend (for example, a static\n",
       "  rendering on GitHub or <a href=\"https://nbviewer.jupyter.org/\">NBViewer</a>),\n",
       "  it may mean that your frontend doesn't currently support widgets.\n",
       "</p>\n"
      ],
      "text/plain": [
       "HBox(children=(IntProgress(value=1, bar_style='info', max=1), HTML(value='')))"
      ]
     },
     "metadata": {},
     "output_type": "display_data"
    },
    {
     "name": "stdout",
     "output_type": "stream",
     "text": [
      "\n"
     ]
    },
    {
     "data": {
      "application/vnd.jupyter.widget-view+json": {
       "model_id": "95edfb8e002a4f47bd46cb46a9693500",
       "version_major": 2,
       "version_minor": 0
      },
      "text/html": [
       "<p>Failed to display Jupyter Widget of type <code>HBox</code>.</p>\n",
       "<p>\n",
       "  If you're reading this message in Jupyter Notebook or JupyterLab, it may mean\n",
       "  that the widgets JavaScript is still loading. If this message persists, it\n",
       "  likely means that the widgets JavaScript library is either not installed or\n",
       "  not enabled. See the <a href=\"https://ipywidgets.readthedocs.io/en/stable/user_install.html\">Jupyter\n",
       "  Widgets Documentation</a> for setup instructions.\n",
       "</p>\n",
       "<p>\n",
       "  If you're reading this message in another notebook frontend (for example, a static\n",
       "  rendering on GitHub or <a href=\"https://nbviewer.jupyter.org/\">NBViewer</a>),\n",
       "  it may mean that your frontend doesn't currently support widgets.\n",
       "</p>\n"
      ],
      "text/plain": [
       "HBox(children=(IntProgress(value=1, bar_style='info', max=1), HTML(value='')))"
      ]
     },
     "metadata": {},
     "output_type": "display_data"
    },
    {
     "name": "stdout",
     "output_type": "stream",
     "text": [
      "\n"
     ]
    },
    {
     "data": {
      "application/vnd.jupyter.widget-view+json": {
       "model_id": "3cde36fe46cf404dba7e6bd9dfa4d356",
       "version_major": 2,
       "version_minor": 0
      },
      "text/html": [
       "<p>Failed to display Jupyter Widget of type <code>HBox</code>.</p>\n",
       "<p>\n",
       "  If you're reading this message in Jupyter Notebook or JupyterLab, it may mean\n",
       "  that the widgets JavaScript is still loading. If this message persists, it\n",
       "  likely means that the widgets JavaScript library is either not installed or\n",
       "  not enabled. See the <a href=\"https://ipywidgets.readthedocs.io/en/stable/user_install.html\">Jupyter\n",
       "  Widgets Documentation</a> for setup instructions.\n",
       "</p>\n",
       "<p>\n",
       "  If you're reading this message in another notebook frontend (for example, a static\n",
       "  rendering on GitHub or <a href=\"https://nbviewer.jupyter.org/\">NBViewer</a>),\n",
       "  it may mean that your frontend doesn't currently support widgets.\n",
       "</p>\n"
      ],
      "text/plain": [
       "HBox(children=(IntProgress(value=1, bar_style='info', max=1), HTML(value='')))"
      ]
     },
     "metadata": {},
     "output_type": "display_data"
    },
    {
     "name": "stdout",
     "output_type": "stream",
     "text": [
      "\n"
     ]
    },
    {
     "data": {
      "application/vnd.jupyter.widget-view+json": {
       "model_id": "f09389bcbc00491884091b97cb279e07",
       "version_major": 2,
       "version_minor": 0
      },
      "text/html": [
       "<p>Failed to display Jupyter Widget of type <code>HBox</code>.</p>\n",
       "<p>\n",
       "  If you're reading this message in Jupyter Notebook or JupyterLab, it may mean\n",
       "  that the widgets JavaScript is still loading. If this message persists, it\n",
       "  likely means that the widgets JavaScript library is either not installed or\n",
       "  not enabled. See the <a href=\"https://ipywidgets.readthedocs.io/en/stable/user_install.html\">Jupyter\n",
       "  Widgets Documentation</a> for setup instructions.\n",
       "</p>\n",
       "<p>\n",
       "  If you're reading this message in another notebook frontend (for example, a static\n",
       "  rendering on GitHub or <a href=\"https://nbviewer.jupyter.org/\">NBViewer</a>),\n",
       "  it may mean that your frontend doesn't currently support widgets.\n",
       "</p>\n"
      ],
      "text/plain": [
       "HBox(children=(IntProgress(value=1, bar_style='info', max=1), HTML(value='')))"
      ]
     },
     "metadata": {},
     "output_type": "display_data"
    },
    {
     "name": "stdout",
     "output_type": "stream",
     "text": [
      "\n"
     ]
    },
    {
     "data": {
      "application/vnd.jupyter.widget-view+json": {
       "model_id": "edf63a7237de4fa59e08d17db5fe324a",
       "version_major": 2,
       "version_minor": 0
      },
      "text/html": [
       "<p>Failed to display Jupyter Widget of type <code>HBox</code>.</p>\n",
       "<p>\n",
       "  If you're reading this message in Jupyter Notebook or JupyterLab, it may mean\n",
       "  that the widgets JavaScript is still loading. If this message persists, it\n",
       "  likely means that the widgets JavaScript library is either not installed or\n",
       "  not enabled. See the <a href=\"https://ipywidgets.readthedocs.io/en/stable/user_install.html\">Jupyter\n",
       "  Widgets Documentation</a> for setup instructions.\n",
       "</p>\n",
       "<p>\n",
       "  If you're reading this message in another notebook frontend (for example, a static\n",
       "  rendering on GitHub or <a href=\"https://nbviewer.jupyter.org/\">NBViewer</a>),\n",
       "  it may mean that your frontend doesn't currently support widgets.\n",
       "</p>\n"
      ],
      "text/plain": [
       "HBox(children=(IntProgress(value=1, bar_style='info', max=1), HTML(value='')))"
      ]
     },
     "metadata": {},
     "output_type": "display_data"
    },
    {
     "name": "stdout",
     "output_type": "stream",
     "text": [
      "\n"
     ]
    },
    {
     "data": {
      "application/vnd.jupyter.widget-view+json": {
       "model_id": "664373900c5d4c6db451cf0e158e3cc7",
       "version_major": 2,
       "version_minor": 0
      },
      "text/html": [
       "<p>Failed to display Jupyter Widget of type <code>HBox</code>.</p>\n",
       "<p>\n",
       "  If you're reading this message in Jupyter Notebook or JupyterLab, it may mean\n",
       "  that the widgets JavaScript is still loading. If this message persists, it\n",
       "  likely means that the widgets JavaScript library is either not installed or\n",
       "  not enabled. See the <a href=\"https://ipywidgets.readthedocs.io/en/stable/user_install.html\">Jupyter\n",
       "  Widgets Documentation</a> for setup instructions.\n",
       "</p>\n",
       "<p>\n",
       "  If you're reading this message in another notebook frontend (for example, a static\n",
       "  rendering on GitHub or <a href=\"https://nbviewer.jupyter.org/\">NBViewer</a>),\n",
       "  it may mean that your frontend doesn't currently support widgets.\n",
       "</p>\n"
      ],
      "text/plain": [
       "HBox(children=(IntProgress(value=1, bar_style='info', max=1), HTML(value='')))"
      ]
     },
     "metadata": {},
     "output_type": "display_data"
    },
    {
     "name": "stdout",
     "output_type": "stream",
     "text": [
      "\n"
     ]
    },
    {
     "data": {
      "application/vnd.jupyter.widget-view+json": {
       "model_id": "0cfa0d2302d44f1d9ddfe2fab4e3b356",
       "version_major": 2,
       "version_minor": 0
      },
      "text/html": [
       "<p>Failed to display Jupyter Widget of type <code>HBox</code>.</p>\n",
       "<p>\n",
       "  If you're reading this message in Jupyter Notebook or JupyterLab, it may mean\n",
       "  that the widgets JavaScript is still loading. If this message persists, it\n",
       "  likely means that the widgets JavaScript library is either not installed or\n",
       "  not enabled. See the <a href=\"https://ipywidgets.readthedocs.io/en/stable/user_install.html\">Jupyter\n",
       "  Widgets Documentation</a> for setup instructions.\n",
       "</p>\n",
       "<p>\n",
       "  If you're reading this message in another notebook frontend (for example, a static\n",
       "  rendering on GitHub or <a href=\"https://nbviewer.jupyter.org/\">NBViewer</a>),\n",
       "  it may mean that your frontend doesn't currently support widgets.\n",
       "</p>\n"
      ],
      "text/plain": [
       "HBox(children=(IntProgress(value=1, bar_style='info', max=1), HTML(value='')))"
      ]
     },
     "metadata": {},
     "output_type": "display_data"
    },
    {
     "name": "stdout",
     "output_type": "stream",
     "text": [
      "\n"
     ]
    },
    {
     "data": {
      "application/vnd.jupyter.widget-view+json": {
       "model_id": "30c15a1f74a34ad4a840a2ca67304819",
       "version_major": 2,
       "version_minor": 0
      },
      "text/html": [
       "<p>Failed to display Jupyter Widget of type <code>HBox</code>.</p>\n",
       "<p>\n",
       "  If you're reading this message in Jupyter Notebook or JupyterLab, it may mean\n",
       "  that the widgets JavaScript is still loading. If this message persists, it\n",
       "  likely means that the widgets JavaScript library is either not installed or\n",
       "  not enabled. See the <a href=\"https://ipywidgets.readthedocs.io/en/stable/user_install.html\">Jupyter\n",
       "  Widgets Documentation</a> for setup instructions.\n",
       "</p>\n",
       "<p>\n",
       "  If you're reading this message in another notebook frontend (for example, a static\n",
       "  rendering on GitHub or <a href=\"https://nbviewer.jupyter.org/\">NBViewer</a>),\n",
       "  it may mean that your frontend doesn't currently support widgets.\n",
       "</p>\n"
      ],
      "text/plain": [
       "HBox(children=(IntProgress(value=1, bar_style='info', max=1), HTML(value='')))"
      ]
     },
     "metadata": {},
     "output_type": "display_data"
    },
    {
     "name": "stdout",
     "output_type": "stream",
     "text": [
      "\n"
     ]
    },
    {
     "data": {
      "application/vnd.jupyter.widget-view+json": {
       "model_id": "b7d739e527e04b369208261d1ac9244f",
       "version_major": 2,
       "version_minor": 0
      },
      "text/html": [
       "<p>Failed to display Jupyter Widget of type <code>HBox</code>.</p>\n",
       "<p>\n",
       "  If you're reading this message in Jupyter Notebook or JupyterLab, it may mean\n",
       "  that the widgets JavaScript is still loading. If this message persists, it\n",
       "  likely means that the widgets JavaScript library is either not installed or\n",
       "  not enabled. See the <a href=\"https://ipywidgets.readthedocs.io/en/stable/user_install.html\">Jupyter\n",
       "  Widgets Documentation</a> for setup instructions.\n",
       "</p>\n",
       "<p>\n",
       "  If you're reading this message in another notebook frontend (for example, a static\n",
       "  rendering on GitHub or <a href=\"https://nbviewer.jupyter.org/\">NBViewer</a>),\n",
       "  it may mean that your frontend doesn't currently support widgets.\n",
       "</p>\n"
      ],
      "text/plain": [
       "HBox(children=(IntProgress(value=1, bar_style='info', max=1), HTML(value='')))"
      ]
     },
     "metadata": {},
     "output_type": "display_data"
    },
    {
     "name": "stdout",
     "output_type": "stream",
     "text": [
      "\n"
     ]
    }
   ],
   "source": [
    "urban = read_tweets('../../data/geo-gt1m.json/part-0000*')"
   ]
  },
  {
   "cell_type": "code",
   "execution_count": 20,
   "metadata": {},
   "outputs": [],
   "source": [
    "rural_model = Word2Vec(rural, workers=8)"
   ]
  },
  {
   "cell_type": "code",
   "execution_count": 22,
   "metadata": {},
   "outputs": [],
   "source": [
    "urban_model = Word2Vec(urban, workers=8)"
   ]
  },
  {
   "cell_type": "code",
   "execution_count": 21,
   "metadata": {},
   "outputs": [
    {
     "data": {
      "text/plain": [
       "[('planet', 0.7829978466033936),\n",
       " ('dwell', 0.5269863605499268),\n",
       " ('world', 0.5174082517623901),\n",
       " ('universe', 0.5011920928955078),\n",
       " ('purpose', 0.4989180564880371),\n",
       " ('depending', 0.49261489510536194),\n",
       " ('mankind', 0.48292750120162964),\n",
       " ('christ', 0.47708719968795776),\n",
       " ('visible', 0.46374422311782837),\n",
       " ('species', 0.4624600410461426)]"
      ]
     },
     "execution_count": 21,
     "metadata": {},
     "output_type": "execute_result"
    }
   ],
   "source": [
    "rural_model.most_similar('earth')"
   ]
  },
  {
   "cell_type": "code",
   "execution_count": 23,
   "metadata": {},
   "outputs": [
    {
     "data": {
      "text/plain": [
       "[('planet', 0.8616721034049988),\n",
       " ('world', 0.5897253751754761),\n",
       " ('side', 0.5761807560920715),\n",
       " ('ocean', 0.574997067451477),\n",
       " ('purpose', 0.5739495158195496),\n",
       " ('soil', 0.5735812187194824),\n",
       " ('darkness', 0.5720939636230469),\n",
       " ('dwell', 0.5691649913787842),\n",
       " ('surface', 0.5686110854148865),\n",
       " ('path', 0.5609077215194702)]"
      ]
     },
     "execution_count": 23,
     "metadata": {},
     "output_type": "execute_result"
    }
   ],
   "source": [
    "urban_model.most_similar('earth')"
   ]
  },
  {
   "cell_type": "code",
   "execution_count": 52,
   "metadata": {},
   "outputs": [],
   "source": [
    "def score_shift(m1, m2, token, n=10):\n",
    "    \n",
    "    m1_similar = [t for t, _ in m1.most_similar(token, topn=n)]\n",
    "    m2_similar = [t for t, _ in m2.most_similar(token, topn=n)]\n",
    "    \n",
    "    score = 0\n",
    "    for t1, t2 in product(m1_similar, m2_similar):\n",
    "        score += m2.similarity(t1, t2)\n",
    "        \n",
    "    return score"
   ]
  },
  {
   "cell_type": "code",
   "execution_count": 53,
   "metadata": {},
   "outputs": [
    {
     "data": {
      "text/plain": [
       "49.193618851642924"
      ]
     },
     "execution_count": 53,
     "metadata": {},
     "output_type": "execute_result"
    }
   ],
   "source": [
    "score_shift(urban_model, rural_model, 'fuck')"
   ]
  },
  {
   "cell_type": "code",
   "execution_count": 126,
   "metadata": {
    "scrolled": false
   },
   "outputs": [],
   "source": [
    "data = []\n",
    "\n",
    "for token in top_n_list('en', 5000):\n",
    "    try:\n",
    "        score = score_shift(urban_model, rural_model, token)\n",
    "        data.append((token, score))\n",
    "    except: pass"
   ]
  },
  {
   "cell_type": "code",
   "execution_count": 127,
   "metadata": {},
   "outputs": [],
   "source": [
    "df = pd.DataFrame(data, columns=('token', 'score'))"
   ]
  },
  {
   "cell_type": "code",
   "execution_count": 146,
   "metadata": {
    "scrolled": false
   },
   "outputs": [
    {
     "data": {
      "text/html": [
       "<div>\n",
       "<style>\n",
       "    .dataframe thead tr:only-child th {\n",
       "        text-align: right;\n",
       "    }\n",
       "\n",
       "    .dataframe thead th {\n",
       "        text-align: left;\n",
       "    }\n",
       "\n",
       "    .dataframe tbody tr th {\n",
       "        vertical-align: top;\n",
       "    }\n",
       "</style>\n",
       "<table border=\"1\" class=\"dataframe\">\n",
       "  <thead>\n",
       "    <tr style=\"text-align: right;\">\n",
       "      <th></th>\n",
       "      <th>token</th>\n",
       "      <th>score</th>\n",
       "    </tr>\n",
       "  </thead>\n",
       "  <tbody>\n",
       "    <tr>\n",
       "      <th>1048</th>\n",
       "      <td>lady</td>\n",
       "      <td>-5.571520</td>\n",
       "    </tr>\n",
       "    <tr>\n",
       "      <th>3903</th>\n",
       "      <td>stranger</td>\n",
       "      <td>0.839832</td>\n",
       "    </tr>\n",
       "    <tr>\n",
       "      <th>2005</th>\n",
       "      <td>ma</td>\n",
       "      <td>1.924596</td>\n",
       "    </tr>\n",
       "    <tr>\n",
       "      <th>1824</th>\n",
       "      <td>sat</td>\n",
       "      <td>3.972938</td>\n",
       "    </tr>\n",
       "    <tr>\n",
       "      <th>2629</th>\n",
       "      <td>drew</td>\n",
       "      <td>6.056310</td>\n",
       "    </tr>\n",
       "    <tr>\n",
       "      <th>2960</th>\n",
       "      <td>occasionally</td>\n",
       "      <td>7.195861</td>\n",
       "    </tr>\n",
       "    <tr>\n",
       "      <th>3504</th>\n",
       "      <td>sessions</td>\n",
       "      <td>8.395590</td>\n",
       "    </tr>\n",
       "    <tr>\n",
       "      <th>1073</th>\n",
       "      <td>russian</td>\n",
       "      <td>8.973371</td>\n",
       "    </tr>\n",
       "    <tr>\n",
       "      <th>2321</th>\n",
       "      <td>bush</td>\n",
       "      <td>9.178413</td>\n",
       "    </tr>\n",
       "    <tr>\n",
       "      <th>3334</th>\n",
       "      <td>genuine</td>\n",
       "      <td>9.217894</td>\n",
       "    </tr>\n",
       "    <tr>\n",
       "      <th>952</th>\n",
       "      <td>track</td>\n",
       "      <td>9.228902</td>\n",
       "    </tr>\n",
       "    <tr>\n",
       "      <th>2443</th>\n",
       "      <td>bond</td>\n",
       "      <td>10.735021</td>\n",
       "    </tr>\n",
       "    <tr>\n",
       "      <th>2895</th>\n",
       "      <td>hopes</td>\n",
       "      <td>10.944274</td>\n",
       "    </tr>\n",
       "    <tr>\n",
       "      <th>1397</th>\n",
       "      <td>mostly</td>\n",
       "      <td>11.495329</td>\n",
       "    </tr>\n",
       "    <tr>\n",
       "      <th>1828</th>\n",
       "      <td>supreme</td>\n",
       "      <td>12.481477</td>\n",
       "    </tr>\n",
       "    <tr>\n",
       "      <th>832</th>\n",
       "      <td>mark</td>\n",
       "      <td>13.427977</td>\n",
       "    </tr>\n",
       "    <tr>\n",
       "      <th>2517</th>\n",
       "      <td>raw</td>\n",
       "      <td>14.083244</td>\n",
       "    </tr>\n",
       "    <tr>\n",
       "      <th>512</th>\n",
       "      <td>main</td>\n",
       "      <td>14.143367</td>\n",
       "    </tr>\n",
       "    <tr>\n",
       "      <th>3783</th>\n",
       "      <td>realise</td>\n",
       "      <td>14.582635</td>\n",
       "    </tr>\n",
       "    <tr>\n",
       "      <th>471</th>\n",
       "      <td>march</td>\n",
       "      <td>15.087607</td>\n",
       "    </tr>\n",
       "    <tr>\n",
       "      <th>2651</th>\n",
       "      <td>rarely</td>\n",
       "      <td>15.206402</td>\n",
       "    </tr>\n",
       "    <tr>\n",
       "      <th>3355</th>\n",
       "      <td>rob</td>\n",
       "      <td>15.464453</td>\n",
       "    </tr>\n",
       "    <tr>\n",
       "      <th>774</th>\n",
       "      <td>race</td>\n",
       "      <td>16.076421</td>\n",
       "    </tr>\n",
       "    <tr>\n",
       "      <th>1998</th>\n",
       "      <td>drama</td>\n",
       "      <td>16.649184</td>\n",
       "    </tr>\n",
       "    <tr>\n",
       "      <th>3222</th>\n",
       "      <td>associate</td>\n",
       "      <td>16.958306</td>\n",
       "    </tr>\n",
       "    <tr>\n",
       "      <th>781</th>\n",
       "      <td>w</td>\n",
       "      <td>17.017894</td>\n",
       "    </tr>\n",
       "    <tr>\n",
       "      <th>3773</th>\n",
       "      <td>noble</td>\n",
       "      <td>17.222095</td>\n",
       "    </tr>\n",
       "    <tr>\n",
       "      <th>1964</th>\n",
       "      <td>mainly</td>\n",
       "      <td>17.683799</td>\n",
       "    </tr>\n",
       "    <tr>\n",
       "      <th>3050</th>\n",
       "      <td>masters</td>\n",
       "      <td>18.217924</td>\n",
       "    </tr>\n",
       "    <tr>\n",
       "      <th>3413</th>\n",
       "      <td>sec</td>\n",
       "      <td>18.294153</td>\n",
       "    </tr>\n",
       "    <tr>\n",
       "      <th>928</th>\n",
       "      <td>fair</td>\n",
       "      <td>18.443568</td>\n",
       "    </tr>\n",
       "    <tr>\n",
       "      <th>1172</th>\n",
       "      <td>k</td>\n",
       "      <td>18.519634</td>\n",
       "    </tr>\n",
       "    <tr>\n",
       "      <th>1833</th>\n",
       "      <td>banks</td>\n",
       "      <td>18.654435</td>\n",
       "    </tr>\n",
       "    <tr>\n",
       "      <th>3286</th>\n",
       "      <td>gates</td>\n",
       "      <td>18.700712</td>\n",
       "    </tr>\n",
       "    <tr>\n",
       "      <th>1055</th>\n",
       "      <td>regular</td>\n",
       "      <td>18.941095</td>\n",
       "    </tr>\n",
       "    <tr>\n",
       "      <th>1400</th>\n",
       "      <td>pro</td>\n",
       "      <td>19.189859</td>\n",
       "    </tr>\n",
       "    <tr>\n",
       "      <th>3347</th>\n",
       "      <td>partly</td>\n",
       "      <td>19.233379</td>\n",
       "    </tr>\n",
       "    <tr>\n",
       "      <th>3759</th>\n",
       "      <td>guardian</td>\n",
       "      <td>19.275277</td>\n",
       "    </tr>\n",
       "    <tr>\n",
       "      <th>3720</th>\n",
       "      <td>pat</td>\n",
       "      <td>19.289054</td>\n",
       "    </tr>\n",
       "    <tr>\n",
       "      <th>1415</th>\n",
       "      <td>foundation</td>\n",
       "      <td>19.461035</td>\n",
       "    </tr>\n",
       "    <tr>\n",
       "      <th>3527</th>\n",
       "      <td>dawn</td>\n",
       "      <td>19.611730</td>\n",
       "    </tr>\n",
       "    <tr>\n",
       "      <th>2812</th>\n",
       "      <td>waters</td>\n",
       "      <td>19.613345</td>\n",
       "    </tr>\n",
       "    <tr>\n",
       "      <th>1665</th>\n",
       "      <td>surprise</td>\n",
       "      <td>19.620205</td>\n",
       "    </tr>\n",
       "    <tr>\n",
       "      <th>2248</th>\n",
       "      <td>estimated</td>\n",
       "      <td>19.678242</td>\n",
       "    </tr>\n",
       "    <tr>\n",
       "      <th>3452</th>\n",
       "      <td>steady</td>\n",
       "      <td>19.833653</td>\n",
       "    </tr>\n",
       "    <tr>\n",
       "      <th>509</th>\n",
       "      <td>especially</td>\n",
       "      <td>19.902497</td>\n",
       "    </tr>\n",
       "    <tr>\n",
       "      <th>2560</th>\n",
       "      <td>jan</td>\n",
       "      <td>19.906838</td>\n",
       "    </tr>\n",
       "    <tr>\n",
       "      <th>1567</th>\n",
       "      <td>duty</td>\n",
       "      <td>19.959138</td>\n",
       "    </tr>\n",
       "    <tr>\n",
       "      <th>3788</th>\n",
       "      <td>syndrome</td>\n",
       "      <td>20.084221</td>\n",
       "    </tr>\n",
       "    <tr>\n",
       "      <th>2410</th>\n",
       "      <td>formal</td>\n",
       "      <td>20.146141</td>\n",
       "    </tr>\n",
       "    <tr>\n",
       "      <th>1364</th>\n",
       "      <td>distance</td>\n",
       "      <td>20.164070</td>\n",
       "    </tr>\n",
       "    <tr>\n",
       "      <th>2565</th>\n",
       "      <td>marks</td>\n",
       "      <td>20.281860</td>\n",
       "    </tr>\n",
       "    <tr>\n",
       "      <th>1340</th>\n",
       "      <td>jack</td>\n",
       "      <td>20.466917</td>\n",
       "    </tr>\n",
       "    <tr>\n",
       "      <th>2861</th>\n",
       "      <td>semi</td>\n",
       "      <td>20.646792</td>\n",
       "    </tr>\n",
       "    <tr>\n",
       "      <th>2919</th>\n",
       "      <td>afterwards</td>\n",
       "      <td>20.677866</td>\n",
       "    </tr>\n",
       "    <tr>\n",
       "      <th>2077</th>\n",
       "      <td>falls</td>\n",
       "      <td>20.725896</td>\n",
       "    </tr>\n",
       "    <tr>\n",
       "      <th>2511</th>\n",
       "      <td>marked</td>\n",
       "      <td>20.818086</td>\n",
       "    </tr>\n",
       "    <tr>\n",
       "      <th>1469</th>\n",
       "      <td>liked</td>\n",
       "      <td>20.892950</td>\n",
       "    </tr>\n",
       "    <tr>\n",
       "      <th>3388</th>\n",
       "      <td>funeral</td>\n",
       "      <td>21.056827</td>\n",
       "    </tr>\n",
       "    <tr>\n",
       "      <th>2554</th>\n",
       "      <td>faced</td>\n",
       "      <td>21.370211</td>\n",
       "    </tr>\n",
       "    <tr>\n",
       "      <th>3283</th>\n",
       "      <td>fame</td>\n",
       "      <td>21.400260</td>\n",
       "    </tr>\n",
       "    <tr>\n",
       "      <th>2926</th>\n",
       "      <td>clock</td>\n",
       "      <td>21.448857</td>\n",
       "    </tr>\n",
       "    <tr>\n",
       "      <th>387</th>\n",
       "      <td>single</td>\n",
       "      <td>21.832514</td>\n",
       "    </tr>\n",
       "    <tr>\n",
       "      <th>803</th>\n",
       "      <td>boys</td>\n",
       "      <td>21.979826</td>\n",
       "    </tr>\n",
       "    <tr>\n",
       "      <th>1523</th>\n",
       "      <td>apple</td>\n",
       "      <td>22.008714</td>\n",
       "    </tr>\n",
       "    <tr>\n",
       "      <th>102</th>\n",
       "      <td>here</td>\n",
       "      <td>22.061236</td>\n",
       "    </tr>\n",
       "    <tr>\n",
       "      <th>1005</th>\n",
       "      <td>interested</td>\n",
       "      <td>22.257585</td>\n",
       "    </tr>\n",
       "    <tr>\n",
       "      <th>1287</th>\n",
       "      <td>labor</td>\n",
       "      <td>22.394272</td>\n",
       "    </tr>\n",
       "    <tr>\n",
       "      <th>1060</th>\n",
       "      <td>wide</td>\n",
       "      <td>22.693268</td>\n",
       "    </tr>\n",
       "    <tr>\n",
       "      <th>2160</th>\n",
       "      <td>mm</td>\n",
       "      <td>22.991740</td>\n",
       "    </tr>\n",
       "    <tr>\n",
       "      <th>669</th>\n",
       "      <td>official</td>\n",
       "      <td>23.013374</td>\n",
       "    </tr>\n",
       "    <tr>\n",
       "      <th>2074</th>\n",
       "      <td>ending</td>\n",
       "      <td>23.017901</td>\n",
       "    </tr>\n",
       "    <tr>\n",
       "      <th>457</th>\n",
       "      <td>clear</td>\n",
       "      <td>23.029706</td>\n",
       "    </tr>\n",
       "    <tr>\n",
       "      <th>3792</th>\n",
       "      <td>traveling</td>\n",
       "      <td>23.123236</td>\n",
       "    </tr>\n",
       "    <tr>\n",
       "      <th>3012</th>\n",
       "      <td>rapidly</td>\n",
       "      <td>23.176166</td>\n",
       "    </tr>\n",
       "    <tr>\n",
       "      <th>1488</th>\n",
       "      <td>wild</td>\n",
       "      <td>23.198560</td>\n",
       "    </tr>\n",
       "    <tr>\n",
       "      <th>1308</th>\n",
       "      <td>challenge</td>\n",
       "      <td>23.229867</td>\n",
       "    </tr>\n",
       "    <tr>\n",
       "      <th>180</th>\n",
       "      <td>please</td>\n",
       "      <td>23.594106</td>\n",
       "    </tr>\n",
       "    <tr>\n",
       "      <th>4059</th>\n",
       "      <td>trace</td>\n",
       "      <td>23.643492</td>\n",
       "    </tr>\n",
       "    <tr>\n",
       "      <th>2401</th>\n",
       "      <td>conclusion</td>\n",
       "      <td>23.956292</td>\n",
       "    </tr>\n",
       "    <tr>\n",
       "      <th>2434</th>\n",
       "      <td>switch</td>\n",
       "      <td>23.959382</td>\n",
       "    </tr>\n",
       "    <tr>\n",
       "      <th>2920</th>\n",
       "      <td>aged</td>\n",
       "      <td>24.007685</td>\n",
       "    </tr>\n",
       "    <tr>\n",
       "      <th>864</th>\n",
       "      <td>beginning</td>\n",
       "      <td>24.053779</td>\n",
       "    </tr>\n",
       "    <tr>\n",
       "      <th>3544</th>\n",
       "      <td>legitimate</td>\n",
       "      <td>24.077816</td>\n",
       "    </tr>\n",
       "    <tr>\n",
       "      <th>3806</th>\n",
       "      <td>competing</td>\n",
       "      <td>24.082711</td>\n",
       "    </tr>\n",
       "    <tr>\n",
       "      <th>1264</th>\n",
       "      <td>remains</td>\n",
       "      <td>24.294793</td>\n",
       "    </tr>\n",
       "    <tr>\n",
       "      <th>2572</th>\n",
       "      <td>regularly</td>\n",
       "      <td>24.358529</td>\n",
       "    </tr>\n",
       "    <tr>\n",
       "      <th>2056</th>\n",
       "      <td>wars</td>\n",
       "      <td>24.552806</td>\n",
       "    </tr>\n",
       "    <tr>\n",
       "      <th>636</th>\n",
       "      <td>began</td>\n",
       "      <td>24.580048</td>\n",
       "    </tr>\n",
       "    <tr>\n",
       "      <th>1348</th>\n",
       "      <td>prime</td>\n",
       "      <td>24.619747</td>\n",
       "    </tr>\n",
       "    <tr>\n",
       "      <th>3870</th>\n",
       "      <td>consistently</td>\n",
       "      <td>24.874849</td>\n",
       "    </tr>\n",
       "    <tr>\n",
       "      <th>974</th>\n",
       "      <td>degree</td>\n",
       "      <td>24.911294</td>\n",
       "    </tr>\n",
       "    <tr>\n",
       "      <th>505</th>\n",
       "      <td>chance</td>\n",
       "      <td>24.998757</td>\n",
       "    </tr>\n",
       "    <tr>\n",
       "      <th>3664</th>\n",
       "      <td>moderate</td>\n",
       "      <td>25.064018</td>\n",
       "    </tr>\n",
       "    <tr>\n",
       "      <th>2650</th>\n",
       "      <td>racing</td>\n",
       "      <td>25.160563</td>\n",
       "    </tr>\n",
       "    <tr>\n",
       "      <th>257</th>\n",
       "      <td>full</td>\n",
       "      <td>25.163058</td>\n",
       "    </tr>\n",
       "    <tr>\n",
       "      <th>3723</th>\n",
       "      <td>seal</td>\n",
       "      <td>25.190073</td>\n",
       "    </tr>\n",
       "    <tr>\n",
       "      <th>2940</th>\n",
       "      <td>gene</td>\n",
       "      <td>25.213850</td>\n",
       "    </tr>\n",
       "    <tr>\n",
       "      <th>2684</th>\n",
       "      <td>covers</td>\n",
       "      <td>25.236564</td>\n",
       "    </tr>\n",
       "    <tr>\n",
       "      <th>962</th>\n",
       "      <td>immediately</td>\n",
       "      <td>25.324139</td>\n",
       "    </tr>\n",
       "    <tr>\n",
       "      <th>2116</th>\n",
       "      <td>hardly</td>\n",
       "      <td>25.355895</td>\n",
       "    </tr>\n",
       "    <tr>\n",
       "      <th>1259</th>\n",
       "      <td>placed</td>\n",
       "      <td>25.430777</td>\n",
       "    </tr>\n",
       "    <tr>\n",
       "      <th>3203</th>\n",
       "      <td>races</td>\n",
       "      <td>25.467932</td>\n",
       "    </tr>\n",
       "    <tr>\n",
       "      <th>657</th>\n",
       "      <td>worth</td>\n",
       "      <td>25.515788</td>\n",
       "    </tr>\n",
       "    <tr>\n",
       "      <th>3115</th>\n",
       "      <td>saint</td>\n",
       "      <td>25.783769</td>\n",
       "    </tr>\n",
       "    <tr>\n",
       "      <th>3554</th>\n",
       "      <td>quest</td>\n",
       "      <td>25.882452</td>\n",
       "    </tr>\n",
       "    <tr>\n",
       "      <th>776</th>\n",
       "      <td>section</td>\n",
       "      <td>25.961690</td>\n",
       "    </tr>\n",
       "    <tr>\n",
       "      <th>1857</th>\n",
       "      <td>planned</td>\n",
       "      <td>25.985322</td>\n",
       "    </tr>\n",
       "    <tr>\n",
       "      <th>2102</th>\n",
       "      <td>aside</td>\n",
       "      <td>26.004307</td>\n",
       "    </tr>\n",
       "    <tr>\n",
       "      <th>236</th>\n",
       "      <td>top</td>\n",
       "      <td>26.072487</td>\n",
       "    </tr>\n",
       "    <tr>\n",
       "      <th>2083</th>\n",
       "      <td>independence</td>\n",
       "      <td>26.100655</td>\n",
       "    </tr>\n",
       "    <tr>\n",
       "      <th>75</th>\n",
       "      <td>our</td>\n",
       "      <td>26.145149</td>\n",
       "    </tr>\n",
       "    <tr>\n",
       "      <th>3846</th>\n",
       "      <td>revenge</td>\n",
       "      <td>26.298413</td>\n",
       "    </tr>\n",
       "    <tr>\n",
       "      <th>3605</th>\n",
       "      <td>mill</td>\n",
       "      <td>26.300800</td>\n",
       "    </tr>\n",
       "    <tr>\n",
       "      <th>69</th>\n",
       "      <td>than</td>\n",
       "      <td>26.330660</td>\n",
       "    </tr>\n",
       "    <tr>\n",
       "      <th>858</th>\n",
       "      <td>pressure</td>\n",
       "      <td>26.385671</td>\n",
       "    </tr>\n",
       "    <tr>\n",
       "      <th>2598</th>\n",
       "      <td>korean</td>\n",
       "      <td>26.411262</td>\n",
       "    </tr>\n",
       "    <tr>\n",
       "      <th>850</th>\n",
       "      <td>below</td>\n",
       "      <td>26.512081</td>\n",
       "    </tr>\n",
       "    <tr>\n",
       "      <th>735</th>\n",
       "      <td>led</td>\n",
       "      <td>26.602215</td>\n",
       "    </tr>\n",
       "    <tr>\n",
       "      <th>423</th>\n",
       "      <td>deal</td>\n",
       "      <td>26.651824</td>\n",
       "    </tr>\n",
       "    <tr>\n",
       "      <th>2447</th>\n",
       "      <td>constantly</td>\n",
       "      <td>26.713818</td>\n",
       "    </tr>\n",
       "    <tr>\n",
       "      <th>400</th>\n",
       "      <td>age</td>\n",
       "      <td>26.738022</td>\n",
       "    </tr>\n",
       "    <tr>\n",
       "      <th>1298</th>\n",
       "      <td>till</td>\n",
       "      <td>26.787483</td>\n",
       "    </tr>\n",
       "    <tr>\n",
       "      <th>2558</th>\n",
       "      <td>household</td>\n",
       "      <td>26.827566</td>\n",
       "    </tr>\n",
       "    <tr>\n",
       "      <th>47</th>\n",
       "      <td>has</td>\n",
       "      <td>26.896892</td>\n",
       "    </tr>\n",
       "    <tr>\n",
       "      <th>3475</th>\n",
       "      <td>dare</td>\n",
       "      <td>27.052916</td>\n",
       "    </tr>\n",
       "    <tr>\n",
       "      <th>2389</th>\n",
       "      <td>rising</td>\n",
       "      <td>27.143595</td>\n",
       "    </tr>\n",
       "    <tr>\n",
       "      <th>2934</th>\n",
       "      <td>entering</td>\n",
       "      <td>27.209101</td>\n",
       "    </tr>\n",
       "    <tr>\n",
       "      <th>1267</th>\n",
       "      <td>separate</td>\n",
       "      <td>27.311626</td>\n",
       "    </tr>\n",
       "    <tr>\n",
       "      <th>164</th>\n",
       "      <td>high</td>\n",
       "      <td>27.345377</td>\n",
       "    </tr>\n",
       "    <tr>\n",
       "      <th>2892</th>\n",
       "      <td>flash</td>\n",
       "      <td>27.348814</td>\n",
       "    </tr>\n",
       "    <tr>\n",
       "      <th>26</th>\n",
       "      <td>or</td>\n",
       "      <td>27.446234</td>\n",
       "    </tr>\n",
       "    <tr>\n",
       "      <th>24</th>\n",
       "      <td>from</td>\n",
       "      <td>27.486716</td>\n",
       "    </tr>\n",
       "    <tr>\n",
       "      <th>934</th>\n",
       "      <td>previous</td>\n",
       "      <td>27.549892</td>\n",
       "    </tr>\n",
       "    <tr>\n",
       "      <th>2112</th>\n",
       "      <td>download</td>\n",
       "      <td>27.553531</td>\n",
       "    </tr>\n",
       "    <tr>\n",
       "      <th>659</th>\n",
       "      <td>bank</td>\n",
       "      <td>27.618289</td>\n",
       "    </tr>\n",
       "    <tr>\n",
       "      <th>4062</th>\n",
       "      <td>trigger</td>\n",
       "      <td>27.652311</td>\n",
       "    </tr>\n",
       "    <tr>\n",
       "      <th>3056</th>\n",
       "      <td>nowhere</td>\n",
       "      <td>27.656180</td>\n",
       "    </tr>\n",
       "    <tr>\n",
       "      <th>1561</th>\n",
       "      <td>cast</td>\n",
       "      <td>27.726521</td>\n",
       "    </tr>\n",
       "    <tr>\n",
       "      <th>3024</th>\n",
       "      <td>chase</td>\n",
       "      <td>27.848001</td>\n",
       "    </tr>\n",
       "    <tr>\n",
       "      <th>1721</th>\n",
       "      <td>reaction</td>\n",
       "      <td>27.864870</td>\n",
       "    </tr>\n",
       "    <tr>\n",
       "      <th>3703</th>\n",
       "      <td>edit</td>\n",
       "      <td>27.884761</td>\n",
       "    </tr>\n",
       "    <tr>\n",
       "      <th>2613</th>\n",
       "      <td>tape</td>\n",
       "      <td>27.901235</td>\n",
       "    </tr>\n",
       "    <tr>\n",
       "      <th>2767</th>\n",
       "      <td>tag</td>\n",
       "      <td>28.006077</td>\n",
       "    </tr>\n",
       "    <tr>\n",
       "      <th>2142</th>\n",
       "      <td>bowl</td>\n",
       "      <td>28.019639</td>\n",
       "    </tr>\n",
       "    <tr>\n",
       "      <th>2117</th>\n",
       "      <td>jersey</td>\n",
       "      <td>28.130551</td>\n",
       "    </tr>\n",
       "    <tr>\n",
       "      <th>22</th>\n",
       "      <td>at</td>\n",
       "      <td>28.167282</td>\n",
       "    </tr>\n",
       "    <tr>\n",
       "      <th>4035</th>\n",
       "      <td>partial</td>\n",
       "      <td>28.221556</td>\n",
       "    </tr>\n",
       "    <tr>\n",
       "      <th>1556</th>\n",
       "      <td>apply</td>\n",
       "      <td>28.334474</td>\n",
       "    </tr>\n",
       "    <tr>\n",
       "      <th>3490</th>\n",
       "      <td>mutual</td>\n",
       "      <td>28.456389</td>\n",
       "    </tr>\n",
       "    <tr>\n",
       "      <th>3963</th>\n",
       "      <td>palm</td>\n",
       "      <td>28.544468</td>\n",
       "    </tr>\n",
       "    <tr>\n",
       "      <th>3464</th>\n",
       "      <td>approaches</td>\n",
       "      <td>28.572569</td>\n",
       "    </tr>\n",
       "    <tr>\n",
       "      <th>599</th>\n",
       "      <td>shows</td>\n",
       "      <td>28.623560</td>\n",
       "    </tr>\n",
       "    <tr>\n",
       "      <th>2385</th>\n",
       "      <td>personally</td>\n",
       "      <td>28.624266</td>\n",
       "    </tr>\n",
       "    <tr>\n",
       "      <th>40</th>\n",
       "      <td>about</td>\n",
       "      <td>28.626815</td>\n",
       "    </tr>\n",
       "    <tr>\n",
       "      <th>827</th>\n",
       "      <td>daily</td>\n",
       "      <td>28.661649</td>\n",
       "    </tr>\n",
       "    <tr>\n",
       "      <th>216</th>\n",
       "      <td>point</td>\n",
       "      <td>28.713424</td>\n",
       "    </tr>\n",
       "    <tr>\n",
       "      <th>382</th>\n",
       "      <td>close</td>\n",
       "      <td>28.933592</td>\n",
       "    </tr>\n",
       "    <tr>\n",
       "      <th>3922</th>\n",
       "      <td>choosing</td>\n",
       "      <td>28.959386</td>\n",
       "    </tr>\n",
       "    <tr>\n",
       "      <th>248</th>\n",
       "      <td>live</td>\n",
       "      <td>29.021546</td>\n",
       "    </tr>\n",
       "    <tr>\n",
       "      <th>906</th>\n",
       "      <td>region</td>\n",
       "      <td>29.073588</td>\n",
       "    </tr>\n",
       "    <tr>\n",
       "      <th>2643</th>\n",
       "      <td>officially</td>\n",
       "      <td>29.159047</td>\n",
       "    </tr>\n",
       "    <tr>\n",
       "      <th>1496</th>\n",
       "      <td>entirely</td>\n",
       "      <td>29.185409</td>\n",
       "    </tr>\n",
       "    <tr>\n",
       "      <th>68</th>\n",
       "      <td>its</td>\n",
       "      <td>29.245327</td>\n",
       "    </tr>\n",
       "    <tr>\n",
       "      <th>941</th>\n",
       "      <td>brown</td>\n",
       "      <td>29.247325</td>\n",
       "    </tr>\n",
       "    <tr>\n",
       "      <th>3126</th>\n",
       "      <td>arrive</td>\n",
       "      <td>29.278583</td>\n",
       "    </tr>\n",
       "    <tr>\n",
       "      <th>195</th>\n",
       "      <td>number</td>\n",
       "      <td>29.353631</td>\n",
       "    </tr>\n",
       "    <tr>\n",
       "      <th>65</th>\n",
       "      <td>now</td>\n",
       "      <td>29.441164</td>\n",
       "    </tr>\n",
       "    <tr>\n",
       "      <th>21</th>\n",
       "      <td>he</td>\n",
       "      <td>29.484306</td>\n",
       "    </tr>\n",
       "    <tr>\n",
       "      <th>3031</th>\n",
       "      <td>consideration</td>\n",
       "      <td>29.523314</td>\n",
       "    </tr>\n",
       "    <tr>\n",
       "      <th>2212</th>\n",
       "      <td>pleasure</td>\n",
       "      <td>29.532717</td>\n",
       "    </tr>\n",
       "    <tr>\n",
       "      <th>2757</th>\n",
       "      <td>pope</td>\n",
       "      <td>29.544750</td>\n",
       "    </tr>\n",
       "    <tr>\n",
       "      <th>546</th>\n",
       "      <td>middle</td>\n",
       "      <td>29.621807</td>\n",
       "    </tr>\n",
       "    <tr>\n",
       "      <th>2438</th>\n",
       "      <td>ultimate</td>\n",
       "      <td>29.650398</td>\n",
       "    </tr>\n",
       "    <tr>\n",
       "      <th>1177</th>\n",
       "      <td>opening</td>\n",
       "      <td>29.651698</td>\n",
       "    </tr>\n",
       "    <tr>\n",
       "      <th>3850</th>\n",
       "      <td>sacred</td>\n",
       "      <td>29.688715</td>\n",
       "    </tr>\n",
       "    <tr>\n",
       "      <th>2168</th>\n",
       "      <td>random</td>\n",
       "      <td>29.856973</td>\n",
       "    </tr>\n",
       "    <tr>\n",
       "      <th>1939</th>\n",
       "      <td>advance</td>\n",
       "      <td>29.870994</td>\n",
       "    </tr>\n",
       "    <tr>\n",
       "      <th>1520</th>\n",
       "      <td>yours</td>\n",
       "      <td>29.882276</td>\n",
       "    </tr>\n",
       "    <tr>\n",
       "      <th>3488</th>\n",
       "      <td>mars</td>\n",
       "      <td>29.902472</td>\n",
       "    </tr>\n",
       "    <tr>\n",
       "      <th>992</th>\n",
       "      <td>agree</td>\n",
       "      <td>30.005322</td>\n",
       "    </tr>\n",
       "    <tr>\n",
       "      <th>3052</th>\n",
       "      <td>mothers</td>\n",
       "      <td>30.049213</td>\n",
       "    </tr>\n",
       "    <tr>\n",
       "      <th>1839</th>\n",
       "      <td>crew</td>\n",
       "      <td>30.057878</td>\n",
       "    </tr>\n",
       "    <tr>\n",
       "      <th>2100</th>\n",
       "      <td>wave</td>\n",
       "      <td>30.077050</td>\n",
       "    </tr>\n",
       "    <tr>\n",
       "      <th>1882</th>\n",
       "      <td>index</td>\n",
       "      <td>30.081453</td>\n",
       "    </tr>\n",
       "    <tr>\n",
       "      <th>1847</th>\n",
       "      <td>falling</td>\n",
       "      <td>30.104568</td>\n",
       "    </tr>\n",
       "    <tr>\n",
       "      <th>2325</th>\n",
       "      <td>category</td>\n",
       "      <td>30.160634</td>\n",
       "    </tr>\n",
       "    <tr>\n",
       "      <th>3220</th>\n",
       "      <td>arrival</td>\n",
       "      <td>30.170790</td>\n",
       "    </tr>\n",
       "    <tr>\n",
       "      <th>1651</th>\n",
       "      <td>joint</td>\n",
       "      <td>30.175938</td>\n",
       "    </tr>\n",
       "    <tr>\n",
       "      <th>1863</th>\n",
       "      <td>slowly</td>\n",
       "      <td>30.195603</td>\n",
       "    </tr>\n",
       "    <tr>\n",
       "      <th>2300</th>\n",
       "      <td>relative</td>\n",
       "      <td>30.207328</td>\n",
       "    </tr>\n",
       "    <tr>\n",
       "      <th>3706</th>\n",
       "      <td>experiments</td>\n",
       "      <td>30.235805</td>\n",
       "    </tr>\n",
       "    <tr>\n",
       "      <th>2743</th>\n",
       "      <td>hollywood</td>\n",
       "      <td>30.263743</td>\n",
       "    </tr>\n",
       "    <tr>\n",
       "      <th>3447</th>\n",
       "      <td>ruled</td>\n",
       "      <td>30.319604</td>\n",
       "    </tr>\n",
       "    <tr>\n",
       "      <th>3057</th>\n",
       "      <td>occurs</td>\n",
       "      <td>30.324052</td>\n",
       "    </tr>\n",
       "    <tr>\n",
       "      <th>950</th>\n",
       "      <td>significant</td>\n",
       "      <td>30.361743</td>\n",
       "    </tr>\n",
       "    <tr>\n",
       "      <th>640</th>\n",
       "      <td>date</td>\n",
       "      <td>30.441587</td>\n",
       "    </tr>\n",
       "    <tr>\n",
       "      <th>2333</th>\n",
       "      <td>load</td>\n",
       "      <td>30.465353</td>\n",
       "    </tr>\n",
       "    <tr>\n",
       "      <th>2</th>\n",
       "      <td>of</td>\n",
       "      <td>30.551267</td>\n",
       "    </tr>\n",
       "    <tr>\n",
       "      <th>2605</th>\n",
       "      <td>returning</td>\n",
       "      <td>30.574291</td>\n",
       "    </tr>\n",
       "    <tr>\n",
       "      <th>1805</th>\n",
       "      <td>everywhere</td>\n",
       "      <td>30.576772</td>\n",
       "    </tr>\n",
       "    <tr>\n",
       "      <th>700</th>\n",
       "      <td>hell</td>\n",
       "      <td>30.580196</td>\n",
       "    </tr>\n",
       "    <tr>\n",
       "      <th>617</th>\n",
       "      <td>upon</td>\n",
       "      <td>30.580223</td>\n",
       "    </tr>\n",
       "    <tr>\n",
       "      <th>2694</th>\n",
       "      <td>grounds</td>\n",
       "      <td>30.609159</td>\n",
       "    </tr>\n",
       "    <tr>\n",
       "      <th>3736</th>\n",
       "      <td>tune</td>\n",
       "      <td>30.633162</td>\n",
       "    </tr>\n",
       "    <tr>\n",
       "      <th>2843</th>\n",
       "      <td>gang</td>\n",
       "      <td>30.634794</td>\n",
       "    </tr>\n",
       "    <tr>\n",
       "      <th>3868</th>\n",
       "      <td>burns</td>\n",
       "      <td>30.643678</td>\n",
       "    </tr>\n",
       "    <tr>\n",
       "      <th>3046</th>\n",
       "      <td>kings</td>\n",
       "      <td>30.656558</td>\n",
       "    </tr>\n",
       "    <tr>\n",
       "      <th>183</th>\n",
       "      <td>end</td>\n",
       "      <td>30.698242</td>\n",
       "    </tr>\n",
       "    <tr>\n",
       "      <th>951</th>\n",
       "      <td>throughout</td>\n",
       "      <td>30.722518</td>\n",
       "    </tr>\n",
       "    <tr>\n",
       "      <th>3285</th>\n",
       "      <td>fortune</td>\n",
       "      <td>30.726730</td>\n",
       "    </tr>\n",
       "    <tr>\n",
       "      <th>1144</th>\n",
       "      <td>extra</td>\n",
       "      <td>30.867195</td>\n",
       "    </tr>\n",
       "    <tr>\n",
       "      <th>217</th>\n",
       "      <td>free</td>\n",
       "      <td>30.892362</td>\n",
       "    </tr>\n",
       "    <tr>\n",
       "      <th>3901</th>\n",
       "      <td>slight</td>\n",
       "      <td>30.914317</td>\n",
       "    </tr>\n",
       "    <tr>\n",
       "      <th>3915</th>\n",
       "      <td>bin</td>\n",
       "      <td>31.025576</td>\n",
       "    </tr>\n",
       "    <tr>\n",
       "      <th>19</th>\n",
       "      <td>have</td>\n",
       "      <td>31.124751</td>\n",
       "    </tr>\n",
       "    <tr>\n",
       "      <th>3263</th>\n",
       "      <td>bears</td>\n",
       "      <td>31.129349</td>\n",
       "    </tr>\n",
       "    <tr>\n",
       "      <th>876</th>\n",
       "      <td>quickly</td>\n",
       "      <td>31.172131</td>\n",
       "    </tr>\n",
       "    <tr>\n",
       "      <th>288</th>\n",
       "      <td>party</td>\n",
       "      <td>31.226254</td>\n",
       "    </tr>\n",
       "    <tr>\n",
       "      <th>4028</th>\n",
       "      <td>fever</td>\n",
       "      <td>31.263354</td>\n",
       "    </tr>\n",
       "    <tr>\n",
       "      <th>2521</th>\n",
       "      <td>shortly</td>\n",
       "      <td>31.339932</td>\n",
       "    </tr>\n",
       "    <tr>\n",
       "      <th>958</th>\n",
       "      <td>expected</td>\n",
       "      <td>31.380940</td>\n",
       "    </tr>\n",
       "    <tr>\n",
       "      <th>881</th>\n",
       "      <td>straight</td>\n",
       "      <td>31.404064</td>\n",
       "    </tr>\n",
       "    <tr>\n",
       "      <th>3968</th>\n",
       "      <td>photograph</td>\n",
       "      <td>31.448745</td>\n",
       "    </tr>\n",
       "    <tr>\n",
       "      <th>3243</th>\n",
       "      <td>lifetime</td>\n",
       "      <td>31.476042</td>\n",
       "    </tr>\n",
       "    <tr>\n",
       "      <th>187</th>\n",
       "      <td>show</td>\n",
       "      <td>31.539676</td>\n",
       "    </tr>\n",
       "    <tr>\n",
       "      <th>348</th>\n",
       "      <td>level</td>\n",
       "      <td>31.729140</td>\n",
       "    </tr>\n",
       "    <tr>\n",
       "      <th>283</th>\n",
       "      <td>order</td>\n",
       "      <td>31.733114</td>\n",
       "    </tr>\n",
       "    <tr>\n",
       "      <th>750</th>\n",
       "      <td>effect</td>\n",
       "      <td>31.866864</td>\n",
       "    </tr>\n",
       "    <tr>\n",
       "      <th>2529</th>\n",
       "      <td>tip</td>\n",
       "      <td>31.872245</td>\n",
       "    </tr>\n",
       "    <tr>\n",
       "      <th>3489</th>\n",
       "      <td>mechanical</td>\n",
       "      <td>31.901434</td>\n",
       "    </tr>\n",
       "    <tr>\n",
       "      <th>2025</th>\n",
       "      <td>catholic</td>\n",
       "      <td>31.901895</td>\n",
       "    </tr>\n",
       "    <tr>\n",
       "      <th>493</th>\n",
       "      <td>church</td>\n",
       "      <td>31.919919</td>\n",
       "    </tr>\n",
       "    <tr>\n",
       "      <th>14</th>\n",
       "      <td>with</td>\n",
       "      <td>31.975780</td>\n",
       "    </tr>\n",
       "    <tr>\n",
       "      <th>3003</th>\n",
       "      <td>nurse</td>\n",
       "      <td>31.983321</td>\n",
       "    </tr>\n",
       "    <tr>\n",
       "      <th>3680</th>\n",
       "      <td>spare</td>\n",
       "      <td>32.019195</td>\n",
       "    </tr>\n",
       "    <tr>\n",
       "      <th>176</th>\n",
       "      <td>next</td>\n",
       "      <td>32.025197</td>\n",
       "    </tr>\n",
       "    <tr>\n",
       "      <th>199</th>\n",
       "      <td>left</td>\n",
       "      <td>32.027789</td>\n",
       "    </tr>\n",
       "    <tr>\n",
       "      <th>150</th>\n",
       "      <td>little</td>\n",
       "      <td>32.087599</td>\n",
       "    </tr>\n",
       "    <tr>\n",
       "      <th>784</th>\n",
       "      <td>china</td>\n",
       "      <td>32.100332</td>\n",
       "    </tr>\n",
       "    <tr>\n",
       "      <th>2376</th>\n",
       "      <td>heavily</td>\n",
       "      <td>32.109390</td>\n",
       "    </tr>\n",
       "    <tr>\n",
       "      <th>3519</th>\n",
       "      <td>blast</td>\n",
       "      <td>32.116847</td>\n",
       "    </tr>\n",
       "    <tr>\n",
       "      <th>3569</th>\n",
       "      <td>ups</td>\n",
       "      <td>32.158461</td>\n",
       "    </tr>\n",
       "    <tr>\n",
       "      <th>3266</th>\n",
       "      <td>blues</td>\n",
       "      <td>32.195417</td>\n",
       "    </tr>\n",
       "    <tr>\n",
       "      <th>2859</th>\n",
       "      <td>root</td>\n",
       "      <td>32.275797</td>\n",
       "    </tr>\n",
       "    <tr>\n",
       "      <th>2917</th>\n",
       "      <td>achievement</td>\n",
       "      <td>32.290774</td>\n",
       "    </tr>\n",
       "    <tr>\n",
       "      <th>3373</th>\n",
       "      <td>boom</td>\n",
       "      <td>32.360390</td>\n",
       "    </tr>\n",
       "    <tr>\n",
       "      <th>1121</th>\n",
       "      <td>manager</td>\n",
       "      <td>32.365192</td>\n",
       "    </tr>\n",
       "    <tr>\n",
       "      <th>2009</th>\n",
       "      <td>quiet</td>\n",
       "      <td>32.370434</td>\n",
       "    </tr>\n",
       "    <tr>\n",
       "      <th>88</th>\n",
       "      <td>well</td>\n",
       "      <td>32.411270</td>\n",
       "    </tr>\n",
       "    <tr>\n",
       "      <th>1917</th>\n",
       "      <td>minor</td>\n",
       "      <td>32.419655</td>\n",
       "    </tr>\n",
       "    <tr>\n",
       "      <th>174</th>\n",
       "      <td>without</td>\n",
       "      <td>32.427968</td>\n",
       "    </tr>\n",
       "    <tr>\n",
       "      <th>3039</th>\n",
       "      <td>ghost</td>\n",
       "      <td>32.477918</td>\n",
       "    </tr>\n",
       "    <tr>\n",
       "      <th>1150</th>\n",
       "      <td>otherwise</td>\n",
       "      <td>32.490158</td>\n",
       "    </tr>\n",
       "    <tr>\n",
       "      <th>3239</th>\n",
       "      <td>heritage</td>\n",
       "      <td>32.496062</td>\n",
       "    </tr>\n",
       "    <tr>\n",
       "      <th>3168</th>\n",
       "      <td>alert</td>\n",
       "      <td>32.609908</td>\n",
       "    </tr>\n",
       "    <tr>\n",
       "      <th>4034</th>\n",
       "      <td>mere</td>\n",
       "      <td>32.621990</td>\n",
       "    </tr>\n",
       "    <tr>\n",
       "      <th>1841</th>\n",
       "      <td>crowd</td>\n",
       "      <td>32.648470</td>\n",
       "    </tr>\n",
       "    <tr>\n",
       "      <th>3975</th>\n",
       "      <td>rated</td>\n",
       "      <td>32.658053</td>\n",
       "    </tr>\n",
       "    <tr>\n",
       "      <th>397</th>\n",
       "      <td>soon</td>\n",
       "      <td>32.716640</td>\n",
       "    </tr>\n",
       "    <tr>\n",
       "      <th>3146</th>\n",
       "      <td>liberty</td>\n",
       "      <td>32.724360</td>\n",
       "    </tr>\n",
       "    <tr>\n",
       "      <th>1022</th>\n",
       "      <td>heavy</td>\n",
       "      <td>32.733514</td>\n",
       "    </tr>\n",
       "    <tr>\n",
       "      <th>1481</th>\n",
       "      <td>somewhere</td>\n",
       "      <td>32.747121</td>\n",
       "    </tr>\n",
       "    <tr>\n",
       "      <th>33</th>\n",
       "      <td>one</td>\n",
       "      <td>32.818437</td>\n",
       "    </tr>\n",
       "    <tr>\n",
       "      <th>2459</th>\n",
       "      <td>height</td>\n",
       "      <td>32.994976</td>\n",
       "    </tr>\n",
       "    <tr>\n",
       "      <th>2000</th>\n",
       "      <td>error</td>\n",
       "      <td>33.098099</td>\n",
       "    </tr>\n",
       "    <tr>\n",
       "      <th>2728</th>\n",
       "      <td>dean</td>\n",
       "      <td>33.117018</td>\n",
       "    </tr>\n",
       "    <tr>\n",
       "      <th>407</th>\n",
       "      <td>late</td>\n",
       "      <td>33.121695</td>\n",
       "    </tr>\n",
       "    <tr>\n",
       "      <th>811</th>\n",
       "      <td>note</td>\n",
       "      <td>33.183309</td>\n",
       "    </tr>\n",
       "    <tr>\n",
       "      <th>304</th>\n",
       "      <td>least</td>\n",
       "      <td>33.193578</td>\n",
       "    </tr>\n",
       "    <tr>\n",
       "      <th>1250</th>\n",
       "      <td>fully</td>\n",
       "      <td>33.274787</td>\n",
       "    </tr>\n",
       "    <tr>\n",
       "      <th>2018</th>\n",
       "      <td>typically</td>\n",
       "      <td>33.306162</td>\n",
       "    </tr>\n",
       "    <tr>\n",
       "      <th>559</th>\n",
       "      <td>present</td>\n",
       "      <td>33.313897</td>\n",
       "    </tr>\n",
       "    <tr>\n",
       "      <th>708</th>\n",
       "      <td>whose</td>\n",
       "      <td>33.316568</td>\n",
       "    </tr>\n",
       "    <tr>\n",
       "      <th>2465</th>\n",
       "      <td>mess</td>\n",
       "      <td>33.321616</td>\n",
       "    </tr>\n",
       "    <tr>\n",
       "      <th>287</th>\n",
       "      <td>open</td>\n",
       "      <td>33.331365</td>\n",
       "    </tr>\n",
       "    <tr>\n",
       "      <th>286</th>\n",
       "      <td>early</td>\n",
       "      <td>33.423014</td>\n",
       "    </tr>\n",
       "    <tr>\n",
       "      <th>3933</th>\n",
       "      <td>devoted</td>\n",
       "      <td>33.457342</td>\n",
       "    </tr>\n",
       "    <tr>\n",
       "      <th>2978</th>\n",
       "      <td>tracks</td>\n",
       "      <td>33.467496</td>\n",
       "    </tr>\n",
       "    <tr>\n",
       "      <th>510</th>\n",
       "      <td>held</td>\n",
       "      <td>33.476019</td>\n",
       "    </tr>\n",
       "    <tr>\n",
       "      <th>3426</th>\n",
       "      <td>devil</td>\n",
       "      <td>33.479951</td>\n",
       "    </tr>\n",
       "    <tr>\n",
       "      <th>3825</th>\n",
       "      <td>identical</td>\n",
       "      <td>33.480228</td>\n",
       "    </tr>\n",
       "    <tr>\n",
       "      <th>417</th>\n",
       "      <td>playing</td>\n",
       "      <td>33.510789</td>\n",
       "    </tr>\n",
       "    <tr>\n",
       "      <th>1087</th>\n",
       "      <td>dance</td>\n",
       "      <td>33.558231</td>\n",
       "    </tr>\n",
       "    <tr>\n",
       "      <th>1550</th>\n",
       "      <td>suggested</td>\n",
       "      <td>33.570913</td>\n",
       "    </tr>\n",
       "    <tr>\n",
       "      <th>988</th>\n",
       "      <td>spend</td>\n",
       "      <td>33.601336</td>\n",
       "    </tr>\n",
       "    <tr>\n",
       "      <th>1695</th>\n",
       "      <td>relatively</td>\n",
       "      <td>33.613563</td>\n",
       "    </tr>\n",
       "    <tr>\n",
       "      <th>633</th>\n",
       "      <td>union</td>\n",
       "      <td>33.657944</td>\n",
       "    </tr>\n",
       "    <tr>\n",
       "      <th>1830</th>\n",
       "      <td>update</td>\n",
       "      <td>33.691575</td>\n",
       "    </tr>\n",
       "    <tr>\n",
       "      <th>2860</th>\n",
       "      <td>sake</td>\n",
       "      <td>33.709718</td>\n",
       "    </tr>\n",
       "    <tr>\n",
       "      <th>2041</th>\n",
       "      <td>phase</td>\n",
       "      <td>33.741423</td>\n",
       "    </tr>\n",
       "    <tr>\n",
       "      <th>808</th>\n",
       "      <td>loss</td>\n",
       "      <td>33.774656</td>\n",
       "    </tr>\n",
       "    <tr>\n",
       "      <th>3562</th>\n",
       "      <td>suggestion</td>\n",
       "      <td>33.789923</td>\n",
       "    </tr>\n",
       "    <tr>\n",
       "      <th>84</th>\n",
       "      <td>any</td>\n",
       "      <td>33.800293</td>\n",
       "    </tr>\n",
       "    <tr>\n",
       "      <th>3133</th>\n",
       "      <td>edited</td>\n",
       "      <td>33.828907</td>\n",
       "    </tr>\n",
       "    <tr>\n",
       "      <th>3712</th>\n",
       "      <td>gravity</td>\n",
       "      <td>33.844142</td>\n",
       "    </tr>\n",
       "    <tr>\n",
       "      <th>1538</th>\n",
       "      <td>happening</td>\n",
       "      <td>33.863885</td>\n",
       "    </tr>\n",
       "    <tr>\n",
       "      <th>563</th>\n",
       "      <td>view</td>\n",
       "      <td>33.864371</td>\n",
       "    </tr>\n",
       "    <tr>\n",
       "      <th>67</th>\n",
       "      <td>other</td>\n",
       "      <td>33.864956</td>\n",
       "    </tr>\n",
       "    <tr>\n",
       "      <th>1508</th>\n",
       "      <td>mid</td>\n",
       "      <td>33.896949</td>\n",
       "    </tr>\n",
       "  </tbody>\n",
       "</table>\n",
       "</div>"
      ],
      "text/plain": [
       "              token      score\n",
       "1048           lady  -5.571520\n",
       "3903       stranger   0.839832\n",
       "2005             ma   1.924596\n",
       "1824            sat   3.972938\n",
       "2629           drew   6.056310\n",
       "2960   occasionally   7.195861\n",
       "3504       sessions   8.395590\n",
       "1073        russian   8.973371\n",
       "2321           bush   9.178413\n",
       "3334        genuine   9.217894\n",
       "952           track   9.228902\n",
       "2443           bond  10.735021\n",
       "2895          hopes  10.944274\n",
       "1397         mostly  11.495329\n",
       "1828        supreme  12.481477\n",
       "832            mark  13.427977\n",
       "2517            raw  14.083244\n",
       "512            main  14.143367\n",
       "3783        realise  14.582635\n",
       "471           march  15.087607\n",
       "2651         rarely  15.206402\n",
       "3355            rob  15.464453\n",
       "774            race  16.076421\n",
       "1998          drama  16.649184\n",
       "3222      associate  16.958306\n",
       "781               w  17.017894\n",
       "3773          noble  17.222095\n",
       "1964         mainly  17.683799\n",
       "3050        masters  18.217924\n",
       "3413            sec  18.294153\n",
       "928            fair  18.443568\n",
       "1172              k  18.519634\n",
       "1833          banks  18.654435\n",
       "3286          gates  18.700712\n",
       "1055        regular  18.941095\n",
       "1400            pro  19.189859\n",
       "3347         partly  19.233379\n",
       "3759       guardian  19.275277\n",
       "3720            pat  19.289054\n",
       "1415     foundation  19.461035\n",
       "3527           dawn  19.611730\n",
       "2812         waters  19.613345\n",
       "1665       surprise  19.620205\n",
       "2248      estimated  19.678242\n",
       "3452         steady  19.833653\n",
       "509      especially  19.902497\n",
       "2560            jan  19.906838\n",
       "1567           duty  19.959138\n",
       "3788       syndrome  20.084221\n",
       "2410         formal  20.146141\n",
       "1364       distance  20.164070\n",
       "2565          marks  20.281860\n",
       "1340           jack  20.466917\n",
       "2861           semi  20.646792\n",
       "2919     afterwards  20.677866\n",
       "2077          falls  20.725896\n",
       "2511         marked  20.818086\n",
       "1469          liked  20.892950\n",
       "3388        funeral  21.056827\n",
       "2554          faced  21.370211\n",
       "3283           fame  21.400260\n",
       "2926          clock  21.448857\n",
       "387          single  21.832514\n",
       "803            boys  21.979826\n",
       "1523          apple  22.008714\n",
       "102            here  22.061236\n",
       "1005     interested  22.257585\n",
       "1287          labor  22.394272\n",
       "1060           wide  22.693268\n",
       "2160             mm  22.991740\n",
       "669        official  23.013374\n",
       "2074         ending  23.017901\n",
       "457           clear  23.029706\n",
       "3792      traveling  23.123236\n",
       "3012        rapidly  23.176166\n",
       "1488           wild  23.198560\n",
       "1308      challenge  23.229867\n",
       "180          please  23.594106\n",
       "4059          trace  23.643492\n",
       "2401     conclusion  23.956292\n",
       "2434         switch  23.959382\n",
       "2920           aged  24.007685\n",
       "864       beginning  24.053779\n",
       "3544     legitimate  24.077816\n",
       "3806      competing  24.082711\n",
       "1264        remains  24.294793\n",
       "2572      regularly  24.358529\n",
       "2056           wars  24.552806\n",
       "636           began  24.580048\n",
       "1348          prime  24.619747\n",
       "3870   consistently  24.874849\n",
       "974          degree  24.911294\n",
       "505          chance  24.998757\n",
       "3664       moderate  25.064018\n",
       "2650         racing  25.160563\n",
       "257            full  25.163058\n",
       "3723           seal  25.190073\n",
       "2940           gene  25.213850\n",
       "2684         covers  25.236564\n",
       "962     immediately  25.324139\n",
       "2116         hardly  25.355895\n",
       "1259         placed  25.430777\n",
       "3203          races  25.467932\n",
       "657           worth  25.515788\n",
       "3115          saint  25.783769\n",
       "3554          quest  25.882452\n",
       "776         section  25.961690\n",
       "1857        planned  25.985322\n",
       "2102          aside  26.004307\n",
       "236             top  26.072487\n",
       "2083   independence  26.100655\n",
       "75              our  26.145149\n",
       "3846        revenge  26.298413\n",
       "3605           mill  26.300800\n",
       "69             than  26.330660\n",
       "858        pressure  26.385671\n",
       "2598         korean  26.411262\n",
       "850           below  26.512081\n",
       "735             led  26.602215\n",
       "423            deal  26.651824\n",
       "2447     constantly  26.713818\n",
       "400             age  26.738022\n",
       "1298           till  26.787483\n",
       "2558      household  26.827566\n",
       "47              has  26.896892\n",
       "3475           dare  27.052916\n",
       "2389         rising  27.143595\n",
       "2934       entering  27.209101\n",
       "1267       separate  27.311626\n",
       "164            high  27.345377\n",
       "2892          flash  27.348814\n",
       "26               or  27.446234\n",
       "24             from  27.486716\n",
       "934        previous  27.549892\n",
       "2112       download  27.553531\n",
       "659            bank  27.618289\n",
       "4062        trigger  27.652311\n",
       "3056        nowhere  27.656180\n",
       "1561           cast  27.726521\n",
       "3024          chase  27.848001\n",
       "1721       reaction  27.864870\n",
       "3703           edit  27.884761\n",
       "2613           tape  27.901235\n",
       "2767            tag  28.006077\n",
       "2142           bowl  28.019639\n",
       "2117         jersey  28.130551\n",
       "22               at  28.167282\n",
       "4035        partial  28.221556\n",
       "1556          apply  28.334474\n",
       "3490         mutual  28.456389\n",
       "3963           palm  28.544468\n",
       "3464     approaches  28.572569\n",
       "599           shows  28.623560\n",
       "2385     personally  28.624266\n",
       "40            about  28.626815\n",
       "827           daily  28.661649\n",
       "216           point  28.713424\n",
       "382           close  28.933592\n",
       "3922       choosing  28.959386\n",
       "248            live  29.021546\n",
       "906          region  29.073588\n",
       "2643     officially  29.159047\n",
       "1496       entirely  29.185409\n",
       "68              its  29.245327\n",
       "941           brown  29.247325\n",
       "3126         arrive  29.278583\n",
       "195          number  29.353631\n",
       "65              now  29.441164\n",
       "21               he  29.484306\n",
       "3031  consideration  29.523314\n",
       "2212       pleasure  29.532717\n",
       "2757           pope  29.544750\n",
       "546          middle  29.621807\n",
       "2438       ultimate  29.650398\n",
       "1177        opening  29.651698\n",
       "3850         sacred  29.688715\n",
       "2168         random  29.856973\n",
       "1939        advance  29.870994\n",
       "1520          yours  29.882276\n",
       "3488           mars  29.902472\n",
       "992           agree  30.005322\n",
       "3052        mothers  30.049213\n",
       "1839           crew  30.057878\n",
       "2100           wave  30.077050\n",
       "1882          index  30.081453\n",
       "1847        falling  30.104568\n",
       "2325       category  30.160634\n",
       "3220        arrival  30.170790\n",
       "1651          joint  30.175938\n",
       "1863         slowly  30.195603\n",
       "2300       relative  30.207328\n",
       "3706    experiments  30.235805\n",
       "2743      hollywood  30.263743\n",
       "3447          ruled  30.319604\n",
       "3057         occurs  30.324052\n",
       "950     significant  30.361743\n",
       "640            date  30.441587\n",
       "2333           load  30.465353\n",
       "2                of  30.551267\n",
       "2605      returning  30.574291\n",
       "1805     everywhere  30.576772\n",
       "700            hell  30.580196\n",
       "617            upon  30.580223\n",
       "2694        grounds  30.609159\n",
       "3736           tune  30.633162\n",
       "2843           gang  30.634794\n",
       "3868          burns  30.643678\n",
       "3046          kings  30.656558\n",
       "183             end  30.698242\n",
       "951      throughout  30.722518\n",
       "3285        fortune  30.726730\n",
       "1144          extra  30.867195\n",
       "217            free  30.892362\n",
       "3901         slight  30.914317\n",
       "3915            bin  31.025576\n",
       "19             have  31.124751\n",
       "3263          bears  31.129349\n",
       "876         quickly  31.172131\n",
       "288           party  31.226254\n",
       "4028          fever  31.263354\n",
       "2521        shortly  31.339932\n",
       "958        expected  31.380940\n",
       "881        straight  31.404064\n",
       "3968     photograph  31.448745\n",
       "3243       lifetime  31.476042\n",
       "187            show  31.539676\n",
       "348           level  31.729140\n",
       "283           order  31.733114\n",
       "750          effect  31.866864\n",
       "2529            tip  31.872245\n",
       "3489     mechanical  31.901434\n",
       "2025       catholic  31.901895\n",
       "493          church  31.919919\n",
       "14             with  31.975780\n",
       "3003          nurse  31.983321\n",
       "3680          spare  32.019195\n",
       "176            next  32.025197\n",
       "199            left  32.027789\n",
       "150          little  32.087599\n",
       "784           china  32.100332\n",
       "2376        heavily  32.109390\n",
       "3519          blast  32.116847\n",
       "3569            ups  32.158461\n",
       "3266          blues  32.195417\n",
       "2859           root  32.275797\n",
       "2917    achievement  32.290774\n",
       "3373           boom  32.360390\n",
       "1121        manager  32.365192\n",
       "2009          quiet  32.370434\n",
       "88             well  32.411270\n",
       "1917          minor  32.419655\n",
       "174         without  32.427968\n",
       "3039          ghost  32.477918\n",
       "1150      otherwise  32.490158\n",
       "3239       heritage  32.496062\n",
       "3168          alert  32.609908\n",
       "4034           mere  32.621990\n",
       "1841          crowd  32.648470\n",
       "3975          rated  32.658053\n",
       "397            soon  32.716640\n",
       "3146        liberty  32.724360\n",
       "1022          heavy  32.733514\n",
       "1481      somewhere  32.747121\n",
       "33              one  32.818437\n",
       "2459         height  32.994976\n",
       "2000          error  33.098099\n",
       "2728           dean  33.117018\n",
       "407            late  33.121695\n",
       "811            note  33.183309\n",
       "304           least  33.193578\n",
       "1250          fully  33.274787\n",
       "2018      typically  33.306162\n",
       "559         present  33.313897\n",
       "708           whose  33.316568\n",
       "2465           mess  33.321616\n",
       "287            open  33.331365\n",
       "286           early  33.423014\n",
       "3933        devoted  33.457342\n",
       "2978         tracks  33.467496\n",
       "510            held  33.476019\n",
       "3426          devil  33.479951\n",
       "3825      identical  33.480228\n",
       "417         playing  33.510789\n",
       "1087          dance  33.558231\n",
       "1550      suggested  33.570913\n",
       "988           spend  33.601336\n",
       "1695     relatively  33.613563\n",
       "633           union  33.657944\n",
       "1830         update  33.691575\n",
       "2860           sake  33.709718\n",
       "2041          phase  33.741423\n",
       "808            loss  33.774656\n",
       "3562     suggestion  33.789923\n",
       "84              any  33.800293\n",
       "3133         edited  33.828907\n",
       "3712        gravity  33.844142\n",
       "1538      happening  33.863885\n",
       "563            view  33.864371\n",
       "67            other  33.864956\n",
       "1508            mid  33.896949"
      ]
     },
     "execution_count": 146,
     "metadata": {},
     "output_type": "execute_result"
    }
   ],
   "source": [
    "df.sort_values('score').head(300)"
   ]
  },
  {
   "cell_type": "code",
   "execution_count": 139,
   "metadata": {},
   "outputs": [],
   "source": [
    "def compare(token):\n",
    "    \n",
    "    u_similar = urban_model.most_similar(token)\n",
    "    r_similar = rural_model.most_similar(token)\n",
    "    \n",
    "    u_tokens = [[t] for t, _ in u_similar]\n",
    "    r_tokens = [[t] for t, _ in r_similar]\n",
    "    \n",
    "    return u_tokens, r_tokens"
   ]
  },
  {
   "cell_type": "code",
   "execution_count": 147,
   "metadata": {
    "scrolled": false
   },
   "outputs": [
    {
     "data": {
      "text/markdown": [
       "# lady"
      ],
      "text/plain": [
       "<IPython.core.display.Markdown object>"
      ]
     },
     "metadata": {},
     "output_type": "display_data"
    },
    {
     "data": {
      "text/markdown": [
       "#### Urban"
      ],
      "text/plain": [
       "<IPython.core.display.Markdown object>"
      ]
     },
     "metadata": {},
     "output_type": "display_data"
    },
    {
     "name": "stdout",
     "output_type": "stream",
     "text": [
      "--------\n",
      "girl\n",
      "guy\n",
      "woman\n",
      "kid\n",
      "man\n",
      "dude\n",
      "boy\n",
      "chick\n",
      "coworker\n",
      "toddler\n",
      "--------\n"
     ]
    },
    {
     "data": {
      "text/markdown": [
       "#### Rural"
      ],
      "text/plain": [
       "<IPython.core.display.Markdown object>"
      ]
     },
     "metadata": {},
     "output_type": "display_data"
    },
    {
     "name": "stdout",
     "output_type": "stream",
     "text": [
      "--------\n",
      "knights\n",
      "mustangs\n",
      "cougars\n",
      "panthers\n",
      "wildcats\n",
      "tigers\n",
      "eagles\n",
      "bulldogs\n",
      "lions\n",
      "indians\n",
      "--------\n"
     ]
    },
    {
     "data": {
      "text/markdown": [
       "# stranger"
      ],
      "text/plain": [
       "<IPython.core.display.Markdown object>"
      ]
     },
     "metadata": {},
     "output_type": "display_data"
    },
    {
     "data": {
      "text/markdown": [
       "#### Urban"
      ],
      "text/plain": [
       "<IPython.core.display.Markdown object>"
      ]
     },
     "metadata": {},
     "output_type": "display_data"
    },
    {
     "name": "stdout",
     "output_type": "stream",
     "text": [
      "---------\n",
      "douchebag\n",
      "kid\n",
      "brat\n",
      "guy\n",
      "toddler\n",
      "girl\n",
      "person\n",
      "cat\n",
      "demon\n",
      "nerd\n",
      "---------\n"
     ]
    },
    {
     "data": {
      "text/markdown": [
       "#### Rural"
      ],
      "text/plain": [
       "<IPython.core.display.Markdown object>"
      ]
     },
     "metadata": {},
     "output_type": "display_data"
    },
    {
     "name": "stdout",
     "output_type": "stream",
     "text": [
      "-----------\n",
      "finer\n",
      "simplest\n",
      "littlest\n",
      "differently\n",
      "mysterious\n",
      "unbelivable\n",
      "thousand\n",
      "certain\n",
      "smoother\n",
      "81082\n",
      "-----------\n"
     ]
    },
    {
     "data": {
      "text/markdown": [
       "# ma"
      ],
      "text/plain": [
       "<IPython.core.display.Markdown object>"
      ]
     },
     "metadata": {},
     "output_type": "display_data"
    },
    {
     "data": {
      "text/markdown": [
       "#### Urban"
      ],
      "text/plain": [
       "<IPython.core.display.Markdown object>"
      ]
     },
     "metadata": {},
     "output_type": "display_data"
    },
    {
     "name": "stdout",
     "output_type": "stream",
     "text": [
      "------\n",
      "imma\n",
      "ima\n",
      "lemme\n",
      "finna\n",
      "gon\n",
      "tryna\n",
      "inna\n",
      "trynna\n",
      "bouta\n",
      "gotta\n",
      "------\n"
     ]
    },
    {
     "data": {
      "text/markdown": [
       "#### Rural"
      ],
      "text/plain": [
       "<IPython.core.display.Markdown object>"
      ]
     },
     "metadata": {},
     "output_type": "display_data"
    },
    {
     "name": "stdout",
     "output_type": "stream",
     "text": [
      "----\n",
      "il\n",
      "nh\n",
      "sica\n",
      "des\n",
      "ana\n",
      "pa\n",
      "xico\n",
      "rte\n",
      "cir\n",
      "ia\n",
      "----\n"
     ]
    },
    {
     "data": {
      "text/markdown": [
       "# sat"
      ],
      "text/plain": [
       "<IPython.core.display.Markdown object>"
      ]
     },
     "metadata": {},
     "output_type": "display_data"
    },
    {
     "data": {
      "text/markdown": [
       "#### Urban"
      ],
      "text/plain": [
       "<IPython.core.display.Markdown object>"
      ]
     },
     "metadata": {},
     "output_type": "display_data"
    },
    {
     "name": "stdout",
     "output_type": "stream",
     "text": [
      "-------\n",
      "walked\n",
      "sits\n",
      "drove\n",
      "went\n",
      "sitting\n",
      "flew\n",
      "stepped\n",
      "sit\n",
      "flipped\n",
      "moved\n",
      "-------\n"
     ]
    },
    {
     "data": {
      "text/markdown": [
       "#### Rural"
      ],
      "text/plain": [
       "<IPython.core.display.Markdown object>"
      ]
     },
     "metadata": {},
     "output_type": "display_data"
    },
    {
     "name": "stdout",
     "output_type": "stream",
     "text": [
      "--------\n",
      "wed\n",
      "thurs\n",
      "tues\n",
      "fri\n",
      "saturday\n",
      "7pm\n",
      "10pm\n",
      "5pm\n",
      "7am\n",
      "11am\n",
      "--------\n"
     ]
    },
    {
     "data": {
      "text/markdown": [
       "# drew"
      ],
      "text/plain": [
       "<IPython.core.display.Markdown object>"
      ]
     },
     "metadata": {},
     "output_type": "display_data"
    },
    {
     "data": {
      "text/markdown": [
       "#### Urban"
      ],
      "text/plain": [
       "<IPython.core.display.Markdown object>"
      ]
     },
     "metadata": {},
     "output_type": "display_data"
    },
    {
     "name": "stdout",
     "output_type": "stream",
     "text": [
      "-------\n",
      "wore\n",
      "snapped\n",
      "threw\n",
      "showed\n",
      "saw\n",
      "gave\n",
      "stole\n",
      "wrote\n",
      "grabbed\n",
      "bought\n",
      "-------\n"
     ]
    },
    {
     "data": {
      "text/markdown": [
       "#### Rural"
      ],
      "text/plain": [
       "<IPython.core.display.Markdown object>"
      ]
     },
     "metadata": {},
     "output_type": "display_data"
    },
    {
     "name": "stdout",
     "output_type": "stream",
     "text": [
      "--------\n",
      "derek\n",
      "derrick\n",
      "bryce\n",
      "johnson\n",
      "anderson\n",
      "parker\n",
      "tommy\n",
      "smith\n",
      "randy\n",
      "garcia\n",
      "--------\n"
     ]
    },
    {
     "data": {
      "text/markdown": [
       "# occasionally"
      ],
      "text/plain": [
       "<IPython.core.display.Markdown object>"
      ]
     },
     "metadata": {},
     "output_type": "display_data"
    },
    {
     "data": {
      "text/markdown": [
       "#### Urban"
      ],
      "text/plain": [
       "<IPython.core.display.Markdown object>"
      ]
     },
     "metadata": {},
     "output_type": "display_data"
    },
    {
     "name": "stdout",
     "output_type": "stream",
     "text": [
      "----------\n",
      "sometimes\n",
      "rarely\n",
      "otherwise\n",
      "generally\n",
      "regularly\n",
      "also\n",
      "usually\n",
      "repetitive\n",
      "normally\n",
      "often\n",
      "----------\n"
     ]
    },
    {
     "data": {
      "text/markdown": [
       "#### Rural"
      ],
      "text/plain": [
       "<IPython.core.display.Markdown object>"
      ]
     },
     "metadata": {},
     "output_type": "display_data"
    },
    {
     "name": "stdout",
     "output_type": "stream",
     "text": [
      "------------\n",
      "heaters\n",
      "a11\n",
      "officeteam\n",
      "moping\n",
      "collaborated\n",
      "kiwi\n",
      "seesaw\n",
      "doody\n",
      "bitte\n",
      "courageously\n",
      "------------\n"
     ]
    },
    {
     "data": {
      "text/markdown": [
       "# sessions"
      ],
      "text/plain": [
       "<IPython.core.display.Markdown object>"
      ]
     },
     "metadata": {},
     "output_type": "display_data"
    },
    {
     "data": {
      "text/markdown": [
       "#### Urban"
      ],
      "text/plain": [
       "<IPython.core.display.Markdown object>"
      ]
     },
     "metadata": {},
     "output_type": "display_data"
    },
    {
     "name": "stdout",
     "output_type": "stream",
     "text": [
      "-------------\n",
      "session\n",
      "classes\n",
      "workshops\n",
      "meetings\n",
      "presentations\n",
      "workshop\n",
      "interviews\n",
      "assignments\n",
      "courses\n",
      "exams\n",
      "-------------\n"
     ]
    },
    {
     "data": {
      "text/markdown": [
       "#### Rural"
      ],
      "text/plain": [
       "<IPython.core.display.Markdown object>"
      ]
     },
     "metadata": {},
     "output_type": "display_data"
    },
    {
     "name": "stdout",
     "output_type": "stream",
     "text": [
      "---------\n",
      "flynn\n",
      "ag\n",
      "mueller\n",
      "comey\n",
      "pence\n",
      "nunes\n",
      "testimony\n",
      "fbi\n",
      "wh\n",
      "counsel\n",
      "---------\n"
     ]
    },
    {
     "data": {
      "text/markdown": [
       "# russian"
      ],
      "text/plain": [
       "<IPython.core.display.Markdown object>"
      ]
     },
     "metadata": {},
     "output_type": "display_data"
    },
    {
     "data": {
      "text/markdown": [
       "#### Urban"
      ],
      "text/plain": [
       "<IPython.core.display.Markdown object>"
      ]
     },
     "metadata": {},
     "output_type": "display_data"
    },
    {
     "name": "stdout",
     "output_type": "stream",
     "text": [
      "------------\n",
      "porn\n",
      "british\n",
      "lesbian\n",
      "german\n",
      "tentacle\n",
      "japanese\n",
      "asian\n",
      "nudity\n",
      "porno\n",
      "masturbation\n",
      "------------\n"
     ]
    },
    {
     "data": {
      "text/markdown": [
       "#### Rural"
      ],
      "text/plain": [
       "<IPython.core.display.Markdown object>"
      ]
     },
     "metadata": {},
     "output_type": "display_data"
    },
    {
     "name": "stdout",
     "output_type": "stream",
     "text": [
      "--------\n",
      "russia\n",
      "kremlin\n",
      "foreign\n",
      "dnc\n",
      "putin\n",
      "cia\n",
      "assad\n",
      "russians\n",
      "iran\n",
      "nsa\n",
      "--------\n"
     ]
    },
    {
     "data": {
      "text/markdown": [
       "# bush"
      ],
      "text/plain": [
       "<IPython.core.display.Markdown object>"
      ]
     },
     "metadata": {},
     "output_type": "display_data"
    },
    {
     "data": {
      "text/markdown": [
       "#### Urban"
      ],
      "text/plain": [
       "<IPython.core.display.Markdown object>"
      ]
     },
     "metadata": {},
     "output_type": "display_data"
    },
    {
     "name": "stdout",
     "output_type": "stream",
     "text": [
      "--------\n",
      "him\n",
      "dirt\n",
      "mud\n",
      "flopping\n",
      "deer\n",
      "bushes\n",
      "snake\n",
      "bull\n",
      "grass\n",
      "shark\n",
      "--------\n"
     ]
    },
    {
     "data": {
      "text/markdown": [
       "#### Rural"
      ],
      "text/plain": [
       "<IPython.core.display.Markdown object>"
      ]
     },
     "metadata": {},
     "output_type": "display_data"
    },
    {
     "name": "stdout",
     "output_type": "stream",
     "text": [
      "----------\n",
      "nixon\n",
      "lynch\n",
      "reagan\n",
      "watergate\n",
      "barack\n",
      "graham\n",
      "flynn\n",
      "jared\n",
      "scaramucci\n",
      "nunes\n",
      "----------\n"
     ]
    },
    {
     "data": {
      "text/markdown": [
       "# genuine"
      ],
      "text/plain": [
       "<IPython.core.display.Markdown object>"
      ]
     },
     "metadata": {},
     "output_type": "display_data"
    },
    {
     "data": {
      "text/markdown": [
       "#### Urban"
      ],
      "text/plain": [
       "<IPython.core.display.Markdown object>"
      ]
     },
     "metadata": {},
     "output_type": "display_data"
    },
    {
     "name": "stdout",
     "output_type": "stream",
     "text": [
      "-------------\n",
      "sincere\n",
      "supportive\n",
      "respectful\n",
      "positive\n",
      "profound\n",
      "compassionate\n",
      "thoughtful\n",
      "powerful\n",
      "intelligent\n",
      "rational\n",
      "-------------\n"
     ]
    },
    {
     "data": {
      "text/markdown": [
       "#### Rural"
      ],
      "text/plain": [
       "<IPython.core.display.Markdown object>"
      ]
     },
     "metadata": {},
     "output_type": "display_data"
    },
    {
     "name": "stdout",
     "output_type": "stream",
     "text": [
      "---------\n",
      "50ctw\n",
      "faceted\n",
      "925\n",
      "gemstone\n",
      "zirconia\n",
      "turquoise\n",
      "marcasite\n",
      "cubic\n",
      "amethyst\n",
      "bracelets\n",
      "---------\n"
     ]
    },
    {
     "data": {
      "text/markdown": [
       "# track"
      ],
      "text/plain": [
       "<IPython.core.display.Markdown object>"
      ]
     },
     "metadata": {},
     "output_type": "display_data"
    },
    {
     "data": {
      "text/markdown": [
       "#### Urban"
      ],
      "text/plain": [
       "<IPython.core.display.Markdown object>"
      ]
     },
     "metadata": {},
     "output_type": "display_data"
    },
    {
     "name": "stdout",
     "output_type": "stream",
     "text": [
      "-------\n",
      "album\n",
      "song\n",
      "mixtape\n",
      "tracks\n",
      "remix\n",
      "music\n",
      "record\n",
      "tape\n",
      "verse\n",
      "band\n",
      "-------\n"
     ]
    },
    {
     "data": {
      "text/markdown": [
       "#### Rural"
      ],
      "text/plain": [
       "<IPython.core.display.Markdown object>"
      ]
     },
     "metadata": {},
     "output_type": "display_data"
    },
    {
     "name": "stdout",
     "output_type": "stream",
     "text": [
      "----------\n",
      "field\n",
      "roster\n",
      "turf\n",
      "softball\n",
      "pace\n",
      "xc\n",
      "volleyball\n",
      "varsity\n",
      "qualifying\n",
      "baseball\n",
      "----------\n"
     ]
    },
    {
     "data": {
      "text/markdown": [
       "# bond"
      ],
      "text/plain": [
       "<IPython.core.display.Markdown object>"
      ]
     },
     "metadata": {},
     "output_type": "display_data"
    },
    {
     "data": {
      "text/markdown": [
       "#### Urban"
      ],
      "text/plain": [
       "<IPython.core.display.Markdown object>"
      ]
     },
     "metadata": {},
     "output_type": "display_data"
    },
    {
     "name": "stdout",
     "output_type": "stream",
     "text": [
      "------------\n",
      "relationship\n",
      "relations\n",
      "marriage\n",
      "friendship\n",
      "proposal\n",
      "plan\n",
      "contract\n",
      "partnership\n",
      "connection\n",
      "family\n",
      "------------\n"
     ]
    },
    {
     "data": {
      "text/markdown": [
       "#### Rural"
      ],
      "text/plain": [
       "<IPython.core.display.Markdown object>"
      ]
     },
     "metadata": {},
     "output_type": "display_data"
    },
    {
     "name": "stdout",
     "output_type": "stream",
     "text": [
      "---------\n",
      "jetpack\n",
      "corden\n",
      "clapper\n",
      "franco\n",
      "mcavoy\n",
      "rhodes\n",
      "kerry\n",
      "clarke\n",
      "patterson\n",
      "goebbels\n",
      "---------\n"
     ]
    },
    {
     "data": {
      "text/markdown": [
       "# hopes"
      ],
      "text/plain": [
       "<IPython.core.display.Markdown object>"
      ]
     },
     "metadata": {},
     "output_type": "display_data"
    },
    {
     "data": {
      "text/markdown": [
       "#### Urban"
      ],
      "text/plain": [
       "<IPython.core.display.Markdown object>"
      ]
     },
     "metadata": {},
     "output_type": "display_data"
    },
    {
     "name": "stdout",
     "output_type": "stream",
     "text": [
      "------------\n",
      "expectations\n",
      "struggles\n",
      "potential\n",
      "confidence\n",
      "aspirations\n",
      "chances\n",
      "vision\n",
      "plans\n",
      "standards\n",
      "defence\n",
      "------------\n"
     ]
    },
    {
     "data": {
      "text/markdown": [
       "#### Rural"
      ],
      "text/plain": [
       "<IPython.core.display.Markdown object>"
      ]
     },
     "metadata": {},
     "output_type": "display_data"
    },
    {
     "name": "stdout",
     "output_type": "stream",
     "text": [
      "------------\n",
      "messes\n",
      "warmed\n",
      "expectations\n",
      "screwed\n",
      "lighten\n",
      "fess\n",
      "gearing\n",
      "geared\n",
      "fucked\n",
      "leveled\n",
      "------------\n"
     ]
    },
    {
     "data": {
      "text/markdown": [
       "# mostly"
      ],
      "text/plain": [
       "<IPython.core.display.Markdown object>"
      ]
     },
     "metadata": {},
     "output_type": "display_data"
    },
    {
     "data": {
      "text/markdown": [
       "#### Urban"
      ],
      "text/plain": [
       "<IPython.core.display.Markdown object>"
      ]
     },
     "metadata": {},
     "output_type": "display_data"
    },
    {
     "name": "stdout",
     "output_type": "stream",
     "text": [
      "----------\n",
      "mainly\n",
      "generally\n",
      "also\n",
      "usually\n",
      "largely\n",
      "apparently\n",
      "actually\n",
      "heavily\n",
      "primarily\n",
      "completely\n",
      "----------\n"
     ]
    },
    {
     "data": {
      "text/markdown": [
       "#### Rural"
      ],
      "text/plain": [
       "<IPython.core.display.Markdown object>"
      ]
     },
     "metadata": {},
     "output_type": "display_data"
    },
    {
     "name": "stdout",
     "output_type": "stream",
     "text": [
      "---------\n",
      "cloudy\n",
      "mainly\n",
      "partly\n",
      "fog\n",
      "showers\n",
      "patchy\n",
      "sunny\n",
      "degrees\n",
      "scattered\n",
      "overcast\n",
      "---------\n"
     ]
    },
    {
     "data": {
      "text/markdown": [
       "# supreme"
      ],
      "text/plain": [
       "<IPython.core.display.Markdown object>"
      ]
     },
     "metadata": {},
     "output_type": "display_data"
    },
    {
     "data": {
      "text/markdown": [
       "#### Urban"
      ],
      "text/plain": [
       "<IPython.core.display.Markdown object>"
      ]
     },
     "metadata": {},
     "output_type": "display_data"
    },
    {
     "name": "stdout",
     "output_type": "stream",
     "text": [
      "--------\n",
      "yellow\n",
      "royal\n",
      "suit\n",
      "reigns\n",
      "green\n",
      "clothing\n",
      "vest\n",
      "fitted\n",
      "holder\n",
      "black\n",
      "--------\n"
     ]
    },
    {
     "data": {
      "text/markdown": [
       "#### Rural"
      ],
      "text/plain": [
       "<IPython.core.display.Markdown object>"
      ]
     },
     "metadata": {},
     "output_type": "display_data"
    },
    {
     "name": "stdout",
     "output_type": "stream",
     "text": [
      "----------\n",
      "appeals\n",
      "ruling\n",
      "scotus\n",
      "upholds\n",
      "nomination\n",
      "gorsuch\n",
      "nominee\n",
      "filibuster\n",
      "garland\n",
      "court\n",
      "----------\n"
     ]
    },
    {
     "data": {
      "text/markdown": [
       "# mark"
      ],
      "text/plain": [
       "<IPython.core.display.Markdown object>"
      ]
     },
     "metadata": {},
     "output_type": "display_data"
    },
    {
     "data": {
      "text/markdown": [
       "#### Urban"
      ],
      "text/plain": [
       "<IPython.core.display.Markdown object>"
      ]
     },
     "metadata": {},
     "output_type": "display_data"
    },
    {
     "name": "stdout",
     "output_type": "stream",
     "text": [
      "------\n",
      "goal\n",
      "second\n",
      "first\n",
      "final\n",
      "third\n",
      "period\n",
      "3rd\n",
      "fourth\n",
      "1st\n",
      "last\n",
      "------\n"
     ]
    },
    {
     "data": {
      "text/markdown": [
       "#### Rural"
      ],
      "text/plain": [
       "<IPython.core.display.Markdown object>"
      ]
     },
     "metadata": {},
     "output_type": "display_data"
    },
    {
     "name": "stdout",
     "output_type": "stream",
     "text": [
      "-----------\n",
      "shania\n",
      "calendars\n",
      "rev\n",
      "unshakeable\n",
      "calenders\n",
      "john\n",
      "schaefer\n",
      "gary\n",
      "legacy\n",
      "lewis\n",
      "-----------\n"
     ]
    },
    {
     "data": {
      "text/markdown": [
       "# raw"
      ],
      "text/plain": [
       "<IPython.core.display.Markdown object>"
      ]
     },
     "metadata": {},
     "output_type": "display_data"
    },
    {
     "data": {
      "text/markdown": [
       "#### Urban"
      ],
      "text/plain": [
       "<IPython.core.display.Markdown object>"
      ]
     },
     "metadata": {},
     "output_type": "display_data"
    },
    {
     "name": "stdout",
     "output_type": "stream",
     "text": [
      "------\n",
      "nasty\n",
      "juicy\n",
      "smooth\n",
      "soft\n",
      "hot\n",
      "phat\n",
      "fye\n",
      "dope\n",
      "cheesy\n",
      "greasy\n",
      "------\n"
     ]
    },
    {
     "data": {
      "text/markdown": [
       "#### Rural"
      ],
      "text/plain": [
       "<IPython.core.display.Markdown object>"
      ]
     },
     "metadata": {},
     "output_type": "display_data"
    },
    {
     "name": "stdout",
     "output_type": "stream",
     "text": [
      "---------\n",
      "superman\n",
      "batman\n",
      "deadpool\n",
      "marvel\n",
      "sonic\n",
      "smackdown\n",
      "wwe\n",
      "gotham\n",
      "ppv\n",
      "nakamura\n",
      "---------\n"
     ]
    },
    {
     "data": {
      "text/markdown": [
       "# main"
      ],
      "text/plain": [
       "<IPython.core.display.Markdown object>"
      ]
     },
     "metadata": {},
     "output_type": "display_data"
    },
    {
     "data": {
      "text/markdown": [
       "#### Urban"
      ],
      "text/plain": [
       "<IPython.core.display.Markdown object>"
      ]
     },
     "metadata": {},
     "output_type": "display_data"
    },
    {
     "name": "stdout",
     "output_type": "stream",
     "text": [
      "--------\n",
      "biggest\n",
      "first\n",
      "sole\n",
      "only\n",
      "current\n",
      "prime\n",
      "weakest\n",
      "whole\n",
      "final\n",
      "greatest\n",
      "--------\n"
     ]
    },
    {
     "data": {
      "text/markdown": [
       "#### Rural"
      ],
      "text/plain": [
       "<IPython.core.display.Markdown object>"
      ]
     },
     "metadata": {},
     "output_type": "display_data"
    },
    {
     "name": "stdout",
     "output_type": "stream",
     "text": [
      "----------\n",
      "coronation\n",
      "street\n",
      "closing\n",
      "located\n",
      "current\n",
      "hub\n",
      "wazers\n",
      "crossing\n",
      "avalon\n",
      "nj\n",
      "----------\n"
     ]
    },
    {
     "data": {
      "text/markdown": [
       "# realise"
      ],
      "text/plain": [
       "<IPython.core.display.Markdown object>"
      ]
     },
     "metadata": {},
     "output_type": "display_data"
    },
    {
     "data": {
      "text/markdown": [
       "#### Urban"
      ],
      "text/plain": [
       "<IPython.core.display.Markdown object>"
      ]
     },
     "metadata": {},
     "output_type": "display_data"
    },
    {
     "name": "stdout",
     "output_type": "stream",
     "text": [
      "-----------\n",
      "realize\n",
      "understand\n",
      "know\n",
      "acknowledge\n",
      "mean\n",
      "realized\n",
      "specify\n",
      "notice\n",
      "understood\n",
      "think\n",
      "-----------\n"
     ]
    },
    {
     "data": {
      "text/markdown": [
       "#### Rural"
      ],
      "text/plain": [
       "<IPython.core.display.Markdown object>"
      ]
     },
     "metadata": {},
     "output_type": "display_data"
    },
    {
     "name": "stdout",
     "output_type": "stream",
     "text": [
      "----------\n",
      "reversed\n",
      "superiors\n",
      "specify\n",
      "sop\n",
      "communists\n",
      "implying\n",
      "slaves\n",
      "nikes\n",
      "9os\n",
      "newed\n",
      "----------\n"
     ]
    },
    {
     "data": {
      "text/markdown": [
       "# march"
      ],
      "text/plain": [
       "<IPython.core.display.Markdown object>"
      ]
     },
     "metadata": {},
     "output_type": "display_data"
    },
    {
     "data": {
      "text/markdown": [
       "#### Urban"
      ],
      "text/plain": [
       "<IPython.core.display.Markdown object>"
      ]
     },
     "metadata": {},
     "output_type": "display_data"
    },
    {
     "name": "stdout",
     "output_type": "stream",
     "text": [
      "------------\n",
      "protest\n",
      "rally\n",
      "arch\n",
      "marches\n",
      "marching\n",
      "parade\n",
      "marched\n",
      "protests\n",
      "inauguration\n",
      "riot\n",
      "------------\n"
     ]
    },
    {
     "data": {
      "text/markdown": [
       "#### Rural"
      ],
      "text/plain": [
       "<IPython.core.display.Markdown object>"
      ]
     },
     "metadata": {},
     "output_type": "display_data"
    },
    {
     "name": "stdout",
     "output_type": "stream",
     "text": [
      "---------\n",
      "april\n",
      "february\n",
      "june\n",
      "january\n",
      "september\n",
      "august\n",
      "sept\n",
      "feb\n",
      "july\n",
      "october\n",
      "---------\n"
     ]
    },
    {
     "data": {
      "text/markdown": [
       "# rarely"
      ],
      "text/plain": [
       "<IPython.core.display.Markdown object>"
      ]
     },
     "metadata": {},
     "output_type": "display_data"
    },
    {
     "data": {
      "text/markdown": [
       "#### Urban"
      ],
      "text/plain": [
       "<IPython.core.display.Markdown object>"
      ]
     },
     "metadata": {},
     "output_type": "display_data"
    },
    {
     "name": "stdout",
     "output_type": "stream",
     "text": [
      "------------\n",
      "generally\n",
      "often\n",
      "usually\n",
      "seldom\n",
      "typically\n",
      "mainly\n",
      "regularly\n",
      "occasionally\n",
      "mostly\n",
      "sometimes\n",
      "------------\n"
     ]
    },
    {
     "data": {
      "text/markdown": [
       "#### Rural"
      ],
      "text/plain": [
       "<IPython.core.display.Markdown object>"
      ]
     },
     "metadata": {},
     "output_type": "display_data"
    },
    {
     "name": "stdout",
     "output_type": "stream",
     "text": [
      "--------\n",
      "hardly\n",
      "wont\n",
      "couldnt\n",
      "refuse\n",
      "cannot\n",
      "shouldnt\n",
      "often\n",
      "cant\n",
      "wouldnt\n",
      "dont\n",
      "--------\n"
     ]
    },
    {
     "data": {
      "text/markdown": [
       "# rob"
      ],
      "text/plain": [
       "<IPython.core.display.Markdown object>"
      ]
     },
     "metadata": {},
     "output_type": "display_data"
    },
    {
     "data": {
      "text/markdown": [
       "#### Urban"
      ],
      "text/plain": [
       "<IPython.core.display.Markdown object>"
      ]
     },
     "metadata": {},
     "output_type": "display_data"
    },
    {
     "name": "stdout",
     "output_type": "stream",
     "text": [
      "-------\n",
      "kidnap\n",
      "snitch\n",
      "marry\n",
      "finesse\n",
      "kill\n",
      "spank\n",
      "pimp\n",
      "slap\n",
      "whoop\n",
      "snatch\n",
      "-------\n"
     ]
    },
    {
     "data": {
      "text/markdown": [
       "#### Rural"
      ],
      "text/plain": [
       "<IPython.core.display.Markdown object>"
      ]
     },
     "metadata": {},
     "output_type": "display_data"
    },
    {
     "name": "stdout",
     "output_type": "stream",
     "text": [
      "-------\n",
      "larry\n",
      "anthony\n",
      "tommy\n",
      "shep\n",
      "cory\n",
      "sonny\n",
      "danny\n",
      "jerry\n",
      "dan\n",
      "dustin\n",
      "-------\n"
     ]
    },
    {
     "data": {
      "text/markdown": [
       "# race"
      ],
      "text/plain": [
       "<IPython.core.display.Markdown object>"
      ]
     },
     "metadata": {},
     "output_type": "display_data"
    },
    {
     "data": {
      "text/markdown": [
       "#### Urban"
      ],
      "text/plain": [
       "<IPython.core.display.Markdown object>"
      ]
     },
     "metadata": {},
     "output_type": "display_data"
    },
    {
     "name": "stdout",
     "output_type": "stream",
     "text": [
      "-----------\n",
      "slam\n",
      "ideology\n",
      "religion\n",
      "nationality\n",
      "ethnicity\n",
      "rebellion\n",
      "debate\n",
      "crime\n",
      "identity\n",
      "oppression\n",
      "-----------\n"
     ]
    },
    {
     "data": {
      "text/markdown": [
       "#### Rural"
      ],
      "text/plain": [
       "<IPython.core.display.Markdown object>"
      ]
     },
     "metadata": {},
     "output_type": "display_data"
    },
    {
     "name": "stdout",
     "output_type": "stream",
     "text": [
      "--------\n",
      "game\n",
      "division\n",
      "match\n",
      "title\n",
      "nascar\n",
      "battle\n",
      "sprint\n",
      "matchup\n",
      "series\n",
      "finals\n",
      "--------\n"
     ]
    },
    {
     "data": {
      "text/markdown": [
       "# drama"
      ],
      "text/plain": [
       "<IPython.core.display.Markdown object>"
      ]
     },
     "metadata": {},
     "output_type": "display_data"
    },
    {
     "data": {
      "text/markdown": [
       "#### Urban"
      ],
      "text/plain": [
       "<IPython.core.display.Markdown object>"
      ]
     },
     "metadata": {},
     "output_type": "display_data"
    },
    {
     "name": "stdout",
     "output_type": "stream",
     "text": [
      "----------\n",
      "movies\n",
      "comedy\n",
      "storyline\n",
      "fandom\n",
      "heartbreak\n",
      "anime\n",
      "dialogue\n",
      "nostalgia\n",
      "bullshit\n",
      "suspense\n",
      "----------\n"
     ]
    },
    {
     "data": {
      "text/markdown": [
       "#### Rural"
      ],
      "text/plain": [
       "<IPython.core.display.Markdown object>"
      ]
     },
     "metadata": {},
     "output_type": "display_data"
    },
    {
     "name": "stdout",
     "output_type": "stream",
     "text": [
      "----------\n",
      "bs\n",
      "bullshit\n",
      "politics\n",
      "negativity\n",
      "shit\n",
      "stuff\n",
      "tweeting\n",
      "nonsense\n",
      "fights\n",
      "haters\n",
      "----------\n"
     ]
    },
    {
     "data": {
      "text/markdown": [
       "# associate"
      ],
      "text/plain": [
       "<IPython.core.display.Markdown object>"
      ]
     },
     "metadata": {},
     "output_type": "display_data"
    },
    {
     "data": {
      "text/markdown": [
       "#### Urban"
      ],
      "text/plain": [
       "<IPython.core.display.Markdown object>"
      ]
     },
     "metadata": {},
     "output_type": "display_data"
    },
    {
     "name": "stdout",
     "output_type": "stream",
     "text": [
      "-----------\n",
      "interact\n",
      "sympathize\n",
      "comply\n",
      "align\n",
      "resonate\n",
      "flirt\n",
      "interfere\n",
      "collaborate\n",
      "disagreeing\n",
      "argue\n",
      "-----------\n"
     ]
    },
    {
     "data": {
      "text/markdown": [
       "#### Rural"
      ],
      "text/plain": [
       "<IPython.core.display.Markdown object>"
      ]
     },
     "metadata": {},
     "output_type": "display_data"
    },
    {
     "name": "stdout",
     "output_type": "stream",
     "text": [
      "------------\n",
      "assistant\n",
      "supervisor\n",
      "clerk\n",
      "staffing\n",
      "technician\n",
      "physician\n",
      "receptionist\n",
      "manager\n",
      "barista\n",
      "trainee\n",
      "------------\n"
     ]
    },
    {
     "data": {
      "text/markdown": [
       "# w"
      ],
      "text/plain": [
       "<IPython.core.display.Markdown object>"
      ]
     },
     "metadata": {},
     "output_type": "display_data"
    },
    {
     "data": {
      "text/markdown": [
       "#### Urban"
      ],
      "text/plain": [
       "<IPython.core.display.Markdown object>"
      ]
     },
     "metadata": {},
     "output_type": "display_data"
    },
    {
     "name": "stdout",
     "output_type": "stream",
     "text": [
      "-------\n",
      "with\n",
      "wit\n",
      "amp\n",
      "for\n",
      "between\n",
      "from\n",
      "during\n",
      "without\n",
      "btwn\n",
      "against\n",
      "-------\n"
     ]
    },
    {
     "data": {
      "text/markdown": [
       "#### Rural"
      ],
      "text/plain": [
       "<IPython.core.display.Markdown object>"
      ]
     },
     "metadata": {},
     "output_type": "display_data"
    },
    {
     "name": "stdout",
     "output_type": "stream",
     "text": [
      "----------\n",
      "with\n",
      "wit\n",
      "g\n",
      "amp\n",
      "jell\n",
      "brien\n",
      "without\n",
      "glowsticks\n",
      "l\n",
      "jalape\n",
      "----------\n"
     ]
    },
    {
     "data": {
      "text/markdown": [
       "# noble"
      ],
      "text/plain": [
       "<IPython.core.display.Markdown object>"
      ]
     },
     "metadata": {},
     "output_type": "display_data"
    },
    {
     "data": {
      "text/markdown": [
       "#### Urban"
      ],
      "text/plain": [
       "<IPython.core.display.Markdown object>"
      ]
     },
     "metadata": {},
     "output_type": "display_data"
    },
    {
     "name": "stdout",
     "output_type": "stream",
     "text": [
      "-------------\n",
      "selfless\n",
      "compassionate\n",
      "powerful\n",
      "masculine\n",
      "fearless\n",
      "courageous\n",
      "intelligent\n",
      "authentically\n",
      "compassion\n",
      "persistent\n",
      "-------------\n"
     ]
    },
    {
     "data": {
      "text/markdown": [
       "#### Rural"
      ],
      "text/plain": [
       "<IPython.core.display.Markdown object>"
      ]
     },
     "metadata": {},
     "output_type": "display_data"
    },
    {
     "name": "stdout",
     "output_type": "stream",
     "text": [
      "--------\n",
      "barnes\n",
      "hancock\n",
      "greene\n",
      "burke\n",
      "lawson\n",
      "sydney\n",
      "stevens\n",
      "fletcher\n",
      "spencer\n",
      "gregory\n",
      "--------\n"
     ]
    },
    {
     "data": {
      "text/markdown": [
       "# mainly"
      ],
      "text/plain": [
       "<IPython.core.display.Markdown object>"
      ]
     },
     "metadata": {},
     "output_type": "display_data"
    },
    {
     "data": {
      "text/markdown": [
       "#### Urban"
      ],
      "text/plain": [
       "<IPython.core.display.Markdown object>"
      ]
     },
     "metadata": {},
     "output_type": "display_data"
    },
    {
     "name": "stdout",
     "output_type": "stream",
     "text": [
      "------------\n",
      "mostly\n",
      "generally\n",
      "primarily\n",
      "rarely\n",
      "also\n",
      "usually\n",
      "specifically\n",
      "apparently\n",
      "partly\n",
      "strictly\n",
      "------------\n"
     ]
    },
    {
     "data": {
      "text/markdown": [
       "#### Rural"
      ],
      "text/plain": [
       "<IPython.core.display.Markdown object>"
      ]
     },
     "metadata": {},
     "output_type": "display_data"
    },
    {
     "name": "stdout",
     "output_type": "stream",
     "text": [
      "-------------\n",
      "mostly\n",
      "fog\n",
      "scattered\n",
      "thunderstorms\n",
      "showers\n",
      "dense\n",
      "patchy\n",
      "flooding\n",
      "gusty\n",
      "icy\n",
      "-------------\n"
     ]
    },
    {
     "data": {
      "text/markdown": [
       "# masters"
      ],
      "text/plain": [
       "<IPython.core.display.Markdown object>"
      ]
     },
     "metadata": {},
     "output_type": "display_data"
    },
    {
     "data": {
      "text/markdown": [
       "#### Urban"
      ],
      "text/plain": [
       "<IPython.core.display.Markdown object>"
      ]
     },
     "metadata": {},
     "output_type": "display_data"
    },
    {
     "name": "stdout",
     "output_type": "stream",
     "text": [
      "----------\n",
      "textbooks\n",
      "vocabulary\n",
      "thesis\n",
      "parents\n",
      "classmates\n",
      "profession\n",
      "kids\n",
      "peers\n",
      "class\n",
      "students\n",
      "----------\n"
     ]
    },
    {
     "data": {
      "text/markdown": [
       "#### Rural"
      ],
      "text/plain": [
       "<IPython.core.display.Markdown object>"
      ]
     },
     "metadata": {},
     "output_type": "display_data"
    },
    {
     "name": "stdout",
     "output_type": "stream",
     "text": [
      "------------\n",
      "finalists\n",
      "qualifier\n",
      "title\n",
      "division\n",
      "trojan\n",
      "championship\n",
      "legion\n",
      "exhibition\n",
      "collegiate\n",
      "duals\n",
      "------------\n"
     ]
    },
    {
     "data": {
      "text/markdown": [
       "# sec"
      ],
      "text/plain": [
       "<IPython.core.display.Markdown object>"
      ]
     },
     "metadata": {},
     "output_type": "display_data"
    },
    {
     "data": {
      "text/markdown": [
       "#### Urban"
      ],
      "text/plain": [
       "<IPython.core.display.Markdown object>"
      ]
     },
     "metadata": {},
     "output_type": "display_data"
    },
    {
     "name": "stdout",
     "output_type": "stream",
     "text": [
      "-------\n",
      "min\n",
      "minute\n",
      "seconds\n",
      "mins\n",
      "minutes\n",
      "secs\n",
      "hrs\n",
      "hours\n",
      "yrs\n",
      "months\n",
      "-------\n"
     ]
    },
    {
     "data": {
      "text/markdown": [
       "#### Rural"
      ],
      "text/plain": [
       "<IPython.core.display.Markdown object>"
      ]
     },
     "metadata": {},
     "output_type": "display_data"
    },
    {
     "name": "stdout",
     "output_type": "stream",
     "text": [
      "----------\n",
      "ot\n",
      "bbb\n",
      "preseason\n",
      "sb\n",
      "semis\n",
      "usc\n",
      "unc\n",
      "timeout\n",
      "acc\n",
      "semifinals\n",
      "----------\n"
     ]
    },
    {
     "data": {
      "text/markdown": [
       "# fair"
      ],
      "text/plain": [
       "<IPython.core.display.Markdown object>"
      ]
     },
     "metadata": {},
     "output_type": "display_data"
    },
    {
     "data": {
      "text/markdown": [
       "#### Urban"
      ],
      "text/plain": [
       "<IPython.core.display.Markdown object>"
      ]
     },
     "metadata": {},
     "output_type": "display_data"
    },
    {
     "name": "stdout",
     "output_type": "stream",
     "text": [
      "------------\n",
      "reasonable\n",
      "realistic\n",
      "valid\n",
      "tough\n",
      "inconsistent\n",
      "qualified\n",
      "suppose\n",
      "surprising\n",
      "complicated\n",
      "unlikely\n",
      "------------\n"
     ]
    },
    {
     "data": {
      "text/markdown": [
       "#### Rural"
      ],
      "text/plain": [
       "<IPython.core.display.Markdown object>"
      ]
     },
     "metadata": {},
     "output_type": "display_data"
    },
    {
     "name": "stdout",
     "output_type": "stream",
     "text": [
      "---------\n",
      "windy\n",
      "qualified\n",
      "fairs\n",
      "balanced\n",
      "mandatory\n",
      "public\n",
      "union\n",
      "affecting\n",
      "institute\n",
      "pickens\n",
      "---------\n"
     ]
    },
    {
     "data": {
      "text/markdown": [
       "# k"
      ],
      "text/plain": [
       "<IPython.core.display.Markdown object>"
      ]
     },
     "metadata": {},
     "output_type": "display_data"
    },
    {
     "data": {
      "text/markdown": [
       "#### Urban"
      ],
      "text/plain": [
       "<IPython.core.display.Markdown object>"
      ]
     },
     "metadata": {},
     "output_type": "display_data"
    },
    {
     "name": "stdout",
     "output_type": "stream",
     "text": [
      "----\n",
      "kay\n",
      "ok\n",
      "g\n",
      "coo\n",
      "nvm\n",
      "yea\n",
      "ol\n",
      "prob\n",
      "nah\n",
      "ah\n",
      "----\n"
     ]
    },
    {
     "data": {
      "text/markdown": [
       "#### Rural"
      ],
      "text/plain": [
       "<IPython.core.display.Markdown object>"
      ]
     },
     "metadata": {},
     "output_type": "display_data"
    },
    {
     "name": "stdout",
     "output_type": "stream",
     "text": [
      "-------\n",
      "g\n",
      "j\n",
      "h\n",
      "401\n",
      "rowling\n",
      "c\n",
      "e\n",
      "brien\n",
      "chc\n",
      "neill\n",
      "-------\n"
     ]
    },
    {
     "data": {
      "text/markdown": [
       "# banks"
      ],
      "text/plain": [
       "<IPython.core.display.Markdown object>"
      ]
     },
     "metadata": {},
     "output_type": "display_data"
    },
    {
     "data": {
      "text/markdown": [
       "#### Urban"
      ],
      "text/plain": [
       "<IPython.core.display.Markdown object>"
      ]
     },
     "metadata": {},
     "output_type": "display_data"
    },
    {
     "name": "stdout",
     "output_type": "stream",
     "text": [
      "-----------\n",
      "companies\n",
      "firms\n",
      "investments\n",
      "investors\n",
      "funds\n",
      "regulations\n",
      "profits\n",
      "payments\n",
      "assets\n",
      "pharma\n",
      "-----------\n"
     ]
    },
    {
     "data": {
      "text/markdown": [
       "#### Rural"
      ],
      "text/plain": [
       "<IPython.core.display.Markdown object>"
      ]
     },
     "metadata": {},
     "output_type": "display_data"
    },
    {
     "name": "stdout",
     "output_type": "stream",
     "text": [
      "--------\n",
      "miners\n",
      "mcdowell\n",
      "corbin\n",
      "ronald\n",
      "enzo\n",
      "norton\n",
      "vaughn\n",
      "dunn\n",
      "bart\n",
      "hoffman\n",
      "--------\n"
     ]
    },
    {
     "data": {
      "text/markdown": [
       "# gates"
      ],
      "text/plain": [
       "<IPython.core.display.Markdown object>"
      ]
     },
     "metadata": {},
     "output_type": "display_data"
    },
    {
     "data": {
      "text/markdown": [
       "#### Urban"
      ],
      "text/plain": [
       "<IPython.core.display.Markdown object>"
      ]
     },
     "metadata": {},
     "output_type": "display_data"
    },
    {
     "name": "stdout",
     "output_type": "stream",
     "text": [
      "-------\n",
      "doors\n",
      "gate\n",
      "door\n",
      "floor\n",
      "throne\n",
      "pipes\n",
      "ground\n",
      "corner\n",
      "waters\n",
      "highway\n",
      "-------\n"
     ]
    },
    {
     "data": {
      "text/markdown": [
       "#### Rural"
      ],
      "text/plain": [
       "<IPython.core.display.Markdown object>"
      ]
     },
     "metadata": {},
     "output_type": "display_data"
    },
    {
     "name": "stdout",
     "output_type": "stream",
     "text": [
      "------------\n",
      "owens\n",
      "hart\n",
      "ron\n",
      "spieth\n",
      "cassidy\n",
      "hamilton\n",
      "commissioner\n",
      "1975\n",
      "mic\n",
      "spacey\n",
      "------------\n"
     ]
    },
    {
     "data": {
      "text/markdown": [
       "# regular"
      ],
      "text/plain": [
       "<IPython.core.display.Markdown object>"
      ]
     },
     "metadata": {},
     "output_type": "display_data"
    },
    {
     "data": {
      "text/markdown": [
       "#### Urban"
      ],
      "text/plain": [
       "<IPython.core.display.Markdown object>"
      ]
     },
     "metadata": {},
     "output_type": "display_data"
    },
    {
     "name": "stdout",
     "output_type": "stream",
     "text": [
      "-------\n",
      "shitty\n",
      "limited\n",
      "decent\n",
      "normal\n",
      "full\n",
      "special\n",
      "free\n",
      "same\n",
      "solid\n",
      "good\n",
      "-------\n"
     ]
    },
    {
     "data": {
      "text/markdown": [
       "#### Rural"
      ],
      "text/plain": [
       "<IPython.core.display.Markdown object>"
      ]
     },
     "metadata": {},
     "output_type": "display_data"
    },
    {
     "name": "stdout",
     "output_type": "stream",
     "text": [
      "-----------\n",
      "competitive\n",
      "limited\n",
      "prep\n",
      "pre\n",
      "breakout\n",
      "next\n",
      "tonights\n",
      "playoff\n",
      "premier\n",
      "current\n",
      "-----------\n"
     ]
    },
    {
     "data": {
      "text/markdown": [
       "# pro"
      ],
      "text/plain": [
       "<IPython.core.display.Markdown object>"
      ]
     },
     "metadata": {},
     "output_type": "display_data"
    },
    {
     "data": {
      "text/markdown": [
       "#### Urban"
      ],
      "text/plain": [
       "<IPython.core.display.Markdown object>"
      ]
     },
     "metadata": {},
     "output_type": "display_data"
    },
    {
     "name": "stdout",
     "output_type": "stream",
     "text": [
      "------------\n",
      "anti\n",
      "professional\n",
      "binary\n",
      "strictly\n",
      "political\n",
      "hostile\n",
      "capitalist\n",
      "legitimate\n",
      "progressive\n",
      "corporate\n",
      "------------\n"
     ]
    },
    {
     "data": {
      "text/markdown": [
       "#### Rural"
      ],
      "text/plain": [
       "<IPython.core.display.Markdown object>"
      ]
     },
     "metadata": {},
     "output_type": "display_data"
    },
    {
     "name": "stdout",
     "output_type": "stream",
     "text": [
      "---------\n",
      "gaming\n",
      "micro\n",
      "4k\n",
      "mod\n",
      "organizer\n",
      "modded\n",
      "digital\n",
      "vr\n",
      "nintendo\n",
      "bricking\n",
      "---------\n"
     ]
    },
    {
     "data": {
      "text/markdown": [
       "# partly"
      ],
      "text/plain": [
       "<IPython.core.display.Markdown object>"
      ]
     },
     "metadata": {},
     "output_type": "display_data"
    },
    {
     "data": {
      "text/markdown": [
       "#### Urban"
      ],
      "text/plain": [
       "<IPython.core.display.Markdown object>"
      ]
     },
     "metadata": {},
     "output_type": "display_data"
    },
    {
     "name": "stdout",
     "output_type": "stream",
     "text": [
      "----------------\n",
      "partially\n",
      "mostly\n",
      "capitalism\n",
      "denial\n",
      "largely\n",
      "widespread\n",
      "justified\n",
      "unconstitutional\n",
      "consensus\n",
      "deliberate\n",
      "----------------\n"
     ]
    },
    {
     "data": {
      "text/markdown": [
       "#### Rural"
      ],
      "text/plain": [
       "<IPython.core.display.Markdown object>"
      ]
     },
     "metadata": {},
     "output_type": "display_data"
    },
    {
     "name": "stdout",
     "output_type": "stream",
     "text": [
      "--------\n",
      "cloudy\n",
      "patchy\n",
      "shwrs\n",
      "sctrd\n",
      "overcast\n",
      "sunny\n",
      "showers\n",
      "breezy\n",
      "48f\n",
      "79\n",
      "--------\n"
     ]
    },
    {
     "data": {
      "text/markdown": [
       "# guardian"
      ],
      "text/plain": [
       "<IPython.core.display.Markdown object>"
      ]
     },
     "metadata": {},
     "output_type": "display_data"
    },
    {
     "data": {
      "text/markdown": [
       "#### Urban"
      ],
      "text/plain": [
       "<IPython.core.display.Markdown object>"
      ]
     },
     "metadata": {},
     "output_type": "display_data"
    },
    {
     "name": "stdout",
     "output_type": "stream",
     "text": [
      "-------\n",
      "fetus\n",
      "nanny\n",
      "mother\n",
      "father\n",
      "beloved\n",
      "spirit\n",
      "messiah\n",
      "furry\n",
      "heroine\n",
      "child\n",
      "-------\n"
     ]
    },
    {
     "data": {
      "text/markdown": [
       "#### Rural"
      ],
      "text/plain": [
       "<IPython.core.display.Markdown object>"
      ]
     },
     "metadata": {},
     "output_type": "display_data"
    },
    {
     "name": "stdout",
     "output_type": "stream",
     "text": [
      "-------------\n",
      "oracle\n",
      "delivers\n",
      "herald\n",
      "revolutionary\n",
      "bbc\n",
      "explores\n",
      "creator\n",
      "restoration\n",
      "experimental\n",
      "columnist\n",
      "-------------\n"
     ]
    },
    {
     "data": {
      "text/markdown": [
       "# pat"
      ],
      "text/plain": [
       "<IPython.core.display.Markdown object>"
      ]
     },
     "metadata": {},
     "output_type": "display_data"
    },
    {
     "data": {
      "text/markdown": [
       "#### Urban"
      ],
      "text/plain": [
       "<IPython.core.display.Markdown object>"
      ]
     },
     "metadata": {},
     "output_type": "display_data"
    },
    {
     "name": "stdout",
     "output_type": "stream",
     "text": [
      "--------\n",
      "patting\n",
      "leash\n",
      "burner\n",
      "rub\n",
      "clap\n",
      "presses\n",
      "slap\n",
      "bouncing\n",
      "stomp\n",
      "cliff\n",
      "--------\n"
     ]
    },
    {
     "data": {
      "text/markdown": [
       "#### Rural"
      ],
      "text/plain": [
       "<IPython.core.display.Markdown object>"
      ]
     },
     "metadata": {},
     "output_type": "display_data"
    },
    {
     "name": "stdout",
     "output_type": "stream",
     "text": [
      "---------\n",
      "td\n",
      "touchdown\n",
      "yd\n",
      "garrett\n",
      "punt\n",
      "wilson\n",
      "freeman\n",
      "marshall\n",
      "nolan\n",
      "xp\n",
      "---------\n"
     ]
    },
    {
     "data": {
      "text/markdown": [
       "# foundation"
      ],
      "text/plain": [
       "<IPython.core.display.Markdown object>"
      ]
     },
     "metadata": {},
     "output_type": "display_data"
    },
    {
     "data": {
      "text/markdown": [
       "#### Urban"
      ],
      "text/plain": [
       "<IPython.core.display.Markdown object>"
      ]
     },
     "metadata": {},
     "output_type": "display_data"
    },
    {
     "name": "stdout",
     "output_type": "stream",
     "text": [
      "--------\n",
      "fabric\n",
      "brand\n",
      "wardrobe\n",
      "vision\n",
      "formula\n",
      "scent\n",
      "lipstick\n",
      "clothing\n",
      "mold\n",
      "sheet\n",
      "--------\n"
     ]
    },
    {
     "data": {
      "text/markdown": [
       "#### Rural"
      ],
      "text/plain": [
       "<IPython.core.display.Markdown object>"
      ]
     },
     "metadata": {},
     "output_type": "display_data"
    },
    {
     "name": "stdout",
     "output_type": "stream",
     "text": [
      "-----------\n",
      "excellence\n",
      "partnership\n",
      "dept\n",
      "committee\n",
      "advocates\n",
      "firm\n",
      "institute\n",
      "protections\n",
      "wealth\n",
      "donors\n",
      "-----------\n"
     ]
    },
    {
     "data": {
      "text/markdown": [
       "# dawn"
      ],
      "text/plain": [
       "<IPython.core.display.Markdown object>"
      ]
     },
     "metadata": {},
     "output_type": "display_data"
    },
    {
     "data": {
      "text/markdown": [
       "#### Urban"
      ],
      "text/plain": [
       "<IPython.core.display.Markdown object>"
      ]
     },
     "metadata": {},
     "output_type": "display_data"
    },
    {
     "name": "stdout",
     "output_type": "stream",
     "text": [
      "---------\n",
      "midnight\n",
      "sunrise\n",
      "dusk\n",
      "sun\n",
      "fog\n",
      "noon\n",
      "beginning\n",
      "2am\n",
      "1am\n",
      "climax\n",
      "---------\n"
     ]
    },
    {
     "data": {
      "text/markdown": [
       "#### Rural"
      ],
      "text/plain": [
       "<IPython.core.display.Markdown object>"
      ]
     },
     "metadata": {},
     "output_type": "display_data"
    },
    {
     "name": "stdout",
     "output_type": "stream",
     "text": [
      "------------\n",
      "horizon\n",
      "supernatural\n",
      "1993\n",
      "knight\n",
      "vii\n",
      "borderlands\n",
      "sega\n",
      "doom\n",
      "reaper\n",
      "capcom\n",
      "------------\n"
     ]
    },
    {
     "data": {
      "text/markdown": [
       "# waters"
      ],
      "text/plain": [
       "<IPython.core.display.Markdown object>"
      ]
     },
     "metadata": {},
     "output_type": "display_data"
    },
    {
     "data": {
      "text/markdown": [
       "#### Urban"
      ],
      "text/plain": [
       "<IPython.core.display.Markdown object>"
      ]
     },
     "metadata": {},
     "output_type": "display_data"
    },
    {
     "name": "stdout",
     "output_type": "stream",
     "text": [
      "---------\n",
      "forest\n",
      "trees\n",
      "sea\n",
      "mountains\n",
      "mountain\n",
      "storms\n",
      "tunnels\n",
      "islands\n",
      "fog\n",
      "sand\n",
      "---------\n"
     ]
    },
    {
     "data": {
      "text/markdown": [
       "#### Rural"
      ],
      "text/plain": [
       "<IPython.core.display.Markdown object>"
      ]
     },
     "metadata": {},
     "output_type": "display_data"
    },
    {
     "name": "stdout",
     "output_type": "stream",
     "text": [
      "----------\n",
      "chaos\n",
      "swamp\n",
      "pelosi\n",
      "powers\n",
      "taliban\n",
      "netanyahu\n",
      "falsehoods\n",
      "corruption\n",
      "paranoia\n",
      "idiocy\n",
      "----------\n"
     ]
    },
    {
     "data": {
      "text/markdown": [
       "# surprise"
      ],
      "text/plain": [
       "<IPython.core.display.Markdown object>"
      ]
     },
     "metadata": {},
     "output_type": "display_data"
    },
    {
     "data": {
      "text/markdown": [
       "#### Urban"
      ],
      "text/plain": [
       "<IPython.core.display.Markdown object>"
      ]
     },
     "metadata": {},
     "output_type": "display_data"
    },
    {
     "name": "stdout",
     "output_type": "stream",
     "text": [
      "------------\n",
      "date\n",
      "greeting\n",
      "joke\n",
      "announcement\n",
      "tease\n",
      "surprises\n",
      "mention\n",
      "mess\n",
      "picture\n",
      "special\n",
      "------------\n"
     ]
    },
    {
     "data": {
      "text/markdown": [
       "#### Rural"
      ],
      "text/plain": [
       "<IPython.core.display.Markdown object>"
      ]
     },
     "metadata": {},
     "output_type": "display_data"
    },
    {
     "name": "stdout",
     "output_type": "stream",
     "text": [
      "--------\n",
      "invite\n",
      "answer\n",
      "message\n",
      "concern\n",
      "hug\n",
      "date\n",
      "response\n",
      "gift\n",
      "steal\n",
      "accept\n",
      "--------\n"
     ]
    },
    {
     "data": {
      "text/markdown": [
       "# estimated"
      ],
      "text/plain": [
       "<IPython.core.display.Markdown object>"
      ]
     },
     "metadata": {},
     "output_type": "display_data"
    },
    {
     "data": {
      "text/markdown": [
       "#### Urban"
      ],
      "text/plain": [
       "<IPython.core.display.Markdown object>"
      ]
     },
     "metadata": {},
     "output_type": "display_data"
    },
    {
     "name": "stdout",
     "output_type": "stream",
     "text": [
      "-------------\n",
      "320\n",
      "roughly\n",
      "depart\n",
      "reduced\n",
      "110\n",
      "avg\n",
      "65\n",
      "approximately\n",
      "37\n",
      "expected\n",
      "-------------\n"
     ]
    },
    {
     "data": {
      "text/markdown": [
       "#### Rural"
      ],
      "text/plain": [
       "<IPython.core.display.Markdown object>"
      ]
     },
     "metadata": {},
     "output_type": "display_data"
    },
    {
     "name": "stdout",
     "output_type": "stream",
     "text": [
      "------------\n",
      "additional\n",
      "impasse\n",
      "extension\n",
      "alarming\n",
      "enormous\n",
      "earthquake\n",
      "abomination\n",
      "afterthought\n",
      "affront\n",
      "oxymoron\n",
      "------------\n"
     ]
    },
    {
     "data": {
      "text/markdown": [
       "# steady"
      ],
      "text/plain": [
       "<IPython.core.display.Markdown object>"
      ]
     },
     "metadata": {},
     "output_type": "display_data"
    },
    {
     "data": {
      "text/markdown": [
       "#### Urban"
      ],
      "text/plain": [
       "<IPython.core.display.Markdown object>"
      ]
     },
     "metadata": {},
     "output_type": "display_data"
    },
    {
     "name": "stdout",
     "output_type": "stream",
     "text": [
      "------\n",
      "slow\n",
      "low\n",
      "down\n",
      "heavy\n",
      "high\n",
      "slowly\n",
      "dry\n",
      "still\n",
      "speed\n",
      "strong\n",
      "------\n"
     ]
    },
    {
     "data": {
      "text/markdown": [
       "#### Rural"
      ],
      "text/plain": [
       "<IPython.core.display.Markdown object>"
      ]
     },
     "metadata": {},
     "output_type": "display_data"
    },
    {
     "name": "stdout",
     "output_type": "stream",
     "text": [
      "-----------\n",
      "barometer\n",
      "rapidly\n",
      "rising\n",
      "baro\n",
      "temperature\n",
      "chl\n",
      "falling\n",
      "inhg\n",
      "slowly\n",
      "slp\n",
      "-----------\n"
     ]
    },
    {
     "data": {
      "text/markdown": [
       "# especially"
      ],
      "text/plain": [
       "<IPython.core.display.Markdown object>"
      ]
     },
     "metadata": {},
     "output_type": "display_data"
    },
    {
     "data": {
      "text/markdown": [
       "#### Urban"
      ],
      "text/plain": [
       "<IPython.core.display.Markdown object>"
      ]
     },
     "metadata": {},
     "output_type": "display_data"
    },
    {
     "name": "stdout",
     "output_type": "stream",
     "text": [
      "------------\n",
      "specially\n",
      "esp\n",
      "particularly\n",
      "except\n",
      "dealing\n",
      "rooted\n",
      "hate\n",
      "ven\n",
      "mostly\n",
      "were\n",
      "------------\n"
     ]
    },
    {
     "data": {
      "text/markdown": [
       "#### Rural"
      ],
      "text/plain": [
       "<IPython.core.display.Markdown object>"
      ]
     },
     "metadata": {},
     "output_type": "display_data"
    },
    {
     "name": "stdout",
     "output_type": "stream",
     "text": [
      "-------------\n",
      "esp\n",
      "are\n",
      "were\n",
      "dealing\n",
      "comes\n",
      "relationships\n",
      "re\n",
      "except\n",
      "happens\n",
      "keeping\n",
      "-------------\n"
     ]
    },
    {
     "data": {
      "text/markdown": [
       "# jan"
      ],
      "text/plain": [
       "<IPython.core.display.Markdown object>"
      ]
     },
     "metadata": {},
     "output_type": "display_data"
    },
    {
     "data": {
      "text/markdown": [
       "#### Urban"
      ],
      "text/plain": [
       "<IPython.core.display.Markdown object>"
      ]
     },
     "metadata": {},
     "output_type": "display_data"
    },
    {
     "name": "stdout",
     "output_type": "stream",
     "text": [
      "------\n",
      "dito\n",
      "sige\n",
      "nako\n",
      "sana\n",
      "akong\n",
      "bukas\n",
      "kuya\n",
      "galing\n",
      "maka\n",
      "ganun\n",
      "------\n"
     ]
    },
    {
     "data": {
      "text/markdown": [
       "#### Rural"
      ],
      "text/plain": [
       "<IPython.core.display.Markdown object>"
      ]
     },
     "metadata": {},
     "output_type": "display_data"
    },
    {
     "name": "stdout",
     "output_type": "stream",
     "text": [
      "---------\n",
      "aug\n",
      "feb\n",
      "sept\n",
      "sep\n",
      "oct\n",
      "january\n",
      "september\n",
      "june\n",
      "apr\n",
      "april\n",
      "---------\n"
     ]
    },
    {
     "data": {
      "text/markdown": [
       "# duty"
      ],
      "text/plain": [
       "<IPython.core.display.Markdown object>"
      ]
     },
     "metadata": {},
     "output_type": "display_data"
    },
    {
     "data": {
      "text/markdown": [
       "#### Urban"
      ],
      "text/plain": [
       "<IPython.core.display.Markdown object>"
      ]
     },
     "metadata": {},
     "output_type": "display_data"
    },
    {
     "name": "stdout",
     "output_type": "stream",
     "text": [
      "-----------\n",
      "officers\n",
      "duties\n",
      "officer\n",
      "citizenship\n",
      "police\n",
      "court\n",
      "suspicion\n",
      "staff\n",
      "employees\n",
      "clinic\n",
      "-----------\n"
     ]
    },
    {
     "data": {
      "text/markdown": [
       "#### Rural"
      ],
      "text/plain": [
       "<IPython.core.display.Markdown object>"
      ]
     },
     "metadata": {},
     "output_type": "display_data"
    },
    {
     "name": "stdout",
     "output_type": "stream",
     "text": [
      "--------\n",
      "warfare\n",
      "911\n",
      "infinite\n",
      "888\n",
      "516\n",
      "ww2\n",
      "ops\n",
      "877\n",
      "631\n",
      "curtain\n",
      "--------\n"
     ]
    },
    {
     "data": {
      "text/markdown": [
       "# syndrome"
      ],
      "text/plain": [
       "<IPython.core.display.Markdown object>"
      ]
     },
     "metadata": {},
     "output_type": "display_data"
    },
    {
     "data": {
      "text/markdown": [
       "#### Urban"
      ],
      "text/plain": [
       "<IPython.core.display.Markdown object>"
      ]
     },
     "metadata": {},
     "output_type": "display_data"
    },
    {
     "name": "stdout",
     "output_type": "stream",
     "text": [
      "---------\n",
      "chronic\n",
      "tumor\n",
      "disease\n",
      "dementia\n",
      "severe\n",
      "stem\n",
      "fractured\n",
      "induced\n",
      "infection\n",
      "abdominal\n",
      "---------\n"
     ]
    },
    {
     "data": {
      "text/markdown": [
       "#### Rural"
      ],
      "text/plain": [
       "<IPython.core.display.Markdown object>"
      ]
     },
     "metadata": {},
     "output_type": "display_data"
    },
    {
     "name": "stdout",
     "output_type": "stream",
     "text": [
      "---------\n",
      "dumbing\n",
      "boils\n",
      "trickle\n",
      "spiraling\n",
      "flushed\n",
      "slowing\n",
      "slowed\n",
      "rash\n",
      "upside\n",
      "slows\n",
      "---------\n"
     ]
    },
    {
     "data": {
      "text/markdown": [
       "# formal"
      ],
      "text/plain": [
       "<IPython.core.display.Markdown object>"
      ]
     },
     "metadata": {},
     "output_type": "display_data"
    },
    {
     "data": {
      "text/markdown": [
       "#### Urban"
      ],
      "text/plain": [
       "<IPython.core.display.Markdown object>"
      ]
     },
     "metadata": {},
     "output_type": "display_data"
    },
    {
     "name": "stdout",
     "output_type": "stream",
     "text": [
      "-------------\n",
      "public\n",
      "proper\n",
      "requirement\n",
      "private\n",
      "required\n",
      "mandatory\n",
      "controversial\n",
      "traditional\n",
      "legal\n",
      "specific\n",
      "-------------\n"
     ]
    },
    {
     "data": {
      "text/markdown": [
       "#### Rural"
      ],
      "text/plain": [
       "<IPython.core.display.Markdown object>"
      ]
     },
     "metadata": {},
     "output_type": "display_data"
    },
    {
     "name": "stdout",
     "output_type": "stream",
     "text": [
      "------------\n",
      "planner\n",
      "ballet\n",
      "vendor\n",
      "rehearsal\n",
      "fundraiser\n",
      "hoco\n",
      "bms\n",
      "wedding\n",
      "workshop\n",
      "personalized\n",
      "------------\n"
     ]
    },
    {
     "data": {
      "text/markdown": [
       "# distance"
      ],
      "text/plain": [
       "<IPython.core.display.Markdown object>"
      ]
     },
     "metadata": {},
     "output_type": "display_data"
    },
    {
     "data": {
      "text/markdown": [
       "#### Urban"
      ],
      "text/plain": [
       "<IPython.core.display.Markdown object>"
      ]
     },
     "metadata": {},
     "output_type": "display_data"
    },
    {
     "name": "stdout",
     "output_type": "stream",
     "text": [
      "----------\n",
      "path\n",
      "struggle\n",
      "away\n",
      "breath\n",
      "suffering\n",
      "failure\n",
      "negativity\n",
      "silence\n",
      "reflection\n",
      "distances\n",
      "----------\n"
     ]
    },
    {
     "data": {
      "text/markdown": [
       "#### Rural"
      ],
      "text/plain": [
       "<IPython.core.display.Markdown object>"
      ]
     },
     "metadata": {},
     "output_type": "display_data"
    },
    {
     "name": "stdout",
     "output_type": "stream",
     "text": [
      "--------\n",
      "range\n",
      "mile\n",
      "jump\n",
      "lasting\n",
      "weighing\n",
      "foot\n",
      "struggle\n",
      "ground\n",
      "away\n",
      "stride\n",
      "--------\n"
     ]
    },
    {
     "data": {
      "text/markdown": [
       "# marks"
      ],
      "text/plain": [
       "<IPython.core.display.Markdown object>"
      ]
     },
     "metadata": {},
     "output_type": "display_data"
    },
    {
     "data": {
      "text/markdown": [
       "#### Urban"
      ],
      "text/plain": [
       "<IPython.core.display.Markdown object>"
      ]
     },
     "metadata": {},
     "output_type": "display_data"
    },
    {
     "name": "stdout",
     "output_type": "stream",
     "text": [
      "-----------\n",
      "final\n",
      "consecutive\n",
      "caps\n",
      "mark\n",
      "workouts\n",
      "leg\n",
      "four\n",
      "three\n",
      "last\n",
      "sentences\n",
      "-----------\n"
     ]
    },
    {
     "data": {
      "text/markdown": [
       "#### Rural"
      ],
      "text/plain": [
       "<IPython.core.display.Markdown object>"
      ]
     },
     "metadata": {},
     "output_type": "display_data"
    },
    {
     "name": "stdout",
     "output_type": "stream",
     "text": [
      "-----------\n",
      "estory\n",
      "finishing\n",
      "pantone\n",
      "warmest\n",
      "completes\n",
      "modified\n",
      "neia\n",
      "triceps\n",
      "prophesying\n",
      "begins\n",
      "-----------\n"
     ]
    },
    {
     "data": {
      "text/markdown": [
       "# jack"
      ],
      "text/plain": [
       "<IPython.core.display.Markdown object>"
      ]
     },
     "metadata": {},
     "output_type": "display_data"
    },
    {
     "data": {
      "text/markdown": [
       "#### Urban"
      ],
      "text/plain": [
       "<IPython.core.display.Markdown object>"
      ]
     },
     "metadata": {},
     "output_type": "display_data"
    },
    {
     "name": "stdout",
     "output_type": "stream",
     "text": [
      "-------\n",
      "coke\n",
      "henny\n",
      "catfish\n",
      "vape\n",
      "crack\n",
      "jacks\n",
      "duck\n",
      "whip\n",
      "juice\n",
      "mac\n",
      "-------\n"
     ]
    },
    {
     "data": {
      "text/markdown": [
       "#### Rural"
      ],
      "text/plain": [
       "<IPython.core.display.Markdown object>"
      ]
     },
     "metadata": {},
     "output_type": "display_data"
    },
    {
     "name": "stdout",
     "output_type": "stream",
     "text": [
      "-----\n",
      "jerry\n",
      "tommy\n",
      "pete\n",
      "benny\n",
      "andy\n",
      "greg\n",
      "dean\n",
      "bobby\n",
      "larry\n",
      "fred\n",
      "-----\n"
     ]
    },
    {
     "data": {
      "text/markdown": [
       "# semi"
      ],
      "text/plain": [
       "<IPython.core.display.Markdown object>"
      ]
     },
     "metadata": {},
     "output_type": "display_data"
    },
    {
     "data": {
      "text/markdown": [
       "#### Urban"
      ],
      "text/plain": [
       "<IPython.core.display.Markdown object>"
      ]
     },
     "metadata": {},
     "output_type": "display_data"
    },
    {
     "name": "stdout",
     "output_type": "stream",
     "text": [
      "---------\n",
      "gene\n",
      "after\n",
      "drone\n",
      "teen\n",
      "during\n",
      "comp\n",
      "fabrics\n",
      "operation\n",
      "rocket\n",
      "unit\n",
      "---------\n"
     ]
    },
    {
     "data": {
      "text/markdown": [
       "#### Rural"
      ],
      "text/plain": [
       "<IPython.core.display.Markdown object>"
      ]
     },
     "metadata": {},
     "output_type": "display_data"
    },
    {
     "name": "stdout",
     "output_type": "stream",
     "text": [
      "------------\n",
      "sectional\n",
      "semifinal\n",
      "tourney\n",
      "semifinals\n",
      "quarterfinal\n",
      "regional\n",
      "tournament\n",
      "4a\n",
      "aa\n",
      "semis\n",
      "------------\n"
     ]
    },
    {
     "data": {
      "text/markdown": [
       "# afterwards"
      ],
      "text/plain": [
       "<IPython.core.display.Markdown object>"
      ]
     },
     "metadata": {},
     "output_type": "display_data"
    },
    {
     "data": {
      "text/markdown": [
       "#### Urban"
      ],
      "text/plain": [
       "<IPython.core.display.Markdown object>"
      ]
     },
     "metadata": {},
     "output_type": "display_data"
    },
    {
     "name": "stdout",
     "output_type": "stream",
     "text": [
      "------------\n",
      "everytime\n",
      "stoned\n",
      "occasionally\n",
      "then\n",
      "anyways\n",
      "sloppy\n",
      "sometimes\n",
      "b4\n",
      "suddenly\n",
      "stale\n",
      "------------\n"
     ]
    },
    {
     "data": {
      "text/markdown": [
       "#### Rural"
      ],
      "text/plain": [
       "<IPython.core.display.Markdown object>"
      ]
     },
     "metadata": {},
     "output_type": "display_data"
    },
    {
     "name": "stdout",
     "output_type": "stream",
     "text": [
      "---------\n",
      "bleach\n",
      "percocet\n",
      "mmmmm\n",
      "proceeded\n",
      "runny\n",
      "ramen\n",
      "cough\n",
      "meatloaf\n",
      "twinkies\n",
      "taters\n",
      "---------\n"
     ]
    },
    {
     "data": {
      "text/markdown": [
       "# falls"
      ],
      "text/plain": [
       "<IPython.core.display.Markdown object>"
      ]
     },
     "metadata": {},
     "output_type": "display_data"
    },
    {
     "data": {
      "text/markdown": [
       "#### Urban"
      ],
      "text/plain": [
       "<IPython.core.display.Markdown object>"
      ]
     },
     "metadata": {},
     "output_type": "display_data"
    },
    {
     "name": "stdout",
     "output_type": "stream",
     "text": [
      "------\n",
      "goes\n",
      "fell\n",
      "pulls\n",
      "jumps\n",
      "holds\n",
      "runs\n",
      "puts\n",
      "turns\n",
      "comes\n",
      "leaves\n",
      "------\n"
     ]
    },
    {
     "data": {
      "text/markdown": [
       "#### Rural"
      ],
      "text/plain": [
       "<IPython.core.display.Markdown object>"
      ]
     },
     "metadata": {},
     "output_type": "display_data"
    },
    {
     "name": "stdout",
     "output_type": "stream",
     "text": [
      "----------\n",
      "chatfield\n",
      "valley\n",
      "brewster\n",
      "leads\n",
      "bloomfield\n",
      "loses\n",
      "defeats\n",
      "msoc\n",
      "climbs\n",
      "fergus\n",
      "----------\n"
     ]
    },
    {
     "data": {
      "text/markdown": [
       "# marked"
      ],
      "text/plain": [
       "<IPython.core.display.Markdown object>"
      ]
     },
     "metadata": {},
     "output_type": "display_data"
    },
    {
     "data": {
      "text/markdown": [
       "#### Urban"
      ],
      "text/plain": [
       "<IPython.core.display.Markdown object>"
      ]
     },
     "metadata": {},
     "output_type": "display_data"
    },
    {
     "name": "stdout",
     "output_type": "stream",
     "text": [
      "-------\n",
      "placed\n",
      "counted\n",
      "drawn\n",
      "passed\n",
      "held\n",
      "backed\n",
      "doubled\n",
      "sold\n",
      "locked\n",
      "wiped\n",
      "-------\n"
     ]
    },
    {
     "data": {
      "text/markdown": [
       "#### Rural"
      ],
      "text/plain": [
       "<IPython.core.display.Markdown object>"
      ]
     },
     "metadata": {},
     "output_type": "display_data"
    },
    {
     "name": "stdout",
     "output_type": "stream",
     "text": [
      "----------\n",
      "evidenced\n",
      "pendent\n",
      "melodrama\n",
      "described\n",
      "defined\n",
      "usual\n",
      "regarded\n",
      "approaches\n",
      "disguised\n",
      "cited\n",
      "----------\n"
     ]
    },
    {
     "data": {
      "text/markdown": [
       "# liked"
      ],
      "text/plain": [
       "<IPython.core.display.Markdown object>"
      ]
     },
     "metadata": {},
     "output_type": "display_data"
    },
    {
     "data": {
      "text/markdown": [
       "#### Urban"
      ],
      "text/plain": [
       "<IPython.core.display.Markdown object>"
      ]
     },
     "metadata": {},
     "output_type": "display_data"
    },
    {
     "name": "stdout",
     "output_type": "stream",
     "text": [
      "---------\n",
      "stole\n",
      "saw\n",
      "added\n",
      "posted\n",
      "watched\n",
      "disliked\n",
      "dated\n",
      "retweeted\n",
      "hated\n",
      "grabbed\n",
      "---------\n"
     ]
    },
    {
     "data": {
      "text/markdown": [
       "#### Rural"
      ],
      "text/plain": [
       "<IPython.core.display.Markdown object>"
      ]
     },
     "metadata": {},
     "output_type": "display_data"
    },
    {
     "name": "stdout",
     "output_type": "stream",
     "text": [
      "-----------------\n",
      "playlist\n",
      "agregu\n",
      "hoodclips\n",
      "lyric\n",
      "conferencing\n",
      "dailymotion\n",
      "houseofhighlights\n",
      "added\n",
      "gustara\n",
      "crenova\n",
      "-----------------\n"
     ]
    },
    {
     "data": {
      "text/markdown": [
       "# funeral"
      ],
      "text/plain": [
       "<IPython.core.display.Markdown object>"
      ]
     },
     "metadata": {},
     "output_type": "display_data"
    },
    {
     "data": {
      "text/markdown": [
       "#### Urban"
      ],
      "text/plain": [
       "<IPython.core.display.Markdown object>"
      ]
     },
     "metadata": {},
     "output_type": "display_data"
    },
    {
     "name": "stdout",
     "output_type": "stream",
     "text": [
      "----------\n",
      "wedding\n",
      "graduation\n",
      "daughter\n",
      "grandmas\n",
      "son\n",
      "husband\n",
      "hometown\n",
      "dad\n",
      "mom\n",
      "wife\n",
      "----------\n"
     ]
    },
    {
     "data": {
      "text/markdown": [
       "#### Rural"
      ],
      "text/plain": [
       "<IPython.core.display.Markdown object>"
      ]
     },
     "metadata": {},
     "output_type": "display_data"
    },
    {
     "name": "stdout",
     "output_type": "stream",
     "text": [
      "---------\n",
      "furever\n",
      "residence\n",
      "cemetery\n",
      "realtor\n",
      "reception\n",
      "clinic\n",
      "depot\n",
      "perform\n",
      "ida\n",
      "candidacy\n",
      "---------\n"
     ]
    },
    {
     "data": {
      "text/markdown": [
       "# faced"
      ],
      "text/plain": [
       "<IPython.core.display.Markdown object>"
      ]
     },
     "metadata": {},
     "output_type": "display_data"
    },
    {
     "data": {
      "text/markdown": [
       "#### Urban"
      ],
      "text/plain": [
       "<IPython.core.display.Markdown object>"
      ]
     },
     "metadata": {},
     "output_type": "display_data"
    },
    {
     "name": "stdout",
     "output_type": "stream",
     "text": [
      "---------\n",
      "dealt\n",
      "suffered\n",
      "destroyed\n",
      "drawn\n",
      "touched\n",
      "formed\n",
      "catches\n",
      "replaced\n",
      "beaten\n",
      "caused\n",
      "---------\n"
     ]
    },
    {
     "data": {
      "text/markdown": [
       "#### Rural"
      ],
      "text/plain": [
       "<IPython.core.display.Markdown object>"
      ]
     },
     "metadata": {},
     "output_type": "display_data"
    },
    {
     "name": "stdout",
     "output_type": "stream",
     "text": [
      "-----------\n",
      "sided\n",
      "snowflakes\n",
      "greedy\n",
      "fascists\n",
      "brainwashed\n",
      "thirds\n",
      "bigots\n",
      "liars\n",
      "gutless\n",
      "heartless\n",
      "-----------\n"
     ]
    },
    {
     "data": {
      "text/markdown": [
       "# fame"
      ],
      "text/plain": [
       "<IPython.core.display.Markdown object>"
      ]
     },
     "metadata": {},
     "output_type": "display_data"
    },
    {
     "data": {
      "text/markdown": [
       "#### Urban"
      ],
      "text/plain": [
       "<IPython.core.display.Markdown object>"
      ]
     },
     "metadata": {},
     "output_type": "display_data"
    },
    {
     "name": "stdout",
     "output_type": "stream",
     "text": [
      "-------------\n",
      "famer\n",
      "misery\n",
      "king\n",
      "life\n",
      "righteousness\n",
      "rest\n",
      "glory\n",
      "freedom\n",
      "history\n",
      "politics\n",
      "-------------\n"
     ]
    },
    {
     "data": {
      "text/markdown": [
       "#### Rural"
      ],
      "text/plain": [
       "<IPython.core.display.Markdown object>"
      ]
     },
     "metadata": {},
     "output_type": "display_data"
    },
    {
     "name": "stdout",
     "output_type": "stream",
     "text": [
      "----------\n",
      "famer\n",
      "famers\n",
      "oates\n",
      "consisting\n",
      "king\n",
      "induction\n",
      "courtesy\n",
      "lords\n",
      "tamron\n",
      "seton\n",
      "----------\n"
     ]
    },
    {
     "data": {
      "text/markdown": [
       "# clock"
      ],
      "text/plain": [
       "<IPython.core.display.Markdown object>"
      ]
     },
     "metadata": {},
     "output_type": "display_data"
    },
    {
     "data": {
      "text/markdown": [
       "#### Urban"
      ],
      "text/plain": [
       "<IPython.core.display.Markdown object>"
      ]
     },
     "metadata": {},
     "output_type": "display_data"
    },
    {
     "name": "stdout",
     "output_type": "stream",
     "text": [
      "-------\n",
      "windows\n",
      "freeway\n",
      "shift\n",
      "gym\n",
      "window\n",
      "floor\n",
      "foot\n",
      "yard\n",
      "pitches\n",
      "gate\n",
      "-------\n"
     ]
    },
    {
     "data": {
      "text/markdown": [
       "#### Rural"
      ],
      "text/plain": [
       "<IPython.core.display.Markdown object>"
      ]
     },
     "metadata": {},
     "output_type": "display_data"
    },
    {
     "name": "stdout",
     "output_type": "stream",
     "text": [
      "-------\n",
      "ticking\n",
      "neill\n",
      "yds\n",
      "ahu\n",
      "yd\n",
      "brien\n",
      "pm2\n",
      "donnell\n",
      "yards\n",
      "yard\n",
      "-------\n"
     ]
    },
    {
     "data": {
      "text/markdown": [
       "# single"
      ],
      "text/plain": [
       "<IPython.core.display.Markdown object>"
      ]
     },
     "metadata": {},
     "output_type": "display_data"
    },
    {
     "data": {
      "text/markdown": [
       "#### Urban"
      ],
      "text/plain": [
       "<IPython.core.display.Markdown object>"
      ]
     },
     "metadata": {},
     "output_type": "display_data"
    },
    {
     "name": "stdout",
     "output_type": "stream",
     "text": [
      "----------\n",
      "track\n",
      "one\n",
      "song\n",
      "female\n",
      "album\n",
      "possession\n",
      "brand\n",
      "record\n",
      "mixtape\n",
      "penny\n",
      "----------\n"
     ]
    },
    {
     "data": {
      "text/markdown": [
       "#### Rural"
      ],
      "text/plain": [
       "<IPython.core.display.Markdown object>"
      ]
     },
     "metadata": {},
     "output_type": "display_data"
    },
    {
     "name": "stdout",
     "output_type": "stream",
     "text": [
      "----------\n",
      "rbi\n",
      "double\n",
      "groundout\n",
      "redeemable\n",
      "second\n",
      "leadoff\n",
      "strikeout\n",
      "infield\n",
      "bunt\n",
      "aspect\n",
      "----------\n"
     ]
    },
    {
     "data": {
      "text/markdown": [
       "# boys"
      ],
      "text/plain": [
       "<IPython.core.display.Markdown object>"
      ]
     },
     "metadata": {},
     "output_type": "display_data"
    },
    {
     "data": {
      "text/markdown": [
       "#### Urban"
      ],
      "text/plain": [
       "<IPython.core.display.Markdown object>"
      ]
     },
     "metadata": {},
     "output_type": "display_data"
    },
    {
     "name": "stdout",
     "output_type": "stream",
     "text": [
      "---------\n",
      "girls\n",
      "dudes\n",
      "kids\n",
      "bros\n",
      "homies\n",
      "bitches\n",
      "ladies\n",
      "chicks\n",
      "strippers\n",
      "cousins\n",
      "---------\n"
     ]
    },
    {
     "data": {
      "text/markdown": [
       "#### Rural"
      ],
      "text/plain": [
       "<IPython.core.display.Markdown object>"
      ]
     },
     "metadata": {},
     "output_type": "display_data"
    },
    {
     "name": "stdout",
     "output_type": "stream",
     "text": [
      "------------\n",
      "girls\n",
      "jv\n",
      "softball\n",
      "varsity\n",
      "wildcats\n",
      "panthers\n",
      "volleyball\n",
      "tigers\n",
      "cheerleaders\n",
      "teams\n",
      "------------\n"
     ]
    },
    {
     "data": {
      "text/markdown": [
       "# apple"
      ],
      "text/plain": [
       "<IPython.core.display.Markdown object>"
      ]
     },
     "metadata": {},
     "output_type": "display_data"
    },
    {
     "data": {
      "text/markdown": [
       "#### Urban"
      ],
      "text/plain": [
       "<IPython.core.display.Markdown object>"
      ]
     },
     "metadata": {},
     "output_type": "display_data"
    },
    {
     "name": "stdout",
     "output_type": "stream",
     "text": [
      "---------\n",
      "avocado\n",
      "onion\n",
      "mac\n",
      "iced\n",
      "pineapple\n",
      "edible\n",
      "vinegar\n",
      "egg\n",
      "grape\n",
      "organic\n",
      "---------\n"
     ]
    },
    {
     "data": {
      "text/markdown": [
       "#### Rural"
      ],
      "text/plain": [
       "<IPython.core.display.Markdown object>"
      ]
     },
     "metadata": {},
     "output_type": "display_data"
    },
    {
     "name": "stdout",
     "output_type": "stream",
     "text": [
      "--------\n",
      "verizon\n",
      "samsung\n",
      "iphone\n",
      "ethernet\n",
      "ios\n",
      "roku\n",
      "android\n",
      "oled\n",
      "echo\n",
      "cnet\n",
      "--------\n"
     ]
    },
    {
     "data": {
      "text/markdown": [
       "# here"
      ],
      "text/plain": [
       "<IPython.core.display.Markdown object>"
      ]
     },
     "metadata": {},
     "output_type": "display_data"
    },
    {
     "data": {
      "text/markdown": [
       "#### Urban"
      ],
      "text/plain": [
       "<IPython.core.display.Markdown object>"
      ]
     },
     "metadata": {},
     "output_type": "display_data"
    },
    {
     "name": "stdout",
     "output_type": "stream",
     "text": [
      "-------\n",
      "there\n",
      "now\n",
      "where\n",
      "ere\n",
      "today\n",
      "missing\n",
      "that\n",
      "and\n",
      "hat\n",
      "still\n",
      "-------\n"
     ]
    },
    {
     "data": {
      "text/markdown": [
       "#### Rural"
      ],
      "text/plain": [
       "<IPython.core.display.Markdown object>"
      ]
     },
     "metadata": {},
     "output_type": "display_data"
    },
    {
     "name": "stdout",
     "output_type": "stream",
     "text": [
      "---------\n",
      "there\n",
      "now\n",
      "where\n",
      "website\n",
      "below\n",
      "corner\n",
      "this\n",
      "online\n",
      "busy\n",
      "connected\n",
      "---------\n"
     ]
    },
    {
     "data": {
      "text/markdown": [
       "# interested"
      ],
      "text/plain": [
       "<IPython.core.display.Markdown object>"
      ]
     },
     "metadata": {},
     "output_type": "display_data"
    },
    {
     "data": {
      "text/markdown": [
       "#### Urban"
      ],
      "text/plain": [
       "<IPython.core.display.Markdown object>"
      ]
     },
     "metadata": {},
     "output_type": "display_data"
    },
    {
     "name": "stdout",
     "output_type": "stream",
     "text": [
      "-------------\n",
      "participating\n",
      "disappointed\n",
      "invested\n",
      "involved\n",
      "trouble\n",
      "confident\n",
      "debating\n",
      "general\n",
      "specific\n",
      "active\n",
      "-------------\n"
     ]
    },
    {
     "data": {
      "text/markdown": [
       "#### Rural"
      ],
      "text/plain": [
       "<IPython.core.display.Markdown object>"
      ]
     },
     "metadata": {},
     "output_type": "display_data"
    },
    {
     "name": "stdout",
     "output_type": "stream",
     "text": [
      "-------------\n",
      "participating\n",
      "ak\n",
      "recommend\n",
      "participate\n",
      "md\n",
      "ct\n",
      "newspaper\n",
      "details\n",
      "area\n",
      "included\n",
      "-------------\n"
     ]
    },
    {
     "data": {
      "text/markdown": [
       "# labor"
      ],
      "text/plain": [
       "<IPython.core.display.Markdown object>"
      ]
     },
     "metadata": {},
     "output_type": "display_data"
    },
    {
     "data": {
      "text/markdown": [
       "#### Urban"
      ],
      "text/plain": [
       "<IPython.core.display.Markdown object>"
      ]
     },
     "metadata": {},
     "output_type": "display_data"
    },
    {
     "name": "stdout",
     "output_type": "stream",
     "text": [
      "--------------\n",
      "housing\n",
      "protection\n",
      "education\n",
      "financial\n",
      "workers\n",
      "employment\n",
      "military\n",
      "medical\n",
      "infrastructure\n",
      "funding\n",
      "--------------\n"
     ]
    },
    {
     "data": {
      "text/markdown": [
       "#### Rural"
      ],
      "text/plain": [
       "<IPython.core.display.Markdown object>"
      ]
     },
     "metadata": {},
     "output_type": "display_data"
    },
    {
     "name": "stdout",
     "output_type": "stream",
     "text": [
      "-------------\n",
      "independence\n",
      "memorial\n",
      "mlk\n",
      "hump\n",
      "international\n",
      "national\n",
      "sciences\n",
      "statewide\n",
      "awareness\n",
      "valentines\n",
      "-------------\n"
     ]
    },
    {
     "data": {
      "text/markdown": [
       "# wide"
      ],
      "text/plain": [
       "<IPython.core.display.Markdown object>"
      ]
     },
     "metadata": {},
     "output_type": "display_data"
    },
    {
     "data": {
      "text/markdown": [
       "#### Urban"
      ],
      "text/plain": [
       "<IPython.core.display.Markdown object>"
      ]
     },
     "metadata": {},
     "output_type": "display_data"
    },
    {
     "name": "stdout",
     "output_type": "stream",
     "text": [
      "--------\n",
      "soft\n",
      "heavy\n",
      "large\n",
      "strong\n",
      "small\n",
      "narrow\n",
      "full\n",
      "massive\n",
      "the\n",
      "overhead\n",
      "--------\n"
     ]
    },
    {
     "data": {
      "text/markdown": [
       "#### Rural"
      ],
      "text/plain": [
       "<IPython.core.display.Markdown object>"
      ]
     },
     "metadata": {},
     "output_type": "display_data"
    },
    {
     "name": "stdout",
     "output_type": "stream",
     "text": [
      "------------\n",
      "toyo\n",
      "doors\n",
      "1pr\n",
      "slate\n",
      "knob\n",
      "cargopal\n",
      "rail\n",
      "remains\n",
      "alera\n",
      "multipurpose\n",
      "------------\n"
     ]
    },
    {
     "data": {
      "text/markdown": [
       "# mm"
      ],
      "text/plain": [
       "<IPython.core.display.Markdown object>"
      ]
     },
     "metadata": {},
     "output_type": "display_data"
    },
    {
     "data": {
      "text/markdown": [
       "#### Urban"
      ],
      "text/plain": [
       "<IPython.core.display.Markdown object>"
      ]
     },
     "metadata": {},
     "output_type": "display_data"
    },
    {
     "name": "stdout",
     "output_type": "stream",
     "text": [
      "-----\n",
      "mmm\n",
      "hmm\n",
      "hmmm\n",
      "mmmm\n",
      "umm\n",
      "hhh\n",
      "nope\n",
      "aha\n",
      "hm\n",
      "hmmmm\n",
      "-----\n"
     ]
    },
    {
     "data": {
      "text/markdown": [
       "#### Rural"
      ],
      "text/plain": [
       "<IPython.core.display.Markdown object>"
      ]
     },
     "metadata": {},
     "output_type": "display_data"
    },
    {
     "name": "stdout",
     "output_type": "stream",
     "text": [
      "-----------\n",
      "00a\n",
      "121\n",
      "interchange\n",
      "5c\n",
      "55p\n",
      "00p\n",
      "pct\n",
      "40a\n",
      "graphite\n",
      "nda\n",
      "-----------\n"
     ]
    },
    {
     "data": {
      "text/markdown": [
       "# official"
      ],
      "text/plain": [
       "<IPython.core.display.Markdown object>"
      ]
     },
     "metadata": {},
     "output_type": "display_data"
    },
    {
     "data": {
      "text/markdown": [
       "#### Urban"
      ],
      "text/plain": [
       "<IPython.core.display.Markdown object>"
      ]
     },
     "metadata": {},
     "output_type": "display_data"
    },
    {
     "name": "stdout",
     "output_type": "stream",
     "text": [
      "-------------\n",
      "unofficial\n",
      "incoming\n",
      "officially\n",
      "announcement\n",
      "upcoming\n",
      "takeover\n",
      "controversial\n",
      "newest\n",
      "announcing\n",
      "executive\n",
      "-------------\n"
     ]
    },
    {
     "data": {
      "text/markdown": [
       "#### Rural"
      ],
      "text/plain": [
       "<IPython.core.display.Markdown object>"
      ]
     },
     "metadata": {},
     "output_type": "display_data"
    },
    {
     "name": "stdout",
     "output_type": "stream",
     "text": [
      "--------------------\n",
      "lyric\n",
      "hoodclips\n",
      "audio\n",
      "uploading\n",
      "ourgenerationmusicco\n",
      "dailymotion\n",
      "ign\n",
      "houseofhighlights\n",
      "unedited\n",
      "autoplay\n",
      "--------------------\n"
     ]
    },
    {
     "data": {
      "text/markdown": [
       "# ending"
      ],
      "text/plain": [
       "<IPython.core.display.Markdown object>"
      ]
     },
     "metadata": {},
     "output_type": "display_data"
    },
    {
     "data": {
      "text/markdown": [
       "#### Urban"
      ],
      "text/plain": [
       "<IPython.core.display.Markdown object>"
      ]
     },
     "metadata": {},
     "output_type": "display_data"
    },
    {
     "name": "stdout",
     "output_type": "stream",
     "text": [
      "--------------\n",
      "introduction\n",
      "end\n",
      "finale\n",
      "heartbreak\n",
      "filled\n",
      "intention\n",
      "coming\n",
      "disappointment\n",
      "excitement\n",
      "unfolding\n",
      "--------------\n"
     ]
    },
    {
     "data": {
      "text/markdown": [
       "#### Rural"
      ],
      "text/plain": [
       "<IPython.core.display.Markdown object>"
      ]
     },
     "metadata": {},
     "output_type": "display_data"
    },
    {
     "name": "stdout",
     "output_type": "stream",
     "text": [
      "--------------\n",
      "finale\n",
      "end\n",
      "madone\n",
      "ends\n",
      "premiere\n",
      "cycle\n",
      "chemistry\n",
      "highlight\n",
      "accomplishment\n",
      "series\n",
      "--------------\n"
     ]
    },
    {
     "data": {
      "text/markdown": [
       "# clear"
      ],
      "text/plain": [
       "<IPython.core.display.Markdown object>"
      ]
     },
     "metadata": {},
     "output_type": "display_data"
    },
    {
     "data": {
      "text/markdown": [
       "#### Urban"
      ],
      "text/plain": [
       "<IPython.core.display.Markdown object>"
      ]
     },
     "metadata": {},
     "output_type": "display_data"
    },
    {
     "name": "stdout",
     "output_type": "stream",
     "text": [
      "-----------\n",
      "obvious\n",
      "simple\n",
      "transparent\n",
      "precise\n",
      "reasonable\n",
      "harsh\n",
      "evident\n",
      "visible\n",
      "strong\n",
      "blind\n",
      "-----------\n"
     ]
    },
    {
     "data": {
      "text/markdown": [
       "#### Rural"
      ],
      "text/plain": [
       "<IPython.core.display.Markdown object>"
      ]
     },
     "metadata": {},
     "output_type": "display_data"
    },
    {
     "name": "stdout",
     "output_type": "stream",
     "text": [
      "---------\n",
      "fog\n",
      "clearing\n",
      "light\n",
      "gusty\n",
      "dense\n",
      "damaging\n",
      "scattered\n",
      "narrow\n",
      "cloudy\n",
      "skies\n",
      "---------\n"
     ]
    },
    {
     "data": {
      "text/markdown": [
       "# traveling"
      ],
      "text/plain": [
       "<IPython.core.display.Markdown object>"
      ]
     },
     "metadata": {},
     "output_type": "display_data"
    },
    {
     "data": {
      "text/markdown": [
       "#### Urban"
      ],
      "text/plain": [
       "<IPython.core.display.Markdown object>"
      ]
     },
     "metadata": {},
     "output_type": "display_data"
    },
    {
     "name": "stdout",
     "output_type": "stream",
     "text": [
      "-----------\n",
      "miles\n",
      "spotted\n",
      "vacationing\n",
      "valued\n",
      "flying\n",
      "beds\n",
      "travelling\n",
      "departing\n",
      "walking\n",
      "living\n",
      "-----------\n"
     ]
    },
    {
     "data": {
      "text/markdown": [
       "#### Rural"
      ],
      "text/plain": [
       "<IPython.core.display.Markdown object>"
      ]
     },
     "metadata": {},
     "output_type": "display_data"
    },
    {
     "name": "stdout",
     "output_type": "stream",
     "text": [
      "------------\n",
      "moving\n",
      "nyc\n",
      "arriving\n",
      "attending\n",
      "leaving\n",
      "louisiana\n",
      "volunteering\n",
      "travel\n",
      "returning\n",
      "planning\n",
      "------------\n"
     ]
    },
    {
     "data": {
      "text/markdown": [
       "# rapidly"
      ],
      "text/plain": [
       "<IPython.core.display.Markdown object>"
      ]
     },
     "metadata": {},
     "output_type": "display_data"
    },
    {
     "data": {
      "text/markdown": [
       "#### Urban"
      ],
      "text/plain": [
       "<IPython.core.display.Markdown object>"
      ]
     },
     "metadata": {},
     "output_type": "display_data"
    },
    {
     "name": "stdout",
     "output_type": "stream",
     "text": [
      "-------------\n",
      "global\n",
      "accelerating\n",
      "steadily\n",
      "increasingly\n",
      "gradually\n",
      "technology\n",
      "exponentially\n",
      "ecosystem\n",
      "dramatically\n",
      "sustainable\n",
      "-------------\n"
     ]
    },
    {
     "data": {
      "text/markdown": [
       "#### Rural"
      ],
      "text/plain": [
       "<IPython.core.display.Markdown object>"
      ]
     },
     "metadata": {},
     "output_type": "display_data"
    },
    {
     "name": "stdout",
     "output_type": "stream",
     "text": [
      "-----------\n",
      "steady\n",
      "chl\n",
      "temperature\n",
      "rising\n",
      "slowly\n",
      "barometer\n",
      "wd\n",
      "hg\n",
      "baro\n",
      "slp\n",
      "-----------\n"
     ]
    },
    {
     "data": {
      "text/markdown": [
       "# wild"
      ],
      "text/plain": [
       "<IPython.core.display.Markdown object>"
      ]
     },
     "metadata": {},
     "output_type": "display_data"
    },
    {
     "data": {
      "text/markdown": [
       "#### Urban"
      ],
      "text/plain": [
       "<IPython.core.display.Markdown object>"
      ]
     },
     "metadata": {},
     "output_type": "display_data"
    },
    {
     "name": "stdout",
     "output_type": "stream",
     "text": [
      "------\n",
      "crazy\n",
      "nasty\n",
      "weird\n",
      "scary\n",
      "dark\n",
      "ghetto\n",
      "lit\n",
      "messy\n",
      "dirty\n",
      "shitty\n",
      "------\n"
     ]
    },
    {
     "data": {
      "text/markdown": [
       "#### Rural"
      ],
      "text/plain": [
       "<IPython.core.display.Markdown object>"
      ]
     },
     "metadata": {},
     "output_type": "display_data"
    },
    {
     "name": "stdout",
     "output_type": "stream",
     "text": [
      "-------\n",
      "hot\n",
      "zelda\n",
      "buffalo\n",
      "rays\n",
      "dark\n",
      "thieves\n",
      "snake\n",
      "groovy\n",
      "freaky\n",
      "ghost\n",
      "-------\n"
     ]
    },
    {
     "data": {
      "text/markdown": [
       "# challenge"
      ],
      "text/plain": [
       "<IPython.core.display.Markdown object>"
      ]
     },
     "metadata": {},
     "output_type": "display_data"
    },
    {
     "data": {
      "text/markdown": [
       "#### Urban"
      ],
      "text/plain": [
       "<IPython.core.display.Markdown object>"
      ]
     },
     "metadata": {},
     "output_type": "display_data"
    },
    {
     "name": "stdout",
     "output_type": "stream",
     "text": [
      "-----------\n",
      "competition\n",
      "task\n",
      "match\n",
      "goal\n",
      "game\n",
      "approach\n",
      "weapon\n",
      "strategy\n",
      "title\n",
      "failure\n",
      "-----------\n"
     ]
    },
    {
     "data": {
      "text/markdown": [
       "#### Rural"
      ],
      "text/plain": [
       "<IPython.core.display.Markdown object>"
      ]
     },
     "metadata": {},
     "output_type": "display_data"
    },
    {
     "name": "stdout",
     "output_type": "stream",
     "text": [
      "----------\n",
      "meditation\n",
      "ultimate\n",
      "beginner\n",
      "warhammer\n",
      "bundle\n",
      "guide\n",
      "comp\n",
      "fitness\n",
      "vocab\n",
      "blogging\n",
      "----------\n"
     ]
    },
    {
     "data": {
      "text/markdown": [
       "# please"
      ],
      "text/plain": [
       "<IPython.core.display.Markdown object>"
      ]
     },
     "metadata": {},
     "output_type": "display_data"
    },
    {
     "data": {
      "text/markdown": [
       "#### Urban"
      ],
      "text/plain": [
       "<IPython.core.display.Markdown object>"
      ]
     },
     "metadata": {},
     "output_type": "display_data"
    },
    {
     "name": "stdout",
     "output_type": "stream",
     "text": [
      "-------\n",
      "lease\n",
      "plz\n",
      "pls\n",
      "ls\n",
      "lz\n",
      "kindly\n",
      "lets\n",
      "request\n",
      "let\n",
      "wanna\n",
      "-------\n"
     ]
    },
    {
     "data": {
      "text/markdown": [
       "#### Rural"
      ],
      "text/plain": [
       "<IPython.core.display.Markdown object>"
      ]
     },
     "metadata": {},
     "output_type": "display_data"
    },
    {
     "name": "stdout",
     "output_type": "stream",
     "text": [
      "----------\n",
      "pls\n",
      "plz\n",
      "pledge\n",
      "petition\n",
      "permission\n",
      "to\n",
      "let\n",
      "request\n",
      "help\n",
      "ill\n",
      "----------\n"
     ]
    },
    {
     "data": {
      "text/markdown": [
       "# trace"
      ],
      "text/plain": [
       "<IPython.core.display.Markdown object>"
      ]
     },
     "metadata": {},
     "output_type": "display_data"
    },
    {
     "data": {
      "text/markdown": [
       "#### Urban"
      ],
      "text/plain": [
       "<IPython.core.display.Markdown object>"
      ]
     },
     "metadata": {},
     "output_type": "display_data"
    },
    {
     "name": "stdout",
     "output_type": "stream",
     "text": [
      "------------\n",
      "form\n",
      "shred\n",
      "consequence\n",
      "function\n",
      "extent\n",
      "limitations\n",
      "plague\n",
      "grasp\n",
      "accumulation\n",
      "condemnation\n",
      "------------\n"
     ]
    },
    {
     "data": {
      "text/markdown": [
       "#### Rural"
      ],
      "text/plain": [
       "<IPython.core.display.Markdown object>"
      ]
     },
     "metadata": {},
     "output_type": "display_data"
    },
    {
     "name": "stdout",
     "output_type": "stream",
     "text": [
      "------\n",
      "adkins\n",
      "totals\n",
      "deg\n",
      "precip\n",
      "27c\n",
      "34f\n",
      "mb\n",
      "76f\n",
      "58f\n",
      "48f\n",
      "------\n"
     ]
    },
    {
     "data": {
      "text/markdown": [
       "# conclusion"
      ],
      "text/plain": [
       "<IPython.core.display.Markdown object>"
      ]
     },
     "metadata": {},
     "output_type": "display_data"
    },
    {
     "data": {
      "text/markdown": [
       "#### Urban"
      ],
      "text/plain": [
       "<IPython.core.display.Markdown object>"
      ]
     },
     "metadata": {},
     "output_type": "display_data"
    },
    {
     "name": "stdout",
     "output_type": "stream",
     "text": [
      "-----------\n",
      "realization\n",
      "notion\n",
      "meaning\n",
      "subject\n",
      "extent\n",
      "idea\n",
      "relation\n",
      "trajectory\n",
      "point\n",
      "fact\n",
      "-----------\n"
     ]
    },
    {
     "data": {
      "text/markdown": [
       "#### Rural"
      ],
      "text/plain": [
       "<IPython.core.display.Markdown object>"
      ]
     },
     "metadata": {},
     "output_type": "display_data"
    },
    {
     "name": "stdout",
     "output_type": "stream",
     "text": [
      "-----------\n",
      "realization\n",
      "senses\n",
      "true\n",
      "fact\n",
      "nerve\n",
      "noticed\n",
      "forgotten\n",
      "audacity\n",
      "mentioned\n",
      "rumor\n",
      "-----------\n"
     ]
    },
    {
     "data": {
      "text/markdown": [
       "# switch"
      ],
      "text/plain": [
       "<IPython.core.display.Markdown object>"
      ]
     },
     "metadata": {},
     "output_type": "display_data"
    },
    {
     "data": {
      "text/markdown": [
       "#### Urban"
      ],
      "text/plain": [
       "<IPython.core.display.Markdown object>"
      ]
     },
     "metadata": {},
     "output_type": "display_data"
    },
    {
     "name": "stdout",
     "output_type": "stream",
     "text": [
      "---------\n",
      "pull\n",
      "turn\n",
      "blow\n",
      "move\n",
      "hold\n",
      "switched\n",
      "catch\n",
      "disappear\n",
      "jump\n",
      "push\n",
      "---------\n"
     ]
    },
    {
     "data": {
      "text/markdown": [
       "#### Rural"
      ],
      "text/plain": [
       "<IPython.core.display.Markdown object>"
      ]
     },
     "metadata": {},
     "output_type": "display_data"
    },
    {
     "name": "stdout",
     "output_type": "stream",
     "text": [
      "--------\n",
      "pull\n",
      "ps4\n",
      "stack\n",
      "3ds\n",
      "roku\n",
      "console\n",
      "pc\n",
      "turn\n",
      "gamecube\n",
      "reset\n",
      "--------\n"
     ]
    },
    {
     "data": {
      "text/markdown": [
       "# aged"
      ],
      "text/plain": [
       "<IPython.core.display.Markdown object>"
      ]
     },
     "metadata": {},
     "output_type": "display_data"
    },
    {
     "data": {
      "text/markdown": [
       "#### Urban"
      ],
      "text/plain": [
       "<IPython.core.display.Markdown object>"
      ]
     },
     "metadata": {},
     "output_type": "display_data"
    },
    {
     "name": "stdout",
     "output_type": "stream",
     "text": [
      "---------\n",
      "schooler\n",
      "behaved\n",
      "awoken\n",
      "risen\n",
      "plummeted\n",
      "eastern\n",
      "eaten\n",
      "survived\n",
      "dated\n",
      "rounded\n",
      "---------\n"
     ]
    },
    {
     "data": {
      "text/markdown": [
       "#### Rural"
      ],
      "text/plain": [
       "<IPython.core.display.Markdown object>"
      ]
     },
     "metadata": {},
     "output_type": "display_data"
    },
    {
     "name": "stdout",
     "output_type": "stream",
     "text": [
      "----------\n",
      "ale\n",
      "barrel\n",
      "lager\n",
      "bourbon\n",
      "imperial\n",
      "observed\n",
      "stout\n",
      "ipa\n",
      "pale\n",
      "vietnamese\n",
      "----------\n"
     ]
    },
    {
     "data": {
      "text/markdown": [
       "# beginning"
      ],
      "text/plain": [
       "<IPython.core.display.Markdown object>"
      ]
     },
     "metadata": {},
     "output_type": "display_data"
    },
    {
     "data": {
      "text/markdown": [
       "#### Urban"
      ],
      "text/plain": [
       "<IPython.core.display.Markdown object>"
      ]
     },
     "metadata": {},
     "output_type": "display_data"
    },
    {
     "name": "stdout",
     "output_type": "stream",
     "text": [
      "------------\n",
      "realm\n",
      "depths\n",
      "midst\n",
      "norm\n",
      "betrayal\n",
      "dawn\n",
      "opposite\n",
      "anticipation\n",
      "part\n",
      "bottom\n",
      "------------\n"
     ]
    },
    {
     "data": {
      "text/markdown": [
       "#### Rural"
      ],
      "text/plain": [
       "<IPython.core.display.Markdown object>"
      ]
     },
     "metadata": {},
     "output_type": "display_data"
    },
    {
     "name": "stdout",
     "output_type": "stream",
     "text": [
      "-----------\n",
      "starting\n",
      "entirety\n",
      "semester\n",
      "highlight\n",
      "celebration\n",
      "norm\n",
      "lowest\n",
      "end\n",
      "first\n",
      "apart\n",
      "-----------\n"
     ]
    },
    {
     "data": {
      "text/markdown": [
       "# legitimate"
      ],
      "text/plain": [
       "<IPython.core.display.Markdown object>"
      ]
     },
     "metadata": {},
     "output_type": "display_data"
    },
    {
     "data": {
      "text/markdown": [
       "#### Urban"
      ],
      "text/plain": [
       "<IPython.core.display.Markdown object>"
      ]
     },
     "metadata": {},
     "output_type": "display_data"
    },
    {
     "name": "stdout",
     "output_type": "stream",
     "text": [
      "------------\n",
      "partisan\n",
      "viable\n",
      "rational\n",
      "credible\n",
      "political\n",
      "hostile\n",
      "centrist\n",
      "conservative\n",
      "competent\n",
      "progressive\n",
      "------------\n"
     ]
    },
    {
     "data": {
      "text/markdown": [
       "#### Rural"
      ],
      "text/plain": [
       "<IPython.core.display.Markdown object>"
      ]
     },
     "metadata": {},
     "output_type": "display_data"
    },
    {
     "name": "stdout",
     "output_type": "stream",
     "text": [
      "------------\n",
      "factory\n",
      "80th\n",
      "certificates\n",
      "china\n",
      "france\n",
      "germany\n",
      "usa\n",
      "foreign\n",
      "obsolete\n",
      "agreement\n",
      "------------\n"
     ]
    },
    {
     "data": {
      "text/markdown": [
       "# competing"
      ],
      "text/plain": [
       "<IPython.core.display.Markdown object>"
      ]
     },
     "metadata": {},
     "output_type": "display_data"
    },
    {
     "data": {
      "text/markdown": [
       "#### Urban"
      ],
      "text/plain": [
       "<IPython.core.display.Markdown object>"
      ]
     },
     "metadata": {},
     "output_type": "display_data"
    },
    {
     "name": "stdout",
     "output_type": "stream",
     "text": [
      "-------------\n",
      "affiliated\n",
      "participating\n",
      "collaborating\n",
      "struggling\n",
      "partnering\n",
      "working\n",
      "fighting\n",
      "marching\n",
      "interacting\n",
      "winning\n",
      "-------------\n"
     ]
    },
    {
     "data": {
      "text/markdown": [
       "#### Rural"
      ],
      "text/plain": [
       "<IPython.core.display.Markdown object>"
      ]
     },
     "metadata": {},
     "output_type": "display_data"
    },
    {
     "name": "stdout",
     "output_type": "stream",
     "text": [
      "-------------\n",
      "semifinals\n",
      "competed\n",
      "chs\n",
      "regionals\n",
      "sectional\n",
      "quarterfinals\n",
      "xc\n",
      "regional\n",
      "athletics\n",
      "freshmen\n",
      "-------------\n"
     ]
    },
    {
     "data": {
      "text/markdown": [
       "# remains"
      ],
      "text/plain": [
       "<IPython.core.display.Markdown object>"
      ]
     },
     "metadata": {},
     "output_type": "display_data"
    },
    {
     "data": {
      "text/markdown": [
       "#### Urban"
      ],
      "text/plain": [
       "<IPython.core.display.Markdown object>"
      ]
     },
     "metadata": {},
     "output_type": "display_data"
    },
    {
     "name": "stdout",
     "output_type": "stream",
     "text": [
      "---------\n",
      "maintains\n",
      "holds\n",
      "becomes\n",
      "is\n",
      "despite\n",
      "seemingly\n",
      "indicates\n",
      "suffers\n",
      "casts\n",
      "carries\n",
      "---------\n"
     ]
    },
    {
     "data": {
      "text/markdown": [
       "#### Rural"
      ],
      "text/plain": [
       "<IPython.core.display.Markdown object>"
      ]
     },
     "metadata": {},
     "output_type": "display_data"
    },
    {
     "name": "stdout",
     "output_type": "stream",
     "text": [
      "----------\n",
      "effect\n",
      "sustained\n",
      "indicated\n",
      "outages\n",
      "lurks\n",
      "binghamton\n",
      "advisory\n",
      "resulting\n",
      "severe\n",
      "portions\n",
      "----------\n"
     ]
    },
    {
     "data": {
      "text/markdown": [
       "# regularly"
      ],
      "text/plain": [
       "<IPython.core.display.Markdown object>"
      ]
     },
     "metadata": {},
     "output_type": "display_data"
    },
    {
     "data": {
      "text/markdown": [
       "#### Urban"
      ],
      "text/plain": [
       "<IPython.core.display.Markdown object>"
      ]
     },
     "metadata": {},
     "output_type": "display_data"
    },
    {
     "name": "stdout",
     "output_type": "stream",
     "text": [
      "----------\n",
      "rarely\n",
      "often\n",
      "properly\n",
      "online\n",
      "usually\n",
      "constantly\n",
      "offline\n",
      "frequently\n",
      "heavily\n",
      "normally\n",
      "----------\n"
     ]
    },
    {
     "data": {
      "text/markdown": [
       "#### Rural"
      ],
      "text/plain": [
       "<IPython.core.display.Markdown object>"
      ]
     },
     "metadata": {},
     "output_type": "display_data"
    },
    {
     "name": "stdout",
     "output_type": "stream",
     "text": [
      "------------\n",
      "requirements\n",
      "properly\n",
      "forms\n",
      "availability\n",
      "a6\n",
      "manufacture\n",
      "developers\n",
      "peer\n",
      "a3\n",
      "passions\n",
      "------------\n"
     ]
    },
    {
     "data": {
      "text/markdown": [
       "# wars"
      ],
      "text/plain": [
       "<IPython.core.display.Markdown object>"
      ]
     },
     "metadata": {},
     "output_type": "display_data"
    },
    {
     "data": {
      "text/markdown": [
       "#### Urban"
      ],
      "text/plain": [
       "<IPython.core.display.Markdown object>"
      ]
     },
     "metadata": {},
     "output_type": "display_data"
    },
    {
     "name": "stdout",
     "output_type": "stream",
     "text": [
      "-----------\n",
      "war\n",
      "robots\n",
      "hysteria\n",
      "altogether\n",
      "unrest\n",
      "fallout\n",
      "weapons\n",
      "stereotypes\n",
      "fighters\n",
      "racial\n",
      "-----------\n"
     ]
    },
    {
     "data": {
      "text/markdown": [
       "#### Rural"
      ],
      "text/plain": [
       "<IPython.core.display.Markdown object>"
      ]
     },
     "metadata": {},
     "output_type": "display_data"
    },
    {
     "name": "stdout",
     "output_type": "stream",
     "text": [
      "----------\n",
      "phantasy\n",
      "trek\n",
      "spangled\n",
      "jeffree\n",
      "marvel\n",
      "studded\n",
      "avengers\n",
      "lego\n",
      "screenrant\n",
      "zombies\n",
      "----------\n"
     ]
    },
    {
     "data": {
      "text/markdown": [
       "# began"
      ],
      "text/plain": [
       "<IPython.core.display.Markdown object>"
      ]
     },
     "metadata": {},
     "output_type": "display_data"
    },
    {
     "data": {
      "text/markdown": [
       "#### Urban"
      ],
      "text/plain": [
       "<IPython.core.display.Markdown object>"
      ]
     },
     "metadata": {},
     "output_type": "display_data"
    },
    {
     "name": "stdout",
     "output_type": "stream",
     "text": [
      "---------\n",
      "started\n",
      "starts\n",
      "begins\n",
      "led\n",
      "ended\n",
      "stops\n",
      "leaves\n",
      "destroys\n",
      "continues\n",
      "ends\n",
      "---------\n"
     ]
    },
    {
     "data": {
      "text/markdown": [
       "#### Rural"
      ],
      "text/plain": [
       "<IPython.core.display.Markdown object>"
      ]
     },
     "metadata": {},
     "output_type": "display_data"
    },
    {
     "name": "stdout",
     "output_type": "stream",
     "text": [
      "------------\n",
      "occurred\n",
      "survived\n",
      "started\n",
      "declared\n",
      "disappeared\n",
      "demonstrated\n",
      "explained\n",
      "aired\n",
      "discovered\n",
      "became\n",
      "------------\n"
     ]
    },
    {
     "data": {
      "text/markdown": [
       "# prime"
      ],
      "text/plain": [
       "<IPython.core.display.Markdown object>"
      ]
     },
     "metadata": {},
     "output_type": "display_data"
    },
    {
     "data": {
      "text/markdown": [
       "#### Urban"
      ],
      "text/plain": [
       "<IPython.core.display.Markdown object>"
      ]
     },
     "metadata": {},
     "output_type": "display_data"
    },
    {
     "name": "stdout",
     "output_type": "stream",
     "text": [
      "--------\n",
      "first\n",
      "main\n",
      "third\n",
      "regular\n",
      "limited\n",
      "1st\n",
      "fifth\n",
      "rookie\n",
      "second\n",
      "contract\n",
      "--------\n"
     ]
    },
    {
     "data": {
      "text/markdown": [
       "#### Rural"
      ],
      "text/plain": [
       "<IPython.core.display.Markdown object>"
      ]
     },
     "metadata": {},
     "output_type": "display_data"
    },
    {
     "name": "stdout",
     "output_type": "stream",
     "text": [
      "------------\n",
      "labor\n",
      "groundhog\n",
      "slot\n",
      "limited\n",
      "clearance\n",
      "rccl\n",
      "hump\n",
      "subscription\n",
      "memorial\n",
      "100th\n",
      "------------\n"
     ]
    },
    {
     "data": {
      "text/markdown": [
       "# consistently"
      ],
      "text/plain": [
       "<IPython.core.display.Markdown object>"
      ]
     },
     "metadata": {},
     "output_type": "display_data"
    },
    {
     "data": {
      "text/markdown": [
       "#### Urban"
      ],
      "text/plain": [
       "<IPython.core.display.Markdown object>"
      ]
     },
     "metadata": {},
     "output_type": "display_data"
    },
    {
     "name": "stdout",
     "output_type": "stream",
     "text": [
      "------------\n",
      "continually\n",
      "defensive\n",
      "constantly\n",
      "historically\n",
      "simply\n",
      "vastly\n",
      "continuously\n",
      "rarely\n",
      "often\n",
      "generally\n",
      "------------\n"
     ]
    },
    {
     "data": {
      "text/markdown": [
       "#### Rural"
      ],
      "text/plain": [
       "<IPython.core.display.Markdown object>"
      ]
     },
     "metadata": {},
     "output_type": "display_data"
    },
    {
     "name": "stdout",
     "output_type": "stream",
     "text": [
      "---------\n",
      "imo\n",
      "unethical\n",
      "decisions\n",
      "ratings\n",
      "excuses\n",
      "defense\n",
      "arguments\n",
      "typically\n",
      "tactics\n",
      "tactic\n",
      "---------\n"
     ]
    },
    {
     "data": {
      "text/markdown": [
       "# degree"
      ],
      "text/plain": [
       "<IPython.core.display.Markdown object>"
      ]
     },
     "metadata": {},
     "output_type": "display_data"
    },
    {
     "data": {
      "text/markdown": [
       "#### Urban"
      ],
      "text/plain": [
       "<IPython.core.display.Markdown object>"
      ]
     },
     "metadata": {},
     "output_type": "display_data"
    },
    {
     "name": "stdout",
     "output_type": "stream",
     "text": [
      "-----------\n",
      "degrees\n",
      "class\n",
      "college\n",
      "debt\n",
      "bachelors\n",
      "permit\n",
      "program\n",
      "student\n",
      "masters\n",
      "scholarship\n",
      "-----------\n"
     ]
    },
    {
     "data": {
      "text/markdown": [
       "#### Rural"
      ],
      "text/plain": [
       "<IPython.core.display.Markdown object>"
      ]
     },
     "metadata": {},
     "output_type": "display_data"
    },
    {
     "name": "stdout",
     "output_type": "stream",
     "text": [
      "----------\n",
      "degrees\n",
      "86\n",
      "78\n",
      "83\n",
      "adjustment\n",
      "iq\n",
      "index\n",
      "76\n",
      "mb\n",
      "internship\n",
      "----------\n"
     ]
    },
    {
     "data": {
      "text/markdown": [
       "# chance"
      ],
      "text/plain": [
       "<IPython.core.display.Markdown object>"
      ]
     },
     "metadata": {},
     "output_type": "display_data"
    },
    {
     "data": {
      "text/markdown": [
       "#### Urban"
      ],
      "text/plain": [
       "<IPython.core.display.Markdown object>"
      ]
     },
     "metadata": {},
     "output_type": "display_data"
    },
    {
     "name": "stdout",
     "output_type": "stream",
     "text": [
      "-----------\n",
      "opportunity\n",
      "ticket\n",
      "goal\n",
      "competition\n",
      "donation\n",
      "time\n",
      "chances\n",
      "reward\n",
      "choice\n",
      "team\n",
      "-----------\n"
     ]
    },
    {
     "data": {
      "text/markdown": [
       "#### Rural"
      ],
      "text/plain": [
       "<IPython.core.display.Markdown object>"
      ]
     },
     "metadata": {},
     "output_type": "display_data"
    },
    {
     "name": "stdout",
     "output_type": "stream",
     "text": [
      "-----------\n",
      "entered\n",
      "enter\n",
      "opportunity\n",
      "choice\n",
      "pair\n",
      "prize\n",
      "neekfox\n",
      "superjare\n",
      "sweeps\n",
      "cup\n",
      "-----------\n"
     ]
    },
    {
     "data": {
      "text/markdown": [
       "# moderate"
      ],
      "text/plain": [
       "<IPython.core.display.Markdown object>"
      ]
     },
     "metadata": {},
     "output_type": "display_data"
    },
    {
     "data": {
      "text/markdown": [
       "#### Urban"
      ],
      "text/plain": [
       "<IPython.core.display.Markdown object>"
      ]
     },
     "metadata": {},
     "output_type": "display_data"
    },
    {
     "name": "stdout",
     "output_type": "stream",
     "text": [
      "------------\n",
      "progressive\n",
      "hostile\n",
      "conservative\n",
      "radical\n",
      "partisan\n",
      "damaging\n",
      "centrist\n",
      "reasonable\n",
      "socialist\n",
      "minority\n",
      "------------\n"
     ]
    },
    {
     "data": {
      "text/markdown": [
       "#### Rural"
      ],
      "text/plain": [
       "<IPython.core.display.Markdown object>"
      ]
     },
     "metadata": {},
     "output_type": "display_data"
    },
    {
     "name": "stdout",
     "output_type": "stream",
     "text": [
      "----------\n",
      "sustained\n",
      "damaging\n",
      "gusty\n",
      "isolated\n",
      "flooding\n",
      "delays\n",
      "fatigue\n",
      "rainfall\n",
      "torrential\n",
      "fog\n",
      "----------\n"
     ]
    },
    {
     "data": {
      "text/markdown": [
       "# racing"
      ],
      "text/plain": [
       "<IPython.core.display.Markdown object>"
      ]
     },
     "metadata": {},
     "output_type": "display_data"
    },
    {
     "data": {
      "text/markdown": [
       "#### Urban"
      ],
      "text/plain": [
       "<IPython.core.display.Markdown object>"
      ]
     },
     "metadata": {},
     "output_type": "display_data"
    },
    {
     "name": "stdout",
     "output_type": "stream",
     "text": [
      "--------\n",
      "surfing\n",
      "swimming\n",
      "riding\n",
      "climbing\n",
      "hitting\n",
      "flying\n",
      "biking\n",
      "crossing\n",
      "driving\n",
      "running\n",
      "--------\n"
     ]
    },
    {
     "data": {
      "text/markdown": [
       "#### Rural"
      ],
      "text/plain": [
       "<IPython.core.display.Markdown object>"
      ]
     },
     "metadata": {},
     "output_type": "display_data"
    },
    {
     "name": "stdout",
     "output_type": "stream",
     "text": [
      "--------\n",
      "sprint\n",
      "bowling\n",
      "hockey\n",
      "arcade\n",
      "nascar\n",
      "rodeo\n",
      "indoor\n",
      "derby\n",
      "races\n",
      "speedway\n",
      "--------\n"
     ]
    },
    {
     "data": {
      "text/markdown": [
       "# full"
      ],
      "text/plain": [
       "<IPython.core.display.Markdown object>"
      ]
     },
     "metadata": {},
     "output_type": "display_data"
    },
    {
     "data": {
      "text/markdown": [
       "#### Urban"
      ],
      "text/plain": [
       "<IPython.core.display.Markdown object>"
      ]
     },
     "metadata": {},
     "output_type": "display_data"
    },
    {
     "name": "stdout",
     "output_type": "stream",
     "text": [
      "--------\n",
      "whole\n",
      "regular\n",
      "the\n",
      "complete\n",
      "every\n",
      "limited\n",
      "large\n",
      "big\n",
      "this\n",
      "heavy\n",
      "--------\n"
     ]
    },
    {
     "data": {
      "text/markdown": [
       "#### Rural"
      ],
      "text/plain": [
       "<IPython.core.display.Markdown object>"
      ]
     },
     "metadata": {},
     "output_type": "display_data"
    },
    {
     "name": "stdout",
     "output_type": "stream",
     "text": [
      "----------\n",
      "complete\n",
      "lapse\n",
      "limited\n",
      "ocarina\n",
      "production\n",
      "short\n",
      "plenty\n",
      "opera\n",
      "loads\n",
      "variety\n",
      "----------\n"
     ]
    },
    {
     "data": {
      "text/markdown": [
       "# seal"
      ],
      "text/plain": [
       "<IPython.core.display.Markdown object>"
      ]
     },
     "metadata": {},
     "output_type": "display_data"
    },
    {
     "data": {
      "text/markdown": [
       "#### Urban"
      ],
      "text/plain": [
       "<IPython.core.display.Markdown object>"
      ]
     },
     "metadata": {},
     "output_type": "display_data"
    },
    {
     "name": "stdout",
     "output_type": "stream",
     "text": [
      "-------\n",
      "boot\n",
      "giant\n",
      "vest\n",
      "knife\n",
      "steel\n",
      "helmet\n",
      "drone\n",
      "chain\n",
      "tree\n",
      "blanket\n",
      "-------\n"
     ]
    },
    {
     "data": {
      "text/markdown": [
       "#### Rural"
      ],
      "text/plain": [
       "<IPython.core.display.Markdown object>"
      ]
     },
     "metadata": {},
     "output_type": "display_data"
    },
    {
     "name": "stdout",
     "output_type": "stream",
     "text": [
      "---------\n",
      "seals\n",
      "widow\n",
      "navy\n",
      "israeli\n",
      "veteran\n",
      "allegedly\n",
      "slain\n",
      "rhino\n",
      "yemen\n",
      "alleged\n",
      "---------\n"
     ]
    },
    {
     "data": {
      "text/markdown": [
       "# gene"
      ],
      "text/plain": [
       "<IPython.core.display.Markdown object>"
      ]
     },
     "metadata": {},
     "output_type": "display_data"
    },
    {
     "data": {
      "text/markdown": [
       "#### Urban"
      ],
      "text/plain": [
       "<IPython.core.display.Markdown object>"
      ]
     },
     "metadata": {},
     "output_type": "display_data"
    },
    {
     "name": "stdout",
     "output_type": "stream",
     "text": [
      "---------\n",
      "genetic\n",
      "detection\n",
      "stem\n",
      "vaccine\n",
      "injection\n",
      "hormone\n",
      "procedure\n",
      "technique\n",
      "precision\n",
      "method\n",
      "---------\n"
     ]
    },
    {
     "data": {
      "text/markdown": [
       "#### Rural"
      ],
      "text/plain": [
       "<IPython.core.display.Markdown object>"
      ]
     },
     "metadata": {},
     "output_type": "display_data"
    },
    {
     "name": "stdout",
     "output_type": "stream",
     "text": [
      "---------\n",
      "davey\n",
      "kessel\n",
      "claude\n",
      "gallagher\n",
      "steele\n",
      "rhodes\n",
      "cohen\n",
      "peggy\n",
      "daniels\n",
      "bowen\n",
      "---------\n"
     ]
    },
    {
     "data": {
      "text/markdown": [
       "# covers"
      ],
      "text/plain": [
       "<IPython.core.display.Markdown object>"
      ]
     },
     "metadata": {},
     "output_type": "display_data"
    },
    {
     "data": {
      "text/markdown": [
       "#### Urban"
      ],
      "text/plain": [
       "<IPython.core.display.Markdown object>"
      ]
     },
     "metadata": {},
     "output_type": "display_data"
    },
    {
     "name": "stdout",
     "output_type": "stream",
     "text": [
      "--------\n",
      "releases\n",
      "shows\n",
      "cover\n",
      "features\n",
      "albums\n",
      "sets\n",
      "themes\n",
      "parts\n",
      "versions\n",
      "designs\n",
      "--------\n"
     ]
    },
    {
     "data": {
      "text/markdown": [
       "#### Rural"
      ],
      "text/plain": [
       "<IPython.core.display.Markdown object>"
      ]
     },
     "metadata": {},
     "output_type": "display_data"
    },
    {
     "name": "stdout",
     "output_type": "stream",
     "text": [
      "--------\n",
      "vinyl\n",
      "spitting\n",
      "fills\n",
      "screws\n",
      "stains\n",
      "tank\n",
      "armour\n",
      "metal\n",
      "spilled\n",
      "fringe\n",
      "--------\n"
     ]
    },
    {
     "data": {
      "text/markdown": [
       "# immediately"
      ],
      "text/plain": [
       "<IPython.core.display.Markdown object>"
      ]
     },
     "metadata": {},
     "output_type": "display_data"
    },
    {
     "data": {
      "text/markdown": [
       "#### Urban"
      ],
      "text/plain": [
       "<IPython.core.display.Markdown object>"
      ]
     },
     "metadata": {},
     "output_type": "display_data"
    },
    {
     "name": "stdout",
     "output_type": "stream",
     "text": [
      "------------\n",
      "promptly\n",
      "then\n",
      "accidentally\n",
      "before\n",
      "suddenly\n",
      "instantly\n",
      "once\n",
      "just\n",
      "when\n",
      "randomly\n",
      "------------\n"
     ]
    },
    {
     "data": {
      "text/markdown": [
       "#### Rural"
      ],
      "text/plain": [
       "<IPython.core.display.Markdown object>"
      ]
     },
     "metadata": {},
     "output_type": "display_data"
    },
    {
     "name": "stdout",
     "output_type": "stream",
     "text": [
      "------------\n",
      "then\n",
      "comey\n",
      "flynn\n",
      "wikileaks\n",
      "before\n",
      "prosecutors\n",
      "repeatedly\n",
      "fbi\n",
      "authorities\n",
      "accidentally\n",
      "------------\n"
     ]
    },
    {
     "data": {
      "text/markdown": [
       "# hardly"
      ],
      "text/plain": [
       "<IPython.core.display.Markdown object>"
      ]
     },
     "metadata": {},
     "output_type": "display_data"
    },
    {
     "data": {
      "text/markdown": [
       "#### Urban"
      ],
      "text/plain": [
       "<IPython.core.display.Markdown object>"
      ]
     },
     "metadata": {},
     "output_type": "display_data"
    },
    {
     "name": "stdout",
     "output_type": "stream",
     "text": [
      "--------\n",
      "barely\n",
      "remotely\n",
      "rarely\n",
      "actually\n",
      "nor\n",
      "sadly\n",
      "never\n",
      "anymore\n",
      "not\n",
      "didnt\n",
      "--------\n"
     ]
    },
    {
     "data": {
      "text/markdown": [
       "#### Rural"
      ],
      "text/plain": [
       "<IPython.core.display.Markdown object>"
      ]
     },
     "metadata": {},
     "output_type": "display_data"
    },
    {
     "name": "stdout",
     "output_type": "stream",
     "text": [
      "---------\n",
      "barely\n",
      "rarely\n",
      "cannot\n",
      "cant\n",
      "takers\n",
      "couldnt\n",
      "worst\n",
      "stupidest\n",
      "didnt\n",
      "correctly\n",
      "---------\n"
     ]
    },
    {
     "data": {
      "text/markdown": [
       "# placed"
      ],
      "text/plain": [
       "<IPython.core.display.Markdown object>"
      ]
     },
     "metadata": {},
     "output_type": "display_data"
    },
    {
     "data": {
      "text/markdown": [
       "#### Urban"
      ],
      "text/plain": [
       "<IPython.core.display.Markdown object>"
      ]
     },
     "metadata": {},
     "output_type": "display_data"
    },
    {
     "name": "stdout",
     "output_type": "stream",
     "text": [
      "---------\n",
      "marked\n",
      "held\n",
      "placing\n",
      "left\n",
      "installed\n",
      "lifted\n",
      "landed\n",
      "secured\n",
      "opened\n",
      "exploded\n",
      "---------\n"
     ]
    },
    {
     "data": {
      "text/markdown": [
       "#### Rural"
      ],
      "text/plain": [
       "<IPython.core.display.Markdown object>"
      ]
     },
     "metadata": {},
     "output_type": "display_data"
    },
    {
     "name": "stdout",
     "output_type": "stream",
     "text": [
      "--------\n",
      "placing\n",
      "held\n",
      "finishes\n",
      "grader\n",
      "qtr\n",
      "ranked\n",
      "circuit\n",
      "discus\n",
      "awarded\n",
      "rounder\n",
      "--------\n"
     ]
    },
    {
     "data": {
      "text/markdown": [
       "# races"
      ],
      "text/plain": [
       "<IPython.core.display.Markdown object>"
      ]
     },
     "metadata": {},
     "output_type": "display_data"
    },
    {
     "data": {
      "text/markdown": [
       "#### Urban"
      ],
      "text/plain": [
       "<IPython.core.display.Markdown object>"
      ]
     },
     "metadata": {},
     "output_type": "display_data"
    },
    {
     "name": "stdout",
     "output_type": "stream",
     "text": [
      "----------\n",
      "religions\n",
      "fights\n",
      "cities\n",
      "states\n",
      "monuments\n",
      "fronts\n",
      "nations\n",
      "dimensions\n",
      "signs\n",
      "aspects\n",
      "----------\n"
     ]
    },
    {
     "data": {
      "text/markdown": [
       "#### Rural"
      ],
      "text/plain": [
       "<IPython.core.display.Markdown object>"
      ]
     },
     "metadata": {},
     "output_type": "display_data"
    },
    {
     "name": "stdout",
     "output_type": "stream",
     "text": [
      "-------------\n",
      "matches\n",
      "qbs\n",
      "teams\n",
      "tournament\n",
      "region\n",
      "championships\n",
      "starters\n",
      "tourney\n",
      "tournaments\n",
      "games\n",
      "-------------\n"
     ]
    },
    {
     "data": {
      "text/markdown": [
       "# worth"
      ],
      "text/plain": [
       "<IPython.core.display.Markdown object>"
      ]
     },
     "metadata": {},
     "output_type": "display_data"
    },
    {
     "data": {
      "text/markdown": [
       "#### Urban"
      ],
      "text/plain": [
       "<IPython.core.display.Markdown object>"
      ]
     },
     "metadata": {},
     "output_type": "display_data"
    },
    {
     "name": "stdout",
     "output_type": "stream",
     "text": [
      "----------\n",
      "fault\n",
      "good\n",
      "possible\n",
      "fair\n",
      "dollars\n",
      "ridiculous\n",
      "easy\n",
      "acceptable\n",
      "necessary\n",
      "capable\n",
      "----------\n"
     ]
    },
    {
     "data": {
      "text/markdown": [
       "#### Rural"
      ],
      "text/plain": [
       "<IPython.core.display.Markdown object>"
      ]
     },
     "metadata": {},
     "output_type": "display_data"
    },
    {
     "name": "stdout",
     "output_type": "stream",
     "text": [
      "----------\n",
      "deductible\n",
      "fault\n",
      "brz\n",
      "dollars\n",
      "worthy\n",
      "percent\n",
      "okay\n",
      "cost\n",
      "basically\n",
      "guaranteed\n",
      "----------\n"
     ]
    },
    {
     "data": {
      "text/markdown": [
       "# saint"
      ],
      "text/plain": [
       "<IPython.core.display.Markdown object>"
      ]
     },
     "metadata": {},
     "output_type": "display_data"
    },
    {
     "data": {
      "text/markdown": [
       "#### Urban"
      ],
      "text/plain": [
       "<IPython.core.display.Markdown object>"
      ]
     },
     "metadata": {},
     "output_type": "display_data"
    },
    {
     "name": "stdout",
     "output_type": "stream",
     "text": [
      "----------\n",
      "sinner\n",
      "brat\n",
      "loner\n",
      "demon\n",
      "keeper\n",
      "baddie\n",
      "dreamer\n",
      "gentleman\n",
      "psychopath\n",
      "hater\n",
      "----------\n"
     ]
    },
    {
     "data": {
      "text/markdown": [
       "#### Rural"
      ],
      "text/plain": [
       "<IPython.core.display.Markdown object>"
      ]
     },
     "metadata": {},
     "output_type": "display_data"
    },
    {
     "name": "stdout",
     "output_type": "stream",
     "text": [
      "--------\n",
      "joseph\n",
      "mary\n",
      "burke\n",
      "vincent\n",
      "henry\n",
      "clark\n",
      "bernard\n",
      "campbell\n",
      "wagner\n",
      "chapin\n",
      "--------\n"
     ]
    },
    {
     "data": {
      "text/markdown": [
       "# quest"
      ],
      "text/plain": [
       "<IPython.core.display.Markdown object>"
      ]
     },
     "metadata": {},
     "output_type": "display_data"
    },
    {
     "data": {
      "text/markdown": [
       "#### Urban"
      ],
      "text/plain": [
       "<IPython.core.display.Markdown object>"
      ]
     },
     "metadata": {},
     "output_type": "display_data"
    },
    {
     "name": "stdout",
     "output_type": "stream",
     "text": [
      "-----------\n",
      "mission\n",
      "realm\n",
      "journey\n",
      "solution\n",
      "desire\n",
      "achievement\n",
      "circle\n",
      "dimension\n",
      "equation\n",
      "battle\n",
      "-----------\n"
     ]
    },
    {
     "data": {
      "text/markdown": [
       "#### Rural"
      ],
      "text/plain": [
       "<IPython.core.display.Markdown object>"
      ]
     },
     "metadata": {},
     "output_type": "display_data"
    },
    {
     "name": "stdout",
     "output_type": "stream",
     "text": [
      "-----------\n",
      "carmie\n",
      "achievement\n",
      "jigsaw\n",
      "hurray\n",
      "tribez\n",
      "mags\n",
      "artifact\n",
      "puzzle\n",
      "manor\n",
      "builder\n",
      "-----------\n"
     ]
    },
    {
     "data": {
      "text/markdown": [
       "# section"
      ],
      "text/plain": [
       "<IPython.core.display.Markdown object>"
      ]
     },
     "metadata": {},
     "output_type": "display_data"
    },
    {
     "data": {
      "text/markdown": [
       "#### Urban"
      ],
      "text/plain": [
       "<IPython.core.display.Markdown object>"
      ]
     },
     "metadata": {},
     "output_type": "display_data"
    },
    {
     "name": "stdout",
     "output_type": "stream",
     "text": [
      "--------\n",
      "sections\n",
      "front\n",
      "library\n",
      "page\n",
      "line\n",
      "store\n",
      "area\n",
      "vault\n",
      "tab\n",
      "lobby\n",
      "--------\n"
     ]
    },
    {
     "data": {
      "text/markdown": [
       "#### Rural"
      ],
      "text/plain": [
       "<IPython.core.display.Markdown object>"
      ]
     },
     "metadata": {},
     "output_type": "display_data"
    },
    {
     "name": "stdout",
     "output_type": "stream",
     "text": [
      "----------\n",
      "district\n",
      "region\n",
      "2a\n",
      "3a\n",
      "1a\n",
      "regional\n",
      "sections\n",
      "tournament\n",
      "sectional\n",
      "hs\n",
      "----------\n"
     ]
    },
    {
     "data": {
      "text/markdown": [
       "# planned"
      ],
      "text/plain": [
       "<IPython.core.display.Markdown object>"
      ]
     },
     "metadata": {},
     "output_type": "display_data"
    },
    {
     "data": {
      "text/markdown": [
       "#### Urban"
      ],
      "text/plain": [
       "<IPython.core.display.Markdown object>"
      ]
     },
     "metadata": {},
     "output_type": "display_data"
    },
    {
     "name": "stdout",
     "output_type": "stream",
     "text": [
      "---------\n",
      "canceled\n",
      "worked\n",
      "plan\n",
      "booked\n",
      "plans\n",
      "scheduled\n",
      "expected\n",
      "possible\n",
      "planning\n",
      "announced\n",
      "---------\n"
     ]
    },
    {
     "data": {
      "text/markdown": [
       "#### Rural"
      ],
      "text/plain": [
       "<IPython.core.display.Markdown object>"
      ]
     },
     "metadata": {},
     "output_type": "display_data"
    },
    {
     "name": "stdout",
     "output_type": "stream",
     "text": [
      "-----------\n",
      "declared\n",
      "funded\n",
      "defunding\n",
      "abroad\n",
      "military\n",
      "established\n",
      "refugee\n",
      "plan\n",
      "filed\n",
      "prepares\n",
      "-----------\n"
     ]
    },
    {
     "data": {
      "text/markdown": [
       "# aside"
      ],
      "text/plain": [
       "<IPython.core.display.Markdown object>"
      ]
     },
     "metadata": {},
     "output_type": "display_data"
    },
    {
     "data": {
      "text/markdown": [
       "#### Urban"
      ],
      "text/plain": [
       "<IPython.core.display.Markdown object>"
      ]
     },
     "metadata": {},
     "output_type": "display_data"
    },
    {
     "name": "stdout",
     "output_type": "stream",
     "text": [
      "----------\n",
      "away\n",
      "towards\n",
      "stems\n",
      "prevents\n",
      "up\n",
      "political\n",
      "toward\n",
      "erase\n",
      "standpoint\n",
      "into\n",
      "----------\n"
     ]
    },
    {
     "data": {
      "text/markdown": [
       "#### Rural"
      ],
      "text/plain": [
       "<IPython.core.display.Markdown object>"
      ]
     },
     "metadata": {},
     "output_type": "display_data"
    },
    {
     "name": "stdout",
     "output_type": "stream",
     "text": [
      "-------\n",
      "away\n",
      "ups\n",
      "up\n",
      "piehole\n",
      "apart\n",
      "advice\n",
      "down\n",
      "differs\n",
      "above\n",
      "refrain\n",
      "-------\n"
     ]
    },
    {
     "data": {
      "text/markdown": [
       "# top"
      ],
      "text/plain": [
       "<IPython.core.display.Markdown object>"
      ]
     },
     "metadata": {},
     "output_type": "display_data"
    },
    {
     "data": {
      "text/markdown": [
       "#### Urban"
      ],
      "text/plain": [
       "<IPython.core.display.Markdown object>"
      ]
     },
     "metadata": {},
     "output_type": "display_data"
    },
    {
     "name": "stdout",
     "output_type": "stream",
     "text": [
      "----------\n",
      "bottom\n",
      "op\n",
      "tops\n",
      "highest\n",
      "equivalent\n",
      "stop\n",
      "biggest\n",
      "000\n",
      "corners\n",
      "elite\n",
      "----------\n"
     ]
    },
    {
     "data": {
      "text/markdown": [
       "#### Rural"
      ],
      "text/plain": [
       "<IPython.core.display.Markdown object>"
      ]
     },
     "metadata": {},
     "output_type": "display_data"
    },
    {
     "name": "stdout",
     "output_type": "stream",
     "text": [
      "-------\n",
      "bottom\n",
      "tier\n",
      "canoes\n",
      "tops\n",
      "ranked\n",
      "par\n",
      "fastest\n",
      "wcyb\n",
      "meter\n",
      "maroon\n",
      "-------\n"
     ]
    },
    {
     "data": {
      "text/markdown": [
       "# independence"
      ],
      "text/plain": [
       "<IPython.core.display.Markdown object>"
      ]
     },
     "metadata": {},
     "output_type": "display_data"
    },
    {
     "data": {
      "text/markdown": [
       "#### Urban"
      ],
      "text/plain": [
       "<IPython.core.display.Markdown object>"
      ]
     },
     "metadata": {},
     "output_type": "display_data"
    },
    {
     "name": "stdout",
     "output_type": "stream",
     "text": [
      "-------------\n",
      "unity\n",
      "freedoms\n",
      "contributions\n",
      "cooperation\n",
      "freedom\n",
      "activism\n",
      "inclusion\n",
      "diversity\n",
      "youth\n",
      "prosperity\n",
      "-------------\n"
     ]
    },
    {
     "data": {
      "text/markdown": [
       "#### Rural"
      ],
      "text/plain": [
       "<IPython.core.display.Markdown object>"
      ]
     },
     "metadata": {},
     "output_type": "display_data"
    },
    {
     "name": "stdout",
     "output_type": "stream",
     "text": [
      "-----------\n",
      "memorial\n",
      "labor\n",
      "hump\n",
      "founders\n",
      "remembrance\n",
      "100th\n",
      "mlk\n",
      "sciences\n",
      "paddy\n",
      "fathers\n",
      "-----------\n"
     ]
    },
    {
     "data": {
      "text/markdown": [
       "# our"
      ],
      "text/plain": [
       "<IPython.core.display.Markdown object>"
      ]
     },
     "metadata": {},
     "output_type": "display_data"
    },
    {
     "data": {
      "text/markdown": [
       "#### Urban"
      ],
      "text/plain": [
       "<IPython.core.display.Markdown object>"
      ]
     },
     "metadata": {},
     "output_type": "display_data"
    },
    {
     "name": "stdout",
     "output_type": "stream",
     "text": [
      "-------\n",
      "ur\n",
      "your\n",
      "their\n",
      "the\n",
      "his\n",
      "my\n",
      "heir\n",
      "drones\n",
      "y\n",
      "signage\n",
      "-------\n"
     ]
    },
    {
     "data": {
      "text/markdown": [
       "#### Rural"
      ],
      "text/plain": [
       "<IPython.core.display.Markdown object>"
      ]
     },
     "metadata": {},
     "output_type": "display_data"
    },
    {
     "name": "stdout",
     "output_type": "stream",
     "text": [
      "-----------\n",
      "their\n",
      "your\n",
      "the\n",
      "us\n",
      "resources\n",
      "donations\n",
      "visitors\n",
      "fundraising\n",
      "vendors\n",
      "innovation\n",
      "-----------\n"
     ]
    },
    {
     "data": {
      "text/markdown": [
       "# revenge"
      ],
      "text/plain": [
       "<IPython.core.display.Markdown object>"
      ]
     },
     "metadata": {},
     "output_type": "display_data"
    },
    {
     "data": {
      "text/markdown": [
       "#### Urban"
      ],
      "text/plain": [
       "<IPython.core.display.Markdown object>"
      ]
     },
     "metadata": {},
     "output_type": "display_data"
    },
    {
     "name": "stdout",
     "output_type": "stream",
     "text": [
      "----------\n",
      "opponent\n",
      "shield\n",
      "redemption\n",
      "weapon\n",
      "punishment\n",
      "reaction\n",
      "orgasm\n",
      "boner\n",
      "reign\n",
      "ego\n",
      "----------\n"
     ]
    },
    {
     "data": {
      "text/markdown": [
       "#### Rural"
      ],
      "text/plain": [
       "<IPython.core.display.Markdown object>"
      ]
     },
     "metadata": {},
     "output_type": "display_data"
    },
    {
     "name": "stdout",
     "output_type": "stream",
     "text": [
      "--------\n",
      "braun\n",
      "boxer\n",
      "daughter\n",
      "prank\n",
      "son\n",
      "remedy\n",
      "mistress\n",
      "wife\n",
      "flair\n",
      "rollins\n",
      "--------\n"
     ]
    },
    {
     "data": {
      "text/markdown": [
       "# mill"
      ],
      "text/plain": [
       "<IPython.core.display.Markdown object>"
      ]
     },
     "metadata": {},
     "output_type": "display_data"
    },
    {
     "data": {
      "text/markdown": [
       "#### Urban"
      ],
      "text/plain": [
       "<IPython.core.display.Markdown object>"
      ]
     },
     "metadata": {},
     "output_type": "display_data"
    },
    {
     "name": "stdout",
     "output_type": "stream",
     "text": [
      "--------\n",
      "mil\n",
      "million\n",
      "billion\n",
      "trillion\n",
      "lbs\n",
      "000\n",
      "acres\n",
      "bucks\n",
      "lb\n",
      "pound\n",
      "--------\n"
     ]
    },
    {
     "data": {
      "text/markdown": [
       "#### Rural"
      ],
      "text/plain": [
       "<IPython.core.display.Markdown object>"
      ]
     },
     "metadata": {},
     "output_type": "display_data"
    },
    {
     "name": "stdout",
     "output_type": "stream",
     "text": [
      "--------\n",
      "pier\n",
      "rd\n",
      "beech\n",
      "harbour\n",
      "avenue\n",
      "oak\n",
      "pine\n",
      "lakewood\n",
      "laurel\n",
      "orchard\n",
      "--------\n"
     ]
    },
    {
     "data": {
      "text/markdown": [
       "# than"
      ],
      "text/plain": [
       "<IPython.core.display.Markdown object>"
      ]
     },
     "metadata": {},
     "output_type": "display_data"
    },
    {
     "data": {
      "text/markdown": [
       "#### Urban"
      ],
      "text/plain": [
       "<IPython.core.display.Markdown object>"
      ]
     },
     "metadata": {},
     "output_type": "display_data"
    },
    {
     "name": "stdout",
     "output_type": "stream",
     "text": [
      "-------------\n",
      "10x\n",
      "significantly\n",
      "then\n",
      "even\n",
      "but\n",
      "or\n",
      "and\n",
      "significant\n",
      "because\n",
      "compared\n",
      "-------------\n"
     ]
    },
    {
     "data": {
      "text/markdown": [
       "#### Rural"
      ],
      "text/plain": [
       "<IPython.core.display.Markdown object>"
      ]
     },
     "metadata": {},
     "output_type": "display_data"
    },
    {
     "name": "stdout",
     "output_type": "stream",
     "text": [
      "-------------\n",
      "10x\n",
      "exponentially\n",
      "pisces\n",
      "or\n",
      "capricorn\n",
      "taurus\n",
      "virgo\n",
      "gemini\n",
      "100x\n",
      "significant\n",
      "-------------\n"
     ]
    },
    {
     "data": {
      "text/markdown": [
       "# pressure"
      ],
      "text/plain": [
       "<IPython.core.display.Markdown object>"
      ]
     },
     "metadata": {},
     "output_type": "display_data"
    },
    {
     "data": {
      "text/markdown": [
       "#### Urban"
      ],
      "text/plain": [
       "<IPython.core.display.Markdown object>"
      ]
     },
     "metadata": {},
     "output_type": "display_data"
    },
    {
     "name": "stdout",
     "output_type": "stream",
     "text": [
      "-----------\n",
      "ground\n",
      "scrutiny\n",
      "power\n",
      "regulations\n",
      "risk\n",
      "tension\n",
      "regulation\n",
      "damage\n",
      "surface\n",
      "fatigue\n",
      "-----------\n"
     ]
    },
    {
     "data": {
      "text/markdown": [
       "#### Rural"
      ],
      "text/plain": [
       "<IPython.core.display.Markdown object>"
      ]
     },
     "metadata": {},
     "output_type": "display_data"
    },
    {
     "name": "stdout",
     "output_type": "stream",
     "text": [
      "----------\n",
      "hg\n",
      "5of\n",
      "wd\n",
      "rainfall\n",
      "chl\n",
      "visibility\n",
      "rain\n",
      "rapidly\n",
      "00in\n",
      "1015\n",
      "----------\n"
     ]
    },
    {
     "data": {
      "text/markdown": [
       "# korean"
      ],
      "text/plain": [
       "<IPython.core.display.Markdown object>"
      ]
     },
     "metadata": {},
     "output_type": "display_data"
    },
    {
     "data": {
      "text/markdown": [
       "#### Urban"
      ],
      "text/plain": [
       "<IPython.core.display.Markdown object>"
      ]
     },
     "metadata": {},
     "output_type": "display_data"
    },
    {
     "name": "stdout",
     "output_type": "stream",
     "text": [
      "--------\n",
      "mexican\n",
      "chinese\n",
      "japanese\n",
      "thai\n",
      "italian\n",
      "latin\n",
      "asian\n",
      "german\n",
      "indian\n",
      "french\n",
      "--------\n"
     ]
    },
    {
     "data": {
      "text/markdown": [
       "#### Rural"
      ],
      "text/plain": [
       "<IPython.core.display.Markdown object>"
      ]
     },
     "metadata": {},
     "output_type": "display_data"
    },
    {
     "name": "stdout",
     "output_type": "stream",
     "text": [
      "----------\n",
      "koreans\n",
      "dakota\n",
      "africa\n",
      "korea\n",
      "sudan\n",
      "carolina\n",
      "wilkesboro\n",
      "braddock\n",
      "brazil\n",
      "sanctuary\n",
      "----------\n"
     ]
    },
    {
     "data": {
      "text/markdown": [
       "# below"
      ],
      "text/plain": [
       "<IPython.core.display.Markdown object>"
      ]
     },
     "metadata": {},
     "output_type": "display_data"
    },
    {
     "data": {
      "text/markdown": [
       "#### Urban"
      ],
      "text/plain": [
       "<IPython.core.display.Markdown object>"
      ]
     },
     "metadata": {},
     "output_type": "display_data"
    },
    {
     "name": "stdout",
     "output_type": "stream",
     "text": [
      "------------\n",
      "above\n",
      "higher\n",
      "links\n",
      "182\n",
      "volume\n",
      "link\n",
      "unemployment\n",
      "per\n",
      "50mph\n",
      "clicks\n",
      "------------\n"
     ]
    },
    {
     "data": {
      "text/markdown": [
       "#### Rural"
      ],
      "text/plain": [
       "<IPython.core.display.Markdown object>"
      ]
     },
     "metadata": {},
     "output_type": "display_data"
    },
    {
     "name": "stdout",
     "output_type": "stream",
     "text": [
      "------------\n",
      "link\n",
      "clicks\n",
      "details\n",
      "tab\n",
      "backlinks\n",
      "updates\n",
      "fs\n",
      "instructions\n",
      "pdf\n",
      "here\n",
      "------------\n"
     ]
    },
    {
     "data": {
      "text/markdown": [
       "# led"
      ],
      "text/plain": [
       "<IPython.core.display.Markdown object>"
      ]
     },
     "metadata": {},
     "output_type": "display_data"
    },
    {
     "data": {
      "text/markdown": [
       "#### Urban"
      ],
      "text/plain": [
       "<IPython.core.display.Markdown object>"
      ]
     },
     "metadata": {},
     "output_type": "display_data"
    },
    {
     "name": "stdout",
     "output_type": "stream",
     "text": [
      "-----------\n",
      "committed\n",
      "caused\n",
      "impacted\n",
      "sparked\n",
      "contributed\n",
      "leading\n",
      "commits\n",
      "dominated\n",
      "destroyed\n",
      "developed\n",
      "-----------\n"
     ]
    },
    {
     "data": {
      "text/markdown": [
       "#### Rural"
      ],
      "text/plain": [
       "<IPython.core.display.Markdown object>"
      ]
     },
     "metadata": {},
     "output_type": "display_data"
    },
    {
     "name": "stdout",
     "output_type": "stream",
     "text": [
      "------------\n",
      "lightme\n",
      "etronic\n",
      "powered\n",
      "rechargeable\n",
      "aicok\n",
      "magnetic\n",
      "hollyhome\n",
      "rotating\n",
      "portable\n",
      "dominated\n",
      "------------\n"
     ]
    },
    {
     "data": {
      "text/markdown": [
       "# deal"
      ],
      "text/plain": [
       "<IPython.core.display.Markdown object>"
      ]
     },
     "metadata": {},
     "output_type": "display_data"
    },
    {
     "data": {
      "text/markdown": [
       "#### Urban"
      ],
      "text/plain": [
       "<IPython.core.display.Markdown object>"
      ]
     },
     "metadata": {},
     "output_type": "display_data"
    },
    {
     "name": "stdout",
     "output_type": "stream",
     "text": [
      "---------\n",
      "trade\n",
      "contract\n",
      "compete\n",
      "problem\n",
      "bond\n",
      "leverage\n",
      "comeback\n",
      "bargain\n",
      "pitch\n",
      "interfere\n",
      "---------\n"
     ]
    },
    {
     "data": {
      "text/markdown": [
       "#### Rural"
      ],
      "text/plain": [
       "<IPython.core.display.Markdown object>"
      ]
     },
     "metadata": {},
     "output_type": "display_data"
    },
    {
     "name": "stdout",
     "output_type": "stream",
     "text": [
      "--------\n",
      "problem\n",
      "deals\n",
      "pharma\n",
      "mess\n",
      "argue\n",
      "issue\n",
      "dealing\n",
      "contract\n",
      "concern\n",
      "trade\n",
      "--------\n"
     ]
    },
    {
     "data": {
      "text/markdown": [
       "# constantly"
      ],
      "text/plain": [
       "<IPython.core.display.Markdown object>"
      ]
     },
     "metadata": {},
     "output_type": "display_data"
    },
    {
     "data": {
      "text/markdown": [
       "#### Urban"
      ],
      "text/plain": [
       "<IPython.core.display.Markdown object>"
      ]
     },
     "metadata": {},
     "output_type": "display_data"
    },
    {
     "name": "stdout",
     "output_type": "stream",
     "text": [
      "------------\n",
      "continuously\n",
      "actively\n",
      "continually\n",
      "aggressively\n",
      "always\n",
      "themselves\n",
      "sometimes\n",
      "constant\n",
      "everything\n",
      "consistently\n",
      "------------\n"
     ]
    },
    {
     "data": {
      "text/markdown": [
       "#### Rural"
      ],
      "text/plain": [
       "<IPython.core.display.Markdown object>"
      ]
     },
     "metadata": {},
     "output_type": "display_data"
    },
    {
     "name": "stdout",
     "output_type": "stream",
     "text": [
      "----------\n",
      "always\n",
      "hateful\n",
      "hate\n",
      "themselves\n",
      "stupid\n",
      "everything\n",
      "nonstop\n",
      "anxiety\n",
      "ppl\n",
      "quit\n",
      "----------\n"
     ]
    },
    {
     "data": {
      "text/markdown": [
       "# age"
      ],
      "text/plain": [
       "<IPython.core.display.Markdown object>"
      ]
     },
     "metadata": {},
     "output_type": "display_data"
    },
    {
     "data": {
      "text/markdown": [
       "#### Urban"
      ],
      "text/plain": [
       "<IPython.core.display.Markdown object>"
      ]
     },
     "metadata": {},
     "output_type": "display_data"
    },
    {
     "name": "stdout",
     "output_type": "stream",
     "text": [
      "--------------\n",
      "30s\n",
      "ge\n",
      "interpretation\n",
      "lack\n",
      "20s\n",
      "population\n",
      "generation\n",
      "height\n",
      "instances\n",
      "ages\n",
      "--------------\n"
     ]
    },
    {
     "data": {
      "text/markdown": [
       "#### Rural"
      ],
      "text/plain": [
       "<IPython.core.display.Markdown object>"
      ]
     },
     "metadata": {},
     "output_type": "display_data"
    },
    {
     "name": "stdout",
     "output_type": "stream",
     "text": [
      "----------\n",
      "point\n",
      "height\n",
      "yr\n",
      "least\n",
      "risk\n",
      "years\n",
      "half\n",
      "child\n",
      "population\n",
      "iq\n",
      "----------\n"
     ]
    },
    {
     "data": {
      "text/markdown": [
       "# till"
      ],
      "text/plain": [
       "<IPython.core.display.Markdown object>"
      ]
     },
     "metadata": {},
     "output_type": "display_data"
    },
    {
     "data": {
      "text/markdown": [
       "#### Urban"
      ],
      "text/plain": [
       "<IPython.core.display.Markdown object>"
      ]
     },
     "metadata": {},
     "output_type": "display_data"
    },
    {
     "name": "stdout",
     "output_type": "stream",
     "text": [
      "-------\n",
      "until\n",
      "til\n",
      "still\n",
      "yet\n",
      "early\n",
      "before\n",
      "period\n",
      "since\n",
      "finally\n",
      "windows\n",
      "-------\n"
     ]
    },
    {
     "data": {
      "text/markdown": [
       "#### Rural"
      ],
      "text/plain": [
       "<IPython.core.display.Markdown object>"
      ]
     },
     "metadata": {},
     "output_type": "display_data"
    },
    {
     "name": "stdout",
     "output_type": "stream",
     "text": [
      "---------\n",
      "until\n",
      "til\n",
      "before\n",
      "b4\n",
      "wya\n",
      "after\n",
      "at\n",
      "11pm\n",
      "welp\n",
      "hopefully\n",
      "---------\n"
     ]
    },
    {
     "data": {
      "text/markdown": [
       "# household"
      ],
      "text/plain": [
       "<IPython.core.display.Markdown object>"
      ]
     },
     "metadata": {},
     "output_type": "display_data"
    },
    {
     "data": {
      "text/markdown": [
       "#### Urban"
      ],
      "text/plain": [
       "<IPython.core.display.Markdown object>"
      ]
     },
     "metadata": {},
     "output_type": "display_data"
    },
    {
     "name": "stdout",
     "output_type": "stream",
     "text": [
      "----------\n",
      "family\n",
      "business\n",
      "specialty\n",
      "profession\n",
      "classroom\n",
      "landlord\n",
      "livelihood\n",
      "company\n",
      "future\n",
      "lifetime\n",
      "----------\n"
     ]
    },
    {
     "data": {
      "text/markdown": [
       "#### Rural"
      ],
      "text/plain": [
       "<IPython.core.display.Markdown object>"
      ]
     },
     "metadata": {},
     "output_type": "display_data"
    },
    {
     "name": "stdout",
     "output_type": "stream",
     "text": [
      "-----------\n",
      "retail\n",
      "suppliers\n",
      "seller\n",
      "premium\n",
      "industries\n",
      "bulk\n",
      "reduced\n",
      "priced\n",
      "supplements\n",
      "shoppers\n",
      "-----------\n"
     ]
    },
    {
     "data": {
      "text/markdown": [
       "# has"
      ],
      "text/plain": [
       "<IPython.core.display.Markdown object>"
      ]
     },
     "metadata": {},
     "output_type": "display_data"
    },
    {
     "data": {
      "text/markdown": [
       "#### Urban"
      ],
      "text/plain": [
       "<IPython.core.display.Markdown object>"
      ]
     },
     "metadata": {},
     "output_type": "display_data"
    },
    {
     "name": "stdout",
     "output_type": "stream",
     "text": [
      "-------\n",
      "hasn\n",
      "hasnt\n",
      "have\n",
      "ve\n",
      "remains\n",
      "had\n",
      "is\n",
      "s\n",
      "gets\n",
      "carries\n",
      "-------\n"
     ]
    },
    {
     "data": {
      "text/markdown": [
       "#### Rural"
      ],
      "text/plain": [
       "<IPython.core.display.Markdown object>"
      ]
     },
     "metadata": {},
     "output_type": "display_data"
    },
    {
     "name": "stdout",
     "output_type": "stream",
     "text": [
      "-------\n",
      "hasnt\n",
      "hasn\n",
      "ive\n",
      "theyve\n",
      "youve\n",
      "wouldve\n",
      "needs\n",
      "ve\n",
      "s\n",
      "have\n",
      "-------\n"
     ]
    },
    {
     "data": {
      "text/markdown": [
       "# dare"
      ],
      "text/plain": [
       "<IPython.core.display.Markdown object>"
      ]
     },
     "metadata": {},
     "output_type": "display_data"
    },
    {
     "data": {
      "text/markdown": [
       "#### Urban"
      ],
      "text/plain": [
       "<IPython.core.display.Markdown object>"
      ]
     },
     "metadata": {},
     "output_type": "display_data"
    },
    {
     "name": "stdout",
     "output_type": "stream",
     "text": [
      "---------\n",
      "did\n",
      "envy\n",
      "motivates\n",
      "intend\n",
      "chose\n",
      "pronounce\n",
      "gon\n",
      "want\n",
      "wanna\n",
      "shld\n",
      "---------\n"
     ]
    },
    {
     "data": {
      "text/markdown": [
       "#### Rural"
      ],
      "text/plain": [
       "<IPython.core.display.Markdown object>"
      ]
     },
     "metadata": {},
     "output_type": "display_data"
    },
    {
     "name": "stdout",
     "output_type": "stream",
     "text": [
      "--------\n",
      "wouldnt\n",
      "gon\n",
      "behave\n",
      "react\n",
      "tells\n",
      "teach\n",
      "kno\n",
      "perceive\n",
      "refuse\n",
      "beg\n",
      "--------\n"
     ]
    },
    {
     "data": {
      "text/markdown": [
       "# rising"
      ],
      "text/plain": [
       "<IPython.core.display.Markdown object>"
      ]
     },
     "metadata": {},
     "output_type": "display_data"
    },
    {
     "data": {
      "text/markdown": [
       "#### Urban"
      ],
      "text/plain": [
       "<IPython.core.display.Markdown object>"
      ]
     },
     "metadata": {},
     "output_type": "display_data"
    },
    {
     "name": "stdout",
     "output_type": "stream",
     "text": [
      "------------\n",
      "rises\n",
      "rise\n",
      "soaring\n",
      "increasing\n",
      "drought\n",
      "reduced\n",
      "surge\n",
      "unemployment\n",
      "crude\n",
      "decline\n",
      "------------\n"
     ]
    },
    {
     "data": {
      "text/markdown": [
       "#### Rural"
      ],
      "text/plain": [
       "<IPython.core.display.Markdown object>"
      ]
     },
     "metadata": {},
     "output_type": "display_data"
    },
    {
     "name": "stdout",
     "output_type": "stream",
     "text": [
      "-----------\n",
      "steady\n",
      "rapidly\n",
      "falling\n",
      "temperature\n",
      "inhg\n",
      "chl\n",
      "barometer\n",
      "wd\n",
      "baro\n",
      "hg\n",
      "-----------\n"
     ]
    },
    {
     "data": {
      "text/markdown": [
       "# entering"
      ],
      "text/plain": [
       "<IPython.core.display.Markdown object>"
      ]
     },
     "metadata": {},
     "output_type": "display_data"
    },
    {
     "data": {
      "text/markdown": [
       "#### Urban"
      ],
      "text/plain": [
       "<IPython.core.display.Markdown object>"
      ]
     },
     "metadata": {},
     "output_type": "display_data"
    },
    {
     "name": "stdout",
     "output_type": "stream",
     "text": [
      "----------\n",
      "occupied\n",
      "exiting\n",
      "leaving\n",
      "gifting\n",
      "announcing\n",
      "running\n",
      "bombing\n",
      "extending\n",
      "arriving\n",
      "losing\n",
      "----------\n"
     ]
    },
    {
     "data": {
      "text/markdown": [
       "#### Rural"
      ],
      "text/plain": [
       "<IPython.core.display.Markdown object>"
      ]
     },
     "metadata": {},
     "output_type": "display_data"
    },
    {
     "name": "stdout",
     "output_type": "stream",
     "text": [
      "----------------\n",
      "powered\n",
      "sponsored\n",
      "clicking\n",
      "czarinabattymoon\n",
      "subscribing\n",
      "intrigued\n",
      "homesteadblogs\n",
      "extending\n",
      "presented\n",
      "jama\n",
      "----------------\n"
     ]
    },
    {
     "data": {
      "text/markdown": [
       "# separate"
      ],
      "text/plain": [
       "<IPython.core.display.Markdown object>"
      ]
     },
     "metadata": {},
     "output_type": "display_data"
    },
    {
     "data": {
      "text/markdown": [
       "#### Urban"
      ],
      "text/plain": [
       "<IPython.core.display.Markdown object>"
      ]
     },
     "metadata": {},
     "output_type": "display_data"
    },
    {
     "name": "stdout",
     "output_type": "stream",
     "text": [
      "---------\n",
      "different\n",
      "diff\n",
      "certain\n",
      "specific\n",
      "other\n",
      "similar\n",
      "direct\n",
      "various\n",
      "removed\n",
      "remove\n",
      "---------\n"
     ]
    },
    {
     "data": {
      "text/markdown": [
       "#### Rural"
      ],
      "text/plain": [
       "<IPython.core.display.Markdown object>"
      ]
     },
     "metadata": {},
     "output_type": "display_data"
    },
    {
     "name": "stdout",
     "output_type": "stream",
     "text": [
      "----------\n",
      "protect\n",
      "suffer\n",
      "exempt\n",
      "prevent\n",
      "remove\n",
      "flee\n",
      "preventing\n",
      "profits\n",
      "banning\n",
      "distract\n",
      "----------\n"
     ]
    },
    {
     "data": {
      "text/markdown": [
       "# high"
      ],
      "text/plain": [
       "<IPython.core.display.Markdown object>"
      ]
     },
     "metadata": {},
     "output_type": "display_data"
    },
    {
     "data": {
      "text/markdown": [
       "#### Urban"
      ],
      "text/plain": [
       "<IPython.core.display.Markdown object>"
      ]
     },
     "metadata": {},
     "output_type": "display_data"
    },
    {
     "name": "stdout",
     "output_type": "stream",
     "text": [
      "--------\n",
      "low\n",
      "heavy\n",
      "higher\n",
      "steep\n",
      "middle\n",
      "lowering\n",
      "lower\n",
      "early\n",
      "tight\n",
      "rising\n",
      "--------\n"
     ]
    },
    {
     "data": {
      "text/markdown": [
       "#### Rural"
      ],
      "text/plain": [
       "<IPython.core.display.Markdown object>"
      ]
     },
     "metadata": {},
     "output_type": "display_data"
    },
    {
     "name": "stdout",
     "output_type": "stream",
     "text": [
      "------------\n",
      "elementary\n",
      "districts\n",
      "middle\n",
      "intermediate\n",
      "low\n",
      "record\n",
      "charter\n",
      "highs\n",
      "tolar\n",
      "buses\n",
      "------------\n"
     ]
    },
    {
     "data": {
      "text/markdown": [
       "# flash"
      ],
      "text/plain": [
       "<IPython.core.display.Markdown object>"
      ]
     },
     "metadata": {},
     "output_type": "display_data"
    },
    {
     "data": {
      "text/markdown": [
       "#### Urban"
      ],
      "text/plain": [
       "<IPython.core.display.Markdown object>"
      ]
     },
     "metadata": {},
     "output_type": "display_data"
    },
    {
     "name": "stdout",
     "output_type": "stream",
     "text": [
      "----------\n",
      "screen\n",
      "camera\n",
      "drone\n",
      "helicopter\n",
      "bug\n",
      "overhead\n",
      "plane\n",
      "cameras\n",
      "lens\n",
      "lightning\n",
      "----------\n"
     ]
    },
    {
     "data": {
      "text/markdown": [
       "#### Rural"
      ],
      "text/plain": [
       "<IPython.core.display.Markdown object>"
      ]
     },
     "metadata": {},
     "output_type": "display_data"
    },
    {
     "name": "stdout",
     "output_type": "stream",
     "text": [
      "---------\n",
      "abc\n",
      "satellite\n",
      "areal\n",
      "cosy\n",
      "flood\n",
      "tornado\n",
      "cbs\n",
      "anchor\n",
      "faux\n",
      "ecori\n",
      "---------\n"
     ]
    },
    {
     "data": {
      "text/markdown": [
       "# or"
      ],
      "text/plain": [
       "<IPython.core.display.Markdown object>"
      ]
     },
     "metadata": {},
     "output_type": "display_data"
    },
    {
     "data": {
      "text/markdown": [
       "#### Urban"
      ],
      "text/plain": [
       "<IPython.core.display.Markdown object>"
      ]
     },
     "metadata": {},
     "output_type": "display_data"
    },
    {
     "name": "stdout",
     "output_type": "stream",
     "text": [
      "-------\n",
      "and\n",
      "for\n",
      "amp\n",
      "to\n",
      "ut\n",
      "without\n",
      "in\n",
      "but\n",
      "nd\n",
      "consent\n",
      "-------\n"
     ]
    },
    {
     "data": {
      "text/markdown": [
       "#### Rural"
      ],
      "text/plain": [
       "<IPython.core.display.Markdown object>"
      ]
     },
     "metadata": {},
     "output_type": "display_data"
    },
    {
     "name": "stdout",
     "output_type": "stream",
     "text": [
      "-------\n",
      "and\n",
      "maybe\n",
      "but\n",
      "if\n",
      "then\n",
      "unless\n",
      "than\n",
      "because\n",
      "any\n",
      "to\n",
      "-------\n"
     ]
    },
    {
     "data": {
      "text/markdown": [
       "# from"
      ],
      "text/plain": [
       "<IPython.core.display.Markdown object>"
      ]
     },
     "metadata": {},
     "output_type": "display_data"
    },
    {
     "data": {
      "text/markdown": [
       "#### Urban"
      ],
      "text/plain": [
       "<IPython.core.display.Markdown object>"
      ]
     },
     "metadata": {},
     "output_type": "display_data"
    },
    {
     "name": "stdout",
     "output_type": "stream",
     "text": [
      "-------\n",
      "in\n",
      "and\n",
      "with\n",
      "after\n",
      "frm\n",
      "during\n",
      "before\n",
      "behind\n",
      "through\n",
      "amp\n",
      "-------\n"
     ]
    },
    {
     "data": {
      "text/markdown": [
       "#### Rural"
      ],
      "text/plain": [
       "<IPython.core.display.Markdown object>"
      ]
     },
     "metadata": {},
     "output_type": "display_data"
    },
    {
     "name": "stdout",
     "output_type": "stream",
     "text": [
      "----------\n",
      "navigators\n",
      "behind\n",
      "chipping\n",
      "after\n",
      "frm\n",
      "during\n",
      "across\n",
      "within\n",
      "valuables\n",
      "at\n",
      "----------\n"
     ]
    },
    {
     "data": {
      "text/markdown": [
       "# previous"
      ],
      "text/plain": [
       "<IPython.core.display.Markdown object>"
      ]
     },
     "metadata": {},
     "output_type": "display_data"
    },
    {
     "data": {
      "text/markdown": [
       "#### Urban"
      ],
      "text/plain": [
       "<IPython.core.display.Markdown object>"
      ]
     },
     "metadata": {},
     "output_type": "display_data"
    },
    {
     "name": "stdout",
     "output_type": "stream",
     "text": [
      "----------\n",
      "current\n",
      "initial\n",
      "prior\n",
      "last\n",
      "past\n",
      "recent\n",
      "first\n",
      "final\n",
      "actual\n",
      "subsequent\n",
      "----------\n"
     ]
    },
    {
     "data": {
      "text/markdown": [
       "#### Rural"
      ],
      "text/plain": [
       "<IPython.core.display.Markdown object>"
      ]
     },
     "metadata": {},
     "output_type": "display_data"
    },
    {
     "name": "stdout",
     "output_type": "stream",
     "text": [
      "-----------\n",
      "prior\n",
      "transcripts\n",
      "regarding\n",
      "campaign\n",
      "last\n",
      "yearbook\n",
      "emails\n",
      "first\n",
      "comments\n",
      "previously\n",
      "-----------\n"
     ]
    },
    {
     "data": {
      "text/markdown": [
       "# download"
      ],
      "text/plain": [
       "<IPython.core.display.Markdown object>"
      ]
     },
     "metadata": {},
     "output_type": "display_data"
    },
    {
     "data": {
      "text/markdown": [
       "#### Urban"
      ],
      "text/plain": [
       "<IPython.core.display.Markdown object>"
      ]
     },
     "metadata": {},
     "output_type": "display_data"
    },
    {
     "name": "stdout",
     "output_type": "stream",
     "text": [
      "----------\n",
      "downloads\n",
      "upload\n",
      "preorder\n",
      "audio\n",
      "pc\n",
      "downloaded\n",
      "soundcloud\n",
      "checkout\n",
      "edit\n",
      "ebook\n",
      "----------\n"
     ]
    },
    {
     "data": {
      "text/markdown": [
       "#### Rural"
      ],
      "text/plain": [
       "<IPython.core.display.Markdown object>"
      ]
     },
     "metadata": {},
     "output_type": "display_data"
    },
    {
     "name": "stdout",
     "output_type": "stream",
     "text": [
      "------------\n",
      "cricket\n",
      "instarepost\n",
      "distributor\n",
      "redbox\n",
      "inboxdollars\n",
      "henrycavill\n",
      "moneygram\n",
      "allstate\n",
      "metropcs\n",
      "vee\n",
      "------------\n"
     ]
    },
    {
     "data": {
      "text/markdown": [
       "# bank"
      ],
      "text/plain": [
       "<IPython.core.display.Markdown object>"
      ]
     },
     "metadata": {},
     "output_type": "display_data"
    },
    {
     "data": {
      "text/markdown": [
       "#### Urban"
      ],
      "text/plain": [
       "<IPython.core.display.Markdown object>"
      ]
     },
     "metadata": {},
     "output_type": "display_data"
    },
    {
     "name": "stdout",
     "output_type": "stream",
     "text": [
      "---------\n",
      "cash\n",
      "phone\n",
      "savings\n",
      "account\n",
      "wallet\n",
      "laptop\n",
      "deposit\n",
      "landlord\n",
      "computer\n",
      "cellphone\n",
      "---------\n"
     ]
    },
    {
     "data": {
      "text/markdown": [
       "#### Rural"
      ],
      "text/plain": [
       "<IPython.core.display.Markdown object>"
      ]
     },
     "metadata": {},
     "output_type": "display_data"
    },
    {
     "name": "stdout",
     "output_type": "stream",
     "text": [
      "------------\n",
      "legislature\n",
      "paypal\n",
      "laundering\n",
      "multimillion\n",
      "dispensary\n",
      "deposited\n",
      "pnc\n",
      "taxpayer\n",
      "bills\n",
      "license\n",
      "------------\n"
     ]
    },
    {
     "data": {
      "text/markdown": [
       "# trigger"
      ],
      "text/plain": [
       "<IPython.core.display.Markdown object>"
      ]
     },
     "metadata": {},
     "output_type": "display_data"
    },
    {
     "data": {
      "text/markdown": [
       "#### Urban"
      ],
      "text/plain": [
       "<IPython.core.display.Markdown object>"
      ]
     },
     "metadata": {},
     "output_type": "display_data"
    },
    {
     "name": "stdout",
     "output_type": "stream",
     "text": [
      "---------\n",
      "loose\n",
      "whistle\n",
      "up\n",
      "reverse\n",
      "dodge\n",
      "elaborate\n",
      "fix\n",
      "shed\n",
      "bone\n",
      "leak\n",
      "---------\n"
     ]
    },
    {
     "data": {
      "text/markdown": [
       "#### Rural"
      ],
      "text/plain": [
       "<IPython.core.display.Markdown object>"
      ]
     },
     "metadata": {},
     "output_type": "display_data"
    },
    {
     "name": "stdout",
     "output_type": "stream",
     "text": [
      "---------\n",
      "malware\n",
      "cord\n",
      "spark\n",
      "steroid\n",
      "ceiling\n",
      "signal\n",
      "bogus\n",
      "gun\n",
      "spinner\n",
      "tightness\n",
      "---------\n"
     ]
    },
    {
     "data": {
      "text/markdown": [
       "# nowhere"
      ],
      "text/plain": [
       "<IPython.core.display.Markdown object>"
      ]
     },
     "metadata": {},
     "output_type": "display_data"
    },
    {
     "data": {
      "text/markdown": [
       "#### Urban"
      ],
      "text/plain": [
       "<IPython.core.display.Markdown object>"
      ]
     },
     "metadata": {},
     "output_type": "display_data"
    },
    {
     "name": "stdout",
     "output_type": "stream",
     "text": [
      "---------\n",
      "anywhere\n",
      "somewhere\n",
      "jail\n",
      "flames\n",
      "sight\n",
      "where\n",
      "bounds\n",
      "south\n",
      "damn\n",
      "gutter\n",
      "---------\n"
     ]
    },
    {
     "data": {
      "text/markdown": [
       "#### Rural"
      ],
      "text/plain": [
       "<IPython.core.display.Markdown object>"
      ]
     },
     "metadata": {},
     "output_type": "display_data"
    },
    {
     "name": "stdout",
     "output_type": "stream",
     "text": [
      "---------\n",
      "bounds\n",
      "somewhere\n",
      "hell\n",
      "mtns\n",
      "anywhere\n",
      "tf\n",
      "window\n",
      "nuts\n",
      "suns\n",
      "jail\n",
      "---------\n"
     ]
    },
    {
     "data": {
      "text/markdown": [
       "# cast"
      ],
      "text/plain": [
       "<IPython.core.display.Markdown object>"
      ]
     },
     "metadata": {},
     "output_type": "display_data"
    },
    {
     "data": {
      "text/markdown": [
       "#### Urban"
      ],
      "text/plain": [
       "<IPython.core.display.Markdown object>"
      ]
     },
     "metadata": {},
     "output_type": "display_data"
    },
    {
     "name": "stdout",
     "output_type": "stream",
     "text": [
      "---------\n",
      "film\n",
      "crew\n",
      "character\n",
      "series\n",
      "trio\n",
      "movie\n",
      "storyline\n",
      "episode\n",
      "director\n",
      "revival\n",
      "---------\n"
     ]
    },
    {
     "data": {
      "text/markdown": [
       "#### Rural"
      ],
      "text/plain": [
       "<IPython.core.display.Markdown object>"
      ]
     },
     "metadata": {},
     "output_type": "display_data"
    },
    {
     "name": "stdout",
     "output_type": "stream",
     "text": [
      "------------\n",
      "induction\n",
      "heisman\n",
      "contribution\n",
      "heroes\n",
      "performance\n",
      "manuscript\n",
      "directors\n",
      "screening\n",
      "sails\n",
      "favorites\n",
      "------------\n"
     ]
    },
    {
     "data": {
      "text/markdown": [
       "# chase"
      ],
      "text/plain": [
       "<IPython.core.display.Markdown object>"
      ]
     },
     "metadata": {},
     "output_type": "display_data"
    },
    {
     "data": {
      "text/markdown": [
       "#### Urban"
      ],
      "text/plain": [
       "<IPython.core.display.Markdown object>"
      ]
     },
     "metadata": {},
     "output_type": "display_data"
    },
    {
     "name": "stdout",
     "output_type": "stream",
     "text": [
      "-------\n",
      "crash\n",
      "stab\n",
      "jump\n",
      "run\n",
      "chasing\n",
      "dodge\n",
      "drive\n",
      "choke\n",
      "cuff\n",
      "fade\n",
      "-------\n"
     ]
    },
    {
     "data": {
      "text/markdown": [
       "#### Rural"
      ],
      "text/plain": [
       "<IPython.core.display.Markdown object>"
      ]
     },
     "metadata": {},
     "output_type": "display_data"
    },
    {
     "name": "stdout",
     "output_type": "stream",
     "text": [
      "-----------\n",
      "steal\n",
      "van\n",
      "disappoints\n",
      "fold\n",
      "choke\n",
      "chasing\n",
      "stab\n",
      "embarrass\n",
      "burns\n",
      "stabbed\n",
      "-----------\n"
     ]
    },
    {
     "data": {
      "text/markdown": [
       "# reaction"
      ],
      "text/plain": [
       "<IPython.core.display.Markdown object>"
      ]
     },
     "metadata": {},
     "output_type": "display_data"
    },
    {
     "data": {
      "text/markdown": [
       "#### Urban"
      ],
      "text/plain": [
       "<IPython.core.display.Markdown object>"
      ]
     },
     "metadata": {},
     "output_type": "display_data"
    },
    {
     "name": "stdout",
     "output_type": "stream",
     "text": [
      "---------\n",
      "response\n",
      "reactions\n",
      "reference\n",
      "tweet\n",
      "avatar\n",
      "instinct\n",
      "face\n",
      "name\n",
      "comment\n",
      "opinion\n",
      "---------\n"
     ]
    },
    {
     "data": {
      "text/markdown": [
       "#### Rural"
      ],
      "text/plain": [
       "<IPython.core.display.Markdown object>"
      ]
     },
     "metadata": {},
     "output_type": "display_data"
    },
    {
     "name": "stdout",
     "output_type": "stream",
     "text": [
      "---------\n",
      "character\n",
      "response\n",
      "reactions\n",
      "shocking\n",
      "simpsons\n",
      "villain\n",
      "superhero\n",
      "animated\n",
      "cartoon\n",
      "sequel\n",
      "---------\n"
     ]
    },
    {
     "data": {
      "text/markdown": [
       "# edit"
      ],
      "text/plain": [
       "<IPython.core.display.Markdown object>"
      ]
     },
     "metadata": {},
     "output_type": "display_data"
    },
    {
     "data": {
      "text/markdown": [
       "#### Urban"
      ],
      "text/plain": [
       "<IPython.core.display.Markdown object>"
      ]
     },
     "metadata": {},
     "output_type": "display_data"
    },
    {
     "name": "stdout",
     "output_type": "stream",
     "text": [
      "----------\n",
      "upload\n",
      "delete\n",
      "mute\n",
      "google\n",
      "write\n",
      "photoshop\n",
      "screenshot\n",
      "editing\n",
      "download\n",
      "animate\n",
      "----------\n"
     ]
    },
    {
     "data": {
      "text/markdown": [
       "#### Rural"
      ],
      "text/plain": [
       "<IPython.core.display.Markdown object>"
      ]
     },
     "metadata": {},
     "output_type": "display_data"
    },
    {
     "name": "stdout",
     "output_type": "stream",
     "text": [
      "---------\n",
      "upload\n",
      "audio\n",
      "yt\n",
      "kcrefm\n",
      "autoplay\n",
      "xm\n",
      "w4cy\n",
      "edited\n",
      "a1a\n",
      "audiobook\n",
      "---------\n"
     ]
    },
    {
     "data": {
      "text/markdown": [
       "# tape"
      ],
      "text/plain": [
       "<IPython.core.display.Markdown object>"
      ]
     },
     "metadata": {},
     "output_type": "display_data"
    },
    {
     "data": {
      "text/markdown": [
       "#### Urban"
      ],
      "text/plain": [
       "<IPython.core.display.Markdown object>"
      ]
     },
     "metadata": {},
     "output_type": "display_data"
    },
    {
     "name": "stdout",
     "output_type": "stream",
     "text": [
      "---------\n",
      "tapes\n",
      "mixtape\n",
      "track\n",
      "mic\n",
      "bang\n",
      "song\n",
      "album\n",
      "freestyle\n",
      "vid\n",
      "remix\n",
      "---------\n"
     ]
    },
    {
     "data": {
      "text/markdown": [
       "#### Rural"
      ],
      "text/plain": [
       "<IPython.core.display.Markdown object>"
      ]
     },
     "metadata": {},
     "output_type": "display_data"
    },
    {
     "name": "stdout",
     "output_type": "stream",
     "text": [
      "-------\n",
      "screen\n",
      "pedal\n",
      "jet\n",
      "tracks\n",
      "camera\n",
      "glue\n",
      "blade\n",
      "strap\n",
      "machine\n",
      "claw\n",
      "-------\n"
     ]
    },
    {
     "data": {
      "text/markdown": [
       "# tag"
      ],
      "text/plain": [
       "<IPython.core.display.Markdown object>"
      ]
     },
     "metadata": {},
     "output_type": "display_data"
    },
    {
     "data": {
      "text/markdown": [
       "#### Urban"
      ],
      "text/plain": [
       "<IPython.core.display.Markdown object>"
      ]
     },
     "metadata": {},
     "output_type": "display_data"
    },
    {
     "name": "stdout",
     "output_type": "stream",
     "text": [
      "---------\n",
      "dm\n",
      "tagged\n",
      "backhand\n",
      "flex\n",
      "sub\n",
      "invite\n",
      "photoshop\n",
      "beat\n",
      "stunt\n",
      "tagging\n",
      "---------\n"
     ]
    },
    {
     "data": {
      "text/markdown": [
       "#### Rural"
      ],
      "text/plain": [
       "<IPython.core.display.Markdown object>"
      ]
     },
     "metadata": {},
     "output_type": "display_data"
    },
    {
     "name": "stdout",
     "output_type": "stream",
     "text": [
      "-------\n",
      "dm\n",
      "invite\n",
      "msg\n",
      "add\n",
      "follow\n",
      "retweet\n",
      "stalk\n",
      "send\n",
      "rotate\n",
      "shoot\n",
      "-------\n"
     ]
    },
    {
     "data": {
      "text/markdown": [
       "# bowl"
      ],
      "text/plain": [
       "<IPython.core.display.Markdown object>"
      ]
     },
     "metadata": {},
     "output_type": "display_data"
    },
    {
     "data": {
      "text/markdown": [
       "#### Urban"
      ],
      "text/plain": [
       "<IPython.core.display.Markdown object>"
      ]
     },
     "metadata": {},
     "output_type": "display_data"
    },
    {
     "name": "stdout",
     "output_type": "stream",
     "text": [
      "-------\n",
      "cup\n",
      "chicken\n",
      "bottle\n",
      "salad\n",
      "bowls\n",
      "cereal\n",
      "burrito\n",
      "jar\n",
      "cookie\n",
      "ramen\n",
      "-------\n"
     ]
    },
    {
     "data": {
      "text/markdown": [
       "#### Rural"
      ],
      "text/plain": [
       "<IPython.core.display.Markdown object>"
      ]
     },
     "metadata": {},
     "output_type": "display_data"
    },
    {
     "name": "stdout",
     "output_type": "stream",
     "text": [
      "----------\n",
      "bowls\n",
      "saiyan\n",
      "soakers\n",
      "duper\n",
      "mario\n",
      "sentai\n",
      "soaker\n",
      "superbowl\n",
      "cup\n",
      "affiliates\n",
      "----------\n"
     ]
    },
    {
     "data": {
      "text/markdown": [
       "# jersey"
      ],
      "text/plain": [
       "<IPython.core.display.Markdown object>"
      ]
     },
     "metadata": {},
     "output_type": "display_data"
    },
    {
     "data": {
      "text/markdown": [
       "#### Urban"
      ],
      "text/plain": [
       "<IPython.core.display.Markdown object>"
      ]
     },
     "metadata": {},
     "output_type": "display_data"
    },
    {
     "name": "stdout",
     "output_type": "stream",
     "text": [
      "-------\n",
      "jerseys\n",
      "helmet\n",
      "jacket\n",
      "hoodie\n",
      "shirt\n",
      "uniform\n",
      "glove\n",
      "pitcher\n",
      "shoe\n",
      "tshirt\n",
      "-------\n"
     ]
    },
    {
     "data": {
      "text/markdown": [
       "#### Rural"
      ],
      "text/plain": [
       "<IPython.core.display.Markdown object>"
      ]
     },
     "metadata": {},
     "output_type": "display_data"
    },
    {
     "name": "stdout",
     "output_type": "stream",
     "text": [
      "---------\n",
      "england\n",
      "orleans\n",
      "hampshire\n",
      "uniforms\n",
      "uniform\n",
      "zealand\n",
      "paltz\n",
      "york\n",
      "unis\n",
      "rochelle\n",
      "---------\n"
     ]
    },
    {
     "data": {
      "text/markdown": [
       "# at"
      ],
      "text/plain": [
       "<IPython.core.display.Markdown object>"
      ]
     },
     "metadata": {},
     "output_type": "display_data"
    },
    {
     "data": {
      "text/markdown": [
       "#### Urban"
      ],
      "text/plain": [
       "<IPython.core.display.Markdown object>"
      ]
     },
     "metadata": {},
     "output_type": "display_data"
    },
    {
     "name": "stdout",
     "output_type": "stream",
     "text": [
      "-------\n",
      "in\n",
      "outside\n",
      "during\n",
      "after\n",
      "inside\n",
      "near\n",
      "for\n",
      "today\n",
      "closing\n",
      "from\n",
      "-------\n"
     ]
    },
    {
     "data": {
      "text/markdown": [
       "#### Rural"
      ],
      "text/plain": [
       "<IPython.core.display.Markdown object>"
      ]
     },
     "metadata": {},
     "output_type": "display_data"
    },
    {
     "name": "stdout",
     "output_type": "stream",
     "text": [
      "--------\n",
      "mitzvah\n",
      "after\n",
      "tomorrow\n",
      "thurs\n",
      "in\n",
      "tues\n",
      "until\n",
      "during\n",
      "closing\n",
      "till\n",
      "--------\n"
     ]
    },
    {
     "data": {
      "text/markdown": [
       "# partial"
      ],
      "text/plain": [
       "<IPython.core.display.Markdown object>"
      ]
     },
     "metadata": {},
     "output_type": "display_data"
    },
    {
     "data": {
      "text/markdown": [
       "#### Urban"
      ],
      "text/plain": [
       "<IPython.core.display.Markdown object>"
      ]
     },
     "metadata": {},
     "output_type": "display_data"
    },
    {
     "name": "stdout",
     "output_type": "stream",
     "text": [
      "-----------\n",
      "hoping\n",
      "guessing\n",
      "requirement\n",
      "predicting\n",
      "skeptical\n",
      "assuming\n",
      "massive\n",
      "totality\n",
      "direct\n",
      "curious\n",
      "-----------\n"
     ]
    },
    {
     "data": {
      "text/markdown": [
       "#### Rural"
      ],
      "text/plain": [
       "<IPython.core.display.Markdown object>"
      ]
     },
     "metadata": {},
     "output_type": "display_data"
    },
    {
     "name": "stdout",
     "output_type": "stream",
     "text": [
      "---------\n",
      "xico\n",
      "259\n",
      "ller\n",
      "512gb\n",
      "deadddd\n",
      "spyder\n",
      "flattered\n",
      "sensing\n",
      "thn\n",
      "watts\n",
      "---------\n"
     ]
    },
    {
     "data": {
      "text/markdown": [
       "# apply"
      ],
      "text/plain": [
       "<IPython.core.display.Markdown object>"
      ]
     },
     "metadata": {},
     "output_type": "display_data"
    },
    {
     "data": {
      "text/markdown": [
       "#### Urban"
      ],
      "text/plain": [
       "<IPython.core.display.Markdown object>"
      ]
     },
     "metadata": {},
     "output_type": "display_data"
    },
    {
     "name": "stdout",
     "output_type": "stream",
     "text": [
      "----------\n",
      "contribute\n",
      "donate\n",
      "adhere\n",
      "assign\n",
      "refer\n",
      "conform\n",
      "respond\n",
      "manage\n",
      "obtain\n",
      "serve\n",
      "----------\n"
     ]
    },
    {
     "data": {
      "text/markdown": [
       "#### Rural"
      ],
      "text/plain": [
       "<IPython.core.display.Markdown object>"
      ]
     },
     "metadata": {},
     "output_type": "display_data"
    },
    {
     "name": "stdout",
     "output_type": "stream",
     "text": [
      "------------\n",
      "contribute\n",
      "hiring\n",
      "physician\n",
      "assistant\n",
      "technician\n",
      "supervisor\n",
      "donate\n",
      "nurse\n",
      "practitioner\n",
      "lpn\n",
      "------------\n"
     ]
    },
    {
     "data": {
      "text/markdown": [
       "# mutual"
      ],
      "text/plain": [
       "<IPython.core.display.Markdown object>"
      ]
     },
     "metadata": {},
     "output_type": "display_data"
    },
    {
     "data": {
      "text/markdown": [
       "#### Urban"
      ],
      "text/plain": [
       "<IPython.core.display.Markdown object>"
      ]
     },
     "metadata": {},
     "output_type": "display_data"
    },
    {
     "name": "stdout",
     "output_type": "stream",
     "text": [
      "----------\n",
      "genuine\n",
      "spiritual\n",
      "sincere\n",
      "hopeless\n",
      "positive\n",
      "humility\n",
      "honesty\n",
      "friendship\n",
      "selfless\n",
      "supportive\n",
      "----------\n"
     ]
    },
    {
     "data": {
      "text/markdown": [
       "#### Rural"
      ],
      "text/plain": [
       "<IPython.core.display.Markdown object>"
      ]
     },
     "metadata": {},
     "output_type": "display_data"
    },
    {
     "name": "stdout",
     "output_type": "stream",
     "text": [
      "-------------\n",
      "experiencing\n",
      "immense\n",
      "cornerstone\n",
      "kindest\n",
      "dysfunctional\n",
      "tremendous\n",
      "differing\n",
      "greatest\n",
      "telephone\n",
      "restricting\n",
      "-------------\n"
     ]
    },
    {
     "data": {
      "text/markdown": [
       "# palm"
      ],
      "text/plain": [
       "<IPython.core.display.Markdown object>"
      ]
     },
     "metadata": {},
     "output_type": "display_data"
    },
    {
     "data": {
      "text/markdown": [
       "#### Urban"
      ],
      "text/plain": [
       "<IPython.core.display.Markdown object>"
      ]
     },
     "metadata": {},
     "output_type": "display_data"
    },
    {
     "name": "stdout",
     "output_type": "stream",
     "text": [
      "------\n",
      "tree\n",
      "skull\n",
      "wooden\n",
      "coat\n",
      "flower\n",
      "neck\n",
      "sand\n",
      "trees\n",
      "grease\n",
      "torso\n",
      "------\n"
     ]
    },
    {
     "data": {
      "text/markdown": [
       "#### Rural"
      ],
      "text/plain": [
       "<IPython.core.display.Markdown object>"
      ]
     },
     "metadata": {},
     "output_type": "display_data"
    },
    {
     "name": "stdout",
     "output_type": "stream",
     "text": [
      "-----------\n",
      "myrtle\n",
      "rehoboth\n",
      "solana\n",
      "boynton\n",
      "grayton\n",
      "venice\n",
      "pebble\n",
      "westhampton\n",
      "kure\n",
      "flagler\n",
      "-----------\n"
     ]
    },
    {
     "data": {
      "text/markdown": [
       "# approaches"
      ],
      "text/plain": [
       "<IPython.core.display.Markdown object>"
      ]
     },
     "metadata": {},
     "output_type": "display_data"
    },
    {
     "data": {
      "text/markdown": [
       "#### Urban"
      ],
      "text/plain": [
       "<IPython.core.display.Markdown object>"
      ]
     },
     "metadata": {},
     "output_type": "display_data"
    },
    {
     "name": "stdout",
     "output_type": "stream",
     "text": [
      "------------\n",
      "outcomes\n",
      "initiatives\n",
      "programs\n",
      "enhance\n",
      "approach\n",
      "strategic\n",
      "yields\n",
      "metrics\n",
      "processes\n",
      "implementing\n",
      "------------\n"
     ]
    },
    {
     "data": {
      "text/markdown": [
       "#### Rural"
      ],
      "text/plain": [
       "<IPython.core.display.Markdown object>"
      ]
     },
     "metadata": {},
     "output_type": "display_data"
    },
    {
     "name": "stdout",
     "output_type": "stream",
     "text": [
      "----------\n",
      "regarded\n",
      "disguised\n",
      "progresses\n",
      "looms\n",
      "hailed\n",
      "gradual\n",
      "depicted\n",
      "evolves\n",
      "touted\n",
      "precedes\n",
      "----------\n"
     ]
    },
    {
     "data": {
      "text/markdown": [
       "# shows"
      ],
      "text/plain": [
       "<IPython.core.display.Markdown object>"
      ]
     },
     "metadata": {},
     "output_type": "display_data"
    },
    {
     "data": {
      "text/markdown": [
       "#### Urban"
      ],
      "text/plain": [
       "<IPython.core.display.Markdown object>"
      ]
     },
     "metadata": {},
     "output_type": "display_data"
    },
    {
     "name": "stdout",
     "output_type": "stream",
     "text": [
      "--------\n",
      "sets\n",
      "covers\n",
      "show\n",
      "films\n",
      "matches\n",
      "showing\n",
      "figures\n",
      "releases\n",
      "panels\n",
      "showed\n",
      "--------\n"
     ]
    },
    {
     "data": {
      "text/markdown": [
       "#### Rural"
      ],
      "text/plain": [
       "<IPython.core.display.Markdown object>"
      ]
     },
     "metadata": {},
     "output_type": "display_data"
    },
    {
     "name": "stdout",
     "output_type": "stream",
     "text": [
      "----------\n",
      "showing\n",
      "showed\n",
      "show\n",
      "reveals\n",
      "leaked\n",
      "statistics\n",
      "releases\n",
      "is\n",
      "2high4life\n",
      "actors\n",
      "----------\n"
     ]
    },
    {
     "data": {
      "text/markdown": [
       "# personally"
      ],
      "text/plain": [
       "<IPython.core.display.Markdown object>"
      ]
     },
     "metadata": {},
     "output_type": "display_data"
    },
    {
     "data": {
      "text/markdown": [
       "#### Urban"
      ],
      "text/plain": [
       "<IPython.core.display.Markdown object>"
      ]
     },
     "metadata": {},
     "output_type": "display_data"
    },
    {
     "name": "stdout",
     "output_type": "stream",
     "text": [
      "---------\n",
      "genuinely\n",
      "also\n",
      "honestly\n",
      "otherwise\n",
      "actually\n",
      "anyway\n",
      "therefore\n",
      "never\n",
      "generally\n",
      "whom\n",
      "---------\n"
     ]
    },
    {
     "data": {
      "text/markdown": [
       "#### Rural"
      ],
      "text/plain": [
       "<IPython.core.display.Markdown object>"
      ]
     },
     "metadata": {},
     "output_type": "display_data"
    },
    {
     "name": "stdout",
     "output_type": "stream",
     "text": [
      "------------\n",
      "respectfully\n",
      "hmmm\n",
      "agreed\n",
      "otherwise\n",
      "understood\n",
      "honestly\n",
      "genuinely\n",
      "embarrassed\n",
      "admit\n",
      "offended\n",
      "------------\n"
     ]
    },
    {
     "data": {
      "text/markdown": [
       "# about"
      ],
      "text/plain": [
       "<IPython.core.display.Markdown object>"
      ]
     },
     "metadata": {},
     "output_type": "display_data"
    },
    {
     "data": {
      "text/markdown": [
       "#### Urban"
      ],
      "text/plain": [
       "<IPython.core.display.Markdown object>"
      ]
     },
     "metadata": {},
     "output_type": "display_data"
    },
    {
     "name": "stdout",
     "output_type": "stream",
     "text": [
      "--------\n",
      "abt\n",
      "like\n",
      "reckless\n",
      "bout\n",
      "without\n",
      "actually\n",
      "critical\n",
      "related\n",
      "but\n",
      "over\n",
      "--------\n"
     ]
    },
    {
     "data": {
      "text/markdown": [
       "#### Rural"
      ],
      "text/plain": [
       "<IPython.core.display.Markdown object>"
      ]
     },
     "metadata": {},
     "output_type": "display_data"
    },
    {
     "name": "stdout",
     "output_type": "stream",
     "text": [
      "----------\n",
      "abt\n",
      "ab\n",
      "bout\n",
      "abou\n",
      "ridiculous\n",
      "like\n",
      "exactly\n",
      "important\n",
      "crazy\n",
      "political\n",
      "----------\n"
     ]
    },
    {
     "data": {
      "text/markdown": [
       "# daily"
      ],
      "text/plain": [
       "<IPython.core.display.Markdown object>"
      ]
     },
     "metadata": {},
     "output_type": "display_data"
    },
    {
     "data": {
      "text/markdown": [
       "#### Urban"
      ],
      "text/plain": [
       "<IPython.core.display.Markdown object>"
      ]
     },
     "metadata": {},
     "output_type": "display_data"
    },
    {
     "name": "stdout",
     "output_type": "stream",
     "text": [
      "------------\n",
      "weekly\n",
      "productivity\n",
      "generating\n",
      "continuous\n",
      "constant\n",
      "yearly\n",
      "everyday\n",
      "free\n",
      "tracker\n",
      "routine\n",
      "------------\n"
     ]
    },
    {
     "data": {
      "text/markdown": [
       "#### Rural"
      ],
      "text/plain": [
       "<IPython.core.display.Markdown object>"
      ]
     },
     "metadata": {},
     "output_type": "display_data"
    },
    {
     "name": "stdout",
     "output_type": "stream",
     "text": [
      "-----------\n",
      "weekly\n",
      "latest\n",
      "newspage\n",
      "integration\n",
      "homebrew\n",
      "nightly\n",
      "chronicle\n",
      "journal\n",
      "newsletter\n",
      "magazine\n",
      "-----------\n"
     ]
    },
    {
     "data": {
      "text/markdown": [
       "# point"
      ],
      "text/plain": [
       "<IPython.core.display.Markdown object>"
      ]
     },
     "metadata": {},
     "output_type": "display_data"
    },
    {
     "data": {
      "text/markdown": [
       "#### Urban"
      ],
      "text/plain": [
       "<IPython.core.display.Markdown object>"
      ]
     },
     "metadata": {},
     "output_type": "display_data"
    },
    {
     "name": "stdout",
     "output_type": "stream",
     "text": [
      "----------\n",
      "least\n",
      "argument\n",
      "situation\n",
      "position\n",
      "level\n",
      "assumption\n",
      "joke\n",
      "notion\n",
      "job\n",
      "premise\n",
      "----------\n"
     ]
    },
    {
     "data": {
      "text/markdown": [
       "#### Rural"
      ],
      "text/plain": [
       "<IPython.core.display.Markdown object>"
      ]
     },
     "metadata": {},
     "output_type": "display_data"
    },
    {
     "name": "stdout",
     "output_type": "stream",
     "text": [
      "---------\n",
      "least\n",
      "end\n",
      "attempt\n",
      "stake\n",
      "age\n",
      "situation\n",
      "shot\n",
      "offense\n",
      "score\n",
      "game\n",
      "---------\n"
     ]
    },
    {
     "data": {
      "text/markdown": [
       "# close"
      ],
      "text/plain": [
       "<IPython.core.display.Markdown object>"
      ]
     },
     "metadata": {},
     "output_type": "display_data"
    },
    {
     "data": {
      "text/markdown": [
       "#### Urban"
      ],
      "text/plain": [
       "<IPython.core.display.Markdown object>"
      ]
     },
     "metadata": {},
     "output_type": "display_data"
    },
    {
     "name": "stdout",
     "output_type": "stream",
     "text": [
      "--------\n",
      "late\n",
      "open\n",
      "busy\n",
      "attached\n",
      "tied\n",
      "early\n",
      "crowded\n",
      "tight\n",
      "closed\n",
      "hard\n",
      "--------\n"
     ]
    },
    {
     "data": {
      "text/markdown": [
       "#### Rural"
      ],
      "text/plain": [
       "<IPython.core.display.Markdown object>"
      ]
     },
     "metadata": {},
     "output_type": "display_data"
    },
    {
     "name": "stdout",
     "output_type": "stream",
     "text": [
      "------\n",
      "busy\n",
      "tough\n",
      "closer\n",
      "bad\n",
      "upset\n",
      "late\n",
      "hard\n",
      "lazy\n",
      "heated\n",
      "lucky\n",
      "------\n"
     ]
    },
    {
     "data": {
      "text/markdown": [
       "# choosing"
      ],
      "text/plain": [
       "<IPython.core.display.Markdown object>"
      ]
     },
     "metadata": {},
     "output_type": "display_data"
    },
    {
     "data": {
      "text/markdown": [
       "#### Urban"
      ],
      "text/plain": [
       "<IPython.core.display.Markdown object>"
      ]
     },
     "metadata": {},
     "output_type": "display_data"
    },
    {
     "name": "stdout",
     "output_type": "stream",
     "text": [
      "----------\n",
      "deciding\n",
      "asking\n",
      "choose\n",
      "finding\n",
      "pursuing\n",
      "improving\n",
      "fighting\n",
      "protecting\n",
      "priority\n",
      "settling\n",
      "----------\n"
     ]
    },
    {
     "data": {
      "text/markdown": [
       "#### Rural"
      ],
      "text/plain": [
       "<IPython.core.display.Markdown object>"
      ]
     },
     "metadata": {},
     "output_type": "display_data"
    },
    {
     "name": "stdout",
     "output_type": "stream",
     "text": [
      "-------------\n",
      "generosity\n",
      "achieving\n",
      "selecting\n",
      "sharing\n",
      "purchasing\n",
      "organizing\n",
      "donating\n",
      "accomplishing\n",
      "inviting\n",
      "investing\n",
      "-------------\n"
     ]
    },
    {
     "data": {
      "text/markdown": [
       "# live"
      ],
      "text/plain": [
       "<IPython.core.display.Markdown object>"
      ]
     },
     "metadata": {},
     "output_type": "display_data"
    },
    {
     "data": {
      "text/markdown": [
       "#### Urban"
      ],
      "text/plain": [
       "<IPython.core.display.Markdown object>"
      ]
     },
     "metadata": {},
     "output_type": "display_data"
    },
    {
     "name": "stdout",
     "output_type": "stream",
     "text": [
      "-------\n",
      "stream\n",
      "play\n",
      "perform\n",
      "come\n",
      "watch\n",
      "die\n",
      "go\n",
      "see\n",
      "drive\n",
      "sit\n",
      "-------\n"
     ]
    },
    {
     "data": {
      "text/markdown": [
       "#### Rural"
      ],
      "text/plain": [
       "<IPython.core.display.Markdown object>"
      ]
     },
     "metadata": {},
     "output_type": "display_data"
    },
    {
     "name": "stdout",
     "output_type": "stream",
     "text": [
      "----------\n",
      "streaming\n",
      "play\n",
      "stream\n",
      "tune\n",
      "twitch\n",
      "chat\n",
      "livestream\n",
      "living\n",
      "come\n",
      "streams\n",
      "----------\n"
     ]
    },
    {
     "data": {
      "text/markdown": [
       "# region"
      ],
      "text/plain": [
       "<IPython.core.display.Markdown object>"
      ]
     },
     "metadata": {},
     "output_type": "display_data"
    },
    {
     "data": {
      "text/markdown": [
       "#### Urban"
      ],
      "text/plain": [
       "<IPython.core.display.Markdown object>"
      ]
     },
     "metadata": {},
     "output_type": "display_data"
    },
    {
     "name": "stdout",
     "output_type": "stream",
     "text": [
      "-------------\n",
      "city\n",
      "nation\n",
      "economy\n",
      "capital\n",
      "population\n",
      "neighborhoods\n",
      "drought\n",
      "cities\n",
      "area\n",
      "county\n",
      "-------------\n"
     ]
    },
    {
     "data": {
      "text/markdown": [
       "#### Rural"
      ],
      "text/plain": [
       "<IPython.core.display.Markdown object>"
      ]
     },
     "metadata": {},
     "output_type": "display_data"
    },
    {
     "name": "stdout",
     "output_type": "stream",
     "text": [
      "-------------\n",
      "regional\n",
      "sectional\n",
      "district\n",
      "tournament\n",
      "4a\n",
      "division\n",
      "psac\n",
      "tourney\n",
      "championships\n",
      "d3\n",
      "-------------\n"
     ]
    },
    {
     "data": {
      "text/markdown": [
       "# officially"
      ],
      "text/plain": [
       "<IPython.core.display.Markdown object>"
      ]
     },
     "metadata": {},
     "output_type": "display_data"
    },
    {
     "data": {
      "text/markdown": [
       "#### Urban"
      ],
      "text/plain": [
       "<IPython.core.display.Markdown object>"
      ]
     },
     "metadata": {},
     "output_type": "display_data"
    },
    {
     "name": "stdout",
     "output_type": "stream",
     "text": [
      "----------\n",
      "finally\n",
      "already\n",
      "official\n",
      "almost\n",
      "yet\n",
      "since\n",
      "reportedly\n",
      "until\n",
      "currently\n",
      "basically\n",
      "----------\n"
     ]
    },
    {
     "data": {
      "text/markdown": [
       "#### Rural"
      ],
      "text/plain": [
       "<IPython.core.display.Markdown object>"
      ]
     },
     "metadata": {},
     "output_type": "display_data"
    },
    {
     "name": "stdout",
     "output_type": "stream",
     "text": [
      "---------\n",
      "already\n",
      "almost\n",
      "finally\n",
      "welp\n",
      "since\n",
      "brackets\n",
      "sophomore\n",
      "yet\n",
      "newly\n",
      "sprung\n",
      "---------\n"
     ]
    },
    {
     "data": {
      "text/markdown": [
       "# entirely"
      ],
      "text/plain": [
       "<IPython.core.display.Markdown object>"
      ]
     },
     "metadata": {},
     "output_type": "display_data"
    },
    {
     "data": {
      "text/markdown": [
       "#### Urban"
      ],
      "text/plain": [
       "<IPython.core.display.Markdown object>"
      ]
     },
     "metadata": {},
     "output_type": "display_data"
    },
    {
     "name": "stdout",
     "output_type": "stream",
     "text": [
      "----------\n",
      "completely\n",
      "largely\n",
      "arbitrary\n",
      "quite\n",
      "totally\n",
      "intent\n",
      "generally\n",
      "method\n",
      "execution\n",
      "mostly\n",
      "----------\n"
     ]
    },
    {
     "data": {
      "text/markdown": [
       "#### Rural"
      ],
      "text/plain": [
       "<IPython.core.display.Markdown object>"
      ]
     },
     "metadata": {},
     "output_type": "display_data"
    },
    {
     "name": "stdout",
     "output_type": "stream",
     "text": [
      "--------------\n",
      "object\n",
      "uncommon\n",
      "astounding\n",
      "irrational\n",
      "understatement\n",
      "somewhat\n",
      "impartial\n",
      "incredibly\n",
      "representation\n",
      "abomination\n",
      "--------------\n"
     ]
    },
    {
     "data": {
      "text/markdown": [
       "# its"
      ],
      "text/plain": [
       "<IPython.core.display.Markdown object>"
      ]
     },
     "metadata": {},
     "output_type": "display_data"
    },
    {
     "data": {
      "text/markdown": [
       "#### Urban"
      ],
      "text/plain": [
       "<IPython.core.display.Markdown object>"
      ]
     },
     "metadata": {},
     "output_type": "display_data"
    },
    {
     "name": "stdout",
     "output_type": "stream",
     "text": [
      "----------\n",
      "itself\n",
      "their\n",
      "capitalism\n",
      "his\n",
      "it\n",
      "the\n",
      "profit\n",
      "thats\n",
      "theyre\n",
      "is\n",
      "----------\n"
     ]
    },
    {
     "data": {
      "text/markdown": [
       "#### Rural"
      ],
      "text/plain": [
       "<IPython.core.display.Markdown object>"
      ]
     },
     "metadata": {},
     "output_type": "display_data"
    },
    {
     "name": "stdout",
     "output_type": "stream",
     "text": [
      "----------\n",
      "s\n",
      "capitalism\n",
      "it\n",
      "thats\n",
      "is\n",
      "ur\n",
      "their\n",
      "itself\n",
      "healthcare\n",
      "greed\n",
      "----------\n"
     ]
    },
    {
     "data": {
      "text/markdown": [
       "# brown"
      ],
      "text/plain": [
       "<IPython.core.display.Markdown object>"
      ]
     },
     "metadata": {},
     "output_type": "display_data"
    },
    {
     "data": {
      "text/markdown": [
       "#### Urban"
      ],
      "text/plain": [
       "<IPython.core.display.Markdown object>"
      ]
     },
     "metadata": {},
     "output_type": "display_data"
    },
    {
     "name": "stdout",
     "output_type": "stream",
     "text": [
      "-------\n",
      "white\n",
      "black\n",
      "colored\n",
      "yellow\n",
      "blue\n",
      "purple\n",
      "gray\n",
      "green\n",
      "bearded\n",
      "pink\n",
      "-------\n"
     ]
    },
    {
     "data": {
      "text/markdown": [
       "#### Rural"
      ],
      "text/plain": [
       "<IPython.core.display.Markdown object>"
      ]
     },
     "metadata": {},
     "output_type": "display_data"
    },
    {
     "name": "stdout",
     "output_type": "stream",
     "text": [
      "---------\n",
      "stapleton\n",
      "matthews\n",
      "klein\n",
      "jean\n",
      "tommy\n",
      "voss\n",
      "decker\n",
      "cornell\n",
      "zac\n",
      "walker\n",
      "---------\n"
     ]
    },
    {
     "data": {
      "text/markdown": [
       "# arrive"
      ],
      "text/plain": [
       "<IPython.core.display.Markdown object>"
      ]
     },
     "metadata": {},
     "output_type": "display_data"
    },
    {
     "data": {
      "text/markdown": [
       "#### Urban"
      ],
      "text/plain": [
       "<IPython.core.display.Markdown object>"
      ]
     },
     "metadata": {},
     "output_type": "display_data"
    },
    {
     "name": "stdout",
     "output_type": "stream",
     "text": [
      "---------\n",
      "reopen\n",
      "arriving\n",
      "expire\n",
      "deliver\n",
      "disappear\n",
      "return\n",
      "appear\n",
      "leave\n",
      "occur\n",
      "cancel\n",
      "---------\n"
     ]
    },
    {
     "data": {
      "text/markdown": [
       "#### Rural"
      ],
      "text/plain": [
       "<IPython.core.display.Markdown object>"
      ]
     },
     "metadata": {},
     "output_type": "display_data"
    },
    {
     "name": "stdout",
     "output_type": "stream",
     "text": [
      "--------\n",
      "reopen\n",
      "expire\n",
      "arriving\n",
      "5pm\n",
      "noon\n",
      "1pm\n",
      "2pm\n",
      "10am\n",
      "11am\n",
      "9am\n",
      "--------\n"
     ]
    },
    {
     "data": {
      "text/markdown": [
       "# number"
      ],
      "text/plain": [
       "<IPython.core.display.Markdown object>"
      ]
     },
     "metadata": {},
     "output_type": "display_data"
    },
    {
     "data": {
      "text/markdown": [
       "#### Urban"
      ],
      "text/plain": [
       "<IPython.core.display.Markdown object>"
      ]
     },
     "metadata": {},
     "output_type": "display_data"
    },
    {
     "name": "stdout",
     "output_type": "stream",
     "text": [
      "-------\n",
      "email\n",
      "address\n",
      "height\n",
      "acct\n",
      "phone\n",
      "account\n",
      "receipt\n",
      "name\n",
      "service\n",
      "numbers\n",
      "-------\n"
     ]
    },
    {
     "data": {
      "text/markdown": [
       "#### Rural"
      ],
      "text/plain": [
       "<IPython.core.display.Markdown object>"
      ]
     },
     "metadata": {},
     "output_type": "display_data"
    },
    {
     "name": "stdout",
     "output_type": "stream",
     "text": [
      "----------\n",
      "name\n",
      "answer\n",
      "numbers\n",
      "phone\n",
      "category\n",
      "only\n",
      "preference\n",
      "errors\n",
      "copies\n",
      "height\n",
      "----------\n"
     ]
    },
    {
     "data": {
      "text/markdown": [
       "# now"
      ],
      "text/plain": [
       "<IPython.core.display.Markdown object>"
      ]
     },
     "metadata": {},
     "output_type": "display_data"
    },
    {
     "data": {
      "text/markdown": [
       "#### Urban"
      ],
      "text/plain": [
       "<IPython.core.display.Markdown object>"
      ]
     },
     "metadata": {},
     "output_type": "display_data"
    },
    {
     "name": "stdout",
     "output_type": "stream",
     "text": [
      "---------\n",
      "still\n",
      "here\n",
      "today\n",
      "already\n",
      "not\n",
      "currently\n",
      "corner\n",
      "then\n",
      "anyway\n",
      "wing\n",
      "---------\n"
     ]
    },
    {
     "data": {
      "text/markdown": [
       "#### Rural"
      ],
      "text/plain": [
       "<IPython.core.display.Markdown object>"
      ]
     },
     "metadata": {},
     "output_type": "display_data"
    },
    {
     "name": "stdout",
     "output_type": "stream",
     "text": [
      "---------\n",
      "here\n",
      "still\n",
      "currently\n",
      "wing\n",
      "already\n",
      "slots\n",
      "corner\n",
      "wingers\n",
      "alt\n",
      "today\n",
      "---------\n"
     ]
    },
    {
     "data": {
      "text/markdown": [
       "# he"
      ],
      "text/plain": [
       "<IPython.core.display.Markdown object>"
      ]
     },
     "metadata": {},
     "output_type": "display_data"
    },
    {
     "data": {
      "text/markdown": [
       "#### Urban"
      ],
      "text/plain": [
       "<IPython.core.display.Markdown object>"
      ]
     },
     "metadata": {},
     "output_type": "display_data"
    },
    {
     "name": "stdout",
     "output_type": "stream",
     "text": [
      "------\n",
      "the\n",
      "she\n",
      "his\n",
      "e\n",
      "it\n",
      "that\n",
      "weapon\n",
      "one\n",
      "nd\n",
      "ut\n",
      "------\n"
     ]
    },
    {
     "data": {
      "text/markdown": [
       "#### Rural"
      ],
      "text/plain": [
       "<IPython.core.display.Markdown object>"
      ]
     },
     "metadata": {},
     "output_type": "display_data"
    },
    {
     "name": "stdout",
     "output_type": "stream",
     "text": [
      "------\n",
      "she\n",
      "that\n",
      "it\n",
      "trump\n",
      "him\n",
      "nobody\n",
      "dt\n",
      "obama\n",
      "putin\n",
      "potus\n",
      "------\n"
     ]
    },
    {
     "data": {
      "text/markdown": [
       "# consideration"
      ],
      "text/plain": [
       "<IPython.core.display.Markdown object>"
      ]
     },
     "metadata": {},
     "output_type": "display_data"
    },
    {
     "data": {
      "text/markdown": [
       "#### Urban"
      ],
      "text/plain": [
       "<IPython.core.display.Markdown object>"
      ]
     },
     "metadata": {},
     "output_type": "display_data"
    },
    {
     "name": "stdout",
     "output_type": "stream",
     "text": [
      "--------------\n",
      "inquiry\n",
      "criticism\n",
      "effort\n",
      "responsibility\n",
      "supervision\n",
      "action\n",
      "scrutiny\n",
      "accountability\n",
      "insight\n",
      "validation\n",
      "--------------\n"
     ]
    },
    {
     "data": {
      "text/markdown": [
       "#### Rural"
      ],
      "text/plain": [
       "<IPython.core.display.Markdown object>"
      ]
     },
     "metadata": {},
     "output_type": "display_data"
    },
    {
     "name": "stdout",
     "output_type": "stream",
     "text": [
      "-----------\n",
      "custody\n",
      "precautions\n",
      "oblivion\n",
      "morphed\n",
      "dives\n",
      "slithered\n",
      "realms\n",
      "morphs\n",
      "reversal\n",
      "disinterest\n",
      "-----------\n"
     ]
    },
    {
     "data": {
      "text/markdown": [
       "# pleasure"
      ],
      "text/plain": [
       "<IPython.core.display.Markdown object>"
      ]
     },
     "metadata": {},
     "output_type": "display_data"
    },
    {
     "data": {
      "text/markdown": [
       "#### Urban"
      ],
      "text/plain": [
       "<IPython.core.display.Markdown object>"
      ]
     },
     "metadata": {},
     "output_type": "display_data"
    },
    {
     "name": "stdout",
     "output_type": "stream",
     "text": [
      "---------\n",
      "blast\n",
      "delight\n",
      "passion\n",
      "joy\n",
      "wonderful\n",
      "lovely\n",
      "fun\n",
      "honor\n",
      "partner\n",
      "gratitude\n",
      "---------\n"
     ]
    },
    {
     "data": {
      "text/markdown": [
       "#### Rural"
      ],
      "text/plain": [
       "<IPython.core.display.Markdown object>"
      ]
     },
     "metadata": {},
     "output_type": "display_data"
    },
    {
     "name": "stdout",
     "output_type": "stream",
     "text": [
      "-------------\n",
      "blast\n",
      "wonderful\n",
      "grandfather\n",
      "passion\n",
      "grandmother\n",
      "granddaughter\n",
      "grandparents\n",
      "dad\n",
      "husband\n",
      "dream\n",
      "-------------\n"
     ]
    },
    {
     "data": {
      "text/markdown": [
       "# pope"
      ],
      "text/plain": [
       "<IPython.core.display.Markdown object>"
      ]
     },
     "metadata": {},
     "output_type": "display_data"
    },
    {
     "data": {
      "text/markdown": [
       "#### Urban"
      ],
      "text/plain": [
       "<IPython.core.display.Markdown object>"
      ]
     },
     "metadata": {},
     "output_type": "display_data"
    },
    {
     "name": "stdout",
     "output_type": "stream",
     "text": [
      "----------\n",
      "thug\n",
      "man\n",
      "woman\n",
      "kid\n",
      "teenager\n",
      "christian\n",
      "journalist\n",
      "priest\n",
      "guy\n",
      "pastor\n",
      "----------\n"
     ]
    },
    {
     "data": {
      "text/markdown": [
       "#### Rural"
      ],
      "text/plain": [
       "<IPython.core.display.Markdown object>"
      ]
     },
     "metadata": {},
     "output_type": "display_data"
    },
    {
     "name": "stdout",
     "output_type": "stream",
     "text": [
      "---------\n",
      "pastor\n",
      "biden\n",
      "widow\n",
      "peter\n",
      "ally\n",
      "mattis\n",
      "gorka\n",
      "preacher\n",
      "historian\n",
      "phil\n",
      "---------\n"
     ]
    },
    {
     "data": {
      "text/markdown": [
       "# middle"
      ],
      "text/plain": [
       "<IPython.core.display.Markdown object>"
      ]
     },
     "metadata": {},
     "output_type": "display_data"
    },
    {
     "data": {
      "text/markdown": [
       "#### Urban"
      ],
      "text/plain": [
       "<IPython.core.display.Markdown object>"
      ]
     },
     "metadata": {},
     "output_type": "display_data"
    },
    {
     "name": "stdout",
     "output_type": "stream",
     "text": [
      "--------\n",
      "front\n",
      "high\n",
      "woods\n",
      "hallway\n",
      "backseat\n",
      "midst\n",
      "zone\n",
      "basement\n",
      "valley\n",
      "bathroom\n",
      "--------\n"
     ]
    },
    {
     "data": {
      "text/markdown": [
       "#### Rural"
      ],
      "text/plain": [
       "<IPython.core.display.Markdown object>"
      ]
     },
     "metadata": {},
     "output_type": "display_data"
    },
    {
     "name": "stdout",
     "output_type": "stream",
     "text": [
      "------------\n",
      "elementary\n",
      "high\n",
      "districts\n",
      "front\n",
      "hallway\n",
      "bus\n",
      "intermediate\n",
      "cafeteria\n",
      "board\n",
      "third\n",
      "------------\n"
     ]
    },
    {
     "data": {
      "text/markdown": [
       "# ultimate"
      ],
      "text/plain": [
       "<IPython.core.display.Markdown object>"
      ]
     },
     "metadata": {},
     "output_type": "display_data"
    },
    {
     "data": {
      "text/markdown": [
       "#### Urban"
      ],
      "text/plain": [
       "<IPython.core.display.Markdown object>"
      ]
     },
     "metadata": {},
     "output_type": "display_data"
    },
    {
     "name": "stdout",
     "output_type": "stream",
     "text": [
      "---------\n",
      "biggest\n",
      "perfect\n",
      "greatest\n",
      "best\n",
      "shortest\n",
      "survival\n",
      "warrior\n",
      "largest\n",
      "essential\n",
      "safest\n",
      "---------\n"
     ]
    },
    {
     "data": {
      "text/markdown": [
       "#### Rural"
      ],
      "text/plain": [
       "<IPython.core.display.Markdown object>"
      ]
     },
     "metadata": {},
     "output_type": "display_data"
    },
    {
     "name": "stdout",
     "output_type": "stream",
     "text": [
      "-----------\n",
      "survival\n",
      "mega\n",
      "beginners\n",
      "optimal\n",
      "sweepstakes\n",
      "definitive\n",
      "universal\n",
      "matrix\n",
      "vr\n",
      "builder\n",
      "-----------\n"
     ]
    },
    {
     "data": {
      "text/markdown": [
       "# opening"
      ],
      "text/plain": [
       "<IPython.core.display.Markdown object>"
      ]
     },
     "metadata": {},
     "output_type": "display_data"
    },
    {
     "data": {
      "text/markdown": [
       "#### Urban"
      ],
      "text/plain": [
       "<IPython.core.display.Markdown object>"
      ]
     },
     "metadata": {},
     "output_type": "display_data"
    },
    {
     "name": "stdout",
     "output_type": "stream",
     "text": [
      "---------\n",
      "closing\n",
      "opens\n",
      "opened\n",
      "open\n",
      "wrapping\n",
      "hunting\n",
      "unveiling\n",
      "in\n",
      "packed\n",
      "highlight\n",
      "---------\n"
     ]
    },
    {
     "data": {
      "text/markdown": [
       "#### Rural"
      ],
      "text/plain": [
       "<IPython.core.display.Markdown object>"
      ]
     },
     "metadata": {},
     "output_type": "display_data"
    },
    {
     "name": "stdout",
     "output_type": "stream",
     "text": [
      "----------\n",
      "prix\n",
      "opens\n",
      "announcing\n",
      "canyon\n",
      "booking\n",
      "archery\n",
      "basalt\n",
      "groundhog\n",
      "premier\n",
      "upcoming\n",
      "----------\n"
     ]
    },
    {
     "data": {
      "text/markdown": [
       "# sacred"
      ],
      "text/plain": [
       "<IPython.core.display.Markdown object>"
      ]
     },
     "metadata": {},
     "output_type": "display_data"
    },
    {
     "data": {
      "text/markdown": [
       "#### Urban"
      ],
      "text/plain": [
       "<IPython.core.display.Markdown object>"
      ]
     },
     "metadata": {},
     "output_type": "display_data"
    },
    {
     "name": "stdout",
     "output_type": "stream",
     "text": [
      "----------\n",
      "divine\n",
      "magical\n",
      "pure\n",
      "powerful\n",
      "poisonous\n",
      "destroying\n",
      "dangerous\n",
      "potent\n",
      "fragile\n",
      "damaging\n",
      "----------\n"
     ]
    },
    {
     "data": {
      "text/markdown": [
       "#### Rural"
      ],
      "text/plain": [
       "<IPython.core.display.Markdown object>"
      ]
     },
     "metadata": {},
     "output_type": "display_data"
    },
    {
     "name": "stdout",
     "output_type": "stream",
     "text": [
      "------------\n",
      "wrenching\n",
      "palpitations\n",
      "restless\n",
      "shaped\n",
      "aches\n",
      "eternal\n",
      "warms\n",
      "calibur\n",
      "divine\n",
      "melts\n",
      "------------\n"
     ]
    },
    {
     "data": {
      "text/markdown": [
       "# random"
      ],
      "text/plain": [
       "<IPython.core.display.Markdown object>"
      ]
     },
     "metadata": {},
     "output_type": "display_data"
    },
    {
     "data": {
      "text/markdown": [
       "#### Urban"
      ],
      "text/plain": [
       "<IPython.core.display.Markdown object>"
      ]
     },
     "metadata": {},
     "output_type": "display_data"
    },
    {
     "name": "stdout",
     "output_type": "stream",
     "text": [
      "---------\n",
      "shitty\n",
      "weird\n",
      "certain\n",
      "randomly\n",
      "silly\n",
      "some\n",
      "different\n",
      "small\n",
      "stupid\n",
      "fake\n",
      "---------\n"
     ]
    },
    {
     "data": {
      "text/markdown": [
       "#### Rural"
      ],
      "text/plain": [
       "<IPython.core.display.Markdown object>"
      ]
     },
     "metadata": {},
     "output_type": "display_data"
    },
    {
     "name": "stdout",
     "output_type": "stream",
     "text": [
      "----------\n",
      "weird\n",
      "silly\n",
      "candid\n",
      "snapchat\n",
      "subliminal\n",
      "spam\n",
      "famous\n",
      "shitty\n",
      "messages\n",
      "dank\n",
      "----------\n"
     ]
    },
    {
     "data": {
      "text/markdown": [
       "# advance"
      ],
      "text/plain": [
       "<IPython.core.display.Markdown object>"
      ]
     },
     "metadata": {},
     "output_type": "display_data"
    },
    {
     "data": {
      "text/markdown": [
       "#### Urban"
      ],
      "text/plain": [
       "<IPython.core.display.Markdown object>"
      ]
     },
     "metadata": {},
     "output_type": "display_data"
    },
    {
     "name": "stdout",
     "output_type": "stream",
     "text": [
      "-------------\n",
      "attendance\n",
      "participate\n",
      "participating\n",
      "exchange\n",
      "enroll\n",
      "for\n",
      "invest\n",
      "transfer\n",
      "participation\n",
      "weigh\n",
      "-------------\n"
     ]
    },
    {
     "data": {
      "text/markdown": [
       "#### Rural"
      ],
      "text/plain": [
       "<IPython.core.display.Markdown object>"
      ]
     },
     "metadata": {},
     "output_type": "display_data"
    },
    {
     "name": "stdout",
     "output_type": "stream",
     "text": [
      "-------------\n",
      "advances\n",
      "advancing\n",
      "quarterfinals\n",
      "semis\n",
      "regional\n",
      "semifinals\n",
      "sectional\n",
      "semifinal\n",
      "1a\n",
      "quarterfinal\n",
      "-------------\n"
     ]
    },
    {
     "data": {
      "text/markdown": [
       "# yours"
      ],
      "text/plain": [
       "<IPython.core.display.Markdown object>"
      ]
     },
     "metadata": {},
     "output_type": "display_data"
    },
    {
     "data": {
      "text/markdown": [
       "#### Urban"
      ],
      "text/plain": [
       "<IPython.core.display.Markdown object>"
      ]
     },
     "metadata": {},
     "output_type": "display_data"
    },
    {
     "name": "stdout",
     "output_type": "stream",
     "text": [
      "--------\n",
      "mine\n",
      "your\n",
      "theirs\n",
      "gifts\n",
      "yourself\n",
      "us\n",
      "you\n",
      "rewarded\n",
      "hers\n",
      "mines\n",
      "--------\n"
     ]
    },
    {
     "data": {
      "text/markdown": [
       "#### Rural"
      ],
      "text/plain": [
       "<IPython.core.display.Markdown object>"
      ]
     },
     "metadata": {},
     "output_type": "display_data"
    },
    {
     "name": "stdout",
     "output_type": "stream",
     "text": [
      "---------\n",
      "mine\n",
      "your\n",
      "happiness\n",
      "you\n",
      "it\n",
      "repost\n",
      "sure\n",
      "content\n",
      "ours\n",
      "value\n",
      "---------\n"
     ]
    },
    {
     "data": {
      "text/markdown": [
       "# mars"
      ],
      "text/plain": [
       "<IPython.core.display.Markdown object>"
      ]
     },
     "metadata": {},
     "output_type": "display_data"
    },
    {
     "data": {
      "text/markdown": [
       "#### Urban"
      ],
      "text/plain": [
       "<IPython.core.display.Markdown object>"
      ]
     },
     "metadata": {},
     "output_type": "display_data"
    },
    {
     "name": "stdout",
     "output_type": "stream",
     "text": [
      "------\n",
      "bruno\n",
      "shawn\n",
      "harry\n",
      "niall\n",
      "selena\n",
      "travis\n",
      "taylor\n",
      "louis\n",
      "halsey\n",
      "tyler\n",
      "------\n"
     ]
    },
    {
     "data": {
      "text/markdown": [
       "#### Rural"
      ],
      "text/plain": [
       "<IPython.core.display.Markdown object>"
      ]
     },
     "metadata": {},
     "output_type": "display_data"
    },
    {
     "name": "stdout",
     "output_type": "stream",
     "text": [
      "---------\n",
      "reptile\n",
      "bruno\n",
      "titan\n",
      "ufo\n",
      "alien\n",
      "masaki\n",
      "yoda\n",
      "snapshots\n",
      "atlas\n",
      "opium\n",
      "---------\n"
     ]
    },
    {
     "data": {
      "text/markdown": [
       "# agree"
      ],
      "text/plain": [
       "<IPython.core.display.Markdown object>"
      ]
     },
     "metadata": {},
     "output_type": "display_data"
    },
    {
     "data": {
      "text/markdown": [
       "#### Urban"
      ],
      "text/plain": [
       "<IPython.core.display.Markdown object>"
      ]
     },
     "metadata": {},
     "output_type": "display_data"
    },
    {
     "name": "stdout",
     "output_type": "stream",
     "text": [
      "-----------\n",
      "disagree\n",
      "gree\n",
      "argue\n",
      "agreed\n",
      "sympathize\n",
      "interact\n",
      "concur\n",
      "disagreeing\n",
      "associate\n",
      "agreeing\n",
      "-----------\n"
     ]
    },
    {
     "data": {
      "text/markdown": [
       "#### Rural"
      ],
      "text/plain": [
       "<IPython.core.display.Markdown object>"
      ]
     },
     "metadata": {},
     "output_type": "display_data"
    },
    {
     "name": "stdout",
     "output_type": "stream",
     "text": [
      "----------\n",
      "disagree\n",
      "agreed\n",
      "argue\n",
      "suggest\n",
      "dislike\n",
      "mean\n",
      "think\n",
      "understand\n",
      "assume\n",
      "respect\n",
      "----------\n"
     ]
    },
    {
     "data": {
      "text/markdown": [
       "# mothers"
      ],
      "text/plain": [
       "<IPython.core.display.Markdown object>"
      ]
     },
     "metadata": {},
     "output_type": "display_data"
    },
    {
     "data": {
      "text/markdown": [
       "#### Urban"
      ],
      "text/plain": [
       "<IPython.core.display.Markdown object>"
      ]
     },
     "metadata": {},
     "output_type": "display_data"
    },
    {
     "name": "stdout",
     "output_type": "stream",
     "text": [
      "---------\n",
      "fathers\n",
      "daughters\n",
      "children\n",
      "relatives\n",
      "sisters\n",
      "families\n",
      "husbands\n",
      "babies\n",
      "moms\n",
      "siblings\n",
      "---------\n"
     ]
    },
    {
     "data": {
      "text/markdown": [
       "#### Rural"
      ],
      "text/plain": [
       "<IPython.core.display.Markdown object>"
      ]
     },
     "metadata": {},
     "output_type": "display_data"
    },
    {
     "name": "stdout",
     "output_type": "stream",
     "text": [
      "------------\n",
      "fathers\n",
      "valentines\n",
      "mother\n",
      "independence\n",
      "hump\n",
      "brightens\n",
      "valentine\n",
      "memorial\n",
      "siblings\n",
      "remembrance\n",
      "------------\n"
     ]
    },
    {
     "data": {
      "text/markdown": [
       "# crew"
      ],
      "text/plain": [
       "<IPython.core.display.Markdown object>"
      ]
     },
     "metadata": {},
     "output_type": "display_data"
    },
    {
     "data": {
      "text/markdown": [
       "#### Urban"
      ],
      "text/plain": [
       "<IPython.core.display.Markdown object>"
      ]
     },
     "metadata": {},
     "output_type": "display_data"
    },
    {
     "name": "stdout",
     "output_type": "stream",
     "text": [
      "-------\n",
      "cast\n",
      "squad\n",
      "chairs\n",
      "clan\n",
      "pals\n",
      "rooftop\n",
      "crowd\n",
      "arena\n",
      "tonight\n",
      "show\n",
      "-------\n"
     ]
    },
    {
     "data": {
      "text/markdown": [
       "#### Rural"
      ],
      "text/plain": [
       "<IPython.core.display.Markdown object>"
      ]
     },
     "metadata": {},
     "output_type": "display_data"
    },
    {
     "name": "stdout",
     "output_type": "stream",
     "text": [
      "-----------\n",
      "chair\n",
      "studio\n",
      "campers\n",
      "staff\n",
      "hospitality\n",
      "partnership\n",
      "fireplace\n",
      "fleet\n",
      "reception\n",
      "induction\n",
      "-----------\n"
     ]
    },
    {
     "data": {
      "text/markdown": [
       "# wave"
      ],
      "text/plain": [
       "<IPython.core.display.Markdown object>"
      ]
     },
     "metadata": {},
     "output_type": "display_data"
    },
    {
     "data": {
      "text/markdown": [
       "#### Urban"
      ],
      "text/plain": [
       "<IPython.core.display.Markdown object>"
      ]
     },
     "metadata": {},
     "output_type": "display_data"
    },
    {
     "name": "stdout",
     "output_type": "stream",
     "text": [
      "---------\n",
      "trend\n",
      "track\n",
      "waves\n",
      "phase\n",
      "boat\n",
      "dimension\n",
      "splash\n",
      "flow\n",
      "trap\n",
      "song\n",
      "---------\n"
     ]
    },
    {
     "data": {
      "text/markdown": [
       "#### Rural"
      ],
      "text/plain": [
       "<IPython.core.display.Markdown object>"
      ]
     },
     "metadata": {},
     "output_type": "display_data"
    },
    {
     "name": "stdout",
     "output_type": "stream",
     "text": [
      "----------\n",
      "bottom\n",
      "underwater\n",
      "banger\n",
      "flame\n",
      "edge\n",
      "peak\n",
      "phase\n",
      "wnw\n",
      "rim\n",
      "dimension\n",
      "----------\n"
     ]
    },
    {
     "data": {
      "text/markdown": [
       "# index"
      ],
      "text/plain": [
       "<IPython.core.display.Markdown object>"
      ]
     },
     "metadata": {},
     "output_type": "display_data"
    },
    {
     "data": {
      "text/markdown": [
       "#### Urban"
      ],
      "text/plain": [
       "<IPython.core.display.Markdown object>"
      ]
     },
     "metadata": {},
     "output_type": "display_data"
    },
    {
     "name": "stdout",
     "output_type": "stream",
     "text": [
      "---------\n",
      "emissions\n",
      "carbon\n",
      "output\n",
      "usage\n",
      "increases\n",
      "utility\n",
      "supply\n",
      "volume\n",
      "bitcoin\n",
      "engine\n",
      "---------\n"
     ]
    },
    {
     "data": {
      "text/markdown": [
       "#### Rural"
      ],
      "text/plain": [
       "<IPython.core.display.Markdown object>"
      ]
     },
     "metadata": {},
     "output_type": "display_data"
    },
    {
     "name": "stdout",
     "output_type": "stream",
     "text": [
      "----------\n",
      "blistering\n",
      "uv\n",
      "76\n",
      "83\n",
      "79\n",
      "81f\n",
      "84\n",
      "77\n",
      "87f\n",
      "scorching\n",
      "----------\n"
     ]
    },
    {
     "data": {
      "text/markdown": [
       "# falling"
      ],
      "text/plain": [
       "<IPython.core.display.Markdown object>"
      ]
     },
     "metadata": {},
     "output_type": "display_data"
    },
    {
     "data": {
      "text/markdown": [
       "#### Urban"
      ],
      "text/plain": [
       "<IPython.core.display.Markdown object>"
      ]
     },
     "metadata": {},
     "output_type": "display_data"
    },
    {
     "name": "stdout",
     "output_type": "stream",
     "text": [
      "--------\n",
      "jumping\n",
      "fall\n",
      "fell\n",
      "walking\n",
      "settling\n",
      "crawling\n",
      "falls\n",
      "drifting\n",
      "fallin\n",
      "ripping\n",
      "--------\n"
     ]
    },
    {
     "data": {
      "text/markdown": [
       "#### Rural"
      ],
      "text/plain": [
       "<IPython.core.display.Markdown object>"
      ]
     },
     "metadata": {},
     "output_type": "display_data"
    },
    {
     "name": "stdout",
     "output_type": "stream",
     "text": [
      "-----------\n",
      "rising\n",
      "steady\n",
      "fell\n",
      "slipping\n",
      "temperature\n",
      "baro\n",
      "barometer\n",
      "rapidly\n",
      "turning\n",
      "fall\n",
      "-----------\n"
     ]
    },
    {
     "data": {
      "text/markdown": [
       "# category"
      ],
      "text/plain": [
       "<IPython.core.display.Markdown object>"
      ]
     },
     "metadata": {},
     "output_type": "display_data"
    },
    {
     "data": {
      "text/markdown": [
       "#### Urban"
      ],
      "text/plain": [
       "<IPython.core.display.Markdown object>"
      ]
     },
     "metadata": {},
     "output_type": "display_data"
    },
    {
     "name": "stdout",
     "output_type": "stream",
     "text": [
      "----------\n",
      "format\n",
      "categories\n",
      "position\n",
      "aspect\n",
      "factor\n",
      "realm\n",
      "attributes\n",
      "character\n",
      "series\n",
      "franchise\n",
      "----------\n"
     ]
    },
    {
     "data": {
      "text/markdown": [
       "#### Rural"
      ],
      "text/plain": [
       "<IPython.core.display.Markdown object>"
      ]
     },
     "metadata": {},
     "output_type": "display_data"
    },
    {
     "name": "stdout",
     "output_type": "stream",
     "text": [
      "---------\n",
      "depth\n",
      "stages\n",
      "quarters\n",
      "magnitude\n",
      "rounds\n",
      "errors\n",
      "turnovers\n",
      "innings\n",
      "margin\n",
      "mos\n",
      "---------\n"
     ]
    },
    {
     "data": {
      "text/markdown": [
       "# arrival"
      ],
      "text/plain": [
       "<IPython.core.display.Markdown object>"
      ]
     },
     "metadata": {},
     "output_type": "display_data"
    },
    {
     "data": {
      "text/markdown": [
       "#### Urban"
      ],
      "text/plain": [
       "<IPython.core.display.Markdown object>"
      ]
     },
     "metadata": {},
     "output_type": "display_data"
    },
    {
     "name": "stdout",
     "output_type": "stream",
     "text": [
      "------------\n",
      "departure\n",
      "announcement\n",
      "completion\n",
      "arriving\n",
      "itinerary\n",
      "shipment\n",
      "calendar\n",
      "burial\n",
      "honeymoon\n",
      "forecast\n",
      "------------\n"
     ]
    },
    {
     "data": {
      "text/markdown": [
       "#### Rural"
      ],
      "text/plain": [
       "<IPython.core.display.Markdown object>"
      ]
     },
     "metadata": {},
     "output_type": "display_data"
    },
    {
     "name": "stdout",
     "output_type": "stream",
     "text": [
      "----------\n",
      "arrivals\n",
      "hampshire\n",
      "beginnings\n",
      "rochelle\n",
      "zealand\n",
      "orleans\n",
      "yorker\n",
      "paltz\n",
      "yorkers\n",
      "sunnies\n",
      "----------\n"
     ]
    },
    {
     "data": {
      "text/markdown": [
       "# joint"
      ],
      "text/plain": [
       "<IPython.core.display.Markdown object>"
      ]
     },
     "metadata": {},
     "output_type": "display_data"
    },
    {
     "data": {
      "text/markdown": [
       "#### Urban"
      ],
      "text/plain": [
       "<IPython.core.display.Markdown object>"
      ]
     },
     "metadata": {},
     "output_type": "display_data"
    },
    {
     "name": "stdout",
     "output_type": "stream",
     "text": [
      "----------\n",
      "chain\n",
      "drill\n",
      "commercial\n",
      "gig\n",
      "bar\n",
      "restaurant\n",
      "mural\n",
      "tape\n",
      "truck\n",
      "unit\n",
      "----------\n"
     ]
    },
    {
     "data": {
      "text/markdown": [
       "#### Rural"
      ],
      "text/plain": [
       "<IPython.core.display.Markdown object>"
      ]
     },
     "metadata": {},
     "output_type": "display_data"
    },
    {
     "name": "stdout",
     "output_type": "stream",
     "text": [
      "------------\n",
      "fossil\n",
      "ie\n",
      "sewage\n",
      "sewer\n",
      "mountainside\n",
      "smog\n",
      "cannabis\n",
      "grain\n",
      "usda\n",
      "caffeine\n",
      "------------\n"
     ]
    },
    {
     "data": {
      "text/markdown": [
       "# slowly"
      ],
      "text/plain": [
       "<IPython.core.display.Markdown object>"
      ]
     },
     "metadata": {},
     "output_type": "display_data"
    },
    {
     "data": {
      "text/markdown": [
       "#### Urban"
      ],
      "text/plain": [
       "<IPython.core.display.Markdown object>"
      ]
     },
     "metadata": {},
     "output_type": "display_data"
    },
    {
     "name": "stdout",
     "output_type": "stream",
     "text": [
      "---------\n",
      "lowly\n",
      "quickly\n",
      "gradually\n",
      "rapidly\n",
      "suddenly\n",
      "wind\n",
      "quietly\n",
      "steady\n",
      "then\n",
      "deep\n",
      "---------\n"
     ]
    },
    {
     "data": {
      "text/markdown": [
       "#### Rural"
      ],
      "text/plain": [
       "<IPython.core.display.Markdown object>"
      ]
     },
     "metadata": {},
     "output_type": "display_data"
    },
    {
     "name": "stdout",
     "output_type": "stream",
     "text": [
      "---------\n",
      "rapidly\n",
      "steady\n",
      "barometer\n",
      "rising\n",
      "baro\n",
      "chl\n",
      "hg\n",
      "slp\n",
      "falling\n",
      "pressure\n",
      "---------\n"
     ]
    },
    {
     "data": {
      "text/markdown": [
       "# relative"
      ],
      "text/plain": [
       "<IPython.core.display.Markdown object>"
      ]
     },
     "metadata": {},
     "output_type": "display_data"
    },
    {
     "data": {
      "text/markdown": [
       "#### Urban"
      ],
      "text/plain": [
       "<IPython.core.display.Markdown object>"
      ]
     },
     "metadata": {},
     "output_type": "display_data"
    },
    {
     "name": "stdout",
     "output_type": "stream",
     "text": [
      "-----------\n",
      "object\n",
      "factor\n",
      "standard\n",
      "disability\n",
      "structure\n",
      "wealth\n",
      "belief\n",
      "individual\n",
      "significant\n",
      "physical\n",
      "-----------\n"
     ]
    },
    {
     "data": {
      "text/markdown": [
       "#### Rural"
      ],
      "text/plain": [
       "<IPython.core.display.Markdown object>"
      ]
     },
     "metadata": {},
     "output_type": "display_data"
    },
    {
     "name": "stdout",
     "output_type": "stream",
     "text": [
      "------------\n",
      "troublesome\n",
      "developing\n",
      "moot\n",
      "gusty\n",
      "87f\n",
      "respiratory\n",
      "prerequisite\n",
      "62f\n",
      "symptom\n",
      "occurring\n",
      "------------\n"
     ]
    },
    {
     "data": {
      "text/markdown": [
       "# experiments"
      ],
      "text/plain": [
       "<IPython.core.display.Markdown object>"
      ]
     },
     "metadata": {},
     "output_type": "display_data"
    },
    {
     "data": {
      "text/markdown": [
       "#### Urban"
      ],
      "text/plain": [
       "<IPython.core.display.Markdown object>"
      ]
     },
     "metadata": {},
     "output_type": "display_data"
    },
    {
     "name": "stdout",
     "output_type": "stream",
     "text": [
      "-------------\n",
      "identities\n",
      "structures\n",
      "variables\n",
      "industries\n",
      "societies\n",
      "offenses\n",
      "demographics\n",
      "methods\n",
      "nuances\n",
      "technological\n",
      "-------------\n"
     ]
    },
    {
     "data": {
      "text/markdown": [
       "#### Rural"
      ],
      "text/plain": [
       "<IPython.core.display.Markdown object>"
      ]
     },
     "metadata": {},
     "output_type": "display_data"
    },
    {
     "name": "stdout",
     "output_type": "stream",
     "text": [
      "------------\n",
      "occured\n",
      "horribly\n",
      "brilliantly\n",
      "batshit\n",
      "twos\n",
      "translations\n",
      "experiment\n",
      "tf2\n",
      "lengths\n",
      "shrew\n",
      "------------\n"
     ]
    },
    {
     "data": {
      "text/markdown": [
       "# hollywood"
      ],
      "text/plain": [
       "<IPython.core.display.Markdown object>"
      ]
     },
     "metadata": {},
     "output_type": "display_data"
    },
    {
     "data": {
      "text/markdown": [
       "#### Urban"
      ],
      "text/plain": [
       "<IPython.core.display.Markdown object>"
      ]
     },
     "metadata": {},
     "output_type": "display_data"
    },
    {
     "name": "stdout",
     "output_type": "stream",
     "text": [
      "--------\n",
      "hardcore\n",
      "japan\n",
      "asian\n",
      "african\n",
      "japanese\n",
      "korean\n",
      "latin\n",
      "indian\n",
      "paris\n",
      "hentai\n",
      "--------\n"
     ]
    },
    {
     "data": {
      "text/markdown": [
       "#### Rural"
      ],
      "text/plain": [
       "<IPython.core.display.Markdown object>"
      ]
     },
     "metadata": {},
     "output_type": "display_data"
    },
    {
     "name": "stdout",
     "output_type": "stream",
     "text": [
      "----------\n",
      "antifa\n",
      "marvel\n",
      "streep\n",
      "comedy\n",
      "british\n",
      "neo\n",
      "milo\n",
      "mainstream\n",
      "blm\n",
      "actors\n",
      "----------\n"
     ]
    },
    {
     "data": {
      "text/markdown": [
       "# ruled"
      ],
      "text/plain": [
       "<IPython.core.display.Markdown object>"
      ]
     },
     "metadata": {},
     "output_type": "display_data"
    },
    {
     "data": {
      "text/markdown": [
       "#### Urban"
      ],
      "text/plain": [
       "<IPython.core.display.Markdown object>"
      ]
     },
     "metadata": {},
     "output_type": "display_data"
    },
    {
     "name": "stdout",
     "output_type": "stream",
     "text": [
      "--------\n",
      "singled\n",
      "wiped\n",
      "struck\n",
      "bailed\n",
      "escorted\n",
      "tosses\n",
      "maxed\n",
      "creeped\n",
      "striking\n",
      "opts\n",
      "--------\n"
     ]
    },
    {
     "data": {
      "text/markdown": [
       "#### Rural"
      ],
      "text/plain": [
       "<IPython.core.display.Markdown object>"
      ]
     },
     "metadata": {},
     "output_type": "display_data"
    },
    {
     "name": "stdout",
     "output_type": "stream",
     "text": [
      "----------\n",
      "destroyed\n",
      "plagued\n",
      "declared\n",
      "detained\n",
      "controlled\n",
      "indicted\n",
      "sued\n",
      "murdered\n",
      "overturned\n",
      "silenced\n",
      "----------\n"
     ]
    },
    {
     "data": {
      "text/markdown": [
       "# occurs"
      ],
      "text/plain": [
       "<IPython.core.display.Markdown object>"
      ]
     },
     "metadata": {},
     "output_type": "display_data"
    },
    {
     "data": {
      "text/markdown": [
       "#### Urban"
      ],
      "text/plain": [
       "<IPython.core.display.Markdown object>"
      ]
     },
     "metadata": {},
     "output_type": "display_data"
    },
    {
     "name": "stdout",
     "output_type": "stream",
     "text": [
      "---------\n",
      "affects\n",
      "occurred\n",
      "causes\n",
      "triggers\n",
      "occurring\n",
      "requires\n",
      "occur\n",
      "involves\n",
      "happens\n",
      "attribute\n",
      "---------\n"
     ]
    },
    {
     "data": {
      "text/markdown": [
       "#### Rural"
      ],
      "text/plain": [
       "<IPython.core.display.Markdown object>"
      ]
     },
     "metadata": {},
     "output_type": "display_data"
    },
    {
     "name": "stdout",
     "output_type": "stream",
     "text": [
      "-------------\n",
      "snows\n",
      "skimmed\n",
      "rains\n",
      "pours\n",
      "notifies\n",
      "mourners\n",
      "proliferation\n",
      "happens\n",
      "mattered\n",
      "shtf\n",
      "-------------\n"
     ]
    },
    {
     "data": {
      "text/markdown": [
       "# significant"
      ],
      "text/plain": [
       "<IPython.core.display.Markdown object>"
      ]
     },
     "metadata": {},
     "output_type": "display_data"
    },
    {
     "data": {
      "text/markdown": [
       "#### Urban"
      ],
      "text/plain": [
       "<IPython.core.display.Markdown object>"
      ]
     },
     "metadata": {},
     "output_type": "display_data"
    },
    {
     "name": "stdout",
     "output_type": "stream",
     "text": [
      "----------\n",
      "relative\n",
      "concern\n",
      "preference\n",
      "beliefs\n",
      "each\n",
      "disability\n",
      "expertise\n",
      "issues\n",
      "problems\n",
      "factors\n",
      "----------\n"
     ]
    },
    {
     "data": {
      "text/markdown": [
       "#### Rural"
      ],
      "text/plain": [
       "<IPython.core.display.Markdown object>"
      ]
     },
     "metadata": {},
     "output_type": "display_data"
    },
    {
     "name": "stdout",
     "output_type": "stream",
     "text": [
      "----------\n",
      "frequent\n",
      "pisces\n",
      "virgo\n",
      "concern\n",
      "each\n",
      "outlook\n",
      "scorpio\n",
      "aquarius\n",
      "taurus\n",
      "accurately\n",
      "----------\n"
     ]
    },
    {
     "data": {
      "text/markdown": [
       "# date"
      ],
      "text/plain": [
       "<IPython.core.display.Markdown object>"
      ]
     },
     "metadata": {},
     "output_type": "display_data"
    },
    {
     "data": {
      "text/markdown": [
       "#### Urban"
      ],
      "text/plain": [
       "<IPython.core.display.Markdown object>"
      ]
     },
     "metadata": {},
     "output_type": "display_data"
    },
    {
     "name": "stdout",
     "output_type": "stream",
     "text": [
      "----------\n",
      "dates\n",
      "prom\n",
      "surprise\n",
      "show\n",
      "photoshoot\n",
      "ticket\n",
      "set\n",
      "wedding\n",
      "crush\n",
      "trip\n",
      "----------\n"
     ]
    },
    {
     "data": {
      "text/markdown": [
       "#### Rural"
      ],
      "text/plain": [
       "<IPython.core.display.Markdown object>"
      ]
     },
     "metadata": {},
     "output_type": "display_data"
    },
    {
     "name": "stdout",
     "output_type": "stream",
     "text": [
      "--------\n",
      "dates\n",
      "prom\n",
      "vacation\n",
      "wedding\n",
      "haircut\n",
      "tattoo\n",
      "dress\n",
      "movie\n",
      "snack\n",
      "friday\n",
      "--------\n"
     ]
    },
    {
     "data": {
      "text/markdown": [
       "# load"
      ],
      "text/plain": [
       "<IPython.core.display.Markdown object>"
      ]
     },
     "metadata": {},
     "output_type": "display_data"
    },
    {
     "data": {
      "text/markdown": [
       "#### Urban"
      ],
      "text/plain": [
       "<IPython.core.display.Markdown object>"
      ]
     },
     "metadata": {},
     "output_type": "display_data"
    },
    {
     "name": "stdout",
     "output_type": "stream",
     "text": [
      "-----\n",
      "stack\n",
      "pile\n",
      "scan\n",
      "use\n",
      "block\n",
      "blow\n",
      "jump\n",
      "dodge\n",
      "pass\n",
      "bag\n",
      "-----\n"
     ]
    },
    {
     "data": {
      "text/markdown": [
       "#### Rural"
      ],
      "text/plain": [
       "<IPython.core.display.Markdown object>"
      ]
     },
     "metadata": {},
     "output_type": "display_data"
    },
    {
     "name": "stdout",
     "output_type": "stream",
     "text": [
      "-----\n",
      "pile\n",
      "stack\n",
      "ton\n",
      "blow\n",
      "sack\n",
      "slip\n",
      "loads\n",
      "rack\n",
      "chunk\n",
      "stick\n",
      "-----\n"
     ]
    },
    {
     "data": {
      "text/markdown": [
       "# of"
      ],
      "text/plain": [
       "<IPython.core.display.Markdown object>"
      ]
     },
     "metadata": {},
     "output_type": "display_data"
    },
    {
     "data": {
      "text/markdown": [
       "#### Urban"
      ],
      "text/plain": [
       "<IPython.core.display.Markdown object>"
      ]
     },
     "metadata": {},
     "output_type": "display_data"
    },
    {
     "name": "stdout",
     "output_type": "stream",
     "text": [
      "---------\n",
      "in\n",
      "and\n",
      "for\n",
      "vast\n",
      "within\n",
      "potential\n",
      "from\n",
      "major\n",
      "including\n",
      "enormous\n",
      "---------\n"
     ]
    },
    {
     "data": {
      "text/markdown": [
       "#### Rural"
      ],
      "text/plain": [
       "<IPython.core.display.Markdown object>"
      ]
     },
     "metadata": {},
     "output_type": "display_data"
    },
    {
     "name": "stdout",
     "output_type": "stream",
     "text": [
      "----------\n",
      "among\n",
      "throughout\n",
      "in\n",
      "combined\n",
      "deepest\n",
      "for\n",
      "political\n",
      "lowest\n",
      "despite\n",
      "spectrum\n",
      "----------\n"
     ]
    },
    {
     "data": {
      "text/markdown": [
       "# returning"
      ],
      "text/plain": [
       "<IPython.core.display.Markdown object>"
      ]
     },
     "metadata": {},
     "output_type": "display_data"
    },
    {
     "data": {
      "text/markdown": [
       "#### Urban"
      ],
      "text/plain": [
       "<IPython.core.display.Markdown object>"
      ]
     },
     "metadata": {},
     "output_type": "display_data"
    },
    {
     "name": "stdout",
     "output_type": "stream",
     "text": [
      "----------\n",
      "heading\n",
      "announcing\n",
      "retiring\n",
      "return\n",
      "coming\n",
      "starting\n",
      "leaving\n",
      "expected\n",
      "receiving\n",
      "moving\n",
      "----------\n"
     ]
    },
    {
     "data": {
      "text/markdown": [
       "#### Rural"
      ],
      "text/plain": [
       "<IPython.core.display.Markdown object>"
      ]
     },
     "metadata": {},
     "output_type": "display_data"
    },
    {
     "name": "stdout",
     "output_type": "stream",
     "text": [
      "-----------\n",
      "announcing\n",
      "welcomed\n",
      "host\n",
      "advancing\n",
      "alumni\n",
      "graduating\n",
      "attending\n",
      "auditioning\n",
      "welcomes\n",
      "welcoming\n",
      "-----------\n"
     ]
    },
    {
     "data": {
      "text/markdown": [
       "# everywhere"
      ],
      "text/plain": [
       "<IPython.core.display.Markdown object>"
      ]
     },
     "metadata": {},
     "output_type": "display_data"
    },
    {
     "data": {
      "text/markdown": [
       "#### Urban"
      ],
      "text/plain": [
       "<IPython.core.display.Markdown object>"
      ]
     },
     "metadata": {},
     "output_type": "display_data"
    },
    {
     "name": "stdout",
     "output_type": "stream",
     "text": [
      "---------\n",
      "around\n",
      "where\n",
      "wherever\n",
      "always\n",
      "outside\n",
      "still\n",
      "wild\n",
      "mostly\n",
      "across\n",
      "naturally\n",
      "---------\n"
     ]
    },
    {
     "data": {
      "text/markdown": [
       "#### Rural"
      ],
      "text/plain": [
       "<IPython.core.display.Markdown object>"
      ]
     },
     "metadata": {},
     "output_type": "display_data"
    },
    {
     "name": "stdout",
     "output_type": "stream",
     "text": [
      "---------\n",
      "somewhere\n",
      "nuts\n",
      "where\n",
      "outside\n",
      "around\n",
      "wherever\n",
      "anywhere\n",
      "nowhere\n",
      "when\n",
      "crazy\n",
      "---------\n"
     ]
    },
    {
     "data": {
      "text/markdown": [
       "# hell"
      ],
      "text/plain": [
       "<IPython.core.display.Markdown object>"
      ]
     },
     "metadata": {},
     "output_type": "display_data"
    },
    {
     "data": {
      "text/markdown": [
       "#### Urban"
      ],
      "text/plain": [
       "<IPython.core.display.Markdown object>"
      ]
     },
     "metadata": {},
     "output_type": "display_data"
    },
    {
     "name": "stdout",
     "output_type": "stream",
     "text": [
      "-----\n",
      "fuck\n",
      "tf\n",
      "fck\n",
      "shit\n",
      "grail\n",
      "well\n",
      "woods\n",
      "fucc\n",
      "hood\n",
      "crap\n",
      "-----\n"
     ]
    },
    {
     "data": {
      "text/markdown": [
       "#### Rural"
      ],
      "text/plain": [
       "<IPython.core.display.Markdown object>"
      ]
     },
     "metadata": {},
     "output_type": "display_data"
    },
    {
     "name": "stdout",
     "output_type": "stream",
     "text": [
      "-------\n",
      "heck\n",
      "fuck\n",
      "crap\n",
      "shit\n",
      "well\n",
      "rest\n",
      "tf\n",
      "nowhere\n",
      "lol\n",
      "exactly\n",
      "-------\n"
     ]
    },
    {
     "data": {
      "text/markdown": [
       "# upon"
      ],
      "text/plain": [
       "<IPython.core.display.Markdown object>"
      ]
     },
     "metadata": {},
     "output_type": "display_data"
    },
    {
     "data": {
      "text/markdown": [
       "#### Urban"
      ],
      "text/plain": [
       "<IPython.core.display.Markdown object>"
      ]
     },
     "metadata": {},
     "output_type": "display_data"
    },
    {
     "name": "stdout",
     "output_type": "stream",
     "text": [
      "----------\n",
      "toward\n",
      "within\n",
      "towards\n",
      "throughout\n",
      "apart\n",
      "onto\n",
      "beneath\n",
      "into\n",
      "through\n",
      "collective\n",
      "----------\n"
     ]
    },
    {
     "data": {
      "text/markdown": [
       "#### Rural"
      ],
      "text/plain": [
       "<IPython.core.display.Markdown object>"
      ]
     },
     "metadata": {},
     "output_type": "display_data"
    },
    {
     "name": "stdout",
     "output_type": "stream",
     "text": [
      "----------\n",
      "unto\n",
      "heals\n",
      "throughout\n",
      "apart\n",
      "behold\n",
      "within\n",
      "against\n",
      "toward\n",
      "witness\n",
      "endanger\n",
      "----------\n"
     ]
    },
    {
     "data": {
      "text/markdown": [
       "# grounds"
      ],
      "text/plain": [
       "<IPython.core.display.Markdown object>"
      ]
     },
     "metadata": {},
     "output_type": "display_data"
    },
    {
     "data": {
      "text/markdown": [
       "#### Urban"
      ],
      "text/plain": [
       "<IPython.core.display.Markdown object>"
      ]
     },
     "metadata": {},
     "output_type": "display_data"
    },
    {
     "name": "stdout",
     "output_type": "stream",
     "text": [
      "--------------\n",
      "branch\n",
      "courts\n",
      "warrants\n",
      "investigation\n",
      "gate\n",
      "court\n",
      "investigations\n",
      "ruling\n",
      "office\n",
      "indefinitely\n",
      "--------------\n"
     ]
    },
    {
     "data": {
      "text/markdown": [
       "#### Rural"
      ],
      "text/plain": [
       "<IPython.core.display.Markdown object>"
      ]
     },
     "metadata": {},
     "output_type": "display_data"
    },
    {
     "name": "stdout",
     "output_type": "stream",
     "text": [
      "----------\n",
      "pasture\n",
      "striking\n",
      "gate\n",
      "jumps\n",
      "hives\n",
      "courthouse\n",
      "pulls\n",
      "cmd\n",
      "passing\n",
      "shelves\n",
      "----------\n"
     ]
    },
    {
     "data": {
      "text/markdown": [
       "# tune"
      ],
      "text/plain": [
       "<IPython.core.display.Markdown object>"
      ]
     },
     "metadata": {},
     "output_type": "display_data"
    },
    {
     "data": {
      "text/markdown": [
       "#### Urban"
      ],
      "text/plain": [
       "<IPython.core.display.Markdown object>"
      ]
     },
     "metadata": {},
     "output_type": "display_data"
    },
    {
     "name": "stdout",
     "output_type": "stream",
     "text": [
      "-------\n",
      "tuning\n",
      "chime\n",
      "studio\n",
      "une\n",
      "mix\n",
      "listen\n",
      "stream\n",
      "podcast\n",
      "live\n",
      "jam\n",
      "-------\n"
     ]
    },
    {
     "data": {
      "text/markdown": [
       "#### Rural"
      ],
      "text/plain": [
       "<IPython.core.display.Markdown object>"
      ]
     },
     "metadata": {},
     "output_type": "display_data"
    },
    {
     "name": "stdout",
     "output_type": "stream",
     "text": [
      "---------\n",
      "tuning\n",
      "blaring\n",
      "streaming\n",
      "jamming\n",
      "live\n",
      "tap\n",
      "swing\n",
      "radio\n",
      "karaoke\n",
      "studio\n",
      "---------\n"
     ]
    },
    {
     "data": {
      "text/markdown": [
       "# gang"
      ],
      "text/plain": [
       "<IPython.core.display.Markdown object>"
      ]
     },
     "metadata": {},
     "output_type": "display_data"
    },
    {
     "data": {
      "text/markdown": [
       "#### Urban"
      ],
      "text/plain": [
       "<IPython.core.display.Markdown object>"
      ]
     },
     "metadata": {},
     "output_type": "display_data"
    },
    {
     "name": "stdout",
     "output_type": "stream",
     "text": [
      "------\n",
      "mob\n",
      "gangs\n",
      "squad\n",
      "homies\n",
      "bang\n",
      "cartel\n",
      "army\n",
      "mafia\n",
      "street\n",
      "bull\n",
      "------\n"
     ]
    },
    {
     "data": {
      "text/markdown": [
       "#### Rural"
      ],
      "text/plain": [
       "<IPython.core.display.Markdown object>"
      ]
     },
     "metadata": {},
     "output_type": "display_data"
    },
    {
     "name": "stdout",
     "output_type": "stream",
     "text": [
      "-------\n",
      "boonk\n",
      "mob\n",
      "macho\n",
      "fakes\n",
      "kodak\n",
      "gangsta\n",
      "boyz\n",
      "thug\n",
      "dolph\n",
      "hood\n",
      "-------\n"
     ]
    },
    {
     "data": {
      "text/markdown": [
       "# burns"
      ],
      "text/plain": [
       "<IPython.core.display.Markdown object>"
      ]
     },
     "metadata": {},
     "output_type": "display_data"
    },
    {
     "data": {
      "text/markdown": [
       "#### Urban"
      ],
      "text/plain": [
       "<IPython.core.display.Markdown object>"
      ]
     },
     "metadata": {},
     "output_type": "display_data"
    },
    {
     "name": "stdout",
     "output_type": "stream",
     "text": [
      "--------\n",
      "explodes\n",
      "catches\n",
      "leaves\n",
      "melts\n",
      "falls\n",
      "burning\n",
      "washes\n",
      "mud\n",
      "crosses\n",
      "drains\n",
      "--------\n"
     ]
    },
    {
     "data": {
      "text/markdown": [
       "#### Rural"
      ],
      "text/plain": [
       "<IPython.core.display.Markdown object>"
      ]
     },
     "metadata": {},
     "output_type": "display_data"
    },
    {
     "name": "stdout",
     "output_type": "stream",
     "text": [
      "-------\n",
      "robs\n",
      "benny\n",
      "hoffman\n",
      "draws\n",
      "goodman\n",
      "stevens\n",
      "bradley\n",
      "buries\n",
      "dorsey\n",
      "gregory\n",
      "-------\n"
     ]
    },
    {
     "data": {
      "text/markdown": [
       "# kings"
      ],
      "text/plain": [
       "<IPython.core.display.Markdown object>"
      ]
     },
     "metadata": {},
     "output_type": "display_data"
    },
    {
     "data": {
      "text/markdown": [
       "#### Urban"
      ],
      "text/plain": [
       "<IPython.core.display.Markdown object>"
      ]
     },
     "metadata": {},
     "output_type": "display_data"
    },
    {
     "name": "stdout",
     "output_type": "stream",
     "text": [
      "----------\n",
      "legends\n",
      "wizards\n",
      "queens\n",
      "champions\n",
      "stars\n",
      "bulls\n",
      "warriors\n",
      "saints\n",
      "superstars\n",
      "king\n",
      "----------\n"
     ]
    },
    {
     "data": {
      "text/markdown": [
       "#### Rural"
      ],
      "text/plain": [
       "<IPython.core.display.Markdown object>"
      ]
     },
     "metadata": {},
     "output_type": "display_data"
    },
    {
     "name": "stdout",
     "output_type": "stream",
     "text": [
      "---------\n",
      "hou\n",
      "diablo\n",
      "berlin\n",
      "bos\n",
      "ph\n",
      "alene\n",
      "dra\n",
      "zerolemon\n",
      "lp\n",
      "waiters\n",
      "---------\n"
     ]
    },
    {
     "data": {
      "text/markdown": [
       "# end"
      ],
      "text/plain": [
       "<IPython.core.display.Markdown object>"
      ]
     },
     "metadata": {},
     "output_type": "display_data"
    },
    {
     "data": {
      "text/markdown": [
       "#### Urban"
      ],
      "text/plain": [
       "<IPython.core.display.Markdown object>"
      ]
     },
     "metadata": {},
     "output_type": "display_data"
    },
    {
     "name": "stdout",
     "output_type": "stream",
     "text": [
      "-----\n",
      "catch\n",
      "wake\n",
      "rise\n",
      "rest\n",
      "start\n",
      "set\n",
      "sign\n",
      "cover\n",
      "blow\n",
      "pick\n",
      "-----\n"
     ]
    },
    {
     "data": {
      "text/markdown": [
       "#### Rural"
      ],
      "text/plain": [
       "<IPython.core.display.Markdown object>"
      ]
     },
     "metadata": {},
     "output_type": "display_data"
    },
    {
     "name": "stdout",
     "output_type": "stream",
     "text": [
      "------\n",
      "start\n",
      "rise\n",
      "rest\n",
      "bottom\n",
      "finish\n",
      "point\n",
      "half\n",
      "ending\n",
      "ended\n",
      "set\n",
      "------\n"
     ]
    },
    {
     "data": {
      "text/markdown": [
       "# throughout"
      ],
      "text/plain": [
       "<IPython.core.display.Markdown object>"
      ]
     },
     "metadata": {},
     "output_type": "display_data"
    },
    {
     "data": {
      "text/markdown": [
       "#### Urban"
      ],
      "text/plain": [
       "<IPython.core.display.Markdown object>"
      ]
     },
     "metadata": {},
     "output_type": "display_data"
    },
    {
     "name": "stdout",
     "output_type": "stream",
     "text": [
      "----------\n",
      "during\n",
      "within\n",
      "past\n",
      "in\n",
      "across\n",
      "exploring\n",
      "navigating\n",
      "entire\n",
      "busiest\n",
      "upon\n",
      "----------\n"
     ]
    },
    {
     "data": {
      "text/markdown": [
       "#### Rural"
      ],
      "text/plain": [
       "<IPython.core.display.Markdown object>"
      ]
     },
     "metadata": {},
     "output_type": "display_data"
    },
    {
     "name": "stdout",
     "output_type": "stream",
     "text": [
      "------------\n",
      "during\n",
      "awareness\n",
      "surrounding\n",
      "sciences\n",
      "within\n",
      "coldest\n",
      "independence\n",
      "among\n",
      "exploring\n",
      "oceans\n",
      "------------\n"
     ]
    },
    {
     "data": {
      "text/markdown": [
       "# fortune"
      ],
      "text/plain": [
       "<IPython.core.display.Markdown object>"
      ]
     },
     "metadata": {},
     "output_type": "display_data"
    },
    {
     "data": {
      "text/markdown": [
       "#### Urban"
      ],
      "text/plain": [
       "<IPython.core.display.Markdown object>"
      ]
     },
     "metadata": {},
     "output_type": "display_data"
    },
    {
     "name": "stdout",
     "output_type": "stream",
     "text": [
      "----------\n",
      "sperm\n",
      "chunk\n",
      "sandwich\n",
      "cookie\n",
      "money\n",
      "jar\n",
      "sacrifices\n",
      "dough\n",
      "bread\n",
      "slice\n",
      "----------\n"
     ]
    },
    {
     "data": {
      "text/markdown": [
       "#### Rural"
      ],
      "text/plain": [
       "<IPython.core.display.Markdown object>"
      ]
     },
     "metadata": {},
     "output_type": "display_data"
    },
    {
     "name": "stdout",
     "output_type": "stream",
     "text": [
      "----------\n",
      "wagon\n",
      "bingo\n",
      "mega\n",
      "foresight\n",
      "smartphone\n",
      "dough\n",
      "nickel\n",
      "cutter\n",
      "cookie\n",
      "steering\n",
      "----------\n"
     ]
    },
    {
     "data": {
      "text/markdown": [
       "# extra"
      ],
      "text/plain": [
       "<IPython.core.display.Markdown object>"
      ]
     },
     "metadata": {},
     "output_type": "display_data"
    },
    {
     "data": {
      "text/markdown": [
       "#### Urban"
      ],
      "text/plain": [
       "<IPython.core.display.Markdown object>"
      ]
     },
     "metadata": {},
     "output_type": "display_data"
    },
    {
     "name": "stdout",
     "output_type": "stream",
     "text": [
      "-----------\n",
      "upgrade\n",
      "edible\n",
      "expensive\n",
      "easy\n",
      "overpriced\n",
      "unnecessary\n",
      "empty\n",
      "cheap\n",
      "additional\n",
      "unexpected\n",
      "-----------\n"
     ]
    },
    {
     "data": {
      "text/markdown": [
       "#### Rural"
      ],
      "text/plain": [
       "<IPython.core.display.Markdown object>"
      ]
     },
     "metadata": {},
     "output_type": "display_data"
    },
    {
     "name": "stdout",
     "output_type": "stream",
     "text": [
      "----------\n",
      "unlimited\n",
      "additional\n",
      "bags\n",
      "fee\n",
      "easy\n",
      "basket\n",
      "upgrade\n",
      "discount\n",
      "alcoholic\n",
      "plus\n",
      "----------\n"
     ]
    },
    {
     "data": {
      "text/markdown": [
       "# free"
      ],
      "text/plain": [
       "<IPython.core.display.Markdown object>"
      ]
     },
     "metadata": {},
     "output_type": "display_data"
    },
    {
     "data": {
      "text/markdown": [
       "#### Urban"
      ],
      "text/plain": [
       "<IPython.core.display.Markdown object>"
      ]
     },
     "metadata": {},
     "output_type": "display_data"
    },
    {
     "name": "stdout",
     "output_type": "stream",
     "text": [
      "-------------\n",
      "complimentary\n",
      "premium\n",
      "regular\n",
      "paid\n",
      "local\n",
      "daily\n",
      "special\n",
      "limited\n",
      "online\n",
      "code\n",
      "-------------\n"
     ]
    },
    {
     "data": {
      "text/markdown": [
       "#### Rural"
      ],
      "text/plain": [
       "<IPython.core.display.Markdown object>"
      ]
     },
     "metadata": {},
     "output_type": "display_data"
    },
    {
     "name": "stdout",
     "output_type": "stream",
     "text": [
      "-------------\n",
      "vip\n",
      "450\n",
      "404\n",
      "entry\n",
      "complimentary\n",
      "678\n",
      "2487368255\n",
      "repost\n",
      "577\n",
      "discount\n",
      "-------------\n"
     ]
    },
    {
     "data": {
      "text/markdown": [
       "# slight"
      ],
      "text/plain": [
       "<IPython.core.display.Markdown object>"
      ]
     },
     "metadata": {},
     "output_type": "display_data"
    },
    {
     "data": {
      "text/markdown": [
       "#### Urban"
      ],
      "text/plain": [
       "<IPython.core.display.Markdown object>"
      ]
     },
     "metadata": {},
     "output_type": "display_data"
    },
    {
     "name": "stdout",
     "output_type": "stream",
     "text": [
      "-----------\n",
      "mild\n",
      "heavy\n",
      "minor\n",
      "substantial\n",
      "minimal\n",
      "solid\n",
      "subtle\n",
      "lighter\n",
      "huge\n",
      "severe\n",
      "-----------\n"
     ]
    },
    {
     "data": {
      "text/markdown": [
       "#### Rural"
      ],
      "text/plain": [
       "<IPython.core.display.Markdown object>"
      ]
     },
     "metadata": {},
     "output_type": "display_data"
    },
    {
     "name": "stdout",
     "output_type": "stream",
     "text": [
      "-------------\n",
      "excessive\n",
      "fog\n",
      "showers\n",
      "patchy\n",
      "thunderstorms\n",
      "precipitation\n",
      "cloudy\n",
      "rainfall\n",
      "severe\n",
      "gusty\n",
      "-------------\n"
     ]
    },
    {
     "data": {
      "text/markdown": [
       "# bin"
      ],
      "text/plain": [
       "<IPython.core.display.Markdown object>"
      ]
     },
     "metadata": {},
     "output_type": "display_data"
    },
    {
     "data": {
      "text/markdown": [
       "#### Urban"
      ],
      "text/plain": [
       "<IPython.core.display.Markdown object>"
      ]
     },
     "metadata": {},
     "output_type": "display_data"
    },
    {
     "name": "stdout",
     "output_type": "stream",
     "text": [
      "---------\n",
      "rifle\n",
      "grenade\n",
      "dirt\n",
      "stove\n",
      "bag\n",
      "vacuum\n",
      "knife\n",
      "oil\n",
      "cardboard\n",
      "steel\n",
      "---------\n"
     ]
    },
    {
     "data": {
      "text/markdown": [
       "#### Rural"
      ],
      "text/plain": [
       "<IPython.core.display.Markdown object>"
      ]
     },
     "metadata": {},
     "output_type": "display_data"
    },
    {
     "name": "stdout",
     "output_type": "stream",
     "text": [
      "--------\n",
      "laden\n",
      "osama\n",
      "funneled\n",
      "crumbles\n",
      "drilling\n",
      "scandals\n",
      "mit\n",
      "bl\n",
      "nam\n",
      "sp\n",
      "--------\n"
     ]
    },
    {
     "data": {
      "text/markdown": [
       "# have"
      ],
      "text/plain": [
       "<IPython.core.display.Markdown object>"
      ]
     },
     "metadata": {},
     "output_type": "display_data"
    },
    {
     "data": {
      "text/markdown": [
       "#### Urban"
      ],
      "text/plain": [
       "<IPython.core.display.Markdown object>"
      ]
     },
     "metadata": {},
     "output_type": "display_data"
    },
    {
     "name": "stdout",
     "output_type": "stream",
     "text": [
      "-------\n",
      "ve\n",
      "get\n",
      "carry\n",
      "require\n",
      "use\n",
      "give\n",
      "had\n",
      "has\n",
      "having\n",
      "need\n",
      "-------\n"
     ]
    },
    {
     "data": {
      "text/markdown": [
       "#### Rural"
      ],
      "text/plain": [
       "<IPython.core.display.Markdown object>"
      ]
     },
     "metadata": {},
     "output_type": "display_data"
    },
    {
     "name": "stdout",
     "output_type": "stream",
     "text": [
      "------\n",
      "ve\n",
      "get\n",
      "having\n",
      "give\n",
      "hav\n",
      "had\n",
      "exist\n",
      "lose\n",
      "be\n",
      "carry\n",
      "------\n"
     ]
    },
    {
     "data": {
      "text/markdown": [
       "# bears"
      ],
      "text/plain": [
       "<IPython.core.display.Markdown object>"
      ]
     },
     "metadata": {},
     "output_type": "display_data"
    },
    {
     "data": {
      "text/markdown": [
       "#### Urban"
      ],
      "text/plain": [
       "<IPython.core.display.Markdown object>"
      ]
     },
     "metadata": {},
     "output_type": "display_data"
    },
    {
     "name": "stdout",
     "output_type": "stream",
     "text": [
      "--------\n",
      "lions\n",
      "sharks\n",
      "cows\n",
      "grizzly\n",
      "birds\n",
      "snakes\n",
      "chickens\n",
      "gummy\n",
      "horses\n",
      "pigs\n",
      "--------\n"
     ]
    },
    {
     "data": {
      "text/markdown": [
       "#### Rural"
      ],
      "text/plain": [
       "<IPython.core.display.Markdown object>"
      ]
     },
     "metadata": {},
     "output_type": "display_data"
    },
    {
     "name": "stdout",
     "output_type": "stream",
     "text": [
      "--------\n",
      "lions\n",
      "raiders\n",
      "vikings\n",
      "hawks\n",
      "royals\n",
      "eagles\n",
      "reds\n",
      "knights\n",
      "panthers\n",
      "tigers\n",
      "--------\n"
     ]
    },
    {
     "data": {
      "text/markdown": [
       "# quickly"
      ],
      "text/plain": [
       "<IPython.core.display.Markdown object>"
      ]
     },
     "metadata": {},
     "output_type": "display_data"
    },
    {
     "data": {
      "text/markdown": [
       "#### Urban"
      ],
      "text/plain": [
       "<IPython.core.display.Markdown object>"
      ]
     },
     "metadata": {},
     "output_type": "display_data"
    },
    {
     "name": "stdout",
     "output_type": "stream",
     "text": [
      "------------\n",
      "easily\n",
      "eventually\n",
      "often\n",
      "rapidly\n",
      "dramatically\n",
      "fast\n",
      "far\n",
      "effectively\n",
      "slowly\n",
      "gradually\n",
      "------------\n"
     ]
    },
    {
     "data": {
      "text/markdown": [
       "#### Rural"
      ],
      "text/plain": [
       "<IPython.core.display.Markdown object>"
      ]
     },
     "metadata": {},
     "output_type": "display_data"
    },
    {
     "name": "stdout",
     "output_type": "stream",
     "text": [
      "-----------\n",
      "easily\n",
      "often\n",
      "fast\n",
      "difficult\n",
      "carefully\n",
      "soon\n",
      "poorly\n",
      "badly\n",
      "complicated\n",
      "disturbing\n",
      "-----------\n"
     ]
    },
    {
     "data": {
      "text/markdown": [
       "# party"
      ],
      "text/plain": [
       "<IPython.core.display.Markdown object>"
      ]
     },
     "metadata": {},
     "output_type": "display_data"
    },
    {
     "data": {
      "text/markdown": [
       "#### Urban"
      ],
      "text/plain": [
       "<IPython.core.display.Markdown object>"
      ]
     },
     "metadata": {},
     "output_type": "display_data"
    },
    {
     "name": "stdout",
     "output_type": "stream",
     "text": [
      "-----------\n",
      "parties\n",
      "club\n",
      "bar\n",
      "house\n",
      "wedding\n",
      "concert\n",
      "event\n",
      "celebration\n",
      "pool\n",
      "tent\n",
      "-----------\n"
     ]
    },
    {
     "data": {
      "text/markdown": [
       "#### Rural"
      ],
      "text/plain": [
       "<IPython.core.display.Markdown object>"
      ]
     },
     "metadata": {},
     "output_type": "display_data"
    },
    {
     "name": "stdout",
     "output_type": "stream",
     "text": [
      "-----------\n",
      "parties\n",
      "celebration\n",
      "event\n",
      "foam\n",
      "democratic\n",
      "night\n",
      "republican\n",
      "meeting\n",
      "house\n",
      "dinner\n",
      "-----------\n"
     ]
    },
    {
     "data": {
      "text/markdown": [
       "# fever"
      ],
      "text/plain": [
       "<IPython.core.display.Markdown object>"
      ]
     },
     "metadata": {},
     "output_type": "display_data"
    },
    {
     "data": {
      "text/markdown": [
       "#### Urban"
      ],
      "text/plain": [
       "<IPython.core.display.Markdown object>"
      ]
     },
     "metadata": {},
     "output_type": "display_data"
    },
    {
     "name": "stdout",
     "output_type": "stream",
     "text": [
      "--------\n",
      "migraine\n",
      "baby\n",
      "headache\n",
      "flu\n",
      "asthma\n",
      "hangover\n",
      "acne\n",
      "cramps\n",
      "nausea\n",
      "sunburn\n",
      "--------\n"
     ]
    },
    {
     "data": {
      "text/markdown": [
       "#### Rural"
      ],
      "text/plain": [
       "<IPython.core.display.Markdown object>"
      ]
     },
     "metadata": {},
     "output_type": "display_data"
    },
    {
     "name": "stdout",
     "output_type": "stream",
     "text": [
      "--------\n",
      "snuggles\n",
      "mermaid\n",
      "bod\n",
      "calf\n",
      "minnie\n",
      "fur\n",
      "poo\n",
      "headband\n",
      "stella\n",
      "strep\n",
      "--------\n"
     ]
    },
    {
     "data": {
      "text/markdown": [
       "# shortly"
      ],
      "text/plain": [
       "<IPython.core.display.Markdown object>"
      ]
     },
     "metadata": {},
     "output_type": "display_data"
    },
    {
     "data": {
      "text/markdown": [
       "#### Urban"
      ],
      "text/plain": [
       "<IPython.core.display.Markdown object>"
      ]
     },
     "metadata": {},
     "output_type": "display_data"
    },
    {
     "name": "stdout",
     "output_type": "stream",
     "text": [
      "-----------\n",
      "soon\n",
      "reopen\n",
      "momentarily\n",
      "sometime\n",
      "tomorrow\n",
      "reschedule\n",
      "immediately\n",
      "thereafter\n",
      "midnight\n",
      "eventually\n",
      "-----------\n"
     ]
    },
    {
     "data": {
      "text/markdown": [
       "#### Rural"
      ],
      "text/plain": [
       "<IPython.core.display.Markdown object>"
      ]
     },
     "metadata": {},
     "output_type": "display_data"
    },
    {
     "name": "stdout",
     "output_type": "stream",
     "text": [
      "-----------\n",
      "reopen\n",
      "sometime\n",
      "momentarily\n",
      "arrive\n",
      "rescheduled\n",
      "7am\n",
      "5am\n",
      "expire\n",
      "tommorow\n",
      "730\n",
      "-----------\n"
     ]
    },
    {
     "data": {
      "text/markdown": [
       "# expected"
      ],
      "text/plain": [
       "<IPython.core.display.Markdown object>"
      ]
     },
     "metadata": {},
     "output_type": "display_data"
    },
    {
     "data": {
      "text/markdown": [
       "#### Urban"
      ],
      "text/plain": [
       "<IPython.core.display.Markdown object>"
      ]
     },
     "metadata": {},
     "output_type": "display_data"
    },
    {
     "name": "stdout",
     "output_type": "stream",
     "text": [
      "---------\n",
      "expecting\n",
      "projected\n",
      "expects\n",
      "likely\n",
      "going\n",
      "possible\n",
      "supposed\n",
      "poised\n",
      "suppose\n",
      "returning\n",
      "---------\n"
     ]
    },
    {
     "data": {
      "text/markdown": [
       "#### Rural"
      ],
      "text/plain": [
       "<IPython.core.display.Markdown object>"
      ]
     },
     "metadata": {},
     "output_type": "display_data"
    },
    {
     "name": "stdout",
     "output_type": "stream",
     "text": [
      "---------\n",
      "expect\n",
      "possible\n",
      "predicted\n",
      "likely\n",
      "promised\n",
      "damaging\n",
      "meant\n",
      "isolated\n",
      "flooding\n",
      "expecting\n",
      "---------\n"
     ]
    },
    {
     "data": {
      "text/markdown": [
       "# straight"
      ],
      "text/plain": [
       "<IPython.core.display.Markdown object>"
      ]
     },
     "metadata": {},
     "output_type": "display_data"
    },
    {
     "data": {
      "text/markdown": [
       "#### Urban"
      ],
      "text/plain": [
       "<IPython.core.display.Markdown object>"
      ]
     },
     "metadata": {},
     "output_type": "display_data"
    },
    {
     "name": "stdout",
     "output_type": "stream",
     "text": [
      "-------\n",
      "tied\n",
      "line\n",
      "fucking\n",
      "str8\n",
      "then\n",
      "thumbs\n",
      "split\n",
      "broke\n",
      "jacked\n",
      "and\n",
      "-------\n"
     ]
    },
    {
     "data": {
      "text/markdown": [
       "#### Rural"
      ],
      "text/plain": [
       "<IPython.core.display.Markdown object>"
      ]
     },
     "metadata": {},
     "output_type": "display_data"
    },
    {
     "name": "stdout",
     "output_type": "stream",
     "text": [
      "--------\n",
      "str8\n",
      "runner\n",
      "thumbs\n",
      "heads\n",
      "curled\n",
      "stirring\n",
      "away\n",
      "grabs\n",
      "gassed\n",
      "down\n",
      "--------\n"
     ]
    },
    {
     "data": {
      "text/markdown": [
       "# photograph"
      ],
      "text/plain": [
       "<IPython.core.display.Markdown object>"
      ]
     },
     "metadata": {},
     "output_type": "display_data"
    },
    {
     "data": {
      "text/markdown": [
       "#### Urban"
      ],
      "text/plain": [
       "<IPython.core.display.Markdown object>"
      ]
     },
     "metadata": {},
     "output_type": "display_data"
    },
    {
     "name": "stdout",
     "output_type": "stream",
     "text": [
      "--------\n",
      "portrait\n",
      "photo\n",
      "capture\n",
      "painting\n",
      "view\n",
      "picture\n",
      "backdrop\n",
      "museum\n",
      "collage\n",
      "beauty\n",
      "--------\n"
     ]
    },
    {
     "data": {
      "text/markdown": [
       "#### Rural"
      ],
      "text/plain": [
       "<IPython.core.display.Markdown object>"
      ]
     },
     "metadata": {},
     "output_type": "display_data"
    },
    {
     "name": "stdout",
     "output_type": "stream",
     "text": [
      "------------\n",
      "yorker\n",
      "hampshire\n",
      "zealand\n",
      "beginnings\n",
      "arrival\n",
      "sunnies\n",
      "gem\n",
      "trono\n",
      "arrivals\n",
      "illustration\n",
      "------------\n"
     ]
    },
    {
     "data": {
      "text/markdown": [
       "# lifetime"
      ],
      "text/plain": [
       "<IPython.core.display.Markdown object>"
      ]
     },
     "metadata": {},
     "output_type": "display_data"
    },
    {
     "data": {
      "text/markdown": [
       "#### Urban"
      ],
      "text/plain": [
       "<IPython.core.display.Markdown object>"
      ]
     },
     "metadata": {},
     "output_type": "display_data"
    },
    {
     "name": "stdout",
     "output_type": "stream",
     "text": [
      "---------\n",
      "decade\n",
      "life\n",
      "household\n",
      "year\n",
      "career\n",
      "month\n",
      "period\n",
      "refuge\n",
      "heartbeat\n",
      "memory\n",
      "---------\n"
     ]
    },
    {
     "data": {
      "text/markdown": [
       "#### Rural"
      ],
      "text/plain": [
       "<IPython.core.display.Markdown object>"
      ]
     },
     "metadata": {},
     "output_type": "display_data"
    },
    {
     "name": "stdout",
     "output_type": "stream",
     "text": [
      "---------\n",
      "decade\n",
      "month\n",
      "memory\n",
      "newspaper\n",
      "ton\n",
      "nutshell\n",
      "pleasure\n",
      "year\n",
      "childhood\n",
      "factor\n",
      "---------\n"
     ]
    },
    {
     "data": {
      "text/markdown": [
       "# show"
      ],
      "text/plain": [
       "<IPython.core.display.Markdown object>"
      ]
     },
     "metadata": {},
     "output_type": "display_data"
    },
    {
     "data": {
      "text/markdown": [
       "#### Urban"
      ],
      "text/plain": [
       "<IPython.core.display.Markdown object>"
      ]
     },
     "metadata": {},
     "output_type": "display_data"
    },
    {
     "name": "stdout",
     "output_type": "stream",
     "text": [
      "-------\n",
      "match\n",
      "segment\n",
      "movie\n",
      "set\n",
      "event\n",
      "shows\n",
      "concert\n",
      "see\n",
      "date\n",
      "series\n",
      "-------\n"
     ]
    },
    {
     "data": {
      "text/markdown": [
       "#### Rural"
      ],
      "text/plain": [
       "<IPython.core.display.Markdown object>"
      ]
     },
     "metadata": {},
     "output_type": "display_data"
    },
    {
     "name": "stdout",
     "output_type": "stream",
     "text": [
      "-----------\n",
      "showing\n",
      "shows\n",
      "concert\n",
      "tv\n",
      "turn\n",
      "see\n",
      "event\n",
      "documentary\n",
      "match\n",
      "pick\n",
      "-----------\n"
     ]
    },
    {
     "data": {
      "text/markdown": [
       "# level"
      ],
      "text/plain": [
       "<IPython.core.display.Markdown object>"
      ]
     },
     "metadata": {},
     "output_type": "display_data"
    },
    {
     "data": {
      "text/markdown": [
       "#### Urban"
      ],
      "text/plain": [
       "<IPython.core.display.Markdown object>"
      ]
     },
     "metadata": {},
     "output_type": "display_data"
    },
    {
     "name": "stdout",
     "output_type": "stream",
     "text": [
      "----------\n",
      "levels\n",
      "scale\n",
      "point\n",
      "generation\n",
      "frequency\n",
      "function\n",
      "career\n",
      "speed\n",
      "year\n",
      "capacity\n",
      "----------\n"
     ]
    },
    {
     "data": {
      "text/markdown": [
       "#### Rural"
      ],
      "text/plain": [
       "<IPython.core.display.Markdown object>"
      ]
     },
     "metadata": {},
     "output_type": "display_data"
    },
    {
     "name": "stdout",
     "output_type": "stream",
     "text": [
      "----------\n",
      "phase\n",
      "levels\n",
      "generation\n",
      "surface\n",
      "stage\n",
      "chapter\n",
      "volume\n",
      "badge\n",
      "adjustment\n",
      "iq\n",
      "----------\n"
     ]
    },
    {
     "data": {
      "text/markdown": [
       "# order"
      ],
      "text/plain": [
       "<IPython.core.display.Markdown object>"
      ]
     },
     "metadata": {},
     "output_type": "display_data"
    },
    {
     "data": {
      "text/markdown": [
       "#### Urban"
      ],
      "text/plain": [
       "<IPython.core.display.Markdown object>"
      ]
     },
     "metadata": {},
     "output_type": "display_data"
    },
    {
     "name": "stdout",
     "output_type": "stream",
     "text": [
      "--------\n",
      "orders\n",
      "purchase\n",
      "branch\n",
      "charge\n",
      "exchange\n",
      "file\n",
      "shipment\n",
      "case\n",
      "delivery\n",
      "item\n",
      "--------\n"
     ]
    },
    {
     "data": {
      "text/markdown": [
       "#### Rural"
      ],
      "text/plain": [
       "<IPython.core.display.Markdown object>"
      ]
     },
     "metadata": {},
     "output_type": "display_data"
    },
    {
     "name": "stdout",
     "output_type": "stream",
     "text": [
      "---------\n",
      "orders\n",
      "form\n",
      "purchase\n",
      "renew\n",
      "delivered\n",
      "existing\n",
      "shop\n",
      "buy\n",
      "get\n",
      "submit\n",
      "---------\n"
     ]
    },
    {
     "data": {
      "text/markdown": [
       "# effect"
      ],
      "text/plain": [
       "<IPython.core.display.Markdown object>"
      ]
     },
     "metadata": {},
     "output_type": "display_data"
    },
    {
     "data": {
      "text/markdown": [
       "#### Urban"
      ],
      "text/plain": [
       "<IPython.core.display.Markdown object>"
      ]
     },
     "metadata": {},
     "output_type": "display_data"
    },
    {
     "name": "stdout",
     "output_type": "stream",
     "text": [
      "------------\n",
      "capacity\n",
      "spectrum\n",
      "effects\n",
      "surface\n",
      "activity\n",
      "scope\n",
      "regulation\n",
      "issue\n",
      "restrictions\n",
      "impact\n",
      "------------\n"
     ]
    },
    {
     "data": {
      "text/markdown": [
       "#### Rural"
      ],
      "text/plain": [
       "<IPython.core.display.Markdown object>"
      ]
     },
     "metadata": {},
     "output_type": "display_data"
    },
    {
     "name": "stdout",
     "output_type": "stream",
     "text": [
      "--------\n",
      "remains\n",
      "tornado\n",
      "rainfall\n",
      "severe\n",
      "isolated\n",
      "advisory\n",
      "flooding\n",
      "portions\n",
      "radar\n",
      "cdt\n",
      "--------\n"
     ]
    },
    {
     "data": {
      "text/markdown": [
       "# tip"
      ],
      "text/plain": [
       "<IPython.core.display.Markdown object>"
      ]
     },
     "metadata": {},
     "output_type": "display_data"
    },
    {
     "data": {
      "text/markdown": [
       "#### Urban"
      ],
      "text/plain": [
       "<IPython.core.display.Markdown object>"
      ]
     },
     "metadata": {},
     "output_type": "display_data"
    },
    {
     "name": "stdout",
     "output_type": "stream",
     "text": [
      "--------\n",
      "shelf\n",
      "meal\n",
      "workout\n",
      "stack\n",
      "chip\n",
      "diet\n",
      "tablet\n",
      "delivery\n",
      "tab\n",
      "scratch\n",
      "--------\n"
     ]
    },
    {
     "data": {
      "text/markdown": [
       "#### Rural"
      ],
      "text/plain": [
       "<IPython.core.display.Markdown object>"
      ]
     },
     "metadata": {},
     "output_type": "display_data"
    },
    {
     "name": "stdout",
     "output_type": "stream",
     "text": [
      "-------\n",
      "scale\n",
      "tips\n",
      "savings\n",
      "cardio\n",
      "spin\n",
      "tricks\n",
      "coupon\n",
      "seo\n",
      "waist\n",
      "mat\n",
      "-------\n"
     ]
    },
    {
     "data": {
      "text/markdown": [
       "# mechanical"
      ],
      "text/plain": [
       "<IPython.core.display.Markdown object>"
      ]
     },
     "metadata": {},
     "output_type": "display_data"
    },
    {
     "data": {
      "text/markdown": [
       "#### Urban"
      ],
      "text/plain": [
       "<IPython.core.display.Markdown object>"
      ]
     },
     "metadata": {},
     "output_type": "display_data"
    },
    {
     "name": "stdout",
     "output_type": "stream",
     "text": [
      "----------\n",
      "signal\n",
      "terminal\n",
      "residual\n",
      "northbound\n",
      "congestion\n",
      "delays\n",
      "southbound\n",
      "outage\n",
      "freight\n",
      "resumed\n",
      "----------\n"
     ]
    },
    {
     "data": {
      "text/markdown": [
       "#### Rural"
      ],
      "text/plain": [
       "<IPython.core.display.Markdown object>"
      ]
     },
     "metadata": {},
     "output_type": "display_data"
    },
    {
     "name": "stdout",
     "output_type": "stream",
     "text": [
      "---------\n",
      "ridin\n",
      "smokeless\n",
      "x8\n",
      "airfare\n",
      "snuff\n",
      "hydraulic\n",
      "snus\n",
      "coating\n",
      "hookah\n",
      "x7\n",
      "---------\n"
     ]
    },
    {
     "data": {
      "text/markdown": [
       "# catholic"
      ],
      "text/plain": [
       "<IPython.core.display.Markdown object>"
      ]
     },
     "metadata": {},
     "output_type": "display_data"
    },
    {
     "data": {
      "text/markdown": [
       "#### Urban"
      ],
      "text/plain": [
       "<IPython.core.display.Markdown object>"
      ]
     },
     "metadata": {},
     "output_type": "display_data"
    },
    {
     "name": "stdout",
     "output_type": "stream",
     "text": [
      "---------\n",
      "christian\n",
      "muslim\n",
      "citizen\n",
      "jewish\n",
      "priest\n",
      "gay\n",
      "militant\n",
      "scholar\n",
      "cis\n",
      "religious\n",
      "---------\n"
     ]
    },
    {
     "data": {
      "text/markdown": [
       "#### Rural"
      ],
      "text/plain": [
       "<IPython.core.display.Markdown object>"
      ]
     },
     "metadata": {},
     "output_type": "display_data"
    },
    {
     "name": "stdout",
     "output_type": "stream",
     "text": [
      "----------\n",
      "lutheran\n",
      "baptist\n",
      "christian\n",
      "academy\n",
      "liberty\n",
      "heritage\n",
      "university\n",
      "benton\n",
      "trinity\n",
      "cambridge\n",
      "----------\n"
     ]
    },
    {
     "data": {
      "text/markdown": [
       "# church"
      ],
      "text/plain": [
       "<IPython.core.display.Markdown object>"
      ]
     },
     "metadata": {},
     "output_type": "display_data"
    },
    {
     "data": {
      "text/markdown": [
       "#### Urban"
      ],
      "text/plain": [
       "<IPython.core.display.Markdown object>"
      ]
     },
     "metadata": {},
     "output_type": "display_data"
    },
    {
     "name": "stdout",
     "output_type": "stream",
     "text": [
      "------------\n",
      "hospital\n",
      "school\n",
      "clinic\n",
      "shelter\n",
      "house\n",
      "neighborhood\n",
      "university\n",
      "family\n",
      "cemetery\n",
      "retreat\n",
      "------------\n"
     ]
    },
    {
     "data": {
      "text/markdown": [
       "#### Rural"
      ],
      "text/plain": [
       "<IPython.core.display.Markdown object>"
      ]
     },
     "metadata": {},
     "output_type": "display_data"
    },
    {
     "name": "stdout",
     "output_type": "stream",
     "text": [
      "----------\n",
      "worship\n",
      "prayer\n",
      "chapel\n",
      "fellowship\n",
      "baptist\n",
      "cemetery\n",
      "ministry\n",
      "community\n",
      "christ\n",
      "gospel\n",
      "----------\n"
     ]
    },
    {
     "data": {
      "text/markdown": [
       "# with"
      ],
      "text/plain": [
       "<IPython.core.display.Markdown object>"
      ]
     },
     "metadata": {},
     "output_type": "display_data"
    },
    {
     "data": {
      "text/markdown": [
       "#### Urban"
      ],
      "text/plain": [
       "<IPython.core.display.Markdown object>"
      ]
     },
     "metadata": {},
     "output_type": "display_data"
    },
    {
     "name": "stdout",
     "output_type": "stream",
     "text": [
      "--------\n",
      "w\n",
      "for\n",
      "and\n",
      "without\n",
      "from\n",
      "against\n",
      "in\n",
      "on\n",
      "building\n",
      "amp\n",
      "--------\n"
     ]
    },
    {
     "data": {
      "text/markdown": [
       "#### Rural"
      ],
      "text/plain": [
       "<IPython.core.display.Markdown object>"
      ]
     },
     "metadata": {},
     "output_type": "display_data"
    },
    {
     "name": "stdout",
     "output_type": "stream",
     "text": [
      "---------\n",
      "w\n",
      "without\n",
      "for\n",
      "and\n",
      "wit\n",
      "after\n",
      "during\n",
      "towards\n",
      "on\n",
      "including\n",
      "---------\n"
     ]
    },
    {
     "data": {
      "text/markdown": [
       "# nurse"
      ],
      "text/plain": [
       "<IPython.core.display.Markdown object>"
      ]
     },
     "metadata": {},
     "output_type": "display_data"
    },
    {
     "data": {
      "text/markdown": [
       "#### Urban"
      ],
      "text/plain": [
       "<IPython.core.display.Markdown object>"
      ]
     },
     "metadata": {},
     "output_type": "display_data"
    },
    {
     "name": "stdout",
     "output_type": "stream",
     "text": [
      "----------\n",
      "doctor\n",
      "prostitute\n",
      "worker\n",
      "toddler\n",
      "child\n",
      "teacher\n",
      "therapist\n",
      "parent\n",
      "woman\n",
      "student\n",
      "----------\n"
     ]
    },
    {
     "data": {
      "text/markdown": [
       "#### Rural"
      ],
      "text/plain": [
       "<IPython.core.display.Markdown object>"
      ]
     },
     "metadata": {},
     "output_type": "display_data"
    },
    {
     "name": "stdout",
     "output_type": "stream",
     "text": [
      "--------------\n",
      "practitioner\n",
      "physician\n",
      "assistant\n",
      "therapist\n",
      "cna\n",
      "lpn\n",
      "occupational\n",
      "administrative\n",
      "specialist\n",
      "receptionist\n",
      "--------------\n"
     ]
    },
    {
     "data": {
      "text/markdown": [
       "# spare"
      ],
      "text/plain": [
       "<IPython.core.display.Markdown object>"
      ]
     },
     "metadata": {},
     "output_type": "display_data"
    },
    {
     "data": {
      "text/markdown": [
       "#### Urban"
      ],
      "text/plain": [
       "<IPython.core.display.Markdown object>"
      ]
     },
     "metadata": {},
     "output_type": "display_data"
    },
    {
     "name": "stdout",
     "output_type": "stream",
     "text": [
      "-------\n",
      "save\n",
      "spend\n",
      "borrow\n",
      "help\n",
      "satisfy\n",
      "fill\n",
      "devote\n",
      "arrange\n",
      "adjust\n",
      "fix\n",
      "-------\n"
     ]
    },
    {
     "data": {
      "text/markdown": [
       "#### Rural"
      ],
      "text/plain": [
       "<IPython.core.display.Markdown object>"
      ]
     },
     "metadata": {},
     "output_type": "display_data"
    },
    {
     "name": "stdout",
     "output_type": "stream",
     "text": [
      "----------\n",
      "reclaiming\n",
      "donate\n",
      "waste\n",
      "wazers\n",
      "save\n",
      "wasting\n",
      "wasted\n",
      "help\n",
      "limit\n",
      "spend\n",
      "----------\n"
     ]
    },
    {
     "data": {
      "text/markdown": [
       "# next"
      ],
      "text/plain": [
       "<IPython.core.display.Markdown object>"
      ]
     },
     "metadata": {},
     "output_type": "display_data"
    },
    {
     "data": {
      "text/markdown": [
       "#### Urban"
      ],
      "text/plain": [
       "<IPython.core.display.Markdown object>"
      ]
     },
     "metadata": {},
     "output_type": "display_data"
    },
    {
     "name": "stdout",
     "output_type": "stream",
     "text": [
      "--------\n",
      "first\n",
      "last\n",
      "nxt\n",
      "later\n",
      "ext\n",
      "every\n",
      "third\n",
      "1st\n",
      "tomorrow\n",
      "final\n",
      "--------\n"
     ]
    },
    {
     "data": {
      "text/markdown": [
       "#### Rural"
      ],
      "text/plain": [
       "<IPython.core.display.Markdown object>"
      ]
     },
     "metadata": {},
     "output_type": "display_data"
    },
    {
     "name": "stdout",
     "output_type": "stream",
     "text": [
      "--------\n",
      "last\n",
      "first\n",
      "this\n",
      "every\n",
      "past\n",
      "tomorrow\n",
      "senior\n",
      "longest\n",
      "rest\n",
      "ahead\n",
      "--------\n"
     ]
    },
    {
     "data": {
      "text/markdown": [
       "# left"
      ],
      "text/plain": [
       "<IPython.core.display.Markdown object>"
      ]
     },
     "metadata": {},
     "output_type": "display_data"
    },
    {
     "data": {
      "text/markdown": [
       "#### Urban"
      ],
      "text/plain": [
       "<IPython.core.display.Markdown object>"
      ]
     },
     "metadata": {},
     "output_type": "display_data"
    },
    {
     "name": "stdout",
     "output_type": "stream",
     "text": [
      "---------\n",
      "handed\n",
      "placed\n",
      "half\n",
      "moved\n",
      "remaining\n",
      "leaving\n",
      "blocks\n",
      "then\n",
      "passed\n",
      "lost\n",
      "---------\n"
     ]
    },
    {
     "data": {
      "text/markdown": [
       "#### Rural"
      ],
      "text/plain": [
       "<IPython.core.display.Markdown object>"
      ]
     },
     "metadata": {},
     "output_type": "display_data"
    },
    {
     "name": "stdout",
     "output_type": "stream",
     "text": [
      "---------\n",
      "remaining\n",
      "half\n",
      "pp\n",
      "handed\n",
      "foot\n",
      "outs\n",
      "pitches\n",
      "runs\n",
      "timeout\n",
      "jumped\n",
      "---------\n"
     ]
    },
    {
     "data": {
      "text/markdown": [
       "# little"
      ],
      "text/plain": [
       "<IPython.core.display.Markdown object>"
      ]
     },
     "metadata": {},
     "output_type": "display_data"
    },
    {
     "data": {
      "text/markdown": [
       "#### Urban"
      ],
      "text/plain": [
       "<IPython.core.display.Markdown object>"
      ]
     },
     "metadata": {},
     "output_type": "display_data"
    },
    {
     "name": "stdout",
     "output_type": "stream",
     "text": [
      "-------\n",
      "lil\n",
      "bit\n",
      "tiny\n",
      "big\n",
      "small\n",
      "baby\n",
      "puppy\n",
      "lot\n",
      "cat\n",
      "blanket\n",
      "-------\n"
     ]
    },
    {
     "data": {
      "text/markdown": [
       "#### Rural"
      ],
      "text/plain": [
       "<IPython.core.display.Markdown object>"
      ]
     },
     "metadata": {},
     "output_type": "display_data"
    },
    {
     "name": "stdout",
     "output_type": "stream",
     "text": [
      "----\n",
      "bit\n",
      "lot\n",
      "baby\n",
      "tad\n",
      "lil\n",
      "big\n",
      "tiny\n",
      "few\n",
      "fat\n",
      "kid\n",
      "----\n"
     ]
    },
    {
     "data": {
      "text/markdown": [
       "# china"
      ],
      "text/plain": [
       "<IPython.core.display.Markdown object>"
      ]
     },
     "metadata": {},
     "output_type": "display_data"
    },
    {
     "data": {
      "text/markdown": [
       "#### Urban"
      ],
      "text/plain": [
       "<IPython.core.display.Markdown object>"
      ]
     },
     "metadata": {},
     "output_type": "display_data"
    },
    {
     "name": "stdout",
     "output_type": "stream",
     "text": [
      "----------\n",
      "cocaine\n",
      "farms\n",
      "crumbs\n",
      "border\n",
      "splash\n",
      "california\n",
      "blended\n",
      "farm\n",
      "pond\n",
      "america\n",
      "----------\n"
     ]
    },
    {
     "data": {
      "text/markdown": [
       "#### Rural"
      ],
      "text/plain": [
       "<IPython.core.display.Markdown object>"
      ]
     },
     "metadata": {},
     "output_type": "display_data"
    },
    {
     "name": "stdout",
     "output_type": "stream",
     "text": [
      "---------\n",
      "iran\n",
      "australia\n",
      "japan\n",
      "germany\n",
      "france\n",
      "iraq\n",
      "brazil\n",
      "syria\n",
      "india\n",
      "venezuela\n",
      "---------\n"
     ]
    },
    {
     "data": {
      "text/markdown": [
       "# heavily"
      ],
      "text/plain": [
       "<IPython.core.display.Markdown object>"
      ]
     },
     "metadata": {},
     "output_type": "display_data"
    },
    {
     "data": {
      "text/markdown": [
       "#### Urban"
      ],
      "text/plain": [
       "<IPython.core.display.Markdown object>"
      ]
     },
     "metadata": {},
     "output_type": "display_data"
    },
    {
     "name": "stdout",
     "output_type": "stream",
     "text": [
      "----------\n",
      "primarily\n",
      "often\n",
      "poorly\n",
      "mostly\n",
      "fully\n",
      "completely\n",
      "complex\n",
      "generally\n",
      "entirely\n",
      "largely\n",
      "----------\n"
     ]
    },
    {
     "data": {
      "text/markdown": [
       "#### Rural"
      ],
      "text/plain": [
       "<IPython.core.display.Markdown object>"
      ]
     },
     "metadata": {},
     "output_type": "display_data"
    },
    {
     "name": "stdout",
     "output_type": "stream",
     "text": [
      "----------\n",
      "deemed\n",
      "taxed\n",
      "despised\n",
      "govs\n",
      "fabricated\n",
      "controlled\n",
      "largely\n",
      "corrupted\n",
      "justified\n",
      "socialists\n",
      "----------\n"
     ]
    },
    {
     "data": {
      "text/markdown": [
       "# blast"
      ],
      "text/plain": [
       "<IPython.core.display.Markdown object>"
      ]
     },
     "metadata": {},
     "output_type": "display_data"
    },
    {
     "data": {
      "text/markdown": [
       "#### Urban"
      ],
      "text/plain": [
       "<IPython.core.display.Markdown object>"
      ]
     },
     "metadata": {},
     "output_type": "display_data"
    },
    {
     "name": "stdout",
     "output_type": "stream",
     "text": [
      "---------\n",
      "pleasure\n",
      "fun\n",
      "seizure\n",
      "night\n",
      "meltdown\n",
      "gig\n",
      "sleepover\n",
      "rehearsal\n",
      "weekend\n",
      "great\n",
      "---------\n"
     ]
    },
    {
     "data": {
      "text/markdown": [
       "#### Rural"
      ],
      "text/plain": [
       "<IPython.core.display.Markdown object>"
      ]
     },
     "metadata": {},
     "output_type": "display_data"
    },
    {
     "name": "stdout",
     "output_type": "stream",
     "text": [
      "------------\n",
      "fun\n",
      "pleasure\n",
      "withdrawals\n",
      "seizure\n",
      "sleepover\n",
      "wonderful\n",
      "convo\n",
      "bonfire\n",
      "conversation\n",
      "great\n",
      "------------\n"
     ]
    },
    {
     "data": {
      "text/markdown": [
       "# ups"
      ],
      "text/plain": [
       "<IPython.core.display.Markdown object>"
      ]
     },
     "metadata": {},
     "output_type": "display_data"
    },
    {
     "data": {
      "text/markdown": [
       "#### Urban"
      ],
      "text/plain": [
       "<IPython.core.display.Markdown object>"
      ]
     },
     "metadata": {},
     "output_type": "display_data"
    },
    {
     "name": "stdout",
     "output_type": "stream",
     "text": [
      "-------\n",
      "up\n",
      "weights\n",
      "stones\n",
      "bubbles\n",
      "cherry\n",
      "chains\n",
      "buttons\n",
      "sinker\n",
      "outs\n",
      "down\n",
      "-------\n"
     ]
    },
    {
     "data": {
      "text/markdown": [
       "#### Rural"
      ],
      "text/plain": [
       "<IPython.core.display.Markdown object>"
      ]
     },
     "metadata": {},
     "output_type": "display_data"
    },
    {
     "name": "stdout",
     "output_type": "stream",
     "text": [
      "-------\n",
      "up\n",
      "weights\n",
      "ons\n",
      "abs\n",
      "offs\n",
      "signals\n",
      "squats\n",
      "piehole\n",
      "aside\n",
      "off\n",
      "-------\n"
     ]
    },
    {
     "data": {
      "text/markdown": [
       "# blues"
      ],
      "text/plain": [
       "<IPython.core.display.Markdown object>"
      ]
     },
     "metadata": {},
     "output_type": "display_data"
    },
    {
     "data": {
      "text/markdown": [
       "#### Urban"
      ],
      "text/plain": [
       "<IPython.core.display.Markdown object>"
      ]
     },
     "metadata": {},
     "output_type": "display_data"
    },
    {
     "name": "stdout",
     "output_type": "stream",
     "text": [
      "---------\n",
      "waves\n",
      "jams\n",
      "vibes\n",
      "mountains\n",
      "winter\n",
      "sunshine\n",
      "balloons\n",
      "cones\n",
      "storms\n",
      "autumn\n",
      "---------\n"
     ]
    },
    {
     "data": {
      "text/markdown": [
       "#### Rural"
      ],
      "text/plain": [
       "<IPython.core.display.Markdown object>"
      ]
     },
     "metadata": {},
     "output_type": "display_data"
    },
    {
     "name": "stdout",
     "output_type": "stream",
     "text": [
      "---------\n",
      "rhythm\n",
      "fishin\n",
      "bluegrass\n",
      "oyster\n",
      "jazz\n",
      "moss\n",
      "beatles\n",
      "honky\n",
      "trio\n",
      "lager\n",
      "---------\n"
     ]
    },
    {
     "data": {
      "text/markdown": [
       "# root"
      ],
      "text/plain": [
       "<IPython.core.display.Markdown object>"
      ]
     },
     "metadata": {},
     "output_type": "display_data"
    },
    {
     "data": {
      "text/markdown": [
       "#### Urban"
      ],
      "text/plain": [
       "<IPython.core.display.Markdown object>"
      ]
     },
     "metadata": {},
     "output_type": "display_data"
    },
    {
     "name": "stdout",
     "output_type": "stream",
     "text": [
      "----------\n",
      "rooting\n",
      "sacrifice\n",
      "blame\n",
      "compensate\n",
      "compete\n",
      "suffer\n",
      "cure\n",
      "carry\n",
      "settle\n",
      "sake\n",
      "----------\n"
     ]
    },
    {
     "data": {
      "text/markdown": [
       "#### Rural"
      ],
      "text/plain": [
       "<IPython.core.display.Markdown object>"
      ]
     },
     "metadata": {},
     "output_type": "display_data"
    },
    {
     "name": "stdout",
     "output_type": "stream",
     "text": [
      "------------\n",
      "compete\n",
      "qualify\n",
      "fight\n",
      "settle\n",
      "return\n",
      "discriminate\n",
      "sake\n",
      "kneel\n",
      "remainder\n",
      "contempt\n",
      "------------\n"
     ]
    },
    {
     "data": {
      "text/markdown": [
       "# achievement"
      ],
      "text/plain": [
       "<IPython.core.display.Markdown object>"
      ]
     },
     "metadata": {},
     "output_type": "display_data"
    },
    {
     "data": {
      "text/markdown": [
       "#### Urban"
      ],
      "text/plain": [
       "<IPython.core.display.Markdown object>"
      ]
     },
     "metadata": {},
     "output_type": "display_data"
    },
    {
     "name": "stdout",
     "output_type": "stream",
     "text": [
      "--------------\n",
      "discovery\n",
      "creation\n",
      "quest\n",
      "component\n",
      "accomplishment\n",
      "structure\n",
      "achieved\n",
      "achievements\n",
      "dimension\n",
      "characteristic\n",
      "--------------\n"
     ]
    },
    {
     "data": {
      "text/markdown": [
       "#### Rural"
      ],
      "text/plain": [
       "<IPython.core.display.Markdown object>"
      ]
     },
     "metadata": {},
     "output_type": "display_data"
    },
    {
     "name": "stdout",
     "output_type": "stream",
     "text": [
      "------------\n",
      "paradise\n",
      "quest\n",
      "achievements\n",
      "trophies\n",
      "bronze\n",
      "yoworld\n",
      "rhode\n",
      "adjustment\n",
      "assessments\n",
      "artifact\n",
      "------------\n"
     ]
    },
    {
     "data": {
      "text/markdown": [
       "# boom"
      ],
      "text/plain": [
       "<IPython.core.display.Markdown object>"
      ]
     },
     "metadata": {},
     "output_type": "display_data"
    },
    {
     "data": {
      "text/markdown": [
       "#### Urban"
      ],
      "text/plain": [
       "<IPython.core.display.Markdown object>"
      ]
     },
     "metadata": {},
     "output_type": "display_data"
    },
    {
     "name": "stdout",
     "output_type": "stream",
     "text": [
      "--------\n",
      "faucet\n",
      "bubble\n",
      "brick\n",
      "bap\n",
      "diesel\n",
      "leaky\n",
      "drilling\n",
      "splash\n",
      "chain\n",
      "thru\n",
      "--------\n"
     ]
    },
    {
     "data": {
      "text/markdown": [
       "#### Rural"
      ],
      "text/plain": [
       "<IPython.core.display.Markdown object>"
      ]
     },
     "metadata": {},
     "output_type": "display_data"
    },
    {
     "name": "stdout",
     "output_type": "stream",
     "text": [
      "--------\n",
      "chicka\n",
      "piglets\n",
      "hammer\n",
      "lite\n",
      "tramp\n",
      "batter\n",
      "horn\n",
      "bam\n",
      "rod\n",
      "sideways\n",
      "--------\n"
     ]
    },
    {
     "data": {
      "text/markdown": [
       "# manager"
      ],
      "text/plain": [
       "<IPython.core.display.Markdown object>"
      ]
     },
     "metadata": {},
     "output_type": "display_data"
    },
    {
     "data": {
      "text/markdown": [
       "#### Urban"
      ],
      "text/plain": [
       "<IPython.core.display.Markdown object>"
      ]
     },
     "metadata": {},
     "output_type": "display_data"
    },
    {
     "name": "stdout",
     "output_type": "stream",
     "text": [
      "---------\n",
      "assistant\n",
      "principal\n",
      "boss\n",
      "client\n",
      "lawyer\n",
      "professor\n",
      "coworker\n",
      "teacher\n",
      "roommate\n",
      "landlord\n",
      "---------\n"
     ]
    },
    {
     "data": {
      "text/markdown": [
       "#### Rural"
      ],
      "text/plain": [
       "<IPython.core.display.Markdown object>"
      ]
     },
     "metadata": {},
     "output_type": "display_data"
    },
    {
     "name": "stdout",
     "output_type": "stream",
     "text": [
      "--------------\n",
      "assistant\n",
      "administrative\n",
      "coordinator\n",
      "receptionist\n",
      "recruiter\n",
      "supervisor\n",
      "specialist\n",
      "pharmacy\n",
      "engineer\n",
      "technician\n",
      "--------------\n"
     ]
    },
    {
     "data": {
      "text/markdown": [
       "# quiet"
      ],
      "text/plain": [
       "<IPython.core.display.Markdown object>"
      ]
     },
     "metadata": {},
     "output_type": "display_data"
    },
    {
     "data": {
      "text/markdown": [
       "#### Urban"
      ],
      "text/plain": [
       "<IPython.core.display.Markdown object>"
      ]
     },
     "metadata": {},
     "output_type": "display_data"
    },
    {
     "name": "stdout",
     "output_type": "stream",
     "text": [
      "--------\n",
      "silent\n",
      "grounded\n",
      "humble\n",
      "cautious\n",
      "sober\n",
      "calm\n",
      "crowded\n",
      "peaceful\n",
      "distant\n",
      "hydrated\n",
      "--------\n"
     ]
    },
    {
     "data": {
      "text/markdown": [
       "#### Rural"
      ],
      "text/plain": [
       "<IPython.core.display.Markdown object>"
      ]
     },
     "metadata": {},
     "output_type": "display_data"
    },
    {
     "name": "stdout",
     "output_type": "stream",
     "text": [
      "-----------\n",
      "hydrated\n",
      "humble\n",
      "calm\n",
      "lonely\n",
      "warm\n",
      "busy\n",
      "comfortable\n",
      "cold\n",
      "shallow\n",
      "tuned\n",
      "-----------\n"
     ]
    },
    {
     "data": {
      "text/markdown": [
       "# well"
      ],
      "text/plain": [
       "<IPython.core.display.Markdown object>"
      ]
     },
     "metadata": {},
     "output_type": "display_data"
    },
    {
     "data": {
      "text/markdown": [
       "#### Urban"
      ],
      "text/plain": [
       "<IPython.core.display.Markdown object>"
      ]
     },
     "metadata": {},
     "output_type": "display_data"
    },
    {
     "name": "stdout",
     "output_type": "stream",
     "text": [
      "------\n",
      "poorly\n",
      "good\n",
      "usual\n",
      "much\n",
      "nicely\n",
      "it\n",
      "fine\n",
      "anyway\n",
      "hell\n",
      "bad\n",
      "------\n"
     ]
    },
    {
     "data": {
      "text/markdown": [
       "#### Rural"
      ],
      "text/plain": [
       "<IPython.core.display.Markdown object>"
      ]
     },
     "metadata": {},
     "output_type": "display_data"
    },
    {
     "name": "stdout",
     "output_type": "stream",
     "text": [
      "--------\n",
      "usual\n",
      "hell\n",
      "but\n",
      "yeah\n",
      "poorly\n",
      "it\n",
      "he\n",
      "good\n",
      "anyway\n",
      "actually\n",
      "--------\n"
     ]
    },
    {
     "data": {
      "text/markdown": [
       "# minor"
      ],
      "text/plain": [
       "<IPython.core.display.Markdown object>"
      ]
     },
     "metadata": {},
     "output_type": "display_data"
    },
    {
     "data": {
      "text/markdown": [
       "#### Urban"
      ],
      "text/plain": [
       "<IPython.core.display.Markdown object>"
      ]
     },
     "metadata": {},
     "output_type": "display_data"
    },
    {
     "name": "stdout",
     "output_type": "stream",
     "text": [
      "----------\n",
      "major\n",
      "technical\n",
      "defensive\n",
      "legitimate\n",
      "physical\n",
      "injuries\n",
      "suspension\n",
      "offensive\n",
      "playoff\n",
      "critical\n",
      "----------\n"
     ]
    },
    {
     "data": {
      "text/markdown": [
       "#### Rural"
      ],
      "text/plain": [
       "<IPython.core.display.Markdown object>"
      ]
     },
     "metadata": {},
     "output_type": "display_data"
    },
    {
     "name": "stdout",
     "output_type": "stream",
     "text": [
      "------------\n",
      "major\n",
      "catastrophic\n",
      "substantial\n",
      "setback\n",
      "malfunction\n",
      "iwx\n",
      "severe\n",
      "concerning\n",
      "mechanism\n",
      "gld\n",
      "------------\n"
     ]
    },
    {
     "data": {
      "text/markdown": [
       "# without"
      ],
      "text/plain": [
       "<IPython.core.display.Markdown object>"
      ]
     },
     "metadata": {},
     "output_type": "display_data"
    },
    {
     "data": {
      "text/markdown": [
       "#### Urban"
      ],
      "text/plain": [
       "<IPython.core.display.Markdown object>"
      ]
     },
     "metadata": {},
     "output_type": "display_data"
    },
    {
     "name": "stdout",
     "output_type": "stream",
     "text": [
      "-------\n",
      "after\n",
      "before\n",
      "while\n",
      "despite\n",
      "for\n",
      "with\n",
      "during\n",
      "and\n",
      "within\n",
      "through\n",
      "-------\n"
     ]
    },
    {
     "data": {
      "text/markdown": [
       "#### Rural"
      ],
      "text/plain": [
       "<IPython.core.display.Markdown object>"
      ]
     },
     "metadata": {},
     "output_type": "display_data"
    },
    {
     "name": "stdout",
     "output_type": "stream",
     "text": [
      "-------\n",
      "with\n",
      "towards\n",
      "for\n",
      "after\n",
      "avoid\n",
      "imagine\n",
      "or\n",
      "besides\n",
      "during\n",
      "despite\n",
      "-------\n"
     ]
    },
    {
     "data": {
      "text/markdown": [
       "# ghost"
      ],
      "text/plain": [
       "<IPython.core.display.Markdown object>"
      ]
     },
     "metadata": {},
     "output_type": "display_data"
    },
    {
     "data": {
      "text/markdown": [
       "#### Urban"
      ],
      "text/plain": [
       "<IPython.core.display.Markdown object>"
      ]
     },
     "metadata": {},
     "output_type": "display_data"
    },
    {
     "name": "stdout",
     "output_type": "stream",
     "text": [
      "--------\n",
      "stripper\n",
      "snake\n",
      "dinosaur\n",
      "catfish\n",
      "monster\n",
      "kid\n",
      "cat\n",
      "killer\n",
      "vampire\n",
      "squirrel\n",
      "--------\n"
     ]
    },
    {
     "data": {
      "text/markdown": [
       "#### Rural"
      ],
      "text/plain": [
       "<IPython.core.display.Markdown object>"
      ]
     },
     "metadata": {},
     "output_type": "display_data"
    },
    {
     "name": "stdout",
     "output_type": "stream",
     "text": [
      "---------\n",
      "wildlands\n",
      "recon\n",
      "batman\n",
      "zombie\n",
      "roblox\n",
      "monster\n",
      "snoop\n",
      "scooby\n",
      "doo\n",
      "reaper\n",
      "---------\n"
     ]
    },
    {
     "data": {
      "text/markdown": [
       "# otherwise"
      ],
      "text/plain": [
       "<IPython.core.display.Markdown object>"
      ]
     },
     "metadata": {},
     "output_type": "display_data"
    },
    {
     "data": {
      "text/markdown": [
       "#### Urban"
      ],
      "text/plain": [
       "<IPython.core.display.Markdown object>"
      ]
     },
     "metadata": {},
     "output_type": "display_data"
    },
    {
     "name": "stdout",
     "output_type": "stream",
     "text": [
      "----------\n",
      "ultimately\n",
      "also\n",
      "entirely\n",
      "anyway\n",
      "ethical\n",
      "generally\n",
      "either\n",
      "anything\n",
      "simply\n",
      "somehow\n",
      "----------\n"
     ]
    },
    {
     "data": {
      "text/markdown": [
       "#### Rural"
      ],
      "text/plain": [
       "<IPython.core.display.Markdown object>"
      ]
     },
     "metadata": {},
     "output_type": "display_data"
    },
    {
     "name": "stdout",
     "output_type": "stream",
     "text": [
      "-----------\n",
      "deny\n",
      "nor\n",
      "djt\n",
      "politically\n",
      "however\n",
      "treason\n",
      "dt\n",
      "imply\n",
      "neither\n",
      "cease\n",
      "-----------\n"
     ]
    },
    {
     "data": {
      "text/markdown": [
       "# heritage"
      ],
      "text/plain": [
       "<IPython.core.display.Markdown object>"
      ]
     },
     "metadata": {},
     "output_type": "display_data"
    },
    {
     "data": {
      "text/markdown": [
       "#### Urban"
      ],
      "text/plain": [
       "<IPython.core.display.Markdown object>"
      ]
     },
     "metadata": {},
     "output_type": "display_data"
    },
    {
     "name": "stdout",
     "output_type": "stream",
     "text": [
      "-------------\n",
      "counterparts\n",
      "grandchildren\n",
      "ancestors\n",
      "culture\n",
      "allies\n",
      "freedoms\n",
      "values\n",
      "occupation\n",
      "upbringing\n",
      "ideals\n",
      "-------------\n"
     ]
    },
    {
     "data": {
      "text/markdown": [
       "#### Rural"
      ],
      "text/plain": [
       "<IPython.core.display.Markdown object>"
      ]
     },
     "metadata": {},
     "output_type": "display_data"
    },
    {
     "name": "stdout",
     "output_type": "stream",
     "text": [
      "-----------\n",
      "alliance\n",
      "vermont\n",
      "colonial\n",
      "milton\n",
      "pioneer\n",
      "association\n",
      "collegiate\n",
      "liberty\n",
      "legion\n",
      "maryland\n",
      "-----------\n"
     ]
    },
    {
     "data": {
      "text/markdown": [
       "# alert"
      ],
      "text/plain": [
       "<IPython.core.display.Markdown object>"
      ]
     },
     "metadata": {},
     "output_type": "display_data"
    },
    {
     "data": {
      "text/markdown": [
       "#### Urban"
      ],
      "text/plain": [
       "<IPython.core.display.Markdown object>"
      ]
     },
     "metadata": {},
     "output_type": "display_data"
    },
    {
     "name": "stdout",
     "output_type": "stream",
     "text": [
      "---------\n",
      "files\n",
      "alerts\n",
      "report\n",
      "update\n",
      "warning\n",
      "releases\n",
      "flash\n",
      "carrier\n",
      "auto\n",
      "automatic\n",
      "---------\n"
     ]
    },
    {
     "data": {
      "text/markdown": [
       "#### Rural"
      ],
      "text/plain": [
       "<IPython.core.display.Markdown object>"
      ]
     },
     "metadata": {},
     "output_type": "display_data"
    },
    {
     "name": "stdout",
     "output_type": "stream",
     "text": [
      "--------\n",
      "roadwork\n",
      "freebie\n",
      "fares\n",
      "inws\n",
      "spoiler\n",
      "wgfa\n",
      "sta\n",
      "375\n",
      "amber\n",
      "pending\n",
      "--------\n"
     ]
    },
    {
     "data": {
      "text/markdown": [
       "# mere"
      ],
      "text/plain": [
       "<IPython.core.display.Markdown object>"
      ]
     },
     "metadata": {},
     "output_type": "display_data"
    },
    {
     "data": {
      "text/markdown": [
       "#### Urban"
      ],
      "text/plain": [
       "<IPython.core.display.Markdown object>"
      ]
     },
     "metadata": {},
     "output_type": "display_data"
    },
    {
     "name": "stdout",
     "output_type": "stream",
     "text": [
      "----------\n",
      "literal\n",
      "symbolic\n",
      "total\n",
      "continuous\n",
      "perpetual\n",
      "apathy\n",
      "myriad\n",
      "within\n",
      "survival\n",
      "moral\n",
      "----------\n"
     ]
    },
    {
     "data": {
      "text/markdown": [
       "#### Rural"
      ],
      "text/plain": [
       "<IPython.core.display.Markdown object>"
      ]
     },
     "metadata": {},
     "output_type": "display_data"
    },
    {
     "name": "stdout",
     "output_type": "stream",
     "text": [
      "----------\n",
      "jest\n",
      "tao\n",
      "heresy\n",
      "nih\n",
      "implicit\n",
      "salir\n",
      "federalist\n",
      "tica\n",
      "tau\n",
      "ter\n",
      "----------\n"
     ]
    },
    {
     "data": {
      "text/markdown": [
       "# crowd"
      ],
      "text/plain": [
       "<IPython.core.display.Markdown object>"
      ]
     },
     "metadata": {},
     "output_type": "display_data"
    },
    {
     "data": {
      "text/markdown": [
       "#### Urban"
      ],
      "text/plain": [
       "<IPython.core.display.Markdown object>"
      ]
     },
     "metadata": {},
     "output_type": "display_data"
    },
    {
     "name": "stdout",
     "output_type": "stream",
     "text": [
      "------------\n",
      "crowds\n",
      "rally\n",
      "stage\n",
      "guy\n",
      "podium\n",
      "protest\n",
      "arena\n",
      "audience\n",
      "controversy\n",
      "inauguration\n",
      "------------\n"
     ]
    },
    {
     "data": {
      "text/markdown": [
       "#### Rural"
      ],
      "text/plain": [
       "<IPython.core.display.Markdown object>"
      ]
     },
     "metadata": {},
     "output_type": "display_data"
    },
    {
     "name": "stdout",
     "output_type": "stream",
     "text": [
      "------------\n",
      "crowds\n",
      "comparison\n",
      "atmosphere\n",
      "competition\n",
      "spot\n",
      "guy\n",
      "inauguration\n",
      "debate\n",
      "wh\n",
      "turnout\n",
      "------------\n"
     ]
    },
    {
     "data": {
      "text/markdown": [
       "# rated"
      ],
      "text/plain": [
       "<IPython.core.display.Markdown object>"
      ]
     },
     "metadata": {},
     "output_type": "display_data"
    },
    {
     "data": {
      "text/markdown": [
       "#### Urban"
      ],
      "text/plain": [
       "<IPython.core.display.Markdown object>"
      ]
     },
     "metadata": {},
     "output_type": "display_data"
    },
    {
     "name": "stdout",
     "output_type": "stream",
     "text": [
      "----------\n",
      "ranked\n",
      "grossing\n",
      "ranking\n",
      "tier\n",
      "coveted\n",
      "rating\n",
      "dominant\n",
      "quantity\n",
      "underrated\n",
      "overrated\n",
      "----------\n"
     ]
    },
    {
     "data": {
      "text/markdown": [
       "#### Rural"
      ],
      "text/plain": [
       "<IPython.core.display.Markdown object>"
      ]
     },
     "metadata": {},
     "output_type": "display_data"
    },
    {
     "name": "stdout",
     "output_type": "stream",
     "text": [
      "----------\n",
      "wolverine\n",
      "paranormal\n",
      "1992\n",
      "1994\n",
      "films\n",
      "drs\n",
      "1990\n",
      "kombat\n",
      "1995\n",
      "marvel\n",
      "----------\n"
     ]
    },
    {
     "data": {
      "text/markdown": [
       "# soon"
      ],
      "text/plain": [
       "<IPython.core.display.Markdown object>"
      ]
     },
     "metadata": {},
     "output_type": "display_data"
    },
    {
     "data": {
      "text/markdown": [
       "#### Urban"
      ],
      "text/plain": [
       "<IPython.core.display.Markdown object>"
      ]
     },
     "metadata": {},
     "output_type": "display_data"
    },
    {
     "name": "stdout",
     "output_type": "stream",
     "text": [
      "----------\n",
      "shortly\n",
      "tomorrow\n",
      "eventually\n",
      "hopefully\n",
      "sometime\n",
      "quickly\n",
      "early\n",
      "finally\n",
      "close\n",
      "quick\n",
      "----------\n"
     ]
    },
    {
     "data": {
      "text/markdown": [
       "#### Rural"
      ],
      "text/plain": [
       "<IPython.core.display.Markdown object>"
      ]
     },
     "metadata": {},
     "output_type": "display_data"
    },
    {
     "name": "stdout",
     "output_type": "stream",
     "text": [
      "----------\n",
      "quickly\n",
      "eventually\n",
      "sometime\n",
      "hopefully\n",
      "tomorrow\n",
      "shortly\n",
      "fast\n",
      "quick\n",
      "asap\n",
      "someday\n",
      "----------\n"
     ]
    },
    {
     "data": {
      "text/markdown": [
       "# liberty"
      ],
      "text/plain": [
       "<IPython.core.display.Markdown object>"
      ]
     },
     "metadata": {},
     "output_type": "display_data"
    },
    {
     "data": {
      "text/markdown": [
       "#### Urban"
      ],
      "text/plain": [
       "<IPython.core.display.Markdown object>"
      ]
     },
     "metadata": {},
     "output_type": "display_data"
    },
    {
     "name": "stdout",
     "output_type": "stream",
     "text": [
      "------------\n",
      "freedom\n",
      "oppression\n",
      "religious\n",
      "humanity\n",
      "morality\n",
      "inherent\n",
      "poverty\n",
      "equality\n",
      "exploitation\n",
      "capitalism\n",
      "------------\n"
     ]
    },
    {
     "data": {
      "text/markdown": [
       "#### Rural"
      ],
      "text/plain": [
       "<IPython.core.display.Markdown object>"
      ]
     },
     "metadata": {},
     "output_type": "display_data"
    },
    {
     "name": "stdout",
     "output_type": "stream",
     "text": [
      "-----------\n",
      "cemetery\n",
      "association\n",
      "union\n",
      "heritage\n",
      "catholic\n",
      "navajo\n",
      "coalition\n",
      "cambridge\n",
      "georgetown\n",
      "western\n",
      "-----------\n"
     ]
    },
    {
     "data": {
      "text/markdown": [
       "# heavy"
      ],
      "text/plain": [
       "<IPython.core.display.Markdown object>"
      ]
     },
     "metadata": {},
     "output_type": "display_data"
    },
    {
     "data": {
      "text/markdown": [
       "#### Urban"
      ],
      "text/plain": [
       "<IPython.core.display.Markdown object>"
      ]
     },
     "metadata": {},
     "output_type": "display_data"
    },
    {
     "name": "stdout",
     "output_type": "stream",
     "text": [
      "------\n",
      "smooth\n",
      "mild\n",
      "deep\n",
      "cold\n",
      "high\n",
      "soft\n",
      "strong\n",
      "slight\n",
      "slow\n",
      "dry\n",
      "------\n"
     ]
    },
    {
     "data": {
      "text/markdown": [
       "#### Rural"
      ],
      "text/plain": [
       "<IPython.core.display.Markdown object>"
      ]
     },
     "metadata": {},
     "output_type": "display_data"
    },
    {
     "name": "stdout",
     "output_type": "stream",
     "text": [
      "----------\n",
      "gusty\n",
      "sleet\n",
      "excessive\n",
      "icy\n",
      "torrential\n",
      "squalls\n",
      "soaked\n",
      "stained\n",
      "localized\n",
      "hose\n",
      "----------\n"
     ]
    },
    {
     "data": {
      "text/markdown": [
       "# somewhere"
      ],
      "text/plain": [
       "<IPython.core.display.Markdown object>"
      ]
     },
     "metadata": {},
     "output_type": "display_data"
    },
    {
     "data": {
      "text/markdown": [
       "#### Urban"
      ],
      "text/plain": [
       "<IPython.core.display.Markdown object>"
      ]
     },
     "metadata": {},
     "output_type": "display_data"
    },
    {
     "name": "stdout",
     "output_type": "stream",
     "text": [
      "---------\n",
      "anywhere\n",
      "somebody\n",
      "nowhere\n",
      "someone\n",
      "something\n",
      "where\n",
      "everybody\n",
      "place\n",
      "outside\n",
      "bed\n",
      "---------\n"
     ]
    },
    {
     "data": {
      "text/markdown": [
       "#### Rural"
      ],
      "text/plain": [
       "<IPython.core.display.Markdown object>"
      ]
     },
     "metadata": {},
     "output_type": "display_data"
    },
    {
     "name": "stdout",
     "output_type": "stream",
     "text": [
      "----------\n",
      "anywhere\n",
      "someplace\n",
      "nowhere\n",
      "everywhere\n",
      "wherever\n",
      "something\n",
      "somebody\n",
      "anybody\n",
      "outside\n",
      "stoppard\n",
      "----------\n"
     ]
    },
    {
     "data": {
      "text/markdown": [
       "# one"
      ],
      "text/plain": [
       "<IPython.core.display.Markdown object>"
      ]
     },
     "metadata": {},
     "output_type": "display_data"
    },
    {
     "data": {
      "text/markdown": [
       "#### Urban"
      ],
      "text/plain": [
       "<IPython.core.display.Markdown object>"
      ]
     },
     "metadata": {},
     "output_type": "display_data"
    },
    {
     "name": "stdout",
     "output_type": "stream",
     "text": [
      "-------\n",
      "the\n",
      "two\n",
      "half\n",
      "that\n",
      "type\n",
      "part\n",
      "none\n",
      "because\n",
      "but\n",
      "way\n",
      "-------\n"
     ]
    },
    {
     "data": {
      "text/markdown": [
       "#### Rural"
      ],
      "text/plain": [
       "<IPython.core.display.Markdown object>"
      ]
     },
     "metadata": {},
     "output_type": "display_data"
    },
    {
     "name": "stdout",
     "output_type": "stream",
     "text": [
      "---------\n",
      "two\n",
      "the\n",
      "second\n",
      "that\n",
      "ones\n",
      "there\n",
      "intention\n",
      "ever\n",
      "every\n",
      "all\n",
      "---------\n"
     ]
    },
    {
     "data": {
      "text/markdown": [
       "# height"
      ],
      "text/plain": [
       "<IPython.core.display.Markdown object>"
      ]
     },
     "metadata": {},
     "output_type": "display_data"
    },
    {
     "data": {
      "text/markdown": [
       "#### Urban"
      ],
      "text/plain": [
       "<IPython.core.display.Markdown object>"
      ]
     },
     "metadata": {},
     "output_type": "display_data"
    },
    {
     "name": "stdout",
     "output_type": "stream",
     "text": [
      "----------\n",
      "size\n",
      "ratio\n",
      "number\n",
      "percentage\n",
      "length\n",
      "frequency\n",
      "price\n",
      "popularity\n",
      "body\n",
      "bottom\n",
      "----------\n"
     ]
    },
    {
     "data": {
      "text/markdown": [
       "#### Rural"
      ],
      "text/plain": [
       "<IPython.core.display.Markdown object>"
      ]
     },
     "metadata": {},
     "output_type": "display_data"
    },
    {
     "name": "stdout",
     "output_type": "stream",
     "text": [
      "----------\n",
      "6m\n",
      "30s\n",
      "size\n",
      "0c\n",
      "3c\n",
      "excess\n",
      "calculated\n",
      "rayon\n",
      "layer\n",
      "inch\n",
      "----------\n"
     ]
    },
    {
     "data": {
      "text/markdown": [
       "# error"
      ],
      "text/plain": [
       "<IPython.core.display.Markdown object>"
      ]
     },
     "metadata": {},
     "output_type": "display_data"
    },
    {
     "data": {
      "text/markdown": [
       "#### Urban"
      ],
      "text/plain": [
       "<IPython.core.display.Markdown object>"
      ]
     },
     "metadata": {},
     "output_type": "display_data"
    },
    {
     "name": "stdout",
     "output_type": "stream",
     "text": [
      "---------\n",
      "errors\n",
      "outage\n",
      "automatic\n",
      "issue\n",
      "terror\n",
      "server\n",
      "malware\n",
      "audit\n",
      "prompt\n",
      "arbitrary\n",
      "---------\n"
     ]
    },
    {
     "data": {
      "text/markdown": [
       "#### Rural"
      ],
      "text/plain": [
       "<IPython.core.display.Markdown object>"
      ]
     },
     "metadata": {},
     "output_type": "display_data"
    },
    {
     "name": "stdout",
     "output_type": "stream",
     "text": [
      "------------\n",
      "interception\n",
      "infield\n",
      "assignment\n",
      "airplane\n",
      "ambulance\n",
      "extension\n",
      "rbi\n",
      "exception\n",
      "option\n",
      "digit\n",
      "------------\n"
     ]
    },
    {
     "data": {
      "text/markdown": [
       "# dean"
      ],
      "text/plain": [
       "<IPython.core.display.Markdown object>"
      ]
     },
     "metadata": {},
     "output_type": "display_data"
    },
    {
     "data": {
      "text/markdown": [
       "#### Urban"
      ],
      "text/plain": [
       "<IPython.core.display.Markdown object>"
      ]
     },
     "metadata": {},
     "output_type": "display_data"
    },
    {
     "name": "stdout",
     "output_type": "stream",
     "text": [
      "-------------\n",
      "principal\n",
      "fraternity\n",
      "administrator\n",
      "teacher\n",
      "grad\n",
      "university\n",
      "student\n",
      "librarian\n",
      "asst\n",
      "robin\n",
      "-------------\n"
     ]
    },
    {
     "data": {
      "text/markdown": [
       "#### Rural"
      ],
      "text/plain": [
       "<IPython.core.display.Markdown object>"
      ]
     },
     "metadata": {},
     "output_type": "display_data"
    },
    {
     "name": "stdout",
     "output_type": "stream",
     "text": [
      "-------\n",
      "gary\n",
      "craig\n",
      "dylan\n",
      "jesse\n",
      "wallace\n",
      "chad\n",
      "noah\n",
      "andy\n",
      "carl\n",
      "miller\n",
      "-------\n"
     ]
    },
    {
     "data": {
      "text/markdown": [
       "# late"
      ],
      "text/plain": [
       "<IPython.core.display.Markdown object>"
      ]
     },
     "metadata": {},
     "output_type": "display_data"
    },
    {
     "data": {
      "text/markdown": [
       "#### Urban"
      ],
      "text/plain": [
       "<IPython.core.display.Markdown object>"
      ]
     },
     "metadata": {},
     "output_type": "display_data"
    },
    {
     "name": "stdout",
     "output_type": "stream",
     "text": [
      "---------\n",
      "early\n",
      "busy\n",
      "close\n",
      "drunk\n",
      "slow\n",
      "scheduled\n",
      "tomorrow\n",
      "sober\n",
      "rough\n",
      "shabby\n",
      "---------\n"
     ]
    },
    {
     "data": {
      "text/markdown": [
       "#### Rural"
      ],
      "text/plain": [
       "<IPython.core.display.Markdown object>"
      ]
     },
     "metadata": {},
     "output_type": "display_data"
    },
    {
     "name": "stdout",
     "output_type": "stream",
     "text": [
      "--------\n",
      "early\n",
      "busy\n",
      "hard\n",
      "rough\n",
      "short\n",
      "long\n",
      "friday\n",
      "tomorrow\n",
      "shift\n",
      "monday\n",
      "--------\n"
     ]
    },
    {
     "data": {
      "text/markdown": [
       "# note"
      ],
      "text/plain": [
       "<IPython.core.display.Markdown object>"
      ]
     },
     "metadata": {},
     "output_type": "display_data"
    },
    {
     "data": {
      "text/markdown": [
       "#### Urban"
      ],
      "text/plain": [
       "<IPython.core.display.Markdown object>"
      ]
     },
     "metadata": {},
     "output_type": "display_data"
    },
    {
     "name": "stdout",
     "output_type": "stream",
     "text": [
      "---------\n",
      "message\n",
      "topic\n",
      "picture\n",
      "story\n",
      "case\n",
      "effect\n",
      "response\n",
      "situation\n",
      "memory\n",
      "convo\n",
      "---------\n"
     ]
    },
    {
     "data": {
      "text/markdown": [
       "#### Rural"
      ],
      "text/plain": [
       "<IPython.core.display.Markdown object>"
      ]
     },
     "metadata": {},
     "output_type": "display_data"
    },
    {
     "name": "stdout",
     "output_type": "stream",
     "text": [
      "--------------\n",
      "comment\n",
      "notes\n",
      "letter\n",
      "picture\n",
      "pic\n",
      "recommendation\n",
      "message\n",
      "perspective\n",
      "consideration\n",
      "image\n",
      "--------------\n"
     ]
    },
    {
     "data": {
      "text/markdown": [
       "# least"
      ],
      "text/plain": [
       "<IPython.core.display.Markdown object>"
      ]
     },
     "metadata": {},
     "output_type": "display_data"
    },
    {
     "data": {
      "text/markdown": [
       "#### Urban"
      ],
      "text/plain": [
       "<IPython.core.display.Markdown object>"
      ]
     },
     "metadata": {},
     "output_type": "display_data"
    },
    {
     "name": "stdout",
     "output_type": "stream",
     "text": [
      "------------\n",
      "point\n",
      "also\n",
      "expense\n",
      "aimed\n",
      "only\n",
      "helm\n",
      "risk\n",
      "stake\n",
      "disadvantage\n",
      "once\n",
      "------------\n"
     ]
    },
    {
     "data": {
      "text/markdown": [
       "#### Rural"
      ],
      "text/plain": [
       "<IPython.core.display.Markdown object>"
      ]
     },
     "metadata": {},
     "output_type": "display_data"
    },
    {
     "name": "stdout",
     "output_type": "stream",
     "text": [
      "-------\n",
      "point\n",
      "stake\n",
      "aimed\n",
      "stare\n",
      "risk\n",
      "yell\n",
      "look\n",
      "age\n",
      "all\n",
      "walmart\n",
      "-------\n"
     ]
    },
    {
     "data": {
      "text/markdown": [
       "# fully"
      ],
      "text/plain": [
       "<IPython.core.display.Markdown object>"
      ]
     },
     "metadata": {},
     "output_type": "display_data"
    },
    {
     "data": {
      "text/markdown": [
       "#### Urban"
      ],
      "text/plain": [
       "<IPython.core.display.Markdown object>"
      ]
     },
     "metadata": {},
     "output_type": "display_data"
    },
    {
     "name": "stdout",
     "output_type": "stream",
     "text": [
      "------------\n",
      "heavily\n",
      "completely\n",
      "therefore\n",
      "properly\n",
      "financially\n",
      "somehow\n",
      "physically\n",
      "yet\n",
      "successfully\n",
      "also\n",
      "------------\n"
     ]
    },
    {
     "data": {
      "text/markdown": [
       "#### Rural"
      ],
      "text/plain": [
       "<IPython.core.display.Markdown object>"
      ]
     },
     "metadata": {},
     "output_type": "display_data"
    },
    {
     "name": "stdout",
     "output_type": "stream",
     "text": [
      "------------\n",
      "highly\n",
      "financially\n",
      "actively\n",
      "increasingly\n",
      "properly\n",
      "heavily\n",
      "completely\n",
      "deportation\n",
      "task\n",
      "system\n",
      "------------\n"
     ]
    },
    {
     "data": {
      "text/markdown": [
       "# typically"
      ],
      "text/plain": [
       "<IPython.core.display.Markdown object>"
      ]
     },
     "metadata": {},
     "output_type": "display_data"
    },
    {
     "data": {
      "text/markdown": [
       "#### Urban"
      ],
      "text/plain": [
       "<IPython.core.display.Markdown object>"
      ]
     },
     "metadata": {},
     "output_type": "display_data"
    },
    {
     "name": "stdout",
     "output_type": "stream",
     "text": [
      "------------\n",
      "generally\n",
      "usually\n",
      "often\n",
      "rarely\n",
      "individual\n",
      "mostly\n",
      "neutral\n",
      "certain\n",
      "ethical\n",
      "particularly\n",
      "------------\n"
     ]
    },
    {
     "data": {
      "text/markdown": [
       "#### Rural"
      ],
      "text/plain": [
       "<IPython.core.display.Markdown object>"
      ]
     },
     "metadata": {},
     "output_type": "display_data"
    },
    {
     "name": "stdout",
     "output_type": "stream",
     "text": [
      "-----------\n",
      "generally\n",
      "equally\n",
      "governments\n",
      "humans\n",
      "cultures\n",
      "commonly\n",
      "usually\n",
      "fairly\n",
      "mosques\n",
      "factors\n",
      "-----------\n"
     ]
    },
    {
     "data": {
      "text/markdown": [
       "# present"
      ],
      "text/plain": [
       "<IPython.core.display.Markdown object>"
      ]
     },
     "metadata": {},
     "output_type": "display_data"
    },
    {
     "data": {
      "text/markdown": [
       "#### Urban"
      ],
      "text/plain": [
       "<IPython.core.display.Markdown object>"
      ]
     },
     "metadata": {},
     "output_type": "display_data"
    },
    {
     "name": "stdout",
     "output_type": "stream",
     "text": [
      "-----------\n",
      "celebrate\n",
      "celebrated\n",
      "destination\n",
      "success\n",
      "experience\n",
      "celebration\n",
      "happy\n",
      "presence\n",
      "retreat\n",
      "journey\n",
      "-----------\n"
     ]
    },
    {
     "data": {
      "text/markdown": [
       "#### Rural"
      ],
      "text/plain": [
       "<IPython.core.display.Markdown object>"
      ]
     },
     "metadata": {},
     "output_type": "display_data"
    },
    {
     "name": "stdout",
     "output_type": "stream",
     "text": [
      "------------\n",
      "celebrated\n",
      "celebrate\n",
      "happy\n",
      "celebrating\n",
      "wishes\n",
      "celebrations\n",
      "successful\n",
      "50th\n",
      "born\n",
      "journey\n",
      "------------\n"
     ]
    },
    {
     "data": {
      "text/markdown": [
       "# whose"
      ],
      "text/plain": [
       "<IPython.core.display.Markdown object>"
      ]
     },
     "metadata": {},
     "output_type": "display_data"
    },
    {
     "data": {
      "text/markdown": [
       "#### Urban"
      ],
      "text/plain": [
       "<IPython.core.display.Markdown object>"
      ]
     },
     "metadata": {},
     "output_type": "display_data"
    },
    {
     "name": "stdout",
     "output_type": "stream",
     "text": [
      "-----------\n",
      "their\n",
      "who\n",
      "his\n",
      "which\n",
      "autistic\n",
      "my\n",
      "imaginary\n",
      "transgender\n",
      "black\n",
      "abusing\n",
      "-----------\n"
     ]
    },
    {
     "data": {
      "text/markdown": [
       "#### Rural"
      ],
      "text/plain": [
       "<IPython.core.display.Markdown object>"
      ]
     },
     "metadata": {},
     "output_type": "display_data"
    },
    {
     "name": "stdout",
     "output_type": "stream",
     "text": [
      "----------\n",
      "who\n",
      "disabled\n",
      "their\n",
      "elderly\n",
      "elses\n",
      "molesting\n",
      "murdering\n",
      "his\n",
      "assaulting\n",
      "allegedly\n",
      "----------\n"
     ]
    },
    {
     "data": {
      "text/markdown": [
       "# mess"
      ],
      "text/plain": [
       "<IPython.core.display.Markdown object>"
      ]
     },
     "metadata": {},
     "output_type": "display_data"
    },
    {
     "data": {
      "text/markdown": [
       "#### Urban"
      ],
      "text/plain": [
       "<IPython.core.display.Markdown object>"
      ]
     },
     "metadata": {},
     "output_type": "display_data"
    },
    {
     "name": "stdout",
     "output_type": "stream",
     "text": [
      "-------\n",
      "fuck\n",
      "fool\n",
      "joke\n",
      "lie\n",
      "wrap\n",
      "creep\n",
      "problem\n",
      "fucking\n",
      "stand\n",
      "fuckin\n",
      "-------\n"
     ]
    },
    {
     "data": {
      "text/markdown": [
       "#### Rural"
      ],
      "text/plain": [
       "<IPython.core.display.Markdown object>"
      ]
     },
     "metadata": {},
     "output_type": "display_data"
    },
    {
     "name": "stdout",
     "output_type": "stream",
     "text": [
      "-------\n",
      "messes\n",
      "blow\n",
      "lie\n",
      "messing\n",
      "fuck\n",
      "problem\n",
      "stick\n",
      "pull\n",
      "fucked\n",
      "touch\n",
      "-------\n"
     ]
    },
    {
     "data": {
      "text/markdown": [
       "# open"
      ],
      "text/plain": [
       "<IPython.core.display.Markdown object>"
      ]
     },
     "metadata": {},
     "output_type": "display_data"
    },
    {
     "data": {
      "text/markdown": [
       "#### Urban"
      ],
      "text/plain": [
       "<IPython.core.display.Markdown object>"
      ]
     },
     "metadata": {},
     "output_type": "display_data"
    },
    {
     "name": "stdout",
     "output_type": "stream",
     "text": [
      "-------\n",
      "closed\n",
      "closing\n",
      "empty\n",
      "close\n",
      "opened\n",
      "clean\n",
      "set\n",
      "fill\n",
      "tied\n",
      "loaded\n",
      "-------\n"
     ]
    },
    {
     "data": {
      "text/markdown": [
       "#### Rural"
      ],
      "text/plain": [
       "<IPython.core.display.Markdown object>"
      ]
     },
     "metadata": {},
     "output_type": "display_data"
    },
    {
     "name": "stdout",
     "output_type": "stream",
     "text": [
      "---------\n",
      "closed\n",
      "closing\n",
      "closes\n",
      "opens\n",
      "opened\n",
      "boarding\n",
      "hosting\n",
      "empty\n",
      "scheduled\n",
      "reserve\n",
      "---------\n"
     ]
    },
    {
     "data": {
      "text/markdown": [
       "# early"
      ],
      "text/plain": [
       "<IPython.core.display.Markdown object>"
      ]
     },
     "metadata": {},
     "output_type": "display_data"
    },
    {
     "data": {
      "text/markdown": [
       "#### Urban"
      ],
      "text/plain": [
       "<IPython.core.display.Markdown object>"
      ]
     },
     "metadata": {},
     "output_type": "display_data"
    },
    {
     "name": "stdout",
     "output_type": "stream",
     "text": [
      "--------\n",
      "late\n",
      "mid\n",
      "after\n",
      "tomorrow\n",
      "before\n",
      "today\n",
      "high\n",
      "later\n",
      "slump\n",
      "close\n",
      "--------\n"
     ]
    },
    {
     "data": {
      "text/markdown": [
       "#### Rural"
      ],
      "text/plain": [
       "<IPython.core.display.Markdown object>"
      ]
     },
     "metadata": {},
     "output_type": "display_data"
    },
    {
     "name": "stdout",
     "output_type": "stream",
     "text": [
      "---------\n",
      "late\n",
      "tomorrow\n",
      "after\n",
      "before\n",
      "mid\n",
      "busy\n",
      "fast\n",
      "today\n",
      "scheduled\n",
      "back\n",
      "---------\n"
     ]
    },
    {
     "data": {
      "text/markdown": [
       "# devoted"
      ],
      "text/plain": [
       "<IPython.core.display.Markdown object>"
      ]
     },
     "metadata": {},
     "output_type": "display_data"
    },
    {
     "data": {
      "text/markdown": [
       "#### Urban"
      ],
      "text/plain": [
       "<IPython.core.display.Markdown object>"
      ]
     },
     "metadata": {},
     "output_type": "display_data"
    },
    {
     "name": "stdout",
     "output_type": "stream",
     "text": [
      "------------\n",
      "dedicated\n",
      "contributing\n",
      "contributed\n",
      "opposed\n",
      "committed\n",
      "testament\n",
      "influential\n",
      "contributes\n",
      "diverse\n",
      "according\n",
      "------------\n"
     ]
    },
    {
     "data": {
      "text/markdown": [
       "#### Rural"
      ],
      "text/plain": [
       "<IPython.core.display.Markdown object>"
      ]
     },
     "metadata": {},
     "output_type": "display_data"
    },
    {
     "name": "stdout",
     "output_type": "stream",
     "text": [
      "----------------\n",
      "dedicated\n",
      "caregiver\n",
      "longtime\n",
      "veteran\n",
      "enlarge\n",
      "oldest\n",
      "proudest\n",
      "asd\n",
      "veterinary\n",
      "disproportionate\n",
      "----------------\n"
     ]
    },
    {
     "data": {
      "text/markdown": [
       "# tracks"
      ],
      "text/plain": [
       "<IPython.core.display.Markdown object>"
      ]
     },
     "metadata": {},
     "output_type": "display_data"
    },
    {
     "data": {
      "text/markdown": [
       "#### Urban"
      ],
      "text/plain": [
       "<IPython.core.display.Markdown object>"
      ]
     },
     "metadata": {},
     "output_type": "display_data"
    },
    {
     "name": "stdout",
     "output_type": "stream",
     "text": [
      "-------\n",
      "songs\n",
      "bands\n",
      "albums\n",
      "tunes\n",
      "track\n",
      "music\n",
      "mixtape\n",
      "mixes\n",
      "jams\n",
      "remixes\n",
      "-------\n"
     ]
    },
    {
     "data": {
      "text/markdown": [
       "#### Rural"
      ],
      "text/plain": [
       "<IPython.core.display.Markdown object>"
      ]
     },
     "metadata": {},
     "output_type": "display_data"
    },
    {
     "name": "stdout",
     "output_type": "stream",
     "text": [
      "-------\n",
      "cars\n",
      "chains\n",
      "walls\n",
      "shelves\n",
      "trees\n",
      "wires\n",
      "screens\n",
      "bars\n",
      "loop\n",
      "albums\n",
      "-------\n"
     ]
    },
    {
     "data": {
      "text/markdown": [
       "# held"
      ],
      "text/plain": [
       "<IPython.core.display.Markdown object>"
      ]
     },
     "metadata": {},
     "output_type": "display_data"
    },
    {
     "data": {
      "text/markdown": [
       "#### Urban"
      ],
      "text/plain": [
       "<IPython.core.display.Markdown object>"
      ]
     },
     "metadata": {},
     "output_type": "display_data"
    },
    {
     "name": "stdout",
     "output_type": "stream",
     "text": [
      "-------\n",
      "placed\n",
      "holding\n",
      "backed\n",
      "beaten\n",
      "thrown\n",
      "stood\n",
      "marked\n",
      "pushed\n",
      "locked\n",
      "hold\n",
      "-------\n"
     ]
    },
    {
     "data": {
      "text/markdown": [
       "#### Rural"
      ],
      "text/plain": [
       "<IPython.core.display.Markdown object>"
      ]
     },
     "metadata": {},
     "output_type": "display_data"
    },
    {
     "name": "stdout",
     "output_type": "stream",
     "text": [
      "----------\n",
      "placed\n",
      "recognized\n",
      "closing\n",
      "selected\n",
      "thrown\n",
      "ruled\n",
      "presented\n",
      "inducted\n",
      "reopen\n",
      "moved\n",
      "----------\n"
     ]
    },
    {
     "data": {
      "text/markdown": [
       "# devil"
      ],
      "text/plain": [
       "<IPython.core.display.Markdown object>"
      ]
     },
     "metadata": {},
     "output_type": "display_data"
    },
    {
     "data": {
      "text/markdown": [
       "#### Urban"
      ],
      "text/plain": [
       "<IPython.core.display.Markdown object>"
      ]
     },
     "metadata": {},
     "output_type": "display_data"
    },
    {
     "name": "stdout",
     "output_type": "stream",
     "text": [
      "----------\n",
      "goat\n",
      "truth\n",
      "devils\n",
      "evil\n",
      "universe\n",
      "sheep\n",
      "patriarchy\n",
      "snake\n",
      "bushes\n",
      "spirit\n",
      "----------\n"
     ]
    },
    {
     "data": {
      "text/markdown": [
       "#### Rural"
      ],
      "text/plain": [
       "<IPython.core.display.Markdown object>"
      ]
     },
     "metadata": {},
     "output_type": "display_data"
    },
    {
     "name": "stdout",
     "output_type": "stream",
     "text": [
      "--------\n",
      "satan\n",
      "angels\n",
      "demon\n",
      "sword\n",
      "dark\n",
      "flesh\n",
      "universe\n",
      "truth\n",
      "sky\n",
      "frog\n",
      "--------\n"
     ]
    },
    {
     "data": {
      "text/markdown": [
       "# identical"
      ],
      "text/plain": [
       "<IPython.core.display.Markdown object>"
      ]
     },
     "metadata": {},
     "output_type": "display_data"
    },
    {
     "data": {
      "text/markdown": [
       "#### Urban"
      ],
      "text/plain": [
       "<IPython.core.display.Markdown object>"
      ]
     },
     "metadata": {},
     "output_type": "display_data"
    },
    {
     "name": "stdout",
     "output_type": "stream",
     "text": [
      "------------\n",
      "similar\n",
      "awful\n",
      "different\n",
      "hideous\n",
      "flawless\n",
      "promising\n",
      "insufferable\n",
      "horrible\n",
      "stunning\n",
      "reversed\n",
      "------------\n"
     ]
    },
    {
     "data": {
      "text/markdown": [
       "#### Rural"
      ],
      "text/plain": [
       "<IPython.core.display.Markdown object>"
      ]
     },
     "metadata": {},
     "output_type": "display_data"
    },
    {
     "name": "stdout",
     "output_type": "stream",
     "text": [
      "-----------\n",
      "snarky\n",
      "adorbs\n",
      "persuasive\n",
      "cruelest\n",
      "dodgy\n",
      "censored\n",
      "peddled\n",
      "fabricated\n",
      "outlandish\n",
      "confounding\n",
      "-----------\n"
     ]
    },
    {
     "data": {
      "text/markdown": [
       "# playing"
      ],
      "text/plain": [
       "<IPython.core.display.Markdown object>"
      ]
     },
     "metadata": {},
     "output_type": "display_data"
    },
    {
     "data": {
      "text/markdown": [
       "#### Urban"
      ],
      "text/plain": [
       "<IPython.core.display.Markdown object>"
      ]
     },
     "metadata": {},
     "output_type": "display_data"
    },
    {
     "name": "stdout",
     "output_type": "stream",
     "text": [
      "----------\n",
      "playin\n",
      "played\n",
      "watching\n",
      "singing\n",
      "dancing\n",
      "play\n",
      "running\n",
      "blasting\n",
      "plays\n",
      "practicing\n",
      "----------\n"
     ]
    },
    {
     "data": {
      "text/markdown": [
       "#### Rural"
      ],
      "text/plain": [
       "<IPython.core.display.Markdown object>"
      ]
     },
     "metadata": {},
     "output_type": "display_data"
    },
    {
     "name": "stdout",
     "output_type": "stream",
     "text": [
      "---------\n",
      "blaring\n",
      "jamming\n",
      "playin\n",
      "played\n",
      "play\n",
      "singing\n",
      "streaming\n",
      "feat\n",
      "plays\n",
      "hitting\n",
      "---------\n"
     ]
    },
    {
     "data": {
      "text/markdown": [
       "# dance"
      ],
      "text/plain": [
       "<IPython.core.display.Markdown object>"
      ]
     },
     "metadata": {},
     "output_type": "display_data"
    },
    {
     "data": {
      "text/markdown": [
       "#### Urban"
      ],
      "text/plain": [
       "<IPython.core.display.Markdown object>"
      ]
     },
     "metadata": {},
     "output_type": "display_data"
    },
    {
     "name": "stdout",
     "output_type": "stream",
     "text": [
      "-------\n",
      "dancing\n",
      "swim\n",
      "play\n",
      "smash\n",
      "singing\n",
      "mix\n",
      "pop\n",
      "karaoke\n",
      "skate\n",
      "walk\n",
      "-------\n"
     ]
    },
    {
     "data": {
      "text/markdown": [
       "#### Rural"
      ],
      "text/plain": [
       "<IPython.core.display.Markdown object>"
      ]
     },
     "metadata": {},
     "output_type": "display_data"
    },
    {
     "name": "stdout",
     "output_type": "stream",
     "text": [
      "-------\n",
      "dancing\n",
      "sing\n",
      "singing\n",
      "karaoke\n",
      "recital\n",
      "bonfire\n",
      "band\n",
      "concert\n",
      "perform\n",
      "jazz\n",
      "-------\n"
     ]
    },
    {
     "data": {
      "text/markdown": [
       "# suggested"
      ],
      "text/plain": [
       "<IPython.core.display.Markdown object>"
      ]
     },
     "metadata": {},
     "output_type": "display_data"
    },
    {
     "data": {
      "text/markdown": [
       "#### Urban"
      ],
      "text/plain": [
       "<IPython.core.display.Markdown object>"
      ]
     },
     "metadata": {},
     "output_type": "display_data"
    },
    {
     "name": "stdout",
     "output_type": "stream",
     "text": [
      "---------\n",
      "requested\n",
      "mentioned\n",
      "explained\n",
      "stated\n",
      "claimed\n",
      "argued\n",
      "responded\n",
      "copied\n",
      "said\n",
      "demanded\n",
      "---------\n"
     ]
    },
    {
     "data": {
      "text/markdown": [
       "#### Rural"
      ],
      "text/plain": [
       "<IPython.core.display.Markdown object>"
      ]
     },
     "metadata": {},
     "output_type": "display_data"
    },
    {
     "name": "stdout",
     "output_type": "stream",
     "text": [
      "-----------\n",
      "suggests\n",
      "conducted\n",
      "noted\n",
      "savvy\n",
      "cited\n",
      "recommended\n",
      "branded\n",
      "discussed\n",
      "utilizing\n",
      "peer\n",
      "-----------\n"
     ]
    },
    {
     "data": {
      "text/markdown": [
       "# spend"
      ],
      "text/plain": [
       "<IPython.core.display.Markdown object>"
      ]
     },
     "metadata": {},
     "output_type": "display_data"
    },
    {
     "data": {
      "text/markdown": [
       "#### Urban"
      ],
      "text/plain": [
       "<IPython.core.display.Markdown object>"
      ]
     },
     "metadata": {},
     "output_type": "display_data"
    },
    {
     "name": "stdout",
     "output_type": "stream",
     "text": [
      "--------\n",
      "spent\n",
      "waste\n",
      "start\n",
      "spending\n",
      "spare\n",
      "save\n",
      "wasted\n",
      "pend\n",
      "enjoy\n",
      "buy\n",
      "--------\n"
     ]
    },
    {
     "data": {
      "text/markdown": [
       "#### Rural"
      ],
      "text/plain": [
       "<IPython.core.display.Markdown object>"
      ]
     },
     "metadata": {},
     "output_type": "display_data"
    },
    {
     "name": "stdout",
     "output_type": "stream",
     "text": [
      "---------\n",
      "spending\n",
      "spent\n",
      "wasted\n",
      "waste\n",
      "start\n",
      "enjoy\n",
      "celebrate\n",
      "eat\n",
      "save\n",
      "devote\n",
      "---------\n"
     ]
    },
    {
     "data": {
      "text/markdown": [
       "# relatively"
      ],
      "text/plain": [
       "<IPython.core.display.Markdown object>"
      ]
     },
     "metadata": {},
     "output_type": "display_data"
    },
    {
     "data": {
      "text/markdown": [
       "#### Urban"
      ],
      "text/plain": [
       "<IPython.core.display.Markdown object>"
      ]
     },
     "metadata": {},
     "output_type": "display_data"
    },
    {
     "name": "stdout",
     "output_type": "stream",
     "text": [
      "------------\n",
      "fairly\n",
      "surprisingly\n",
      "somewhat\n",
      "remarkably\n",
      "particularly\n",
      "very\n",
      "uniquely\n",
      "extremely\n",
      "mechanics\n",
      "quite\n",
      "------------\n"
     ]
    },
    {
     "data": {
      "text/markdown": [
       "#### Rural"
      ],
      "text/plain": [
       "<IPython.core.display.Markdown object>"
      ]
     },
     "metadata": {},
     "output_type": "display_data"
    },
    {
     "name": "stdout",
     "output_type": "stream",
     "text": [
      "-------------\n",
      "sodium\n",
      "fairly\n",
      "longevity\n",
      "affordability\n",
      "incomes\n",
      "robust\n",
      "chemicals\n",
      "fundamentally\n",
      "firearms\n",
      "thc\n",
      "-------------\n"
     ]
    },
    {
     "data": {
      "text/markdown": [
       "# union"
      ],
      "text/plain": [
       "<IPython.core.display.Markdown object>"
      ]
     },
     "metadata": {},
     "output_type": "display_data"
    },
    {
     "data": {
      "text/markdown": [
       "#### Urban"
      ],
      "text/plain": [
       "<IPython.core.display.Markdown object>"
      ]
     },
     "metadata": {},
     "output_type": "display_data"
    },
    {
     "name": "stdout",
     "output_type": "stream",
     "text": [
      "----------\n",
      "military\n",
      "govt\n",
      "unions\n",
      "university\n",
      "nonprofit\n",
      "dept\n",
      "government\n",
      "corporate\n",
      "legal\n",
      "charter\n",
      "----------\n"
     ]
    },
    {
     "data": {
      "text/markdown": [
       "#### Rural"
      ],
      "text/plain": [
       "<IPython.core.display.Markdown object>"
      ]
     },
     "metadata": {},
     "output_type": "display_data"
    },
    {
     "name": "stdout",
     "output_type": "stream",
     "text": [
      "----------\n",
      "nebraska\n",
      "iowa\n",
      "missouri\n",
      "salem\n",
      "fayette\n",
      "newark\n",
      "virginia\n",
      "cambridge\n",
      "georgetown\n",
      "ottawa\n",
      "----------\n"
     ]
    },
    {
     "data": {
      "text/markdown": [
       "# update"
      ],
      "text/plain": [
       "<IPython.core.display.Markdown object>"
      ]
     },
     "metadata": {},
     "output_type": "display_data"
    },
    {
     "data": {
      "text/markdown": [
       "#### Urban"
      ],
      "text/plain": [
       "<IPython.core.display.Markdown object>"
      ]
     },
     "metadata": {},
     "output_type": "display_data"
    },
    {
     "name": "stdout",
     "output_type": "stream",
     "text": [
      "---------\n",
      "upgrade\n",
      "app\n",
      "iphone\n",
      "feature\n",
      "install\n",
      "tablet\n",
      "login\n",
      "interface\n",
      "reset\n",
      "updated\n",
      "---------\n"
     ]
    },
    {
     "data": {
      "text/markdown": [
       "#### Rural"
      ],
      "text/plain": [
       "<IPython.core.display.Markdown object>"
      ]
     },
     "metadata": {},
     "output_type": "display_data"
    },
    {
     "name": "stdout",
     "output_type": "stream",
     "text": [
      "---------\n",
      "updated\n",
      "updates\n",
      "outage\n",
      "satellite\n",
      "dvr\n",
      "setup\n",
      "report\n",
      "canceled\n",
      "channel\n",
      "outlook\n",
      "---------\n"
     ]
    },
    {
     "data": {
      "text/markdown": [
       "# sake"
      ],
      "text/plain": [
       "<IPython.core.display.Markdown object>"
      ]
     },
     "metadata": {},
     "output_type": "display_data"
    },
    {
     "data": {
      "text/markdown": [
       "#### Urban"
      ],
      "text/plain": [
       "<IPython.core.display.Markdown object>"
      ]
     },
     "metadata": {},
     "output_type": "display_data"
    },
    {
     "name": "stdout",
     "output_type": "stream",
     "text": [
      "-------------\n",
      "sakes\n",
      "disregard\n",
      "pity\n",
      "disdain\n",
      "justification\n",
      "responsible\n",
      "tolerance\n",
      "freedom\n",
      "contempt\n",
      "fearing\n",
      "-------------\n"
     ]
    },
    {
     "data": {
      "text/markdown": [
       "#### Rural"
      ],
      "text/plain": [
       "<IPython.core.display.Markdown object>"
      ]
     },
     "metadata": {},
     "output_type": "display_data"
    },
    {
     "name": "stdout",
     "output_type": "stream",
     "text": [
      "---------\n",
      "sakes\n",
      "humanity\n",
      "salvation\n",
      "praise\n",
      "pray\n",
      "wrath\n",
      "praying\n",
      "prayer\n",
      "almighty\n",
      "glory\n",
      "---------\n"
     ]
    },
    {
     "data": {
      "text/markdown": [
       "# phase"
      ],
      "text/plain": [
       "<IPython.core.display.Markdown object>"
      ]
     },
     "metadata": {},
     "output_type": "display_data"
    },
    {
     "data": {
      "text/markdown": [
       "#### Urban"
      ],
      "text/plain": [
       "<IPython.core.display.Markdown object>"
      ]
     },
     "metadata": {},
     "output_type": "display_data"
    },
    {
     "name": "stdout",
     "output_type": "stream",
     "text": [
      "--------\n",
      "period\n",
      "year\n",
      "wave\n",
      "chapter\n",
      "semester\n",
      "month\n",
      "months\n",
      "shift\n",
      "day\n",
      "realm\n",
      "--------\n"
     ]
    },
    {
     "data": {
      "text/markdown": [
       "#### Rural"
      ],
      "text/plain": [
       "<IPython.core.display.Markdown object>"
      ]
     },
     "metadata": {},
     "output_type": "display_data"
    },
    {
     "name": "stdout",
     "output_type": "stream",
     "text": [
      "-----------\n",
      "chapter\n",
      "wk\n",
      "5hr\n",
      "installment\n",
      "dimension\n",
      "vol\n",
      "chapters\n",
      "level\n",
      "episode\n",
      "corinthians\n",
      "-----------\n"
     ]
    },
    {
     "data": {
      "text/markdown": [
       "# loss"
      ],
      "text/plain": [
       "<IPython.core.display.Markdown object>"
      ]
     },
     "metadata": {},
     "output_type": "display_data"
    },
    {
     "data": {
      "text/markdown": [
       "#### Urban"
      ],
      "text/plain": [
       "<IPython.core.display.Markdown object>"
      ]
     },
     "metadata": {},
     "output_type": "display_data"
    },
    {
     "name": "stdout",
     "output_type": "stream",
     "text": [
      "--------------\n",
      "victory\n",
      "success\n",
      "goal\n",
      "losing\n",
      "losses\n",
      "disappointment\n",
      "commitment\n",
      "career\n",
      "failure\n",
      "injury\n",
      "--------------\n"
     ]
    },
    {
     "data": {
      "text/markdown": [
       "#### Rural"
      ],
      "text/plain": [
       "<IPython.core.display.Markdown object>"
      ]
     },
     "metadata": {},
     "output_type": "display_data"
    },
    {
     "name": "stdout",
     "output_type": "stream",
     "text": [
      "--------\n",
      "losing\n",
      "victory\n",
      "lose\n",
      "losses\n",
      "stroke\n",
      "gaining\n",
      "goal\n",
      "watchers\n",
      "lost\n",
      "sweep\n",
      "--------\n"
     ]
    },
    {
     "data": {
      "text/markdown": [
       "# suggestion"
      ],
      "text/plain": [
       "<IPython.core.display.Markdown object>"
      ]
     },
     "metadata": {},
     "output_type": "display_data"
    },
    {
     "data": {
      "text/markdown": [
       "#### Urban"
      ],
      "text/plain": [
       "<IPython.core.display.Markdown object>"
      ]
     },
     "metadata": {},
     "output_type": "display_data"
    },
    {
     "name": "stdout",
     "output_type": "stream",
     "text": [
      "--------------\n",
      "recommendation\n",
      "reminder\n",
      "feedback\n",
      "message\n",
      "input\n",
      "clarification\n",
      "token\n",
      "question\n",
      "request\n",
      "analogy\n",
      "--------------\n"
     ]
    },
    {
     "data": {
      "text/markdown": [
       "#### Rural"
      ],
      "text/plain": [
       "<IPython.core.display.Markdown object>"
      ]
     },
     "metadata": {},
     "output_type": "display_data"
    },
    {
     "name": "stdout",
     "output_type": "stream",
     "text": [
      "--------------\n",
      "recommendation\n",
      "review\n",
      "summary\n",
      "multiverse\n",
      "reader\n",
      "visual\n",
      "handwritten\n",
      "communicator\n",
      "literature\n",
      "reviewed\n",
      "--------------\n"
     ]
    },
    {
     "data": {
      "text/markdown": [
       "# any"
      ],
      "text/plain": [
       "<IPython.core.display.Markdown object>"
      ]
     },
     "metadata": {},
     "output_type": "display_data"
    },
    {
     "data": {
      "text/markdown": [
       "#### Urban"
      ],
      "text/plain": [
       "<IPython.core.display.Markdown object>"
      ]
     },
     "metadata": {},
     "output_type": "display_data"
    },
    {
     "name": "stdout",
     "output_type": "stream",
     "text": [
      "--------\n",
      "either\n",
      "some\n",
      "anything\n",
      "no\n",
      "specific\n",
      "even\n",
      "certain\n",
      "ny\n",
      "the\n",
      "none\n",
      "--------\n"
     ]
    },
    {
     "data": {
      "text/markdown": [
       "#### Rural"
      ],
      "text/plain": [
       "<IPython.core.display.Markdown object>"
      ]
     },
     "metadata": {},
     "output_type": "display_data"
    },
    {
     "name": "stdout",
     "output_type": "stream",
     "text": [
      "--------\n",
      "some\n",
      "anything\n",
      "either\n",
      "no\n",
      "even\n",
      "every\n",
      "lack\n",
      "anyone\n",
      "none\n",
      "the\n",
      "--------\n"
     ]
    },
    {
     "data": {
      "text/markdown": [
       "# edited"
      ],
      "text/plain": [
       "<IPython.core.display.Markdown object>"
      ]
     },
     "metadata": {},
     "output_type": "display_data"
    },
    {
     "data": {
      "text/markdown": [
       "#### Urban"
      ],
      "text/plain": [
       "<IPython.core.display.Markdown object>"
      ]
     },
     "metadata": {},
     "output_type": "display_data"
    },
    {
     "name": "stdout",
     "output_type": "stream",
     "text": [
      "---------\n",
      "directed\n",
      "recorded\n",
      "filmed\n",
      "original\n",
      "produced\n",
      "edit\n",
      "uploading\n",
      "retweeted\n",
      "reviewed\n",
      "written\n",
      "---------\n"
     ]
    },
    {
     "data": {
      "text/markdown": [
       "#### Rural"
      ],
      "text/plain": [
       "<IPython.core.display.Markdown object>"
      ]
     },
     "metadata": {},
     "output_type": "display_data"
    },
    {
     "name": "stdout",
     "output_type": "stream",
     "text": [
      "--------------------\n",
      "yt\n",
      "uploading\n",
      "recorded\n",
      "deleted\n",
      "cred\n",
      "ourgenerationmusicco\n",
      "worldstar\n",
      "dailymotion\n",
      "editing\n",
      "autoplay\n",
      "--------------------\n"
     ]
    },
    {
     "data": {
      "text/markdown": [
       "# gravity"
      ],
      "text/plain": [
       "<IPython.core.display.Markdown object>"
      ]
     },
     "metadata": {},
     "output_type": "display_data"
    },
    {
     "data": {
      "text/markdown": [
       "#### Urban"
      ],
      "text/plain": [
       "<IPython.core.display.Markdown object>"
      ]
     },
     "metadata": {},
     "output_type": "display_data"
    },
    {
     "name": "stdout",
     "output_type": "stream",
     "text": [
      "-------------\n",
      "structure\n",
      "consciousness\n",
      "itself\n",
      "chaos\n",
      "excess\n",
      "tension\n",
      "motion\n",
      "alignment\n",
      "policing\n",
      "uncertainty\n",
      "-------------\n"
     ]
    },
    {
     "data": {
      "text/markdown": [
       "#### Rural"
      ],
      "text/plain": [
       "<IPython.core.display.Markdown object>"
      ]
     },
     "metadata": {},
     "output_type": "display_data"
    },
    {
     "name": "stdout",
     "output_type": "stream",
     "text": [
      "---------\n",
      "glens\n",
      "marble\n",
      "voltage\n",
      "dynamite\n",
      "flute\n",
      "niagara\n",
      "labyrinth\n",
      "pendulum\n",
      "dioxide\n",
      "kinetic\n",
      "---------\n"
     ]
    },
    {
     "data": {
      "text/markdown": [
       "# happening"
      ],
      "text/plain": [
       "<IPython.core.display.Markdown object>"
      ]
     },
     "metadata": {},
     "output_type": "display_data"
    },
    {
     "data": {
      "text/markdown": [
       "#### Urban"
      ],
      "text/plain": [
       "<IPython.core.display.Markdown object>"
      ]
     },
     "metadata": {},
     "output_type": "display_data"
    },
    {
     "name": "stdout",
     "output_type": "stream",
     "text": [
      "----------\n",
      "happens\n",
      "happened\n",
      "doing\n",
      "madness\n",
      "snowing\n",
      "coming\n",
      "matters\n",
      "going\n",
      "terrifying\n",
      "possible\n",
      "----------\n"
     ]
    },
    {
     "data": {
      "text/markdown": [
       "#### Rural"
      ],
      "text/plain": [
       "<IPython.core.display.Markdown object>"
      ]
     },
     "metadata": {},
     "output_type": "display_data"
    },
    {
     "name": "stdout",
     "output_type": "stream",
     "text": [
      "---------\n",
      "happens\n",
      "happened\n",
      "doing\n",
      "snowing\n",
      "matters\n",
      "coming\n",
      "going\n",
      "happen\n",
      "possible\n",
      "realizing\n",
      "---------\n"
     ]
    },
    {
     "data": {
      "text/markdown": [
       "# view"
      ],
      "text/plain": [
       "<IPython.core.display.Markdown object>"
      ]
     },
     "metadata": {},
     "output_type": "display_data"
    },
    {
     "data": {
      "text/markdown": [
       "#### Urban"
      ],
      "text/plain": [
       "<IPython.core.display.Markdown object>"
      ]
     },
     "metadata": {},
     "output_type": "display_data"
    },
    {
     "name": "stdout",
     "output_type": "stream",
     "text": [
      "------------\n",
      "views\n",
      "display\n",
      "image\n",
      "photograph\n",
      "map\n",
      "description\n",
      "landscape\n",
      "intersection\n",
      "portion\n",
      "picture\n",
      "------------\n"
     ]
    },
    {
     "data": {
      "text/markdown": [
       "#### Rural"
      ],
      "text/plain": [
       "<IPython.core.display.Markdown object>"
      ]
     },
     "metadata": {},
     "output_type": "display_data"
    },
    {
     "name": "stdout",
     "output_type": "stream",
     "text": [
      "------------\n",
      "views\n",
      "location\n",
      "element\n",
      "atmosphere\n",
      "mountains\n",
      "neighborhood\n",
      "lakes\n",
      "area\n",
      "beaches\n",
      "haddam\n",
      "------------\n"
     ]
    },
    {
     "data": {
      "text/markdown": [
       "# other"
      ],
      "text/plain": [
       "<IPython.core.display.Markdown object>"
      ]
     },
     "metadata": {},
     "output_type": "display_data"
    },
    {
     "data": {
      "text/markdown": [
       "#### Urban"
      ],
      "text/plain": [
       "<IPython.core.display.Markdown object>"
      ]
     },
     "metadata": {},
     "output_type": "display_data"
    },
    {
     "name": "stdout",
     "output_type": "stream",
     "text": [
      "----------\n",
      "different\n",
      "more\n",
      "diff\n",
      "separate\n",
      "others\n",
      "individual\n",
      "multiple\n",
      "them\n",
      "various\n",
      "ethnic\n",
      "----------\n"
     ]
    },
    {
     "data": {
      "text/markdown": [
       "#### Rural"
      ],
      "text/plain": [
       "<IPython.core.display.Markdown object>"
      ]
     },
     "metadata": {},
     "output_type": "display_data"
    },
    {
     "name": "stdout",
     "output_type": "stream",
     "text": [
      "---------\n",
      "different\n",
      "others\n",
      "more\n",
      "better\n",
      "fewer\n",
      "them\n",
      "othe\n",
      "worse\n",
      "faker\n",
      "multiple\n",
      "---------\n"
     ]
    },
    {
     "data": {
      "text/markdown": [
       "# mid"
      ],
      "text/plain": [
       "<IPython.core.display.Markdown object>"
      ]
     },
     "metadata": {},
     "output_type": "display_data"
    },
    {
     "data": {
      "text/markdown": [
       "#### Urban"
      ],
      "text/plain": [
       "<IPython.core.display.Markdown object>"
      ]
     },
     "metadata": {},
     "output_type": "display_data"
    },
    {
     "name": "stdout",
     "output_type": "stream",
     "text": [
      "------\n",
      "early\n",
      "3rd\n",
      "1st\n",
      "2nd\n",
      "5th\n",
      "during\n",
      "6th\n",
      "7th\n",
      "8th\n",
      "pre\n",
      "------\n"
     ]
    },
    {
     "data": {
      "text/markdown": [
       "#### Rural"
      ],
      "text/plain": [
       "<IPython.core.display.Markdown object>"
      ]
     },
     "metadata": {},
     "output_type": "display_data"
    },
    {
     "name": "stdout",
     "output_type": "stream",
     "text": [
      "---------\n",
      "recap\n",
      "brewster\n",
      "1900\n",
      "2016\n",
      "northwest\n",
      "rises\n",
      "1993\n",
      "2022\n",
      "seventh\n",
      "nov\n",
      "---------\n"
     ]
    }
   ],
   "source": [
    "for token in df.sort_values('score').head(300)['token']:\n",
    "    u, r = compare(token)\n",
    "    display(Markdown(f'# {token}'))\n",
    "    display(Markdown(f'#### Urban'))\n",
    "    print(tabulate(u))\n",
    "    display(Markdown(f'#### Rural'))\n",
    "    print(tabulate(r))"
   ]
  },
  {
   "cell_type": "code",
   "execution_count": null,
   "metadata": {},
   "outputs": [],
   "source": []
  }
 ],
 "metadata": {
  "kernelspec": {
   "display_name": "Python 3",
   "language": "python",
   "name": "python3"
  },
  "language_info": {
   "codemirror_mode": {
    "name": "ipython",
    "version": 3
   },
   "file_extension": ".py",
   "mimetype": "text/x-python",
   "name": "python",
   "nbconvert_exporter": "python",
   "pygments_lexer": "ipython3",
   "version": "3.6.2"
  }
 },
 "nbformat": 4,
 "nbformat_minor": 2
}
