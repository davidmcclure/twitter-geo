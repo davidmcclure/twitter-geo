{
 "cells": [
  {
   "cell_type": "code",
   "execution_count": 1,
   "metadata": {},
   "outputs": [],
   "source": [
    "import ujson\n",
    "import re\n",
    "import pandas as pd\n",
    "\n",
    "from glob import glob\n",
    "from gensim.models.word2vec import Word2Vec\n",
    "from itertools import product\n",
    "from IPython.display import Markdown, display\n",
    "from wordfreq import top_n_list\n",
    "from tqdm import tqdm_notebook\n",
    "from tabulate import tabulate"
   ]
  },
  {
   "cell_type": "code",
   "execution_count": 2,
   "metadata": {},
   "outputs": [],
   "source": [
    "pd.options.display.max_rows = 1000"
   ]
  },
  {
   "cell_type": "code",
   "execution_count": 3,
   "metadata": {},
   "outputs": [],
   "source": [
    "def read_tweets(pattern, fcount=None):\n",
    "    \n",
    "    paths = glob(pattern)\n",
    "    \n",
    "    if fcount:\n",
    "        paths = paths[:fcount]\n",
    "    \n",
    "    tweets = []\n",
    "    for path in paths:\n",
    "        with open(path) as fh:\n",
    "            for line in fh:\n",
    "                \n",
    "                tweet = ujson.loads(line)\n",
    "                text = re.sub('(#|@|http)\\S+', '', tweet['body'])\n",
    "                tokens = re.findall('[a-z0-9]+', text.lower())\n",
    "                tweets.append(tokens)\n",
    "                \n",
    "    return tweets"
   ]
  },
  {
   "cell_type": "code",
   "execution_count": 4,
   "metadata": {},
   "outputs": [],
   "source": [
    "rural = read_tweets('../../data/geo-lt10k.json/*.json', 60)"
   ]
  },
  {
   "cell_type": "code",
   "execution_count": 5,
   "metadata": {},
   "outputs": [],
   "source": [
    "urban = read_tweets('../../data/geo-gt1m.json/*.json', 20)"
   ]
  },
  {
   "cell_type": "code",
   "execution_count": 6,
   "metadata": {},
   "outputs": [
    {
     "data": {
      "text/plain": [
       "11780936"
      ]
     },
     "execution_count": 6,
     "metadata": {},
     "output_type": "execute_result"
    }
   ],
   "source": [
    "len(rural)"
   ]
  },
  {
   "cell_type": "code",
   "execution_count": 7,
   "metadata": {},
   "outputs": [
    {
     "data": {
      "text/plain": [
       "12325982"
      ]
     },
     "execution_count": 7,
     "metadata": {},
     "output_type": "execute_result"
    }
   ],
   "source": [
    "len(urban)"
   ]
  },
  {
   "cell_type": "code",
   "execution_count": 108,
   "metadata": {},
   "outputs": [],
   "source": [
    "rural_model = Word2Vec(rural, min_count=1000, workers=8)"
   ]
  },
  {
   "cell_type": "code",
   "execution_count": 109,
   "metadata": {},
   "outputs": [],
   "source": [
    "urban_model = Word2Vec(urban, min_count=1000, workers=8)"
   ]
  },
  {
   "cell_type": "code",
   "execution_count": 219,
   "metadata": {},
   "outputs": [],
   "source": [
    "rural_model.save('../data/models/rural.bin')"
   ]
  },
  {
   "cell_type": "code",
   "execution_count": 220,
   "metadata": {},
   "outputs": [],
   "source": [
    "urban_model.save('../data/models/urban.bin')"
   ]
  },
  {
   "cell_type": "code",
   "execution_count": 110,
   "metadata": {},
   "outputs": [
    {
     "data": {
      "text/plain": [
       "[('planet', 0.7846516370773315),\n",
       " ('universe', 0.495510071516037),\n",
       " ('purpose', 0.4822278320789337),\n",
       " ('moon', 0.4742686450481415),\n",
       " ('world', 0.4736853539943695),\n",
       " ('alien', 0.47179871797561646),\n",
       " ('species', 0.46059975028038025),\n",
       " ('mars', 0.4551383852958679),\n",
       " ('nature', 0.44583749771118164),\n",
       " ('shining', 0.4440971910953522)]"
      ]
     },
     "execution_count": 110,
     "metadata": {},
     "output_type": "execute_result"
    }
   ],
   "source": [
    "rural_model.most_similar('earth')"
   ]
  },
  {
   "cell_type": "code",
   "execution_count": 111,
   "metadata": {},
   "outputs": [
    {
     "data": {
      "text/plain": [
       "[('planet', 0.7880303859710693),\n",
       " ('darkness', 0.49556586146354675),\n",
       " ('nature', 0.48827022314071655),\n",
       " ('thrive', 0.4876272678375244),\n",
       " ('invisible', 0.48423391580581665),\n",
       " ('heaven', 0.4732300639152527),\n",
       " ('moon', 0.4650537371635437),\n",
       " ('trees', 0.45670124888420105),\n",
       " ('species', 0.45475828647613525),\n",
       " ('christ', 0.451892614364624)]"
      ]
     },
     "execution_count": 111,
     "metadata": {},
     "output_type": "execute_result"
    }
   ],
   "source": [
    "urban_model.most_similar('earth')"
   ]
  },
  {
   "cell_type": "code",
   "execution_count": 112,
   "metadata": {},
   "outputs": [],
   "source": [
    "def score_shift(m1, m2, token, n=10):\n",
    "    \n",
    "    m1_similar = [t for t, _ in m1.most_similar(token, topn=n)]\n",
    "    m2_similar = [t for t, _ in m2.most_similar(token, topn=n)]\n",
    "    \n",
    "    score = 0\n",
    "    for t1, t2 in product(m1_similar, m2_similar):\n",
    "        if t1 in m2 and t2 in m2:\n",
    "            score += m2.similarity(t1, t2)\n",
    "        \n",
    "    return score"
   ]
  },
  {
   "cell_type": "code",
   "execution_count": 201,
   "metadata": {},
   "outputs": [],
   "source": [
    "rural_vocab = set([t for t, v in rural_model.wv.vocab.items() if v.count > 1000])\n",
    "urban_vocab = set([t for t, v in urban_model.wv.vocab.items() if v.count > 1000])"
   ]
  },
  {
   "cell_type": "code",
   "execution_count": 202,
   "metadata": {},
   "outputs": [
    {
     "data": {
      "text/plain": [
       "7011"
      ]
     },
     "execution_count": 202,
     "metadata": {},
     "output_type": "execute_result"
    }
   ],
   "source": [
    "len(rural_vocab)"
   ]
  },
  {
   "cell_type": "code",
   "execution_count": 203,
   "metadata": {
    "scrolled": true
   },
   "outputs": [
    {
     "data": {
      "text/plain": [
       "7774"
      ]
     },
     "execution_count": 203,
     "metadata": {},
     "output_type": "execute_result"
    }
   ],
   "source": [
    "len(urban_vocab)"
   ]
  },
  {
   "cell_type": "code",
   "execution_count": 204,
   "metadata": {},
   "outputs": [],
   "source": [
    "vocab = set.intersection(rural_vocab, urban_vocab)"
   ]
  },
  {
   "cell_type": "code",
   "execution_count": 205,
   "metadata": {
    "scrolled": true
   },
   "outputs": [
    {
     "data": {
      "text/plain": [
       "6552"
      ]
     },
     "execution_count": 205,
     "metadata": {},
     "output_type": "execute_result"
    }
   ],
   "source": [
    "len(vocab)"
   ]
  },
  {
   "cell_type": "code",
   "execution_count": 206,
   "metadata": {
    "scrolled": false
   },
   "outputs": [
    {
     "data": {
      "application/vnd.jupyter.widget-view+json": {
       "model_id": "86b1152bc734440a9b20dec6fc1356ac",
       "version_major": 2,
       "version_minor": 0
      },
      "text/html": [
       "<p>Failed to display Jupyter Widget of type <code>HBox</code>.</p>\n",
       "<p>\n",
       "  If you're reading this message in Jupyter Notebook or JupyterLab, it may mean\n",
       "  that the widgets JavaScript is still loading. If this message persists, it\n",
       "  likely means that the widgets JavaScript library is either not installed or\n",
       "  not enabled. See the <a href=\"https://ipywidgets.readthedocs.io/en/stable/user_install.html\">Jupyter\n",
       "  Widgets Documentation</a> for setup instructions.\n",
       "</p>\n",
       "<p>\n",
       "  If you're reading this message in another notebook frontend (for example, a static\n",
       "  rendering on GitHub or <a href=\"https://nbviewer.jupyter.org/\">NBViewer</a>),\n",
       "  it may mean that your frontend doesn't currently support widgets.\n",
       "</p>\n"
      ],
      "text/plain": [
       "HBox(children=(IntProgress(value=0, max=6552), HTML(value='')))"
      ]
     },
     "metadata": {},
     "output_type": "display_data"
    },
    {
     "name": "stdout",
     "output_type": "stream",
     "text": [
      "\n"
     ]
    }
   ],
   "source": [
    "data = []\n",
    "\n",
    "for token in tqdm_notebook(vocab):\n",
    "    try:\n",
    "        score = score_shift(urban_model, rural_model, token)\n",
    "        data.append((token, score))\n",
    "    except: pass"
   ]
  },
  {
   "cell_type": "code",
   "execution_count": 207,
   "metadata": {},
   "outputs": [],
   "source": [
    "df = pd.DataFrame(data, columns=('token', 'score'))"
   ]
  },
  {
   "cell_type": "code",
   "execution_count": 208,
   "metadata": {
    "scrolled": false
   },
   "outputs": [
    {
     "data": {
      "text/html": [
       "<div>\n",
       "<style>\n",
       "    .dataframe thead tr:only-child th {\n",
       "        text-align: right;\n",
       "    }\n",
       "\n",
       "    .dataframe thead th {\n",
       "        text-align: left;\n",
       "    }\n",
       "\n",
       "    .dataframe tbody tr th {\n",
       "        vertical-align: top;\n",
       "    }\n",
       "</style>\n",
       "<table border=\"1\" class=\"dataframe\">\n",
       "  <thead>\n",
       "    <tr style=\"text-align: right;\">\n",
       "      <th></th>\n",
       "      <th>token</th>\n",
       "      <th>score</th>\n",
       "    </tr>\n",
       "  </thead>\n",
       "  <tbody>\n",
       "    <tr>\n",
       "      <th>3566</th>\n",
       "      <td>js</td>\n",
       "      <td>-0.755771</td>\n",
       "    </tr>\n",
       "    <tr>\n",
       "      <th>5961</th>\n",
       "      <td>bb</td>\n",
       "      <td>-0.184413</td>\n",
       "    </tr>\n",
       "    <tr>\n",
       "      <th>5028</th>\n",
       "      <td>hay</td>\n",
       "      <td>0.000000</td>\n",
       "    </tr>\n",
       "    <tr>\n",
       "      <th>4305</th>\n",
       "      <td>ese</td>\n",
       "      <td>0.000000</td>\n",
       "    </tr>\n",
       "    <tr>\n",
       "      <th>6318</th>\n",
       "      <td>ye</td>\n",
       "      <td>0.688010</td>\n",
       "    </tr>\n",
       "    <tr>\n",
       "      <th>4050</th>\n",
       "      <td>lady</td>\n",
       "      <td>1.000451</td>\n",
       "    </tr>\n",
       "    <tr>\n",
       "      <th>3537</th>\n",
       "      <td>lo</td>\n",
       "      <td>1.521036</td>\n",
       "    </tr>\n",
       "    <tr>\n",
       "      <th>3523</th>\n",
       "      <td>sc</td>\n",
       "      <td>1.563108</td>\n",
       "    </tr>\n",
       "    <tr>\n",
       "      <th>5976</th>\n",
       "      <td>fair</td>\n",
       "      <td>2.445868</td>\n",
       "    </tr>\n",
       "    <tr>\n",
       "      <th>4323</th>\n",
       "      <td>dir</td>\n",
       "      <td>3.298084</td>\n",
       "    </tr>\n",
       "    <tr>\n",
       "      <th>3535</th>\n",
       "      <td>ou</td>\n",
       "      <td>3.656549</td>\n",
       "    </tr>\n",
       "    <tr>\n",
       "      <th>667</th>\n",
       "      <td>mostly</td>\n",
       "      <td>4.540545</td>\n",
       "    </tr>\n",
       "    <tr>\n",
       "      <th>6493</th>\n",
       "      <td>race</td>\n",
       "      <td>4.615573</td>\n",
       "    </tr>\n",
       "    <tr>\n",
       "      <th>5665</th>\n",
       "      <td>track</td>\n",
       "      <td>5.253162</td>\n",
       "    </tr>\n",
       "    <tr>\n",
       "      <th>867</th>\n",
       "      <td>network</td>\n",
       "      <td>5.509127</td>\n",
       "    </tr>\n",
       "    <tr>\n",
       "      <th>3355</th>\n",
       "      <td>rio</td>\n",
       "      <td>5.628240</td>\n",
       "    </tr>\n",
       "    <tr>\n",
       "      <th>1660</th>\n",
       "      <td>ana</td>\n",
       "      <td>5.711811</td>\n",
       "    </tr>\n",
       "    <tr>\n",
       "      <th>3014</th>\n",
       "      <td>mainly</td>\n",
       "      <td>5.778422</td>\n",
       "    </tr>\n",
       "    <tr>\n",
       "      <th>4318</th>\n",
       "      <td>sin</td>\n",
       "      <td>6.020460</td>\n",
       "    </tr>\n",
       "    <tr>\n",
       "      <th>5660</th>\n",
       "      <td>gaga</td>\n",
       "      <td>6.023442</td>\n",
       "    </tr>\n",
       "    <tr>\n",
       "      <th>5874</th>\n",
       "      <td>nd</td>\n",
       "      <td>6.619613</td>\n",
       "    </tr>\n",
       "    <tr>\n",
       "      <th>4162</th>\n",
       "      <td>dub</td>\n",
       "      <td>6.830148</td>\n",
       "    </tr>\n",
       "    <tr>\n",
       "      <th>1588</th>\n",
       "      <td>lt</td>\n",
       "      <td>7.210392</td>\n",
       "    </tr>\n",
       "    <tr>\n",
       "      <th>1767</th>\n",
       "      <td>drama</td>\n",
       "      <td>7.539782</td>\n",
       "    </tr>\n",
       "    <tr>\n",
       "      <th>117</th>\n",
       "      <td>sb</td>\n",
       "      <td>7.800700</td>\n",
       "    </tr>\n",
       "    <tr>\n",
       "      <th>2297</th>\n",
       "      <td>ti</td>\n",
       "      <td>7.915316</td>\n",
       "    </tr>\n",
       "    <tr>\n",
       "      <th>5662</th>\n",
       "      <td>genuine</td>\n",
       "      <td>8.059983</td>\n",
       "    </tr>\n",
       "    <tr>\n",
       "      <th>1160</th>\n",
       "      <td>como</td>\n",
       "      <td>8.243123</td>\n",
       "    </tr>\n",
       "    <tr>\n",
       "      <th>659</th>\n",
       "      <td>tu</td>\n",
       "      <td>8.388668</td>\n",
       "    </tr>\n",
       "    <tr>\n",
       "      <th>4452</th>\n",
       "      <td>pe</td>\n",
       "      <td>8.437799</td>\n",
       "    </tr>\n",
       "    <tr>\n",
       "      <th>5481</th>\n",
       "      <td>nowplaying</td>\n",
       "      <td>8.439356</td>\n",
       "    </tr>\n",
       "    <tr>\n",
       "      <th>4833</th>\n",
       "      <td>ser</td>\n",
       "      <td>8.503518</td>\n",
       "    </tr>\n",
       "    <tr>\n",
       "      <th>1407</th>\n",
       "      <td>bot</td>\n",
       "      <td>8.591891</td>\n",
       "    </tr>\n",
       "    <tr>\n",
       "      <th>4477</th>\n",
       "      <td>directions</td>\n",
       "      <td>8.775681</td>\n",
       "    </tr>\n",
       "    <tr>\n",
       "      <th>2182</th>\n",
       "      <td>mill</td>\n",
       "      <td>8.825623</td>\n",
       "    </tr>\n",
       "    <tr>\n",
       "      <th>1348</th>\n",
       "      <td>yasss</td>\n",
       "      <td>9.599905</td>\n",
       "    </tr>\n",
       "    <tr>\n",
       "      <th>5512</th>\n",
       "      <td>subway</td>\n",
       "      <td>9.751104</td>\n",
       "    </tr>\n",
       "    <tr>\n",
       "      <th>2717</th>\n",
       "      <td>buzz</td>\n",
       "      <td>9.791683</td>\n",
       "    </tr>\n",
       "    <tr>\n",
       "      <th>4821</th>\n",
       "      <td>bts</td>\n",
       "      <td>9.836559</td>\n",
       "    </tr>\n",
       "    <tr>\n",
       "      <th>4728</th>\n",
       "      <td>fe</td>\n",
       "      <td>9.888936</td>\n",
       "    </tr>\n",
       "    <tr>\n",
       "      <th>1729</th>\n",
       "      <td>lana</td>\n",
       "      <td>9.936750</td>\n",
       "    </tr>\n",
       "    <tr>\n",
       "      <th>3546</th>\n",
       "      <td>correction</td>\n",
       "      <td>9.982167</td>\n",
       "    </tr>\n",
       "    <tr>\n",
       "      <th>6480</th>\n",
       "      <td>sos</td>\n",
       "      <td>10.068394</td>\n",
       "    </tr>\n",
       "    <tr>\n",
       "      <th>5556</th>\n",
       "      <td>replacing</td>\n",
       "      <td>10.151883</td>\n",
       "    </tr>\n",
       "    <tr>\n",
       "      <th>3460</th>\n",
       "      <td>flights</td>\n",
       "      <td>10.322850</td>\n",
       "    </tr>\n",
       "    <tr>\n",
       "      <th>6349</th>\n",
       "      <td>lax</td>\n",
       "      <td>10.326562</td>\n",
       "    </tr>\n",
       "    <tr>\n",
       "      <th>5483</th>\n",
       "      <td>clear</td>\n",
       "      <td>10.435197</td>\n",
       "    </tr>\n",
       "    <tr>\n",
       "      <th>1110</th>\n",
       "      <td>montana</td>\n",
       "      <td>10.651555</td>\n",
       "    </tr>\n",
       "    <tr>\n",
       "      <th>3867</th>\n",
       "      <td>forth</td>\n",
       "      <td>10.782595</td>\n",
       "    </tr>\n",
       "    <tr>\n",
       "      <th>3333</th>\n",
       "      <td>ap</td>\n",
       "      <td>10.842536</td>\n",
       "    </tr>\n",
       "    <tr>\n",
       "      <th>2682</th>\n",
       "      <td>hollywood</td>\n",
       "      <td>10.974475</td>\n",
       "    </tr>\n",
       "    <tr>\n",
       "      <th>6422</th>\n",
       "      <td>wo</td>\n",
       "      <td>10.991539</td>\n",
       "    </tr>\n",
       "    <tr>\n",
       "      <th>2850</th>\n",
       "      <td>main</td>\n",
       "      <td>11.124158</td>\n",
       "    </tr>\n",
       "    <tr>\n",
       "      <th>5836</th>\n",
       "      <td>claims</td>\n",
       "      <td>11.355295</td>\n",
       "    </tr>\n",
       "    <tr>\n",
       "      <th>5297</th>\n",
       "      <td>spotted</td>\n",
       "      <td>11.356097</td>\n",
       "    </tr>\n",
       "    <tr>\n",
       "      <th>5979</th>\n",
       "      <td>reminder</td>\n",
       "      <td>11.410927</td>\n",
       "    </tr>\n",
       "    <tr>\n",
       "      <th>2259</th>\n",
       "      <td>dice</td>\n",
       "      <td>11.533097</td>\n",
       "    </tr>\n",
       "    <tr>\n",
       "      <th>3755</th>\n",
       "      <td>ab</td>\n",
       "      <td>11.551291</td>\n",
       "    </tr>\n",
       "    <tr>\n",
       "      <th>3305</th>\n",
       "      <td>shed</td>\n",
       "      <td>11.585826</td>\n",
       "    </tr>\n",
       "    <tr>\n",
       "      <th>730</th>\n",
       "      <td>usual</td>\n",
       "      <td>11.653130</td>\n",
       "    </tr>\n",
       "    <tr>\n",
       "      <th>3404</th>\n",
       "      <td>mls</td>\n",
       "      <td>11.670341</td>\n",
       "    </tr>\n",
       "    <tr>\n",
       "      <th>4205</th>\n",
       "      <td>loop</td>\n",
       "      <td>11.729513</td>\n",
       "    </tr>\n",
       "    <tr>\n",
       "      <th>6402</th>\n",
       "      <td>earning</td>\n",
       "      <td>11.768257</td>\n",
       "    </tr>\n",
       "    <tr>\n",
       "      <th>3291</th>\n",
       "      <td>singles</td>\n",
       "      <td>11.841554</td>\n",
       "    </tr>\n",
       "    <tr>\n",
       "      <th>2028</th>\n",
       "      <td>index</td>\n",
       "      <td>11.865099</td>\n",
       "    </tr>\n",
       "    <tr>\n",
       "      <th>6540</th>\n",
       "      <td>cr</td>\n",
       "      <td>11.888519</td>\n",
       "    </tr>\n",
       "    <tr>\n",
       "      <th>5254</th>\n",
       "      <td>serial</td>\n",
       "      <td>12.080319</td>\n",
       "    </tr>\n",
       "    <tr>\n",
       "      <th>141</th>\n",
       "      <td>ss</td>\n",
       "      <td>12.196111</td>\n",
       "    </tr>\n",
       "    <tr>\n",
       "      <th>4087</th>\n",
       "      <td>traffic</td>\n",
       "      <td>12.230646</td>\n",
       "    </tr>\n",
       "    <tr>\n",
       "      <th>1879</th>\n",
       "      <td>bound</td>\n",
       "      <td>12.485065</td>\n",
       "    </tr>\n",
       "    <tr>\n",
       "      <th>4911</th>\n",
       "      <td>cc</td>\n",
       "      <td>12.568437</td>\n",
       "    </tr>\n",
       "    <tr>\n",
       "      <th>868</th>\n",
       "      <td>meanwhile</td>\n",
       "      <td>12.898886</td>\n",
       "    </tr>\n",
       "    <tr>\n",
       "      <th>3575</th>\n",
       "      <td>pilot</td>\n",
       "      <td>12.996742</td>\n",
       "    </tr>\n",
       "    <tr>\n",
       "      <th>3493</th>\n",
       "      <td>trending</td>\n",
       "      <td>13.009111</td>\n",
       "    </tr>\n",
       "    <tr>\n",
       "      <th>2368</th>\n",
       "      <td>ma</td>\n",
       "      <td>13.074635</td>\n",
       "    </tr>\n",
       "    <tr>\n",
       "      <th>499</th>\n",
       "      <td>beats</td>\n",
       "      <td>13.148538</td>\n",
       "    </tr>\n",
       "    <tr>\n",
       "      <th>1666</th>\n",
       "      <td>bi</td>\n",
       "      <td>13.185558</td>\n",
       "    </tr>\n",
       "    <tr>\n",
       "      <th>2638</th>\n",
       "      <td>tb</td>\n",
       "      <td>13.600474</td>\n",
       "    </tr>\n",
       "    <tr>\n",
       "      <th>959</th>\n",
       "      <td>plain</td>\n",
       "      <td>13.601135</td>\n",
       "    </tr>\n",
       "    <tr>\n",
       "      <th>4610</th>\n",
       "      <td>acc</td>\n",
       "      <td>13.754343</td>\n",
       "    </tr>\n",
       "    <tr>\n",
       "      <th>5100</th>\n",
       "      <td>trading</td>\n",
       "      <td>13.853180</td>\n",
       "    </tr>\n",
       "    <tr>\n",
       "      <th>4589</th>\n",
       "      <td>radar</td>\n",
       "      <td>13.952624</td>\n",
       "    </tr>\n",
       "    <tr>\n",
       "      <th>3214</th>\n",
       "      <td>fu</td>\n",
       "      <td>14.254349</td>\n",
       "    </tr>\n",
       "    <tr>\n",
       "      <th>4560</th>\n",
       "      <td>highly</td>\n",
       "      <td>14.263661</td>\n",
       "    </tr>\n",
       "    <tr>\n",
       "      <th>110</th>\n",
       "      <td>viral</td>\n",
       "      <td>14.290237</td>\n",
       "    </tr>\n",
       "    <tr>\n",
       "      <th>5676</th>\n",
       "      <td>overnight</td>\n",
       "      <td>14.291432</td>\n",
       "    </tr>\n",
       "    <tr>\n",
       "      <th>3641</th>\n",
       "      <td>folk</td>\n",
       "      <td>14.357882</td>\n",
       "    </tr>\n",
       "    <tr>\n",
       "      <th>4466</th>\n",
       "      <td>2x</td>\n",
       "      <td>14.386968</td>\n",
       "    </tr>\n",
       "    <tr>\n",
       "      <th>6101</th>\n",
       "      <td>single</td>\n",
       "      <td>14.501025</td>\n",
       "    </tr>\n",
       "    <tr>\n",
       "      <th>4684</th>\n",
       "      <td>mansion</td>\n",
       "      <td>14.506759</td>\n",
       "    </tr>\n",
       "    <tr>\n",
       "      <th>1716</th>\n",
       "      <td>traveled</td>\n",
       "      <td>14.513559</td>\n",
       "    </tr>\n",
       "    <tr>\n",
       "      <th>1676</th>\n",
       "      <td>tackle</td>\n",
       "      <td>14.528151</td>\n",
       "    </tr>\n",
       "    <tr>\n",
       "      <th>2078</th>\n",
       "      <td>par</td>\n",
       "      <td>14.627804</td>\n",
       "    </tr>\n",
       "    <tr>\n",
       "      <th>3321</th>\n",
       "      <td>banks</td>\n",
       "      <td>14.680054</td>\n",
       "    </tr>\n",
       "    <tr>\n",
       "      <th>1506</th>\n",
       "      <td>surprise</td>\n",
       "      <td>14.695857</td>\n",
       "    </tr>\n",
       "    <tr>\n",
       "      <th>5427</th>\n",
       "      <td>holy</td>\n",
       "      <td>14.962802</td>\n",
       "    </tr>\n",
       "    <tr>\n",
       "      <th>2800</th>\n",
       "      <td>incident</td>\n",
       "      <td>14.985505</td>\n",
       "    </tr>\n",
       "    <tr>\n",
       "      <th>4866</th>\n",
       "      <td>accent</td>\n",
       "      <td>15.003614</td>\n",
       "    </tr>\n",
       "    <tr>\n",
       "      <th>6544</th>\n",
       "      <td>homecoming</td>\n",
       "      <td>15.128209</td>\n",
       "    </tr>\n",
       "    <tr>\n",
       "      <th>2552</th>\n",
       "      <td>flex</td>\n",
       "      <td>15.152999</td>\n",
       "    </tr>\n",
       "    <tr>\n",
       "      <th>3435</th>\n",
       "      <td>ps</td>\n",
       "      <td>15.181606</td>\n",
       "    </tr>\n",
       "    <tr>\n",
       "      <th>5147</th>\n",
       "      <td>rt</td>\n",
       "      <td>15.190822</td>\n",
       "    </tr>\n",
       "    <tr>\n",
       "      <th>1560</th>\n",
       "      <td>drum</td>\n",
       "      <td>15.230913</td>\n",
       "    </tr>\n",
       "    <tr>\n",
       "      <th>4331</th>\n",
       "      <td>trick</td>\n",
       "      <td>15.302678</td>\n",
       "    </tr>\n",
       "    <tr>\n",
       "      <th>4441</th>\n",
       "      <td>timing</td>\n",
       "      <td>15.303004</td>\n",
       "    </tr>\n",
       "    <tr>\n",
       "      <th>3532</th>\n",
       "      <td>underground</td>\n",
       "      <td>15.659593</td>\n",
       "    </tr>\n",
       "    <tr>\n",
       "      <th>3534</th>\n",
       "      <td>int</td>\n",
       "      <td>15.785324</td>\n",
       "    </tr>\n",
       "    <tr>\n",
       "      <th>3218</th>\n",
       "      <td>button</td>\n",
       "      <td>15.848566</td>\n",
       "    </tr>\n",
       "    <tr>\n",
       "      <th>6023</th>\n",
       "      <td>dia</td>\n",
       "      <td>15.877750</td>\n",
       "    </tr>\n",
       "    <tr>\n",
       "      <th>1989</th>\n",
       "      <td>cleared</td>\n",
       "      <td>15.882502</td>\n",
       "    </tr>\n",
       "    <tr>\n",
       "      <th>1820</th>\n",
       "      <td>una</td>\n",
       "      <td>15.892544</td>\n",
       "    </tr>\n",
       "    <tr>\n",
       "      <th>3374</th>\n",
       "      <td>net</td>\n",
       "      <td>15.910007</td>\n",
       "    </tr>\n",
       "    <tr>\n",
       "      <th>543</th>\n",
       "      <td>readers</td>\n",
       "      <td>15.948363</td>\n",
       "    </tr>\n",
       "    <tr>\n",
       "      <th>370</th>\n",
       "      <td>pressure</td>\n",
       "      <td>15.969106</td>\n",
       "    </tr>\n",
       "    <tr>\n",
       "      <th>4443</th>\n",
       "      <td>newspaper</td>\n",
       "      <td>15.973715</td>\n",
       "    </tr>\n",
       "    <tr>\n",
       "      <th>5522</th>\n",
       "      <td>delay</td>\n",
       "      <td>15.995774</td>\n",
       "    </tr>\n",
       "    <tr>\n",
       "      <th>1823</th>\n",
       "      <td>mix</td>\n",
       "      <td>16.020746</td>\n",
       "    </tr>\n",
       "    <tr>\n",
       "      <th>2100</th>\n",
       "      <td>female</td>\n",
       "      <td>16.028267</td>\n",
       "    </tr>\n",
       "    <tr>\n",
       "      <th>163</th>\n",
       "      <td>joint</td>\n",
       "      <td>16.217711</td>\n",
       "    </tr>\n",
       "    <tr>\n",
       "      <th>5102</th>\n",
       "      <td>removing</td>\n",
       "      <td>16.265861</td>\n",
       "    </tr>\n",
       "    <tr>\n",
       "      <th>6251</th>\n",
       "      <td>trey</td>\n",
       "      <td>16.266036</td>\n",
       "    </tr>\n",
       "    <tr>\n",
       "      <th>1617</th>\n",
       "      <td>rocky</td>\n",
       "      <td>16.317543</td>\n",
       "    </tr>\n",
       "    <tr>\n",
       "      <th>639</th>\n",
       "      <td>backs</td>\n",
       "      <td>16.375365</td>\n",
       "    </tr>\n",
       "    <tr>\n",
       "      <th>1748</th>\n",
       "      <td>registered</td>\n",
       "      <td>16.378421</td>\n",
       "    </tr>\n",
       "    <tr>\n",
       "      <th>6474</th>\n",
       "      <td>actual</td>\n",
       "      <td>16.457734</td>\n",
       "    </tr>\n",
       "    <tr>\n",
       "      <th>5253</th>\n",
       "      <td>slowly</td>\n",
       "      <td>16.506005</td>\n",
       "    </tr>\n",
       "    <tr>\n",
       "      <th>5269</th>\n",
       "      <td>editing</td>\n",
       "      <td>16.515042</td>\n",
       "    </tr>\n",
       "    <tr>\n",
       "      <th>2440</th>\n",
       "      <td>potter</td>\n",
       "      <td>16.556177</td>\n",
       "    </tr>\n",
       "    <tr>\n",
       "      <th>2166</th>\n",
       "      <td>gen</td>\n",
       "      <td>16.596131</td>\n",
       "    </tr>\n",
       "    <tr>\n",
       "      <th>5965</th>\n",
       "      <td>wave</td>\n",
       "      <td>16.604178</td>\n",
       "    </tr>\n",
       "    <tr>\n",
       "      <th>4003</th>\n",
       "      <td>pero</td>\n",
       "      <td>16.616604</td>\n",
       "    </tr>\n",
       "    <tr>\n",
       "      <th>1329</th>\n",
       "      <td>ay</td>\n",
       "      <td>16.770539</td>\n",
       "    </tr>\n",
       "    <tr>\n",
       "      <th>1091</th>\n",
       "      <td>cha</td>\n",
       "      <td>16.794742</td>\n",
       "    </tr>\n",
       "    <tr>\n",
       "      <th>1130</th>\n",
       "      <td>tank</td>\n",
       "      <td>16.794912</td>\n",
       "    </tr>\n",
       "    <tr>\n",
       "      <th>5669</th>\n",
       "      <td>cam</td>\n",
       "      <td>16.839832</td>\n",
       "    </tr>\n",
       "    <tr>\n",
       "      <th>5723</th>\n",
       "      <td>mi</td>\n",
       "      <td>16.853916</td>\n",
       "    </tr>\n",
       "    <tr>\n",
       "      <th>5957</th>\n",
       "      <td>remains</td>\n",
       "      <td>16.867648</td>\n",
       "    </tr>\n",
       "    <tr>\n",
       "      <th>5474</th>\n",
       "      <td>comp</td>\n",
       "      <td>16.962847</td>\n",
       "    </tr>\n",
       "    <tr>\n",
       "      <th>251</th>\n",
       "      <td>90s</td>\n",
       "      <td>17.135392</td>\n",
       "    </tr>\n",
       "    <tr>\n",
       "      <th>1894</th>\n",
       "      <td>rising</td>\n",
       "      <td>17.158084</td>\n",
       "    </tr>\n",
       "    <tr>\n",
       "      <th>6237</th>\n",
       "      <td>furious</td>\n",
       "      <td>17.269001</td>\n",
       "    </tr>\n",
       "    <tr>\n",
       "      <th>1926</th>\n",
       "      <td>virtual</td>\n",
       "      <td>17.277689</td>\n",
       "    </tr>\n",
       "    <tr>\n",
       "      <th>4089</th>\n",
       "      <td>rumors</td>\n",
       "      <td>17.363504</td>\n",
       "    </tr>\n",
       "    <tr>\n",
       "      <th>2470</th>\n",
       "      <td>injury</td>\n",
       "      <td>17.387116</td>\n",
       "    </tr>\n",
       "    <tr>\n",
       "      <th>1439</th>\n",
       "      <td>male</td>\n",
       "      <td>17.469829</td>\n",
       "    </tr>\n",
       "    <tr>\n",
       "      <th>3965</th>\n",
       "      <td>escape</td>\n",
       "      <td>17.486978</td>\n",
       "    </tr>\n",
       "    <tr>\n",
       "      <th>6154</th>\n",
       "      <td>angels</td>\n",
       "      <td>17.498459</td>\n",
       "    </tr>\n",
       "    <tr>\n",
       "      <th>5468</th>\n",
       "      <td>alpha</td>\n",
       "      <td>17.589451</td>\n",
       "    </tr>\n",
       "    <tr>\n",
       "      <th>4616</th>\n",
       "      <td>sr</td>\n",
       "      <td>17.599617</td>\n",
       "    </tr>\n",
       "    <tr>\n",
       "      <th>4514</th>\n",
       "      <td>least</td>\n",
       "      <td>17.626863</td>\n",
       "    </tr>\n",
       "    <tr>\n",
       "      <th>5743</th>\n",
       "      <td>carpet</td>\n",
       "      <td>17.773745</td>\n",
       "    </tr>\n",
       "    <tr>\n",
       "      <th>5630</th>\n",
       "      <td>responsible</td>\n",
       "      <td>17.783404</td>\n",
       "    </tr>\n",
       "    <tr>\n",
       "      <th>2730</th>\n",
       "      <td>tracks</td>\n",
       "      <td>17.868550</td>\n",
       "    </tr>\n",
       "    <tr>\n",
       "      <th>1920</th>\n",
       "      <td>reaction</td>\n",
       "      <td>17.870044</td>\n",
       "    </tr>\n",
       "    <tr>\n",
       "      <th>1077</th>\n",
       "      <td>gee</td>\n",
       "      <td>17.904490</td>\n",
       "    </tr>\n",
       "    <tr>\n",
       "      <th>2264</th>\n",
       "      <td>jordan</td>\n",
       "      <td>17.940720</td>\n",
       "    </tr>\n",
       "    <tr>\n",
       "      <th>1689</th>\n",
       "      <td>woo</td>\n",
       "      <td>17.953095</td>\n",
       "    </tr>\n",
       "    <tr>\n",
       "      <th>5156</th>\n",
       "      <td>dam</td>\n",
       "      <td>17.960037</td>\n",
       "    </tr>\n",
       "    <tr>\n",
       "      <th>3289</th>\n",
       "      <td>fa</td>\n",
       "      <td>17.970030</td>\n",
       "    </tr>\n",
       "    <tr>\n",
       "      <th>2395</th>\n",
       "      <td>hoop</td>\n",
       "      <td>18.001494</td>\n",
       "    </tr>\n",
       "    <tr>\n",
       "      <th>3889</th>\n",
       "      <td>highest</td>\n",
       "      <td>18.044330</td>\n",
       "    </tr>\n",
       "    <tr>\n",
       "      <th>3034</th>\n",
       "      <td>dash</td>\n",
       "      <td>18.072849</td>\n",
       "    </tr>\n",
       "    <tr>\n",
       "      <th>2892</th>\n",
       "      <td>stranger</td>\n",
       "      <td>18.100953</td>\n",
       "    </tr>\n",
       "    <tr>\n",
       "      <th>2372</th>\n",
       "      <td>theft</td>\n",
       "      <td>18.146487</td>\n",
       "    </tr>\n",
       "    <tr>\n",
       "      <th>3162</th>\n",
       "      <td>appreciated</td>\n",
       "      <td>18.156847</td>\n",
       "    </tr>\n",
       "    <tr>\n",
       "      <th>3974</th>\n",
       "      <td>fi</td>\n",
       "      <td>18.198137</td>\n",
       "    </tr>\n",
       "    <tr>\n",
       "      <th>3997</th>\n",
       "      <td>fortune</td>\n",
       "      <td>18.232844</td>\n",
       "    </tr>\n",
       "    <tr>\n",
       "      <th>4153</th>\n",
       "      <td>ole</td>\n",
       "      <td>18.236686</td>\n",
       "    </tr>\n",
       "    <tr>\n",
       "      <th>1154</th>\n",
       "      <td>spelled</td>\n",
       "      <td>18.244770</td>\n",
       "    </tr>\n",
       "    <tr>\n",
       "      <th>671</th>\n",
       "      <td>responding</td>\n",
       "      <td>18.402993</td>\n",
       "    </tr>\n",
       "    <tr>\n",
       "      <th>6065</th>\n",
       "      <td>category</td>\n",
       "      <td>18.407915</td>\n",
       "    </tr>\n",
       "    <tr>\n",
       "      <th>2299</th>\n",
       "      <td>faced</td>\n",
       "      <td>18.477654</td>\n",
       "    </tr>\n",
       "    <tr>\n",
       "      <th>3117</th>\n",
       "      <td>og</td>\n",
       "      <td>18.525994</td>\n",
       "    </tr>\n",
       "    <tr>\n",
       "      <th>2290</th>\n",
       "      <td>dozen</td>\n",
       "      <td>18.564983</td>\n",
       "    </tr>\n",
       "    <tr>\n",
       "      <th>3267</th>\n",
       "      <td>buyer</td>\n",
       "      <td>18.609233</td>\n",
       "    </tr>\n",
       "    <tr>\n",
       "      <th>6340</th>\n",
       "      <td>concept</td>\n",
       "      <td>18.626721</td>\n",
       "    </tr>\n",
       "    <tr>\n",
       "      <th>3386</th>\n",
       "      <td>recently</td>\n",
       "      <td>18.739802</td>\n",
       "    </tr>\n",
       "    <tr>\n",
       "      <th>200</th>\n",
       "      <td>application</td>\n",
       "      <td>18.779988</td>\n",
       "    </tr>\n",
       "    <tr>\n",
       "      <th>4808</th>\n",
       "      <td>reviews</td>\n",
       "      <td>18.803970</td>\n",
       "    </tr>\n",
       "    <tr>\n",
       "      <th>5019</th>\n",
       "      <td>rihanna</td>\n",
       "      <td>18.866584</td>\n",
       "    </tr>\n",
       "    <tr>\n",
       "      <th>4575</th>\n",
       "      <td>vibe</td>\n",
       "      <td>18.881829</td>\n",
       "    </tr>\n",
       "    <tr>\n",
       "      <th>4809</th>\n",
       "      <td>travels</td>\n",
       "      <td>18.915161</td>\n",
       "    </tr>\n",
       "    <tr>\n",
       "      <th>5043</th>\n",
       "      <td>patch</td>\n",
       "      <td>18.996301</td>\n",
       "    </tr>\n",
       "    <tr>\n",
       "      <th>5477</th>\n",
       "      <td>chart</td>\n",
       "      <td>19.003654</td>\n",
       "    </tr>\n",
       "    <tr>\n",
       "      <th>3055</th>\n",
       "      <td>rip</td>\n",
       "      <td>19.054263</td>\n",
       "    </tr>\n",
       "    <tr>\n",
       "      <th>4351</th>\n",
       "      <td>transition</td>\n",
       "      <td>19.066714</td>\n",
       "    </tr>\n",
       "    <tr>\n",
       "      <th>3166</th>\n",
       "      <td>acts</td>\n",
       "      <td>19.151771</td>\n",
       "    </tr>\n",
       "    <tr>\n",
       "      <th>5045</th>\n",
       "      <td>virgin</td>\n",
       "      <td>19.186419</td>\n",
       "    </tr>\n",
       "    <tr>\n",
       "      <th>2217</th>\n",
       "      <td>train</td>\n",
       "      <td>19.217719</td>\n",
       "    </tr>\n",
       "    <tr>\n",
       "      <th>454</th>\n",
       "      <td>bieber</td>\n",
       "      <td>19.272825</td>\n",
       "    </tr>\n",
       "    <tr>\n",
       "      <th>2020</th>\n",
       "      <td>top</td>\n",
       "      <td>19.309927</td>\n",
       "    </tr>\n",
       "    <tr>\n",
       "      <th>1665</th>\n",
       "      <td>moves</td>\n",
       "      <td>19.372246</td>\n",
       "    </tr>\n",
       "    <tr>\n",
       "      <th>722</th>\n",
       "      <td>sprint</td>\n",
       "      <td>19.547937</td>\n",
       "    </tr>\n",
       "    <tr>\n",
       "      <th>3768</th>\n",
       "      <td>here</td>\n",
       "      <td>19.556490</td>\n",
       "    </tr>\n",
       "    <tr>\n",
       "      <th>2283</th>\n",
       "      <td>cmon</td>\n",
       "      <td>19.566785</td>\n",
       "    </tr>\n",
       "    <tr>\n",
       "      <th>4377</th>\n",
       "      <td>deserved</td>\n",
       "      <td>19.577572</td>\n",
       "    </tr>\n",
       "    <tr>\n",
       "      <th>3433</th>\n",
       "      <td>reported</td>\n",
       "      <td>19.609779</td>\n",
       "    </tr>\n",
       "    <tr>\n",
       "      <th>2067</th>\n",
       "      <td>professional</td>\n",
       "      <td>19.650890</td>\n",
       "    </tr>\n",
       "    <tr>\n",
       "      <th>3343</th>\n",
       "      <td>aged</td>\n",
       "      <td>19.676096</td>\n",
       "    </tr>\n",
       "    <tr>\n",
       "      <th>2379</th>\n",
       "      <td>tracked</td>\n",
       "      <td>19.696442</td>\n",
       "    </tr>\n",
       "    <tr>\n",
       "      <th>3650</th>\n",
       "      <td>oscar</td>\n",
       "      <td>19.709066</td>\n",
       "    </tr>\n",
       "    <tr>\n",
       "      <th>4229</th>\n",
       "      <td>effect</td>\n",
       "      <td>19.845168</td>\n",
       "    </tr>\n",
       "    <tr>\n",
       "      <th>5352</th>\n",
       "      <td>twins</td>\n",
       "      <td>19.877660</td>\n",
       "    </tr>\n",
       "    <tr>\n",
       "      <th>3944</th>\n",
       "      <td>bid</td>\n",
       "      <td>19.884139</td>\n",
       "    </tr>\n",
       "    <tr>\n",
       "      <th>5237</th>\n",
       "      <td>volume</td>\n",
       "      <td>19.888317</td>\n",
       "    </tr>\n",
       "    <tr>\n",
       "      <th>2508</th>\n",
       "      <td>courtesy</td>\n",
       "      <td>19.902849</td>\n",
       "    </tr>\n",
       "    <tr>\n",
       "      <th>2097</th>\n",
       "      <td>crunch</td>\n",
       "      <td>19.955692</td>\n",
       "    </tr>\n",
       "    <tr>\n",
       "      <th>2209</th>\n",
       "      <td>patiently</td>\n",
       "      <td>19.989988</td>\n",
       "    </tr>\n",
       "    <tr>\n",
       "      <th>2389</th>\n",
       "      <td>lottery</td>\n",
       "      <td>20.006463</td>\n",
       "    </tr>\n",
       "    <tr>\n",
       "      <th>893</th>\n",
       "      <td>tribe</td>\n",
       "      <td>20.074595</td>\n",
       "    </tr>\n",
       "    <tr>\n",
       "      <th>888</th>\n",
       "      <td>discussing</td>\n",
       "      <td>20.080080</td>\n",
       "    </tr>\n",
       "    <tr>\n",
       "      <th>2805</th>\n",
       "      <td>celebrity</td>\n",
       "      <td>20.084212</td>\n",
       "    </tr>\n",
       "    <tr>\n",
       "      <th>94</th>\n",
       "      <td>local</td>\n",
       "      <td>20.102160</td>\n",
       "    </tr>\n",
       "    <tr>\n",
       "      <th>2864</th>\n",
       "      <td>twisted</td>\n",
       "      <td>20.107781</td>\n",
       "    </tr>\n",
       "    <tr>\n",
       "      <th>5618</th>\n",
       "      <td>slightly</td>\n",
       "      <td>20.131468</td>\n",
       "    </tr>\n",
       "    <tr>\n",
       "      <th>5141</th>\n",
       "      <td>ours</td>\n",
       "      <td>20.152721</td>\n",
       "    </tr>\n",
       "    <tr>\n",
       "      <th>204</th>\n",
       "      <td>distance</td>\n",
       "      <td>20.195932</td>\n",
       "    </tr>\n",
       "    <tr>\n",
       "      <th>3194</th>\n",
       "      <td>unit</td>\n",
       "      <td>20.223864</td>\n",
       "    </tr>\n",
       "    <tr>\n",
       "      <th>4761</th>\n",
       "      <td>expert</td>\n",
       "      <td>20.249309</td>\n",
       "    </tr>\n",
       "    <tr>\n",
       "      <th>4668</th>\n",
       "      <td>flash</td>\n",
       "      <td>20.299907</td>\n",
       "    </tr>\n",
       "    <tr>\n",
       "      <th>795</th>\n",
       "      <td>strongly</td>\n",
       "      <td>20.308334</td>\n",
       "    </tr>\n",
       "    <tr>\n",
       "      <th>777</th>\n",
       "      <td>age</td>\n",
       "      <td>20.318397</td>\n",
       "    </tr>\n",
       "    <tr>\n",
       "      <th>4206</th>\n",
       "      <td>dee</td>\n",
       "      <td>20.319828</td>\n",
       "    </tr>\n",
       "    <tr>\n",
       "      <th>4141</th>\n",
       "      <td>hoo</td>\n",
       "      <td>20.328218</td>\n",
       "    </tr>\n",
       "    <tr>\n",
       "      <th>2401</th>\n",
       "      <td>santa</td>\n",
       "      <td>20.352857</td>\n",
       "    </tr>\n",
       "    <tr>\n",
       "      <th>417</th>\n",
       "      <td>accidentally</td>\n",
       "      <td>20.355475</td>\n",
       "    </tr>\n",
       "    <tr>\n",
       "      <th>6496</th>\n",
       "      <td>locker</td>\n",
       "      <td>20.374480</td>\n",
       "    </tr>\n",
       "    <tr>\n",
       "      <th>1198</th>\n",
       "      <td>ing</td>\n",
       "      <td>20.399148</td>\n",
       "    </tr>\n",
       "    <tr>\n",
       "      <th>2507</th>\n",
       "      <td>urban</td>\n",
       "      <td>20.401584</td>\n",
       "    </tr>\n",
       "    <tr>\n",
       "      <th>5390</th>\n",
       "      <td>award</td>\n",
       "      <td>20.421315</td>\n",
       "    </tr>\n",
       "    <tr>\n",
       "      <th>374</th>\n",
       "      <td>automatically</td>\n",
       "      <td>20.460862</td>\n",
       "    </tr>\n",
       "    <tr>\n",
       "      <th>4064</th>\n",
       "      <td>report</td>\n",
       "      <td>20.477661</td>\n",
       "    </tr>\n",
       "    <tr>\n",
       "      <th>1374</th>\n",
       "      <td>vine</td>\n",
       "      <td>20.494153</td>\n",
       "    </tr>\n",
       "    <tr>\n",
       "      <th>3826</th>\n",
       "      <td>hi</td>\n",
       "      <td>20.502519</td>\n",
       "    </tr>\n",
       "    <tr>\n",
       "      <th>3161</th>\n",
       "      <td>prime</td>\n",
       "      <td>20.537580</td>\n",
       "    </tr>\n",
       "    <tr>\n",
       "      <th>1474</th>\n",
       "      <td>wild</td>\n",
       "      <td>20.565455</td>\n",
       "    </tr>\n",
       "    <tr>\n",
       "      <th>4747</th>\n",
       "      <td>artists</td>\n",
       "      <td>20.571818</td>\n",
       "    </tr>\n",
       "    <tr>\n",
       "      <th>1699</th>\n",
       "      <td>significant</td>\n",
       "      <td>20.586056</td>\n",
       "    </tr>\n",
       "    <tr>\n",
       "      <th>1567</th>\n",
       "      <td>especially</td>\n",
       "      <td>20.612064</td>\n",
       "    </tr>\n",
       "    <tr>\n",
       "      <th>6144</th>\n",
       "      <td>upper</td>\n",
       "      <td>20.613607</td>\n",
       "    </tr>\n",
       "    <tr>\n",
       "      <th>4683</th>\n",
       "      <td>due</td>\n",
       "      <td>20.684416</td>\n",
       "    </tr>\n",
       "    <tr>\n",
       "      <th>3948</th>\n",
       "      <td>guard</td>\n",
       "      <td>20.718716</td>\n",
       "    </tr>\n",
       "    <tr>\n",
       "      <th>6271</th>\n",
       "      <td>turkey</td>\n",
       "      <td>20.730952</td>\n",
       "    </tr>\n",
       "    <tr>\n",
       "      <th>2807</th>\n",
       "      <td>becoming</td>\n",
       "      <td>20.732225</td>\n",
       "    </tr>\n",
       "    <tr>\n",
       "      <th>2168</th>\n",
       "      <td>stage</td>\n",
       "      <td>20.765404</td>\n",
       "    </tr>\n",
       "    <tr>\n",
       "      <th>2059</th>\n",
       "      <td>gig</td>\n",
       "      <td>20.788611</td>\n",
       "    </tr>\n",
       "    <tr>\n",
       "      <th>3634</th>\n",
       "      <td>repeat</td>\n",
       "      <td>20.809856</td>\n",
       "    </tr>\n",
       "    <tr>\n",
       "      <th>1276</th>\n",
       "      <td>editor</td>\n",
       "      <td>20.820356</td>\n",
       "    </tr>\n",
       "    <tr>\n",
       "      <th>2846</th>\n",
       "      <td>collective</td>\n",
       "      <td>20.824798</td>\n",
       "    </tr>\n",
       "    <tr>\n",
       "      <th>4375</th>\n",
       "      <td>gentlemen</td>\n",
       "      <td>20.856136</td>\n",
       "    </tr>\n",
       "    <tr>\n",
       "      <th>5136</th>\n",
       "      <td>alert</td>\n",
       "      <td>20.884539</td>\n",
       "    </tr>\n",
       "    <tr>\n",
       "      <th>1415</th>\n",
       "      <td>boys</td>\n",
       "      <td>20.940708</td>\n",
       "    </tr>\n",
       "    <tr>\n",
       "      <th>2255</th>\n",
       "      <td>cheer</td>\n",
       "      <td>20.985507</td>\n",
       "    </tr>\n",
       "    <tr>\n",
       "      <th>2955</th>\n",
       "      <td>abt</td>\n",
       "      <td>21.035575</td>\n",
       "    </tr>\n",
       "    <tr>\n",
       "      <th>3147</th>\n",
       "      <td>depth</td>\n",
       "      <td>21.061146</td>\n",
       "    </tr>\n",
       "    <tr>\n",
       "      <th>2430</th>\n",
       "      <td>bliss</td>\n",
       "      <td>21.081759</td>\n",
       "    </tr>\n",
       "    <tr>\n",
       "      <th>6497</th>\n",
       "      <td>waters</td>\n",
       "      <td>21.082948</td>\n",
       "    </tr>\n",
       "    <tr>\n",
       "      <th>1966</th>\n",
       "      <td>bruno</td>\n",
       "      <td>21.092526</td>\n",
       "    </tr>\n",
       "    <tr>\n",
       "      <th>4286</th>\n",
       "      <td>ho</td>\n",
       "      <td>21.094915</td>\n",
       "    </tr>\n",
       "    <tr>\n",
       "      <th>5330</th>\n",
       "      <td>bond</td>\n",
       "      <td>21.096253</td>\n",
       "    </tr>\n",
       "    <tr>\n",
       "      <th>802</th>\n",
       "      <td>witness</td>\n",
       "      <td>21.120801</td>\n",
       "    </tr>\n",
       "    <tr>\n",
       "      <th>5130</th>\n",
       "      <td>resident</td>\n",
       "      <td>21.126967</td>\n",
       "    </tr>\n",
       "    <tr>\n",
       "      <th>2253</th>\n",
       "      <td>specifically</td>\n",
       "      <td>21.127825</td>\n",
       "    </tr>\n",
       "    <tr>\n",
       "      <th>3981</th>\n",
       "      <td>according</td>\n",
       "      <td>21.134111</td>\n",
       "    </tr>\n",
       "    <tr>\n",
       "      <th>6291</th>\n",
       "      <td>marks</td>\n",
       "      <td>21.165584</td>\n",
       "    </tr>\n",
       "    <tr>\n",
       "      <th>4115</th>\n",
       "      <td>80s</td>\n",
       "      <td>21.195845</td>\n",
       "    </tr>\n",
       "    <tr>\n",
       "      <th>1219</th>\n",
       "      <td>tracking</td>\n",
       "      <td>21.229700</td>\n",
       "    </tr>\n",
       "    <tr>\n",
       "      <th>6337</th>\n",
       "      <td>nicely</td>\n",
       "      <td>21.265569</td>\n",
       "    </tr>\n",
       "    <tr>\n",
       "      <th>2937</th>\n",
       "      <td>credits</td>\n",
       "      <td>21.266573</td>\n",
       "    </tr>\n",
       "    <tr>\n",
       "      <th>2628</th>\n",
       "      <td>station</td>\n",
       "      <td>21.302807</td>\n",
       "    </tr>\n",
       "    <tr>\n",
       "      <th>2896</th>\n",
       "      <td>das</td>\n",
       "      <td>21.307564</td>\n",
       "    </tr>\n",
       "    <tr>\n",
       "      <th>1</th>\n",
       "      <td>f</td>\n",
       "      <td>21.324619</td>\n",
       "    </tr>\n",
       "    <tr>\n",
       "      <th>1542</th>\n",
       "      <td>route</td>\n",
       "      <td>21.327222</td>\n",
       "    </tr>\n",
       "    <tr>\n",
       "      <th>3870</th>\n",
       "      <td>prospects</td>\n",
       "      <td>21.354916</td>\n",
       "    </tr>\n",
       "    <tr>\n",
       "      <th>1410</th>\n",
       "      <td>swift</td>\n",
       "      <td>21.358803</td>\n",
       "    </tr>\n",
       "    <tr>\n",
       "      <th>6511</th>\n",
       "      <td>wolf</td>\n",
       "      <td>21.364567</td>\n",
       "    </tr>\n",
       "    <tr>\n",
       "      <th>2383</th>\n",
       "      <td>brief</td>\n",
       "      <td>21.369594</td>\n",
       "    </tr>\n",
       "    <tr>\n",
       "      <th>1777</th>\n",
       "      <td>dentist</td>\n",
       "      <td>21.385828</td>\n",
       "    </tr>\n",
       "    <tr>\n",
       "      <th>2312</th>\n",
       "      <td>accident</td>\n",
       "      <td>21.442329</td>\n",
       "    </tr>\n",
       "    <tr>\n",
       "      <th>866</th>\n",
       "      <td>nerd</td>\n",
       "      <td>21.459651</td>\n",
       "    </tr>\n",
       "    <tr>\n",
       "      <th>1757</th>\n",
       "      <td>now</td>\n",
       "      <td>21.466838</td>\n",
       "    </tr>\n",
       "    <tr>\n",
       "      <th>1108</th>\n",
       "      <td>fire</td>\n",
       "      <td>21.488540</td>\n",
       "    </tr>\n",
       "    <tr>\n",
       "      <th>2668</th>\n",
       "      <td>conditions</td>\n",
       "      <td>21.509725</td>\n",
       "    </tr>\n",
       "    <tr>\n",
       "      <th>1521</th>\n",
       "      <td>complete</td>\n",
       "      <td>21.518114</td>\n",
       "    </tr>\n",
       "    <tr>\n",
       "      <th>5824</th>\n",
       "      <td>trigger</td>\n",
       "      <td>21.524451</td>\n",
       "    </tr>\n",
       "    <tr>\n",
       "      <th>5987</th>\n",
       "      <td>linked</td>\n",
       "      <td>21.543548</td>\n",
       "    </tr>\n",
       "    <tr>\n",
       "      <th>5485</th>\n",
       "      <td>pi</td>\n",
       "      <td>21.552942</td>\n",
       "    </tr>\n",
       "    <tr>\n",
       "      <th>4719</th>\n",
       "      <td>cast</td>\n",
       "      <td>21.622170</td>\n",
       "    </tr>\n",
       "    <tr>\n",
       "      <th>2493</th>\n",
       "      <td>currently</td>\n",
       "      <td>21.624273</td>\n",
       "    </tr>\n",
       "    <tr>\n",
       "      <th>3123</th>\n",
       "      <td>human</td>\n",
       "      <td>21.626898</td>\n",
       "    </tr>\n",
       "    <tr>\n",
       "      <th>5377</th>\n",
       "      <td>iv</td>\n",
       "      <td>21.636128</td>\n",
       "    </tr>\n",
       "    <tr>\n",
       "      <th>5333</th>\n",
       "      <td>slam</td>\n",
       "      <td>21.642636</td>\n",
       "    </tr>\n",
       "    <tr>\n",
       "      <th>9</th>\n",
       "      <td>mm</td>\n",
       "      <td>21.693273</td>\n",
       "    </tr>\n",
       "    <tr>\n",
       "      <th>4479</th>\n",
       "      <td>entering</td>\n",
       "      <td>21.748184</td>\n",
       "    </tr>\n",
       "    <tr>\n",
       "      <th>5431</th>\n",
       "      <td>pd</td>\n",
       "      <td>21.780425</td>\n",
       "    </tr>\n",
       "    <tr>\n",
       "      <th>960</th>\n",
       "      <td>stanley</td>\n",
       "      <td>21.787935</td>\n",
       "    </tr>\n",
       "    <tr>\n",
       "      <th>5612</th>\n",
       "      <td>causes</td>\n",
       "      <td>21.802080</td>\n",
       "    </tr>\n",
       "    <tr>\n",
       "      <th>2211</th>\n",
       "      <td>millennials</td>\n",
       "      <td>21.825622</td>\n",
       "    </tr>\n",
       "    <tr>\n",
       "      <th>295</th>\n",
       "      <td>compete</td>\n",
       "      <td>21.837148</td>\n",
       "    </tr>\n",
       "    <tr>\n",
       "      <th>4965</th>\n",
       "      <td>gt</td>\n",
       "      <td>21.841492</td>\n",
       "    </tr>\n",
       "  </tbody>\n",
       "</table>\n",
       "</div>"
      ],
      "text/plain": [
       "              token      score\n",
       "3566             js  -0.755771\n",
       "5961             bb  -0.184413\n",
       "5028            hay   0.000000\n",
       "4305            ese   0.000000\n",
       "6318             ye   0.688010\n",
       "4050           lady   1.000451\n",
       "3537             lo   1.521036\n",
       "3523             sc   1.563108\n",
       "5976           fair   2.445868\n",
       "4323            dir   3.298084\n",
       "3535             ou   3.656549\n",
       "667          mostly   4.540545\n",
       "6493           race   4.615573\n",
       "5665          track   5.253162\n",
       "867         network   5.509127\n",
       "3355            rio   5.628240\n",
       "1660            ana   5.711811\n",
       "3014         mainly   5.778422\n",
       "4318            sin   6.020460\n",
       "5660           gaga   6.023442\n",
       "5874             nd   6.619613\n",
       "4162            dub   6.830148\n",
       "1588             lt   7.210392\n",
       "1767          drama   7.539782\n",
       "117              sb   7.800700\n",
       "2297             ti   7.915316\n",
       "5662        genuine   8.059983\n",
       "1160           como   8.243123\n",
       "659              tu   8.388668\n",
       "4452             pe   8.437799\n",
       "5481     nowplaying   8.439356\n",
       "4833            ser   8.503518\n",
       "1407            bot   8.591891\n",
       "4477     directions   8.775681\n",
       "2182           mill   8.825623\n",
       "1348          yasss   9.599905\n",
       "5512         subway   9.751104\n",
       "2717           buzz   9.791683\n",
       "4821            bts   9.836559\n",
       "4728             fe   9.888936\n",
       "1729           lana   9.936750\n",
       "3546     correction   9.982167\n",
       "6480            sos  10.068394\n",
       "5556      replacing  10.151883\n",
       "3460        flights  10.322850\n",
       "6349            lax  10.326562\n",
       "5483          clear  10.435197\n",
       "1110        montana  10.651555\n",
       "3867          forth  10.782595\n",
       "3333             ap  10.842536\n",
       "2682      hollywood  10.974475\n",
       "6422             wo  10.991539\n",
       "2850           main  11.124158\n",
       "5836         claims  11.355295\n",
       "5297        spotted  11.356097\n",
       "5979       reminder  11.410927\n",
       "2259           dice  11.533097\n",
       "3755             ab  11.551291\n",
       "3305           shed  11.585826\n",
       "730           usual  11.653130\n",
       "3404            mls  11.670341\n",
       "4205           loop  11.729513\n",
       "6402        earning  11.768257\n",
       "3291        singles  11.841554\n",
       "2028          index  11.865099\n",
       "6540             cr  11.888519\n",
       "5254         serial  12.080319\n",
       "141              ss  12.196111\n",
       "4087        traffic  12.230646\n",
       "1879          bound  12.485065\n",
       "4911             cc  12.568437\n",
       "868       meanwhile  12.898886\n",
       "3575          pilot  12.996742\n",
       "3493       trending  13.009111\n",
       "2368             ma  13.074635\n",
       "499           beats  13.148538\n",
       "1666             bi  13.185558\n",
       "2638             tb  13.600474\n",
       "959           plain  13.601135\n",
       "4610            acc  13.754343\n",
       "5100        trading  13.853180\n",
       "4589          radar  13.952624\n",
       "3214             fu  14.254349\n",
       "4560         highly  14.263661\n",
       "110           viral  14.290237\n",
       "5676      overnight  14.291432\n",
       "3641           folk  14.357882\n",
       "4466             2x  14.386968\n",
       "6101         single  14.501025\n",
       "4684        mansion  14.506759\n",
       "1716       traveled  14.513559\n",
       "1676         tackle  14.528151\n",
       "2078            par  14.627804\n",
       "3321          banks  14.680054\n",
       "1506       surprise  14.695857\n",
       "5427           holy  14.962802\n",
       "2800       incident  14.985505\n",
       "4866         accent  15.003614\n",
       "6544     homecoming  15.128209\n",
       "2552           flex  15.152999\n",
       "3435             ps  15.181606\n",
       "5147             rt  15.190822\n",
       "1560           drum  15.230913\n",
       "4331          trick  15.302678\n",
       "4441         timing  15.303004\n",
       "3532    underground  15.659593\n",
       "3534            int  15.785324\n",
       "3218         button  15.848566\n",
       "6023            dia  15.877750\n",
       "1989        cleared  15.882502\n",
       "1820            una  15.892544\n",
       "3374            net  15.910007\n",
       "543         readers  15.948363\n",
       "370        pressure  15.969106\n",
       "4443      newspaper  15.973715\n",
       "5522          delay  15.995774\n",
       "1823            mix  16.020746\n",
       "2100         female  16.028267\n",
       "163           joint  16.217711\n",
       "5102       removing  16.265861\n",
       "6251           trey  16.266036\n",
       "1617          rocky  16.317543\n",
       "639           backs  16.375365\n",
       "1748     registered  16.378421\n",
       "6474         actual  16.457734\n",
       "5253         slowly  16.506005\n",
       "5269        editing  16.515042\n",
       "2440         potter  16.556177\n",
       "2166            gen  16.596131\n",
       "5965           wave  16.604178\n",
       "4003           pero  16.616604\n",
       "1329             ay  16.770539\n",
       "1091            cha  16.794742\n",
       "1130           tank  16.794912\n",
       "5669            cam  16.839832\n",
       "5723             mi  16.853916\n",
       "5957        remains  16.867648\n",
       "5474           comp  16.962847\n",
       "251             90s  17.135392\n",
       "1894         rising  17.158084\n",
       "6237        furious  17.269001\n",
       "1926        virtual  17.277689\n",
       "4089         rumors  17.363504\n",
       "2470         injury  17.387116\n",
       "1439           male  17.469829\n",
       "3965         escape  17.486978\n",
       "6154         angels  17.498459\n",
       "5468          alpha  17.589451\n",
       "4616             sr  17.599617\n",
       "4514          least  17.626863\n",
       "5743         carpet  17.773745\n",
       "5630    responsible  17.783404\n",
       "2730         tracks  17.868550\n",
       "1920       reaction  17.870044\n",
       "1077            gee  17.904490\n",
       "2264         jordan  17.940720\n",
       "1689            woo  17.953095\n",
       "5156            dam  17.960037\n",
       "3289             fa  17.970030\n",
       "2395           hoop  18.001494\n",
       "3889        highest  18.044330\n",
       "3034           dash  18.072849\n",
       "2892       stranger  18.100953\n",
       "2372          theft  18.146487\n",
       "3162    appreciated  18.156847\n",
       "3974             fi  18.198137\n",
       "3997        fortune  18.232844\n",
       "4153            ole  18.236686\n",
       "1154        spelled  18.244770\n",
       "671      responding  18.402993\n",
       "6065       category  18.407915\n",
       "2299          faced  18.477654\n",
       "3117             og  18.525994\n",
       "2290          dozen  18.564983\n",
       "3267          buyer  18.609233\n",
       "6340        concept  18.626721\n",
       "3386       recently  18.739802\n",
       "200     application  18.779988\n",
       "4808        reviews  18.803970\n",
       "5019        rihanna  18.866584\n",
       "4575           vibe  18.881829\n",
       "4809        travels  18.915161\n",
       "5043          patch  18.996301\n",
       "5477          chart  19.003654\n",
       "3055            rip  19.054263\n",
       "4351     transition  19.066714\n",
       "3166           acts  19.151771\n",
       "5045         virgin  19.186419\n",
       "2217          train  19.217719\n",
       "454          bieber  19.272825\n",
       "2020            top  19.309927\n",
       "1665          moves  19.372246\n",
       "722          sprint  19.547937\n",
       "3768           here  19.556490\n",
       "2283           cmon  19.566785\n",
       "4377       deserved  19.577572\n",
       "3433       reported  19.609779\n",
       "2067   professional  19.650890\n",
       "3343           aged  19.676096\n",
       "2379        tracked  19.696442\n",
       "3650          oscar  19.709066\n",
       "4229         effect  19.845168\n",
       "5352          twins  19.877660\n",
       "3944            bid  19.884139\n",
       "5237         volume  19.888317\n",
       "2508       courtesy  19.902849\n",
       "2097         crunch  19.955692\n",
       "2209      patiently  19.989988\n",
       "2389        lottery  20.006463\n",
       "893           tribe  20.074595\n",
       "888      discussing  20.080080\n",
       "2805      celebrity  20.084212\n",
       "94            local  20.102160\n",
       "2864        twisted  20.107781\n",
       "5618       slightly  20.131468\n",
       "5141           ours  20.152721\n",
       "204        distance  20.195932\n",
       "3194           unit  20.223864\n",
       "4761         expert  20.249309\n",
       "4668          flash  20.299907\n",
       "795        strongly  20.308334\n",
       "777             age  20.318397\n",
       "4206            dee  20.319828\n",
       "4141            hoo  20.328218\n",
       "2401          santa  20.352857\n",
       "417    accidentally  20.355475\n",
       "6496         locker  20.374480\n",
       "1198            ing  20.399148\n",
       "2507          urban  20.401584\n",
       "5390          award  20.421315\n",
       "374   automatically  20.460862\n",
       "4064         report  20.477661\n",
       "1374           vine  20.494153\n",
       "3826             hi  20.502519\n",
       "3161          prime  20.537580\n",
       "1474           wild  20.565455\n",
       "4747        artists  20.571818\n",
       "1699    significant  20.586056\n",
       "1567     especially  20.612064\n",
       "6144          upper  20.613607\n",
       "4683            due  20.684416\n",
       "3948          guard  20.718716\n",
       "6271         turkey  20.730952\n",
       "2807       becoming  20.732225\n",
       "2168          stage  20.765404\n",
       "2059            gig  20.788611\n",
       "3634         repeat  20.809856\n",
       "1276         editor  20.820356\n",
       "2846     collective  20.824798\n",
       "4375      gentlemen  20.856136\n",
       "5136          alert  20.884539\n",
       "1415           boys  20.940708\n",
       "2255          cheer  20.985507\n",
       "2955            abt  21.035575\n",
       "3147          depth  21.061146\n",
       "2430          bliss  21.081759\n",
       "6497         waters  21.082948\n",
       "1966          bruno  21.092526\n",
       "4286             ho  21.094915\n",
       "5330           bond  21.096253\n",
       "802         witness  21.120801\n",
       "5130       resident  21.126967\n",
       "2253   specifically  21.127825\n",
       "3981      according  21.134111\n",
       "6291          marks  21.165584\n",
       "4115            80s  21.195845\n",
       "1219       tracking  21.229700\n",
       "6337         nicely  21.265569\n",
       "2937        credits  21.266573\n",
       "2628        station  21.302807\n",
       "2896            das  21.307564\n",
       "1                 f  21.324619\n",
       "1542          route  21.327222\n",
       "3870      prospects  21.354916\n",
       "1410          swift  21.358803\n",
       "6511           wolf  21.364567\n",
       "2383          brief  21.369594\n",
       "1777        dentist  21.385828\n",
       "2312       accident  21.442329\n",
       "866            nerd  21.459651\n",
       "1757            now  21.466838\n",
       "1108           fire  21.488540\n",
       "2668     conditions  21.509725\n",
       "1521       complete  21.518114\n",
       "5824        trigger  21.524451\n",
       "5987         linked  21.543548\n",
       "5485             pi  21.552942\n",
       "4719           cast  21.622170\n",
       "2493      currently  21.624273\n",
       "3123          human  21.626898\n",
       "5377             iv  21.636128\n",
       "5333           slam  21.642636\n",
       "9                mm  21.693273\n",
       "4479       entering  21.748184\n",
       "5431             pd  21.780425\n",
       "960         stanley  21.787935\n",
       "5612         causes  21.802080\n",
       "2211    millennials  21.825622\n",
       "295         compete  21.837148\n",
       "4965             gt  21.841492"
      ]
     },
     "execution_count": 208,
     "metadata": {},
     "output_type": "execute_result"
    }
   ],
   "source": [
    "df.sort_values('score').head(300)"
   ]
  },
  {
   "cell_type": "code",
   "execution_count": 209,
   "metadata": {},
   "outputs": [],
   "source": [
    "def compare(token):\n",
    "    \n",
    "    u_similar = urban_model.most_similar(token)\n",
    "    r_similar = rural_model.most_similar(token)\n",
    "    \n",
    "    u_tokens = [[t] for t, _ in u_similar]\n",
    "    r_tokens = [[t] for t, _ in r_similar]\n",
    "    \n",
    "    return u_tokens, r_tokens"
   ]
  },
  {
   "cell_type": "code",
   "execution_count": 211,
   "metadata": {
    "scrolled": false
   },
   "outputs": [
    {
     "data": {
      "text/markdown": [
       "# js"
      ],
      "text/plain": [
       "<IPython.core.display.Markdown object>"
      ]
     },
     "metadata": {},
     "output_type": "display_data"
    },
    {
     "data": {
      "text/markdown": [
       "#### Urban"
      ],
      "text/plain": [
       "<IPython.core.display.Markdown object>"
      ]
     },
     "metadata": {},
     "output_type": "display_data"
    },
    {
     "name": "stdout",
     "output_type": "stream",
     "text": [
      "-----------\n",
      "dev\n",
      "desktop\n",
      "user\n",
      "software\n",
      "developer\n",
      "technical\n",
      "programming\n",
      "engineer\n",
      "bot\n",
      "analytics\n",
      "-----------\n"
     ]
    },
    {
     "data": {
      "text/markdown": [
       "#### Rural"
      ],
      "text/plain": [
       "<IPython.core.display.Markdown object>"
      ]
     },
     "metadata": {},
     "output_type": "display_data"
    },
    {
     "name": "stdout",
     "output_type": "stream",
     "text": [
      "--------\n",
      "tho\n",
      "slim\n",
      "trippin\n",
      "jk\n",
      "goofy\n",
      "atm\n",
      "cuh\n",
      "hella\n",
      "ta\n",
      "tripping\n",
      "--------\n"
     ]
    },
    {
     "data": {
      "text/markdown": [
       "# bb"
      ],
      "text/plain": [
       "<IPython.core.display.Markdown object>"
      ]
     },
     "metadata": {},
     "output_type": "display_data"
    },
    {
     "data": {
      "text/markdown": [
       "#### Urban"
      ],
      "text/plain": [
       "<IPython.core.display.Markdown object>"
      ]
     },
     "metadata": {},
     "output_type": "display_data"
    },
    {
     "name": "stdout",
     "output_type": "stream",
     "text": [
      "----\n",
      "bby\n",
      "ps\n",
      "ily\n",
      "sm\n",
      "hehe\n",
      "k\n",
      "xx\n",
      "hun\n",
      "babe\n",
      "gg\n",
      "----\n"
     ]
    },
    {
     "data": {
      "text/markdown": [
       "#### Rural"
      ],
      "text/plain": [
       "<IPython.core.display.Markdown object>"
      ]
     },
     "metadata": {},
     "output_type": "display_data"
    },
    {
     "name": "stdout",
     "output_type": "stream",
     "text": [
      "----------\n",
      "softball\n",
      "lax\n",
      "jv\n",
      "volleyball\n",
      "soccer\n",
      "bball\n",
      "sectional\n",
      "sb\n",
      "tennis\n",
      "hoops\n",
      "----------\n"
     ]
    },
    {
     "data": {
      "text/markdown": [
       "# hay"
      ],
      "text/plain": [
       "<IPython.core.display.Markdown object>"
      ]
     },
     "metadata": {},
     "output_type": "display_data"
    },
    {
     "data": {
      "text/markdown": [
       "#### Urban"
      ],
      "text/plain": [
       "<IPython.core.display.Markdown object>"
      ]
     },
     "metadata": {},
     "output_type": "display_data"
    },
    {
     "name": "stdout",
     "output_type": "stream",
     "text": [
      "-----\n",
      "hacer\n",
      "tiene\n",
      "fue\n",
      "dios\n",
      "nunca\n",
      "eres\n",
      "hace\n",
      "todo\n",
      "mejor\n",
      "bueno\n",
      "-----\n"
     ]
    },
    {
     "data": {
      "text/markdown": [
       "#### Rural"
      ],
      "text/plain": [
       "<IPython.core.display.Markdown object>"
      ]
     },
     "metadata": {},
     "output_type": "display_data"
    },
    {
     "name": "stdout",
     "output_type": "stream",
     "text": [
      "----\n",
      "como\n",
      "mas\n",
      "ti\n",
      "una\n",
      "si\n",
      "el\n",
      "para\n",
      "les\n",
      "pero\n",
      "te\n",
      "----\n"
     ]
    },
    {
     "data": {
      "text/markdown": [
       "# ese"
      ],
      "text/plain": [
       "<IPython.core.display.Markdown object>"
      ]
     },
     "metadata": {},
     "output_type": "display_data"
    },
    {
     "data": {
      "text/markdown": [
       "#### Urban"
      ],
      "text/plain": [
       "<IPython.core.display.Markdown object>"
      ]
     },
     "metadata": {},
     "output_type": "display_data"
    },
    {
     "name": "stdout",
     "output_type": "stream",
     "text": [
      "-----\n",
      "esto\n",
      "eso\n",
      "hacer\n",
      "tengo\n",
      "todo\n",
      "estoy\n",
      "muy\n",
      "fue\n",
      "ahora\n",
      "hace\n",
      "-----\n"
     ]
    },
    {
     "data": {
      "text/markdown": [
       "#### Rural"
      ],
      "text/plain": [
       "<IPython.core.display.Markdown object>"
      ]
     },
     "metadata": {},
     "output_type": "display_data"
    },
    {
     "name": "stdout",
     "output_type": "stream",
     "text": [
      "----\n",
      "ene\n",
      "nne\n",
      "ssw\n",
      "wsw\n",
      "sse\n",
      "nnw\n",
      "wnw\n",
      "se\n",
      "9mph\n",
      "sw\n",
      "----\n"
     ]
    },
    {
     "data": {
      "text/markdown": [
       "# ye"
      ],
      "text/plain": [
       "<IPython.core.display.Markdown object>"
      ]
     },
     "metadata": {},
     "output_type": "display_data"
    },
    {
     "data": {
      "text/markdown": [
       "#### Urban"
      ],
      "text/plain": [
       "<IPython.core.display.Markdown object>"
      ]
     },
     "metadata": {},
     "output_type": "display_data"
    },
    {
     "name": "stdout",
     "output_type": "stream",
     "text": [
      "-----\n",
      "allah\n",
      "nas\n",
      "yah\n",
      "ra\n",
      "fuk\n",
      "oo\n",
      "yuh\n",
      "mc\n",
      "ta\n",
      "ma\n",
      "-----\n"
     ]
    },
    {
     "data": {
      "text/markdown": [
       "#### Rural"
      ],
      "text/plain": [
       "<IPython.core.display.Markdown object>"
      ]
     },
     "metadata": {},
     "output_type": "display_data"
    },
    {
     "name": "stdout",
     "output_type": "stream",
     "text": [
      "------\n",
      "unto\n",
      "lord\n",
      "sin\n",
      "christ\n",
      "jesus\n",
      "shall\n",
      "gods\n",
      "god\n",
      "thou\n",
      "gospel\n",
      "------\n"
     ]
    },
    {
     "data": {
      "text/markdown": [
       "# lady"
      ],
      "text/plain": [
       "<IPython.core.display.Markdown object>"
      ]
     },
     "metadata": {},
     "output_type": "display_data"
    },
    {
     "data": {
      "text/markdown": [
       "#### Urban"
      ],
      "text/plain": [
       "<IPython.core.display.Markdown object>"
      ]
     },
     "metadata": {},
     "output_type": "display_data"
    },
    {
     "name": "stdout",
     "output_type": "stream",
     "text": [
      "--------\n",
      "girl\n",
      "woman\n",
      "guy\n",
      "gal\n",
      "man\n",
      "boy\n",
      "chick\n",
      "kid\n",
      "bride\n",
      "coworker\n",
      "--------\n"
     ]
    },
    {
     "data": {
      "text/markdown": [
       "#### Rural"
      ],
      "text/plain": [
       "<IPython.core.display.Markdown object>"
      ]
     },
     "metadata": {},
     "output_type": "display_data"
    },
    {
     "name": "stdout",
     "output_type": "stream",
     "text": [
      "--------\n",
      "knights\n",
      "bulldogs\n",
      "tigers\n",
      "timeout\n",
      "panthers\n",
      "wildcats\n",
      "halftime\n",
      "lions\n",
      "boys\n",
      "indians\n",
      "--------\n"
     ]
    },
    {
     "data": {
      "text/markdown": [
       "# lo"
      ],
      "text/plain": [
       "<IPython.core.display.Markdown object>"
      ]
     },
     "metadata": {},
     "output_type": "display_data"
    },
    {
     "data": {
      "text/markdown": [
       "#### Urban"
      ],
      "text/plain": [
       "<IPython.core.display.Markdown object>"
      ]
     },
     "metadata": {},
     "output_type": "display_data"
    },
    {
     "name": "stdout",
     "output_type": "stream",
     "text": [
      "------\n",
      "muy\n",
      "todo\n",
      "tiene\n",
      "mejor\n",
      "esta\n",
      "nunca\n",
      "tu\n",
      "cuando\n",
      "como\n",
      "bien\n",
      "------\n"
     ]
    },
    {
     "data": {
      "text/markdown": [
       "#### Rural"
      ],
      "text/plain": [
       "<IPython.core.display.Markdown object>"
      ]
     },
     "metadata": {},
     "output_type": "display_data"
    },
    {
     "name": "stdout",
     "output_type": "stream",
     "text": [
      "--------\n",
      "partly\n",
      "showers\n",
      "cloudy\n",
      "hi\n",
      "fog\n",
      "precip\n",
      "overcast\n",
      "hum\n",
      "sunny\n",
      "mostly\n",
      "--------\n"
     ]
    },
    {
     "data": {
      "text/markdown": [
       "# sc"
      ],
      "text/plain": [
       "<IPython.core.display.Markdown object>"
      ]
     },
     "metadata": {},
     "output_type": "display_data"
    },
    {
     "data": {
      "text/markdown": [
       "#### Urban"
      ],
      "text/plain": [
       "<IPython.core.display.Markdown object>"
      ]
     },
     "metadata": {},
     "output_type": "display_data"
    },
    {
     "name": "stdout",
     "output_type": "stream",
     "text": [
      "---------\n",
      "snap\n",
      "snapchat\n",
      "ig\n",
      "insta\n",
      "fb\n",
      "instagram\n",
      "tl\n",
      "tumblr\n",
      "twitter\n",
      "username\n",
      "---------\n"
     ]
    },
    {
     "data": {
      "text/markdown": [
       "#### Rural"
      ],
      "text/plain": [
       "<IPython.core.display.Markdown object>"
      ]
     },
     "metadata": {},
     "output_type": "display_data"
    },
    {
     "name": "stdout",
     "output_type": "stream",
     "text": [
      "--------\n",
      "nj\n",
      "hampton\n",
      "columbia\n",
      "nc\n",
      "snap\n",
      "missouri\n",
      "rd\n",
      "ga\n",
      "delaware\n",
      "ave\n",
      "--------\n"
     ]
    },
    {
     "data": {
      "text/markdown": [
       "# fair"
      ],
      "text/plain": [
       "<IPython.core.display.Markdown object>"
      ]
     },
     "metadata": {},
     "output_type": "display_data"
    },
    {
     "data": {
      "text/markdown": [
       "#### Urban"
      ],
      "text/plain": [
       "<IPython.core.display.Markdown object>"
      ]
     },
     "metadata": {},
     "output_type": "display_data"
    },
    {
     "name": "stdout",
     "output_type": "stream",
     "text": [
      "-----------\n",
      "valid\n",
      "unfair\n",
      "reasonable\n",
      "biased\n",
      "necessary\n",
      "tough\n",
      "absurd\n",
      "technically\n",
      "acceptable\n",
      "obvious\n",
      "-----------\n"
     ]
    },
    {
     "data": {
      "text/markdown": [
       "#### Rural"
      ],
      "text/plain": [
       "<IPython.core.display.Markdown object>"
      ]
     },
     "metadata": {},
     "output_type": "display_data"
    },
    {
     "name": "stdout",
     "output_type": "stream",
     "text": [
      "----------\n",
      "windy\n",
      "technical\n",
      "required\n",
      "aspen\n",
      "institute\n",
      "nc\n",
      "attending\n",
      "summit\n",
      "expo\n",
      "university\n",
      "----------\n"
     ]
    },
    {
     "data": {
      "text/markdown": [
       "# dir"
      ],
      "text/plain": [
       "<IPython.core.display.Markdown object>"
      ]
     },
     "metadata": {},
     "output_type": "display_data"
    },
    {
     "data": {
      "text/markdown": [
       "#### Urban"
      ],
      "text/plain": [
       "<IPython.core.display.Markdown object>"
      ]
     },
     "metadata": {},
     "output_type": "display_data"
    },
    {
     "name": "stdout",
     "output_type": "stream",
     "text": [
      "--------\n",
      "produced\n",
      "producer\n",
      "marc\n",
      "mp3\n",
      "vi\n",
      "prod\n",
      "director\n",
      "directed\n",
      "lee\n",
      "audio\n",
      "--------\n"
     ]
    },
    {
     "data": {
      "text/markdown": [
       "#### Rural"
      ],
      "text/plain": [
       "<IPython.core.display.Markdown object>"
      ]
     },
     "metadata": {},
     "output_type": "display_data"
    },
    {
     "name": "stdout",
     "output_type": "stream",
     "text": [
      "----\n",
      "2mph\n",
      "dp\n",
      "rh\n",
      "ssw\n",
      "wsw\n",
      "gst\n",
      "ese\n",
      "1mph\n",
      "ene\n",
      "9mph\n",
      "----\n"
     ]
    },
    {
     "data": {
      "text/markdown": [
       "# ou"
      ],
      "text/plain": [
       "<IPython.core.display.Markdown object>"
      ]
     },
     "metadata": {},
     "output_type": "display_data"
    },
    {
     "data": {
      "text/markdown": [
       "#### Urban"
      ],
      "text/plain": [
       "<IPython.core.display.Markdown object>"
      ]
     },
     "metadata": {},
     "output_type": "display_data"
    },
    {
     "name": "stdout",
     "output_type": "stream",
     "text": [
      "----\n",
      "mais\n",
      "pra\n",
      "je\n",
      "dia\n",
      "pas\n",
      "ta\n",
      "ba\n",
      "ser\n",
      "mal\n",
      "eu\n",
      "----\n"
     ]
    },
    {
     "data": {
      "text/markdown": [
       "#### Rural"
      ],
      "text/plain": [
       "<IPython.core.display.Markdown object>"
      ]
     },
     "metadata": {},
     "output_type": "display_data"
    },
    {
     "name": "stdout",
     "output_type": "stream",
     "text": [
      "---------\n",
      "bama\n",
      "lsu\n",
      "pats\n",
      "clemson\n",
      "usc\n",
      "auburn\n",
      "cleveland\n",
      "steelers\n",
      "pitt\n",
      "cowboys\n",
      "---------\n"
     ]
    },
    {
     "data": {
      "text/markdown": [
       "# mostly"
      ],
      "text/plain": [
       "<IPython.core.display.Markdown object>"
      ]
     },
     "metadata": {},
     "output_type": "display_data"
    },
    {
     "data": {
      "text/markdown": [
       "#### Urban"
      ],
      "text/plain": [
       "<IPython.core.display.Markdown object>"
      ]
     },
     "metadata": {},
     "output_type": "display_data"
    },
    {
     "name": "stdout",
     "output_type": "stream",
     "text": [
      "------------\n",
      "mainly\n",
      "generally\n",
      "somewhat\n",
      "fairly\n",
      "usually\n",
      "particularly\n",
      "rarely\n",
      "biased\n",
      "also\n",
      "entirely\n",
      "------------\n"
     ]
    },
    {
     "data": {
      "text/markdown": [
       "#### Rural"
      ],
      "text/plain": [
       "<IPython.core.display.Markdown object>"
      ]
     },
     "metadata": {},
     "output_type": "display_data"
    },
    {
     "name": "stdout",
     "output_type": "stream",
     "text": [
      "-------------\n",
      "mainly\n",
      "partly\n",
      "cloudy\n",
      "sunny\n",
      "fog\n",
      "showers\n",
      "thunderstorms\n",
      "degrees\n",
      "overcast\n",
      "skies\n",
      "-------------\n"
     ]
    },
    {
     "data": {
      "text/markdown": [
       "# race"
      ],
      "text/plain": [
       "<IPython.core.display.Markdown object>"
      ]
     },
     "metadata": {},
     "output_type": "display_data"
    },
    {
     "data": {
      "text/markdown": [
       "#### Urban"
      ],
      "text/plain": [
       "<IPython.core.display.Markdown object>"
      ]
     },
     "metadata": {},
     "output_type": "display_data"
    },
    {
     "name": "stdout",
     "output_type": "stream",
     "text": [
      "---------\n",
      "racial\n",
      "gender\n",
      "racism\n",
      "movement\n",
      "identity\n",
      "debate\n",
      "fascism\n",
      "politics\n",
      "narrative\n",
      "violence\n",
      "---------\n"
     ]
    },
    {
     "data": {
      "text/markdown": [
       "#### Rural"
      ],
      "text/plain": [
       "<IPython.core.display.Markdown object>"
      ]
     },
     "metadata": {},
     "output_type": "display_data"
    },
    {
     "name": "stdout",
     "output_type": "stream",
     "text": [
      "---------\n",
      "races\n",
      "nascar\n",
      "racing\n",
      "semi\n",
      "division\n",
      "sprint\n",
      "indy\n",
      "series\n",
      "match\n",
      "nationals\n",
      "---------\n"
     ]
    },
    {
     "data": {
      "text/markdown": [
       "# track"
      ],
      "text/plain": [
       "<IPython.core.display.Markdown object>"
      ]
     },
     "metadata": {},
     "output_type": "display_data"
    },
    {
     "data": {
      "text/markdown": [
       "#### Urban"
      ],
      "text/plain": [
       "<IPython.core.display.Markdown object>"
      ]
     },
     "metadata": {},
     "output_type": "display_data"
    },
    {
     "name": "stdout",
     "output_type": "stream",
     "text": [
      "------------\n",
      "tracks\n",
      "album\n",
      "banger\n",
      "freestyle\n",
      "song\n",
      "ep\n",
      "instrumental\n",
      "wave\n",
      "verse\n",
      "intro\n",
      "------------\n"
     ]
    },
    {
     "data": {
      "text/markdown": [
       "#### Rural"
      ],
      "text/plain": [
       "<IPython.core.display.Markdown object>"
      ]
     },
     "metadata": {},
     "output_type": "display_data"
    },
    {
     "name": "stdout",
     "output_type": "stream",
     "text": [
      "------------\n",
      "field\n",
      "invitational\n",
      "lax\n",
      "tennis\n",
      "volleyball\n",
      "lacrosse\n",
      "sectional\n",
      "hoops\n",
      "nationals\n",
      "soccer\n",
      "------------\n"
     ]
    },
    {
     "data": {
      "text/markdown": [
       "# network"
      ],
      "text/plain": [
       "<IPython.core.display.Markdown object>"
      ]
     },
     "metadata": {},
     "output_type": "display_data"
    },
    {
     "data": {
      "text/markdown": [
       "#### Urban"
      ],
      "text/plain": [
       "<IPython.core.display.Markdown object>"
      ]
     },
     "metadata": {},
     "output_type": "display_data"
    },
    {
     "name": "stdout",
     "output_type": "stream",
     "text": [
      "----------\n",
      "networks\n",
      "enterprise\n",
      "dataminer\n",
      "xmlrpc\n",
      "hub\n",
      "login\n",
      "brute\n",
      "host\n",
      "mobile\n",
      "ovh\n",
      "----------\n"
     ]
    },
    {
     "data": {
      "text/markdown": [
       "#### Rural"
      ],
      "text/plain": [
       "<IPython.core.display.Markdown object>"
      ]
     },
     "metadata": {},
     "output_type": "display_data"
    },
    {
     "name": "stdout",
     "output_type": "stream",
     "text": [
      "------------\n",
      "television\n",
      "platform\n",
      "channel\n",
      "channels\n",
      "gaming\n",
      "advertising\n",
      "nbc\n",
      "tv\n",
      "cbs\n",
      "organization\n",
      "------------\n"
     ]
    },
    {
     "data": {
      "text/markdown": [
       "# rio"
      ],
      "text/plain": [
       "<IPython.core.display.Markdown object>"
      ]
     },
     "metadata": {},
     "output_type": "display_data"
    },
    {
     "data": {
      "text/markdown": [
       "#### Urban"
      ],
      "text/plain": [
       "<IPython.core.display.Markdown object>"
      ]
     },
     "metadata": {},
     "output_type": "display_data"
    },
    {
     "name": "stdout",
     "output_type": "stream",
     "text": [
      "------\n",
      "casa\n",
      "grande\n",
      "mundo\n",
      "rey\n",
      "gente\n",
      "desde\n",
      "vida\n",
      "ella\n",
      "sobre\n",
      "cara\n",
      "------\n"
     ]
    },
    {
     "data": {
      "text/markdown": [
       "#### Rural"
      ],
      "text/plain": [
       "<IPython.core.display.Markdown object>"
      ]
     },
     "metadata": {},
     "output_type": "display_data"
    },
    {
     "name": "stdout",
     "output_type": "stream",
     "text": [
      "----------\n",
      "grande\n",
      "la\n",
      "angeles\n",
      "el\n",
      "phoenix\n",
      "como\n",
      "ti\n",
      "manchester\n",
      "solo\n",
      "austin\n",
      "----------\n"
     ]
    },
    {
     "data": {
      "text/markdown": [
       "# ana"
      ],
      "text/plain": [
       "<IPython.core.display.Markdown object>"
      ]
     },
     "metadata": {},
     "output_type": "display_data"
    },
    {
     "data": {
      "text/markdown": [
       "#### Urban"
      ],
      "text/plain": [
       "<IPython.core.display.Markdown object>"
      ]
     },
     "metadata": {},
     "output_type": "display_data"
    },
    {
     "name": "stdout",
     "output_type": "stream",
     "text": [
      "-------\n",
      "monica\n",
      "barbara\n",
      "cara\n",
      "fe\n",
      "casa\n",
      "gente\n",
      "nina\n",
      "md\n",
      "esta\n",
      "hasta\n",
      "-------\n"
     ]
    },
    {
     "data": {
      "text/markdown": [
       "#### Rural"
      ],
      "text/plain": [
       "<IPython.core.display.Markdown object>"
      ]
     },
     "metadata": {},
     "output_type": "display_data"
    },
    {
     "name": "stdout",
     "output_type": "stream",
     "text": [
      "-----\n",
      "jo\n",
      "linda\n",
      "tu\n",
      "mas\n",
      "ada\n",
      "si\n",
      "para\n",
      "je\n",
      "como\n",
      "les\n",
      "-----\n"
     ]
    },
    {
     "data": {
      "text/markdown": [
       "# mainly"
      ],
      "text/plain": [
       "<IPython.core.display.Markdown object>"
      ]
     },
     "metadata": {},
     "output_type": "display_data"
    },
    {
     "data": {
      "text/markdown": [
       "#### Urban"
      ],
      "text/plain": [
       "<IPython.core.display.Markdown object>"
      ]
     },
     "metadata": {},
     "output_type": "display_data"
    },
    {
     "name": "stdout",
     "output_type": "stream",
     "text": [
      "------------\n",
      "mostly\n",
      "generally\n",
      "rarely\n",
      "specifically\n",
      "usually\n",
      "biased\n",
      "problematic\n",
      "certain\n",
      "cultural\n",
      "somewhat\n",
      "------------\n"
     ]
    },
    {
     "data": {
      "text/markdown": [
       "#### Rural"
      ],
      "text/plain": [
       "<IPython.core.display.Markdown object>"
      ]
     },
     "metadata": {},
     "output_type": "display_data"
    },
    {
     "name": "stdout",
     "output_type": "stream",
     "text": [
      "-------------\n",
      "mostly\n",
      "thunderstorms\n",
      "showers\n",
      "fog\n",
      "freezing\n",
      "partly\n",
      "cloudy\n",
      "storms\n",
      "flooding\n",
      "heavy\n",
      "-------------\n"
     ]
    },
    {
     "data": {
      "text/markdown": [
       "# sin"
      ],
      "text/plain": [
       "<IPython.core.display.Markdown object>"
      ]
     },
     "metadata": {},
     "output_type": "display_data"
    },
    {
     "data": {
      "text/markdown": [
       "#### Urban"
      ],
      "text/plain": [
       "<IPython.core.display.Markdown object>"
      ]
     },
     "metadata": {},
     "output_type": "display_data"
    },
    {
     "name": "stdout",
     "output_type": "stream",
     "text": [
      "-------\n",
      "fue\n",
      "mal\n",
      "ser\n",
      "mejor\n",
      "hacer\n",
      "amor\n",
      "dios\n",
      "tiene\n",
      "fear\n",
      "siempre\n",
      "-------\n"
     ]
    },
    {
     "data": {
      "text/markdown": [
       "#### Rural"
      ],
      "text/plain": [
       "<IPython.core.display.Markdown object>"
      ]
     },
     "metadata": {},
     "output_type": "display_data"
    },
    {
     "name": "stdout",
     "output_type": "stream",
     "text": [
      "---------\n",
      "christ\n",
      "jesus\n",
      "fear\n",
      "satan\n",
      "ye\n",
      "religion\n",
      "god\n",
      "heaven\n",
      "therefore\n",
      "unto\n",
      "---------\n"
     ]
    },
    {
     "data": {
      "text/markdown": [
       "# gaga"
      ],
      "text/plain": [
       "<IPython.core.display.Markdown object>"
      ]
     },
     "metadata": {},
     "output_type": "display_data"
    },
    {
     "data": {
      "text/markdown": [
       "#### Urban"
      ],
      "text/plain": [
       "<IPython.core.display.Markdown object>"
      ]
     },
     "metadata": {},
     "output_type": "display_data"
    },
    {
     "name": "stdout",
     "output_type": "stream",
     "text": [
      "-------\n",
      "adele\n",
      "beyonce\n",
      "grammys\n",
      "britney\n",
      "ellen\n",
      "minaj\n",
      "rihanna\n",
      "grammy\n",
      "cyrus\n",
      "beyonc\n",
      "-------\n"
     ]
    },
    {
     "data": {
      "text/markdown": [
       "#### Rural"
      ],
      "text/plain": [
       "<IPython.core.display.Markdown object>"
      ]
     },
     "metadata": {},
     "output_type": "display_data"
    },
    {
     "name": "stdout",
     "output_type": "stream",
     "text": [
      "-------------\n",
      "raisalghousia\n",
      "beyonc\n",
      "tm1dn\n",
      "amanda\n",
      "mc\n",
      "trey\n",
      "perry\n",
      "halftime\n",
      "shelton\n",
      "titans\n",
      "-------------\n"
     ]
    },
    {
     "data": {
      "text/markdown": [
       "# nd"
      ],
      "text/plain": [
       "<IPython.core.display.Markdown object>"
      ]
     },
     "metadata": {},
     "output_type": "display_data"
    },
    {
     "data": {
      "text/markdown": [
       "#### Urban"
      ],
      "text/plain": [
       "<IPython.core.display.Markdown object>"
      ]
     },
     "metadata": {},
     "output_type": "display_data"
    },
    {
     "name": "stdout",
     "output_type": "stream",
     "text": [
      "---\n",
      "n\n",
      "tht\n",
      "jus\n",
      "cus\n",
      "wit\n",
      "b4\n",
      "cuz\n",
      "den\n",
      "dat\n",
      "dnt\n",
      "---\n"
     ]
    },
    {
     "data": {
      "text/markdown": [
       "#### Rural"
      ],
      "text/plain": [
       "<IPython.core.display.Markdown object>"
      ]
     },
     "metadata": {},
     "output_type": "display_data"
    },
    {
     "name": "stdout",
     "output_type": "stream",
     "text": [
      "----------\n",
      "bb\n",
      "tourney\n",
      "ou\n",
      "auburn\n",
      "n\n",
      "kc\n",
      "louisville\n",
      "cal\n",
      "ne\n",
      "bama\n",
      "----------\n"
     ]
    },
    {
     "data": {
      "text/markdown": [
       "# dub"
      ],
      "text/plain": [
       "<IPython.core.display.Markdown object>"
      ]
     },
     "metadata": {},
     "output_type": "display_data"
    },
    {
     "data": {
      "text/markdown": [
       "#### Urban"
      ],
      "text/plain": [
       "<IPython.core.display.Markdown object>"
      ]
     },
     "metadata": {},
     "output_type": "display_data"
    },
    {
     "name": "stdout",
     "output_type": "stream",
     "text": [
      "---------\n",
      "funk\n",
      "freestyle\n",
      "banger\n",
      "boogie\n",
      "boyz\n",
      "rhythm\n",
      "gg\n",
      "bop\n",
      "remake\n",
      "wiz\n",
      "---------\n"
     ]
    },
    {
     "data": {
      "text/markdown": [
       "#### Rural"
      ],
      "text/plain": [
       "<IPython.core.display.Markdown object>"
      ]
     },
     "metadata": {},
     "output_type": "display_data"
    },
    {
     "name": "stdout",
     "output_type": "stream",
     "text": [
      "---------\n",
      "game\n",
      "ball\n",
      "triple\n",
      "boi\n",
      "bump\n",
      "comeback\n",
      "freestyle\n",
      "hoops\n",
      "hoop\n",
      "tourney\n",
      "---------\n"
     ]
    },
    {
     "data": {
      "text/markdown": [
       "# lt"
      ],
      "text/plain": [
       "<IPython.core.display.Markdown object>"
      ]
     },
     "metadata": {},
     "output_type": "display_data"
    },
    {
     "data": {
      "text/markdown": [
       "#### Urban"
      ],
      "text/plain": [
       "<IPython.core.display.Markdown object>"
      ]
     },
     "metadata": {},
     "output_type": "display_data"
    },
    {
     "name": "stdout",
     "output_type": "stream",
     "text": [
      "--------\n",
      "gt\n",
      "tales\n",
      "oo\n",
      "erotic\n",
      "ali\n",
      "checkout\n",
      "saga\n",
      "xx\n",
      "xoxo\n",
      "lesbian\n",
      "--------\n"
     ]
    },
    {
     "data": {
      "text/markdown": [
       "#### Rural"
      ],
      "text/plain": [
       "<IPython.core.display.Markdown object>"
      ]
     },
     "metadata": {},
     "output_type": "display_data"
    },
    {
     "name": "stdout",
     "output_type": "stream",
     "text": [
      "---------\n",
      "gt\n",
      "br\n",
      "ch\n",
      "3\n",
      "com\n",
      "baro\n",
      "utc\n",
      "chevrolet\n",
      "33\n",
      "boats\n",
      "---------\n"
     ]
    },
    {
     "data": {
      "text/markdown": [
       "# drama"
      ],
      "text/plain": [
       "<IPython.core.display.Markdown object>"
      ]
     },
     "metadata": {},
     "output_type": "display_data"
    },
    {
     "data": {
      "text/markdown": [
       "#### Urban"
      ],
      "text/plain": [
       "<IPython.core.display.Markdown object>"
      ]
     },
     "metadata": {},
     "output_type": "display_data"
    },
    {
     "name": "stdout",
     "output_type": "stream",
     "text": [
      "---------\n",
      "movies\n",
      "comedy\n",
      "films\n",
      "spoilers\n",
      "shameless\n",
      "horror\n",
      "feud\n",
      "movie\n",
      "romance\n",
      "binge\n",
      "---------\n"
     ]
    },
    {
     "data": {
      "text/markdown": [
       "#### Rural"
      ],
      "text/plain": [
       "<IPython.core.display.Markdown object>"
      ]
     },
     "metadata": {},
     "output_type": "display_data"
    },
    {
     "name": "stdout",
     "output_type": "stream",
     "text": [
      "----------\n",
      "bullshit\n",
      "bs\n",
      "politics\n",
      "shit\n",
      "negativity\n",
      "nonsense\n",
      "stress\n",
      "arguing\n",
      "comedy\n",
      "bullying\n",
      "----------\n"
     ]
    },
    {
     "data": {
      "text/markdown": [
       "# sb"
      ],
      "text/plain": [
       "<IPython.core.display.Markdown object>"
      ]
     },
     "metadata": {},
     "output_type": "display_data"
    },
    {
     "data": {
      "text/markdown": [
       "#### Urban"
      ],
      "text/plain": [
       "<IPython.core.display.Markdown object>"
      ]
     },
     "metadata": {},
     "output_type": "display_data"
    },
    {
     "name": "stdout",
     "output_type": "stream",
     "text": [
      "-------\n",
      "nb\n",
      "eb\n",
      "wb\n",
      "fwy\n",
      "rd\n",
      "av\n",
      "cleared\n",
      "lanes\n",
      "freeway\n",
      "ave\n",
      "-------\n"
     ]
    },
    {
     "data": {
      "text/markdown": [
       "#### Rural"
      ],
      "text/plain": [
       "<IPython.core.display.Markdown object>"
      ]
     },
     "metadata": {},
     "output_type": "display_data"
    },
    {
     "name": "stdout",
     "output_type": "stream",
     "text": [
      "--------\n",
      "ot\n",
      "rams\n",
      "wildcats\n",
      "cc\n",
      "vikings\n",
      "gb\n",
      "mp\n",
      "fc\n",
      "usc\n",
      "trojans\n",
      "--------\n"
     ]
    },
    {
     "data": {
      "text/markdown": [
       "# ti"
      ],
      "text/plain": [
       "<IPython.core.display.Markdown object>"
      ]
     },
     "metadata": {},
     "output_type": "display_data"
    },
    {
     "data": {
      "text/markdown": [
       "#### Urban"
      ],
      "text/plain": [
       "<IPython.core.display.Markdown object>"
      ]
     },
     "metadata": {},
     "output_type": "display_data"
    },
    {
     "name": "stdout",
     "output_type": "stream",
     "text": [
      "-------\n",
      "mal\n",
      "gente\n",
      "ver\n",
      "eso\n",
      "siempre\n",
      "tu\n",
      "cuando\n",
      "amor\n",
      "nunca\n",
      "vida\n",
      "-------\n"
     ]
    },
    {
     "data": {
      "text/markdown": [
       "#### Rural"
      ],
      "text/plain": [
       "<IPython.core.display.Markdown object>"
      ]
     },
     "metadata": {},
     "output_type": "display_data"
    },
    {
     "name": "stdout",
     "output_type": "stream",
     "text": [
      "----\n",
      "una\n",
      "ser\n",
      "mas\n",
      "para\n",
      "como\n",
      "os\n",
      "su\n",
      "por\n",
      "te\n",
      "tu\n",
      "----\n"
     ]
    },
    {
     "data": {
      "text/markdown": [
       "# genuine"
      ],
      "text/plain": [
       "<IPython.core.display.Markdown object>"
      ]
     },
     "metadata": {},
     "output_type": "display_data"
    },
    {
     "data": {
      "text/markdown": [
       "#### Urban"
      ],
      "text/plain": [
       "<IPython.core.display.Markdown object>"
      ]
     },
     "metadata": {},
     "output_type": "display_data"
    },
    {
     "name": "stdout",
     "output_type": "stream",
     "text": [
      "-----------\n",
      "supportive\n",
      "intelligent\n",
      "honesty\n",
      "generous\n",
      "pure\n",
      "attractive\n",
      "honest\n",
      "mutual\n",
      "rare\n",
      "passionate\n",
      "-----------\n"
     ]
    },
    {
     "data": {
      "text/markdown": [
       "#### Rural"
      ],
      "text/plain": [
       "<IPython.core.display.Markdown object>"
      ]
     },
     "metadata": {},
     "output_type": "display_data"
    },
    {
     "name": "stdout",
     "output_type": "stream",
     "text": [
      "---------\n",
      "925\n",
      "turquoise\n",
      "necklace\n",
      "pendant\n",
      "authentic\n",
      "sterling\n",
      "bracelet\n",
      "gold\n",
      "silver\n",
      "earrings\n",
      "---------\n"
     ]
    },
    {
     "data": {
      "text/markdown": [
       "# como"
      ],
      "text/plain": [
       "<IPython.core.display.Markdown object>"
      ]
     },
     "metadata": {},
     "output_type": "display_data"
    },
    {
     "data": {
      "text/markdown": [
       "#### Urban"
      ],
      "text/plain": [
       "<IPython.core.display.Markdown object>"
      ]
     },
     "metadata": {},
     "output_type": "display_data"
    },
    {
     "name": "stdout",
     "output_type": "stream",
     "text": [
      "-------\n",
      "cuando\n",
      "mejor\n",
      "porque\n",
      "que\n",
      "hace\n",
      "siempre\n",
      "todo\n",
      "esta\n",
      "tiene\n",
      "hacer\n",
      "-------\n"
     ]
    },
    {
     "data": {
      "text/markdown": [
       "#### Rural"
      ],
      "text/plain": [
       "<IPython.core.display.Markdown object>"
      ]
     },
     "metadata": {},
     "output_type": "display_data"
    },
    {
     "name": "stdout",
     "output_type": "stream",
     "text": [
      "----\n",
      "una\n",
      "ser\n",
      "para\n",
      "que\n",
      "por\n",
      "mas\n",
      "pero\n",
      "si\n",
      "tu\n",
      "el\n",
      "----\n"
     ]
    },
    {
     "data": {
      "text/markdown": [
       "# tu"
      ],
      "text/plain": [
       "<IPython.core.display.Markdown object>"
      ]
     },
     "metadata": {},
     "output_type": "display_data"
    },
    {
     "data": {
      "text/markdown": [
       "#### Urban"
      ],
      "text/plain": [
       "<IPython.core.display.Markdown object>"
      ]
     },
     "metadata": {},
     "output_type": "display_data"
    },
    {
     "name": "stdout",
     "output_type": "stream",
     "text": [
      "------\n",
      "muy\n",
      "bien\n",
      "esta\n",
      "si\n",
      "porque\n",
      "mal\n",
      "estoy\n",
      "qu\n",
      "cuando\n",
      "mejor\n",
      "------\n"
     ]
    },
    {
     "data": {
      "text/markdown": [
       "#### Rural"
      ],
      "text/plain": [
       "<IPython.core.display.Markdown object>"
      ]
     },
     "metadata": {},
     "output_type": "display_data"
    },
    {
     "name": "stdout",
     "output_type": "stream",
     "text": [
      "----\n",
      "si\n",
      "je\n",
      "ni\n",
      "pero\n",
      "dia\n",
      "para\n",
      "mas\n",
      "una\n",
      "como\n",
      "por\n",
      "----\n"
     ]
    },
    {
     "data": {
      "text/markdown": [
       "# pe"
      ],
      "text/plain": [
       "<IPython.core.display.Markdown object>"
      ]
     },
     "metadata": {},
     "output_type": "display_data"
    },
    {
     "data": {
      "text/markdown": [
       "#### Urban"
      ],
      "text/plain": [
       "<IPython.core.display.Markdown object>"
      ]
     },
     "metadata": {},
     "output_type": "display_data"
    },
    {
     "name": "stdout",
     "output_type": "stream",
     "text": [
      "----\n",
      "su\n",
      "tr\n",
      "vi\n",
      "mas\n",
      "ser\n",
      "nos\n",
      "para\n",
      "se\n",
      "bo\n",
      "te\n",
      "----\n"
     ]
    },
    {
     "data": {
      "text/markdown": [
       "#### Rural"
      ],
      "text/plain": [
       "<IPython.core.display.Markdown object>"
      ]
     },
     "metadata": {},
     "output_type": "display_data"
    },
    {
     "name": "stdout",
     "output_type": "stream",
     "text": [
      "-----------\n",
      "engineering\n",
      "ss\n",
      "classroom\n",
      "master\n",
      "ap\n",
      "english\n",
      "stem\n",
      "ts\n",
      "a3\n",
      "culture\n",
      "-----------\n"
     ]
    },
    {
     "data": {
      "text/markdown": [
       "# nowplaying"
      ],
      "text/plain": [
       "<IPython.core.display.Markdown object>"
      ]
     },
     "metadata": {},
     "output_type": "display_data"
    },
    {
     "data": {
      "text/markdown": [
       "#### Urban"
      ],
      "text/plain": [
       "<IPython.core.display.Markdown object>"
      ]
     },
     "metadata": {},
     "output_type": "display_data"
    },
    {
     "name": "stdout",
     "output_type": "stream",
     "text": [
      "---------\n",
      "feat\n",
      "ft\n",
      "remix\n",
      "prod\n",
      "clean\n",
      "freestyle\n",
      "thug\n",
      "dre\n",
      "wiz\n",
      "dj\n",
      "---------\n"
     ]
    },
    {
     "data": {
      "text/markdown": [
       "#### Rural"
      ],
      "text/plain": [
       "<IPython.core.display.Markdown object>"
      ]
     },
     "metadata": {},
     "output_type": "display_data"
    },
    {
     "name": "stdout",
     "output_type": "stream",
     "text": [
      "--------\n",
      "singers\n",
      "psalm\n",
      "unto\n",
      "proverbs\n",
      "gospel\n",
      "praise\n",
      "lord\n",
      "matthew\n",
      "mighty\n",
      "jesus\n",
      "--------\n"
     ]
    },
    {
     "data": {
      "text/markdown": [
       "# ser"
      ],
      "text/plain": [
       "<IPython.core.display.Markdown object>"
      ]
     },
     "metadata": {},
     "output_type": "display_data"
    },
    {
     "data": {
      "text/markdown": [
       "#### Urban"
      ],
      "text/plain": [
       "<IPython.core.display.Markdown object>"
      ]
     },
     "metadata": {},
     "output_type": "display_data"
    },
    {
     "name": "stdout",
     "output_type": "stream",
     "text": [
      "-----\n",
      "hacer\n",
      "fue\n",
      "nunca\n",
      "hace\n",
      "todo\n",
      "nos\n",
      "tiene\n",
      "mejor\n",
      "esto\n",
      "como\n",
      "-----\n"
     ]
    },
    {
     "data": {
      "text/markdown": [
       "#### Rural"
      ],
      "text/plain": [
       "<IPython.core.display.Markdown object>"
      ]
     },
     "metadata": {},
     "output_type": "display_data"
    },
    {
     "name": "stdout",
     "output_type": "stream",
     "text": [
      "----\n",
      "como\n",
      "una\n",
      "por\n",
      "que\n",
      "para\n",
      "mas\n",
      "si\n",
      "ti\n",
      "pero\n",
      "su\n",
      "----\n"
     ]
    },
    {
     "data": {
      "text/markdown": [
       "# bot"
      ],
      "text/plain": [
       "<IPython.core.display.Markdown object>"
      ]
     },
     "metadata": {},
     "output_type": "display_data"
    },
    {
     "data": {
      "text/markdown": [
       "#### Urban"
      ],
      "text/plain": [
       "<IPython.core.display.Markdown object>"
      ]
     },
     "metadata": {},
     "output_type": "display_data"
    },
    {
     "name": "stdout",
     "output_type": "stream",
     "text": [
      "---------\n",
      "ovh\n",
      "troll\n",
      "login\n",
      "xmlrpc\n",
      "dataminer\n",
      "user\n",
      "network\n",
      "spam\n",
      "node\n",
      "bots\n",
      "---------\n"
     ]
    },
    {
     "data": {
      "text/markdown": [
       "#### Rural"
      ],
      "text/plain": [
       "<IPython.core.display.Markdown object>"
      ]
     },
     "metadata": {},
     "output_type": "display_data"
    },
    {
     "name": "stdout",
     "output_type": "stream",
     "text": [
      "------\n",
      "troll\n",
      "0e\n",
      "0h\n",
      "0r\n",
      "error\n",
      "1h\n",
      "hack\n",
      "spam\n",
      "pos\n",
      "bottom\n",
      "------\n"
     ]
    },
    {
     "data": {
      "text/markdown": [
       "# directions"
      ],
      "text/plain": [
       "<IPython.core.display.Markdown object>"
      ]
     },
     "metadata": {},
     "output_type": "display_data"
    },
    {
     "data": {
      "text/markdown": [
       "#### Urban"
      ],
      "text/plain": [
       "<IPython.core.display.Markdown object>"
      ]
     },
     "metadata": {},
     "output_type": "display_data"
    },
    {
     "name": "stdout",
     "output_type": "stream",
     "text": [
      "----------\n",
      "sides\n",
      "eb\n",
      "wb\n",
      "lanes\n",
      "incident\n",
      "nb\n",
      "avenue\n",
      "queens\n",
      "terminal\n",
      "expressway\n",
      "----------\n"
     ]
    },
    {
     "data": {
      "text/markdown": [
       "#### Rural"
      ],
      "text/plain": [
       "<IPython.core.display.Markdown object>"
      ]
     },
     "metadata": {},
     "output_type": "display_data"
    },
    {
     "name": "stdout",
     "output_type": "stream",
     "text": [
      "---------\n",
      "locations\n",
      "areas\n",
      "spots\n",
      "options\n",
      "rooms\n",
      "positions\n",
      "places\n",
      "cases\n",
      "letters\n",
      "homes\n",
      "---------\n"
     ]
    },
    {
     "data": {
      "text/markdown": [
       "# mill"
      ],
      "text/plain": [
       "<IPython.core.display.Markdown object>"
      ]
     },
     "metadata": {},
     "output_type": "display_data"
    },
    {
     "data": {
      "text/markdown": [
       "#### Urban"
      ],
      "text/plain": [
       "<IPython.core.display.Markdown object>"
      ]
     },
     "metadata": {},
     "output_type": "display_data"
    },
    {
     "name": "stdout",
     "output_type": "stream",
     "text": [
      "---------\n",
      "chainz\n",
      "mil\n",
      "5m\n",
      "pound\n",
      "cent\n",
      "meek\n",
      "1m\n",
      "nas\n",
      "billboard\n",
      "lbs\n",
      "---------\n"
     ]
    },
    {
     "data": {
      "text/markdown": [
       "#### Rural"
      ],
      "text/plain": [
       "<IPython.core.display.Markdown object>"
      ]
     },
     "metadata": {},
     "output_type": "display_data"
    },
    {
     "name": "stdout",
     "output_type": "stream",
     "text": [
      "--------\n",
      "rd\n",
      "pine\n",
      "grove\n",
      "ridge\n",
      "hills\n",
      "creek\n",
      "oak\n",
      "mills\n",
      "acres\n",
      "richmond\n",
      "--------\n"
     ]
    },
    {
     "data": {
      "text/markdown": [
       "# yasss"
      ],
      "text/plain": [
       "<IPython.core.display.Markdown object>"
      ]
     },
     "metadata": {},
     "output_type": "display_data"
    },
    {
     "data": {
      "text/markdown": [
       "#### Urban"
      ],
      "text/plain": [
       "<IPython.core.display.Markdown object>"
      ]
     },
     "metadata": {},
     "output_type": "display_data"
    },
    {
     "name": "stdout",
     "output_type": "stream",
     "text": [
      "---------\n",
      "yassss\n",
      "valentine\n",
      "gracias\n",
      "fit\n",
      "sake\n",
      "wendy\n",
      "daddy\n",
      "jo\n",
      "issa\n",
      "preciate\n",
      "---------\n"
     ]
    },
    {
     "data": {
      "text/markdown": [
       "#### Rural"
      ],
      "text/plain": [
       "<IPython.core.display.Markdown object>"
      ]
     },
     "metadata": {},
     "output_type": "display_data"
    },
    {
     "name": "stdout",
     "output_type": "stream",
     "text": [
      "--------\n",
      "hum\n",
      "wtmp\n",
      "sake\n",
      "patrick\n",
      "raising\n",
      "entered\n",
      "mwd\n",
      "l\n",
      "ty\n",
      "giveaway\n",
      "--------\n"
     ]
    },
    {
     "data": {
      "text/markdown": [
       "# subway"
      ],
      "text/plain": [
       "<IPython.core.display.Markdown object>"
      ]
     },
     "metadata": {},
     "output_type": "display_data"
    },
    {
     "data": {
      "text/markdown": [
       "#### Urban"
      ],
      "text/plain": [
       "<IPython.core.display.Markdown object>"
      ]
     },
     "metadata": {},
     "output_type": "display_data"
    },
    {
     "name": "stdout",
     "output_type": "stream",
     "text": [
      "---------\n",
      "train\n",
      "bus\n",
      "freeway\n",
      "rail\n",
      "street\n",
      "airport\n",
      "terminal\n",
      "passenger\n",
      "plane\n",
      "bridge\n",
      "---------\n"
     ]
    },
    {
     "data": {
      "text/markdown": [
       "#### Rural"
      ],
      "text/plain": [
       "<IPython.core.display.Markdown object>"
      ]
     },
     "metadata": {},
     "output_type": "display_data"
    },
    {
     "name": "stdout",
     "output_type": "stream",
     "text": [
      "----------\n",
      "mcdonalds\n",
      "starbucks\n",
      "chipotle\n",
      "walmart\n",
      "pizza\n",
      "donuts\n",
      "sushi\n",
      "restaurant\n",
      "mall\n",
      "chinese\n",
      "----------\n"
     ]
    },
    {
     "data": {
      "text/markdown": [
       "# buzz"
      ],
      "text/plain": [
       "<IPython.core.display.Markdown object>"
      ]
     },
     "metadata": {},
     "output_type": "display_data"
    },
    {
     "data": {
      "text/markdown": [
       "#### Urban"
      ],
      "text/plain": [
       "<IPython.core.display.Markdown object>"
      ]
     },
     "metadata": {},
     "output_type": "display_data"
    },
    {
     "name": "stdout",
     "output_type": "stream",
     "text": [
      "-------------\n",
      "roundup\n",
      "influencers\n",
      "reviews\n",
      "entertainment\n",
      "updates\n",
      "blogs\n",
      "echo\n",
      "ad\n",
      "links\n",
      "headlines\n",
      "-------------\n"
     ]
    },
    {
     "data": {
      "text/markdown": [
       "#### Rural"
      ],
      "text/plain": [
       "<IPython.core.display.Markdown object>"
      ]
     },
     "metadata": {},
     "output_type": "display_data"
    },
    {
     "name": "stdout",
     "output_type": "stream",
     "text": [
      "-------\n",
      "sea\n",
      "fresh\n",
      "bass\n",
      "rolling\n",
      "salmon\n",
      "blog\n",
      "podcast\n",
      "drum\n",
      "bee\n",
      "cherry\n",
      "-------\n"
     ]
    },
    {
     "data": {
      "text/markdown": [
       "# bts"
      ],
      "text/plain": [
       "<IPython.core.display.Markdown object>"
      ]
     },
     "metadata": {},
     "output_type": "display_data"
    },
    {
     "data": {
      "text/markdown": [
       "#### Urban"
      ],
      "text/plain": [
       "<IPython.core.display.Markdown object>"
      ]
     },
     "metadata": {},
     "output_type": "display_data"
    },
    {
     "name": "stdout",
     "output_type": "stream",
     "text": [
      "---------\n",
      "artist\n",
      "grammys\n",
      "mtv\n",
      "artists\n",
      "beyonc\n",
      "adele\n",
      "grammy\n",
      "beyonce\n",
      "demi\n",
      "producers\n",
      "---------\n"
     ]
    },
    {
     "data": {
      "text/markdown": [
       "#### Rural"
      ],
      "text/plain": [
       "<IPython.core.display.Markdown object>"
      ]
     },
     "metadata": {},
     "output_type": "display_data"
    },
    {
     "name": "stdout",
     "output_type": "stream",
     "text": [
      "----------\n",
      "artist\n",
      "awards\n",
      "voting\n",
      "vote\n",
      "award\n",
      "beyonc\n",
      "artists\n",
      "homecoming\n",
      "nicki\n",
      "nominee\n",
      "----------\n"
     ]
    },
    {
     "data": {
      "text/markdown": [
       "# fe"
      ],
      "text/plain": [
       "<IPython.core.display.Markdown object>"
      ]
     },
     "metadata": {},
     "output_type": "display_data"
    },
    {
     "data": {
      "text/markdown": [
       "#### Urban"
      ],
      "text/plain": [
       "<IPython.core.display.Markdown object>"
      ]
     },
     "metadata": {},
     "output_type": "display_data"
    },
    {
     "name": "stdout",
     "output_type": "stream",
     "text": [
      "-------\n",
      "monica\n",
      "barbara\n",
      "vista\n",
      "ana\n",
      "rancho\n",
      "oc\n",
      "venice\n",
      "trfc\n",
      "palm\n",
      "casa\n",
      "-------\n"
     ]
    },
    {
     "data": {
      "text/markdown": [
       "#### Rural"
      ],
      "text/plain": [
       "<IPython.core.display.Markdown object>"
      ]
     },
     "metadata": {},
     "output_type": "display_data"
    },
    {
     "name": "stdout",
     "output_type": "stream",
     "text": [
      "--------\n",
      "santa\n",
      "mi\n",
      "il\n",
      "ia\n",
      "larvitar\n",
      "fl\n",
      "ontario\n",
      "de\n",
      "ave\n",
      "hills\n",
      "--------\n"
     ]
    },
    {
     "data": {
      "text/markdown": [
       "# lana"
      ],
      "text/plain": [
       "<IPython.core.display.Markdown object>"
      ]
     },
     "metadata": {},
     "output_type": "display_data"
    },
    {
     "data": {
      "text/markdown": [
       "#### Urban"
      ],
      "text/plain": [
       "<IPython.core.display.Markdown object>"
      ]
     },
     "metadata": {},
     "output_type": "display_data"
    },
    {
     "name": "stdout",
     "output_type": "stream",
     "text": [
      "-------\n",
      "rey\n",
      "selena\n",
      "demi\n",
      "sza\n",
      "ariana\n",
      "rihanna\n",
      "liam\n",
      "adele\n",
      "drake\n",
      "britney\n",
      "-------\n"
     ]
    },
    {
     "data": {
      "text/markdown": [
       "#### Rural"
      ],
      "text/plain": [
       "<IPython.core.display.Markdown object>"
      ]
     },
     "metadata": {},
     "output_type": "display_data"
    },
    {
     "name": "stdout",
     "output_type": "stream",
     "text": [
      "----------\n",
      "rihanna\n",
      "rio\n",
      "soundtrack\n",
      "album\n",
      "katy\n",
      "kendrick\n",
      "jennifer\n",
      "del\n",
      "lamar\n",
      "sara\n",
      "----------\n"
     ]
    },
    {
     "data": {
      "text/markdown": [
       "# correction"
      ],
      "text/plain": [
       "<IPython.core.display.Markdown object>"
      ]
     },
     "metadata": {},
     "output_type": "display_data"
    },
    {
     "data": {
      "text/markdown": [
       "#### Urban"
      ],
      "text/plain": [
       "<IPython.core.display.Markdown object>"
      ]
     },
     "metadata": {},
     "output_type": "display_data"
    },
    {
     "name": "stdout",
     "output_type": "stream",
     "text": [
      "----------\n",
      "initial\n",
      "breach\n",
      "voter\n",
      "sec\n",
      "correct\n",
      "scientific\n",
      "poll\n",
      "primary\n",
      "typo\n",
      "mention\n",
      "----------\n"
     ]
    },
    {
     "data": {
      "text/markdown": [
       "#### Rural"
      ],
      "text/plain": [
       "<IPython.core.display.Markdown object>"
      ]
     },
     "metadata": {},
     "output_type": "display_data"
    },
    {
     "name": "stdout",
     "output_type": "stream",
     "text": [
      "---------\n",
      "delay\n",
      "final\n",
      "cc\n",
      "sb\n",
      "scoring\n",
      "murray\n",
      "carroll\n",
      "sectional\n",
      "scores\n",
      "timeout\n",
      "---------\n"
     ]
    },
    {
     "data": {
      "text/markdown": [
       "# sos"
      ],
      "text/plain": [
       "<IPython.core.display.Markdown object>"
      ]
     },
     "metadata": {},
     "output_type": "display_data"
    },
    {
     "data": {
      "text/markdown": [
       "#### Urban"
      ],
      "text/plain": [
       "<IPython.core.display.Markdown object>"
      ]
     },
     "metadata": {},
     "output_type": "display_data"
    },
    {
     "name": "stdout",
     "output_type": "stream",
     "text": [
      "--------\n",
      "noodles\n",
      "roommate\n",
      "pls\n",
      "como\n",
      "porque\n",
      "estoy\n",
      "quiero\n",
      "nuevo\n",
      "ser\n",
      "puppy\n",
      "--------\n"
     ]
    },
    {
     "data": {
      "text/markdown": [
       "#### Rural"
      ],
      "text/plain": [
       "<IPython.core.display.Markdown object>"
      ]
     },
     "metadata": {},
     "output_type": "display_data"
    },
    {
     "name": "stdout",
     "output_type": "stream",
     "text": [
      "---------\n",
      "pls\n",
      "plz\n",
      "asap\n",
      "chipotle\n",
      "starbucks\n",
      "lmk\n",
      "rn\n",
      "hmu\n",
      "urgent\n",
      "atm\n",
      "---------\n"
     ]
    },
    {
     "data": {
      "text/markdown": [
       "# replacing"
      ],
      "text/plain": [
       "<IPython.core.display.Markdown object>"
      ]
     },
     "metadata": {},
     "output_type": "display_data"
    },
    {
     "data": {
      "text/markdown": [
       "#### Urban"
      ],
      "text/plain": [
       "<IPython.core.display.Markdown object>"
      ]
     },
     "metadata": {},
     "output_type": "display_data"
    },
    {
     "name": "stdout",
     "output_type": "stream",
     "text": [
      "-------------\n",
      "replace\n",
      "dealing\n",
      "replaced\n",
      "investigating\n",
      "discussing\n",
      "destroying\n",
      "targeting\n",
      "associated\n",
      "proposed\n",
      "cutting\n",
      "-------------\n"
     ]
    },
    {
     "data": {
      "text/markdown": [
       "#### Rural"
      ],
      "text/plain": [
       "<IPython.core.display.Markdown object>"
      ]
     },
     "metadata": {},
     "output_type": "display_data"
    },
    {
     "name": "stdout",
     "output_type": "stream",
     "text": [
      "------------\n",
      "porter\n",
      "brewing\n",
      "focusing\n",
      "carbon\n",
      "leaf\n",
      "deck\n",
      "construction\n",
      "electric\n",
      "copper\n",
      "roof\n",
      "------------\n"
     ]
    },
    {
     "data": {
      "text/markdown": [
       "# flights"
      ],
      "text/plain": [
       "<IPython.core.display.Markdown object>"
      ]
     },
     "metadata": {},
     "output_type": "display_data"
    },
    {
     "data": {
      "text/markdown": [
       "#### Urban"
      ],
      "text/plain": [
       "<IPython.core.display.Markdown object>"
      ]
     },
     "metadata": {},
     "output_type": "display_data"
    },
    {
     "name": "stdout",
     "output_type": "stream",
     "text": [
      "----------\n",
      "flight\n",
      "roundtrip\n",
      "lax\n",
      "passengers\n",
      "buses\n",
      "hotels\n",
      "travel\n",
      "airline\n",
      "route\n",
      "terminal\n",
      "----------\n"
     ]
    },
    {
     "data": {
      "text/markdown": [
       "#### Rural"
      ],
      "text/plain": [
       "<IPython.core.display.Markdown object>"
      ]
     },
     "metadata": {},
     "output_type": "display_data"
    },
    {
     "name": "stdout",
     "output_type": "stream",
     "text": [
      "---------\n",
      "flight\n",
      "vehicles\n",
      "orders\n",
      "deaths\n",
      "roads\n",
      "beers\n",
      "trips\n",
      "cars\n",
      "units\n",
      "locations\n",
      "---------\n"
     ]
    },
    {
     "data": {
      "text/markdown": [
       "# lax"
      ],
      "text/plain": [
       "<IPython.core.display.Markdown object>"
      ]
     },
     "metadata": {},
     "output_type": "display_data"
    },
    {
     "data": {
      "text/markdown": [
       "#### Urban"
      ],
      "text/plain": [
       "<IPython.core.display.Markdown object>"
      ]
     },
     "metadata": {},
     "output_type": "display_data"
    },
    {
     "name": "stdout",
     "output_type": "stream",
     "text": [
      "----------\n",
      "airport\n",
      "jfk\n",
      "terminal\n",
      "plaza\n",
      "delta\n",
      "downtown\n",
      "disneyland\n",
      "seattle\n",
      "passenger\n",
      "flights\n",
      "----------\n"
     ]
    },
    {
     "data": {
      "text/markdown": [
       "#### Rural"
      ],
      "text/plain": [
       "<IPython.core.display.Markdown object>"
      ]
     },
     "metadata": {},
     "output_type": "display_data"
    },
    {
     "name": "stdout",
     "output_type": "stream",
     "text": [
      "----------\n",
      "lacrosse\n",
      "soccer\n",
      "tennis\n",
      "hoops\n",
      "volleyball\n",
      "bball\n",
      "softball\n",
      "basketball\n",
      "jv\n",
      "sectional\n",
      "----------\n"
     ]
    },
    {
     "data": {
      "text/markdown": [
       "# clear"
      ],
      "text/plain": [
       "<IPython.core.display.Markdown object>"
      ]
     },
     "metadata": {},
     "output_type": "display_data"
    },
    {
     "data": {
      "text/markdown": [
       "#### Urban"
      ],
      "text/plain": [
       "<IPython.core.display.Markdown object>"
      ]
     },
     "metadata": {},
     "output_type": "display_data"
    },
    {
     "name": "stdout",
     "output_type": "stream",
     "text": [
      "----------\n",
      "obvious\n",
      "reasonable\n",
      "valid\n",
      "simple\n",
      "consistent\n",
      "possible\n",
      "correct\n",
      "helpful\n",
      "useful\n",
      "aware\n",
      "----------\n"
     ]
    },
    {
     "data": {
      "text/markdown": [
       "#### Rural"
      ],
      "text/plain": [
       "<IPython.core.display.Markdown object>"
      ]
     },
     "metadata": {},
     "output_type": "display_data"
    },
    {
     "name": "stdout",
     "output_type": "stream",
     "text": [
      "--------\n",
      "overcast\n",
      "fog\n",
      "cloudy\n",
      "skies\n",
      "partly\n",
      "clouds\n",
      "dry\n",
      "moderate\n",
      "appears\n",
      "bright\n",
      "--------\n"
     ]
    },
    {
     "data": {
      "text/markdown": [
       "# montana"
      ],
      "text/plain": [
       "<IPython.core.display.Markdown object>"
      ]
     },
     "metadata": {},
     "output_type": "display_data"
    },
    {
     "data": {
      "text/markdown": [
       "#### Urban"
      ],
      "text/plain": [
       "<IPython.core.display.Markdown object>"
      ]
     },
     "metadata": {},
     "output_type": "display_data"
    },
    {
     "name": "stdout",
     "output_type": "stream",
     "text": [
      "-------\n",
      "baker\n",
      "french\n",
      "frankie\n",
      "trey\n",
      "minaj\n",
      "terry\n",
      "hannah\n",
      "migos\n",
      "drake\n",
      "calvin\n",
      "-------\n"
     ]
    },
    {
     "data": {
      "text/markdown": [
       "#### Rural"
      ],
      "text/plain": [
       "<IPython.core.display.Markdown object>"
      ]
     },
     "metadata": {},
     "output_type": "display_data"
    },
    {
     "name": "stdout",
     "output_type": "stream",
     "text": [
      "-----------\n",
      "virginia\n",
      "georgia\n",
      "mississippi\n",
      "southern\n",
      "delaware\n",
      "wisconsin\n",
      "texas\n",
      "california\n",
      "louisiana\n",
      "vermont\n",
      "-----------\n"
     ]
    },
    {
     "data": {
      "text/markdown": [
       "# forth"
      ],
      "text/plain": [
       "<IPython.core.display.Markdown object>"
      ]
     },
     "metadata": {},
     "output_type": "display_data"
    },
    {
     "data": {
      "text/markdown": [
       "#### Urban"
      ],
      "text/plain": [
       "<IPython.core.display.Markdown object>"
      ]
     },
     "metadata": {},
     "output_type": "display_data"
    },
    {
     "name": "stdout",
     "output_type": "stream",
     "text": [
      "----------\n",
      "bounce\n",
      "traffic\n",
      "bam\n",
      "negativity\n",
      "mia\n",
      "removing\n",
      "anger\n",
      "drama\n",
      "backwards\n",
      "towards\n",
      "----------\n"
     ]
    },
    {
     "data": {
      "text/markdown": [
       "#### Rural"
      ],
      "text/plain": [
       "<IPython.core.display.Markdown object>"
      ]
     },
     "metadata": {},
     "output_type": "display_data"
    },
    {
     "name": "stdout",
     "output_type": "stream",
     "text": [
      "--------\n",
      "tables\n",
      "together\n",
      "bounce\n",
      "effort\n",
      "memories\n",
      "heel\n",
      "joy\n",
      "into\n",
      "drama\n",
      "laughter\n",
      "--------\n"
     ]
    },
    {
     "data": {
      "text/markdown": [
       "# ap"
      ],
      "text/plain": [
       "<IPython.core.display.Markdown object>"
      ]
     },
     "metadata": {},
     "output_type": "display_data"
    },
    {
     "data": {
      "text/markdown": [
       "#### Urban"
      ],
      "text/plain": [
       "<IPython.core.display.Markdown object>"
      ]
     },
     "metadata": {},
     "output_type": "display_data"
    },
    {
     "name": "stdout",
     "output_type": "stream",
     "text": [
      "-------------\n",
      "harvard\n",
      "rocky\n",
      "dir\n",
      "mob\n",
      "georgia\n",
      "op\n",
      "virginia\n",
      "cb\n",
      "controversial\n",
      "cal\n",
      "-------------\n"
     ]
    },
    {
     "data": {
      "text/markdown": [
       "#### Rural"
      ],
      "text/plain": [
       "<IPython.core.display.Markdown object>"
      ]
     },
     "metadata": {},
     "output_type": "display_data"
    },
    {
     "name": "stdout",
     "output_type": "stream",
     "text": [
      "-----------\n",
      "comp\n",
      "engineering\n",
      "professor\n",
      "exam\n",
      "advanced\n",
      "math\n",
      "english\n",
      "pe\n",
      "institute\n",
      "technical\n",
      "-----------\n"
     ]
    },
    {
     "data": {
      "text/markdown": [
       "# hollywood"
      ],
      "text/plain": [
       "<IPython.core.display.Markdown object>"
      ]
     },
     "metadata": {},
     "output_type": "display_data"
    },
    {
     "data": {
      "text/markdown": [
       "#### Urban"
      ],
      "text/plain": [
       "<IPython.core.display.Markdown object>"
      ]
     },
     "metadata": {},
     "output_type": "display_data"
    },
    {
     "name": "stdout",
     "output_type": "stream",
     "text": [
      "--------\n",
      "theater\n",
      "village\n",
      "theatre\n",
      "hills\n",
      "beverly\n",
      "brooklyn\n",
      "studios\n",
      "venice\n",
      "cinema\n",
      "london\n",
      "--------\n"
     ]
    },
    {
     "data": {
      "text/markdown": [
       "#### Rural"
      ],
      "text/plain": [
       "<IPython.core.display.Markdown object>"
      ]
     },
     "metadata": {},
     "output_type": "display_data"
    },
    {
     "name": "stdout",
     "output_type": "stream",
     "text": [
      "----------\n",
      "british\n",
      "comedy\n",
      "actors\n",
      "horror\n",
      "kardashian\n",
      "cnn\n",
      "milo\n",
      "films\n",
      "celebrity\n",
      "marvel\n",
      "----------\n"
     ]
    },
    {
     "data": {
      "text/markdown": [
       "# wo"
      ],
      "text/plain": [
       "<IPython.core.display.Markdown object>"
      ]
     },
     "metadata": {},
     "output_type": "display_data"
    },
    {
     "data": {
      "text/markdown": [
       "#### Urban"
      ],
      "text/plain": [
       "<IPython.core.display.Markdown object>"
      ]
     },
     "metadata": {},
     "output_type": "display_data"
    },
    {
     "name": "stdout",
     "output_type": "stream",
     "text": [
      "----------\n",
      "ra\n",
      "ki\n",
      "principles\n",
      "di\n",
      "bu\n",
      "values\n",
      "ta\n",
      "language\n",
      "cont\n",
      "org\n",
      "----------\n"
     ]
    },
    {
     "data": {
      "text/markdown": [
       "#### Rural"
      ],
      "text/plain": [
       "<IPython.core.display.Markdown object>"
      ]
     },
     "metadata": {},
     "output_type": "display_data"
    },
    {
     "name": "stdout",
     "output_type": "stream",
     "text": [
      "-----------\n",
      "compassion\n",
      "comparison\n",
      "intelligent\n",
      "intended\n",
      "values\n",
      "unlike\n",
      "words\n",
      "hatred\n",
      "actions\n",
      "desire\n",
      "-----------\n"
     ]
    },
    {
     "data": {
      "text/markdown": [
       "# main"
      ],
      "text/plain": [
       "<IPython.core.display.Markdown object>"
      ]
     },
     "metadata": {},
     "output_type": "display_data"
    },
    {
     "data": {
      "text/markdown": [
       "#### Urban"
      ],
      "text/plain": [
       "<IPython.core.display.Markdown object>"
      ]
     },
     "metadata": {},
     "output_type": "display_data"
    },
    {
     "name": "stdout",
     "output_type": "stream",
     "text": [
      "--------\n",
      "premier\n",
      "third\n",
      "favorite\n",
      "broad\n",
      "biggest\n",
      "closest\n",
      "coolest\n",
      "current\n",
      "street\n",
      "fave\n",
      "--------\n"
     ]
    },
    {
     "data": {
      "text/markdown": [
       "#### Rural"
      ],
      "text/plain": [
       "<IPython.core.display.Markdown object>"
      ]
     },
     "metadata": {},
     "output_type": "display_data"
    },
    {
     "name": "stdout",
     "output_type": "stream",
     "text": [
      "--------\n",
      "closing\n",
      "crossing\n",
      "located\n",
      "street\n",
      "rd\n",
      "ga\n",
      "pole\n",
      "closed\n",
      "commerce\n",
      "nj\n",
      "--------\n"
     ]
    },
    {
     "data": {
      "text/markdown": [
       "# claims"
      ],
      "text/plain": [
       "<IPython.core.display.Markdown object>"
      ]
     },
     "metadata": {},
     "output_type": "display_data"
    },
    {
     "data": {
      "text/markdown": [
       "#### Urban"
      ],
      "text/plain": [
       "<IPython.core.display.Markdown object>"
      ]
     },
     "metadata": {},
     "output_type": "display_data"
    },
    {
     "name": "stdout",
     "output_type": "stream",
     "text": [
      "--------\n",
      "admits\n",
      "demands\n",
      "claimed\n",
      "alleged\n",
      "defends\n",
      "says\n",
      "reports\n",
      "warns\n",
      "claiming\n",
      "confirms\n",
      "--------\n"
     ]
    },
    {
     "data": {
      "text/markdown": [
       "#### Rural"
      ],
      "text/plain": [
       "<IPython.core.display.Markdown object>"
      ]
     },
     "metadata": {},
     "output_type": "display_data"
    },
    {
     "name": "stdout",
     "output_type": "stream",
     "text": [
      "-----------\n",
      "claiming\n",
      "seeks\n",
      "lawsuit\n",
      "threatened\n",
      "anti\n",
      "charges\n",
      "immigration\n",
      "appeal\n",
      "criminal\n",
      "policy\n",
      "-----------\n"
     ]
    },
    {
     "data": {
      "text/markdown": [
       "# spotted"
      ],
      "text/plain": [
       "<IPython.core.display.Markdown object>"
      ]
     },
     "metadata": {},
     "output_type": "display_data"
    },
    {
     "data": {
      "text/markdown": [
       "#### Urban"
      ],
      "text/plain": [
       "<IPython.core.display.Markdown object>"
      ]
     },
     "metadata": {},
     "output_type": "display_data"
    },
    {
     "name": "stdout",
     "output_type": "stream",
     "text": [
      "---------\n",
      "traveling\n",
      "airlines\n",
      "miles\n",
      "singapore\n",
      "91\n",
      "78\n",
      "69\n",
      "05\n",
      "33\n",
      "900\n",
      "---------\n"
     ]
    },
    {
     "data": {
      "text/markdown": [
       "#### Rural"
      ],
      "text/plain": [
       "<IPython.core.display.Markdown object>"
      ]
     },
     "metadata": {},
     "output_type": "display_data"
    },
    {
     "name": "stdout",
     "output_type": "stream",
     "text": [
      "----------\n",
      "found\n",
      "captured\n",
      "desert\n",
      "pond\n",
      "lodge\n",
      "discovered\n",
      "shell\n",
      "sea\n",
      "abandoned\n",
      "cave\n",
      "----------\n"
     ]
    },
    {
     "data": {
      "text/markdown": [
       "# reminder"
      ],
      "text/plain": [
       "<IPython.core.display.Markdown object>"
      ]
     },
     "metadata": {},
     "output_type": "display_data"
    },
    {
     "data": {
      "text/markdown": [
       "#### Urban"
      ],
      "text/plain": [
       "<IPython.core.display.Markdown object>"
      ]
     },
     "metadata": {},
     "output_type": "display_data"
    },
    {
     "name": "stdout",
     "output_type": "stream",
     "text": [
      "-----------\n",
      "basis\n",
      "distraction\n",
      "fyi\n",
      "quote\n",
      "question\n",
      "idea\n",
      "blessing\n",
      "message\n",
      "patriot\n",
      "joke\n",
      "-----------\n"
     ]
    },
    {
     "data": {
      "text/markdown": [
       "#### Rural"
      ],
      "text/plain": [
       "<IPython.core.display.Markdown object>"
      ]
     },
     "metadata": {},
     "output_type": "display_data"
    },
    {
     "name": "stdout",
     "output_type": "stream",
     "text": [
      "---------\n",
      "meeting\n",
      "fyi\n",
      "event\n",
      "practice\n",
      "hosting\n",
      "parent\n",
      "banquet\n",
      "retreat\n",
      "program\n",
      "gathering\n",
      "---------\n"
     ]
    },
    {
     "data": {
      "text/markdown": [
       "# dice"
      ],
      "text/plain": [
       "<IPython.core.display.Markdown object>"
      ]
     },
     "metadata": {},
     "output_type": "display_data"
    },
    {
     "data": {
      "text/markdown": [
       "#### Urban"
      ],
      "text/plain": [
       "<IPython.core.display.Markdown object>"
      ]
     },
     "metadata": {},
     "output_type": "display_data"
    },
    {
     "name": "stdout",
     "output_type": "stream",
     "text": [
      "------\n",
      "uno\n",
      "como\n",
      "dos\n",
      "eso\n",
      "bueno\n",
      "si\n",
      "nada\n",
      "nunca\n",
      "quiero\n",
      "stones\n",
      "------\n"
     ]
    },
    {
     "data": {
      "text/markdown": [
       "#### Rural"
      ],
      "text/plain": [
       "<IPython.core.display.Markdown object>"
      ]
     },
     "metadata": {},
     "output_type": "display_data"
    },
    {
     "name": "stdout",
     "output_type": "stream",
     "text": [
      "----\n",
      "solo\n",
      "hay\n",
      "tide\n",
      "drum\n",
      "ti\n",
      "te\n",
      "el\n",
      "horn\n",
      "una\n",
      "os\n",
      "----\n"
     ]
    },
    {
     "data": {
      "text/markdown": [
       "# ab"
      ],
      "text/plain": [
       "<IPython.core.display.Markdown object>"
      ]
     },
     "metadata": {},
     "output_type": "display_data"
    },
    {
     "data": {
      "text/markdown": [
       "#### Urban"
      ],
      "text/plain": [
       "<IPython.core.display.Markdown object>"
      ]
     },
     "metadata": {},
     "output_type": "display_data"
    },
    {
     "name": "stdout",
     "output_type": "stream",
     "text": [
      "-----\n",
      "abt\n",
      "about\n",
      "bout\n",
      "ss\n",
      "g\n",
      "nate\n",
      "q\n",
      "k\n",
      "psych\n",
      "l\n",
      "-----\n"
     ]
    },
    {
     "data": {
      "text/markdown": [
       "#### Rural"
      ],
      "text/plain": [
       "<IPython.core.display.Markdown object>"
      ]
     },
     "metadata": {},
     "output_type": "display_data"
    },
    {
     "name": "stdout",
     "output_type": "stream",
     "text": [
      "-------\n",
      "abt\n",
      "about\n",
      "bout\n",
      "lmao\n",
      "idc\n",
      "lmaoo\n",
      "lmfao\n",
      "funny\n",
      "jus\n",
      "deadass\n",
      "-------\n"
     ]
    },
    {
     "data": {
      "text/markdown": [
       "# shed"
      ],
      "text/plain": [
       "<IPython.core.display.Markdown object>"
      ]
     },
     "metadata": {},
     "output_type": "display_data"
    },
    {
     "data": {
      "text/markdown": [
       "#### Urban"
      ],
      "text/plain": [
       "<IPython.core.display.Markdown object>"
      ]
     },
     "metadata": {},
     "output_type": "display_data"
    },
    {
     "name": "stdout",
     "output_type": "stream",
     "text": [
      "--------\n",
      "stones\n",
      "concrete\n",
      "sweat\n",
      "trigger\n",
      "blood\n",
      "elephant\n",
      "bone\n",
      "plastic\n",
      "spill\n",
      "bones\n",
      "--------\n"
     ]
    },
    {
     "data": {
      "text/markdown": [
       "#### Rural"
      ],
      "text/plain": [
       "<IPython.core.display.Markdown object>"
      ]
     },
     "metadata": {},
     "output_type": "display_data"
    },
    {
     "name": "stdout",
     "output_type": "stream",
     "text": [
      "---------\n",
      "cpu\n",
      "gained\n",
      "barometer\n",
      "holes\n",
      "pct\n",
      "wc\n",
      "wd\n",
      "cents\n",
      "leaf\n",
      "plastic\n",
      "---------\n"
     ]
    },
    {
     "data": {
      "text/markdown": [
       "# usual"
      ],
      "text/plain": [
       "<IPython.core.display.Markdown object>"
      ]
     },
     "metadata": {},
     "output_type": "display_data"
    },
    {
     "data": {
      "text/markdown": [
       "#### Urban"
      ],
      "text/plain": [
       "<IPython.core.display.Markdown object>"
      ]
     },
     "metadata": {},
     "output_type": "display_data"
    },
    {
     "name": "stdout",
     "output_type": "stream",
     "text": [
      "--------\n",
      "less\n",
      "lower\n",
      "well\n",
      "calories\n",
      "hell\n",
      "steady\n",
      "slightly\n",
      "more\n",
      "higher\n",
      "thurs\n",
      "--------\n"
     ]
    },
    {
     "data": {
      "text/markdown": [
       "#### Rural"
      ],
      "text/plain": [
       "<IPython.core.display.Markdown object>"
      ]
     },
     "metadata": {},
     "output_type": "display_data"
    },
    {
     "name": "stdout",
     "output_type": "stream",
     "text": [
      "----------\n",
      "well\n",
      "hell\n",
      "potus\n",
      "prez\n",
      "classified\n",
      "bias\n",
      "as\n",
      "biased\n",
      "pale\n",
      "result\n",
      "----------\n"
     ]
    },
    {
     "data": {
      "text/markdown": [
       "# mls"
      ],
      "text/plain": [
       "<IPython.core.display.Markdown object>"
      ]
     },
     "metadata": {},
     "output_type": "display_data"
    },
    {
     "data": {
      "text/markdown": [
       "#### Urban"
      ],
      "text/plain": [
       "<IPython.core.display.Markdown object>"
      ]
     },
     "metadata": {},
     "output_type": "display_data"
    },
    {
     "name": "stdout",
     "output_type": "stream",
     "text": [
      "----------\n",
      "nhl\n",
      "arsenal\n",
      "mlb\n",
      "nfl\n",
      "fc\n",
      "eagles\n",
      "padres\n",
      "nba\n",
      "pittsburgh\n",
      "playoff\n",
      "----------\n"
     ]
    },
    {
     "data": {
      "text/markdown": [
       "#### Rural"
      ],
      "text/plain": [
       "<IPython.core.display.Markdown object>"
      ]
     },
     "metadata": {},
     "output_type": "display_data"
    },
    {
     "name": "stdout",
     "output_type": "stream",
     "text": [
      "-----------\n",
      "mn\n",
      "900\n",
      "richmond\n",
      "residential\n",
      "mill\n",
      "acres\n",
      "metro\n",
      "ga\n",
      "inc\n",
      "fl\n",
      "-----------\n"
     ]
    },
    {
     "data": {
      "text/markdown": [
       "# loop"
      ],
      "text/plain": [
       "<IPython.core.display.Markdown object>"
      ]
     },
     "metadata": {},
     "output_type": "display_data"
    },
    {
     "data": {
      "text/markdown": [
       "#### Urban"
      ],
      "text/plain": [
       "<IPython.core.display.Markdown object>"
      ]
     },
     "metadata": {},
     "output_type": "display_data"
    },
    {
     "name": "stdout",
     "output_type": "stream",
     "text": [
      "-------\n",
      "freeway\n",
      "located\n",
      "sw\n",
      "plaza\n",
      "nb\n",
      "highway\n",
      "eb\n",
      "blvd\n",
      "ave\n",
      "wb\n",
      "-------\n"
     ]
    },
    {
     "data": {
      "text/markdown": [
       "#### Rural"
      ],
      "text/plain": [
       "<IPython.core.display.Markdown object>"
      ]
     },
     "metadata": {},
     "output_type": "display_data"
    },
    {
     "name": "stdout",
     "output_type": "stream",
     "text": [
      "--------\n",
      "fence\n",
      "floating\n",
      "range\n",
      "roof\n",
      "desert\n",
      "tracks\n",
      "sand\n",
      "window\n",
      "pond\n",
      "cloud\n",
      "--------\n"
     ]
    },
    {
     "data": {
      "text/markdown": [
       "# earning"
      ],
      "text/plain": [
       "<IPython.core.display.Markdown object>"
      ]
     },
     "metadata": {},
     "output_type": "display_data"
    },
    {
     "data": {
      "text/markdown": [
       "#### Urban"
      ],
      "text/plain": [
       "<IPython.core.display.Markdown object>"
      ]
     },
     "metadata": {},
     "output_type": "display_data"
    },
    {
     "name": "stdout",
     "output_type": "stream",
     "text": [
      "----------\n",
      "investing\n",
      "using\n",
      "sticking\n",
      "struggling\n",
      "missing\n",
      "advance\n",
      "da\n",
      "clash\n",
      "bio\n",
      "learning\n",
      "----------\n"
     ]
    },
    {
     "data": {
      "text/markdown": [
       "#### Rural"
      ],
      "text/plain": [
       "<IPython.core.display.Markdown object>"
      ]
     },
     "metadata": {},
     "output_type": "display_data"
    },
    {
     "name": "stdout",
     "output_type": "stream",
     "text": [
      "-------------\n",
      "mplus\n",
      "da\n",
      "mpoints\n",
      "participated\n",
      "participating\n",
      "earn\n",
      "quest\n",
      "android\n",
      "download\n",
      "raising\n",
      "-------------\n"
     ]
    },
    {
     "data": {
      "text/markdown": [
       "# singles"
      ],
      "text/plain": [
       "<IPython.core.display.Markdown object>"
      ]
     },
     "metadata": {},
     "output_type": "display_data"
    },
    {
     "data": {
      "text/markdown": [
       "#### Urban"
      ],
      "text/plain": [
       "<IPython.core.display.Markdown object>"
      ]
     },
     "metadata": {},
     "output_type": "display_data"
    },
    {
     "name": "stdout",
     "output_type": "stream",
     "text": [
      "------------\n",
      "albums\n",
      "tracks\n",
      "songs\n",
      "titles\n",
      "performances\n",
      "charts\n",
      "subs\n",
      "beats\n",
      "tunes\n",
      "billboard\n",
      "------------\n"
     ]
    },
    {
     "data": {
      "text/markdown": [
       "#### Rural"
      ],
      "text/plain": [
       "<IPython.core.display.Markdown object>"
      ]
     },
     "metadata": {},
     "output_type": "display_data"
    },
    {
     "name": "stdout",
     "output_type": "stream",
     "text": [
      "--------\n",
      "doubles\n",
      "runners\n",
      "scores\n",
      "homer\n",
      "rbi\n",
      "outs\n",
      "runner\n",
      "scoring\n",
      "inning\n",
      "bulldogs\n",
      "--------\n"
     ]
    },
    {
     "data": {
      "text/markdown": [
       "# index"
      ],
      "text/plain": [
       "<IPython.core.display.Markdown object>"
      ]
     },
     "metadata": {},
     "output_type": "display_data"
    },
    {
     "data": {
      "text/markdown": [
       "#### Urban"
      ],
      "text/plain": [
       "<IPython.core.display.Markdown object>"
      ]
     },
     "metadata": {},
     "output_type": "display_data"
    },
    {
     "name": "stdout",
     "output_type": "stream",
     "text": [
      "---------\n",
      "earnings\n",
      "rate\n",
      "bitcoin\n",
      "stock\n",
      "analysis\n",
      "rankings\n",
      "trading\n",
      "revenue\n",
      "inventory\n",
      "rates\n",
      "---------\n"
     ]
    },
    {
     "data": {
      "text/markdown": [
       "#### Rural"
      ],
      "text/plain": [
       "<IPython.core.display.Markdown object>"
      ]
     },
     "metadata": {},
     "output_type": "display_data"
    },
    {
     "name": "stdout",
     "output_type": "stream",
     "text": [
      "--------\n",
      "heat\n",
      "76\n",
      "uv\n",
      "67\n",
      "83\n",
      "84\n",
      "87\n",
      "86\n",
      "96\n",
      "overcast\n",
      "--------\n"
     ]
    },
    {
     "data": {
      "text/markdown": [
       "# cr"
      ],
      "text/plain": [
       "<IPython.core.display.Markdown object>"
      ]
     },
     "metadata": {},
     "output_type": "display_data"
    },
    {
     "data": {
      "text/markdown": [
       "#### Urban"
      ],
      "text/plain": [
       "<IPython.core.display.Markdown object>"
      ]
     },
     "metadata": {},
     "output_type": "display_data"
    },
    {
     "name": "stdout",
     "output_type": "stream",
     "text": [
      "---------\n",
      "au\n",
      "du\n",
      "cu\n",
      "des\n",
      "launching\n",
      "br\n",
      "ra\n",
      "mal\n",
      "cara\n",
      "qu\n",
      "---------\n"
     ]
    },
    {
     "data": {
      "text/markdown": [
       "#### Rural"
      ],
      "text/plain": [
       "<IPython.core.display.Markdown object>"
      ]
     },
     "metadata": {},
     "output_type": "display_data"
    },
    {
     "name": "stdout",
     "output_type": "stream",
     "text": [
      "-----\n",
      "ia\n",
      "honda\n",
      "sr\n",
      "des\n",
      "sf\n",
      "mp\n",
      "ks\n",
      "route\n",
      "il\n",
      "lp\n",
      "-----\n"
     ]
    },
    {
     "data": {
      "text/markdown": [
       "# serial"
      ],
      "text/plain": [
       "<IPython.core.display.Markdown object>"
      ]
     },
     "metadata": {},
     "output_type": "display_data"
    },
    {
     "data": {
      "text/markdown": [
       "#### Urban"
      ],
      "text/plain": [
       "<IPython.core.display.Markdown object>"
      ]
     },
     "metadata": {},
     "output_type": "display_data"
    },
    {
     "name": "stdout",
     "output_type": "stream",
     "text": [
      "----------\n",
      "killer\n",
      "mystery\n",
      "murder\n",
      "journalist\n",
      "suspect\n",
      "hero\n",
      "victim\n",
      "comedian\n",
      "weapon\n",
      "witch\n",
      "----------\n"
     ]
    },
    {
     "data": {
      "text/markdown": [
       "#### Rural"
      ],
      "text/plain": [
       "<IPython.core.display.Markdown object>"
      ]
     },
     "metadata": {},
     "output_type": "display_data"
    },
    {
     "name": "stdout",
     "output_type": "stream",
     "text": [
      "----------\n",
      "novel\n",
      "danz\n",
      "available\n",
      "amendment\n",
      "order\n",
      "addiction\n",
      "generation\n",
      "idol\n",
      "paperback\n",
      "k\n",
      "----------\n"
     ]
    },
    {
     "data": {
      "text/markdown": [
       "# ss"
      ],
      "text/plain": [
       "<IPython.core.display.Markdown object>"
      ]
     },
     "metadata": {},
     "output_type": "display_data"
    },
    {
     "data": {
      "text/markdown": [
       "#### Urban"
      ],
      "text/plain": [
       "<IPython.core.display.Markdown object>"
      ]
     },
     "metadata": {},
     "output_type": "display_data"
    },
    {
     "name": "stdout",
     "output_type": "stream",
     "text": [
      "--------\n",
      "1b\n",
      "2b\n",
      "dk\n",
      "students\n",
      "wr\n",
      "sp\n",
      "pg\n",
      "h\n",
      "pts\n",
      "rb\n",
      "--------\n"
     ]
    },
    {
     "data": {
      "text/markdown": [
       "#### Rural"
      ],
      "text/plain": [
       "<IPython.core.display.Markdown object>"
      ]
     },
     "metadata": {},
     "output_type": "display_data"
    },
    {
     "name": "stdout",
     "output_type": "stream",
     "text": [
      "----------\n",
      "a3\n",
      "students\n",
      "ts\n",
      "a2\n",
      "teachers\n",
      "skills\n",
      "partners\n",
      "classroom\n",
      "creativity\n",
      "pe\n",
      "----------\n"
     ]
    },
    {
     "data": {
      "text/markdown": [
       "# traffic"
      ],
      "text/plain": [
       "<IPython.core.display.Markdown object>"
      ]
     },
     "metadata": {},
     "output_type": "display_data"
    },
    {
     "data": {
      "text/markdown": [
       "#### Urban"
      ],
      "text/plain": [
       "<IPython.core.display.Markdown object>"
      ]
     },
     "metadata": {},
     "output_type": "display_data"
    },
    {
     "name": "stdout",
     "output_type": "stream",
     "text": [
      "-------\n",
      "nb\n",
      "fwy\n",
      "eb\n",
      "freeway\n",
      "blvd\n",
      "route\n",
      "wb\n",
      "delay\n",
      "sb\n",
      "jammed\n",
      "-------\n"
     ]
    },
    {
     "data": {
      "text/markdown": [
       "#### Rural"
      ],
      "text/plain": [
       "<IPython.core.display.Markdown object>"
      ]
     },
     "metadata": {},
     "output_type": "display_data"
    },
    {
     "name": "stdout",
     "output_type": "stream",
     "text": [
      "------------\n",
      "vehicle\n",
      "construction\n",
      "signal\n",
      "hwy\n",
      "route\n",
      "roads\n",
      "crash\n",
      "caution\n",
      "highway\n",
      "bridge\n",
      "------------\n"
     ]
    },
    {
     "data": {
      "text/markdown": [
       "# bound"
      ],
      "text/plain": [
       "<IPython.core.display.Markdown object>"
      ]
     },
     "metadata": {},
     "output_type": "display_data"
    },
    {
     "data": {
      "text/markdown": [
       "#### Urban"
      ],
      "text/plain": [
       "<IPython.core.display.Markdown object>"
      ]
     },
     "metadata": {},
     "output_type": "display_data"
    },
    {
     "name": "stdout",
     "output_type": "stream",
     "text": [
      "----------\n",
      "expressway\n",
      "av\n",
      "nw\n",
      "buses\n",
      "rail\n",
      "trains\n",
      "shore\n",
      "avenue\n",
      "plaza\n",
      "delayed\n",
      "----------\n"
     ]
    },
    {
     "data": {
      "text/markdown": [
       "#### Rural"
      ],
      "text/plain": [
       "<IPython.core.display.Markdown object>"
      ]
     },
     "metadata": {},
     "output_type": "display_data"
    },
    {
     "name": "stdout",
     "output_type": "stream",
     "text": [
      "-----------\n",
      "headed\n",
      "heading\n",
      "going\n",
      "miami\n",
      "ohio\n",
      "kansas\n",
      "moving\n",
      "underway\n",
      "oklahoma\n",
      "mississippi\n",
      "-----------\n"
     ]
    },
    {
     "data": {
      "text/markdown": [
       "# cc"
      ],
      "text/plain": [
       "<IPython.core.display.Markdown object>"
      ]
     },
     "metadata": {},
     "output_type": "display_data"
    },
    {
     "data": {
      "text/markdown": [
       "#### Urban"
      ],
      "text/plain": [
       "<IPython.core.display.Markdown object>"
      ]
     },
     "metadata": {},
     "output_type": "display_data"
    },
    {
     "name": "stdout",
     "output_type": "stream",
     "text": [
      "------------\n",
      "flyer\n",
      "custom\n",
      "registration\n",
      "crystal\n",
      "link\n",
      "select\n",
      "details\n",
      "demo\n",
      "format\n",
      "logo\n",
      "------------\n"
     ]
    },
    {
     "data": {
      "text/markdown": [
       "#### Rural"
      ],
      "text/plain": [
       "<IPython.core.display.Markdown object>"
      ]
     },
     "metadata": {},
     "output_type": "display_data"
    },
    {
     "name": "stdout",
     "output_type": "stream",
     "text": [
      "------------\n",
      "marshall\n",
      "richmond\n",
      "sectional\n",
      "monroe\n",
      "sf\n",
      "fc\n",
      "carroll\n",
      "jv\n",
      "softball\n",
      "invitational\n",
      "------------\n"
     ]
    },
    {
     "data": {
      "text/markdown": [
       "# meanwhile"
      ],
      "text/plain": [
       "<IPython.core.display.Markdown object>"
      ]
     },
     "metadata": {},
     "output_type": "display_data"
    },
    {
     "data": {
      "text/markdown": [
       "#### Urban"
      ],
      "text/plain": [
       "<IPython.core.display.Markdown object>"
      ]
     },
     "metadata": {},
     "output_type": "display_data"
    },
    {
     "name": "stdout",
     "output_type": "stream",
     "text": [
      "----------\n",
      "while\n",
      "sitting\n",
      "quietly\n",
      "reportedly\n",
      "buried\n",
      "rally\n",
      "officially\n",
      "trapped\n",
      "robbed\n",
      "facing\n",
      "----------\n"
     ]
    },
    {
     "data": {
      "text/markdown": [
       "#### Rural"
      ],
      "text/plain": [
       "<IPython.core.display.Markdown object>"
      ]
     },
     "metadata": {},
     "output_type": "display_data"
    },
    {
     "name": "stdout",
     "output_type": "stream",
     "text": [
      "--------\n",
      "sitting\n",
      "while\n",
      "thrown\n",
      "portland\n",
      "airport\n",
      "streets\n",
      "texas\n",
      "stuck\n",
      "cheering\n",
      "hotel\n",
      "--------\n"
     ]
    },
    {
     "data": {
      "text/markdown": [
       "# pilot"
      ],
      "text/plain": [
       "<IPython.core.display.Markdown object>"
      ]
     },
     "metadata": {},
     "output_type": "display_data"
    },
    {
     "data": {
      "text/markdown": [
       "#### Urban"
      ],
      "text/plain": [
       "<IPython.core.display.Markdown object>"
      ]
     },
     "metadata": {},
     "output_type": "display_data"
    },
    {
     "name": "stdout",
     "output_type": "stream",
     "text": [
      "-----------\n",
      "reboot\n",
      "doc\n",
      "sequel\n",
      "film\n",
      "review\n",
      "documentary\n",
      "producer\n",
      "marvel\n",
      "starring\n",
      "hbo\n",
      "-----------\n"
     ]
    },
    {
     "data": {
      "text/markdown": [
       "#### Rural"
      ],
      "text/plain": [
       "<IPython.core.display.Markdown object>"
      ]
     },
     "metadata": {},
     "output_type": "display_data"
    },
    {
     "name": "stdout",
     "output_type": "stream",
     "text": [
      "----------\n",
      "jet\n",
      "drone\n",
      "phoenix\n",
      "discovery\n",
      "motorcycle\n",
      "landing\n",
      "marine\n",
      "commercial\n",
      "operations\n",
      "engineer\n",
      "----------\n"
     ]
    },
    {
     "data": {
      "text/markdown": [
       "# trending"
      ],
      "text/plain": [
       "<IPython.core.display.Markdown object>"
      ]
     },
     "metadata": {},
     "output_type": "display_data"
    },
    {
     "data": {
      "text/markdown": [
       "#### Urban"
      ],
      "text/plain": [
       "<IPython.core.display.Markdown object>"
      ]
     },
     "metadata": {},
     "output_type": "display_data"
    },
    {
     "name": "stdout",
     "output_type": "stream",
     "text": [
      "---------\n",
      "featured\n",
      "available\n",
      "pitching\n",
      "forbes\n",
      "elliott\n",
      "rotation\n",
      "anthony\n",
      "espn\n",
      "radar\n",
      "trends\n",
      "---------\n"
     ]
    },
    {
     "data": {
      "text/markdown": [
       "#### Rural"
      ],
      "text/plain": [
       "<IPython.core.display.Markdown object>"
      ]
     },
     "metadata": {},
     "output_type": "display_data"
    },
    {
     "name": "stdout",
     "output_type": "stream",
     "text": [
      "-----------\n",
      "trend\n",
      "chart\n",
      "poll\n",
      "user\n",
      "rank\n",
      "interesting\n",
      "updated\n",
      "product\n",
      "seo\n",
      "relevant\n",
      "-----------\n"
     ]
    },
    {
     "data": {
      "text/markdown": [
       "# ma"
      ],
      "text/plain": [
       "<IPython.core.display.Markdown object>"
      ]
     },
     "metadata": {},
     "output_type": "display_data"
    },
    {
     "data": {
      "text/markdown": [
       "#### Urban"
      ],
      "text/plain": [
       "<IPython.core.display.Markdown object>"
      ]
     },
     "metadata": {},
     "output_type": "display_data"
    },
    {
     "name": "stdout",
     "output_type": "stream",
     "text": [
      "-----\n",
      "ho\n",
      "tu\n",
      "yuh\n",
      "ay\n",
      "yung\n",
      "den\n",
      "yo\n",
      "ta\n",
      "yg\n",
      "holla\n",
      "-----\n"
     ]
    },
    {
     "data": {
      "text/markdown": [
       "#### Rural"
      ],
      "text/plain": [
       "<IPython.core.display.Markdown object>"
      ]
     },
     "metadata": {},
     "output_type": "display_data"
    },
    {
     "name": "stdout",
     "output_type": "stream",
     "text": [
      "------\n",
      "nh\n",
      "il\n",
      "wa\n",
      "pa\n",
      "nj\n",
      "ga\n",
      "avenue\n",
      "rd\n",
      "ave\n",
      "ln\n",
      "------\n"
     ]
    },
    {
     "data": {
      "text/markdown": [
       "# beats"
      ],
      "text/plain": [
       "<IPython.core.display.Markdown object>"
      ]
     },
     "metadata": {},
     "output_type": "display_data"
    },
    {
     "data": {
      "text/markdown": [
       "#### Urban"
      ],
      "text/plain": [
       "<IPython.core.display.Markdown object>"
      ]
     },
     "metadata": {},
     "output_type": "display_data"
    },
    {
     "name": "stdout",
     "output_type": "stream",
     "text": [
      "------------\n",
      "tracks\n",
      "singles\n",
      "freestyle\n",
      "mixtape\n",
      "cash\n",
      "samples\n",
      "tunes\n",
      "djs\n",
      "albums\n",
      "instrumental\n",
      "------------\n"
     ]
    },
    {
     "data": {
      "text/markdown": [
       "#### Rural"
      ],
      "text/plain": [
       "<IPython.core.display.Markdown object>"
      ]
     },
     "metadata": {},
     "output_type": "display_data"
    },
    {
     "name": "stdout",
     "output_type": "stream",
     "text": [
      "-------\n",
      "sets\n",
      "catches\n",
      "hits\n",
      "drops\n",
      "wins\n",
      "loses\n",
      "plays\n",
      "beat\n",
      "leads\n",
      "throws\n",
      "-------\n"
     ]
    },
    {
     "data": {
      "text/markdown": [
       "# bi"
      ],
      "text/plain": [
       "<IPython.core.display.Markdown object>"
      ]
     },
     "metadata": {},
     "output_type": "display_data"
    },
    {
     "data": {
      "text/markdown": [
       "#### Urban"
      ],
      "text/plain": [
       "<IPython.core.display.Markdown object>"
      ]
     },
     "metadata": {},
     "output_type": "display_data"
    },
    {
     "name": "stdout",
     "output_type": "stream",
     "text": [
      "--------\n",
      "queer\n",
      "gay\n",
      "hispanic\n",
      "bu\n",
      "latino\n",
      "trans\n",
      "ki\n",
      "pas\n",
      "feminist\n",
      "ta\n",
      "--------\n"
     ]
    },
    {
     "data": {
      "text/markdown": [
       "#### Rural"
      ],
      "text/plain": [
       "<IPython.core.display.Markdown object>"
      ]
     },
     "metadata": {},
     "output_type": "display_data"
    },
    {
     "name": "stdout",
     "output_type": "stream",
     "text": [
      "------\n",
      "bu\n",
      "aa\n",
      "gender\n",
      "po\n",
      "trans\n",
      "su\n",
      "und\n",
      "gay\n",
      "es\n",
      "ada\n",
      "------\n"
     ]
    },
    {
     "data": {
      "text/markdown": [
       "# tb"
      ],
      "text/plain": [
       "<IPython.core.display.Markdown object>"
      ]
     },
     "metadata": {},
     "output_type": "display_data"
    },
    {
     "data": {
      "text/markdown": [
       "#### Urban"
      ],
      "text/plain": [
       "<IPython.core.display.Markdown object>"
      ]
     },
     "metadata": {},
     "output_type": "display_data"
    },
    {
     "name": "stdout",
     "output_type": "stream",
     "text": [
      "------\n",
      "disc\n",
      "ay\n",
      "sr\n",
      "hp\n",
      "amo\n",
      "flex\n",
      "borrow\n",
      "yang\n",
      "hace\n",
      "dia\n",
      "------\n"
     ]
    },
    {
     "data": {
      "text/markdown": [
       "#### Rural"
      ],
      "text/plain": [
       "<IPython.core.display.Markdown object>"
      ]
     },
     "metadata": {},
     "output_type": "display_data"
    },
    {
     "name": "stdout",
     "output_type": "stream",
     "text": [
      "---------\n",
      "360\n",
      "ram\n",
      "chevrolet\n",
      "dodge\n",
      "toyota\n",
      "honda\n",
      "se\n",
      "pickup\n",
      "com\n",
      "triple\n",
      "---------\n"
     ]
    },
    {
     "data": {
      "text/markdown": [
       "# plain"
      ],
      "text/plain": [
       "<IPython.core.display.Markdown object>"
      ]
     },
     "metadata": {},
     "output_type": "display_data"
    },
    {
     "data": {
      "text/markdown": [
       "#### Urban"
      ],
      "text/plain": [
       "<IPython.core.display.Markdown object>"
      ]
     },
     "metadata": {},
     "output_type": "display_data"
    },
    {
     "name": "stdout",
     "output_type": "stream",
     "text": [
      "------------\n",
      "sexist\n",
      "filthy\n",
      "simple\n",
      "spelled\n",
      "gross\n",
      "worthless\n",
      "rhetoric\n",
      "onion\n",
      "surprisingly\n",
      "feminism\n",
      "------------\n"
     ]
    },
    {
     "data": {
      "text/markdown": [
       "#### Rural"
      ],
      "text/plain": [
       "<IPython.core.display.Markdown object>"
      ]
     },
     "metadata": {},
     "output_type": "display_data"
    },
    {
     "name": "stdout",
     "output_type": "stream",
     "text": [
      "-----------\n",
      "supremacist\n",
      "fascist\n",
      "hateful\n",
      "racist\n",
      "pure\n",
      "simply\n",
      "simple\n",
      "ignorant\n",
      "typical\n",
      "snowflake\n",
      "-----------\n"
     ]
    },
    {
     "data": {
      "text/markdown": [
       "# acc"
      ],
      "text/plain": [
       "<IPython.core.display.Markdown object>"
      ]
     },
     "metadata": {},
     "output_type": "display_data"
    },
    {
     "data": {
      "text/markdown": [
       "#### Urban"
      ],
      "text/plain": [
       "<IPython.core.display.Markdown object>"
      ]
     },
     "metadata": {},
     "output_type": "display_data"
    },
    {
     "name": "stdout",
     "output_type": "stream",
     "text": [
      "-----------\n",
      "corporation\n",
      "least\n",
      "account\n",
      "ea\n",
      "msg\n",
      "available\n",
      "acct\n",
      "twitch\n",
      "ps4\n",
      "gb\n",
      "-----------\n"
     ]
    },
    {
     "data": {
      "text/markdown": [
       "#### Rural"
      ],
      "text/plain": [
       "<IPython.core.display.Markdown object>"
      ]
     },
     "metadata": {},
     "output_type": "display_data"
    },
    {
     "name": "stdout",
     "output_type": "stream",
     "text": [
      "-------\n",
      "ncaa\n",
      "unc\n",
      "tourney\n",
      "team\n",
      "teams\n",
      "nba\n",
      "league\n",
      "usc\n",
      "nhl\n",
      "players\n",
      "-------\n"
     ]
    },
    {
     "data": {
      "text/markdown": [
       "# trading"
      ],
      "text/plain": [
       "<IPython.core.display.Markdown object>"
      ]
     },
     "metadata": {},
     "output_type": "display_data"
    },
    {
     "data": {
      "text/markdown": [
       "#### Urban"
      ],
      "text/plain": [
       "<IPython.core.display.Markdown object>"
      ]
     },
     "metadata": {},
     "output_type": "display_data"
    },
    {
     "name": "stdout",
     "output_type": "stream",
     "text": [
      "----------\n",
      "usd\n",
      "index\n",
      "earnings\n",
      "trade\n",
      "stocks\n",
      "deadline\n",
      "guaranteed\n",
      "bitcoin\n",
      "scores\n",
      "stock\n",
      "----------\n"
     ]
    },
    {
     "data": {
      "text/markdown": [
       "#### Rural"
      ],
      "text/plain": [
       "<IPython.core.display.Markdown object>"
      ]
     },
     "metadata": {},
     "output_type": "display_data"
    },
    {
     "name": "stdout",
     "output_type": "stream",
     "text": [
      "---------\n",
      "trade\n",
      "traded\n",
      "signing\n",
      "wire\n",
      "franchise\n",
      "buying\n",
      "draft\n",
      "butler\n",
      "rookie\n",
      "receiving\n",
      "---------\n"
     ]
    },
    {
     "data": {
      "text/markdown": [
       "# radar"
      ],
      "text/plain": [
       "<IPython.core.display.Markdown object>"
      ]
     },
     "metadata": {},
     "output_type": "display_data"
    },
    {
     "data": {
      "text/markdown": [
       "#### Urban"
      ],
      "text/plain": [
       "<IPython.core.display.Markdown object>"
      ]
     },
     "metadata": {},
     "output_type": "display_data"
    },
    {
     "name": "stdout",
     "output_type": "stream",
     "text": [
      "--------\n",
      "mount\n",
      "roster\n",
      "0000\n",
      "roof\n",
      "prospect\n",
      "rotation\n",
      "utc\n",
      "trending\n",
      "ground\n",
      "current\n",
      "--------\n"
     ]
    },
    {
     "data": {
      "text/markdown": [
       "#### Rural"
      ],
      "text/plain": [
       "<IPython.core.display.Markdown object>"
      ]
     },
     "metadata": {},
     "output_type": "display_data"
    },
    {
     "name": "stdout",
     "output_type": "stream",
     "text": [
      "--------\n",
      "tracking\n",
      "tornado\n",
      "fog\n",
      "surface\n",
      "flooding\n",
      "nws\n",
      "pond\n",
      "forecast\n",
      "storms\n",
      "winds\n",
      "--------\n"
     ]
    },
    {
     "data": {
      "text/markdown": [
       "# fu"
      ],
      "text/plain": [
       "<IPython.core.display.Markdown object>"
      ]
     },
     "metadata": {},
     "output_type": "display_data"
    },
    {
     "data": {
      "text/markdown": [
       "#### Urban"
      ],
      "text/plain": [
       "<IPython.core.display.Markdown object>"
      ]
     },
     "metadata": {},
     "output_type": "display_data"
    },
    {
     "name": "stdout",
     "output_type": "stream",
     "text": [
      "------\n",
      "kung\n",
      "ki\n",
      "ho\n",
      "yung\n",
      "ka\n",
      "ta\n",
      "po\n",
      "ba\n",
      "talaga\n",
      "hindi\n",
      "------\n"
     ]
    },
    {
     "data": {
      "text/markdown": [
       "#### Rural"
      ],
      "text/plain": [
       "<IPython.core.display.Markdown object>"
      ]
     },
     "metadata": {},
     "output_type": "display_data"
    },
    {
     "name": "stdout",
     "output_type": "stream",
     "text": [
      "------\n",
      "punk\n",
      "ho\n",
      "puppet\n",
      "ck\n",
      "das\n",
      "donnie\n",
      "smash\n",
      "mel\n",
      "bo\n",
      "rich\n",
      "------\n"
     ]
    },
    {
     "data": {
      "text/markdown": [
       "# highly"
      ],
      "text/plain": [
       "<IPython.core.display.Markdown object>"
      ]
     },
     "metadata": {},
     "output_type": "display_data"
    },
    {
     "data": {
      "text/markdown": [
       "#### Urban"
      ],
      "text/plain": [
       "<IPython.core.display.Markdown object>"
      ]
     },
     "metadata": {},
     "output_type": "display_data"
    },
    {
     "name": "stdout",
     "output_type": "stream",
     "text": [
      "------------\n",
      "strongly\n",
      "particularly\n",
      "fairly\n",
      "somewhat\n",
      "helpful\n",
      "genuinely\n",
      "generally\n",
      "useful\n",
      "deeply\n",
      "practical\n",
      "------------\n"
     ]
    },
    {
     "data": {
      "text/markdown": [
       "#### Rural"
      ],
      "text/plain": [
       "<IPython.core.display.Markdown object>"
      ]
     },
     "metadata": {},
     "output_type": "display_data"
    },
    {
     "name": "stdout",
     "output_type": "stream",
     "text": [
      "-----------\n",
      "strongly\n",
      "extremely\n",
      "incredibly\n",
      "recommended\n",
      "fully\n",
      "genuinely\n",
      "reasonable\n",
      "writer\n",
      "personally\n",
      "rarely\n",
      "-----------\n"
     ]
    },
    {
     "data": {
      "text/markdown": [
       "# viral"
      ],
      "text/plain": [
       "<IPython.core.display.Markdown object>"
      ]
     },
     "metadata": {},
     "output_type": "display_data"
    },
    {
     "data": {
      "text/markdown": [
       "#### Urban"
      ],
      "text/plain": [
       "<IPython.core.display.Markdown object>"
      ]
     },
     "metadata": {},
     "output_type": "display_data"
    },
    {
     "name": "stdout",
     "output_type": "stream",
     "text": [
      "-------------\n",
      "buzzfeed\n",
      "nuts\n",
      "hilarious\n",
      "crazy\n",
      "through\n",
      "celebrity\n",
      "pinterest\n",
      "controversial\n",
      "instagram\n",
      "lyric\n",
      "-------------\n"
     ]
    },
    {
     "data": {
      "text/markdown": [
       "#### Rural"
      ],
      "text/plain": [
       "<IPython.core.display.Markdown object>"
      ]
     },
     "metadata": {},
     "output_type": "display_data"
    },
    {
     "name": "stdout",
     "output_type": "stream",
     "text": [
      "----------\n",
      "insane\n",
      "jail\n",
      "nuts\n",
      "lyric\n",
      "backwards\n",
      "meme\n",
      "youtube\n",
      "prison\n",
      "kardashian\n",
      "upload\n",
      "----------\n"
     ]
    },
    {
     "data": {
      "text/markdown": [
       "# overnight"
      ],
      "text/plain": [
       "<IPython.core.display.Markdown object>"
      ]
     },
     "metadata": {},
     "output_type": "display_data"
    },
    {
     "data": {
      "text/markdown": [
       "#### Urban"
      ],
      "text/plain": [
       "<IPython.core.display.Markdown object>"
      ]
     },
     "metadata": {},
     "output_type": "display_data"
    },
    {
     "name": "stdout",
     "output_type": "stream",
     "text": [
      "---------\n",
      "market\n",
      "automatic\n",
      "egg\n",
      "repair\n",
      "operation\n",
      "rail\n",
      "efficient\n",
      "vehicle\n",
      "olive\n",
      "fuel\n",
      "---------\n"
     ]
    },
    {
     "data": {
      "text/markdown": [
       "#### Rural"
      ],
      "text/plain": [
       "<IPython.core.display.Markdown object>"
      ]
     },
     "metadata": {},
     "output_type": "display_data"
    },
    {
     "name": "stdout",
     "output_type": "stream",
     "text": [
      "----------\n",
      "fog\n",
      "moderate\n",
      "emergency\n",
      "safely\n",
      "flooding\n",
      "afternoon\n",
      "conditions\n",
      "freezing\n",
      "overcast\n",
      "traffic\n",
      "----------\n"
     ]
    },
    {
     "data": {
      "text/markdown": [
       "# folk"
      ],
      "text/plain": [
       "<IPython.core.display.Markdown object>"
      ]
     },
     "metadata": {},
     "output_type": "display_data"
    },
    {
     "data": {
      "text/markdown": [
       "#### Urban"
      ],
      "text/plain": [
       "<IPython.core.display.Markdown object>"
      ]
     },
     "metadata": {},
     "output_type": "display_data"
    },
    {
     "name": "stdout",
     "output_type": "stream",
     "text": [
      "------------\n",
      "folks\n",
      "supremacists\n",
      "gays\n",
      "men\n",
      "christians\n",
      "latino\n",
      "whites\n",
      "supremacy\n",
      "peoples\n",
      "poc\n",
      "------------\n"
     ]
    },
    {
     "data": {
      "text/markdown": [
       "#### Rural"
      ],
      "text/plain": [
       "<IPython.core.display.Markdown object>"
      ]
     },
     "metadata": {},
     "output_type": "display_data"
    },
    {
     "name": "stdout",
     "output_type": "stream",
     "text": [
      "-------\n",
      "artists\n",
      "folks\n",
      "kodak\n",
      "roots\n",
      "african\n",
      "lovers\n",
      "culture\n",
      "beatles\n",
      "chicks\n",
      "german\n",
      "-------\n"
     ]
    },
    {
     "data": {
      "text/markdown": [
       "# 2x"
      ],
      "text/plain": [
       "<IPython.core.display.Markdown object>"
      ]
     },
     "metadata": {},
     "output_type": "display_data"
    },
    {
     "data": {
      "text/markdown": [
       "#### Urban"
      ],
      "text/plain": [
       "<IPython.core.display.Markdown object>"
      ]
     },
     "metadata": {},
     "output_type": "display_data"
    },
    {
     "name": "stdout",
     "output_type": "stream",
     "text": [
      "--------\n",
      "3x\n",
      "v2\n",
      "350\n",
      "adidas\n",
      "1\n",
      "120\n",
      "reg\n",
      "platinum\n",
      "500\n",
      "5k\n",
      "--------\n"
     ]
    },
    {
     "data": {
      "text/markdown": [
       "#### Rural"
      ],
      "text/plain": [
       "<IPython.core.display.Markdown object>"
      ]
     },
     "metadata": {},
     "output_type": "display_data"
    },
    {
     "name": "stdout",
     "output_type": "stream",
     "text": [
      "------\n",
      "xl\n",
      "sz\n",
      "size\n",
      "medium\n",
      "plus\n",
      "lb\n",
      "cotton\n",
      "nike\n",
      "tops\n",
      "75\n",
      "------\n"
     ]
    },
    {
     "data": {
      "text/markdown": [
       "# single"
      ],
      "text/plain": [
       "<IPython.core.display.Markdown object>"
      ]
     },
     "metadata": {},
     "output_type": "display_data"
    },
    {
     "data": {
      "text/markdown": [
       "#### Urban"
      ],
      "text/plain": [
       "<IPython.core.display.Markdown object>"
      ]
     },
     "metadata": {},
     "output_type": "display_data"
    },
    {
     "name": "stdout",
     "output_type": "stream",
     "text": [
      "-------\n",
      "song\n",
      "mixtape\n",
      "banger\n",
      "album\n",
      "verse\n",
      "bop\n",
      "penny\n",
      "track\n",
      "wave\n",
      "lyric\n",
      "-------\n"
     ]
    },
    {
     "data": {
      "text/markdown": [
       "#### Rural"
      ],
      "text/plain": [
       "<IPython.core.display.Markdown object>"
      ]
     },
     "metadata": {},
     "output_type": "display_data"
    },
    {
     "name": "stdout",
     "output_type": "stream",
     "text": [
      "------\n",
      "dime\n",
      "lonely\n",
      "penny\n",
      "blunt\n",
      "rbi\n",
      "broken\n",
      "song\n",
      "second\n",
      "one\n",
      "counts\n",
      "------\n"
     ]
    },
    {
     "data": {
      "text/markdown": [
       "# mansion"
      ],
      "text/plain": [
       "<IPython.core.display.Markdown object>"
      ]
     },
     "metadata": {},
     "output_type": "display_data"
    },
    {
     "data": {
      "text/markdown": [
       "#### Urban"
      ],
      "text/plain": [
       "<IPython.core.display.Markdown object>"
      ]
     },
     "metadata": {},
     "output_type": "display_data"
    },
    {
     "name": "stdout",
     "output_type": "stream",
     "text": [
      "----------\n",
      "casino\n",
      "hotel\n",
      "palace\n",
      "warehouse\n",
      "playboy\n",
      "apartments\n",
      "lounge\n",
      "malibu\n",
      "auction\n",
      "venice\n",
      "----------\n"
     ]
    },
    {
     "data": {
      "text/markdown": [
       "#### Rural"
      ],
      "text/plain": [
       "<IPython.core.display.Markdown object>"
      ]
     },
     "metadata": {},
     "output_type": "display_data"
    },
    {
     "name": "stdout",
     "output_type": "stream",
     "text": [
      "---------\n",
      "entry\n",
      "vip\n",
      "nite\n",
      "atl\n",
      "lounge\n",
      "strippers\n",
      "party\n",
      "11pm\n",
      "txt\n",
      "resort\n",
      "---------\n"
     ]
    },
    {
     "data": {
      "text/markdown": [
       "# traveled"
      ],
      "text/plain": [
       "<IPython.core.display.Markdown object>"
      ]
     },
     "metadata": {},
     "output_type": "display_data"
    },
    {
     "data": {
      "text/markdown": [
       "#### Urban"
      ],
      "text/plain": [
       "<IPython.core.display.Markdown object>"
      ]
     },
     "metadata": {},
     "output_type": "display_data"
    },
    {
     "name": "stdout",
     "output_type": "stream",
     "text": [
      "------------\n",
      "moved\n",
      "drove\n",
      "landed\n",
      "flew\n",
      "survived\n",
      "learned\n",
      "lived\n",
      "accomplished\n",
      "developed\n",
      "reached\n",
      "------------\n"
     ]
    },
    {
     "data": {
      "text/markdown": [
       "#### Rural"
      ],
      "text/plain": [
       "<IPython.core.display.Markdown object>"
      ]
     },
     "metadata": {},
     "output_type": "display_data"
    },
    {
     "name": "stdout",
     "output_type": "stream",
     "text": [
      "----------\n",
      "miles\n",
      "drove\n",
      "followed\n",
      "unfollowed\n",
      "returned\n",
      "wells\n",
      "terry\n",
      "survived\n",
      "mile\n",
      "thomas\n",
      "----------\n"
     ]
    },
    {
     "data": {
      "text/markdown": [
       "# tackle"
      ],
      "text/plain": [
       "<IPython.core.display.Markdown object>"
      ]
     },
     "metadata": {},
     "output_type": "display_data"
    },
    {
     "data": {
      "text/markdown": [
       "#### Urban"
      ],
      "text/plain": [
       "<IPython.core.display.Markdown object>"
      ]
     },
     "metadata": {},
     "output_type": "display_data"
    },
    {
     "name": "stdout",
     "output_type": "stream",
     "text": [
      "--------\n",
      "beam\n",
      "zen\n",
      "overcome\n",
      "develop\n",
      "lead\n",
      "leads\n",
      "hyper\n",
      "spark\n",
      "solve\n",
      "combine\n",
      "--------\n"
     ]
    },
    {
     "data": {
      "text/markdown": [
       "#### Rural"
      ],
      "text/plain": [
       "<IPython.core.display.Markdown object>"
      ]
     },
     "metadata": {},
     "output_type": "display_data"
    },
    {
     "name": "stdout",
     "output_type": "stream",
     "text": [
      "--------\n",
      "leaf\n",
      "beam\n",
      "crunch\n",
      "appeared\n",
      "cp\n",
      "iv\n",
      "tail\n",
      "bite\n",
      "ball\n",
      "29m\n",
      "--------\n"
     ]
    },
    {
     "data": {
      "text/markdown": [
       "# par"
      ],
      "text/plain": [
       "<IPython.core.display.Markdown object>"
      ]
     },
     "metadata": {},
     "output_type": "display_data"
    },
    {
     "data": {
      "text/markdown": [
       "#### Urban"
      ],
      "text/plain": [
       "<IPython.core.display.Markdown object>"
      ]
     },
     "metadata": {},
     "output_type": "display_data"
    },
    {
     "name": "stdout",
     "output_type": "stream",
     "text": [
      "-------\n",
      "ir\n",
      "nos\n",
      "ml\n",
      "starter\n",
      "hp\n",
      "tied\n",
      "du\n",
      "doubles\n",
      "ra\n",
      "ki\n",
      "-------\n"
     ]
    },
    {
     "data": {
      "text/markdown": [
       "#### Rural"
      ],
      "text/plain": [
       "<IPython.core.display.Markdown object>"
      ]
     },
     "metadata": {},
     "output_type": "display_data"
    },
    {
     "name": "stdout",
     "output_type": "stream",
     "text": [
      "--------\n",
      "ranked\n",
      "pp\n",
      "bench\n",
      "roster\n",
      "sub\n",
      "net\n",
      "doubles\n",
      "starters\n",
      "scoring\n",
      "runners\n",
      "--------\n"
     ]
    },
    {
     "data": {
      "text/markdown": [
       "# banks"
      ],
      "text/plain": [
       "<IPython.core.display.Markdown object>"
      ]
     },
     "metadata": {},
     "output_type": "display_data"
    },
    {
     "data": {
      "text/markdown": [
       "#### Urban"
      ],
      "text/plain": [
       "<IPython.core.display.Markdown object>"
      ]
     },
     "metadata": {},
     "output_type": "display_data"
    },
    {
     "name": "stdout",
     "output_type": "stream",
     "text": [
      "---------\n",
      "investors\n",
      "stocks\n",
      "markets\n",
      "companies\n",
      "startups\n",
      "gains\n",
      "reuters\n",
      "assets\n",
      "earnings\n",
      "china\n",
      "---------\n"
     ]
    },
    {
     "data": {
      "text/markdown": [
       "#### Rural"
      ],
      "text/plain": [
       "<IPython.core.display.Markdown object>"
      ]
     },
     "metadata": {},
     "output_type": "display_data"
    },
    {
     "name": "stdout",
     "output_type": "stream",
     "text": [
      "----------\n",
      "lands\n",
      "companies\n",
      "california\n",
      "businesses\n",
      "pipeline\n",
      "funds\n",
      "cities\n",
      "warren\n",
      "coal\n",
      "funding\n",
      "----------\n"
     ]
    },
    {
     "data": {
      "text/markdown": [
       "# surprise"
      ],
      "text/plain": [
       "<IPython.core.display.Markdown object>"
      ]
     },
     "metadata": {},
     "output_type": "display_data"
    },
    {
     "data": {
      "text/markdown": [
       "#### Urban"
      ],
      "text/plain": [
       "<IPython.core.display.Markdown object>"
      ]
     },
     "metadata": {},
     "output_type": "display_data"
    },
    {
     "name": "stdout",
     "output_type": "stream",
     "text": [
      "------------\n",
      "date\n",
      "surprises\n",
      "announcement\n",
      "bash\n",
      "hint\n",
      "pun\n",
      "doubt\n",
      "invite\n",
      "return\n",
      "cutie\n",
      "------------\n"
     ]
    },
    {
     "data": {
      "text/markdown": [
       "#### Rural"
      ],
      "text/plain": [
       "<IPython.core.display.Markdown object>"
      ]
     },
     "metadata": {},
     "output_type": "display_data"
    },
    {
     "name": "stdout",
     "output_type": "stream",
     "text": [
      "--------\n",
      "invite\n",
      "deal\n",
      "hug\n",
      "message\n",
      "mess\n",
      "question\n",
      "answer\n",
      "roast\n",
      "date\n",
      "concern\n",
      "--------\n"
     ]
    },
    {
     "data": {
      "text/markdown": [
       "# holy"
      ],
      "text/plain": [
       "<IPython.core.display.Markdown object>"
      ]
     },
     "metadata": {},
     "output_type": "display_data"
    },
    {
     "data": {
      "text/markdown": [
       "#### Urban"
      ],
      "text/plain": [
       "<IPython.core.display.Markdown object>"
      ]
     },
     "metadata": {},
     "output_type": "display_data"
    },
    {
     "name": "stdout",
     "output_type": "stream",
     "text": [
      "------------\n",
      "literal\n",
      "oh\n",
      "ohhhh\n",
      "absolute\n",
      "piece\n",
      "unbelievable\n",
      "bloody\n",
      "sack\n",
      "bull\n",
      "aw\n",
      "------------\n"
     ]
    },
    {
     "data": {
      "text/markdown": [
       "#### Rural"
      ],
      "text/plain": [
       "<IPython.core.display.Markdown object>"
      ]
     },
     "metadata": {},
     "output_type": "display_data"
    },
    {
     "name": "stdout",
     "output_type": "stream",
     "text": [
      "--------\n",
      "bull\n",
      "wicked\n",
      "goddamn\n",
      "piece\n",
      "pure\n",
      "aged\n",
      "complete\n",
      "jesus\n",
      "christ\n",
      "dead\n",
      "--------\n"
     ]
    },
    {
     "data": {
      "text/markdown": [
       "# incident"
      ],
      "text/plain": [
       "<IPython.core.display.Markdown object>"
      ]
     },
     "metadata": {},
     "output_type": "display_data"
    },
    {
     "data": {
      "text/markdown": [
       "#### Urban"
      ],
      "text/plain": [
       "<IPython.core.display.Markdown object>"
      ]
     },
     "metadata": {},
     "output_type": "display_data"
    },
    {
     "name": "stdout",
     "output_type": "stream",
     "text": [
      "------------\n",
      "eb\n",
      "wb\n",
      "nb\n",
      "accident\n",
      "cleared\n",
      "expressway\n",
      "construction\n",
      "sb\n",
      "av\n",
      "jfk\n",
      "------------\n"
     ]
    },
    {
     "data": {
      "text/markdown": [
       "#### Rural"
      ],
      "text/plain": [
       "<IPython.core.display.Markdown object>"
      ]
     },
     "metadata": {},
     "output_type": "display_data"
    },
    {
     "name": "stdout",
     "output_type": "stream",
     "text": [
      "-------------\n",
      "accident\n",
      "suspect\n",
      "assault\n",
      "reported\n",
      "airport\n",
      "reports\n",
      "crash\n",
      "investigation\n",
      "injury\n",
      "shooting\n",
      "-------------\n"
     ]
    },
    {
     "data": {
      "text/markdown": [
       "# accent"
      ],
      "text/plain": [
       "<IPython.core.display.Markdown object>"
      ]
     },
     "metadata": {},
     "output_type": "display_data"
    },
    {
     "data": {
      "text/markdown": [
       "#### Urban"
      ],
      "text/plain": [
       "<IPython.core.display.Markdown object>"
      ]
     },
     "metadata": {},
     "output_type": "display_data"
    },
    {
     "name": "stdout",
     "output_type": "stream",
     "text": [
      "---------\n",
      "ally\n",
      "italian\n",
      "aesthetic\n",
      "icon\n",
      "voice\n",
      "vagina\n",
      "forehead\n",
      "english\n",
      "name\n",
      "tits\n",
      "---------\n"
     ]
    },
    {
     "data": {
      "text/markdown": [
       "#### Rural"
      ],
      "text/plain": [
       "<IPython.core.display.Markdown object>"
      ]
     },
     "metadata": {},
     "output_type": "display_data"
    },
    {
     "name": "stdout",
     "output_type": "stream",
     "text": [
      "---------\n",
      "style\n",
      "icon\n",
      "italian\n",
      "authentic\n",
      "antique\n",
      "rustic\n",
      "blend\n",
      "lamp\n",
      "kitchen\n",
      "outfit\n",
      "---------\n"
     ]
    },
    {
     "data": {
      "text/markdown": [
       "# homecoming"
      ],
      "text/plain": [
       "<IPython.core.display.Markdown object>"
      ]
     },
     "metadata": {},
     "output_type": "display_data"
    },
    {
     "data": {
      "text/markdown": [
       "#### Urban"
      ],
      "text/plain": [
       "<IPython.core.display.Markdown object>"
      ]
     },
     "metadata": {},
     "output_type": "display_data"
    },
    {
     "name": "stdout",
     "output_type": "stream",
     "text": [
      "---------\n",
      "spider\n",
      "kong\n",
      "reunion\n",
      "trailer\n",
      "premiere\n",
      "teaser\n",
      "halloween\n",
      "manny\n",
      "nxt\n",
      "bachelor\n",
      "---------\n"
     ]
    },
    {
     "data": {
      "text/markdown": [
       "#### Rural"
      ],
      "text/plain": [
       "<IPython.core.display.Markdown object>"
      ]
     },
     "metadata": {},
     "output_type": "display_data"
    },
    {
     "name": "stdout",
     "output_type": "stream",
     "text": [
      "----------\n",
      "banquet\n",
      "prom\n",
      "senior\n",
      "graduation\n",
      "parade\n",
      "nationals\n",
      "reunion\n",
      "junior\n",
      "ceremony\n",
      "fundraiser\n",
      "----------\n"
     ]
    },
    {
     "data": {
      "text/markdown": [
       "# flex"
      ],
      "text/plain": [
       "<IPython.core.display.Markdown object>"
      ]
     },
     "metadata": {},
     "output_type": "display_data"
    },
    {
     "data": {
      "text/markdown": [
       "#### Urban"
      ],
      "text/plain": [
       "<IPython.core.display.Markdown object>"
      ]
     },
     "metadata": {},
     "output_type": "display_data"
    },
    {
     "name": "stdout",
     "output_type": "stream",
     "text": [
      "---------\n",
      "boogie\n",
      "freestyle\n",
      "stunt\n",
      "grind\n",
      "pump\n",
      "fw\n",
      "hoop\n",
      "gucci\n",
      "carti\n",
      "wiz\n",
      "---------\n"
     ]
    },
    {
     "data": {
      "text/markdown": [
       "#### Rural"
      ],
      "text/plain": [
       "<IPython.core.display.Markdown object>"
      ]
     },
     "metadata": {},
     "output_type": "display_data"
    },
    {
     "name": "stdout",
     "output_type": "stream",
     "text": [
      "---------\n",
      "ram\n",
      "sprint\n",
      "plug\n",
      "charger\n",
      "pickup\n",
      "stack\n",
      "paypal\n",
      "lyft\n",
      "freestyle\n",
      "save\n",
      "---------\n"
     ]
    },
    {
     "data": {
      "text/markdown": [
       "# ps"
      ],
      "text/plain": [
       "<IPython.core.display.Markdown object>"
      ]
     },
     "metadata": {},
     "output_type": "display_data"
    },
    {
     "data": {
      "text/markdown": [
       "#### Urban"
      ],
      "text/plain": [
       "<IPython.core.display.Markdown object>"
      ]
     },
     "metadata": {},
     "output_type": "display_data"
    },
    {
     "name": "stdout",
     "output_type": "stream",
     "text": [
      "--------\n",
      "hehe\n",
      "yay\n",
      "bb\n",
      "btw\n",
      "beta\n",
      "sm\n",
      "xx\n",
      "unboxing\n",
      "ps4\n",
      "hun\n",
      "--------\n"
     ]
    },
    {
     "data": {
      "text/markdown": [
       "#### Rural"
      ],
      "text/plain": [
       "<IPython.core.display.Markdown object>"
      ]
     },
     "metadata": {},
     "output_type": "display_data"
    },
    {
     "name": "stdout",
     "output_type": "stream",
     "text": [
      "-------\n",
      "gb\n",
      "pc\n",
      "ps4\n",
      "hb\n",
      "btw\n",
      "psalm\n",
      "destiny\n",
      "vol\n",
      "mm\n",
      "lp\n",
      "-------\n"
     ]
    },
    {
     "data": {
      "text/markdown": [
       "# rt"
      ],
      "text/plain": [
       "<IPython.core.display.Markdown object>"
      ]
     },
     "metadata": {},
     "output_type": "display_data"
    },
    {
     "data": {
      "text/markdown": [
       "#### Urban"
      ],
      "text/plain": [
       "<IPython.core.display.Markdown object>"
      ]
     },
     "metadata": {},
     "output_type": "display_data"
    },
    {
     "name": "stdout",
     "output_type": "stream",
     "text": [
      "---------------\n",
      "retweet\n",
      "pls\n",
      "ifb\n",
      "follow\n",
      "plz\n",
      "entrepreneur\n",
      "sportspoliticen\n",
      "share\n",
      "submit\n",
      "quien\n",
      "---------------\n"
     ]
    },
    {
     "data": {
      "text/markdown": [
       "#### Rural"
      ],
      "text/plain": [
       "<IPython.core.display.Markdown object>"
      ]
     },
     "metadata": {},
     "output_type": "display_data"
    },
    {
     "name": "stdout",
     "output_type": "stream",
     "text": [
      "-------------\n",
      "retweet\n",
      "raisalghousia\n",
      "tm1dn\n",
      "ufc\n",
      "link\n",
      "share\n",
      "follow\n",
      "icymi\n",
      "mma\n",
      "pledge\n",
      "-------------\n"
     ]
    },
    {
     "data": {
      "text/markdown": [
       "# drum"
      ],
      "text/plain": [
       "<IPython.core.display.Markdown object>"
      ]
     },
     "metadata": {},
     "output_type": "display_data"
    },
    {
     "data": {
      "text/markdown": [
       "#### Urban"
      ],
      "text/plain": [
       "<IPython.core.display.Markdown object>"
      ]
     },
     "metadata": {},
     "output_type": "display_data"
    },
    {
     "name": "stdout",
     "output_type": "stream",
     "text": [
      "------------\n",
      "samples\n",
      "prophet\n",
      "analog\n",
      "bass\n",
      "sample\n",
      "instrumental\n",
      "tunes\n",
      "gems\n",
      "combo\n",
      "banger\n",
      "------------\n"
     ]
    },
    {
     "data": {
      "text/markdown": [
       "#### Rural"
      ],
      "text/plain": [
       "<IPython.core.display.Markdown object>"
      ]
     },
     "metadata": {},
     "output_type": "display_data"
    },
    {
     "name": "stdout",
     "output_type": "stream",
     "text": [
      "--------\n",
      "bass\n",
      "metal\n",
      "guitar\n",
      "hammer\n",
      "jazz\n",
      "band\n",
      "rock\n",
      "ace\n",
      "acoustic\n",
      "pipe\n",
      "--------\n"
     ]
    },
    {
     "data": {
      "text/markdown": [
       "# trick"
      ],
      "text/plain": [
       "<IPython.core.display.Markdown object>"
      ]
     },
     "metadata": {},
     "output_type": "display_data"
    },
    {
     "data": {
      "text/markdown": [
       "#### Urban"
      ],
      "text/plain": [
       "<IPython.core.display.Markdown object>"
      ]
     },
     "metadata": {},
     "output_type": "display_data"
    },
    {
     "name": "stdout",
     "output_type": "stream",
     "text": [
      "-----------\n",
      "hack\n",
      "method\n",
      "remedies\n",
      "unfollowers\n",
      "exercises\n",
      "tricks\n",
      "unfollower\n",
      "tool\n",
      "basket\n",
      "bug\n",
      "-----------\n"
     ]
    },
    {
     "data": {
      "text/markdown": [
       "#### Rural"
      ],
      "text/plain": [
       "<IPython.core.display.Markdown object>"
      ]
     },
     "metadata": {},
     "output_type": "display_data"
    },
    {
     "name": "stdout",
     "output_type": "stream",
     "text": [
      "-----------\n",
      "hat\n",
      "unfollower\n",
      "mug\n",
      "guy\n",
      "penis\n",
      "unfollowers\n",
      "beard\n",
      "pin\n",
      "double\n",
      "helmet\n",
      "-----------\n"
     ]
    },
    {
     "data": {
      "text/markdown": [
       "# timing"
      ],
      "text/plain": [
       "<IPython.core.display.Markdown object>"
      ]
     },
     "metadata": {},
     "output_type": "display_data"
    },
    {
     "data": {
      "text/markdown": [
       "#### Urban"
      ],
      "text/plain": [
       "<IPython.core.display.Markdown object>"
      ]
     },
     "metadata": {},
     "output_type": "display_data"
    },
    {
     "name": "stdout",
     "output_type": "stream",
     "text": [
      "------------\n",
      "outcome\n",
      "combination\n",
      "impression\n",
      "pun\n",
      "decision\n",
      "lighting\n",
      "tone\n",
      "surprisingly\n",
      "result\n",
      "emotion\n",
      "------------\n"
     ]
    },
    {
     "data": {
      "text/markdown": [
       "#### Rural"
      ],
      "text/plain": [
       "<IPython.core.display.Markdown object>"
      ]
     },
     "metadata": {},
     "output_type": "display_data"
    },
    {
     "name": "stdout",
     "output_type": "stream",
     "text": [
      "-----------\n",
      "condition\n",
      "mood\n",
      "situation\n",
      "testimony\n",
      "sarcasm\n",
      "imagination\n",
      "attitude\n",
      "sounds\n",
      "perfectly\n",
      "description\n",
      "-----------\n"
     ]
    },
    {
     "data": {
      "text/markdown": [
       "# underground"
      ],
      "text/plain": [
       "<IPython.core.display.Markdown object>"
      ]
     },
     "metadata": {},
     "output_type": "display_data"
    },
    {
     "data": {
      "text/markdown": [
       "#### Urban"
      ],
      "text/plain": [
       "<IPython.core.display.Markdown object>"
      ]
     },
     "metadata": {},
     "output_type": "display_data"
    },
    {
     "name": "stdout",
     "output_type": "stream",
     "text": [
      "--------\n",
      "cinema\n",
      "opera\n",
      "urban\n",
      "indie\n",
      "hq\n",
      "studios\n",
      "festival\n",
      "uptown\n",
      "empire\n",
      "theater\n",
      "--------\n"
     ]
    },
    {
     "data": {
      "text/markdown": [
       "#### Rural"
      ],
      "text/plain": [
       "<IPython.core.display.Markdown object>"
      ]
     },
     "metadata": {},
     "output_type": "display_data"
    },
    {
     "name": "stdout",
     "output_type": "stream",
     "text": [
      "-------------\n",
      "revolution\n",
      "democratic\n",
      "vermont\n",
      "empire\n",
      "trap\n",
      "tower\n",
      "massachusetts\n",
      "pacific\n",
      "historic\n",
      "capital\n",
      "-------------\n"
     ]
    },
    {
     "data": {
      "text/markdown": [
       "# int"
      ],
      "text/plain": [
       "<IPython.core.display.Markdown object>"
      ]
     },
     "metadata": {},
     "output_type": "display_data"
    },
    {
     "data": {
      "text/markdown": [
       "#### Urban"
      ],
      "text/plain": [
       "<IPython.core.display.Markdown object>"
      ]
     },
     "metadata": {},
     "output_type": "display_data"
    },
    {
     "name": "stdout",
     "output_type": "stream",
     "text": [
      "---\n",
      "nat\n",
      "br\n",
      "l\n",
      "pl\n",
      "ne\n",
      "cu\n",
      "1b\n",
      "du\n",
      "des\n",
      "2b\n",
      "---\n"
     ]
    },
    {
     "data": {
      "text/markdown": [
       "#### Rural"
      ],
      "text/plain": [
       "<IPython.core.display.Markdown object>"
      ]
     },
     "metadata": {},
     "output_type": "display_data"
    },
    {
     "name": "stdout",
     "output_type": "stream",
     "text": [
      "-------\n",
      "cha\n",
      "con\n",
      "pac\n",
      "td\n",
      "pts\n",
      "os\n",
      "utc\n",
      "figures\n",
      "rb\n",
      "iv\n",
      "-------\n"
     ]
    },
    {
     "data": {
      "text/markdown": [
       "# button"
      ],
      "text/plain": [
       "<IPython.core.display.Markdown object>"
      ]
     },
     "metadata": {},
     "output_type": "display_data"
    },
    {
     "data": {
      "text/markdown": [
       "#### Urban"
      ],
      "text/plain": [
       "<IPython.core.display.Markdown object>"
      ]
     },
     "metadata": {},
     "output_type": "display_data"
    },
    {
     "name": "stdout",
     "output_type": "stream",
     "text": [
      "--------\n",
      "screen\n",
      "keyboard\n",
      "sleeves\n",
      "strap\n",
      "filter\n",
      "desktop\n",
      "zip\n",
      "slides\n",
      "pin\n",
      "lens\n",
      "--------\n"
     ]
    },
    {
     "data": {
      "text/markdown": [
       "#### Rural"
      ],
      "text/plain": [
       "<IPython.core.display.Markdown object>"
      ]
     },
     "metadata": {},
     "output_type": "display_data"
    },
    {
     "name": "stdout",
     "output_type": "stream",
     "text": [
      "--------\n",
      "screen\n",
      "keyboard\n",
      "tape\n",
      "link\n",
      "emoji\n",
      "suit\n",
      "upside\n",
      "dot\n",
      "wrist\n",
      "app\n",
      "--------\n"
     ]
    },
    {
     "data": {
      "text/markdown": [
       "# dia"
      ],
      "text/plain": [
       "<IPython.core.display.Markdown object>"
      ]
     },
     "metadata": {},
     "output_type": "display_data"
    },
    {
     "data": {
      "text/markdown": [
       "#### Urban"
      ],
      "text/plain": [
       "<IPython.core.display.Markdown object>"
      ]
     },
     "metadata": {},
     "output_type": "display_data"
    },
    {
     "name": "stdout",
     "output_type": "stream",
     "text": [
      "-----\n",
      "mas\n",
      "pra\n",
      "mais\n",
      "hace\n",
      "mundo\n",
      "mal\n",
      "nunca\n",
      "ke\n",
      "ver\n",
      "nos\n",
      "-----\n"
     ]
    },
    {
     "data": {
      "text/markdown": [
       "#### Rural"
      ],
      "text/plain": [
       "<IPython.core.display.Markdown object>"
      ]
     },
     "metadata": {},
     "output_type": "display_data"
    },
    {
     "name": "stdout",
     "output_type": "stream",
     "text": [
      "----\n",
      "mas\n",
      "je\n",
      "ni\n",
      "tu\n",
      "ke\n",
      "aku\n",
      "yang\n",
      "ada\n",
      "para\n",
      "di\n",
      "----\n"
     ]
    },
    {
     "data": {
      "text/markdown": [
       "# cleared"
      ],
      "text/plain": [
       "<IPython.core.display.Markdown object>"
      ]
     },
     "metadata": {},
     "output_type": "display_data"
    },
    {
     "data": {
      "text/markdown": [
       "#### Urban"
      ],
      "text/plain": [
       "<IPython.core.display.Markdown object>"
      ]
     },
     "metadata": {},
     "output_type": "display_data"
    },
    {
     "name": "stdout",
     "output_type": "stream",
     "text": [
      "--------\n",
      "wb\n",
      "eb\n",
      "incident\n",
      "nb\n",
      "sb\n",
      "accident\n",
      "verified\n",
      "fwy\n",
      "sw\n",
      "reported\n",
      "--------\n"
     ]
    },
    {
     "data": {
      "text/markdown": [
       "#### Rural"
      ],
      "text/plain": [
       "<IPython.core.display.Markdown object>"
      ]
     },
     "metadata": {},
     "output_type": "display_data"
    },
    {
     "name": "stdout",
     "output_type": "stream",
     "text": [
      "---------\n",
      "mp\n",
      "exit\n",
      "reported\n",
      "backed\n",
      "burned\n",
      "rolled\n",
      "responded\n",
      "jumped\n",
      "drove\n",
      "pulled\n",
      "---------\n"
     ]
    },
    {
     "data": {
      "text/markdown": [
       "# una"
      ],
      "text/plain": [
       "<IPython.core.display.Markdown object>"
      ]
     },
     "metadata": {},
     "output_type": "display_data"
    },
    {
     "data": {
      "text/markdown": [
       "#### Urban"
      ],
      "text/plain": [
       "<IPython.core.display.Markdown object>"
      ]
     },
     "metadata": {},
     "output_type": "display_data"
    },
    {
     "name": "stdout",
     "output_type": "stream",
     "text": [
      "-------\n",
      "su\n",
      "esta\n",
      "hacer\n",
      "mejor\n",
      "muy\n",
      "todo\n",
      "como\n",
      "aqu\n",
      "ahora\n",
      "siempre\n",
      "-------\n"
     ]
    },
    {
     "data": {
      "text/markdown": [
       "#### Rural"
      ],
      "text/plain": [
       "<IPython.core.display.Markdown object>"
      ]
     },
     "metadata": {},
     "output_type": "display_data"
    },
    {
     "name": "stdout",
     "output_type": "stream",
     "text": [
      "----\n",
      "como\n",
      "para\n",
      "por\n",
      "ser\n",
      "que\n",
      "mas\n",
      "el\n",
      "en\n",
      "te\n",
      "tu\n",
      "----\n"
     ]
    },
    {
     "data": {
      "text/markdown": [
       "# net"
      ],
      "text/plain": [
       "<IPython.core.display.Markdown object>"
      ]
     },
     "metadata": {},
     "output_type": "display_data"
    },
    {
     "data": {
      "text/markdown": [
       "#### Urban"
      ],
      "text/plain": [
       "<IPython.core.display.Markdown object>"
      ]
     },
     "metadata": {},
     "output_type": "display_data"
    },
    {
     "name": "stdout",
     "output_type": "stream",
     "text": [
      "----------\n",
      "revenue\n",
      "payments\n",
      "investment\n",
      "profits\n",
      "consumer\n",
      "salary\n",
      "coverage\n",
      "assets\n",
      "bitcoin\n",
      "earnings\n",
      "----------\n"
     ]
    },
    {
     "data": {
      "text/markdown": [
       "#### Rural"
      ],
      "text/plain": [
       "<IPython.core.display.Markdown object>"
      ]
     },
     "metadata": {},
     "output_type": "display_data"
    },
    {
     "name": "stdout",
     "output_type": "stream",
     "text": [
      "----------\n",
      "pp\n",
      "base\n",
      "scores\n",
      "penalty\n",
      "par\n",
      "conversion\n",
      "revenue\n",
      "yards\n",
      "coverage\n",
      "scoring\n",
      "----------\n"
     ]
    },
    {
     "data": {
      "text/markdown": [
       "# readers"
      ],
      "text/plain": [
       "<IPython.core.display.Markdown object>"
      ]
     },
     "metadata": {},
     "output_type": "display_data"
    },
    {
     "data": {
      "text/markdown": [
       "#### Urban"
      ],
      "text/plain": [
       "<IPython.core.display.Markdown object>"
      ]
     },
     "metadata": {},
     "output_type": "display_data"
    },
    {
     "name": "stdout",
     "output_type": "stream",
     "text": [
      "-------------\n",
      "authors\n",
      "writers\n",
      "creators\n",
      "blogs\n",
      "insights\n",
      "entrepreneurs\n",
      "marketers\n",
      "consumers\n",
      "reviews\n",
      "books\n",
      "-------------\n"
     ]
    },
    {
     "data": {
      "text/markdown": [
       "#### Rural"
      ],
      "text/plain": [
       "<IPython.core.display.Markdown object>"
      ]
     },
     "metadata": {},
     "output_type": "display_data"
    },
    {
     "name": "stdout",
     "output_type": "stream",
     "text": [
      "--------\n",
      "writers\n",
      "books\n",
      "poetry\n",
      "students\n",
      "articles\n",
      "artists\n",
      "author\n",
      "teachers\n",
      "reviews\n",
      "clients\n",
      "--------\n"
     ]
    },
    {
     "data": {
      "text/markdown": [
       "# pressure"
      ],
      "text/plain": [
       "<IPython.core.display.Markdown object>"
      ]
     },
     "metadata": {},
     "output_type": "display_data"
    },
    {
     "data": {
      "text/markdown": [
       "#### Urban"
      ],
      "text/plain": [
       "<IPython.core.display.Markdown object>"
      ]
     },
     "metadata": {},
     "output_type": "display_data"
    },
    {
     "name": "stdout",
     "output_type": "stream",
     "text": [
      "-------------\n",
      "ground\n",
      "damage\n",
      "energy\n",
      "protection\n",
      "circumstances\n",
      "capacity\n",
      "confidence\n",
      "power\n",
      "water\n",
      "fuel\n",
      "-------------\n"
     ]
    },
    {
     "data": {
      "text/markdown": [
       "#### Rural"
      ],
      "text/plain": [
       "<IPython.core.display.Markdown object>"
      ]
     },
     "metadata": {},
     "output_type": "display_data"
    },
    {
     "name": "stdout",
     "output_type": "stream",
     "text": [
      "--------\n",
      "00inches\n",
      "moderate\n",
      "precip\n",
      "speed\n",
      "00in\n",
      "0mph\n",
      "inhg\n",
      "rapidly\n",
      "bp\n",
      "acid\n",
      "--------\n"
     ]
    },
    {
     "data": {
      "text/markdown": [
       "# newspaper"
      ],
      "text/plain": [
       "<IPython.core.display.Markdown object>"
      ]
     },
     "metadata": {},
     "output_type": "display_data"
    },
    {
     "data": {
      "text/markdown": [
       "#### Urban"
      ],
      "text/plain": [
       "<IPython.core.display.Markdown object>"
      ]
     },
     "metadata": {},
     "output_type": "display_data"
    },
    {
     "name": "stdout",
     "output_type": "stream",
     "text": [
      "----------\n",
      "reuters\n",
      "amid\n",
      "bbc\n",
      "uk\n",
      "terror\n",
      "report\n",
      "breitbart\n",
      "australian\n",
      "british\n",
      "canadian\n",
      "----------\n"
     ]
    },
    {
     "data": {
      "text/markdown": [
       "#### Rural"
      ],
      "text/plain": [
       "<IPython.core.display.Markdown object>"
      ]
     },
     "metadata": {},
     "output_type": "display_data"
    },
    {
     "name": "stdout",
     "output_type": "stream",
     "text": [
      "---------\n",
      "bookstore\n",
      "writer\n",
      "editor\n",
      "magazine\n",
      "headline\n",
      "journal\n",
      "reference\n",
      "classroom\n",
      "teacher\n",
      "history\n",
      "---------\n"
     ]
    },
    {
     "data": {
      "text/markdown": [
       "# delay"
      ],
      "text/plain": [
       "<IPython.core.display.Markdown object>"
      ]
     },
     "metadata": {},
     "output_type": "display_data"
    },
    {
     "data": {
      "text/markdown": [
       "#### Urban"
      ],
      "text/plain": [
       "<IPython.core.display.Markdown object>"
      ]
     },
     "metadata": {},
     "output_type": "display_data"
    },
    {
     "name": "stdout",
     "output_type": "stream",
     "text": [
      "-------\n",
      "delays\n",
      "traffic\n",
      "delayed\n",
      "sb\n",
      "nb\n",
      "eb\n",
      "20m\n",
      "due\n",
      "av\n",
      "sw\n",
      "-------\n"
     ]
    },
    {
     "data": {
      "text/markdown": [
       "#### Rural"
      ],
      "text/plain": [
       "<IPython.core.display.Markdown object>"
      ]
     },
     "metadata": {},
     "output_type": "display_data"
    },
    {
     "name": "stdout",
     "output_type": "stream",
     "text": [
      "----------\n",
      "delayed\n",
      "due\n",
      "rush\n",
      "correction\n",
      "flight\n",
      "flights\n",
      "moderate\n",
      "arrive\n",
      "flooding\n",
      "cancel\n",
      "----------\n"
     ]
    },
    {
     "data": {
      "text/markdown": [
       "# mix"
      ],
      "text/plain": [
       "<IPython.core.display.Markdown object>"
      ]
     },
     "metadata": {},
     "output_type": "display_data"
    },
    {
     "data": {
      "text/markdown": [
       "#### Urban"
      ],
      "text/plain": [
       "<IPython.core.display.Markdown object>"
      ]
     },
     "metadata": {},
     "output_type": "display_data"
    },
    {
     "name": "stdout",
     "output_type": "stream",
     "text": [
      "------------\n",
      "remix\n",
      "funk\n",
      "dj\n",
      "bass\n",
      "intro\n",
      "tunes\n",
      "freestyle\n",
      "mp3\n",
      "instrumental\n",
      "rhythm\n",
      "------------\n"
     ]
    },
    {
     "data": {
      "text/markdown": [
       "#### Rural"
      ],
      "text/plain": [
       "<IPython.core.display.Markdown object>"
      ]
     },
     "metadata": {},
     "output_type": "display_data"
    },
    {
     "name": "stdout",
     "output_type": "stream",
     "text": [
      "----------\n",
      "vanilla\n",
      "pop\n",
      "blend\n",
      "remix\n",
      "spice\n",
      "sour\n",
      "strawberry\n",
      "juicy\n",
      "juice\n",
      "version\n",
      "----------\n"
     ]
    },
    {
     "data": {
      "text/markdown": [
       "# female"
      ],
      "text/plain": [
       "<IPython.core.display.Markdown object>"
      ]
     },
     "metadata": {},
     "output_type": "display_data"
    },
    {
     "data": {
      "text/markdown": [
       "#### Urban"
      ],
      "text/plain": [
       "<IPython.core.display.Markdown object>"
      ]
     },
     "metadata": {},
     "output_type": "display_data"
    },
    {
     "name": "stdout",
     "output_type": "stream",
     "text": [
      "--------\n",
      "male\n",
      "latina\n",
      "feminist\n",
      "woman\n",
      "hispanic\n",
      "queer\n",
      "dancer\n",
      "gay\n",
      "actors\n",
      "poc\n",
      "--------\n"
     ]
    },
    {
     "data": {
      "text/markdown": [
       "#### Rural"
      ],
      "text/plain": [
       "<IPython.core.display.Markdown object>"
      ]
     },
     "metadata": {},
     "output_type": "display_data"
    },
    {
     "name": "stdout",
     "output_type": "stream",
     "text": [
      "--------\n",
      "male\n",
      "woman\n",
      "domestic\n",
      "lesbian\n",
      "thug\n",
      "sexual\n",
      "mature\n",
      "adoption\n",
      "trans\n",
      "slave\n",
      "--------\n"
     ]
    },
    {
     "data": {
      "text/markdown": [
       "# joint"
      ],
      "text/plain": [
       "<IPython.core.display.Markdown object>"
      ]
     },
     "metadata": {},
     "output_type": "display_data"
    },
    {
     "data": {
      "text/markdown": [
       "#### Urban"
      ],
      "text/plain": [
       "<IPython.core.display.Markdown object>"
      ]
     },
     "metadata": {},
     "output_type": "display_data"
    },
    {
     "name": "stdout",
     "output_type": "stream",
     "text": [
      "--------\n",
      "funk\n",
      "blunt\n",
      "mic\n",
      "chain\n",
      "drill\n",
      "banger\n",
      "hammer\n",
      "operator\n",
      "bass\n",
      "tape\n",
      "--------\n"
     ]
    },
    {
     "data": {
      "text/markdown": [
       "#### Rural"
      ],
      "text/plain": [
       "<IPython.core.display.Markdown object>"
      ]
     },
     "metadata": {},
     "output_type": "display_data"
    },
    {
     "name": "stdout",
     "output_type": "stream",
     "text": [
      "------\n",
      "aid\n",
      "dip\n",
      "bone\n",
      "major\n",
      "freeze\n",
      "blunt\n",
      "crisis\n",
      "muscle\n",
      "ag\n",
      "turkey\n",
      "------\n"
     ]
    },
    {
     "data": {
      "text/markdown": [
       "# removing"
      ],
      "text/plain": [
       "<IPython.core.display.Markdown object>"
      ]
     },
     "metadata": {},
     "output_type": "display_data"
    },
    {
     "data": {
      "text/markdown": [
       "#### Urban"
      ],
      "text/plain": [
       "<IPython.core.display.Markdown object>"
      ]
     },
     "metadata": {},
     "output_type": "display_data"
    },
    {
     "name": "stdout",
     "output_type": "stream",
     "text": [
      "------------\n",
      "method\n",
      "pushing\n",
      "fixing\n",
      "washing\n",
      "stopping\n",
      "remove\n",
      "prescription\n",
      "applying\n",
      "aging\n",
      "judging\n",
      "------------\n"
     ]
    },
    {
     "data": {
      "text/markdown": [
       "#### Rural"
      ],
      "text/plain": [
       "<IPython.core.display.Markdown object>"
      ]
     },
     "metadata": {},
     "output_type": "display_data"
    },
    {
     "name": "stdout",
     "output_type": "stream",
     "text": [
      "----------\n",
      "remove\n",
      "stealing\n",
      "removed\n",
      "protected\n",
      "protecting\n",
      "blocks\n",
      "carrying\n",
      "adding\n",
      "blocking\n",
      "leaks\n",
      "----------\n"
     ]
    },
    {
     "data": {
      "text/markdown": [
       "# trey"
      ],
      "text/plain": [
       "<IPython.core.display.Markdown object>"
      ]
     },
     "metadata": {},
     "output_type": "display_data"
    },
    {
     "data": {
      "text/markdown": [
       "#### Urban"
      ],
      "text/plain": [
       "<IPython.core.display.Markdown object>"
      ]
     },
     "metadata": {},
     "output_type": "display_data"
    },
    {
     "name": "stdout",
     "output_type": "stream",
     "text": [
      "-----\n",
      "quavo\n",
      "drake\n",
      "wiz\n",
      "tory\n",
      "nas\n",
      "carti\n",
      "usher\n",
      "rae\n",
      "joey\n",
      "migos\n",
      "-----\n"
     ]
    },
    {
     "data": {
      "text/markdown": [
       "#### Rural"
      ],
      "text/plain": [
       "<IPython.core.display.Markdown object>"
      ]
     },
     "metadata": {},
     "output_type": "display_data"
    },
    {
     "name": "stdout",
     "output_type": "stream",
     "text": [
      "-------\n",
      "josh\n",
      "nick\n",
      "cody\n",
      "eli\n",
      "alex\n",
      "nate\n",
      "brandon\n",
      "matt\n",
      "corey\n",
      "shane\n",
      "-------\n"
     ]
    },
    {
     "data": {
      "text/markdown": [
       "# rocky"
      ],
      "text/plain": [
       "<IPython.core.display.Markdown object>"
      ]
     },
     "metadata": {},
     "output_type": "display_data"
    },
    {
     "data": {
      "text/markdown": [
       "#### Urban"
      ],
      "text/plain": [
       "<IPython.core.display.Markdown object>"
      ]
     },
     "metadata": {},
     "output_type": "display_data"
    },
    {
     "name": "stdout",
     "output_type": "stream",
     "text": [
      "---------\n",
      "ap\n",
      "mob\n",
      "porter\n",
      "freestyle\n",
      "tory\n",
      "calvin\n",
      "drake\n",
      "rae\n",
      "boogie\n",
      "trey\n",
      "---------\n"
     ]
    },
    {
     "data": {
      "text/markdown": [
       "#### Rural"
      ],
      "text/plain": [
       "<IPython.core.display.Markdown object>"
      ]
     },
     "metadata": {},
     "output_type": "display_data"
    },
    {
     "name": "stdout",
     "output_type": "stream",
     "text": [
      "--------\n",
      "morris\n",
      "mountain\n",
      "pine\n",
      "hampton\n",
      "thompson\n",
      "robin\n",
      "crow\n",
      "porter\n",
      "delaware\n",
      "oak\n",
      "--------\n"
     ]
    },
    {
     "data": {
      "text/markdown": [
       "# backs"
      ],
      "text/plain": [
       "<IPython.core.display.Markdown object>"
      ]
     },
     "metadata": {},
     "output_type": "display_data"
    },
    {
     "data": {
      "text/markdown": [
       "#### Urban"
      ],
      "text/plain": [
       "<IPython.core.display.Markdown object>"
      ]
     },
     "metadata": {},
     "output_type": "display_data"
    },
    {
     "name": "stdout",
     "output_type": "stream",
     "text": [
      "---------\n",
      "cardinals\n",
      "giants\n",
      "phillies\n",
      "rams\n",
      "bench\n",
      "sweep\n",
      "yankees\n",
      "heads\n",
      "cont\n",
      "nets\n",
      "---------\n"
     ]
    },
    {
     "data": {
      "text/markdown": [
       "#### Rural"
      ],
      "text/plain": [
       "<IPython.core.display.Markdown object>"
      ]
     },
     "metadata": {},
     "output_type": "display_data"
    },
    {
     "name": "stdout",
     "output_type": "stream",
     "text": [
      "----------\n",
      "heads\n",
      "asses\n",
      "courts\n",
      "boards\n",
      "wall\n",
      "agenda\n",
      "supporters\n",
      "policies\n",
      "seats\n",
      "dems\n",
      "----------\n"
     ]
    },
    {
     "data": {
      "text/markdown": [
       "# registered"
      ],
      "text/plain": [
       "<IPython.core.display.Markdown object>"
      ]
     },
     "metadata": {},
     "output_type": "display_data"
    },
    {
     "data": {
      "text/markdown": [
       "#### Urban"
      ],
      "text/plain": [
       "<IPython.core.display.Markdown object>"
      ]
     },
     "metadata": {},
     "output_type": "display_data"
    },
    {
     "name": "stdout",
     "output_type": "stream",
     "text": [
      "----------\n",
      "nurse\n",
      "clinical\n",
      "apply\n",
      "nursing\n",
      "clerk\n",
      "med\n",
      "pharmacy\n",
      "technician\n",
      "applied\n",
      "certified\n",
      "----------\n"
     ]
    },
    {
     "data": {
      "text/markdown": [
       "#### Rural"
      ],
      "text/plain": [
       "<IPython.core.display.Markdown object>"
      ]
     },
     "metadata": {},
     "output_type": "display_data"
    },
    {
     "name": "stdout",
     "output_type": "stream",
     "text": [
      "---------\n",
      "booked\n",
      "approved\n",
      "qualified\n",
      "applied\n",
      "physician\n",
      "listed\n",
      "register\n",
      "voted\n",
      "announced\n",
      "nurse\n",
      "---------\n"
     ]
    },
    {
     "data": {
      "text/markdown": [
       "# actual"
      ],
      "text/plain": [
       "<IPython.core.display.Markdown object>"
      ]
     },
     "metadata": {},
     "output_type": "display_data"
    },
    {
     "data": {
      "text/markdown": [
       "#### Urban"
      ],
      "text/plain": [
       "<IPython.core.display.Markdown object>"
      ]
     },
     "metadata": {},
     "output_type": "display_data"
    },
    {
     "name": "stdout",
     "output_type": "stream",
     "text": [
      "-------------\n",
      "alternate\n",
      "intellectual\n",
      "alternative\n",
      "absolute\n",
      "absurd\n",
      "awful\n",
      "extreme\n",
      "extraordinary\n",
      "literal\n",
      "entire\n",
      "-------------\n"
     ]
    },
    {
     "data": {
      "text/markdown": [
       "#### Rural"
      ],
      "text/plain": [
       "<IPython.core.display.Markdown object>"
      ]
     },
     "metadata": {},
     "output_type": "display_data"
    },
    {
     "name": "stdout",
     "output_type": "stream",
     "text": [
      "-----------\n",
      "unexpected\n",
      "odd\n",
      "absolute\n",
      "anonymous\n",
      "idiot\n",
      "appropriate\n",
      "alternative\n",
      "apology\n",
      "insult\n",
      "unnecessary\n",
      "-----------\n"
     ]
    },
    {
     "data": {
      "text/markdown": [
       "# slowly"
      ],
      "text/plain": [
       "<IPython.core.display.Markdown object>"
      ]
     },
     "metadata": {},
     "output_type": "display_data"
    },
    {
     "data": {
      "text/markdown": [
       "#### Urban"
      ],
      "text/plain": [
       "<IPython.core.display.Markdown object>"
      ]
     },
     "metadata": {},
     "output_type": "display_data"
    },
    {
     "name": "stdout",
     "output_type": "stream",
     "text": [
      "----------\n",
      "quickly\n",
      "quietly\n",
      "steady\n",
      "keeps\n",
      "jaw\n",
      "suddenly\n",
      "towards\n",
      "eventually\n",
      "throat\n",
      "inches\n",
      "----------\n"
     ]
    },
    {
     "data": {
      "text/markdown": [
       "#### Rural"
      ],
      "text/plain": [
       "<IPython.core.display.Markdown object>"
      ]
     },
     "metadata": {},
     "output_type": "display_data"
    },
    {
     "name": "stdout",
     "output_type": "stream",
     "text": [
      "---------\n",
      "rapidly\n",
      "steady\n",
      "quickly\n",
      "falling\n",
      "rising\n",
      "wd\n",
      "barometer\n",
      "dp\n",
      "suddenly\n",
      "inhg\n",
      "---------\n"
     ]
    },
    {
     "data": {
      "text/markdown": [
       "# editing"
      ],
      "text/plain": [
       "<IPython.core.display.Markdown object>"
      ]
     },
     "metadata": {},
     "output_type": "display_data"
    },
    {
     "data": {
      "text/markdown": [
       "#### Urban"
      ],
      "text/plain": [
       "<IPython.core.display.Markdown object>"
      ]
     },
     "metadata": {},
     "output_type": "display_data"
    },
    {
     "name": "stdout",
     "output_type": "stream",
     "text": [
      "-----------\n",
      "animation\n",
      "writing\n",
      "recording\n",
      "graphics\n",
      "drawing\n",
      "filming\n",
      "edited\n",
      "studying\n",
      "upload\n",
      "programming\n",
      "-----------\n"
     ]
    },
    {
     "data": {
      "text/markdown": [
       "#### Rural"
      ],
      "text/plain": [
       "<IPython.core.display.Markdown object>"
      ]
     },
     "metadata": {},
     "output_type": "display_data"
    },
    {
     "name": "stdout",
     "output_type": "stream",
     "text": [
      "---------\n",
      "writing\n",
      "visual\n",
      "upload\n",
      "reading\n",
      "graphic\n",
      "marketing\n",
      "creation\n",
      "audio\n",
      "seo\n",
      "creating\n",
      "---------\n"
     ]
    },
    {
     "data": {
      "text/markdown": [
       "# potter"
      ],
      "text/plain": [
       "<IPython.core.display.Markdown object>"
      ]
     },
     "metadata": {},
     "output_type": "display_data"
    },
    {
     "data": {
      "text/markdown": [
       "#### Urban"
      ],
      "text/plain": [
       "<IPython.core.display.Markdown object>"
      ]
     },
     "metadata": {},
     "output_type": "display_data"
    },
    {
     "name": "stdout",
     "output_type": "stream",
     "text": [
      "--------\n",
      "styles\n",
      "prince\n",
      "sci\n",
      "starring\n",
      "liam\n",
      "diana\n",
      "disney\n",
      "posters\n",
      "vampire\n",
      "britney\n",
      "--------\n"
     ]
    },
    {
     "data": {
      "text/markdown": [
       "#### Rural"
      ],
      "text/plain": [
       "<IPython.core.display.Markdown object>"
      ]
     },
     "metadata": {},
     "output_type": "display_data"
    },
    {
     "name": "stdout",
     "output_type": "stream",
     "text": [
      "---------\n",
      "styles\n",
      "prince\n",
      "dean\n",
      "vampire\n",
      "finale\n",
      "comics\n",
      "comedy\n",
      "spongebob\n",
      "movie\n",
      "movies\n",
      "---------\n"
     ]
    },
    {
     "data": {
      "text/markdown": [
       "# gen"
      ],
      "text/plain": [
       "<IPython.core.display.Markdown object>"
      ]
     },
     "metadata": {},
     "output_type": "display_data"
    },
    {
     "data": {
      "text/markdown": [
       "#### Urban"
      ],
      "text/plain": [
       "<IPython.core.display.Markdown object>"
      ]
     },
     "metadata": {},
     "output_type": "display_data"
    },
    {
     "name": "stdout",
     "output_type": "stream",
     "text": [
      "----------\n",
      "generation\n",
      "ro\n",
      "jay\n",
      "ip\n",
      "1b\n",
      "ge\n",
      "ai\n",
      "chapter\n",
      "unit\n",
      "intel\n",
      "----------\n"
     ]
    },
    {
     "data": {
      "text/markdown": [
       "#### Rural"
      ],
      "text/plain": [
       "<IPython.core.display.Markdown object>"
      ]
     },
     "metadata": {},
     "output_type": "display_data"
    },
    {
     "name": "stdout",
     "output_type": "stream",
     "text": [
      "----------\n",
      "generation\n",
      "mc\n",
      "q\n",
      "episode\n",
      "chapter\n",
      "jay\n",
      "z\n",
      "lp\n",
      "2b\n",
      "qtr\n",
      "----------\n"
     ]
    },
    {
     "data": {
      "text/markdown": [
       "# wave"
      ],
      "text/plain": [
       "<IPython.core.display.Markdown object>"
      ]
     },
     "metadata": {},
     "output_type": "display_data"
    },
    {
     "data": {
      "text/markdown": [
       "#### Urban"
      ],
      "text/plain": [
       "<IPython.core.display.Markdown object>"
      ]
     },
     "metadata": {},
     "output_type": "display_data"
    },
    {
     "name": "stdout",
     "output_type": "stream",
     "text": [
      "---------\n",
      "track\n",
      "boat\n",
      "banger\n",
      "waves\n",
      "tunnel\n",
      "flame\n",
      "bump\n",
      "freestyle\n",
      "groove\n",
      "remix\n",
      "---------\n"
     ]
    },
    {
     "data": {
      "text/markdown": [
       "#### Rural"
      ],
      "text/plain": [
       "<IPython.core.display.Markdown object>"
      ]
     },
     "metadata": {},
     "output_type": "display_data"
    },
    {
     "name": "stdout",
     "output_type": "stream",
     "text": [
      "------\n",
      "wnw\n",
      "ft\n",
      "flame\n",
      "mph\n",
      "wvht\n",
      "tunnel\n",
      "bottom\n",
      "level\n",
      "swell\n",
      "ssw\n",
      "------\n"
     ]
    },
    {
     "data": {
      "text/markdown": [
       "# pero"
      ],
      "text/plain": [
       "<IPython.core.display.Markdown object>"
      ]
     },
     "metadata": {},
     "output_type": "display_data"
    },
    {
     "data": {
      "text/markdown": [
       "#### Urban"
      ],
      "text/plain": [
       "<IPython.core.display.Markdown object>"
      ]
     },
     "metadata": {},
     "output_type": "display_data"
    },
    {
     "name": "stdout",
     "output_type": "stream",
     "text": [
      "------\n",
      "porque\n",
      "si\n",
      "estoy\n",
      "cuando\n",
      "nunca\n",
      "bien\n",
      "eso\n",
      "tengo\n",
      "quiero\n",
      "como\n",
      "------\n"
     ]
    },
    {
     "data": {
      "text/markdown": [
       "#### Rural"
      ],
      "text/plain": [
       "<IPython.core.display.Markdown object>"
      ]
     },
     "metadata": {},
     "output_type": "display_data"
    },
    {
     "name": "stdout",
     "output_type": "stream",
     "text": [
      "----\n",
      "si\n",
      "ni\n",
      "tu\n",
      "para\n",
      "mas\n",
      "como\n",
      "dia\n",
      "una\n",
      "ay\n",
      "que\n",
      "----\n"
     ]
    },
    {
     "data": {
      "text/markdown": [
       "# ay"
      ],
      "text/plain": [
       "<IPython.core.display.Markdown object>"
      ]
     },
     "metadata": {},
     "output_type": "display_data"
    },
    {
     "data": {
      "text/markdown": [
       "#### Urban"
      ],
      "text/plain": [
       "<IPython.core.display.Markdown object>"
      ]
     },
     "metadata": {},
     "output_type": "display_data"
    },
    {
     "name": "stdout",
     "output_type": "stream",
     "text": [
      "-----\n",
      "nunca\n",
      "tengo\n",
      "ta\n",
      "mal\n",
      "estoy\n",
      "hola\n",
      "ese\n",
      "das\n",
      "dios\n",
      "eres\n",
      "-----\n"
     ]
    },
    {
     "data": {
      "text/markdown": [
       "#### Rural"
      ],
      "text/plain": [
       "<IPython.core.display.Markdown object>"
      ]
     },
     "metadata": {},
     "output_type": "display_data"
    },
    {
     "name": "stdout",
     "output_type": "stream",
     "text": [
      "----\n",
      "pero\n",
      "ni\n",
      "mas\n",
      "dia\n",
      "tu\n",
      "ke\n",
      "si\n",
      "ta\n",
      "je\n",
      "ka\n",
      "----\n"
     ]
    },
    {
     "data": {
      "text/markdown": [
       "# cha"
      ],
      "text/plain": [
       "<IPython.core.display.Markdown object>"
      ]
     },
     "metadata": {},
     "output_type": "display_data"
    },
    {
     "data": {
      "text/markdown": [
       "#### Urban"
      ],
      "text/plain": [
       "<IPython.core.display.Markdown object>"
      ]
     },
     "metadata": {},
     "output_type": "display_data"
    },
    {
     "name": "stdout",
     "output_type": "stream",
     "text": [
      "-----\n",
      "yg\n",
      "den\n",
      "ta\n",
      "da\n",
      "yung\n",
      "li\n",
      "holla\n",
      "ba\n",
      "ho\n",
      "mc\n",
      "-----\n"
     ]
    },
    {
     "data": {
      "text/markdown": [
       "#### Rural"
      ],
      "text/plain": [
       "<IPython.core.display.Markdown object>"
      ]
     },
     "metadata": {},
     "output_type": "display_data"
    },
    {
     "name": "stdout",
     "output_type": "stream",
     "text": [
      "------\n",
      "int\n",
      "beam\n",
      "smash\n",
      "flame\n",
      "crunch\n",
      "iv\n",
      "29m\n",
      "utc\n",
      "26m\n",
      "inch\n",
      "------\n"
     ]
    },
    {
     "data": {
      "text/markdown": [
       "# tank"
      ],
      "text/plain": [
       "<IPython.core.display.Markdown object>"
      ]
     },
     "metadata": {},
     "output_type": "display_data"
    },
    {
     "data": {
      "text/markdown": [
       "#### Urban"
      ],
      "text/plain": [
       "<IPython.core.display.Markdown object>"
      ]
     },
     "metadata": {},
     "output_type": "display_data"
    },
    {
     "name": "stdout",
     "output_type": "stream",
     "text": [
      "------------\n",
      "cycling\n",
      "crop\n",
      "shark\n",
      "independent\n",
      "agriculture\n",
      "creating\n",
      "architecture\n",
      "bubble\n",
      "board\n",
      "chair\n",
      "------------\n"
     ]
    },
    {
     "data": {
      "text/markdown": [
       "#### Rural"
      ],
      "text/plain": [
       "<IPython.core.display.Markdown object>"
      ]
     },
     "metadata": {},
     "output_type": "display_data"
    },
    {
     "name": "stdout",
     "output_type": "stream",
     "text": [
      "------\n",
      "crop\n",
      "coat\n",
      "bag\n",
      "collar\n",
      "powder\n",
      "rack\n",
      "pad\n",
      "nike\n",
      "shelf\n",
      "belt\n",
      "------\n"
     ]
    },
    {
     "data": {
      "text/markdown": [
       "# cam"
      ],
      "text/plain": [
       "<IPython.core.display.Markdown object>"
      ]
     },
     "metadata": {},
     "output_type": "display_data"
    },
    {
     "data": {
      "text/markdown": [
       "#### Urban"
      ],
      "text/plain": [
       "<IPython.core.display.Markdown object>"
      ]
     },
     "metadata": {},
     "output_type": "display_data"
    },
    {
     "name": "stdout",
     "output_type": "stream",
     "text": [
      "-------\n",
      "xxx\n",
      "camera\n",
      "anal\n",
      "porn\n",
      "porno\n",
      "teen\n",
      "amateur\n",
      "naked\n",
      "nude\n",
      "tube\n",
      "-------\n"
     ]
    },
    {
     "data": {
      "text/markdown": [
       "#### Rural"
      ],
      "text/plain": [
       "<IPython.core.display.Markdown object>"
      ]
     },
     "metadata": {},
     "output_type": "display_data"
    },
    {
     "name": "stdout",
     "output_type": "stream",
     "text": [
      "--------\n",
      "hernando\n",
      "kanye\n",
      "danielle\n",
      "dunk\n",
      "newton\n",
      "kane\n",
      "tiger\n",
      "sydney\n",
      "turner\n",
      "nick\n",
      "--------\n"
     ]
    },
    {
     "data": {
      "text/markdown": [
       "# mi"
      ],
      "text/plain": [
       "<IPython.core.display.Markdown object>"
      ]
     },
     "metadata": {},
     "output_type": "display_data"
    },
    {
     "data": {
      "text/markdown": [
       "#### Urban"
      ],
      "text/plain": [
       "<IPython.core.display.Markdown object>"
      ]
     },
     "metadata": {},
     "output_type": "display_data"
    },
    {
     "name": "stdout",
     "output_type": "stream",
     "text": [
      "-------\n",
      "tu\n",
      "amor\n",
      "esta\n",
      "una\n",
      "como\n",
      "muy\n",
      "el\n",
      "casa\n",
      "siempre\n",
      "esto\n",
      "-------\n"
     ]
    },
    {
     "data": {
      "text/markdown": [
       "#### Rural"
      ],
      "text/plain": [
       "<IPython.core.display.Markdown object>"
      ]
     },
     "metadata": {},
     "output_type": "display_data"
    },
    {
     "name": "stdout",
     "output_type": "stream",
     "text": [
      "-----\n",
      "il\n",
      "fe\n",
      "route\n",
      "de\n",
      "se\n",
      "mn\n",
      "ia\n",
      "acres\n",
      "en\n",
      "1h\n",
      "-----\n"
     ]
    },
    {
     "data": {
      "text/markdown": [
       "# remains"
      ],
      "text/plain": [
       "<IPython.core.display.Markdown object>"
      ]
     },
     "metadata": {},
     "output_type": "display_data"
    },
    {
     "data": {
      "text/markdown": [
       "#### Urban"
      ],
      "text/plain": [
       "<IPython.core.display.Markdown object>"
      ]
     },
     "metadata": {},
     "output_type": "display_data"
    },
    {
     "name": "stdout",
     "output_type": "stream",
     "text": [
      "---------\n",
      "finds\n",
      "becomes\n",
      "holds\n",
      "delivers\n",
      "continues\n",
      "appears\n",
      "causes\n",
      "falls\n",
      "leaves\n",
      "exists\n",
      "---------\n"
     ]
    },
    {
     "data": {
      "text/markdown": [
       "#### Rural"
      ],
      "text/plain": [
       "<IPython.core.display.Markdown object>"
      ]
     },
     "metadata": {},
     "output_type": "display_data"
    },
    {
     "name": "stdout",
     "output_type": "stream",
     "text": [
      "--------\n",
      "effect\n",
      "advisory\n",
      "mass\n",
      "remain\n",
      "exists\n",
      "cdt\n",
      "counties\n",
      "causes\n",
      "flood\n",
      "wide\n",
      "--------\n"
     ]
    },
    {
     "data": {
      "text/markdown": [
       "# comp"
      ],
      "text/plain": [
       "<IPython.core.display.Markdown object>"
      ]
     },
     "metadata": {},
     "output_type": "display_data"
    },
    {
     "data": {
      "text/markdown": [
       "#### Urban"
      ],
      "text/plain": [
       "<IPython.core.display.Markdown object>"
      ]
     },
     "metadata": {},
     "output_type": "display_data"
    },
    {
     "name": "stdout",
     "output_type": "stream",
     "text": [
      "----------\n",
      "tourney\n",
      "gb\n",
      "reg\n",
      "overwatch\n",
      "scoring\n",
      "controller\n",
      "gaming\n",
      "pc\n",
      "hp\n",
      "tier\n",
      "----------\n"
     ]
    },
    {
     "data": {
      "text/markdown": [
       "#### Rural"
      ],
      "text/plain": [
       "<IPython.core.display.Markdown object>"
      ]
     },
     "metadata": {},
     "output_type": "display_data"
    },
    {
     "name": "stdout",
     "output_type": "stream",
     "text": [
      "-----------\n",
      "ap\n",
      "aa\n",
      "advanced\n",
      "recruiting\n",
      "class\n",
      "wr\n",
      "engineering\n",
      "acc\n",
      "pr\n",
      "combine\n",
      "-----------\n"
     ]
    },
    {
     "data": {
      "text/markdown": [
       "# 90s"
      ],
      "text/plain": [
       "<IPython.core.display.Markdown object>"
      ]
     },
     "metadata": {},
     "output_type": "display_data"
    },
    {
     "data": {
      "text/markdown": [
       "#### Urban"
      ],
      "text/plain": [
       "<IPython.core.display.Markdown object>"
      ]
     },
     "metadata": {},
     "output_type": "display_data"
    },
    {
     "name": "stdout",
     "output_type": "stream",
     "text": [
      "-------\n",
      "80s\n",
      "70s\n",
      "1999\n",
      "1997\n",
      "1995\n",
      "punk\n",
      "classic\n",
      "2011\n",
      "2002\n",
      "50s\n",
      "-------\n"
     ]
    },
    {
     "data": {
      "text/markdown": [
       "#### Rural"
      ],
      "text/plain": [
       "<IPython.core.display.Markdown object>"
      ]
     },
     "metadata": {},
     "output_type": "display_data"
    },
    {
     "name": "stdout",
     "output_type": "stream",
     "text": [
      "-------\n",
      "80s\n",
      "retro\n",
      "punk\n",
      "2009\n",
      "beatles\n",
      "films\n",
      "boogie\n",
      "2012\n",
      "century\n",
      "jazz\n",
      "-------\n"
     ]
    },
    {
     "data": {
      "text/markdown": [
       "# rising"
      ],
      "text/plain": [
       "<IPython.core.display.Markdown object>"
      ]
     },
     "metadata": {},
     "output_type": "display_data"
    },
    {
     "data": {
      "text/markdown": [
       "#### Urban"
      ],
      "text/plain": [
       "<IPython.core.display.Markdown object>"
      ]
     },
     "metadata": {},
     "output_type": "display_data"
    },
    {
     "name": "stdout",
     "output_type": "stream",
     "text": [
      "----------\n",
      "rise\n",
      "shining\n",
      "winds\n",
      "grows\n",
      "industrial\n",
      "sun\n",
      "solar\n",
      "region\n",
      "index\n",
      "capital\n",
      "----------\n"
     ]
    },
    {
     "data": {
      "text/markdown": [
       "#### Rural"
      ],
      "text/plain": [
       "<IPython.core.display.Markdown object>"
      ]
     },
     "metadata": {},
     "output_type": "display_data"
    },
    {
     "name": "stdout",
     "output_type": "stream",
     "text": [
      "---------\n",
      "falling\n",
      "steady\n",
      "inhg\n",
      "rapidly\n",
      "barometer\n",
      "rise\n",
      "29\n",
      "wd\n",
      "slowly\n",
      "dp\n",
      "---------\n"
     ]
    },
    {
     "data": {
      "text/markdown": [
       "# furious"
      ],
      "text/plain": [
       "<IPython.core.display.Markdown object>"
      ]
     },
     "metadata": {},
     "output_type": "display_data"
    },
    {
     "data": {
      "text/markdown": [
       "#### Urban"
      ],
      "text/plain": [
       "<IPython.core.display.Markdown object>"
      ]
     },
     "metadata": {},
     "output_type": "display_data"
    },
    {
     "name": "stdout",
     "output_type": "stream",
     "text": [
      "-----------\n",
      "eps\n",
      "batman\n",
      "finale\n",
      "zen\n",
      "super\n",
      "hbo\n",
      "episodes\n",
      "commercials\n",
      "movies\n",
      "saga\n",
      "-----------\n"
     ]
    },
    {
     "data": {
      "text/markdown": [
       "#### Rural"
      ],
      "text/plain": [
       "<IPython.core.display.Markdown object>"
      ]
     },
     "metadata": {},
     "output_type": "display_data"
    },
    {
     "name": "stdout",
     "output_type": "stream",
     "text": [
      "-----------\n",
      "rumors\n",
      "abc\n",
      "snl\n",
      "documentary\n",
      "film\n",
      "screenrant\n",
      "hollywood\n",
      "gates\n",
      "tv\n",
      "reviews\n",
      "-----------\n"
     ]
    },
    {
     "data": {
      "text/markdown": [
       "# virtual"
      ],
      "text/plain": [
       "<IPython.core.display.Markdown object>"
      ]
     },
     "metadata": {},
     "output_type": "display_data"
    },
    {
     "data": {
      "text/markdown": [
       "#### Urban"
      ],
      "text/plain": [
       "<IPython.core.display.Markdown object>"
      ]
     },
     "metadata": {},
     "output_type": "display_data"
    },
    {
     "name": "stdout",
     "output_type": "stream",
     "text": [
      "-----------\n",
      "vr\n",
      "digital\n",
      "interactive\n",
      "cnet\n",
      "enterprise\n",
      "3d\n",
      "analytics\n",
      "automation\n",
      "gaming\n",
      "solutions\n",
      "-----------\n"
     ]
    },
    {
     "data": {
      "text/markdown": [
       "#### Rural"
      ],
      "text/plain": [
       "<IPython.core.display.Markdown object>"
      ]
     },
     "metadata": {},
     "output_type": "display_data"
    },
    {
     "name": "stdout",
     "output_type": "stream",
     "text": [
      "---------\n",
      "tour\n",
      "newest\n",
      "evolution\n",
      "map\n",
      "variety\n",
      "latest\n",
      "suite\n",
      "vr\n",
      "feature\n",
      "group\n",
      "---------\n"
     ]
    },
    {
     "data": {
      "text/markdown": [
       "# rumors"
      ],
      "text/plain": [
       "<IPython.core.display.Markdown object>"
      ]
     },
     "metadata": {},
     "output_type": "display_data"
    },
    {
     "data": {
      "text/markdown": [
       "#### Urban"
      ],
      "text/plain": [
       "<IPython.core.display.Markdown object>"
      ]
     },
     "metadata": {},
     "output_type": "display_data"
    },
    {
     "name": "stdout",
     "output_type": "stream",
     "text": [
      "-----------\n",
      "trades\n",
      "lakers\n",
      "reportedly\n",
      "clippers\n",
      "sources\n",
      "knicks\n",
      "trade\n",
      "reports\n",
      "controversy\n",
      "dolphins\n",
      "-----------\n"
     ]
    },
    {
     "data": {
      "text/markdown": [
       "#### Rural"
      ],
      "text/plain": [
       "<IPython.core.display.Markdown object>"
      ]
     },
     "metadata": {},
     "output_type": "display_data"
    },
    {
     "name": "stdout",
     "output_type": "stream",
     "text": [
      "-----------\n",
      "leaks\n",
      "sources\n",
      "facts\n",
      "stories\n",
      "celtics\n",
      "news\n",
      "journalists\n",
      "statements\n",
      "conspiracy\n",
      "commercials\n",
      "-----------\n"
     ]
    },
    {
     "data": {
      "text/markdown": [
       "# injury"
      ],
      "text/plain": [
       "<IPython.core.display.Markdown object>"
      ]
     },
     "metadata": {},
     "output_type": "display_data"
    },
    {
     "data": {
      "text/markdown": [
       "#### Urban"
      ],
      "text/plain": [
       "<IPython.core.display.Markdown object>"
      ]
     },
     "metadata": {},
     "output_type": "display_data"
    },
    {
     "name": "stdout",
     "output_type": "stream",
     "text": [
      "---------\n",
      "surgery\n",
      "embiid\n",
      "injuries\n",
      "ankle\n",
      "pitcher\n",
      "simmons\n",
      "pitching\n",
      "rondo\n",
      "bullpen\n",
      "offseason\n",
      "---------\n"
     ]
    },
    {
     "data": {
      "text/markdown": [
       "#### Rural"
      ],
      "text/plain": [
       "<IPython.core.display.Markdown object>"
      ]
     },
     "metadata": {},
     "output_type": "display_data"
    },
    {
     "name": "stdout",
     "output_type": "stream",
     "text": [
      "---------\n",
      "injuries\n",
      "illness\n",
      "incident\n",
      "stroke\n",
      "minor\n",
      "surgery\n",
      "accident\n",
      "penalty\n",
      "extension\n",
      "wr\n",
      "---------\n"
     ]
    },
    {
     "data": {
      "text/markdown": [
       "# male"
      ],
      "text/plain": [
       "<IPython.core.display.Markdown object>"
      ]
     },
     "metadata": {},
     "output_type": "display_data"
    },
    {
     "data": {
      "text/markdown": [
       "#### Urban"
      ],
      "text/plain": [
       "<IPython.core.display.Markdown object>"
      ]
     },
     "metadata": {},
     "output_type": "display_data"
    },
    {
     "name": "stdout",
     "output_type": "stream",
     "text": [
      "--------\n",
      "female\n",
      "feminist\n",
      "poc\n",
      "latina\n",
      "queer\n",
      "men\n",
      "minority\n",
      "black\n",
      "latino\n",
      "women\n",
      "--------\n"
     ]
    },
    {
     "data": {
      "text/markdown": [
       "#### Rural"
      ],
      "text/plain": [
       "<IPython.core.display.Markdown object>"
      ]
     },
     "metadata": {},
     "output_type": "display_data"
    },
    {
     "name": "stdout",
     "output_type": "stream",
     "text": [
      "--------\n",
      "female\n",
      "domestic\n",
      "adoption\n",
      "black\n",
      "woman\n",
      "mature\n",
      "sexual\n",
      "trans\n",
      "men\n",
      "german\n",
      "--------\n"
     ]
    },
    {
     "data": {
      "text/markdown": [
       "# escape"
      ],
      "text/plain": [
       "<IPython.core.display.Markdown object>"
      ]
     },
     "metadata": {},
     "output_type": "display_data"
    },
    {
     "data": {
      "text/markdown": [
       "#### Urban"
      ],
      "text/plain": [
       "<IPython.core.display.Markdown object>"
      ]
     },
     "metadata": {},
     "output_type": "display_data"
    },
    {
     "name": "stdout",
     "output_type": "stream",
     "text": [
      "---------\n",
      "survive\n",
      "hide\n",
      "recover\n",
      "destroy\n",
      "transform\n",
      "capture\n",
      "prevent\n",
      "attack\n",
      "distract\n",
      "create\n",
      "---------\n"
     ]
    },
    {
     "data": {
      "text/markdown": [
       "#### Rural"
      ],
      "text/plain": [
       "<IPython.core.display.Markdown object>"
      ]
     },
     "metadata": {},
     "output_type": "display_data"
    },
    {
     "name": "stdout",
     "output_type": "stream",
     "text": [
      "-----------\n",
      "upgrade\n",
      "adventure\n",
      "getaway\n",
      "rv\n",
      "hide\n",
      "build\n",
      "destination\n",
      "survive\n",
      "explore\n",
      "underground\n",
      "-----------\n"
     ]
    },
    {
     "data": {
      "text/markdown": [
       "# angels"
      ],
      "text/plain": [
       "<IPython.core.display.Markdown object>"
      ]
     },
     "metadata": {},
     "output_type": "display_data"
    },
    {
     "data": {
      "text/markdown": [
       "#### Urban"
      ],
      "text/plain": [
       "<IPython.core.display.Markdown object>"
      ]
     },
     "metadata": {},
     "output_type": "display_data"
    },
    {
     "name": "stdout",
     "output_type": "stream",
     "text": [
      "----------\n",
      "kings\n",
      "tigers\n",
      "lions\n",
      "yankees\n",
      "cubs\n",
      "stars\n",
      "astros\n",
      "blackhawks\n",
      "indians\n",
      "pirates\n",
      "----------\n"
     ]
    },
    {
     "data": {
      "text/markdown": [
       "#### Rural"
      ],
      "text/plain": [
       "<IPython.core.display.Markdown object>"
      ]
     },
     "metadata": {},
     "output_type": "display_data"
    },
    {
     "name": "stdout",
     "output_type": "stream",
     "text": [
      "--------\n",
      "brothers\n",
      "devil\n",
      "kingdom\n",
      "hearts\n",
      "temple\n",
      "glory\n",
      "stars\n",
      "angel\n",
      "souls\n",
      "soldiers\n",
      "--------\n"
     ]
    },
    {
     "data": {
      "text/markdown": [
       "# alpha"
      ],
      "text/plain": [
       "<IPython.core.display.Markdown object>"
      ]
     },
     "metadata": {},
     "output_type": "display_data"
    },
    {
     "data": {
      "text/markdown": [
       "#### Urban"
      ],
      "text/plain": [
       "<IPython.core.display.Markdown object>"
      ]
     },
     "metadata": {},
     "output_type": "display_data"
    },
    {
     "name": "stdout",
     "output_type": "stream",
     "text": [
      "----------\n",
      "elite\n",
      "athlete\n",
      "warrior\n",
      "army\n",
      "male\n",
      "icon\n",
      "ultra\n",
      "platinum\n",
      "adidas\n",
      "excellence\n",
      "----------\n"
     ]
    },
    {
     "data": {
      "text/markdown": [
       "#### Rural"
      ],
      "text/plain": [
       "<IPython.core.display.Markdown object>"
      ]
     },
     "metadata": {},
     "output_type": "display_data"
    },
    {
     "name": "stdout",
     "output_type": "stream",
     "text": [
      "-----------\n",
      "ii\n",
      "beta\n",
      "iii\n",
      "vol\n",
      "battlefield\n",
      "pilot\n",
      "edition\n",
      "mystery\n",
      "certified\n",
      "destiny\n",
      "-----------\n"
     ]
    },
    {
     "data": {
      "text/markdown": [
       "# sr"
      ],
      "text/plain": [
       "<IPython.core.display.Markdown object>"
      ]
     },
     "metadata": {},
     "output_type": "display_data"
    },
    {
     "data": {
      "text/markdown": [
       "#### Urban"
      ],
      "text/plain": [
       "<IPython.core.display.Markdown object>"
      ]
     },
     "metadata": {},
     "output_type": "display_data"
    },
    {
     "name": "stdout",
     "output_type": "stream",
     "text": [
      "-----------\n",
      "specialist\n",
      "engineer\n",
      "analyst\n",
      "operations\n",
      "llc\n",
      "consultant\n",
      "md\n",
      "coordinator\n",
      "developer\n",
      "manager\n",
      "-----------\n"
     ]
    },
    {
     "data": {
      "text/markdown": [
       "#### Rural"
      ],
      "text/plain": [
       "<IPython.core.display.Markdown object>"
      ]
     },
     "metadata": {},
     "output_type": "display_data"
    },
    {
     "name": "stdout",
     "output_type": "stream",
     "text": [
      "--------\n",
      "mp\n",
      "morris\n",
      "rd\n",
      "clark\n",
      "henry\n",
      "dale\n",
      "sb\n",
      "phillips\n",
      "st\n",
      "harrison\n",
      "--------\n"
     ]
    },
    {
     "data": {
      "text/markdown": [
       "# least"
      ],
      "text/plain": [
       "<IPython.core.display.Markdown object>"
      ]
     },
     "metadata": {},
     "output_type": "display_data"
    },
    {
     "data": {
      "text/markdown": [
       "#### Urban"
      ],
      "text/plain": [
       "<IPython.core.display.Markdown object>"
      ]
     },
     "metadata": {},
     "output_type": "display_data"
    },
    {
     "name": "stdout",
     "output_type": "stream",
     "text": [
      "-------\n",
      "point\n",
      "acc\n",
      "look\n",
      "only\n",
      "yelled\n",
      "also\n",
      "aim\n",
      "maybe\n",
      "atleast\n",
      "risk\n",
      "-------\n"
     ]
    },
    {
     "data": {
      "text/markdown": [
       "#### Rural"
      ],
      "text/plain": [
       "<IPython.core.display.Markdown object>"
      ]
     },
     "metadata": {},
     "output_type": "display_data"
    },
    {
     "name": "stdout",
     "output_type": "stream",
     "text": [
      "-------\n",
      "point\n",
      "atleast\n",
      "yelled\n",
      "stare\n",
      "walmart\n",
      "staring\n",
      "yell\n",
      "look\n",
      "finest\n",
      "laugh\n",
      "-------\n"
     ]
    },
    {
     "data": {
      "text/markdown": [
       "# carpet"
      ],
      "text/plain": [
       "<IPython.core.display.Markdown object>"
      ]
     },
     "metadata": {},
     "output_type": "display_data"
    },
    {
     "data": {
      "text/markdown": [
       "#### Urban"
      ],
      "text/plain": [
       "<IPython.core.display.Markdown object>"
      ]
     },
     "metadata": {},
     "output_type": "display_data"
    },
    {
     "name": "stdout",
     "output_type": "stream",
     "text": [
      "--------\n",
      "velvet\n",
      "oscars\n",
      "grammys\n",
      "lipstick\n",
      "runway\n",
      "bikini\n",
      "lights\n",
      "moon\n",
      "ruby\n",
      "palace\n",
      "--------\n"
     ]
    },
    {
     "data": {
      "text/markdown": [
       "#### Rural"
      ],
      "text/plain": [
       "<IPython.core.display.Markdown object>"
      ]
     },
     "metadata": {},
     "output_type": "display_data"
    },
    {
     "name": "stdout",
     "output_type": "stream",
     "text": [
      "------\n",
      "barn\n",
      "collar\n",
      "roof\n",
      "nail\n",
      "moon\n",
      "mat\n",
      "deck\n",
      "lights\n",
      "tape\n",
      "lawn\n",
      "------\n"
     ]
    },
    {
     "data": {
      "text/markdown": [
       "# responsible"
      ],
      "text/plain": [
       "<IPython.core.display.Markdown object>"
      ]
     },
     "metadata": {},
     "output_type": "display_data"
    },
    {
     "data": {
      "text/markdown": [
       "#### Urban"
      ],
      "text/plain": [
       "<IPython.core.display.Markdown object>"
      ]
     },
     "metadata": {},
     "output_type": "display_data"
    },
    {
     "name": "stdout",
     "output_type": "stream",
     "text": [
      "-----------\n",
      "prepared\n",
      "qualified\n",
      "wealthy\n",
      "accountable\n",
      "punishment\n",
      "advocate\n",
      "blaming\n",
      "vulnerable\n",
      "minority\n",
      "rooting\n",
      "-----------\n"
     ]
    },
    {
     "data": {
      "text/markdown": [
       "#### Rural"
      ],
      "text/plain": [
       "<IPython.core.display.Markdown object>"
      ]
     },
     "metadata": {},
     "output_type": "display_data"
    },
    {
     "name": "stdout",
     "output_type": "stream",
     "text": [
      "-----------\n",
      "accountable\n",
      "claiming\n",
      "trans\n",
      "blaming\n",
      "prepared\n",
      "protesting\n",
      "racist\n",
      "protecting\n",
      "aware\n",
      "hateful\n",
      "-----------\n"
     ]
    },
    {
     "data": {
      "text/markdown": [
       "# tracks"
      ],
      "text/plain": [
       "<IPython.core.display.Markdown object>"
      ]
     },
     "metadata": {},
     "output_type": "display_data"
    },
    {
     "data": {
      "text/markdown": [
       "#### Urban"
      ],
      "text/plain": [
       "<IPython.core.display.Markdown object>"
      ]
     },
     "metadata": {},
     "output_type": "display_data"
    },
    {
     "name": "stdout",
     "output_type": "stream",
     "text": [
      "--------\n",
      "albums\n",
      "songs\n",
      "track\n",
      "tunes\n",
      "singles\n",
      "jams\n",
      "podcasts\n",
      "vocals\n",
      "bands\n",
      "charts\n",
      "--------\n"
     ]
    },
    {
     "data": {
      "text/markdown": [
       "#### Rural"
      ],
      "text/plain": [
       "<IPython.core.display.Markdown object>"
      ]
     },
     "metadata": {},
     "output_type": "display_data"
    },
    {
     "name": "stdout",
     "output_type": "stream",
     "text": [
      "--------\n",
      "songs\n",
      "albums\n",
      "cars\n",
      "bands\n",
      "lines\n",
      "walls\n",
      "bridges\n",
      "vehicles\n",
      "windows\n",
      "waves\n",
      "--------\n"
     ]
    },
    {
     "data": {
      "text/markdown": [
       "# reaction"
      ],
      "text/plain": [
       "<IPython.core.display.Markdown object>"
      ]
     },
     "metadata": {},
     "output_type": "display_data"
    },
    {
     "data": {
      "text/markdown": [
       "#### Urban"
      ],
      "text/plain": [
       "<IPython.core.display.Markdown object>"
      ]
     },
     "metadata": {},
     "output_type": "display_data"
    },
    {
     "name": "stdout",
     "output_type": "stream",
     "text": [
      "----------\n",
      "reactions\n",
      "response\n",
      "initial\n",
      "impression\n",
      "highlight\n",
      "appearance\n",
      "tweet\n",
      "attempt\n",
      "reacts\n",
      "reference\n",
      "----------\n"
     ]
    },
    {
     "data": {
      "text/markdown": [
       "#### Rural"
      ],
      "text/plain": [
       "<IPython.core.display.Markdown object>"
      ]
     },
     "metadata": {},
     "output_type": "display_data"
    },
    {
     "name": "stdout",
     "output_type": "stream",
     "text": [
      "-----------\n",
      "response\n",
      "voice\n",
      "animated\n",
      "angle\n",
      "film\n",
      "name\n",
      "commentary\n",
      "compilation\n",
      "image\n",
      "character\n",
      "-----------\n"
     ]
    },
    {
     "data": {
      "text/markdown": [
       "# gee"
      ],
      "text/plain": [
       "<IPython.core.display.Markdown object>"
      ]
     },
     "metadata": {},
     "output_type": "display_data"
    },
    {
     "data": {
      "text/markdown": [
       "#### Urban"
      ],
      "text/plain": [
       "<IPython.core.display.Markdown object>"
      ]
     },
     "metadata": {},
     "output_type": "display_data"
    },
    {
     "name": "stdout",
     "output_type": "stream",
     "text": [
      "------\n",
      "ooh\n",
      "dee\n",
      "nas\n",
      "stevie\n",
      "ohhhh\n",
      "ah\n",
      "dir\n",
      "ohhh\n",
      "donnie\n",
      "oooh\n",
      "------\n"
     ]
    },
    {
     "data": {
      "text/markdown": [
       "#### Rural"
      ],
      "text/plain": [
       "<IPython.core.display.Markdown object>"
      ]
     },
     "metadata": {},
     "output_type": "display_data"
    },
    {
     "name": "stdout",
     "output_type": "stream",
     "text": [
      "------\n",
      "uh\n",
      "hmmm\n",
      "gotcha\n",
      "donnie\n",
      "ummm\n",
      "yea\n",
      "umm\n",
      "geez\n",
      "sen\n",
      "um\n",
      "------\n"
     ]
    },
    {
     "data": {
      "text/markdown": [
       "# jordan"
      ],
      "text/plain": [
       "<IPython.core.display.Markdown object>"
      ]
     },
     "metadata": {},
     "output_type": "display_data"
    },
    {
     "data": {
      "text/markdown": [
       "#### Urban"
      ],
      "text/plain": [
       "<IPython.core.display.Markdown object>"
      ]
     },
     "metadata": {},
     "output_type": "display_data"
    },
    {
     "name": "stdout",
     "output_type": "stream",
     "text": [
      "------\n",
      "nike\n",
      "retro\n",
      "max\n",
      "cp3\n",
      "rc\n",
      "og\n",
      "kobe\n",
      "sz\n",
      "adidas\n",
      "mj\n",
      "------\n"
     ]
    },
    {
     "data": {
      "text/markdown": [
       "#### Rural"
      ],
      "text/plain": [
       "<IPython.core.display.Markdown object>"
      ]
     },
     "metadata": {},
     "output_type": "display_data"
    },
    {
     "name": "stdout",
     "output_type": "stream",
     "text": [
      "-------\n",
      "allen\n",
      "derek\n",
      "danny\n",
      "matt\n",
      "cooper\n",
      "bradley\n",
      "bryant\n",
      "brandon\n",
      "cameron\n",
      "brad\n",
      "-------\n"
     ]
    },
    {
     "data": {
      "text/markdown": [
       "# woo"
      ],
      "text/plain": [
       "<IPython.core.display.Markdown object>"
      ]
     },
     "metadata": {},
     "output_type": "display_data"
    },
    {
     "data": {
      "text/markdown": [
       "#### Urban"
      ],
      "text/plain": [
       "<IPython.core.display.Markdown object>"
      ]
     },
     "metadata": {},
     "output_type": "display_data"
    },
    {
     "name": "stdout",
     "output_type": "stream",
     "text": [
      "---------\n",
      "hoo\n",
      "yay\n",
      "yassss\n",
      "sneak\n",
      "boo\n",
      "kay\n",
      "ka\n",
      "countdown\n",
      "swag\n",
      "cha\n",
      "---------\n"
     ]
    },
    {
     "data": {
      "text/markdown": [
       "#### Rural"
      ],
      "text/plain": [
       "<IPython.core.display.Markdown object>"
      ]
     },
     "metadata": {},
     "output_type": "display_data"
    },
    {
     "name": "stdout",
     "output_type": "stream",
     "text": [
      "---------\n",
      "hoo\n",
      "yay\n",
      "vegas\n",
      "sean\n",
      "boo\n",
      "boom\n",
      "dee\n",
      "countdown\n",
      "hello\n",
      "donnie\n",
      "---------\n"
     ]
    },
    {
     "data": {
      "text/markdown": [
       "# dam"
      ],
      "text/plain": [
       "<IPython.core.display.Markdown object>"
      ]
     },
     "metadata": {},
     "output_type": "display_data"
    },
    {
     "data": {
      "text/markdown": [
       "#### Urban"
      ],
      "text/plain": [
       "<IPython.core.display.Markdown object>"
      ]
     },
     "metadata": {},
     "output_type": "display_data"
    },
    {
     "name": "stdout",
     "output_type": "stream",
     "text": [
      "--------\n",
      "damn\n",
      "bruh\n",
      "mines\n",
      "naw\n",
      "fuckin\n",
      "mf\n",
      "lmaoooo\n",
      "lmaooooo\n",
      "lmaoo\n",
      "lmaooo\n",
      "--------\n"
     ]
    },
    {
     "data": {
      "text/markdown": [
       "#### Rural"
      ],
      "text/plain": [
       "<IPython.core.display.Markdown object>"
      ]
     },
     "metadata": {},
     "output_type": "display_data"
    },
    {
     "name": "stdout",
     "output_type": "stream",
     "text": [
      "-----------\n",
      "damn\n",
      "dang\n",
      "darn\n",
      "goddamn\n",
      "roof\n",
      "geez\n",
      "border\n",
      "highway\n",
      "mississippi\n",
      "pipe\n",
      "-----------\n"
     ]
    },
    {
     "data": {
      "text/markdown": [
       "# fa"
      ],
      "text/plain": [
       "<IPython.core.display.Markdown object>"
      ]
     },
     "metadata": {},
     "output_type": "display_data"
    },
    {
     "data": {
      "text/markdown": [
       "#### Urban"
      ],
      "text/plain": [
       "<IPython.core.display.Markdown object>"
      ]
     },
     "metadata": {},
     "output_type": "display_data"
    },
    {
     "name": "stdout",
     "output_type": "stream",
     "text": [
      "--------\n",
      "fo\n",
      "den\n",
      "mls\n",
      "madrid\n",
      "mvp\n",
      "ta\n",
      "canelo\n",
      "playoffs\n",
      "celtics\n",
      "okc\n",
      "--------\n"
     ]
    },
    {
     "data": {
      "text/markdown": [
       "#### Rural"
      ],
      "text/plain": [
       "<IPython.core.display.Markdown object>"
      ]
     },
     "metadata": {},
     "output_type": "display_data"
    },
    {
     "name": "stdout",
     "output_type": "stream",
     "text": [
      "---\n",
      "te\n",
      "bu\n",
      "ta\n",
      "je\n",
      "si\n",
      "por\n",
      "mas\n",
      "una\n",
      "su\n",
      "que\n",
      "---\n"
     ]
    },
    {
     "data": {
      "text/markdown": [
       "# hoop"
      ],
      "text/plain": [
       "<IPython.core.display.Markdown object>"
      ]
     },
     "metadata": {},
     "output_type": "display_data"
    },
    {
     "data": {
      "text/markdown": [
       "#### Urban"
      ],
      "text/plain": [
       "<IPython.core.display.Markdown object>"
      ]
     },
     "metadata": {},
     "output_type": "display_data"
    },
    {
     "name": "stdout",
     "output_type": "stream",
     "text": [
      "------\n",
      "skate\n",
      "swim\n",
      "flex\n",
      "strap\n",
      "fade\n",
      "toe\n",
      "hoodie\n",
      "slide\n",
      "stud\n",
      "ankle\n",
      "------\n"
     ]
    },
    {
     "data": {
      "text/markdown": [
       "#### Rural"
      ],
      "text/plain": [
       "<IPython.core.display.Markdown object>"
      ]
     },
     "metadata": {},
     "output_type": "display_data"
    },
    {
     "name": "stdout",
     "output_type": "stream",
     "text": [
      "----------\n",
      "hoops\n",
      "ball\n",
      "diamond\n",
      "boys\n",
      "tennis\n",
      "volleyball\n",
      "lax\n",
      "stud\n",
      "swimming\n",
      "tie\n",
      "----------\n"
     ]
    },
    {
     "data": {
      "text/markdown": [
       "# highest"
      ],
      "text/plain": [
       "<IPython.core.display.Markdown object>"
      ]
     },
     "metadata": {},
     "output_type": "display_data"
    },
    {
     "data": {
      "text/markdown": [
       "#### Urban"
      ],
      "text/plain": [
       "<IPython.core.display.Markdown object>"
      ]
     },
     "metadata": {},
     "output_type": "display_data"
    },
    {
     "name": "stdout",
     "output_type": "stream",
     "text": [
      "--------\n",
      "lowest\n",
      "largest\n",
      "greatest\n",
      "worst\n",
      "biggest\n",
      "best\n",
      "fastest\n",
      "top\n",
      "ranking\n",
      "most\n",
      "--------\n"
     ]
    },
    {
     "data": {
      "text/markdown": [
       "#### Rural"
      ],
      "text/plain": [
       "<IPython.core.display.Markdown object>"
      ]
     },
     "metadata": {},
     "output_type": "display_data"
    },
    {
     "name": "stdout",
     "output_type": "stream",
     "text": [
      "---------\n",
      "lowest\n",
      "gust\n",
      "largest\n",
      "increased\n",
      "exchange\n",
      "india\n",
      "9mph\n",
      "stolen\n",
      "factor\n",
      "0mph\n",
      "---------\n"
     ]
    },
    {
     "data": {
      "text/markdown": [
       "# dash"
      ],
      "text/plain": [
       "<IPython.core.display.Markdown object>"
      ]
     },
     "metadata": {},
     "output_type": "display_data"
    },
    {
     "data": {
      "text/markdown": [
       "#### Urban"
      ],
      "text/plain": [
       "<IPython.core.display.Markdown object>"
      ]
     },
     "metadata": {},
     "output_type": "display_data"
    },
    {
     "name": "stdout",
     "output_type": "stream",
     "text": [
      "---------\n",
      "hp\n",
      "360\n",
      "dual\n",
      "chrome\n",
      "pole\n",
      "toyota\n",
      "screen\n",
      "lens\n",
      "lightning\n",
      "tap\n",
      "---------\n"
     ]
    },
    {
     "data": {
      "text/markdown": [
       "#### Rural"
      ],
      "text/plain": [
       "<IPython.core.display.Markdown object>"
      ]
     },
     "metadata": {},
     "output_type": "display_data"
    },
    {
     "name": "stdout",
     "output_type": "stream",
     "text": [
      "---------\n",
      "pole\n",
      "lap\n",
      "freestyle\n",
      "relay\n",
      "scores\n",
      "finishes\n",
      "3rd\n",
      "triple\n",
      "pin\n",
      "solo\n",
      "---------\n"
     ]
    },
    {
     "data": {
      "text/markdown": [
       "# stranger"
      ],
      "text/plain": [
       "<IPython.core.display.Markdown object>"
      ]
     },
     "metadata": {},
     "output_type": "display_data"
    },
    {
     "data": {
      "text/markdown": [
       "#### Urban"
      ],
      "text/plain": [
       "<IPython.core.display.Markdown object>"
      ]
     },
     "metadata": {},
     "output_type": "display_data"
    },
    {
     "name": "stdout",
     "output_type": "stream",
     "text": [
      "---------\n",
      "couple\n",
      "laura\n",
      "few\n",
      "vampire\n",
      "certain\n",
      "nerd\n",
      "princess\n",
      "demon\n",
      "teenager\n",
      "different\n",
      "---------\n"
     ]
    },
    {
     "data": {
      "text/markdown": [
       "#### Rural"
      ],
      "text/plain": [
       "<IPython.core.display.Markdown object>"
      ]
     },
     "metadata": {},
     "output_type": "display_data"
    },
    {
     "name": "stdout",
     "output_type": "stream",
     "text": [
      "---------\n",
      "few\n",
      "couple\n",
      "strange\n",
      "bigger\n",
      "strangers\n",
      "larger\n",
      "genius\n",
      "different\n",
      "thousand\n",
      "five\n",
      "---------\n"
     ]
    },
    {
     "data": {
      "text/markdown": [
       "# theft"
      ],
      "text/plain": [
       "<IPython.core.display.Markdown object>"
      ]
     },
     "metadata": {},
     "output_type": "display_data"
    },
    {
     "data": {
      "text/markdown": [
       "#### Urban"
      ],
      "text/plain": [
       "<IPython.core.display.Markdown object>"
      ]
     },
     "metadata": {},
     "output_type": "display_data"
    },
    {
     "name": "stdout",
     "output_type": "stream",
     "text": [
      "---------\n",
      "scheme\n",
      "breach\n",
      "fraud\n",
      "stolen\n",
      "alleged\n",
      "robbery\n",
      "fatal\n",
      "jury\n",
      "operation\n",
      "crime\n",
      "---------\n"
     ]
    },
    {
     "data": {
      "text/markdown": [
       "#### Rural"
      ],
      "text/plain": [
       "<IPython.core.display.Markdown object>"
      ]
     },
     "metadata": {},
     "output_type": "display_data"
    },
    {
     "name": "stdout",
     "output_type": "stream",
     "text": [
      "--------\n",
      "auto\n",
      "jury\n",
      "consumer\n",
      "deaths\n",
      "stolen\n",
      "deadly\n",
      "abuse\n",
      "finance\n",
      "repair\n",
      "identity\n",
      "--------\n"
     ]
    },
    {
     "data": {
      "text/markdown": [
       "# appreciated"
      ],
      "text/plain": [
       "<IPython.core.display.Markdown object>"
      ]
     },
     "metadata": {},
     "output_type": "display_data"
    },
    {
     "data": {
      "text/markdown": [
       "#### Urban"
      ],
      "text/plain": [
       "<IPython.core.display.Markdown object>"
      ]
     },
     "metadata": {},
     "output_type": "display_data"
    },
    {
     "name": "stdout",
     "output_type": "stream",
     "text": [
      "----------\n",
      "retweets\n",
      "pretty\n",
      "appreciate\n",
      "awesome\n",
      "amazing\n",
      "rts\n",
      "engaged\n",
      "thanks\n",
      "thank\n",
      "improved\n",
      "----------\n"
     ]
    },
    {
     "data": {
      "text/markdown": [
       "#### Rural"
      ],
      "text/plain": [
       "<IPython.core.display.Markdown object>"
      ]
     },
     "metadata": {},
     "output_type": "display_data"
    },
    {
     "name": "stdout",
     "output_type": "stream",
     "text": [
      "----------\n",
      "engaged\n",
      "retweets\n",
      "so\n",
      "pretty\n",
      "awesome\n",
      "too\n",
      "very\n",
      "sooo\n",
      "appreciate\n",
      "soo\n",
      "----------\n"
     ]
    },
    {
     "data": {
      "text/markdown": [
       "# fi"
      ],
      "text/plain": [
       "<IPython.core.display.Markdown object>"
      ]
     },
     "metadata": {},
     "output_type": "display_data"
    },
    {
     "data": {
      "text/markdown": [
       "#### Urban"
      ],
      "text/plain": [
       "<IPython.core.display.Markdown object>"
      ]
     },
     "metadata": {},
     "output_type": "display_data"
    },
    {
     "name": "stdout",
     "output_type": "stream",
     "text": [
      "-----------\n",
      "3d\n",
      "gaming\n",
      "vr\n",
      "graphics\n",
      "hp\n",
      "hub\n",
      "sci\n",
      "interactive\n",
      "wi\n",
      "dev\n",
      "-----------\n"
     ]
    },
    {
     "data": {
      "text/markdown": [
       "#### Rural"
      ],
      "text/plain": [
       "<IPython.core.display.Markdown object>"
      ]
     },
     "metadata": {},
     "output_type": "display_data"
    },
    {
     "name": "stdout",
     "output_type": "stream",
     "text": [
      "---------\n",
      "wireless\n",
      "4k\n",
      "hd\n",
      "bluetooth\n",
      "tablet\n",
      "retro\n",
      "sony\n",
      "wi\n",
      "galaxy\n",
      "samsung\n",
      "---------\n"
     ]
    },
    {
     "data": {
      "text/markdown": [
       "# fortune"
      ],
      "text/plain": [
       "<IPython.core.display.Markdown object>"
      ]
     },
     "metadata": {},
     "output_type": "display_data"
    },
    {
     "data": {
      "text/markdown": [
       "#### Urban"
      ],
      "text/plain": [
       "<IPython.core.display.Markdown object>"
      ]
     },
     "metadata": {},
     "output_type": "display_data"
    },
    {
     "name": "stdout",
     "output_type": "stream",
     "text": [
      "-----------\n",
      "cookie\n",
      "penny\n",
      "millionaire\n",
      "bitcoin\n",
      "investment\n",
      "billions\n",
      "chip\n",
      "money\n",
      "profits\n",
      "dollar\n",
      "-----------\n"
     ]
    },
    {
     "data": {
      "text/markdown": [
       "#### Rural"
      ],
      "text/plain": [
       "<IPython.core.display.Markdown object>"
      ]
     },
     "metadata": {},
     "output_type": "display_data"
    },
    {
     "name": "stdout",
     "output_type": "stream",
     "text": [
      "------\n",
      "cookie\n",
      "bingo\n",
      "penny\n",
      "wheel\n",
      "burger\n",
      "fruit\n",
      "barrel\n",
      "jar\n",
      "money\n",
      "bars\n",
      "------\n"
     ]
    },
    {
     "data": {
      "text/markdown": [
       "# ole"
      ],
      "text/plain": [
       "<IPython.core.display.Markdown object>"
      ]
     },
     "metadata": {},
     "output_type": "display_data"
    },
    {
     "data": {
      "text/markdown": [
       "#### Urban"
      ],
      "text/plain": [
       "<IPython.core.display.Markdown object>"
      ]
     },
     "metadata": {},
     "output_type": "display_data"
    },
    {
     "name": "stdout",
     "output_type": "stream",
     "text": [
      "---------\n",
      "ol\n",
      "cha\n",
      "soulja\n",
      "luck\n",
      "bye\n",
      "yuh\n",
      "boy\n",
      "hoo\n",
      "tennessee\n",
      "papi\n",
      "---------\n"
     ]
    },
    {
     "data": {
      "text/markdown": [
       "#### Rural"
      ],
      "text/plain": [
       "<IPython.core.display.Markdown object>"
      ]
     },
     "metadata": {},
     "output_type": "display_data"
    },
    {
     "name": "stdout",
     "output_type": "stream",
     "text": [
      "------\n",
      "ol\n",
      "buck\n",
      "boy\n",
      "dawg\n",
      "mills\n",
      "luck\n",
      "donnie\n",
      "lookin\n",
      "bye\n",
      "ahhh\n",
      "------\n"
     ]
    },
    {
     "data": {
      "text/markdown": [
       "# spelled"
      ],
      "text/plain": [
       "<IPython.core.display.Markdown object>"
      ]
     },
     "metadata": {},
     "output_type": "display_data"
    },
    {
     "data": {
      "text/markdown": [
       "#### Urban"
      ],
      "text/plain": [
       "<IPython.core.display.Markdown object>"
      ]
     },
     "metadata": {},
     "output_type": "display_data"
    },
    {
     "name": "stdout",
     "output_type": "stream",
     "text": [
      "---------\n",
      "spell\n",
      "spelling\n",
      "proved\n",
      "chose\n",
      "replied\n",
      "stated\n",
      "plain\n",
      "responded\n",
      "grammar\n",
      "sounded\n",
      "---------\n"
     ]
    },
    {
     "data": {
      "text/markdown": [
       "#### Rural"
      ],
      "text/plain": [
       "<IPython.core.display.Markdown object>"
      ]
     },
     "metadata": {},
     "output_type": "display_data"
    },
    {
     "name": "stdout",
     "output_type": "stream",
     "text": [
      "-----------\n",
      "spell\n",
      "spelling\n",
      "chose\n",
      "duh\n",
      "forgot\n",
      "technically\n",
      "wrote\n",
      "ummm\n",
      "oops\n",
      "nailed\n",
      "-----------\n"
     ]
    },
    {
     "data": {
      "text/markdown": [
       "# responding"
      ],
      "text/plain": [
       "<IPython.core.display.Markdown object>"
      ]
     },
     "metadata": {},
     "output_type": "display_data"
    },
    {
     "data": {
      "text/markdown": [
       "#### Urban"
      ],
      "text/plain": [
       "<IPython.core.display.Markdown object>"
      ]
     },
     "metadata": {},
     "output_type": "display_data"
    },
    {
     "name": "stdout",
     "output_type": "stream",
     "text": [
      "----------\n",
      "blk\n",
      "replying\n",
      "division\n",
      "referring\n",
      "due\n",
      "linked\n",
      "responds\n",
      "ln\n",
      "supervisor\n",
      "ave\n",
      "----------\n"
     ]
    },
    {
     "data": {
      "text/markdown": [
       "#### Rural"
      ],
      "text/plain": [
       "<IPython.core.display.Markdown object>"
      ]
     },
     "metadata": {},
     "output_type": "display_data"
    },
    {
     "name": "stdout",
     "output_type": "stream",
     "text": [
      "-------------\n",
      "units\n",
      "hiring\n",
      "responded\n",
      "investigating\n",
      "hwy\n",
      "reporting\n",
      "structure\n",
      "911\n",
      "seeking\n",
      "township\n",
      "-------------\n"
     ]
    },
    {
     "data": {
      "text/markdown": [
       "# category"
      ],
      "text/plain": [
       "<IPython.core.display.Markdown object>"
      ]
     },
     "metadata": {},
     "output_type": "display_data"
    },
    {
     "data": {
      "text/markdown": [
       "#### Urban"
      ],
      "text/plain": [
       "<IPython.core.display.Markdown object>"
      ]
     },
     "metadata": {},
     "output_type": "display_data"
    },
    {
     "name": "stdout",
     "output_type": "stream",
     "text": [
      "-------\n",
      "ranking\n",
      "tier\n",
      "factor\n",
      "region\n",
      "cloud\n",
      "seasons\n",
      "persona\n",
      "top\n",
      "phase\n",
      "areas\n",
      "-------\n"
     ]
    },
    {
     "data": {
      "text/markdown": [
       "#### Rural"
      ],
      "text/plain": [
       "<IPython.core.display.Markdown object>"
      ]
     },
     "metadata": {},
     "output_type": "display_data"
    },
    {
     "name": "stdout",
     "output_type": "stream",
     "text": [
      "---------\n",
      "score\n",
      "remaining\n",
      "quarter\n",
      "combined\n",
      "innings\n",
      "points\n",
      "seconds\n",
      "scoring\n",
      "percent\n",
      "timeout\n",
      "---------\n"
     ]
    },
    {
     "data": {
      "text/markdown": [
       "# faced"
      ],
      "text/plain": [
       "<IPython.core.display.Markdown object>"
      ]
     },
     "metadata": {},
     "output_type": "display_data"
    },
    {
     "data": {
      "text/markdown": [
       "#### Urban"
      ],
      "text/plain": [
       "<IPython.core.display.Markdown object>"
      ]
     },
     "metadata": {},
     "output_type": "display_data"
    },
    {
     "name": "stdout",
     "output_type": "stream",
     "text": [
      "---------\n",
      "drawn\n",
      "exposed\n",
      "handed\n",
      "touched\n",
      "busted\n",
      "dated\n",
      "witnessed\n",
      "destroyed\n",
      "worn\n",
      "claimed\n",
      "---------\n"
     ]
    },
    {
     "data": {
      "text/markdown": [
       "#### Rural"
      ],
      "text/plain": [
       "<IPython.core.display.Markdown object>"
      ]
     },
     "metadata": {},
     "output_type": "display_data"
    },
    {
     "name": "stdout",
     "output_type": "stream",
     "text": [
      "---------\n",
      "attacked\n",
      "liars\n",
      "kills\n",
      "blocks\n",
      "eaten\n",
      "pigs\n",
      "sides\n",
      "owned\n",
      "killed\n",
      "heartless\n",
      "---------\n"
     ]
    },
    {
     "data": {
      "text/markdown": [
       "# og"
      ],
      "text/plain": [
       "<IPython.core.display.Markdown object>"
      ]
     },
     "metadata": {},
     "output_type": "display_data"
    },
    {
     "data": {
      "text/markdown": [
       "#### Urban"
      ],
      "text/plain": [
       "<IPython.core.display.Markdown object>"
      ]
     },
     "metadata": {},
     "output_type": "display_data"
    },
    {
     "name": "stdout",
     "output_type": "stream",
     "text": [
      "------\n",
      "retro\n",
      "jordan\n",
      "x\n",
      "adidas\n",
      "ace\n",
      "hoodie\n",
      "nike\n",
      "v2\n",
      "wiz\n",
      "yeezy\n",
      "------\n"
     ]
    },
    {
     "data": {
      "text/markdown": [
       "#### Rural"
      ],
      "text/plain": [
       "<IPython.core.display.Markdown object>"
      ]
     },
     "metadata": {},
     "output_type": "display_data"
    },
    {
     "name": "stdout",
     "output_type": "stream",
     "text": [
      "-------\n",
      "dj\n",
      "mixtape\n",
      "kodak\n",
      "z\n",
      "gucci\n",
      "yung\n",
      "drake\n",
      "remix\n",
      "boogie\n",
      "aye\n",
      "-------\n"
     ]
    },
    {
     "data": {
      "text/markdown": [
       "# dozen"
      ],
      "text/plain": [
       "<IPython.core.display.Markdown object>"
      ]
     },
     "metadata": {},
     "output_type": "display_data"
    },
    {
     "data": {
      "text/markdown": [
       "#### Urban"
      ],
      "text/plain": [
       "<IPython.core.display.Markdown object>"
      ]
     },
     "metadata": {},
     "output_type": "display_data"
    },
    {
     "name": "stdout",
     "output_type": "stream",
     "text": [
      "--------\n",
      "hundred\n",
      "thousand\n",
      "three\n",
      "two\n",
      "twenty\n",
      "four\n",
      "seven\n",
      "several\n",
      "eight\n",
      "dozens\n",
      "--------\n"
     ]
    },
    {
     "data": {
      "text/markdown": [
       "#### Rural"
      ],
      "text/plain": [
       "<IPython.core.display.Markdown object>"
      ]
     },
     "metadata": {},
     "output_type": "display_data"
    },
    {
     "name": "stdout",
     "output_type": "stream",
     "text": [
      "--------\n",
      "hundred\n",
      "bottles\n",
      "cans\n",
      "cups\n",
      "pound\n",
      "cents\n",
      "thousand\n",
      "baked\n",
      "pot\n",
      "million\n",
      "--------\n"
     ]
    },
    {
     "data": {
      "text/markdown": [
       "# buyer"
      ],
      "text/plain": [
       "<IPython.core.display.Markdown object>"
      ]
     },
     "metadata": {},
     "output_type": "display_data"
    },
    {
     "data": {
      "text/markdown": [
       "#### Urban"
      ],
      "text/plain": [
       "<IPython.core.display.Markdown object>"
      ]
     },
     "metadata": {},
     "output_type": "display_data"
    },
    {
     "name": "stdout",
     "output_type": "stream",
     "text": [
      "-----------\n",
      "buyers\n",
      "rental\n",
      "mortgage\n",
      "loan\n",
      "property\n",
      "electrician\n",
      "consumer\n",
      "consultant\n",
      "lease\n",
      "refund\n",
      "-----------\n"
     ]
    },
    {
     "data": {
      "text/markdown": [
       "#### Rural"
      ],
      "text/plain": [
       "<IPython.core.display.Markdown object>"
      ]
     },
     "metadata": {},
     "output_type": "display_data"
    },
    {
     "name": "stdout",
     "output_type": "stream",
     "text": [
      "-----------\n",
      "avenue\n",
      "property\n",
      "residential\n",
      "route\n",
      "rd\n",
      "acres\n",
      "listing\n",
      "ave\n",
      "highway\n",
      "vehicle\n",
      "-----------\n"
     ]
    },
    {
     "data": {
      "text/markdown": [
       "# concept"
      ],
      "text/plain": [
       "<IPython.core.display.Markdown object>"
      ]
     },
     "metadata": {},
     "output_type": "display_data"
    },
    {
     "data": {
      "text/markdown": [
       "#### Urban"
      ],
      "text/plain": [
       "<IPython.core.display.Markdown object>"
      ]
     },
     "metadata": {},
     "output_type": "display_data"
    },
    {
     "name": "stdout",
     "output_type": "stream",
     "text": [
      "--------------\n",
      "genre\n",
      "representation\n",
      "definition\n",
      "animation\n",
      "version\n",
      "combination\n",
      "evolution\n",
      "creation\n",
      "philosophy\n",
      "dialogue\n",
      "--------------\n"
     ]
    },
    {
     "data": {
      "text/markdown": [
       "#### Rural"
      ],
      "text/plain": [
       "<IPython.core.display.Markdown object>"
      ]
     },
     "metadata": {},
     "output_type": "display_data"
    },
    {
     "name": "stdout",
     "output_type": "stream",
     "text": [
      "-----------\n",
      "evolution\n",
      "form\n",
      "comparison\n",
      "meaning\n",
      "definition\n",
      "description\n",
      "visual\n",
      "knowledge\n",
      "culture\n",
      "method\n",
      "-----------\n"
     ]
    },
    {
     "data": {
      "text/markdown": [
       "# recently"
      ],
      "text/plain": [
       "<IPython.core.display.Markdown object>"
      ]
     },
     "metadata": {},
     "output_type": "display_data"
    },
    {
     "data": {
      "text/markdown": [
       "#### Urban"
      ],
      "text/plain": [
       "<IPython.core.display.Markdown object>"
      ]
     },
     "metadata": {},
     "output_type": "display_data"
    },
    {
     "name": "stdout",
     "output_type": "stream",
     "text": [
      "------------\n",
      "originally\n",
      "yesterday\n",
      "newly\n",
      "earlier\n",
      "apparently\n",
      "successfully\n",
      "ve\n",
      "since\n",
      "finally\n",
      "2012\n",
      "------------\n"
     ]
    },
    {
     "data": {
      "text/markdown": [
       "#### Rural"
      ],
      "text/plain": [
       "<IPython.core.display.Markdown object>"
      ]
     },
     "metadata": {},
     "output_type": "display_data"
    },
    {
     "name": "stdout",
     "output_type": "stream",
     "text": [
      "---------\n",
      "newly\n",
      "2008\n",
      "2007\n",
      "2010\n",
      "recent\n",
      "2014\n",
      "2005\n",
      "2013\n",
      "bookstore\n",
      "2012\n",
      "---------\n"
     ]
    },
    {
     "data": {
      "text/markdown": [
       "# application"
      ],
      "text/plain": [
       "<IPython.core.display.Markdown object>"
      ]
     },
     "metadata": {},
     "output_type": "display_data"
    },
    {
     "data": {
      "text/markdown": [
       "#### Urban"
      ],
      "text/plain": [
       "<IPython.core.display.Markdown object>"
      ]
     },
     "metadata": {},
     "output_type": "display_data"
    },
    {
     "name": "stdout",
     "output_type": "stream",
     "text": [
      "------------\n",
      "software\n",
      "intern\n",
      "portfolio\n",
      "applications\n",
      "program\n",
      "assignment\n",
      "resume\n",
      "enterprise\n",
      "engineering\n",
      "data\n",
      "------------\n"
     ]
    },
    {
     "data": {
      "text/markdown": [
       "#### Rural"
      ],
      "text/plain": [
       "<IPython.core.display.Markdown object>"
      ]
     },
     "metadata": {},
     "output_type": "display_data"
    },
    {
     "name": "stdout",
     "output_type": "stream",
     "text": [
      "-----------\n",
      "tool\n",
      "web\n",
      "app\n",
      "email\n",
      "site\n",
      "opportunity\n",
      "software\n",
      "issue\n",
      "description\n",
      "profile\n",
      "-----------\n"
     ]
    },
    {
     "data": {
      "text/markdown": [
       "# reviews"
      ],
      "text/plain": [
       "<IPython.core.display.Markdown object>"
      ]
     },
     "metadata": {},
     "output_type": "display_data"
    },
    {
     "data": {
      "text/markdown": [
       "#### Urban"
      ],
      "text/plain": [
       "<IPython.core.display.Markdown object>"
      ]
     },
     "metadata": {},
     "output_type": "display_data"
    },
    {
     "name": "stdout",
     "output_type": "stream",
     "text": [
      "---------------\n",
      "blogs\n",
      "review\n",
      "recommendations\n",
      "insights\n",
      "authors\n",
      "podcasts\n",
      "channels\n",
      "creators\n",
      "readers\n",
      "content\n",
      "---------------\n"
     ]
    },
    {
     "data": {
      "text/markdown": [
       "#### Rural"
      ],
      "text/plain": [
       "<IPython.core.display.Markdown object>"
      ]
     },
     "metadata": {},
     "output_type": "display_data"
    },
    {
     "name": "stdout",
     "output_type": "stream",
     "text": [
      "--------\n",
      "review\n",
      "articles\n",
      "maps\n",
      "quotes\n",
      "images\n",
      "pages\n",
      "readers\n",
      "films\n",
      "features\n",
      "websites\n",
      "--------\n"
     ]
    },
    {
     "data": {
      "text/markdown": [
       "# rihanna"
      ],
      "text/plain": [
       "<IPython.core.display.Markdown object>"
      ]
     },
     "metadata": {},
     "output_type": "display_data"
    },
    {
     "data": {
      "text/markdown": [
       "#### Urban"
      ],
      "text/plain": [
       "<IPython.core.display.Markdown object>"
      ]
     },
     "metadata": {},
     "output_type": "display_data"
    },
    {
     "name": "stdout",
     "output_type": "stream",
     "text": [
      "-------\n",
      "beyonce\n",
      "beyonc\n",
      "drake\n",
      "nicki\n",
      "adele\n",
      "demi\n",
      "sza\n",
      "britney\n",
      "rae\n",
      "minaj\n",
      "-------\n"
     ]
    },
    {
     "data": {
      "text/markdown": [
       "#### Rural"
      ],
      "text/plain": [
       "<IPython.core.display.Markdown object>"
      ]
     },
     "metadata": {},
     "output_type": "display_data"
    },
    {
     "name": "stdout",
     "output_type": "stream",
     "text": [
      "--------\n",
      "nicki\n",
      "drake\n",
      "beyonc\n",
      "kendrick\n",
      "kylie\n",
      "migos\n",
      "remix\n",
      "molly\n",
      "prod\n",
      "gucci\n",
      "--------\n"
     ]
    },
    {
     "data": {
      "text/markdown": [
       "# vibe"
      ],
      "text/plain": [
       "<IPython.core.display.Markdown object>"
      ]
     },
     "metadata": {},
     "output_type": "display_data"
    },
    {
     "data": {
      "text/markdown": [
       "#### Urban"
      ],
      "text/plain": [
       "<IPython.core.display.Markdown object>"
      ]
     },
     "metadata": {},
     "output_type": "display_data"
    },
    {
     "name": "stdout",
     "output_type": "stream",
     "text": [
      "--------\n",
      "banger\n",
      "vibes\n",
      "song\n",
      "groove\n",
      "chill\n",
      "attitude\n",
      "collab\n",
      "funk\n",
      "mood\n",
      "flow\n",
      "--------\n"
     ]
    },
    {
     "data": {
      "text/markdown": [
       "#### Rural"
      ],
      "text/plain": [
       "<IPython.core.display.Markdown object>"
      ]
     },
     "metadata": {},
     "output_type": "display_data"
    },
    {
     "name": "stdout",
     "output_type": "stream",
     "text": [
      "--------\n",
      "chill\n",
      "convo\n",
      "oomf\n",
      "emotions\n",
      "homies\n",
      "vibes\n",
      "ride\n",
      "shawty\n",
      "song\n",
      "attitude\n",
      "--------\n"
     ]
    },
    {
     "data": {
      "text/markdown": [
       "# travels"
      ],
      "text/plain": [
       "<IPython.core.display.Markdown object>"
      ]
     },
     "metadata": {},
     "output_type": "display_data"
    },
    {
     "data": {
      "text/markdown": [
       "#### Urban"
      ],
      "text/plain": [
       "<IPython.core.display.Markdown object>"
      ]
     },
     "metadata": {},
     "output_type": "display_data"
    },
    {
     "name": "stdout",
     "output_type": "stream",
     "text": [
      "------------\n",
      "wishes\n",
      "travel\n",
      "moscow\n",
      "welcome\n",
      "grandparents\n",
      "stays\n",
      "hugs\n",
      "stay\n",
      "adventures\n",
      "trips\n",
      "------------\n"
     ]
    },
    {
     "data": {
      "text/markdown": [
       "#### Rural"
      ],
      "text/plain": [
       "<IPython.core.display.Markdown object>"
      ]
     },
     "metadata": {},
     "output_type": "display_data"
    },
    {
     "name": "stdout",
     "output_type": "stream",
     "text": [
      "---------\n",
      "stay\n",
      "stays\n",
      "safely\n",
      "traveling\n",
      "travel\n",
      "valley\n",
      "trip\n",
      "nationals\n",
      "fort\n",
      "welcome\n",
      "---------\n"
     ]
    },
    {
     "data": {
      "text/markdown": [
       "# patch"
      ],
      "text/plain": [
       "<IPython.core.display.Markdown object>"
      ]
     },
     "metadata": {},
     "output_type": "display_data"
    },
    {
     "data": {
      "text/markdown": [
       "#### Urban"
      ],
      "text/plain": [
       "<IPython.core.display.Markdown object>"
      ]
     },
     "metadata": {},
     "output_type": "display_data"
    },
    {
     "name": "stdout",
     "output_type": "stream",
     "text": [
      "-------\n",
      "chrome\n",
      "rc\n",
      "leaf\n",
      "dual\n",
      "logo\n",
      "sp\n",
      "deck\n",
      "printed\n",
      "box\n",
      "pickup\n",
      "-------\n"
     ]
    },
    {
     "data": {
      "text/markdown": [
       "#### Rural"
      ],
      "text/plain": [
       "<IPython.core.display.Markdown object>"
      ]
     },
     "metadata": {},
     "output_type": "display_data"
    },
    {
     "name": "stdout",
     "output_type": "stream",
     "text": [
      "------------\n",
      "upper\n",
      "nj\n",
      "construction\n",
      "hampton\n",
      "search\n",
      "aspen\n",
      "canvas\n",
      "deck\n",
      "hunting\n",
      "newly\n",
      "------------\n"
     ]
    },
    {
     "data": {
      "text/markdown": [
       "# chart"
      ],
      "text/plain": [
       "<IPython.core.display.Markdown object>"
      ]
     },
     "metadata": {},
     "output_type": "display_data"
    },
    {
     "data": {
      "text/markdown": [
       "#### Urban"
      ],
      "text/plain": [
       "<IPython.core.display.Markdown object>"
      ]
     },
     "metadata": {},
     "output_type": "display_data"
    },
    {
     "name": "stdout",
     "output_type": "stream",
     "text": [
      "---------\n",
      "charts\n",
      "billboard\n",
      "ranking\n",
      "outlook\n",
      "index\n",
      "page\n",
      "below\n",
      "earnings\n",
      "links\n",
      "volume\n",
      "---------\n"
     ]
    },
    {
     "data": {
      "text/markdown": [
       "#### Rural"
      ],
      "text/plain": [
       "<IPython.core.display.Markdown object>"
      ]
     },
     "metadata": {},
     "output_type": "display_data"
    },
    {
     "name": "stdout",
     "output_type": "stream",
     "text": [
      "-----------\n",
      "analysis\n",
      "infographic\n",
      "visual\n",
      "feature\n",
      "method\n",
      "seo\n",
      "advanced\n",
      "product\n",
      "survey\n",
      "strategy\n",
      "-----------\n"
     ]
    },
    {
     "data": {
      "text/markdown": [
       "# rip"
      ],
      "text/plain": [
       "<IPython.core.display.Markdown object>"
      ]
     },
     "metadata": {},
     "output_type": "display_data"
    },
    {
     "data": {
      "text/markdown": [
       "#### Urban"
      ],
      "text/plain": [
       "<IPython.core.display.Markdown object>"
      ]
     },
     "metadata": {},
     "output_type": "display_data"
    },
    {
     "name": "stdout",
     "output_type": "stream",
     "text": [
      "-------\n",
      "murphy\n",
      "legend\n",
      "aka\n",
      "tribute\n",
      "curse\n",
      "uncle\n",
      "bless\n",
      "kick\n",
      "salute\n",
      "brought\n",
      "-------\n"
     ]
    },
    {
     "data": {
      "text/markdown": [
       "#### Rural"
      ],
      "text/plain": [
       "<IPython.core.display.Markdown object>"
      ]
     },
     "metadata": {},
     "output_type": "display_data"
    },
    {
     "name": "stdout",
     "output_type": "stream",
     "text": [
      "-------\n",
      "kick\n",
      "kicks\n",
      "aka\n",
      "ripped\n",
      "beat\n",
      "kicking\n",
      "cut\n",
      "knock\n",
      "kiss\n",
      "uncle\n",
      "-------\n"
     ]
    },
    {
     "data": {
      "text/markdown": [
       "# transition"
      ],
      "text/plain": [
       "<IPython.core.display.Markdown object>"
      ]
     },
     "metadata": {},
     "output_type": "display_data"
    },
    {
     "data": {
      "text/markdown": [
       "#### Urban"
      ],
      "text/plain": [
       "<IPython.core.display.Markdown object>"
      ]
     },
     "metadata": {},
     "output_type": "display_data"
    },
    {
     "name": "stdout",
     "output_type": "stream",
     "text": [
      "--------------\n",
      "leadership\n",
      "recovery\n",
      "rebuild\n",
      "collaboration\n",
      "efforts\n",
      "workplace\n",
      "campaign\n",
      "transform\n",
      "coup\n",
      "infrastructure\n",
      "--------------\n"
     ]
    },
    {
     "data": {
      "text/markdown": [
       "#### Rural"
      ],
      "text/plain": [
       "<IPython.core.display.Markdown object>"
      ]
     },
     "metadata": {},
     "output_type": "display_data"
    },
    {
     "name": "stdout",
     "output_type": "stream",
     "text": [
      "-----------\n",
      "leadership\n",
      "operations\n",
      "innovation\n",
      "strategy\n",
      "growth\n",
      "transfer\n",
      "stem\n",
      "facility\n",
      "efforts\n",
      "development\n",
      "-----------\n"
     ]
    },
    {
     "data": {
      "text/markdown": [
       "# acts"
      ],
      "text/plain": [
       "<IPython.core.display.Markdown object>"
      ]
     },
     "metadata": {},
     "output_type": "display_data"
    },
    {
     "data": {
      "text/markdown": [
       "#### Urban"
      ],
      "text/plain": [
       "<IPython.core.display.Markdown object>"
      ]
     },
     "metadata": {},
     "output_type": "display_data"
    },
    {
     "name": "stdout",
     "output_type": "stream",
     "text": [
      "--------\n",
      "attacks\n",
      "forms\n",
      "groups\n",
      "crimes\n",
      "behavior\n",
      "sounding\n",
      "vile\n",
      "gays\n",
      "act\n",
      "acting\n",
      "--------\n"
     ]
    },
    {
     "data": {
      "text/markdown": [
       "#### Rural"
      ],
      "text/plain": [
       "<IPython.core.display.Markdown object>"
      ]
     },
     "metadata": {},
     "output_type": "display_data"
    },
    {
     "name": "stdout",
     "output_type": "stream",
     "text": [
      "--------\n",
      "act\n",
      "acting\n",
      "believes\n",
      "treats\n",
      "reads\n",
      "christ\n",
      "lives\n",
      "abuse\n",
      "behavior\n",
      "speaks\n",
      "--------\n"
     ]
    },
    {
     "data": {
      "text/markdown": [
       "# virgin"
      ],
      "text/plain": [
       "<IPython.core.display.Markdown object>"
      ]
     },
     "metadata": {},
     "output_type": "display_data"
    },
    {
     "data": {
      "text/markdown": [
       "#### Urban"
      ],
      "text/plain": [
       "<IPython.core.display.Markdown object>"
      ]
     },
     "metadata": {},
     "output_type": "display_data"
    },
    {
     "name": "stdout",
     "output_type": "stream",
     "text": [
      "--------\n",
      "captain\n",
      "goddess\n",
      "jane\n",
      "arabia\n",
      "slut\n",
      "latina\n",
      "citizen\n",
      "canadian\n",
      "alaska\n",
      "disgrace\n",
      "--------\n"
     ]
    },
    {
     "data": {
      "text/markdown": [
       "#### Rural"
      ],
      "text/plain": [
       "<IPython.core.display.Markdown object>"
      ]
     },
     "metadata": {},
     "output_type": "display_data"
    },
    {
     "name": "stdout",
     "output_type": "stream",
     "text": [
      "--------\n",
      "lesbian\n",
      "dating\n",
      "porno\n",
      "queen\n",
      "goddess\n",
      "slut\n",
      "pregnant\n",
      "jane\n",
      "african\n",
      "horny\n",
      "--------\n"
     ]
    },
    {
     "data": {
      "text/markdown": [
       "# train"
      ],
      "text/plain": [
       "<IPython.core.display.Markdown object>"
      ]
     },
     "metadata": {},
     "output_type": "display_data"
    },
    {
     "data": {
      "text/markdown": [
       "#### Urban"
      ],
      "text/plain": [
       "<IPython.core.display.Markdown object>"
      ]
     },
     "metadata": {},
     "output_type": "display_data"
    },
    {
     "name": "stdout",
     "output_type": "stream",
     "text": [
      "--------\n",
      "bus\n",
      "subway\n",
      "freeway\n",
      "trains\n",
      "plane\n",
      "highway\n",
      "rail\n",
      "av\n",
      "terminal\n",
      "buses\n",
      "--------\n"
     ]
    },
    {
     "data": {
      "text/markdown": [
       "#### Rural"
      ],
      "text/plain": [
       "<IPython.core.display.Markdown object>"
      ]
     },
     "metadata": {},
     "output_type": "display_data"
    },
    {
     "name": "stdout",
     "output_type": "stream",
     "text": [
      "----------\n",
      "bus\n",
      "plane\n",
      "bridge\n",
      "motorcycle\n",
      "jet\n",
      "bike\n",
      "highway\n",
      "roof\n",
      "boat\n",
      "dirt\n",
      "----------\n"
     ]
    },
    {
     "data": {
      "text/markdown": [
       "# bieber"
      ],
      "text/plain": [
       "<IPython.core.display.Markdown object>"
      ]
     },
     "metadata": {},
     "output_type": "display_data"
    },
    {
     "data": {
      "text/markdown": [
       "#### Urban"
      ],
      "text/plain": [
       "<IPython.core.display.Markdown object>"
      ]
     },
     "metadata": {},
     "output_type": "display_data"
    },
    {
     "name": "stdout",
     "output_type": "stream",
     "text": [
      "-------\n",
      "shawn\n",
      "britney\n",
      "selena\n",
      "carey\n",
      "lana\n",
      "liam\n",
      "grande\n",
      "drake\n",
      "ariana\n",
      "gomez\n",
      "-------\n"
     ]
    },
    {
     "data": {
      "text/markdown": [
       "#### Rural"
      ],
      "text/plain": [
       "<IPython.core.display.Markdown object>"
      ]
     },
     "metadata": {},
     "output_type": "display_data"
    },
    {
     "name": "stdout",
     "output_type": "stream",
     "text": [
      "-------\n",
      "justin\n",
      "drake\n",
      "shawn\n",
      "joey\n",
      "travis\n",
      "rihanna\n",
      "russ\n",
      "kanye\n",
      "hart\n",
      "vince\n",
      "-------\n"
     ]
    },
    {
     "data": {
      "text/markdown": [
       "# top"
      ],
      "text/plain": [
       "<IPython.core.display.Markdown object>"
      ]
     },
     "metadata": {},
     "output_type": "display_data"
    },
    {
     "data": {
      "text/markdown": [
       "#### Urban"
      ],
      "text/plain": [
       "<IPython.core.display.Markdown object>"
      ]
     },
     "metadata": {},
     "output_type": "display_data"
    },
    {
     "name": "stdout",
     "output_type": "stream",
     "text": [
      "---------\n",
      "tops\n",
      "ranking\n",
      "hottest\n",
      "charts\n",
      "forbes\n",
      "bottom\n",
      "ranked\n",
      "billboard\n",
      "highest\n",
      "percent\n",
      "---------\n"
     ]
    },
    {
     "data": {
      "text/markdown": [
       "#### Rural"
      ],
      "text/plain": [
       "<IPython.core.display.Markdown object>"
      ]
     },
     "metadata": {},
     "output_type": "display_data"
    },
    {
     "name": "stdout",
     "output_type": "stream",
     "text": [
      "-------\n",
      "bottom\n",
      "ranked\n",
      "tops\n",
      "recap\n",
      "chart\n",
      "round\n",
      "scale\n",
      "rank\n",
      "percent\n",
      "region\n",
      "-------\n"
     ]
    },
    {
     "data": {
      "text/markdown": [
       "# moves"
      ],
      "text/plain": [
       "<IPython.core.display.Markdown object>"
      ]
     },
     "metadata": {},
     "output_type": "display_data"
    },
    {
     "data": {
      "text/markdown": [
       "#### Urban"
      ],
      "text/plain": [
       "<IPython.core.display.Markdown object>"
      ]
     },
     "metadata": {},
     "output_type": "display_data"
    },
    {
     "name": "stdout",
     "output_type": "stream",
     "text": [
      "-----------\n",
      "decisions\n",
      "trades\n",
      "mistakes\n",
      "plans\n",
      "noise\n",
      "excuses\n",
      "connections\n",
      "changes\n",
      "rounds\n",
      "promises\n",
      "-----------\n"
     ]
    },
    {
     "data": {
      "text/markdown": [
       "#### Rural"
      ],
      "text/plain": [
       "<IPython.core.display.Markdown object>"
      ]
     },
     "metadata": {},
     "output_type": "display_data"
    },
    {
     "name": "stdout",
     "output_type": "stream",
     "text": [
      "---------\n",
      "catches\n",
      "throws\n",
      "runs\n",
      "noise\n",
      "plays\n",
      "hits\n",
      "sets\n",
      "decisions\n",
      "faces\n",
      "ground\n",
      "---------\n"
     ]
    },
    {
     "data": {
      "text/markdown": [
       "# sprint"
      ],
      "text/plain": [
       "<IPython.core.display.Markdown object>"
      ]
     },
     "metadata": {},
     "output_type": "display_data"
    },
    {
     "data": {
      "text/markdown": [
       "#### Urban"
      ],
      "text/plain": [
       "<IPython.core.display.Markdown object>"
      ]
     },
     "metadata": {},
     "output_type": "display_data"
    },
    {
     "name": "stdout",
     "output_type": "stream",
     "text": [
      "----------\n",
      "verizon\n",
      "wifi\n",
      "lg\n",
      "cable\n",
      "mobile\n",
      "wireless\n",
      "desktop\n",
      "charging\n",
      "servers\n",
      "controller\n",
      "----------\n"
     ]
    },
    {
     "data": {
      "text/markdown": [
       "#### Rural"
      ],
      "text/plain": [
       "<IPython.core.display.Markdown object>"
      ]
     },
     "metadata": {},
     "output_type": "display_data"
    },
    {
     "name": "stdout",
     "output_type": "stream",
     "text": [
      "--------\n",
      "racing\n",
      "speedway\n",
      "nascar\n",
      "motor\n",
      "indy\n",
      "race\n",
      "pickup\n",
      "garage\n",
      "dual\n",
      "remote\n",
      "--------\n"
     ]
    },
    {
     "data": {
      "text/markdown": [
       "# here"
      ],
      "text/plain": [
       "<IPython.core.display.Markdown object>"
      ]
     },
     "metadata": {},
     "output_type": "display_data"
    },
    {
     "data": {
      "text/markdown": [
       "#### Urban"
      ],
      "text/plain": [
       "<IPython.core.display.Markdown object>"
      ]
     },
     "metadata": {},
     "output_type": "display_data"
    },
    {
     "name": "stdout",
     "output_type": "stream",
     "text": [
      "----------\n",
      "there\n",
      "now\n",
      "today\n",
      "details\n",
      "check\n",
      "missing\n",
      "checking\n",
      "freaking\n",
      "tuned\n",
      "newsletter\n",
      "----------\n"
     ]
    },
    {
     "data": {
      "text/markdown": [
       "#### Rural"
      ],
      "text/plain": [
       "<IPython.core.display.Markdown object>"
      ]
     },
     "metadata": {},
     "output_type": "display_data"
    },
    {
     "name": "stdout",
     "output_type": "stream",
     "text": [
      "----------\n",
      "there\n",
      "now\n",
      "below\n",
      "tuned\n",
      "website\n",
      "ready\n",
      "planning\n",
      "happening\n",
      "newsletter\n",
      "details\n",
      "----------\n"
     ]
    },
    {
     "data": {
      "text/markdown": [
       "# cmon"
      ],
      "text/plain": [
       "<IPython.core.display.Markdown object>"
      ]
     },
     "metadata": {},
     "output_type": "display_data"
    },
    {
     "data": {
      "text/markdown": [
       "#### Urban"
      ],
      "text/plain": [
       "<IPython.core.display.Markdown object>"
      ]
     },
     "metadata": {},
     "output_type": "display_data"
    },
    {
     "name": "stdout",
     "output_type": "stream",
     "text": [
      "----------\n",
      "sheesh\n",
      "aye\n",
      "foh\n",
      "smfh\n",
      "wya\n",
      "smh\n",
      "lmaoooooo\n",
      "lmfaooooo\n",
      "playin\n",
      "lmfaoooooo\n",
      "----------\n"
     ]
    },
    {
     "data": {
      "text/markdown": [
       "#### Rural"
      ],
      "text/plain": [
       "<IPython.core.display.Markdown object>"
      ]
     },
     "metadata": {},
     "output_type": "display_data"
    },
    {
     "name": "stdout",
     "output_type": "stream",
     "text": [
      "-------\n",
      "aye\n",
      "smh\n",
      "playin\n",
      "wassup\n",
      "frfr\n",
      "nah\n",
      "naw\n",
      "ight\n",
      "playing\n",
      "stfu\n",
      "-------\n"
     ]
    },
    {
     "data": {
      "text/markdown": [
       "# deserved"
      ],
      "text/plain": [
       "<IPython.core.display.Markdown object>"
      ]
     },
     "metadata": {},
     "output_type": "display_data"
    },
    {
     "data": {
      "text/markdown": [
       "#### Urban"
      ],
      "text/plain": [
       "<IPython.core.display.Markdown object>"
      ]
     },
     "metadata": {},
     "output_type": "display_data"
    },
    {
     "name": "stdout",
     "output_type": "stream",
     "text": [
      "---------\n",
      "deserves\n",
      "deserve\n",
      "wins\n",
      "wishes\n",
      "proved\n",
      "winning\n",
      "nailed\n",
      "played\n",
      "rocked\n",
      "nominated\n",
      "---------\n"
     ]
    },
    {
     "data": {
      "text/markdown": [
       "#### Rural"
      ],
      "text/plain": [
       "<IPython.core.display.Markdown object>"
      ]
     },
     "metadata": {},
     "output_type": "display_data"
    },
    {
     "name": "stdout",
     "output_type": "stream",
     "text": [
      "------------\n",
      "deserves\n",
      "deserve\n",
      "accomplished\n",
      "nailed\n",
      "wishes\n",
      "congrats\n",
      "recognition\n",
      "played\n",
      "seemed\n",
      "agreed\n",
      "------------\n"
     ]
    },
    {
     "data": {
      "text/markdown": [
       "# reported"
      ],
      "text/plain": [
       "<IPython.core.display.Markdown object>"
      ]
     },
     "metadata": {},
     "output_type": "display_data"
    },
    {
     "data": {
      "text/markdown": [
       "#### Urban"
      ],
      "text/plain": [
       "<IPython.core.display.Markdown object>"
      ]
     },
     "metadata": {},
     "output_type": "display_data"
    },
    {
     "name": "stdout",
     "output_type": "stream",
     "text": [
      "---------\n",
      "reports\n",
      "filed\n",
      "stated\n",
      "claimed\n",
      "mentioned\n",
      "confirmed\n",
      "suspect\n",
      "admitted\n",
      "denied\n",
      "targeted\n",
      "---------\n"
     ]
    },
    {
     "data": {
      "text/markdown": [
       "#### Rural"
      ],
      "text/plain": [
       "<IPython.core.display.Markdown object>"
      ]
     },
     "metadata": {},
     "output_type": "display_data"
    },
    {
     "name": "stdout",
     "output_type": "stream",
     "text": [
      "-------------\n",
      "reports\n",
      "confirmed\n",
      "suspect\n",
      "incident\n",
      "responded\n",
      "investigating\n",
      "mentioned\n",
      "report\n",
      "reporting\n",
      "arrested\n",
      "-------------\n"
     ]
    },
    {
     "data": {
      "text/markdown": [
       "# professional"
      ],
      "text/plain": [
       "<IPython.core.display.Markdown object>"
      ]
     },
     "metadata": {},
     "output_type": "display_data"
    },
    {
     "data": {
      "text/markdown": [
       "#### Urban"
      ],
      "text/plain": [
       "<IPython.core.display.Markdown object>"
      ]
     },
     "metadata": {},
     "output_type": "display_data"
    },
    {
     "name": "stdout",
     "output_type": "stream",
     "text": [
      "-----------\n",
      "technical\n",
      "creative\n",
      "branding\n",
      "practical\n",
      "consultant\n",
      "innovative\n",
      "development\n",
      "dynamic\n",
      "managers\n",
      "coordinator\n",
      "-----------\n"
     ]
    },
    {
     "data": {
      "text/markdown": [
       "#### Rural"
      ],
      "text/plain": [
       "<IPython.core.display.Markdown object>"
      ]
     },
     "metadata": {},
     "output_type": "display_data"
    },
    {
     "name": "stdout",
     "output_type": "stream",
     "text": [
      "-------------\n",
      "specialist\n",
      "skills\n",
      "professionals\n",
      "development\n",
      "competitive\n",
      "athletic\n",
      "trainer\n",
      "engineer\n",
      "advanced\n",
      "engineering\n",
      "-------------\n"
     ]
    },
    {
     "data": {
      "text/markdown": [
       "# aged"
      ],
      "text/plain": [
       "<IPython.core.display.Markdown object>"
      ]
     },
     "metadata": {},
     "output_type": "display_data"
    },
    {
     "data": {
      "text/markdown": [
       "#### Urban"
      ],
      "text/plain": [
       "<IPython.core.display.Markdown object>"
      ]
     },
     "metadata": {},
     "output_type": "display_data"
    },
    {
     "name": "stdout",
     "output_type": "stream",
     "text": [
      "---------\n",
      "dated\n",
      "spoken\n",
      "died\n",
      "developed\n",
      "named\n",
      "eaten\n",
      "graduated\n",
      "passed\n",
      "smoked\n",
      "served\n",
      "---------\n"
     ]
    },
    {
     "data": {
      "text/markdown": [
       "#### Rural"
      ],
      "text/plain": [
       "<IPython.core.display.Markdown object>"
      ]
     },
     "metadata": {},
     "output_type": "display_data"
    },
    {
     "name": "stdout",
     "output_type": "stream",
     "text": [
      "---------\n",
      "ale\n",
      "named\n",
      "ipa\n",
      "age\n",
      "eaten\n",
      "dixie\n",
      "sour\n",
      "drinking\n",
      "barrel\n",
      "graduated\n",
      "---------\n"
     ]
    },
    {
     "data": {
      "text/markdown": [
       "# tracked"
      ],
      "text/plain": [
       "<IPython.core.display.Markdown object>"
      ]
     },
     "metadata": {},
     "output_type": "display_data"
    },
    {
     "data": {
      "text/markdown": [
       "#### Urban"
      ],
      "text/plain": [
       "<IPython.core.display.Markdown object>"
      ]
     },
     "metadata": {},
     "output_type": "display_data"
    },
    {
     "name": "stdout",
     "output_type": "stream",
     "text": [
      "----------\n",
      "unfollower\n",
      "surrounded\n",
      "download\n",
      "visited\n",
      "distracted\n",
      "arrived\n",
      "nyt\n",
      "mm\n",
      "presented\n",
      "goodbye\n",
      "----------\n"
     ]
    },
    {
     "data": {
      "text/markdown": [
       "#### Rural"
      ],
      "text/plain": [
       "<IPython.core.display.Markdown object>"
      ]
     },
     "metadata": {},
     "output_type": "display_data"
    },
    {
     "name": "stdout",
     "output_type": "stream",
     "text": [
      "----------\n",
      "surrounded\n",
      "unfollower\n",
      "stopping\n",
      "drove\n",
      "adopted\n",
      "visited\n",
      "tweeps\n",
      "nws\n",
      "arrived\n",
      "struck\n",
      "----------\n"
     ]
    },
    {
     "data": {
      "text/markdown": [
       "# oscar"
      ],
      "text/plain": [
       "<IPython.core.display.Markdown object>"
      ]
     },
     "metadata": {},
     "output_type": "display_data"
    },
    {
     "data": {
      "text/markdown": [
       "#### Urban"
      ],
      "text/plain": [
       "<IPython.core.display.Markdown object>"
      ]
     },
     "metadata": {},
     "output_type": "display_data"
    },
    {
     "name": "stdout",
     "output_type": "stream",
     "text": [
      "---------\n",
      "emmy\n",
      "award\n",
      "grammy\n",
      "moonlight\n",
      "actress\n",
      "oscars\n",
      "nominated\n",
      "actor\n",
      "grammys\n",
      "awards\n",
      "---------\n"
     ]
    },
    {
     "data": {
      "text/markdown": [
       "#### Rural"
      ],
      "text/plain": [
       "<IPython.core.display.Markdown object>"
      ]
     },
     "metadata": {},
     "output_type": "display_data"
    },
    {
     "name": "stdout",
     "output_type": "stream",
     "text": [
      "---------\n",
      "award\n",
      "actress\n",
      "actor\n",
      "iconic\n",
      "epic\n",
      "emma\n",
      "alexander\n",
      "awards\n",
      "icon\n",
      "winner\n",
      "---------\n"
     ]
    },
    {
     "data": {
      "text/markdown": [
       "# effect"
      ],
      "text/plain": [
       "<IPython.core.display.Markdown object>"
      ]
     },
     "metadata": {},
     "output_type": "display_data"
    },
    {
     "data": {
      "text/markdown": [
       "#### Urban"
      ],
      "text/plain": [
       "<IPython.core.display.Markdown object>"
      ]
     },
     "metadata": {},
     "output_type": "display_data"
    },
    {
     "name": "stdout",
     "output_type": "stream",
     "text": [
      "-----------\n",
      "capacity\n",
      "activity\n",
      "effects\n",
      "chaos\n",
      "horizon\n",
      "spectrum\n",
      "destruction\n",
      "severe\n",
      "internal\n",
      "extreme\n",
      "-----------\n"
     ]
    },
    {
     "data": {
      "text/markdown": [
       "#### Rural"
      ],
      "text/plain": [
       "<IPython.core.display.Markdown object>"
      ]
     },
     "metadata": {},
     "output_type": "display_data"
    },
    {
     "name": "stdout",
     "output_type": "stream",
     "text": [
      "--------\n",
      "advisory\n",
      "remains\n",
      "severe\n",
      "fog\n",
      "tornado\n",
      "flood\n",
      "areas\n",
      "flooding\n",
      "mdt\n",
      "cdt\n",
      "--------\n"
     ]
    },
    {
     "data": {
      "text/markdown": [
       "# twins"
      ],
      "text/plain": [
       "<IPython.core.display.Markdown object>"
      ]
     },
     "metadata": {},
     "output_type": "display_data"
    },
    {
     "data": {
      "text/markdown": [
       "#### Urban"
      ],
      "text/plain": [
       "<IPython.core.display.Markdown object>"
      ]
     },
     "metadata": {},
     "output_type": "display_data"
    },
    {
     "name": "stdout",
     "output_type": "stream",
     "text": [
      "---------\n",
      "beyonc\n",
      "bella\n",
      "beyonce\n",
      "babies\n",
      "kylie\n",
      "sasha\n",
      "nikki\n",
      "siblings\n",
      "daughters\n",
      "serena\n",
      "---------\n"
     ]
    },
    {
     "data": {
      "text/markdown": [
       "#### Rural"
      ],
      "text/plain": [
       "<IPython.core.display.Markdown object>"
      ]
     },
     "metadata": {},
     "output_type": "display_data"
    },
    {
     "name": "stdout",
     "output_type": "stream",
     "text": [
      "--------\n",
      "cousins\n",
      "raven\n",
      "cubs\n",
      "pirates\n",
      "paige\n",
      "sisters\n",
      "siblings\n",
      "royals\n",
      "bella\n",
      "titans\n",
      "--------\n"
     ]
    },
    {
     "data": {
      "text/markdown": [
       "# bid"
      ],
      "text/plain": [
       "<IPython.core.display.Markdown object>"
      ]
     },
     "metadata": {},
     "output_type": "display_data"
    },
    {
     "data": {
      "text/markdown": [
       "#### Urban"
      ],
      "text/plain": [
       "<IPython.core.display.Markdown object>"
      ]
     },
     "metadata": {},
     "output_type": "display_data"
    },
    {
     "name": "stdout",
     "output_type": "stream",
     "text": [
      "----------\n",
      "lawsuit\n",
      "victory\n",
      "contract\n",
      "lottery\n",
      "lands\n",
      "1m\n",
      "payments\n",
      "expansion\n",
      "reportedly\n",
      "historic\n",
      "----------\n"
     ]
    },
    {
     "data": {
      "text/markdown": [
       "#### Rural"
      ],
      "text/plain": [
       "<IPython.core.display.Markdown object>"
      ]
     },
     "metadata": {},
     "output_type": "display_data"
    },
    {
     "name": "stdout",
     "output_type": "stream",
     "text": [
      "----------\n",
      "monthly\n",
      "auction\n",
      "commission\n",
      "title\n",
      "lottery\n",
      "350\n",
      "reserve\n",
      "charity\n",
      "125\n",
      "sponsor\n",
      "----------\n"
     ]
    },
    {
     "data": {
      "text/markdown": [
       "# volume"
      ],
      "text/plain": [
       "<IPython.core.display.Markdown object>"
      ]
     },
     "metadata": {},
     "output_type": "display_data"
    },
    {
     "data": {
      "text/markdown": [
       "#### Urban"
      ],
      "text/plain": [
       "<IPython.core.display.Markdown object>"
      ]
     },
     "metadata": {},
     "output_type": "display_data"
    },
    {
     "name": "stdout",
     "output_type": "stream",
     "text": [
      "------\n",
      "vol\n",
      "speed\n",
      "scale\n",
      "hp\n",
      "ep\n",
      "tracks\n",
      "index\n",
      "usd\n",
      "lens\n",
      "charts\n",
      "------\n"
     ]
    },
    {
     "data": {
      "text/markdown": [
       "#### Rural"
      ],
      "text/plain": [
       "<IPython.core.display.Markdown object>"
      ]
     },
     "metadata": {},
     "output_type": "display_data"
    },
    {
     "name": "stdout",
     "output_type": "stream",
     "text": [
      "----------\n",
      "vol\n",
      "ep\n",
      "engine\n",
      "hd\n",
      "audio\n",
      "surface\n",
      "soundtrack\n",
      "windows\n",
      "speakers\n",
      "horizon\n",
      "----------\n"
     ]
    },
    {
     "data": {
      "text/markdown": [
       "# courtesy"
      ],
      "text/plain": [
       "<IPython.core.display.Markdown object>"
      ]
     },
     "metadata": {},
     "output_type": "display_data"
    },
    {
     "data": {
      "text/markdown": [
       "#### Urban"
      ],
      "text/plain": [
       "<IPython.core.display.Markdown object>"
      ]
     },
     "metadata": {},
     "output_type": "display_data"
    },
    {
     "name": "stdout",
     "output_type": "stream",
     "text": [
      "----------\n",
      "tons\n",
      "lots\n",
      "selection\n",
      "portrait\n",
      "importance\n",
      "summary\n",
      "creation\n",
      "screening\n",
      "edition\n",
      "kind\n",
      "----------\n"
     ]
    },
    {
     "data": {
      "text/markdown": [
       "#### Rural"
      ],
      "text/plain": [
       "<IPython.core.display.Markdown object>"
      ]
     },
     "metadata": {},
     "output_type": "display_data"
    },
    {
     "name": "stdout",
     "output_type": "stream",
     "text": [
      "-----------\n",
      "gardens\n",
      "founder\n",
      "featuring\n",
      "selection\n",
      "preview\n",
      "featured\n",
      "spotlight\n",
      "creator\n",
      "photography\n",
      "importance\n",
      "-----------\n"
     ]
    },
    {
     "data": {
      "text/markdown": [
       "# crunch"
      ],
      "text/plain": [
       "<IPython.core.display.Markdown object>"
      ]
     },
     "metadata": {},
     "output_type": "display_data"
    },
    {
     "data": {
      "text/markdown": [
       "#### Urban"
      ],
      "text/plain": [
       "<IPython.core.display.Markdown object>"
      ]
     },
     "metadata": {},
     "output_type": "display_data"
    },
    {
     "name": "stdout",
     "output_type": "stream",
     "text": [
      "------\n",
      "whip\n",
      "beam\n",
      "soda\n",
      "chili\n",
      "frozen\n",
      "tomato\n",
      "splash\n",
      "mango\n",
      "lime\n",
      "pot\n",
      "------\n"
     ]
    },
    {
     "data": {
      "text/markdown": [
       "#### Rural"
      ],
      "text/plain": [
       "<IPython.core.display.Markdown object>"
      ]
     },
     "metadata": {},
     "output_type": "display_data"
    },
    {
     "name": "stdout",
     "output_type": "stream",
     "text": [
      "--------\n",
      "beam\n",
      "29m\n",
      "tackle\n",
      "26m\n",
      "bite\n",
      "iv\n",
      "28m\n",
      "27m\n",
      "cp\n",
      "appeared\n",
      "--------\n"
     ]
    },
    {
     "data": {
      "text/markdown": [
       "# patiently"
      ],
      "text/plain": [
       "<IPython.core.display.Markdown object>"
      ]
     },
     "metadata": {},
     "output_type": "display_data"
    },
    {
     "data": {
      "text/markdown": [
       "#### Urban"
      ],
      "text/plain": [
       "<IPython.core.display.Markdown object>"
      ]
     },
     "metadata": {},
     "output_type": "display_data"
    },
    {
     "name": "stdout",
     "output_type": "stream",
     "text": [
      "---------\n",
      "yessss\n",
      "binge\n",
      "yay\n",
      "delayed\n",
      "currently\n",
      "finally\n",
      "hours\n",
      "waiting\n",
      "countdown\n",
      "hulu\n",
      "---------\n"
     ]
    },
    {
     "data": {
      "text/markdown": [
       "#### Rural"
      ],
      "text/plain": [
       "<IPython.core.display.Markdown object>"
      ]
     },
     "metadata": {},
     "output_type": "display_data"
    },
    {
     "name": "stdout",
     "output_type": "stream",
     "text": [
      "----------\n",
      "finally\n",
      "yay\n",
      "now\n",
      "currently\n",
      "sitting\n",
      "while\n",
      "waiting\n",
      "booked\n",
      "officially\n",
      "chet\n",
      "----------\n"
     ]
    },
    {
     "data": {
      "text/markdown": [
       "# lottery"
      ],
      "text/plain": [
       "<IPython.core.display.Markdown object>"
      ]
     },
     "metadata": {},
     "output_type": "display_data"
    },
    {
     "data": {
      "text/markdown": [
       "#### Urban"
      ],
      "text/plain": [
       "<IPython.core.display.Markdown object>"
      ]
     },
     "metadata": {},
     "output_type": "display_data"
    },
    {
     "name": "stdout",
     "output_type": "stream",
     "text": [
      "------------\n",
      "mavs\n",
      "falcons\n",
      "sixers\n",
      "championship\n",
      "nets\n",
      "dodgers\n",
      "hawks\n",
      "padres\n",
      "steelers\n",
      "blackhawks\n",
      "------------\n"
     ]
    },
    {
     "data": {
      "text/markdown": [
       "#### Rural"
      ],
      "text/plain": [
       "<IPython.core.display.Markdown object>"
      ]
     },
     "metadata": {},
     "output_type": "display_data"
    },
    {
     "name": "stdout",
     "output_type": "stream",
     "text": [
      "------------\n",
      "title\n",
      "trophy\n",
      "unc\n",
      "celtics\n",
      "championship\n",
      "bid\n",
      "browns\n",
      "raffle\n",
      "ticket\n",
      "spurs\n",
      "------------\n"
     ]
    },
    {
     "data": {
      "text/markdown": [
       "# tribe"
      ],
      "text/plain": [
       "<IPython.core.display.Markdown object>"
      ]
     },
     "metadata": {},
     "output_type": "display_data"
    },
    {
     "data": {
      "text/markdown": [
       "#### Urban"
      ],
      "text/plain": [
       "<IPython.core.display.Markdown object>"
      ]
     },
     "metadata": {},
     "output_type": "display_data"
    },
    {
     "name": "stdout",
     "output_type": "stream",
     "text": [
      "----------\n",
      "quest\n",
      "cast\n",
      "crew\n",
      "nation\n",
      "rebel\n",
      "unity\n",
      "revolution\n",
      "fellow\n",
      "journey\n",
      "client\n",
      "----------\n"
     ]
    },
    {
     "data": {
      "text/markdown": [
       "#### Rural"
      ],
      "text/plain": [
       "<IPython.core.display.Markdown object>"
      ]
     },
     "metadata": {},
     "output_type": "display_data"
    },
    {
     "name": "stdout",
     "output_type": "stream",
     "text": [
      "--------\n",
      "battle\n",
      "knights\n",
      "battles\n",
      "eagles\n",
      "banner\n",
      "tide\n",
      "tigers\n",
      "bulldogs\n",
      "warrior\n",
      "hawks\n",
      "--------\n"
     ]
    },
    {
     "data": {
      "text/markdown": [
       "# discussing"
      ],
      "text/plain": [
       "<IPython.core.display.Markdown object>"
      ]
     },
     "metadata": {},
     "output_type": "display_data"
    },
    {
     "data": {
      "text/markdown": [
       "#### Urban"
      ],
      "text/plain": [
       "<IPython.core.display.Markdown object>"
      ]
     },
     "metadata": {},
     "output_type": "display_data"
    },
    {
     "name": "stdout",
     "output_type": "stream",
     "text": [
      "----------\n",
      "discusses\n",
      "discussed\n",
      "covering\n",
      "discuss\n",
      "teaching\n",
      "handling\n",
      "joining\n",
      "managing\n",
      "regarding\n",
      "organizing\n",
      "----------\n"
     ]
    },
    {
     "data": {
      "text/markdown": [
       "#### Rural"
      ],
      "text/plain": [
       "<IPython.core.display.Markdown object>"
      ]
     },
     "metadata": {},
     "output_type": "display_data"
    },
    {
     "name": "stdout",
     "output_type": "stream",
     "text": [
      "-------------\n",
      "discuss\n",
      "teaching\n",
      "covering\n",
      "speaking\n",
      "discussion\n",
      "investigating\n",
      "meetings\n",
      "promoting\n",
      "attending\n",
      "practicing\n",
      "-------------\n"
     ]
    },
    {
     "data": {
      "text/markdown": [
       "# celebrity"
      ],
      "text/plain": [
       "<IPython.core.display.Markdown object>"
      ]
     },
     "metadata": {},
     "output_type": "display_data"
    },
    {
     "data": {
      "text/markdown": [
       "#### Urban"
      ],
      "text/plain": [
       "<IPython.core.display.Markdown object>"
      ]
     },
     "metadata": {},
     "output_type": "display_data"
    },
    {
     "name": "stdout",
     "output_type": "stream",
     "text": [
      "------------\n",
      "superstar\n",
      "actress\n",
      "comedian\n",
      "kardashian\n",
      "wwe\n",
      "celebrities\n",
      "jenner\n",
      "playboy\n",
      "photographer\n",
      "celebs\n",
      "------------\n"
     ]
    },
    {
     "data": {
      "text/markdown": [
       "#### Rural"
      ],
      "text/plain": [
       "<IPython.core.display.Markdown object>"
      ]
     },
     "metadata": {},
     "output_type": "display_data"
    },
    {
     "name": "stdout",
     "output_type": "stream",
     "text": [
      "------------\n",
      "kardashian\n",
      "actress\n",
      "artist\n",
      "photographer\n",
      "icon\n",
      "writer\n",
      "animated\n",
      "cartoon\n",
      "actor\n",
      "exclusive\n",
      "------------\n"
     ]
    },
    {
     "data": {
      "text/markdown": [
       "# local"
      ],
      "text/plain": [
       "<IPython.core.display.Markdown object>"
      ]
     },
     "metadata": {},
     "output_type": "display_data"
    },
    {
     "data": {
      "text/markdown": [
       "#### Urban"
      ],
      "text/plain": [
       "<IPython.core.display.Markdown object>"
      ]
     },
     "metadata": {},
     "output_type": "display_data"
    },
    {
     "name": "stdout",
     "output_type": "stream",
     "text": [
      "-------------\n",
      "networking\n",
      "volunteer\n",
      "fundraiser\n",
      "orgs\n",
      "organizations\n",
      "nationwide\n",
      "partners\n",
      "hub\n",
      "charity\n",
      "nyc\n",
      "-------------\n"
     ]
    },
    {
     "data": {
      "text/markdown": [
       "#### Rural"
      ],
      "text/plain": [
       "<IPython.core.display.Markdown object>"
      ]
     },
     "metadata": {},
     "output_type": "display_data"
    },
    {
     "name": "stdout",
     "output_type": "stream",
     "text": [
      "-------------\n",
      "farmers\n",
      "association\n",
      "partners\n",
      "community\n",
      "farm\n",
      "craft\n",
      "monthly\n",
      "residents\n",
      "professionals\n",
      "visitors\n",
      "-------------\n"
     ]
    },
    {
     "data": {
      "text/markdown": [
       "# twisted"
      ],
      "text/plain": [
       "<IPython.core.display.Markdown object>"
      ]
     },
     "metadata": {},
     "output_type": "display_data"
    },
    {
     "data": {
      "text/markdown": [
       "#### Urban"
      ],
      "text/plain": [
       "<IPython.core.display.Markdown object>"
      ]
     },
     "metadata": {},
     "output_type": "display_data"
    },
    {
     "name": "stdout",
     "output_type": "stream",
     "text": [
      "-------\n",
      "fairy\n",
      "wet\n",
      "crushed\n",
      "thick\n",
      "shaped\n",
      "washed\n",
      "loose\n",
      "sucked\n",
      "grip\n",
      "rid\n",
      "-------\n"
     ]
    },
    {
     "data": {
      "text/markdown": [
       "#### Rural"
      ],
      "text/plain": [
       "<IPython.core.display.Markdown object>"
      ]
     },
     "metadata": {},
     "output_type": "display_data"
    },
    {
     "name": "stdout",
     "output_type": "stream",
     "text": [
      "-------\n",
      "fairy\n",
      "mixed\n",
      "thick\n",
      "pure\n",
      "lonely\n",
      "bitter\n",
      "twist\n",
      "fucked\n",
      "numb\n",
      "colored\n",
      "-------\n"
     ]
    },
    {
     "data": {
      "text/markdown": [
       "# slightly"
      ],
      "text/plain": [
       "<IPython.core.display.Markdown object>"
      ]
     },
     "metadata": {},
     "output_type": "display_data"
    },
    {
     "data": {
      "text/markdown": [
       "#### Urban"
      ],
      "text/plain": [
       "<IPython.core.display.Markdown object>"
      ]
     },
     "metadata": {},
     "output_type": "display_data"
    },
    {
     "name": "stdout",
     "output_type": "stream",
     "text": [
      "--------\n",
      "somewhat\n",
      "bit\n",
      "fairly\n",
      "fitting\n",
      "than\n",
      "imo\n",
      "entirely\n",
      "smaller\n",
      "mostly\n",
      "seemed\n",
      "--------\n"
     ]
    },
    {
     "data": {
      "text/markdown": [
       "#### Rural"
      ],
      "text/plain": [
       "<IPython.core.display.Markdown object>"
      ]
     },
     "metadata": {},
     "output_type": "display_data"
    },
    {
     "name": "stdout",
     "output_type": "stream",
     "text": [
      "----------\n",
      "completely\n",
      "quite\n",
      "bit\n",
      "meh\n",
      "mostly\n",
      "extremely\n",
      "imo\n",
      "than\n",
      "seemed\n",
      "surface\n",
      "----------\n"
     ]
    },
    {
     "data": {
      "text/markdown": [
       "# ours"
      ],
      "text/plain": [
       "<IPython.core.display.Markdown object>"
      ]
     },
     "metadata": {},
     "output_type": "display_data"
    },
    {
     "data": {
      "text/markdown": [
       "#### Urban"
      ],
      "text/plain": [
       "<IPython.core.display.Markdown object>"
      ]
     },
     "metadata": {},
     "output_type": "display_data"
    },
    {
     "name": "stdout",
     "output_type": "stream",
     "text": [
      "-------------\n",
      "theirs\n",
      "our\n",
      "mine\n",
      "yours\n",
      "sadly\n",
      "mines\n",
      "unfortunately\n",
      "protected\n",
      "humanity\n",
      "acceptable\n",
      "-------------\n"
     ]
    },
    {
     "data": {
      "text/markdown": [
       "#### Rural"
      ],
      "text/plain": [
       "<IPython.core.display.Markdown object>"
      ]
     },
     "metadata": {},
     "output_type": "display_data"
    },
    {
     "name": "stdout",
     "output_type": "stream",
     "text": [
      "---------\n",
      "our\n",
      "mine\n",
      "ourselves\n",
      "us\n",
      "yours\n",
      "democracy\n",
      "we\n",
      "them\n",
      "certainly\n",
      "they\n",
      "---------\n"
     ]
    },
    {
     "data": {
      "text/markdown": [
       "# distance"
      ],
      "text/plain": [
       "<IPython.core.display.Markdown object>"
      ]
     },
     "metadata": {},
     "output_type": "display_data"
    },
    {
     "data": {
      "text/markdown": [
       "#### Urban"
      ],
      "text/plain": [
       "<IPython.core.display.Markdown object>"
      ]
     },
     "metadata": {},
     "output_type": "display_data"
    },
    {
     "name": "stdout",
     "output_type": "stream",
     "text": [
      "------------\n",
      "path\n",
      "term\n",
      "negativity\n",
      "failure\n",
      "suffering\n",
      "journey\n",
      "relationship\n",
      "falling\n",
      "range\n",
      "greatness\n",
      "------------\n"
     ]
    },
    {
     "data": {
      "text/markdown": [
       "#### Rural"
      ],
      "text/plain": [
       "<IPython.core.display.Markdown object>"
      ]
     },
     "metadata": {},
     "output_type": "display_data"
    },
    {
     "name": "stdout",
     "output_type": "stream",
     "text": [
      "----------\n",
      "path\n",
      "negativity\n",
      "miles\n",
      "mile\n",
      "range\n",
      "separate\n",
      "pace\n",
      "away\n",
      "nowhere\n",
      "feet\n",
      "----------\n"
     ]
    },
    {
     "data": {
      "text/markdown": [
       "# unit"
      ],
      "text/plain": [
       "<IPython.core.display.Markdown object>"
      ]
     },
     "metadata": {},
     "output_type": "display_data"
    },
    {
     "data": {
      "text/markdown": [
       "#### Urban"
      ],
      "text/plain": [
       "<IPython.core.display.Markdown object>"
      ]
     },
     "metadata": {},
     "output_type": "display_data"
    },
    {
     "name": "stdout",
     "output_type": "stream",
     "text": [
      "----------\n",
      "facility\n",
      "industrial\n",
      "technician\n",
      "operation\n",
      "warehouse\n",
      "operator\n",
      "med\n",
      "operations\n",
      "region\n",
      "ii\n",
      "----------\n"
     ]
    },
    {
     "data": {
      "text/markdown": [
       "#### Rural"
      ],
      "text/plain": [
       "<IPython.core.display.Markdown object>"
      ]
     },
     "metadata": {},
     "output_type": "display_data"
    },
    {
     "name": "stdout",
     "output_type": "stream",
     "text": [
      "-----------\n",
      "detection\n",
      "residential\n",
      "chet\n",
      "units\n",
      "manhattan\n",
      "interior\n",
      "rental\n",
      "facility\n",
      "beds\n",
      "brooklyn\n",
      "-----------\n"
     ]
    },
    {
     "data": {
      "text/markdown": [
       "# expert"
      ],
      "text/plain": [
       "<IPython.core.display.Markdown object>"
      ]
     },
     "metadata": {},
     "output_type": "display_data"
    },
    {
     "data": {
      "text/markdown": [
       "#### Urban"
      ],
      "text/plain": [
       "<IPython.core.display.Markdown object>"
      ]
     },
     "metadata": {},
     "output_type": "display_data"
    },
    {
     "name": "stdout",
     "output_type": "stream",
     "text": [
      "------------\n",
      "entrepreneur\n",
      "employee\n",
      "editor\n",
      "asset\n",
      "intern\n",
      "firm\n",
      "scientist\n",
      "advisor\n",
      "seo\n",
      "insider\n",
      "------------\n"
     ]
    },
    {
     "data": {
      "text/markdown": [
       "#### Rural"
      ],
      "text/plain": [
       "<IPython.core.display.Markdown object>"
      ]
     },
     "metadata": {},
     "output_type": "display_data"
    },
    {
     "name": "stdout",
     "output_type": "stream",
     "text": [
      "------------\n",
      "employee\n",
      "engineer\n",
      "editor\n",
      "extension\n",
      "immediate\n",
      "professional\n",
      "startup\n",
      "agency\n",
      "analysis\n",
      "specialist\n",
      "------------\n"
     ]
    },
    {
     "data": {
      "text/markdown": [
       "# flash"
      ],
      "text/plain": [
       "<IPython.core.display.Markdown object>"
      ]
     },
     "metadata": {},
     "output_type": "display_data"
    },
    {
     "data": {
      "text/markdown": [
       "#### Urban"
      ],
      "text/plain": [
       "<IPython.core.display.Markdown object>"
      ]
     },
     "metadata": {},
     "output_type": "display_data"
    },
    {
     "name": "stdout",
     "output_type": "stream",
     "text": [
      "---------\n",
      "lightning\n",
      "cable\n",
      "light\n",
      "infinity\n",
      "batman\n",
      "hd\n",
      "cnet\n",
      "abc\n",
      "lights\n",
      "chrome\n",
      "---------\n"
     ]
    },
    {
     "data": {
      "text/markdown": [
       "#### Rural"
      ],
      "text/plain": [
       "<IPython.core.display.Markdown object>"
      ]
     },
     "metadata": {},
     "output_type": "display_data"
    },
    {
     "name": "stdout",
     "output_type": "stream",
     "text": [
      "----------\n",
      "flood\n",
      "tornado\n",
      "trailer\n",
      "lights\n",
      "galaxy\n",
      "warning\n",
      "lightning\n",
      "screenrant\n",
      "severe\n",
      "fi\n",
      "----------\n"
     ]
    },
    {
     "data": {
      "text/markdown": [
       "# strongly"
      ],
      "text/plain": [
       "<IPython.core.display.Markdown object>"
      ]
     },
     "metadata": {},
     "output_type": "display_data"
    },
    {
     "data": {
      "text/markdown": [
       "#### Urban"
      ],
      "text/plain": [
       "<IPython.core.display.Markdown object>"
      ]
     },
     "metadata": {},
     "output_type": "display_data"
    },
    {
     "name": "stdout",
     "output_type": "stream",
     "text": [
      "------------\n",
      "highly\n",
      "deeply\n",
      "generally\n",
      "valid\n",
      "genuinely\n",
      "particularly\n",
      "personally\n",
      "specific\n",
      "mutual\n",
      "reasonable\n",
      "------------\n"
     ]
    },
    {
     "data": {
      "text/markdown": [
       "#### Rural"
      ],
      "text/plain": [
       "<IPython.core.display.Markdown object>"
      ]
     },
     "metadata": {},
     "output_type": "display_data"
    },
    {
     "name": "stdout",
     "output_type": "stream",
     "text": [
      "-----------\n",
      "highly\n",
      "sunglasses\n",
      "recommended\n",
      "disagree\n",
      "99\n",
      "personal\n",
      "reasonable\n",
      "however\n",
      "personally\n",
      "valid\n",
      "-----------\n"
     ]
    },
    {
     "data": {
      "text/markdown": [
       "# age"
      ],
      "text/plain": [
       "<IPython.core.display.Markdown object>"
      ]
     },
     "metadata": {},
     "output_type": "display_data"
    },
    {
     "data": {
      "text/markdown": [
       "#### Urban"
      ],
      "text/plain": [
       "<IPython.core.display.Markdown object>"
      ]
     },
     "metadata": {},
     "output_type": "display_data"
    },
    {
     "name": "stdout",
     "output_type": "stream",
     "text": [
      "----------\n",
      "20s\n",
      "height\n",
      "era\n",
      "50s\n",
      "generation\n",
      "population\n",
      "marriage\n",
      "year\n",
      "average\n",
      "dies\n",
      "----------\n"
     ]
    },
    {
     "data": {
      "text/markdown": [
       "#### Rural"
      ],
      "text/plain": [
       "<IPython.core.display.Markdown object>"
      ]
     },
     "metadata": {},
     "output_type": "display_data"
    },
    {
     "name": "stdout",
     "output_type": "stream",
     "text": [
      "----------\n",
      "iq\n",
      "average\n",
      "percent\n",
      "aged\n",
      "population\n",
      "older\n",
      "yr\n",
      "male\n",
      "risk\n",
      "years\n",
      "----------\n"
     ]
    },
    {
     "data": {
      "text/markdown": [
       "# dee"
      ],
      "text/plain": [
       "<IPython.core.display.Markdown object>"
      ]
     },
     "metadata": {},
     "output_type": "display_data"
    },
    {
     "data": {
      "text/markdown": [
       "#### Urban"
      ],
      "text/plain": [
       "<IPython.core.display.Markdown object>"
      ]
     },
     "metadata": {},
     "output_type": "display_data"
    },
    {
     "name": "stdout",
     "output_type": "stream",
     "text": [
      "-------\n",
      "dre\n",
      "feat\n",
      "dj\n",
      "ro\n",
      "nathan\n",
      "prod\n",
      "bam\n",
      "wiz\n",
      "ft\n",
      "frankie\n",
      "-------\n"
     ]
    },
    {
     "data": {
      "text/markdown": [
       "#### Rural"
      ],
      "text/plain": [
       "<IPython.core.display.Markdown object>"
      ]
     },
     "metadata": {},
     "output_type": "display_data"
    },
    {
     "name": "stdout",
     "output_type": "stream",
     "text": [
      "--------\n",
      "jo\n",
      "molly\n",
      "anna\n",
      "lynn\n",
      "julie\n",
      "ashley\n",
      "kay\n",
      "mel\n",
      "danielle\n",
      "marie\n",
      "--------\n"
     ]
    },
    {
     "data": {
      "text/markdown": [
       "# hoo"
      ],
      "text/plain": [
       "<IPython.core.display.Markdown object>"
      ]
     },
     "metadata": {},
     "output_type": "display_data"
    },
    {
     "data": {
      "text/markdown": [
       "#### Urban"
      ],
      "text/plain": [
       "<IPython.core.display.Markdown object>"
      ]
     },
     "metadata": {},
     "output_type": "display_data"
    },
    {
     "name": "stdout",
     "output_type": "stream",
     "text": [
      "------------\n",
      "woo\n",
      "awwww\n",
      "yassss\n",
      "boo\n",
      "yess\n",
      "awww\n",
      "hahahahahaha\n",
      "aww\n",
      "yas\n",
      "ahhhh\n",
      "------------\n"
     ]
    },
    {
     "data": {
      "text/markdown": [
       "#### Rural"
      ],
      "text/plain": [
       "<IPython.core.display.Markdown object>"
      ]
     },
     "metadata": {},
     "output_type": "display_data"
    },
    {
     "name": "stdout",
     "output_type": "stream",
     "text": [
      "------\n",
      "woo\n",
      "yay\n",
      "sup\n",
      "boo\n",
      "dee\n",
      "donnie\n",
      "jo\n",
      "sean\n",
      "ooh\n",
      "bye\n",
      "------\n"
     ]
    },
    {
     "data": {
      "text/markdown": [
       "# santa"
      ],
      "text/plain": [
       "<IPython.core.display.Markdown object>"
      ]
     },
     "metadata": {},
     "output_type": "display_data"
    },
    {
     "data": {
      "text/markdown": [
       "#### Urban"
      ],
      "text/plain": [
       "<IPython.core.display.Markdown object>"
      ]
     },
     "metadata": {},
     "output_type": "display_data"
    },
    {
     "name": "stdout",
     "output_type": "stream",
     "text": [
      "--------\n",
      "vista\n",
      "hills\n",
      "beach\n",
      "mesa\n",
      "grove\n",
      "pasadena\n",
      "venice\n",
      "springs\n",
      "malibu\n",
      "barbara\n",
      "--------\n"
     ]
    },
    {
     "data": {
      "text/markdown": [
       "#### Rural"
      ],
      "text/plain": [
       "<IPython.core.display.Markdown object>"
      ]
     },
     "metadata": {},
     "output_type": "display_data"
    },
    {
     "name": "stdout",
     "output_type": "stream",
     "text": [
      "------\n",
      "fe\n",
      "harbor\n",
      "il\n",
      "la\n",
      "fl\n",
      "hills\n",
      "pine\n",
      "az\n",
      "del\n",
      "ca\n",
      "------\n"
     ]
    },
    {
     "data": {
      "text/markdown": [
       "# accidentally"
      ],
      "text/plain": [
       "<IPython.core.display.Markdown object>"
      ]
     },
     "metadata": {},
     "output_type": "display_data"
    },
    {
     "data": {
      "text/markdown": [
       "#### Urban"
      ],
      "text/plain": [
       "<IPython.core.display.Markdown object>"
      ]
     },
     "metadata": {},
     "output_type": "display_data"
    },
    {
     "name": "stdout",
     "output_type": "stream",
     "text": [
      "-----------\n",
      "randomly\n",
      "immediately\n",
      "oops\n",
      "repeatedly\n",
      "allegedly\n",
      "yesterday\n",
      "snap\n",
      "screamed\n",
      "coworker\n",
      "just\n",
      "-----------\n"
     ]
    },
    {
     "data": {
      "text/markdown": [
       "#### Rural"
      ],
      "text/plain": [
       "<IPython.core.display.Markdown object>"
      ]
     },
     "metadata": {},
     "output_type": "display_data"
    },
    {
     "name": "stdout",
     "output_type": "stream",
     "text": [
      "-----------\n",
      "randomly\n",
      "immediately\n",
      "instantly\n",
      "oops\n",
      "deleted\n",
      "phone\n",
      "screenshot\n",
      "snaps\n",
      "saw\n",
      "tinder\n",
      "-----------\n"
     ]
    },
    {
     "data": {
      "text/markdown": [
       "# locker"
      ],
      "text/plain": [
       "<IPython.core.display.Markdown object>"
      ]
     },
     "metadata": {},
     "output_type": "display_data"
    },
    {
     "data": {
      "text/markdown": [
       "#### Urban"
      ],
      "text/plain": [
       "<IPython.core.display.Markdown object>"
      ]
     },
     "metadata": {},
     "output_type": "display_data"
    },
    {
     "name": "stdout",
     "output_type": "stream",
     "text": [
      "--------\n",
      "dressing\n",
      "dining\n",
      "loaded\n",
      "hotel\n",
      "rehab\n",
      "sitting\n",
      "irving\n",
      "floor\n",
      "bench\n",
      "lakers\n",
      "--------\n"
     ]
    },
    {
     "data": {
      "text/markdown": [
       "#### Rural"
      ],
      "text/plain": [
       "<IPython.core.display.Markdown object>"
      ]
     },
     "metadata": {},
     "output_type": "display_data"
    },
    {
     "name": "stdout",
     "output_type": "stream",
     "text": [
      "--------\n",
      "dorm\n",
      "gym\n",
      "sitting\n",
      "bathroom\n",
      "locked\n",
      "strip\n",
      "boxing\n",
      "hotel\n",
      "shaking\n",
      "dancing\n",
      "--------\n"
     ]
    },
    {
     "data": {
      "text/markdown": [
       "# ing"
      ],
      "text/plain": [
       "<IPython.core.display.Markdown object>"
      ]
     },
     "metadata": {},
     "output_type": "display_data"
    },
    {
     "data": {
      "text/markdown": [
       "#### Urban"
      ],
      "text/plain": [
       "<IPython.core.display.Markdown object>"
      ]
     },
     "metadata": {},
     "output_type": "display_data"
    },
    {
     "name": "stdout",
     "output_type": "stream",
     "text": [
      "--------\n",
      "ck\n",
      "f\n",
      "tweeting\n",
      "k\n",
      "saying\n",
      "doing\n",
      "nat\n",
      "kennedy\n",
      "6pm\n",
      "kidding\n",
      "--------\n"
     ]
    },
    {
     "data": {
      "text/markdown": [
       "#### Rural"
      ],
      "text/plain": [
       "<IPython.core.display.Markdown object>"
      ]
     },
     "metadata": {},
     "output_type": "display_data"
    },
    {
     "name": "stdout",
     "output_type": "stream",
     "text": [
      "-----------\n",
      "ck\n",
      "kennedy\n",
      "rh\n",
      "dew\n",
      "lying\n",
      "sagittarius\n",
      "ho\n",
      "und\n",
      "tweeting\n",
      "libra\n",
      "-----------\n"
     ]
    },
    {
     "data": {
      "text/markdown": [
       "# urban"
      ],
      "text/plain": [
       "<IPython.core.display.Markdown object>"
      ]
     },
     "metadata": {},
     "output_type": "display_data"
    },
    {
     "data": {
      "text/markdown": [
       "#### Urban"
      ],
      "text/plain": [
       "<IPython.core.display.Markdown object>"
      ]
     },
     "metadata": {},
     "output_type": "display_data"
    },
    {
     "name": "stdout",
     "output_type": "stream",
     "text": [
      "------------\n",
      "contemporary\n",
      "underground\n",
      "landscape\n",
      "industrial\n",
      "architecture\n",
      "arts\n",
      "innovation\n",
      "innovative\n",
      "institute\n",
      "revolution\n",
      "------------\n"
     ]
    },
    {
     "data": {
      "text/markdown": [
       "#### Rural"
      ],
      "text/plain": [
       "<IPython.core.display.Markdown object>"
      ]
     },
     "metadata": {},
     "output_type": "display_data"
    },
    {
     "name": "stdout",
     "output_type": "stream",
     "text": [
      "-----------\n",
      "toby\n",
      "keith\n",
      "rural\n",
      "cave\n",
      "bass\n",
      "southern\n",
      "metal\n",
      "electric\n",
      "rock\n",
      "underground\n",
      "-----------\n"
     ]
    },
    {
     "data": {
      "text/markdown": [
       "# award"
      ],
      "text/plain": [
       "<IPython.core.display.Markdown object>"
      ]
     },
     "metadata": {},
     "output_type": "display_data"
    },
    {
     "data": {
      "text/markdown": [
       "#### Urban"
      ],
      "text/plain": [
       "<IPython.core.display.Markdown object>"
      ]
     },
     "metadata": {},
     "output_type": "display_data"
    },
    {
     "name": "stdout",
     "output_type": "stream",
     "text": [
      "----------\n",
      "emmy\n",
      "oscar\n",
      "awards\n",
      "grammy\n",
      "nominated\n",
      "honors\n",
      "grammys\n",
      "actress\n",
      "nomination\n",
      "oscars\n",
      "----------\n"
     ]
    },
    {
     "data": {
      "text/markdown": [
       "#### Rural"
      ],
      "text/plain": [
       "<IPython.core.display.Markdown object>"
      ]
     },
     "metadata": {},
     "output_type": "display_data"
    },
    {
     "name": "stdout",
     "output_type": "stream",
     "text": [
      "-----------\n",
      "awards\n",
      "oscar\n",
      "recognition\n",
      "honors\n",
      "academic\n",
      "outstanding\n",
      "winner\n",
      "athlete\n",
      "spotlight\n",
      "actress\n",
      "-----------\n"
     ]
    },
    {
     "data": {
      "text/markdown": [
       "# automatically"
      ],
      "text/plain": [
       "<IPython.core.display.Markdown object>"
      ]
     },
     "metadata": {},
     "output_type": "display_data"
    },
    {
     "data": {
      "text/markdown": [
       "#### Urban"
      ],
      "text/plain": [
       "<IPython.core.display.Markdown object>"
      ]
     },
     "metadata": {},
     "output_type": "display_data"
    },
    {
     "name": "stdout",
     "output_type": "stream",
     "text": [
      "----------\n",
      "unfollowed\n",
      "followed\n",
      "judge\n",
      "texting\n",
      "confess\n",
      "randomly\n",
      "sane\n",
      "just\n",
      "removing\n",
      "startup\n",
      "----------\n"
     ]
    },
    {
     "data": {
      "text/markdown": [
       "#### Rural"
      ],
      "text/plain": [
       "<IPython.core.display.Markdown object>"
      ]
     },
     "metadata": {},
     "output_type": "display_data"
    },
    {
     "name": "stdout",
     "output_type": "stream",
     "text": [
      "----------\n",
      "followed\n",
      "unfollowed\n",
      "tracked\n",
      "texting\n",
      "kills\n",
      "judge\n",
      "tweeps\n",
      "providing\n",
      "block\n",
      "cuh\n",
      "----------\n"
     ]
    },
    {
     "data": {
      "text/markdown": [
       "# report"
      ],
      "text/plain": [
       "<IPython.core.display.Markdown object>"
      ]
     },
     "metadata": {},
     "output_type": "display_data"
    },
    {
     "data": {
      "text/markdown": [
       "#### Urban"
      ],
      "text/plain": [
       "<IPython.core.display.Markdown object>"
      ]
     },
     "metadata": {},
     "output_type": "display_data"
    },
    {
     "name": "stdout",
     "output_type": "stream",
     "text": [
      "---------\n",
      "reports\n",
      "reuters\n",
      "breach\n",
      "probe\n",
      "transfer\n",
      "roundup\n",
      "analysis\n",
      "amid\n",
      "targeting\n",
      "warns\n",
      "---------\n"
     ]
    },
    {
     "data": {
      "text/markdown": [
       "#### Rural"
      ],
      "text/plain": [
       "<IPython.core.display.Markdown object>"
      ]
     },
     "metadata": {},
     "output_type": "display_data"
    },
    {
     "name": "stdout",
     "output_type": "stream",
     "text": [
      "----------\n",
      "reports\n",
      "probe\n",
      "analysis\n",
      "leak\n",
      "irs\n",
      "breitbart\n",
      "regarding\n",
      "reported\n",
      "lawsuit\n",
      "commission\n",
      "----------\n"
     ]
    },
    {
     "data": {
      "text/markdown": [
       "# vine"
      ],
      "text/plain": [
       "<IPython.core.display.Markdown object>"
      ]
     },
     "metadata": {},
     "output_type": "display_data"
    },
    {
     "data": {
      "text/markdown": [
       "#### Urban"
      ],
      "text/plain": [
       "<IPython.core.display.Markdown object>"
      ]
     },
     "metadata": {},
     "output_type": "display_data"
    },
    {
     "name": "stdout",
     "output_type": "stream",
     "text": [
      "-----------\n",
      "compilation\n",
      "song\n",
      "flame\n",
      "gif\n",
      "1999\n",
      "scene\n",
      "bong\n",
      "2002\n",
      "1997\n",
      "lyric\n",
      "-----------\n"
     ]
    },
    {
     "data": {
      "text/markdown": [
       "#### Rural"
      ],
      "text/plain": [
       "<IPython.core.display.Markdown object>"
      ]
     },
     "metadata": {},
     "output_type": "display_data"
    },
    {
     "name": "stdout",
     "output_type": "stream",
     "text": [
      "-----------\n",
      "produced\n",
      "compilation\n",
      "soundtrack\n",
      "flame\n",
      "spongebob\n",
      "juice\n",
      "beatles\n",
      "beam\n",
      "mix\n",
      "og\n",
      "-----------\n"
     ]
    },
    {
     "data": {
      "text/markdown": [
       "# hi"
      ],
      "text/plain": [
       "<IPython.core.display.Markdown object>"
      ]
     },
     "metadata": {},
     "output_type": "display_data"
    },
    {
     "data": {
      "text/markdown": [
       "#### Urban"
      ],
      "text/plain": [
       "<IPython.core.display.Markdown object>"
      ]
     },
     "metadata": {},
     "output_type": "display_data"
    },
    {
     "name": "stdout",
     "output_type": "stream",
     "text": [
      "-------\n",
      "hello\n",
      "hey\n",
      "helloo\n",
      "sorry\n",
      "xoxo\n",
      "welcome\n",
      "ms\n",
      "glad\n",
      "btw\n",
      "hola\n",
      "-------\n"
     ]
    },
    {
     "data": {
      "text/markdown": [
       "#### Rural"
      ],
      "text/plain": [
       "<IPython.core.display.Markdown object>"
      ]
     },
     "metadata": {},
     "output_type": "display_data"
    },
    {
     "name": "stdout",
     "output_type": "stream",
     "text": [
      "---------\n",
      "hello\n",
      "hey\n",
      "lo\n",
      "goodnight\n",
      "goodbye\n",
      "welcome\n",
      "marie\n",
      "hbd\n",
      "dear\n",
      "f\n",
      "---------\n"
     ]
    },
    {
     "data": {
      "text/markdown": [
       "# prime"
      ],
      "text/plain": [
       "<IPython.core.display.Markdown object>"
      ]
     },
     "metadata": {},
     "output_type": "display_data"
    },
    {
     "data": {
      "text/markdown": [
       "#### Urban"
      ],
      "text/plain": [
       "<IPython.core.display.Markdown object>"
      ]
     },
     "metadata": {},
     "output_type": "display_data"
    },
    {
     "name": "stdout",
     "output_type": "stream",
     "text": [
      "------------\n",
      "limited\n",
      "first\n",
      "card\n",
      "contract\n",
      "amazon\n",
      "1st\n",
      "visa\n",
      "subscription\n",
      "debut\n",
      "shipping\n",
      "------------\n"
     ]
    },
    {
     "data": {
      "text/markdown": [
       "#### Rural"
      ],
      "text/plain": [
       "<IPython.core.display.Markdown object>"
      ]
     },
     "metadata": {},
     "output_type": "display_data"
    },
    {
     "name": "stdout",
     "output_type": "stream",
     "text": [
      "------------\n",
      "labor\n",
      "independence\n",
      "memorial\n",
      "limited\n",
      "per\n",
      "clearance\n",
      "regular\n",
      "first\n",
      "amazon\n",
      "valentines\n",
      "------------\n"
     ]
    },
    {
     "data": {
      "text/markdown": [
       "# wild"
      ],
      "text/plain": [
       "<IPython.core.display.Markdown object>"
      ]
     },
     "metadata": {},
     "output_type": "display_data"
    },
    {
     "data": {
      "text/markdown": [
       "#### Urban"
      ],
      "text/plain": [
       "<IPython.core.display.Markdown object>"
      ]
     },
     "metadata": {},
     "output_type": "display_data"
    },
    {
     "name": "stdout",
     "output_type": "stream",
     "text": [
      "-------\n",
      "aipom\n",
      "shuckle\n",
      "crazy\n",
      "wicked\n",
      "weird\n",
      "demon\n",
      "scary\n",
      "dark\n",
      "rough\n",
      "hot\n",
      "-------\n"
     ]
    },
    {
     "data": {
      "text/markdown": [
       "#### Rural"
      ],
      "text/plain": [
       "<IPython.core.display.Markdown object>"
      ]
     },
     "metadata": {},
     "output_type": "display_data"
    },
    {
     "name": "stdout",
     "output_type": "stream",
     "text": [
      "-------\n",
      "hot\n",
      "wicked\n",
      "ghost\n",
      "pirate\n",
      "buffalo\n",
      "rare\n",
      "dark\n",
      "deer\n",
      "sweet\n",
      "zelda\n",
      "-------\n"
     ]
    },
    {
     "data": {
      "text/markdown": [
       "# artists"
      ],
      "text/plain": [
       "<IPython.core.display.Markdown object>"
      ]
     },
     "metadata": {},
     "output_type": "display_data"
    },
    {
     "data": {
      "text/markdown": [
       "#### Urban"
      ],
      "text/plain": [
       "<IPython.core.display.Markdown object>"
      ]
     },
     "metadata": {},
     "output_type": "display_data"
    },
    {
     "name": "stdout",
     "output_type": "stream",
     "text": [
      "---------\n",
      "musicians\n",
      "producers\n",
      "rappers\n",
      "writers\n",
      "actors\n",
      "artist\n",
      "bands\n",
      "designers\n",
      "authors\n",
      "podcasts\n",
      "---------\n"
     ]
    },
    {
     "data": {
      "text/markdown": [
       "#### Rural"
      ],
      "text/plain": [
       "<IPython.core.display.Markdown object>"
      ]
     },
     "metadata": {},
     "output_type": "display_data"
    },
    {
     "name": "stdout",
     "output_type": "stream",
     "text": [
      "-------\n",
      "writers\n",
      "bands\n",
      "actors\n",
      "artist\n",
      "albums\n",
      "films\n",
      "folk\n",
      "songs\n",
      "readers\n",
      "brands\n",
      "-------\n"
     ]
    },
    {
     "data": {
      "text/markdown": [
       "# significant"
      ],
      "text/plain": [
       "<IPython.core.display.Markdown object>"
      ]
     },
     "metadata": {},
     "output_type": "display_data"
    },
    {
     "data": {
      "text/markdown": [
       "#### Urban"
      ],
      "text/plain": [
       "<IPython.core.display.Markdown object>"
      ]
     },
     "metadata": {},
     "output_type": "display_data"
    },
    {
     "name": "stdout",
     "output_type": "stream",
     "text": [
      "-----------\n",
      "each\n",
      "problems\n",
      "concerns\n",
      "beliefs\n",
      "differences\n",
      "assets\n",
      "issues\n",
      "specific\n",
      "than\n",
      "critical\n",
      "-----------\n"
     ]
    },
    {
     "data": {
      "text/markdown": [
       "#### Rural"
      ],
      "text/plain": [
       "<IPython.core.display.Markdown object>"
      ]
     },
     "metadata": {},
     "output_type": "display_data"
    },
    {
     "name": "stdout",
     "output_type": "stream",
     "text": [
      "-----------\n",
      "pisces\n",
      "severe\n",
      "each\n",
      "concern\n",
      "areas\n",
      "options\n",
      "capricorn\n",
      "bias\n",
      "opinions\n",
      "personality\n",
      "-----------\n"
     ]
    },
    {
     "data": {
      "text/markdown": [
       "# especially"
      ],
      "text/plain": [
       "<IPython.core.display.Markdown object>"
      ]
     },
     "metadata": {},
     "output_type": "display_data"
    },
    {
     "data": {
      "text/markdown": [
       "#### Urban"
      ],
      "text/plain": [
       "<IPython.core.display.Markdown object>"
      ]
     },
     "metadata": {},
     "output_type": "display_data"
    },
    {
     "name": "stdout",
     "output_type": "stream",
     "text": [
      "-------------\n",
      "esp\n",
      "particularly\n",
      "dealing\n",
      "equally\n",
      "happens\n",
      "comes\n",
      "relationships\n",
      "are\n",
      "were\n",
      "except\n",
      "-------------\n"
     ]
    },
    {
     "data": {
      "text/markdown": [
       "#### Rural"
      ],
      "text/plain": [
       "<IPython.core.display.Markdown object>"
      ]
     },
     "metadata": {},
     "output_type": "display_data"
    },
    {
     "name": "stdout",
     "output_type": "stream",
     "text": [
      "-------------\n",
      "are\n",
      "were\n",
      "dealing\n",
      "comes\n",
      "relationships\n",
      "happens\n",
      "rains\n",
      "re\n",
      "protesting\n",
      "arguing\n",
      "-------------\n"
     ]
    },
    {
     "data": {
      "text/markdown": [
       "# upper"
      ],
      "text/plain": [
       "<IPython.core.display.Markdown object>"
      ]
     },
     "metadata": {},
     "output_type": "display_data"
    },
    {
     "data": {
      "text/markdown": [
       "#### Urban"
      ],
      "text/plain": [
       "<IPython.core.display.Markdown object>"
      ]
     },
     "metadata": {},
     "output_type": "display_data"
    },
    {
     "name": "stdout",
     "output_type": "stream",
     "text": [
      "---------\n",
      "deck\n",
      "mid\n",
      "lower\n",
      "servicing\n",
      "mezzanine\n",
      "waist\n",
      "field\n",
      "oak\n",
      "leather\n",
      "index\n",
      "---------\n"
     ]
    },
    {
     "data": {
      "text/markdown": [
       "#### Rural"
      ],
      "text/plain": [
       "<IPython.core.display.Markdown object>"
      ]
     },
     "metadata": {},
     "output_type": "display_data"
    },
    {
     "name": "stdout",
     "output_type": "stream",
     "text": [
      "---------\n",
      "manhattan\n",
      "hampton\n",
      "midtown\n",
      "lower\n",
      "east\n",
      "center\n",
      "md\n",
      "delaware\n",
      "deck\n",
      "mount\n",
      "---------\n"
     ]
    },
    {
     "data": {
      "text/markdown": [
       "# due"
      ],
      "text/plain": [
       "<IPython.core.display.Markdown object>"
      ]
     },
     "metadata": {},
     "output_type": "display_data"
    },
    {
     "data": {
      "text/markdown": [
       "#### Urban"
      ],
      "text/plain": [
       "<IPython.core.display.Markdown object>"
      ]
     },
     "metadata": {},
     "output_type": "display_data"
    },
    {
     "name": "stdout",
     "output_type": "stream",
     "text": [
      "------------\n",
      "delayed\n",
      "prior\n",
      "causing\n",
      "delays\n",
      "mezzanine\n",
      "delay\n",
      "scheduled\n",
      "rail\n",
      "experiencing\n",
      "terminal\n",
      "------------\n"
     ]
    },
    {
     "data": {
      "text/markdown": [
       "#### Rural"
      ],
      "text/plain": [
       "<IPython.core.display.Markdown object>"
      ]
     },
     "metadata": {},
     "output_type": "display_data"
    },
    {
     "name": "stdout",
     "output_type": "stream",
     "text": [
      "---------\n",
      "prior\n",
      "delayed\n",
      "delay\n",
      "canceled\n",
      "scheduled\n",
      "cancelled\n",
      "according\n",
      "postponed\n",
      "required\n",
      "related\n",
      "---------\n"
     ]
    },
    {
     "data": {
      "text/markdown": [
       "# guard"
      ],
      "text/plain": [
       "<IPython.core.display.Markdown object>"
      ]
     },
     "metadata": {},
     "output_type": "display_data"
    },
    {
     "data": {
      "text/markdown": [
       "#### Urban"
      ],
      "text/plain": [
       "<IPython.core.display.Markdown object>"
      ]
     },
     "metadata": {},
     "output_type": "display_data"
    },
    {
     "name": "stdout",
     "output_type": "stream",
     "text": [
      "--------\n",
      "shooter\n",
      "security\n",
      "defender\n",
      "prospect\n",
      "wr\n",
      "bench\n",
      "klay\n",
      "league\n",
      "injury\n",
      "east\n",
      "--------\n"
     ]
    },
    {
     "data": {
      "text/markdown": [
       "#### Rural"
      ],
      "text/plain": [
       "<IPython.core.display.Markdown object>"
      ]
     },
     "metadata": {},
     "output_type": "display_data"
    },
    {
     "name": "stdout",
     "output_type": "stream",
     "text": [
      "--------\n",
      "bench\n",
      "shooter\n",
      "marine\n",
      "security\n",
      "pole\n",
      "officer\n",
      "hammer\n",
      "wildlife\n",
      "navy\n",
      "dunk\n",
      "--------\n"
     ]
    },
    {
     "data": {
      "text/markdown": [
       "# turkey"
      ],
      "text/plain": [
       "<IPython.core.display.Markdown object>"
      ]
     },
     "metadata": {},
     "output_type": "display_data"
    },
    {
     "data": {
      "text/markdown": [
       "#### Urban"
      ],
      "text/plain": [
       "<IPython.core.display.Markdown object>"
      ]
     },
     "metadata": {},
     "output_type": "display_data"
    },
    {
     "name": "stdout",
     "output_type": "stream",
     "text": [
      "--------\n",
      "iran\n",
      "china\n",
      "crab\n",
      "syria\n",
      "germany\n",
      "iraq\n",
      "republic\n",
      "israel\n",
      "rice\n",
      "sweden\n",
      "--------\n"
     ]
    },
    {
     "data": {
      "text/markdown": [
       "#### Rural"
      ],
      "text/plain": [
       "<IPython.core.display.Markdown object>"
      ]
     },
     "metadata": {},
     "output_type": "display_data"
    },
    {
     "name": "stdout",
     "output_type": "stream",
     "text": [
      "-------\n",
      "salmon\n",
      "pork\n",
      "bacon\n",
      "crab\n",
      "chicken\n",
      "shrimp\n",
      "tomato\n",
      "meat\n",
      "chili\n",
      "garlic\n",
      "-------\n"
     ]
    },
    {
     "data": {
      "text/markdown": [
       "# becoming"
      ],
      "text/plain": [
       "<IPython.core.display.Markdown object>"
      ]
     },
     "metadata": {},
     "output_type": "display_data"
    },
    {
     "data": {
      "text/markdown": [
       "#### Urban"
      ],
      "text/plain": [
       "<IPython.core.display.Markdown object>"
      ]
     },
     "metadata": {},
     "output_type": "display_data"
    },
    {
     "name": "stdout",
     "output_type": "stream",
     "text": [
      "----------\n",
      "creating\n",
      "developing\n",
      "being\n",
      "become\n",
      "became\n",
      "launching\n",
      "investing\n",
      "making\n",
      "driven\n",
      "managing\n",
      "----------\n"
     ]
    },
    {
     "data": {
      "text/markdown": [
       "#### Rural"
      ],
      "text/plain": [
       "<IPython.core.display.Markdown object>"
      ]
     },
     "metadata": {},
     "output_type": "display_data"
    },
    {
     "name": "stdout",
     "output_type": "stream",
     "text": [
      "-----------\n",
      "creating\n",
      "became\n",
      "become\n",
      "becomes\n",
      "being\n",
      "making\n",
      "moving\n",
      "seeking\n",
      "intelligent\n",
      "development\n",
      "-----------\n"
     ]
    },
    {
     "data": {
      "text/markdown": [
       "# stage"
      ],
      "text/plain": [
       "<IPython.core.display.Markdown object>"
      ]
     },
     "metadata": {},
     "output_type": "display_data"
    },
    {
     "data": {
      "text/markdown": [
       "#### Urban"
      ],
      "text/plain": [
       "<IPython.core.display.Markdown object>"
      ]
     },
     "metadata": {},
     "output_type": "display_data"
    },
    {
     "name": "stdout",
     "output_type": "stream",
     "text": [
      "--------\n",
      "broadway\n",
      "floor\n",
      "grammys\n",
      "tour\n",
      "pole\n",
      "mic\n",
      "entrance\n",
      "freeway\n",
      "event\n",
      "field\n",
      "--------\n"
     ]
    },
    {
     "data": {
      "text/markdown": [
       "#### Rural"
      ],
      "text/plain": [
       "<IPython.core.display.Markdown object>"
      ]
     },
     "metadata": {},
     "output_type": "display_data"
    },
    {
     "name": "stdout",
     "output_type": "stream",
     "text": [
      "-------\n",
      "pole\n",
      "floor\n",
      "par\n",
      "casino\n",
      "goal\n",
      "battle\n",
      "match\n",
      "edge\n",
      "field\n",
      "victory\n",
      "-------\n"
     ]
    },
    {
     "data": {
      "text/markdown": [
       "# gig"
      ],
      "text/plain": [
       "<IPython.core.display.Markdown object>"
      ]
     },
     "metadata": {},
     "output_type": "display_data"
    },
    {
     "data": {
      "text/markdown": [
       "#### Urban"
      ],
      "text/plain": [
       "<IPython.core.display.Markdown object>"
      ]
     },
     "metadata": {},
     "output_type": "display_data"
    },
    {
     "name": "stdout",
     "output_type": "stream",
     "text": [
      "------------\n",
      "venue\n",
      "event\n",
      "project\n",
      "job\n",
      "photoshoot\n",
      "session\n",
      "segment\n",
      "client\n",
      "presentation\n",
      "studio\n",
      "------------\n"
     ]
    },
    {
     "data": {
      "text/markdown": [
       "#### Rural"
      ],
      "text/plain": [
       "<IPython.core.display.Markdown object>"
      ]
     },
     "metadata": {},
     "output_type": "display_data"
    },
    {
     "name": "stdout",
     "output_type": "stream",
     "text": [
      "--------\n",
      "brewery\n",
      "jersey\n",
      "oc\n",
      "england\n",
      "location\n",
      "boat\n",
      "facility\n",
      "hampton\n",
      "port\n",
      "vlog\n",
      "--------\n"
     ]
    },
    {
     "data": {
      "text/markdown": [
       "# repeat"
      ],
      "text/plain": [
       "<IPython.core.display.Markdown object>"
      ]
     },
     "metadata": {},
     "output_type": "display_data"
    },
    {
     "data": {
      "text/markdown": [
       "#### Urban"
      ],
      "text/plain": [
       "<IPython.core.display.Markdown object>"
      ]
     },
     "metadata": {},
     "output_type": "display_data"
    },
    {
     "name": "stdout",
     "output_type": "stream",
     "text": [
      "----------\n",
      "trapavelli\n",
      "grind\n",
      "focusing\n",
      "itunes\n",
      "spotify\n",
      "focus\n",
      "track\n",
      "replay\n",
      "reflect\n",
      "pause\n",
      "----------\n"
     ]
    },
    {
     "data": {
      "text/markdown": [
       "#### Rural"
      ],
      "text/plain": [
       "<IPython.core.display.Markdown object>"
      ]
     },
     "metadata": {},
     "output_type": "display_data"
    },
    {
     "name": "stdout",
     "output_type": "stream",
     "text": [
      "---------\n",
      "grind\n",
      "count\n",
      "focusing\n",
      "focus\n",
      "spotify\n",
      "netflix\n",
      "listen\n",
      "rely\n",
      "listening\n",
      "sundays\n",
      "---------\n"
     ]
    },
    {
     "data": {
      "text/markdown": [
       "# editor"
      ],
      "text/plain": [
       "<IPython.core.display.Markdown object>"
      ]
     },
     "metadata": {},
     "output_type": "display_data"
    },
    {
     "data": {
      "text/markdown": [
       "#### Urban"
      ],
      "text/plain": [
       "<IPython.core.display.Markdown object>"
      ]
     },
     "metadata": {},
     "output_type": "display_data"
    },
    {
     "name": "stdout",
     "output_type": "stream",
     "text": [
      "----------\n",
      "writer\n",
      "intern\n",
      "director\n",
      "author\n",
      "producer\n",
      "prof\n",
      "exec\n",
      "principal\n",
      "buzzfeed\n",
      "publishing\n",
      "----------\n"
     ]
    },
    {
     "data": {
      "text/markdown": [
       "#### Rural"
      ],
      "text/plain": [
       "<IPython.core.display.Markdown object>"
      ]
     },
     "metadata": {},
     "output_type": "display_data"
    },
    {
     "name": "stdout",
     "output_type": "stream",
     "text": [
      "---------\n",
      "writer\n",
      "author\n",
      "reader\n",
      "expert\n",
      "nyt\n",
      "principal\n",
      "director\n",
      "review\n",
      "extension\n",
      "headline\n",
      "---------\n"
     ]
    },
    {
     "data": {
      "text/markdown": [
       "# collective"
      ],
      "text/plain": [
       "<IPython.core.display.Markdown object>"
      ]
     },
     "metadata": {},
     "output_type": "display_data"
    },
    {
     "data": {
      "text/markdown": [
       "#### Urban"
      ],
      "text/plain": [
       "<IPython.core.display.Markdown object>"
      ]
     },
     "metadata": {},
     "output_type": "display_data"
    },
    {
     "name": "stdout",
     "output_type": "stream",
     "text": [
      "-----------\n",
      "cultural\n",
      "revolution\n",
      "culture\n",
      "society\n",
      "movement\n",
      "resistance\n",
      "diverse\n",
      "creativity\n",
      "unity\n",
      "communities\n",
      "-----------\n"
     ]
    },
    {
     "data": {
      "text/markdown": [
       "#### Rural"
      ],
      "text/plain": [
       "<IPython.core.display.Markdown object>"
      ]
     },
     "metadata": {},
     "output_type": "display_data"
    },
    {
     "name": "stdout",
     "output_type": "stream",
     "text": [
      "------------\n",
      "guardian\n",
      "radio\n",
      "destruction\n",
      "inner\n",
      "iii\n",
      "evolution\n",
      "ii\n",
      "master\n",
      "feat\n",
      "instrumental\n",
      "------------\n"
     ]
    },
    {
     "data": {
      "text/markdown": [
       "# gentlemen"
      ],
      "text/plain": [
       "<IPython.core.display.Markdown object>"
      ]
     },
     "metadata": {},
     "output_type": "display_data"
    },
    {
     "data": {
      "text/markdown": [
       "#### Urban"
      ],
      "text/plain": [
       "<IPython.core.display.Markdown object>"
      ]
     },
     "metadata": {},
     "output_type": "display_data"
    },
    {
     "name": "stdout",
     "output_type": "stream",
     "text": [
      "------------\n",
      "ladies\n",
      "lovely\n",
      "fellas\n",
      "fabulous\n",
      "representing\n",
      "welcome\n",
      "sexy\n",
      "beautiful\n",
      "yas\n",
      "brunch\n",
      "------------\n"
     ]
    },
    {
     "data": {
      "text/markdown": [
       "#### Rural"
      ],
      "text/plain": [
       "<IPython.core.display.Markdown object>"
      ]
     },
     "metadata": {},
     "output_type": "display_data"
    },
    {
     "name": "stdout",
     "output_type": "stream",
     "text": [
      "---------------\n",
      "ladies\n",
      "bravo\n",
      "young\n",
      "talented\n",
      "representing\n",
      "salute\n",
      "brave\n",
      "congratulations\n",
      "sup\n",
      "congrats\n",
      "---------------\n"
     ]
    },
    {
     "data": {
      "text/markdown": [
       "# alert"
      ],
      "text/plain": [
       "<IPython.core.display.Markdown object>"
      ]
     },
     "metadata": {},
     "output_type": "display_data"
    },
    {
     "data": {
      "text/markdown": [
       "#### Urban"
      ],
      "text/plain": [
       "<IPython.core.display.Markdown object>"
      ]
     },
     "metadata": {},
     "output_type": "display_data"
    },
    {
     "name": "stdout",
     "output_type": "stream",
     "text": [
      "---------\n",
      "releases\n",
      "launches\n",
      "announces\n",
      "cbs\n",
      "advisory\n",
      "amid\n",
      "exclusive\n",
      "sparks\n",
      "update\n",
      "issued\n",
      "---------\n"
     ]
    },
    {
     "data": {
      "text/markdown": [
       "#### Rural"
      ],
      "text/plain": [
       "<IPython.core.display.Markdown object>"
      ]
     },
     "metadata": {},
     "output_type": "display_data"
    },
    {
     "name": "stdout",
     "output_type": "stream",
     "text": [
      "---------\n",
      "update\n",
      "amber\n",
      "report\n",
      "85\n",
      "75\n",
      "rd\n",
      "releases\n",
      "hwy\n",
      "emergency\n",
      "sta\n",
      "---------\n"
     ]
    },
    {
     "data": {
      "text/markdown": [
       "# boys"
      ],
      "text/plain": [
       "<IPython.core.display.Markdown object>"
      ]
     },
     "metadata": {},
     "output_type": "display_data"
    },
    {
     "data": {
      "text/markdown": [
       "#### Urban"
      ],
      "text/plain": [
       "<IPython.core.display.Markdown object>"
      ]
     },
     "metadata": {},
     "output_type": "display_data"
    },
    {
     "name": "stdout",
     "output_type": "stream",
     "text": [
      "--------\n",
      "girls\n",
      "dudes\n",
      "chicks\n",
      "kids\n",
      "babies\n",
      "brothers\n",
      "men\n",
      "ladies\n",
      "boyz\n",
      "homies\n",
      "--------\n"
     ]
    },
    {
     "data": {
      "text/markdown": [
       "#### Rural"
      ],
      "text/plain": [
       "<IPython.core.display.Markdown object>"
      ]
     },
     "metadata": {},
     "output_type": "display_data"
    },
    {
     "name": "stdout",
     "output_type": "stream",
     "text": [
      "----------\n",
      "girls\n",
      "jv\n",
      "hoops\n",
      "volleyball\n",
      "varsity\n",
      "softball\n",
      "wildcats\n",
      "freshmen\n",
      "panthers\n",
      "bulldogs\n",
      "----------\n"
     ]
    },
    {
     "data": {
      "text/markdown": [
       "# cheer"
      ],
      "text/plain": [
       "<IPython.core.display.Markdown object>"
      ]
     },
     "metadata": {},
     "output_type": "display_data"
    },
    {
     "data": {
      "text/markdown": [
       "#### Urban"
      ],
      "text/plain": [
       "<IPython.core.display.Markdown object>"
      ]
     },
     "metadata": {},
     "output_type": "display_data"
    },
    {
     "name": "stdout",
     "output_type": "stream",
     "text": [
      "-----\n",
      "catch\n",
      "pick\n",
      "meet\n",
      "hook\n",
      "sign\n",
      "pull\n",
      "stand\n",
      "hold\n",
      "wake\n",
      "bring\n",
      "-----\n"
     ]
    },
    {
     "data": {
      "text/markdown": [
       "#### Rural"
      ],
      "text/plain": [
       "<IPython.core.display.Markdown object>"
      ]
     },
     "metadata": {},
     "output_type": "display_data"
    },
    {
     "name": "stdout",
     "output_type": "stream",
     "text": [
      "----------\n",
      "cheering\n",
      "meet\n",
      "soccer\n",
      "volleyball\n",
      "invite\n",
      "softball\n",
      "come\n",
      "pick\n",
      "bball\n",
      "basketball\n",
      "----------\n"
     ]
    },
    {
     "data": {
      "text/markdown": [
       "# abt"
      ],
      "text/plain": [
       "<IPython.core.display.Markdown object>"
      ]
     },
     "metadata": {},
     "output_type": "display_data"
    },
    {
     "data": {
      "text/markdown": [
       "#### Urban"
      ],
      "text/plain": [
       "<IPython.core.display.Markdown object>"
      ]
     },
     "metadata": {},
     "output_type": "display_data"
    },
    {
     "name": "stdout",
     "output_type": "stream",
     "text": [
      "---------\n",
      "about\n",
      "bout\n",
      "ab\n",
      "regarding\n",
      "critical\n",
      "besides\n",
      "affects\n",
      "reckless\n",
      "tht\n",
      "r\n",
      "---------\n"
     ]
    },
    {
     "data": {
      "text/markdown": [
       "#### Rural"
      ],
      "text/plain": [
       "<IPython.core.display.Markdown object>"
      ]
     },
     "metadata": {},
     "output_type": "display_data"
    },
    {
     "name": "stdout",
     "output_type": "stream",
     "text": [
      "----------\n",
      "about\n",
      "ab\n",
      "bout\n",
      "funny\n",
      "besides\n",
      "exactly\n",
      "ignoring\n",
      "constantly\n",
      "r\n",
      "ignored\n",
      "----------\n"
     ]
    },
    {
     "data": {
      "text/markdown": [
       "# depth"
      ],
      "text/plain": [
       "<IPython.core.display.Markdown object>"
      ]
     },
     "metadata": {},
     "output_type": "display_data"
    },
    {
     "data": {
      "text/markdown": [
       "#### Urban"
      ],
      "text/plain": [
       "<IPython.core.display.Markdown object>"
      ]
     },
     "metadata": {},
     "output_type": "display_data"
    },
    {
     "name": "stdout",
     "output_type": "stream",
     "text": [
      "---------\n",
      "analysis\n",
      "rotation\n",
      "potential\n",
      "skill\n",
      "pitching\n",
      "overall\n",
      "bullpen\n",
      "dialogue\n",
      "dynamic\n",
      "insight\n",
      "---------\n"
     ]
    },
    {
     "data": {
      "text/markdown": [
       "#### Rural"
      ],
      "text/plain": [
       "<IPython.core.display.Markdown object>"
      ]
     },
     "metadata": {},
     "output_type": "display_data"
    },
    {
     "name": "stdout",
     "output_type": "stream",
     "text": [
      "-----------\n",
      "potential\n",
      "terms\n",
      "analysis\n",
      "areas\n",
      "surface\n",
      "era\n",
      "evolution\n",
      "powers\n",
      "concept\n",
      "perspective\n",
      "-----------\n"
     ]
    },
    {
     "data": {
      "text/markdown": [
       "# bliss"
      ],
      "text/plain": [
       "<IPython.core.display.Markdown object>"
      ]
     },
     "metadata": {},
     "output_type": "display_data"
    },
    {
     "data": {
      "text/markdown": [
       "#### Urban"
      ],
      "text/plain": [
       "<IPython.core.display.Markdown object>"
      ]
     },
     "metadata": {},
     "output_type": "display_data"
    },
    {
     "name": "stdout",
     "output_type": "stream",
     "text": [
      "----------\n",
      "alexa\n",
      "pure\n",
      "perfection\n",
      "beauty\n",
      "reigns\n",
      "sasha\n",
      "smackdown\n",
      "joy\n",
      "expression\n",
      "ignorance\n",
      "----------\n"
     ]
    },
    {
     "data": {
      "text/markdown": [
       "#### Rural"
      ],
      "text/plain": [
       "<IPython.core.display.Markdown object>"
      ]
     },
     "metadata": {},
     "output_type": "display_data"
    },
    {
     "name": "stdout",
     "output_type": "stream",
     "text": [
      "----------\n",
      "beauty\n",
      "pure\n",
      "suite\n",
      "happiness\n",
      "perfection\n",
      "goddess\n",
      "ralph\n",
      "beast\n",
      "alexa\n",
      "anne\n",
      "----------\n"
     ]
    },
    {
     "data": {
      "text/markdown": [
       "# waters"
      ],
      "text/plain": [
       "<IPython.core.display.Markdown object>"
      ]
     },
     "metadata": {},
     "output_type": "display_data"
    },
    {
     "data": {
      "text/markdown": [
       "#### Urban"
      ],
      "text/plain": [
       "<IPython.core.display.Markdown object>"
      ]
     },
     "metadata": {},
     "output_type": "display_data"
    },
    {
     "name": "stdout",
     "output_type": "stream",
     "text": [
      "-----------\n",
      "mountains\n",
      "storm\n",
      "harris\n",
      "storms\n",
      "chaos\n",
      "winds\n",
      "ocean\n",
      "hail\n",
      "destruction\n",
      "irma\n",
      "-----------\n"
     ]
    },
    {
     "data": {
      "text/markdown": [
       "#### Rural"
      ],
      "text/plain": [
       "<IPython.core.display.Markdown object>"
      ]
     },
     "metadata": {},
     "output_type": "display_data"
    },
    {
     "name": "stdout",
     "output_type": "stream",
     "text": [
      "-------------\n",
      "nancy\n",
      "schumer\n",
      "investigation\n",
      "pelosi\n",
      "maxine\n",
      "fires\n",
      "probe\n",
      "chaos\n",
      "collusion\n",
      "sen\n",
      "-------------\n"
     ]
    },
    {
     "data": {
      "text/markdown": [
       "# bruno"
      ],
      "text/plain": [
       "<IPython.core.display.Markdown object>"
      ]
     },
     "metadata": {},
     "output_type": "display_data"
    },
    {
     "data": {
      "text/markdown": [
       "#### Urban"
      ],
      "text/plain": [
       "<IPython.core.display.Markdown object>"
      ]
     },
     "metadata": {},
     "output_type": "display_data"
    },
    {
     "name": "stdout",
     "output_type": "stream",
     "text": [
      "------\n",
      "lana\n",
      "adele\n",
      "weeknd\n",
      "mars\n",
      "rey\n",
      "shawn\n",
      "sza\n",
      "grande\n",
      "travis\n",
      "liam\n",
      "------\n"
     ]
    },
    {
     "data": {
      "text/markdown": [
       "#### Rural"
      ],
      "text/plain": [
       "<IPython.core.display.Markdown object>"
      ]
     },
     "metadata": {},
     "output_type": "display_data"
    },
    {
     "name": "stdout",
     "output_type": "stream",
     "text": [
      "--------\n",
      "beyonc\n",
      "carrie\n",
      "drake\n",
      "rihanna\n",
      "mars\n",
      "acoustic\n",
      "lamar\n",
      "shawn\n",
      "danielle\n",
      "kanye\n",
      "--------\n"
     ]
    },
    {
     "data": {
      "text/markdown": [
       "# ho"
      ],
      "text/plain": [
       "<IPython.core.display.Markdown object>"
      ]
     },
     "metadata": {},
     "output_type": "display_data"
    },
    {
     "data": {
      "text/markdown": [
       "#### Urban"
      ],
      "text/plain": [
       "<IPython.core.display.Markdown object>"
      ]
     },
     "metadata": {},
     "output_type": "display_data"
    },
    {
     "name": "stdout",
     "output_type": "stream",
     "text": [
      "-----\n",
      "yuh\n",
      "hoe\n",
      "bih\n",
      "boi\n",
      "boa\n",
      "bitch\n",
      "gurl\n",
      "thot\n",
      "ta\n",
      "den\n",
      "-----\n"
     ]
    },
    {
     "data": {
      "text/markdown": [
       "#### Rural"
      ],
      "text/plain": [
       "<IPython.core.display.Markdown object>"
      ]
     },
     "metadata": {},
     "output_type": "display_data"
    },
    {
     "name": "stdout",
     "output_type": "stream",
     "text": [
      "---\n",
      "je\n",
      "tu\n",
      "ke\n",
      "ni\n",
      "dia\n",
      "ta\n",
      "po\n",
      "ay\n",
      "mas\n",
      "si\n",
      "---\n"
     ]
    },
    {
     "data": {
      "text/markdown": [
       "# bond"
      ],
      "text/plain": [
       "<IPython.core.display.Markdown object>"
      ]
     },
     "metadata": {},
     "output_type": "display_data"
    },
    {
     "data": {
      "text/markdown": [
       "#### Urban"
      ],
      "text/plain": [
       "<IPython.core.display.Markdown object>"
      ]
     },
     "metadata": {},
     "output_type": "display_data"
    },
    {
     "name": "stdout",
     "output_type": "stream",
     "text": [
      "---------\n",
      "evans\n",
      "cameron\n",
      "james\n",
      "baldwin\n",
      "contract\n",
      "murray\n",
      "founder\n",
      "potential\n",
      "adam\n",
      "casey\n",
      "---------\n"
     ]
    },
    {
     "data": {
      "text/markdown": [
       "#### Rural"
      ],
      "text/plain": [
       "<IPython.core.display.Markdown object>"
      ]
     },
     "metadata": {},
     "output_type": "display_data"
    },
    {
     "name": "stdout",
     "output_type": "stream",
     "text": [
      "----------\n",
      "contract\n",
      "agreement\n",
      "friendship\n",
      "divorce\n",
      "replacing\n",
      "connection\n",
      "recovery\n",
      "parker\n",
      "increased\n",
      "guardian\n",
      "----------\n"
     ]
    },
    {
     "data": {
      "text/markdown": [
       "# witness"
      ],
      "text/plain": [
       "<IPython.core.display.Markdown object>"
      ]
     },
     "metadata": {},
     "output_type": "display_data"
    },
    {
     "data": {
      "text/markdown": [
       "#### Urban"
      ],
      "text/plain": [
       "<IPython.core.display.Markdown object>"
      ]
     },
     "metadata": {},
     "output_type": "display_data"
    },
    {
     "name": "stdout",
     "output_type": "stream",
     "text": [
      "----------\n",
      "testimony\n",
      "denied\n",
      "victim\n",
      "attack\n",
      "weapon\n",
      "murder\n",
      "commit\n",
      "prosecutor\n",
      "admits\n",
      "exposed\n",
      "----------\n"
     ]
    },
    {
     "data": {
      "text/markdown": [
       "#### Rural"
      ],
      "text/plain": [
       "<IPython.core.display.Markdown object>"
      ]
     },
     "metadata": {},
     "output_type": "display_data"
    },
    {
     "name": "stdout",
     "output_type": "stream",
     "text": [
      "---------\n",
      "testimony\n",
      "recognize\n",
      "praise\n",
      "threat\n",
      "overcome\n",
      "commit\n",
      "revealed\n",
      "leader\n",
      "soldier\n",
      "belief\n",
      "---------\n"
     ]
    },
    {
     "data": {
      "text/markdown": [
       "# resident"
      ],
      "text/plain": [
       "<IPython.core.display.Markdown object>"
      ]
     },
     "metadata": {},
     "output_type": "display_data"
    },
    {
     "data": {
      "text/markdown": [
       "#### Urban"
      ],
      "text/plain": [
       "<IPython.core.display.Markdown object>"
      ]
     },
     "metadata": {},
     "output_type": "display_data"
    },
    {
     "name": "stdout",
     "output_type": "stream",
     "text": [
      "-----------\n",
      "speaker\n",
      "ops\n",
      "wizard\n",
      "warfare\n",
      "witch\n",
      "pt\n",
      "injustice\n",
      "trailer\n",
      "playstation\n",
      "director\n",
      "-----------\n"
     ]
    },
    {
     "data": {
      "text/markdown": [
       "#### Rural"
      ],
      "text/plain": [
       "<IPython.core.display.Markdown object>"
      ]
     },
     "metadata": {},
     "output_type": "display_data"
    },
    {
     "name": "stdout",
     "output_type": "stream",
     "text": [
      "-----------\n",
      "survivor\n",
      "alpha\n",
      "soldier\n",
      "warrior\n",
      "playstation\n",
      "veteran\n",
      "empire\n",
      "native\n",
      "pastor\n",
      "mayor\n",
      "-----------\n"
     ]
    },
    {
     "data": {
      "text/markdown": [
       "# specifically"
      ],
      "text/plain": [
       "<IPython.core.display.Markdown object>"
      ]
     },
     "metadata": {},
     "output_type": "display_data"
    },
    {
     "data": {
      "text/markdown": [
       "#### Urban"
      ],
      "text/plain": [
       "<IPython.core.display.Markdown object>"
      ]
     },
     "metadata": {},
     "output_type": "display_data"
    },
    {
     "name": "stdout",
     "output_type": "stream",
     "text": [
      "-----------\n",
      "specific\n",
      "similar\n",
      "originally\n",
      "mainly\n",
      "particular\n",
      "poc\n",
      "generally\n",
      "religious\n",
      "appropriate\n",
      "targeting\n",
      "-----------\n"
     ]
    },
    {
     "data": {
      "text/markdown": [
       "#### Rural"
      ],
      "text/plain": [
       "<IPython.core.display.Markdown object>"
      ]
     },
     "metadata": {},
     "output_type": "display_data"
    },
    {
     "name": "stdout",
     "output_type": "stream",
     "text": [
      "-----------\n",
      "specific\n",
      "appropriate\n",
      "racial\n",
      "hitler\n",
      "religious\n",
      "reference\n",
      "correctly\n",
      "jews\n",
      "foreign\n",
      "blacks\n",
      "-----------\n"
     ]
    },
    {
     "data": {
      "text/markdown": [
       "# according"
      ],
      "text/plain": [
       "<IPython.core.display.Markdown object>"
      ]
     },
     "metadata": {},
     "output_type": "display_data"
    },
    {
     "data": {
      "text/markdown": [
       "#### Urban"
      ],
      "text/plain": [
       "<IPython.core.display.Markdown object>"
      ]
     },
     "metadata": {},
     "output_type": "display_data"
    },
    {
     "name": "stdout",
     "output_type": "stream",
     "text": [
      "---------\n",
      "linked\n",
      "compared\n",
      "suggests\n",
      "adds\n",
      "referring\n",
      "reacts\n",
      "responds\n",
      "opposed\n",
      "uses\n",
      "confirms\n",
      "---------\n"
     ]
    },
    {
     "data": {
      "text/markdown": [
       "#### Rural"
      ],
      "text/plain": [
       "<IPython.core.display.Markdown object>"
      ]
     },
     "metadata": {},
     "output_type": "display_data"
    },
    {
     "name": "stdout",
     "output_type": "stream",
     "text": [
      "---------\n",
      "compared\n",
      "linked\n",
      "referring\n",
      "related\n",
      "report\n",
      "promote\n",
      "due\n",
      "uses\n",
      "entitled\n",
      "prior\n",
      "---------\n"
     ]
    },
    {
     "data": {
      "text/markdown": [
       "# marks"
      ],
      "text/plain": [
       "<IPython.core.display.Markdown object>"
      ]
     },
     "metadata": {},
     "output_type": "display_data"
    },
    {
     "data": {
      "text/markdown": [
       "#### Urban"
      ],
      "text/plain": [
       "<IPython.core.display.Markdown object>"
      ]
     },
     "metadata": {},
     "output_type": "display_data"
    },
    {
     "name": "stdout",
     "output_type": "stream",
     "text": [
      "----------\n",
      "stretch\n",
      "eight\n",
      "past\n",
      "final\n",
      "nine\n",
      "lowest\n",
      "resolution\n",
      "7th\n",
      "3x\n",
      "6th\n",
      "----------\n"
     ]
    },
    {
     "data": {
      "text/markdown": [
       "#### Rural"
      ],
      "text/plain": [
       "<IPython.core.display.Markdown object>"
      ]
     },
     "metadata": {},
     "output_type": "display_data"
    },
    {
     "name": "stdout",
     "output_type": "stream",
     "text": [
      "-----------\n",
      "celebrates\n",
      "six\n",
      "workouts\n",
      "sleeve\n",
      "celebrating\n",
      "nine\n",
      "365\n",
      "recap\n",
      "anniversary\n",
      "eight\n",
      "-----------\n"
     ]
    },
    {
     "data": {
      "text/markdown": [
       "# 80s"
      ],
      "text/plain": [
       "<IPython.core.display.Markdown object>"
      ]
     },
     "metadata": {},
     "output_type": "display_data"
    },
    {
     "data": {
      "text/markdown": [
       "#### Urban"
      ],
      "text/plain": [
       "<IPython.core.display.Markdown object>"
      ]
     },
     "metadata": {},
     "output_type": "display_data"
    },
    {
     "name": "stdout",
     "output_type": "stream",
     "text": [
      "-----------\n",
      "70s\n",
      "90s\n",
      "punk\n",
      "classic\n",
      "1995\n",
      "underground\n",
      "1997\n",
      "disco\n",
      "jazz\n",
      "opera\n",
      "-----------\n"
     ]
    },
    {
     "data": {
      "text/markdown": [
       "#### Rural"
      ],
      "text/plain": [
       "<IPython.core.display.Markdown object>"
      ]
     },
     "metadata": {},
     "output_type": "display_data"
    },
    {
     "name": "stdout",
     "output_type": "stream",
     "text": [
      "--------\n",
      "90s\n",
      "anime\n",
      "musical\n",
      "retro\n",
      "acoustic\n",
      "theater\n",
      "film\n",
      "jazz\n",
      "films\n",
      "beatles\n",
      "--------\n"
     ]
    },
    {
     "data": {
      "text/markdown": [
       "# tracking"
      ],
      "text/plain": [
       "<IPython.core.display.Markdown object>"
      ]
     },
     "metadata": {},
     "output_type": "display_data"
    },
    {
     "data": {
      "text/markdown": [
       "#### Urban"
      ],
      "text/plain": [
       "<IPython.core.display.Markdown object>"
      ]
     },
     "metadata": {},
     "output_type": "display_data"
    },
    {
     "name": "stdout",
     "output_type": "stream",
     "text": [
      "----------\n",
      "automation\n",
      "mobile\n",
      "desktop\n",
      "device\n",
      "devices\n",
      "analytics\n",
      "software\n",
      "enterprise\n",
      "microsoft\n",
      "updates\n",
      "----------\n"
     ]
    },
    {
     "data": {
      "text/markdown": [
       "#### Rural"
      ],
      "text/plain": [
       "<IPython.core.display.Markdown object>"
      ]
     },
     "metadata": {},
     "output_type": "display_data"
    },
    {
     "name": "stdout",
     "output_type": "stream",
     "text": [
      "---------\n",
      "radar\n",
      "monitor\n",
      "testing\n",
      "updated\n",
      "cloud\n",
      "traffic\n",
      "flooding\n",
      "lighting\n",
      "reporting\n",
      "using\n",
      "---------\n"
     ]
    },
    {
     "data": {
      "text/markdown": [
       "# nicely"
      ],
      "text/plain": [
       "<IPython.core.display.Markdown object>"
      ]
     },
     "metadata": {},
     "output_type": "display_data"
    },
    {
     "data": {
      "text/markdown": [
       "#### Urban"
      ],
      "text/plain": [
       "<IPython.core.display.Markdown object>"
      ]
     },
     "metadata": {},
     "output_type": "display_data"
    },
    {
     "name": "stdout",
     "output_type": "stream",
     "text": [
      "-----------\n",
      "poorly\n",
      "beautifully\n",
      "quickly\n",
      "perfectly\n",
      "well\n",
      "smooth\n",
      "slowly\n",
      "fresh\n",
      "neat\n",
      "fitting\n",
      "-----------\n"
     ]
    },
    {
     "data": {
      "text/markdown": [
       "#### Rural"
      ],
      "text/plain": [
       "<IPython.core.display.Markdown object>"
      ]
     },
     "metadata": {},
     "output_type": "display_data"
    },
    {
     "name": "stdout",
     "output_type": "stream",
     "text": [
      "---------\n",
      "quickly\n",
      "perfectly\n",
      "well\n",
      "smooth\n",
      "soon\n",
      "fresh\n",
      "newly\n",
      "laundry\n",
      "quick\n",
      "early\n",
      "---------\n"
     ]
    },
    {
     "data": {
      "text/markdown": [
       "# credits"
      ],
      "text/plain": [
       "<IPython.core.display.Markdown object>"
      ]
     },
     "metadata": {},
     "output_type": "display_data"
    },
    {
     "data": {
      "text/markdown": [
       "#### Urban"
      ],
      "text/plain": [
       "<IPython.core.display.Markdown object>"
      ]
     },
     "metadata": {},
     "output_type": "display_data"
    },
    {
     "name": "stdout",
     "output_type": "stream",
     "text": [
      "----------\n",
      "production\n",
      "papers\n",
      "pages\n",
      "notes\n",
      "letters\n",
      "fees\n",
      "eps\n",
      "files\n",
      "documents\n",
      "reviews\n",
      "----------\n"
     ]
    },
    {
     "data": {
      "text/markdown": [
       "#### Rural"
      ],
      "text/plain": [
       "<IPython.core.display.Markdown object>"
      ]
     },
     "metadata": {},
     "output_type": "display_data"
    },
    {
     "name": "stdout",
     "output_type": "stream",
     "text": [
      "-----------\n",
      "fees\n",
      "fee\n",
      "bonus\n",
      "credit\n",
      "cash\n",
      "income\n",
      "dollars\n",
      "scholarship\n",
      "exchange\n",
      "loans\n",
      "-----------\n"
     ]
    },
    {
     "data": {
      "text/markdown": [
       "# station"
      ],
      "text/plain": [
       "<IPython.core.display.Markdown object>"
      ]
     },
     "metadata": {},
     "output_type": "display_data"
    },
    {
     "data": {
      "text/markdown": [
       "#### Urban"
      ],
      "text/plain": [
       "<IPython.core.display.Markdown object>"
      ]
     },
     "metadata": {},
     "output_type": "display_data"
    },
    {
     "name": "stdout",
     "output_type": "stream",
     "text": [
      "--------\n",
      "stations\n",
      "highway\n",
      "terminal\n",
      "uptown\n",
      "rail\n",
      "port\n",
      "metro\n",
      "subway\n",
      "plaza\n",
      "bridge\n",
      "--------\n"
     ]
    },
    {
     "data": {
      "text/markdown": [
       "#### Rural"
      ],
      "text/plain": [
       "<IPython.core.display.Markdown object>"
      ]
     },
     "metadata": {},
     "output_type": "display_data"
    },
    {
     "name": "stdout",
     "output_type": "stream",
     "text": [
      "----------\n",
      "fire\n",
      "park\n",
      "department\n",
      "airport\n",
      "mount\n",
      "port\n",
      "alarm\n",
      "units\n",
      "city\n",
      "gate\n",
      "----------\n"
     ]
    },
    {
     "data": {
      "text/markdown": [
       "# das"
      ],
      "text/plain": [
       "<IPython.core.display.Markdown object>"
      ]
     },
     "metadata": {},
     "output_type": "display_data"
    },
    {
     "data": {
      "text/markdown": [
       "#### Urban"
      ],
      "text/plain": [
       "<IPython.core.display.Markdown object>"
      ]
     },
     "metadata": {},
     "output_type": "display_data"
    },
    {
     "name": "stdout",
     "output_type": "stream",
     "text": [
      "------\n",
      "ay\n",
      "ik\n",
      "mal\n",
      "gurl\n",
      "nunca\n",
      "den\n",
      "ta\n",
      "boa\n",
      "estoy\n",
      "porque\n",
      "------\n"
     ]
    },
    {
     "data": {
      "text/markdown": [
       "#### Rural"
      ],
      "text/plain": [
       "<IPython.core.display.Markdown object>"
      ]
     },
     "metadata": {},
     "output_type": "display_data"
    },
    {
     "name": "stdout",
     "output_type": "stream",
     "text": [
      "----\n",
      "ay\n",
      "und\n",
      "ke\n",
      "dia\n",
      "ni\n",
      "je\n",
      "mas\n",
      "ik\n",
      "yang\n",
      "doe\n",
      "----\n"
     ]
    },
    {
     "data": {
      "text/markdown": [
       "# f"
      ],
      "text/plain": [
       "<IPython.core.display.Markdown object>"
      ]
     },
     "metadata": {},
     "output_type": "display_data"
    },
    {
     "data": {
      "text/markdown": [
       "#### Urban"
      ],
      "text/plain": [
       "<IPython.core.display.Markdown object>"
      ]
     },
     "metadata": {},
     "output_type": "display_data"
    },
    {
     "name": "stdout",
     "output_type": "stream",
     "text": [
      "--\n",
      "h\n",
      "k\n",
      "p\n",
      "e\n",
      "g\n",
      "ck\n",
      "o\n",
      "b\n",
      "j\n",
      "n\n",
      "--\n"
     ]
    },
    {
     "data": {
      "text/markdown": [
       "#### Rural"
      ],
      "text/plain": [
       "<IPython.core.display.Markdown object>"
      ]
     },
     "metadata": {},
     "output_type": "display_data"
    },
    {
     "name": "stdout",
     "output_type": "stream",
     "text": [
      "--------\n",
      "dewpoint\n",
      "pct\n",
      "73\n",
      "74\n",
      "71\n",
      "84\n",
      "78\n",
      "mwd\n",
      "degrees\n",
      "77\n",
      "--------\n"
     ]
    },
    {
     "data": {
      "text/markdown": [
       "# route"
      ],
      "text/plain": [
       "<IPython.core.display.Markdown object>"
      ]
     },
     "metadata": {},
     "output_type": "display_data"
    },
    {
     "data": {
      "text/markdown": [
       "#### Urban"
      ],
      "text/plain": [
       "<IPython.core.display.Markdown object>"
      ]
     },
     "metadata": {},
     "output_type": "display_data"
    },
    {
     "name": "stdout",
     "output_type": "stream",
     "text": [
      "-------\n",
      "freeway\n",
      "nb\n",
      "highway\n",
      "sb\n",
      "buses\n",
      "traffic\n",
      "eb\n",
      "vehicle\n",
      "wb\n",
      "av\n",
      "-------\n"
     ]
    },
    {
     "data": {
      "text/markdown": [
       "#### Rural"
      ],
      "text/plain": [
       "<IPython.core.display.Markdown object>"
      ]
     },
     "metadata": {},
     "output_type": "display_data"
    },
    {
     "name": "stdout",
     "output_type": "stream",
     "text": [
      "-------\n",
      "highway\n",
      "hwy\n",
      "rd\n",
      "exit\n",
      "avenue\n",
      "lane\n",
      "bridge\n",
      "acres\n",
      "ave\n",
      "vehicle\n",
      "-------\n"
     ]
    },
    {
     "data": {
      "text/markdown": [
       "# prospects"
      ],
      "text/plain": [
       "<IPython.core.display.Markdown object>"
      ]
     },
     "metadata": {},
     "output_type": "display_data"
    },
    {
     "data": {
      "text/markdown": [
       "#### Urban"
      ],
      "text/plain": [
       "<IPython.core.display.Markdown object>"
      ]
     },
     "metadata": {},
     "output_type": "display_data"
    },
    {
     "name": "stdout",
     "output_type": "stream",
     "text": [
      "----------\n",
      "trades\n",
      "players\n",
      "teams\n",
      "prospect\n",
      "picks\n",
      "contracts\n",
      "coaches\n",
      "candidates\n",
      "options\n",
      "wr\n",
      "----------\n"
     ]
    },
    {
     "data": {
      "text/markdown": [
       "#### Rural"
      ],
      "text/plain": [
       "<IPython.core.display.Markdown object>"
      ]
     },
     "metadata": {},
     "output_type": "display_data"
    },
    {
     "name": "stdout",
     "output_type": "stream",
     "text": [
      "---------\n",
      "pros\n",
      "reps\n",
      "biz\n",
      "websites\n",
      "rates\n",
      "sales\n",
      "clients\n",
      "employees\n",
      "mortgage\n",
      "customers\n",
      "---------\n"
     ]
    },
    {
     "data": {
      "text/markdown": [
       "# swift"
      ],
      "text/plain": [
       "<IPython.core.display.Markdown object>"
      ]
     },
     "metadata": {},
     "output_type": "display_data"
    },
    {
     "data": {
      "text/markdown": [
       "#### Urban"
      ],
      "text/plain": [
       "<IPython.core.display.Markdown object>"
      ]
     },
     "metadata": {},
     "output_type": "display_data"
    },
    {
     "name": "stdout",
     "output_type": "stream",
     "text": [
      "-------\n",
      "selena\n",
      "mariah\n",
      "minaj\n",
      "beyonc\n",
      "julia\n",
      "miley\n",
      "justin\n",
      "ann\n",
      "rihanna\n",
      "beyonce\n",
      "-------\n"
     ]
    },
    {
     "data": {
      "text/markdown": [
       "#### Rural"
      ],
      "text/plain": [
       "<IPython.core.display.Markdown object>"
      ]
     },
     "metadata": {},
     "output_type": "display_data"
    },
    {
     "name": "stdout",
     "output_type": "stream",
     "text": [
      "------------\n",
      "drake\n",
      "taylor\n",
      "trey\n",
      "katy\n",
      "instrumental\n",
      "beyonc\n",
      "kendrick\n",
      "spotify\n",
      "remix\n",
      "song\n",
      "------------\n"
     ]
    },
    {
     "data": {
      "text/markdown": [
       "# wolf"
      ],
      "text/plain": [
       "<IPython.core.display.Markdown object>"
      ]
     },
     "metadata": {},
     "output_type": "display_data"
    },
    {
     "data": {
      "text/markdown": [
       "#### Urban"
      ],
      "text/plain": [
       "<IPython.core.display.Markdown object>"
      ]
     },
     "metadata": {},
     "output_type": "display_data"
    },
    {
     "name": "stdout",
     "output_type": "stream",
     "text": [
      "-------\n",
      "eyed\n",
      "blue\n",
      "heather\n",
      "alice\n",
      "rebel\n",
      "jean\n",
      "walker\n",
      "ivy\n",
      "knight\n",
      "robin\n",
      "-------\n"
     ]
    },
    {
     "data": {
      "text/markdown": [
       "#### Rural"
      ],
      "text/plain": [
       "<IPython.core.display.Markdown object>"
      ]
     },
     "metadata": {},
     "output_type": "display_data"
    },
    {
     "name": "stdout",
     "output_type": "stream",
     "text": [
      "--------\n",
      "lone\n",
      "bear\n",
      "mountain\n",
      "spider\n",
      "wolves\n",
      "shark\n",
      "deer\n",
      "survivor\n",
      "tiger\n",
      "tornado\n",
      "--------\n"
     ]
    },
    {
     "data": {
      "text/markdown": [
       "# brief"
      ],
      "text/plain": [
       "<IPython.core.display.Markdown object>"
      ]
     },
     "metadata": {},
     "output_type": "display_data"
    },
    {
     "data": {
      "text/markdown": [
       "#### Urban"
      ],
      "text/plain": [
       "<IPython.core.display.Markdown object>"
      ]
     },
     "metadata": {},
     "output_type": "display_data"
    },
    {
     "name": "stdout",
     "output_type": "stream",
     "text": [
      "-------------\n",
      "analysis\n",
      "initial\n",
      "newspaper\n",
      "summary\n",
      "reuters\n",
      "breach\n",
      "controversial\n",
      "guardian\n",
      "regarding\n",
      "icymi\n",
      "-------------\n"
     ]
    },
    {
     "data": {
      "text/markdown": [
       "#### Rural"
      ],
      "text/plain": [
       "<IPython.core.display.Markdown object>"
      ]
     },
     "metadata": {},
     "output_type": "display_data"
    },
    {
     "name": "stdout",
     "output_type": "stream",
     "text": [
      "-------------\n",
      "analysis\n",
      "minor\n",
      "discussion\n",
      "panel\n",
      "environmental\n",
      "discovery\n",
      "regarding\n",
      "major\n",
      "report\n",
      "review\n",
      "-------------\n"
     ]
    },
    {
     "data": {
      "text/markdown": [
       "# dentist"
      ],
      "text/plain": [
       "<IPython.core.display.Markdown object>"
      ]
     },
     "metadata": {},
     "output_type": "display_data"
    },
    {
     "data": {
      "text/markdown": [
       "#### Urban"
      ],
      "text/plain": [
       "<IPython.core.display.Markdown object>"
      ]
     },
     "metadata": {},
     "output_type": "display_data"
    },
    {
     "name": "stdout",
     "output_type": "stream",
     "text": [
      "--------\n",
      "doctor\n",
      "roommate\n",
      "coworker\n",
      "gym\n",
      "desk\n",
      "grandma\n",
      "home\n",
      "bathroom\n",
      "cashier\n",
      "grandpa\n",
      "--------\n"
     ]
    },
    {
     "data": {
      "text/markdown": [
       "#### Rural"
      ],
      "text/plain": [
       "<IPython.core.display.Markdown object>"
      ]
     },
     "metadata": {},
     "output_type": "display_data"
    },
    {
     "name": "stdout",
     "output_type": "stream",
     "text": [
      "----------\n",
      "doctor\n",
      "hospital\n",
      "dental\n",
      "nurse\n",
      "salon\n",
      "vet\n",
      "gym\n",
      "client\n",
      "supervisor\n",
      "office\n",
      "----------\n"
     ]
    },
    {
     "data": {
      "text/markdown": [
       "# accident"
      ],
      "text/plain": [
       "<IPython.core.display.Markdown object>"
      ]
     },
     "metadata": {},
     "output_type": "display_data"
    },
    {
     "data": {
      "text/markdown": [
       "#### Urban"
      ],
      "text/plain": [
       "<IPython.core.display.Markdown object>"
      ]
     },
     "metadata": {},
     "output_type": "display_data"
    },
    {
     "name": "stdout",
     "output_type": "stream",
     "text": [
      "--------\n",
      "crash\n",
      "incident\n",
      "freeway\n",
      "eb\n",
      "nb\n",
      "wb\n",
      "fwy\n",
      "cleared\n",
      "highway\n",
      "lanes\n",
      "--------\n"
     ]
    },
    {
     "data": {
      "text/markdown": [
       "#### Rural"
      ],
      "text/plain": [
       "<IPython.core.display.Markdown object>"
      ]
     },
     "metadata": {},
     "output_type": "display_data"
    },
    {
     "name": "stdout",
     "output_type": "stream",
     "text": [
      "--------\n",
      "crash\n",
      "incident\n",
      "wreck\n",
      "injured\n",
      "exit\n",
      "highway\n",
      "hwy\n",
      "reported\n",
      "suspect\n",
      "traffic\n",
      "--------\n"
     ]
    },
    {
     "data": {
      "text/markdown": [
       "# nerd"
      ],
      "text/plain": [
       "<IPython.core.display.Markdown object>"
      ]
     },
     "metadata": {},
     "output_type": "display_data"
    },
    {
     "data": {
      "text/markdown": [
       "#### Urban"
      ],
      "text/plain": [
       "<IPython.core.display.Markdown object>"
      ]
     },
     "metadata": {},
     "output_type": "display_data"
    },
    {
     "name": "stdout",
     "output_type": "stream",
     "text": [
      "---------\n",
      "weirdo\n",
      "anime\n",
      "feminist\n",
      "psycho\n",
      "villain\n",
      "cartoon\n",
      "badass\n",
      "queer\n",
      "superhero\n",
      "hardcore\n",
      "---------\n"
     ]
    },
    {
     "data": {
      "text/markdown": [
       "#### Rural"
      ],
      "text/plain": [
       "<IPython.core.display.Markdown object>"
      ]
     },
     "metadata": {},
     "output_type": "display_data"
    },
    {
     "name": "stdout",
     "output_type": "stream",
     "text": [
      "--------\n",
      "emo\n",
      "badass\n",
      "slut\n",
      "xd\n",
      "lesbian\n",
      "lover\n",
      "psycho\n",
      "hardcore\n",
      "anime\n",
      "goofy\n",
      "--------\n"
     ]
    },
    {
     "data": {
      "text/markdown": [
       "# now"
      ],
      "text/plain": [
       "<IPython.core.display.Markdown object>"
      ]
     },
     "metadata": {},
     "output_type": "display_data"
    },
    {
     "data": {
      "text/markdown": [
       "#### Urban"
      ],
      "text/plain": [
       "<IPython.core.display.Markdown object>"
      ]
     },
     "metadata": {},
     "output_type": "display_data"
    },
    {
     "name": "stdout",
     "output_type": "stream",
     "text": [
      "---------\n",
      "here\n",
      "alt\n",
      "wing\n",
      "currently\n",
      "still\n",
      "itunes\n",
      "already\n",
      "asap\n",
      "rn\n",
      "tomorrow\n",
      "---------\n"
     ]
    },
    {
     "data": {
      "text/markdown": [
       "#### Rural"
      ],
      "text/plain": [
       "<IPython.core.display.Markdown object>"
      ]
     },
     "metadata": {},
     "output_type": "display_data"
    },
    {
     "name": "stdout",
     "output_type": "stream",
     "text": [
      "---------\n",
      "here\n",
      "still\n",
      "alt\n",
      "currently\n",
      "wing\n",
      "already\n",
      "patiently\n",
      "danz\n",
      "rn\n",
      "corner\n",
      "---------\n"
     ]
    },
    {
     "data": {
      "text/markdown": [
       "# fire"
      ],
      "text/plain": [
       "<IPython.core.display.Markdown object>"
      ]
     },
     "metadata": {},
     "output_type": "display_data"
    },
    {
     "data": {
      "text/markdown": [
       "#### Urban"
      ],
      "text/plain": [
       "<IPython.core.display.Markdown object>"
      ]
     },
     "metadata": {},
     "output_type": "display_data"
    },
    {
     "name": "stdout",
     "output_type": "stream",
     "text": [
      "-------\n",
      "burning\n",
      "flames\n",
      "flame\n",
      "roof\n",
      "raid\n",
      "killer\n",
      "alarm\n",
      "freeway\n",
      "heavy\n",
      "van\n",
      "-------\n"
     ]
    },
    {
     "data": {
      "text/markdown": [
       "#### Rural"
      ],
      "text/plain": [
       "<IPython.core.display.Markdown object>"
      ]
     },
     "metadata": {},
     "output_type": "display_data"
    },
    {
     "name": "stdout",
     "output_type": "stream",
     "text": [
      "----------\n",
      "structure\n",
      "highway\n",
      "units\n",
      "hwy\n",
      "station\n",
      "roof\n",
      "birmingham\n",
      "rd\n",
      "police\n",
      "air\n",
      "----------\n"
     ]
    },
    {
     "data": {
      "text/markdown": [
       "# conditions"
      ],
      "text/plain": [
       "<IPython.core.display.Markdown object>"
      ]
     },
     "metadata": {},
     "output_type": "display_data"
    },
    {
     "data": {
      "text/markdown": [
       "#### Urban"
      ],
      "text/plain": [
       "<IPython.core.display.Markdown object>"
      ]
     },
     "metadata": {},
     "output_type": "display_data"
    },
    {
     "name": "stdout",
     "output_type": "stream",
     "text": [
      "-------------\n",
      "areas\n",
      "symptoms\n",
      "circumstances\n",
      "existing\n",
      "condition\n",
      "buses\n",
      "cases\n",
      "effects\n",
      "capacity\n",
      "flooding\n",
      "-------------\n"
     ]
    },
    {
     "data": {
      "text/markdown": [
       "#### Rural"
      ],
      "text/plain": [
       "<IPython.core.display.Markdown object>"
      ]
     },
     "metadata": {},
     "output_type": "display_data"
    },
    {
     "name": "stdout",
     "output_type": "stream",
     "text": [
      "--------\n",
      "areas\n",
      "overcast\n",
      "storms\n",
      "flooding\n",
      "skies\n",
      "fog\n",
      "moderate\n",
      "storm\n",
      "clouds\n",
      "rates\n",
      "--------\n"
     ]
    },
    {
     "data": {
      "text/markdown": [
       "# complete"
      ],
      "text/plain": [
       "<IPython.core.display.Markdown object>"
      ]
     },
     "metadata": {},
     "output_type": "display_data"
    },
    {
     "data": {
      "text/markdown": [
       "#### Urban"
      ],
      "text/plain": [
       "<IPython.core.display.Markdown object>"
      ]
     },
     "metadata": {},
     "output_type": "display_data"
    },
    {
     "name": "stdout",
     "output_type": "stream",
     "text": [
      "----------\n",
      "total\n",
      "useless\n",
      "ultimate\n",
      "crucial\n",
      "practical\n",
      "full\n",
      "survival\n",
      "absurd\n",
      "critical\n",
      "management\n",
      "----------\n"
     ]
    },
    {
     "data": {
      "text/markdown": [
       "#### Rural"
      ],
      "text/plain": [
       "<IPython.core.display.Markdown object>"
      ]
     },
     "metadata": {},
     "output_type": "display_data"
    },
    {
     "name": "stdout",
     "output_type": "stream",
     "text": [
      "----------\n",
      "total\n",
      "full\n",
      "pure\n",
      "useless\n",
      "failure\n",
      "perfection\n",
      "itself\n",
      "combined\n",
      "survival\n",
      "creating\n",
      "----------\n"
     ]
    },
    {
     "data": {
      "text/markdown": [
       "# trigger"
      ],
      "text/plain": [
       "<IPython.core.display.Markdown object>"
      ]
     },
     "metadata": {},
     "output_type": "display_data"
    },
    {
     "data": {
      "text/markdown": [
       "#### Urban"
      ],
      "text/plain": [
       "<IPython.core.display.Markdown object>"
      ]
     },
     "metadata": {},
     "output_type": "display_data"
    },
    {
     "name": "stdout",
     "output_type": "stream",
     "text": [
      "-------\n",
      "shed\n",
      "reverse\n",
      "signal\n",
      "limit\n",
      "predict\n",
      "onto\n",
      "confirm\n",
      "up\n",
      "down\n",
      "loose\n",
      "-------\n"
     ]
    },
    {
     "data": {
      "text/markdown": [
       "#### Rural"
      ],
      "text/plain": [
       "<IPython.core.display.Markdown object>"
      ]
     },
     "metadata": {},
     "output_type": "display_data"
    },
    {
     "name": "stdout",
     "output_type": "stream",
     "text": [
      "---------\n",
      "signal\n",
      "reverse\n",
      "ceiling\n",
      "lightning\n",
      "edge\n",
      "flash\n",
      "dice\n",
      "loose\n",
      "plug\n",
      "massive\n",
      "---------\n"
     ]
    },
    {
     "data": {
      "text/markdown": [
       "# linked"
      ],
      "text/plain": [
       "<IPython.core.display.Markdown object>"
      ]
     },
     "metadata": {},
     "output_type": "display_data"
    },
    {
     "data": {
      "text/markdown": [
       "#### Urban"
      ],
      "text/plain": [
       "<IPython.core.display.Markdown object>"
      ]
     },
     "metadata": {},
     "output_type": "display_data"
    },
    {
     "name": "stdout",
     "output_type": "stream",
     "text": [
      "-----------\n",
      "according\n",
      "suggests\n",
      "targeted\n",
      "reported\n",
      "related\n",
      "targeting\n",
      "threatening\n",
      "responds\n",
      "reuters\n",
      "exposed\n",
      "-----------\n"
     ]
    },
    {
     "data": {
      "text/markdown": [
       "#### Rural"
      ],
      "text/plain": [
       "<IPython.core.display.Markdown object>"
      ]
     },
     "metadata": {},
     "output_type": "display_data"
    },
    {
     "name": "stdout",
     "output_type": "stream",
     "text": [
      "---------\n",
      "according\n",
      "related\n",
      "hacking\n",
      "exposed\n",
      "claims\n",
      "probe\n",
      "leaked\n",
      "appeal\n",
      "raises\n",
      "report\n",
      "---------\n"
     ]
    },
    {
     "data": {
      "text/markdown": [
       "# pi"
      ],
      "text/plain": [
       "<IPython.core.display.Markdown object>"
      ]
     },
     "metadata": {},
     "output_type": "display_data"
    },
    {
     "data": {
      "text/markdown": [
       "#### Urban"
      ],
      "text/plain": [
       "<IPython.core.display.Markdown object>"
      ]
     },
     "metadata": {},
     "output_type": "display_data"
    },
    {
     "name": "stdout",
     "output_type": "stream",
     "text": [
      "-------\n",
      "funk\n",
      "dj\n",
      "pub\n",
      "mac\n",
      "saint\n",
      "dee\n",
      "ipa\n",
      "echo\n",
      "brewing\n",
      "mix\n",
      "-------\n"
     ]
    },
    {
     "data": {
      "text/markdown": [
       "#### Rural"
      ],
      "text/plain": [
       "<IPython.core.display.Markdown object>"
      ]
     },
     "metadata": {},
     "output_type": "display_data"
    },
    {
     "name": "stdout",
     "output_type": "stream",
     "text": [
      "------\n",
      "po\n",
      "mayo\n",
      "os\n",
      "b\n",
      "chip\n",
      "sample\n",
      "je\n",
      "par\n",
      "g\n",
      "mango\n",
      "------\n"
     ]
    },
    {
     "data": {
      "text/markdown": [
       "# cast"
      ],
      "text/plain": [
       "<IPython.core.display.Markdown object>"
      ]
     },
     "metadata": {},
     "output_type": "display_data"
    },
    {
     "data": {
      "text/markdown": [
       "#### Urban"
      ],
      "text/plain": [
       "<IPython.core.display.Markdown object>"
      ]
     },
     "metadata": {},
     "output_type": "display_data"
    },
    {
     "name": "stdout",
     "output_type": "stream",
     "text": [
      "-----------\n",
      "crew\n",
      "film\n",
      "segment\n",
      "character\n",
      "musical\n",
      "producer\n",
      "actor\n",
      "pod\n",
      "villain\n",
      "performance\n",
      "-----------\n"
     ]
    },
    {
     "data": {
      "text/markdown": [
       "#### Rural"
      ],
      "text/plain": [
       "<IPython.core.display.Markdown object>"
      ]
     },
     "metadata": {},
     "output_type": "display_data"
    },
    {
     "name": "stdout",
     "output_type": "stream",
     "text": [
      "-----------\n",
      "mark\n",
      "performance\n",
      "fate\n",
      "heroes\n",
      "favorites\n",
      "fist\n",
      "tribe\n",
      "hero\n",
      "voice\n",
      "crew\n",
      "-----------\n"
     ]
    },
    {
     "data": {
      "text/markdown": [
       "# currently"
      ],
      "text/plain": [
       "<IPython.core.display.Markdown object>"
      ]
     },
     "metadata": {},
     "output_type": "display_data"
    },
    {
     "data": {
      "text/markdown": [
       "#### Urban"
      ],
      "text/plain": [
       "<IPython.core.display.Markdown object>"
      ]
     },
     "metadata": {},
     "output_type": "display_data"
    },
    {
     "name": "stdout",
     "output_type": "stream",
     "text": [
      "------------\n",
      "while\n",
      "rn\n",
      "now\n",
      "still\n",
      "atm\n",
      "officially\n",
      "slowly\n",
      "meanwhile\n",
      "applications\n",
      "sitting\n",
      "------------\n"
     ]
    },
    {
     "data": {
      "text/markdown": [
       "#### Rural"
      ],
      "text/plain": [
       "<IPython.core.display.Markdown object>"
      ]
     },
     "metadata": {},
     "output_type": "display_data"
    },
    {
     "name": "stdout",
     "output_type": "stream",
     "text": [
      "-------\n",
      "rn\n",
      "now\n",
      "rapidly\n",
      "81\n",
      "72\n",
      "sitting\n",
      "while\n",
      "slowly\n",
      "still\n",
      "76\n",
      "-------\n"
     ]
    },
    {
     "data": {
      "text/markdown": [
       "# human"
      ],
      "text/plain": [
       "<IPython.core.display.Markdown object>"
      ]
     },
     "metadata": {},
     "output_type": "display_data"
    },
    {
     "data": {
      "text/markdown": [
       "#### Urban"
      ],
      "text/plain": [
       "<IPython.core.display.Markdown object>"
      ]
     },
     "metadata": {},
     "output_type": "display_data"
    },
    {
     "name": "stdout",
     "output_type": "stream",
     "text": [
      "----------\n",
      "humans\n",
      "individual\n",
      "religious\n",
      "disease\n",
      "vile\n",
      "equal\n",
      "literal\n",
      "disorder\n",
      "civil\n",
      "vulnerable\n",
      "----------\n"
     ]
    },
    {
     "data": {
      "text/markdown": [
       "#### Rural"
      ],
      "text/plain": [
       "<IPython.core.display.Markdown object>"
      ]
     },
     "metadata": {},
     "output_type": "display_data"
    },
    {
     "name": "stdout",
     "output_type": "stream",
     "text": [
      "----------\n",
      "humans\n",
      "equal\n",
      "belief\n",
      "politician\n",
      "journalist\n",
      "species\n",
      "person\n",
      "patient\n",
      "hypocrite\n",
      "leader\n",
      "----------\n"
     ]
    },
    {
     "data": {
      "text/markdown": [
       "# iv"
      ],
      "text/plain": [
       "<IPython.core.display.Markdown object>"
      ]
     },
     "metadata": {},
     "output_type": "display_data"
    },
    {
     "data": {
      "text/markdown": [
       "#### Urban"
      ],
      "text/plain": [
       "<IPython.core.display.Markdown object>"
      ]
     },
     "metadata": {},
     "output_type": "display_data"
    },
    {
     "name": "stdout",
     "output_type": "stream",
     "text": [
      "---------\n",
      "snorlax\n",
      "northside\n",
      "cp\n",
      "westside\n",
      "chansey\n",
      "larvitar\n",
      "southwest\n",
      "f\n",
      "dratini\n",
      "46\n",
      "---------\n"
     ]
    },
    {
     "data": {
      "text/markdown": [
       "#### Rural"
      ],
      "text/plain": [
       "<IPython.core.display.Markdown object>"
      ]
     },
     "metadata": {},
     "output_type": "display_data"
    },
    {
     "name": "stdout",
     "output_type": "stream",
     "text": [
      "--------\n",
      "cp\n",
      "29m\n",
      "26m\n",
      "larvitar\n",
      "28m\n",
      "27m\n",
      "beam\n",
      "crunch\n",
      "tackle\n",
      "ep\n",
      "--------\n"
     ]
    },
    {
     "data": {
      "text/markdown": [
       "# slam"
      ],
      "text/plain": [
       "<IPython.core.display.Markdown object>"
      ]
     },
     "metadata": {},
     "output_type": "display_data"
    },
    {
     "data": {
      "text/markdown": [
       "#### Urban"
      ],
      "text/plain": [
       "<IPython.core.display.Markdown object>"
      ]
     },
     "metadata": {},
     "output_type": "display_data"
    },
    {
     "name": "stdout",
     "output_type": "stream",
     "text": [
      "----------\n",
      "dunk\n",
      "slams\n",
      "jury\n",
      "victory\n",
      "canyon\n",
      "dame\n",
      "draws\n",
      "dash\n",
      "tournament\n",
      "beam\n",
      "----------\n"
     ]
    },
    {
     "data": {
      "text/markdown": [
       "#### Rural"
      ],
      "text/plain": [
       "<IPython.core.display.Markdown object>"
      ]
     },
     "metadata": {},
     "output_type": "display_data"
    },
    {
     "name": "stdout",
     "output_type": "stream",
     "text": [
      "-------\n",
      "dunk\n",
      "choke\n",
      "canyon\n",
      "jury\n",
      "catches\n",
      "pole\n",
      "hammer\n",
      "shake\n",
      "tackle\n",
      "semi\n",
      "-------\n"
     ]
    },
    {
     "data": {
      "text/markdown": [
       "# mm"
      ],
      "text/plain": [
       "<IPython.core.display.Markdown object>"
      ]
     },
     "metadata": {},
     "output_type": "display_data"
    },
    {
     "data": {
      "text/markdown": [
       "#### Urban"
      ],
      "text/plain": [
       "<IPython.core.display.Markdown object>"
      ]
     },
     "metadata": {},
     "output_type": "display_data"
    },
    {
     "name": "stdout",
     "output_type": "stream",
     "text": [
      "--------\n",
      "cloudy\n",
      "km\n",
      "0\n",
      "79\n",
      "p\n",
      "degrees\n",
      "58\n",
      "00\n",
      "humidity\n",
      "55\n",
      "--------\n"
     ]
    },
    {
     "data": {
      "text/markdown": [
       "#### Rural"
      ],
      "text/plain": [
       "<IPython.core.display.Markdown object>"
      ]
     },
     "metadata": {},
     "output_type": "display_data"
    },
    {
     "name": "stdout",
     "output_type": "stream",
     "text": [
      "----\n",
      "hb\n",
      "mp\n",
      "inch\n",
      "sz\n",
      "xl\n",
      "cr\n",
      "ln\n",
      "925\n",
      "x\n",
      "gb\n",
      "----\n"
     ]
    },
    {
     "data": {
      "text/markdown": [
       "# entering"
      ],
      "text/plain": [
       "<IPython.core.display.Markdown object>"
      ]
     },
     "metadata": {},
     "output_type": "display_data"
    },
    {
     "data": {
      "text/markdown": [
       "#### Urban"
      ],
      "text/plain": [
       "<IPython.core.display.Markdown object>"
      ]
     },
     "metadata": {},
     "output_type": "display_data"
    },
    {
     "name": "stdout",
     "output_type": "stream",
     "text": [
      "----------\n",
      "announcing\n",
      "launching\n",
      "joining\n",
      "enter\n",
      "judging\n",
      "receiving\n",
      "accepting\n",
      "protecting\n",
      "presented\n",
      "carrying\n",
      "----------\n"
     ]
    },
    {
     "data": {
      "text/markdown": [
       "#### Rural"
      ],
      "text/plain": [
       "<IPython.core.display.Markdown object>"
      ]
     },
     "metadata": {},
     "output_type": "display_data"
    },
    {
     "name": "stdout",
     "output_type": "stream",
     "text": [
      "-----------\n",
      "powered\n",
      "sponsored\n",
      "enter\n",
      "gc\n",
      "presented\n",
      "prize\n",
      "sweepstakes\n",
      "offering\n",
      "joining\n",
      "stopping\n",
      "-----------\n"
     ]
    },
    {
     "data": {
      "text/markdown": [
       "# pd"
      ],
      "text/plain": [
       "<IPython.core.display.Markdown object>"
      ]
     },
     "metadata": {},
     "output_type": "display_data"
    },
    {
     "data": {
      "text/markdown": [
       "#### Urban"
      ],
      "text/plain": [
       "<IPython.core.display.Markdown object>"
      ]
     },
     "metadata": {},
     "output_type": "display_data"
    },
    {
     "name": "stdout",
     "output_type": "stream",
     "text": [
      "------------\n",
      "nypd\n",
      "police\n",
      "baltimore\n",
      "officers\n",
      "officer\n",
      "metro\n",
      "maryland\n",
      "suspect\n",
      "pennsylvania\n",
      "armed\n",
      "------------\n"
     ]
    },
    {
     "data": {
      "text/markdown": [
       "#### Rural"
      ],
      "text/plain": [
       "<IPython.core.display.Markdown object>"
      ]
     },
     "metadata": {},
     "output_type": "display_data"
    },
    {
     "name": "stdout",
     "output_type": "stream",
     "text": [
      "------------\n",
      "operations\n",
      "training\n",
      "presentation\n",
      "facility\n",
      "program\n",
      "webinar\n",
      "youth\n",
      "staff\n",
      "session\n",
      "partners\n",
      "------------\n"
     ]
    },
    {
     "data": {
      "text/markdown": [
       "# stanley"
      ],
      "text/plain": [
       "<IPython.core.display.Markdown object>"
      ]
     },
     "metadata": {},
     "output_type": "display_data"
    },
    {
     "data": {
      "text/markdown": [
       "#### Urban"
      ],
      "text/plain": [
       "<IPython.core.display.Markdown object>"
      ]
     },
     "metadata": {},
     "output_type": "display_data"
    },
    {
     "name": "stdout",
     "output_type": "stream",
     "text": [
      "--------\n",
      "garcia\n",
      "derby\n",
      "duke\n",
      "mls\n",
      "sanchez\n",
      "kentucky\n",
      "andre\n",
      "dame\n",
      "adam\n",
      "carlos\n",
      "--------\n"
     ]
    },
    {
     "data": {
      "text/markdown": [
       "#### Rural"
      ],
      "text/plain": [
       "<IPython.core.display.Markdown object>"
      ]
     },
     "metadata": {},
     "output_type": "display_data"
    },
    {
     "name": "stdout",
     "output_type": "stream",
     "text": [
      "---------\n",
      "cup\n",
      "gordon\n",
      "penguins\n",
      "toronto\n",
      "murray\n",
      "porter\n",
      "wade\n",
      "champions\n",
      "lucas\n",
      "derek\n",
      "---------\n"
     ]
    },
    {
     "data": {
      "text/markdown": [
       "# causes"
      ],
      "text/plain": [
       "<IPython.core.display.Markdown object>"
      ]
     },
     "metadata": {},
     "output_type": "display_data"
    },
    {
     "data": {
      "text/markdown": [
       "#### Urban"
      ],
      "text/plain": [
       "<IPython.core.display.Markdown object>"
      ]
     },
     "metadata": {},
     "output_type": "display_data"
    },
    {
     "name": "stdout",
     "output_type": "stream",
     "text": [
      "--------\n",
      "causing\n",
      "affects\n",
      "caused\n",
      "symptoms\n",
      "cells\n",
      "disease\n",
      "requires\n",
      "disorder\n",
      "centers\n",
      "effects\n",
      "--------\n"
     ]
    },
    {
     "data": {
      "text/markdown": [
       "#### Rural"
      ],
      "text/plain": [
       "<IPython.core.display.Markdown object>"
      ]
     },
     "metadata": {},
     "output_type": "display_data"
    },
    {
     "name": "stdout",
     "output_type": "stream",
     "text": [
      "--------\n",
      "causing\n",
      "caused\n",
      "creates\n",
      "disease\n",
      "reduce\n",
      "abuse\n",
      "prevent\n",
      "requires\n",
      "helps\n",
      "benefits\n",
      "--------\n"
     ]
    },
    {
     "data": {
      "text/markdown": [
       "# millennials"
      ],
      "text/plain": [
       "<IPython.core.display.Markdown object>"
      ]
     },
     "metadata": {},
     "output_type": "display_data"
    },
    {
     "data": {
      "text/markdown": [
       "#### Urban"
      ],
      "text/plain": [
       "<IPython.core.display.Markdown object>"
      ]
     },
     "metadata": {},
     "output_type": "display_data"
    },
    {
     "name": "stdout",
     "output_type": "stream",
     "text": [
      "-------------\n",
      "consumers\n",
      "companies\n",
      "marketers\n",
      "brands\n",
      "entrepreneurs\n",
      "investors\n",
      "startups\n",
      "organizations\n",
      "americans\n",
      "people\n",
      "-------------\n"
     ]
    },
    {
     "data": {
      "text/markdown": [
       "#### Rural"
      ],
      "text/plain": [
       "<IPython.core.display.Markdown object>"
      ]
     },
     "metadata": {},
     "output_type": "display_data"
    },
    {
     "name": "stdout",
     "output_type": "stream",
     "text": [
      "-----------\n",
      "companies\n",
      "scientists\n",
      "businesses\n",
      "individuals\n",
      "brands\n",
      "americans\n",
      "politicians\n",
      "experts\n",
      "buyers\n",
      "pros\n",
      "-----------\n"
     ]
    },
    {
     "data": {
      "text/markdown": [
       "# compete"
      ],
      "text/plain": [
       "<IPython.core.display.Markdown object>"
      ]
     },
     "metadata": {},
     "output_type": "display_data"
    },
    {
     "data": {
      "text/markdown": [
       "#### Urban"
      ],
      "text/plain": [
       "<IPython.core.display.Markdown object>"
      ]
     },
     "metadata": {},
     "output_type": "display_data"
    },
    {
     "name": "stdout",
     "output_type": "stream",
     "text": [
      "-----------\n",
      "argue\n",
      "play\n",
      "succeed\n",
      "survive\n",
      "compare\n",
      "communicate\n",
      "settle\n",
      "win\n",
      "deal\n",
      "engage\n",
      "-----------\n"
     ]
    },
    {
     "data": {
      "text/markdown": [
       "#### Rural"
      ],
      "text/plain": [
       "<IPython.core.display.Markdown object>"
      ]
     },
     "metadata": {},
     "output_type": "display_data"
    },
    {
     "name": "stdout",
     "output_type": "stream",
     "text": [
      "------------\n",
      "play\n",
      "competing\n",
      "participate\n",
      "host\n",
      "championship\n",
      "survive\n",
      "perform\n",
      "competition\n",
      "sweep\n",
      "tourney\n",
      "------------\n"
     ]
    },
    {
     "data": {
      "text/markdown": [
       "# gt"
      ],
      "text/plain": [
       "<IPython.core.display.Markdown object>"
      ]
     },
     "metadata": {},
     "output_type": "display_data"
    },
    {
     "data": {
      "text/markdown": [
       "#### Urban"
      ],
      "text/plain": [
       "<IPython.core.display.Markdown object>"
      ]
     },
     "metadata": {},
     "output_type": "display_data"
    },
    {
     "name": "stdout",
     "output_type": "stream",
     "text": [
      "--------\n",
      "lt\n",
      "com\n",
      "ali\n",
      "sizes\n",
      "dot\n",
      "checkout\n",
      "mag\n",
      "coupon\n",
      "nigerian\n",
      "cum\n",
      "--------\n"
     ]
    },
    {
     "data": {
      "text/markdown": [
       "#### Rural"
      ],
      "text/plain": [
       "<IPython.core.display.Markdown object>"
      ]
     },
     "metadata": {},
     "output_type": "display_data"
    },
    {
     "name": "stdout",
     "output_type": "stream",
     "text": [
      "--------\n",
      "lt\n",
      "com\n",
      "coupon\n",
      "promo\n",
      "scarf\n",
      "boats\n",
      "baro\n",
      "remedies\n",
      "hacks\n",
      "necklace\n",
      "--------\n"
     ]
    }
   ],
   "source": [
    "for token in df.sort_values('score').head(300)['token']:\n",
    "    u, r = compare(token)\n",
    "    display(Markdown(f'# {token}'))\n",
    "    display(Markdown(f'#### Urban'))\n",
    "    print(tabulate(u))\n",
    "    display(Markdown(f'#### Rural'))\n",
    "    print(tabulate(r))"
   ]
  }
 ],
 "metadata": {
  "kernelspec": {
   "display_name": "Python 3",
   "language": "python",
   "name": "python3"
  },
  "language_info": {
   "codemirror_mode": {
    "name": "ipython",
    "version": 3
   },
   "file_extension": ".py",
   "mimetype": "text/x-python",
   "name": "python",
   "nbconvert_exporter": "python",
   "pygments_lexer": "ipython3",
   "version": "3.6.2"
  }
 },
 "nbformat": 4,
 "nbformat_minor": 2
}
