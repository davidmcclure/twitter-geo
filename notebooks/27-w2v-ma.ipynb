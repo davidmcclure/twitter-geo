{
 "cells": [
  {
   "cell_type": "code",
   "execution_count": 1,
   "metadata": {},
   "outputs": [],
   "source": [
    "from gensim.models.word2vec import Word2Vec\n",
    "from IPython.display import Markdown, display\n",
    "from tabulate import tabulate"
   ]
  },
  {
   "cell_type": "code",
   "execution_count": 2,
   "metadata": {},
   "outputs": [],
   "source": [
    "urban_model = Word2Vec.load('../data/models/urban-ma.bin')"
   ]
  },
  {
   "cell_type": "code",
   "execution_count": 3,
   "metadata": {},
   "outputs": [],
   "source": [
    "rural_model = Word2Vec.load('../data/models/rural-ma.bin')"
   ]
  },
  {
   "cell_type": "code",
   "execution_count": 4,
   "metadata": {},
   "outputs": [],
   "source": [
    "def compare(token):\n",
    "    \n",
    "    print('Boston')\n",
    "    print(urban_model.most_similar(token))\n",
    "    print('Rural')\n",
    "    print(rural_model.most_similar(token))"
   ]
  },
  {
   "cell_type": "code",
   "execution_count": 5,
   "metadata": {},
   "outputs": [
    {
     "name": "stdout",
     "output_type": "stream",
     "text": [
      "Boston\n",
      "[('democracy', 0.6763564348220825), ('constitution', 0.6368541717529297), ('religious', 0.6141936779022217), ('silence', 0.6024919748306274), ('religion', 0.5832118988037109), ('values', 0.5787131786346436), ('rights', 0.5762321949005127), ('racism', 0.5707809925079346), ('political', 0.5622004270553589), ('resistance', 0.5552393794059753)]\n",
      "Rural\n",
      "[('rights', 0.5873478055000305), ('fear', 0.56922847032547), ('speech', 0.5384591817855835), ('violence', 0.506350040435791), ('lack', 0.5005956888198853), ('millions', 0.49726155400276184), ('congress', 0.4970170557498932), ('president', 0.4908648729324341), ('strength', 0.48863548040390015), ('potus', 0.46074917912483215)]\n"
     ]
    }
   ],
   "source": [
    "compare('freedom')"
   ]
  },
  {
   "cell_type": "markdown",
   "metadata": {},
   "source": [
    "### Urban (democracy)\n",
    "- Losing: America, freedom, democracy\n",
    "- Best reputation is well-built democracy, rule of law and freedom... others are PR. https://t.co/IQ8GbIk9QK\n",
    "- Obama says the post-WW2 \"order\" characterized by freedom of expression and democracy is now threatened by autocrats. Doesn't say Trump.\n",
    "- Real America is awake and standing up to attacks on democracy and freedom.\n",
    "- Democracy is the destiny of humanity; freedom its indestructible arm. ~ Benito Juárez #quotephase #qotd\n",
    "- Another sick act of cowardice. Freedom of speech is a tenet of democracy. @narendramodi @CMofKarnataka time for act… https://t.co/oTsxKWnqIy\n",
    "- “Freedom of religion was one of the founding principles of our democracy,” - @SAGawards  Let's keep it that way. \n",
    "https://t.co/eDYzfhnfsw\n",
    "\n",
    "### Rural (speech)\n",
    "- @WCVB No. Isn't this what we call freedom of speech/ expression?\n",
    "- Well, apparently freedom of speech is on the wane... https://t.co/m7Lk8yoxVK\n",
    "- Freedom of speech isn't the issue. @espn is the issue.  That's where the double standard lies. @GlennDOrdway https://t.co/xEp4QZKj0J\n",
    "- here I am raging at the loss of my freedom of speech and but also telling my immigrant parents to be careful what they say in public\n",
    "- @elly_buck @briannawandrey Those veterans fought for the freedom of all Americans that includes freedom of opinion, speech and expression\n",
    "- Exactly, don't you think @POTUS exercised his freedom of speech and expression last night? Why are you shaking your… https://t.co/Vb1hwBWA9Q"
   ]
  },
  {
   "cell_type": "code",
   "execution_count": 18,
   "metadata": {},
   "outputs": [
    {
     "data": {
      "text/markdown": [
       "# race"
      ],
      "text/plain": [
       "<IPython.core.display.Markdown object>"
      ]
     },
     "metadata": {},
     "output_type": "display_data"
    },
    {
     "data": {
      "text/markdown": [
       "#### Boston"
      ],
      "text/plain": [
       "<IPython.core.display.Markdown object>"
      ]
     },
     "metadata": {},
     "output_type": "display_data"
    },
    {
     "name": "stdout",
     "output_type": "stream",
     "text": [
      "----------\n",
      "movement\n",
      "debate\n",
      "revolution\n",
      "gender\n",
      "battle\n",
      "war\n",
      "cultural\n",
      "identity\n",
      "victory\n",
      "violence\n",
      "----------\n"
     ]
    },
    {
     "data": {
      "text/markdown": [
       "#### Rural"
      ],
      "text/plain": [
       "<IPython.core.display.Markdown object>"
      ]
     },
     "metadata": {},
     "output_type": "display_data"
    },
    {
     "name": "stdout",
     "output_type": "stream",
     "text": [
      "----------\n",
      "tournament\n",
      "game\n",
      "period\n",
      "trip\n",
      "field\n",
      "stage\n",
      "season\n",
      "quarter\n",
      "film\n",
      "series\n",
      "----------\n"
     ]
    }
   ],
   "source": [
    "compare('race')"
   ]
  },
  {
   "cell_type": "markdown",
   "metadata": {},
   "source": [
    "### Urban\n",
    "- @CodyMillerPKY This is pretty much my entire American Lit class: race, class, gender &amp; the American Dream/American Nightmare\n",
    "- just watched a white cis male spend the entirety of our race, class &amp; gender class shopping online 👍🏼\n",
    "- Writers in 21st century should know about issues of race and identity rather than defend their ignorance:… https://t.co/I0xDEYftV9\n",
    "- Don't you just LOVE seeing white feminists discuss identity politics like they know what it's like to be discriminated against bc of race??\n",
    "\n",
    "### Rural\n",
    "- Daaannnnnng....now that was a football game! I'm glad I didn't have a horse in this race....heart attack city.  #kickersrule\n",
    "- For the first time ever, @GRCseries race cars will appear in a video game. More specifically, @projectcarsgame.… https://t.co/SjIpHE62Yy\n",
    "- Nice card at Churchill today - average field of 6.8 per race"
   ]
  },
  {
   "cell_type": "code",
   "execution_count": 9,
   "metadata": {},
   "outputs": [
    {
     "data": {
      "text/markdown": [
       "# main"
      ],
      "text/plain": [
       "<IPython.core.display.Markdown object>"
      ]
     },
     "metadata": {},
     "output_type": "display_data"
    },
    {
     "data": {
      "text/markdown": [
       "#### Boston"
      ],
      "text/plain": [
       "<IPython.core.display.Markdown object>"
      ]
     },
     "metadata": {},
     "output_type": "display_data"
    },
    {
     "name": "stdout",
     "output_type": "stream",
     "text": [
      "---------\n",
      "fav\n",
      "biggest\n",
      "favorite\n",
      "featured\n",
      "fave\n",
      "3rd\n",
      "greatest\n",
      "favorites\n",
      "third\n",
      "included\n",
      "---------\n"
     ]
    },
    {
     "data": {
      "text/markdown": [
       "#### Rural"
      ],
      "text/plain": [
       "<IPython.core.display.Markdown object>"
      ]
     },
     "metadata": {},
     "output_type": "display_data"
    },
    {
     "name": "stdout",
     "output_type": "stream",
     "text": [
      "------\n",
      "street\n",
      "bridge\n",
      "ave\n",
      "near\n",
      "west\n",
      "south\n",
      "quincy\n",
      "fire\n",
      "closed\n",
      "route\n",
      "------\n"
     ]
    }
   ],
   "source": [
    "compare('main')"
   ]
  },
  {
   "cell_type": "markdown",
   "metadata": {},
   "source": [
    "### Urban\n",
    "- @MrLittleLight That’s my main issue right there. Mediocre, shoehorned multiplayer in titles that should just be singleplayer 😓.\n",
    "- @chel_c_cam I mean, those are the main food groups so\n",
    "- @RoanParrish legit. I mean, bugs are tiny and crunchy. They’re not exactly main course material.\n",
    "- Relief and then quickly followed stupidity were the main feelings.\n",
    "\n",
    "### Rural\n",
    "- @FeitsBarstool Buff chix pizza at west main is always the way to go\n",
    "- Traffic held on South Main Street in Orange for 'Castle Rock' filming https://t.co/9ElAcYlALQ\n",
    "- Every Wednesday at Springfield South WIC's 816 Main Street office we feature The Good Food Project. With a new... https://t.co/qowAwf9vEd\n",
    "- **ROAD CLOSURE** Road Work 7/29 Main Street closed from Spring Street to Western Ave. Traffic is being diverted down Spring Street."
   ]
  },
  {
   "cell_type": "code",
   "execution_count": 13,
   "metadata": {},
   "outputs": [
    {
     "data": {
      "text/markdown": [
       "# french"
      ],
      "text/plain": [
       "<IPython.core.display.Markdown object>"
      ]
     },
     "metadata": {},
     "output_type": "display_data"
    },
    {
     "data": {
      "text/markdown": [
       "#### Boston"
      ],
      "text/plain": [
       "<IPython.core.display.Markdown object>"
      ]
     },
     "metadata": {},
     "output_type": "display_data"
    },
    {
     "name": "stdout",
     "output_type": "stream",
     "text": [
      "--------\n",
      "british\n",
      "japanese\n",
      "irish\n",
      "france\n",
      "chinese\n",
      "african\n",
      "italian\n",
      "greek\n",
      "asian\n",
      "spanish\n",
      "--------\n"
     ]
    },
    {
     "data": {
      "text/markdown": [
       "#### Rural"
      ],
      "text/plain": [
       "<IPython.core.display.Markdown object>"
      ]
     },
     "metadata": {},
     "output_type": "display_data"
    },
    {
     "name": "stdout",
     "output_type": "stream",
     "text": [
      "---------\n",
      "wine\n",
      "cup\n",
      "cheese\n",
      "chocolate\n",
      "vintage\n",
      "chicken\n",
      "rose\n",
      "j\n",
      "salad\n",
      "coin\n",
      "---------\n"
     ]
    }
   ],
   "source": [
    "compare('french')"
   ]
  },
  {
   "cell_type": "markdown",
   "metadata": {},
   "source": [
    "### Urban\n",
    "- @UUJames macron isn't \"really\" a socialist by French standards and by the socialist party's own standards.\n",
    "- the french-canadian kicker is still my favorite thing\n",
    "- @garywhitta Shocked you're not watching England vs. France friendly. French fans sing God Save the Queen! https://t.co/Q0wg7aovOv\n",
    "- I want to thank @MCPS for providing programs like French immersion that have allowed me to be the bilingual powerhouse I am today.\n",
    "\n",
    "### Rural\n",
    "- There will be a French wine + food tasting at The Farmers Table. For all the details, visit: https://t.co/y2CkapSiVP\n",
    "- \"Give me books, French wine, fruit, fine weather and a little music played out of doors by somebody I do not know.\" - John Keats\n",
    "- WINE NOVICE: Italian Chiaretto makes a run at French rosés\n",
    "- Wine... chips and French onion dip.... and the New Edition story good end to a rough day #NewEditionBET"
   ]
  },
  {
   "cell_type": "code",
   "execution_count": 14,
   "metadata": {},
   "outputs": [
    {
     "data": {
      "text/markdown": [
       "# track"
      ],
      "text/plain": [
       "<IPython.core.display.Markdown object>"
      ]
     },
     "metadata": {},
     "output_type": "display_data"
    },
    {
     "data": {
      "text/markdown": [
       "#### Boston"
      ],
      "text/plain": [
       "<IPython.core.display.Markdown object>"
      ]
     },
     "metadata": {},
     "output_type": "display_data"
    },
    {
     "name": "stdout",
     "output_type": "stream",
     "text": [
      "-------\n",
      "tracks\n",
      "steam\n",
      "ep\n",
      "album\n",
      "remix\n",
      "jam\n",
      "level\n",
      "spotify\n",
      "speed\n",
      "windows\n",
      "-------\n"
     ]
    },
    {
     "data": {
      "text/markdown": [
       "#### Rural"
      ],
      "text/plain": [
       "<IPython.core.display.Markdown object>"
      ]
     },
     "metadata": {},
     "output_type": "display_data"
    },
    {
     "name": "stdout",
     "output_type": "stream",
     "text": [
      "----------\n",
      "field\n",
      "varsity\n",
      "soccer\n",
      "hockey\n",
      "basketball\n",
      "umass\n",
      "boys\n",
      "baseball\n",
      "tech\n",
      "goal\n",
      "----------\n"
     ]
    }
   ],
   "source": [
    "compare('track')"
   ]
  },
  {
   "cell_type": "markdown",
   "metadata": {},
   "source": [
    "### Urban\n",
    "- first time I opened ep gladio I just sat and listened to the menu music bc shield of the king is a good track\n",
    "- @deshawnay_ What's up? Just heard your track. Nice work. I'd like to help promote it. Begin now: https://t.co/OCdLekIzpP\n",
    "- @AO_DonnyShookz Hey. Noticed the track you uploaded to SoundCloud earlier. I'd like to help promote it.Start now: https://t.co/7dNogjFblN\n",
    "\n",
    "### Rural\n",
    "- \"Yeah, Mom, I'll wear sunblock,\" I said as I left the house this morning for a track meet https://t.co/PQvcITrJHt\n",
    "- Congrats to S.Times Hockey Player of the Yr Sam Henrie and Super Teamer Noah Strawn; Congrats also to Track Super Team member Will Hopkins\n",
    "- When I'm volunteering at a track meet, nothing makes my day more than when an athlete says \"thank you\" after their event #itsthelittlethings"
   ]
  },
  {
   "cell_type": "code",
   "execution_count": 16,
   "metadata": {},
   "outputs": [
    {
     "data": {
      "text/markdown": [
       "# clear"
      ],
      "text/plain": [
       "<IPython.core.display.Markdown object>"
      ]
     },
     "metadata": {},
     "output_type": "display_data"
    },
    {
     "data": {
      "text/markdown": [
       "#### Boston"
      ],
      "text/plain": [
       "<IPython.core.display.Markdown object>"
      ]
     },
     "metadata": {},
     "output_type": "display_data"
    },
    {
     "name": "stdout",
     "output_type": "stream",
     "text": [
      "---------\n",
      "correct\n",
      "helpful\n",
      "possible\n",
      "difficult\n",
      "obvious\n",
      "useful\n",
      "simple\n",
      "true\n",
      "relevant\n",
      "appears\n",
      "---------\n"
     ]
    },
    {
     "data": {
      "text/markdown": [
       "#### Rural"
      ],
      "text/plain": [
       "<IPython.core.display.Markdown object>"
      ]
     },
     "metadata": {},
     "output_type": "display_data"
    },
    {
     "name": "stdout",
     "output_type": "stream",
     "text": [
      "---------\n",
      "clouds\n",
      "current\n",
      "mostly\n",
      "sure\n",
      "statement\n",
      "expected\n",
      "broken\n",
      "sunny\n",
      "winds\n",
      "bright\n",
      "---------\n"
     ]
    }
   ],
   "source": [
    "compare('clear')"
   ]
  },
  {
   "cell_type": "markdown",
   "metadata": {},
   "source": [
    "### Urban\n",
    "- Let's be clear: no profession is possible without a teacher. Thank you to all the amazing… https://t.co/qhkM2uMJaS\n",
    "- One thing is clear, I'll never vote for another Republican for as long as I live.\n",
    "- @C_Stroop @GovPappy Yea, I think the N/S and F/T are usually pretty clear.\n",
    "- don't know if there's a clear winner in this trade ... maybe the kings next year?\n",
    "- @fightingwords2 And this chaos was exacerbated by the referee's not making it clear that the round was over.  He pu… https://t.co/a2MvzKbgP4\n",
    "\n",
    "### Rural\n",
    "- Boo! Raining in Rochester at the start of the Country-Fair Rochester. But the forecast calls for mostly clear... https://t.co/H5vLMaN8gK\n",
    "- High pressure brings mostly clear skies this weekend. Lows tonight about 5-10 degrees blo normal, mainly mid 40s-mi… https://t.co/Q8KGnrstJw\n",
    "- Worcester MA Sat May 20th AM Forecast: TODAY Mostly Sunny Hi 69 TONIGHT Mostly Clear Lo 41"
   ]
  },
  {
   "cell_type": "code",
   "execution_count": 20,
   "metadata": {},
   "outputs": [
    {
     "data": {
      "text/markdown": [
       "# stock"
      ],
      "text/plain": [
       "<IPython.core.display.Markdown object>"
      ]
     },
     "metadata": {},
     "output_type": "display_data"
    },
    {
     "data": {
      "text/markdown": [
       "#### Boston"
      ],
      "text/plain": [
       "<IPython.core.display.Markdown object>"
      ]
     },
     "metadata": {},
     "output_type": "display_data"
    },
    {
     "name": "stdout",
     "output_type": "stream",
     "text": [
      "---------\n",
      "prices\n",
      "market\n",
      "price\n",
      "markets\n",
      "rose\n",
      "revenue\n",
      "investors\n",
      "target\n",
      "percent\n",
      "net\n",
      "---------\n"
     ]
    },
    {
     "data": {
      "text/markdown": [
       "#### Rural"
      ],
      "text/plain": [
       "<IPython.core.display.Markdown object>"
      ]
     },
     "metadata": {},
     "output_type": "display_data"
    },
    {
     "name": "stdout",
     "output_type": "stream",
     "text": [
      "--------\n",
      "supplies\n",
      "sign\n",
      "set\n",
      "store\n",
      "pop\n",
      "kitchen\n",
      "speed\n",
      "prices\n",
      "cleaning\n",
      "shop\n",
      "--------\n"
     ]
    }
   ],
   "source": [
    "compare('stock')"
   ]
  },
  {
   "cell_type": "markdown",
   "metadata": {},
   "source": [
    "### Urban\n",
    "- Short Apple: Buybacks Won't Save This Stock AAPL https://t.co/KY79EagMcZ\n",
    "- Just invested in another stock #EveryThursday #LikeClockwork\n",
    "- More #SocialMedia Twitter’s new CFO is getting $15 million in stock https://t.co/GpI2wxVbMx\n",
    "- US stock indexes veer lower in afternoon trading; oil rises https://t.co/5xBBBkmgmn #7news\n",
    "\n",
    "### Rural\n",
    "- @donnapoppins We're excited for Back 2 School! Let us help you stock up on supplies. https://t.co/DDrY9FXSan Cheers! ^MG\n",
    "- **NEW #LOTR pop! We only have 3 Saruman's in stock right now so get here before he's gone! All pops are 3 for $30 https://t.co/tiq8hvlix1\n",
    "- We have such cute baby shoes in stock, for great prices! https://t.co/PqwDouFgqZ"
   ]
  },
  {
   "cell_type": "code",
   "execution_count": 21,
   "metadata": {},
   "outputs": [
    {
     "data": {
      "text/markdown": [
       "# market"
      ],
      "text/plain": [
       "<IPython.core.display.Markdown object>"
      ]
     },
     "metadata": {},
     "output_type": "display_data"
    },
    {
     "data": {
      "text/markdown": [
       "#### Boston"
      ],
      "text/plain": [
       "<IPython.core.display.Markdown object>"
      ]
     },
     "metadata": {},
     "output_type": "display_data"
    },
    {
     "name": "stdout",
     "output_type": "stream",
     "text": [
      "----------\n",
      "markets\n",
      "consumer\n",
      "investment\n",
      "stock\n",
      "prices\n",
      "storage\n",
      "supply\n",
      "revenue\n",
      "economy\n",
      "growth\n",
      "----------\n"
     ]
    },
    {
     "data": {
      "text/markdown": [
       "#### Rural"
      ],
      "text/plain": [
       "<IPython.core.display.Markdown object>"
      ]
     },
     "metadata": {},
     "output_type": "display_data"
    },
    {
     "name": "stdout",
     "output_type": "stream",
     "text": [
      "---------\n",
      "price\n",
      "sale\n",
      "store\n",
      "brand\n",
      "corner\n",
      "hiring\n",
      "road\n",
      "kitchen\n",
      "available\n",
      "vehicle\n",
      "---------\n"
     ]
    }
   ],
   "source": [
    "compare('market')"
   ]
  },
  {
   "cell_type": "markdown",
   "metadata": {},
   "source": [
    "### Urban\n",
    "- .@HP director of vertical market dev. discusses medical &amp; consumer #3Dprinting intersection https://t.co/4NC3GSC9vD @TaylaHolman\n",
    "- Is aligning with @amazon the only way to maintain relevance in the consumer electronics market? https://t.co/USWgeKo1eH\n",
    "- @DiMarcoTheGawd Especially with not an incredible change in design language. The consumer market is satiated after the first few drops\n",
    "- Was the consumer broadband market healthy before regulation (forced sharing) of incumbent broadband providers' infrastructure?\n",
    "\n",
    "### Rural\n",
    "- A sunny Thursday in #SalemMA means  Salem Farmers' Market day. Just around the corner from the bookstore. 🥕🥒🍅🍎🍞\n",
    "- Sorry for the late reply!! Our booth  is always in the Open Market/Arts Market in the corner\n",
    "- Combine corner market is very well-stocked\n",
    "- We're hiring: Farm Stand / Market Team Member / Kitchen Team Member For details and to apply:… https://t.co/AZBwDa71BC"
   ]
  },
  {
   "cell_type": "code",
   "execution_count": 23,
   "metadata": {},
   "outputs": [
    {
     "data": {
      "text/markdown": [
       "# political"
      ],
      "text/plain": [
       "<IPython.core.display.Markdown object>"
      ]
     },
     "metadata": {},
     "output_type": "display_data"
    },
    {
     "data": {
      "text/markdown": [
       "#### Boston"
      ],
      "text/plain": [
       "<IPython.core.display.Markdown object>"
      ]
     },
     "metadata": {},
     "output_type": "display_data"
    },
    {
     "name": "stdout",
     "output_type": "stream",
     "text": [
      "------------\n",
      "conservative\n",
      "politics\n",
      "religious\n",
      "bias\n",
      "liberal\n",
      "moral\n",
      "democracy\n",
      "identity\n",
      "racism\n",
      "economic\n",
      "------------\n"
     ]
    },
    {
     "data": {
      "text/markdown": [
       "#### Rural"
      ],
      "text/plain": [
       "<IPython.core.display.Markdown object>"
      ]
     },
     "metadata": {},
     "output_type": "display_data"
    },
    {
     "name": "stdout",
     "output_type": "stream",
     "text": [
      "--------------\n",
      "politics\n",
      "policy\n",
      "liberal\n",
      "anti\n",
      "government\n",
      "administration\n",
      "republican\n",
      "media\n",
      "potus\n",
      "false\n",
      "--------------\n"
     ]
    }
   ],
   "source": [
    "compare('political')"
   ]
  }
 ],
 "metadata": {
  "kernelspec": {
   "display_name": "Python 3",
   "language": "python",
   "name": "python3"
  },
  "language_info": {
   "codemirror_mode": {
    "name": "ipython",
    "version": 3
   },
   "file_extension": ".py",
   "mimetype": "text/x-python",
   "name": "python",
   "nbconvert_exporter": "python",
   "pygments_lexer": "ipython3",
   "version": "3.6.2"
  }
 },
 "nbformat": 4,
 "nbformat_minor": 2
}
