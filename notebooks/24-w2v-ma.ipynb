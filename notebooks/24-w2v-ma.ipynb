{
 "cells": [
  {
   "cell_type": "code",
   "execution_count": 1,
   "metadata": {},
   "outputs": [],
   "source": [
    "import ujson\n",
    "import re\n",
    "import pandas as pd\n",
    "\n",
    "from glob import glob\n",
    "from gensim.models.word2vec import Word2Vec\n",
    "from itertools import product\n",
    "from IPython.display import Markdown, display\n",
    "from wordfreq import top_n_list\n",
    "from tqdm import tqdm_notebook\n",
    "from tabulate import tabulate"
   ]
  },
  {
   "cell_type": "code",
   "execution_count": 3,
   "metadata": {},
   "outputs": [],
   "source": [
    "def read_tweets(pattern, fcount=None):\n",
    "    \n",
    "    paths = glob(pattern)\n",
    "    \n",
    "    if fcount:\n",
    "        paths = paths[:fcount]\n",
    "    \n",
    "    tweets = []\n",
    "    for path in paths:\n",
    "        with open(path) as fh:\n",
    "            for line in fh:\n",
    "                \n",
    "                tweet = ujson.loads(line)\n",
    "                text = re.sub('(#|@|http)\\S+', '', tweet['body'])\n",
    "                tokens = re.findall('[a-z0-9]+', text.lower())\n",
    "                tweets.append(tokens)\n",
    "                \n",
    "    return tweets"
   ]
  },
  {
   "cell_type": "code",
   "execution_count": 4,
   "metadata": {},
   "outputs": [],
   "source": [
    "rural = read_tweets('../../data/ma-rural.json/*.json')"
   ]
  },
  {
   "cell_type": "code",
   "execution_count": 5,
   "metadata": {},
   "outputs": [],
   "source": [
    "urban = read_tweets('../../data/ma-boston.json/*.json')"
   ]
  },
  {
   "cell_type": "code",
   "execution_count": 6,
   "metadata": {},
   "outputs": [
    {
     "data": {
      "text/plain": [
       "2358948"
      ]
     },
     "execution_count": 6,
     "metadata": {},
     "output_type": "execute_result"
    }
   ],
   "source": [
    "len(rural)"
   ]
  },
  {
   "cell_type": "code",
   "execution_count": 7,
   "metadata": {},
   "outputs": [
    {
     "data": {
      "text/plain": [
       "4120216"
      ]
     },
     "execution_count": 7,
     "metadata": {},
     "output_type": "execute_result"
    }
   ],
   "source": [
    "len(urban)"
   ]
  },
  {
   "cell_type": "code",
   "execution_count": 8,
   "metadata": {},
   "outputs": [],
   "source": [
    "rural_model = Word2Vec(rural, min_count=1000, workers=8)"
   ]
  },
  {
   "cell_type": "code",
   "execution_count": 9,
   "metadata": {},
   "outputs": [],
   "source": [
    "urban_model = Word2Vec(urban, min_count=1000, workers=8)"
   ]
  },
  {
   "cell_type": "code",
   "execution_count": 53,
   "metadata": {},
   "outputs": [],
   "source": [
    "rural_model.save('../data/models/rural-ma.bin')"
   ]
  },
  {
   "cell_type": "code",
   "execution_count": 54,
   "metadata": {},
   "outputs": [],
   "source": [
    "urban_model.save('../data/models/urban-ma.bin')"
   ]
  },
  {
   "cell_type": "code",
   "execution_count": 10,
   "metadata": {},
   "outputs": [
    {
     "data": {
      "text/plain": [
       "[('planet', 0.6877824068069458),\n",
       " ('rise', 0.4554280638694763),\n",
       " ('ocean', 0.41596463322639465),\n",
       " ('moon', 0.4138403534889221),\n",
       " ('world', 0.4135551154613495),\n",
       " ('nature', 0.4073341190814972),\n",
       " ('spirit', 0.40715155005455017),\n",
       " ('society', 0.39870408177375793),\n",
       " ('flag', 0.38992565870285034),\n",
       " ('modern', 0.3835412263870239)]"
      ]
     },
     "execution_count": 10,
     "metadata": {},
     "output_type": "execute_result"
    }
   ],
   "source": [
    "rural_model.most_similar('earth')"
   ]
  },
  {
   "cell_type": "code",
   "execution_count": 11,
   "metadata": {},
   "outputs": [
    {
     "data": {
      "text/plain": [
       "[('planet', 0.7498504519462585),\n",
       " ('heaven', 0.4522686004638672),\n",
       " ('world', 0.45225104689598083),\n",
       " ('nature', 0.4353023171424866),\n",
       " ('ocean', 0.432361900806427),\n",
       " ('spirit', 0.4123165011405945),\n",
       " ('side', 0.397872656583786),\n",
       " ('nation', 0.39624789357185364),\n",
       " ('animals', 0.3900935649871826),\n",
       " ('universe', 0.38589024543762207)]"
      ]
     },
     "execution_count": 11,
     "metadata": {},
     "output_type": "execute_result"
    }
   ],
   "source": [
    "urban_model.most_similar('earth')"
   ]
  },
  {
   "cell_type": "code",
   "execution_count": 12,
   "metadata": {},
   "outputs": [],
   "source": [
    "def score_shift(m1, m2, token, n=10):\n",
    "    \n",
    "    m1_similar = [t for t, _ in m1.most_similar(token, topn=n)]\n",
    "    m2_similar = [t for t, _ in m2.most_similar(token, topn=n)]\n",
    "    \n",
    "    score = 0\n",
    "    for t1, t2 in product(m1_similar, m2_similar):\n",
    "        if t1 in m2 and t2 in m2:\n",
    "            score += m2.similarity(t1, t2)\n",
    "        \n",
    "    return score"
   ]
  },
  {
   "cell_type": "code",
   "execution_count": 13,
   "metadata": {},
   "outputs": [],
   "source": [
    "rural_vocab = set([t for t, v in rural_model.wv.vocab.items() if v.count > 1000])\n",
    "urban_vocab = set([t for t, v in urban_model.wv.vocab.items() if v.count > 1000])"
   ]
  },
  {
   "cell_type": "code",
   "execution_count": 14,
   "metadata": {},
   "outputs": [
    {
     "data": {
      "text/plain": [
       "2312"
      ]
     },
     "execution_count": 14,
     "metadata": {},
     "output_type": "execute_result"
    }
   ],
   "source": [
    "len(rural_vocab)"
   ]
  },
  {
   "cell_type": "code",
   "execution_count": 15,
   "metadata": {
    "scrolled": true
   },
   "outputs": [
    {
     "data": {
      "text/plain": [
       "3715"
      ]
     },
     "execution_count": 15,
     "metadata": {},
     "output_type": "execute_result"
    }
   ],
   "source": [
    "len(urban_vocab)"
   ]
  },
  {
   "cell_type": "code",
   "execution_count": 16,
   "metadata": {},
   "outputs": [],
   "source": [
    "vocab = set.intersection(rural_vocab, urban_vocab)"
   ]
  },
  {
   "cell_type": "code",
   "execution_count": 17,
   "metadata": {
    "scrolled": true
   },
   "outputs": [
    {
     "data": {
      "text/plain": [
       "2248"
      ]
     },
     "execution_count": 17,
     "metadata": {},
     "output_type": "execute_result"
    }
   ],
   "source": [
    "len(vocab)"
   ]
  },
  {
   "cell_type": "code",
   "execution_count": 18,
   "metadata": {
    "scrolled": false
   },
   "outputs": [
    {
     "data": {
      "application/vnd.jupyter.widget-view+json": {
       "model_id": "373d6a7363bc4e93b7d162779d6529aa",
       "version_major": 2,
       "version_minor": 0
      },
      "text/html": [
       "<p>Failed to display Jupyter Widget of type <code>HBox</code>.</p>\n",
       "<p>\n",
       "  If you're reading this message in Jupyter Notebook or JupyterLab, it may mean\n",
       "  that the widgets JavaScript is still loading. If this message persists, it\n",
       "  likely means that the widgets JavaScript library is either not installed or\n",
       "  not enabled. See the <a href=\"https://ipywidgets.readthedocs.io/en/stable/user_install.html\">Jupyter\n",
       "  Widgets Documentation</a> for setup instructions.\n",
       "</p>\n",
       "<p>\n",
       "  If you're reading this message in another notebook frontend (for example, a static\n",
       "  rendering on GitHub or <a href=\"https://nbviewer.jupyter.org/\">NBViewer</a>),\n",
       "  it may mean that your frontend doesn't currently support widgets.\n",
       "</p>\n"
      ],
      "text/plain": [
       "HBox(children=(IntProgress(value=0, max=2248), HTML(value='')))"
      ]
     },
     "metadata": {},
     "output_type": "display_data"
    },
    {
     "name": "stdout",
     "output_type": "stream",
     "text": [
      "\n"
     ]
    }
   ],
   "source": [
    "data = []\n",
    "\n",
    "for token in tqdm_notebook(vocab):\n",
    "    try:\n",
    "        score = score_shift(urban_model, rural_model, token)\n",
    "        data.append((token, score))\n",
    "    except: pass"
   ]
  },
  {
   "cell_type": "code",
   "execution_count": 19,
   "metadata": {},
   "outputs": [],
   "source": [
    "df = pd.DataFrame(data, columns=('token', 'score'))"
   ]
  },
  {
   "cell_type": "code",
   "execution_count": 38,
   "metadata": {},
   "outputs": [],
   "source": [
    "pd.options.display.max_rows = 1000"
   ]
  },
  {
   "cell_type": "code",
   "execution_count": 39,
   "metadata": {
    "scrolled": false
   },
   "outputs": [
    {
     "data": {
      "text/html": [
       "<div>\n",
       "<style>\n",
       "    .dataframe thead tr:only-child th {\n",
       "        text-align: right;\n",
       "    }\n",
       "\n",
       "    .dataframe thead th {\n",
       "        text-align: left;\n",
       "    }\n",
       "\n",
       "    .dataframe tbody tr th {\n",
       "        vertical-align: top;\n",
       "    }\n",
       "</style>\n",
       "<table border=\"1\" class=\"dataframe\">\n",
       "  <thead>\n",
       "    <tr style=\"text-align: right;\">\n",
       "      <th></th>\n",
       "      <th>token</th>\n",
       "      <th>score</th>\n",
       "    </tr>\n",
       "  </thead>\n",
       "  <tbody>\n",
       "    <tr>\n",
       "      <th>1758</th>\n",
       "      <td>mostly</td>\n",
       "      <td>-1.767361</td>\n",
       "    </tr>\n",
       "    <tr>\n",
       "      <th>743</th>\n",
       "      <td>ne</td>\n",
       "      <td>0.000000</td>\n",
       "    </tr>\n",
       "    <tr>\n",
       "      <th>2124</th>\n",
       "      <td>max</td>\n",
       "      <td>0.000000</td>\n",
       "    </tr>\n",
       "    <tr>\n",
       "      <th>1838</th>\n",
       "      <td>thomas</td>\n",
       "      <td>0.000000</td>\n",
       "    </tr>\n",
       "    <tr>\n",
       "      <th>780</th>\n",
       "      <td>kevin</td>\n",
       "      <td>0.000000</td>\n",
       "    </tr>\n",
       "    <tr>\n",
       "      <th>1462</th>\n",
       "      <td>alert</td>\n",
       "      <td>0.000000</td>\n",
       "    </tr>\n",
       "    <tr>\n",
       "      <th>911</th>\n",
       "      <td>tune</td>\n",
       "      <td>0.754736</td>\n",
       "    </tr>\n",
       "    <tr>\n",
       "      <th>702</th>\n",
       "      <td>fair</td>\n",
       "      <td>1.497482</td>\n",
       "    </tr>\n",
       "    <tr>\n",
       "      <th>1301</th>\n",
       "      <td>french</td>\n",
       "      <td>1.518481</td>\n",
       "    </tr>\n",
       "    <tr>\n",
       "      <th>577</th>\n",
       "      <td>trick</td>\n",
       "      <td>1.644051</td>\n",
       "    </tr>\n",
       "    <tr>\n",
       "      <th>634</th>\n",
       "      <td>ii</td>\n",
       "      <td>2.314230</td>\n",
       "    </tr>\n",
       "    <tr>\n",
       "      <th>486</th>\n",
       "      <td>bird</td>\n",
       "      <td>2.840570</td>\n",
       "    </tr>\n",
       "    <tr>\n",
       "      <th>1089</th>\n",
       "      <td>q</td>\n",
       "      <td>2.905196</td>\n",
       "    </tr>\n",
       "    <tr>\n",
       "      <th>536</th>\n",
       "      <td>main</td>\n",
       "      <td>2.982463</td>\n",
       "    </tr>\n",
       "    <tr>\n",
       "      <th>1987</th>\n",
       "      <td>mt</td>\n",
       "      <td>3.342111</td>\n",
       "    </tr>\n",
       "    <tr>\n",
       "      <th>1018</th>\n",
       "      <td>jersey</td>\n",
       "      <td>3.408859</td>\n",
       "    </tr>\n",
       "    <tr>\n",
       "      <th>1068</th>\n",
       "      <td>track</td>\n",
       "      <td>3.479215</td>\n",
       "    </tr>\n",
       "    <tr>\n",
       "      <th>1530</th>\n",
       "      <td>reports</td>\n",
       "      <td>3.822792</td>\n",
       "    </tr>\n",
       "    <tr>\n",
       "      <th>41</th>\n",
       "      <td>opinion</td>\n",
       "      <td>3.939517</td>\n",
       "    </tr>\n",
       "    <tr>\n",
       "      <th>246</th>\n",
       "      <td>auto</td>\n",
       "      <td>3.968744</td>\n",
       "    </tr>\n",
       "    <tr>\n",
       "      <th>1011</th>\n",
       "      <td>lo</td>\n",
       "      <td>3.972018</td>\n",
       "    </tr>\n",
       "    <tr>\n",
       "      <th>2190</th>\n",
       "      <td>lt</td>\n",
       "      <td>4.104615</td>\n",
       "    </tr>\n",
       "    <tr>\n",
       "      <th>294</th>\n",
       "      <td>dir</td>\n",
       "      <td>4.174550</td>\n",
       "    </tr>\n",
       "    <tr>\n",
       "      <th>1147</th>\n",
       "      <td>ray</td>\n",
       "      <td>4.238129</td>\n",
       "    </tr>\n",
       "    <tr>\n",
       "      <th>440</th>\n",
       "      <td>size</td>\n",
       "      <td>4.430368</td>\n",
       "    </tr>\n",
       "    <tr>\n",
       "      <th>1081</th>\n",
       "      <td>pinned</td>\n",
       "      <td>4.507713</td>\n",
       "    </tr>\n",
       "    <tr>\n",
       "      <th>1877</th>\n",
       "      <td>currently</td>\n",
       "      <td>4.692734</td>\n",
       "    </tr>\n",
       "    <tr>\n",
       "      <th>1775</th>\n",
       "      <td>original</td>\n",
       "      <td>4.753661</td>\n",
       "    </tr>\n",
       "    <tr>\n",
       "      <th>768</th>\n",
       "      <td>recently</td>\n",
       "      <td>4.776205</td>\n",
       "    </tr>\n",
       "    <tr>\n",
       "      <th>180</th>\n",
       "      <td>shirt</td>\n",
       "      <td>4.828121</td>\n",
       "    </tr>\n",
       "    <tr>\n",
       "      <th>467</th>\n",
       "      <td>patch</td>\n",
       "      <td>4.996527</td>\n",
       "    </tr>\n",
       "    <tr>\n",
       "      <th>2066</th>\n",
       "      <td>retweeted</td>\n",
       "      <td>5.272417</td>\n",
       "    </tr>\n",
       "    <tr>\n",
       "      <th>182</th>\n",
       "      <td>bomb</td>\n",
       "      <td>5.336611</td>\n",
       "    </tr>\n",
       "    <tr>\n",
       "      <th>1776</th>\n",
       "      <td>pr</td>\n",
       "      <td>5.401635</td>\n",
       "    </tr>\n",
       "    <tr>\n",
       "      <th>1738</th>\n",
       "      <td>rt</td>\n",
       "      <td>5.465344</td>\n",
       "    </tr>\n",
       "    <tr>\n",
       "      <th>1159</th>\n",
       "      <td>agent</td>\n",
       "      <td>5.592523</td>\n",
       "    </tr>\n",
       "    <tr>\n",
       "      <th>755</th>\n",
       "      <td>chinese</td>\n",
       "      <td>5.678098</td>\n",
       "    </tr>\n",
       "    <tr>\n",
       "      <th>917</th>\n",
       "      <td>shoes</td>\n",
       "      <td>5.683203</td>\n",
       "    </tr>\n",
       "    <tr>\n",
       "      <th>1229</th>\n",
       "      <td>violence</td>\n",
       "      <td>5.699123</td>\n",
       "    </tr>\n",
       "    <tr>\n",
       "      <th>1191</th>\n",
       "      <td>age</td>\n",
       "      <td>6.058058</td>\n",
       "    </tr>\n",
       "    <tr>\n",
       "      <th>770</th>\n",
       "      <td>clear</td>\n",
       "      <td>6.363614</td>\n",
       "    </tr>\n",
       "    <tr>\n",
       "      <th>655</th>\n",
       "      <td>speed</td>\n",
       "      <td>6.390727</td>\n",
       "    </tr>\n",
       "    <tr>\n",
       "      <th>72</th>\n",
       "      <td>hiring</td>\n",
       "      <td>6.595014</td>\n",
       "    </tr>\n",
       "    <tr>\n",
       "      <th>1673</th>\n",
       "      <td>form</td>\n",
       "      <td>6.690705</td>\n",
       "    </tr>\n",
       "    <tr>\n",
       "      <th>1291</th>\n",
       "      <td>super</td>\n",
       "      <td>6.871950</td>\n",
       "    </tr>\n",
       "    <tr>\n",
       "      <th>1883</th>\n",
       "      <td>playing</td>\n",
       "      <td>6.888190</td>\n",
       "    </tr>\n",
       "    <tr>\n",
       "      <th>1904</th>\n",
       "      <td>earning</td>\n",
       "      <td>6.898035</td>\n",
       "    </tr>\n",
       "    <tr>\n",
       "      <th>1484</th>\n",
       "      <td>senior</td>\n",
       "      <td>7.000564</td>\n",
       "    </tr>\n",
       "    <tr>\n",
       "      <th>1379</th>\n",
       "      <td>via</td>\n",
       "      <td>7.234445</td>\n",
       "    </tr>\n",
       "    <tr>\n",
       "      <th>2030</th>\n",
       "      <td>closed</td>\n",
       "      <td>7.299393</td>\n",
       "    </tr>\n",
       "    <tr>\n",
       "      <th>1017</th>\n",
       "      <td>england</td>\n",
       "      <td>7.423368</td>\n",
       "    </tr>\n",
       "    <tr>\n",
       "      <th>1899</th>\n",
       "      <td>iphone</td>\n",
       "      <td>7.548570</td>\n",
       "    </tr>\n",
       "    <tr>\n",
       "      <th>2060</th>\n",
       "      <td>revolution</td>\n",
       "      <td>7.578175</td>\n",
       "    </tr>\n",
       "    <tr>\n",
       "      <th>599</th>\n",
       "      <td>race</td>\n",
       "      <td>7.620286</td>\n",
       "    </tr>\n",
       "    <tr>\n",
       "      <th>1541</th>\n",
       "      <td>eu</td>\n",
       "      <td>7.689719</td>\n",
       "    </tr>\n",
       "    <tr>\n",
       "      <th>371</th>\n",
       "      <td>se</td>\n",
       "      <td>7.737821</td>\n",
       "    </tr>\n",
       "    <tr>\n",
       "      <th>1041</th>\n",
       "      <td>cc</td>\n",
       "      <td>7.826573</td>\n",
       "    </tr>\n",
       "    <tr>\n",
       "      <th>613</th>\n",
       "      <td>beyond</td>\n",
       "      <td>7.868652</td>\n",
       "    </tr>\n",
       "    <tr>\n",
       "      <th>1076</th>\n",
       "      <td>mi</td>\n",
       "      <td>7.979516</td>\n",
       "    </tr>\n",
       "    <tr>\n",
       "      <th>152</th>\n",
       "      <td>current</td>\n",
       "      <td>7.985594</td>\n",
       "    </tr>\n",
       "    <tr>\n",
       "      <th>1705</th>\n",
       "      <td>te</td>\n",
       "      <td>8.022769</td>\n",
       "    </tr>\n",
       "    <tr>\n",
       "      <th>686</th>\n",
       "      <td>above</td>\n",
       "      <td>8.299008</td>\n",
       "    </tr>\n",
       "    <tr>\n",
       "      <th>2245</th>\n",
       "      <td>among</td>\n",
       "      <td>8.323921</td>\n",
       "    </tr>\n",
       "    <tr>\n",
       "      <th>1207</th>\n",
       "      <td>its</td>\n",
       "      <td>8.332440</td>\n",
       "    </tr>\n",
       "    <tr>\n",
       "      <th>2158</th>\n",
       "      <td>lines</td>\n",
       "      <td>8.393153</td>\n",
       "    </tr>\n",
       "    <tr>\n",
       "      <th>1091</th>\n",
       "      <td>common</td>\n",
       "      <td>8.400356</td>\n",
       "    </tr>\n",
       "    <tr>\n",
       "      <th>1512</th>\n",
       "      <td>host</td>\n",
       "      <td>8.500509</td>\n",
       "    </tr>\n",
       "    <tr>\n",
       "      <th>555</th>\n",
       "      <td>screen</td>\n",
       "      <td>8.571662</td>\n",
       "    </tr>\n",
       "    <tr>\n",
       "      <th>235</th>\n",
       "      <td>fit</td>\n",
       "      <td>8.645559</td>\n",
       "    </tr>\n",
       "    <tr>\n",
       "      <th>1040</th>\n",
       "      <td>security</td>\n",
       "      <td>8.677929</td>\n",
       "    </tr>\n",
       "    <tr>\n",
       "      <th>2056</th>\n",
       "      <td>stock</td>\n",
       "      <td>8.684639</td>\n",
       "    </tr>\n",
       "    <tr>\n",
       "      <th>78</th>\n",
       "      <td>smoke</td>\n",
       "      <td>8.704777</td>\n",
       "    </tr>\n",
       "    <tr>\n",
       "      <th>538</th>\n",
       "      <td>uk</td>\n",
       "      <td>8.832777</td>\n",
       "    </tr>\n",
       "    <tr>\n",
       "      <th>1696</th>\n",
       "      <td>china</td>\n",
       "      <td>8.916512</td>\n",
       "    </tr>\n",
       "    <tr>\n",
       "      <th>1995</th>\n",
       "      <td>rising</td>\n",
       "      <td>8.996737</td>\n",
       "    </tr>\n",
       "    <tr>\n",
       "      <th>105</th>\n",
       "      <td>card</td>\n",
       "      <td>9.006854</td>\n",
       "    </tr>\n",
       "    <tr>\n",
       "      <th>1692</th>\n",
       "      <td>coach</td>\n",
       "      <td>9.124519</td>\n",
       "    </tr>\n",
       "    <tr>\n",
       "      <th>366</th>\n",
       "      <td>number</td>\n",
       "      <td>9.288154</td>\n",
       "    </tr>\n",
       "    <tr>\n",
       "      <th>936</th>\n",
       "      <td>beats</td>\n",
       "      <td>9.320802</td>\n",
       "    </tr>\n",
       "    <tr>\n",
       "      <th>155</th>\n",
       "      <td>checked</td>\n",
       "      <td>9.334447</td>\n",
       "    </tr>\n",
       "    <tr>\n",
       "      <th>1146</th>\n",
       "      <td>released</td>\n",
       "      <td>9.370585</td>\n",
       "    </tr>\n",
       "    <tr>\n",
       "      <th>1950</th>\n",
       "      <td>reveal</td>\n",
       "      <td>9.402174</td>\n",
       "    </tr>\n",
       "    <tr>\n",
       "      <th>1298</th>\n",
       "      <td>character</td>\n",
       "      <td>9.426446</td>\n",
       "    </tr>\n",
       "    <tr>\n",
       "      <th>728</th>\n",
       "      <td>tip</td>\n",
       "      <td>9.570180</td>\n",
       "    </tr>\n",
       "    <tr>\n",
       "      <th>1674</th>\n",
       "      <td>case</td>\n",
       "      <td>9.632468</td>\n",
       "    </tr>\n",
       "    <tr>\n",
       "      <th>116</th>\n",
       "      <td>involved</td>\n",
       "      <td>9.636788</td>\n",
       "    </tr>\n",
       "    <tr>\n",
       "      <th>1178</th>\n",
       "      <td>attack</td>\n",
       "      <td>9.736967</td>\n",
       "    </tr>\n",
       "    <tr>\n",
       "      <th>1728</th>\n",
       "      <td>records</td>\n",
       "      <td>9.771403</td>\n",
       "    </tr>\n",
       "    <tr>\n",
       "      <th>1907</th>\n",
       "      <td>wide</td>\n",
       "      <td>9.870410</td>\n",
       "    </tr>\n",
       "    <tr>\n",
       "      <th>370</th>\n",
       "      <td>books</td>\n",
       "      <td>9.877749</td>\n",
       "    </tr>\n",
       "    <tr>\n",
       "      <th>1638</th>\n",
       "      <td>co</td>\n",
       "      <td>9.883294</td>\n",
       "    </tr>\n",
       "    <tr>\n",
       "      <th>978</th>\n",
       "      <td>single</td>\n",
       "      <td>9.918245</td>\n",
       "    </tr>\n",
       "    <tr>\n",
       "      <th>173</th>\n",
       "      <td>freedom</td>\n",
       "      <td>10.025413</td>\n",
       "    </tr>\n",
       "    <tr>\n",
       "      <th>983</th>\n",
       "      <td>hat</td>\n",
       "      <td>10.056850</td>\n",
       "    </tr>\n",
       "    <tr>\n",
       "      <th>1990</th>\n",
       "      <td>culture</td>\n",
       "      <td>10.066753</td>\n",
       "    </tr>\n",
       "    <tr>\n",
       "      <th>472</th>\n",
       "      <td>stars</td>\n",
       "      <td>10.094027</td>\n",
       "    </tr>\n",
       "    <tr>\n",
       "      <th>1542</th>\n",
       "      <td>society</td>\n",
       "      <td>10.100961</td>\n",
       "    </tr>\n",
       "    <tr>\n",
       "      <th>720</th>\n",
       "      <td>property</td>\n",
       "      <td>10.210186</td>\n",
       "    </tr>\n",
       "    <tr>\n",
       "      <th>1951</th>\n",
       "      <td>market</td>\n",
       "      <td>10.283821</td>\n",
       "    </tr>\n",
       "    <tr>\n",
       "      <th>1295</th>\n",
       "      <td>studio</td>\n",
       "      <td>10.471820</td>\n",
       "    </tr>\n",
       "    <tr>\n",
       "      <th>1646</th>\n",
       "      <td>water</td>\n",
       "      <td>10.530691</td>\n",
       "    </tr>\n",
       "    <tr>\n",
       "      <th>972</th>\n",
       "      <td>science</td>\n",
       "      <td>10.579351</td>\n",
       "    </tr>\n",
       "    <tr>\n",
       "      <th>2110</th>\n",
       "      <td>golden</td>\n",
       "      <td>10.586300</td>\n",
       "    </tr>\n",
       "    <tr>\n",
       "      <th>2167</th>\n",
       "      <td>usa</td>\n",
       "      <td>10.628421</td>\n",
       "    </tr>\n",
       "    <tr>\n",
       "      <th>1656</th>\n",
       "      <td>lebron</td>\n",
       "      <td>10.690891</td>\n",
       "    </tr>\n",
       "    <tr>\n",
       "      <th>1823</th>\n",
       "      <td>murder</td>\n",
       "      <td>10.693757</td>\n",
       "    </tr>\n",
       "    <tr>\n",
       "      <th>123</th>\n",
       "      <td>cops</td>\n",
       "      <td>10.765272</td>\n",
       "    </tr>\n",
       "    <tr>\n",
       "      <th>1440</th>\n",
       "      <td>order</td>\n",
       "      <td>10.770972</td>\n",
       "    </tr>\n",
       "    <tr>\n",
       "      <th>1892</th>\n",
       "      <td>honest</td>\n",
       "      <td>10.860539</td>\n",
       "    </tr>\n",
       "    <tr>\n",
       "      <th>735</th>\n",
       "      <td>related</td>\n",
       "      <td>10.870789</td>\n",
       "    </tr>\n",
       "    <tr>\n",
       "      <th>2121</th>\n",
       "      <td>word</td>\n",
       "      <td>10.940420</td>\n",
       "    </tr>\n",
       "    <tr>\n",
       "      <th>1432</th>\n",
       "      <td>korea</td>\n",
       "      <td>10.944346</td>\n",
       "    </tr>\n",
       "    <tr>\n",
       "      <th>2126</th>\n",
       "      <td>land</td>\n",
       "      <td>10.956525</td>\n",
       "    </tr>\n",
       "    <tr>\n",
       "      <th>1129</th>\n",
       "      <td>private</td>\n",
       "      <td>11.011707</td>\n",
       "    </tr>\n",
       "    <tr>\n",
       "      <th>1430</th>\n",
       "      <td>beginning</td>\n",
       "      <td>11.018452</td>\n",
       "    </tr>\n",
       "    <tr>\n",
       "      <th>157</th>\n",
       "      <td>shows</td>\n",
       "      <td>11.034436</td>\n",
       "    </tr>\n",
       "    <tr>\n",
       "      <th>2001</th>\n",
       "      <td>booth</td>\n",
       "      <td>11.125853</td>\n",
       "    </tr>\n",
       "    <tr>\n",
       "      <th>759</th>\n",
       "      <td>issue</td>\n",
       "      <td>11.171522</td>\n",
       "    </tr>\n",
       "    <tr>\n",
       "      <th>1239</th>\n",
       "      <td>unit</td>\n",
       "      <td>11.177736</td>\n",
       "    </tr>\n",
       "    <tr>\n",
       "      <th>736</th>\n",
       "      <td>rights</td>\n",
       "      <td>11.213854</td>\n",
       "    </tr>\n",
       "    <tr>\n",
       "      <th>738</th>\n",
       "      <td>monster</td>\n",
       "      <td>11.222857</td>\n",
       "    </tr>\n",
       "    <tr>\n",
       "      <th>1383</th>\n",
       "      <td>address</td>\n",
       "      <td>11.240744</td>\n",
       "    </tr>\n",
       "    <tr>\n",
       "      <th>1332</th>\n",
       "      <td>names</td>\n",
       "      <td>11.259794</td>\n",
       "    </tr>\n",
       "    <tr>\n",
       "      <th>2127</th>\n",
       "      <td>view</td>\n",
       "      <td>11.267767</td>\n",
       "    </tr>\n",
       "    <tr>\n",
       "      <th>685</th>\n",
       "      <td>trade</td>\n",
       "      <td>11.293874</td>\n",
       "    </tr>\n",
       "    <tr>\n",
       "      <th>766</th>\n",
       "      <td>cars</td>\n",
       "      <td>11.297001</td>\n",
       "    </tr>\n",
       "    <tr>\n",
       "      <th>481</th>\n",
       "      <td>upcoming</td>\n",
       "      <td>11.304415</td>\n",
       "    </tr>\n",
       "    <tr>\n",
       "      <th>908</th>\n",
       "      <td>fear</td>\n",
       "      <td>11.311521</td>\n",
       "    </tr>\n",
       "    <tr>\n",
       "      <th>74</th>\n",
       "      <td>robert</td>\n",
       "      <td>11.327689</td>\n",
       "    </tr>\n",
       "    <tr>\n",
       "      <th>774</th>\n",
       "      <td>master</td>\n",
       "      <td>11.356028</td>\n",
       "    </tr>\n",
       "    <tr>\n",
       "      <th>8</th>\n",
       "      <td>bank</td>\n",
       "      <td>11.376471</td>\n",
       "    </tr>\n",
       "    <tr>\n",
       "      <th>2015</th>\n",
       "      <td>states</td>\n",
       "      <td>11.487088</td>\n",
       "    </tr>\n",
       "    <tr>\n",
       "      <th>548</th>\n",
       "      <td>surprise</td>\n",
       "      <td>11.504164</td>\n",
       "    </tr>\n",
       "    <tr>\n",
       "      <th>92</th>\n",
       "      <td>floyd</td>\n",
       "      <td>11.505526</td>\n",
       "    </tr>\n",
       "    <tr>\n",
       "      <th>1151</th>\n",
       "      <td>manager</td>\n",
       "      <td>11.534728</td>\n",
       "    </tr>\n",
       "    <tr>\n",
       "      <th>747</th>\n",
       "      <td>recommend</td>\n",
       "      <td>11.593468</td>\n",
       "    </tr>\n",
       "    <tr>\n",
       "      <th>1487</th>\n",
       "      <td>growth</td>\n",
       "      <td>11.614239</td>\n",
       "    </tr>\n",
       "    <tr>\n",
       "      <th>1119</th>\n",
       "      <td>official</td>\n",
       "      <td>11.622846</td>\n",
       "    </tr>\n",
       "    <tr>\n",
       "      <th>557</th>\n",
       "      <td>part</td>\n",
       "      <td>11.642073</td>\n",
       "    </tr>\n",
       "    <tr>\n",
       "      <th>1116</th>\n",
       "      <td>hidden</td>\n",
       "      <td>11.682660</td>\n",
       "    </tr>\n",
       "    <tr>\n",
       "      <th>2197</th>\n",
       "      <td>dead</td>\n",
       "      <td>11.699920</td>\n",
       "    </tr>\n",
       "    <tr>\n",
       "      <th>2079</th>\n",
       "      <td>butler</td>\n",
       "      <td>11.737781</td>\n",
       "    </tr>\n",
       "    <tr>\n",
       "      <th>1156</th>\n",
       "      <td>political</td>\n",
       "      <td>11.785890</td>\n",
       "    </tr>\n",
       "    <tr>\n",
       "      <th>2005</th>\n",
       "      <td>calls</td>\n",
       "      <td>11.866028</td>\n",
       "    </tr>\n",
       "    <tr>\n",
       "      <th>251</th>\n",
       "      <td>below</td>\n",
       "      <td>11.892519</td>\n",
       "    </tr>\n",
       "    <tr>\n",
       "      <th>1604</th>\n",
       "      <td>words</td>\n",
       "      <td>11.894283</td>\n",
       "    </tr>\n",
       "    <tr>\n",
       "      <th>158</th>\n",
       "      <td>release</td>\n",
       "      <td>11.901539</td>\n",
       "    </tr>\n",
       "    <tr>\n",
       "      <th>1418</th>\n",
       "      <td>without</td>\n",
       "      <td>11.909502</td>\n",
       "    </tr>\n",
       "    <tr>\n",
       "      <th>1270</th>\n",
       "      <td>companies</td>\n",
       "      <td>11.966952</td>\n",
       "    </tr>\n",
       "    <tr>\n",
       "      <th>1945</th>\n",
       "      <td>non</td>\n",
       "      <td>12.001847</td>\n",
       "    </tr>\n",
       "    <tr>\n",
       "      <th>673</th>\n",
       "      <td>large</td>\n",
       "      <td>12.066896</td>\n",
       "    </tr>\n",
       "    <tr>\n",
       "      <th>545</th>\n",
       "      <td>bruins</td>\n",
       "      <td>12.126116</td>\n",
       "    </tr>\n",
       "    <tr>\n",
       "      <th>1451</th>\n",
       "      <td>relationships</td>\n",
       "      <td>12.128336</td>\n",
       "    </tr>\n",
       "    <tr>\n",
       "      <th>1614</th>\n",
       "      <td>hurricane</td>\n",
       "      <td>12.153231</td>\n",
       "    </tr>\n",
       "    <tr>\n",
       "      <th>1834</th>\n",
       "      <td>stats</td>\n",
       "      <td>12.157335</td>\n",
       "    </tr>\n",
       "    <tr>\n",
       "      <th>1540</th>\n",
       "      <td>parade</td>\n",
       "      <td>12.220333</td>\n",
       "    </tr>\n",
       "    <tr>\n",
       "      <th>1898</th>\n",
       "      <td>speak</td>\n",
       "      <td>12.230217</td>\n",
       "    </tr>\n",
       "    <tr>\n",
       "      <th>867</th>\n",
       "      <td>consumer</td>\n",
       "      <td>12.316568</td>\n",
       "    </tr>\n",
       "    <tr>\n",
       "      <th>982</th>\n",
       "      <td>military</td>\n",
       "      <td>12.320779</td>\n",
       "    </tr>\n",
       "    <tr>\n",
       "      <th>675</th>\n",
       "      <td>na</td>\n",
       "      <td>12.357047</td>\n",
       "    </tr>\n",
       "    <tr>\n",
       "      <th>712</th>\n",
       "      <td>signs</td>\n",
       "      <td>12.380839</td>\n",
       "    </tr>\n",
       "    <tr>\n",
       "      <th>1039</th>\n",
       "      <td>tax</td>\n",
       "      <td>12.416655</td>\n",
       "    </tr>\n",
       "    <tr>\n",
       "      <th>1189</th>\n",
       "      <td>sold</td>\n",
       "      <td>12.436122</td>\n",
       "    </tr>\n",
       "    <tr>\n",
       "      <th>2219</th>\n",
       "      <td>recent</td>\n",
       "      <td>12.450236</td>\n",
       "    </tr>\n",
       "    <tr>\n",
       "      <th>802</th>\n",
       "      <td>test</td>\n",
       "      <td>12.502071</td>\n",
       "    </tr>\n",
       "    <tr>\n",
       "      <th>416</th>\n",
       "      <td>fan</td>\n",
       "      <td>12.525581</td>\n",
       "    </tr>\n",
       "    <tr>\n",
       "      <th>1131</th>\n",
       "      <td>due</td>\n",
       "      <td>12.538527</td>\n",
       "    </tr>\n",
       "    <tr>\n",
       "      <th>897</th>\n",
       "      <td>created</td>\n",
       "      <td>12.571579</td>\n",
       "    </tr>\n",
       "    <tr>\n",
       "      <th>1643</th>\n",
       "      <td>spot</td>\n",
       "      <td>12.591755</td>\n",
       "    </tr>\n",
       "    <tr>\n",
       "      <th>1623</th>\n",
       "      <td>millions</td>\n",
       "      <td>12.597868</td>\n",
       "    </tr>\n",
       "    <tr>\n",
       "      <th>1177</th>\n",
       "      <td>cash</td>\n",
       "      <td>12.616304</td>\n",
       "    </tr>\n",
       "    <tr>\n",
       "      <th>695</th>\n",
       "      <td>cards</td>\n",
       "      <td>12.622399</td>\n",
       "    </tr>\n",
       "    <tr>\n",
       "      <th>2205</th>\n",
       "      <td>animal</td>\n",
       "      <td>12.685319</td>\n",
       "    </tr>\n",
       "    <tr>\n",
       "      <th>2204</th>\n",
       "      <td>death</td>\n",
       "      <td>12.696617</td>\n",
       "    </tr>\n",
       "    <tr>\n",
       "      <th>218</th>\n",
       "      <td>judge</td>\n",
       "      <td>12.714211</td>\n",
       "    </tr>\n",
       "    <tr>\n",
       "      <th>2166</th>\n",
       "      <td>fitness</td>\n",
       "      <td>12.734765</td>\n",
       "    </tr>\n",
       "    <tr>\n",
       "      <th>805</th>\n",
       "      <td>reminder</td>\n",
       "      <td>12.742269</td>\n",
       "    </tr>\n",
       "    <tr>\n",
       "      <th>1975</th>\n",
       "      <td>register</td>\n",
       "      <td>12.765900</td>\n",
       "    </tr>\n",
       "    <tr>\n",
       "      <th>448</th>\n",
       "      <td>claim</td>\n",
       "      <td>12.801574</td>\n",
       "    </tr>\n",
       "    <tr>\n",
       "      <th>309</th>\n",
       "      <td>collection</td>\n",
       "      <td>12.913275</td>\n",
       "    </tr>\n",
       "    <tr>\n",
       "      <th>1723</th>\n",
       "      <td>notes</td>\n",
       "      <td>12.953222</td>\n",
       "    </tr>\n",
       "    <tr>\n",
       "      <th>1830</th>\n",
       "      <td>cover</td>\n",
       "      <td>13.001019</td>\n",
       "    </tr>\n",
       "    <tr>\n",
       "      <th>1897</th>\n",
       "      <td>offers</td>\n",
       "      <td>13.019084</td>\n",
       "    </tr>\n",
       "    <tr>\n",
       "      <th>691</th>\n",
       "      <td>af</td>\n",
       "      <td>13.046092</td>\n",
       "    </tr>\n",
       "    <tr>\n",
       "      <th>862</th>\n",
       "      <td>rip</td>\n",
       "      <td>13.047354</td>\n",
       "    </tr>\n",
       "    <tr>\n",
       "      <th>563</th>\n",
       "      <td>expert</td>\n",
       "      <td>13.077316</td>\n",
       "    </tr>\n",
       "    <tr>\n",
       "      <th>1141</th>\n",
       "      <td>ms</td>\n",
       "      <td>13.102223</td>\n",
       "    </tr>\n",
       "    <tr>\n",
       "      <th>1666</th>\n",
       "      <td>discussion</td>\n",
       "      <td>13.110697</td>\n",
       "    </tr>\n",
       "    <tr>\n",
       "      <th>1915</th>\n",
       "      <td>held</td>\n",
       "      <td>13.117051</td>\n",
       "    </tr>\n",
       "    <tr>\n",
       "      <th>520</th>\n",
       "      <td>against</td>\n",
       "      <td>13.135175</td>\n",
       "    </tr>\n",
       "    <tr>\n",
       "      <th>135</th>\n",
       "      <td>tweets</td>\n",
       "      <td>13.225033</td>\n",
       "    </tr>\n",
       "    <tr>\n",
       "      <th>642</th>\n",
       "      <td>deal</td>\n",
       "      <td>13.308258</td>\n",
       "    </tr>\n",
       "    <tr>\n",
       "      <th>1839</th>\n",
       "      <td>report</td>\n",
       "      <td>13.321021</td>\n",
       "    </tr>\n",
       "    <tr>\n",
       "      <th>906</th>\n",
       "      <td>news</td>\n",
       "      <td>13.329813</td>\n",
       "    </tr>\n",
       "    <tr>\n",
       "      <th>1095</th>\n",
       "      <td>pro</td>\n",
       "      <td>13.350329</td>\n",
       "    </tr>\n",
       "    <tr>\n",
       "      <th>433</th>\n",
       "      <td>latest</td>\n",
       "      <td>13.350431</td>\n",
       "    </tr>\n",
       "    <tr>\n",
       "      <th>120</th>\n",
       "      <td>journey</td>\n",
       "      <td>13.366350</td>\n",
       "    </tr>\n",
       "    <tr>\n",
       "      <th>1174</th>\n",
       "      <td>delivery</td>\n",
       "      <td>13.371575</td>\n",
       "    </tr>\n",
       "    <tr>\n",
       "      <th>1819</th>\n",
       "      <td>woke</td>\n",
       "      <td>13.374340</td>\n",
       "    </tr>\n",
       "    <tr>\n",
       "      <th>2237</th>\n",
       "      <td>breaking</td>\n",
       "      <td>13.439689</td>\n",
       "    </tr>\n",
       "    <tr>\n",
       "      <th>127</th>\n",
       "      <td>author</td>\n",
       "      <td>13.450789</td>\n",
       "    </tr>\n",
       "    <tr>\n",
       "      <th>1482</th>\n",
       "      <td>major</td>\n",
       "      <td>13.458496</td>\n",
       "    </tr>\n",
       "    <tr>\n",
       "      <th>870</th>\n",
       "      <td>tools</td>\n",
       "      <td>13.466138</td>\n",
       "    </tr>\n",
       "    <tr>\n",
       "      <th>760</th>\n",
       "      <td>between</td>\n",
       "      <td>13.512348</td>\n",
       "    </tr>\n",
       "    <tr>\n",
       "      <th>2125</th>\n",
       "      <td>discover</td>\n",
       "      <td>13.529094</td>\n",
       "    </tr>\n",
       "    <tr>\n",
       "      <th>1303</th>\n",
       "      <td>shift</td>\n",
       "      <td>13.532023</td>\n",
       "    </tr>\n",
       "    <tr>\n",
       "      <th>1624</th>\n",
       "      <td>slow</td>\n",
       "      <td>13.597615</td>\n",
       "    </tr>\n",
       "    <tr>\n",
       "      <th>2175</th>\n",
       "      <td>voted</td>\n",
       "      <td>13.653631</td>\n",
       "    </tr>\n",
       "    <tr>\n",
       "      <th>1222</th>\n",
       "      <td>of</td>\n",
       "      <td>13.693551</td>\n",
       "    </tr>\n",
       "    <tr>\n",
       "      <th>697</th>\n",
       "      <td>negative</td>\n",
       "      <td>13.701904</td>\n",
       "    </tr>\n",
       "    <tr>\n",
       "      <th>942</th>\n",
       "      <td>challenge</td>\n",
       "      <td>13.710622</td>\n",
       "    </tr>\n",
       "    <tr>\n",
       "      <th>604</th>\n",
       "      <td>residents</td>\n",
       "      <td>13.731962</td>\n",
       "    </tr>\n",
       "    <tr>\n",
       "      <th>1955</th>\n",
       "      <td>advice</td>\n",
       "      <td>13.754859</td>\n",
       "    </tr>\n",
       "    <tr>\n",
       "      <th>1519</th>\n",
       "      <td>camera</td>\n",
       "      <td>13.788145</td>\n",
       "    </tr>\n",
       "    <tr>\n",
       "      <th>676</th>\n",
       "      <td>miles</td>\n",
       "      <td>13.826858</td>\n",
       "    </tr>\n",
       "    <tr>\n",
       "      <th>302</th>\n",
       "      <td>including</td>\n",
       "      <td>13.832104</td>\n",
       "    </tr>\n",
       "    <tr>\n",
       "      <th>754</th>\n",
       "      <td>according</td>\n",
       "      <td>13.840241</td>\n",
       "    </tr>\n",
       "    <tr>\n",
       "      <th>90</th>\n",
       "      <td>event</td>\n",
       "      <td>13.846973</td>\n",
       "    </tr>\n",
       "    <tr>\n",
       "      <th>1001</th>\n",
       "      <td>continues</td>\n",
       "      <td>13.855632</td>\n",
       "    </tr>\n",
       "    <tr>\n",
       "      <th>2120</th>\n",
       "      <td>talks</td>\n",
       "      <td>13.895654</td>\n",
       "    </tr>\n",
       "    <tr>\n",
       "      <th>327</th>\n",
       "      <td>positive</td>\n",
       "      <td>13.934215</td>\n",
       "    </tr>\n",
       "    <tr>\n",
       "      <th>663</th>\n",
       "      <td>although</td>\n",
       "      <td>13.978507</td>\n",
       "    </tr>\n",
       "    <tr>\n",
       "      <th>2222</th>\n",
       "      <td>disease</td>\n",
       "      <td>14.043936</td>\n",
       "    </tr>\n",
       "    <tr>\n",
       "      <th>190</th>\n",
       "      <td>remove</td>\n",
       "      <td>14.067150</td>\n",
       "    </tr>\n",
       "    <tr>\n",
       "      <th>898</th>\n",
       "      <td>healthcare</td>\n",
       "      <td>14.154814</td>\n",
       "    </tr>\n",
       "    <tr>\n",
       "      <th>1078</th>\n",
       "      <td>base</td>\n",
       "      <td>14.186877</td>\n",
       "    </tr>\n",
       "    <tr>\n",
       "      <th>488</th>\n",
       "      <td>certain</td>\n",
       "      <td>14.200788</td>\n",
       "    </tr>\n",
       "    <tr>\n",
       "      <th>1021</th>\n",
       "      <td>definition</td>\n",
       "      <td>14.280754</td>\n",
       "    </tr>\n",
       "    <tr>\n",
       "      <th>570</th>\n",
       "      <td>left</td>\n",
       "      <td>14.300483</td>\n",
       "    </tr>\n",
       "    <tr>\n",
       "      <th>996</th>\n",
       "      <td>ex</td>\n",
       "      <td>14.390487</td>\n",
       "    </tr>\n",
       "    <tr>\n",
       "      <th>903</th>\n",
       "      <td>extra</td>\n",
       "      <td>14.441976</td>\n",
       "    </tr>\n",
       "    <tr>\n",
       "      <th>498</th>\n",
       "      <td>nature</td>\n",
       "      <td>14.498171</td>\n",
       "    </tr>\n",
       "    <tr>\n",
       "      <th>688</th>\n",
       "      <td>path</td>\n",
       "      <td>14.501864</td>\n",
       "    </tr>\n",
       "    <tr>\n",
       "      <th>1404</th>\n",
       "      <td>travel</td>\n",
       "      <td>14.511637</td>\n",
       "    </tr>\n",
       "    <tr>\n",
       "      <th>1057</th>\n",
       "      <td>pressure</td>\n",
       "      <td>14.537173</td>\n",
       "    </tr>\n",
       "    <tr>\n",
       "      <th>541</th>\n",
       "      <td>shout</td>\n",
       "      <td>14.571985</td>\n",
       "    </tr>\n",
       "    <tr>\n",
       "      <th>1477</th>\n",
       "      <td>id</td>\n",
       "      <td>14.599397</td>\n",
       "    </tr>\n",
       "    <tr>\n",
       "      <th>2183</th>\n",
       "      <td>for</td>\n",
       "      <td>14.608753</td>\n",
       "    </tr>\n",
       "    <tr>\n",
       "      <th>194</th>\n",
       "      <td>issues</td>\n",
       "      <td>14.614837</td>\n",
       "    </tr>\n",
       "    <tr>\n",
       "      <th>112</th>\n",
       "      <td>amazon</td>\n",
       "      <td>14.726220</td>\n",
       "    </tr>\n",
       "    <tr>\n",
       "      <th>826</th>\n",
       "      <td>mess</td>\n",
       "      <td>14.744978</td>\n",
       "    </tr>\n",
       "    <tr>\n",
       "      <th>241</th>\n",
       "      <td>magic</td>\n",
       "      <td>14.760749</td>\n",
       "    </tr>\n",
       "    <tr>\n",
       "      <th>1261</th>\n",
       "      <td>wild</td>\n",
       "      <td>14.785697</td>\n",
       "    </tr>\n",
       "    <tr>\n",
       "      <th>926</th>\n",
       "      <td>jackson</td>\n",
       "      <td>14.791709</td>\n",
       "    </tr>\n",
       "    <tr>\n",
       "      <th>252</th>\n",
       "      <td>top</td>\n",
       "      <td>14.861328</td>\n",
       "    </tr>\n",
       "    <tr>\n",
       "      <th>1547</th>\n",
       "      <td>artist</td>\n",
       "      <td>14.886639</td>\n",
       "    </tr>\n",
       "    <tr>\n",
       "      <th>177</th>\n",
       "      <td>valley</td>\n",
       "      <td>14.936585</td>\n",
       "    </tr>\n",
       "    <tr>\n",
       "      <th>126</th>\n",
       "      <td>standing</td>\n",
       "      <td>14.958379</td>\n",
       "    </tr>\n",
       "    <tr>\n",
       "      <th>1374</th>\n",
       "      <td>closet</td>\n",
       "      <td>14.973283</td>\n",
       "    </tr>\n",
       "    <tr>\n",
       "      <th>2084</th>\n",
       "      <td>blocked</td>\n",
       "      <td>14.987532</td>\n",
       "    </tr>\n",
       "    <tr>\n",
       "      <th>1906</th>\n",
       "      <td>actual</td>\n",
       "      <td>14.994589</td>\n",
       "    </tr>\n",
       "    <tr>\n",
       "      <th>1802</th>\n",
       "      <td>racist</td>\n",
       "      <td>15.001460</td>\n",
       "    </tr>\n",
       "    <tr>\n",
       "      <th>788</th>\n",
       "      <td>asshole</td>\n",
       "      <td>15.033455</td>\n",
       "    </tr>\n",
       "    <tr>\n",
       "      <th>1122</th>\n",
       "      <td>dance</td>\n",
       "      <td>15.068924</td>\n",
       "    </tr>\n",
       "    <tr>\n",
       "      <th>1553</th>\n",
       "      <td>assistant</td>\n",
       "      <td>15.069275</td>\n",
       "    </tr>\n",
       "    <tr>\n",
       "      <th>1314</th>\n",
       "      <td>each</td>\n",
       "      <td>15.118234</td>\n",
       "    </tr>\n",
       "    <tr>\n",
       "      <th>1172</th>\n",
       "      <td>about</td>\n",
       "      <td>15.120350</td>\n",
       "    </tr>\n",
       "    <tr>\n",
       "      <th>1649</th>\n",
       "      <td>hi</td>\n",
       "      <td>15.206484</td>\n",
       "    </tr>\n",
       "    <tr>\n",
       "      <th>375</th>\n",
       "      <td>weekly</td>\n",
       "      <td>15.207803</td>\n",
       "    </tr>\n",
       "    <tr>\n",
       "      <th>713</th>\n",
       "      <td>court</td>\n",
       "      <td>15.210089</td>\n",
       "    </tr>\n",
       "    <tr>\n",
       "      <th>703</th>\n",
       "      <td>regular</td>\n",
       "      <td>15.251466</td>\n",
       "    </tr>\n",
       "    <tr>\n",
       "      <th>1664</th>\n",
       "      <td>level</td>\n",
       "      <td>15.262144</td>\n",
       "    </tr>\n",
       "    <tr>\n",
       "      <th>1026</th>\n",
       "      <td>effort</td>\n",
       "      <td>15.279634</td>\n",
       "    </tr>\n",
       "    <tr>\n",
       "      <th>1362</th>\n",
       "      <td>famous</td>\n",
       "      <td>15.297691</td>\n",
       "    </tr>\n",
       "    <tr>\n",
       "      <th>1560</th>\n",
       "      <td>dj</td>\n",
       "      <td>15.343614</td>\n",
       "    </tr>\n",
       "    <tr>\n",
       "      <th>1135</th>\n",
       "      <td>modern</td>\n",
       "      <td>15.355627</td>\n",
       "    </tr>\n",
       "    <tr>\n",
       "      <th>1818</th>\n",
       "      <td>paper</td>\n",
       "      <td>15.372020</td>\n",
       "    </tr>\n",
       "    <tr>\n",
       "      <th>1548</th>\n",
       "      <td>unfollowed</td>\n",
       "      <td>15.381522</td>\n",
       "    </tr>\n",
       "    <tr>\n",
       "      <th>2198</th>\n",
       "      <td>amp</td>\n",
       "      <td>15.389381</td>\n",
       "    </tr>\n",
       "    <tr>\n",
       "      <th>1485</th>\n",
       "      <td>boys</td>\n",
       "      <td>15.430719</td>\n",
       "    </tr>\n",
       "    <tr>\n",
       "      <th>809</th>\n",
       "      <td>automatically</td>\n",
       "      <td>15.464940</td>\n",
       "    </tr>\n",
       "    <tr>\n",
       "      <th>1755</th>\n",
       "      <td>idiot</td>\n",
       "      <td>15.477363</td>\n",
       "    </tr>\n",
       "    <tr>\n",
       "      <th>1395</th>\n",
       "      <td>roll</td>\n",
       "      <td>15.522111</td>\n",
       "    </tr>\n",
       "    <tr>\n",
       "      <th>1469</th>\n",
       "      <td>hr</td>\n",
       "      <td>15.545387</td>\n",
       "    </tr>\n",
       "    <tr>\n",
       "      <th>136</th>\n",
       "      <td>texas</td>\n",
       "      <td>15.551014</td>\n",
       "    </tr>\n",
       "    <tr>\n",
       "      <th>725</th>\n",
       "      <td>forever</td>\n",
       "      <td>15.579092</td>\n",
       "    </tr>\n",
       "    <tr>\n",
       "      <th>1963</th>\n",
       "      <td>ca</td>\n",
       "      <td>15.596754</td>\n",
       "    </tr>\n",
       "    <tr>\n",
       "      <th>1429</th>\n",
       "      <td>while</td>\n",
       "      <td>15.627470</td>\n",
       "    </tr>\n",
       "    <tr>\n",
       "      <th>547</th>\n",
       "      <td>effect</td>\n",
       "      <td>15.632420</td>\n",
       "    </tr>\n",
       "    <tr>\n",
       "      <th>1780</th>\n",
       "      <td>la</td>\n",
       "      <td>15.660259</td>\n",
       "    </tr>\n",
       "    <tr>\n",
       "      <th>9</th>\n",
       "      <td>cod</td>\n",
       "      <td>15.666779</td>\n",
       "    </tr>\n",
       "    <tr>\n",
       "      <th>1117</th>\n",
       "      <td>nuclear</td>\n",
       "      <td>15.670135</td>\n",
       "    </tr>\n",
       "    <tr>\n",
       "      <th>1243</th>\n",
       "      <td>join</td>\n",
       "      <td>15.733048</td>\n",
       "    </tr>\n",
       "    <tr>\n",
       "      <th>1038</th>\n",
       "      <td>by</td>\n",
       "      <td>15.748669</td>\n",
       "    </tr>\n",
       "    <tr>\n",
       "      <th>217</th>\n",
       "      <td>million</td>\n",
       "      <td>15.750622</td>\n",
       "    </tr>\n",
       "    <tr>\n",
       "      <th>624</th>\n",
       "      <td>sing</td>\n",
       "      <td>15.769990</td>\n",
       "    </tr>\n",
       "    <tr>\n",
       "      <th>1635</th>\n",
       "      <td>un</td>\n",
       "      <td>15.772057</td>\n",
       "    </tr>\n",
       "    <tr>\n",
       "      <th>1138</th>\n",
       "      <td>now</td>\n",
       "      <td>15.780436</td>\n",
       "    </tr>\n",
       "    <tr>\n",
       "      <th>1309</th>\n",
       "      <td>chill</td>\n",
       "      <td>15.784645</td>\n",
       "    </tr>\n",
       "    <tr>\n",
       "      <th>2171</th>\n",
       "      <td>crowd</td>\n",
       "      <td>15.800903</td>\n",
       "    </tr>\n",
       "    <tr>\n",
       "      <th>951</th>\n",
       "      <td>loud</td>\n",
       "      <td>15.807126</td>\n",
       "    </tr>\n",
       "    <tr>\n",
       "      <th>796</th>\n",
       "      <td>than</td>\n",
       "      <td>15.817177</td>\n",
       "    </tr>\n",
       "    <tr>\n",
       "      <th>204</th>\n",
       "      <td>giant</td>\n",
       "      <td>15.824054</td>\n",
       "    </tr>\n",
       "    <tr>\n",
       "      <th>1606</th>\n",
       "      <td>bag</td>\n",
       "      <td>15.832135</td>\n",
       "    </tr>\n",
       "    <tr>\n",
       "      <th>484</th>\n",
       "      <td>voting</td>\n",
       "      <td>15.843918</td>\n",
       "    </tr>\n",
       "    <tr>\n",
       "      <th>653</th>\n",
       "      <td>limited</td>\n",
       "      <td>15.843972</td>\n",
       "    </tr>\n",
       "    <tr>\n",
       "      <th>2007</th>\n",
       "      <td>songs</td>\n",
       "      <td>15.847560</td>\n",
       "    </tr>\n",
       "    <tr>\n",
       "      <th>2099</th>\n",
       "      <td>lack</td>\n",
       "      <td>15.884584</td>\n",
       "    </tr>\n",
       "    <tr>\n",
       "      <th>699</th>\n",
       "      <td>luck</td>\n",
       "      <td>15.928595</td>\n",
       "    </tr>\n",
       "    <tr>\n",
       "      <th>331</th>\n",
       "      <td>demand</td>\n",
       "      <td>15.969215</td>\n",
       "    </tr>\n",
       "  </tbody>\n",
       "</table>\n",
       "</div>"
      ],
      "text/plain": [
       "              token      score\n",
       "1758         mostly  -1.767361\n",
       "743              ne   0.000000\n",
       "2124            max   0.000000\n",
       "1838         thomas   0.000000\n",
       "780           kevin   0.000000\n",
       "1462          alert   0.000000\n",
       "911            tune   0.754736\n",
       "702            fair   1.497482\n",
       "1301         french   1.518481\n",
       "577           trick   1.644051\n",
       "634              ii   2.314230\n",
       "486            bird   2.840570\n",
       "1089              q   2.905196\n",
       "536            main   2.982463\n",
       "1987             mt   3.342111\n",
       "1018         jersey   3.408859\n",
       "1068          track   3.479215\n",
       "1530        reports   3.822792\n",
       "41          opinion   3.939517\n",
       "246            auto   3.968744\n",
       "1011             lo   3.972018\n",
       "2190             lt   4.104615\n",
       "294             dir   4.174550\n",
       "1147            ray   4.238129\n",
       "440            size   4.430368\n",
       "1081         pinned   4.507713\n",
       "1877      currently   4.692734\n",
       "1775       original   4.753661\n",
       "768        recently   4.776205\n",
       "180           shirt   4.828121\n",
       "467           patch   4.996527\n",
       "2066      retweeted   5.272417\n",
       "182            bomb   5.336611\n",
       "1776             pr   5.401635\n",
       "1738             rt   5.465344\n",
       "1159          agent   5.592523\n",
       "755         chinese   5.678098\n",
       "917           shoes   5.683203\n",
       "1229       violence   5.699123\n",
       "1191            age   6.058058\n",
       "770           clear   6.363614\n",
       "655           speed   6.390727\n",
       "72           hiring   6.595014\n",
       "1673           form   6.690705\n",
       "1291          super   6.871950\n",
       "1883        playing   6.888190\n",
       "1904        earning   6.898035\n",
       "1484         senior   7.000564\n",
       "1379            via   7.234445\n",
       "2030         closed   7.299393\n",
       "1017        england   7.423368\n",
       "1899         iphone   7.548570\n",
       "2060     revolution   7.578175\n",
       "599            race   7.620286\n",
       "1541             eu   7.689719\n",
       "371              se   7.737821\n",
       "1041             cc   7.826573\n",
       "613          beyond   7.868652\n",
       "1076             mi   7.979516\n",
       "152         current   7.985594\n",
       "1705             te   8.022769\n",
       "686           above   8.299008\n",
       "2245          among   8.323921\n",
       "1207            its   8.332440\n",
       "2158          lines   8.393153\n",
       "1091         common   8.400356\n",
       "1512           host   8.500509\n",
       "555          screen   8.571662\n",
       "235             fit   8.645559\n",
       "1040       security   8.677929\n",
       "2056          stock   8.684639\n",
       "78            smoke   8.704777\n",
       "538              uk   8.832777\n",
       "1696          china   8.916512\n",
       "1995         rising   8.996737\n",
       "105            card   9.006854\n",
       "1692          coach   9.124519\n",
       "366          number   9.288154\n",
       "936           beats   9.320802\n",
       "155         checked   9.334447\n",
       "1146       released   9.370585\n",
       "1950         reveal   9.402174\n",
       "1298      character   9.426446\n",
       "728             tip   9.570180\n",
       "1674           case   9.632468\n",
       "116        involved   9.636788\n",
       "1178         attack   9.736967\n",
       "1728        records   9.771403\n",
       "1907           wide   9.870410\n",
       "370           books   9.877749\n",
       "1638             co   9.883294\n",
       "978          single   9.918245\n",
       "173         freedom  10.025413\n",
       "983             hat  10.056850\n",
       "1990        culture  10.066753\n",
       "472           stars  10.094027\n",
       "1542        society  10.100961\n",
       "720        property  10.210186\n",
       "1951         market  10.283821\n",
       "1295         studio  10.471820\n",
       "1646          water  10.530691\n",
       "972         science  10.579351\n",
       "2110         golden  10.586300\n",
       "2167            usa  10.628421\n",
       "1656         lebron  10.690891\n",
       "1823         murder  10.693757\n",
       "123            cops  10.765272\n",
       "1440          order  10.770972\n",
       "1892         honest  10.860539\n",
       "735         related  10.870789\n",
       "2121           word  10.940420\n",
       "1432          korea  10.944346\n",
       "2126           land  10.956525\n",
       "1129        private  11.011707\n",
       "1430      beginning  11.018452\n",
       "157           shows  11.034436\n",
       "2001          booth  11.125853\n",
       "759           issue  11.171522\n",
       "1239           unit  11.177736\n",
       "736          rights  11.213854\n",
       "738         monster  11.222857\n",
       "1383        address  11.240744\n",
       "1332          names  11.259794\n",
       "2127           view  11.267767\n",
       "685           trade  11.293874\n",
       "766            cars  11.297001\n",
       "481        upcoming  11.304415\n",
       "908            fear  11.311521\n",
       "74           robert  11.327689\n",
       "774          master  11.356028\n",
       "8              bank  11.376471\n",
       "2015         states  11.487088\n",
       "548        surprise  11.504164\n",
       "92            floyd  11.505526\n",
       "1151        manager  11.534728\n",
       "747       recommend  11.593468\n",
       "1487         growth  11.614239\n",
       "1119       official  11.622846\n",
       "557            part  11.642073\n",
       "1116         hidden  11.682660\n",
       "2197           dead  11.699920\n",
       "2079         butler  11.737781\n",
       "1156      political  11.785890\n",
       "2005          calls  11.866028\n",
       "251           below  11.892519\n",
       "1604          words  11.894283\n",
       "158         release  11.901539\n",
       "1418        without  11.909502\n",
       "1270      companies  11.966952\n",
       "1945            non  12.001847\n",
       "673           large  12.066896\n",
       "545          bruins  12.126116\n",
       "1451  relationships  12.128336\n",
       "1614      hurricane  12.153231\n",
       "1834          stats  12.157335\n",
       "1540         parade  12.220333\n",
       "1898          speak  12.230217\n",
       "867        consumer  12.316568\n",
       "982        military  12.320779\n",
       "675              na  12.357047\n",
       "712           signs  12.380839\n",
       "1039            tax  12.416655\n",
       "1189           sold  12.436122\n",
       "2219         recent  12.450236\n",
       "802            test  12.502071\n",
       "416             fan  12.525581\n",
       "1131            due  12.538527\n",
       "897         created  12.571579\n",
       "1643           spot  12.591755\n",
       "1623       millions  12.597868\n",
       "1177           cash  12.616304\n",
       "695           cards  12.622399\n",
       "2205         animal  12.685319\n",
       "2204          death  12.696617\n",
       "218           judge  12.714211\n",
       "2166        fitness  12.734765\n",
       "805        reminder  12.742269\n",
       "1975       register  12.765900\n",
       "448           claim  12.801574\n",
       "309      collection  12.913275\n",
       "1723          notes  12.953222\n",
       "1830          cover  13.001019\n",
       "1897         offers  13.019084\n",
       "691              af  13.046092\n",
       "862             rip  13.047354\n",
       "563          expert  13.077316\n",
       "1141             ms  13.102223\n",
       "1666     discussion  13.110697\n",
       "1915           held  13.117051\n",
       "520         against  13.135175\n",
       "135          tweets  13.225033\n",
       "642            deal  13.308258\n",
       "1839         report  13.321021\n",
       "906            news  13.329813\n",
       "1095            pro  13.350329\n",
       "433          latest  13.350431\n",
       "120         journey  13.366350\n",
       "1174       delivery  13.371575\n",
       "1819           woke  13.374340\n",
       "2237       breaking  13.439689\n",
       "127          author  13.450789\n",
       "1482          major  13.458496\n",
       "870           tools  13.466138\n",
       "760         between  13.512348\n",
       "2125       discover  13.529094\n",
       "1303          shift  13.532023\n",
       "1624           slow  13.597615\n",
       "2175          voted  13.653631\n",
       "1222             of  13.693551\n",
       "697        negative  13.701904\n",
       "942       challenge  13.710622\n",
       "604       residents  13.731962\n",
       "1955         advice  13.754859\n",
       "1519         camera  13.788145\n",
       "676           miles  13.826858\n",
       "302       including  13.832104\n",
       "754       according  13.840241\n",
       "90            event  13.846973\n",
       "1001      continues  13.855632\n",
       "2120          talks  13.895654\n",
       "327        positive  13.934215\n",
       "663        although  13.978507\n",
       "2222        disease  14.043936\n",
       "190          remove  14.067150\n",
       "898      healthcare  14.154814\n",
       "1078           base  14.186877\n",
       "488         certain  14.200788\n",
       "1021     definition  14.280754\n",
       "570            left  14.300483\n",
       "996              ex  14.390487\n",
       "903           extra  14.441976\n",
       "498          nature  14.498171\n",
       "688            path  14.501864\n",
       "1404         travel  14.511637\n",
       "1057       pressure  14.537173\n",
       "541           shout  14.571985\n",
       "1477             id  14.599397\n",
       "2183            for  14.608753\n",
       "194          issues  14.614837\n",
       "112          amazon  14.726220\n",
       "826            mess  14.744978\n",
       "241           magic  14.760749\n",
       "1261           wild  14.785697\n",
       "926         jackson  14.791709\n",
       "252             top  14.861328\n",
       "1547         artist  14.886639\n",
       "177          valley  14.936585\n",
       "126        standing  14.958379\n",
       "1374         closet  14.973283\n",
       "2084        blocked  14.987532\n",
       "1906         actual  14.994589\n",
       "1802         racist  15.001460\n",
       "788         asshole  15.033455\n",
       "1122          dance  15.068924\n",
       "1553      assistant  15.069275\n",
       "1314           each  15.118234\n",
       "1172          about  15.120350\n",
       "1649             hi  15.206484\n",
       "375          weekly  15.207803\n",
       "713           court  15.210089\n",
       "703         regular  15.251466\n",
       "1664          level  15.262144\n",
       "1026         effort  15.279634\n",
       "1362         famous  15.297691\n",
       "1560             dj  15.343614\n",
       "1135         modern  15.355627\n",
       "1818          paper  15.372020\n",
       "1548     unfollowed  15.381522\n",
       "2198            amp  15.389381\n",
       "1485           boys  15.430719\n",
       "809   automatically  15.464940\n",
       "1755          idiot  15.477363\n",
       "1395           roll  15.522111\n",
       "1469             hr  15.545387\n",
       "136           texas  15.551014\n",
       "725         forever  15.579092\n",
       "1963             ca  15.596754\n",
       "1429          while  15.627470\n",
       "547          effect  15.632420\n",
       "1780             la  15.660259\n",
       "9               cod  15.666779\n",
       "1117        nuclear  15.670135\n",
       "1243           join  15.733048\n",
       "1038             by  15.748669\n",
       "217         million  15.750622\n",
       "624            sing  15.769990\n",
       "1635             un  15.772057\n",
       "1138            now  15.780436\n",
       "1309          chill  15.784645\n",
       "2171          crowd  15.800903\n",
       "951            loud  15.807126\n",
       "796            than  15.817177\n",
       "204           giant  15.824054\n",
       "1606            bag  15.832135\n",
       "484          voting  15.843918\n",
       "653         limited  15.843972\n",
       "2007          songs  15.847560\n",
       "2099           lack  15.884584\n",
       "699            luck  15.928595\n",
       "331          demand  15.969215"
      ]
     },
     "execution_count": 39,
     "metadata": {},
     "output_type": "execute_result"
    }
   ],
   "source": [
    "df.sort_values('score').head(300)"
   ]
  },
  {
   "cell_type": "code",
   "execution_count": 40,
   "metadata": {},
   "outputs": [],
   "source": [
    "def compare(token):\n",
    "    \n",
    "    u_similar = urban_model.most_similar(token)\n",
    "    r_similar = rural_model.most_similar(token)\n",
    "    \n",
    "    u_tokens = [[t] for t, _ in u_similar]\n",
    "    r_tokens = [[t] for t, _ in r_similar]\n",
    "    \n",
    "    display(Markdown(f'# {token}'))\n",
    "    display(Markdown(f'#### Urban'))\n",
    "    print(tabulate(u_tokens))\n",
    "    display(Markdown(f'#### Rural'))\n",
    "    print(tabulate(r_tokens))"
   ]
  },
  {
   "cell_type": "code",
   "execution_count": 52,
   "metadata": {
    "scrolled": false
   },
   "outputs": [
    {
     "data": {
      "text/markdown": [
       "# mostly"
      ],
      "text/plain": [
       "<IPython.core.display.Markdown object>"
      ]
     },
     "metadata": {},
     "output_type": "display_data"
    },
    {
     "data": {
      "text/markdown": [
       "#### Urban"
      ],
      "text/plain": [
       "<IPython.core.display.Markdown object>"
      ]
     },
     "metadata": {},
     "output_type": "display_data"
    },
    {
     "name": "stdout",
     "output_type": "stream",
     "text": [
      "----------\n",
      "usually\n",
      "also\n",
      "kinda\n",
      "weird\n",
      "totally\n",
      "yep\n",
      "completely\n",
      "certain\n",
      "very\n",
      "racism\n",
      "----------\n"
     ]
    },
    {
     "data": {
      "text/markdown": [
       "#### Rural"
      ],
      "text/plain": [
       "<IPython.core.display.Markdown object>"
      ]
     },
     "metadata": {},
     "output_type": "display_data"
    },
    {
     "name": "stdout",
     "output_type": "stream",
     "text": [
      "--------\n",
      "sunny\n",
      "lo\n",
      "forecast\n",
      "low\n",
      "clouds\n",
      "65\n",
      "55\n",
      "snow\n",
      "69\n",
      "clear\n",
      "--------\n"
     ]
    },
    {
     "data": {
      "text/markdown": [
       "# ne"
      ],
      "text/plain": [
       "<IPython.core.display.Markdown object>"
      ]
     },
     "metadata": {},
     "output_type": "display_data"
    },
    {
     "data": {
      "text/markdown": [
       "#### Urban"
      ],
      "text/plain": [
       "<IPython.core.display.Markdown object>"
      ]
     },
     "metadata": {},
     "output_type": "display_data"
    },
    {
     "name": "stdout",
     "output_type": "stream",
     "text": [
      "---\n",
      "pa\n",
      "di\n",
      "il\n",
      "ti\n",
      "sa\n",
      "del\n",
      "si\n",
      "li\n",
      "va\n",
      "ko\n",
      "---\n"
     ]
    },
    {
     "data": {
      "text/markdown": [
       "#### Rural"
      ],
      "text/plain": [
       "<IPython.core.display.Markdown object>"
      ]
     },
     "metadata": {},
     "output_type": "display_data"
    },
    {
     "name": "stdout",
     "output_type": "stream",
     "text": [
      "--------\n",
      "se\n",
      "0\n",
      "ct\n",
      "51\n",
      "34\n",
      "central\n",
      "severe\n",
      "franklin\n",
      "e\n",
      "41\n",
      "--------\n"
     ]
    },
    {
     "data": {
      "text/markdown": [
       "# max"
      ],
      "text/plain": [
       "<IPython.core.display.Markdown object>"
      ]
     },
     "metadata": {},
     "output_type": "display_data"
    },
    {
     "data": {
      "text/markdown": [
       "#### Urban"
      ],
      "text/plain": [
       "<IPython.core.display.Markdown object>"
      ]
     },
     "metadata": {},
     "output_type": "display_data"
    },
    {
     "name": "stdout",
     "output_type": "stream",
     "text": [
      "--------\n",
      "jordan\n",
      "nike\n",
      "cap\n",
      "98\n",
      "triple\n",
      "olynyk\n",
      "starter\n",
      "contract\n",
      "kyrie\n",
      "crowder\n",
      "--------\n"
     ]
    },
    {
     "data": {
      "text/markdown": [
       "#### Rural"
      ],
      "text/plain": [
       "<IPython.core.display.Markdown object>"
      ]
     },
     "metadata": {},
     "output_type": "display_data"
    },
    {
     "name": "stdout",
     "output_type": "stream",
     "text": [
      "---\n",
      "64\n",
      "67\n",
      "62\n",
      "jay\n",
      "44\n",
      "63\n",
      "36\n",
      "58\n",
      "69\n",
      "dir\n",
      "---\n"
     ]
    },
    {
     "data": {
      "text/markdown": [
       "# thomas"
      ],
      "text/plain": [
       "<IPython.core.display.Markdown object>"
      ]
     },
     "metadata": {},
     "output_type": "display_data"
    },
    {
     "data": {
      "text/markdown": [
       "#### Urban"
      ],
      "text/plain": [
       "<IPython.core.display.Markdown object>"
      ]
     },
     "metadata": {},
     "output_type": "display_data"
    },
    {
     "name": "stdout",
     "output_type": "stream",
     "text": [
      "-------\n",
      "horford\n",
      "avery\n",
      "crowder\n",
      "marcus\n",
      "bradley\n",
      "isaiah\n",
      "rookie\n",
      "olynyk\n",
      "gordon\n",
      "stevens\n",
      "-------\n"
     ]
    },
    {
     "data": {
      "text/markdown": [
       "#### Rural"
      ],
      "text/plain": [
       "<IPython.core.display.Markdown object>"
      ]
     },
     "metadata": {},
     "output_type": "display_data"
    },
    {
     "name": "stdout",
     "output_type": "stream",
     "text": [
      "-------\n",
      "kevin\n",
      "smith\n",
      "george\n",
      "jackson\n",
      "michael\n",
      "jones\n",
      "ben\n",
      "scott\n",
      "alex\n",
      "joe\n",
      "-------\n"
     ]
    },
    {
     "data": {
      "text/markdown": [
       "# kevin"
      ],
      "text/plain": [
       "<IPython.core.display.Markdown object>"
      ]
     },
     "metadata": {},
     "output_type": "display_data"
    },
    {
     "data": {
      "text/markdown": [
       "#### Urban"
      ],
      "text/plain": [
       "<IPython.core.display.Markdown object>"
      ]
     },
     "metadata": {},
     "output_type": "display_data"
    },
    {
     "name": "stdout",
     "output_type": "stream",
     "text": [
      "-------\n",
      "jason\n",
      "pierce\n",
      "tyler\n",
      "allen\n",
      "johnson\n",
      "brad\n",
      "russell\n",
      "rondo\n",
      "bradley\n",
      "bobby\n",
      "-------\n"
     ]
    },
    {
     "data": {
      "text/markdown": [
       "#### Rural"
      ],
      "text/plain": [
       "<IPython.core.display.Markdown object>"
      ]
     },
     "metadata": {},
     "output_type": "display_data"
    },
    {
     "name": "stdout",
     "output_type": "stream",
     "text": [
      "-------\n",
      "thomas\n",
      "michael\n",
      "jackson\n",
      "scott\n",
      "alex\n",
      "nick\n",
      "joe\n",
      "matt\n",
      "kelly\n",
      "mike\n",
      "-------\n"
     ]
    },
    {
     "data": {
      "text/markdown": [
       "# alert"
      ],
      "text/plain": [
       "<IPython.core.display.Markdown object>"
      ]
     },
     "metadata": {},
     "output_type": "display_data"
    },
    {
     "data": {
      "text/markdown": [
       "#### Urban"
      ],
      "text/plain": [
       "<IPython.core.display.Markdown object>"
      ]
     },
     "metadata": {},
     "output_type": "display_data"
    },
    {
     "name": "stdout",
     "output_type": "stream",
     "text": [
      "-----------\n",
      "specialist\n",
      "sr\n",
      "engineer\n",
      "technician\n",
      "analyst\n",
      "operations\n",
      "developer\n",
      "consultant\n",
      "launches\n",
      "application\n",
      "-----------\n"
     ]
    },
    {
     "data": {
      "text/markdown": [
       "#### Rural"
      ],
      "text/plain": [
       "<IPython.core.display.Markdown object>"
      ]
     },
     "metadata": {},
     "output_type": "display_data"
    },
    {
     "name": "stdout",
     "output_type": "stream",
     "text": [
      "-----------\n",
      "framingham\n",
      "worcester\n",
      "brockton\n",
      "springfield\n",
      "emergency\n",
      "quincy\n",
      "report\n",
      "plymouth\n",
      "lowell\n",
      "update\n",
      "-----------\n"
     ]
    },
    {
     "data": {
      "text/markdown": [
       "# tune"
      ],
      "text/plain": [
       "<IPython.core.display.Markdown object>"
      ]
     },
     "metadata": {},
     "output_type": "display_data"
    },
    {
     "data": {
      "text/markdown": [
       "#### Urban"
      ],
      "text/plain": [
       "<IPython.core.display.Markdown object>"
      ]
     },
     "metadata": {},
     "output_type": "display_data"
    },
    {
     "name": "stdout",
     "output_type": "stream",
     "text": [
      "-------\n",
      "8pm\n",
      "7pm\n",
      "studio\n",
      "stream\n",
      "6pm\n",
      "9pm\n",
      "podcast\n",
      "jazz\n",
      "webinar\n",
      "session\n",
      "-------\n"
     ]
    },
    {
     "data": {
      "text/markdown": [
       "#### Rural"
      ],
      "text/plain": [
       "<IPython.core.display.Markdown object>"
      ]
     },
     "metadata": {},
     "output_type": "display_data"
    },
    {
     "name": "stdout",
     "output_type": "stream",
     "text": [
      "------\n",
      "feat\n",
      "faith\n",
      "christ\n",
      "lord\n",
      "peace\n",
      "jesus\n",
      "amen\n",
      "god\n",
      "spirit\n",
      "church\n",
      "------\n"
     ]
    },
    {
     "data": {
      "text/markdown": [
       "# fair"
      ],
      "text/plain": [
       "<IPython.core.display.Markdown object>"
      ]
     },
     "metadata": {},
     "output_type": "display_data"
    },
    {
     "data": {
      "text/markdown": [
       "#### Urban"
      ],
      "text/plain": [
       "<IPython.core.display.Markdown object>"
      ]
     },
     "metadata": {},
     "output_type": "display_data"
    },
    {
     "name": "stdout",
     "output_type": "stream",
     "text": [
      "---------\n",
      "meant\n",
      "prepared\n",
      "tough\n",
      "true\n",
      "honest\n",
      "necessary\n",
      "obvious\n",
      "decent\n",
      "allowed\n",
      "clear\n",
      "---------\n"
     ]
    },
    {
     "data": {
      "text/markdown": [
       "#### Rural"
      ],
      "text/plain": [
       "<IPython.core.display.Markdown object>"
      ]
     },
     "metadata": {},
     "output_type": "display_data"
    },
    {
     "name": "stdout",
     "output_type": "stream",
     "text": [
      "----------\n",
      "public\n",
      "may\n",
      "center\n",
      "university\n",
      "annual\n",
      "conference\n",
      "council\n",
      "good\n",
      "youth\n",
      "held\n",
      "----------\n"
     ]
    },
    {
     "data": {
      "text/markdown": [
       "# french"
      ],
      "text/plain": [
       "<IPython.core.display.Markdown object>"
      ]
     },
     "metadata": {},
     "output_type": "display_data"
    },
    {
     "data": {
      "text/markdown": [
       "#### Urban"
      ],
      "text/plain": [
       "<IPython.core.display.Markdown object>"
      ]
     },
     "metadata": {},
     "output_type": "display_data"
    },
    {
     "name": "stdout",
     "output_type": "stream",
     "text": [
      "--------\n",
      "british\n",
      "japanese\n",
      "irish\n",
      "france\n",
      "chinese\n",
      "african\n",
      "italian\n",
      "greek\n",
      "asian\n",
      "spanish\n",
      "--------\n"
     ]
    },
    {
     "data": {
      "text/markdown": [
       "#### Rural"
      ],
      "text/plain": [
       "<IPython.core.display.Markdown object>"
      ]
     },
     "metadata": {},
     "output_type": "display_data"
    },
    {
     "name": "stdout",
     "output_type": "stream",
     "text": [
      "---------\n",
      "wine\n",
      "cup\n",
      "cheese\n",
      "chocolate\n",
      "vintage\n",
      "chicken\n",
      "rose\n",
      "j\n",
      "salad\n",
      "coin\n",
      "---------\n"
     ]
    },
    {
     "data": {
      "text/markdown": [
       "# trick"
      ],
      "text/plain": [
       "<IPython.core.display.Markdown object>"
      ]
     },
     "metadata": {},
     "output_type": "display_data"
    },
    {
     "data": {
      "text/markdown": [
       "#### Urban"
      ],
      "text/plain": [
       "<IPython.core.display.Markdown object>"
      ]
     },
     "metadata": {},
     "output_type": "display_data"
    },
    {
     "name": "stdout",
     "output_type": "stream",
     "text": [
      "-----------\n",
      "robot\n",
      "unfollowers\n",
      "recipes\n",
      "thing\n",
      "bot\n",
      "stretch\n",
      "hack\n",
      "recipe\n",
      "chip\n",
      "double\n",
      "-----------\n"
     ]
    },
    {
     "data": {
      "text/markdown": [
       "#### Rural"
      ],
      "text/plain": [
       "<IPython.core.display.Markdown object>"
      ]
     },
     "metadata": {},
     "output_type": "display_data"
    },
    {
     "name": "stdout",
     "output_type": "stream",
     "text": [
      "--------\n",
      "remedies\n",
      "yellow\n",
      "disc\n",
      "hole\n",
      "tool\n",
      "simple\n",
      "natural\n",
      "hat\n",
      "steps\n",
      "gt\n",
      "--------\n"
     ]
    },
    {
     "data": {
      "text/markdown": [
       "# ii"
      ],
      "text/plain": [
       "<IPython.core.display.Markdown object>"
      ]
     },
     "metadata": {},
     "output_type": "display_data"
    },
    {
     "data": {
      "text/markdown": [
       "#### Urban"
      ],
      "text/plain": [
       "<IPython.core.display.Markdown object>"
      ]
     },
     "metadata": {},
     "output_type": "display_data"
    },
    {
     "name": "stdout",
     "output_type": "stream",
     "text": [
      "----------\n",
      "associate\n",
      "sr\n",
      "technician\n",
      "multi\n",
      "specialist\n",
      "hd\n",
      "assistant\n",
      "clinical\n",
      "ca\n",
      "pt\n",
      "----------\n"
     ]
    },
    {
     "data": {
      "text/markdown": [
       "#### Rural"
      ],
      "text/plain": [
       "<IPython.core.display.Markdown object>"
      ]
     },
     "metadata": {},
     "output_type": "display_data"
    },
    {
     "name": "stdout",
     "output_type": "stream",
     "text": [
      "------\n",
      "coin\n",
      "review\n",
      "x\n",
      "j\n",
      "silver\n",
      "wars\n",
      "via\n",
      "modern\n",
      "series\n",
      "mon\n",
      "------\n"
     ]
    },
    {
     "data": {
      "text/markdown": [
       "# bird"
      ],
      "text/plain": [
       "<IPython.core.display.Markdown object>"
      ]
     },
     "metadata": {},
     "output_type": "display_data"
    },
    {
     "data": {
      "text/markdown": [
       "#### Urban"
      ],
      "text/plain": [
       "<IPython.core.display.Markdown object>"
      ]
     },
     "metadata": {},
     "output_type": "display_data"
    },
    {
     "name": "stdout",
     "output_type": "stream",
     "text": [
      "-------\n",
      "larry\n",
      "rc\n",
      "mint\n",
      "topps\n",
      "garnett\n",
      "sp\n",
      "rajon\n",
      "starter\n",
      "vintage\n",
      "panini\n",
      "-------\n"
     ]
    },
    {
     "data": {
      "text/markdown": [
       "#### Rural"
      ],
      "text/plain": [
       "<IPython.core.display.Markdown object>"
      ]
     },
     "metadata": {},
     "output_type": "display_data"
    },
    {
     "name": "stdout",
     "output_type": "stream",
     "text": [
      "------\n",
      "glass\n",
      "ground\n",
      "sun\n",
      "moon\n",
      "ball\n",
      "pool\n",
      "shot\n",
      "tree\n",
      "ring\n",
      "stone\n",
      "------\n"
     ]
    },
    {
     "data": {
      "text/markdown": [
       "# q"
      ],
      "text/plain": [
       "<IPython.core.display.Markdown object>"
      ]
     },
     "metadata": {},
     "output_type": "display_data"
    },
    {
     "data": {
      "text/markdown": [
       "#### Urban"
      ],
      "text/plain": [
       "<IPython.core.display.Markdown object>"
      ]
     },
     "metadata": {},
     "output_type": "display_data"
    },
    {
     "name": "stdout",
     "output_type": "stream",
     "text": [
      "-----\n",
      "ser\n",
      "ti\n",
      "os\n",
      "chat\n",
      "como\n",
      "les\n",
      "ni\n",
      "guest\n",
      "et\n",
      "le\n",
      "-----\n"
     ]
    },
    {
     "data": {
      "text/markdown": [
       "#### Rural"
      ],
      "text/plain": [
       "<IPython.core.display.Markdown object>"
      ]
     },
     "metadata": {},
     "output_type": "display_data"
    },
    {
     "name": "stdout",
     "output_type": "stream",
     "text": [
      "----\n",
      "o\n",
      "k\n",
      "para\n",
      "g\n",
      "eu\n",
      "te\n",
      "j\n",
      "por\n",
      "e\n",
      "el\n",
      "----\n"
     ]
    },
    {
     "data": {
      "text/markdown": [
       "# main"
      ],
      "text/plain": [
       "<IPython.core.display.Markdown object>"
      ]
     },
     "metadata": {},
     "output_type": "display_data"
    },
    {
     "data": {
      "text/markdown": [
       "#### Urban"
      ],
      "text/plain": [
       "<IPython.core.display.Markdown object>"
      ]
     },
     "metadata": {},
     "output_type": "display_data"
    },
    {
     "name": "stdout",
     "output_type": "stream",
     "text": [
      "---------\n",
      "fav\n",
      "biggest\n",
      "favorite\n",
      "featured\n",
      "fave\n",
      "3rd\n",
      "greatest\n",
      "favorites\n",
      "third\n",
      "included\n",
      "---------\n"
     ]
    },
    {
     "data": {
      "text/markdown": [
       "#### Rural"
      ],
      "text/plain": [
       "<IPython.core.display.Markdown object>"
      ]
     },
     "metadata": {},
     "output_type": "display_data"
    },
    {
     "name": "stdout",
     "output_type": "stream",
     "text": [
      "------\n",
      "street\n",
      "bridge\n",
      "ave\n",
      "near\n",
      "west\n",
      "south\n",
      "quincy\n",
      "fire\n",
      "closed\n",
      "route\n",
      "------\n"
     ]
    },
    {
     "data": {
      "text/markdown": [
       "# mt"
      ],
      "text/plain": [
       "<IPython.core.display.Markdown object>"
      ]
     },
     "metadata": {},
     "output_type": "display_data"
    },
    {
     "data": {
      "text/markdown": [
       "#### Urban"
      ],
      "text/plain": [
       "<IPython.core.display.Markdown object>"
      ]
     },
     "metadata": {},
     "output_type": "display_data"
    },
    {
     "name": "stdout",
     "output_type": "stream",
     "text": [
      "------------\n",
      "congress\n",
      "constitution\n",
      "immigrants\n",
      "aca\n",
      "reform\n",
      "obamacare\n",
      "repeal\n",
      "federal\n",
      "laws\n",
      "justice\n",
      "------------\n"
     ]
    },
    {
     "data": {
      "text/markdown": [
       "#### Rural"
      ],
      "text/plain": [
       "<IPython.core.display.Markdown object>"
      ]
     },
     "metadata": {},
     "output_type": "display_data"
    },
    {
     "name": "stdout",
     "output_type": "stream",
     "text": [
      "----------\n",
      "screen\n",
      "green\n",
      "learning\n",
      "ms\n",
      "tech\n",
      "teachers\n",
      "projects\n",
      "students\n",
      "discussion\n",
      "teaching\n",
      "----------\n"
     ]
    },
    {
     "data": {
      "text/markdown": [
       "# jersey"
      ],
      "text/plain": [
       "<IPython.core.display.Markdown object>"
      ]
     },
     "metadata": {},
     "output_type": "display_data"
    },
    {
     "data": {
      "text/markdown": [
       "#### Urban"
      ],
      "text/plain": [
       "<IPython.core.display.Markdown object>"
      ]
     },
     "metadata": {},
     "output_type": "display_data"
    },
    {
     "name": "stdout",
     "output_type": "stream",
     "text": [
      "------\n",
      "xl\n",
      "sz\n",
      "nwt\n",
      "hoodie\n",
      "adidas\n",
      "jacket\n",
      "mens\n",
      "medium\n",
      "hat\n",
      "logo\n",
      "------\n"
     ]
    },
    {
     "data": {
      "text/markdown": [
       "#### Rural"
      ],
      "text/plain": [
       "<IPython.core.display.Markdown object>"
      ]
     },
     "metadata": {},
     "output_type": "display_data"
    },
    {
     "name": "stdout",
     "output_type": "stream",
     "text": [
      "-------\n",
      "england\n",
      "york\n",
      "hat\n",
      "sox\n",
      "brand\n",
      "thomas\n",
      "ring\n",
      "tom\n",
      "jimmy\n",
      "brady\n",
      "-------\n"
     ]
    },
    {
     "data": {
      "text/markdown": [
       "# track"
      ],
      "text/plain": [
       "<IPython.core.display.Markdown object>"
      ]
     },
     "metadata": {},
     "output_type": "display_data"
    },
    {
     "data": {
      "text/markdown": [
       "#### Urban"
      ],
      "text/plain": [
       "<IPython.core.display.Markdown object>"
      ]
     },
     "metadata": {},
     "output_type": "display_data"
    },
    {
     "name": "stdout",
     "output_type": "stream",
     "text": [
      "-------\n",
      "tracks\n",
      "steam\n",
      "ep\n",
      "album\n",
      "remix\n",
      "jam\n",
      "level\n",
      "spotify\n",
      "speed\n",
      "windows\n",
      "-------\n"
     ]
    },
    {
     "data": {
      "text/markdown": [
       "#### Rural"
      ],
      "text/plain": [
       "<IPython.core.display.Markdown object>"
      ]
     },
     "metadata": {},
     "output_type": "display_data"
    },
    {
     "name": "stdout",
     "output_type": "stream",
     "text": [
      "----------\n",
      "field\n",
      "varsity\n",
      "soccer\n",
      "hockey\n",
      "basketball\n",
      "umass\n",
      "boys\n",
      "baseball\n",
      "tech\n",
      "goal\n",
      "----------\n"
     ]
    },
    {
     "data": {
      "text/markdown": [
       "# reports"
      ],
      "text/plain": [
       "<IPython.core.display.Markdown object>"
      ]
     },
     "metadata": {},
     "output_type": "display_data"
    },
    {
     "data": {
      "text/markdown": [
       "#### Urban"
      ],
      "text/plain": [
       "<IPython.core.display.Markdown object>"
      ]
     },
     "metadata": {},
     "output_type": "display_data"
    },
    {
     "name": "stdout",
     "output_type": "stream",
     "text": [
      "---------\n",
      "sources\n",
      "claims\n",
      "attacks\n",
      "reported\n",
      "officials\n",
      "charges\n",
      "victims\n",
      "records\n",
      "markets\n",
      "uk\n",
      "---------\n"
     ]
    },
    {
     "data": {
      "text/markdown": [
       "#### Rural"
      ],
      "text/plain": [
       "<IPython.core.display.Markdown object>"
      ]
     },
     "metadata": {},
     "output_type": "display_data"
    },
    {
     "name": "stdout",
     "output_type": "stream",
     "text": [
      "--------\n",
      "co\n",
      "ct\n",
      "ri\n",
      "inch\n",
      "central\n",
      "plymouth\n",
      "severe\n",
      "milford\n",
      "pm\n",
      "non\n",
      "--------\n"
     ]
    },
    {
     "data": {
      "text/markdown": [
       "# opinion"
      ],
      "text/plain": [
       "<IPython.core.display.Markdown object>"
      ]
     },
     "metadata": {},
     "output_type": "display_data"
    },
    {
     "data": {
      "text/markdown": [
       "#### Urban"
      ],
      "text/plain": [
       "<IPython.core.display.Markdown object>"
      ]
     },
     "metadata": {},
     "output_type": "display_data"
    },
    {
     "name": "stdout",
     "output_type": "stream",
     "text": [
      "--------\n",
      "argument\n",
      "opinions\n",
      "behavior\n",
      "attitude\n",
      "religion\n",
      "name\n",
      "enemy\n",
      "logic\n",
      "identity\n",
      "timeline\n",
      "--------\n"
     ]
    },
    {
     "data": {
      "text/markdown": [
       "#### Rural"
      ],
      "text/plain": [
       "<IPython.core.display.Markdown object>"
      ]
     },
     "metadata": {},
     "output_type": "display_data"
    },
    {
     "name": "stdout",
     "output_type": "stream",
     "text": [
      "------------\n",
      "name\n",
      "mind\n",
      "political\n",
      "interest\n",
      "voice\n",
      "relationship\n",
      "agenda\n",
      "claim\n",
      "policy\n",
      "response\n",
      "------------\n"
     ]
    },
    {
     "data": {
      "text/markdown": [
       "# auto"
      ],
      "text/plain": [
       "<IPython.core.display.Markdown object>"
      ]
     },
     "metadata": {},
     "output_type": "display_data"
    },
    {
     "data": {
      "text/markdown": [
       "#### Urban"
      ],
      "text/plain": [
       "<IPython.core.display.Markdown object>"
      ]
     },
     "metadata": {},
     "output_type": "display_data"
    },
    {
     "name": "stdout",
     "output_type": "stream",
     "text": [
      "--------\n",
      "panini\n",
      "rc\n",
      "sp\n",
      "patch\n",
      "patrice\n",
      "topps\n",
      "card\n",
      "rajon\n",
      "bergeron\n",
      "battery\n",
      "--------\n"
     ]
    },
    {
     "data": {
      "text/markdown": [
       "#### Rural"
      ],
      "text/plain": [
       "<IPython.core.display.Markdown object>"
      ]
     },
     "metadata": {},
     "output_type": "display_data"
    },
    {
     "name": "stdout",
     "output_type": "stream",
     "text": [
      "----------\n",
      "amazon\n",
      "software\n",
      "commercial\n",
      "services\n",
      "sales\n",
      "vehicle\n",
      "mobile\n",
      "cloud\n",
      "product\n",
      "customer\n",
      "----------\n"
     ]
    },
    {
     "data": {
      "text/markdown": [
       "# lo"
      ],
      "text/plain": [
       "<IPython.core.display.Markdown object>"
      ]
     },
     "metadata": {},
     "output_type": "display_data"
    },
    {
     "data": {
      "text/markdown": [
       "#### Urban"
      ],
      "text/plain": [
       "<IPython.core.display.Markdown object>"
      ]
     },
     "metadata": {},
     "output_type": "display_data"
    },
    {
     "name": "stdout",
     "output_type": "stream",
     "text": [
      "----\n",
      "pero\n",
      "como\n",
      "qu\n",
      "tu\n",
      "que\n",
      "se\n",
      "una\n",
      "ser\n",
      "les\n",
      "su\n",
      "----\n"
     ]
    },
    {
     "data": {
      "text/markdown": [
       "#### Rural"
      ],
      "text/plain": [
       "<IPython.core.display.Markdown object>"
      ]
     },
     "metadata": {},
     "output_type": "display_data"
    },
    {
     "name": "stdout",
     "output_type": "stream",
     "text": [
      "--------\n",
      "hi\n",
      "sunny\n",
      "69\n",
      "mostly\n",
      "65\n",
      "49\n",
      "forecast\n",
      "55\n",
      "71\n",
      "temp\n",
      "--------\n"
     ]
    },
    {
     "data": {
      "text/markdown": [
       "# lt"
      ],
      "text/plain": [
       "<IPython.core.display.Markdown object>"
      ]
     },
     "metadata": {},
     "output_type": "display_data"
    },
    {
     "data": {
      "text/markdown": [
       "#### Urban"
      ],
      "text/plain": [
       "<IPython.core.display.Markdown object>"
      ]
     },
     "metadata": {},
     "output_type": "display_data"
    },
    {
     "name": "stdout",
     "output_type": "stream",
     "text": [
      "--------\n",
      "gt\n",
      "mejores\n",
      "quotes\n",
      "cuenta\n",
      "los\n",
      "sigan\n",
      "mas\n",
      "sigue\n",
      "entonces\n",
      "sus\n",
      "--------\n"
     ]
    },
    {
     "data": {
      "text/markdown": [
       "#### Rural"
      ],
      "text/plain": [
       "<IPython.core.display.Markdown object>"
      ]
     },
     "metadata": {},
     "output_type": "display_data"
    },
    {
     "name": "stdout",
     "output_type": "stream",
     "text": [
      "-----------\n",
      "3\n",
      "33\n",
      "1mph\n",
      "meteobridge\n",
      "ssw\n",
      "56\n",
      "58\n",
      "17\n",
      "sw\n",
      "67\n",
      "-----------\n"
     ]
    },
    {
     "data": {
      "text/markdown": [
       "# dir"
      ],
      "text/plain": [
       "<IPython.core.display.Markdown object>"
      ]
     },
     "metadata": {},
     "output_type": "display_data"
    },
    {
     "data": {
      "text/markdown": [
       "#### Urban"
      ],
      "text/plain": [
       "<IPython.core.display.Markdown object>"
      ]
     },
     "metadata": {},
     "output_type": "display_data"
    },
    {
     "name": "stdout",
     "output_type": "stream",
     "text": [
      "---------\n",
      "martin\n",
      "practices\n",
      "prod\n",
      "scott\n",
      "michael\n",
      "charles\n",
      "eric\n",
      "lee\n",
      "ft\n",
      "aka\n",
      "---------\n"
     ]
    },
    {
     "data": {
      "text/markdown": [
       "#### Rural"
      ],
      "text/plain": [
       "<IPython.core.display.Markdown object>"
      ]
     },
     "metadata": {},
     "output_type": "display_data"
    },
    {
     "name": "stdout",
     "output_type": "stream",
     "text": [
      "----\n",
      "wnd\n",
      "64\n",
      "71\n",
      "62\n",
      "temp\n",
      "3mph\n",
      "66\n",
      "max\n",
      "dp\n",
      "67\n",
      "----\n"
     ]
    },
    {
     "data": {
      "text/markdown": [
       "# ray"
      ],
      "text/plain": [
       "<IPython.core.display.Markdown object>"
      ]
     },
     "metadata": {},
     "output_type": "display_data"
    },
    {
     "data": {
      "text/markdown": [
       "#### Urban"
      ],
      "text/plain": [
       "<IPython.core.display.Markdown object>"
      ]
     },
     "metadata": {},
     "output_type": "display_data"
    },
    {
     "name": "stdout",
     "output_type": "stream",
     "text": [
      "--------\n",
      "allen\n",
      "tyler\n",
      "lewis\n",
      "johnson\n",
      "martin\n",
      "bob\n",
      "lee\n",
      "bobby\n",
      "anthony\n",
      "williams\n",
      "--------\n"
     ]
    },
    {
     "data": {
      "text/markdown": [
       "#### Rural"
      ],
      "text/plain": [
       "<IPython.core.display.Markdown object>"
      ]
     },
     "metadata": {},
     "output_type": "display_data"
    },
    {
     "name": "stdout",
     "output_type": "stream",
     "text": [
      "------\n",
      "rose\n",
      "amazon\n",
      "99\n",
      "scott\n",
      "thomas\n",
      "david\n",
      "kevin\n",
      "j\n",
      "jones\n",
      "card\n",
      "------\n"
     ]
    },
    {
     "data": {
      "text/markdown": [
       "# size"
      ],
      "text/plain": [
       "<IPython.core.display.Markdown object>"
      ]
     },
     "metadata": {},
     "output_type": "display_data"
    },
    {
     "data": {
      "text/markdown": [
       "#### Urban"
      ],
      "text/plain": [
       "<IPython.core.display.Markdown object>"
      ]
     },
     "metadata": {},
     "output_type": "display_data"
    },
    {
     "name": "stdout",
     "output_type": "stream",
     "text": [
      "------\n",
      "nwt\n",
      "sz\n",
      "xl\n",
      "medium\n",
      "sleeve\n",
      "gray\n",
      "large\n",
      "hoodie\n",
      "jacket\n",
      "mens\n",
      "------\n"
     ]
    },
    {
     "data": {
      "text/markdown": [
       "#### Rural"
      ],
      "text/plain": [
       "<IPython.core.display.Markdown object>"
      ]
     },
     "metadata": {},
     "output_type": "display_data"
    },
    {
     "name": "stdout",
     "output_type": "stream",
     "text": [
      "-------\n",
      "large\n",
      "silver\n",
      "gold\n",
      "x\n",
      "vintage\n",
      "plus\n",
      "iphone\n",
      "color\n",
      "shoes\n",
      "pack\n",
      "-------\n"
     ]
    },
    {
     "data": {
      "text/markdown": [
       "# pinned"
      ],
      "text/plain": [
       "<IPython.core.display.Markdown object>"
      ]
     },
     "metadata": {},
     "output_type": "display_data"
    },
    {
     "data": {
      "text/markdown": [
       "#### Urban"
      ],
      "text/plain": [
       "<IPython.core.display.Markdown object>"
      ]
     },
     "metadata": {},
     "output_type": "display_data"
    },
    {
     "name": "stdout",
     "output_type": "stream",
     "text": [
      "---------\n",
      "retweet\n",
      "fave\n",
      "subscribe\n",
      "fav\n",
      "reply\n",
      "ig\n",
      "link\n",
      "bio\n",
      "entered\n",
      "delete\n",
      "---------\n"
     ]
    },
    {
     "data": {
      "text/markdown": [
       "#### Rural"
      ],
      "text/plain": [
       "<IPython.core.display.Markdown object>"
      ]
     },
     "metadata": {},
     "output_type": "display_data"
    },
    {
     "name": "stdout",
     "output_type": "stream",
     "text": [
      "----------\n",
      "holistic\n",
      "wellness\n",
      "topics\n",
      "closet\n",
      "revolution\n",
      "added\n",
      "badge\n",
      "facebook\n",
      "according\n",
      "focus\n",
      "----------\n"
     ]
    },
    {
     "data": {
      "text/markdown": [
       "# currently"
      ],
      "text/plain": [
       "<IPython.core.display.Markdown object>"
      ]
     },
     "metadata": {},
     "output_type": "display_data"
    },
    {
     "data": {
      "text/markdown": [
       "#### Urban"
      ],
      "text/plain": [
       "<IPython.core.display.Markdown object>"
      ]
     },
     "metadata": {},
     "output_type": "display_data"
    },
    {
     "name": "stdout",
     "output_type": "stream",
     "text": [
      "------------\n",
      "now\n",
      "still\n",
      "operating\n",
      "pool\n",
      "worcester\n",
      "while\n",
      "windows\n",
      "rn\n",
      "construction\n",
      "stopped\n",
      "------------\n"
     ]
    },
    {
     "data": {
      "text/markdown": [
       "#### Rural"
      ],
      "text/plain": [
       "<IPython.core.display.Markdown object>"
      ]
     },
     "metadata": {},
     "output_type": "display_data"
    },
    {
     "name": "stdout",
     "output_type": "stream",
     "text": [
      "-----\n",
      "hum\n",
      "winds\n",
      "67\n",
      "62\n",
      "61\n",
      "64\n",
      "63\n",
      "58\n",
      "68\n",
      "56\n",
      "-----\n"
     ]
    },
    {
     "data": {
      "text/markdown": [
       "# original"
      ],
      "text/plain": [
       "<IPython.core.display.Markdown object>"
      ]
     },
     "metadata": {},
     "output_type": "display_data"
    },
    {
     "data": {
      "text/markdown": [
       "#### Urban"
      ],
      "text/plain": [
       "<IPython.core.display.Markdown object>"
      ]
     },
     "metadata": {},
     "output_type": "display_data"
    },
    {
     "name": "stdout",
     "output_type": "stream",
     "text": [
      "---------\n",
      "iconic\n",
      "theme\n",
      "classic\n",
      "musical\n",
      "lyrics\n",
      "horror\n",
      "exclusive\n",
      "hd\n",
      "edit\n",
      "written\n",
      "---------\n"
     ]
    },
    {
     "data": {
      "text/markdown": [
       "#### Rural"
      ],
      "text/plain": [
       "<IPython.core.display.Markdown object>"
      ]
     },
     "metadata": {},
     "output_type": "display_data"
    },
    {
     "name": "stdout",
     "output_type": "stream",
     "text": [
      "----------\n",
      "classic\n",
      "magic\n",
      "collection\n",
      "review\n",
      "film\n",
      "metal\n",
      "cover\n",
      "edition\n",
      "author\n",
      "version\n",
      "----------\n"
     ]
    },
    {
     "data": {
      "text/markdown": [
       "# recently"
      ],
      "text/plain": [
       "<IPython.core.display.Markdown object>"
      ]
     },
     "metadata": {},
     "output_type": "display_data"
    },
    {
     "data": {
      "text/markdown": [
       "#### Urban"
      ],
      "text/plain": [
       "<IPython.core.display.Markdown object>"
      ]
     },
     "metadata": {},
     "output_type": "display_data"
    },
    {
     "name": "stdout",
     "output_type": "stream",
     "text": [
      "------------\n",
      "yesterday\n",
      "ve\n",
      "apparently\n",
      "earlier\n",
      "just\n",
      "since\n",
      "accidentally\n",
      "ive\n",
      "similar\n",
      "haven\n",
      "------------\n"
     ]
    },
    {
     "data": {
      "text/markdown": [
       "#### Rural"
      ],
      "text/plain": [
       "<IPython.core.display.Markdown object>"
      ]
     },
     "metadata": {},
     "output_type": "display_data"
    },
    {
     "name": "stdout",
     "output_type": "stream",
     "text": [
      "---------\n",
      "received\n",
      "yesterday\n",
      "several\n",
      "created\n",
      "recent\n",
      "website\n",
      "2016\n",
      "staff\n",
      "known\n",
      "built\n",
      "---------\n"
     ]
    },
    {
     "data": {
      "text/markdown": [
       "# shirt"
      ],
      "text/plain": [
       "<IPython.core.display.Markdown object>"
      ]
     },
     "metadata": {},
     "output_type": "display_data"
    },
    {
     "data": {
      "text/markdown": [
       "#### Urban"
      ],
      "text/plain": [
       "<IPython.core.display.Markdown object>"
      ]
     },
     "metadata": {},
     "output_type": "display_data"
    },
    {
     "name": "stdout",
     "output_type": "stream",
     "text": [
      "------\n",
      "shirts\n",
      "tee\n",
      "hoodie\n",
      "hat\n",
      "jacket\n",
      "shorts\n",
      "gray\n",
      "xl\n",
      "sleeve\n",
      "pants\n",
      "------\n"
     ]
    },
    {
     "data": {
      "text/markdown": [
       "#### Rural"
      ],
      "text/plain": [
       "<IPython.core.display.Markdown object>"
      ]
     },
     "metadata": {},
     "output_type": "display_data"
    },
    {
     "name": "stdout",
     "output_type": "stream",
     "text": [
      "-------\n",
      "hat\n",
      "dress\n",
      "pink\n",
      "shoes\n",
      "closet\n",
      "vintage\n",
      "blue\n",
      "hair\n",
      "jersey\n",
      "large\n",
      "-------\n"
     ]
    },
    {
     "data": {
      "text/markdown": [
       "# patch"
      ],
      "text/plain": [
       "<IPython.core.display.Markdown object>"
      ]
     },
     "metadata": {},
     "output_type": "display_data"
    },
    {
     "data": {
      "text/markdown": [
       "#### Urban"
      ],
      "text/plain": [
       "<IPython.core.display.Markdown object>"
      ]
     },
     "metadata": {},
     "output_type": "display_data"
    },
    {
     "name": "stdout",
     "output_type": "stream",
     "text": [
      "--------\n",
      "rc\n",
      "patrice\n",
      "panini\n",
      "sp\n",
      "bergeron\n",
      "auto\n",
      "rajon\n",
      "garnett\n",
      "topps\n",
      "17\n",
      "--------\n"
     ]
    },
    {
     "data": {
      "text/markdown": [
       "#### Rural"
      ],
      "text/plain": [
       "<IPython.core.display.Markdown object>"
      ]
     },
     "metadata": {},
     "output_type": "display_data"
    },
    {
     "name": "stdout",
     "output_type": "stream",
     "text": [
      "-------------\n",
      "department\n",
      "vehicle\n",
      "police\n",
      "officer\n",
      "calendar\n",
      "brockton\n",
      "crash\n",
      "milford\n",
      "arrested\n",
      "massachusetts\n",
      "-------------\n"
     ]
    },
    {
     "data": {
      "text/markdown": [
       "# retweeted"
      ],
      "text/plain": [
       "<IPython.core.display.Markdown object>"
      ]
     },
     "metadata": {},
     "output_type": "display_data"
    },
    {
     "data": {
      "text/markdown": [
       "#### Urban"
      ],
      "text/plain": [
       "<IPython.core.display.Markdown object>"
      ]
     },
     "metadata": {},
     "output_type": "display_data"
    },
    {
     "name": "stdout",
     "output_type": "stream",
     "text": [
      "-------\n",
      "tweeted\n",
      "saw\n",
      "posted\n",
      "kyle\n",
      "adam\n",
      "wrote\n",
      "jones\n",
      "missed\n",
      "dan\n",
      "drew\n",
      "-------\n"
     ]
    },
    {
     "data": {
      "text/markdown": [
       "#### Rural"
      ],
      "text/plain": [
       "<IPython.core.display.Markdown object>"
      ]
     },
     "metadata": {},
     "output_type": "display_data"
    },
    {
     "name": "stdout",
     "output_type": "stream",
     "text": [
      "----------\n",
      "mayor\n",
      "department\n",
      "plymouth\n",
      "chief\n",
      "quincy\n",
      "south\n",
      "university\n",
      "newton\n",
      "council\n",
      "robert\n",
      "----------\n"
     ]
    },
    {
     "data": {
      "text/markdown": [
       "# bomb"
      ],
      "text/plain": [
       "<IPython.core.display.Markdown object>"
      ]
     },
     "metadata": {},
     "output_type": "display_data"
    },
    {
     "data": {
      "text/markdown": [
       "#### Urban"
      ],
      "text/plain": [
       "<IPython.core.display.Markdown object>"
      ]
     },
     "metadata": {},
     "output_type": "display_data"
    },
    {
     "name": "stdout",
     "output_type": "stream",
     "text": [
      "------\n",
      "nasty\n",
      "japan\n",
      "fire\n",
      "attack\n",
      "cop\n",
      "smoke\n",
      "korea\n",
      "crack\n",
      "n\n",
      "weed\n",
      "------\n"
     ]
    },
    {
     "data": {
      "text/markdown": [
       "#### Rural"
      ],
      "text/plain": [
       "<IPython.core.display.Markdown object>"
      ]
     },
     "metadata": {},
     "output_type": "display_data"
    },
    {
     "name": "stdout",
     "output_type": "stream",
     "text": [
      "------\n",
      "dope\n",
      "trash\n",
      "hot\n",
      "weak\n",
      "fat\n",
      "cold\n",
      "dumb\n",
      "soft\n",
      "dirty\n",
      "orange\n",
      "------\n"
     ]
    },
    {
     "data": {
      "text/markdown": [
       "# pr"
      ],
      "text/plain": [
       "<IPython.core.display.Markdown object>"
      ]
     },
     "metadata": {},
     "output_type": "display_data"
    },
    {
     "data": {
      "text/markdown": [
       "#### Urban"
      ],
      "text/plain": [
       "<IPython.core.display.Markdown object>"
      ]
     },
     "metadata": {},
     "output_type": "display_data"
    },
    {
     "name": "stdout",
     "output_type": "stream",
     "text": [
      "--------------\n",
      "corporate\n",
      "infrastructure\n",
      "operations\n",
      "strategy\n",
      "marketing\n",
      "security\n",
      "organization\n",
      "govt\n",
      "technical\n",
      "profit\n",
      "--------------\n"
     ]
    },
    {
     "data": {
      "text/markdown": [
       "#### Rural"
      ],
      "text/plain": [
       "<IPython.core.display.Markdown object>"
      ]
     },
     "metadata": {},
     "output_type": "display_data"
    },
    {
     "name": "stdout",
     "output_type": "stream",
     "text": [
      "--------\n",
      "eu\n",
      "smith\n",
      "al\n",
      "los\n",
      "de\n",
      "ne\n",
      "e\n",
      "strategy\n",
      "te\n",
      "para\n",
      "--------\n"
     ]
    },
    {
     "data": {
      "text/markdown": [
       "# rt"
      ],
      "text/plain": [
       "<IPython.core.display.Markdown object>"
      ]
     },
     "metadata": {},
     "output_type": "display_data"
    },
    {
     "data": {
      "text/markdown": [
       "#### Urban"
      ],
      "text/plain": [
       "<IPython.core.display.Markdown object>"
      ]
     },
     "metadata": {},
     "output_type": "display_data"
    },
    {
     "name": "stdout",
     "output_type": "stream",
     "text": [
      "------------\n",
      "forbes\n",
      "marketwatch\n",
      "livesquawk\n",
      "theeconomist\n",
      "finance\n",
      "ap\n",
      "ty\n",
      "financial\n",
      "survey\n",
      "startup\n",
      "------------\n"
     ]
    },
    {
     "data": {
      "text/markdown": [
       "#### Rural"
      ],
      "text/plain": [
       "<IPython.core.display.Markdown object>"
      ]
     },
     "metadata": {},
     "output_type": "display_data"
    },
    {
     "name": "stdout",
     "output_type": "stream",
     "text": [
      "---------\n",
      "tech\n",
      "marketing\n",
      "mt\n",
      "cc\n",
      "pls\n",
      "digital\n",
      "mobile\n",
      "cloud\n",
      "auto\n",
      "below\n",
      "---------\n"
     ]
    },
    {
     "data": {
      "text/markdown": [
       "# agent"
      ],
      "text/plain": [
       "<IPython.core.display.Markdown object>"
      ]
     },
     "metadata": {},
     "output_type": "display_data"
    },
    {
     "data": {
      "text/markdown": [
       "#### Urban"
      ],
      "text/plain": [
       "<IPython.core.display.Markdown object>"
      ]
     },
     "metadata": {},
     "output_type": "display_data"
    },
    {
     "name": "stdout",
     "output_type": "stream",
     "text": [
      "---------\n",
      "agency\n",
      "lawyer\n",
      "attorney\n",
      "executive\n",
      "officer\n",
      "fbi\n",
      "employee\n",
      "contract\n",
      "owner\n",
      "jared\n",
      "---------\n"
     ]
    },
    {
     "data": {
      "text/markdown": [
       "#### Rural"
      ],
      "text/plain": [
       "<IPython.core.display.Markdown object>"
      ]
     },
     "metadata": {},
     "output_type": "display_data"
    },
    {
     "name": "stdout",
     "output_type": "stream",
     "text": [
      "--------\n",
      "revealed\n",
      "secret\n",
      "report\n",
      "ad\n",
      "owner\n",
      "consumer\n",
      "speech\n",
      "auto\n",
      "offer\n",
      "address\n",
      "--------\n"
     ]
    },
    {
     "data": {
      "text/markdown": [
       "# chinese"
      ],
      "text/plain": [
       "<IPython.core.display.Markdown object>"
      ]
     },
     "metadata": {},
     "output_type": "display_data"
    },
    {
     "data": {
      "text/markdown": [
       "#### Urban"
      ],
      "text/plain": [
       "<IPython.core.display.Markdown object>"
      ]
     },
     "metadata": {},
     "output_type": "display_data"
    },
    {
     "name": "stdout",
     "output_type": "stream",
     "text": [
      "--------\n",
      "british\n",
      "indian\n",
      "japanese\n",
      "china\n",
      "india\n",
      "valley\n",
      "japan\n",
      "italian\n",
      "asian\n",
      "african\n",
      "--------\n"
     ]
    },
    {
     "data": {
      "text/markdown": [
       "#### Rural"
      ],
      "text/plain": [
       "<IPython.core.display.Markdown object>"
      ]
     },
     "metadata": {},
     "output_type": "display_data"
    },
    {
     "name": "stdout",
     "output_type": "stream",
     "text": [
      "----------\n",
      "water\n",
      "restaurant\n",
      "drug\n",
      "food\n",
      "china\n",
      "french\n",
      "gas\n",
      "shopping\n",
      "woman\n",
      "texas\n",
      "----------\n"
     ]
    },
    {
     "data": {
      "text/markdown": [
       "# shoes"
      ],
      "text/plain": [
       "<IPython.core.display.Markdown object>"
      ]
     },
     "metadata": {},
     "output_type": "display_data"
    },
    {
     "data": {
      "text/markdown": [
       "#### Urban"
      ],
      "text/plain": [
       "<IPython.core.display.Markdown object>"
      ]
     },
     "metadata": {},
     "output_type": "display_data"
    },
    {
     "name": "stdout",
     "output_type": "stream",
     "text": [
      "-------\n",
      "clothes\n",
      "pants\n",
      "glasses\n",
      "shorts\n",
      "shirts\n",
      "hoodie\n",
      "hair\n",
      "gear\n",
      "purple\n",
      "bags\n",
      "-------\n"
     ]
    },
    {
     "data": {
      "text/markdown": [
       "#### Rural"
      ],
      "text/plain": [
       "<IPython.core.display.Markdown object>"
      ]
     },
     "metadata": {},
     "output_type": "display_data"
    },
    {
     "name": "stdout",
     "output_type": "stream",
     "text": [
      "------\n",
      "feet\n",
      "color\n",
      "skin\n",
      "hair\n",
      "teeth\n",
      "pink\n",
      "hands\n",
      "pair\n",
      "makeup\n",
      "dress\n",
      "------\n"
     ]
    },
    {
     "data": {
      "text/markdown": [
       "# violence"
      ],
      "text/plain": [
       "<IPython.core.display.Markdown object>"
      ]
     },
     "metadata": {},
     "output_type": "display_data"
    },
    {
     "data": {
      "text/markdown": [
       "#### Urban"
      ],
      "text/plain": [
       "<IPython.core.display.Markdown object>"
      ]
     },
     "metadata": {},
     "output_type": "display_data"
    },
    {
     "name": "stdout",
     "output_type": "stream",
     "text": [
      "---------\n",
      "racism\n",
      "violent\n",
      "abuse\n",
      "muslims\n",
      "religious\n",
      "crime\n",
      "religion\n",
      "assault\n",
      "rape\n",
      "sexual\n",
      "---------\n"
     ]
    },
    {
     "data": {
      "text/markdown": [
       "#### Rural"
      ],
      "text/plain": [
       "<IPython.core.display.Markdown object>"
      ]
     },
     "metadata": {},
     "output_type": "display_data"
    },
    {
     "name": "stdout",
     "output_type": "stream",
     "text": [
      "--------\n",
      "muslim\n",
      "anti\n",
      "protest\n",
      "crime\n",
      "liberal\n",
      "justice\n",
      "politics\n",
      "rights\n",
      "military\n",
      "illegal\n",
      "--------\n"
     ]
    },
    {
     "data": {
      "text/markdown": [
       "# age"
      ],
      "text/plain": [
       "<IPython.core.display.Markdown object>"
      ]
     },
     "metadata": {},
     "output_type": "display_data"
    },
    {
     "data": {
      "text/markdown": [
       "#### Urban"
      ],
      "text/plain": [
       "<IPython.core.display.Markdown object>"
      ]
     },
     "metadata": {},
     "output_type": "display_data"
    },
    {
     "name": "stdout",
     "output_type": "stream",
     "text": [
      "--------\n",
      "era\n",
      "average\n",
      "years\n",
      "marriage\n",
      "dies\n",
      "year\n",
      "terms\n",
      "approval\n",
      "percent\n",
      "century\n",
      "--------\n"
     ]
    },
    {
     "data": {
      "text/markdown": [
       "#### Rural"
      ],
      "text/plain": [
       "<IPython.core.display.Markdown object>"
      ]
     },
     "metadata": {},
     "output_type": "display_data"
    },
    {
     "name": "stdout",
     "output_type": "stream",
     "text": [
      "--------\n",
      "yr\n",
      "risk\n",
      "male\n",
      "brain\n",
      "old\n",
      "level\n",
      "children\n",
      "years\n",
      "above\n",
      "name\n",
      "--------\n"
     ]
    },
    {
     "data": {
      "text/markdown": [
       "# clear"
      ],
      "text/plain": [
       "<IPython.core.display.Markdown object>"
      ]
     },
     "metadata": {},
     "output_type": "display_data"
    },
    {
     "data": {
      "text/markdown": [
       "#### Urban"
      ],
      "text/plain": [
       "<IPython.core.display.Markdown object>"
      ]
     },
     "metadata": {},
     "output_type": "display_data"
    },
    {
     "name": "stdout",
     "output_type": "stream",
     "text": [
      "---------\n",
      "correct\n",
      "helpful\n",
      "possible\n",
      "difficult\n",
      "obvious\n",
      "useful\n",
      "simple\n",
      "true\n",
      "relevant\n",
      "appears\n",
      "---------\n"
     ]
    },
    {
     "data": {
      "text/markdown": [
       "#### Rural"
      ],
      "text/plain": [
       "<IPython.core.display.Markdown object>"
      ]
     },
     "metadata": {},
     "output_type": "display_data"
    },
    {
     "name": "stdout",
     "output_type": "stream",
     "text": [
      "---------\n",
      "clouds\n",
      "current\n",
      "mostly\n",
      "sure\n",
      "statement\n",
      "expected\n",
      "broken\n",
      "sunny\n",
      "winds\n",
      "bright\n",
      "---------\n"
     ]
    },
    {
     "data": {
      "text/markdown": [
       "# speed"
      ],
      "text/plain": [
       "<IPython.core.display.Markdown object>"
      ]
     },
     "metadata": {},
     "output_type": "display_data"
    },
    {
     "data": {
      "text/markdown": [
       "#### Urban"
      ],
      "text/plain": [
       "<IPython.core.display.Markdown object>"
      ]
     },
     "metadata": {},
     "output_type": "display_data"
    },
    {
     "name": "stdout",
     "output_type": "stream",
     "text": [
      "-------\n",
      "level\n",
      "storage\n",
      "scale\n",
      "stretch\n",
      "levels\n",
      "range\n",
      "wind\n",
      "setting\n",
      "net\n",
      "track\n",
      "-------\n"
     ]
    },
    {
     "data": {
      "text/markdown": [
       "#### Rural"
      ],
      "text/plain": [
       "<IPython.core.display.Markdown object>"
      ]
     },
     "metadata": {},
     "output_type": "display_data"
    },
    {
     "name": "stdout",
     "output_type": "stream",
     "text": [
      "-------\n",
      "heat\n",
      "winds\n",
      "ground\n",
      "solar\n",
      "vehicle\n",
      "gas\n",
      "quality\n",
      "cloud\n",
      "93\n",
      "prices\n",
      "-------\n"
     ]
    },
    {
     "data": {
      "text/markdown": [
       "# hiring"
      ],
      "text/plain": [
       "<IPython.core.display.Markdown object>"
      ]
     },
     "metadata": {},
     "output_type": "display_data"
    },
    {
     "data": {
      "text/markdown": [
       "#### Urban"
      ],
      "text/plain": [
       "<IPython.core.display.Markdown object>"
      ]
     },
     "metadata": {},
     "output_type": "display_data"
    },
    {
     "name": "stdout",
     "output_type": "stream",
     "text": [
      "--------------\n",
      "seeking\n",
      "operations\n",
      "consultant\n",
      "technical\n",
      "finance\n",
      "engineering\n",
      "representative\n",
      "enterprise\n",
      "sr\n",
      "development\n",
      "--------------\n"
     ]
    },
    {
     "data": {
      "text/markdown": [
       "#### Rural"
      ],
      "text/plain": [
       "<IPython.core.display.Markdown object>"
      ]
     },
     "metadata": {},
     "output_type": "display_data"
    },
    {
     "name": "stdout",
     "output_type": "stream",
     "text": [
      "-----------\n",
      "assistant\n",
      "manager\n",
      "sales\n",
      "software\n",
      "services\n",
      "management\n",
      "building\n",
      "development\n",
      "nh\n",
      "usa\n",
      "-----------\n"
     ]
    },
    {
     "data": {
      "text/markdown": [
       "# form"
      ],
      "text/plain": [
       "<IPython.core.display.Markdown object>"
      ]
     },
     "metadata": {},
     "output_type": "display_data"
    },
    {
     "data": {
      "text/markdown": [
       "#### Urban"
      ],
      "text/plain": [
       "<IPython.core.display.Markdown object>"
      ]
     },
     "metadata": {},
     "output_type": "display_data"
    },
    {
     "name": "stdout",
     "output_type": "stream",
     "text": [
      "----------\n",
      "filed\n",
      "terms\n",
      "context\n",
      "sec\n",
      "subject\n",
      "definition\n",
      "result\n",
      "process\n",
      "concept\n",
      "range\n",
      "----------\n"
     ]
    },
    {
     "data": {
      "text/markdown": [
       "#### Rural"
      ],
      "text/plain": [
       "<IPython.core.display.Markdown object>"
      ]
     },
     "metadata": {},
     "output_type": "display_data"
    },
    {
     "name": "stdout",
     "output_type": "stream",
     "text": [
      "----------\n",
      "image\n",
      "version\n",
      "system\n",
      "collection\n",
      "film\n",
      "lack\n",
      "platform\n",
      "history\n",
      "example\n",
      "culture\n",
      "----------\n"
     ]
    },
    {
     "data": {
      "text/markdown": [
       "# super"
      ],
      "text/plain": [
       "<IPython.core.display.Markdown object>"
      ]
     },
     "metadata": {},
     "output_type": "display_data"
    },
    {
     "data": {
      "text/markdown": [
       "#### Urban"
      ],
      "text/plain": [
       "<IPython.core.display.Markdown object>"
      ]
     },
     "metadata": {},
     "output_type": "display_data"
    },
    {
     "name": "stdout",
     "output_type": "stream",
     "text": [
      "----------\n",
      "wicked\n",
      "very\n",
      "af\n",
      "extremely\n",
      "sooo\n",
      "soooo\n",
      "so\n",
      "pretty\n",
      "incredibly\n",
      "falcons\n",
      "----------\n"
     ]
    },
    {
     "data": {
      "text/markdown": [
       "#### Rural"
      ],
      "text/plain": [
       "<IPython.core.display.Markdown object>"
      ]
     },
     "metadata": {},
     "output_type": "display_data"
    },
    {
     "name": "stdout",
     "output_type": "stream",
     "text": [
      "--------\n",
      "very\n",
      "patriots\n",
      "pats\n",
      "af\n",
      "wars\n",
      "pretty\n",
      "game\n",
      "bowl\n",
      "classic\n",
      "chicken\n",
      "--------\n"
     ]
    },
    {
     "data": {
      "text/markdown": [
       "# playing"
      ],
      "text/plain": [
       "<IPython.core.display.Markdown object>"
      ]
     },
     "metadata": {},
     "output_type": "display_data"
    },
    {
     "data": {
      "text/markdown": [
       "#### Urban"
      ],
      "text/plain": [
       "<IPython.core.display.Markdown object>"
      ]
     },
     "metadata": {},
     "output_type": "display_data"
    },
    {
     "name": "stdout",
     "output_type": "stream",
     "text": [
      "--------\n",
      "singing\n",
      "dancing\n",
      "riding\n",
      "hitting\n",
      "armed\n",
      "watching\n",
      "played\n",
      "van\n",
      "jam\n",
      "prod\n",
      "--------\n"
     ]
    },
    {
     "data": {
      "text/markdown": [
       "#### Rural"
      ],
      "text/plain": [
       "<IPython.core.display.Markdown object>"
      ]
     },
     "metadata": {},
     "output_type": "display_data"
    },
    {
     "name": "stdout",
     "output_type": "stream",
     "text": [
      "---------\n",
      "watching\n",
      "played\n",
      "play\n",
      "working\n",
      "running\n",
      "sleeping\n",
      "talking\n",
      "football\n",
      "fighting\n",
      "listening\n",
      "---------\n"
     ]
    },
    {
     "data": {
      "text/markdown": [
       "# earning"
      ],
      "text/plain": [
       "<IPython.core.display.Markdown object>"
      ]
     },
     "metadata": {},
     "output_type": "display_data"
    },
    {
     "data": {
      "text/markdown": [
       "#### Urban"
      ],
      "text/plain": [
       "<IPython.core.display.Markdown object>"
      ]
     },
     "metadata": {},
     "output_type": "display_data"
    },
    {
     "name": "stdout",
     "output_type": "stream",
     "text": [
      "----------\n",
      "activities\n",
      "download\n",
      "bio\n",
      "missing\n",
      "advance\n",
      "struggling\n",
      "dying\n",
      "exchange\n",
      "using\n",
      "checked\n",
      "----------\n"
     ]
    },
    {
     "data": {
      "text/markdown": [
       "#### Rural"
      ],
      "text/plain": [
       "<IPython.core.display.Markdown object>"
      ]
     },
     "metadata": {},
     "output_type": "display_data"
    },
    {
     "name": "stdout",
     "output_type": "stream",
     "text": [
      "----------\n",
      "earn\n",
      "interested\n",
      "master\n",
      "download\n",
      "consumer\n",
      "dying\n",
      "nh\n",
      "counseling\n",
      "ri\n",
      "da\n",
      "----------\n"
     ]
    },
    {
     "data": {
      "text/markdown": [
       "# senior"
      ],
      "text/plain": [
       "<IPython.core.display.Markdown object>"
      ]
     },
     "metadata": {},
     "output_type": "display_data"
    },
    {
     "data": {
      "text/markdown": [
       "#### Urban"
      ],
      "text/plain": [
       "<IPython.core.display.Markdown object>"
      ]
     },
     "metadata": {},
     "output_type": "display_data"
    },
    {
     "name": "stdout",
     "output_type": "stream",
     "text": [
      "-----------\n",
      "sr\n",
      "consultant\n",
      "assistant\n",
      "specialist\n",
      "engineering\n",
      "operations\n",
      "engineer\n",
      "technical\n",
      "director\n",
      "analyst\n",
      "-----------\n"
     ]
    },
    {
     "data": {
      "text/markdown": [
       "#### Rural"
      ],
      "text/plain": [
       "<IPython.core.display.Markdown object>"
      ]
     },
     "metadata": {},
     "output_type": "display_data"
    },
    {
     "name": "stdout",
     "output_type": "stream",
     "text": [
      "-------\n",
      "youth\n",
      "student\n",
      "umass\n",
      "awards\n",
      "staff\n",
      "program\n",
      "college\n",
      "club\n",
      "award\n",
      "annual\n",
      "-------\n"
     ]
    },
    {
     "data": {
      "text/markdown": [
       "# via"
      ],
      "text/plain": [
       "<IPython.core.display.Markdown object>"
      ]
     },
     "metadata": {},
     "output_type": "display_data"
    },
    {
     "data": {
      "text/markdown": [
       "#### Urban"
      ],
      "text/plain": [
       "<IPython.core.display.Markdown object>"
      ]
     },
     "metadata": {},
     "output_type": "display_data"
    },
    {
     "name": "stdout",
     "output_type": "stream",
     "text": [
      "---------\n",
      "launches\n",
      "announces\n",
      "amp\n",
      "magazine\n",
      "101\n",
      "global\n",
      "journal\n",
      "raises\n",
      "retail\n",
      "launch\n",
      "---------\n"
     ]
    },
    {
     "data": {
      "text/markdown": [
       "#### Rural"
      ],
      "text/plain": [
       "<IPython.core.display.Markdown object>"
      ]
     },
     "metadata": {},
     "output_type": "display_data"
    },
    {
     "name": "stdout",
     "output_type": "stream",
     "text": [
      "-------------\n",
      "international\n",
      "playlist\n",
      "digital\n",
      "ii\n",
      "led\n",
      "tech\n",
      "global\n",
      "pro\n",
      "27\n",
      "modern\n",
      "-------------\n"
     ]
    },
    {
     "data": {
      "text/markdown": [
       "# closed"
      ],
      "text/plain": [
       "<IPython.core.display.Markdown object>"
      ]
     },
     "metadata": {},
     "output_type": "display_data"
    },
    {
     "data": {
      "text/markdown": [
       "#### Urban"
      ],
      "text/plain": [
       "<IPython.core.display.Markdown object>"
      ]
     },
     "metadata": {},
     "output_type": "display_data"
    },
    {
     "name": "stdout",
     "output_type": "stream",
     "text": [
      "----------\n",
      "open\n",
      "opened\n",
      "litter\n",
      "cancelled\n",
      "sidewalk\n",
      "ave\n",
      "dorchester\n",
      "roxbury\n",
      "degrees\n",
      "resolved\n",
      "----------\n"
     ]
    },
    {
     "data": {
      "text/markdown": [
       "#### Rural"
      ],
      "text/plain": [
       "<IPython.core.display.Markdown object>"
      ]
     },
     "metadata": {},
     "output_type": "display_data"
    },
    {
     "name": "stdout",
     "output_type": "stream",
     "text": [
      "--------\n",
      "open\n",
      "held\n",
      "due\n",
      "tuesday\n",
      "february\n",
      "main\n",
      "tomorrow\n",
      "monday\n",
      "meeting\n",
      "feb\n",
      "--------\n"
     ]
    },
    {
     "data": {
      "text/markdown": [
       "# england"
      ],
      "text/plain": [
       "<IPython.core.display.Markdown object>"
      ]
     },
     "metadata": {},
     "output_type": "display_data"
    },
    {
     "data": {
      "text/markdown": [
       "#### Urban"
      ],
      "text/plain": [
       "<IPython.core.display.Markdown object>"
      ]
     },
     "metadata": {},
     "output_type": "display_data"
    },
    {
     "name": "stdout",
     "output_type": "stream",
     "text": [
      "-------\n",
      "york\n",
      "stadium\n",
      "cod\n",
      "edition\n",
      "miami\n",
      "atlanta\n",
      "mexico\n",
      "japan\n",
      "wave\n",
      "steam\n",
      "-------\n"
     ]
    },
    {
     "data": {
      "text/markdown": [
       "#### Rural"
      ],
      "text/plain": [
       "<IPython.core.display.Markdown object>"
      ]
     },
     "metadata": {},
     "output_type": "display_data"
    },
    {
     "name": "stdout",
     "output_type": "stream",
     "text": [
      "-------------\n",
      "york\n",
      "jersey\n",
      "brand\n",
      "boston\n",
      "sports\n",
      "counseling\n",
      "fans\n",
      "championship\n",
      "massachusetts\n",
      "beginning\n",
      "-------------\n"
     ]
    },
    {
     "data": {
      "text/markdown": [
       "# iphone"
      ],
      "text/plain": [
       "<IPython.core.display.Markdown object>"
      ]
     },
     "metadata": {},
     "output_type": "display_data"
    },
    {
     "data": {
      "text/markdown": [
       "#### Urban"
      ],
      "text/plain": [
       "<IPython.core.display.Markdown object>"
      ]
     },
     "metadata": {},
     "output_type": "display_data"
    },
    {
     "name": "stdout",
     "output_type": "stream",
     "text": [
      "----------\n",
      "android\n",
      "litter\n",
      "sidewalk\n",
      "galaxy\n",
      "ave\n",
      "windows\n",
      "dorchester\n",
      "amazon\n",
      "98\n",
      "rd\n",
      "----------\n"
     ]
    },
    {
     "data": {
      "text/markdown": [
       "#### Rural"
      ],
      "text/plain": [
       "<IPython.core.display.Markdown object>"
      ]
     },
     "metadata": {},
     "output_type": "display_data"
    },
    {
     "name": "stdout",
     "output_type": "stream",
     "text": [
      "--------\n",
      "apple\n",
      "app\n",
      "camera\n",
      "size\n",
      "plus\n",
      "features\n",
      "amazon\n",
      "phone\n",
      "ad\n",
      "update\n",
      "--------\n"
     ]
    },
    {
     "data": {
      "text/markdown": [
       "# revolution"
      ],
      "text/plain": [
       "<IPython.core.display.Markdown object>"
      ]
     },
     "metadata": {},
     "output_type": "display_data"
    },
    {
     "data": {
      "text/markdown": [
       "#### Urban"
      ],
      "text/plain": [
       "<IPython.core.display.Markdown object>"
      ]
     },
     "metadata": {},
     "output_type": "display_data"
    },
    {
     "name": "stdout",
     "output_type": "stream",
     "text": [
      "--------------\n",
      "century\n",
      "transformation\n",
      "summit\n",
      "future\n",
      "generation\n",
      "race\n",
      "native\n",
      "innovation\n",
      "era\n",
      "global\n",
      "--------------\n"
     ]
    },
    {
     "data": {
      "text/markdown": [
       "#### Rural"
      ],
      "text/plain": [
       "<IPython.core.display.Markdown object>"
      ]
     },
     "metadata": {},
     "output_type": "display_data"
    },
    {
     "name": "stdout",
     "output_type": "stream",
     "text": [
      "----------\n",
      "holistic\n",
      "wellness\n",
      "topics\n",
      "pinned\n",
      "planet\n",
      "model\n",
      "weight\n",
      "focus\n",
      "stage\n",
      "technology\n",
      "----------\n"
     ]
    },
    {
     "data": {
      "text/markdown": [
       "# race"
      ],
      "text/plain": [
       "<IPython.core.display.Markdown object>"
      ]
     },
     "metadata": {},
     "output_type": "display_data"
    },
    {
     "data": {
      "text/markdown": [
       "#### Urban"
      ],
      "text/plain": [
       "<IPython.core.display.Markdown object>"
      ]
     },
     "metadata": {},
     "output_type": "display_data"
    },
    {
     "name": "stdout",
     "output_type": "stream",
     "text": [
      "----------\n",
      "movement\n",
      "debate\n",
      "revolution\n",
      "gender\n",
      "battle\n",
      "war\n",
      "cultural\n",
      "identity\n",
      "victory\n",
      "violence\n",
      "----------\n"
     ]
    },
    {
     "data": {
      "text/markdown": [
       "#### Rural"
      ],
      "text/plain": [
       "<IPython.core.display.Markdown object>"
      ]
     },
     "metadata": {},
     "output_type": "display_data"
    },
    {
     "name": "stdout",
     "output_type": "stream",
     "text": [
      "----------\n",
      "tournament\n",
      "game\n",
      "period\n",
      "trip\n",
      "field\n",
      "stage\n",
      "season\n",
      "quarter\n",
      "film\n",
      "series\n",
      "----------\n"
     ]
    },
    {
     "data": {
      "text/markdown": [
       "# eu"
      ],
      "text/plain": [
       "<IPython.core.display.Markdown object>"
      ]
     },
     "metadata": {},
     "output_type": "display_data"
    },
    {
     "data": {
      "text/markdown": [
       "#### Urban"
      ],
      "text/plain": [
       "<IPython.core.display.Markdown object>"
      ]
     },
     "metadata": {},
     "output_type": "display_data"
    },
    {
     "name": "stdout",
     "output_type": "stream",
     "text": [
      "----------\n",
      "os\n",
      "uk\n",
      "ser\n",
      "govt\n",
      "livesquawk\n",
      "como\n",
      "e\n",
      "india\n",
      "syria\n",
      "va\n",
      "----------\n"
     ]
    },
    {
     "data": {
      "text/markdown": [
       "#### Rural"
      ],
      "text/plain": [
       "<IPython.core.display.Markdown object>"
      ]
     },
     "metadata": {},
     "output_type": "display_data"
    },
    {
     "name": "stdout",
     "output_type": "stream",
     "text": [
      "----\n",
      "que\n",
      "para\n",
      "por\n",
      "te\n",
      "de\n",
      "o\n",
      "na\n",
      "los\n",
      "un\n",
      "e\n",
      "----\n"
     ]
    },
    {
     "data": {
      "text/markdown": [
       "# se"
      ],
      "text/plain": [
       "<IPython.core.display.Markdown object>"
      ]
     },
     "metadata": {},
     "output_type": "display_data"
    },
    {
     "data": {
      "text/markdown": [
       "#### Urban"
      ],
      "text/plain": [
       "<IPython.core.display.Markdown object>"
      ]
     },
     "metadata": {},
     "output_type": "display_data"
    },
    {
     "name": "stdout",
     "output_type": "stream",
     "text": [
      "----\n",
      "como\n",
      "ser\n",
      "si\n",
      "pero\n",
      "que\n",
      "di\n",
      "tu\n",
      "ti\n",
      "su\n",
      "qu\n",
      "----\n"
     ]
    },
    {
     "data": {
      "text/markdown": [
       "#### Rural"
      ],
      "text/plain": [
       "<IPython.core.display.Markdown object>"
      ]
     },
     "metadata": {},
     "output_type": "display_data"
    },
    {
     "name": "stdout",
     "output_type": "stream",
     "text": [
      "----\n",
      "por\n",
      "para\n",
      "que\n",
      "en\n",
      "de\n",
      "te\n",
      "el\n",
      "es\n",
      "los\n",
      "ne\n",
      "----\n"
     ]
    },
    {
     "data": {
      "text/markdown": [
       "# cc"
      ],
      "text/plain": [
       "<IPython.core.display.Markdown object>"
      ]
     },
     "metadata": {},
     "output_type": "display_data"
    },
    {
     "data": {
      "text/markdown": [
       "#### Urban"
      ],
      "text/plain": [
       "<IPython.core.display.Markdown object>"
      ]
     },
     "metadata": {},
     "output_type": "display_data"
    },
    {
     "name": "stdout",
     "output_type": "stream",
     "text": [
      "------------\n",
      "forum\n",
      "workshop\n",
      "panel\n",
      "inc\n",
      "presentation\n",
      "summit\n",
      "session\n",
      "web\n",
      "mit\n",
      "hosting\n",
      "------------\n"
     ]
    },
    {
     "data": {
      "text/markdown": [
       "#### Rural"
      ],
      "text/plain": [
       "<IPython.core.display.Markdown object>"
      ]
     },
     "metadata": {},
     "output_type": "display_data"
    },
    {
     "name": "stdout",
     "output_type": "stream",
     "text": [
      "----------\n",
      "newton\n",
      "valley\n",
      "tournament\n",
      "umass\n",
      "university\n",
      "youth\n",
      "baseball\n",
      "hall\n",
      "central\n",
      "varsity\n",
      "----------\n"
     ]
    },
    {
     "data": {
      "text/markdown": [
       "# beyond"
      ],
      "text/plain": [
       "<IPython.core.display.Markdown object>"
      ]
     },
     "metadata": {},
     "output_type": "display_data"
    },
    {
     "data": {
      "text/markdown": [
       "#### Urban"
      ],
      "text/plain": [
       "<IPython.core.display.Markdown object>"
      ]
     },
     "metadata": {},
     "output_type": "display_data"
    },
    {
     "name": "stdout",
     "output_type": "stream",
     "text": [
      "----------\n",
      "towards\n",
      "toward\n",
      "incredibly\n",
      "apart\n",
      "through\n",
      "across\n",
      "extremely\n",
      "within\n",
      "truly\n",
      "changing\n",
      "----------\n"
     ]
    },
    {
     "data": {
      "text/markdown": [
       "#### Rural"
      ],
      "text/plain": [
       "<IPython.core.display.Markdown object>"
      ]
     },
     "metadata": {},
     "output_type": "display_data"
    },
    {
     "name": "stdout",
     "output_type": "stream",
     "text": [
      "--------\n",
      "most\n",
      "changing\n",
      "truly\n",
      "discover\n",
      "journey\n",
      "so\n",
      "very\n",
      "process\n",
      "ahead\n",
      "future\n",
      "--------\n"
     ]
    },
    {
     "data": {
      "text/markdown": [
       "# mi"
      ],
      "text/plain": [
       "<IPython.core.display.Markdown object>"
      ]
     },
     "metadata": {},
     "output_type": "display_data"
    },
    {
     "data": {
      "text/markdown": [
       "#### Urban"
      ],
      "text/plain": [
       "<IPython.core.display.Markdown object>"
      ]
     },
     "metadata": {},
     "output_type": "display_data"
    },
    {
     "name": "stdout",
     "output_type": "stream",
     "text": [
      "----\n",
      "tu\n",
      "su\n",
      "como\n",
      "para\n",
      "pero\n",
      "ti\n",
      "qu\n",
      "os\n",
      "si\n",
      "pa\n",
      "----\n"
     ]
    },
    {
     "data": {
      "text/markdown": [
       "#### Rural"
      ],
      "text/plain": [
       "<IPython.core.display.Markdown object>"
      ]
     },
     "metadata": {},
     "output_type": "display_data"
    },
    {
     "name": "stdout",
     "output_type": "stream",
     "text": [
      "-----\n",
      "por\n",
      "el\n",
      "para\n",
      "de\n",
      "en\n",
      "que\n",
      "es\n",
      "te\n",
      "miles\n",
      "se\n",
      "-----\n"
     ]
    },
    {
     "data": {
      "text/markdown": [
       "# current"
      ],
      "text/plain": [
       "<IPython.core.display.Markdown object>"
      ]
     },
     "metadata": {},
     "output_type": "display_data"
    },
    {
     "data": {
      "text/markdown": [
       "#### Urban"
      ],
      "text/plain": [
       "<IPython.core.display.Markdown object>"
      ]
     },
     "metadata": {},
     "output_type": "display_data"
    },
    {
     "name": "stdout",
     "output_type": "stream",
     "text": [
      "----------\n",
      "personal\n",
      "political\n",
      "economic\n",
      "status\n",
      "values\n",
      "leadership\n",
      "cultural\n",
      "bias\n",
      "policies\n",
      "diversity\n",
      "----------\n"
     ]
    },
    {
     "data": {
      "text/markdown": [
       "#### Rural"
      ],
      "text/plain": [
       "<IPython.core.display.Markdown object>"
      ]
     },
     "metadata": {},
     "output_type": "display_data"
    },
    {
     "name": "stdout",
     "output_type": "stream",
     "text": [
      "--------\n",
      "interest\n",
      "clouds\n",
      "path\n",
      "clear\n",
      "data\n",
      "safety\n",
      "weather\n",
      "although\n",
      "control\n",
      "personal\n",
      "--------\n"
     ]
    },
    {
     "data": {
      "text/markdown": [
       "# te"
      ],
      "text/plain": [
       "<IPython.core.display.Markdown object>"
      ]
     },
     "metadata": {},
     "output_type": "display_data"
    },
    {
     "data": {
      "text/markdown": [
       "#### Urban"
      ],
      "text/plain": [
       "<IPython.core.display.Markdown object>"
      ]
     },
     "metadata": {},
     "output_type": "display_data"
    },
    {
     "name": "stdout",
     "output_type": "stream",
     "text": [
      "----\n",
      "si\n",
      "ser\n",
      "como\n",
      "pero\n",
      "ni\n",
      "qu\n",
      "que\n",
      "tu\n",
      "ti\n",
      "una\n",
      "----\n"
     ]
    },
    {
     "data": {
      "text/markdown": [
       "#### Rural"
      ],
      "text/plain": [
       "<IPython.core.display.Markdown object>"
      ]
     },
     "metadata": {},
     "output_type": "display_data"
    },
    {
     "name": "stdout",
     "output_type": "stream",
     "text": [
      "----\n",
      "para\n",
      "por\n",
      "que\n",
      "de\n",
      "en\n",
      "es\n",
      "el\n",
      "eu\n",
      "na\n",
      "los\n",
      "----\n"
     ]
    },
    {
     "data": {
      "text/markdown": [
       "# above"
      ],
      "text/plain": [
       "<IPython.core.display.Markdown object>"
      ]
     },
     "metadata": {},
     "output_type": "display_data"
    },
    {
     "data": {
      "text/markdown": [
       "#### Urban"
      ],
      "text/plain": [
       "<IPython.core.display.Markdown object>"
      ]
     },
     "metadata": {},
     "output_type": "display_data"
    },
    {
     "name": "stdout",
     "output_type": "stream",
     "text": [
      "--------\n",
      "below\n",
      "percent\n",
      "lower\n",
      "closing\n",
      "62\n",
      "humidity\n",
      "degrees\n",
      "km\n",
      "54\n",
      "rates\n",
      "--------\n"
     ]
    },
    {
     "data": {
      "text/markdown": [
       "#### Rural"
      ],
      "text/plain": [
       "<IPython.core.display.Markdown object>"
      ]
     },
     "metadata": {},
     "output_type": "display_data"
    },
    {
     "name": "stdout",
     "output_type": "stream",
     "text": [
      "--------\n",
      "under\n",
      "across\n",
      "inside\n",
      "costs\n",
      "near\n",
      "pressure\n",
      "within\n",
      "control\n",
      "age\n",
      "among\n",
      "--------\n"
     ]
    },
    {
     "data": {
      "text/markdown": [
       "# among"
      ],
      "text/plain": [
       "<IPython.core.display.Markdown object>"
      ]
     },
     "metadata": {},
     "output_type": "display_data"
    },
    {
     "data": {
      "text/markdown": [
       "#### Urban"
      ],
      "text/plain": [
       "<IPython.core.display.Markdown object>"
      ]
     },
     "metadata": {},
     "output_type": "display_data"
    },
    {
     "name": "stdout",
     "output_type": "stream",
     "text": [
      "---------\n",
      "including\n",
      "facing\n",
      "countries\n",
      "cities\n",
      "highest\n",
      "despite\n",
      "african\n",
      "against\n",
      "economic\n",
      "named\n",
      "---------\n"
     ]
    },
    {
     "data": {
      "text/markdown": [
       "#### Rural"
      ],
      "text/plain": [
       "<IPython.core.display.Markdown object>"
      ]
     },
     "metadata": {},
     "output_type": "display_data"
    },
    {
     "name": "stdout",
     "output_type": "stream",
     "text": [
      "----------\n",
      "including\n",
      "history\n",
      "leaders\n",
      "schools\n",
      "military\n",
      "non\n",
      "of\n",
      "american\n",
      "rights\n",
      "supporting\n",
      "----------\n"
     ]
    },
    {
     "data": {
      "text/markdown": [
       "# its"
      ],
      "text/plain": [
       "<IPython.core.display.Markdown object>"
      ]
     },
     "metadata": {},
     "output_type": "display_data"
    },
    {
     "data": {
      "text/markdown": [
       "#### Urban"
      ],
      "text/plain": [
       "<IPython.core.display.Markdown object>"
      ]
     },
     "metadata": {},
     "output_type": "display_data"
    },
    {
     "name": "stdout",
     "output_type": "stream",
     "text": [
      "-------\n",
      "capital\n",
      "itself\n",
      "their\n",
      "thats\n",
      "ur\n",
      "hes\n",
      "markets\n",
      "india\n",
      "s\n",
      "china\n",
      "-------\n"
     ]
    },
    {
     "data": {
      "text/markdown": [
       "#### Rural"
      ],
      "text/plain": [
       "<IPython.core.display.Markdown object>"
      ]
     },
     "metadata": {},
     "output_type": "display_data"
    },
    {
     "name": "stdout",
     "output_type": "stream",
     "text": [
      "---------\n",
      "seems\n",
      "thats\n",
      "feels\n",
      "im\n",
      "ur\n",
      "s\n",
      "is\n",
      "policy\n",
      "it\n",
      "political\n",
      "---------\n"
     ]
    },
    {
     "data": {
      "text/markdown": [
       "# lines"
      ],
      "text/plain": [
       "<IPython.core.display.Markdown object>"
      ]
     },
     "metadata": {},
     "output_type": "display_data"
    },
    {
     "data": {
      "text/markdown": [
       "#### Urban"
      ],
      "text/plain": [
       "<IPython.core.display.Markdown object>"
      ]
     },
     "metadata": {},
     "output_type": "display_data"
    },
    {
     "name": "stdout",
     "output_type": "stream",
     "text": [
      "------\n",
      "line\n",
      "sides\n",
      "tracks\n",
      "bottom\n",
      "doors\n",
      "areas\n",
      "spots\n",
      "levels\n",
      "heads\n",
      "bars\n",
      "------\n"
     ]
    },
    {
     "data": {
      "text/markdown": [
       "#### Rural"
      ],
      "text/plain": [
       "<IPython.core.display.Markdown object>"
      ]
     },
     "metadata": {},
     "output_type": "display_data"
    },
    {
     "name": "stdout",
     "output_type": "stream",
     "text": [
      "--------\n",
      "cars\n",
      "projects\n",
      "options\n",
      "floor\n",
      "side\n",
      "bottom\n",
      "ground\n",
      "shots\n",
      "names\n",
      "form\n",
      "--------\n"
     ]
    },
    {
     "data": {
      "text/markdown": [
       "# common"
      ],
      "text/plain": [
       "<IPython.core.display.Markdown object>"
      ]
     },
     "metadata": {},
     "output_type": "display_data"
    },
    {
     "data": {
      "text/markdown": [
       "#### Urban"
      ],
      "text/plain": [
       "<IPython.core.display.Markdown object>"
      ]
     },
     "metadata": {},
     "output_type": "display_data"
    },
    {
     "name": "stdout",
     "output_type": "stream",
     "text": [
      "---------\n",
      "cultural\n",
      "areas\n",
      "greater\n",
      "powerful\n",
      "important\n",
      "critical\n",
      "specific\n",
      "complex\n",
      "humor\n",
      "studies\n",
      "---------\n"
     ]
    },
    {
     "data": {
      "text/markdown": [
       "#### Rural"
      ],
      "text/plain": [
       "<IPython.core.display.Markdown object>"
      ]
     },
     "metadata": {},
     "output_type": "display_data"
    },
    {
     "name": "stdout",
     "output_type": "stream",
     "text": [
      "----------\n",
      "dangerous\n",
      "effective\n",
      "important\n",
      "systems\n",
      "tools\n",
      "powerful\n",
      "hidden\n",
      "issues\n",
      "companies\n",
      "technology\n",
      "----------\n"
     ]
    },
    {
     "data": {
      "text/markdown": [
       "# host"
      ],
      "text/plain": [
       "<IPython.core.display.Markdown object>"
      ]
     },
     "metadata": {},
     "output_type": "display_data"
    },
    {
     "data": {
      "text/markdown": [
       "#### Urban"
      ],
      "text/plain": [
       "<IPython.core.display.Markdown object>"
      ]
     },
     "metadata": {},
     "output_type": "display_data"
    },
    {
     "name": "stdout",
     "output_type": "stream",
     "text": [
      "-------\n",
      "guest\n",
      "discuss\n",
      "attend\n",
      "speaker\n",
      "panel\n",
      "perform\n",
      "joins\n",
      "founder\n",
      "forum\n",
      "launch\n",
      "-------\n"
     ]
    },
    {
     "data": {
      "text/markdown": [
       "#### Rural"
      ],
      "text/plain": [
       "<IPython.core.display.Markdown object>"
      ]
     },
     "metadata": {},
     "output_type": "display_data"
    },
    {
     "name": "stdout",
     "output_type": "stream",
     "text": [
      "----------\n",
      "discuss\n",
      "guest\n",
      "tournament\n",
      "club\n",
      "meet\n",
      "annual\n",
      "7pm\n",
      "meeting\n",
      "event\n",
      "conference\n",
      "----------\n"
     ]
    },
    {
     "data": {
      "text/markdown": [
       "# screen"
      ],
      "text/plain": [
       "<IPython.core.display.Markdown object>"
      ]
     },
     "metadata": {},
     "output_type": "display_data"
    },
    {
     "data": {
      "text/markdown": [
       "#### Urban"
      ],
      "text/plain": [
       "<IPython.core.display.Markdown object>"
      ]
     },
     "metadata": {},
     "output_type": "display_data"
    },
    {
     "name": "stdout",
     "output_type": "stream",
     "text": [
      "--------\n",
      "camera\n",
      "phone\n",
      "button\n",
      "plate\n",
      "computer\n",
      "galaxy\n",
      "spot\n",
      "nose\n",
      "phones\n",
      "device\n",
      "--------\n"
     ]
    },
    {
     "data": {
      "text/markdown": [
       "#### Rural"
      ],
      "text/plain": [
       "<IPython.core.display.Markdown object>"
      ]
     },
     "metadata": {},
     "output_type": "display_data"
    },
    {
     "name": "stdout",
     "output_type": "stream",
     "text": [
      "--------\n",
      "mt\n",
      "green\n",
      "camera\n",
      "app\n",
      "bathroom\n",
      "paper\n",
      "paint\n",
      "table\n",
      "snap\n",
      "site\n",
      "--------\n"
     ]
    },
    {
     "data": {
      "text/markdown": [
       "# fit"
      ],
      "text/plain": [
       "<IPython.core.display.Markdown object>"
      ]
     },
     "metadata": {},
     "output_type": "display_data"
    },
    {
     "data": {
      "text/markdown": [
       "#### Urban"
      ],
      "text/plain": [
       "<IPython.core.display.Markdown object>"
      ]
     },
     "metadata": {},
     "output_type": "display_data"
    },
    {
     "name": "stdout",
     "output_type": "stream",
     "text": [
      "----------\n",
      "recommend\n",
      "sr\n",
      "consultant\n",
      "technician\n",
      "manager\n",
      "analyst\n",
      "assistant\n",
      "shape\n",
      "associate\n",
      "designer\n",
      "----------\n"
     ]
    },
    {
     "data": {
      "text/markdown": [
       "#### Rural"
      ],
      "text/plain": [
       "<IPython.core.display.Markdown object>"
      ]
     },
     "metadata": {},
     "output_type": "display_data"
    },
    {
     "name": "stdout",
     "output_type": "stream",
     "text": [
      "-----------\n",
      "recommend\n",
      "interested\n",
      "job\n",
      "delivery\n",
      "nurse\n",
      "unique\n",
      "looking\n",
      "surprise\n",
      "opportunity\n",
      "have\n",
      "-----------\n"
     ]
    },
    {
     "data": {
      "text/markdown": [
       "# security"
      ],
      "text/plain": [
       "<IPython.core.display.Markdown object>"
      ]
     },
     "metadata": {},
     "output_type": "display_data"
    },
    {
     "data": {
      "text/markdown": [
       "#### Urban"
      ],
      "text/plain": [
       "<IPython.core.display.Markdown object>"
      ]
     },
     "metadata": {},
     "output_type": "display_data"
    },
    {
     "name": "stdout",
     "output_type": "stream",
     "text": [
      "--------------\n",
      "infrastructure\n",
      "operations\n",
      "safety\n",
      "protection\n",
      "intel\n",
      "enterprise\n",
      "privacy\n",
      "corporate\n",
      "iot\n",
      "pr\n",
      "--------------\n"
     ]
    },
    {
     "data": {
      "text/markdown": [
       "#### Rural"
      ],
      "text/plain": [
       "<IPython.core.display.Markdown object>"
      ]
     },
     "metadata": {},
     "output_type": "display_data"
    },
    {
     "name": "stdout",
     "output_type": "stream",
     "text": [
      "----------\n",
      "data\n",
      "global\n",
      "government\n",
      "policy\n",
      "services\n",
      "media\n",
      "safety\n",
      "network\n",
      "industry\n",
      "legal\n",
      "----------\n"
     ]
    },
    {
     "data": {
      "text/markdown": [
       "# stock"
      ],
      "text/plain": [
       "<IPython.core.display.Markdown object>"
      ]
     },
     "metadata": {},
     "output_type": "display_data"
    },
    {
     "data": {
      "text/markdown": [
       "#### Urban"
      ],
      "text/plain": [
       "<IPython.core.display.Markdown object>"
      ]
     },
     "metadata": {},
     "output_type": "display_data"
    },
    {
     "name": "stdout",
     "output_type": "stream",
     "text": [
      "---------\n",
      "prices\n",
      "market\n",
      "price\n",
      "markets\n",
      "rose\n",
      "revenue\n",
      "investors\n",
      "target\n",
      "percent\n",
      "net\n",
      "---------\n"
     ]
    },
    {
     "data": {
      "text/markdown": [
       "#### Rural"
      ],
      "text/plain": [
       "<IPython.core.display.Markdown object>"
      ]
     },
     "metadata": {},
     "output_type": "display_data"
    },
    {
     "name": "stdout",
     "output_type": "stream",
     "text": [
      "--------\n",
      "supplies\n",
      "sign\n",
      "set\n",
      "store\n",
      "pop\n",
      "kitchen\n",
      "speed\n",
      "prices\n",
      "cleaning\n",
      "shop\n",
      "--------\n"
     ]
    },
    {
     "data": {
      "text/markdown": [
       "# smoke"
      ],
      "text/plain": [
       "<IPython.core.display.Markdown object>"
      ]
     },
     "metadata": {},
     "output_type": "display_data"
    },
    {
     "data": {
      "text/markdown": [
       "#### Urban"
      ],
      "text/plain": [
       "<IPython.core.display.Markdown object>"
      ]
     },
     "metadata": {},
     "output_type": "display_data"
    },
    {
     "name": "stdout",
     "output_type": "stream",
     "text": [
      "-------\n",
      "weed\n",
      "smoking\n",
      "drink\n",
      "smell\n",
      "milk\n",
      "water\n",
      "crack\n",
      "eat\n",
      "cop\n",
      "juice\n",
      "-------\n"
     ]
    },
    {
     "data": {
      "text/markdown": [
       "#### Rural"
      ],
      "text/plain": [
       "<IPython.core.display.Markdown object>"
      ]
     },
     "metadata": {},
     "output_type": "display_data"
    },
    {
     "name": "stdout",
     "output_type": "stream",
     "text": [
      "-----\n",
      "eat\n",
      "drink\n",
      "sit\n",
      "chill\n",
      "nigga\n",
      "wit\n",
      "jump\n",
      "ride\n",
      "fuck\n",
      "hit\n",
      "-----\n"
     ]
    },
    {
     "data": {
      "text/markdown": [
       "# uk"
      ],
      "text/plain": [
       "<IPython.core.display.Markdown object>"
      ]
     },
     "metadata": {},
     "output_type": "display_data"
    },
    {
     "data": {
      "text/markdown": [
       "#### Urban"
      ],
      "text/plain": [
       "<IPython.core.display.Markdown object>"
      ]
     },
     "metadata": {},
     "output_type": "display_data"
    },
    {
     "name": "stdout",
     "output_type": "stream",
     "text": [
      "-------\n",
      "india\n",
      "europe\n",
      "canada\n",
      "israel\n",
      "china\n",
      "japan\n",
      "syria\n",
      "france\n",
      "usa\n",
      "germany\n",
      "-------\n"
     ]
    },
    {
     "data": {
      "text/markdown": [
       "#### Rural"
      ],
      "text/plain": [
       "<IPython.core.display.Markdown object>"
      ]
     },
     "metadata": {},
     "output_type": "display_data"
    },
    {
     "name": "stdout",
     "output_type": "stream",
     "text": [
      "--------\n",
      "chicago\n",
      "usa\n",
      "dc\n",
      "consumer\n",
      "industry\n",
      "global\n",
      "report\n",
      "2016\n",
      "nuclear\n",
      "valley\n",
      "--------\n"
     ]
    },
    {
     "data": {
      "text/markdown": [
       "# china"
      ],
      "text/plain": [
       "<IPython.core.display.Markdown object>"
      ]
     },
     "metadata": {},
     "output_type": "display_data"
    },
    {
     "data": {
      "text/markdown": [
       "#### Urban"
      ],
      "text/plain": [
       "<IPython.core.display.Markdown object>"
      ]
     },
     "metadata": {},
     "output_type": "display_data"
    },
    {
     "name": "stdout",
     "output_type": "stream",
     "text": [
      "-------\n",
      "india\n",
      "japan\n",
      "europe\n",
      "canada\n",
      "syria\n",
      "mexico\n",
      "israel\n",
      "korea\n",
      "uk\n",
      "germany\n",
      "-------\n"
     ]
    },
    {
     "data": {
      "text/markdown": [
       "#### Rural"
      ],
      "text/plain": [
       "<IPython.core.display.Markdown object>"
      ]
     },
     "metadata": {},
     "output_type": "display_data"
    },
    {
     "name": "stdout",
     "output_type": "stream",
     "text": [
      "----------\n",
      "nuclear\n",
      "korea\n",
      "war\n",
      "russia\n",
      "russian\n",
      "america\n",
      "ban\n",
      "trump\n",
      "solar\n",
      "government\n",
      "----------\n"
     ]
    },
    {
     "data": {
      "text/markdown": [
       "# rising"
      ],
      "text/plain": [
       "<IPython.core.display.Markdown object>"
      ]
     },
     "metadata": {},
     "output_type": "display_data"
    },
    {
     "data": {
      "text/markdown": [
       "#### Urban"
      ],
      "text/plain": [
       "<IPython.core.display.Markdown object>"
      ]
     },
     "metadata": {},
     "output_type": "display_data"
    },
    {
     "name": "stdout",
     "output_type": "stream",
     "text": [
      "--------\n",
      "rise\n",
      "markets\n",
      "rates\n",
      "growth\n",
      "supply\n",
      "solar\n",
      "economic\n",
      "sea\n",
      "uk\n",
      "global\n",
      "--------\n"
     ]
    },
    {
     "data": {
      "text/markdown": [
       "#### Rural"
      ],
      "text/plain": [
       "<IPython.core.display.Markdown object>"
      ]
     },
     "metadata": {},
     "output_type": "display_data"
    },
    {
     "name": "stdout",
     "output_type": "stream",
     "text": [
      "--------\n",
      "dp\n",
      "falling\n",
      "hum\n",
      "wnd\n",
      "pressure\n",
      "hr\n",
      "71\n",
      "62\n",
      "63\n",
      "65\n",
      "--------\n"
     ]
    },
    {
     "data": {
      "text/markdown": [
       "# card"
      ],
      "text/plain": [
       "<IPython.core.display.Markdown object>"
      ]
     },
     "metadata": {},
     "output_type": "display_data"
    },
    {
     "data": {
      "text/markdown": [
       "#### Urban"
      ],
      "text/plain": [
       "<IPython.core.display.Markdown object>"
      ]
     },
     "metadata": {},
     "output_type": "display_data"
    },
    {
     "name": "stdout",
     "output_type": "stream",
     "text": [
      "-------\n",
      "cards\n",
      "topps\n",
      "auto\n",
      "sp\n",
      "mint\n",
      "rc\n",
      "panini\n",
      "patrice\n",
      "rajon\n",
      "patch\n",
      "-------\n"
     ]
    },
    {
     "data": {
      "text/markdown": [
       "#### Rural"
      ],
      "text/plain": [
       "<IPython.core.display.Markdown object>"
      ]
     },
     "metadata": {},
     "output_type": "display_data"
    },
    {
     "name": "stdout",
     "output_type": "stream",
     "text": [
      "--------\n",
      "cards\n",
      "code\n",
      "amazon\n",
      "ticket\n",
      "gift\n",
      "purchase\n",
      "cash\n",
      "credit\n",
      "copy\n",
      "pack\n",
      "--------\n"
     ]
    },
    {
     "data": {
      "text/markdown": [
       "# coach"
      ],
      "text/plain": [
       "<IPython.core.display.Markdown object>"
      ]
     },
     "metadata": {},
     "output_type": "display_data"
    },
    {
     "data": {
      "text/markdown": [
       "#### Urban"
      ],
      "text/plain": [
       "<IPython.core.display.Markdown object>"
      ]
     },
     "metadata": {},
     "output_type": "display_data"
    },
    {
     "name": "stdout",
     "output_type": "stream",
     "text": [
      "--------\n",
      "gm\n",
      "coaching\n",
      "qb\n",
      "player\n",
      "tony\n",
      "johnson\n",
      "josh\n",
      "phil\n",
      "andrew\n",
      "nfl\n",
      "--------\n"
     ]
    },
    {
     "data": {
      "text/markdown": [
       "#### Rural"
      ],
      "text/plain": [
       "<IPython.core.display.Markdown object>"
      ]
     },
     "metadata": {},
     "output_type": "display_data"
    },
    {
     "name": "stdout",
     "output_type": "stream",
     "text": [
      "--------\n",
      "matt\n",
      "football\n",
      "former\n",
      "mike\n",
      "baseball\n",
      "player\n",
      "smith\n",
      "hockey\n",
      "nick\n",
      "alex\n",
      "--------\n"
     ]
    },
    {
     "data": {
      "text/markdown": [
       "# number"
      ],
      "text/plain": [
       "<IPython.core.display.Markdown object>"
      ]
     },
     "metadata": {},
     "output_type": "display_data"
    },
    {
     "data": {
      "text/markdown": [
       "#### Urban"
      ],
      "text/plain": [
       "<IPython.core.display.Markdown object>"
      ]
     },
     "metadata": {},
     "output_type": "display_data"
    },
    {
     "name": "stdout",
     "output_type": "stream",
     "text": [
      "----------\n",
      "amount\n",
      "billion\n",
      "million\n",
      "percent\n",
      "favorites\n",
      "000\n",
      "pair\n",
      "definition\n",
      "seed\n",
      "galaxy\n",
      "----------\n"
     ]
    },
    {
     "data": {
      "text/markdown": [
       "#### Rural"
      ],
      "text/plain": [
       "<IPython.core.display.Markdown object>"
      ]
     },
     "metadata": {},
     "output_type": "display_data"
    },
    {
     "name": "stdout",
     "output_type": "stream",
     "text": [
      "--------\n",
      "only\n",
      "million\n",
      "name\n",
      "account\n",
      "answer\n",
      "size\n",
      "000\n",
      "purchase\n",
      "biggest\n",
      "score\n",
      "--------\n"
     ]
    },
    {
     "data": {
      "text/markdown": [
       "# beats"
      ],
      "text/plain": [
       "<IPython.core.display.Markdown object>"
      ]
     },
     "metadata": {},
     "output_type": "display_data"
    },
    {
     "data": {
      "text/markdown": [
       "#### Urban"
      ],
      "text/plain": [
       "<IPython.core.display.Markdown object>"
      ]
     },
     "metadata": {},
     "output_type": "display_data"
    },
    {
     "name": "stdout",
     "output_type": "stream",
     "text": [
      "-----\n",
      "hits\n",
      "drops\n",
      "plays\n",
      "trap\n",
      "ft\n",
      "drake\n",
      "sets\n",
      "music\n",
      "remix\n",
      "dj\n",
      "-----\n"
     ]
    },
    {
     "data": {
      "text/markdown": [
       "#### Rural"
      ],
      "text/plain": [
       "<IPython.core.display.Markdown object>"
      ]
     },
     "metadata": {},
     "output_type": "display_data"
    },
    {
     "name": "stdout",
     "output_type": "stream",
     "text": [
      "------\n",
      "drops\n",
      "puts\n",
      "runs\n",
      "fucked\n",
      "picked\n",
      "falls\n",
      "hit\n",
      "jail\n",
      "woke\n",
      "caught\n",
      "------\n"
     ]
    },
    {
     "data": {
      "text/markdown": [
       "# checked"
      ],
      "text/plain": [
       "<IPython.core.display.Markdown object>"
      ]
     },
     "metadata": {},
     "output_type": "display_data"
    },
    {
     "data": {
      "text/markdown": [
       "#### Urban"
      ],
      "text/plain": [
       "<IPython.core.display.Markdown object>"
      ]
     },
     "metadata": {},
     "output_type": "display_data"
    },
    {
     "name": "stdout",
     "output_type": "stream",
     "text": [
      "--------\n",
      "checking\n",
      "hanging\n",
      "found\n",
      "walked\n",
      "ordered\n",
      "worked\n",
      "joined\n",
      "arrived\n",
      "touch\n",
      "noticed\n",
      "--------\n"
     ]
    },
    {
     "data": {
      "text/markdown": [
       "#### Rural"
      ],
      "text/plain": [
       "<IPython.core.display.Markdown object>"
      ]
     },
     "metadata": {},
     "output_type": "display_data"
    },
    {
     "name": "stdout",
     "output_type": "stream",
     "text": [
      "--------\n",
      "listed\n",
      "blocked\n",
      "worked\n",
      "found\n",
      "earned\n",
      "bought\n",
      "finished\n",
      "stopped\n",
      "met\n",
      "caught\n",
      "--------\n"
     ]
    },
    {
     "data": {
      "text/markdown": [
       "# released"
      ],
      "text/plain": [
       "<IPython.core.display.Markdown object>"
      ]
     },
     "metadata": {},
     "output_type": "display_data"
    },
    {
     "data": {
      "text/markdown": [
       "#### Urban"
      ],
      "text/plain": [
       "<IPython.core.display.Markdown object>"
      ]
     },
     "metadata": {},
     "output_type": "display_data"
    },
    {
     "name": "stdout",
     "output_type": "stream",
     "text": [
      "---------\n",
      "announced\n",
      "confirmed\n",
      "releases\n",
      "published\n",
      "dropped\n",
      "release\n",
      "dropping\n",
      "updated\n",
      "posted\n",
      "arrived\n",
      "---------\n"
     ]
    },
    {
     "data": {
      "text/markdown": [
       "#### Rural"
      ],
      "text/plain": [
       "<IPython.core.display.Markdown object>"
      ]
     },
     "metadata": {},
     "output_type": "display_data"
    },
    {
     "name": "stdout",
     "output_type": "stream",
     "text": [
      "--------\n",
      "revealed\n",
      "dropped\n",
      "release\n",
      "held\n",
      "killed\n",
      "born\n",
      "realized\n",
      "2016\n",
      "named\n",
      "edition\n",
      "--------\n"
     ]
    },
    {
     "data": {
      "text/markdown": [
       "# reveal"
      ],
      "text/plain": [
       "<IPython.core.display.Markdown object>"
      ]
     },
     "metadata": {},
     "output_type": "display_data"
    },
    {
     "data": {
      "text/markdown": [
       "#### Urban"
      ],
      "text/plain": [
       "<IPython.core.display.Markdown object>"
      ]
     },
     "metadata": {},
     "output_type": "display_data"
    },
    {
     "name": "stdout",
     "output_type": "stream",
     "text": [
      "--------\n",
      "reveals\n",
      "deliver\n",
      "discover\n",
      "solve\n",
      "destroy\n",
      "affect\n",
      "include\n",
      "release\n",
      "create\n",
      "provide\n",
      "--------\n"
     ]
    },
    {
     "data": {
      "text/markdown": [
       "#### Rural"
      ],
      "text/plain": [
       "<IPython.core.display.Markdown object>"
      ]
     },
     "metadata": {},
     "output_type": "display_data"
    },
    {
     "name": "stdout",
     "output_type": "stream",
     "text": [
      "---------\n",
      "talks\n",
      "doctors\n",
      "release\n",
      "according\n",
      "return\n",
      "handle\n",
      "attack\n",
      "report\n",
      "protect\n",
      "tell\n",
      "---------\n"
     ]
    },
    {
     "data": {
      "text/markdown": [
       "# character"
      ],
      "text/plain": [
       "<IPython.core.display.Markdown object>"
      ]
     },
     "metadata": {},
     "output_type": "display_data"
    },
    {
     "data": {
      "text/markdown": [
       "#### Urban"
      ],
      "text/plain": [
       "<IPython.core.display.Markdown object>"
      ]
     },
     "metadata": {},
     "output_type": "display_data"
    },
    {
     "name": "stdout",
     "output_type": "stream",
     "text": [
      "-----------\n",
      "personality\n",
      "characters\n",
      "plot\n",
      "concept\n",
      "theory\n",
      "movie\n",
      "writer\n",
      "person\n",
      "argument\n",
      "name\n",
      "-----------\n"
     ]
    },
    {
     "data": {
      "text/markdown": [
       "#### Rural"
      ],
      "text/plain": [
       "<IPython.core.display.Markdown object>"
      ]
     },
     "metadata": {},
     "output_type": "display_data"
    },
    {
     "name": "stdout",
     "output_type": "stream",
     "text": [
      "------------\n",
      "player\n",
      "which\n",
      "name\n",
      "song\n",
      "opinion\n",
      "role\n",
      "relationship\n",
      "reality\n",
      "movie\n",
      "form\n",
      "------------\n"
     ]
    },
    {
     "data": {
      "text/markdown": [
       "# tip"
      ],
      "text/plain": [
       "<IPython.core.display.Markdown object>"
      ]
     },
     "metadata": {},
     "output_type": "display_data"
    },
    {
     "data": {
      "text/markdown": [
       "#### Urban"
      ],
      "text/plain": [
       "<IPython.core.display.Markdown object>"
      ]
     },
     "metadata": {},
     "output_type": "display_data"
    },
    {
     "name": "stdout",
     "output_type": "stream",
     "text": [
      "--------\n",
      "tips\n",
      "workout\n",
      "code\n",
      "button\n",
      "weekly\n",
      "plate\n",
      "advice\n",
      "pair\n",
      "seo\n",
      "reminder\n",
      "--------\n"
     ]
    },
    {
     "data": {
      "text/markdown": [
       "#### Rural"
      ],
      "text/plain": [
       "<IPython.core.display.Markdown object>"
      ]
     },
     "metadata": {},
     "output_type": "display_data"
    },
    {
     "name": "stdout",
     "output_type": "stream",
     "text": [
      "---------\n",
      "giant\n",
      "000\n",
      "tips\n",
      "essential\n",
      "kitchen\n",
      "steps\n",
      "simple\n",
      "falls\n",
      "500\n",
      "snake\n",
      "---------\n"
     ]
    },
    {
     "data": {
      "text/markdown": [
       "# case"
      ],
      "text/plain": [
       "<IPython.core.display.Markdown object>"
      ]
     },
     "metadata": {},
     "output_type": "display_data"
    },
    {
     "data": {
      "text/markdown": [
       "#### Urban"
      ],
      "text/plain": [
       "<IPython.core.display.Markdown object>"
      ]
     },
     "metadata": {},
     "output_type": "display_data"
    },
    {
     "name": "stdout",
     "output_type": "stream",
     "text": [
      "---------\n",
      "cases\n",
      "context\n",
      "trial\n",
      "suspect\n",
      "terms\n",
      "point\n",
      "charge\n",
      "condition\n",
      "general\n",
      "fraud\n",
      "---------\n"
     ]
    },
    {
     "data": {
      "text/markdown": [
       "#### Rural"
      ],
      "text/plain": [
       "<IPython.core.display.Markdown object>"
      ]
     },
     "metadata": {},
     "output_type": "display_data"
    },
    {
     "name": "stdout",
     "output_type": "stream",
     "text": [
      "----------\n",
      "interest\n",
      "charge\n",
      "image\n",
      "general\n",
      "prison\n",
      "law\n",
      "interested\n",
      "court\n",
      "item\n",
      "situation\n",
      "----------\n"
     ]
    },
    {
     "data": {
      "text/markdown": [
       "# involved"
      ],
      "text/plain": [
       "<IPython.core.display.Markdown object>"
      ]
     },
     "metadata": {},
     "output_type": "display_data"
    },
    {
     "data": {
      "text/markdown": [
       "#### Urban"
      ],
      "text/plain": [
       "<IPython.core.display.Markdown object>"
      ]
     },
     "metadata": {},
     "output_type": "display_data"
    },
    {
     "name": "stdout",
     "output_type": "stream",
     "text": [
      "-----------\n",
      "charged\n",
      "married\n",
      "elected\n",
      "arrested\n",
      "struggling\n",
      "active\n",
      "trouble\n",
      "comfortable\n",
      "paid\n",
      "treated\n",
      "-----------\n"
     ]
    },
    {
     "data": {
      "text/markdown": [
       "#### Rural"
      ],
      "text/plain": [
       "<IPython.core.display.Markdown object>"
      ]
     },
     "metadata": {},
     "output_type": "display_data"
    },
    {
     "name": "stdout",
     "output_type": "stream",
     "text": [
      "----------\n",
      "trouble\n",
      "paid\n",
      "along\n",
      "killed\n",
      "arrested\n",
      "willing\n",
      "legal\n",
      "interested\n",
      "charge\n",
      "older\n",
      "----------\n"
     ]
    },
    {
     "data": {
      "text/markdown": [
       "# attack"
      ],
      "text/plain": [
       "<IPython.core.display.Markdown object>"
      ]
     },
     "metadata": {},
     "output_type": "display_data"
    },
    {
     "data": {
      "text/markdown": [
       "#### Urban"
      ],
      "text/plain": [
       "<IPython.core.display.Markdown object>"
      ]
     },
     "metadata": {},
     "output_type": "display_data"
    },
    {
     "name": "stdout",
     "output_type": "stream",
     "text": [
      "-------------\n",
      "attacks\n",
      "strike\n",
      "terror\n",
      "arrest\n",
      "terrorist\n",
      "syria\n",
      "isis\n",
      "threat\n",
      "investigation\n",
      "war\n",
      "-------------\n"
     ]
    },
    {
     "data": {
      "text/markdown": [
       "#### Rural"
      ],
      "text/plain": [
       "<IPython.core.display.Markdown object>"
      ]
     },
     "metadata": {},
     "output_type": "display_data"
    },
    {
     "name": "stdout",
     "output_type": "stream",
     "text": [
      "-------------\n",
      "investigation\n",
      "murder\n",
      "breaking\n",
      "muslim\n",
      "gun\n",
      "drug\n",
      "crime\n",
      "violence\n",
      "report\n",
      "protest\n",
      "-------------\n"
     ]
    },
    {
     "data": {
      "text/markdown": [
       "# records"
      ],
      "text/plain": [
       "<IPython.core.display.Markdown object>"
      ]
     },
     "metadata": {},
     "output_type": "display_data"
    },
    {
     "data": {
      "text/markdown": [
       "#### Urban"
      ],
      "text/plain": [
       "<IPython.core.display.Markdown object>"
      ]
     },
     "metadata": {},
     "output_type": "display_data"
    },
    {
     "name": "stdout",
     "output_type": "stream",
     "text": [
      "---------\n",
      "reports\n",
      "cases\n",
      "marijuana\n",
      "charges\n",
      "claims\n",
      "rules\n",
      "record\n",
      "federal\n",
      "laws\n",
      "orders\n",
      "---------\n"
     ]
    },
    {
     "data": {
      "text/markdown": [
       "#### Rural"
      ],
      "text/plain": [
       "<IPython.core.display.Markdown object>"
      ]
     },
     "metadata": {},
     "output_type": "display_data"
    },
    {
     "name": "stdout",
     "output_type": "stream",
     "text": [
      "-----------\n",
      "costs\n",
      "management\n",
      "arrested\n",
      "safety\n",
      "systems\n",
      "department\n",
      "metal\n",
      "development\n",
      "cars\n",
      "commercial\n",
      "-----------\n"
     ]
    },
    {
     "data": {
      "text/markdown": [
       "# wide"
      ],
      "text/plain": [
       "<IPython.core.display.Markdown object>"
      ]
     },
     "metadata": {},
     "output_type": "display_data"
    },
    {
     "data": {
      "text/markdown": [
       "#### Urban"
      ],
      "text/plain": [
       "<IPython.core.display.Markdown object>"
      ]
     },
     "metadata": {},
     "output_type": "display_data"
    },
    {
     "name": "stdout",
     "output_type": "stream",
     "text": [
      "-------\n",
      "doors\n",
      "windows\n",
      "solid\n",
      "door\n",
      "stadium\n",
      "solar\n",
      "deep\n",
      "soft\n",
      "window\n",
      "storage\n",
      "-------\n"
     ]
    },
    {
     "data": {
      "text/markdown": [
       "#### Rural"
      ],
      "text/plain": [
       "<IPython.core.display.Markdown object>"
      ]
     },
     "metadata": {},
     "output_type": "display_data"
    },
    {
     "name": "stdout",
     "output_type": "stream",
     "text": [
      "-------\n",
      "severe\n",
      "dry\n",
      "county\n",
      "full\n",
      "large\n",
      "box\n",
      "small\n",
      "central\n",
      "issued\n",
      "cup\n",
      "-------\n"
     ]
    },
    {
     "data": {
      "text/markdown": [
       "# books"
      ],
      "text/plain": [
       "<IPython.core.display.Markdown object>"
      ]
     },
     "metadata": {},
     "output_type": "display_data"
    },
    {
     "data": {
      "text/markdown": [
       "#### Urban"
      ],
      "text/plain": [
       "<IPython.core.display.Markdown object>"
      ]
     },
     "metadata": {},
     "output_type": "display_data"
    },
    {
     "name": "stdout",
     "output_type": "stream",
     "text": [
      "--------\n",
      "book\n",
      "articles\n",
      "pages\n",
      "writers\n",
      "reviews\n",
      "pieces\n",
      "quotes\n",
      "items\n",
      "novel\n",
      "ideas\n",
      "--------\n"
     ]
    },
    {
     "data": {
      "text/markdown": [
       "#### Rural"
      ],
      "text/plain": [
       "<IPython.core.display.Markdown object>"
      ]
     },
     "metadata": {},
     "output_type": "display_data"
    },
    {
     "name": "stdout",
     "output_type": "stream",
     "text": [
      "--------\n",
      "book\n",
      "songs\n",
      "ideas\n",
      "teachers\n",
      "writing\n",
      "paper\n",
      "students\n",
      "kids\n",
      "classes\n",
      "reading\n",
      "--------\n"
     ]
    },
    {
     "data": {
      "text/markdown": [
       "# co"
      ],
      "text/plain": [
       "<IPython.core.display.Markdown object>"
      ]
     },
     "metadata": {},
     "output_type": "display_data"
    },
    {
     "data": {
      "text/markdown": [
       "#### Urban"
      ],
      "text/plain": [
       "<IPython.core.display.Markdown object>"
      ]
     },
     "metadata": {},
     "output_type": "display_data"
    },
    {
     "name": "stdout",
     "output_type": "stream",
     "text": [
      "--------\n",
      "founder\n",
      "ceo\n",
      "ed\n",
      "capital\n",
      "inc\n",
      "partners\n",
      "speaker\n",
      "prof\n",
      "private\n",
      "chair\n",
      "--------\n"
     ]
    },
    {
     "data": {
      "text/markdown": [
       "#### Rural"
      ],
      "text/plain": [
       "<IPython.core.display.Markdown object>"
      ]
     },
     "metadata": {},
     "output_type": "display_data"
    },
    {
     "name": "stdout",
     "output_type": "stream",
     "text": [
      "--------\n",
      "reports\n",
      "ct\n",
      "ri\n",
      "plymouth\n",
      "milford\n",
      "quincy\n",
      "radio\n",
      "ave\n",
      "franklin\n",
      "dr\n",
      "--------\n"
     ]
    },
    {
     "data": {
      "text/markdown": [
       "# single"
      ],
      "text/plain": [
       "<IPython.core.display.Markdown object>"
      ]
     },
     "metadata": {},
     "output_type": "display_data"
    },
    {
     "data": {
      "text/markdown": [
       "#### Urban"
      ],
      "text/plain": [
       "<IPython.core.display.Markdown object>"
      ]
     },
     "metadata": {},
     "output_type": "display_data"
    },
    {
     "name": "stdout",
     "output_type": "stream",
     "text": [
      "---------\n",
      "sentence\n",
      "song\n",
      "second\n",
      "album\n",
      "month\n",
      "period\n",
      "word\n",
      "minute\n",
      "character\n",
      "female\n",
      "---------\n"
     ]
    },
    {
     "data": {
      "text/markdown": [
       "#### Rural"
      ],
      "text/plain": [
       "<IPython.core.display.Markdown object>"
      ]
     },
     "metadata": {},
     "output_type": "display_data"
    },
    {
     "name": "stdout",
     "output_type": "stream",
     "text": [
      "--------\n",
      "tree\n",
      "second\n",
      "unit\n",
      "leads\n",
      "double\n",
      "rd\n",
      "member\n",
      "runs\n",
      "franklin\n",
      "dies\n",
      "--------\n"
     ]
    },
    {
     "data": {
      "text/markdown": [
       "# freedom"
      ],
      "text/plain": [
       "<IPython.core.display.Markdown object>"
      ]
     },
     "metadata": {},
     "output_type": "display_data"
    },
    {
     "data": {
      "text/markdown": [
       "#### Urban"
      ],
      "text/plain": [
       "<IPython.core.display.Markdown object>"
      ]
     },
     "metadata": {},
     "output_type": "display_data"
    },
    {
     "name": "stdout",
     "output_type": "stream",
     "text": [
      "------------\n",
      "democracy\n",
      "constitution\n",
      "religious\n",
      "silence\n",
      "religion\n",
      "values\n",
      "rights\n",
      "racism\n",
      "political\n",
      "resistance\n",
      "------------\n"
     ]
    },
    {
     "data": {
      "text/markdown": [
       "#### Rural"
      ],
      "text/plain": [
       "<IPython.core.display.Markdown object>"
      ]
     },
     "metadata": {},
     "output_type": "display_data"
    },
    {
     "name": "stdout",
     "output_type": "stream",
     "text": [
      "---------\n",
      "rights\n",
      "fear\n",
      "speech\n",
      "violence\n",
      "lack\n",
      "millions\n",
      "congress\n",
      "president\n",
      "strength\n",
      "potus\n",
      "---------\n"
     ]
    },
    {
     "data": {
      "text/markdown": [
       "# hat"
      ],
      "text/plain": [
       "<IPython.core.display.Markdown object>"
      ]
     },
     "metadata": {},
     "output_type": "display_data"
    },
    {
     "data": {
      "text/markdown": [
       "#### Urban"
      ],
      "text/plain": [
       "<IPython.core.display.Markdown object>"
      ]
     },
     "metadata": {},
     "output_type": "display_data"
    },
    {
     "name": "stdout",
     "output_type": "stream",
     "text": [
      "------\n",
      "hoodie\n",
      "jacket\n",
      "shorts\n",
      "tee\n",
      "shirt\n",
      "gray\n",
      "yellow\n",
      "pants\n",
      "logo\n",
      "suit\n",
      "------\n"
     ]
    },
    {
     "data": {
      "text/markdown": [
       "#### Rural"
      ],
      "text/plain": [
       "<IPython.core.display.Markdown object>"
      ]
     },
     "metadata": {},
     "output_type": "display_data"
    },
    {
     "name": "stdout",
     "output_type": "stream",
     "text": [
      "------\n",
      "pink\n",
      "yellow\n",
      "ring\n",
      "rose\n",
      "shirt\n",
      "gold\n",
      "dress\n",
      "orange\n",
      "silver\n",
      "cat\n",
      "------\n"
     ]
    },
    {
     "data": {
      "text/markdown": [
       "# culture"
      ],
      "text/plain": [
       "<IPython.core.display.Markdown object>"
      ]
     },
     "metadata": {},
     "output_type": "display_data"
    },
    {
     "data": {
      "text/markdown": [
       "#### Urban"
      ],
      "text/plain": [
       "<IPython.core.display.Markdown object>"
      ]
     },
     "metadata": {},
     "output_type": "display_data"
    },
    {
     "name": "stdout",
     "output_type": "stream",
     "text": [
      "-----------\n",
      "identity\n",
      "cultural\n",
      "society\n",
      "diversity\n",
      "environment\n",
      "politics\n",
      "values\n",
      "communities\n",
      "movement\n",
      "religion\n",
      "-----------\n"
     ]
    },
    {
     "data": {
      "text/markdown": [
       "#### Rural"
      ],
      "text/plain": [
       "<IPython.core.display.Markdown object>"
      ]
     },
     "metadata": {},
     "output_type": "display_data"
    },
    {
     "name": "stdout",
     "output_type": "stream",
     "text": [
      "---------\n",
      "society\n",
      "industry\n",
      "language\n",
      "history\n",
      "science\n",
      "knowledge\n",
      "politics\n",
      "education\n",
      "art\n",
      "platform\n",
      "---------\n"
     ]
    },
    {
     "data": {
      "text/markdown": [
       "# stars"
      ],
      "text/plain": [
       "<IPython.core.display.Markdown object>"
      ]
     },
     "metadata": {},
     "output_type": "display_data"
    },
    {
     "data": {
      "text/markdown": [
       "#### Urban"
      ],
      "text/plain": [
       "<IPython.core.display.Markdown object>"
      ]
     },
     "metadata": {},
     "output_type": "display_data"
    },
    {
     "name": "stdout",
     "output_type": "stream",
     "text": [
      "-------\n",
      "kings\n",
      "star\n",
      "seasons\n",
      "heroes\n",
      "winners\n",
      "keys\n",
      "twins\n",
      "teams\n",
      "players\n",
      "giants\n",
      "-------\n"
     ]
    },
    {
     "data": {
      "text/markdown": [
       "#### Rural"
      ],
      "text/plain": [
       "<IPython.core.display.Markdown object>"
      ]
     },
     "metadata": {},
     "output_type": "display_data"
    },
    {
     "name": "stdout",
     "output_type": "stream",
     "text": [
      "-------\n",
      "star\n",
      "shots\n",
      "drops\n",
      "teams\n",
      "top\n",
      "photos\n",
      "sea\n",
      "players\n",
      "68\n",
      "men\n",
      "-------\n"
     ]
    },
    {
     "data": {
      "text/markdown": [
       "# society"
      ],
      "text/plain": [
       "<IPython.core.display.Markdown object>"
      ]
     },
     "metadata": {},
     "output_type": "display_data"
    },
    {
     "data": {
      "text/markdown": [
       "#### Urban"
      ],
      "text/plain": [
       "<IPython.core.display.Markdown object>"
      ]
     },
     "metadata": {},
     "output_type": "display_data"
    },
    {
     "name": "stdout",
     "output_type": "stream",
     "text": [
      "-----------\n",
      "democracy\n",
      "environment\n",
      "cultural\n",
      "culture\n",
      "values\n",
      "identity\n",
      "religion\n",
      "diversity\n",
      "education\n",
      "communities\n",
      "-----------\n"
     ]
    },
    {
     "data": {
      "text/markdown": [
       "#### Rural"
      ],
      "text/plain": [
       "<IPython.core.display.Markdown object>"
      ]
     },
     "metadata": {},
     "output_type": "display_data"
    },
    {
     "name": "stdout",
     "output_type": "stream",
     "text": [
      "----------\n",
      "culture\n",
      "nation\n",
      "history\n",
      "community\n",
      "country\n",
      "american\n",
      "america\n",
      "government\n",
      "military\n",
      "science\n",
      "----------\n"
     ]
    },
    {
     "data": {
      "text/markdown": [
       "# property"
      ],
      "text/plain": [
       "<IPython.core.display.Markdown object>"
      ]
     },
     "metadata": {},
     "output_type": "display_data"
    },
    {
     "data": {
      "text/markdown": [
       "#### Urban"
      ],
      "text/plain": [
       "<IPython.core.display.Markdown object>"
      ]
     },
     "metadata": {},
     "output_type": "display_data"
    },
    {
     "name": "stdout",
     "output_type": "stream",
     "text": [
      "---------\n",
      "private\n",
      "homes\n",
      "firm\n",
      "federal\n",
      "funds\n",
      "residents\n",
      "profit\n",
      "housing\n",
      "fund\n",
      "govt\n",
      "---------\n"
     ]
    },
    {
     "data": {
      "text/markdown": [
       "#### Rural"
      ],
      "text/plain": [
       "<IPython.core.display.Markdown object>"
      ]
     },
     "metadata": {},
     "output_type": "display_data"
    },
    {
     "name": "stdout",
     "output_type": "stream",
     "text": [
      "-------\n",
      "unit\n",
      "ave\n",
      "rd\n",
      "vehicle\n",
      "lane\n",
      "street\n",
      "route\n",
      "owner\n",
      "company\n",
      "auto\n",
      "-------\n"
     ]
    },
    {
     "data": {
      "text/markdown": [
       "# market"
      ],
      "text/plain": [
       "<IPython.core.display.Markdown object>"
      ]
     },
     "metadata": {},
     "output_type": "display_data"
    },
    {
     "data": {
      "text/markdown": [
       "#### Urban"
      ],
      "text/plain": [
       "<IPython.core.display.Markdown object>"
      ]
     },
     "metadata": {},
     "output_type": "display_data"
    },
    {
     "name": "stdout",
     "output_type": "stream",
     "text": [
      "----------\n",
      "markets\n",
      "consumer\n",
      "investment\n",
      "stock\n",
      "prices\n",
      "storage\n",
      "supply\n",
      "revenue\n",
      "economy\n",
      "growth\n",
      "----------\n"
     ]
    },
    {
     "data": {
      "text/markdown": [
       "#### Rural"
      ],
      "text/plain": [
       "<IPython.core.display.Markdown object>"
      ]
     },
     "metadata": {},
     "output_type": "display_data"
    },
    {
     "name": "stdout",
     "output_type": "stream",
     "text": [
      "---------\n",
      "price\n",
      "sale\n",
      "store\n",
      "brand\n",
      "corner\n",
      "hiring\n",
      "road\n",
      "kitchen\n",
      "available\n",
      "vehicle\n",
      "---------\n"
     ]
    },
    {
     "data": {
      "text/markdown": [
       "# studio"
      ],
      "text/plain": [
       "<IPython.core.display.Markdown object>"
      ]
     },
     "metadata": {},
     "output_type": "display_data"
    },
    {
     "data": {
      "text/markdown": [
       "#### Urban"
      ],
      "text/plain": [
       "<IPython.core.display.Markdown object>"
      ]
     },
     "metadata": {},
     "output_type": "display_data"
    },
    {
     "name": "stdout",
     "output_type": "stream",
     "text": [
      "---------\n",
      "session\n",
      "lab\n",
      "workshop\n",
      "recording\n",
      "gallery\n",
      "theater\n",
      "jam\n",
      "concert\n",
      "tune\n",
      "musical\n",
      "---------\n"
     ]
    },
    {
     "data": {
      "text/markdown": [
       "#### Rural"
      ],
      "text/plain": [
       "<IPython.core.display.Markdown object>"
      ]
     },
     "metadata": {},
     "output_type": "display_data"
    },
    {
     "name": "stdout",
     "output_type": "stream",
     "text": [
      "--------\n",
      "concert\n",
      "session\n",
      "library\n",
      "7pm\n",
      "grand\n",
      "project\n",
      "festival\n",
      "club\n",
      "farm\n",
      "mini\n",
      "--------\n"
     ]
    },
    {
     "data": {
      "text/markdown": [
       "# water"
      ],
      "text/plain": [
       "<IPython.core.display.Markdown object>"
      ]
     },
     "metadata": {},
     "output_type": "display_data"
    },
    {
     "data": {
      "text/markdown": [
       "#### Urban"
      ],
      "text/plain": [
       "<IPython.core.display.Markdown object>"
      ]
     },
     "metadata": {},
     "output_type": "display_data"
    },
    {
     "name": "stdout",
     "output_type": "stream",
     "text": [
      "-------\n",
      "milk\n",
      "alcohol\n",
      "juice\n",
      "meat\n",
      "bottle\n",
      "plastic\n",
      "fish\n",
      "salt\n",
      "oil\n",
      "smell\n",
      "-------\n"
     ]
    },
    {
     "data": {
      "text/markdown": [
       "#### Rural"
      ],
      "text/plain": [
       "<IPython.core.display.Markdown object>"
      ]
     },
     "metadata": {},
     "output_type": "display_data"
    },
    {
     "name": "stdout",
     "output_type": "stream",
     "text": [
      "------\n",
      "gas\n",
      "oil\n",
      "air\n",
      "coffee\n",
      "ground\n",
      "window\n",
      "cold\n",
      "glass\n",
      "dry\n",
      "sea\n",
      "------\n"
     ]
    },
    {
     "data": {
      "text/markdown": [
       "# science"
      ],
      "text/plain": [
       "<IPython.core.display.Markdown object>"
      ]
     },
     "metadata": {},
     "output_type": "display_data"
    },
    {
     "data": {
      "text/markdown": [
       "#### Urban"
      ],
      "text/plain": [
       "<IPython.core.display.Markdown object>"
      ]
     },
     "metadata": {},
     "output_type": "display_data"
    },
    {
     "name": "stdout",
     "output_type": "stream",
     "text": [
      "-----------\n",
      "diversity\n",
      "journalism\n",
      "innovation\n",
      "research\n",
      "cultural\n",
      "medicine\n",
      "technology\n",
      "bias\n",
      "economic\n",
      "engineering\n",
      "-----------\n"
     ]
    },
    {
     "data": {
      "text/markdown": [
       "#### Rural"
      ],
      "text/plain": [
       "<IPython.core.display.Markdown object>"
      ]
     },
     "metadata": {},
     "output_type": "display_data"
    },
    {
     "name": "stdout",
     "output_type": "stream",
     "text": [
      "-----------\n",
      "global\n",
      "education\n",
      "culture\n",
      "society\n",
      "arts\n",
      "technology\n",
      "industry\n",
      "political\n",
      "security\n",
      "development\n",
      "-----------\n"
     ]
    },
    {
     "data": {
      "text/markdown": [
       "# golden"
      ],
      "text/plain": [
       "<IPython.core.display.Markdown object>"
      ]
     },
     "metadata": {},
     "output_type": "display_data"
    },
    {
     "data": {
      "text/markdown": [
       "#### Urban"
      ],
      "text/plain": [
       "<IPython.core.display.Markdown object>"
      ]
     },
     "metadata": {},
     "output_type": "display_data"
    },
    {
     "name": "stdout",
     "output_type": "stream",
     "text": [
      "------------\n",
      "mountain\n",
      "lake\n",
      "dragon\n",
      "championship\n",
      "sea\n",
      "stadium\n",
      "monster\n",
      "roger\n",
      "historic\n",
      "church\n",
      "------------\n"
     ]
    },
    {
     "data": {
      "text/markdown": [
       "#### Rural"
      ],
      "text/plain": [
       "<IPython.core.display.Markdown object>"
      ]
     },
     "metadata": {},
     "output_type": "display_data"
    },
    {
     "name": "stdout",
     "output_type": "stream",
     "text": [
      "-------\n",
      "fish\n",
      "bay\n",
      "tiny\n",
      "four\n",
      "rose\n",
      "yellow\n",
      "monster\n",
      "changed\n",
      "dog\n",
      "kevin\n",
      "-------\n"
     ]
    },
    {
     "data": {
      "text/markdown": [
       "# usa"
      ],
      "text/plain": [
       "<IPython.core.display.Markdown object>"
      ]
     },
     "metadata": {},
     "output_type": "display_data"
    },
    {
     "data": {
      "text/markdown": [
       "#### Urban"
      ],
      "text/plain": [
       "<IPython.core.display.Markdown object>"
      ]
     },
     "metadata": {},
     "output_type": "display_data"
    },
    {
     "name": "stdout",
     "output_type": "stream",
     "text": [
      "--------\n",
      "canada\n",
      "europe\n",
      "israel\n",
      "uk\n",
      "germany\n",
      "india\n",
      "nation\n",
      "western\n",
      "france\n",
      "refugees\n",
      "--------\n"
     ]
    },
    {
     "data": {
      "text/markdown": [
       "#### Rural"
      ],
      "text/plain": [
       "<IPython.core.display.Markdown object>"
      ]
     },
     "metadata": {},
     "output_type": "display_data"
    },
    {
     "name": "stdout",
     "output_type": "stream",
     "text": [
      "----------\n",
      "sales\n",
      "newton\n",
      "global\n",
      "uk\n",
      "systems\n",
      "ca\n",
      "framingham\n",
      "manager\n",
      "assistant\n",
      "worcester\n",
      "----------\n"
     ]
    },
    {
     "data": {
      "text/markdown": [
       "# lebron"
      ],
      "text/plain": [
       "<IPython.core.display.Markdown object>"
      ]
     },
     "metadata": {},
     "output_type": "display_data"
    },
    {
     "data": {
      "text/markdown": [
       "#### Urban"
      ],
      "text/plain": [
       "<IPython.core.display.Markdown object>"
      ]
     },
     "metadata": {},
     "output_type": "display_data"
    },
    {
     "name": "stdout",
     "output_type": "stream",
     "text": [
      "---------\n",
      "kyrie\n",
      "cavs\n",
      "danny\n",
      "warriors\n",
      "crowder\n",
      "tatum\n",
      "cleveland\n",
      "bradley\n",
      "butler\n",
      "curry\n",
      "---------\n"
     ]
    },
    {
     "data": {
      "text/markdown": [
       "#### Rural"
      ],
      "text/plain": [
       "<IPython.core.display.Markdown object>"
      ]
     },
     "metadata": {},
     "output_type": "display_data"
    },
    {
     "name": "stdout",
     "output_type": "stream",
     "text": [
      "-------\n",
      "celtics\n",
      "butler\n",
      "he\n",
      "brady\n",
      "jimmy\n",
      "pats\n",
      "nba\n",
      "bruins\n",
      "goat\n",
      "thomas\n",
      "-------\n"
     ]
    },
    {
     "data": {
      "text/markdown": [
       "# murder"
      ],
      "text/plain": [
       "<IPython.core.display.Markdown object>"
      ]
     },
     "metadata": {},
     "output_type": "display_data"
    },
    {
     "data": {
      "text/markdown": [
       "#### Urban"
      ],
      "text/plain": [
       "<IPython.core.display.Markdown object>"
      ]
     },
     "metadata": {},
     "output_type": "display_data"
    },
    {
     "name": "stdout",
     "output_type": "stream",
     "text": [
      "--------\n",
      "rape\n",
      "suicide\n",
      "arrest\n",
      "suspect\n",
      "charged\n",
      "assault\n",
      "charges\n",
      "arrested\n",
      "death\n",
      "accused\n",
      "--------\n"
     ]
    },
    {
     "data": {
      "text/markdown": [
       "#### Rural"
      ],
      "text/plain": [
       "<IPython.core.display.Markdown object>"
      ]
     },
     "metadata": {},
     "output_type": "display_data"
    },
    {
     "name": "stdout",
     "output_type": "stream",
     "text": [
      "--------\n",
      "death\n",
      "arrested\n",
      "gun\n",
      "muslim\n",
      "charge\n",
      "shooting\n",
      "police\n",
      "attack\n",
      "crime\n",
      "court\n",
      "--------\n"
     ]
    },
    {
     "data": {
      "text/markdown": [
       "# cops"
      ],
      "text/plain": [
       "<IPython.core.display.Markdown object>"
      ]
     },
     "metadata": {},
     "output_type": "display_data"
    },
    {
     "data": {
      "text/markdown": [
       "#### Urban"
      ],
      "text/plain": [
       "<IPython.core.display.Markdown object>"
      ]
     },
     "metadata": {},
     "output_type": "display_data"
    },
    {
     "name": "stdout",
     "output_type": "stream",
     "text": [
      "---------\n",
      "police\n",
      "nazis\n",
      "guns\n",
      "muslims\n",
      "victims\n",
      "terrorist\n",
      "gun\n",
      "cop\n",
      "officials\n",
      "charges\n",
      "---------\n"
     ]
    },
    {
     "data": {
      "text/markdown": [
       "#### Rural"
      ],
      "text/plain": [
       "<IPython.core.display.Markdown object>"
      ]
     },
     "metadata": {},
     "output_type": "display_data"
    },
    {
     "name": "stdout",
     "output_type": "stream",
     "text": [
      "--------\n",
      "police\n",
      "gun\n",
      "muslim\n",
      "murder\n",
      "arrested\n",
      "man\n",
      "violence\n",
      "shooting\n",
      "black\n",
      "protest\n",
      "--------\n"
     ]
    },
    {
     "data": {
      "text/markdown": [
       "# order"
      ],
      "text/plain": [
       "<IPython.core.display.Markdown object>"
      ]
     },
     "metadata": {},
     "output_type": "display_data"
    },
    {
     "data": {
      "text/markdown": [
       "#### Urban"
      ],
      "text/plain": [
       "<IPython.core.display.Markdown object>"
      ]
     },
     "metadata": {},
     "output_type": "display_data"
    },
    {
     "name": "stdout",
     "output_type": "stream",
     "text": [
      "--------\n",
      "orders\n",
      "purchase\n",
      "file\n",
      "ordered\n",
      "exchange\n",
      "ban\n",
      "rule\n",
      "request\n",
      "address\n",
      "mail\n",
      "--------\n"
     ]
    },
    {
     "data": {
      "text/markdown": [
       "#### Rural"
      ],
      "text/plain": [
       "<IPython.core.display.Markdown object>"
      ]
     },
     "metadata": {},
     "output_type": "display_data"
    },
    {
     "name": "stdout",
     "output_type": "stream",
     "text": [
      "--------\n",
      "purchase\n",
      "shop\n",
      "store\n",
      "buy\n",
      "call\n",
      "office\n",
      "travel\n",
      "item\n",
      "ban\n",
      "grab\n",
      "--------\n"
     ]
    },
    {
     "data": {
      "text/markdown": [
       "# honest"
      ],
      "text/plain": [
       "<IPython.core.display.Markdown object>"
      ]
     },
     "metadata": {},
     "output_type": "display_data"
    },
    {
     "data": {
      "text/markdown": [
       "#### Urban"
      ],
      "text/plain": [
       "<IPython.core.display.Markdown object>"
      ]
     },
     "metadata": {},
     "output_type": "display_data"
    },
    {
     "name": "stdout",
     "output_type": "stream",
     "text": [
      "----------\n",
      "careful\n",
      "able\n",
      "ignorant\n",
      "prepared\n",
      "rude\n",
      "afraid\n",
      "considered\n",
      "obvious\n",
      "aware\n",
      "meant\n",
      "----------\n"
     ]
    },
    {
     "data": {
      "text/markdown": [
       "#### Rural"
      ],
      "text/plain": [
       "<IPython.core.display.Markdown object>"
      ]
     },
     "metadata": {},
     "output_type": "display_data"
    },
    {
     "name": "stdout",
     "output_type": "stream",
     "text": [
      "---------\n",
      "afraid\n",
      "asshole\n",
      "upset\n",
      "able\n",
      "lying\n",
      "human\n",
      "effective\n",
      "okay\n",
      "true\n",
      "angry\n",
      "---------\n"
     ]
    },
    {
     "data": {
      "text/markdown": [
       "# related"
      ],
      "text/plain": [
       "<IPython.core.display.Markdown object>"
      ]
     },
     "metadata": {},
     "output_type": "display_data"
    },
    {
     "data": {
      "text/markdown": [
       "#### Urban"
      ],
      "text/plain": [
       "<IPython.core.display.Markdown object>"
      ]
     },
     "metadata": {},
     "output_type": "display_data"
    },
    {
     "name": "stdout",
     "output_type": "stream",
     "text": [
      "---------\n",
      "similar\n",
      "required\n",
      "specific\n",
      "according\n",
      "based\n",
      "physical\n",
      "etc\n",
      "studies\n",
      "useful\n",
      "clinical\n",
      "---------\n"
     ]
    },
    {
     "data": {
      "text/markdown": [
       "#### Rural"
      ],
      "text/plain": [
       "<IPython.core.display.Markdown object>"
      ]
     },
     "metadata": {},
     "output_type": "display_data"
    },
    {
     "name": "stdout",
     "output_type": "stream",
     "text": [
      "---------\n",
      "according\n",
      "due\n",
      "important\n",
      "etc\n",
      "non\n",
      "about\n",
      "legal\n",
      "expected\n",
      "based\n",
      "political\n",
      "---------\n"
     ]
    },
    {
     "data": {
      "text/markdown": [
       "# word"
      ],
      "text/plain": [
       "<IPython.core.display.Markdown object>"
      ]
     },
     "metadata": {},
     "output_type": "display_data"
    },
    {
     "data": {
      "text/markdown": [
       "#### Urban"
      ],
      "text/plain": [
       "<IPython.core.display.Markdown object>"
      ]
     },
     "metadata": {},
     "output_type": "display_data"
    },
    {
     "name": "stdout",
     "output_type": "stream",
     "text": [
      "--------\n",
      "religion\n",
      "logic\n",
      "sentence\n",
      "name\n",
      "thing\n",
      "argument\n",
      "nonsense\n",
      "truth\n",
      "meme\n",
      "context\n",
      "--------\n"
     ]
    },
    {
     "data": {
      "text/markdown": [
       "#### Rural"
      ],
      "text/plain": [
       "<IPython.core.display.Markdown object>"
      ]
     },
     "metadata": {},
     "output_type": "display_data"
    },
    {
     "name": "stdout",
     "output_type": "stream",
     "text": [
      "--------\n",
      "tweet\n",
      "language\n",
      "truth\n",
      "quote\n",
      "spread\n",
      "name\n",
      "thing\n",
      "amen\n",
      "song\n",
      "response\n",
      "--------\n"
     ]
    },
    {
     "data": {
      "text/markdown": [
       "# korea"
      ],
      "text/plain": [
       "<IPython.core.display.Markdown object>"
      ]
     },
     "metadata": {},
     "output_type": "display_data"
    },
    {
     "data": {
      "text/markdown": [
       "#### Urban"
      ],
      "text/plain": [
       "<IPython.core.display.Markdown object>"
      ]
     },
     "metadata": {},
     "output_type": "display_data"
    },
    {
     "name": "stdout",
     "output_type": "stream",
     "text": [
      "-------\n",
      "china\n",
      "syria\n",
      "africa\n",
      "nuclear\n",
      "israel\n",
      "isis\n",
      "threat\n",
      "border\n",
      "terror\n",
      "mexico\n",
      "-------\n"
     ]
    },
    {
     "data": {
      "text/markdown": [
       "#### Rural"
      ],
      "text/plain": [
       "<IPython.core.display.Markdown object>"
      ]
     },
     "metadata": {},
     "output_type": "display_data"
    },
    {
     "name": "stdout",
     "output_type": "stream",
     "text": [
      "----------\n",
      "nuclear\n",
      "china\n",
      "war\n",
      "military\n",
      "russia\n",
      "north\n",
      "america\n",
      "south\n",
      "government\n",
      "illegal\n",
      "----------\n"
     ]
    },
    {
     "data": {
      "text/markdown": [
       "# land"
      ],
      "text/plain": [
       "<IPython.core.display.Markdown object>"
      ]
     },
     "metadata": {},
     "output_type": "display_data"
    },
    {
     "data": {
      "text/markdown": [
       "#### Urban"
      ],
      "text/plain": [
       "<IPython.core.display.Markdown object>"
      ]
     },
     "metadata": {},
     "output_type": "display_data"
    },
    {
     "name": "stdout",
     "output_type": "stream",
     "text": [
      "----------\n",
      "california\n",
      "tower\n",
      "ship\n",
      "society\n",
      "mexico\n",
      "la\n",
      "france\n",
      "africa\n",
      "city\n",
      "world\n",
      "----------\n"
     ]
    },
    {
     "data": {
      "text/markdown": [
       "#### Rural"
      ],
      "text/plain": [
       "<IPython.core.display.Markdown object>"
      ]
     },
     "metadata": {},
     "output_type": "display_data"
    },
    {
     "name": "stdout",
     "output_type": "stream",
     "text": [
      "--------\n",
      "consumer\n",
      "sea\n",
      "society\n",
      "space\n",
      "cost\n",
      "solar\n",
      "la\n",
      "version\n",
      "wall\n",
      "power\n",
      "--------\n"
     ]
    },
    {
     "data": {
      "text/markdown": [
       "# private"
      ],
      "text/plain": [
       "<IPython.core.display.Markdown object>"
      ]
     },
     "metadata": {},
     "output_type": "display_data"
    },
    {
     "data": {
      "text/markdown": [
       "#### Urban"
      ],
      "text/plain": [
       "<IPython.core.display.Markdown object>"
      ]
     },
     "metadata": {},
     "output_type": "display_data"
    },
    {
     "name": "stdout",
     "output_type": "stream",
     "text": [
      "---------\n",
      "public\n",
      "property\n",
      "foreign\n",
      "server\n",
      "firm\n",
      "budget\n",
      "housing\n",
      "funds\n",
      "corporate\n",
      "exchange\n",
      "---------\n"
     ]
    },
    {
     "data": {
      "text/markdown": [
       "#### Rural"
      ],
      "text/plain": [
       "<IPython.core.display.Markdown object>"
      ]
     },
     "metadata": {},
     "output_type": "display_data"
    },
    {
     "name": "stdout",
     "output_type": "stream",
     "text": [
      "--------\n",
      "public\n",
      "address\n",
      "etc\n",
      "legal\n",
      "safety\n",
      "services\n",
      "contact\n",
      "federal\n",
      "policy\n",
      "access\n",
      "--------\n"
     ]
    },
    {
     "data": {
      "text/markdown": [
       "# beginning"
      ],
      "text/plain": [
       "<IPython.core.display.Markdown object>"
      ]
     },
     "metadata": {},
     "output_type": "display_data"
    },
    {
     "data": {
      "text/markdown": [
       "#### Urban"
      ],
      "text/plain": [
       "<IPython.core.display.Markdown object>"
      ]
     },
     "metadata": {},
     "output_type": "display_data"
    },
    {
     "name": "stdout",
     "output_type": "stream",
     "text": [
      "-----------\n",
      "starting\n",
      "opposite\n",
      "end\n",
      "happening\n",
      "semester\n",
      "century\n",
      "finale\n",
      "celebration\n",
      "first\n",
      "theme\n",
      "-----------\n"
     ]
    },
    {
     "data": {
      "text/markdown": [
       "#### Rural"
      ],
      "text/plain": [
       "<IPython.core.display.Markdown object>"
      ]
     },
     "metadata": {},
     "output_type": "display_data"
    },
    {
     "name": "stdout",
     "output_type": "stream",
     "text": [
      "--------\n",
      "starting\n",
      "begins\n",
      "church\n",
      "4th\n",
      "8th\n",
      "edition\n",
      "end\n",
      "first\n",
      "series\n",
      "6th\n",
      "--------\n"
     ]
    },
    {
     "data": {
      "text/markdown": [
       "# shows"
      ],
      "text/plain": [
       "<IPython.core.display.Markdown object>"
      ]
     },
     "metadata": {},
     "output_type": "display_data"
    },
    {
     "data": {
      "text/markdown": [
       "#### Urban"
      ],
      "text/plain": [
       "<IPython.core.display.Markdown object>"
      ]
     },
     "metadata": {},
     "output_type": "display_data"
    },
    {
     "name": "stdout",
     "output_type": "stream",
     "text": [
      "--------\n",
      "showing\n",
      "sets\n",
      "showed\n",
      "reveals\n",
      "finds\n",
      "holds\n",
      "explains\n",
      "puts\n",
      "uses\n",
      "opens\n",
      "--------\n"
     ]
    },
    {
     "data": {
      "text/markdown": [
       "#### Rural"
      ],
      "text/plain": [
       "<IPython.core.display.Markdown object>"
      ]
     },
     "metadata": {},
     "output_type": "display_data"
    },
    {
     "name": "stdout",
     "output_type": "stream",
     "text": [
      "-------\n",
      "showing\n",
      "works\n",
      "plays\n",
      "show\n",
      "matters\n",
      "brings\n",
      "cuts\n",
      "watched\n",
      "picks\n",
      "gives\n",
      "-------\n"
     ]
    },
    {
     "data": {
      "text/markdown": [
       "# booth"
      ],
      "text/plain": [
       "<IPython.core.display.Markdown object>"
      ]
     },
     "metadata": {},
     "output_type": "display_data"
    },
    {
     "data": {
      "text/markdown": [
       "#### Urban"
      ],
      "text/plain": [
       "<IPython.core.display.Markdown object>"
      ]
     },
     "metadata": {},
     "output_type": "display_data"
    },
    {
     "name": "stdout",
     "output_type": "stream",
     "text": [
      "--------\n",
      "7pm\n",
      "8pm\n",
      "workshop\n",
      "6pm\n",
      "event\n",
      "register\n",
      "table\n",
      "summit\n",
      "joining\n",
      "join\n",
      "--------\n"
     ]
    },
    {
     "data": {
      "text/markdown": [
       "#### Rural"
      ],
      "text/plain": [
       "<IPython.core.display.Markdown object>"
      ]
     },
     "metadata": {},
     "output_type": "display_data"
    },
    {
     "name": "stdout",
     "output_type": "stream",
     "text": [
      "--------\n",
      "showcase\n",
      "07\n",
      "05\n",
      "09\n",
      "03\n",
      "02\n",
      "04\n",
      "01\n",
      "06\n",
      "08\n",
      "--------\n"
     ]
    },
    {
     "data": {
      "text/markdown": [
       "# issue"
      ],
      "text/plain": [
       "<IPython.core.display.Markdown object>"
      ]
     },
     "metadata": {},
     "output_type": "display_data"
    },
    {
     "data": {
      "text/markdown": [
       "#### Urban"
      ],
      "text/plain": [
       "<IPython.core.display.Markdown object>"
      ]
     },
     "metadata": {},
     "output_type": "display_data"
    },
    {
     "name": "stdout",
     "output_type": "stream",
     "text": [
      "-----------\n",
      "problem\n",
      "argument\n",
      "concern\n",
      "option\n",
      "threat\n",
      "error\n",
      "issues\n",
      "topic\n",
      "crisis\n",
      "information\n",
      "-----------\n"
     ]
    },
    {
     "data": {
      "text/markdown": [
       "#### Rural"
      ],
      "text/plain": [
       "<IPython.core.display.Markdown object>"
      ]
     },
     "metadata": {},
     "output_type": "display_data"
    },
    {
     "name": "stdout",
     "output_type": "stream",
     "text": [
      "-------------\n",
      "problem\n",
      "evidence\n",
      "political\n",
      "investigation\n",
      "response\n",
      "effect\n",
      "government\n",
      "statement\n",
      "interest\n",
      "system\n",
      "-------------\n"
     ]
    },
    {
     "data": {
      "text/markdown": [
       "# unit"
      ],
      "text/plain": [
       "<IPython.core.display.Markdown object>"
      ]
     },
     "metadata": {},
     "output_type": "display_data"
    },
    {
     "data": {
      "text/markdown": [
       "#### Urban"
      ],
      "text/plain": [
       "<IPython.core.display.Markdown object>"
      ]
     },
     "metadata": {},
     "output_type": "display_data"
    },
    {
     "name": "stdout",
     "output_type": "stream",
     "text": [
      "----------\n",
      "battery\n",
      "technician\n",
      "pt\n",
      "batteries\n",
      "bedrooms\n",
      "ct\n",
      "storage\n",
      "newton\n",
      "dorchester\n",
      "specialist\n",
      "----------\n"
     ]
    },
    {
     "data": {
      "text/markdown": [
       "#### Rural"
      ],
      "text/plain": [
       "<IPython.core.display.Markdown object>"
      ]
     },
     "metadata": {},
     "output_type": "display_data"
    },
    {
     "name": "stdout",
     "output_type": "stream",
     "text": [
      "--------\n",
      "rd\n",
      "ave\n",
      "st\n",
      "street\n",
      "lane\n",
      "ma\n",
      "property\n",
      "route\n",
      "ct\n",
      "franklin\n",
      "--------\n"
     ]
    },
    {
     "data": {
      "text/markdown": [
       "# rights"
      ],
      "text/plain": [
       "<IPython.core.display.Markdown object>"
      ]
     },
     "metadata": {},
     "output_type": "display_data"
    },
    {
     "data": {
      "text/markdown": [
       "#### Urban"
      ],
      "text/plain": [
       "<IPython.core.display.Markdown object>"
      ]
     },
     "metadata": {},
     "output_type": "display_data"
    },
    {
     "name": "stdout",
     "output_type": "stream",
     "text": [
      "------------\n",
      "religious\n",
      "laws\n",
      "constitution\n",
      "trans\n",
      "values\n",
      "freedom\n",
      "violence\n",
      "muslims\n",
      "immigrants\n",
      "democracy\n",
      "------------\n"
     ]
    },
    {
     "data": {
      "text/markdown": [
       "#### Rural"
      ],
      "text/plain": [
       "<IPython.core.display.Markdown object>"
      ]
     },
     "metadata": {},
     "output_type": "display_data"
    },
    {
     "name": "stdout",
     "output_type": "stream",
     "text": [
      "----------\n",
      "government\n",
      "anti\n",
      "violence\n",
      "military\n",
      "muslim\n",
      "legal\n",
      "healthcare\n",
      "law\n",
      "freedom\n",
      "protest\n",
      "----------\n"
     ]
    },
    {
     "data": {
      "text/markdown": [
       "# monster"
      ],
      "text/plain": [
       "<IPython.core.display.Markdown object>"
      ]
     },
     "metadata": {},
     "output_type": "display_data"
    },
    {
     "data": {
      "text/markdown": [
       "#### Urban"
      ],
      "text/plain": [
       "<IPython.core.display.Markdown object>"
      ]
     },
     "metadata": {},
     "output_type": "display_data"
    },
    {
     "name": "stdout",
     "output_type": "stream",
     "text": [
      "------\n",
      "dragon\n",
      "giant\n",
      "horse\n",
      "legend\n",
      "beast\n",
      "goat\n",
      "hero\n",
      "clown\n",
      "movie\n",
      "egg\n",
      "------\n"
     ]
    },
    {
     "data": {
      "text/markdown": [
       "#### Rural"
      ],
      "text/plain": [
       "<IPython.core.display.Markdown object>"
      ]
     },
     "metadata": {},
     "output_type": "display_data"
    },
    {
     "name": "stdout",
     "output_type": "stream",
     "text": [
      "--------\n",
      "stone\n",
      "classic\n",
      "goat\n",
      "yellow\n",
      "king\n",
      "magic\n",
      "mountain\n",
      "dark\n",
      "rose\n",
      "queen\n",
      "--------\n"
     ]
    },
    {
     "data": {
      "text/markdown": [
       "# address"
      ],
      "text/plain": [
       "<IPython.core.display.Markdown object>"
      ]
     },
     "metadata": {},
     "output_type": "display_data"
    },
    {
     "data": {
      "text/markdown": [
       "#### Urban"
      ],
      "text/plain": [
       "<IPython.core.display.Markdown object>"
      ]
     },
     "metadata": {},
     "output_type": "display_data"
    },
    {
     "name": "stdout",
     "output_type": "stream",
     "text": [
      "--------\n",
      "email\n",
      "file\n",
      "fix\n",
      "respond\n",
      "deliver\n",
      "response\n",
      "solve\n",
      "confirm\n",
      "request\n",
      "status\n",
      "--------\n"
     ]
    },
    {
     "data": {
      "text/markdown": [
       "#### Rural"
      ],
      "text/plain": [
       "<IPython.core.display.Markdown object>"
      ]
     },
     "metadata": {},
     "output_type": "display_data"
    },
    {
     "name": "stdout",
     "output_type": "stream",
     "text": [
      "-----------\n",
      "email\n",
      "contact\n",
      "provide\n",
      "dm\n",
      "private\n",
      "discuss\n",
      "information\n",
      "increase\n",
      "send\n",
      "message\n",
      "-----------\n"
     ]
    },
    {
     "data": {
      "text/markdown": [
       "# names"
      ],
      "text/plain": [
       "<IPython.core.display.Markdown object>"
      ]
     },
     "metadata": {},
     "output_type": "display_data"
    },
    {
     "data": {
      "text/markdown": [
       "#### Urban"
      ],
      "text/plain": [
       "<IPython.core.display.Markdown object>"
      ]
     },
     "metadata": {},
     "output_type": "display_data"
    },
    {
     "name": "stdout",
     "output_type": "stream",
     "text": [
      "----------\n",
      "faces\n",
      "characters\n",
      "accounts\n",
      "numbers\n",
      "writers\n",
      "artists\n",
      "memes\n",
      "players\n",
      "ones\n",
      "sites\n",
      "----------\n"
     ]
    },
    {
     "data": {
      "text/markdown": [
       "#### Rural"
      ],
      "text/plain": [
       "<IPython.core.display.Markdown object>"
      ]
     },
     "metadata": {},
     "output_type": "display_data"
    },
    {
     "name": "stdout",
     "output_type": "stream",
     "text": [
      "--------\n",
      "numbers\n",
      "name\n",
      "players\n",
      "ones\n",
      "fans\n",
      "comments\n",
      "books\n",
      "pictures\n",
      "posts\n",
      "pics\n",
      "--------\n"
     ]
    },
    {
     "data": {
      "text/markdown": [
       "# view"
      ],
      "text/plain": [
       "<IPython.core.display.Markdown object>"
      ]
     },
     "metadata": {},
     "output_type": "display_data"
    },
    {
     "data": {
      "text/markdown": [
       "#### Urban"
      ],
      "text/plain": [
       "<IPython.core.display.Markdown object>"
      ]
     },
     "metadata": {},
     "output_type": "display_data"
    },
    {
     "name": "stdout",
     "output_type": "stream",
     "text": [
      "------------\n",
      "location\n",
      "background\n",
      "shape\n",
      "effect\n",
      "display\n",
      "area\n",
      "neighborhood\n",
      "result\n",
      "state\n",
      "tower\n",
      "------------\n"
     ]
    },
    {
     "data": {
      "text/markdown": [
       "#### Rural"
      ],
      "text/plain": [
       "<IPython.core.display.Markdown object>"
      ]
     },
     "metadata": {},
     "output_type": "display_data"
    },
    {
     "name": "stdout",
     "output_type": "stream",
     "text": [
      "----------\n",
      "form\n",
      "location\n",
      "path\n",
      "collection\n",
      "museum\n",
      "check\n",
      "space\n",
      "salem\n",
      "website\n",
      "piece\n",
      "----------\n"
     ]
    },
    {
     "data": {
      "text/markdown": [
       "# trade"
      ],
      "text/plain": [
       "<IPython.core.display.Markdown object>"
      ]
     },
     "metadata": {},
     "output_type": "display_data"
    },
    {
     "data": {
      "text/markdown": [
       "#### Urban"
      ],
      "text/plain": [
       "<IPython.core.display.Markdown object>"
      ]
     },
     "metadata": {},
     "output_type": "display_data"
    },
    {
     "name": "stdout",
     "output_type": "stream",
     "text": [
      "-------\n",
      "butler\n",
      "trading\n",
      "kyrie\n",
      "hayward\n",
      "rumors\n",
      "crowder\n",
      "draft\n",
      "danny\n",
      "gordon\n",
      "gm\n",
      "-------\n"
     ]
    },
    {
     "data": {
      "text/markdown": [
       "#### Rural"
      ],
      "text/plain": [
       "<IPython.core.display.Markdown object>"
      ]
     },
     "metadata": {},
     "output_type": "display_data"
    },
    {
     "name": "stdout",
     "output_type": "stream",
     "text": [
      "-------\n",
      "butler\n",
      "draft\n",
      "jimmy\n",
      "celtics\n",
      "defense\n",
      "lebron\n",
      "nba\n",
      "deal\n",
      "nfl\n",
      "george\n",
      "-------\n"
     ]
    },
    {
     "data": {
      "text/markdown": [
       "# cars"
      ],
      "text/plain": [
       "<IPython.core.display.Markdown object>"
      ]
     },
     "metadata": {},
     "output_type": "display_data"
    },
    {
     "data": {
      "text/markdown": [
       "#### Urban"
      ],
      "text/plain": [
       "<IPython.core.display.Markdown object>"
      ]
     },
     "metadata": {},
     "output_type": "display_data"
    },
    {
     "name": "stdout",
     "output_type": "stream",
     "text": [
      "---------\n",
      "homes\n",
      "drivers\n",
      "devices\n",
      "car\n",
      "windows\n",
      "robots\n",
      "electric\n",
      "batteries\n",
      "streets\n",
      "bike\n",
      "---------\n"
     ]
    },
    {
     "data": {
      "text/markdown": [
       "#### Rural"
      ],
      "text/plain": [
       "<IPython.core.display.Markdown object>"
      ]
     },
     "metadata": {},
     "output_type": "display_data"
    },
    {
     "name": "stdout",
     "output_type": "stream",
     "text": [
      "---------\n",
      "gas\n",
      "lines\n",
      "traffic\n",
      "projects\n",
      "vehicle\n",
      "companies\n",
      "homes\n",
      "cash\n",
      "items\n",
      "car\n",
      "---------\n"
     ]
    },
    {
     "data": {
      "text/markdown": [
       "# upcoming"
      ],
      "text/plain": [
       "<IPython.core.display.Markdown object>"
      ]
     },
     "metadata": {},
     "output_type": "display_data"
    },
    {
     "data": {
      "text/markdown": [
       "#### Urban"
      ],
      "text/plain": [
       "<IPython.core.display.Markdown object>"
      ]
     },
     "metadata": {},
     "output_type": "display_data"
    },
    {
     "name": "stdout",
     "output_type": "stream",
     "text": [
      "----------\n",
      "preview\n",
      "featured\n",
      "featuring\n",
      "exclusive\n",
      "launch\n",
      "newsletter\n",
      "weekly\n",
      "workshop\n",
      "guest\n",
      "newest\n",
      "----------\n"
     ]
    },
    {
     "data": {
      "text/markdown": [
       "#### Rural"
      ],
      "text/plain": [
       "<IPython.core.display.Markdown object>"
      ]
     },
     "metadata": {},
     "output_type": "display_data"
    },
    {
     "name": "stdout",
     "output_type": "stream",
     "text": [
      "--------\n",
      "weekly\n",
      "events\n",
      "schedule\n",
      "annual\n",
      "pre\n",
      "calendar\n",
      "event\n",
      "updated\n",
      "updates\n",
      "details\n",
      "--------\n"
     ]
    },
    {
     "data": {
      "text/markdown": [
       "# fear"
      ],
      "text/plain": [
       "<IPython.core.display.Markdown object>"
      ]
     },
     "metadata": {},
     "output_type": "display_data"
    },
    {
     "data": {
      "text/markdown": [
       "#### Urban"
      ],
      "text/plain": [
       "<IPython.core.display.Markdown object>"
      ]
     },
     "metadata": {},
     "output_type": "display_data"
    },
    {
     "name": "stdout",
     "output_type": "stream",
     "text": [
      "-------------\n",
      "faith\n",
      "religion\n",
      "doubt\n",
      "failure\n",
      "moral\n",
      "silence\n",
      "power\n",
      "enemy\n",
      "racism\n",
      "understanding\n",
      "-------------\n"
     ]
    },
    {
     "data": {
      "text/markdown": [
       "#### Rural"
      ],
      "text/plain": [
       "<IPython.core.display.Markdown object>"
      ]
     },
     "metadata": {},
     "output_type": "display_data"
    },
    {
     "name": "stdout",
     "output_type": "stream",
     "text": [
      "--------\n",
      "faith\n",
      "freedom\n",
      "power\n",
      "truth\n",
      "violence\n",
      "lack\n",
      "politics\n",
      "afraid\n",
      "lies\n",
      "lie\n",
      "--------\n"
     ]
    },
    {
     "data": {
      "text/markdown": [
       "# robert"
      ],
      "text/plain": [
       "<IPython.core.display.Markdown object>"
      ]
     },
     "metadata": {},
     "output_type": "display_data"
    },
    {
     "data": {
      "text/markdown": [
       "#### Urban"
      ],
      "text/plain": [
       "<IPython.core.display.Markdown object>"
      ]
     },
     "metadata": {},
     "output_type": "display_data"
    },
    {
     "name": "stdout",
     "output_type": "stream",
     "text": [
      "--------\n",
      "richard\n",
      "john\n",
      "kennedy\n",
      "lee\n",
      "martin\n",
      "lewis\n",
      "tim\n",
      "andrew\n",
      "williams\n",
      "johnson\n",
      "--------\n"
     ]
    },
    {
     "data": {
      "text/markdown": [
       "#### Rural"
      ],
      "text/plain": [
       "<IPython.core.display.Markdown object>"
      ]
     },
     "metadata": {},
     "output_type": "display_data"
    },
    {
     "name": "stdout",
     "output_type": "stream",
     "text": [
      "------\n",
      "scott\n",
      "john\n",
      "jim\n",
      "former\n",
      "steve\n",
      "dan\n",
      "j\n",
      "ben\n",
      "mayor\n",
      "eric\n",
      "------\n"
     ]
    },
    {
     "data": {
      "text/markdown": [
       "# master"
      ],
      "text/plain": [
       "<IPython.core.display.Markdown object>"
      ]
     },
     "metadata": {},
     "output_type": "display_data"
    },
    {
     "data": {
      "text/markdown": [
       "#### Urban"
      ],
      "text/plain": [
       "<IPython.core.display.Markdown object>"
      ]
     },
     "metadata": {},
     "output_type": "display_data"
    },
    {
     "name": "stdout",
     "output_type": "stream",
     "text": [
      "-----------\n",
      "visual\n",
      "engineering\n",
      "vision\n",
      "prof\n",
      "musical\n",
      "teaching\n",
      "101\n",
      "modern\n",
      "program\n",
      "production\n",
      "-----------\n"
     ]
    },
    {
     "data": {
      "text/markdown": [
       "#### Rural"
      ],
      "text/plain": [
       "<IPython.core.display.Markdown object>"
      ]
     },
     "metadata": {},
     "output_type": "display_data"
    },
    {
     "name": "stdout",
     "output_type": "stream",
     "text": [
      "-----------\n",
      "development\n",
      "design\n",
      "performance\n",
      "director\n",
      "management\n",
      "ultimate\n",
      "pro\n",
      "cc\n",
      "skills\n",
      "ms\n",
      "-----------\n"
     ]
    },
    {
     "data": {
      "text/markdown": [
       "# bank"
      ],
      "text/plain": [
       "<IPython.core.display.Markdown object>"
      ]
     },
     "metadata": {},
     "output_type": "display_data"
    },
    {
     "data": {
      "text/markdown": [
       "#### Urban"
      ],
      "text/plain": [
       "<IPython.core.display.Markdown object>"
      ]
     },
     "metadata": {},
     "output_type": "display_data"
    },
    {
     "name": "stdout",
     "output_type": "stream",
     "text": [
      "--------\n",
      "inc\n",
      "union\n",
      "border\n",
      "capital\n",
      "exchange\n",
      "banks\n",
      "firm\n",
      "uk\n",
      "federal\n",
      "china\n",
      "--------\n"
     ]
    },
    {
     "data": {
      "text/markdown": [
       "#### Rural"
      ],
      "text/plain": [
       "<IPython.core.display.Markdown object>"
      ]
     },
     "metadata": {},
     "output_type": "display_data"
    },
    {
     "name": "stdout",
     "output_type": "stream",
     "text": [
      "-------\n",
      "owner\n",
      "account\n",
      "federal\n",
      "auto\n",
      "private\n",
      "gas\n",
      "company\n",
      "vehicle\n",
      "hotel\n",
      "truck\n",
      "-------\n"
     ]
    },
    {
     "data": {
      "text/markdown": [
       "# states"
      ],
      "text/plain": [
       "<IPython.core.display.Markdown object>"
      ]
     },
     "metadata": {},
     "output_type": "display_data"
    },
    {
     "data": {
      "text/markdown": [
       "#### Urban"
      ],
      "text/plain": [
       "<IPython.core.display.Markdown object>"
      ]
     },
     "metadata": {},
     "output_type": "display_data"
    },
    {
     "name": "stdout",
     "output_type": "stream",
     "text": [
      "---------\n",
      "countries\n",
      "cities\n",
      "citizens\n",
      "laws\n",
      "groups\n",
      "americans\n",
      "voters\n",
      "refugees\n",
      "muslims\n",
      "democrats\n",
      "---------\n"
     ]
    },
    {
     "data": {
      "text/markdown": [
       "#### Rural"
      ],
      "text/plain": [
       "<IPython.core.display.Markdown object>"
      ]
     },
     "metadata": {},
     "output_type": "display_data"
    },
    {
     "name": "stdout",
     "output_type": "stream",
     "text": [
      "-----------\n",
      "democrats\n",
      "americans\n",
      "dems\n",
      "places\n",
      "republicans\n",
      "federal\n",
      "rights\n",
      "usa\n",
      "rules\n",
      "rule\n",
      "-----------\n"
     ]
    },
    {
     "data": {
      "text/markdown": [
       "# surprise"
      ],
      "text/plain": [
       "<IPython.core.display.Markdown object>"
      ]
     },
     "metadata": {},
     "output_type": "display_data"
    },
    {
     "data": {
      "text/markdown": [
       "#### Urban"
      ],
      "text/plain": [
       "<IPython.core.display.Markdown object>"
      ]
     },
     "metadata": {},
     "output_type": "display_data"
    },
    {
     "name": "stdout",
     "output_type": "stream",
     "text": [
      "---------\n",
      "coworkers\n",
      "question\n",
      "deal\n",
      "concern\n",
      "invite\n",
      "kiss\n",
      "matter\n",
      "answer\n",
      "appear\n",
      "have\n",
      "---------\n"
     ]
    },
    {
     "data": {
      "text/markdown": [
       "#### Rural"
      ],
      "text/plain": [
       "<IPython.core.display.Markdown object>"
      ]
     },
     "metadata": {},
     "output_type": "display_data"
    },
    {
     "name": "stdout",
     "output_type": "stream",
     "text": [
      "--------\n",
      "question\n",
      "message\n",
      "although\n",
      "answer\n",
      "dream\n",
      "friend\n",
      "problem\n",
      "scorpio\n",
      "deal\n",
      "arms\n",
      "--------\n"
     ]
    },
    {
     "data": {
      "text/markdown": [
       "# floyd"
      ],
      "text/plain": [
       "<IPython.core.display.Markdown object>"
      ]
     },
     "metadata": {},
     "output_type": "display_data"
    },
    {
     "data": {
      "text/markdown": [
       "#### Urban"
      ],
      "text/plain": [
       "<IPython.core.display.Markdown object>"
      ]
     },
     "metadata": {},
     "output_type": "display_data"
    },
    {
     "name": "stdout",
     "output_type": "stream",
     "text": [
      "--------\n",
      "curry\n",
      "rick\n",
      "jason\n",
      "lebron\n",
      "jordan\n",
      "johnson\n",
      "justin\n",
      "rob\n",
      "warriors\n",
      "jackson\n",
      "--------\n"
     ]
    },
    {
     "data": {
      "text/markdown": [
       "#### Rural"
      ],
      "text/plain": [
       "<IPython.core.display.Markdown object>"
      ]
     },
     "metadata": {},
     "output_type": "display_data"
    },
    {
     "name": "stdout",
     "output_type": "stream",
     "text": [
      "--------\n",
      "cast\n",
      "kevin\n",
      "pink\n",
      "jackson\n",
      "title\n",
      "magic\n",
      "beat\n",
      "rose\n",
      "michael\n",
      "warriors\n",
      "--------\n"
     ]
    },
    {
     "data": {
      "text/markdown": [
       "# manager"
      ],
      "text/plain": [
       "<IPython.core.display.Markdown object>"
      ]
     },
     "metadata": {},
     "output_type": "display_data"
    },
    {
     "data": {
      "text/markdown": [
       "#### Urban"
      ],
      "text/plain": [
       "<IPython.core.display.Markdown object>"
      ]
     },
     "metadata": {},
     "output_type": "display_data"
    },
    {
     "name": "stdout",
     "output_type": "stream",
     "text": [
      "--------------\n",
      "associate\n",
      "specialist\n",
      "analyst\n",
      "consultant\n",
      "representative\n",
      "sr\n",
      "assistant\n",
      "technician\n",
      "director\n",
      "operations\n",
      "--------------\n"
     ]
    },
    {
     "data": {
      "text/markdown": [
       "#### Rural"
      ],
      "text/plain": [
       "<IPython.core.display.Markdown object>"
      ]
     },
     "metadata": {},
     "output_type": "display_data"
    },
    {
     "name": "stdout",
     "output_type": "stream",
     "text": [
      "------------\n",
      "assistant\n",
      "director\n",
      "software\n",
      "development\n",
      "hiring\n",
      "medical\n",
      "sales\n",
      "partner\n",
      "professional\n",
      "management\n",
      "------------\n"
     ]
    },
    {
     "data": {
      "text/markdown": [
       "# recommend"
      ],
      "text/plain": [
       "<IPython.core.display.Markdown object>"
      ]
     },
     "metadata": {},
     "output_type": "display_data"
    },
    {
     "data": {
      "text/markdown": [
       "#### Urban"
      ],
      "text/plain": [
       "<IPython.core.display.Markdown object>"
      ]
     },
     "metadata": {},
     "output_type": "display_data"
    },
    {
     "name": "stdout",
     "output_type": "stream",
     "text": [
      "----------\n",
      "fit\n",
      "consultant\n",
      "technician\n",
      "associate\n",
      "thank\n",
      "sr\n",
      "believe\n",
      "assistant\n",
      "analyst\n",
      "relate\n",
      "----------\n"
     ]
    },
    {
     "data": {
      "text/markdown": [
       "#### Rural"
      ],
      "text/plain": [
       "<IPython.core.display.Markdown object>"
      ]
     },
     "metadata": {},
     "output_type": "display_data"
    },
    {
     "name": "stdout",
     "output_type": "stream",
     "text": [
      "----------\n",
      "delivery\n",
      "fit\n",
      "interested\n",
      "cashier\n",
      "nurse\n",
      "thank\n",
      "assistant\n",
      "believe\n",
      "item\n",
      "provide\n",
      "----------\n"
     ]
    },
    {
     "data": {
      "text/markdown": [
       "# growth"
      ],
      "text/plain": [
       "<IPython.core.display.Markdown object>"
      ]
     },
     "metadata": {},
     "output_type": "display_data"
    },
    {
     "data": {
      "text/markdown": [
       "#### Urban"
      ],
      "text/plain": [
       "<IPython.core.display.Markdown object>"
      ]
     },
     "metadata": {},
     "output_type": "display_data"
    },
    {
     "name": "stdout",
     "output_type": "stream",
     "text": [
      "--------------\n",
      "revenue\n",
      "investment\n",
      "markets\n",
      "infrastructure\n",
      "economic\n",
      "innovation\n",
      "economy\n",
      "enterprise\n",
      "success\n",
      "development\n",
      "--------------\n"
     ]
    },
    {
     "data": {
      "text/markdown": [
       "#### Rural"
      ],
      "text/plain": [
       "<IPython.core.display.Markdown object>"
      ]
     },
     "metadata": {},
     "output_type": "display_data"
    },
    {
     "name": "stdout",
     "output_type": "stream",
     "text": [
      "-----------\n",
      "industry\n",
      "data\n",
      "management\n",
      "development\n",
      "global\n",
      "technology\n",
      "tech\n",
      "software\n",
      "sales\n",
      "value\n",
      "-----------\n"
     ]
    },
    {
     "data": {
      "text/markdown": [
       "# official"
      ],
      "text/plain": [
       "<IPython.core.display.Markdown object>"
      ]
     },
     "metadata": {},
     "output_type": "display_data"
    },
    {
     "data": {
      "text/markdown": [
       "#### Urban"
      ],
      "text/plain": [
       "<IPython.core.display.Markdown object>"
      ]
     },
     "metadata": {},
     "output_type": "display_data"
    },
    {
     "name": "stdout",
     "output_type": "stream",
     "text": [
      "---------\n",
      "releases\n",
      "exclusive\n",
      "release\n",
      "hd\n",
      "announces\n",
      "launches\n",
      "alert\n",
      "original\n",
      "released\n",
      "audio\n",
      "---------\n"
     ]
    },
    {
     "data": {
      "text/markdown": [
       "#### Rural"
      ],
      "text/plain": [
       "<IPython.core.display.Markdown object>"
      ]
     },
     "metadata": {},
     "output_type": "display_data"
    },
    {
     "name": "stdout",
     "output_type": "stream",
     "text": [
      "----------\n",
      "original\n",
      "un\n",
      "edition\n",
      "release\n",
      "ii\n",
      "review\n",
      "contest\n",
      "council\n",
      "scott\n",
      "officially\n",
      "----------\n"
     ]
    },
    {
     "data": {
      "text/markdown": [
       "# part"
      ],
      "text/plain": [
       "<IPython.core.display.Markdown object>"
      ]
     },
     "metadata": {},
     "output_type": "display_data"
    },
    {
     "data": {
      "text/markdown": [
       "#### Urban"
      ],
      "text/plain": [
       "<IPython.core.display.Markdown object>"
      ]
     },
     "metadata": {},
     "output_type": "display_data"
    },
    {
     "name": "stdout",
     "output_type": "stream",
     "text": [
      "----------\n",
      "kind\n",
      "course\n",
      "definition\n",
      "parts\n",
      "aware\n",
      "member\n",
      "concept\n",
      "importance\n",
      "sort\n",
      "result\n",
      "----------\n"
     ]
    },
    {
     "data": {
      "text/markdown": [
       "#### Rural"
      ],
      "text/plain": [
       "<IPython.core.display.Markdown object>"
      ]
     },
     "metadata": {},
     "output_type": "display_data"
    },
    {
     "name": "stdout",
     "output_type": "stream",
     "text": [
      "---------\n",
      "version\n",
      "course\n",
      "episode\n",
      "kind\n",
      "series\n",
      "lack\n",
      "role\n",
      "member\n",
      "character\n",
      "outcome\n",
      "---------\n"
     ]
    },
    {
     "data": {
      "text/markdown": [
       "# hidden"
      ],
      "text/plain": [
       "<IPython.core.display.Markdown object>"
      ]
     },
     "metadata": {},
     "output_type": "display_data"
    },
    {
     "data": {
      "text/markdown": [
       "#### Urban"
      ],
      "text/plain": [
       "<IPython.core.display.Markdown object>"
      ]
     },
     "metadata": {},
     "output_type": "display_data"
    },
    {
     "name": "stdout",
     "output_type": "stream",
     "text": [
      "-----------\n",
      "secret\n",
      "unique\n",
      "secrets\n",
      "images\n",
      "valley\n",
      "dark\n",
      "fascinating\n",
      "shocking\n",
      "essential\n",
      "reveals\n",
      "-----------\n"
     ]
    },
    {
     "data": {
      "text/markdown": [
       "#### Rural"
      ],
      "text/plain": [
       "<IPython.core.display.Markdown object>"
      ]
     },
     "metadata": {},
     "output_type": "display_data"
    },
    {
     "name": "stdout",
     "output_type": "stream",
     "text": [
      "---------\n",
      "features\n",
      "design\n",
      "common\n",
      "source\n",
      "metal\n",
      "signs\n",
      "style\n",
      "iphone\n",
      "essential\n",
      "strange\n",
      "---------\n"
     ]
    },
    {
     "data": {
      "text/markdown": [
       "# dead"
      ],
      "text/plain": [
       "<IPython.core.display.Markdown object>"
      ]
     },
     "metadata": {},
     "output_type": "display_data"
    },
    {
     "data": {
      "text/markdown": [
       "#### Urban"
      ],
      "text/plain": [
       "<IPython.core.display.Markdown object>"
      ]
     },
     "metadata": {},
     "output_type": "display_data"
    },
    {
     "name": "stdout",
     "output_type": "stream",
     "text": [
      "---------\n",
      "screaming\n",
      "injured\n",
      "dying\n",
      "beating\n",
      "killed\n",
      "shooting\n",
      "alive\n",
      "arrested\n",
      "shook\n",
      "suspect\n",
      "---------\n"
     ]
    },
    {
     "data": {
      "text/markdown": [
       "#### Rural"
      ],
      "text/plain": [
       "<IPython.core.display.Markdown object>"
      ]
     },
     "metadata": {},
     "output_type": "display_data"
    },
    {
     "name": "stdout",
     "output_type": "stream",
     "text": [
      "--------\n",
      "stuck\n",
      "dying\n",
      "drunk\n",
      "sleeping\n",
      "deadass\n",
      "crying\n",
      "bored\n",
      "weak\n",
      "trash\n",
      "wtf\n",
      "--------\n"
     ]
    },
    {
     "data": {
      "text/markdown": [
       "# butler"
      ],
      "text/plain": [
       "<IPython.core.display.Markdown object>"
      ]
     },
     "metadata": {},
     "output_type": "display_data"
    },
    {
     "data": {
      "text/markdown": [
       "#### Urban"
      ],
      "text/plain": [
       "<IPython.core.display.Markdown object>"
      ]
     },
     "metadata": {},
     "output_type": "display_data"
    },
    {
     "name": "stdout",
     "output_type": "stream",
     "text": [
      "-------\n",
      "kyrie\n",
      "danny\n",
      "hayward\n",
      "tatum\n",
      "trade\n",
      "crowder\n",
      "jimmy\n",
      "gordon\n",
      "bradley\n",
      "jaylen\n",
      "-------\n"
     ]
    },
    {
     "data": {
      "text/markdown": [
       "#### Rural"
      ],
      "text/plain": [
       "<IPython.core.display.Markdown object>"
      ]
     },
     "metadata": {},
     "output_type": "display_data"
    },
    {
     "name": "stdout",
     "output_type": "stream",
     "text": [
      "-------\n",
      "jimmy\n",
      "trade\n",
      "lebron\n",
      "thomas\n",
      "george\n",
      "celtics\n",
      "matt\n",
      "kelly\n",
      "kevin\n",
      "paul\n",
      "-------\n"
     ]
    },
    {
     "data": {
      "text/markdown": [
       "# political"
      ],
      "text/plain": [
       "<IPython.core.display.Markdown object>"
      ]
     },
     "metadata": {},
     "output_type": "display_data"
    },
    {
     "data": {
      "text/markdown": [
       "#### Urban"
      ],
      "text/plain": [
       "<IPython.core.display.Markdown object>"
      ]
     },
     "metadata": {},
     "output_type": "display_data"
    },
    {
     "name": "stdout",
     "output_type": "stream",
     "text": [
      "------------\n",
      "conservative\n",
      "politics\n",
      "religious\n",
      "bias\n",
      "liberal\n",
      "moral\n",
      "democracy\n",
      "identity\n",
      "racism\n",
      "economic\n",
      "------------\n"
     ]
    },
    {
     "data": {
      "text/markdown": [
       "#### Rural"
      ],
      "text/plain": [
       "<IPython.core.display.Markdown object>"
      ]
     },
     "metadata": {},
     "output_type": "display_data"
    },
    {
     "name": "stdout",
     "output_type": "stream",
     "text": [
      "--------------\n",
      "politics\n",
      "policy\n",
      "liberal\n",
      "anti\n",
      "government\n",
      "administration\n",
      "republican\n",
      "media\n",
      "potus\n",
      "false\n",
      "--------------\n"
     ]
    },
    {
     "data": {
      "text/markdown": [
       "# calls"
      ],
      "text/plain": [
       "<IPython.core.display.Markdown object>"
      ]
     },
     "metadata": {},
     "output_type": "display_data"
    },
    {
     "data": {
      "text/markdown": [
       "#### Urban"
      ],
      "text/plain": [
       "<IPython.core.display.Markdown object>"
      ]
     },
     "metadata": {},
     "output_type": "display_data"
    },
    {
     "name": "stdout",
     "output_type": "stream",
     "text": [
      "-------\n",
      "asks\n",
      "leaves\n",
      "tries\n",
      "claims\n",
      "puts\n",
      "speaks\n",
      "calling\n",
      "call\n",
      "kills\n",
      "strikes\n",
      "-------\n"
     ]
    },
    {
     "data": {
      "text/markdown": [
       "#### Rural"
      ],
      "text/plain": [
       "<IPython.core.display.Markdown object>"
      ]
     },
     "metadata": {},
     "output_type": "display_data"
    },
    {
     "name": "stdout",
     "output_type": "stream",
     "text": [
      "-------\n",
      "calling\n",
      "tells\n",
      "says\n",
      "puts\n",
      "sent\n",
      "wants\n",
      "call\n",
      "gives\n",
      "asked\n",
      "called\n",
      "-------\n"
     ]
    },
    {
     "data": {
      "text/markdown": [
       "# below"
      ],
      "text/plain": [
       "<IPython.core.display.Markdown object>"
      ]
     },
     "metadata": {},
     "output_type": "display_data"
    },
    {
     "data": {
      "text/markdown": [
       "#### Urban"
      ],
      "text/plain": [
       "<IPython.core.display.Markdown object>"
      ]
     },
     "metadata": {},
     "output_type": "display_data"
    },
    {
     "name": "stdout",
     "output_type": "stream",
     "text": [
      "--------\n",
      "above\n",
      "rates\n",
      "percent\n",
      "link\n",
      "64\n",
      "stock\n",
      "code\n",
      "rate\n",
      "humidity\n",
      "000\n",
      "--------\n"
     ]
    },
    {
     "data": {
      "text/markdown": [
       "#### Rural"
      ],
      "text/plain": [
       "<IPython.core.display.Markdown object>"
      ]
     },
     "metadata": {},
     "output_type": "display_data"
    },
    {
     "name": "stdout",
     "output_type": "stream",
     "text": [
      "-------\n",
      "link\n",
      "details\n",
      "page\n",
      "updated\n",
      "please\n",
      "updates\n",
      "click\n",
      "weekly\n",
      "info\n",
      "rt\n",
      "-------\n"
     ]
    },
    {
     "data": {
      "text/markdown": [
       "# words"
      ],
      "text/plain": [
       "<IPython.core.display.Markdown object>"
      ]
     },
     "metadata": {},
     "output_type": "display_data"
    },
    {
     "data": {
      "text/markdown": [
       "#### Urban"
      ],
      "text/plain": [
       "<IPython.core.display.Markdown object>"
      ]
     },
     "metadata": {},
     "output_type": "display_data"
    },
    {
     "name": "stdout",
     "output_type": "stream",
     "text": [
      "----------\n",
      "actions\n",
      "comments\n",
      "moments\n",
      "opinions\n",
      "things\n",
      "names\n",
      "characters\n",
      "wisdom\n",
      "sec\n",
      "songs\n",
      "----------\n"
     ]
    },
    {
     "data": {
      "text/markdown": [
       "#### Rural"
      ],
      "text/plain": [
       "<IPython.core.display.Markdown object>"
      ]
     },
     "metadata": {},
     "output_type": "display_data"
    },
    {
     "name": "stdout",
     "output_type": "stream",
     "text": [
      "--------\n",
      "opponent\n",
      "tweets\n",
      "ways\n",
      "evil\n",
      "things\n",
      "dreams\n",
      "lies\n",
      "word\n",
      "songs\n",
      "truth\n",
      "--------\n"
     ]
    },
    {
     "data": {
      "text/markdown": [
       "# release"
      ],
      "text/plain": [
       "<IPython.core.display.Markdown object>"
      ]
     },
     "metadata": {},
     "output_type": "display_data"
    },
    {
     "data": {
      "text/markdown": [
       "#### Urban"
      ],
      "text/plain": [
       "<IPython.core.display.Markdown object>"
      ]
     },
     "metadata": {},
     "output_type": "display_data"
    },
    {
     "name": "stdout",
     "output_type": "stream",
     "text": [
      "------------\n",
      "releases\n",
      "released\n",
      "launch\n",
      "returns\n",
      "announcement\n",
      "edition\n",
      "official\n",
      "announce\n",
      "drops\n",
      "announces\n",
      "------------\n"
     ]
    },
    {
     "data": {
      "text/markdown": [
       "#### Rural"
      ],
      "text/plain": [
       "<IPython.core.display.Markdown object>"
      ]
     },
     "metadata": {},
     "output_type": "display_data"
    },
    {
     "name": "stdout",
     "output_type": "stream",
     "text": [
      "--------\n",
      "edition\n",
      "review\n",
      "return\n",
      "cover\n",
      "report\n",
      "update\n",
      "released\n",
      "press\n",
      "pre\n",
      "2018\n",
      "--------\n"
     ]
    },
    {
     "data": {
      "text/markdown": [
       "# without"
      ],
      "text/plain": [
       "<IPython.core.display.Markdown object>"
      ]
     },
     "metadata": {},
     "output_type": "display_data"
    },
    {
     "data": {
      "text/markdown": [
       "#### Urban"
      ],
      "text/plain": [
       "<IPython.core.display.Markdown object>"
      ]
     },
     "metadata": {},
     "output_type": "display_data"
    },
    {
     "name": "stdout",
     "output_type": "stream",
     "text": [
      "-------\n",
      "through\n",
      "prevent\n",
      "after\n",
      "within\n",
      "or\n",
      "besides\n",
      "imagine\n",
      "with\n",
      "afford\n",
      "unless\n",
      "-------\n"
     ]
    },
    {
     "data": {
      "text/markdown": [
       "#### Rural"
      ],
      "text/plain": [
       "<IPython.core.display.Markdown object>"
      ]
     },
     "metadata": {},
     "output_type": "display_data"
    },
    {
     "name": "stdout",
     "output_type": "stream",
     "text": [
      "--------\n",
      "imagine\n",
      "or\n",
      "unless\n",
      "keep\n",
      "worse\n",
      "if\n",
      "anymore\n",
      "anywhere\n",
      "with\n",
      "not\n",
      "--------\n"
     ]
    },
    {
     "data": {
      "text/markdown": [
       "# companies"
      ],
      "text/plain": [
       "<IPython.core.display.Markdown object>"
      ]
     },
     "metadata": {},
     "output_type": "display_data"
    },
    {
     "data": {
      "text/markdown": [
       "#### Urban"
      ],
      "text/plain": [
       "<IPython.core.display.Markdown object>"
      ]
     },
     "metadata": {},
     "output_type": "display_data"
    },
    {
     "name": "stdout",
     "output_type": "stream",
     "text": [
      "-----------\n",
      "businesses\n",
      "startups\n",
      "brands\n",
      "investors\n",
      "millennials\n",
      "employees\n",
      "cities\n",
      "banks\n",
      "leaders\n",
      "markets\n",
      "-----------\n"
     ]
    },
    {
     "data": {
      "text/markdown": [
       "#### Rural"
      ],
      "text/plain": [
       "<IPython.core.display.Markdown object>"
      ]
     },
     "metadata": {},
     "output_type": "display_data"
    },
    {
     "name": "stdout",
     "output_type": "stream",
     "text": [
      "---------\n",
      "systems\n",
      "employees\n",
      "industry\n",
      "data\n",
      "costs\n",
      "projects\n",
      "tech\n",
      "benefits\n",
      "growth\n",
      "leaders\n",
      "---------\n"
     ]
    },
    {
     "data": {
      "text/markdown": [
       "# non"
      ],
      "text/plain": [
       "<IPython.core.display.Markdown object>"
      ]
     },
     "metadata": {},
     "output_type": "display_data"
    },
    {
     "data": {
      "text/markdown": [
       "#### Urban"
      ],
      "text/plain": [
       "<IPython.core.display.Markdown object>"
      ]
     },
     "metadata": {},
     "output_type": "display_data"
    },
    {
     "name": "stdout",
     "output_type": "stream",
     "text": [
      "------------\n",
      "political\n",
      "conservative\n",
      "male\n",
      "violent\n",
      "corporate\n",
      "anti\n",
      "govt\n",
      "profit\n",
      "religious\n",
      "specific\n",
      "------------\n"
     ]
    },
    {
     "data": {
      "text/markdown": [
       "#### Rural"
      ],
      "text/plain": [
       "<IPython.core.display.Markdown object>"
      ]
     },
     "metadata": {},
     "output_type": "display_data"
    },
    {
     "name": "stdout",
     "output_type": "stream",
     "text": [
      "---------\n",
      "legal\n",
      "violence\n",
      "etc\n",
      "anti\n",
      "political\n",
      "pro\n",
      "systems\n",
      "among\n",
      "industry\n",
      "global\n",
      "---------\n"
     ]
    },
    {
     "data": {
      "text/markdown": [
       "# large"
      ],
      "text/plain": [
       "<IPython.core.display.Markdown object>"
      ]
     },
     "metadata": {},
     "output_type": "display_data"
    },
    {
     "data": {
      "text/markdown": [
       "#### Urban"
      ],
      "text/plain": [
       "<IPython.core.display.Markdown object>"
      ]
     },
     "metadata": {},
     "output_type": "display_data"
    },
    {
     "name": "stdout",
     "output_type": "stream",
     "text": [
      "------\n",
      "xl\n",
      "size\n",
      "small\n",
      "medium\n",
      "cap\n",
      "nwt\n",
      "gray\n",
      "mens\n",
      "rare\n",
      "sz\n",
      "------\n"
     ]
    },
    {
     "data": {
      "text/markdown": [
       "#### Rural"
      ],
      "text/plain": [
       "<IPython.core.display.Markdown object>"
      ]
     },
     "metadata": {},
     "output_type": "display_data"
    },
    {
     "name": "stdout",
     "output_type": "stream",
     "text": [
      "-------\n",
      "size\n",
      "small\n",
      "vintage\n",
      "glass\n",
      "rare\n",
      "giant\n",
      "black\n",
      "silver\n",
      "oil\n",
      "tiny\n",
      "-------\n"
     ]
    },
    {
     "data": {
      "text/markdown": [
       "# bruins"
      ],
      "text/plain": [
       "<IPython.core.display.Markdown object>"
      ]
     },
     "metadata": {},
     "output_type": "display_data"
    },
    {
     "data": {
      "text/markdown": [
       "#### Urban"
      ],
      "text/plain": [
       "<IPython.core.display.Markdown object>"
      ]
     },
     "metadata": {},
     "output_type": "display_data"
    },
    {
     "name": "stdout",
     "output_type": "stream",
     "text": [
      "--------\n",
      "celtics\n",
      "hockey\n",
      "bergeron\n",
      "bobby\n",
      "premier\n",
      "patrice\n",
      "yankees\n",
      "stanley\n",
      "marchand\n",
      "topps\n",
      "--------\n"
     ]
    },
    {
     "data": {
      "text/markdown": [
       "#### Rural"
      ],
      "text/plain": [
       "<IPython.core.display.Markdown object>"
      ]
     },
     "metadata": {},
     "output_type": "display_data"
    },
    {
     "name": "stdout",
     "output_type": "stream",
     "text": [
      "--------\n",
      "celtics\n",
      "pats\n",
      "patriots\n",
      "sox\n",
      "warriors\n",
      "playoffs\n",
      "baseball\n",
      "finals\n",
      "nba\n",
      "game\n",
      "--------\n"
     ]
    },
    {
     "data": {
      "text/markdown": [
       "# relationships"
      ],
      "text/plain": [
       "<IPython.core.display.Markdown object>"
      ]
     },
     "metadata": {},
     "output_type": "display_data"
    },
    {
     "data": {
      "text/markdown": [
       "#### Urban"
      ],
      "text/plain": [
       "<IPython.core.display.Markdown object>"
      ]
     },
     "metadata": {},
     "output_type": "display_data"
    },
    {
     "name": "stdout",
     "output_type": "stream",
     "text": [
      "-------------\n",
      "experiences\n",
      "skills\n",
      "communication\n",
      "models\n",
      "workplace\n",
      "challenges\n",
      "conversations\n",
      "relationship\n",
      "goals\n",
      "values\n",
      "-------------\n"
     ]
    },
    {
     "data": {
      "text/markdown": [
       "#### Rural"
      ],
      "text/plain": [
       "<IPython.core.display.Markdown object>"
      ]
     },
     "metadata": {},
     "output_type": "display_data"
    },
    {
     "name": "stdout",
     "output_type": "stream",
     "text": [
      "------------\n",
      "skills\n",
      "professional\n",
      "companies\n",
      "financial\n",
      "solution\n",
      "employees\n",
      "strategy\n",
      "relationship\n",
      "self\n",
      "business\n",
      "------------\n"
     ]
    },
    {
     "data": {
      "text/markdown": [
       "# hurricane"
      ],
      "text/plain": [
       "<IPython.core.display.Markdown object>"
      ]
     },
     "metadata": {},
     "output_type": "display_data"
    },
    {
     "data": {
      "text/markdown": [
       "#### Urban"
      ],
      "text/plain": [
       "<IPython.core.display.Markdown object>"
      ]
     },
     "metadata": {},
     "output_type": "display_data"
    },
    {
     "name": "stdout",
     "output_type": "stream",
     "text": [
      "--------\n",
      "irma\n",
      "harvey\n",
      "houston\n",
      "storm\n",
      "rico\n",
      "florida\n",
      "texas\n",
      "disaster\n",
      "relief\n",
      "recovery\n",
      "--------\n"
     ]
    },
    {
     "data": {
      "text/markdown": [
       "#### Rural"
      ],
      "text/plain": [
       "<IPython.core.display.Markdown object>"
      ]
     },
     "metadata": {},
     "output_type": "display_data"
    },
    {
     "name": "stdout",
     "output_type": "stream",
     "text": [
      "---------\n",
      "texas\n",
      "police\n",
      "residents\n",
      "florida\n",
      "drug\n",
      "rally\n",
      "winter\n",
      "mass\n",
      "dc\n",
      "valley\n",
      "---------\n"
     ]
    },
    {
     "data": {
      "text/markdown": [
       "# stats"
      ],
      "text/plain": [
       "<IPython.core.display.Markdown object>"
      ]
     },
     "metadata": {},
     "output_type": "display_data"
    },
    {
     "data": {
      "text/markdown": [
       "#### Urban"
      ],
      "text/plain": [
       "<IPython.core.display.Markdown object>"
      ]
     },
     "metadata": {},
     "output_type": "display_data"
    },
    {
     "name": "stdout",
     "output_type": "stream",
     "text": [
      "-----------\n",
      "unfollowers\n",
      "followers\n",
      "articles\n",
      "infographic\n",
      "poll\n",
      "links\n",
      "tools\n",
      "mentions\n",
      "features\n",
      "tweets\n",
      "-----------\n"
     ]
    },
    {
     "data": {
      "text/markdown": [
       "#### Rural"
      ],
      "text/plain": [
       "<IPython.core.display.Markdown object>"
      ]
     },
     "metadata": {},
     "output_type": "display_data"
    },
    {
     "name": "stdout",
     "output_type": "stream",
     "text": [
      "---------\n",
      "followers\n",
      "tweets\n",
      "weekly\n",
      "app\n",
      "1\n",
      "twitter\n",
      "brand\n",
      "features\n",
      "blog\n",
      "retweet\n",
      "---------\n"
     ]
    },
    {
     "data": {
      "text/markdown": [
       "# parade"
      ],
      "text/plain": [
       "<IPython.core.display.Markdown object>"
      ]
     },
     "metadata": {},
     "output_type": "display_data"
    },
    {
     "data": {
      "text/markdown": [
       "#### Urban"
      ],
      "text/plain": [
       "<IPython.core.display.Markdown object>"
      ]
     },
     "metadata": {},
     "output_type": "display_data"
    },
    {
     "name": "stdout",
     "output_type": "stream",
     "text": [
      "------------\n",
      "celebration\n",
      "rally\n",
      "memorial\n",
      "stadium\n",
      "inauguration\n",
      "atlanta\n",
      "fenway\n",
      "anthem\n",
      "sunset\n",
      "protests\n",
      "------------\n"
     ]
    },
    {
     "data": {
      "text/markdown": [
       "#### Rural"
      ],
      "text/plain": [
       "<IPython.core.display.Markdown object>"
      ]
     },
     "metadata": {},
     "output_type": "display_data"
    },
    {
     "name": "stdout",
     "output_type": "stream",
     "text": [
      "----------\n",
      "memorial\n",
      "patrick\n",
      "rally\n",
      "boston\n",
      "holiday\n",
      "festival\n",
      "tournament\n",
      "beach\n",
      "park\n",
      "church\n",
      "----------\n"
     ]
    },
    {
     "data": {
      "text/markdown": [
       "# speak"
      ],
      "text/plain": [
       "<IPython.core.display.Markdown object>"
      ]
     },
     "metadata": {},
     "output_type": "display_data"
    },
    {
     "data": {
      "text/markdown": [
       "#### Urban"
      ],
      "text/plain": [
       "<IPython.core.display.Markdown object>"
      ]
     },
     "metadata": {},
     "output_type": "display_data"
    },
    {
     "name": "stdout",
     "output_type": "stream",
     "text": [
      "---------\n",
      "speaking\n",
      "stand\n",
      "talk\n",
      "spoke\n",
      "speaks\n",
      "apologize\n",
      "defend\n",
      "accept\n",
      "recognize\n",
      "argue\n",
      "---------\n"
     ]
    },
    {
     "data": {
      "text/markdown": [
       "#### Rural"
      ],
      "text/plain": [
       "<IPython.core.display.Markdown object>"
      ]
     },
     "metadata": {},
     "output_type": "display_data"
    },
    {
     "name": "stdout",
     "output_type": "stream",
     "text": [
      "--------\n",
      "speaking\n",
      "talk\n",
      "stand\n",
      "teach\n",
      "write\n",
      "blame\n",
      "claim\n",
      "trust\n",
      "ask\n",
      "hear\n",
      "--------\n"
     ]
    },
    {
     "data": {
      "text/markdown": [
       "# consumer"
      ],
      "text/plain": [
       "<IPython.core.display.Markdown object>"
      ]
     },
     "metadata": {},
     "output_type": "display_data"
    },
    {
     "data": {
      "text/markdown": [
       "#### Urban"
      ],
      "text/plain": [
       "<IPython.core.display.Markdown object>"
      ]
     },
     "metadata": {},
     "output_type": "display_data"
    },
    {
     "name": "stdout",
     "output_type": "stream",
     "text": [
      "----------\n",
      "repair\n",
      "markets\n",
      "revenue\n",
      "growth\n",
      "market\n",
      "global\n",
      "corporate\n",
      "operations\n",
      "management\n",
      "supply\n",
      "----------\n"
     ]
    },
    {
     "data": {
      "text/markdown": [
       "#### Rural"
      ],
      "text/plain": [
       "<IPython.core.display.Markdown object>"
      ]
     },
     "metadata": {},
     "output_type": "display_data"
    },
    {
     "name": "stdout",
     "output_type": "stream",
     "text": [
      "-------------\n",
      "counseling\n",
      "uk\n",
      "usa\n",
      "credit\n",
      "ca\n",
      "dc\n",
      "land\n",
      "massachusetts\n",
      "valley\n",
      "services\n",
      "-------------\n"
     ]
    },
    {
     "data": {
      "text/markdown": [
       "# military"
      ],
      "text/plain": [
       "<IPython.core.display.Markdown object>"
      ]
     },
     "metadata": {},
     "output_type": "display_data"
    },
    {
     "data": {
      "text/markdown": [
       "#### Urban"
      ],
      "text/plain": [
       "<IPython.core.display.Markdown object>"
      ]
     },
     "metadata": {},
     "output_type": "display_data"
    },
    {
     "name": "stdout",
     "output_type": "stream",
     "text": [
      "-----------\n",
      "government\n",
      "govt\n",
      "immigration\n",
      "israel\n",
      "syria\n",
      "foreign\n",
      "refugees\n",
      "muslim\n",
      "army\n",
      "isis\n",
      "-----------\n"
     ]
    },
    {
     "data": {
      "text/markdown": [
       "#### Rural"
      ],
      "text/plain": [
       "<IPython.core.display.Markdown object>"
      ]
     },
     "metadata": {},
     "output_type": "display_data"
    },
    {
     "name": "stdout",
     "output_type": "stream",
     "text": [
      "--------------\n",
      "government\n",
      "russian\n",
      "rights\n",
      "violence\n",
      "policy\n",
      "russia\n",
      "muslim\n",
      "nation\n",
      "administration\n",
      "wh\n",
      "--------------\n"
     ]
    },
    {
     "data": {
      "text/markdown": [
       "# na"
      ],
      "text/plain": [
       "<IPython.core.display.Markdown object>"
      ]
     },
     "metadata": {},
     "output_type": "display_data"
    },
    {
     "data": {
      "text/markdown": [
       "#### Urban"
      ],
      "text/plain": [
       "<IPython.core.display.Markdown object>"
      ]
     },
     "metadata": {},
     "output_type": "display_data"
    },
    {
     "name": "stdout",
     "output_type": "stream",
     "text": [
      "----\n",
      "di\n",
      "sa\n",
      "ko\n",
      "ni\n",
      "se\n",
      "ta\n",
      "da\n",
      "pa\n",
      "si\n",
      "como\n",
      "----\n"
     ]
    },
    {
     "data": {
      "text/markdown": [
       "#### Rural"
      ],
      "text/plain": [
       "<IPython.core.display.Markdown object>"
      ]
     },
     "metadata": {},
     "output_type": "display_data"
    },
    {
     "name": "stdout",
     "output_type": "stream",
     "text": [
      "----\n",
      "para\n",
      "por\n",
      "te\n",
      "que\n",
      "um\n",
      "da\n",
      "eu\n",
      "de\n",
      "se\n",
      "en\n",
      "----\n"
     ]
    },
    {
     "data": {
      "text/markdown": [
       "# signs"
      ],
      "text/plain": [
       "<IPython.core.display.Markdown object>"
      ]
     },
     "metadata": {},
     "output_type": "display_data"
    },
    {
     "data": {
      "text/markdown": [
       "#### Urban"
      ],
      "text/plain": [
       "<IPython.core.display.Markdown object>"
      ]
     },
     "metadata": {},
     "output_type": "display_data"
    },
    {
     "name": "stdout",
     "output_type": "stream",
     "text": [
      "-------\n",
      "cases\n",
      "sources\n",
      "steps\n",
      "reports\n",
      "secrets\n",
      "spots\n",
      "orders\n",
      "types\n",
      "ways\n",
      "reasons\n",
      "-------\n"
     ]
    },
    {
     "data": {
      "text/markdown": [
       "#### Rural"
      ],
      "text/plain": [
       "<IPython.core.display.Markdown object>"
      ]
     },
     "metadata": {},
     "output_type": "display_data"
    },
    {
     "name": "stdout",
     "output_type": "stream",
     "text": [
      "---------\n",
      "ways\n",
      "hidden\n",
      "reasons\n",
      "common\n",
      "questions\n",
      "benefits\n",
      "rules\n",
      "things\n",
      "words\n",
      "disease\n",
      "---------\n"
     ]
    },
    {
     "data": {
      "text/markdown": [
       "# tax"
      ],
      "text/plain": [
       "<IPython.core.display.Markdown object>"
      ]
     },
     "metadata": {},
     "output_type": "display_data"
    },
    {
     "data": {
      "text/markdown": [
       "#### Urban"
      ],
      "text/plain": [
       "<IPython.core.display.Markdown object>"
      ]
     },
     "metadata": {},
     "output_type": "display_data"
    },
    {
     "name": "stdout",
     "output_type": "stream",
     "text": [
      "---------\n",
      "taxes\n",
      "budget\n",
      "income\n",
      "debt\n",
      "aca\n",
      "obamacare\n",
      "funds\n",
      "funding\n",
      "bills\n",
      "govt\n",
      "---------\n"
     ]
    },
    {
     "data": {
      "text/markdown": [
       "#### Rural"
      ],
      "text/plain": [
       "<IPython.core.display.Markdown object>"
      ]
     },
     "metadata": {},
     "output_type": "display_data"
    },
    {
     "name": "stdout",
     "output_type": "stream",
     "text": [
      "----------\n",
      "taxes\n",
      "budget\n",
      "federal\n",
      "healthcare\n",
      "plan\n",
      "government\n",
      "insurance\n",
      "costs\n",
      "bill\n",
      "congress\n",
      "----------\n"
     ]
    },
    {
     "data": {
      "text/markdown": [
       "# sold"
      ],
      "text/plain": [
       "<IPython.core.display.Markdown object>"
      ]
     },
     "metadata": {},
     "output_type": "display_data"
    },
    {
     "data": {
      "text/markdown": [
       "#### Urban"
      ],
      "text/plain": [
       "<IPython.core.display.Markdown object>"
      ]
     },
     "metadata": {},
     "output_type": "display_data"
    },
    {
     "name": "stdout",
     "output_type": "stream",
     "text": [
      "--------\n",
      "kicked\n",
      "pulled\n",
      "checking\n",
      "turns\n",
      "hanging\n",
      "selling\n",
      "figured\n",
      "bought\n",
      "check\n",
      "turned\n",
      "--------\n"
     ]
    },
    {
     "data": {
      "text/markdown": [
       "#### Rural"
      ],
      "text/plain": [
       "<IPython.core.display.Markdown object>"
      ]
     },
     "metadata": {},
     "output_type": "display_data"
    },
    {
     "name": "stdout",
     "output_type": "stream",
     "text": [
      "--------\n",
      "rd\n",
      "found\n",
      "unit\n",
      "turns\n",
      "bought\n",
      "listed\n",
      "passed\n",
      "ran\n",
      "ave\n",
      "property\n",
      "--------\n"
     ]
    },
    {
     "data": {
      "text/markdown": [
       "# recent"
      ],
      "text/plain": [
       "<IPython.core.display.Markdown object>"
      ]
     },
     "metadata": {},
     "output_type": "display_data"
    },
    {
     "data": {
      "text/markdown": [
       "#### Urban"
      ],
      "text/plain": [
       "<IPython.core.display.Markdown object>"
      ]
     },
     "metadata": {},
     "output_type": "display_data"
    },
    {
     "name": "stdout",
     "output_type": "stream",
     "text": [
      "------------\n",
      "upcoming\n",
      "shared\n",
      "blog\n",
      "pleasure\n",
      "potential\n",
      "presentation\n",
      "icymi\n",
      "section\n",
      "insight\n",
      "clients\n",
      "------------\n"
     ]
    },
    {
     "data": {
      "text/markdown": [
       "#### Rural"
      ],
      "text/plain": [
       "<IPython.core.display.Markdown object>"
      ]
     },
     "metadata": {},
     "output_type": "display_data"
    },
    {
     "name": "stdout",
     "output_type": "stream",
     "text": [
      "---------\n",
      "latest\n",
      "updates\n",
      "industry\n",
      "upcoming\n",
      "weekly\n",
      "blog\n",
      "page\n",
      "potential\n",
      "major\n",
      "2016\n",
      "---------\n"
     ]
    },
    {
     "data": {
      "text/markdown": [
       "# test"
      ],
      "text/plain": [
       "<IPython.core.display.Markdown object>"
      ]
     },
     "metadata": {},
     "output_type": "display_data"
    },
    {
     "data": {
      "text/markdown": [
       "#### Urban"
      ],
      "text/plain": [
       "<IPython.core.display.Markdown object>"
      ]
     },
     "metadata": {},
     "output_type": "display_data"
    },
    {
     "name": "stdout",
     "output_type": "stream",
     "text": [
      "----------\n",
      "study\n",
      "testing\n",
      "reduce\n",
      "develop\n",
      "smartphone\n",
      "survey\n",
      "drug\n",
      "approach\n",
      "improve\n",
      "device\n",
      "----------\n"
     ]
    },
    {
     "data": {
      "text/markdown": [
       "#### Rural"
      ],
      "text/plain": [
       "<IPython.core.display.Markdown object>"
      ]
     },
     "metadata": {},
     "output_type": "display_data"
    },
    {
     "name": "stdout",
     "output_type": "stream",
     "text": [
      "--------\n",
      "improve\n",
      "workout\n",
      "system\n",
      "platform\n",
      "increase\n",
      "vehicle\n",
      "study\n",
      "mobile\n",
      "effect\n",
      "software\n",
      "--------\n"
     ]
    },
    {
     "data": {
      "text/markdown": [
       "# fan"
      ],
      "text/plain": [
       "<IPython.core.display.Markdown object>"
      ]
     },
     "metadata": {},
     "output_type": "display_data"
    },
    {
     "data": {
      "text/markdown": [
       "#### Urban"
      ],
      "text/plain": [
       "<IPython.core.display.Markdown object>"
      ]
     },
     "metadata": {},
     "output_type": "display_data"
    },
    {
     "name": "stdout",
     "output_type": "stream",
     "text": [
      "--------\n",
      "loser\n",
      "fans\n",
      "legend\n",
      "troll\n",
      "joke\n",
      "player\n",
      "hero\n",
      "comeback\n",
      "jealous\n",
      "starter\n",
      "--------\n"
     ]
    },
    {
     "data": {
      "text/markdown": [
       "#### Rural"
      ],
      "text/plain": [
       "<IPython.core.display.Markdown object>"
      ]
     },
     "metadata": {},
     "output_type": "display_data"
    },
    {
     "name": "stdout",
     "output_type": "stream",
     "text": [
      "---------\n",
      "player\n",
      "fans\n",
      "hero\n",
      "character\n",
      "joke\n",
      "goat\n",
      "proud\n",
      "bit\n",
      "liar\n",
      "afraid\n",
      "---------\n"
     ]
    },
    {
     "data": {
      "text/markdown": [
       "# due"
      ],
      "text/plain": [
       "<IPython.core.display.Markdown object>"
      ]
     },
     "metadata": {},
     "output_type": "display_data"
    },
    {
     "data": {
      "text/markdown": [
       "#### Urban"
      ],
      "text/plain": [
       "<IPython.core.display.Markdown object>"
      ]
     },
     "metadata": {},
     "output_type": "display_data"
    },
    {
     "name": "stdout",
     "output_type": "stream",
     "text": [
      "---------\n",
      "delays\n",
      "delay\n",
      "according\n",
      "cancelled\n",
      "compared\n",
      "worcester\n",
      "related\n",
      "expected\n",
      "despite\n",
      "required\n",
      "---------\n"
     ]
    },
    {
     "data": {
      "text/markdown": [
       "#### Rural"
      ],
      "text/plain": [
       "<IPython.core.display.Markdown object>"
      ]
     },
     "metadata": {},
     "output_type": "display_data"
    },
    {
     "name": "stdout",
     "output_type": "stream",
     "text": [
      "---------\n",
      "closed\n",
      "expected\n",
      "according\n",
      "related\n",
      "starting\n",
      "continues\n",
      "schedule\n",
      "forecast\n",
      "update\n",
      "held\n",
      "---------\n"
     ]
    },
    {
     "data": {
      "text/markdown": [
       "# created"
      ],
      "text/plain": [
       "<IPython.core.display.Markdown object>"
      ]
     },
     "metadata": {},
     "output_type": "display_data"
    },
    {
     "data": {
      "text/markdown": [
       "#### Urban"
      ],
      "text/plain": [
       "<IPython.core.display.Markdown object>"
      ]
     },
     "metadata": {},
     "output_type": "display_data"
    },
    {
     "name": "stdout",
     "output_type": "stream",
     "text": [
      "--------\n",
      "built\n",
      "designed\n",
      "shared\n",
      "owned\n",
      "saved\n",
      "given\n",
      "joined\n",
      "written\n",
      "raised\n",
      "led\n",
      "--------\n"
     ]
    },
    {
     "data": {
      "text/markdown": [
       "#### Rural"
      ],
      "text/plain": [
       "<IPython.core.display.Markdown object>"
      ]
     },
     "metadata": {},
     "output_type": "display_data"
    },
    {
     "name": "stdout",
     "output_type": "stream",
     "text": [
      "--------\n",
      "built\n",
      "helped\n",
      "creating\n",
      "made\n",
      "received\n",
      "learned\n",
      "brought\n",
      "met\n",
      "american\n",
      "known\n",
      "--------\n"
     ]
    },
    {
     "data": {
      "text/markdown": [
       "# spot"
      ],
      "text/plain": [
       "<IPython.core.display.Markdown object>"
      ]
     },
     "metadata": {},
     "output_type": "display_data"
    },
    {
     "data": {
      "text/markdown": [
       "#### Urban"
      ],
      "text/plain": [
       "<IPython.core.display.Markdown object>"
      ]
     },
     "metadata": {},
     "output_type": "display_data"
    },
    {
     "name": "stdout",
     "output_type": "stream",
     "text": [
      "------\n",
      "plate\n",
      "boat\n",
      "match\n",
      "screen\n",
      "place\n",
      "spots\n",
      "plane\n",
      "shot\n",
      "bench\n",
      "pitch\n",
      "------\n"
     ]
    },
    {
     "data": {
      "text/markdown": [
       "#### Rural"
      ],
      "text/plain": [
       "<IPython.core.display.Markdown object>"
      ]
     },
     "metadata": {},
     "output_type": "display_data"
    },
    {
     "name": "stdout",
     "output_type": "stream",
     "text": [
      "-------\n",
      "bag\n",
      "place\n",
      "shot\n",
      "seat\n",
      "store\n",
      "hand\n",
      "line\n",
      "kitchen\n",
      "car\n",
      "ride\n",
      "-------\n"
     ]
    },
    {
     "data": {
      "text/markdown": [
       "# millions"
      ],
      "text/plain": [
       "<IPython.core.display.Markdown object>"
      ]
     },
     "metadata": {},
     "output_type": "display_data"
    },
    {
     "data": {
      "text/markdown": [
       "#### Urban"
      ],
      "text/plain": [
       "<IPython.core.display.Markdown object>"
      ]
     },
     "metadata": {},
     "output_type": "display_data"
    },
    {
     "name": "stdout",
     "output_type": "stream",
     "text": [
      "----------\n",
      "thousands\n",
      "majority\n",
      "dollars\n",
      "healthcare\n",
      "obamacare\n",
      "victims\n",
      "government\n",
      "funds\n",
      "immigrants\n",
      "govt\n",
      "----------\n"
     ]
    },
    {
     "data": {
      "text/markdown": [
       "#### Rural"
      ],
      "text/plain": [
       "<IPython.core.display.Markdown object>"
      ]
     },
     "metadata": {},
     "output_type": "display_data"
    },
    {
     "name": "stdout",
     "output_type": "stream",
     "text": [
      "----------\n",
      "healthcare\n",
      "americans\n",
      "lack\n",
      "themselves\n",
      "congress\n",
      "gop\n",
      "government\n",
      "rights\n",
      "military\n",
      "coverage\n",
      "----------\n"
     ]
    },
    {
     "data": {
      "text/markdown": [
       "# cash"
      ],
      "text/plain": [
       "<IPython.core.display.Markdown object>"
      ]
     },
     "metadata": {},
     "output_type": "display_data"
    },
    {
     "data": {
      "text/markdown": [
       "#### Urban"
      ],
      "text/plain": [
       "<IPython.core.display.Markdown object>"
      ]
     },
     "metadata": {},
     "output_type": "display_data"
    },
    {
     "name": "stdout",
     "output_type": "stream",
     "text": [
      "--------\n",
      "money\n",
      "dollars\n",
      "shipping\n",
      "earn\n",
      "funds\n",
      "bills\n",
      "debt\n",
      "prices\n",
      "stores\n",
      "500\n",
      "--------\n"
     ]
    },
    {
     "data": {
      "text/markdown": [
       "#### Rural"
      ],
      "text/plain": [
       "<IPython.core.display.Markdown object>"
      ]
     },
     "metadata": {},
     "output_type": "display_data"
    },
    {
     "name": "stdout",
     "output_type": "stream",
     "text": [
      "--------\n",
      "money\n",
      "code\n",
      "amazon\n",
      "card\n",
      "cars\n",
      "earn\n",
      "store\n",
      "purchase\n",
      "500\n",
      "switch\n",
      "--------\n"
     ]
    },
    {
     "data": {
      "text/markdown": [
       "# cards"
      ],
      "text/plain": [
       "<IPython.core.display.Markdown object>"
      ]
     },
     "metadata": {},
     "output_type": "display_data"
    },
    {
     "data": {
      "text/markdown": [
       "#### Urban"
      ],
      "text/plain": [
       "<IPython.core.display.Markdown object>"
      ]
     },
     "metadata": {},
     "output_type": "display_data"
    },
    {
     "name": "stdout",
     "output_type": "stream",
     "text": [
      "-------\n",
      "card\n",
      "items\n",
      "mint\n",
      "topps\n",
      "rc\n",
      "owners\n",
      "kings\n",
      "pack\n",
      "garnett\n",
      "pages\n",
      "-------\n"
     ]
    },
    {
     "data": {
      "text/markdown": [
       "#### Rural"
      ],
      "text/plain": [
       "<IPython.core.display.Markdown object>"
      ]
     },
     "metadata": {},
     "output_type": "display_data"
    },
    {
     "name": "stdout",
     "output_type": "stream",
     "text": [
      "--------\n",
      "card\n",
      "purchase\n",
      "products\n",
      "custom\n",
      "pre\n",
      "items\n",
      "amazon\n",
      "online\n",
      "mini\n",
      "books\n",
      "--------\n"
     ]
    },
    {
     "data": {
      "text/markdown": [
       "# animal"
      ],
      "text/plain": [
       "<IPython.core.display.Markdown object>"
      ]
     },
     "metadata": {},
     "output_type": "display_data"
    },
    {
     "data": {
      "text/markdown": [
       "#### Urban"
      ],
      "text/plain": [
       "<IPython.core.display.Markdown object>"
      ]
     },
     "metadata": {},
     "output_type": "display_data"
    },
    {
     "name": "stdout",
     "output_type": "stream",
     "text": [
      "-------\n",
      "plastic\n",
      "child\n",
      "angel\n",
      "eye\n",
      "human\n",
      "image\n",
      "indian\n",
      "animals\n",
      "empty\n",
      "emoji\n",
      "-------\n"
     ]
    },
    {
     "data": {
      "text/markdown": [
       "#### Rural"
      ],
      "text/plain": [
       "<IPython.core.display.Markdown object>"
      ]
     },
     "metadata": {},
     "output_type": "display_data"
    },
    {
     "name": "stdout",
     "output_type": "stream",
     "text": [
      "--------\n",
      "image\n",
      "dog\n",
      "artist\n",
      "form\n",
      "pet\n",
      "hospital\n",
      "child\n",
      "cat\n",
      "expert\n",
      "museum\n",
      "--------\n"
     ]
    },
    {
     "data": {
      "text/markdown": [
       "# death"
      ],
      "text/plain": [
       "<IPython.core.display.Markdown object>"
      ]
     },
     "metadata": {},
     "output_type": "display_data"
    },
    {
     "data": {
      "text/markdown": [
       "#### Urban"
      ],
      "text/plain": [
       "<IPython.core.display.Markdown object>"
      ]
     },
     "metadata": {},
     "output_type": "display_data"
    },
    {
     "name": "stdout",
     "output_type": "stream",
     "text": [
      "---------\n",
      "suicide\n",
      "murder\n",
      "rape\n",
      "victim\n",
      "prison\n",
      "arrest\n",
      "father\n",
      "hernandez\n",
      "abuse\n",
      "accused\n",
      "---------\n"
     ]
    },
    {
     "data": {
      "text/markdown": [
       "#### Rural"
      ],
      "text/plain": [
       "<IPython.core.display.Markdown object>"
      ]
     },
     "metadata": {},
     "output_type": "display_data"
    },
    {
     "name": "stdout",
     "output_type": "stream",
     "text": [
      "--------\n",
      "murder\n",
      "killed\n",
      "jail\n",
      "arrested\n",
      "judge\n",
      "charge\n",
      "prison\n",
      "muslim\n",
      "attack\n",
      "dies\n",
      "--------\n"
     ]
    },
    {
     "data": {
      "text/markdown": [
       "# judge"
      ],
      "text/plain": [
       "<IPython.core.display.Markdown object>"
      ]
     },
     "metadata": {},
     "output_type": "display_data"
    },
    {
     "data": {
      "text/markdown": [
       "#### Urban"
      ],
      "text/plain": [
       "<IPython.core.display.Markdown object>"
      ]
     },
     "metadata": {},
     "output_type": "display_data"
    },
    {
     "name": "stdout",
     "output_type": "stream",
     "text": [
      "---------\n",
      "hernandez\n",
      "court\n",
      "arrest\n",
      "murder\n",
      "attorney\n",
      "moore\n",
      "lawyer\n",
      "law\n",
      "suicide\n",
      "charges\n",
      "---------\n"
     ]
    },
    {
     "data": {
      "text/markdown": [
       "#### Rural"
      ],
      "text/plain": [
       "<IPython.core.display.Markdown object>"
      ]
     },
     "metadata": {},
     "output_type": "display_data"
    },
    {
     "name": "stdout",
     "output_type": "stream",
     "text": [
      "-------\n",
      "claim\n",
      "rule\n",
      "lie\n",
      "muslim\n",
      "notice\n",
      "protest\n",
      "illegal\n",
      "murder\n",
      "court\n",
      "blame\n",
      "-------\n"
     ]
    },
    {
     "data": {
      "text/markdown": [
       "# fitness"
      ],
      "text/plain": [
       "<IPython.core.display.Markdown object>"
      ]
     },
     "metadata": {},
     "output_type": "display_data"
    },
    {
     "data": {
      "text/markdown": [
       "#### Urban"
      ],
      "text/plain": [
       "<IPython.core.display.Markdown object>"
      ]
     },
     "metadata": {},
     "output_type": "display_data"
    },
    {
     "name": "stdout",
     "output_type": "stream",
     "text": [
      "---------\n",
      "yoga\n",
      "exercise\n",
      "workout\n",
      "training\n",
      "gear\n",
      "balance\n",
      "armour\n",
      "batteries\n",
      "therapy\n",
      "prep\n",
      "---------\n"
     ]
    },
    {
     "data": {
      "text/markdown": [
       "#### Rural"
      ],
      "text/plain": [
       "<IPython.core.display.Markdown object>"
      ]
     },
     "metadata": {},
     "output_type": "display_data"
    },
    {
     "name": "stdout",
     "output_type": "stream",
     "text": [
      "----------\n",
      "training\n",
      "wellness\n",
      "yoga\n",
      "programs\n",
      "services\n",
      "youth\n",
      "program\n",
      "design\n",
      "center\n",
      "technology\n",
      "----------\n"
     ]
    },
    {
     "data": {
      "text/markdown": [
       "# reminder"
      ],
      "text/plain": [
       "<IPython.core.display.Markdown object>"
      ]
     },
     "metadata": {},
     "output_type": "display_data"
    },
    {
     "data": {
      "text/markdown": [
       "#### Urban"
      ],
      "text/plain": [
       "<IPython.core.display.Markdown object>"
      ]
     },
     "metadata": {},
     "output_type": "display_data"
    },
    {
     "name": "stdout",
     "output_type": "stream",
     "text": [
      "--------\n",
      "question\n",
      "idea\n",
      "example\n",
      "message\n",
      "tip\n",
      "quote\n",
      "solution\n",
      "issue\n",
      "response\n",
      "reason\n",
      "--------\n"
     ]
    },
    {
     "data": {
      "text/markdown": [
       "#### Rural"
      ],
      "text/plain": [
       "<IPython.core.display.Markdown object>"
      ]
     },
     "metadata": {},
     "output_type": "display_data"
    },
    {
     "name": "stdout",
     "output_type": "stream",
     "text": [
      "----------\n",
      "meeting\n",
      "event\n",
      "holiday\n",
      "evening\n",
      "discussion\n",
      "issue\n",
      "calendar\n",
      "specials\n",
      "class\n",
      "note\n",
      "----------\n"
     ]
    },
    {
     "data": {
      "text/markdown": [
       "# register"
      ],
      "text/plain": [
       "<IPython.core.display.Markdown object>"
      ]
     },
     "metadata": {},
     "output_type": "display_data"
    },
    {
     "data": {
      "text/markdown": [
       "#### Urban"
      ],
      "text/plain": [
       "<IPython.core.display.Markdown object>"
      ]
     },
     "metadata": {},
     "output_type": "display_data"
    },
    {
     "name": "stdout",
     "output_type": "stream",
     "text": [
      "--------\n",
      "workshop\n",
      "webinar\n",
      "enter\n",
      "submit\n",
      "join\n",
      "summit\n",
      "forum\n",
      "1pm\n",
      "6pm\n",
      "session\n",
      "--------\n"
     ]
    },
    {
     "data": {
      "text/markdown": [
       "#### Rural"
      ],
      "text/plain": [
       "<IPython.core.display.Markdown object>"
      ]
     },
     "metadata": {},
     "output_type": "display_data"
    },
    {
     "name": "stdout",
     "output_type": "stream",
     "text": [
      "---------\n",
      "available\n",
      "enter\n",
      "begins\n",
      "join\n",
      "event\n",
      "session\n",
      "june\n",
      "7pm\n",
      "april\n",
      "starts\n",
      "---------\n"
     ]
    },
    {
     "data": {
      "text/markdown": [
       "# claim"
      ],
      "text/plain": [
       "<IPython.core.display.Markdown object>"
      ]
     },
     "metadata": {},
     "output_type": "display_data"
    },
    {
     "data": {
      "text/markdown": [
       "#### Urban"
      ],
      "text/plain": [
       "<IPython.core.display.Markdown object>"
      ]
     },
     "metadata": {},
     "output_type": "display_data"
    },
    {
     "name": "stdout",
     "output_type": "stream",
     "text": [
      "---------\n",
      "claims\n",
      "accept\n",
      "defend\n",
      "recognize\n",
      "lie\n",
      "assume\n",
      "destroy\n",
      "fraud\n",
      "false\n",
      "blame\n",
      "---------\n"
     ]
    },
    {
     "data": {
      "text/markdown": [
       "#### Rural"
      ],
      "text/plain": [
       "<IPython.core.display.Markdown object>"
      ]
     },
     "metadata": {},
     "output_type": "display_data"
    },
    {
     "name": "stdout",
     "output_type": "stream",
     "text": [
      "----------\n",
      "judge\n",
      "fail\n",
      "lie\n",
      "blame\n",
      "protect\n",
      "government\n",
      "false\n",
      "pay\n",
      "rule\n",
      "illegal\n",
      "----------\n"
     ]
    },
    {
     "data": {
      "text/markdown": [
       "# collection"
      ],
      "text/plain": [
       "<IPython.core.display.Markdown object>"
      ]
     },
     "metadata": {},
     "output_type": "display_data"
    },
    {
     "data": {
      "text/markdown": [
       "#### Urban"
      ],
      "text/plain": [
       "<IPython.core.display.Markdown object>"
      ]
     },
     "metadata": {},
     "output_type": "display_data"
    },
    {
     "name": "stdout",
     "output_type": "stream",
     "text": [
      "------------\n",
      "edition\n",
      "novel\n",
      "poster\n",
      "print\n",
      "display\n",
      "style\n",
      "visual\n",
      "book\n",
      "presentation\n",
      "logo\n",
      "------------\n"
     ]
    },
    {
     "data": {
      "text/markdown": [
       "#### Rural"
      ],
      "text/plain": [
       "<IPython.core.display.Markdown object>"
      ]
     },
     "metadata": {},
     "output_type": "display_data"
    },
    {
     "name": "stdout",
     "output_type": "stream",
     "text": [
      "--------\n",
      "edition\n",
      "review\n",
      "art\n",
      "design\n",
      "mini\n",
      "products\n",
      "menu\n",
      "product\n",
      "book\n",
      "film\n",
      "--------\n"
     ]
    },
    {
     "data": {
      "text/markdown": [
       "# notes"
      ],
      "text/plain": [
       "<IPython.core.display.Markdown object>"
      ]
     },
     "metadata": {},
     "output_type": "display_data"
    },
    {
     "data": {
      "text/markdown": [
       "#### Urban"
      ],
      "text/plain": [
       "<IPython.core.display.Markdown object>"
      ]
     },
     "metadata": {},
     "output_type": "display_data"
    },
    {
     "name": "stdout",
     "output_type": "stream",
     "text": [
      "------------\n",
      "classes\n",
      "highlights\n",
      "articles\n",
      "action\n",
      "insights\n",
      "presentation\n",
      "reviews\n",
      "photos\n",
      "blog\n",
      "survey\n",
      "------------\n"
     ]
    },
    {
     "data": {
      "text/markdown": [
       "#### Rural"
      ],
      "text/plain": [
       "<IPython.core.display.Markdown object>"
      ]
     },
     "metadata": {},
     "output_type": "display_data"
    },
    {
     "name": "stdout",
     "output_type": "stream",
     "text": [
      "--------\n",
      "cc\n",
      "shots\n",
      "updates\n",
      "action\n",
      "blog\n",
      "review\n",
      "projects\n",
      "sports\n",
      "photos\n",
      "final\n",
      "--------\n"
     ]
    },
    {
     "data": {
      "text/markdown": [
       "# cover"
      ],
      "text/plain": [
       "<IPython.core.display.Markdown object>"
      ]
     },
     "metadata": {},
     "output_type": "display_data"
    },
    {
     "data": {
      "text/markdown": [
       "#### Urban"
      ],
      "text/plain": [
       "<IPython.core.display.Markdown object>"
      ]
     },
     "metadata": {},
     "output_type": "display_data"
    },
    {
     "name": "stdout",
     "output_type": "stream",
     "text": [
      "-------\n",
      "pop\n",
      "set\n",
      "blow\n",
      "release\n",
      "tone\n",
      "wrap\n",
      "tie\n",
      "include\n",
      "drop\n",
      "add\n",
      "-------\n"
     ]
    },
    {
     "data": {
      "text/markdown": [
       "#### Rural"
      ],
      "text/plain": [
       "<IPython.core.display.Markdown object>"
      ]
     },
     "metadata": {},
     "output_type": "display_data"
    },
    {
     "name": "stdout",
     "output_type": "stream",
     "text": [
      "----------\n",
      "release\n",
      "pop\n",
      "write\n",
      "original\n",
      "review\n",
      "add\n",
      "form\n",
      "version\n",
      "dan\n",
      "collection\n",
      "----------\n"
     ]
    },
    {
     "data": {
      "text/markdown": [
       "# offers"
      ],
      "text/plain": [
       "<IPython.core.display.Markdown object>"
      ]
     },
     "metadata": {},
     "output_type": "display_data"
    },
    {
     "data": {
      "text/markdown": [
       "#### Urban"
      ],
      "text/plain": [
       "<IPython.core.display.Markdown object>"
      ]
     },
     "metadata": {},
     "output_type": "display_data"
    },
    {
     "name": "stdout",
     "output_type": "stream",
     "text": [
      "-----------\n",
      "launches\n",
      "adds\n",
      "offering\n",
      "includes\n",
      "raises\n",
      "advanced\n",
      "development\n",
      "leads\n",
      "offer\n",
      "finds\n",
      "-----------\n"
     ]
    },
    {
     "data": {
      "text/markdown": [
       "#### Rural"
      ],
      "text/plain": [
       "<IPython.core.display.Markdown object>"
      ]
     },
     "metadata": {},
     "output_type": "display_data"
    },
    {
     "name": "stdout",
     "output_type": "stream",
     "text": [
      "-------------\n",
      "services\n",
      "development\n",
      "programs\n",
      "projects\n",
      "design\n",
      "including\n",
      "guide\n",
      "systems\n",
      "opportunities\n",
      "education\n",
      "-------------\n"
     ]
    },
    {
     "data": {
      "text/markdown": [
       "# af"
      ],
      "text/plain": [
       "<IPython.core.display.Markdown object>"
      ]
     },
     "metadata": {},
     "output_type": "display_data"
    },
    {
     "data": {
      "text/markdown": [
       "#### Urban"
      ],
      "text/plain": [
       "<IPython.core.display.Markdown object>"
      ]
     },
     "metadata": {},
     "output_type": "display_data"
    },
    {
     "name": "stdout",
     "output_type": "stream",
     "text": [
      "---------\n",
      "soooo\n",
      "sooo\n",
      "kinda\n",
      "wicked\n",
      "shits\n",
      "extremely\n",
      "lmaoo\n",
      "lmaoooo\n",
      "lmfaooo\n",
      "lmao\n",
      "---------\n"
     ]
    },
    {
     "data": {
      "text/markdown": [
       "#### Rural"
      ],
      "text/plain": [
       "<IPython.core.display.Markdown object>"
      ]
     },
     "metadata": {},
     "output_type": "display_data"
    },
    {
     "name": "stdout",
     "output_type": "stream",
     "text": [
      "-------\n",
      "kinda\n",
      "lmao\n",
      "mad\n",
      "lmaooo\n",
      "bruh\n",
      "deadass\n",
      "fuckin\n",
      "so\n",
      "cuz\n",
      "lmfao\n",
      "-------\n"
     ]
    },
    {
     "data": {
      "text/markdown": [
       "# rip"
      ],
      "text/plain": [
       "<IPython.core.display.Markdown object>"
      ]
     },
     "metadata": {},
     "output_type": "display_data"
    },
    {
     "data": {
      "text/markdown": [
       "#### Urban"
      ],
      "text/plain": [
       "<IPython.core.display.Markdown object>"
      ]
     },
     "metadata": {},
     "output_type": "display_data"
    },
    {
     "name": "stdout",
     "output_type": "stream",
     "text": [
      "------\n",
      "uncle\n",
      "blow\n",
      "beat\n",
      "aka\n",
      "knock\n",
      "kick\n",
      "pull\n",
      "kicked\n",
      "threw\n",
      "legend\n",
      "------\n"
     ]
    },
    {
     "data": {
      "text/markdown": [
       "#### Rural"
      ],
      "text/plain": [
       "<IPython.core.display.Markdown object>"
      ]
     },
     "metadata": {},
     "output_type": "display_data"
    },
    {
     "name": "stdout",
     "output_type": "stream",
     "text": [
      "-------\n",
      "kick\n",
      "beat\n",
      "cut\n",
      "broke\n",
      "pull\n",
      "throw\n",
      "sing\n",
      "brother\n",
      "miss\n",
      "bless\n",
      "-------\n"
     ]
    },
    {
     "data": {
      "text/markdown": [
       "# expert"
      ],
      "text/plain": [
       "<IPython.core.display.Markdown object>"
      ]
     },
     "metadata": {},
     "output_type": "display_data"
    },
    {
     "data": {
      "text/markdown": [
       "#### Urban"
      ],
      "text/plain": [
       "<IPython.core.display.Markdown object>"
      ]
     },
     "metadata": {},
     "output_type": "display_data"
    },
    {
     "name": "stdout",
     "output_type": "stream",
     "text": [
      "------------\n",
      "employee\n",
      "independent\n",
      "essential\n",
      "organization\n",
      "author\n",
      "advanced\n",
      "audience\n",
      "application\n",
      "enterprise\n",
      "ceo\n",
      "------------\n"
     ]
    },
    {
     "data": {
      "text/markdown": [
       "#### Rural"
      ],
      "text/plain": [
       "<IPython.core.display.Markdown object>"
      ]
     },
     "metadata": {},
     "output_type": "display_data"
    },
    {
     "name": "stdout",
     "output_type": "stream",
     "text": [
      "----------\n",
      "ceo\n",
      "essential\n",
      "platform\n",
      "cloud\n",
      "strategy\n",
      "director\n",
      "position\n",
      "management\n",
      "software\n",
      "digital\n",
      "----------\n"
     ]
    },
    {
     "data": {
      "text/markdown": [
       "# ms"
      ],
      "text/plain": [
       "<IPython.core.display.Markdown object>"
      ]
     },
     "metadata": {},
     "output_type": "display_data"
    },
    {
     "data": {
      "text/markdown": [
       "#### Urban"
      ],
      "text/plain": [
       "<IPython.core.display.Markdown object>"
      ]
     },
     "metadata": {},
     "output_type": "display_data"
    },
    {
     "name": "stdout",
     "output_type": "stream",
     "text": [
      "-------\n",
      "prof\n",
      "mary\n",
      "richard\n",
      "lee\n",
      "kennedy\n",
      "ben\n",
      "chair\n",
      "martin\n",
      "grant\n",
      "dr\n",
      "-------\n"
     ]
    },
    {
     "data": {
      "text/markdown": [
       "#### Rural"
      ],
      "text/plain": [
       "<IPython.core.display.Markdown object>"
      ]
     },
     "metadata": {},
     "output_type": "display_data"
    },
    {
     "name": "stdout",
     "output_type": "stream",
     "text": [
      "-------\n",
      "ed\n",
      "hs\n",
      "grade\n",
      "youth\n",
      "student\n",
      "dr\n",
      "k\n",
      "smith\n",
      "mary\n",
      "varsity\n",
      "-------\n"
     ]
    },
    {
     "data": {
      "text/markdown": [
       "# discussion"
      ],
      "text/plain": [
       "<IPython.core.display.Markdown object>"
      ]
     },
     "metadata": {},
     "output_type": "display_data"
    },
    {
     "data": {
      "text/markdown": [
       "#### Urban"
      ],
      "text/plain": [
       "<IPython.core.display.Markdown object>"
      ]
     },
     "metadata": {},
     "output_type": "display_data"
    },
    {
     "name": "stdout",
     "output_type": "stream",
     "text": [
      "-------------\n",
      "conversation\n",
      "panel\n",
      "debate\n",
      "presentation\n",
      "topic\n",
      "session\n",
      "conversations\n",
      "chat\n",
      "forum\n",
      "webinar\n",
      "-------------\n"
     ]
    },
    {
     "data": {
      "text/markdown": [
       "#### Rural"
      ],
      "text/plain": [
       "<IPython.core.display.Markdown object>"
      ]
     },
     "metadata": {},
     "output_type": "display_data"
    },
    {
     "name": "stdout",
     "output_type": "stream",
     "text": [
      "------------\n",
      "conversation\n",
      "meeting\n",
      "chat\n",
      "science\n",
      "board\n",
      "community\n",
      "group\n",
      "event\n",
      "discuss\n",
      "session\n",
      "------------\n"
     ]
    },
    {
     "data": {
      "text/markdown": [
       "# held"
      ],
      "text/plain": [
       "<IPython.core.display.Markdown object>"
      ]
     },
     "metadata": {},
     "output_type": "display_data"
    },
    {
     "data": {
      "text/markdown": [
       "#### Urban"
      ],
      "text/plain": [
       "<IPython.core.display.Markdown object>"
      ]
     },
     "metadata": {},
     "output_type": "display_data"
    },
    {
     "name": "stdout",
     "output_type": "stream",
     "text": [
      "---------\n",
      "tied\n",
      "passed\n",
      "holding\n",
      "locked\n",
      "moved\n",
      "holds\n",
      "confirmed\n",
      "pulled\n",
      "fed\n",
      "taken\n",
      "---------\n"
     ]
    },
    {
     "data": {
      "text/markdown": [
       "#### Rural"
      ],
      "text/plain": [
       "<IPython.core.display.Markdown object>"
      ]
     },
     "metadata": {},
     "output_type": "display_data"
    },
    {
     "name": "stdout",
     "output_type": "stream",
     "text": [
      "--------\n",
      "closed\n",
      "arrested\n",
      "court\n",
      "council\n",
      "released\n",
      "holding\n",
      "named\n",
      "passed\n",
      "killed\n",
      "taken\n",
      "--------\n"
     ]
    },
    {
     "data": {
      "text/markdown": [
       "# against"
      ],
      "text/plain": [
       "<IPython.core.display.Markdown object>"
      ]
     },
     "metadata": {},
     "output_type": "display_data"
    },
    {
     "data": {
      "text/markdown": [
       "#### Urban"
      ],
      "text/plain": [
       "<IPython.core.display.Markdown object>"
      ]
     },
     "metadata": {},
     "output_type": "display_data"
    },
    {
     "name": "stdout",
     "output_type": "stream",
     "text": [
      "---------\n",
      "anti\n",
      "defend\n",
      "defending\n",
      "despite\n",
      "towards\n",
      "army\n",
      "strike\n",
      "protest\n",
      "defense\n",
      "criminal\n",
      "---------\n"
     ]
    },
    {
     "data": {
      "text/markdown": [
       "#### Rural"
      ],
      "text/plain": [
       "<IPython.core.display.Markdown object>"
      ]
     },
     "metadata": {},
     "output_type": "display_data"
    },
    {
     "name": "stdout",
     "output_type": "stream",
     "text": [
      "------------\n",
      "anti\n",
      "protest\n",
      "defense\n",
      "democrats\n",
      "championship\n",
      "fight\n",
      "rally\n",
      "court\n",
      "rights\n",
      "under\n",
      "------------\n"
     ]
    },
    {
     "data": {
      "text/markdown": [
       "# tweets"
      ],
      "text/plain": [
       "<IPython.core.display.Markdown object>"
      ]
     },
     "metadata": {},
     "output_type": "display_data"
    },
    {
     "data": {
      "text/markdown": [
       "#### Urban"
      ],
      "text/plain": [
       "<IPython.core.display.Markdown object>"
      ]
     },
     "metadata": {},
     "output_type": "display_data"
    },
    {
     "name": "stdout",
     "output_type": "stream",
     "text": [
      "--------\n",
      "comments\n",
      "tweet\n",
      "posts\n",
      "memes\n",
      "mentions\n",
      "emails\n",
      "messages\n",
      "jokes\n",
      "accounts\n",
      "articles\n",
      "--------\n"
     ]
    },
    {
     "data": {
      "text/markdown": [
       "#### Rural"
      ],
      "text/plain": [
       "<IPython.core.display.Markdown object>"
      ]
     },
     "metadata": {},
     "output_type": "display_data"
    },
    {
     "name": "stdout",
     "output_type": "stream",
     "text": [
      "---------\n",
      "comments\n",
      "tweet\n",
      "posts\n",
      "followers\n",
      "twitter\n",
      "thoughts\n",
      "stories\n",
      "words\n",
      "tweeting\n",
      "account\n",
      "---------\n"
     ]
    },
    {
     "data": {
      "text/markdown": [
       "# deal"
      ],
      "text/plain": [
       "<IPython.core.display.Markdown object>"
      ]
     },
     "metadata": {},
     "output_type": "display_data"
    },
    {
     "data": {
      "text/markdown": [
       "#### Urban"
      ],
      "text/plain": [
       "<IPython.core.display.Markdown object>"
      ]
     },
     "metadata": {},
     "output_type": "display_data"
    },
    {
     "name": "stdout",
     "output_type": "stream",
     "text": [
      "--------\n",
      "contract\n",
      "trade\n",
      "problem\n",
      "ties\n",
      "argue\n",
      "deals\n",
      "agree\n",
      "butler\n",
      "replace\n",
      "comeback\n",
      "--------\n"
     ]
    },
    {
     "data": {
      "text/markdown": [
       "#### Rural"
      ],
      "text/plain": [
       "<IPython.core.display.Markdown object>"
      ]
     },
     "metadata": {},
     "output_type": "display_data"
    },
    {
     "name": "stdout",
     "output_type": "stream",
     "text": [
      "------------\n",
      "trade\n",
      "mess\n",
      "agree\n",
      "problem\n",
      "decision\n",
      "defense\n",
      "plan\n",
      "russia\n",
      "switch\n",
      "conversation\n",
      "------------\n"
     ]
    },
    {
     "data": {
      "text/markdown": [
       "# report"
      ],
      "text/plain": [
       "<IPython.core.display.Markdown object>"
      ]
     },
     "metadata": {},
     "output_type": "display_data"
    },
    {
     "data": {
      "text/markdown": [
       "#### Urban"
      ],
      "text/plain": [
       "<IPython.core.display.Markdown object>"
      ]
     },
     "metadata": {},
     "output_type": "display_data"
    },
    {
     "name": "stdout",
     "output_type": "stream",
     "text": [
      "-------\n",
      "rd\n",
      "reports\n",
      "st\n",
      "survey\n",
      "study\n",
      "ave\n",
      "android\n",
      "rate\n",
      "summit\n",
      "roxbury\n",
      "-------\n"
     ]
    },
    {
     "data": {
      "text/markdown": [
       "#### Rural"
      ],
      "text/plain": [
       "<IPython.core.display.Markdown object>"
      ]
     },
     "metadata": {},
     "output_type": "display_data"
    },
    {
     "name": "stdout",
     "output_type": "stream",
     "text": [
      "--------\n",
      "study\n",
      "federal\n",
      "alert\n",
      "drug\n",
      "global\n",
      "campaign\n",
      "legal\n",
      "ban\n",
      "policy\n",
      "data\n",
      "--------\n"
     ]
    },
    {
     "data": {
      "text/markdown": [
       "# news"
      ],
      "text/plain": [
       "<IPython.core.display.Markdown object>"
      ]
     },
     "metadata": {},
     "output_type": "display_data"
    },
    {
     "data": {
      "text/markdown": [
       "#### Urban"
      ],
      "text/plain": [
       "<IPython.core.display.Markdown object>"
      ]
     },
     "metadata": {},
     "output_type": "display_data"
    },
    {
     "name": "stdout",
     "output_type": "stream",
     "text": [
      "----------\n",
      "cnn\n",
      "reports\n",
      "coverage\n",
      "journalism\n",
      "headline\n",
      "stories\n",
      "sources\n",
      "reviews\n",
      "reporting\n",
      "deals\n",
      "----------\n"
     ]
    },
    {
     "data": {
      "text/markdown": [
       "#### Rural"
      ],
      "text/plain": [
       "<IPython.core.display.Markdown object>"
      ]
     },
     "metadata": {},
     "output_type": "display_data"
    },
    {
     "name": "stdout",
     "output_type": "stream",
     "text": [
      "-----------\n",
      "cnn\n",
      "sports\n",
      "report\n",
      "information\n",
      "press\n",
      "media\n",
      "stories\n",
      "coverage\n",
      "statement\n",
      "fox\n",
      "-----------\n"
     ]
    },
    {
     "data": {
      "text/markdown": [
       "# pro"
      ],
      "text/plain": [
       "<IPython.core.display.Markdown object>"
      ]
     },
     "metadata": {},
     "output_type": "display_data"
    },
    {
     "data": {
      "text/markdown": [
       "#### Urban"
      ],
      "text/plain": [
       "<IPython.core.display.Markdown object>"
      ]
     },
     "metadata": {},
     "output_type": "display_data"
    },
    {
     "name": "stdout",
     "output_type": "stream",
     "text": [
      "------------\n",
      "anti\n",
      "elite\n",
      "non\n",
      "professional\n",
      "li\n",
      "includes\n",
      "conservative\n",
      "profit\n",
      "champion\n",
      "fitness\n",
      "------------\n"
     ]
    },
    {
     "data": {
      "text/markdown": [
       "#### Rural"
      ],
      "text/plain": [
       "<IPython.core.display.Markdown object>"
      ]
     },
     "metadata": {},
     "output_type": "display_data"
    },
    {
     "name": "stdout",
     "output_type": "stream",
     "text": [
      "------------\n",
      "anti\n",
      "non\n",
      "popular\n",
      "digital\n",
      "master\n",
      "network\n",
      "via\n",
      "professional\n",
      "complete\n",
      "mini\n",
      "------------\n"
     ]
    },
    {
     "data": {
      "text/markdown": [
       "# latest"
      ],
      "text/plain": [
       "<IPython.core.display.Markdown object>"
      ]
     },
     "metadata": {},
     "output_type": "display_data"
    },
    {
     "data": {
      "text/markdown": [
       "#### Urban"
      ],
      "text/plain": [
       "<IPython.core.display.Markdown object>"
      ]
     },
     "metadata": {},
     "output_type": "display_data"
    },
    {
     "name": "stdout",
     "output_type": "stream",
     "text": [
      "----------\n",
      "newest\n",
      "weekly\n",
      "journal\n",
      "icymi\n",
      "newsletter\n",
      "upcoming\n",
      "magazine\n",
      "lab\n",
      "highlights\n",
      "partners\n",
      "----------\n"
     ]
    },
    {
     "data": {
      "text/markdown": [
       "#### Rural"
      ],
      "text/plain": [
       "<IPython.core.display.Markdown object>"
      ]
     },
     "metadata": {},
     "output_type": "display_data"
    },
    {
     "name": "stdout",
     "output_type": "stream",
     "text": [
      "--------\n",
      "weekly\n",
      "recent\n",
      "newest\n",
      "upcoming\n",
      "details\n",
      "grand\n",
      "industry\n",
      "click\n",
      "ceo\n",
      "website\n",
      "--------\n"
     ]
    },
    {
     "data": {
      "text/markdown": [
       "# journey"
      ],
      "text/plain": [
       "<IPython.core.display.Markdown object>"
      ]
     },
     "metadata": {},
     "output_type": "display_data"
    },
    {
     "data": {
      "text/markdown": [
       "#### Urban"
      ],
      "text/plain": [
       "<IPython.core.display.Markdown object>"
      ]
     },
     "metadata": {},
     "output_type": "display_data"
    },
    {
     "name": "stdout",
     "output_type": "stream",
     "text": [
      "--------------\n",
      "transformation\n",
      "experiences\n",
      "path\n",
      "success\n",
      "adventure\n",
      "chapter\n",
      "insights\n",
      "mission\n",
      "project\n",
      "presentation\n",
      "--------------\n"
     ]
    },
    {
     "data": {
      "text/markdown": [
       "#### Rural"
      ],
      "text/plain": [
       "<IPython.core.display.Markdown object>"
      ]
     },
     "metadata": {},
     "output_type": "display_data"
    },
    {
     "name": "stdout",
     "output_type": "stream",
     "text": [
      "----------\n",
      "success\n",
      "process\n",
      "experience\n",
      "program\n",
      "strategy\n",
      "path\n",
      "project\n",
      "blog\n",
      "story\n",
      "guide\n",
      "----------\n"
     ]
    },
    {
     "data": {
      "text/markdown": [
       "# delivery"
      ],
      "text/plain": [
       "<IPython.core.display.Markdown object>"
      ]
     },
     "metadata": {},
     "output_type": "display_data"
    },
    {
     "data": {
      "text/markdown": [
       "#### Urban"
      ],
      "text/plain": [
       "<IPython.core.display.Markdown object>"
      ]
     },
     "metadata": {},
     "output_type": "display_data"
    },
    {
     "name": "stdout",
     "output_type": "stream",
     "text": [
      "----------\n",
      "service\n",
      "technician\n",
      "driver\n",
      "truck\n",
      "package\n",
      "retail\n",
      "uber\n",
      "food\n",
      "batteries\n",
      "storage\n",
      "----------\n"
     ]
    },
    {
     "data": {
      "text/markdown": [
       "#### Rural"
      ],
      "text/plain": [
       "<IPython.core.display.Markdown object>"
      ]
     },
     "metadata": {},
     "output_type": "display_data"
    },
    {
     "name": "stdout",
     "output_type": "stream",
     "text": [
      "----------\n",
      "nurse\n",
      "driver\n",
      "cashier\n",
      "recommend\n",
      "restaurant\n",
      "assistant\n",
      "click\n",
      "apply\n",
      "truck\n",
      "meal\n",
      "----------\n"
     ]
    },
    {
     "data": {
      "text/markdown": [
       "# woke"
      ],
      "text/plain": [
       "<IPython.core.display.Markdown object>"
      ]
     },
     "metadata": {},
     "output_type": "display_data"
    },
    {
     "data": {
      "text/markdown": [
       "#### Urban"
      ],
      "text/plain": [
       "<IPython.core.display.Markdown object>"
      ]
     },
     "metadata": {},
     "output_type": "display_data"
    },
    {
     "name": "stdout",
     "output_type": "stream",
     "text": [
      "--------\n",
      "waking\n",
      "wake\n",
      "grew\n",
      "ended\n",
      "fucked\n",
      "catching\n",
      "picked\n",
      "showed\n",
      "threw\n",
      "picking\n",
      "--------\n"
     ]
    },
    {
     "data": {
      "text/markdown": [
       "#### Rural"
      ],
      "text/plain": [
       "<IPython.core.display.Markdown object>"
      ]
     },
     "metadata": {},
     "output_type": "display_data"
    },
    {
     "name": "stdout",
     "output_type": "stream",
     "text": [
      "------\n",
      "wake\n",
      "fucked\n",
      "picked\n",
      "broke\n",
      "shut\n",
      "came\n",
      "looked\n",
      "went\n",
      "ran\n",
      "fell\n",
      "------\n"
     ]
    },
    {
     "data": {
      "text/markdown": [
       "# breaking"
      ],
      "text/plain": [
       "<IPython.core.display.Markdown object>"
      ]
     },
     "metadata": {},
     "output_type": "display_data"
    },
    {
     "data": {
      "text/markdown": [
       "#### Urban"
      ],
      "text/plain": [
       "<IPython.core.display.Markdown object>"
      ]
     },
     "metadata": {},
     "output_type": "display_data"
    },
    {
     "name": "stdout",
     "output_type": "stream",
     "text": [
      "-------\n",
      "breaks\n",
      "fox\n",
      "turning\n",
      "reports\n",
      "beating\n",
      "bbc\n",
      "fake\n",
      "pulling\n",
      "rolling\n",
      "flash\n",
      "-------\n"
     ]
    },
    {
     "data": {
      "text/markdown": [
       "#### Rural"
      ],
      "text/plain": [
       "<IPython.core.display.Markdown object>"
      ]
     },
     "metadata": {},
     "output_type": "display_data"
    },
    {
     "name": "stdout",
     "output_type": "stream",
     "text": [
      "--------\n",
      "attack\n",
      "breaks\n",
      "fox\n",
      "turning\n",
      "drug\n",
      "major\n",
      "broken\n",
      "court\n",
      "shooting\n",
      "puts\n",
      "--------\n"
     ]
    },
    {
     "data": {
      "text/markdown": [
       "# author"
      ],
      "text/plain": [
       "<IPython.core.display.Markdown object>"
      ]
     },
     "metadata": {},
     "output_type": "display_data"
    },
    {
     "data": {
      "text/markdown": [
       "#### Urban"
      ],
      "text/plain": [
       "<IPython.core.display.Markdown object>"
      ]
     },
     "metadata": {},
     "output_type": "display_data"
    },
    {
     "name": "stdout",
     "output_type": "stream",
     "text": [
      "---------\n",
      "writer\n",
      "founder\n",
      "prof\n",
      "novel\n",
      "speaker\n",
      "professor\n",
      "book\n",
      "richard\n",
      "peter\n",
      "ceo\n",
      "---------\n"
     ]
    },
    {
     "data": {
      "text/markdown": [
       "#### Rural"
      ],
      "text/plain": [
       "<IPython.core.display.Markdown object>"
      ]
     },
     "metadata": {},
     "output_type": "display_data"
    },
    {
     "name": "stdout",
     "output_type": "stream",
     "text": [
      "--------\n",
      "book\n",
      "ceo\n",
      "dr\n",
      "guest\n",
      "ed\n",
      "artist\n",
      "scott\n",
      "director\n",
      "review\n",
      "jim\n",
      "--------\n"
     ]
    },
    {
     "data": {
      "text/markdown": [
       "# major"
      ],
      "text/plain": [
       "<IPython.core.display.Markdown object>"
      ]
     },
     "metadata": {},
     "output_type": "display_data"
    },
    {
     "data": {
      "text/markdown": [
       "#### Urban"
      ],
      "text/plain": [
       "<IPython.core.display.Markdown object>"
      ]
     },
     "metadata": {},
     "output_type": "display_data"
    },
    {
     "name": "stdout",
     "output_type": "stream",
     "text": [
      "---------\n",
      "massive\n",
      "minor\n",
      "economic\n",
      "global\n",
      "crisis\n",
      "huge\n",
      "factor\n",
      "potential\n",
      "corporate\n",
      "china\n",
      "---------\n"
     ]
    },
    {
     "data": {
      "text/markdown": [
       "#### Rural"
      ],
      "text/plain": [
       "<IPython.core.display.Markdown object>"
      ]
     },
     "metadata": {},
     "output_type": "display_data"
    },
    {
     "name": "stdout",
     "output_type": "stream",
     "text": [
      "-----------\n",
      "global\n",
      "industry\n",
      "nuclear\n",
      "development\n",
      "drug\n",
      "breaking\n",
      "title\n",
      "tech\n",
      "council\n",
      "western\n",
      "-----------\n"
     ]
    },
    {
     "data": {
      "text/markdown": [
       "# tools"
      ],
      "text/plain": [
       "<IPython.core.display.Markdown object>"
      ]
     },
     "metadata": {},
     "output_type": "display_data"
    },
    {
     "data": {
      "text/markdown": [
       "#### Urban"
      ],
      "text/plain": [
       "<IPython.core.display.Markdown object>"
      ]
     },
     "metadata": {},
     "output_type": "display_data"
    },
    {
     "name": "stdout",
     "output_type": "stream",
     "text": [
      "----------\n",
      "strategies\n",
      "tips\n",
      "resources\n",
      "marketers\n",
      "solutions\n",
      "practices\n",
      "content\n",
      "seo\n",
      "apps\n",
      "tool\n",
      "----------\n"
     ]
    },
    {
     "data": {
      "text/markdown": [
       "#### Rural"
      ],
      "text/plain": [
       "<IPython.core.display.Markdown object>"
      ]
     },
     "metadata": {},
     "output_type": "display_data"
    },
    {
     "name": "stdout",
     "output_type": "stream",
     "text": [
      "----------\n",
      "projects\n",
      "tips\n",
      "design\n",
      "marketing\n",
      "ways\n",
      "digital\n",
      "programs\n",
      "ideas\n",
      "skills\n",
      "technology\n",
      "----------\n"
     ]
    },
    {
     "data": {
      "text/markdown": [
       "# between"
      ],
      "text/plain": [
       "<IPython.core.display.Markdown object>"
      ]
     },
     "metadata": {},
     "output_type": "display_data"
    },
    {
     "data": {
      "text/markdown": [
       "#### Urban"
      ],
      "text/plain": [
       "<IPython.core.display.Markdown object>"
      ]
     },
     "metadata": {},
     "output_type": "display_data"
    },
    {
     "name": "stdout",
     "output_type": "stream",
     "text": [
      "-------\n",
      "behind\n",
      "toward\n",
      "with\n",
      "towards\n",
      "w\n",
      "within\n",
      "facing\n",
      "beyond\n",
      "from\n",
      "in\n",
      "-------\n"
     ]
    },
    {
     "data": {
      "text/markdown": [
       "#### Rural"
      ],
      "text/plain": [
       "<IPython.core.display.Markdown object>"
      ]
     },
     "metadata": {},
     "output_type": "display_data"
    },
    {
     "name": "stdout",
     "output_type": "stream",
     "text": [
      "----------\n",
      "behind\n",
      "leads\n",
      "against\n",
      "unfollowed\n",
      "frm\n",
      "avoid\n",
      "from\n",
      "near\n",
      "followed\n",
      "into\n",
      "----------\n"
     ]
    },
    {
     "data": {
      "text/markdown": [
       "# discover"
      ],
      "text/plain": [
       "<IPython.core.display.Markdown object>"
      ]
     },
     "metadata": {},
     "output_type": "display_data"
    },
    {
     "data": {
      "text/markdown": [
       "#### Urban"
      ],
      "text/plain": [
       "<IPython.core.display.Markdown object>"
      ]
     },
     "metadata": {},
     "output_type": "display_data"
    },
    {
     "name": "stdout",
     "output_type": "stream",
     "text": [
      "-------------\n",
      "create\n",
      "manage\n",
      "learn\n",
      "develop\n",
      "express\n",
      "learning\n",
      "understanding\n",
      "explore\n",
      "find\n",
      "experiences\n",
      "-------------\n"
     ]
    },
    {
     "data": {
      "text/markdown": [
       "#### Rural"
      ],
      "text/plain": [
       "<IPython.core.display.Markdown object>"
      ]
     },
     "metadata": {},
     "output_type": "display_data"
    },
    {
     "name": "stdout",
     "output_type": "stream",
     "text": [
      "---------\n",
      "selling\n",
      "choose\n",
      "digital\n",
      "success\n",
      "using\n",
      "marketing\n",
      "brand\n",
      "design\n",
      "create\n",
      "knowing\n",
      "---------\n"
     ]
    },
    {
     "data": {
      "text/markdown": [
       "# shift"
      ],
      "text/plain": [
       "<IPython.core.display.Markdown object>"
      ]
     },
     "metadata": {},
     "output_type": "display_data"
    },
    {
     "data": {
      "text/markdown": [
       "#### Urban"
      ],
      "text/plain": [
       "<IPython.core.display.Markdown object>"
      ]
     },
     "metadata": {},
     "output_type": "display_data"
    },
    {
     "name": "stdout",
     "output_type": "stream",
     "text": [
      "----------\n",
      "operations\n",
      "hr\n",
      "ma\n",
      "project\n",
      "management\n",
      "quarter\n",
      "senior\n",
      "opening\n",
      "apply\n",
      "sr\n",
      "----------\n"
     ]
    },
    {
     "data": {
      "text/markdown": [
       "#### Rural"
      ],
      "text/plain": [
       "<IPython.core.display.Markdown object>"
      ]
     },
     "metadata": {},
     "output_type": "display_data"
    },
    {
     "name": "stdout",
     "output_type": "stream",
     "text": [
      "--------\n",
      "cashier\n",
      "cook\n",
      "nap\n",
      "period\n",
      "sat\n",
      "opening\n",
      "monday\n",
      "min\n",
      "flight\n",
      "delivery\n",
      "--------\n"
     ]
    },
    {
     "data": {
      "text/markdown": [
       "# slow"
      ],
      "text/plain": [
       "<IPython.core.display.Markdown object>"
      ]
     },
     "metadata": {},
     "output_type": "display_data"
    },
    {
     "data": {
      "text/markdown": [
       "#### Urban"
      ],
      "text/plain": [
       "<IPython.core.display.Markdown object>"
      ]
     },
     "metadata": {},
     "output_type": "display_data"
    },
    {
     "name": "stdout",
     "output_type": "stream",
     "text": [
      "-------\n",
      "fast\n",
      "calm\n",
      "slowly\n",
      "rough\n",
      "hard\n",
      "deep\n",
      "quickly\n",
      "busy\n",
      "easy\n",
      "cold\n",
      "-------\n"
     ]
    },
    {
     "data": {
      "text/markdown": [
       "#### Rural"
      ],
      "text/plain": [
       "<IPython.core.display.Markdown object>"
      ]
     },
     "metadata": {},
     "output_type": "display_data"
    },
    {
     "name": "stdout",
     "output_type": "stream",
     "text": [
      "-------\n",
      "fast\n",
      "deep\n",
      "cold\n",
      "fly\n",
      "traffic\n",
      "break\n",
      "driving\n",
      "down\n",
      "late\n",
      "sit\n",
      "-------\n"
     ]
    },
    {
     "data": {
      "text/markdown": [
       "# voted"
      ],
      "text/plain": [
       "<IPython.core.display.Markdown object>"
      ]
     },
     "metadata": {},
     "output_type": "display_data"
    },
    {
     "data": {
      "text/markdown": [
       "#### Urban"
      ],
      "text/plain": [
       "<IPython.core.display.Markdown object>"
      ]
     },
     "metadata": {},
     "output_type": "display_data"
    },
    {
     "name": "stdout",
     "output_type": "stream",
     "text": [
      "-----------\n",
      "vote\n",
      "voting\n",
      "votes\n",
      "blame\n",
      "responsible\n",
      "defending\n",
      "voters\n",
      "except\n",
      "stands\n",
      "lied\n",
      "-----------\n"
     ]
    },
    {
     "data": {
      "text/markdown": [
       "#### Rural"
      ],
      "text/plain": [
       "<IPython.core.display.Markdown object>"
      ]
     },
     "metadata": {},
     "output_type": "display_data"
    },
    {
     "name": "stdout",
     "output_type": "stream",
     "text": [
      "-------\n",
      "vote\n",
      "voting\n",
      "entered\n",
      "blame\n",
      "likes\n",
      "signed\n",
      "bernie\n",
      "senate\n",
      "asked\n",
      "pray\n",
      "-------\n"
     ]
    },
    {
     "data": {
      "text/markdown": [
       "# of"
      ],
      "text/plain": [
       "<IPython.core.display.Markdown object>"
      ]
     },
     "metadata": {},
     "output_type": "display_data"
    },
    {
     "data": {
      "text/markdown": [
       "#### Urban"
      ],
      "text/plain": [
       "<IPython.core.display.Markdown object>"
      ]
     },
     "metadata": {},
     "output_type": "display_data"
    },
    {
     "name": "stdout",
     "output_type": "stream",
     "text": [
      "----------\n",
      "including\n",
      "among\n",
      "throughout\n",
      "in\n",
      "within\n",
      "from\n",
      "economic\n",
      "includes\n",
      "cultural\n",
      "facing\n",
      "----------\n"
     ]
    },
    {
     "data": {
      "text/markdown": [
       "#### Rural"
      ],
      "text/plain": [
       "<IPython.core.display.Markdown object>"
      ]
     },
     "metadata": {},
     "output_type": "display_data"
    },
    {
     "name": "stdout",
     "output_type": "stream",
     "text": [
      "---------\n",
      "among\n",
      "including\n",
      "in\n",
      "common\n",
      "within\n",
      "filled\n",
      "row\n",
      "nation\n",
      "above\n",
      "american\n",
      "---------\n"
     ]
    },
    {
     "data": {
      "text/markdown": [
       "# negative"
      ],
      "text/plain": [
       "<IPython.core.display.Markdown object>"
      ]
     },
     "metadata": {},
     "output_type": "display_data"
    },
    {
     "data": {
      "text/markdown": [
       "#### Urban"
      ],
      "text/plain": [
       "<IPython.core.display.Markdown object>"
      ]
     },
     "metadata": {},
     "output_type": "display_data"
    },
    {
     "name": "stdout",
     "output_type": "stream",
     "text": [
      "---------\n",
      "positive\n",
      "certain\n",
      "specific\n",
      "opinions\n",
      "false\n",
      "bias\n",
      "political\n",
      "context\n",
      "influence\n",
      "useful\n",
      "---------\n"
     ]
    },
    {
     "data": {
      "text/markdown": [
       "#### Rural"
      ],
      "text/plain": [
       "<IPython.core.display.Markdown object>"
      ]
     },
     "metadata": {},
     "output_type": "display_data"
    },
    {
     "name": "stdout",
     "output_type": "stream",
     "text": [
      "---------\n",
      "positive\n",
      "fear\n",
      "truth\n",
      "others\n",
      "energy\n",
      "false\n",
      "disease\n",
      "political\n",
      "focus\n",
      "anxiety\n",
      "---------\n"
     ]
    },
    {
     "data": {
      "text/markdown": [
       "# challenge"
      ],
      "text/plain": [
       "<IPython.core.display.Markdown object>"
      ]
     },
     "metadata": {},
     "output_type": "display_data"
    },
    {
     "data": {
      "text/markdown": [
       "#### Urban"
      ],
      "text/plain": [
       "<IPython.core.display.Markdown object>"
      ]
     },
     "metadata": {},
     "output_type": "display_data"
    },
    {
     "name": "stdout",
     "output_type": "stream",
     "text": [
      "-----------\n",
      "condition\n",
      "awareness\n",
      "aug\n",
      "giveaway\n",
      "wrap\n",
      "program\n",
      "workshop\n",
      "competition\n",
      "tournament\n",
      "cup\n",
      "-----------\n"
     ]
    },
    {
     "data": {
      "text/markdown": [
       "#### Rural"
      ],
      "text/plain": [
       "<IPython.core.display.Markdown object>"
      ]
     },
     "metadata": {},
     "output_type": "display_data"
    },
    {
     "name": "stdout",
     "output_type": "stream",
     "text": [
      "----------\n",
      "contest\n",
      "winner\n",
      "guide\n",
      "tournament\n",
      "program\n",
      "fitness\n",
      "complete\n",
      "enter\n",
      "register\n",
      "journey\n",
      "----------\n"
     ]
    },
    {
     "data": {
      "text/markdown": [
       "# residents"
      ],
      "text/plain": [
       "<IPython.core.display.Markdown object>"
      ]
     },
     "metadata": {},
     "output_type": "display_data"
    },
    {
     "data": {
      "text/markdown": [
       "#### Urban"
      ],
      "text/plain": [
       "<IPython.core.display.Markdown object>"
      ]
     },
     "metadata": {},
     "output_type": "display_data"
    },
    {
     "name": "stdout",
     "output_type": "stream",
     "text": [
      "-----------\n",
      "families\n",
      "victims\n",
      "communities\n",
      "schools\n",
      "officials\n",
      "homes\n",
      "workers\n",
      "patients\n",
      "cities\n",
      "funds\n",
      "-----------\n"
     ]
    },
    {
     "data": {
      "text/markdown": [
       "#### Rural"
      ],
      "text/plain": [
       "<IPython.core.display.Markdown object>"
      ]
     },
     "metadata": {},
     "output_type": "display_data"
    },
    {
     "name": "stdout",
     "output_type": "stream",
     "text": [
      "-------------\n",
      "families\n",
      "employees\n",
      "schools\n",
      "local\n",
      "police\n",
      "western\n",
      "massachusetts\n",
      "programs\n",
      "springfield\n",
      "students\n",
      "-------------\n"
     ]
    },
    {
     "data": {
      "text/markdown": [
       "# advice"
      ],
      "text/plain": [
       "<IPython.core.display.Markdown object>"
      ]
     },
     "metadata": {},
     "output_type": "display_data"
    },
    {
     "data": {
      "text/markdown": [
       "#### Urban"
      ],
      "text/plain": [
       "<IPython.core.display.Markdown object>"
      ]
     },
     "metadata": {},
     "output_type": "display_data"
    },
    {
     "name": "stdout",
     "output_type": "stream",
     "text": [
      "-----------\n",
      "feedback\n",
      "insights\n",
      "tips\n",
      "ideas\n",
      "insight\n",
      "perspective\n",
      "answers\n",
      "lessons\n",
      "content\n",
      "resources\n",
      "-----------\n"
     ]
    },
    {
     "data": {
      "text/markdown": [
       "#### Rural"
      ],
      "text/plain": [
       "<IPython.core.display.Markdown object>"
      ]
     },
     "metadata": {},
     "output_type": "display_data"
    },
    {
     "name": "stdout",
     "output_type": "stream",
     "text": [
      "-------------\n",
      "tips\n",
      "ideas\n",
      "questions\n",
      "information\n",
      "financial\n",
      "experience\n",
      "opportunity\n",
      "skills\n",
      "opportunities\n",
      "tools\n",
      "-------------\n"
     ]
    },
    {
     "data": {
      "text/markdown": [
       "# camera"
      ],
      "text/plain": [
       "<IPython.core.display.Markdown object>"
      ]
     },
     "metadata": {},
     "output_type": "display_data"
    },
    {
     "data": {
      "text/markdown": [
       "#### Urban"
      ],
      "text/plain": [
       "<IPython.core.display.Markdown object>"
      ]
     },
     "metadata": {},
     "output_type": "display_data"
    },
    {
     "name": "stdout",
     "output_type": "stream",
     "text": [
      "--------\n",
      "screen\n",
      "phone\n",
      "computer\n",
      "windows\n",
      "phones\n",
      "device\n",
      "tv\n",
      "clock\n",
      "glasses\n",
      "window\n",
      "--------\n"
     ]
    },
    {
     "data": {
      "text/markdown": [
       "#### Rural"
      ],
      "text/plain": [
       "<IPython.core.display.Markdown object>"
      ]
     },
     "metadata": {},
     "output_type": "display_data"
    },
    {
     "name": "stdout",
     "output_type": "stream",
     "text": [
      "--------\n",
      "iphone\n",
      "screen\n",
      "phone\n",
      "tv\n",
      "shot\n",
      "bathroom\n",
      "google\n",
      "stream\n",
      "youtube\n",
      "foot\n",
      "--------\n"
     ]
    },
    {
     "data": {
      "text/markdown": [
       "# miles"
      ],
      "text/plain": [
       "<IPython.core.display.Markdown object>"
      ]
     },
     "metadata": {},
     "output_type": "display_data"
    },
    {
     "data": {
      "text/markdown": [
       "#### Urban"
      ],
      "text/plain": [
       "<IPython.core.display.Markdown object>"
      ]
     },
     "metadata": {},
     "output_type": "display_data"
    },
    {
     "name": "stdout",
     "output_type": "stream",
     "text": [
      "-------\n",
      "mile\n",
      "mins\n",
      "hrs\n",
      "min\n",
      "minutes\n",
      "degrees\n",
      "hours\n",
      "seconds\n",
      "yard\n",
      "km\n",
      "-------\n"
     ]
    },
    {
     "data": {
      "text/markdown": [
       "#### Rural"
      ],
      "text/plain": [
       "<IPython.core.display.Markdown object>"
      ]
     },
     "metadata": {},
     "output_type": "display_data"
    },
    {
     "name": "stdout",
     "output_type": "stream",
     "text": [
      "-----\n",
      "winds\n",
      "mph\n",
      "46\n",
      "1\n",
      "43\n",
      "42\n",
      "38\n",
      "68\n",
      "4\n",
      "37\n",
      "-----\n"
     ]
    },
    {
     "data": {
      "text/markdown": [
       "# including"
      ],
      "text/plain": [
       "<IPython.core.display.Markdown object>"
      ]
     },
     "metadata": {},
     "output_type": "display_data"
    },
    {
     "data": {
      "text/markdown": [
       "#### Urban"
      ],
      "text/plain": [
       "<IPython.core.display.Markdown object>"
      ]
     },
     "metadata": {},
     "output_type": "display_data"
    },
    {
     "name": "stdout",
     "output_type": "stream",
     "text": [
      "----------\n",
      "among\n",
      "includes\n",
      "offers\n",
      "included\n",
      "offering\n",
      "shared\n",
      "of\n",
      "seeking\n",
      "supporting\n",
      "featuring\n",
      "----------\n"
     ]
    },
    {
     "data": {
      "text/markdown": [
       "#### Rural"
      ],
      "text/plain": [
       "<IPython.core.display.Markdown object>"
      ]
     },
     "metadata": {},
     "output_type": "display_data"
    },
    {
     "name": "stdout",
     "output_type": "stream",
     "text": [
      "----------\n",
      "among\n",
      "offers\n",
      "inc\n",
      "courses\n",
      "programs\n",
      "members\n",
      "projects\n",
      "supporting\n",
      "items\n",
      "families\n",
      "----------\n"
     ]
    },
    {
     "data": {
      "text/markdown": [
       "# according"
      ],
      "text/plain": [
       "<IPython.core.display.Markdown object>"
      ]
     },
     "metadata": {},
     "output_type": "display_data"
    },
    {
     "data": {
      "text/markdown": [
       "#### Urban"
      ],
      "text/plain": [
       "<IPython.core.display.Markdown object>"
      ]
     },
     "metadata": {},
     "output_type": "display_data"
    },
    {
     "name": "stdout",
     "output_type": "stream",
     "text": [
      "---------\n",
      "compared\n",
      "adds\n",
      "related\n",
      "due\n",
      "uses\n",
      "announces\n",
      "finds\n",
      "leads\n",
      "claims\n",
      "reveals\n",
      "---------\n"
     ]
    },
    {
     "data": {
      "text/markdown": [
       "#### Rural"
      ],
      "text/plain": [
       "<IPython.core.display.Markdown object>"
      ]
     },
     "metadata": {},
     "output_type": "display_data"
    },
    {
     "name": "stdout",
     "output_type": "stream",
     "text": [
      "--------\n",
      "related\n",
      "due\n",
      "report\n",
      "uses\n",
      "increase\n",
      "claim\n",
      "study\n",
      "access\n",
      "among\n",
      "policy\n",
      "--------\n"
     ]
    },
    {
     "data": {
      "text/markdown": [
       "# event"
      ],
      "text/plain": [
       "<IPython.core.display.Markdown object>"
      ]
     },
     "metadata": {},
     "output_type": "display_data"
    },
    {
     "data": {
      "text/markdown": [
       "#### Urban"
      ],
      "text/plain": [
       "<IPython.core.display.Markdown object>"
      ]
     },
     "metadata": {},
     "output_type": "display_data"
    },
    {
     "name": "stdout",
     "output_type": "stream",
     "text": [
      "------------\n",
      "workshop\n",
      "session\n",
      "forum\n",
      "presentation\n",
      "panel\n",
      "summit\n",
      "webinar\n",
      "hosted\n",
      "events\n",
      "conference\n",
      "------------\n"
     ]
    },
    {
     "data": {
      "text/markdown": [
       "#### Rural"
      ],
      "text/plain": [
       "<IPython.core.display.Markdown object>"
      ]
     },
     "metadata": {},
     "output_type": "display_data"
    },
    {
     "name": "stdout",
     "output_type": "stream",
     "text": [
      "--------\n",
      "evening\n",
      "session\n",
      "annual\n",
      "meeting\n",
      "festival\n",
      "program\n",
      "saturday\n",
      "sunday\n",
      "thursday\n",
      "concert\n",
      "--------\n"
     ]
    },
    {
     "data": {
      "text/markdown": [
       "# continues"
      ],
      "text/plain": [
       "<IPython.core.display.Markdown object>"
      ]
     },
     "metadata": {},
     "output_type": "display_data"
    },
    {
     "data": {
      "text/markdown": [
       "#### Urban"
      ],
      "text/plain": [
       "<IPython.core.display.Markdown object>"
      ]
     },
     "metadata": {},
     "output_type": "display_data"
    },
    {
     "name": "stdout",
     "output_type": "stream",
     "text": [
      "---------\n",
      "begins\n",
      "tries\n",
      "wants\n",
      "needs\n",
      "leads\n",
      "joins\n",
      "announces\n",
      "starts\n",
      "returns\n",
      "adds\n",
      "---------\n"
     ]
    },
    {
     "data": {
      "text/markdown": [
       "#### Rural"
      ],
      "text/plain": [
       "<IPython.core.display.Markdown object>"
      ]
     },
     "metadata": {},
     "output_type": "display_data"
    },
    {
     "name": "stdout",
     "output_type": "stream",
     "text": [
      "--------\n",
      "begins\n",
      "due\n",
      "takes\n",
      "needs\n",
      "starts\n",
      "expected\n",
      "alert\n",
      "continue\n",
      "mid\n",
      "central\n",
      "--------\n"
     ]
    },
    {
     "data": {
      "text/markdown": [
       "# talks"
      ],
      "text/plain": [
       "<IPython.core.display.Markdown object>"
      ]
     },
     "metadata": {},
     "output_type": "display_data"
    },
    {
     "data": {
      "text/markdown": [
       "#### Urban"
      ],
      "text/plain": [
       "<IPython.core.display.Markdown object>"
      ]
     },
     "metadata": {},
     "output_type": "display_data"
    },
    {
     "name": "stdout",
     "output_type": "stream",
     "text": [
      "-------\n",
      "writes\n",
      "speaks\n",
      "spoke\n",
      "talked\n",
      "talking\n",
      "talk\n",
      "cares\n",
      "lied\n",
      "reveals\n",
      "asks\n",
      "-------\n"
     ]
    },
    {
     "data": {
      "text/markdown": [
       "#### Rural"
      ],
      "text/plain": [
       "<IPython.core.display.Markdown object>"
      ]
     },
     "metadata": {},
     "output_type": "display_data"
    },
    {
     "name": "stdout",
     "output_type": "stream",
     "text": [
      "--------\n",
      "talking\n",
      "talk\n",
      "cares\n",
      "hearing\n",
      "tells\n",
      "worried\n",
      "knows\n",
      "wrote\n",
      "learn\n",
      "learning\n",
      "--------\n"
     ]
    },
    {
     "data": {
      "text/markdown": [
       "# positive"
      ],
      "text/plain": [
       "<IPython.core.display.Markdown object>"
      ]
     },
     "metadata": {},
     "output_type": "display_data"
    },
    {
     "data": {
      "text/markdown": [
       "#### Urban"
      ],
      "text/plain": [
       "<IPython.core.display.Markdown object>"
      ]
     },
     "metadata": {},
     "output_type": "display_data"
    },
    {
     "name": "stdout",
     "output_type": "stream",
     "text": [
      "----------\n",
      "negative\n",
      "strong\n",
      "relevant\n",
      "useful\n",
      "wise\n",
      "helpful\n",
      "productive\n",
      "specific\n",
      "good\n",
      "powerful\n",
      "----------\n"
     ]
    },
    {
     "data": {
      "text/markdown": [
       "#### Rural"
      ],
      "text/plain": [
       "<IPython.core.display.Markdown object>"
      ]
     },
     "metadata": {},
     "output_type": "display_data"
    },
    {
     "name": "stdout",
     "output_type": "stream",
     "text": [
      "----------\n",
      "negative\n",
      "important\n",
      "creative\n",
      "simple\n",
      "personal\n",
      "powerful\n",
      "strong\n",
      "successful\n",
      "good\n",
      "energy\n",
      "----------\n"
     ]
    },
    {
     "data": {
      "text/markdown": [
       "# although"
      ],
      "text/plain": [
       "<IPython.core.display.Markdown object>"
      ]
     },
     "metadata": {},
     "output_type": "display_data"
    },
    {
     "data": {
      "text/markdown": [
       "#### Urban"
      ],
      "text/plain": [
       "<IPython.core.display.Markdown object>"
      ]
     },
     "metadata": {},
     "output_type": "display_data"
    },
    {
     "name": "stdout",
     "output_type": "stream",
     "text": [
      "-------------\n",
      "however\n",
      "quite\n",
      "but\n",
      "though\n",
      "unfortunately\n",
      "indeed\n",
      "because\n",
      "certainly\n",
      "obviously\n",
      "sadly\n",
      "-------------\n"
     ]
    },
    {
     "data": {
      "text/markdown": [
       "#### Rural"
      ],
      "text/plain": [
       "<IPython.core.display.Markdown object>"
      ]
     },
     "metadata": {},
     "output_type": "display_data"
    },
    {
     "name": "stdout",
     "output_type": "stream",
     "text": [
      "---------\n",
      "quite\n",
      "but\n",
      "feelings\n",
      "current\n",
      "surprise\n",
      "though\n",
      "scorpio\n",
      "taurus\n",
      "if\n",
      "emotional\n",
      "---------\n"
     ]
    },
    {
     "data": {
      "text/markdown": [
       "# disease"
      ],
      "text/plain": [
       "<IPython.core.display.Markdown object>"
      ]
     },
     "metadata": {},
     "output_type": "display_data"
    },
    {
     "data": {
      "text/markdown": [
       "#### Urban"
      ],
      "text/plain": [
       "<IPython.core.display.Markdown object>"
      ]
     },
     "metadata": {},
     "output_type": "display_data"
    },
    {
     "name": "stdout",
     "output_type": "stream",
     "text": [
      "-----------\n",
      "treatment\n",
      "patients\n",
      "abuse\n",
      "medicine\n",
      "cancer\n",
      "researchers\n",
      "physical\n",
      "drug\n",
      "patient\n",
      "nature\n",
      "-----------\n"
     ]
    },
    {
     "data": {
      "text/markdown": [
       "#### Rural"
      ],
      "text/plain": [
       "<IPython.core.display.Markdown object>"
      ]
     },
     "metadata": {},
     "output_type": "display_data"
    },
    {
     "name": "stdout",
     "output_type": "stream",
     "text": [
      "----------\n",
      "risk\n",
      "mental\n",
      "drug\n",
      "study\n",
      "patient\n",
      "technology\n",
      "powerful\n",
      "healthy\n",
      "global\n",
      "human\n",
      "----------\n"
     ]
    },
    {
     "data": {
      "text/markdown": [
       "# remove"
      ],
      "text/plain": [
       "<IPython.core.display.Markdown object>"
      ]
     },
     "metadata": {},
     "output_type": "display_data"
    },
    {
     "data": {
      "text/markdown": [
       "#### Urban"
      ],
      "text/plain": [
       "<IPython.core.display.Markdown object>"
      ]
     },
     "metadata": {},
     "output_type": "display_data"
    },
    {
     "name": "stdout",
     "output_type": "stream",
     "text": [
      "-------\n",
      "protect\n",
      "fix\n",
      "prevent\n",
      "steal\n",
      "deliver\n",
      "replace\n",
      "respond\n",
      "explain\n",
      "destroy\n",
      "hide\n",
      "-------\n"
     ]
    },
    {
     "data": {
      "text/markdown": [
       "#### Rural"
      ],
      "text/plain": [
       "<IPython.core.display.Markdown object>"
      ]
     },
     "metadata": {},
     "output_type": "display_data"
    },
    {
     "name": "stdout",
     "output_type": "stream",
     "text": [
      "--------\n",
      "protect\n",
      "explain\n",
      "leave\n",
      "consider\n",
      "use\n",
      "remedies\n",
      "cure\n",
      "avoid\n",
      "handle\n",
      "return\n",
      "--------\n"
     ]
    },
    {
     "data": {
      "text/markdown": [
       "# healthcare"
      ],
      "text/plain": [
       "<IPython.core.display.Markdown object>"
      ]
     },
     "metadata": {},
     "output_type": "display_data"
    },
    {
     "data": {
      "text/markdown": [
       "#### Urban"
      ],
      "text/plain": [
       "<IPython.core.display.Markdown object>"
      ]
     },
     "metadata": {},
     "output_type": "display_data"
    },
    {
     "name": "stdout",
     "output_type": "stream",
     "text": [
      "--------------\n",
      "aca\n",
      "health\n",
      "insurance\n",
      "infrastructure\n",
      "obamacare\n",
      "funding\n",
      "reform\n",
      "repeal\n",
      "govt\n",
      "education\n",
      "--------------\n"
     ]
    },
    {
     "data": {
      "text/markdown": [
       "#### Rural"
      ],
      "text/plain": [
       "<IPython.core.display.Markdown object>"
      ]
     },
     "metadata": {},
     "output_type": "display_data"
    },
    {
     "name": "stdout",
     "output_type": "stream",
     "text": [
      "----------\n",
      "government\n",
      "health\n",
      "insurance\n",
      "policy\n",
      "gop\n",
      "congress\n",
      "legal\n",
      "coverage\n",
      "millions\n",
      "tax\n",
      "----------\n"
     ]
    },
    {
     "data": {
      "text/markdown": [
       "# base"
      ],
      "text/plain": [
       "<IPython.core.display.Markdown object>"
      ]
     },
     "metadata": {},
     "output_type": "display_data"
    },
    {
     "data": {
      "text/markdown": [
       "#### Urban"
      ],
      "text/plain": [
       "<IPython.core.display.Markdown object>"
      ]
     },
     "metadata": {},
     "output_type": "display_data"
    },
    {
     "name": "stdout",
     "output_type": "stream",
     "text": [
      "---------\n",
      "team\n",
      "defense\n",
      "position\n",
      "pitch\n",
      "goal\n",
      "triple\n",
      "offensive\n",
      "victory\n",
      "contract\n",
      "arm\n",
      "---------\n"
     ]
    },
    {
     "data": {
      "text/markdown": [
       "#### Rural"
      ],
      "text/plain": [
       "<IPython.core.display.Markdown object>"
      ]
     },
     "metadata": {},
     "output_type": "display_data"
    },
    {
     "name": "stdout",
     "output_type": "stream",
     "text": [
      "-------\n",
      "defense\n",
      "ground\n",
      "goal\n",
      "ball\n",
      "bottom\n",
      "run\n",
      "double\n",
      "crowd\n",
      "third\n",
      "pr\n",
      "-------\n"
     ]
    },
    {
     "data": {
      "text/markdown": [
       "# certain"
      ],
      "text/plain": [
       "<IPython.core.display.Markdown object>"
      ]
     },
     "metadata": {},
     "output_type": "display_data"
    },
    {
     "data": {
      "text/markdown": [
       "#### Urban"
      ],
      "text/plain": [
       "<IPython.core.display.Markdown object>"
      ]
     },
     "metadata": {},
     "output_type": "display_data"
    },
    {
     "name": "stdout",
     "output_type": "stream",
     "text": [
      "---------\n",
      "specific\n",
      "different\n",
      "similar\n",
      "negative\n",
      "multiple\n",
      "religious\n",
      "normal\n",
      "proper\n",
      "any\n",
      "lot\n",
      "---------\n"
     ]
    },
    {
     "data": {
      "text/markdown": [
       "#### Rural"
      ],
      "text/plain": [
       "<IPython.core.display.Markdown object>"
      ]
     },
     "metadata": {},
     "output_type": "display_data"
    },
    {
     "name": "stdout",
     "output_type": "stream",
     "text": [
      "---------\n",
      "different\n",
      "usually\n",
      "lot\n",
      "sometimes\n",
      "normal\n",
      "horrible\n",
      "weird\n",
      "lack\n",
      "stupid\n",
      "not\n",
      "---------\n"
     ]
    },
    {
     "data": {
      "text/markdown": [
       "# definition"
      ],
      "text/plain": [
       "<IPython.core.display.Markdown object>"
      ]
     },
     "metadata": {},
     "output_type": "display_data"
    },
    {
     "data": {
      "text/markdown": [
       "#### Urban"
      ],
      "text/plain": [
       "<IPython.core.display.Markdown object>"
      ]
     },
     "metadata": {},
     "output_type": "display_data"
    },
    {
     "name": "stdout",
     "output_type": "stream",
     "text": [
      "-------------\n",
      "kind\n",
      "concept\n",
      "lack\n",
      "meaning\n",
      "logic\n",
      "moral\n",
      "importance\n",
      "understanding\n",
      "example\n",
      "knowledge\n",
      "-------------\n"
     ]
    },
    {
     "data": {
      "text/markdown": [
       "#### Rural"
      ],
      "text/plain": [
       "<IPython.core.display.Markdown object>"
      ]
     },
     "metadata": {},
     "output_type": "display_data"
    },
    {
     "name": "stdout",
     "output_type": "stream",
     "text": [
      "---------\n",
      "intro\n",
      "language\n",
      "tools\n",
      "children\n",
      "knowledge\n",
      "lack\n",
      "role\n",
      "power\n",
      "version\n",
      "culture\n",
      "---------\n"
     ]
    },
    {
     "data": {
      "text/markdown": [
       "# left"
      ],
      "text/plain": [
       "<IPython.core.display.Markdown object>"
      ]
     },
     "metadata": {},
     "output_type": "display_data"
    },
    {
     "data": {
      "text/markdown": [
       "#### Urban"
      ],
      "text/plain": [
       "<IPython.core.display.Markdown object>"
      ]
     },
     "metadata": {},
     "output_type": "display_data"
    },
    {
     "name": "stdout",
     "output_type": "stream",
     "text": [
      "--------\n",
      "moved\n",
      "ran\n",
      "blocked\n",
      "passed\n",
      "walked\n",
      "gone\n",
      "pulled\n",
      "lost\n",
      "runs\n",
      "counting\n",
      "--------\n"
     ]
    },
    {
     "data": {
      "text/markdown": [
       "#### Rural"
      ],
      "text/plain": [
       "<IPython.core.display.Markdown object>"
      ]
     },
     "metadata": {},
     "output_type": "display_data"
    },
    {
     "name": "stdout",
     "output_type": "stream",
     "text": [
      "-------\n",
      "half\n",
      "seconds\n",
      "period\n",
      "falls\n",
      "runs\n",
      "lead\n",
      "lane\n",
      "minutes\n",
      "leads\n",
      "third\n",
      "-------\n"
     ]
    },
    {
     "data": {
      "text/markdown": [
       "# ex"
      ],
      "text/plain": [
       "<IPython.core.display.Markdown object>"
      ]
     },
     "metadata": {},
     "output_type": "display_data"
    },
    {
     "data": {
      "text/markdown": [
       "#### Urban"
      ],
      "text/plain": [
       "<IPython.core.display.Markdown object>"
      ]
     },
     "metadata": {},
     "output_type": "display_data"
    },
    {
     "name": "stdout",
     "output_type": "stream",
     "text": [
      "----------\n",
      "son\n",
      "mentions\n",
      "sb\n",
      "93\n",
      "girlfriend\n",
      "wife\n",
      "daughter\n",
      "boss\n",
      "exit\n",
      "dies\n",
      "----------\n"
     ]
    },
    {
     "data": {
      "text/markdown": [
       "#### Rural"
      ],
      "text/plain": [
       "<IPython.core.display.Markdown object>"
      ]
     },
     "metadata": {},
     "output_type": "display_data"
    },
    {
     "name": "stdout",
     "output_type": "stream",
     "text": [
      "-------\n",
      "lane\n",
      "son\n",
      "vehicle\n",
      "crash\n",
      "house\n",
      "blocked\n",
      "boss\n",
      "rd\n",
      "broke\n",
      "car\n",
      "-------\n"
     ]
    },
    {
     "data": {
      "text/markdown": [
       "# extra"
      ],
      "text/plain": [
       "<IPython.core.display.Markdown object>"
      ]
     },
     "metadata": {},
     "output_type": "display_data"
    },
    {
     "data": {
      "text/markdown": [
       "#### Urban"
      ],
      "text/plain": [
       "<IPython.core.display.Markdown object>"
      ]
     },
     "metadata": {},
     "output_type": "display_data"
    },
    {
     "name": "stdout",
     "output_type": "stream",
     "text": [
      "---------\n",
      "easy\n",
      "empty\n",
      "lunch\n",
      "hour\n",
      "egg\n",
      "early\n",
      "cheap\n",
      "expensive\n",
      "excuse\n",
      "cash\n",
      "---------\n"
     ]
    },
    {
     "data": {
      "text/markdown": [
       "#### Rural"
      ],
      "text/plain": [
       "<IPython.core.display.Markdown object>"
      ]
     },
     "metadata": {},
     "output_type": "display_data"
    },
    {
     "name": "stdout",
     "output_type": "stream",
     "text": [
      "------\n",
      "easy\n",
      "early\n",
      "pool\n",
      "coffee\n",
      "pizza\n",
      "ice\n",
      "hour\n",
      "adult\n",
      "plus\n",
      "excuse\n",
      "------\n"
     ]
    },
    {
     "data": {
      "text/markdown": [
       "# nature"
      ],
      "text/plain": [
       "<IPython.core.display.Markdown object>"
      ]
     },
     "metadata": {},
     "output_type": "display_data"
    },
    {
     "data": {
      "text/markdown": [
       "#### Urban"
      ],
      "text/plain": [
       "<IPython.core.display.Markdown object>"
      ]
     },
     "metadata": {},
     "output_type": "display_data"
    },
    {
     "name": "stdout",
     "output_type": "stream",
     "text": [
      "----------\n",
      "spirit\n",
      "disease\n",
      "society\n",
      "definition\n",
      "abuse\n",
      "behavior\n",
      "medicine\n",
      "universe\n",
      "humanity\n",
      "meaning\n",
      "----------\n"
     ]
    },
    {
     "data": {
      "text/markdown": [
       "#### Rural"
      ],
      "text/plain": [
       "<IPython.core.display.Markdown object>"
      ]
     },
     "metadata": {},
     "output_type": "display_data"
    },
    {
     "name": "stdout",
     "output_type": "stream",
     "text": [
      "-------\n",
      "joy\n",
      "beauty\n",
      "science\n",
      "dark\n",
      "peace\n",
      "spirit\n",
      "disease\n",
      "society\n",
      "living\n",
      "arts\n",
      "-------\n"
     ]
    },
    {
     "data": {
      "text/markdown": [
       "# path"
      ],
      "text/plain": [
       "<IPython.core.display.Markdown object>"
      ]
     },
     "metadata": {},
     "output_type": "display_data"
    },
    {
     "data": {
      "text/markdown": [
       "#### Urban"
      ],
      "text/plain": [
       "<IPython.core.display.Markdown object>"
      ]
     },
     "metadata": {},
     "output_type": "display_data"
    },
    {
     "name": "stdout",
     "output_type": "stream",
     "text": [
      "-----------\n",
      "perspective\n",
      "journey\n",
      "location\n",
      "way\n",
      "vision\n",
      "appears\n",
      "approach\n",
      "source\n",
      "ability\n",
      "situation\n",
      "-----------\n"
     ]
    },
    {
     "data": {
      "text/markdown": [
       "#### Rural"
      ],
      "text/plain": [
       "<IPython.core.display.Markdown object>"
      ]
     },
     "metadata": {},
     "output_type": "display_data"
    },
    {
     "name": "stdout",
     "output_type": "stream",
     "text": [
      "--------\n",
      "location\n",
      "journey\n",
      "form\n",
      "place\n",
      "view\n",
      "current\n",
      "source\n",
      "bottom\n",
      "bridge\n",
      "side\n",
      "--------\n"
     ]
    },
    {
     "data": {
      "text/markdown": [
       "# travel"
      ],
      "text/plain": [
       "<IPython.core.display.Markdown object>"
      ]
     },
     "metadata": {},
     "output_type": "display_data"
    },
    {
     "data": {
      "text/markdown": [
       "#### Urban"
      ],
      "text/plain": [
       "<IPython.core.display.Markdown object>"
      ]
     },
     "metadata": {},
     "output_type": "display_data"
    },
    {
     "name": "stdout",
     "output_type": "stream",
     "text": [
      "-------------\n",
      "traveling\n",
      "international\n",
      "labor\n",
      "trip\n",
      "immigration\n",
      "delivery\n",
      "spending\n",
      "luxury\n",
      "businesses\n",
      "sunglasses\n",
      "-------------\n"
     ]
    },
    {
     "data": {
      "text/markdown": [
       "#### Rural"
      ],
      "text/plain": [
       "<IPython.core.display.Markdown object>"
      ]
     },
     "metadata": {},
     "output_type": "display_data"
    },
    {
     "name": "stdout",
     "output_type": "stream",
     "text": [
      "-------------\n",
      "labor\n",
      "ban\n",
      "spending\n",
      "international\n",
      "security\n",
      "holiday\n",
      "global\n",
      "increase\n",
      "federal\n",
      "protest\n",
      "-------------\n"
     ]
    },
    {
     "data": {
      "text/markdown": [
       "# pressure"
      ],
      "text/plain": [
       "<IPython.core.display.Markdown object>"
      ]
     },
     "metadata": {},
     "output_type": "display_data"
    },
    {
     "data": {
      "text/markdown": [
       "#### Urban"
      ],
      "text/plain": [
       "<IPython.core.display.Markdown object>"
      ]
     },
     "metadata": {},
     "output_type": "display_data"
    },
    {
     "name": "stdout",
     "output_type": "stream",
     "text": [
      "----------\n",
      "ground\n",
      "standards\n",
      "levels\n",
      "damage\n",
      "power\n",
      "energy\n",
      "income\n",
      "risk\n",
      "cuts\n",
      "confidence\n",
      "----------\n"
     ]
    },
    {
     "data": {
      "text/markdown": [
       "#### Rural"
      ],
      "text/plain": [
       "<IPython.core.display.Markdown object>"
      ]
     },
     "metadata": {},
     "output_type": "display_data"
    },
    {
     "name": "stdout",
     "output_type": "stream",
     "text": [
      "-------\n",
      "rising\n",
      "control\n",
      "lower\n",
      "falling\n",
      "dp\n",
      "hr\n",
      "higher\n",
      "costs\n",
      "risk\n",
      "inside\n",
      "-------\n"
     ]
    },
    {
     "data": {
      "text/markdown": [
       "# shout"
      ],
      "text/plain": [
       "<IPython.core.display.Markdown object>"
      ]
     },
     "metadata": {},
     "output_type": "display_data"
    },
    {
     "data": {
      "text/markdown": [
       "#### Urban"
      ],
      "text/plain": [
       "<IPython.core.display.Markdown object>"
      ]
     },
     "metadata": {},
     "output_type": "display_data"
    },
    {
     "name": "stdout",
     "output_type": "stream",
     "text": [
      "--------\n",
      "shoutout\n",
      "check\n",
      "reaching\n",
      "hanging\n",
      "hang\n",
      "cheers\n",
      "freaking\n",
      "figure\n",
      "came\n",
      "checking\n",
      "--------\n"
     ]
    },
    {
     "data": {
      "text/markdown": [
       "#### Rural"
      ],
      "text/plain": [
       "<IPython.core.display.Markdown object>"
      ]
     },
     "metadata": {},
     "output_type": "display_data"
    },
    {
     "name": "stdout",
     "output_type": "stream",
     "text": [
      "---------------\n",
      "check\n",
      "hang\n",
      "figure\n",
      "thanks\n",
      "turns\n",
      "prayers\n",
      "find\n",
      "came\n",
      "sending\n",
      "congratulations\n",
      "---------------\n"
     ]
    },
    {
     "data": {
      "text/markdown": [
       "# id"
      ],
      "text/plain": [
       "<IPython.core.display.Markdown object>"
      ]
     },
     "metadata": {},
     "output_type": "display_data"
    },
    {
     "data": {
      "text/markdown": [
       "#### Urban"
      ],
      "text/plain": [
       "<IPython.core.display.Markdown object>"
      ]
     },
     "metadata": {},
     "output_type": "display_data"
    },
    {
     "name": "stdout",
     "output_type": "stream",
     "text": [
      "------\n",
      "d\n",
      "would\n",
      "ill\n",
      "police\n",
      "sub\n",
      "phone\n",
      "uber\n",
      "gender\n",
      "imma\n",
      "refuse\n",
      "------\n"
     ]
    },
    {
     "data": {
      "text/markdown": [
       "#### Rural"
      ],
      "text/plain": [
       "<IPython.core.display.Markdown object>"
      ]
     },
     "metadata": {},
     "output_type": "display_data"
    },
    {
     "name": "stdout",
     "output_type": "stream",
     "text": [
      "-------\n",
      "d\n",
      "ill\n",
      "would\n",
      "could\n",
      "or\n",
      "etc\n",
      "pls\n",
      "ima\n",
      "illegal\n",
      "code\n",
      "-------\n"
     ]
    },
    {
     "data": {
      "text/markdown": [
       "# for"
      ],
      "text/plain": [
       "<IPython.core.display.Markdown object>"
      ]
     },
     "metadata": {},
     "output_type": "display_data"
    },
    {
     "data": {
      "text/markdown": [
       "#### Urban"
      ],
      "text/plain": [
       "<IPython.core.display.Markdown object>"
      ]
     },
     "metadata": {},
     "output_type": "display_data"
    },
    {
     "name": "stdout",
     "output_type": "stream",
     "text": [
      "-------\n",
      "with\n",
      "within\n",
      "without\n",
      "towards\n",
      "forward\n",
      "earn\n",
      "after\n",
      "through\n",
      "upon\n",
      "at\n",
      "-------\n"
     ]
    },
    {
     "data": {
      "text/markdown": [
       "#### Rural"
      ],
      "text/plain": [
       "<IPython.core.display.Markdown object>"
      ]
     },
     "metadata": {},
     "output_type": "display_data"
    },
    {
     "name": "stdout",
     "output_type": "stream",
     "text": [
      "---------\n",
      "with\n",
      "forward\n",
      "during\n",
      "at\n",
      "within\n",
      "consider\n",
      "annual\n",
      "event\n",
      "spend\n",
      "celebrate\n",
      "---------\n"
     ]
    },
    {
     "data": {
      "text/markdown": [
       "# issues"
      ],
      "text/plain": [
       "<IPython.core.display.Markdown object>"
      ]
     },
     "metadata": {},
     "output_type": "display_data"
    },
    {
     "data": {
      "text/markdown": [
       "#### Urban"
      ],
      "text/plain": [
       "<IPython.core.display.Markdown object>"
      ]
     },
     "metadata": {},
     "output_type": "display_data"
    },
    {
     "name": "stdout",
     "output_type": "stream",
     "text": [
      "-------------\n",
      "problems\n",
      "conversations\n",
      "concern\n",
      "issue\n",
      "injuries\n",
      "problem\n",
      "conditions\n",
      "bias\n",
      "areas\n",
      "groups\n",
      "-------------\n"
     ]
    },
    {
     "data": {
      "text/markdown": [
       "#### Rural"
      ],
      "text/plain": [
       "<IPython.core.display.Markdown object>"
      ]
     },
     "metadata": {},
     "output_type": "display_data"
    },
    {
     "name": "stdout",
     "output_type": "stream",
     "text": [
      "---------\n",
      "problems\n",
      "evidence\n",
      "mental\n",
      "issue\n",
      "data\n",
      "potential\n",
      "insurance\n",
      "problem\n",
      "benefits\n",
      "security\n",
      "---------\n"
     ]
    },
    {
     "data": {
      "text/markdown": [
       "# amazon"
      ],
      "text/plain": [
       "<IPython.core.display.Markdown object>"
      ]
     },
     "metadata": {},
     "output_type": "display_data"
    },
    {
     "data": {
      "text/markdown": [
       "#### Urban"
      ],
      "text/plain": [
       "<IPython.core.display.Markdown object>"
      ]
     },
     "metadata": {},
     "output_type": "display_data"
    },
    {
     "name": "stdout",
     "output_type": "stream",
     "text": [
      "--------\n",
      "apple\n",
      "steel\n",
      "storage\n",
      "medium\n",
      "online\n",
      "nwt\n",
      "99\n",
      "iphone\n",
      "poshmark\n",
      "tank\n",
      "--------\n"
     ]
    },
    {
     "data": {
      "text/markdown": [
       "#### Rural"
      ],
      "text/plain": [
       "<IPython.core.display.Markdown object>"
      ]
     },
     "metadata": {},
     "output_type": "display_data"
    },
    {
     "name": "stdout",
     "output_type": "stream",
     "text": [
      "------\n",
      "app\n",
      "card\n",
      "auto\n",
      "ad\n",
      "cash\n",
      "google\n",
      "store\n",
      "500\n",
      "code\n",
      "apple\n",
      "------\n"
     ]
    },
    {
     "data": {
      "text/markdown": [
       "# mess"
      ],
      "text/plain": [
       "<IPython.core.display.Markdown object>"
      ]
     },
     "metadata": {},
     "output_type": "display_data"
    },
    {
     "data": {
      "text/markdown": [
       "#### Urban"
      ],
      "text/plain": [
       "<IPython.core.display.Markdown object>"
      ]
     },
     "metadata": {},
     "output_type": "display_data"
    },
    {
     "name": "stdout",
     "output_type": "stream",
     "text": [
      "---------\n",
      "joke\n",
      "lie\n",
      "blow\n",
      "beef\n",
      "pull\n",
      "stick\n",
      "clown\n",
      "nonsense\n",
      "nightmare\n",
      "moron\n",
      "---------\n"
     ]
    },
    {
     "data": {
      "text/markdown": [
       "#### Rural"
      ],
      "text/plain": [
       "<IPython.core.display.Markdown object>"
      ]
     },
     "metadata": {},
     "output_type": "display_data"
    },
    {
     "name": "stdout",
     "output_type": "stream",
     "text": [
      "-------\n",
      "joke\n",
      "problem\n",
      "fuck\n",
      "deal\n",
      "wake\n",
      "bitch\n",
      "throw\n",
      "lie\n",
      "stick\n",
      "pull\n",
      "-------\n"
     ]
    },
    {
     "data": {
      "text/markdown": [
       "# magic"
      ],
      "text/plain": [
       "<IPython.core.display.Markdown object>"
      ]
     },
     "metadata": {},
     "output_type": "display_data"
    },
    {
     "data": {
      "text/markdown": [
       "#### Urban"
      ],
      "text/plain": [
       "<IPython.core.display.Markdown object>"
      ]
     },
     "metadata": {},
     "output_type": "display_data"
    },
    {
     "name": "stdout",
     "output_type": "stream",
     "text": [
      "------\n",
      "metal\n",
      "dragon\n",
      "stars\n",
      "guitar\n",
      "jazz\n",
      "ray\n",
      "theory\n",
      "devil\n",
      "band\n",
      "wwe\n",
      "------\n"
     ]
    },
    {
     "data": {
      "text/markdown": [
       "#### Rural"
      ],
      "text/plain": [
       "<IPython.core.display.Markdown object>"
      ]
     },
     "metadata": {},
     "output_type": "display_data"
    },
    {
     "name": "stdout",
     "output_type": "stream",
     "text": [
      "--------\n",
      "metal\n",
      "mix\n",
      "pink\n",
      "songs\n",
      "original\n",
      "dark\n",
      "classic\n",
      "light\n",
      "band\n",
      "disc\n",
      "--------\n"
     ]
    },
    {
     "data": {
      "text/markdown": [
       "# wild"
      ],
      "text/plain": [
       "<IPython.core.display.Markdown object>"
      ]
     },
     "metadata": {},
     "output_type": "display_data"
    },
    {
     "data": {
      "text/markdown": [
       "#### Urban"
      ],
      "text/plain": [
       "<IPython.core.display.Markdown object>"
      ]
     },
     "metadata": {},
     "output_type": "display_data"
    },
    {
     "name": "stdout",
     "output_type": "stream",
     "text": [
      "-------\n",
      "crazy\n",
      "hot\n",
      "rough\n",
      "ghost\n",
      "wet\n",
      "lit\n",
      "weird\n",
      "nasty\n",
      "cold\n",
      "classic\n",
      "-------\n"
     ]
    },
    {
     "data": {
      "text/markdown": [
       "#### Rural"
      ],
      "text/plain": [
       "<IPython.core.display.Markdown object>"
      ]
     },
     "metadata": {},
     "output_type": "display_data"
    },
    {
     "name": "stdout",
     "output_type": "stream",
     "text": [
      "-------\n",
      "hot\n",
      "scary\n",
      "bomb\n",
      "dark\n",
      "fish\n",
      "west\n",
      "wide\n",
      "classic\n",
      "snake\n",
      "long\n",
      "-------\n"
     ]
    },
    {
     "data": {
      "text/markdown": [
       "# jackson"
      ],
      "text/plain": [
       "<IPython.core.display.Markdown object>"
      ]
     },
     "metadata": {},
     "output_type": "display_data"
    },
    {
     "data": {
      "text/markdown": [
       "#### Urban"
      ],
      "text/plain": [
       "<IPython.core.display.Markdown object>"
      ]
     },
     "metadata": {},
     "output_type": "display_data"
    },
    {
     "name": "stdout",
     "output_type": "stream",
     "text": [
      "--------\n",
      "smith\n",
      "johnson\n",
      "davis\n",
      "jones\n",
      "josh\n",
      "anthony\n",
      "andrew\n",
      "allen\n",
      "williams\n",
      "phil\n",
      "--------\n"
     ]
    },
    {
     "data": {
      "text/markdown": [
       "#### Rural"
      ],
      "text/plain": [
       "<IPython.core.display.Markdown object>"
      ]
     },
     "metadata": {},
     "output_type": "display_data"
    },
    {
     "name": "stdout",
     "output_type": "stream",
     "text": [
      "-------\n",
      "michael\n",
      "kevin\n",
      "scott\n",
      "thomas\n",
      "smith\n",
      "jones\n",
      "paul\n",
      "kelly\n",
      "george\n",
      "jr\n",
      "-------\n"
     ]
    },
    {
     "data": {
      "text/markdown": [
       "# top"
      ],
      "text/plain": [
       "<IPython.core.display.Markdown object>"
      ]
     },
     "metadata": {},
     "output_type": "display_data"
    },
    {
     "data": {
      "text/markdown": [
       "#### Urban"
      ],
      "text/plain": [
       "<IPython.core.display.Markdown object>"
      ]
     },
     "metadata": {},
     "output_type": "display_data"
    },
    {
     "name": "stdout",
     "output_type": "stream",
     "text": [
      "--------\n",
      "forbes\n",
      "percent\n",
      "bottom\n",
      "hottest\n",
      "best\n",
      "highest\n",
      "biggest\n",
      "stars\n",
      "greatest\n",
      "000\n",
      "--------\n"
     ]
    },
    {
     "data": {
      "text/markdown": [
       "#### Rural"
      ],
      "text/plain": [
       "<IPython.core.display.Markdown object>"
      ]
     },
     "metadata": {},
     "output_type": "display_data"
    },
    {
     "name": "stdout",
     "output_type": "stream",
     "text": [
      "--------\n",
      "bottom\n",
      "stars\n",
      "leading\n",
      "58\n",
      "ultimate\n",
      "popular\n",
      "best\n",
      "pro\n",
      "07\n",
      "final\n",
      "--------\n"
     ]
    },
    {
     "data": {
      "text/markdown": [
       "# artist"
      ],
      "text/plain": [
       "<IPython.core.display.Markdown object>"
      ]
     },
     "metadata": {},
     "output_type": "display_data"
    },
    {
     "data": {
      "text/markdown": [
       "#### Urban"
      ],
      "text/plain": [
       "<IPython.core.display.Markdown object>"
      ]
     },
     "metadata": {},
     "output_type": "display_data"
    },
    {
     "name": "stdout",
     "output_type": "stream",
     "text": [
      "-------\n",
      "rap\n",
      "writer\n",
      "actor\n",
      "artists\n",
      "anime\n",
      "dj\n",
      "author\n",
      "image\n",
      "art\n",
      "comic\n",
      "-------\n"
     ]
    },
    {
     "data": {
      "text/markdown": [
       "#### Rural"
      ],
      "text/plain": [
       "<IPython.core.display.Markdown object>"
      ]
     },
     "metadata": {},
     "output_type": "display_data"
    },
    {
     "name": "stdout",
     "output_type": "stream",
     "text": [
      "------\n",
      "author\n",
      "award\n",
      "art\n",
      "film\n",
      "ad\n",
      "band\n",
      "image\n",
      "tool\n",
      "model\n",
      "wwe\n",
      "------\n"
     ]
    },
    {
     "data": {
      "text/markdown": [
       "# valley"
      ],
      "text/plain": [
       "<IPython.core.display.Markdown object>"
      ]
     },
     "metadata": {},
     "output_type": "display_data"
    },
    {
     "data": {
      "text/markdown": [
       "#### Urban"
      ],
      "text/plain": [
       "<IPython.core.display.Markdown object>"
      ]
     },
     "metadata": {},
     "output_type": "display_data"
    },
    {
     "name": "stdout",
     "output_type": "stream",
     "text": [
      "----------\n",
      "central\n",
      "india\n",
      "africa\n",
      "historic\n",
      "california\n",
      "chinese\n",
      "southern\n",
      "innovation\n",
      "western\n",
      "london\n",
      "----------\n"
     ]
    },
    {
     "data": {
      "text/markdown": [
       "#### Rural"
      ],
      "text/plain": [
       "<IPython.core.display.Markdown object>"
      ]
     },
     "metadata": {},
     "output_type": "display_data"
    },
    {
     "name": "stdout",
     "output_type": "stream",
     "text": [
      "----------\n",
      "newton\n",
      "central\n",
      "lowell\n",
      "worcester\n",
      "south\n",
      "plymouth\n",
      "umass\n",
      "mass\n",
      "quincy\n",
      "framingham\n",
      "----------\n"
     ]
    },
    {
     "data": {
      "text/markdown": [
       "# standing"
      ],
      "text/plain": [
       "<IPython.core.display.Markdown object>"
      ]
     },
     "metadata": {},
     "output_type": "display_data"
    },
    {
     "data": {
      "text/markdown": [
       "#### Urban"
      ],
      "text/plain": [
       "<IPython.core.display.Markdown object>"
      ]
     },
     "metadata": {},
     "output_type": "display_data"
    },
    {
     "name": "stdout",
     "output_type": "stream",
     "text": [
      "--------\n",
      "stand\n",
      "stands\n",
      "sitting\n",
      "throwing\n",
      "picking\n",
      "waking\n",
      "pulling\n",
      "catching\n",
      "fighting\n",
      "keeping\n",
      "--------\n"
     ]
    },
    {
     "data": {
      "text/markdown": [
       "#### Rural"
      ],
      "text/plain": [
       "<IPython.core.display.Markdown object>"
      ]
     },
     "metadata": {},
     "output_type": "display_data"
    },
    {
     "name": "stdout",
     "output_type": "stream",
     "text": [
      "--------\n",
      "holding\n",
      "sitting\n",
      "stand\n",
      "putting\n",
      "keeping\n",
      "line\n",
      "running\n",
      "speaking\n",
      "fighting\n",
      "heads\n",
      "--------\n"
     ]
    },
    {
     "data": {
      "text/markdown": [
       "# closet"
      ],
      "text/plain": [
       "<IPython.core.display.Markdown object>"
      ]
     },
     "metadata": {},
     "output_type": "display_data"
    },
    {
     "data": {
      "text/markdown": [
       "#### Urban"
      ],
      "text/plain": [
       "<IPython.core.display.Markdown object>"
      ]
     },
     "metadata": {},
     "output_type": "display_data"
    },
    {
     "name": "stdout",
     "output_type": "stream",
     "text": [
      "----------\n",
      "poshmark\n",
      "added\n",
      "pants\n",
      "list\n",
      "bag\n",
      "jacket\n",
      "neck\n",
      "collection\n",
      "shorts\n",
      "shirt\n",
      "----------\n"
     ]
    },
    {
     "data": {
      "text/markdown": [
       "#### Rural"
      ],
      "text/plain": [
       "<IPython.core.display.Markdown object>"
      ]
     },
     "metadata": {},
     "output_type": "display_data"
    },
    {
     "name": "stdout",
     "output_type": "stream",
     "text": [
      "-------\n",
      "dress\n",
      "vintage\n",
      "shirt\n",
      "kitchen\n",
      "size\n",
      "list\n",
      "shoes\n",
      "pinned\n",
      "pink\n",
      "style\n",
      "-------\n"
     ]
    },
    {
     "data": {
      "text/markdown": [
       "# blocked"
      ],
      "text/plain": [
       "<IPython.core.display.Markdown object>"
      ]
     },
     "metadata": {},
     "output_type": "display_data"
    },
    {
     "data": {
      "text/markdown": [
       "#### Urban"
      ],
      "text/plain": [
       "<IPython.core.display.Markdown object>"
      ]
     },
     "metadata": {},
     "output_type": "display_data"
    },
    {
     "name": "stdout",
     "output_type": "stream",
     "text": [
      "--------\n",
      "killed\n",
      "fired\n",
      "deleted\n",
      "told\n",
      "reported\n",
      "accident\n",
      "noticed\n",
      "tweeted\n",
      "kidding\n",
      "left\n",
      "--------\n"
     ]
    },
    {
     "data": {
      "text/markdown": [
       "#### Rural"
      ],
      "text/plain": [
       "<IPython.core.display.Markdown object>"
      ]
     },
     "metadata": {},
     "output_type": "display_data"
    },
    {
     "name": "stdout",
     "output_type": "stream",
     "text": [
      "-------\n",
      "told\n",
      "killed\n",
      "broke\n",
      "caught\n",
      "fired\n",
      "likes\n",
      "hit\n",
      "stopped\n",
      "sent\n",
      "stuck\n",
      "-------\n"
     ]
    },
    {
     "data": {
      "text/markdown": [
       "# actual"
      ],
      "text/plain": [
       "<IPython.core.display.Markdown object>"
      ]
     },
     "metadata": {},
     "output_type": "display_data"
    },
    {
     "data": {
      "text/markdown": [
       "#### Urban"
      ],
      "text/plain": [
       "<IPython.core.display.Markdown object>"
      ]
     },
     "metadata": {},
     "output_type": "display_data"
    },
    {
     "name": "stdout",
     "output_type": "stream",
     "text": [
      "-----------\n",
      "alternative\n",
      "idiot\n",
      "awful\n",
      "absolute\n",
      "argument\n",
      "entire\n",
      "ignorant\n",
      "opinion\n",
      "odd\n",
      "identity\n",
      "-----------\n"
     ]
    },
    {
     "data": {
      "text/markdown": [
       "#### Rural"
      ],
      "text/plain": [
       "<IPython.core.display.Markdown object>"
      ]
     },
     "metadata": {},
     "output_type": "display_data"
    },
    {
     "name": "stdout",
     "output_type": "stream",
     "text": [
      "-----------\n",
      "asshole\n",
      "idiot\n",
      "opinion\n",
      "adult\n",
      "awful\n",
      "important\n",
      "interesting\n",
      "american\n",
      "anti\n",
      "issue\n",
      "-----------\n"
     ]
    },
    {
     "data": {
      "text/markdown": [
       "# racist"
      ],
      "text/plain": [
       "<IPython.core.display.Markdown object>"
      ]
     },
     "metadata": {},
     "output_type": "display_data"
    },
    {
     "data": {
      "text/markdown": [
       "#### Urban"
      ],
      "text/plain": [
       "<IPython.core.display.Markdown object>"
      ]
     },
     "metadata": {},
     "output_type": "display_data"
    },
    {
     "name": "stdout",
     "output_type": "stream",
     "text": [
      "------------\n",
      "nazi\n",
      "liberal\n",
      "ignorant\n",
      "disgusting\n",
      "conservative\n",
      "nazis\n",
      "racism\n",
      "moron\n",
      "stupid\n",
      "violent\n",
      "------------\n"
     ]
    },
    {
     "data": {
      "text/markdown": [
       "#### Rural"
      ],
      "text/plain": [
       "<IPython.core.display.Markdown object>"
      ]
     },
     "metadata": {},
     "output_type": "display_data"
    },
    {
     "name": "stdout",
     "output_type": "stream",
     "text": [
      "-------\n",
      "liberal\n",
      "liar\n",
      "anti\n",
      "stupid\n",
      "lying\n",
      "potus\n",
      "gay\n",
      "idiot\n",
      "fake\n",
      "muslim\n",
      "-------\n"
     ]
    },
    {
     "data": {
      "text/markdown": [
       "# asshole"
      ],
      "text/plain": [
       "<IPython.core.display.Markdown object>"
      ]
     },
     "metadata": {},
     "output_type": "display_data"
    },
    {
     "data": {
      "text/markdown": [
       "#### Urban"
      ],
      "text/plain": [
       "<IPython.core.display.Markdown object>"
      ]
     },
     "metadata": {},
     "output_type": "display_data"
    },
    {
     "name": "stdout",
     "output_type": "stream",
     "text": [
      "--------\n",
      "idiot\n",
      "moron\n",
      "loser\n",
      "excuse\n",
      "ignorant\n",
      "clown\n",
      "absolute\n",
      "pathetic\n",
      "ugly\n",
      "troll\n",
      "--------\n"
     ]
    },
    {
     "data": {
      "text/markdown": [
       "#### Rural"
      ],
      "text/plain": [
       "<IPython.core.display.Markdown object>"
      ]
     },
     "metadata": {},
     "output_type": "display_data"
    },
    {
     "name": "stdout",
     "output_type": "stream",
     "text": [
      "------\n",
      "idiot\n",
      "liar\n",
      "racist\n",
      "excuse\n",
      "ugly\n",
      "awful\n",
      "joke\n",
      "angry\n",
      "actual\n",
      "evil\n",
      "------\n"
     ]
    },
    {
     "data": {
      "text/markdown": [
       "# dance"
      ],
      "text/plain": [
       "<IPython.core.display.Markdown object>"
      ]
     },
     "metadata": {},
     "output_type": "display_data"
    },
    {
     "data": {
      "text/markdown": [
       "#### Urban"
      ],
      "text/plain": [
       "<IPython.core.display.Markdown object>"
      ]
     },
     "metadata": {},
     "output_type": "display_data"
    },
    {
     "name": "stdout",
     "output_type": "stream",
     "text": [
      "-------\n",
      "dancing\n",
      "sing\n",
      "singing\n",
      "dj\n",
      "trap\n",
      "rock\n",
      "theme\n",
      "jam\n",
      "pop\n",
      "perform\n",
      "-------\n"
     ]
    },
    {
     "data": {
      "text/markdown": [
       "#### Rural"
      ],
      "text/plain": [
       "<IPython.core.display.Markdown object>"
      ]
     },
     "metadata": {},
     "output_type": "display_data"
    },
    {
     "name": "stdout",
     "output_type": "stream",
     "text": [
      "--------\n",
      "sing\n",
      "dj\n",
      "mix\n",
      "concert\n",
      "band\n",
      "rock\n",
      "wedding\n",
      "brothers\n",
      "music\n",
      "festival\n",
      "--------\n"
     ]
    },
    {
     "data": {
      "text/markdown": [
       "# assistant"
      ],
      "text/plain": [
       "<IPython.core.display.Markdown object>"
      ]
     },
     "metadata": {},
     "output_type": "display_data"
    },
    {
     "data": {
      "text/markdown": [
       "#### Urban"
      ],
      "text/plain": [
       "<IPython.core.display.Markdown object>"
      ]
     },
     "metadata": {},
     "output_type": "display_data"
    },
    {
     "name": "stdout",
     "output_type": "stream",
     "text": [
      "--------------\n",
      "associate\n",
      "technician\n",
      "specialist\n",
      "sr\n",
      "manager\n",
      "consultant\n",
      "analyst\n",
      "director\n",
      "representative\n",
      "senior\n",
      "--------------\n"
     ]
    },
    {
     "data": {
      "text/markdown": [
       "#### Rural"
      ],
      "text/plain": [
       "<IPython.core.display.Markdown object>"
      ]
     },
     "metadata": {},
     "output_type": "display_data"
    },
    {
     "name": "stdout",
     "output_type": "stream",
     "text": [
      "-----------\n",
      "manager\n",
      "nurse\n",
      "director\n",
      "medical\n",
      "hiring\n",
      "development\n",
      "usa\n",
      "apply\n",
      "services\n",
      "partner\n",
      "-----------\n"
     ]
    },
    {
     "data": {
      "text/markdown": [
       "# each"
      ],
      "text/plain": [
       "<IPython.core.display.Markdown object>"
      ]
     },
     "metadata": {},
     "output_type": "display_data"
    },
    {
     "data": {
      "text/markdown": [
       "#### Urban"
      ],
      "text/plain": [
       "<IPython.core.display.Markdown object>"
      ]
     },
     "metadata": {},
     "output_type": "display_data"
    },
    {
     "name": "stdout",
     "output_type": "stream",
     "text": [
      "---------\n",
      "every\n",
      "groups\n",
      "countries\n",
      "the\n",
      "humans\n",
      "players\n",
      "any\n",
      "people\n",
      "teams\n",
      "them\n",
      "---------\n"
     ]
    },
    {
     "data": {
      "text/markdown": [
       "#### Rural"
      ],
      "text/plain": [
       "<IPython.core.display.Markdown object>"
      ]
     },
     "metadata": {},
     "output_type": "display_data"
    },
    {
     "name": "stdout",
     "output_type": "stream",
     "text": [
      "-------\n",
      "every\n",
      "items\n",
      "teams\n",
      "another\n",
      "any\n",
      "the\n",
      "per\n",
      "half\n",
      "leaders\n",
      "th\n",
      "-------\n"
     ]
    },
    {
     "data": {
      "text/markdown": [
       "# about"
      ],
      "text/plain": [
       "<IPython.core.display.Markdown object>"
      ]
     },
     "metadata": {},
     "output_type": "display_data"
    },
    {
     "data": {
      "text/markdown": [
       "#### Urban"
      ],
      "text/plain": [
       "<IPython.core.display.Markdown object>"
      ]
     },
     "metadata": {},
     "output_type": "display_data"
    },
    {
     "name": "stdout",
     "output_type": "stream",
     "text": [
      "----------\n",
      "abt\n",
      "bout\n",
      "exactly\n",
      "related\n",
      "besides\n",
      "important\n",
      "ted\n",
      "silly\n",
      "constantly\n",
      "matters\n",
      "----------\n"
     ]
    },
    {
     "data": {
      "text/markdown": [
       "#### Rural"
      ],
      "text/plain": [
       "<IPython.core.display.Markdown object>"
      ]
     },
     "metadata": {},
     "output_type": "display_data"
    },
    {
     "name": "stdout",
     "output_type": "stream",
     "text": [
      "---------\n",
      "bout\n",
      "related\n",
      "exactly\n",
      "actually\n",
      "stupid\n",
      "important\n",
      "doing\n",
      "do\n",
      "funny\n",
      "negative\n",
      "---------\n"
     ]
    },
    {
     "data": {
      "text/markdown": [
       "# hi"
      ],
      "text/plain": [
       "<IPython.core.display.Markdown object>"
      ]
     },
     "metadata": {},
     "output_type": "display_data"
    },
    {
     "data": {
      "text/markdown": [
       "#### Urban"
      ],
      "text/plain": [
       "<IPython.core.display.Markdown object>"
      ]
     },
     "metadata": {},
     "output_type": "display_data"
    },
    {
     "name": "stdout",
     "output_type": "stream",
     "text": [
      "-------\n",
      "hello\n",
      "hey\n",
      "sorry\n",
      "sir\n",
      "glad\n",
      "welcome\n",
      "yes\n",
      "yay\n",
      "adam\n",
      "thx\n",
      "-------\n"
     ]
    },
    {
     "data": {
      "text/markdown": [
       "#### Rural"
      ],
      "text/plain": [
       "<IPython.core.display.Markdown object>"
      ]
     },
     "metadata": {},
     "output_type": "display_data"
    },
    {
     "name": "stdout",
     "output_type": "stream",
     "text": [
      "--------\n",
      "hello\n",
      "lo\n",
      "hey\n",
      "goodbye\n",
      "sorry\n",
      "amen\n",
      "f\n",
      "69\n",
      "temp\n",
      "forecast\n",
      "--------\n"
     ]
    },
    {
     "data": {
      "text/markdown": [
       "# weekly"
      ],
      "text/plain": [
       "<IPython.core.display.Markdown object>"
      ]
     },
     "metadata": {},
     "output_type": "display_data"
    },
    {
     "data": {
      "text/markdown": [
       "#### Urban"
      ],
      "text/plain": [
       "<IPython.core.display.Markdown object>"
      ]
     },
     "metadata": {},
     "output_type": "display_data"
    },
    {
     "name": "stdout",
     "output_type": "stream",
     "text": [
      "----------\n",
      "newsletter\n",
      "blog\n",
      "recap\n",
      "preview\n",
      "upcoming\n",
      "webinar\n",
      "newest\n",
      "highlights\n",
      "daily\n",
      "links\n",
      "----------\n"
     ]
    },
    {
     "data": {
      "text/markdown": [
       "#### Rural"
      ],
      "text/plain": [
       "<IPython.core.display.Markdown object>"
      ]
     },
     "metadata": {},
     "output_type": "display_data"
    },
    {
     "name": "stdout",
     "output_type": "stream",
     "text": [
      "--------\n",
      "upcoming\n",
      "updates\n",
      "menu\n",
      "website\n",
      "daily\n",
      "february\n",
      "latest\n",
      "calendar\n",
      "updated\n",
      "january\n",
      "--------\n"
     ]
    },
    {
     "data": {
      "text/markdown": [
       "# court"
      ],
      "text/plain": [
       "<IPython.core.display.Markdown object>"
      ]
     },
     "metadata": {},
     "output_type": "display_data"
    },
    {
     "data": {
      "text/markdown": [
       "#### Urban"
      ],
      "text/plain": [
       "<IPython.core.display.Markdown object>"
      ]
     },
     "metadata": {},
     "output_type": "display_data"
    },
    {
     "name": "stdout",
     "output_type": "stream",
     "text": [
      "-----------\n",
      "judge\n",
      "federal\n",
      "supreme\n",
      "charges\n",
      "attorney\n",
      "immigration\n",
      "law\n",
      "strike\n",
      "arrest\n",
      "assault\n",
      "-----------\n"
     ]
    },
    {
     "data": {
      "text/markdown": [
       "#### Rural"
      ],
      "text/plain": [
       "<IPython.core.display.Markdown object>"
      ]
     },
     "metadata": {},
     "output_type": "display_data"
    },
    {
     "name": "stdout",
     "output_type": "stream",
     "text": [
      "----------\n",
      "federal\n",
      "senate\n",
      "law\n",
      "state\n",
      "drug\n",
      "mayor\n",
      "murder\n",
      "general\n",
      "washington\n",
      "texas\n",
      "----------\n"
     ]
    },
    {
     "data": {
      "text/markdown": [
       "# regular"
      ],
      "text/plain": [
       "<IPython.core.display.Markdown object>"
      ]
     },
     "metadata": {},
     "output_type": "display_data"
    },
    {
     "data": {
      "text/markdown": [
       "#### Urban"
      ],
      "text/plain": [
       "<IPython.core.display.Markdown object>"
      ]
     },
     "metadata": {},
     "output_type": "display_data"
    },
    {
     "name": "stdout",
     "output_type": "stream",
     "text": [
      "--------\n",
      "baseball\n",
      "mid\n",
      "ps4\n",
      "mlb\n",
      "limited\n",
      "football\n",
      "shitty\n",
      "per\n",
      "playoff\n",
      "golf\n",
      "--------\n"
     ]
    },
    {
     "data": {
      "text/markdown": [
       "#### Rural"
      ],
      "text/plain": [
       "<IPython.core.display.Markdown object>"
      ]
     },
     "metadata": {},
     "output_type": "display_data"
    },
    {
     "name": "stdout",
     "output_type": "stream",
     "text": [
      "--------\n",
      "during\n",
      "pre\n",
      "7\n",
      "8\n",
      "mid\n",
      "six\n",
      "schedule\n",
      "upcoming\n",
      "6\n",
      "winter\n",
      "--------\n"
     ]
    },
    {
     "data": {
      "text/markdown": [
       "# level"
      ],
      "text/plain": [
       "<IPython.core.display.Markdown object>"
      ]
     },
     "metadata": {},
     "output_type": "display_data"
    },
    {
     "data": {
      "text/markdown": [
       "#### Urban"
      ],
      "text/plain": [
       "<IPython.core.display.Markdown object>"
      ]
     },
     "metadata": {},
     "output_type": "display_data"
    },
    {
     "name": "stdout",
     "output_type": "stream",
     "text": [
      "----------\n",
      "speed\n",
      "rate\n",
      "levels\n",
      "track\n",
      "point\n",
      "generation\n",
      "scale\n",
      "degree\n",
      "edge\n",
      "year\n",
      "----------\n"
     ]
    },
    {
     "data": {
      "text/markdown": [
       "#### Rural"
      ],
      "text/plain": [
       "<IPython.core.display.Markdown object>"
      ]
     },
     "metadata": {},
     "output_type": "display_data"
    },
    {
     "name": "stdout",
     "output_type": "stream",
     "text": [
      "----------\n",
      "badge\n",
      "earned\n",
      "speed\n",
      "generation\n",
      "point\n",
      "week\n",
      "age\n",
      "stage\n",
      "lead\n",
      "season\n",
      "----------\n"
     ]
    },
    {
     "data": {
      "text/markdown": [
       "# effort"
      ],
      "text/plain": [
       "<IPython.core.display.Markdown object>"
      ]
     },
     "metadata": {},
     "output_type": "display_data"
    },
    {
     "data": {
      "text/markdown": [
       "#### Urban"
      ],
      "text/plain": [
       "<IPython.core.display.Markdown object>"
      ]
     },
     "metadata": {},
     "output_type": "display_data"
    },
    {
     "name": "stdout",
     "output_type": "stream",
     "text": [
      "--------------\n",
      "opportunity\n",
      "argument\n",
      "attempt\n",
      "action\n",
      "ability\n",
      "organization\n",
      "goal\n",
      "responsibility\n",
      "decision\n",
      "offense\n",
      "--------------\n"
     ]
    },
    {
     "data": {
      "text/markdown": [
       "#### Rural"
      ],
      "text/plain": [
       "<IPython.core.display.Markdown object>"
      ]
     },
     "metadata": {},
     "output_type": "display_data"
    },
    {
     "name": "stdout",
     "output_type": "stream",
     "text": [
      "-----------\n",
      "decision\n",
      "opportunity\n",
      "defense\n",
      "performance\n",
      "action\n",
      "goal\n",
      "lead\n",
      "moves\n",
      "experience\n",
      "talent\n",
      "-----------\n"
     ]
    },
    {
     "data": {
      "text/markdown": [
       "# famous"
      ],
      "text/plain": [
       "<IPython.core.display.Markdown object>"
      ]
     },
     "metadata": {},
     "output_type": "display_data"
    },
    {
     "data": {
      "text/markdown": [
       "#### Urban"
      ],
      "text/plain": [
       "<IPython.core.display.Markdown object>"
      ]
     },
     "metadata": {},
     "output_type": "display_data"
    },
    {
     "name": "stdout",
     "output_type": "stream",
     "text": [
      "---------\n",
      "asian\n",
      "celebrity\n",
      "popular\n",
      "gay\n",
      "funny\n",
      "married\n",
      "irish\n",
      "hilarious\n",
      "iconic\n",
      "inspired\n",
      "---------\n"
     ]
    },
    {
     "data": {
      "text/markdown": [
       "#### Rural"
      ],
      "text/plain": [
       "<IPython.core.display.Markdown object>"
      ]
     },
     "metadata": {},
     "output_type": "display_data"
    },
    {
     "name": "stdout",
     "output_type": "stream",
     "text": [
      "---------\n",
      "hilarious\n",
      "funny\n",
      "born\n",
      "stone\n",
      "terrible\n",
      "weird\n",
      "surprised\n",
      "crazy\n",
      "gay\n",
      "true\n",
      "---------\n"
     ]
    },
    {
     "data": {
      "text/markdown": [
       "# dj"
      ],
      "text/plain": [
       "<IPython.core.display.Markdown object>"
      ]
     },
     "metadata": {},
     "output_type": "display_data"
    },
    {
     "data": {
      "text/markdown": [
       "#### Urban"
      ],
      "text/plain": [
       "<IPython.core.display.Markdown object>"
      ]
     },
     "metadata": {},
     "output_type": "display_data"
    },
    {
     "name": "stdout",
     "output_type": "stream",
     "text": [
      "-----\n",
      "remix\n",
      "prod\n",
      "ft\n",
      "feat\n",
      "drake\n",
      "jam\n",
      "jazz\n",
      "rap\n",
      "mix\n",
      "trap\n",
      "-----\n"
     ]
    },
    {
     "data": {
      "text/markdown": [
       "#### Rural"
      ],
      "text/plain": [
       "<IPython.core.display.Markdown object>"
      ]
     },
     "metadata": {},
     "output_type": "display_data"
    },
    {
     "name": "stdout",
     "output_type": "stream",
     "text": [
      "-----\n",
      "ft\n",
      "jay\n",
      "j\n",
      "mix\n",
      "feat\n",
      "scott\n",
      "band\n",
      "dance\n",
      "k\n",
      "brown\n",
      "-----\n"
     ]
    },
    {
     "data": {
      "text/markdown": [
       "# modern"
      ],
      "text/plain": [
       "<IPython.core.display.Markdown object>"
      ]
     },
     "metadata": {},
     "output_type": "display_data"
    },
    {
     "data": {
      "text/markdown": [
       "#### Urban"
      ],
      "text/plain": [
       "<IPython.core.display.Markdown object>"
      ]
     },
     "metadata": {},
     "output_type": "display_data"
    },
    {
     "name": "stdout",
     "output_type": "stream",
     "text": [
      "-----------\n",
      "urban\n",
      "valley\n",
      "magazine\n",
      "cultural\n",
      "digital\n",
      "design\n",
      "engineering\n",
      "innovation\n",
      "japanese\n",
      "native\n",
      "-----------\n"
     ]
    },
    {
     "data": {
      "text/markdown": [
       "#### Rural"
      ],
      "text/plain": [
       "<IPython.core.display.Markdown object>"
      ]
     },
     "metadata": {},
     "output_type": "display_data"
    },
    {
     "name": "stdout",
     "output_type": "stream",
     "text": [
      "--------\n",
      "design\n",
      "digital\n",
      "culture\n",
      "science\n",
      "industry\n",
      "systems\n",
      "sciences\n",
      "web\n",
      "global\n",
      "art\n",
      "--------\n"
     ]
    },
    {
     "data": {
      "text/markdown": [
       "# paper"
      ],
      "text/plain": [
       "<IPython.core.display.Markdown object>"
      ]
     },
     "metadata": {},
     "output_type": "display_data"
    },
    {
     "data": {
      "text/markdown": [
       "#### Urban"
      ],
      "text/plain": [
       "<IPython.core.display.Markdown object>"
      ]
     },
     "metadata": {},
     "output_type": "display_data"
    },
    {
     "name": "stdout",
     "output_type": "stream",
     "text": [
      "--------\n",
      "novel\n",
      "book\n",
      "article\n",
      "lab\n",
      "print\n",
      "image\n",
      "box\n",
      "research\n",
      "doc\n",
      "articles\n",
      "--------\n"
     ]
    },
    {
     "data": {
      "text/markdown": [
       "#### Rural"
      ],
      "text/plain": [
       "<IPython.core.display.Markdown object>"
      ]
     },
     "metadata": {},
     "output_type": "display_data"
    },
    {
     "name": "stdout",
     "output_type": "stream",
     "text": [
      "-------\n",
      "book\n",
      "books\n",
      "machine\n",
      "site\n",
      "code\n",
      "project\n",
      "screen\n",
      "ad\n",
      "letter\n",
      "writing\n",
      "-------\n"
     ]
    },
    {
     "data": {
      "text/markdown": [
       "# unfollowed"
      ],
      "text/plain": [
       "<IPython.core.display.Markdown object>"
      ]
     },
     "metadata": {},
     "output_type": "display_data"
    },
    {
     "data": {
      "text/markdown": [
       "#### Urban"
      ],
      "text/plain": [
       "<IPython.core.display.Markdown object>"
      ]
     },
     "metadata": {},
     "output_type": "display_data"
    },
    {
     "name": "stdout",
     "output_type": "stream",
     "text": [
      "-------------\n",
      "followed\n",
      "automatically\n",
      "kills\n",
      "blocked\n",
      "unfollowers\n",
      "following\n",
      "told\n",
      "trust\n",
      "reminds\n",
      "killed\n",
      "-------------\n"
     ]
    },
    {
     "data": {
      "text/markdown": [
       "#### Rural"
      ],
      "text/plain": [
       "<IPython.core.display.Markdown object>"
      ]
     },
     "metadata": {},
     "output_type": "display_data"
    },
    {
     "name": "stdout",
     "output_type": "stream",
     "text": [
      "-------------\n",
      "followed\n",
      "automatically\n",
      "frm\n",
      "following\n",
      "killing\n",
      "hrzn\n",
      "text\n",
      "meteobridge\n",
      "between\n",
      "number\n",
      "-------------\n"
     ]
    },
    {
     "data": {
      "text/markdown": [
       "# amp"
      ],
      "text/plain": [
       "<IPython.core.display.Markdown object>"
      ]
     },
     "metadata": {},
     "output_type": "display_data"
    },
    {
     "data": {
      "text/markdown": [
       "#### Urban"
      ],
      "text/plain": [
       "<IPython.core.display.Markdown object>"
      ]
     },
     "metadata": {},
     "output_type": "display_data"
    },
    {
     "name": "stdout",
     "output_type": "stream",
     "text": [
      "---------\n",
      "w\n",
      "and\n",
      "via\n",
      "n\n",
      "featuring\n",
      "etc\n",
      "by\n",
      "forum\n",
      "6pm\n",
      "et\n",
      "---------\n"
     ]
    },
    {
     "data": {
      "text/markdown": [
       "#### Rural"
      ],
      "text/plain": [
       "<IPython.core.display.Markdown object>"
      ]
     },
     "metadata": {},
     "output_type": "display_data"
    },
    {
     "name": "stdout",
     "output_type": "stream",
     "text": [
      "-------\n",
      "w\n",
      "and\n",
      "n\n",
      "via\n",
      "c\n",
      "program\n",
      "k\n",
      "annual\n",
      "by\n",
      "center\n",
      "-------\n"
     ]
    },
    {
     "data": {
      "text/markdown": [
       "# boys"
      ],
      "text/plain": [
       "<IPython.core.display.Markdown object>"
      ]
     },
     "metadata": {},
     "output_type": "display_data"
    },
    {
     "data": {
      "text/markdown": [
       "#### Urban"
      ],
      "text/plain": [
       "<IPython.core.display.Markdown object>"
      ]
     },
     "metadata": {},
     "output_type": "display_data"
    },
    {
     "name": "stdout",
     "output_type": "stream",
     "text": [
      "--------\n",
      "girls\n",
      "kids\n",
      "dudes\n",
      "ladies\n",
      "babies\n",
      "brothers\n",
      "moms\n",
      "guys\n",
      "men\n",
      "boy\n",
      "--------\n"
     ]
    },
    {
     "data": {
      "text/markdown": [
       "#### Rural"
      ],
      "text/plain": [
       "<IPython.core.display.Markdown object>"
      ]
     },
     "metadata": {},
     "output_type": "display_data"
    },
    {
     "name": "stdout",
     "output_type": "stream",
     "text": [
      "----------\n",
      "girls\n",
      "varsity\n",
      "hockey\n",
      "soccer\n",
      "basketball\n",
      "baseball\n",
      "hs\n",
      "tournament\n",
      "warriors\n",
      "teams\n",
      "----------\n"
     ]
    },
    {
     "data": {
      "text/markdown": [
       "# automatically"
      ],
      "text/plain": [
       "<IPython.core.display.Markdown object>"
      ]
     },
     "metadata": {},
     "output_type": "display_data"
    },
    {
     "data": {
      "text/markdown": [
       "#### Urban"
      ],
      "text/plain": [
       "<IPython.core.display.Markdown object>"
      ]
     },
     "metadata": {},
     "output_type": "display_data"
    },
    {
     "name": "stdout",
     "output_type": "stream",
     "text": [
      "-----------\n",
      "unfollowed\n",
      "followed\n",
      "trust\n",
      "unfollowers\n",
      "just\n",
      "following\n",
      "billion\n",
      "kills\n",
      "electric\n",
      "number\n",
      "-----------\n"
     ]
    },
    {
     "data": {
      "text/markdown": [
       "#### Rural"
      ],
      "text/plain": [
       "<IPython.core.display.Markdown object>"
      ]
     },
     "metadata": {},
     "output_type": "display_data"
    },
    {
     "name": "stdout",
     "output_type": "stream",
     "text": [
      "----------\n",
      "unfollowed\n",
      "followed\n",
      "goodbye\n",
      "judge\n",
      "edt\n",
      "number\n",
      "just\n",
      "following\n",
      "que\n",
      "telling\n",
      "----------\n"
     ]
    },
    {
     "data": {
      "text/markdown": [
       "# idiot"
      ],
      "text/plain": [
       "<IPython.core.display.Markdown object>"
      ]
     },
     "metadata": {},
     "output_type": "display_data"
    },
    {
     "data": {
      "text/markdown": [
       "#### Urban"
      ],
      "text/plain": [
       "<IPython.core.display.Markdown object>"
      ]
     },
     "metadata": {},
     "output_type": "display_data"
    },
    {
     "name": "stdout",
     "output_type": "stream",
     "text": [
      "--------\n",
      "asshole\n",
      "moron\n",
      "loser\n",
      "ignorant\n",
      "troll\n",
      "clown\n",
      "pathetic\n",
      "liar\n",
      "excuse\n",
      "argument\n",
      "--------\n"
     ]
    },
    {
     "data": {
      "text/markdown": [
       "#### Rural"
      ],
      "text/plain": [
       "<IPython.core.display.Markdown object>"
      ]
     },
     "metadata": {},
     "output_type": "display_data"
    },
    {
     "name": "stdout",
     "output_type": "stream",
     "text": [
      "-------\n",
      "asshole\n",
      "liar\n",
      "racist\n",
      "excuse\n",
      "awful\n",
      "stupid\n",
      "evil\n",
      "ugly\n",
      "joke\n",
      "lying\n",
      "-------\n"
     ]
    },
    {
     "data": {
      "text/markdown": [
       "# roll"
      ],
      "text/plain": [
       "<IPython.core.display.Markdown object>"
      ]
     },
     "metadata": {},
     "output_type": "display_data"
    },
    {
     "data": {
      "text/markdown": [
       "#### Urban"
      ],
      "text/plain": [
       "<IPython.core.display.Markdown object>"
      ]
     },
     "metadata": {},
     "output_type": "display_data"
    },
    {
     "name": "stdout",
     "output_type": "stream",
     "text": [
      "-----\n",
      "shake\n",
      "pull\n",
      "lay\n",
      "throw\n",
      "blow\n",
      "slide\n",
      "rolls\n",
      "pop\n",
      "wrap\n",
      "knock\n",
      "-----\n"
     ]
    },
    {
     "data": {
      "text/markdown": [
       "#### Rural"
      ],
      "text/plain": [
       "<IPython.core.display.Markdown object>"
      ]
     },
     "metadata": {},
     "output_type": "display_data"
    },
    {
     "name": "stdout",
     "output_type": "stream",
     "text": [
      "-----\n",
      "pull\n",
      "turn\n",
      "fly\n",
      "walk\n",
      "kick\n",
      "throw\n",
      "jump\n",
      "pop\n",
      "rock\n",
      "go\n",
      "-----\n"
     ]
    },
    {
     "data": {
      "text/markdown": [
       "# hr"
      ],
      "text/plain": [
       "<IPython.core.display.Markdown object>"
      ]
     },
     "metadata": {},
     "output_type": "display_data"
    },
    {
     "data": {
      "text/markdown": [
       "#### Urban"
      ],
      "text/plain": [
       "<IPython.core.display.Markdown object>"
      ]
     },
     "metadata": {},
     "output_type": "display_data"
    },
    {
     "name": "stdout",
     "output_type": "stream",
     "text": [
      "-------\n",
      "hrs\n",
      "min\n",
      "exit\n",
      "pt\n",
      "0\n",
      "mins\n",
      "inbound\n",
      "hour\n",
      "lead\n",
      "bos\n",
      "-------\n"
     ]
    },
    {
     "data": {
      "text/markdown": [
       "#### Rural"
      ],
      "text/plain": [
       "<IPython.core.display.Markdown object>"
      ]
     },
     "metadata": {},
     "output_type": "display_data"
    },
    {
     "name": "stdout",
     "output_type": "stream",
     "text": [
      "--------\n",
      "rising\n",
      "min\n",
      "dp\n",
      "lead\n",
      "rate\n",
      "pressure\n",
      "0\n",
      "seconds\n",
      "minutes\n",
      "leads\n",
      "--------\n"
     ]
    },
    {
     "data": {
      "text/markdown": [
       "# texas"
      ],
      "text/plain": [
       "<IPython.core.display.Markdown object>"
      ]
     },
     "metadata": {},
     "output_type": "display_data"
    },
    {
     "data": {
      "text/markdown": [
       "#### Urban"
      ],
      "text/plain": [
       "<IPython.core.display.Markdown object>"
      ]
     },
     "metadata": {},
     "output_type": "display_data"
    },
    {
     "name": "stdout",
     "output_type": "stream",
     "text": [
      "----------\n",
      "florida\n",
      "california\n",
      "maine\n",
      "houston\n",
      "san\n",
      "county\n",
      "chicago\n",
      "miami\n",
      "harvey\n",
      "mexico\n",
      "----------\n"
     ]
    },
    {
     "data": {
      "text/markdown": [
       "#### Rural"
      ],
      "text/plain": [
       "<IPython.core.display.Markdown object>"
      ]
     },
     "metadata": {},
     "output_type": "display_data"
    },
    {
     "name": "stdout",
     "output_type": "stream",
     "text": [
      "-------------\n",
      "florida\n",
      "prison\n",
      "springfield\n",
      "dc\n",
      "chicago\n",
      "mass\n",
      "nyc\n",
      "massachusetts\n",
      "hurricane\n",
      "brockton\n",
      "-------------\n"
     ]
    },
    {
     "data": {
      "text/markdown": [
       "# forever"
      ],
      "text/plain": [
       "<IPython.core.display.Markdown object>"
      ]
     },
     "metadata": {},
     "output_type": "display_data"
    },
    {
     "data": {
      "text/markdown": [
       "#### Urban"
      ],
      "text/plain": [
       "<IPython.core.display.Markdown object>"
      ]
     },
     "metadata": {},
     "output_type": "display_data"
    },
    {
     "name": "stdout",
     "output_type": "stream",
     "text": [
      "---------\n",
      "kiss\n",
      "always\n",
      "never\n",
      "die\n",
      "ever\n",
      "life\n",
      "savage\n",
      "goodnight\n",
      "grace\n",
      "mama\n",
      "---------\n"
     ]
    },
    {
     "data": {
      "text/markdown": [
       "#### Rural"
      ],
      "text/plain": [
       "<IPython.core.display.Markdown object>"
      ]
     },
     "metadata": {},
     "output_type": "display_data"
    },
    {
     "name": "stdout",
     "output_type": "stream",
     "text": [
      "--------\n",
      "never\n",
      "always\n",
      "ever\n",
      "die\n",
      "life\n",
      "baby\n",
      "alone\n",
      "promise\n",
      "alright\n",
      "brothers\n",
      "--------\n"
     ]
    },
    {
     "data": {
      "text/markdown": [
       "# ca"
      ],
      "text/plain": [
       "<IPython.core.display.Markdown object>"
      ]
     },
     "metadata": {},
     "output_type": "display_data"
    },
    {
     "data": {
      "text/markdown": [
       "#### Urban"
      ],
      "text/plain": [
       "<IPython.core.display.Markdown object>"
      ]
     },
     "metadata": {},
     "output_type": "display_data"
    },
    {
     "name": "stdout",
     "output_type": "stream",
     "text": [
      "----------\n",
      "va\n",
      "ct\n",
      "nh\n",
      "san\n",
      "il\n",
      "ny\n",
      "county\n",
      "pa\n",
      "somerville\n",
      "chicago\n",
      "----------\n"
     ]
    },
    {
     "data": {
      "text/markdown": [
       "#### Rural"
      ],
      "text/plain": [
       "<IPython.core.display.Markdown object>"
      ]
     },
     "metadata": {},
     "output_type": "display_data"
    },
    {
     "name": "stdout",
     "output_type": "stream",
     "text": [
      "--------\n",
      "usa\n",
      "ct\n",
      "consumer\n",
      "military\n",
      "ri\n",
      "r\n",
      "services\n",
      "hire\n",
      "systems\n",
      "software\n",
      "--------\n"
     ]
    },
    {
     "data": {
      "text/markdown": [
       "# while"
      ],
      "text/plain": [
       "<IPython.core.display.Markdown object>"
      ]
     },
     "metadata": {},
     "output_type": "display_data"
    },
    {
     "data": {
      "text/markdown": [
       "#### Urban"
      ],
      "text/plain": [
       "<IPython.core.display.Markdown object>"
      ]
     },
     "metadata": {},
     "output_type": "display_data"
    },
    {
     "name": "stdout",
     "output_type": "stream",
     "text": [
      "---------\n",
      "and\n",
      "when\n",
      "after\n",
      "meanwhile\n",
      "before\n",
      "slowly\n",
      "blast\n",
      "because\n",
      "barely\n",
      "currently\n",
      "---------\n"
     ]
    },
    {
     "data": {
      "text/markdown": [
       "#### Rural"
      ],
      "text/plain": [
       "<IPython.core.display.Markdown object>"
      ]
     },
     "metadata": {},
     "output_type": "display_data"
    },
    {
     "name": "stdout",
     "output_type": "stream",
     "text": [
      "-------\n",
      "and\n",
      "when\n",
      "before\n",
      "after\n",
      "stuck\n",
      "sitting\n",
      "instead\n",
      "trouble\n",
      "because\n",
      "car\n",
      "-------\n"
     ]
    },
    {
     "data": {
      "text/markdown": [
       "# effect"
      ],
      "text/plain": [
       "<IPython.core.display.Markdown object>"
      ]
     },
     "metadata": {},
     "output_type": "display_data"
    },
    {
     "data": {
      "text/markdown": [
       "#### Urban"
      ],
      "text/plain": [
       "<IPython.core.display.Markdown object>"
      ]
     },
     "metadata": {},
     "output_type": "display_data"
    },
    {
     "name": "stdout",
     "output_type": "stream",
     "text": [
      "---------\n",
      "effects\n",
      "theory\n",
      "influence\n",
      "extreme\n",
      "issue\n",
      "impact\n",
      "factor\n",
      "power\n",
      "political\n",
      "context\n",
      "---------\n"
     ]
    },
    {
     "data": {
      "text/markdown": [
       "#### Rural"
      ],
      "text/plain": [
       "<IPython.core.display.Markdown object>"
      ]
     },
     "metadata": {},
     "output_type": "display_data"
    },
    {
     "name": "stdout",
     "output_type": "stream",
     "text": [
      "-------------\n",
      "impact\n",
      "severe\n",
      "issue\n",
      "coverage\n",
      "county\n",
      "power\n",
      "investigation\n",
      "rise\n",
      "potential\n",
      "form\n",
      "-------------\n"
     ]
    },
    {
     "data": {
      "text/markdown": [
       "# la"
      ],
      "text/plain": [
       "<IPython.core.display.Markdown object>"
      ]
     },
     "metadata": {},
     "output_type": "display_data"
    },
    {
     "data": {
      "text/markdown": [
       "#### Urban"
      ],
      "text/plain": [
       "<IPython.core.display.Markdown object>"
      ]
     },
     "metadata": {},
     "output_type": "display_data"
    },
    {
     "name": "stdout",
     "output_type": "stream",
     "text": [
      "---\n",
      "del\n",
      "el\n",
      "les\n",
      "le\n",
      "qu\n",
      "ti\n",
      "san\n",
      "su\n",
      "las\n",
      "de\n",
      "---\n"
     ]
    },
    {
     "data": {
      "text/markdown": [
       "#### Rural"
      ],
      "text/plain": [
       "<IPython.core.display.Markdown object>"
      ]
     },
     "metadata": {},
     "output_type": "display_data"
    },
    {
     "name": "stdout",
     "output_type": "stream",
     "text": [
      "----\n",
      "los\n",
      "de\n",
      "para\n",
      "el\n",
      "con\n",
      "en\n",
      "por\n",
      "te\n",
      "que\n",
      "al\n",
      "----\n"
     ]
    },
    {
     "data": {
      "text/markdown": [
       "# cod"
      ],
      "text/plain": [
       "<IPython.core.display.Markdown object>"
      ]
     },
     "metadata": {},
     "output_type": "display_data"
    },
    {
     "data": {
      "text/markdown": [
       "#### Urban"
      ],
      "text/plain": [
       "<IPython.core.display.Markdown object>"
      ]
     },
     "metadata": {},
     "output_type": "display_data"
    },
    {
     "name": "stdout",
     "output_type": "stream",
     "text": [
      "--------\n",
      "cape\n",
      "miami\n",
      "boat\n",
      "maine\n",
      "england\n",
      "florida\n",
      "lake\n",
      "southern\n",
      "japan\n",
      "beach\n",
      "--------\n"
     ]
    },
    {
     "data": {
      "text/markdown": [
       "#### Rural"
      ],
      "text/plain": [
       "<IPython.core.display.Markdown object>"
      ]
     },
     "metadata": {},
     "output_type": "display_data"
    },
    {
     "name": "stdout",
     "output_type": "stream",
     "text": [
      "-------------\n",
      "farm\n",
      "ny\n",
      "plymouth\n",
      "festival\n",
      "bay\n",
      "park\n",
      "massachusetts\n",
      "garden\n",
      "salem\n",
      "winter\n",
      "-------------\n"
     ]
    },
    {
     "data": {
      "text/markdown": [
       "# nuclear"
      ],
      "text/plain": [
       "<IPython.core.display.Markdown object>"
      ]
     },
     "metadata": {},
     "output_type": "display_data"
    },
    {
     "data": {
      "text/markdown": [
       "#### Urban"
      ],
      "text/plain": [
       "<IPython.core.display.Markdown object>"
      ]
     },
     "metadata": {},
     "output_type": "display_data"
    },
    {
     "name": "stdout",
     "output_type": "stream",
     "text": [
      "------\n",
      "syria\n",
      "terror\n",
      "china\n",
      "israel\n",
      "isis\n",
      "threat\n",
      "civil\n",
      "korea\n",
      "russia\n",
      "crisis\n",
      "------\n"
     ]
    },
    {
     "data": {
      "text/markdown": [
       "#### Rural"
      ],
      "text/plain": [
       "<IPython.core.display.Markdown object>"
      ]
     },
     "metadata": {},
     "output_type": "display_data"
    },
    {
     "name": "stdout",
     "output_type": "stream",
     "text": [
      "--------\n",
      "global\n",
      "war\n",
      "solar\n",
      "korea\n",
      "drug\n",
      "china\n",
      "military\n",
      "russia\n",
      "policy\n",
      "climate\n",
      "--------\n"
     ]
    },
    {
     "data": {
      "text/markdown": [
       "# join"
      ],
      "text/plain": [
       "<IPython.core.display.Markdown object>"
      ]
     },
     "metadata": {},
     "output_type": "display_data"
    },
    {
     "data": {
      "text/markdown": [
       "#### Urban"
      ],
      "text/plain": [
       "<IPython.core.display.Markdown object>"
      ]
     },
     "metadata": {},
     "output_type": "display_data"
    },
    {
     "name": "stdout",
     "output_type": "stream",
     "text": [
      "--------\n",
      "joining\n",
      "joins\n",
      "register\n",
      "visit\n",
      "forum\n",
      "workshop\n",
      "host\n",
      "summit\n",
      "6pm\n",
      "booth\n",
      "--------\n"
     ]
    },
    {
     "data": {
      "text/markdown": [
       "#### Rural"
      ],
      "text/plain": [
       "<IPython.core.display.Markdown object>"
      ]
     },
     "metadata": {},
     "output_type": "display_data"
    },
    {
     "name": "stdout",
     "output_type": "stream",
     "text": [
      "--------\n",
      "visit\n",
      "register\n",
      "meet\n",
      "event\n",
      "contact\n",
      "7pm\n",
      "june\n",
      "follow\n",
      "host\n",
      "call\n",
      "--------\n"
     ]
    },
    {
     "data": {
      "text/markdown": [
       "# by"
      ],
      "text/plain": [
       "<IPython.core.display.Markdown object>"
      ]
     },
     "metadata": {},
     "output_type": "display_data"
    },
    {
     "data": {
      "text/markdown": [
       "#### Urban"
      ],
      "text/plain": [
       "<IPython.core.display.Markdown object>"
      ]
     },
     "metadata": {},
     "output_type": "display_data"
    },
    {
     "name": "stdout",
     "output_type": "stream",
     "text": [
      "---------\n",
      "from\n",
      "amp\n",
      "via\n",
      "towards\n",
      "farm\n",
      "toward\n",
      "feat\n",
      "during\n",
      "modern\n",
      "exclusive\n",
      "---------\n"
     ]
    },
    {
     "data": {
      "text/markdown": [
       "#### Rural"
      ],
      "text/plain": [
       "<IPython.core.display.Markdown object>"
      ]
     },
     "metadata": {},
     "output_type": "display_data"
    },
    {
     "name": "stdout",
     "output_type": "stream",
     "text": [
      "------\n",
      "from\n",
      "amp\n",
      "w\n",
      "with\n",
      "within\n",
      "ft\n",
      "during\n",
      "brown\n",
      "street\n",
      "hill\n",
      "------\n"
     ]
    },
    {
     "data": {
      "text/markdown": [
       "# million"
      ],
      "text/plain": [
       "<IPython.core.display.Markdown object>"
      ]
     },
     "metadata": {},
     "output_type": "display_data"
    },
    {
     "data": {
      "text/markdown": [
       "#### Urban"
      ],
      "text/plain": [
       "<IPython.core.display.Markdown object>"
      ]
     },
     "metadata": {},
     "output_type": "display_data"
    },
    {
     "name": "stdout",
     "output_type": "stream",
     "text": [
      "-------\n",
      "billion\n",
      "000\n",
      "percent\n",
      "mil\n",
      "500\n",
      "300\n",
      "200\n",
      "150\n",
      "400\n",
      "dollars\n",
      "-------\n"
     ]
    },
    {
     "data": {
      "text/markdown": [
       "#### Rural"
      ],
      "text/plain": [
       "<IPython.core.display.Markdown object>"
      ]
     },
     "metadata": {},
     "output_type": "display_data"
    },
    {
     "name": "stdout",
     "output_type": "stream",
     "text": [
      "--------\n",
      "000\n",
      "500\n",
      "200\n",
      "total\n",
      "budget\n",
      "50\n",
      "nearly\n",
      "millions\n",
      "years\n",
      "seconds\n",
      "--------\n"
     ]
    },
    {
     "data": {
      "text/markdown": [
       "# sing"
      ],
      "text/plain": [
       "<IPython.core.display.Markdown object>"
      ]
     },
     "metadata": {},
     "output_type": "display_data"
    },
    {
     "data": {
      "text/markdown": [
       "#### Urban"
      ],
      "text/plain": [
       "<IPython.core.display.Markdown object>"
      ]
     },
     "metadata": {},
     "output_type": "display_data"
    },
    {
     "name": "stdout",
     "output_type": "stream",
     "text": [
      "-------\n",
      "singing\n",
      "dance\n",
      "perform\n",
      "kiss\n",
      "hear\n",
      "dancing\n",
      "play\n",
      "cry\n",
      "drag\n",
      "relate\n",
      "-------\n"
     ]
    },
    {
     "data": {
      "text/markdown": [
       "#### Rural"
      ],
      "text/plain": [
       "<IPython.core.display.Markdown object>"
      ]
     },
     "metadata": {},
     "output_type": "display_data"
    },
    {
     "name": "stdout",
     "output_type": "stream",
     "text": [
      "------\n",
      "dance\n",
      "listen\n",
      "hear\n",
      "cry\n",
      "die\n",
      "talk\n",
      "play\n",
      "bring\n",
      "speak\n",
      "tell\n",
      "------\n"
     ]
    },
    {
     "data": {
      "text/markdown": [
       "# un"
      ],
      "text/plain": [
       "<IPython.core.display.Markdown object>"
      ]
     },
     "metadata": {},
     "output_type": "display_data"
    },
    {
     "data": {
      "text/markdown": [
       "#### Urban"
      ],
      "text/plain": [
       "<IPython.core.display.Markdown object>"
      ]
     },
     "metadata": {},
     "output_type": "display_data"
    },
    {
     "name": "stdout",
     "output_type": "stream",
     "text": [
      "----\n",
      "le\n",
      "si\n",
      "qu\n",
      "su\n",
      "como\n",
      "una\n",
      "de\n",
      "les\n",
      "di\n",
      "el\n",
      "----\n"
     ]
    },
    {
     "data": {
      "text/markdown": [
       "#### Rural"
      ],
      "text/plain": [
       "<IPython.core.display.Markdown object>"
      ]
     },
     "metadata": {},
     "output_type": "display_data"
    },
    {
     "name": "stdout",
     "output_type": "stream",
     "text": [
      "----\n",
      "de\n",
      "por\n",
      "para\n",
      "eu\n",
      "que\n",
      "te\n",
      "el\n",
      "con\n",
      "los\n",
      "en\n",
      "----\n"
     ]
    },
    {
     "data": {
      "text/markdown": [
       "# now"
      ],
      "text/plain": [
       "<IPython.core.display.Markdown object>"
      ]
     },
     "metadata": {},
     "output_type": "display_data"
    },
    {
     "data": {
      "text/markdown": [
       "#### Urban"
      ],
      "text/plain": [
       "<IPython.core.display.Markdown object>"
      ]
     },
     "metadata": {},
     "output_type": "display_data"
    },
    {
     "name": "stdout",
     "output_type": "stream",
     "text": [
      "---------\n",
      "currently\n",
      "still\n",
      "alt\n",
      "wing\n",
      "here\n",
      "already\n",
      "today\n",
      "september\n",
      "friday\n",
      "monday\n",
      "---------\n"
     ]
    },
    {
     "data": {
      "text/markdown": [
       "#### Rural"
      ],
      "text/plain": [
       "<IPython.core.display.Markdown object>"
      ]
     },
     "metadata": {},
     "output_type": "display_data"
    },
    {
     "name": "stdout",
     "output_type": "stream",
     "text": [
      "---------\n",
      "still\n",
      "already\n",
      "here\n",
      "corner\n",
      "asap\n",
      "today\n",
      "currently\n",
      "rn\n",
      "left\n",
      "yeah\n",
      "---------\n"
     ]
    },
    {
     "data": {
      "text/markdown": [
       "# chill"
      ],
      "text/plain": [
       "<IPython.core.display.Markdown object>"
      ]
     },
     "metadata": {},
     "output_type": "display_data"
    },
    {
     "data": {
      "text/markdown": [
       "#### Urban"
      ],
      "text/plain": [
       "<IPython.core.display.Markdown object>"
      ]
     },
     "metadata": {},
     "output_type": "display_data"
    },
    {
     "name": "stdout",
     "output_type": "stream",
     "text": [
      "-----\n",
      "hang\n",
      "relax\n",
      "vibe\n",
      "lil\n",
      "lit\n",
      "sleep\n",
      "smoke\n",
      "go\n",
      "weed\n",
      "loud\n",
      "-----\n"
     ]
    },
    {
     "data": {
      "text/markdown": [
       "#### Rural"
      ],
      "text/plain": [
       "<IPython.core.display.Markdown object>"
      ]
     },
     "metadata": {},
     "output_type": "display_data"
    },
    {
     "name": "stdout",
     "output_type": "stream",
     "text": [
      "-------\n",
      "0mph\n",
      "c\n",
      "smoke\n",
      "hang\n",
      "fuckin\n",
      "nah\n",
      "lit\n",
      "wsw\n",
      "deadass\n",
      "mad\n",
      "-------\n"
     ]
    },
    {
     "data": {
      "text/markdown": [
       "# crowd"
      ],
      "text/plain": [
       "<IPython.core.display.Markdown object>"
      ]
     },
     "metadata": {},
     "output_type": "display_data"
    },
    {
     "data": {
      "text/markdown": [
       "#### Urban"
      ],
      "text/plain": [
       "<IPython.core.display.Markdown object>"
      ]
     },
     "metadata": {},
     "output_type": "display_data"
    },
    {
     "name": "stdout",
     "output_type": "stream",
     "text": [
      "------------\n",
      "rally\n",
      "parade\n",
      "inauguration\n",
      "protest\n",
      "city\n",
      "town\n",
      "window\n",
      "corner\n",
      "counter\n",
      "eclipse\n",
      "------------\n"
     ]
    },
    {
     "data": {
      "text/markdown": [
       "#### Rural"
      ],
      "text/plain": [
       "<IPython.core.display.Markdown object>"
      ]
     },
     "metadata": {},
     "output_type": "display_data"
    },
    {
     "name": "stdout",
     "output_type": "stream",
     "text": [
      "--------\n",
      "rally\n",
      "base\n",
      "game\n",
      "guy\n",
      "crew\n",
      "playoffs\n",
      "wh\n",
      "match\n",
      "protest\n",
      "himself\n",
      "--------\n"
     ]
    },
    {
     "data": {
      "text/markdown": [
       "# loud"
      ],
      "text/plain": [
       "<IPython.core.display.Markdown object>"
      ]
     },
     "metadata": {},
     "output_type": "display_data"
    },
    {
     "data": {
      "text/markdown": [
       "#### Urban"
      ],
      "text/plain": [
       "<IPython.core.display.Markdown object>"
      ]
     },
     "metadata": {},
     "output_type": "display_data"
    },
    {
     "name": "stdout",
     "output_type": "stream",
     "text": [
      "--------\n",
      "freaking\n",
      "hanging\n",
      "creepy\n",
      "chill\n",
      "trash\n",
      "gross\n",
      "annoying\n",
      "window\n",
      "turns\n",
      "awkward\n",
      "--------\n"
     ]
    },
    {
     "data": {
      "text/markdown": [
       "#### Rural"
      ],
      "text/plain": [
       "<IPython.core.display.Markdown object>"
      ]
     },
     "metadata": {},
     "output_type": "display_data"
    },
    {
     "name": "stdout",
     "output_type": "stream",
     "text": [
      "--------\n",
      "turns\n",
      "bored\n",
      "sad\n",
      "funny\n",
      "annoying\n",
      "dumb\n",
      "window\n",
      "called\n",
      "weird\n",
      "angry\n",
      "--------\n"
     ]
    },
    {
     "data": {
      "text/markdown": [
       "# than"
      ],
      "text/plain": [
       "<IPython.core.display.Markdown object>"
      ]
     },
     "metadata": {},
     "output_type": "display_data"
    },
    {
     "data": {
      "text/markdown": [
       "#### Urban"
      ],
      "text/plain": [
       "<IPython.core.display.Markdown object>"
      ]
     },
     "metadata": {},
     "output_type": "display_data"
    },
    {
     "name": "stdout",
     "output_type": "stream",
     "text": [
      "-----------\n",
      "compared\n",
      "above\n",
      "likely\n",
      "pisces\n",
      "besides\n",
      "or\n",
      "even\n",
      "becoming\n",
      "each\n",
      "sagittarius\n",
      "-----------\n"
     ]
    },
    {
     "data": {
      "text/markdown": [
       "#### Rural"
      ],
      "text/plain": [
       "<IPython.core.display.Markdown object>"
      ]
     },
     "metadata": {},
     "output_type": "display_data"
    },
    {
     "name": "stdout",
     "output_type": "stream",
     "text": [
      "-------\n",
      "or\n",
      "likely\n",
      "which\n",
      "even\n",
      "then\n",
      "except\n",
      "without\n",
      "proof\n",
      "each\n",
      "taurus\n",
      "-------\n"
     ]
    },
    {
     "data": {
      "text/markdown": [
       "# giant"
      ],
      "text/plain": [
       "<IPython.core.display.Markdown object>"
      ]
     },
     "metadata": {},
     "output_type": "display_data"
    },
    {
     "data": {
      "text/markdown": [
       "#### Urban"
      ],
      "text/plain": [
       "<IPython.core.display.Markdown object>"
      ]
     },
     "metadata": {},
     "output_type": "display_data"
    },
    {
     "name": "stdout",
     "output_type": "stream",
     "text": [
      "-------\n",
      "tiny\n",
      "monster\n",
      "fish\n",
      "horse\n",
      "robot\n",
      "glass\n",
      "dragon\n",
      "tree\n",
      "bottle\n",
      "hole\n",
      "-------\n"
     ]
    },
    {
     "data": {
      "text/markdown": [
       "#### Rural"
      ],
      "text/plain": [
       "<IPython.core.display.Markdown object>"
      ]
     },
     "metadata": {},
     "output_type": "display_data"
    },
    {
     "name": "stdout",
     "output_type": "stream",
     "text": [
      "-------\n",
      "snake\n",
      "tip\n",
      "large\n",
      "tree\n",
      "vintage\n",
      "size\n",
      "silver\n",
      "000\n",
      "total\n",
      "hat\n",
      "-------\n"
     ]
    },
    {
     "data": {
      "text/markdown": [
       "# bag"
      ],
      "text/plain": [
       "<IPython.core.display.Markdown object>"
      ]
     },
     "metadata": {},
     "output_type": "display_data"
    },
    {
     "data": {
      "text/markdown": [
       "#### Urban"
      ],
      "text/plain": [
       "<IPython.core.display.Markdown object>"
      ]
     },
     "metadata": {},
     "output_type": "display_data"
    },
    {
     "name": "stdout",
     "output_type": "stream",
     "text": [
      "-------\n",
      "bottle\n",
      "box\n",
      "pair\n",
      "plate\n",
      "plastic\n",
      "bags\n",
      "pack\n",
      "hoodie\n",
      "pants\n",
      "glass\n",
      "-------\n"
     ]
    },
    {
     "data": {
      "text/markdown": [
       "#### Rural"
      ],
      "text/plain": [
       "<IPython.core.display.Markdown object>"
      ]
     },
     "metadata": {},
     "output_type": "display_data"
    },
    {
     "name": "stdout",
     "output_type": "stream",
     "text": [
      "------\n",
      "spot\n",
      "glass\n",
      "hand\n",
      "shower\n",
      "car\n",
      "seat\n",
      "pack\n",
      "ring\n",
      "cat\n",
      "pair\n",
      "------\n"
     ]
    },
    {
     "data": {
      "text/markdown": [
       "# voting"
      ],
      "text/plain": [
       "<IPython.core.display.Markdown object>"
      ]
     },
     "metadata": {},
     "output_type": "display_data"
    },
    {
     "data": {
      "text/markdown": [
       "#### Urban"
      ],
      "text/plain": [
       "<IPython.core.display.Markdown object>"
      ]
     },
     "metadata": {},
     "output_type": "display_data"
    },
    {
     "name": "stdout",
     "output_type": "stream",
     "text": [
      "----------\n",
      "vote\n",
      "voted\n",
      "fighting\n",
      "supporting\n",
      "votes\n",
      "2020\n",
      "voter\n",
      "aca\n",
      "devos\n",
      "defending\n",
      "----------\n"
     ]
    },
    {
     "data": {
      "text/markdown": [
       "#### Rural"
      ],
      "text/plain": [
       "<IPython.core.display.Markdown object>"
      ]
     },
     "metadata": {},
     "output_type": "display_data"
    },
    {
     "name": "stdout",
     "output_type": "stream",
     "text": [
      "----------\n",
      "vote\n",
      "voted\n",
      "senate\n",
      "fighting\n",
      "rights\n",
      "congress\n",
      "dems\n",
      "justice\n",
      "republican\n",
      "violence\n",
      "----------\n"
     ]
    },
    {
     "data": {
      "text/markdown": [
       "# limited"
      ],
      "text/plain": [
       "<IPython.core.display.Markdown object>"
      ]
     },
     "metadata": {},
     "output_type": "display_data"
    },
    {
     "data": {
      "text/markdown": [
       "#### Urban"
      ],
      "text/plain": [
       "<IPython.core.display.Markdown object>"
      ]
     },
     "metadata": {},
     "output_type": "display_data"
    },
    {
     "name": "stdout",
     "output_type": "stream",
     "text": [
      "---------\n",
      "prime\n",
      "available\n",
      "rare\n",
      "special\n",
      "specific\n",
      "personal\n",
      "full\n",
      "standard\n",
      "large\n",
      "authentic\n",
      "---------\n"
     ]
    },
    {
     "data": {
      "text/markdown": [
       "#### Rural"
      ],
      "text/plain": [
       "<IPython.core.display.Markdown object>"
      ]
     },
     "metadata": {},
     "output_type": "display_data"
    },
    {
     "name": "stdout",
     "output_type": "stream",
     "text": [
      "---------\n",
      "available\n",
      "pre\n",
      "special\n",
      "99\n",
      "full\n",
      "register\n",
      "purchase\n",
      "ticket\n",
      "free\n",
      "complete\n",
      "---------\n"
     ]
    },
    {
     "data": {
      "text/markdown": [
       "# songs"
      ],
      "text/plain": [
       "<IPython.core.display.Markdown object>"
      ]
     },
     "metadata": {},
     "output_type": "display_data"
    },
    {
     "data": {
      "text/markdown": [
       "#### Urban"
      ],
      "text/plain": [
       "<IPython.core.display.Markdown object>"
      ]
     },
     "metadata": {},
     "output_type": "display_data"
    },
    {
     "name": "stdout",
     "output_type": "stream",
     "text": [
      "----------\n",
      "lyrics\n",
      "song\n",
      "music\n",
      "episodes\n",
      "album\n",
      "characters\n",
      "moments\n",
      "movies\n",
      "tracks\n",
      "artists\n",
      "----------\n"
     ]
    },
    {
     "data": {
      "text/markdown": [
       "#### Rural"
      ],
      "text/plain": [
       "<IPython.core.display.Markdown object>"
      ]
     },
     "metadata": {},
     "output_type": "display_data"
    },
    {
     "name": "stdout",
     "output_type": "stream",
     "text": [
      "--------\n",
      "movies\n",
      "song\n",
      "music\n",
      "books\n",
      "magic\n",
      "mix\n",
      "videos\n",
      "brothers\n",
      "album\n",
      "ones\n",
      "--------\n"
     ]
    },
    {
     "data": {
      "text/markdown": [
       "# lack"
      ],
      "text/plain": [
       "<IPython.core.display.Markdown object>"
      ]
     },
     "metadata": {},
     "output_type": "display_data"
    },
    {
     "data": {
      "text/markdown": [
       "#### Urban"
      ],
      "text/plain": [
       "<IPython.core.display.Markdown object>"
      ]
     },
     "metadata": {},
     "output_type": "display_data"
    },
    {
     "name": "stdout",
     "output_type": "stream",
     "text": [
      "-------------\n",
      "importance\n",
      "understanding\n",
      "definition\n",
      "knowledge\n",
      "failure\n",
      "moral\n",
      "amount\n",
      "influence\n",
      "risk\n",
      "bias\n",
      "-------------\n"
     ]
    },
    {
     "data": {
      "text/markdown": [
       "#### Rural"
      ],
      "text/plain": [
       "<IPython.core.display.Markdown object>"
      ]
     },
     "metadata": {},
     "output_type": "display_data"
    },
    {
     "name": "stdout",
     "output_type": "stream",
     "text": [
      "---------\n",
      "knowledge\n",
      "amount\n",
      "millions\n",
      "power\n",
      "interest\n",
      "political\n",
      "none\n",
      "evidence\n",
      "culture\n",
      "fear\n",
      "---------\n"
     ]
    },
    {
     "data": {
      "text/markdown": [
       "# luck"
      ],
      "text/plain": [
       "<IPython.core.display.Markdown object>"
      ]
     },
     "metadata": {},
     "output_type": "display_data"
    },
    {
     "data": {
      "text/markdown": [
       "#### Urban"
      ],
      "text/plain": [
       "<IPython.core.display.Markdown object>"
      ]
     },
     "metadata": {},
     "output_type": "display_data"
    },
    {
     "name": "stdout",
     "output_type": "stream",
     "text": [
      "--------\n",
      "vibes\n",
      "wishes\n",
      "mood\n",
      "morning\n",
      "congrats\n",
      "friends\n",
      "memories\n",
      "taste\n",
      "friend\n",
      "lord\n",
      "--------\n"
     ]
    },
    {
     "data": {
      "text/markdown": [
       "#### Rural"
      ],
      "text/plain": [
       "<IPython.core.display.Markdown object>"
      ]
     },
     "metadata": {},
     "output_type": "display_data"
    },
    {
     "name": "stdout",
     "output_type": "stream",
     "text": [
      "---------------\n",
      "congrats\n",
      "congratulations\n",
      "ladies\n",
      "morning\n",
      "advice\n",
      "taste\n",
      "practice\n",
      "friends\n",
      "job\n",
      "team\n",
      "---------------\n"
     ]
    },
    {
     "data": {
      "text/markdown": [
       "# demand"
      ],
      "text/plain": [
       "<IPython.core.display.Markdown object>"
      ]
     },
     "metadata": {},
     "output_type": "display_data"
    },
    {
     "data": {
      "text/markdown": [
       "#### Urban"
      ],
      "text/plain": [
       "<IPython.core.display.Markdown object>"
      ]
     },
     "metadata": {},
     "output_type": "display_data"
    },
    {
     "name": "stdout",
     "output_type": "stream",
     "text": [
      "--------------\n",
      "govt\n",
      "standards\n",
      "funding\n",
      "economy\n",
      "infrastructure\n",
      "policy\n",
      "protection\n",
      "economic\n",
      "platform\n",
      "growth\n",
      "--------------\n"
     ]
    },
    {
     "data": {
      "text/markdown": [
       "#### Rural"
      ],
      "text/plain": [
       "<IPython.core.display.Markdown object>"
      ]
     },
     "metadata": {},
     "output_type": "display_data"
    },
    {
     "name": "stdout",
     "output_type": "stream",
     "text": [
      "---------\n",
      "budget\n",
      "value\n",
      "financial\n",
      "platform\n",
      "costs\n",
      "growth\n",
      "sales\n",
      "solar\n",
      "increase\n",
      "provide\n",
      "---------\n"
     ]
    }
   ],
   "source": [
    "for token in df.sort_values('score').head(300)['token']:\n",
    "    compare(token)"
   ]
  },
  {
   "cell_type": "code",
   "execution_count": null,
   "metadata": {},
   "outputs": [],
   "source": []
  }
 ],
 "metadata": {
  "kernelspec": {
   "display_name": "Python 3",
   "language": "python",
   "name": "python3"
  },
  "language_info": {
   "codemirror_mode": {
    "name": "ipython",
    "version": 3
   },
   "file_extension": ".py",
   "mimetype": "text/x-python",
   "name": "python",
   "nbconvert_exporter": "python",
   "pygments_lexer": "ipython3",
   "version": "3.6.2"
  }
 },
 "nbformat": 4,
 "nbformat_minor": 2
}
