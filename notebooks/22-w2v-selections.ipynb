{
 "cells": [
  {
   "cell_type": "code",
   "execution_count": 1,
   "metadata": {},
   "outputs": [],
   "source": [
    "from gensim.models.word2vec import Word2Vec\n",
    "from IPython.display import Markdown, display\n",
    "from tabulate import tabulate"
   ]
  },
  {
   "cell_type": "code",
   "execution_count": 4,
   "metadata": {},
   "outputs": [],
   "source": [
    "urban_model = Word2Vec.load('../data/models/urban.bin')"
   ]
  },
  {
   "cell_type": "code",
   "execution_count": 2,
   "metadata": {},
   "outputs": [],
   "source": [
    "rural_model = Word2Vec.load('../data/models/rural.bin')"
   ]
  },
  {
   "cell_type": "code",
   "execution_count": 7,
   "metadata": {},
   "outputs": [],
   "source": [
    "def compare(token):\n",
    "    \n",
    "    u_similar = urban_model.most_similar(token)\n",
    "    r_similar = rural_model.most_similar(token)\n",
    "    \n",
    "    u_tokens = [[t] for t, _ in u_similar]\n",
    "    r_tokens = [[t] for t, _ in r_similar]\n",
    "    \n",
    "    display(Markdown(f'# {token}'))\n",
    "    display(Markdown(f'#### Urban'))\n",
    "    print(tabulate(u_tokens))\n",
    "    display(Markdown(f'#### Rural'))\n",
    "    print(tabulate(r_tokens))"
   ]
  },
  {
   "cell_type": "markdown",
   "metadata": {},
   "source": [
    "\"Black\" is about race in cities, just a color in small towns."
   ]
  },
  {
   "cell_type": "code",
   "execution_count": 8,
   "metadata": {},
   "outputs": [
    {
     "data": {
      "text/markdown": [
       "# black"
      ],
      "text/plain": [
       "<IPython.core.display.Markdown object>"
      ]
     },
     "metadata": {},
     "output_type": "display_data"
    },
    {
     "data": {
      "text/markdown": [
       "#### Urban"
      ],
      "text/plain": [
       "<IPython.core.display.Markdown object>"
      ]
     },
     "metadata": {},
     "output_type": "display_data"
    },
    {
     "name": "stdout",
     "output_type": "stream",
     "text": [
      "--------\n",
      "white\n",
      "hispanic\n",
      "trans\n",
      "queer\n",
      "male\n",
      "gay\n",
      "asian\n",
      "blue\n",
      "brown\n",
      "colored\n",
      "--------\n"
     ]
    },
    {
     "data": {
      "text/markdown": [
       "#### Rural"
      ],
      "text/plain": [
       "<IPython.core.display.Markdown object>"
      ]
     },
     "metadata": {},
     "output_type": "display_data"
    },
    {
     "name": "stdout",
     "output_type": "stream",
     "text": [
      "-------\n",
      "white\n",
      "yellow\n",
      "blue\n",
      "purple\n",
      "red\n",
      "gray\n",
      "colored\n",
      "pink\n",
      "male\n",
      "orange\n",
      "-------\n"
     ]
    }
   ],
   "source": [
    "compare('black')"
   ]
  },
  {
   "cell_type": "markdown",
   "metadata": {},
   "source": [
    "Likewise, in the rural areas, \"race\" is about nascar / sports, not race as a social category."
   ]
  },
  {
   "cell_type": "code",
   "execution_count": 9,
   "metadata": {},
   "outputs": [
    {
     "data": {
      "text/markdown": [
       "# race"
      ],
      "text/plain": [
       "<IPython.core.display.Markdown object>"
      ]
     },
     "metadata": {},
     "output_type": "display_data"
    },
    {
     "data": {
      "text/markdown": [
       "#### Urban"
      ],
      "text/plain": [
       "<IPython.core.display.Markdown object>"
      ]
     },
     "metadata": {},
     "output_type": "display_data"
    },
    {
     "name": "stdout",
     "output_type": "stream",
     "text": [
      "---------\n",
      "racial\n",
      "gender\n",
      "racism\n",
      "movement\n",
      "identity\n",
      "debate\n",
      "fascism\n",
      "politics\n",
      "narrative\n",
      "violence\n",
      "---------\n"
     ]
    },
    {
     "data": {
      "text/markdown": [
       "#### Rural"
      ],
      "text/plain": [
       "<IPython.core.display.Markdown object>"
      ]
     },
     "metadata": {},
     "output_type": "display_data"
    },
    {
     "name": "stdout",
     "output_type": "stream",
     "text": [
      "---------\n",
      "races\n",
      "nascar\n",
      "racing\n",
      "semi\n",
      "division\n",
      "sprint\n",
      "indy\n",
      "series\n",
      "match\n",
      "nationals\n",
      "---------\n"
     ]
    }
   ],
   "source": [
    "compare('race')"
   ]
  },
  {
   "cell_type": "markdown",
   "metadata": {},
   "source": [
    "\"Bond\" in rural areas seems heavily used in the sense of social bonds, social interaction, social capital - \"contract,\" \"friendship,\" \"connection,\" \"guardian,\" \"agreement,\" etc. Whereas in cities this is either absent or drowned out. (Though not sure by what?)"
   ]
  },
  {
   "cell_type": "code",
   "execution_count": 21,
   "metadata": {},
   "outputs": [
    {
     "data": {
      "text/markdown": [
       "# bond"
      ],
      "text/plain": [
       "<IPython.core.display.Markdown object>"
      ]
     },
     "metadata": {},
     "output_type": "display_data"
    },
    {
     "data": {
      "text/markdown": [
       "#### Urban"
      ],
      "text/plain": [
       "<IPython.core.display.Markdown object>"
      ]
     },
     "metadata": {},
     "output_type": "display_data"
    },
    {
     "name": "stdout",
     "output_type": "stream",
     "text": [
      "---------\n",
      "evans\n",
      "cameron\n",
      "james\n",
      "baldwin\n",
      "contract\n",
      "murray\n",
      "founder\n",
      "potential\n",
      "adam\n",
      "casey\n",
      "---------\n"
     ]
    },
    {
     "data": {
      "text/markdown": [
       "#### Rural"
      ],
      "text/plain": [
       "<IPython.core.display.Markdown object>"
      ]
     },
     "metadata": {},
     "output_type": "display_data"
    },
    {
     "name": "stdout",
     "output_type": "stream",
     "text": [
      "----------\n",
      "contract\n",
      "agreement\n",
      "friendship\n",
      "divorce\n",
      "replacing\n",
      "connection\n",
      "recovery\n",
      "parker\n",
      "increased\n",
      "guardian\n",
      "----------\n"
     ]
    }
   ],
   "source": [
    "compare('bond')"
   ]
  },
  {
   "cell_type": "markdown",
   "metadata": {},
   "source": [
    "\"Track\" is a music track in cities, running track in small towns. This is a trend - lots of sports in the rural corpus, especially high school sports."
   ]
  },
  {
   "cell_type": "code",
   "execution_count": 10,
   "metadata": {},
   "outputs": [
    {
     "data": {
      "text/markdown": [
       "# track"
      ],
      "text/plain": [
       "<IPython.core.display.Markdown object>"
      ]
     },
     "metadata": {},
     "output_type": "display_data"
    },
    {
     "data": {
      "text/markdown": [
       "#### Urban"
      ],
      "text/plain": [
       "<IPython.core.display.Markdown object>"
      ]
     },
     "metadata": {},
     "output_type": "display_data"
    },
    {
     "name": "stdout",
     "output_type": "stream",
     "text": [
      "------------\n",
      "tracks\n",
      "album\n",
      "banger\n",
      "freestyle\n",
      "song\n",
      "ep\n",
      "instrumental\n",
      "wave\n",
      "verse\n",
      "intro\n",
      "------------\n"
     ]
    },
    {
     "data": {
      "text/markdown": [
       "#### Rural"
      ],
      "text/plain": [
       "<IPython.core.display.Markdown object>"
      ]
     },
     "metadata": {},
     "output_type": "display_data"
    },
    {
     "name": "stdout",
     "output_type": "stream",
     "text": [
      "------------\n",
      "field\n",
      "invitational\n",
      "lax\n",
      "tennis\n",
      "volleyball\n",
      "lacrosse\n",
      "sectional\n",
      "hoops\n",
      "nationals\n",
      "soccer\n",
      "------------\n"
     ]
    }
   ],
   "source": [
    "compare('track')"
   ]
  },
  {
   "cell_type": "markdown",
   "metadata": {},
   "source": [
    "Not meaningful, but amusing - \"sin\" in cities is the Spanish for \"without,\" as opposed to sin in the religious sense in small towns."
   ]
  },
  {
   "cell_type": "code",
   "execution_count": 11,
   "metadata": {},
   "outputs": [
    {
     "data": {
      "text/markdown": [
       "# sin"
      ],
      "text/plain": [
       "<IPython.core.display.Markdown object>"
      ]
     },
     "metadata": {},
     "output_type": "display_data"
    },
    {
     "data": {
      "text/markdown": [
       "#### Urban"
      ],
      "text/plain": [
       "<IPython.core.display.Markdown object>"
      ]
     },
     "metadata": {},
     "output_type": "display_data"
    },
    {
     "name": "stdout",
     "output_type": "stream",
     "text": [
      "-------\n",
      "fue\n",
      "mal\n",
      "ser\n",
      "mejor\n",
      "hacer\n",
      "amor\n",
      "dios\n",
      "tiene\n",
      "fear\n",
      "siempre\n",
      "-------\n"
     ]
    },
    {
     "data": {
      "text/markdown": [
       "#### Rural"
      ],
      "text/plain": [
       "<IPython.core.display.Markdown object>"
      ]
     },
     "metadata": {},
     "output_type": "display_data"
    },
    {
     "name": "stdout",
     "output_type": "stream",
     "text": [
      "---------\n",
      "christ\n",
      "jesus\n",
      "fear\n",
      "satan\n",
      "ye\n",
      "religion\n",
      "god\n",
      "heaven\n",
      "therefore\n",
      "unto\n",
      "---------\n"
     ]
    }
   ],
   "source": [
    "compare('sin')"
   ]
  },
  {
   "cell_type": "markdown",
   "metadata": {},
   "source": [
    "\"Drama\" is essentially \"dramatic art\" in cities (movies, films), as opposed to \"melodrama,\" essentially, in small towns (bullshit, nonsense)."
   ]
  },
  {
   "cell_type": "code",
   "execution_count": 12,
   "metadata": {},
   "outputs": [
    {
     "data": {
      "text/markdown": [
       "# drama"
      ],
      "text/plain": [
       "<IPython.core.display.Markdown object>"
      ]
     },
     "metadata": {},
     "output_type": "display_data"
    },
    {
     "data": {
      "text/markdown": [
       "#### Urban"
      ],
      "text/plain": [
       "<IPython.core.display.Markdown object>"
      ]
     },
     "metadata": {},
     "output_type": "display_data"
    },
    {
     "name": "stdout",
     "output_type": "stream",
     "text": [
      "---------\n",
      "movies\n",
      "comedy\n",
      "films\n",
      "spoilers\n",
      "shameless\n",
      "horror\n",
      "feud\n",
      "movie\n",
      "romance\n",
      "binge\n",
      "---------\n"
     ]
    },
    {
     "data": {
      "text/markdown": [
       "#### Rural"
      ],
      "text/plain": [
       "<IPython.core.display.Markdown object>"
      ]
     },
     "metadata": {},
     "output_type": "display_data"
    },
    {
     "name": "stdout",
     "output_type": "stream",
     "text": [
      "----------\n",
      "bullshit\n",
      "bs\n",
      "politics\n",
      "shit\n",
      "negativity\n",
      "nonsense\n",
      "stress\n",
      "arguing\n",
      "comedy\n",
      "bullying\n",
      "----------\n"
     ]
    }
   ],
   "source": [
    "compare('drama')"
   ]
  },
  {
   "cell_type": "markdown",
   "metadata": {},
   "source": [
    "Transportation in cities, food in small towns!"
   ]
  },
  {
   "cell_type": "code",
   "execution_count": 13,
   "metadata": {},
   "outputs": [
    {
     "data": {
      "text/markdown": [
       "# subway"
      ],
      "text/plain": [
       "<IPython.core.display.Markdown object>"
      ]
     },
     "metadata": {},
     "output_type": "display_data"
    },
    {
     "data": {
      "text/markdown": [
       "#### Urban"
      ],
      "text/plain": [
       "<IPython.core.display.Markdown object>"
      ]
     },
     "metadata": {},
     "output_type": "display_data"
    },
    {
     "name": "stdout",
     "output_type": "stream",
     "text": [
      "---------\n",
      "train\n",
      "bus\n",
      "freeway\n",
      "rail\n",
      "street\n",
      "airport\n",
      "terminal\n",
      "passenger\n",
      "plane\n",
      "bridge\n",
      "---------\n"
     ]
    },
    {
     "data": {
      "text/markdown": [
       "#### Rural"
      ],
      "text/plain": [
       "<IPython.core.display.Markdown object>"
      ]
     },
     "metadata": {},
     "output_type": "display_data"
    },
    {
     "name": "stdout",
     "output_type": "stream",
     "text": [
      "----------\n",
      "mcdonalds\n",
      "starbucks\n",
      "chipotle\n",
      "walmart\n",
      "pizza\n",
      "donuts\n",
      "sushi\n",
      "restaurant\n",
      "mall\n",
      "chinese\n",
      "----------\n"
     ]
    }
   ],
   "source": [
    "compare('subway')"
   ]
  },
  {
   "cell_type": "markdown",
   "metadata": {},
   "source": [
    "\"Clear\" in an intellectual sense in cities (obvious, correct, simple), as opposed to clear weather in rural areas."
   ]
  },
  {
   "cell_type": "code",
   "execution_count": 14,
   "metadata": {},
   "outputs": [
    {
     "data": {
      "text/markdown": [
       "# clear"
      ],
      "text/plain": [
       "<IPython.core.display.Markdown object>"
      ]
     },
     "metadata": {},
     "output_type": "display_data"
    },
    {
     "data": {
      "text/markdown": [
       "#### Urban"
      ],
      "text/plain": [
       "<IPython.core.display.Markdown object>"
      ]
     },
     "metadata": {},
     "output_type": "display_data"
    },
    {
     "name": "stdout",
     "output_type": "stream",
     "text": [
      "----------\n",
      "obvious\n",
      "reasonable\n",
      "valid\n",
      "simple\n",
      "consistent\n",
      "possible\n",
      "correct\n",
      "helpful\n",
      "useful\n",
      "aware\n",
      "----------\n"
     ]
    },
    {
     "data": {
      "text/markdown": [
       "#### Rural"
      ],
      "text/plain": [
       "<IPython.core.display.Markdown object>"
      ]
     },
     "metadata": {},
     "output_type": "display_data"
    },
    {
     "name": "stdout",
     "output_type": "stream",
     "text": [
      "--------\n",
      "overcast\n",
      "fog\n",
      "cloudy\n",
      "skies\n",
      "partly\n",
      "clouds\n",
      "dry\n",
      "moderate\n",
      "appears\n",
      "bright\n",
      "--------\n"
     ]
    }
   ],
   "source": [
    "compare('clear')"
   ]
  },
  {
   "cell_type": "markdown",
   "metadata": {},
   "source": [
    "Hannah Montana in cities, Montana the state in small towns."
   ]
  },
  {
   "cell_type": "code",
   "execution_count": 15,
   "metadata": {},
   "outputs": [
    {
     "data": {
      "text/markdown": [
       "# montana"
      ],
      "text/plain": [
       "<IPython.core.display.Markdown object>"
      ]
     },
     "metadata": {},
     "output_type": "display_data"
    },
    {
     "data": {
      "text/markdown": [
       "#### Urban"
      ],
      "text/plain": [
       "<IPython.core.display.Markdown object>"
      ]
     },
     "metadata": {},
     "output_type": "display_data"
    },
    {
     "name": "stdout",
     "output_type": "stream",
     "text": [
      "-------\n",
      "baker\n",
      "french\n",
      "frankie\n",
      "trey\n",
      "minaj\n",
      "terry\n",
      "hannah\n",
      "migos\n",
      "drake\n",
      "calvin\n",
      "-------\n"
     ]
    },
    {
     "data": {
      "text/markdown": [
       "#### Rural"
      ],
      "text/plain": [
       "<IPython.core.display.Markdown object>"
      ]
     },
     "metadata": {},
     "output_type": "display_data"
    },
    {
     "name": "stdout",
     "output_type": "stream",
     "text": [
      "-----------\n",
      "virginia\n",
      "georgia\n",
      "mississippi\n",
      "southern\n",
      "delaware\n",
      "wisconsin\n",
      "texas\n",
      "california\n",
      "louisiana\n",
      "vermont\n",
      "-----------\n"
     ]
    }
   ],
   "source": [
    "compare('montana')"
   ]
  },
  {
   "cell_type": "markdown",
   "metadata": {},
   "source": [
    "I think this is interesting - in cities, \"newspaper\" seems associated with individual media outlets / sources (reuters, bbc, breitbart), whereas in small towns it looks more mixed in with \"mediums\" (and maybe also education?) in an abstract sense - magazine, journal, editor, writer."
   ]
  },
  {
   "cell_type": "code",
   "execution_count": 17,
   "metadata": {},
   "outputs": [
    {
     "data": {
      "text/markdown": [
       "# newspaper"
      ],
      "text/plain": [
       "<IPython.core.display.Markdown object>"
      ]
     },
     "metadata": {},
     "output_type": "display_data"
    },
    {
     "data": {
      "text/markdown": [
       "#### Urban"
      ],
      "text/plain": [
       "<IPython.core.display.Markdown object>"
      ]
     },
     "metadata": {},
     "output_type": "display_data"
    },
    {
     "name": "stdout",
     "output_type": "stream",
     "text": [
      "----------\n",
      "reuters\n",
      "amid\n",
      "bbc\n",
      "uk\n",
      "terror\n",
      "report\n",
      "breitbart\n",
      "australian\n",
      "british\n",
      "canadian\n",
      "----------\n"
     ]
    },
    {
     "data": {
      "text/markdown": [
       "#### Rural"
      ],
      "text/plain": [
       "<IPython.core.display.Markdown object>"
      ]
     },
     "metadata": {},
     "output_type": "display_data"
    },
    {
     "name": "stdout",
     "output_type": "stream",
     "text": [
      "---------\n",
      "bookstore\n",
      "writer\n",
      "editor\n",
      "magazine\n",
      "headline\n",
      "journal\n",
      "reference\n",
      "classroom\n",
      "teacher\n",
      "history\n",
      "---------\n"
     ]
    }
   ],
   "source": [
    "compare('newspaper')"
   ]
  },
  {
   "cell_type": "markdown",
   "metadata": {},
   "source": [
    "Keith Urban in the country!"
   ]
  },
  {
   "cell_type": "code",
   "execution_count": 18,
   "metadata": {},
   "outputs": [
    {
     "data": {
      "text/markdown": [
       "# urban"
      ],
      "text/plain": [
       "<IPython.core.display.Markdown object>"
      ]
     },
     "metadata": {},
     "output_type": "display_data"
    },
    {
     "data": {
      "text/markdown": [
       "#### Urban"
      ],
      "text/plain": [
       "<IPython.core.display.Markdown object>"
      ]
     },
     "metadata": {},
     "output_type": "display_data"
    },
    {
     "name": "stdout",
     "output_type": "stream",
     "text": [
      "------------\n",
      "contemporary\n",
      "underground\n",
      "landscape\n",
      "industrial\n",
      "architecture\n",
      "arts\n",
      "innovation\n",
      "innovative\n",
      "institute\n",
      "revolution\n",
      "------------\n"
     ]
    },
    {
     "data": {
      "text/markdown": [
       "#### Rural"
      ],
      "text/plain": [
       "<IPython.core.display.Markdown object>"
      ]
     },
     "metadata": {},
     "output_type": "display_data"
    },
    {
     "name": "stdout",
     "output_type": "stream",
     "text": [
      "-----------\n",
      "toby\n",
      "keith\n",
      "rural\n",
      "cave\n",
      "bass\n",
      "southern\n",
      "metal\n",
      "electric\n",
      "rock\n",
      "underground\n",
      "-----------\n"
     ]
    }
   ],
   "source": [
    "compare('urban')"
   ]
  },
  {
   "cell_type": "markdown",
   "metadata": {},
   "source": [
    "Turkey - a country in the city, a food in the country."
   ]
  },
  {
   "cell_type": "code",
   "execution_count": 19,
   "metadata": {},
   "outputs": [
    {
     "data": {
      "text/markdown": [
       "# turkey"
      ],
      "text/plain": [
       "<IPython.core.display.Markdown object>"
      ]
     },
     "metadata": {},
     "output_type": "display_data"
    },
    {
     "data": {
      "text/markdown": [
       "#### Urban"
      ],
      "text/plain": [
       "<IPython.core.display.Markdown object>"
      ]
     },
     "metadata": {},
     "output_type": "display_data"
    },
    {
     "name": "stdout",
     "output_type": "stream",
     "text": [
      "--------\n",
      "iran\n",
      "china\n",
      "crab\n",
      "syria\n",
      "germany\n",
      "iraq\n",
      "republic\n",
      "israel\n",
      "rice\n",
      "sweden\n",
      "--------\n"
     ]
    },
    {
     "data": {
      "text/markdown": [
       "#### Rural"
      ],
      "text/plain": [
       "<IPython.core.display.Markdown object>"
      ]
     },
     "metadata": {},
     "output_type": "display_data"
    },
    {
     "name": "stdout",
     "output_type": "stream",
     "text": [
      "-------\n",
      "salmon\n",
      "pork\n",
      "bacon\n",
      "crab\n",
      "chicken\n",
      "shrimp\n",
      "tomato\n",
      "meat\n",
      "chili\n",
      "garlic\n",
      "-------\n"
     ]
    }
   ],
   "source": [
    "compare('turkey')"
   ]
  },
  {
   "cell_type": "markdown",
   "metadata": {},
   "source": [
    "Interesting that \"lone wolf\" is strong in small towns, but missing in cities."
   ]
  },
  {
   "cell_type": "code",
   "execution_count": 22,
   "metadata": {},
   "outputs": [
    {
     "data": {
      "text/markdown": [
       "# wolf"
      ],
      "text/plain": [
       "<IPython.core.display.Markdown object>"
      ]
     },
     "metadata": {},
     "output_type": "display_data"
    },
    {
     "data": {
      "text/markdown": [
       "#### Urban"
      ],
      "text/plain": [
       "<IPython.core.display.Markdown object>"
      ]
     },
     "metadata": {},
     "output_type": "display_data"
    },
    {
     "name": "stdout",
     "output_type": "stream",
     "text": [
      "-------\n",
      "eyed\n",
      "blue\n",
      "heather\n",
      "alice\n",
      "rebel\n",
      "jean\n",
      "walker\n",
      "ivy\n",
      "knight\n",
      "robin\n",
      "-------\n"
     ]
    },
    {
     "data": {
      "text/markdown": [
       "#### Rural"
      ],
      "text/plain": [
       "<IPython.core.display.Markdown object>"
      ]
     },
     "metadata": {},
     "output_type": "display_data"
    },
    {
     "name": "stdout",
     "output_type": "stream",
     "text": [
      "--------\n",
      "lone\n",
      "bear\n",
      "mountain\n",
      "spider\n",
      "wolves\n",
      "shark\n",
      "deer\n",
      "survivor\n",
      "tiger\n",
      "tornado\n",
      "--------\n"
     ]
    }
   ],
   "source": [
    "compare('wolf')"
   ]
  },
  {
   "cell_type": "markdown",
   "metadata": {},
   "source": [
    "Noticed that \"justice,\" in cities, has some positive connotations - equality and unity. Whereas in small towns it's all criminality."
   ]
  },
  {
   "cell_type": "code",
   "execution_count": 33,
   "metadata": {},
   "outputs": [
    {
     "data": {
      "text/markdown": [
       "# justice"
      ],
      "text/plain": [
       "<IPython.core.display.Markdown object>"
      ]
     },
     "metadata": {},
     "output_type": "display_data"
    },
    {
     "data": {
      "text/markdown": [
       "#### Urban"
      ],
      "text/plain": [
       "<IPython.core.display.Markdown object>"
      ]
     },
     "metadata": {},
     "output_type": "display_data"
    },
    {
     "name": "stdout",
     "output_type": "stream",
     "text": [
      "--------------\n",
      "equality\n",
      "reform\n",
      "violence\n",
      "discrimination\n",
      "terrorism\n",
      "environmental\n",
      "unity\n",
      "criminal\n",
      "corruption\n",
      "racial\n",
      "--------------\n"
     ]
    },
    {
     "data": {
      "text/markdown": [
       "#### Rural"
      ],
      "text/plain": [
       "<IPython.core.display.Markdown object>"
      ]
     },
     "metadata": {},
     "output_type": "display_data"
    },
    {
     "name": "stdout",
     "output_type": "stream",
     "text": [
      "-----------\n",
      "treason\n",
      "enforcement\n",
      "doj\n",
      "racial\n",
      "violence\n",
      "corruption\n",
      "criminal\n",
      "terrorism\n",
      "crimes\n",
      "judges\n",
      "-----------\n"
     ]
    }
   ],
   "source": [
    "compare('justice')"
   ]
  }
 ],
 "metadata": {
  "kernelspec": {
   "display_name": "Python 3",
   "language": "python",
   "name": "python3"
  },
  "language_info": {
   "codemirror_mode": {
    "name": "ipython",
    "version": 3
   },
   "file_extension": ".py",
   "mimetype": "text/x-python",
   "name": "python",
   "nbconvert_exporter": "python",
   "pygments_lexer": "ipython3",
   "version": "3.6.2"
  }
 },
 "nbformat": 4,
 "nbformat_minor": 2
}
