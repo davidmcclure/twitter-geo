{
 "cells": [
  {
   "cell_type": "code",
   "execution_count": 2,
   "metadata": {},
   "outputs": [],
   "source": [
    "from collections import OrderedDict\n",
    "\n",
    "from gensim.models import Word2Vec"
   ]
  },
  {
   "cell_type": "code",
   "execution_count": 3,
   "metadata": {},
   "outputs": [],
   "source": [
    "al = Word2Vec.load('../data/models/AL.bin')"
   ]
  },
  {
   "cell_type": "code",
   "execution_count": 5,
   "metadata": {},
   "outputs": [],
   "source": [
    "ma = Word2Vec.load('../data/models/MA.bin')"
   ]
  },
  {
   "cell_type": "code",
   "execution_count": 6,
   "metadata": {},
   "outputs": [],
   "source": [
    "def get_token_counts(model):\n",
    "    counts = [(k, v.count) for k, v in model.wv.vocab.items()]\n",
    "    return OrderedDict(sorted(counts, key=lambda r: r[1], reverse=True))"
   ]
  },
  {
   "cell_type": "code",
   "execution_count": 7,
   "metadata": {},
   "outputs": [],
   "source": [
    "al_counts = get_token_counts(al)"
   ]
  },
  {
   "cell_type": "code",
   "execution_count": 8,
   "metadata": {},
   "outputs": [],
   "source": [
    "ma_counts = get_token_counts(ma)"
   ]
  },
  {
   "cell_type": "code",
   "execution_count": 9,
   "metadata": {},
   "outputs": [],
   "source": [
    "al_top = set(list(al_counts.keys())[:500])"
   ]
  },
  {
   "cell_type": "code",
   "execution_count": 10,
   "metadata": {},
   "outputs": [],
   "source": [
    "ma_top = set(list(ma_counts.keys())[:500])"
   ]
  },
  {
   "cell_type": "code",
   "execution_count": 11,
   "metadata": {},
   "outputs": [],
   "source": [
    "vocab = set.intersection(al_top, ma_top)"
   ]
  },
  {
   "cell_type": "code",
   "execution_count": 12,
   "metadata": {},
   "outputs": [
    {
     "data": {
      "text/plain": [
       "445"
      ]
     },
     "execution_count": 12,
     "metadata": {},
     "output_type": "execute_result"
    }
   ],
   "source": [
    "len(vocab)"
   ]
  },
  {
   "cell_type": "code",
   "execution_count": 13,
   "metadata": {},
   "outputs": [],
   "source": [
    "def similarity(m1, m2, token):\n",
    "    \n",
    "    m1_sim = {}\n",
    "    for v in vocab:\n",
    "        sim = m1.wv.similarity(v, token)\n",
    "        m1_sim[v] = sim\n",
    "    \n",
    "    m2_sim = {}\n",
    "    for v in vocab:\n",
    "        sim = m2.wv.similarity(v, token)\n",
    "        m2_sim[v] = sim\n",
    "        \n",
    "    delta = 0\n",
    "    for v in vocab:\n",
    "        delta += abs(m1_sim[v] - m2_sim[v])\n",
    "        \n",
    "    return delta"
   ]
  },
  {
   "cell_type": "code",
   "execution_count": 14,
   "metadata": {},
   "outputs": [],
   "source": [
    "def compare(word):\n",
    "    print('MA')\n",
    "    words = [w for w, d in ma.wv.most_similar([word], topn=20)]\n",
    "    print(', '.join(words))\n",
    "    print('\\nAL')\n",
    "    words = [w for w, d in al.wv.most_similar([word], topn=20)]\n",
    "    print(', '.join(words))"
   ]
  },
  {
   "cell_type": "code",
   "execution_count": 16,
   "metadata": {},
   "outputs": [
    {
     "name": "stdout",
     "output_type": "stream",
     "text": [
      "MA\n",
      "planet, species, oceans, soil, trees, brink, world, continent, surface, mars, moon, endangered, occupation, forests, rise, volcano, planets, flesh, antarctica, arctic\n",
      "\n",
      "AL\n",
      "planet, darkness, heaven, world, wrath, purpose, christ, god, walls, plague, enemy, evil, one, the, land, israel, destruction, nature, egypt, rarest\n"
     ]
    }
   ],
   "source": [
    "compare('earth')"
   ]
  },
  {
   "cell_type": "code",
   "execution_count": 17,
   "metadata": {},
   "outputs": [
    {
     "name": "stdout",
     "output_type": "stream",
     "text": [
      "MA\n",
      "workforce, industry, ramifications, ecosystem, environment, importance, evolution, trajectory, implications, impact, midst, world, convergence, innovation, economy, role, disruption, careers, complexity, transformation\n",
      "\n",
      "AL\n",
      "presence, purpose, world, life, success, profession, journey, greatness, career, wealth, path, confidence, process, abilities, vision, business, family, midst, role, retirement\n"
     ]
    }
   ],
   "source": [
    "compare('future')"
   ]
  },
  {
   "cell_type": "code",
   "execution_count": 18,
   "metadata": {},
   "outputs": [
    {
     "name": "stdout",
     "output_type": "stream",
     "text": [
      "MA\n",
      "roi, successes, achieving, simplicity, effectiveness, growth, wealth, resilience, relevance, execution, maximizing, leadership, measurable, successful, confidence, longevity, #digitaltransformation, #customerexperience, branding, mastery\n",
      "\n",
      "AL\n",
      "goal, wealth, creativity, failure, achieving, strength, growth, improving, skill, experience, confidence, journey, ability, purpose, greatness, expectations, commitment, determination, efficiency, contribution\n"
     ]
    }
   ],
   "source": [
    "compare('success')"
   ]
  },
  {
   "cell_type": "code",
   "execution_count": null,
   "metadata": {},
   "outputs": [],
   "source": []
  }
 ],
 "metadata": {
  "kernelspec": {
   "display_name": "Python 3",
   "language": "python",
   "name": "python3"
  },
  "language_info": {
   "codemirror_mode": {
    "name": "ipython",
    "version": 3
   },
   "file_extension": ".py",
   "mimetype": "text/x-python",
   "name": "python",
   "nbconvert_exporter": "python",
   "pygments_lexer": "ipython3",
   "version": "3.6.2"
  }
 },
 "nbformat": 4,
 "nbformat_minor": 2
}
