{
 "cells": [
  {
   "cell_type": "code",
   "execution_count": 1,
   "metadata": {},
   "outputs": [],
   "source": [
    "import ujson\n",
    "import numpy as np\n",
    "import re\n",
    "\n",
    "from tqdm import tqdm_notebook\n",
    "from glob import glob\n",
    "\n",
    "from sklearn.linear_model import LogisticRegression\n",
    "from sklearn.feature_extraction.text import CountVectorizer\n",
    "from sklearn.model_selection import train_test_split\n",
    "from sklearn.metrics import f1_score"
   ]
  },
  {
   "cell_type": "code",
   "execution_count": 2,
   "metadata": {},
   "outputs": [],
   "source": [
    "def read_tweets(pattern):\n",
    "    \n",
    "    tweets = []\n",
    "    for path in glob(pattern):\n",
    "        with open(path) as fh:\n",
    "            for line in tqdm_notebook(fh):\n",
    "                tweet = ujson.loads(line)\n",
    "                text = re.sub('(#|@|http)\\S+', '', tweet['body'])\n",
    "                tweets.append(text)\n",
    "                \n",
    "    return tweets"
   ]
  },
  {
   "cell_type": "code",
   "execution_count": 3,
   "metadata": {},
   "outputs": [
    {
     "data": {
      "application/vnd.jupyter.widget-view+json": {
       "model_id": "9c77b5f692f549a3ad2b81f951aa2979",
       "version_major": 2,
       "version_minor": 0
      },
      "text/html": [
       "<p>Failed to display Jupyter Widget of type <code>HBox</code>.</p>\n",
       "<p>\n",
       "  If you're reading this message in Jupyter Notebook or JupyterLab, it may mean\n",
       "  that the widgets JavaScript is still loading. If this message persists, it\n",
       "  likely means that the widgets JavaScript library is either not installed or\n",
       "  not enabled. See the <a href=\"https://ipywidgets.readthedocs.io/en/stable/user_install.html\">Jupyter\n",
       "  Widgets Documentation</a> for setup instructions.\n",
       "</p>\n",
       "<p>\n",
       "  If you're reading this message in another notebook frontend (for example, a static\n",
       "  rendering on GitHub or <a href=\"https://nbviewer.jupyter.org/\">NBViewer</a>),\n",
       "  it may mean that your frontend doesn't currently support widgets.\n",
       "</p>\n"
      ],
      "text/plain": [
       "HBox(children=(IntProgress(value=1, bar_style='info', max=1), HTML(value='')))"
      ]
     },
     "metadata": {},
     "output_type": "display_data"
    },
    {
     "name": "stdout",
     "output_type": "stream",
     "text": [
      "\n"
     ]
    },
    {
     "data": {
      "application/vnd.jupyter.widget-view+json": {
       "model_id": "c74f3a698bfb4b83ab3825580e1e1fa8",
       "version_major": 2,
       "version_minor": 0
      },
      "text/html": [
       "<p>Failed to display Jupyter Widget of type <code>HBox</code>.</p>\n",
       "<p>\n",
       "  If you're reading this message in Jupyter Notebook or JupyterLab, it may mean\n",
       "  that the widgets JavaScript is still loading. If this message persists, it\n",
       "  likely means that the widgets JavaScript library is either not installed or\n",
       "  not enabled. See the <a href=\"https://ipywidgets.readthedocs.io/en/stable/user_install.html\">Jupyter\n",
       "  Widgets Documentation</a> for setup instructions.\n",
       "</p>\n",
       "<p>\n",
       "  If you're reading this message in another notebook frontend (for example, a static\n",
       "  rendering on GitHub or <a href=\"https://nbviewer.jupyter.org/\">NBViewer</a>),\n",
       "  it may mean that your frontend doesn't currently support widgets.\n",
       "</p>\n"
      ],
      "text/plain": [
       "HBox(children=(IntProgress(value=1, bar_style='info', max=1), HTML(value='')))"
      ]
     },
     "metadata": {},
     "output_type": "display_data"
    },
    {
     "name": "stdout",
     "output_type": "stream",
     "text": [
      "\n"
     ]
    },
    {
     "data": {
      "application/vnd.jupyter.widget-view+json": {
       "model_id": "ef646dbe2de54bd8a5729eee3a9cc10e",
       "version_major": 2,
       "version_minor": 0
      },
      "text/html": [
       "<p>Failed to display Jupyter Widget of type <code>HBox</code>.</p>\n",
       "<p>\n",
       "  If you're reading this message in Jupyter Notebook or JupyterLab, it may mean\n",
       "  that the widgets JavaScript is still loading. If this message persists, it\n",
       "  likely means that the widgets JavaScript library is either not installed or\n",
       "  not enabled. See the <a href=\"https://ipywidgets.readthedocs.io/en/stable/user_install.html\">Jupyter\n",
       "  Widgets Documentation</a> for setup instructions.\n",
       "</p>\n",
       "<p>\n",
       "  If you're reading this message in another notebook frontend (for example, a static\n",
       "  rendering on GitHub or <a href=\"https://nbviewer.jupyter.org/\">NBViewer</a>),\n",
       "  it may mean that your frontend doesn't currently support widgets.\n",
       "</p>\n"
      ],
      "text/plain": [
       "HBox(children=(IntProgress(value=1, bar_style='info', max=1), HTML(value='')))"
      ]
     },
     "metadata": {},
     "output_type": "display_data"
    },
    {
     "name": "stdout",
     "output_type": "stream",
     "text": [
      "\n"
     ]
    },
    {
     "data": {
      "application/vnd.jupyter.widget-view+json": {
       "model_id": "bbf6d8fe4f4a4f5783d85700896af242",
       "version_major": 2,
       "version_minor": 0
      },
      "text/html": [
       "<p>Failed to display Jupyter Widget of type <code>HBox</code>.</p>\n",
       "<p>\n",
       "  If you're reading this message in Jupyter Notebook or JupyterLab, it may mean\n",
       "  that the widgets JavaScript is still loading. If this message persists, it\n",
       "  likely means that the widgets JavaScript library is either not installed or\n",
       "  not enabled. See the <a href=\"https://ipywidgets.readthedocs.io/en/stable/user_install.html\">Jupyter\n",
       "  Widgets Documentation</a> for setup instructions.\n",
       "</p>\n",
       "<p>\n",
       "  If you're reading this message in another notebook frontend (for example, a static\n",
       "  rendering on GitHub or <a href=\"https://nbviewer.jupyter.org/\">NBViewer</a>),\n",
       "  it may mean that your frontend doesn't currently support widgets.\n",
       "</p>\n"
      ],
      "text/plain": [
       "HBox(children=(IntProgress(value=1, bar_style='info', max=1), HTML(value='')))"
      ]
     },
     "metadata": {},
     "output_type": "display_data"
    },
    {
     "name": "stdout",
     "output_type": "stream",
     "text": [
      "\n"
     ]
    },
    {
     "data": {
      "application/vnd.jupyter.widget-view+json": {
       "model_id": "eb6e4c0fad4e41f79b1ef9b05db840d3",
       "version_major": 2,
       "version_minor": 0
      },
      "text/html": [
       "<p>Failed to display Jupyter Widget of type <code>HBox</code>.</p>\n",
       "<p>\n",
       "  If you're reading this message in Jupyter Notebook or JupyterLab, it may mean\n",
       "  that the widgets JavaScript is still loading. If this message persists, it\n",
       "  likely means that the widgets JavaScript library is either not installed or\n",
       "  not enabled. See the <a href=\"https://ipywidgets.readthedocs.io/en/stable/user_install.html\">Jupyter\n",
       "  Widgets Documentation</a> for setup instructions.\n",
       "</p>\n",
       "<p>\n",
       "  If you're reading this message in another notebook frontend (for example, a static\n",
       "  rendering on GitHub or <a href=\"https://nbviewer.jupyter.org/\">NBViewer</a>),\n",
       "  it may mean that your frontend doesn't currently support widgets.\n",
       "</p>\n"
      ],
      "text/plain": [
       "HBox(children=(IntProgress(value=1, bar_style='info', max=1), HTML(value='')))"
      ]
     },
     "metadata": {},
     "output_type": "display_data"
    },
    {
     "name": "stdout",
     "output_type": "stream",
     "text": [
      "\n"
     ]
    },
    {
     "data": {
      "application/vnd.jupyter.widget-view+json": {
       "model_id": "d7e829012bc54aea9d3bef5d4da7c24a",
       "version_major": 2,
       "version_minor": 0
      },
      "text/html": [
       "<p>Failed to display Jupyter Widget of type <code>HBox</code>.</p>\n",
       "<p>\n",
       "  If you're reading this message in Jupyter Notebook or JupyterLab, it may mean\n",
       "  that the widgets JavaScript is still loading. If this message persists, it\n",
       "  likely means that the widgets JavaScript library is either not installed or\n",
       "  not enabled. See the <a href=\"https://ipywidgets.readthedocs.io/en/stable/user_install.html\">Jupyter\n",
       "  Widgets Documentation</a> for setup instructions.\n",
       "</p>\n",
       "<p>\n",
       "  If you're reading this message in another notebook frontend (for example, a static\n",
       "  rendering on GitHub or <a href=\"https://nbviewer.jupyter.org/\">NBViewer</a>),\n",
       "  it may mean that your frontend doesn't currently support widgets.\n",
       "</p>\n"
      ],
      "text/plain": [
       "HBox(children=(IntProgress(value=1, bar_style='info', max=1), HTML(value='')))"
      ]
     },
     "metadata": {},
     "output_type": "display_data"
    },
    {
     "name": "stdout",
     "output_type": "stream",
     "text": [
      "\n"
     ]
    },
    {
     "data": {
      "application/vnd.jupyter.widget-view+json": {
       "model_id": "9f1d88ee972d45c0a5af51dc370560ff",
       "version_major": 2,
       "version_minor": 0
      },
      "text/html": [
       "<p>Failed to display Jupyter Widget of type <code>HBox</code>.</p>\n",
       "<p>\n",
       "  If you're reading this message in Jupyter Notebook or JupyterLab, it may mean\n",
       "  that the widgets JavaScript is still loading. If this message persists, it\n",
       "  likely means that the widgets JavaScript library is either not installed or\n",
       "  not enabled. See the <a href=\"https://ipywidgets.readthedocs.io/en/stable/user_install.html\">Jupyter\n",
       "  Widgets Documentation</a> for setup instructions.\n",
       "</p>\n",
       "<p>\n",
       "  If you're reading this message in another notebook frontend (for example, a static\n",
       "  rendering on GitHub or <a href=\"https://nbviewer.jupyter.org/\">NBViewer</a>),\n",
       "  it may mean that your frontend doesn't currently support widgets.\n",
       "</p>\n"
      ],
      "text/plain": [
       "HBox(children=(IntProgress(value=1, bar_style='info', max=1), HTML(value='')))"
      ]
     },
     "metadata": {},
     "output_type": "display_data"
    },
    {
     "name": "stdout",
     "output_type": "stream",
     "text": [
      "\n"
     ]
    },
    {
     "data": {
      "application/vnd.jupyter.widget-view+json": {
       "model_id": "52e54e1888ca4db0ad89ebf132689a93",
       "version_major": 2,
       "version_minor": 0
      },
      "text/html": [
       "<p>Failed to display Jupyter Widget of type <code>HBox</code>.</p>\n",
       "<p>\n",
       "  If you're reading this message in Jupyter Notebook or JupyterLab, it may mean\n",
       "  that the widgets JavaScript is still loading. If this message persists, it\n",
       "  likely means that the widgets JavaScript library is either not installed or\n",
       "  not enabled. See the <a href=\"https://ipywidgets.readthedocs.io/en/stable/user_install.html\">Jupyter\n",
       "  Widgets Documentation</a> for setup instructions.\n",
       "</p>\n",
       "<p>\n",
       "  If you're reading this message in another notebook frontend (for example, a static\n",
       "  rendering on GitHub or <a href=\"https://nbviewer.jupyter.org/\">NBViewer</a>),\n",
       "  it may mean that your frontend doesn't currently support widgets.\n",
       "</p>\n"
      ],
      "text/plain": [
       "HBox(children=(IntProgress(value=1, bar_style='info', max=1), HTML(value='')))"
      ]
     },
     "metadata": {},
     "output_type": "display_data"
    },
    {
     "name": "stdout",
     "output_type": "stream",
     "text": [
      "\n"
     ]
    },
    {
     "data": {
      "application/vnd.jupyter.widget-view+json": {
       "model_id": "76a62702bb7445f49151e797504e78e1",
       "version_major": 2,
       "version_minor": 0
      },
      "text/html": [
       "<p>Failed to display Jupyter Widget of type <code>HBox</code>.</p>\n",
       "<p>\n",
       "  If you're reading this message in Jupyter Notebook or JupyterLab, it may mean\n",
       "  that the widgets JavaScript is still loading. If this message persists, it\n",
       "  likely means that the widgets JavaScript library is either not installed or\n",
       "  not enabled. See the <a href=\"https://ipywidgets.readthedocs.io/en/stable/user_install.html\">Jupyter\n",
       "  Widgets Documentation</a> for setup instructions.\n",
       "</p>\n",
       "<p>\n",
       "  If you're reading this message in another notebook frontend (for example, a static\n",
       "  rendering on GitHub or <a href=\"https://nbviewer.jupyter.org/\">NBViewer</a>),\n",
       "  it may mean that your frontend doesn't currently support widgets.\n",
       "</p>\n"
      ],
      "text/plain": [
       "HBox(children=(IntProgress(value=1, bar_style='info', max=1), HTML(value='')))"
      ]
     },
     "metadata": {},
     "output_type": "display_data"
    },
    {
     "name": "stdout",
     "output_type": "stream",
     "text": [
      "\n"
     ]
    },
    {
     "data": {
      "application/vnd.jupyter.widget-view+json": {
       "model_id": "8e987993ce1441dcb255d8394d845aa9",
       "version_major": 2,
       "version_minor": 0
      },
      "text/html": [
       "<p>Failed to display Jupyter Widget of type <code>HBox</code>.</p>\n",
       "<p>\n",
       "  If you're reading this message in Jupyter Notebook or JupyterLab, it may mean\n",
       "  that the widgets JavaScript is still loading. If this message persists, it\n",
       "  likely means that the widgets JavaScript library is either not installed or\n",
       "  not enabled. See the <a href=\"https://ipywidgets.readthedocs.io/en/stable/user_install.html\">Jupyter\n",
       "  Widgets Documentation</a> for setup instructions.\n",
       "</p>\n",
       "<p>\n",
       "  If you're reading this message in another notebook frontend (for example, a static\n",
       "  rendering on GitHub or <a href=\"https://nbviewer.jupyter.org/\">NBViewer</a>),\n",
       "  it may mean that your frontend doesn't currently support widgets.\n",
       "</p>\n"
      ],
      "text/plain": [
       "HBox(children=(IntProgress(value=1, bar_style='info', max=1), HTML(value='')))"
      ]
     },
     "metadata": {},
     "output_type": "display_data"
    },
    {
     "name": "stdout",
     "output_type": "stream",
     "text": [
      "\n"
     ]
    }
   ],
   "source": [
    "rural = read_tweets('../../data/geo-lt10k.json/part-0000*')"
   ]
  },
  {
   "cell_type": "code",
   "execution_count": 4,
   "metadata": {},
   "outputs": [
    {
     "data": {
      "application/vnd.jupyter.widget-view+json": {
       "model_id": "93492b39c07f4d22ae27b8ff2383c38e",
       "version_major": 2,
       "version_minor": 0
      },
      "text/html": [
       "<p>Failed to display Jupyter Widget of type <code>HBox</code>.</p>\n",
       "<p>\n",
       "  If you're reading this message in Jupyter Notebook or JupyterLab, it may mean\n",
       "  that the widgets JavaScript is still loading. If this message persists, it\n",
       "  likely means that the widgets JavaScript library is either not installed or\n",
       "  not enabled. See the <a href=\"https://ipywidgets.readthedocs.io/en/stable/user_install.html\">Jupyter\n",
       "  Widgets Documentation</a> for setup instructions.\n",
       "</p>\n",
       "<p>\n",
       "  If you're reading this message in another notebook frontend (for example, a static\n",
       "  rendering on GitHub or <a href=\"https://nbviewer.jupyter.org/\">NBViewer</a>),\n",
       "  it may mean that your frontend doesn't currently support widgets.\n",
       "</p>\n"
      ],
      "text/plain": [
       "HBox(children=(IntProgress(value=1, bar_style='info', max=1), HTML(value='')))"
      ]
     },
     "metadata": {},
     "output_type": "display_data"
    },
    {
     "name": "stdout",
     "output_type": "stream",
     "text": [
      "\n"
     ]
    },
    {
     "data": {
      "application/vnd.jupyter.widget-view+json": {
       "model_id": "35481af4c82e492498c0070b65f05d4d",
       "version_major": 2,
       "version_minor": 0
      },
      "text/html": [
       "<p>Failed to display Jupyter Widget of type <code>HBox</code>.</p>\n",
       "<p>\n",
       "  If you're reading this message in Jupyter Notebook or JupyterLab, it may mean\n",
       "  that the widgets JavaScript is still loading. If this message persists, it\n",
       "  likely means that the widgets JavaScript library is either not installed or\n",
       "  not enabled. See the <a href=\"https://ipywidgets.readthedocs.io/en/stable/user_install.html\">Jupyter\n",
       "  Widgets Documentation</a> for setup instructions.\n",
       "</p>\n",
       "<p>\n",
       "  If you're reading this message in another notebook frontend (for example, a static\n",
       "  rendering on GitHub or <a href=\"https://nbviewer.jupyter.org/\">NBViewer</a>),\n",
       "  it may mean that your frontend doesn't currently support widgets.\n",
       "</p>\n"
      ],
      "text/plain": [
       "HBox(children=(IntProgress(value=1, bar_style='info', max=1), HTML(value='')))"
      ]
     },
     "metadata": {},
     "output_type": "display_data"
    },
    {
     "name": "stdout",
     "output_type": "stream",
     "text": [
      "\n"
     ]
    },
    {
     "data": {
      "application/vnd.jupyter.widget-view+json": {
       "model_id": "7d4e0a64a0ba47c4bfe8b4b92f1e19ab",
       "version_major": 2,
       "version_minor": 0
      },
      "text/html": [
       "<p>Failed to display Jupyter Widget of type <code>HBox</code>.</p>\n",
       "<p>\n",
       "  If you're reading this message in Jupyter Notebook or JupyterLab, it may mean\n",
       "  that the widgets JavaScript is still loading. If this message persists, it\n",
       "  likely means that the widgets JavaScript library is either not installed or\n",
       "  not enabled. See the <a href=\"https://ipywidgets.readthedocs.io/en/stable/user_install.html\">Jupyter\n",
       "  Widgets Documentation</a> for setup instructions.\n",
       "</p>\n",
       "<p>\n",
       "  If you're reading this message in another notebook frontend (for example, a static\n",
       "  rendering on GitHub or <a href=\"https://nbviewer.jupyter.org/\">NBViewer</a>),\n",
       "  it may mean that your frontend doesn't currently support widgets.\n",
       "</p>\n"
      ],
      "text/plain": [
       "HBox(children=(IntProgress(value=1, bar_style='info', max=1), HTML(value='')))"
      ]
     },
     "metadata": {},
     "output_type": "display_data"
    },
    {
     "name": "stdout",
     "output_type": "stream",
     "text": [
      "\n"
     ]
    },
    {
     "data": {
      "application/vnd.jupyter.widget-view+json": {
       "model_id": "42530ddfe85c43d6824cc9dd864da3b8",
       "version_major": 2,
       "version_minor": 0
      },
      "text/html": [
       "<p>Failed to display Jupyter Widget of type <code>HBox</code>.</p>\n",
       "<p>\n",
       "  If you're reading this message in Jupyter Notebook or JupyterLab, it may mean\n",
       "  that the widgets JavaScript is still loading. If this message persists, it\n",
       "  likely means that the widgets JavaScript library is either not installed or\n",
       "  not enabled. See the <a href=\"https://ipywidgets.readthedocs.io/en/stable/user_install.html\">Jupyter\n",
       "  Widgets Documentation</a> for setup instructions.\n",
       "</p>\n",
       "<p>\n",
       "  If you're reading this message in another notebook frontend (for example, a static\n",
       "  rendering on GitHub or <a href=\"https://nbviewer.jupyter.org/\">NBViewer</a>),\n",
       "  it may mean that your frontend doesn't currently support widgets.\n",
       "</p>\n"
      ],
      "text/plain": [
       "HBox(children=(IntProgress(value=1, bar_style='info', max=1), HTML(value='')))"
      ]
     },
     "metadata": {},
     "output_type": "display_data"
    },
    {
     "name": "stdout",
     "output_type": "stream",
     "text": [
      "\n"
     ]
    },
    {
     "data": {
      "application/vnd.jupyter.widget-view+json": {
       "model_id": "09e517462b2546b48cd82aac3b85644a",
       "version_major": 2,
       "version_minor": 0
      },
      "text/html": [
       "<p>Failed to display Jupyter Widget of type <code>HBox</code>.</p>\n",
       "<p>\n",
       "  If you're reading this message in Jupyter Notebook or JupyterLab, it may mean\n",
       "  that the widgets JavaScript is still loading. If this message persists, it\n",
       "  likely means that the widgets JavaScript library is either not installed or\n",
       "  not enabled. See the <a href=\"https://ipywidgets.readthedocs.io/en/stable/user_install.html\">Jupyter\n",
       "  Widgets Documentation</a> for setup instructions.\n",
       "</p>\n",
       "<p>\n",
       "  If you're reading this message in another notebook frontend (for example, a static\n",
       "  rendering on GitHub or <a href=\"https://nbviewer.jupyter.org/\">NBViewer</a>),\n",
       "  it may mean that your frontend doesn't currently support widgets.\n",
       "</p>\n"
      ],
      "text/plain": [
       "HBox(children=(IntProgress(value=1, bar_style='info', max=1), HTML(value='')))"
      ]
     },
     "metadata": {},
     "output_type": "display_data"
    },
    {
     "name": "stdout",
     "output_type": "stream",
     "text": [
      "\n"
     ]
    },
    {
     "data": {
      "application/vnd.jupyter.widget-view+json": {
       "model_id": "f3da286cc9c94592bcbe4fbabb293176",
       "version_major": 2,
       "version_minor": 0
      },
      "text/html": [
       "<p>Failed to display Jupyter Widget of type <code>HBox</code>.</p>\n",
       "<p>\n",
       "  If you're reading this message in Jupyter Notebook or JupyterLab, it may mean\n",
       "  that the widgets JavaScript is still loading. If this message persists, it\n",
       "  likely means that the widgets JavaScript library is either not installed or\n",
       "  not enabled. See the <a href=\"https://ipywidgets.readthedocs.io/en/stable/user_install.html\">Jupyter\n",
       "  Widgets Documentation</a> for setup instructions.\n",
       "</p>\n",
       "<p>\n",
       "  If you're reading this message in another notebook frontend (for example, a static\n",
       "  rendering on GitHub or <a href=\"https://nbviewer.jupyter.org/\">NBViewer</a>),\n",
       "  it may mean that your frontend doesn't currently support widgets.\n",
       "</p>\n"
      ],
      "text/plain": [
       "HBox(children=(IntProgress(value=1, bar_style='info', max=1), HTML(value='')))"
      ]
     },
     "metadata": {},
     "output_type": "display_data"
    },
    {
     "name": "stdout",
     "output_type": "stream",
     "text": [
      "\n"
     ]
    },
    {
     "data": {
      "application/vnd.jupyter.widget-view+json": {
       "model_id": "c9bc542c33bd410582193dc893880d69",
       "version_major": 2,
       "version_minor": 0
      },
      "text/html": [
       "<p>Failed to display Jupyter Widget of type <code>HBox</code>.</p>\n",
       "<p>\n",
       "  If you're reading this message in Jupyter Notebook or JupyterLab, it may mean\n",
       "  that the widgets JavaScript is still loading. If this message persists, it\n",
       "  likely means that the widgets JavaScript library is either not installed or\n",
       "  not enabled. See the <a href=\"https://ipywidgets.readthedocs.io/en/stable/user_install.html\">Jupyter\n",
       "  Widgets Documentation</a> for setup instructions.\n",
       "</p>\n",
       "<p>\n",
       "  If you're reading this message in another notebook frontend (for example, a static\n",
       "  rendering on GitHub or <a href=\"https://nbviewer.jupyter.org/\">NBViewer</a>),\n",
       "  it may mean that your frontend doesn't currently support widgets.\n",
       "</p>\n"
      ],
      "text/plain": [
       "HBox(children=(IntProgress(value=1, bar_style='info', max=1), HTML(value='')))"
      ]
     },
     "metadata": {},
     "output_type": "display_data"
    },
    {
     "name": "stdout",
     "output_type": "stream",
     "text": [
      "\n"
     ]
    },
    {
     "data": {
      "application/vnd.jupyter.widget-view+json": {
       "model_id": "097f71b77ebf4e31b47368e43856a704",
       "version_major": 2,
       "version_minor": 0
      },
      "text/html": [
       "<p>Failed to display Jupyter Widget of type <code>HBox</code>.</p>\n",
       "<p>\n",
       "  If you're reading this message in Jupyter Notebook or JupyterLab, it may mean\n",
       "  that the widgets JavaScript is still loading. If this message persists, it\n",
       "  likely means that the widgets JavaScript library is either not installed or\n",
       "  not enabled. See the <a href=\"https://ipywidgets.readthedocs.io/en/stable/user_install.html\">Jupyter\n",
       "  Widgets Documentation</a> for setup instructions.\n",
       "</p>\n",
       "<p>\n",
       "  If you're reading this message in another notebook frontend (for example, a static\n",
       "  rendering on GitHub or <a href=\"https://nbviewer.jupyter.org/\">NBViewer</a>),\n",
       "  it may mean that your frontend doesn't currently support widgets.\n",
       "</p>\n"
      ],
      "text/plain": [
       "HBox(children=(IntProgress(value=1, bar_style='info', max=1), HTML(value='')))"
      ]
     },
     "metadata": {},
     "output_type": "display_data"
    },
    {
     "name": "stdout",
     "output_type": "stream",
     "text": [
      "\n"
     ]
    },
    {
     "data": {
      "application/vnd.jupyter.widget-view+json": {
       "model_id": "fa10fcc07fe6478eb04b2574c092eea3",
       "version_major": 2,
       "version_minor": 0
      },
      "text/html": [
       "<p>Failed to display Jupyter Widget of type <code>HBox</code>.</p>\n",
       "<p>\n",
       "  If you're reading this message in Jupyter Notebook or JupyterLab, it may mean\n",
       "  that the widgets JavaScript is still loading. If this message persists, it\n",
       "  likely means that the widgets JavaScript library is either not installed or\n",
       "  not enabled. See the <a href=\"https://ipywidgets.readthedocs.io/en/stable/user_install.html\">Jupyter\n",
       "  Widgets Documentation</a> for setup instructions.\n",
       "</p>\n",
       "<p>\n",
       "  If you're reading this message in another notebook frontend (for example, a static\n",
       "  rendering on GitHub or <a href=\"https://nbviewer.jupyter.org/\">NBViewer</a>),\n",
       "  it may mean that your frontend doesn't currently support widgets.\n",
       "</p>\n"
      ],
      "text/plain": [
       "HBox(children=(IntProgress(value=1, bar_style='info', max=1), HTML(value='')))"
      ]
     },
     "metadata": {},
     "output_type": "display_data"
    },
    {
     "name": "stdout",
     "output_type": "stream",
     "text": [
      "\n"
     ]
    },
    {
     "data": {
      "application/vnd.jupyter.widget-view+json": {
       "model_id": "9dd934f1bb184c3da6d42a8f9a610264",
       "version_major": 2,
       "version_minor": 0
      },
      "text/html": [
       "<p>Failed to display Jupyter Widget of type <code>HBox</code>.</p>\n",
       "<p>\n",
       "  If you're reading this message in Jupyter Notebook or JupyterLab, it may mean\n",
       "  that the widgets JavaScript is still loading. If this message persists, it\n",
       "  likely means that the widgets JavaScript library is either not installed or\n",
       "  not enabled. See the <a href=\"https://ipywidgets.readthedocs.io/en/stable/user_install.html\">Jupyter\n",
       "  Widgets Documentation</a> for setup instructions.\n",
       "</p>\n",
       "<p>\n",
       "  If you're reading this message in another notebook frontend (for example, a static\n",
       "  rendering on GitHub or <a href=\"https://nbviewer.jupyter.org/\">NBViewer</a>),\n",
       "  it may mean that your frontend doesn't currently support widgets.\n",
       "</p>\n"
      ],
      "text/plain": [
       "HBox(children=(IntProgress(value=1, bar_style='info', max=1), HTML(value='')))"
      ]
     },
     "metadata": {},
     "output_type": "display_data"
    },
    {
     "name": "stdout",
     "output_type": "stream",
     "text": [
      "\n"
     ]
    }
   ],
   "source": [
    "urban = read_tweets('../../data/geo-gt1m.json/part-0000*')"
   ]
  },
  {
   "cell_type": "code",
   "execution_count": 5,
   "metadata": {},
   "outputs": [],
   "source": [
    "X = rural + urban"
   ]
  },
  {
   "cell_type": "code",
   "execution_count": 6,
   "metadata": {},
   "outputs": [],
   "source": [
    "y = ([-1] * len(rural)) + ([1] * len(urban))"
   ]
  },
  {
   "cell_type": "code",
   "execution_count": 7,
   "metadata": {},
   "outputs": [
    {
     "data": {
      "text/plain": [
       "8499039"
      ]
     },
     "execution_count": 7,
     "metadata": {},
     "output_type": "execute_result"
    }
   ],
   "source": [
    "len(y)"
   ]
  },
  {
   "cell_type": "code",
   "execution_count": 8,
   "metadata": {},
   "outputs": [],
   "source": [
    "cv = CountVectorizer(max_features=5000, ngram_range=(3, 3))"
   ]
  },
  {
   "cell_type": "code",
   "execution_count": 9,
   "metadata": {},
   "outputs": [],
   "source": [
    "X = cv.fit_transform(X)"
   ]
  },
  {
   "cell_type": "code",
   "execution_count": 10,
   "metadata": {},
   "outputs": [
    {
     "data": {
      "text/plain": [
       "<8499039x5000 sparse matrix of type '<class 'numpy.int64'>'\n",
       "\twith 4496483 stored elements in Compressed Sparse Row format>"
      ]
     },
     "execution_count": 10,
     "metadata": {},
     "output_type": "execute_result"
    }
   ],
   "source": [
    "X"
   ]
  },
  {
   "cell_type": "code",
   "execution_count": 11,
   "metadata": {},
   "outputs": [],
   "source": [
    "X_train, X_test, y_train, y_test = train_test_split(X, y)"
   ]
  },
  {
   "cell_type": "code",
   "execution_count": 12,
   "metadata": {},
   "outputs": [],
   "source": [
    "model = LogisticRegression().fit(X_train, y_train)"
   ]
  },
  {
   "cell_type": "code",
   "execution_count": 13,
   "metadata": {},
   "outputs": [],
   "source": [
    "y_pred = model.predict(X_test)"
   ]
  },
  {
   "cell_type": "code",
   "execution_count": 14,
   "metadata": {},
   "outputs": [
    {
     "data": {
      "text/plain": [
       "0.85348362906263397"
      ]
     },
     "execution_count": 14,
     "metadata": {},
     "output_type": "execute_result"
    }
   ],
   "source": [
    "f1_score(y_test, y_pred)"
   ]
  },
  {
   "cell_type": "code",
   "execution_count": 15,
   "metadata": {},
   "outputs": [
    {
     "data": {
      "text/plain": [
       "array([[ 0.23780918, -0.33597919,  0.12097766, ..., -0.19204023,\n",
       "         0.11545383,  3.38003774]])"
      ]
     },
     "execution_count": 15,
     "metadata": {},
     "output_type": "execute_result"
    }
   ],
   "source": [
    "model.coef_"
   ]
  },
  {
   "cell_type": "code",
   "execution_count": 16,
   "metadata": {},
   "outputs": [],
   "source": [
    "names = cv.get_feature_names()"
   ]
  },
  {
   "cell_type": "code",
   "execution_count": 17,
   "metadata": {},
   "outputs": [
    {
     "data": {
      "text/plain": [
       "5000"
      ]
     },
     "execution_count": 17,
     "metadata": {},
     "output_type": "execute_result"
    }
   ],
   "source": [
    "len(names)"
   ]
  },
  {
   "cell_type": "code",
   "execution_count": 18,
   "metadata": {},
   "outputs": [],
   "source": [
    "rural_idxs = model.coef_[0].argsort()"
   ]
  },
  {
   "cell_type": "code",
   "execution_count": 19,
   "metadata": {
    "scrolled": false
   },
   "outputs": [
    {
     "name": "stdout",
     "output_type": "stream",
     "text": [
      "-6.34903782771 on radio danz\n",
      "-5.18137840584 page received at\n",
      "-4.74381515143 what beautiful world\n",
      "-3.38853001433 article of the\n",
      "-3.35343438007 pm forecast tonight\n",
      "-3.33421508969 is on q106\n",
      "-3.33421508969 on q106 country\n",
      "-3.31398445897 in falling temperature\n",
      "-3.19835451982 on jacket radio\n",
      "-3.19835451982 playing on jacket\n",
      "-3.1877918099 falls ny weather\n",
      "-3.1877918099 honeoye falls ny\n",
      "-3.13240542273 wind speed 0mph\n",
      "-3.12374535135 twitter weather data\n",
      "-3.12374535135 example twitter weather\n",
      "-2.98594332347 in steady temperature\n",
      "-2.92048223165 wind mph barometer\n",
      "-2.8873013707 larvitar has appeared\n",
      "-2.86757628383 rain today 00\n",
      "-2.4561407031 missed it new\n",
      "-2.30322245765 love to show\n",
      "-2.07664119155 less than 20\n",
      "-2.05041980427 flash flood warning\n",
      "-1.82824429745 at the half\n",
      "-1.82573622241 mph barometer 29\n",
      "-1.81288057325 free entry all\n",
      "-1.78227977389 remains in effect\n",
      "-1.74995685881 to your profile\n",
      "-1.73255755706 national weather service\n",
      "-1.55091435101 will be closed\n",
      "-1.54165407966 lt gt gt\n",
      "-1.52992374593 new photo to\n",
      "-1.51192724937 help me win\n",
      "-1.49441868512 tool for twitter\n",
      "-1.47676391085 more and more\n",
      "-1.41927451929 good luck to\n",
      "-1.40107101548 who visits your\n",
      "-1.33387880448 highest gust in\n",
      "-1.33387880448 gust in last\n",
      "-1.33387880448 in last hr\n",
      "-1.32854610805 left in the\n",
      "-1.32790120441 the url to\n",
      "-1.32393497369 for sale in\n",
      "-1.31761093253 florida cam west\n",
      "-1.31761093253 weather by hernando\n",
      "-1.31761093253 hernando beach florida\n",
      "-1.31761093253 by hernando beach\n",
      "-1.31761093253 beach florida cam\n",
      "-1.31145256136 happy birthday hope\n",
      "-1.30370081034 see virtual tour\n",
      "-1.29526240249 congrats to our\n",
      "-1.27713353995 tune in now\n",
      "-1.25068201262 out my broadcast\n",
      "-1.22902471483 so thankful for\n",
      "-1.20998003439 just checked in\n",
      "-1.18130104808 severe thunderstorm warning\n",
      "-1.16899293909 home date time\n",
      "-1.16899293909 name chet home\n",
      "-1.16899293909 motion detection unit\n",
      "-1.16899293909 detection unit name\n",
      "-1.16899293909 chet home date\n",
      "-1.16899293909 unit name chet\n",
      "-1.16459368279 free all night\n",
      "-1.1390124477 now available thank\n",
      "-1.12355243977 running to win\n",
      "-1.12182555872 with download today\n",
      "-1.12071005196 congratulations to the\n",
      "-1.10879382419 23 99 special\n",
      "-1.07581534789 and people unfollowed\n",
      "-1.06882267993 more for aries\n",
      "-1.05803587098 you could win\n",
      "-1.05220111416 last hr was\n",
      "-1.04498748257 for adoption this\n",
      "-1.04041450505 class of 2017\n",
      "-1.03541470596 video to facebook\n",
      "-1.02108821864 proud of our\n",
      "-1.02093008232 congrats to the\n",
      "-1.00748267285 today 00 in\n",
      "-0.983582029121 see winning game\n",
      "-0.980707089921 me on snapchat\n",
      "-0.97494143894 just voted for\n",
      "-0.971537120787 check out new\n",
      "-0.965424078134 the latest visits\n",
      "-0.955403371979 we re hiring\n",
      "-0.929568838436 hope your day\n",
      "-0.918546994009 had great day\n",
      "-0.911831921313 in the books\n",
      "-0.904622704737 top new followers\n",
      "-0.901113111017 available thank you\n",
      "-0.897336960738 artwork for sale\n",
      "-0.897122921914 it new story\n",
      "-0.887145723607 more for cancer\n",
      "-0.883913602394 has show on\n",
      "-0.878144272822 yasss it time\n",
      "-0.872803062349 to another great\n",
      "-0.87163729604 stop by and\n",
      "-0.87014558577 in paradise island\n",
      "-0.868186651458 that my 2nd\n",
      "-0.867571149526 for this in\n",
      "-0.866762473821 اللهم إني أسألك\n",
      "-0.863984756603 more for pisces\n",
      "-0.857215502841 virtual tour of\n",
      "-0.85277669935 سبحان الله وبحمده\n",
      "-0.849537130724 this on ebay\n",
      "-0.835646979828 enter to get\n",
      "-0.83247956883 to share with\n",
      "-0.828273058126 come see us\n",
      "-0.821138475249 way to go\n",
      "-0.814358438384 in the 2nd\n",
      "-0.810906039154 automatically checked by\n",
      "-0.808472145114 we are looking\n",
      "-0.797695345609 in mplus places\n",
      "-0.797695345609 earning in mplus\n",
      "-0.79734774113 novel serial is\n",
      "-0.79734774113 serial is now\n",
      "-0.79734774113 2nd novel serial\n",
      "-0.79734774113 my 2nd novel\n",
      "-0.796731510739 in the 3rd\n",
      "-0.796118889728 it out here\n",
      "-0.795543470227 more for virgo\n",
      "-0.791234000477 nothing better than\n",
      "-0.774409789304 in this week\n",
      "-0.77249481837 at 30 pm\n",
      "-0.768016766891 your vote now\n",
      "-0.767008881594 we will have\n",
      "-0.766138284178 more for sagittarius\n",
      "-0.763616191054 entered your profile\n",
      "-0.763165061081 weather service in\n",
      "-0.76253259495 enter to win\n",
      "-0.761907477576 love you too\n",
      "-0.752786349908 raising money for\n",
      "-0.752482346524 memorial day weekend\n",
      "-0.750214107023 miss you more\n",
      "-0.741522794605 bottom of the\n",
      "-0.740601463259 social artist award\n",
      "-0.733790113568 get it here\n",
      "-0.728573075692 heading to the\n",
      "-0.727268402242 for you on\n",
      "-0.720635836895 the time is\n",
      "-0.71882837001 we the people\n",
      "-0.717546759456 love and miss\n",
      "-0.713851152595 and couldn be\n",
      "-0.713499395355 chance to win\n",
      "-0.703506637016 thanks for coming\n",
      "-0.702411936673 if this isn\n",
      "-0.696154398168 unkn unkn unkn\n",
      "-0.695461462335 what would do\n",
      "-0.69229640963 cast your vote\n",
      "-0.690336034043 is so true\n",
      "-0.688752140369 gonna love you\n",
      "-0.680958642491 more for capricorn\n",
      "-0.676686754688 أعوذ بك من\n",
      "-0.676485172045 come out and\n",
      "-0.675393731328 something to do\n",
      "-0.675025668665 due to the\n",
      "-0.674898696498 breath of the\n",
      "-0.674180255808 miss you too\n",
      "-0.66853969925 and ready to\n",
      "-0.66694202677 to end the\n",
      "-0.664841609189 اللهم إني أعوذ\n",
      "-0.663126639807 blessed to have\n",
      "-0.662890599036 and one person\n",
      "-0.65426530169 for the 2017\n",
      "-0.647900508303 rain since midnight\n",
      "-0.645319459755 join us this\n",
      "-0.642741678767 best of luck\n",
      "-0.640513496959 my best friends\n",
      "-0.640504033586 more for scorpio\n",
      "-0.637016450802 want someone to\n",
      "-0.636790044773 join me for\n",
      "-0.635185375108 just wanna go\n",
      "-0.629986831324 if anyone wants\n",
      "-0.629176004971 will be here\n",
      "-0.62768006948 miss you so\n",
      "-0.625284204879 just earned the\n",
      "-0.624836678786 follow to see\n",
      "-0.622714354657 your twitter profile\n",
      "-0.622574789696 so sick of\n",
      "-0.62007028565 more for gemini\n",
      "-0.614115855152 and click to\n",
      "-0.614037246993 player of the\n",
      "-0.612176062818 going to bed\n",
      "-0.606140997851 in the bottom\n",
      "-0.60544630951 my fitbit for\n",
      "-0.605107583353 day to be\n",
      "-0.60133963225 we ve had\n",
      "-0.599856457458 cannot wait to\n",
      "-0.599013717792 sign the petition\n",
      "-0.59494736527 you all happy\n",
      "-0.592862682553 ready to be\n",
      "-0.59269402307 all of our\n",
      "-0.590468255487 makes my heart\n",
      "-0.589675669223 wow just entered\n",
      "-0.589112376486 لا إله إلا\n",
      "-0.587626485837 to come home\n",
      "-0.586732381035 on the beach\n",
      "-0.586405583399 for in the\n",
      "-0.586243980586 more for leo\n",
      "-0.580667543649 the recent follow\n",
      "-0.578022334966 thanks to all\n"
     ]
    }
   ],
   "source": [
    "for idx in rural_idxs[:200]:\n",
    "    print(model.coef_[0][idx], names[idx])"
   ]
  },
  {
   "cell_type": "code",
   "execution_count": 20,
   "metadata": {},
   "outputs": [],
   "source": [
    "urban_idxs = np.flip(model.coef_[0].argsort(), 0)"
   ]
  },
  {
   "cell_type": "code",
   "execution_count": 21,
   "metadata": {
    "scrolled": false
   },
   "outputs": [
    {
     "name": "stdout",
     "output_type": "stream",
     "text": [
      "5.35465446815 wild larvitar has\n",
      "4.24406224447 flight spotted at\n",
      "3.85938020085 own it now\n",
      "3.76183072078 work in az\n",
      "3.74743600844 10 minute guide\n",
      "3.73351771281 clean tune in\n",
      "3.71310986295 popular on 500px\n",
      "3.6848837289 miles away traveling\n",
      "3.60029586379 now on air\n",
      "3.5737900737 listen now submit\n",
      "3.49629657934 usa pls rt\n",
      "3.45816418018 hosted by djs\n",
      "3.40912378159 abuse unresolved for\n",
      "3.38003774018 更新 哈利波特 石內卜才新婚娶初戀今病逝\n",
      "3.34478274323 no prescription needed\n",
      "3.33987877272 news search businesses\n",
      "3.27811895811 cleared incident on\n",
      "3.27703931468 sharing the latest\n",
      "3.26646380069 available at acc\n",
      "3.25661880764 new project that\n",
      "3.24908848236 incident on at\n",
      "3.22972019726 division responding to\n",
      "3.14011534491 los angeles california\n",
      "3.13665565617 this in ca\n",
      "3.11559665893 on both directions\n",
      "3.11527336826 san diego ca\n",
      "2.96907595721 nike air jordan\n",
      "2.96359334068 this in tx\n",
      "2.9629897444 opening here ca\n",
      "2.96210441483 of her at\n",
      "2.94576797432 it shirt get\n",
      "2.9273618702 listen now at\n",
      "2.87294793319 now trending in\n",
      "2.86136422919 los angeles ca\n",
      "2.85950314378 in chicago il\n",
      "2.81735738846 in houston tx\n",
      "2.81402978643 this in il\n",
      "2.79667182408 just thought about\n",
      "2.73748369797 airlines flight spotted\n",
      "2.70942677025 before you eat\n",
      "2.66948311077 you like ve\n",
      "2.66844359184 wild aipom has\n",
      "2.65381751511 in dallas tx\n",
      "2.60903528747 opening here il\n",
      "2.57323176272 never been broken\n",
      "2.54794673922 your dream radio\n",
      "2.46999841799 opening here tx\n",
      "2.4671169871 traffic back to\n",
      "2.32439958392 in philadelphia pa\n",
      "2.27073805887 san jose ca\n",
      "2.25561178235 by is playing\n",
      "2.18220033642 san antonio tx\n",
      "2.16427785543 you just added\n",
      "2.05874303955 xmlrpc dataminer network\n",
      "2.05874303955 issue xmlrpc dataminer\n",
      "2.05184855926 intelligence bot network\n",
      "2.02190138613 in san diego\n",
      "2.01389853823 the twitter chart\n",
      "1.99791617085 in los angeles\n",
      "1.99684439598 issue intelligence bot\n",
      "1.99325871182 on blue wolf\n",
      "1.99325871182 blue wolf radio\n",
      "1.97812311661 creating think tank\n",
      "1.97435482177 on the site\n",
      "1.94169742551 on tabernacle radio\n",
      "1.94169742551 tabernacle radio chicago\n",
      "1.92714184952 collision no inj\n",
      "1.92714184952 trfc collision no\n",
      "1.86667599848 delay of mins\n",
      "1.86529329338 wild sudowoodo has\n",
      "1.85828421311 gt lt gt\n",
      "1.85307433033 wild furret has\n",
      "1.85307433033 furret has appeared\n",
      "1.83891972797 good music for\n",
      "1.81199970745 wild shuckle has\n",
      "1.810018463 dm with your\n",
      "1.77887802806 ca check out\n",
      "1.77686514098 york city news\n",
      "1.76415958123 get yours today\n",
      "1.75723427679 work in il\n",
      "1.75387503464 click link below\n",
      "1.7487135056 this should surely\n",
      "1.7487135056 should surely interest\n",
      "1.7487135056 surely interest you\n",
      "1.73916081525 to san diego\n",
      "1.71526765035 love you guysss\n",
      "1.6898934264 my new single\n",
      "1.6865935739 the associated press\n",
      "1.68334959475 is now trending\n",
      "1.67508241445 ca this could\n",
      "1.66601162177 shirt get it\n",
      "1.65817079448 chasing your dream\n",
      "1.65535099142 preview review eps\n",
      "1.65335125508 you guysss get\n",
      "1.6193478248 work in ca\n",
      "1.58534504246 followed me and\n",
      "1.57950916926 and go traffic\n",
      "1.57929285675 los angeles news\n",
      "1.57591886404 issue login brute\n",
      "1.57591886404 login brute force\n",
      "1.55411032862 like to help\n",
      "1.53790502106 com gt gt\n",
      "1.52075881985 central division responding\n",
      "1.51973925788 ca view our\n",
      "1.51815790615 list click here\n",
      "1.50855650755 via nyt the\n",
      "1.50820510207 ca click for\n",
      "1.50548862201 music for your\n",
      "1.5041429348 brute force network\n",
      "1.50112898069 in san jose\n",
      "1.48082671304 on the train\n",
      "1.45941304818 work in tx\n",
      "1.44490901481 city news search\n",
      "1.42927057229 il view our\n",
      "1.4255594048 ca and click\n",
      "1.41877384254 il check out\n",
      "1.40292385348 in san antonio\n",
      "1.39565820744 il this could\n",
      "1.36964043128 email list click\n",
      "1.36677026601 here for it\n",
      "1.36464630702 news search la\n",
      "1.36464630702 angeles news search\n",
      "1.36073942928 sudowoodo has appeared\n",
      "1.3324524509 can you recommend\n",
      "1.32993918776 top social artist\n",
      "1.31756700926 vote for for\n",
      "1.31132427616 you might like\n",
      "1.29759416299 group and post\n",
      "1.29708545506 shuckle has appeared\n",
      "1.28864540793 nyt the new\n",
      "1.28735151791 work in pa\n",
      "1.26473293816 in il this\n",
      "1.26408747881 new york ny\n",
      "1.26185909172 dm me your\n",
      "1.25653606244 tweet also at\n",
      "1.25653606244 post your tweet\n",
      "1.25653606244 your tweet also\n",
      "1.25409783381 on the tl\n",
      "1.25164359305 current temperature is\n",
      "1.25164359305 gmt 0000 utc\n",
      "1.25164359305 utc current temperature\n",
      "1.25164359305 00 humidity is\n",
      "1.25164359305 0000 utc current\n",
      "1.23072045548 jobs in san\n",
      "1.22399127564 in tx click\n",
      "1.22399127564 tx click for\n",
      "1.21907500503 chicago news search\n",
      "1.19159770185 would you join\n",
      "1.17742640647 proceeds go to\n",
      "1.16975805743 in in il\n",
      "1.16904020226 join our growing\n",
      "1.15919232785 college with some\n",
      "1.1578042805 today thousands of\n",
      "1.15604145466 being top new\n",
      "1.15163486675 il and click\n",
      "1.14936209956 il click for\n",
      "1.14809529909 in ca this\n",
      "1.13866540364 aipom has appeared\n",
      "1.13478204127 in tx check\n",
      "1.13154497821 checked in at\n",
      "1.13055396414 gt lt lt\n",
      "1.12690168028 hit and run\n",
      "1.12619277693 the movie preview\n",
      "1.12619277693 movie preview review\n",
      "1.12420148602 you join our\n",
      "1.10949176684 in to another\n",
      "1.10168831147 class up college\n",
      "1.10168831147 help class up\n",
      "1.10168831147 up college with\n",
      "1.09535236099 card today thousands\n",
      "1.0780138242 of free cards\n",
      "1.07496346359 tx this could\n",
      "1.07496346359 in tx this\n",
      "1.07429011737 free cards daily\n",
      "1.07406768306 the red carpet\n",
      "1.07226676527 tx check out\n",
      "1.06406947857 right now on\n",
      "1.04209061424 1960s garage psych\n",
      "1.04209061424 garage psych nugget\n",
      "1.04209061424 another great 1960s\n",
      "1.04209061424 great 1960s garage\n",
      "1.04001672809 in in tx\n",
      "1.02921347582 latest il and\n",
      "1.02799554422 99 special sunglasses\n",
      "1.02444826979 you please dm\n",
      "1.02041491257 at my job\n",
      "1.01384045998 in il click\n",
      "1.0113474263 tx view our\n",
      "1.01133243287 our latest il\n",
      "1.00961608655 in ca view\n",
      "1.00672198997 in ca click\n",
      "0.978099136261 la la land\n",
      "0.970686095824 visits your twitter\n",
      "0.970450789771 now playing on\n",
      "0.957134286992 in the city\n",
      "0.951702236487 in the mix\n",
      "0.951526491705 that shit is\n",
      "0.947639214528 trapavelli album mixtape\n",
      "0.947639214528 album mixtape now\n",
      "0.947639214528 to trapavelli album\n"
     ]
    }
   ],
   "source": [
    "for idx in urban_idxs[:200]:\n",
    "    print(model.coef_[0][idx], names[idx])"
   ]
  },
  {
   "cell_type": "markdown",
   "metadata": {},
   "source": [
    "- nicki minaj"
   ]
  },
  {
   "cell_type": "code",
   "execution_count": null,
   "metadata": {},
   "outputs": [],
   "source": []
  }
 ],
 "metadata": {
  "kernelspec": {
   "display_name": "Python 3",
   "language": "python",
   "name": "python3"
  },
  "language_info": {
   "codemirror_mode": {
    "name": "ipython",
    "version": 3
   },
   "file_extension": ".py",
   "mimetype": "text/x-python",
   "name": "python",
   "nbconvert_exporter": "python",
   "pygments_lexer": "ipython3",
   "version": "3.6.2"
  }
 },
 "nbformat": 4,
 "nbformat_minor": 2
}
