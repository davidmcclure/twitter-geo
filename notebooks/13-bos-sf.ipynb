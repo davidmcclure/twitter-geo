{
 "cells": [
  {
   "cell_type": "code",
   "execution_count": 1,
   "metadata": {},
   "outputs": [],
   "source": [
    "from collections import OrderedDict\n",
    "\n",
    "from gensim.models import Word2Vec"
   ]
  },
  {
   "cell_type": "code",
   "execution_count": 2,
   "metadata": {},
   "outputs": [],
   "source": [
    "bos = Word2Vec.load('../data/models/boston.bin')"
   ]
  },
  {
   "cell_type": "code",
   "execution_count": 3,
   "metadata": {},
   "outputs": [],
   "source": [
    "sf = Word2Vec.load('../data/models/sf.bin')"
   ]
  },
  {
   "cell_type": "code",
   "execution_count": 4,
   "metadata": {},
   "outputs": [],
   "source": [
    "def get_token_counts(model):\n",
    "    counts = [(k, v.count) for k, v in model.wv.vocab.items()]\n",
    "    return OrderedDict(sorted(counts, key=lambda r: r[1], reverse=True))"
   ]
  },
  {
   "cell_type": "code",
   "execution_count": 5,
   "metadata": {},
   "outputs": [],
   "source": [
    "bos_counts = get_token_counts(bos)"
   ]
  },
  {
   "cell_type": "code",
   "execution_count": 6,
   "metadata": {},
   "outputs": [],
   "source": [
    "sf_counts = get_token_counts(sf)"
   ]
  },
  {
   "cell_type": "code",
   "execution_count": 7,
   "metadata": {},
   "outputs": [],
   "source": [
    "bos_top = set(list(bos_counts.keys())[:500])"
   ]
  },
  {
   "cell_type": "code",
   "execution_count": 8,
   "metadata": {},
   "outputs": [],
   "source": [
    "sf_top = set(list(sf_counts.keys())[:500])"
   ]
  },
  {
   "cell_type": "code",
   "execution_count": 9,
   "metadata": {},
   "outputs": [],
   "source": [
    "vocab = set.intersection(bos_top, sf_top)"
   ]
  },
  {
   "cell_type": "code",
   "execution_count": 10,
   "metadata": {},
   "outputs": [
    {
     "data": {
      "text/plain": [
       "417"
      ]
     },
     "execution_count": 10,
     "metadata": {},
     "output_type": "execute_result"
    }
   ],
   "source": [
    "len(vocab)"
   ]
  },
  {
   "cell_type": "code",
   "execution_count": 11,
   "metadata": {},
   "outputs": [],
   "source": [
    "def similarity(m1, m2, token):\n",
    "    \n",
    "    m1_sim = {}\n",
    "    for v in vocab:\n",
    "        sim = m1.wv.similarity(v, token)\n",
    "        m1_sim[v] = sim\n",
    "    \n",
    "    m2_sim = {}\n",
    "    for v in vocab:\n",
    "        sim = m2.wv.similarity(v, token)\n",
    "        m2_sim[v] = sim\n",
    "        \n",
    "    delta = 0\n",
    "    for v in vocab:\n",
    "        delta += abs(m1_sim[v] - m2_sim[v])\n",
    "        \n",
    "    return delta"
   ]
  },
  {
   "cell_type": "code",
   "execution_count": 12,
   "metadata": {},
   "outputs": [],
   "source": [
    "deltas = []\n",
    "for v in vocab:\n",
    "    deltas.append((v, similarity(bos, sf, v)))"
   ]
  },
  {
   "cell_type": "code",
   "execution_count": 17,
   "metadata": {},
   "outputs": [],
   "source": [
    "def compare(word):\n",
    "    print('BOS')\n",
    "    words = [w for w, d in bos.wv.most_similar([word], topn=20)]\n",
    "    print(', '.join(words))\n",
    "    print('\\nSF')\n",
    "    words = [w for w, d in sf.wv.most_similar([word], topn=20)]\n",
    "    print(', '.join(words))"
   ]
  },
  {
   "cell_type": "code",
   "execution_count": 18,
   "metadata": {},
   "outputs": [
    {
     "name": "stdout",
     "output_type": "stream",
     "text": [
      "BOS\n",
      "shots, layup, possession, shooting, penalty, buzzer, rebound, foul, rim, timeout, shoots, fastball, bat, game, ball, rifle, breakaway, goal, bullets, pistol\n",
      "\n",
      "SF\n",
      "shots, shootout, shooting, shoots, picture, wounded, possession, injured, night, pic, knife, photo, robbed, thief, stabbed, scene, shoot, struck, man, footage\n"
     ]
    }
   ],
   "source": [
    "compare('shot')"
   ]
  },
  {
   "cell_type": "code",
   "execution_count": 19,
   "metadata": {},
   "outputs": [
    {
     "name": "stdout",
     "output_type": "stream",
     "text": [
      "BOS\n",
      "teams, player, franchise, division, organization, players, roster, game, league, teammates, qb, base, talent, offense, staff, goal, tribe, company, position, country\n",
      "\n",
      "SF\n",
      "organization, teams, partner, community, client, company, staff, opponent, crew, position, program, platform, audience, career, network, talent, product, site, sponsorship, campaign\n"
     ]
    }
   ],
   "source": [
    "compare('team')"
   ]
  },
  {
   "cell_type": "code",
   "execution_count": 20,
   "metadata": {},
   "outputs": [
    {
     "name": "stdout",
     "output_type": "stream",
     "text": [
      "BOS\n",
      "spaces, buildings, room, storage, amenities, energy, rooms, equipment, garage, exterior, capacity, apartment, place, electricity, electronics, fabric, sensors, vehicles, sunlight, transport\n",
      "\n",
      "SF\n",
      "spaces, satellites, mission, outer, storage, light, astronauts, room, rooms, telescope, area, transit, spacecraft, power, vcloud, drones, sunlight, garage, modular, atmosphere\n"
     ]
    }
   ],
   "source": [
    "compare('space')"
   ]
  },
  {
   "cell_type": "code",
   "execution_count": null,
   "metadata": {},
   "outputs": [],
   "source": []
  }
 ],
 "metadata": {
  "kernelspec": {
   "display_name": "Python 3",
   "language": "python",
   "name": "python3"
  },
  "language_info": {
   "codemirror_mode": {
    "name": "ipython",
    "version": 3
   },
   "file_extension": ".py",
   "mimetype": "text/x-python",
   "name": "python",
   "nbconvert_exporter": "python",
   "pygments_lexer": "ipython3",
   "version": "3.6.2"
  }
 },
 "nbformat": 4,
 "nbformat_minor": 2
}
