{
 "cells": [
  {
   "cell_type": "code",
   "execution_count": 1,
   "metadata": {},
   "outputs": [],
   "source": [
    "import ujson\n",
    "import numpy as np\n",
    "import re\n",
    "\n",
    "from tqdm import tqdm_notebook\n",
    "from glob import glob\n",
    "\n",
    "from sklearn.linear_model import LogisticRegression\n",
    "from sklearn.feature_extraction.text import CountVectorizer\n",
    "from sklearn.model_selection import train_test_split\n",
    "from sklearn.metrics import f1_score"
   ]
  },
  {
   "cell_type": "code",
   "execution_count": 2,
   "metadata": {},
   "outputs": [],
   "source": [
    "def read_tweets(pattern):\n",
    "    \n",
    "    tweets = []\n",
    "    for path in glob(pattern):\n",
    "        with open(path) as fh:\n",
    "            for line in tqdm_notebook(fh):\n",
    "                tweet = ujson.loads(line)\n",
    "                text = re.sub('(#|@|http)\\S+', '', tweet['body'])\n",
    "                tweets.append(text)\n",
    "                \n",
    "    return tweets"
   ]
  },
  {
   "cell_type": "code",
   "execution_count": 3,
   "metadata": {},
   "outputs": [
    {
     "data": {
      "application/vnd.jupyter.widget-view+json": {
       "model_id": "119a5ec3a03c4af688c72bc9cf0732cb",
       "version_major": 2,
       "version_minor": 0
      },
      "text/html": [
       "<p>Failed to display Jupyter Widget of type <code>HBox</code>.</p>\n",
       "<p>\n",
       "  If you're reading this message in Jupyter Notebook or JupyterLab, it may mean\n",
       "  that the widgets JavaScript is still loading. If this message persists, it\n",
       "  likely means that the widgets JavaScript library is either not installed or\n",
       "  not enabled. See the <a href=\"https://ipywidgets.readthedocs.io/en/stable/user_install.html\">Jupyter\n",
       "  Widgets Documentation</a> for setup instructions.\n",
       "</p>\n",
       "<p>\n",
       "  If you're reading this message in another notebook frontend (for example, a static\n",
       "  rendering on GitHub or <a href=\"https://nbviewer.jupyter.org/\">NBViewer</a>),\n",
       "  it may mean that your frontend doesn't currently support widgets.\n",
       "</p>\n"
      ],
      "text/plain": [
       "HBox(children=(IntProgress(value=1, bar_style='info', max=1), HTML(value='')))"
      ]
     },
     "metadata": {},
     "output_type": "display_data"
    },
    {
     "name": "stdout",
     "output_type": "stream",
     "text": [
      "\n"
     ]
    },
    {
     "data": {
      "application/vnd.jupyter.widget-view+json": {
       "model_id": "3b8dd3532f6c4ae3a144f819679d6527",
       "version_major": 2,
       "version_minor": 0
      },
      "text/html": [
       "<p>Failed to display Jupyter Widget of type <code>HBox</code>.</p>\n",
       "<p>\n",
       "  If you're reading this message in Jupyter Notebook or JupyterLab, it may mean\n",
       "  that the widgets JavaScript is still loading. If this message persists, it\n",
       "  likely means that the widgets JavaScript library is either not installed or\n",
       "  not enabled. See the <a href=\"https://ipywidgets.readthedocs.io/en/stable/user_install.html\">Jupyter\n",
       "  Widgets Documentation</a> for setup instructions.\n",
       "</p>\n",
       "<p>\n",
       "  If you're reading this message in another notebook frontend (for example, a static\n",
       "  rendering on GitHub or <a href=\"https://nbviewer.jupyter.org/\">NBViewer</a>),\n",
       "  it may mean that your frontend doesn't currently support widgets.\n",
       "</p>\n"
      ],
      "text/plain": [
       "HBox(children=(IntProgress(value=1, bar_style='info', max=1), HTML(value='')))"
      ]
     },
     "metadata": {},
     "output_type": "display_data"
    },
    {
     "name": "stdout",
     "output_type": "stream",
     "text": [
      "\n"
     ]
    },
    {
     "data": {
      "application/vnd.jupyter.widget-view+json": {
       "model_id": "167265b91e504255b765b283edd264c0",
       "version_major": 2,
       "version_minor": 0
      },
      "text/html": [
       "<p>Failed to display Jupyter Widget of type <code>HBox</code>.</p>\n",
       "<p>\n",
       "  If you're reading this message in Jupyter Notebook or JupyterLab, it may mean\n",
       "  that the widgets JavaScript is still loading. If this message persists, it\n",
       "  likely means that the widgets JavaScript library is either not installed or\n",
       "  not enabled. See the <a href=\"https://ipywidgets.readthedocs.io/en/stable/user_install.html\">Jupyter\n",
       "  Widgets Documentation</a> for setup instructions.\n",
       "</p>\n",
       "<p>\n",
       "  If you're reading this message in another notebook frontend (for example, a static\n",
       "  rendering on GitHub or <a href=\"https://nbviewer.jupyter.org/\">NBViewer</a>),\n",
       "  it may mean that your frontend doesn't currently support widgets.\n",
       "</p>\n"
      ],
      "text/plain": [
       "HBox(children=(IntProgress(value=1, bar_style='info', max=1), HTML(value='')))"
      ]
     },
     "metadata": {},
     "output_type": "display_data"
    },
    {
     "name": "stdout",
     "output_type": "stream",
     "text": [
      "\n"
     ]
    },
    {
     "data": {
      "application/vnd.jupyter.widget-view+json": {
       "model_id": "62d40633ec1c4724bc904f3d3198234b",
       "version_major": 2,
       "version_minor": 0
      },
      "text/html": [
       "<p>Failed to display Jupyter Widget of type <code>HBox</code>.</p>\n",
       "<p>\n",
       "  If you're reading this message in Jupyter Notebook or JupyterLab, it may mean\n",
       "  that the widgets JavaScript is still loading. If this message persists, it\n",
       "  likely means that the widgets JavaScript library is either not installed or\n",
       "  not enabled. See the <a href=\"https://ipywidgets.readthedocs.io/en/stable/user_install.html\">Jupyter\n",
       "  Widgets Documentation</a> for setup instructions.\n",
       "</p>\n",
       "<p>\n",
       "  If you're reading this message in another notebook frontend (for example, a static\n",
       "  rendering on GitHub or <a href=\"https://nbviewer.jupyter.org/\">NBViewer</a>),\n",
       "  it may mean that your frontend doesn't currently support widgets.\n",
       "</p>\n"
      ],
      "text/plain": [
       "HBox(children=(IntProgress(value=1, bar_style='info', max=1), HTML(value='')))"
      ]
     },
     "metadata": {},
     "output_type": "display_data"
    },
    {
     "name": "stdout",
     "output_type": "stream",
     "text": [
      "\n"
     ]
    },
    {
     "data": {
      "application/vnd.jupyter.widget-view+json": {
       "model_id": "30aad5605c744331afe6644b2400aaac",
       "version_major": 2,
       "version_minor": 0
      },
      "text/html": [
       "<p>Failed to display Jupyter Widget of type <code>HBox</code>.</p>\n",
       "<p>\n",
       "  If you're reading this message in Jupyter Notebook or JupyterLab, it may mean\n",
       "  that the widgets JavaScript is still loading. If this message persists, it\n",
       "  likely means that the widgets JavaScript library is either not installed or\n",
       "  not enabled. See the <a href=\"https://ipywidgets.readthedocs.io/en/stable/user_install.html\">Jupyter\n",
       "  Widgets Documentation</a> for setup instructions.\n",
       "</p>\n",
       "<p>\n",
       "  If you're reading this message in another notebook frontend (for example, a static\n",
       "  rendering on GitHub or <a href=\"https://nbviewer.jupyter.org/\">NBViewer</a>),\n",
       "  it may mean that your frontend doesn't currently support widgets.\n",
       "</p>\n"
      ],
      "text/plain": [
       "HBox(children=(IntProgress(value=1, bar_style='info', max=1), HTML(value='')))"
      ]
     },
     "metadata": {},
     "output_type": "display_data"
    },
    {
     "name": "stdout",
     "output_type": "stream",
     "text": [
      "\n"
     ]
    },
    {
     "data": {
      "application/vnd.jupyter.widget-view+json": {
       "model_id": "3593a78b5d504b579271435aa2f92381",
       "version_major": 2,
       "version_minor": 0
      },
      "text/html": [
       "<p>Failed to display Jupyter Widget of type <code>HBox</code>.</p>\n",
       "<p>\n",
       "  If you're reading this message in Jupyter Notebook or JupyterLab, it may mean\n",
       "  that the widgets JavaScript is still loading. If this message persists, it\n",
       "  likely means that the widgets JavaScript library is either not installed or\n",
       "  not enabled. See the <a href=\"https://ipywidgets.readthedocs.io/en/stable/user_install.html\">Jupyter\n",
       "  Widgets Documentation</a> for setup instructions.\n",
       "</p>\n",
       "<p>\n",
       "  If you're reading this message in another notebook frontend (for example, a static\n",
       "  rendering on GitHub or <a href=\"https://nbviewer.jupyter.org/\">NBViewer</a>),\n",
       "  it may mean that your frontend doesn't currently support widgets.\n",
       "</p>\n"
      ],
      "text/plain": [
       "HBox(children=(IntProgress(value=1, bar_style='info', max=1), HTML(value='')))"
      ]
     },
     "metadata": {},
     "output_type": "display_data"
    },
    {
     "name": "stdout",
     "output_type": "stream",
     "text": [
      "\n"
     ]
    },
    {
     "data": {
      "application/vnd.jupyter.widget-view+json": {
       "model_id": "6e5afefd361849e09a144db13fef0503",
       "version_major": 2,
       "version_minor": 0
      },
      "text/html": [
       "<p>Failed to display Jupyter Widget of type <code>HBox</code>.</p>\n",
       "<p>\n",
       "  If you're reading this message in Jupyter Notebook or JupyterLab, it may mean\n",
       "  that the widgets JavaScript is still loading. If this message persists, it\n",
       "  likely means that the widgets JavaScript library is either not installed or\n",
       "  not enabled. See the <a href=\"https://ipywidgets.readthedocs.io/en/stable/user_install.html\">Jupyter\n",
       "  Widgets Documentation</a> for setup instructions.\n",
       "</p>\n",
       "<p>\n",
       "  If you're reading this message in another notebook frontend (for example, a static\n",
       "  rendering on GitHub or <a href=\"https://nbviewer.jupyter.org/\">NBViewer</a>),\n",
       "  it may mean that your frontend doesn't currently support widgets.\n",
       "</p>\n"
      ],
      "text/plain": [
       "HBox(children=(IntProgress(value=1, bar_style='info', max=1), HTML(value='')))"
      ]
     },
     "metadata": {},
     "output_type": "display_data"
    },
    {
     "name": "stdout",
     "output_type": "stream",
     "text": [
      "\n"
     ]
    },
    {
     "data": {
      "application/vnd.jupyter.widget-view+json": {
       "model_id": "74ebb4c175bc4f26ba458877acd7cccd",
       "version_major": 2,
       "version_minor": 0
      },
      "text/html": [
       "<p>Failed to display Jupyter Widget of type <code>HBox</code>.</p>\n",
       "<p>\n",
       "  If you're reading this message in Jupyter Notebook or JupyterLab, it may mean\n",
       "  that the widgets JavaScript is still loading. If this message persists, it\n",
       "  likely means that the widgets JavaScript library is either not installed or\n",
       "  not enabled. See the <a href=\"https://ipywidgets.readthedocs.io/en/stable/user_install.html\">Jupyter\n",
       "  Widgets Documentation</a> for setup instructions.\n",
       "</p>\n",
       "<p>\n",
       "  If you're reading this message in another notebook frontend (for example, a static\n",
       "  rendering on GitHub or <a href=\"https://nbviewer.jupyter.org/\">NBViewer</a>),\n",
       "  it may mean that your frontend doesn't currently support widgets.\n",
       "</p>\n"
      ],
      "text/plain": [
       "HBox(children=(IntProgress(value=1, bar_style='info', max=1), HTML(value='')))"
      ]
     },
     "metadata": {},
     "output_type": "display_data"
    },
    {
     "name": "stdout",
     "output_type": "stream",
     "text": [
      "\n"
     ]
    },
    {
     "data": {
      "application/vnd.jupyter.widget-view+json": {
       "model_id": "f8746f67b4dc4a999786d2e944a70898",
       "version_major": 2,
       "version_minor": 0
      },
      "text/html": [
       "<p>Failed to display Jupyter Widget of type <code>HBox</code>.</p>\n",
       "<p>\n",
       "  If you're reading this message in Jupyter Notebook or JupyterLab, it may mean\n",
       "  that the widgets JavaScript is still loading. If this message persists, it\n",
       "  likely means that the widgets JavaScript library is either not installed or\n",
       "  not enabled. See the <a href=\"https://ipywidgets.readthedocs.io/en/stable/user_install.html\">Jupyter\n",
       "  Widgets Documentation</a> for setup instructions.\n",
       "</p>\n",
       "<p>\n",
       "  If you're reading this message in another notebook frontend (for example, a static\n",
       "  rendering on GitHub or <a href=\"https://nbviewer.jupyter.org/\">NBViewer</a>),\n",
       "  it may mean that your frontend doesn't currently support widgets.\n",
       "</p>\n"
      ],
      "text/plain": [
       "HBox(children=(IntProgress(value=1, bar_style='info', max=1), HTML(value='')))"
      ]
     },
     "metadata": {},
     "output_type": "display_data"
    },
    {
     "name": "stdout",
     "output_type": "stream",
     "text": [
      "\n"
     ]
    },
    {
     "data": {
      "application/vnd.jupyter.widget-view+json": {
       "model_id": "ffca5783bfec476dbc9a5ed344012c6c",
       "version_major": 2,
       "version_minor": 0
      },
      "text/html": [
       "<p>Failed to display Jupyter Widget of type <code>HBox</code>.</p>\n",
       "<p>\n",
       "  If you're reading this message in Jupyter Notebook or JupyterLab, it may mean\n",
       "  that the widgets JavaScript is still loading. If this message persists, it\n",
       "  likely means that the widgets JavaScript library is either not installed or\n",
       "  not enabled. See the <a href=\"https://ipywidgets.readthedocs.io/en/stable/user_install.html\">Jupyter\n",
       "  Widgets Documentation</a> for setup instructions.\n",
       "</p>\n",
       "<p>\n",
       "  If you're reading this message in another notebook frontend (for example, a static\n",
       "  rendering on GitHub or <a href=\"https://nbviewer.jupyter.org/\">NBViewer</a>),\n",
       "  it may mean that your frontend doesn't currently support widgets.\n",
       "</p>\n"
      ],
      "text/plain": [
       "HBox(children=(IntProgress(value=1, bar_style='info', max=1), HTML(value='')))"
      ]
     },
     "metadata": {},
     "output_type": "display_data"
    },
    {
     "name": "stdout",
     "output_type": "stream",
     "text": [
      "\n"
     ]
    }
   ],
   "source": [
    "rural = read_tweets('../../data/geo-lt10k.json/part-0000*')"
   ]
  },
  {
   "cell_type": "code",
   "execution_count": 4,
   "metadata": {},
   "outputs": [
    {
     "data": {
      "application/vnd.jupyter.widget-view+json": {
       "model_id": "d4a4d7e336034f53a416ec5746d7a5eb",
       "version_major": 2,
       "version_minor": 0
      },
      "text/html": [
       "<p>Failed to display Jupyter Widget of type <code>HBox</code>.</p>\n",
       "<p>\n",
       "  If you're reading this message in Jupyter Notebook or JupyterLab, it may mean\n",
       "  that the widgets JavaScript is still loading. If this message persists, it\n",
       "  likely means that the widgets JavaScript library is either not installed or\n",
       "  not enabled. See the <a href=\"https://ipywidgets.readthedocs.io/en/stable/user_install.html\">Jupyter\n",
       "  Widgets Documentation</a> for setup instructions.\n",
       "</p>\n",
       "<p>\n",
       "  If you're reading this message in another notebook frontend (for example, a static\n",
       "  rendering on GitHub or <a href=\"https://nbviewer.jupyter.org/\">NBViewer</a>),\n",
       "  it may mean that your frontend doesn't currently support widgets.\n",
       "</p>\n"
      ],
      "text/plain": [
       "HBox(children=(IntProgress(value=1, bar_style='info', max=1), HTML(value='')))"
      ]
     },
     "metadata": {},
     "output_type": "display_data"
    },
    {
     "name": "stdout",
     "output_type": "stream",
     "text": [
      "\n"
     ]
    },
    {
     "data": {
      "application/vnd.jupyter.widget-view+json": {
       "model_id": "35c1aec7ca864919973a660f0a469945",
       "version_major": 2,
       "version_minor": 0
      },
      "text/html": [
       "<p>Failed to display Jupyter Widget of type <code>HBox</code>.</p>\n",
       "<p>\n",
       "  If you're reading this message in Jupyter Notebook or JupyterLab, it may mean\n",
       "  that the widgets JavaScript is still loading. If this message persists, it\n",
       "  likely means that the widgets JavaScript library is either not installed or\n",
       "  not enabled. See the <a href=\"https://ipywidgets.readthedocs.io/en/stable/user_install.html\">Jupyter\n",
       "  Widgets Documentation</a> for setup instructions.\n",
       "</p>\n",
       "<p>\n",
       "  If you're reading this message in another notebook frontend (for example, a static\n",
       "  rendering on GitHub or <a href=\"https://nbviewer.jupyter.org/\">NBViewer</a>),\n",
       "  it may mean that your frontend doesn't currently support widgets.\n",
       "</p>\n"
      ],
      "text/plain": [
       "HBox(children=(IntProgress(value=1, bar_style='info', max=1), HTML(value='')))"
      ]
     },
     "metadata": {},
     "output_type": "display_data"
    },
    {
     "name": "stdout",
     "output_type": "stream",
     "text": [
      "\n"
     ]
    },
    {
     "data": {
      "application/vnd.jupyter.widget-view+json": {
       "model_id": "737aebc9265f4b5499652abdb8de9dab",
       "version_major": 2,
       "version_minor": 0
      },
      "text/html": [
       "<p>Failed to display Jupyter Widget of type <code>HBox</code>.</p>\n",
       "<p>\n",
       "  If you're reading this message in Jupyter Notebook or JupyterLab, it may mean\n",
       "  that the widgets JavaScript is still loading. If this message persists, it\n",
       "  likely means that the widgets JavaScript library is either not installed or\n",
       "  not enabled. See the <a href=\"https://ipywidgets.readthedocs.io/en/stable/user_install.html\">Jupyter\n",
       "  Widgets Documentation</a> for setup instructions.\n",
       "</p>\n",
       "<p>\n",
       "  If you're reading this message in another notebook frontend (for example, a static\n",
       "  rendering on GitHub or <a href=\"https://nbviewer.jupyter.org/\">NBViewer</a>),\n",
       "  it may mean that your frontend doesn't currently support widgets.\n",
       "</p>\n"
      ],
      "text/plain": [
       "HBox(children=(IntProgress(value=1, bar_style='info', max=1), HTML(value='')))"
      ]
     },
     "metadata": {},
     "output_type": "display_data"
    },
    {
     "name": "stdout",
     "output_type": "stream",
     "text": [
      "\n"
     ]
    },
    {
     "data": {
      "application/vnd.jupyter.widget-view+json": {
       "model_id": "23434d6a0a564ff7ba5af472f0934e11",
       "version_major": 2,
       "version_minor": 0
      },
      "text/html": [
       "<p>Failed to display Jupyter Widget of type <code>HBox</code>.</p>\n",
       "<p>\n",
       "  If you're reading this message in Jupyter Notebook or JupyterLab, it may mean\n",
       "  that the widgets JavaScript is still loading. If this message persists, it\n",
       "  likely means that the widgets JavaScript library is either not installed or\n",
       "  not enabled. See the <a href=\"https://ipywidgets.readthedocs.io/en/stable/user_install.html\">Jupyter\n",
       "  Widgets Documentation</a> for setup instructions.\n",
       "</p>\n",
       "<p>\n",
       "  If you're reading this message in another notebook frontend (for example, a static\n",
       "  rendering on GitHub or <a href=\"https://nbviewer.jupyter.org/\">NBViewer</a>),\n",
       "  it may mean that your frontend doesn't currently support widgets.\n",
       "</p>\n"
      ],
      "text/plain": [
       "HBox(children=(IntProgress(value=1, bar_style='info', max=1), HTML(value='')))"
      ]
     },
     "metadata": {},
     "output_type": "display_data"
    },
    {
     "name": "stdout",
     "output_type": "stream",
     "text": [
      "\n"
     ]
    },
    {
     "data": {
      "application/vnd.jupyter.widget-view+json": {
       "model_id": "6b8cef330b3c4806b2384c42360038c1",
       "version_major": 2,
       "version_minor": 0
      },
      "text/html": [
       "<p>Failed to display Jupyter Widget of type <code>HBox</code>.</p>\n",
       "<p>\n",
       "  If you're reading this message in Jupyter Notebook or JupyterLab, it may mean\n",
       "  that the widgets JavaScript is still loading. If this message persists, it\n",
       "  likely means that the widgets JavaScript library is either not installed or\n",
       "  not enabled. See the <a href=\"https://ipywidgets.readthedocs.io/en/stable/user_install.html\">Jupyter\n",
       "  Widgets Documentation</a> for setup instructions.\n",
       "</p>\n",
       "<p>\n",
       "  If you're reading this message in another notebook frontend (for example, a static\n",
       "  rendering on GitHub or <a href=\"https://nbviewer.jupyter.org/\">NBViewer</a>),\n",
       "  it may mean that your frontend doesn't currently support widgets.\n",
       "</p>\n"
      ],
      "text/plain": [
       "HBox(children=(IntProgress(value=1, bar_style='info', max=1), HTML(value='')))"
      ]
     },
     "metadata": {},
     "output_type": "display_data"
    },
    {
     "name": "stdout",
     "output_type": "stream",
     "text": [
      "\n"
     ]
    },
    {
     "data": {
      "application/vnd.jupyter.widget-view+json": {
       "model_id": "1e8406325e1e4b9fb4e42ce194a3077d",
       "version_major": 2,
       "version_minor": 0
      },
      "text/html": [
       "<p>Failed to display Jupyter Widget of type <code>HBox</code>.</p>\n",
       "<p>\n",
       "  If you're reading this message in Jupyter Notebook or JupyterLab, it may mean\n",
       "  that the widgets JavaScript is still loading. If this message persists, it\n",
       "  likely means that the widgets JavaScript library is either not installed or\n",
       "  not enabled. See the <a href=\"https://ipywidgets.readthedocs.io/en/stable/user_install.html\">Jupyter\n",
       "  Widgets Documentation</a> for setup instructions.\n",
       "</p>\n",
       "<p>\n",
       "  If you're reading this message in another notebook frontend (for example, a static\n",
       "  rendering on GitHub or <a href=\"https://nbviewer.jupyter.org/\">NBViewer</a>),\n",
       "  it may mean that your frontend doesn't currently support widgets.\n",
       "</p>\n"
      ],
      "text/plain": [
       "HBox(children=(IntProgress(value=1, bar_style='info', max=1), HTML(value='')))"
      ]
     },
     "metadata": {},
     "output_type": "display_data"
    },
    {
     "name": "stdout",
     "output_type": "stream",
     "text": [
      "\n"
     ]
    },
    {
     "data": {
      "application/vnd.jupyter.widget-view+json": {
       "model_id": "9f1c7621201d4b34b21b0def0469eb33",
       "version_major": 2,
       "version_minor": 0
      },
      "text/html": [
       "<p>Failed to display Jupyter Widget of type <code>HBox</code>.</p>\n",
       "<p>\n",
       "  If you're reading this message in Jupyter Notebook or JupyterLab, it may mean\n",
       "  that the widgets JavaScript is still loading. If this message persists, it\n",
       "  likely means that the widgets JavaScript library is either not installed or\n",
       "  not enabled. See the <a href=\"https://ipywidgets.readthedocs.io/en/stable/user_install.html\">Jupyter\n",
       "  Widgets Documentation</a> for setup instructions.\n",
       "</p>\n",
       "<p>\n",
       "  If you're reading this message in another notebook frontend (for example, a static\n",
       "  rendering on GitHub or <a href=\"https://nbviewer.jupyter.org/\">NBViewer</a>),\n",
       "  it may mean that your frontend doesn't currently support widgets.\n",
       "</p>\n"
      ],
      "text/plain": [
       "HBox(children=(IntProgress(value=1, bar_style='info', max=1), HTML(value='')))"
      ]
     },
     "metadata": {},
     "output_type": "display_data"
    },
    {
     "name": "stdout",
     "output_type": "stream",
     "text": [
      "\n"
     ]
    },
    {
     "data": {
      "application/vnd.jupyter.widget-view+json": {
       "model_id": "239530fac8254a24a498be3866795cbc",
       "version_major": 2,
       "version_minor": 0
      },
      "text/html": [
       "<p>Failed to display Jupyter Widget of type <code>HBox</code>.</p>\n",
       "<p>\n",
       "  If you're reading this message in Jupyter Notebook or JupyterLab, it may mean\n",
       "  that the widgets JavaScript is still loading. If this message persists, it\n",
       "  likely means that the widgets JavaScript library is either not installed or\n",
       "  not enabled. See the <a href=\"https://ipywidgets.readthedocs.io/en/stable/user_install.html\">Jupyter\n",
       "  Widgets Documentation</a> for setup instructions.\n",
       "</p>\n",
       "<p>\n",
       "  If you're reading this message in another notebook frontend (for example, a static\n",
       "  rendering on GitHub or <a href=\"https://nbviewer.jupyter.org/\">NBViewer</a>),\n",
       "  it may mean that your frontend doesn't currently support widgets.\n",
       "</p>\n"
      ],
      "text/plain": [
       "HBox(children=(IntProgress(value=1, bar_style='info', max=1), HTML(value='')))"
      ]
     },
     "metadata": {},
     "output_type": "display_data"
    },
    {
     "name": "stdout",
     "output_type": "stream",
     "text": [
      "\n"
     ]
    },
    {
     "data": {
      "application/vnd.jupyter.widget-view+json": {
       "model_id": "04ccc6233dc7491189288f939ab29a17",
       "version_major": 2,
       "version_minor": 0
      },
      "text/html": [
       "<p>Failed to display Jupyter Widget of type <code>HBox</code>.</p>\n",
       "<p>\n",
       "  If you're reading this message in Jupyter Notebook or JupyterLab, it may mean\n",
       "  that the widgets JavaScript is still loading. If this message persists, it\n",
       "  likely means that the widgets JavaScript library is either not installed or\n",
       "  not enabled. See the <a href=\"https://ipywidgets.readthedocs.io/en/stable/user_install.html\">Jupyter\n",
       "  Widgets Documentation</a> for setup instructions.\n",
       "</p>\n",
       "<p>\n",
       "  If you're reading this message in another notebook frontend (for example, a static\n",
       "  rendering on GitHub or <a href=\"https://nbviewer.jupyter.org/\">NBViewer</a>),\n",
       "  it may mean that your frontend doesn't currently support widgets.\n",
       "</p>\n"
      ],
      "text/plain": [
       "HBox(children=(IntProgress(value=1, bar_style='info', max=1), HTML(value='')))"
      ]
     },
     "metadata": {},
     "output_type": "display_data"
    },
    {
     "name": "stdout",
     "output_type": "stream",
     "text": [
      "\n"
     ]
    },
    {
     "data": {
      "application/vnd.jupyter.widget-view+json": {
       "model_id": "f0c9f159485240e8ae7ead61432f4b46",
       "version_major": 2,
       "version_minor": 0
      },
      "text/html": [
       "<p>Failed to display Jupyter Widget of type <code>HBox</code>.</p>\n",
       "<p>\n",
       "  If you're reading this message in Jupyter Notebook or JupyterLab, it may mean\n",
       "  that the widgets JavaScript is still loading. If this message persists, it\n",
       "  likely means that the widgets JavaScript library is either not installed or\n",
       "  not enabled. See the <a href=\"https://ipywidgets.readthedocs.io/en/stable/user_install.html\">Jupyter\n",
       "  Widgets Documentation</a> for setup instructions.\n",
       "</p>\n",
       "<p>\n",
       "  If you're reading this message in another notebook frontend (for example, a static\n",
       "  rendering on GitHub or <a href=\"https://nbviewer.jupyter.org/\">NBViewer</a>),\n",
       "  it may mean that your frontend doesn't currently support widgets.\n",
       "</p>\n"
      ],
      "text/plain": [
       "HBox(children=(IntProgress(value=1, bar_style='info', max=1), HTML(value='')))"
      ]
     },
     "metadata": {},
     "output_type": "display_data"
    },
    {
     "name": "stdout",
     "output_type": "stream",
     "text": [
      "\n"
     ]
    }
   ],
   "source": [
    "urban = read_tweets('../../data/geo-gt1m.json/part-0000*')"
   ]
  },
  {
   "cell_type": "code",
   "execution_count": 5,
   "metadata": {},
   "outputs": [],
   "source": [
    "X = rural + urban"
   ]
  },
  {
   "cell_type": "code",
   "execution_count": 6,
   "metadata": {},
   "outputs": [],
   "source": [
    "y = ([-1] * len(rural)) + ([1] * len(urban))"
   ]
  },
  {
   "cell_type": "code",
   "execution_count": 8,
   "metadata": {},
   "outputs": [
    {
     "data": {
      "text/plain": [
       "8499039"
      ]
     },
     "execution_count": 8,
     "metadata": {},
     "output_type": "execute_result"
    }
   ],
   "source": [
    "len(y)"
   ]
  },
  {
   "cell_type": "code",
   "execution_count": 9,
   "metadata": {},
   "outputs": [],
   "source": [
    "cv = CountVectorizer(max_features=5000, ngram_range=(2, 2))"
   ]
  },
  {
   "cell_type": "code",
   "execution_count": 10,
   "metadata": {},
   "outputs": [],
   "source": [
    "X = cv.fit_transform(X)"
   ]
  },
  {
   "cell_type": "code",
   "execution_count": 11,
   "metadata": {},
   "outputs": [
    {
     "data": {
      "text/plain": [
       "<8499039x5000 sparse matrix of type '<class 'numpy.int64'>'\n",
       "\twith 18775499 stored elements in Compressed Sparse Row format>"
      ]
     },
     "execution_count": 11,
     "metadata": {},
     "output_type": "execute_result"
    }
   ],
   "source": [
    "X"
   ]
  },
  {
   "cell_type": "code",
   "execution_count": 12,
   "metadata": {},
   "outputs": [],
   "source": [
    "X_train, X_test, y_train, y_test = train_test_split(X, y)"
   ]
  },
  {
   "cell_type": "code",
   "execution_count": 13,
   "metadata": {},
   "outputs": [],
   "source": [
    "model = LogisticRegression().fit(X_train, y_train)"
   ]
  },
  {
   "cell_type": "code",
   "execution_count": 14,
   "metadata": {},
   "outputs": [],
   "source": [
    "y_pred = model.predict(X_test)"
   ]
  },
  {
   "cell_type": "code",
   "execution_count": 15,
   "metadata": {},
   "outputs": [
    {
     "data": {
      "text/plain": [
       "0.85295312919651989"
      ]
     },
     "execution_count": 15,
     "metadata": {},
     "output_type": "execute_result"
    }
   ],
   "source": [
    "f1_score(y_test, y_pred)"
   ]
  },
  {
   "cell_type": "code",
   "execution_count": 16,
   "metadata": {},
   "outputs": [
    {
     "data": {
      "text/plain": [
       "array([[ 1.46348103, -2.43904233, -1.07456833, ..., -0.49804595,\n",
       "        -0.47050567, -0.58310906]])"
      ]
     },
     "execution_count": 16,
     "metadata": {},
     "output_type": "execute_result"
    }
   ],
   "source": [
    "model.coef_"
   ]
  },
  {
   "cell_type": "code",
   "execution_count": 17,
   "metadata": {},
   "outputs": [],
   "source": [
    "names = cv.get_feature_names()"
   ]
  },
  {
   "cell_type": "code",
   "execution_count": 18,
   "metadata": {},
   "outputs": [
    {
     "data": {
      "text/plain": [
       "5000"
      ]
     },
     "execution_count": 18,
     "metadata": {},
     "output_type": "execute_result"
    }
   ],
   "source": [
    "len(names)"
   ]
  },
  {
   "cell_type": "code",
   "execution_count": 19,
   "metadata": {},
   "outputs": [],
   "source": [
    "rural_idxs = model.coef_[0].argsort()"
   ]
  },
  {
   "cell_type": "code",
   "execution_count": 20,
   "metadata": {
    "scrolled": false
   },
   "outputs": [
    {
     "name": "stdout",
     "output_type": "stream",
     "text": [
      "-4.03738189656 wind speed\n",
      "-3.97953232651 wind mph\n",
      "-2.94907616178 q106 country\n",
      "-2.94907616178 on q106\n",
      "-2.79235234374 honeoye falls\n",
      "-2.43904232814 00 in\n",
      "-2.30791088353 falls ny\n",
      "-1.98082987311 on radio\n",
      "-1.7096884044 earning in\n",
      "-1.61619590978 new story\n",
      "-1.28978556463 severe thunderstorm\n",
      "-1.26000866021 unknown unknown\n",
      "-1.24471368045 chance of\n",
      "-1.15381435744 your vote\n",
      "-1.14398422344 left in\n",
      "-1.14306957294 the half\n",
      "-1.0826556172 rain today\n",
      "-1.07456833293 00 pm\n",
      "-1.03757683134 with download\n",
      "-1.03292384096 lt gt\n",
      "-1.02925405258 more and\n",
      "-1.00653715499 lady gaga\n",
      "-0.989923521926 congratulations to\n",
      "-0.956384440191 available until\n",
      "-0.940624135202 appeared available\n",
      "-0.9315077964 win over\n",
      "-0.919804553229 temperature is\n",
      "-0.911046823897 love ya\n",
      "-0.900920922881 recent follow\n",
      "-0.875891039981 rain last\n",
      "-0.862167256578 great job\n",
      "-0.858970149391 thankful for\n",
      "-0.850950255267 your profile\n",
      "-0.849103589672 of july\n",
      "-0.832282435284 bottom of\n",
      "-0.824198318109 this afternoon\n",
      "-0.806720172239 this evening\n",
      "-0.773019088659 entered giveaway\n",
      "-0.76961877081 class of\n",
      "-0.768185388147 high school\n",
      "-0.752388305437 for sale\n",
      "-0.749462281797 to facebook\n",
      "-0.742076466218 ny weather\n",
      "-0.73342578044 enter for\n",
      "-0.732358139756 visits your\n",
      "-0.730530887184 in ny\n",
      "-0.719171875631 30 pm\n",
      "-0.702839301749 the school\n",
      "-0.689265666498 today 00\n",
      "-0.688972746788 congrats to\n",
      "-0.683110218222 middle school\n",
      "-0.682966477804 luck to\n",
      "-0.673508490818 the national\n",
      "-0.66946304613 now available\n",
      "-0.660172273354 view our\n",
      "-0.658833371798 now playing\n",
      "-0.656711142143 اللهم إني\n",
      "-0.64509605361 at 30\n",
      "-0.634969388202 open house\n",
      "-0.631128950997 just wanted\n",
      "-0.614125581844 spring break\n",
      "-0.6057056574 couldn be\n",
      "-0.602758280197 come see\n",
      "-0.597421014576 come home\n",
      "-0.596445656849 humidity is\n",
      "-0.591773314042 sign the\n",
      "-0.585822260651 all night\n",
      "-0.58512570143 more for\n",
      "-0.583294560937 automatically checked\n",
      "-0.583109064802 لا إله\n",
      "-0.580205953543 happy bday\n",
      "-0.570835239004 your home\n",
      "-0.56363620956 something for\n",
      "-0.561481860019 stop by\n",
      "-0.560370598614 the girls\n",
      "-0.558894821657 this awesome\n",
      "-0.553351856032 posted new\n",
      "-0.551961553101 the state\n",
      "-0.551108986929 earned the\n",
      "-0.536022268385 photo to\n",
      "-0.533103809572 new jersey\n",
      "-0.524753859717 tomorrow at\n",
      "-0.519376498441 the lord\n",
      "-0.51843902526 good luck\n",
      "-0.516149622326 me automatically\n",
      "-0.515428978967 tomorrow and\n",
      "-0.514965253474 just entered\n",
      "-0.513080010311 the road\n",
      "-0.509976786825 the boys\n",
      "-0.509586094205 for chance\n",
      "-0.508444708904 top of\n",
      "-0.507455427975 taco bell\n",
      "-0.505803138127 amp his\n",
      "-0.504368639798 best friends\n",
      "-0.498187640954 please share\n",
      "-0.498045946333 بك من\n",
      "-0.497468547192 what great\n",
      "-0.496832116949 watch on\n",
      "-0.492237951148 as soon\n",
      "-0.491450839175 friday night\n",
      "-0.49045248153 miss you\n",
      "-0.484845680305 tomorrow is\n",
      "-0.483775502886 to bed\n",
      "-0.48241184271 the lead\n",
      "-0.4819784035 blessed to\n",
      "-0.479080447177 to much\n",
      "-0.474120945775 the field\n",
      "-0.47409597515 end of\n",
      "-0.470505672881 سبحان الله\n",
      "-0.469278003764 messed up\n",
      "-0.468204719884 posted photo\n",
      "-0.467130246192 wish could\n",
      "-0.463818653359 city news\n",
      "-0.463077224626 on snapchat\n",
      "-0.461570504533 your car\n",
      "-0.461493446269 cannot wait\n",
      "-0.459447250808 just hit\n",
      "-0.458300770128 the win\n",
      "-0.456925262954 memorial day\n",
      "-0.455638519587 here at\n",
      "-0.450301405748 just checked\n",
      "-0.445459494402 an awesome\n",
      "-0.444243280968 the beach\n",
      "-0.443290016665 praying for\n",
      "-0.44270043628 for details\n",
      "-0.436355245393 download today\n",
      "-0.43618839032 that awesome\n",
      "-0.435238861947 of school\n",
      "-0.431521598723 my twitter\n",
      "-0.429297969938 found in\n",
      "-0.421250411493 so true\n",
      "-0.417522691035 need of\n",
      "-0.414453637251 love you\n",
      "-0.412242477658 checked by\n",
      "-0.412225877946 best friend\n",
      "-0.411677362047 20 off\n",
      "-0.411522263342 don forget\n",
      "-0.406870072524 happy birthday\n",
      "-0.406377366449 on thursday\n",
      "-0.406037657829 the weather\n",
      "-0.405585496489 have ever\n",
      "-0.404996792154 and miss\n",
      "-0.404348145772 good enough\n",
      "-0.4041466092 and me\n",
      "-0.403433396936 check out\n",
      "-0.40332365669 to win\n",
      "-0.401683829637 help us\n",
      "-0.401319327442 york times\n",
      "-0.40099401433 the season\n",
      "-0.399657696069 the water\n",
      "-0.399406334735 the 3rd\n",
      "-0.398634816074 for summer\n",
      "-0.394637636325 we the\n",
      "-0.393287063753 case you\n",
      "-0.392543135263 liked video\n",
      "-0.391525304898 here in\n",
      "-0.391159564713 one on\n",
      "-0.390800370947 of god\n",
      "-0.390537383086 if could\n",
      "-0.390500999501 tomorrow night\n",
      "-0.390479544767 happy with\n",
      "-0.390350718103 watch out\n",
      "-0.388832525606 to school\n",
      "-0.384928414307 pray for\n",
      "-0.38377510816 it done\n",
      "-0.383699724171 we hope\n",
      "-0.382713173536 giving away\n",
      "-0.380880869714 see ya\n",
      "-0.380264474365 and ready\n",
      "-0.379965811776 bring me\n",
      "-0.378432471008 add me\n",
      "-0.378190108418 sick of\n",
      "-0.37172919634 follow happy\n",
      "-0.370088827642 my broadcast\n",
      "-0.369804546265 this weather\n",
      "-0.369173938098 someone you\n",
      "-0.367720759166 the 4th\n",
      "-0.367224581325 this great\n",
      "-0.366938000912 thunderstorm warning\n",
      "-0.366452739578 sad that\n",
      "-0.366316399071 night of\n",
      "-0.365229479002 great day\n",
      "-0.362014690011 the patriots\n",
      "-0.358813458029 for today\n",
      "-0.358508598198 today in\n",
      "-0.358335849359 twitter profile\n",
      "-0.357575686626 23 99\n",
      "-0.356876366769 just found\n",
      "-0.356435366524 good night\n",
      "-0.355977048988 so ready\n",
      "-0.355863575032 grow up\n",
      "-0.353927716461 my car\n",
      "-0.352600118459 day weekend\n",
      "-0.350992212916 just trying\n",
      "-0.350530302699 heading to\n",
      "-0.348918333837 without you\n",
      "-0.34731700074 the third\n",
      "-0.345644122821 in today\n",
      "-0.345507944869 week of\n",
      "-0.344458717104 check this\n"
     ]
    }
   ],
   "source": [
    "for idx in rural_idxs[:200]:\n",
    "    print(model.coef_[0][idx], names[idx])"
   ]
  },
  {
   "cell_type": "markdown",
   "metadata": {},
   "source": [
    "- weather\n",
    "- lady gaga\n",
    "- prayer / the lord\n",
    "- high school sports\n",
    "- love you / love ya\n",
    "- best friend\n",
    "- when - this afternoon, this evening"
   ]
  },
  {
   "cell_type": "code",
   "execution_count": 21,
   "metadata": {},
   "outputs": [],
   "source": [
    "urban_idxs = np.flip(model.coef_[0].argsort(), 0)"
   ]
  },
  {
   "cell_type": "code",
   "execution_count": 22,
   "metadata": {
    "scrolled": false
   },
   "outputs": [
    {
     "name": "stdout",
     "output_type": "stream",
     "text": [
      "4.40770230036 new node\n",
      "4.3414131493 related articles\n",
      "4.12172228575 found til\n",
      "4.08028991105 news search\n",
      "4.03161973699 flight spotted\n",
      "3.81339071695 minute guide\n",
      "3.77052724565 incident on\n",
      "3.60264243759 trfc collision\n",
      "2.88681189817 in il\n",
      "2.72188275326 natural hair\n",
      "2.54888152125 listen now\n",
      "2.46595864817 in tx\n",
      "2.3919713729 air jordan\n",
      "2.32595846254 has appeared\n",
      "2.3169274203 tweet also\n",
      "2.3161983935 been broken\n",
      "2.298593227 houston tx\n",
      "2.29316119476 los angeles\n",
      "2.2836142745 in az\n",
      "2.27975780934 via twitter\n",
      "2.27227232952 ca this\n",
      "2.24601128442 ca check\n",
      "2.22258920531 ca view\n",
      "2.21277343363 trending in\n",
      "2.15239089203 san diego\n",
      "2.14969645554 pls rt\n",
      "2.12526693353 dallas cowboys\n",
      "2.04680095779 our growing\n",
      "1.98220665741 chicago il\n",
      "1.97964585606 should surely\n",
      "1.96308000934 surely interest\n",
      "1.95851601948 san jose\n",
      "1.84093295906 ca click\n",
      "1.75849872445 in chicago\n",
      "1.74655228496 click link\n",
      "1.72539682229 san antonio\n",
      "1.69312355108 in dallas\n",
      "1.68922710387 via nyt\n",
      "1.65202313695 to chicago\n",
      "1.590605582 in houston\n",
      "1.56656371836 in phoenix\n",
      "1.529291716 in ca\n",
      "1.5225960458 to la\n",
      "1.5220684065 in la\n",
      "1.50055555567 own it\n",
      "1.49358016532 current temperature\n",
      "1.46348103158 gmt 0000\n",
      "1.46348103158 utc current\n",
      "1.46348103158 00 humidity\n",
      "1.46348103158 0000 utc\n",
      "1.45575567007 com gt\n",
      "1.42585244563 latest ca\n",
      "1.42493532561 away traveling\n",
      "1.35295089337 to houston\n",
      "1.32326207048 en la\n",
      "1.32303140854 kim kardashian\n",
      "1.31551286933 en el\n",
      "1.27135086907 gt lt\n",
      "1.27106181377 now trending\n",
      "1.24479067922 in nyc\n",
      "1.17857360006 on or\n",
      "1.16490610363 nicki minaj\n",
      "1.13674112564 new single\n",
      "1.13169775207 on air\n",
      "1.1192249748 the train\n",
      "1.07409761012 de la\n",
      "1.04044500601 angeles ca\n",
      "1.01303827405 hip hop\n",
      "1.00852909692 this nigga\n",
      "1.00633063937 spotted at\n",
      "1.00034177442 music for\n",
      "0.952412046465 prod by\n",
      "0.939298424452 black women\n",
      "0.935495491604 job at\n",
      "0.928267222139 in philly\n",
      "0.910210090746 on ig\n",
      "0.91005341775 dm us\n",
      "0.894456122106 airlines flight\n",
      "0.887622896591 for for\n",
      "0.883197094164 interest you\n",
      "0.866774893654 of free\n",
      "0.86275677158 shot by\n",
      "0.840533131346 people unfollowed\n",
      "0.809944528412 the twitter\n",
      "0.80548315412 chris brown\n",
      "0.803895157372 available now\n",
      "0.793680414182 your dream\n",
      "0.789419779641 person unfollowed\n",
      "0.779305172655 rmvontwit rmvontwit\n",
      "0.773115727869 please dm\n",
      "0.76315471009 new music\n",
      "0.750082588085 get yours\n",
      "0.743827990454 black people\n",
      "0.734539503931 white people\n",
      "0.729204991116 new video\n",
      "0.727408532078 tickets to\n",
      "0.726270386747 of thrones\n",
      "0.724842459969 unkn unkn\n",
      "0.721193793604 my nigga\n",
      "0.716897897488 in us\n",
      "0.711663786485 available on\n",
      "0.702867696829 my tl\n",
      "0.698749612624 available at\n",
      "0.694648103541 jobs in\n",
      "0.689764292115 opening here\n",
      "0.665625674423 hosted by\n",
      "0.662883005395 inspired by\n",
      "0.657390601419 the streets\n",
      "0.650449486373 justin bieber\n",
      "0.640402750553 these niggas\n",
      "0.637339715733 that nigga\n",
      "0.637221416462 and dont\n",
      "0.623188813393 you join\n",
      "0.620772373227 also at\n",
      "0.614641033854 yo ass\n",
      "0.612961357664 wall street\n",
      "0.602306380422 the city\n",
      "0.601726914649 your account\n",
      "0.598662973196 new song\n",
      "0.598055012896 subscribe to\n",
      "0.59749445733 ain shit\n",
      "0.587561697859 by on\n",
      "0.587046793026 in california\n",
      "0.584988209804 promo code\n",
      "0.583893283762 new photo\n",
      "0.577244288391 out now\n",
      "0.574953228282 link in\n",
      "0.571968097696 until 12\n",
      "0.56387182759 new sounds\n",
      "0.563070145497 happy hour\n",
      "0.550813566434 her ass\n",
      "0.549396935335 in texas\n",
      "0.549307953596 as fuck\n",
      "0.548417094302 in high\n",
      "0.541760925143 san francisco\n",
      "0.540806182153 wonder woman\n",
      "0.537038236235 in on\n",
      "0.529500755815 wait what\n",
      "0.527851450185 post your\n",
      "0.527436693458 sold out\n",
      "0.52726581848 person followed\n",
      "0.527111661379 oh shit\n",
      "0.525933365912 this thread\n",
      "0.522498458683 new york\n",
      "0.521742266428 4th of\n",
      "0.51743353442 in pa\n",
      "0.517218545262 to another\n",
      "0.514237217408 ca and\n",
      "0.514207680675 the full\n",
      "0.513609320603 la la\n",
      "0.509783652143 the club\n",
      "0.505815489568 dead ass\n",
      "0.50414885055 music video\n",
      "0.503693773435 the hottest\n",
      "0.503426928875 the recent\n",
      "0.503379334598 the universe\n",
      "0.492341366179 las vegas\n",
      "0.48781090865 access to\n",
      "0.487448647235 my fave\n",
      "0.486508815233 over here\n",
      "0.485561014274 the street\n",
      "0.483558808974 by me\n",
      "0.482709759921 to drop\n",
      "0.480548839927 customer service\n",
      "0.478927944619 and shit\n",
      "0.478560840438 this might\n",
      "0.476539443604 interview with\n",
      "0.475537480901 re click\n",
      "0.473813685959 says he\n",
      "0.473107646876 dm me\n",
      "0.466534209961 power of\n",
      "0.466446762305 really be\n",
      "0.466045361314 ya ll\n",
      "0.464677547252 but also\n",
      "0.464452837612 an email\n",
      "0.459721290559 show in\n",
      "0.457865652236 thought about\n",
      "0.457660191311 oh man\n",
      "0.45191308844 is trash\n",
      "0.450914242091 with amp\n",
      "0.450182598049 the movie\n",
      "0.450135198903 on point\n",
      "0.45004374591 checked in\n",
      "0.447317307975 is fucking\n",
      "0.446874982916 at amp\n",
      "0.446065148926 sean spicer\n",
      "0.445522104181 please rt\n",
      "0.444674986741 you eat\n",
      "0.440869918396 in humidity\n",
      "0.440567165081 im so\n",
      "0.437342454435 fit for\n",
      "0.436938243693 pull up\n",
      "0.434766814655 shit was\n",
      "0.434009795503 send us\n",
      "0.431422374288 my latest\n",
      "0.430146924768 top 10\n",
      "0.430123986156 responding to\n",
      "0.429975465834 in other\n",
      "0.429736782883 lol it\n",
      "0.425999230804 tune in\n"
     ]
    }
   ],
   "source": [
    "for idx in urban_idxs[:200]:\n",
    "    print(model.coef_[0][idx], names[idx])"
   ]
  },
  {
   "cell_type": "markdown",
   "metadata": {},
   "source": [
    "- nicki minaj\n",
    "- race - \"white people\" \"black people\""
   ]
  },
  {
   "cell_type": "code",
   "execution_count": null,
   "metadata": {},
   "outputs": [],
   "source": []
  }
 ],
 "metadata": {
  "kernelspec": {
   "display_name": "Python 3",
   "language": "python",
   "name": "python3"
  },
  "language_info": {
   "codemirror_mode": {
    "name": "ipython",
    "version": 3
   },
   "file_extension": ".py",
   "mimetype": "text/x-python",
   "name": "python",
   "nbconvert_exporter": "python",
   "pygments_lexer": "ipython3",
   "version": "3.6.2"
  }
 },
 "nbformat": 4,
 "nbformat_minor": 2
}
