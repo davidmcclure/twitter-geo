{
 "cells": [
  {
   "cell_type": "markdown",
   "metadata": {},
   "source": [
    "# Urban vs. rural, combined model"
   ]
  },
  {
   "cell_type": "code",
   "execution_count": 1,
   "metadata": {},
   "outputs": [],
   "source": [
    "import ujson\n",
    "import numpy as np\n",
    "import re\n",
    "import os\n",
    "\n",
    "from tqdm import tqdm_notebook\n",
    "from glob import glob\n",
    "\n",
    "from sklearn.linear_model import LogisticRegression\n",
    "from sklearn.feature_extraction.text import CountVectorizer\n",
    "from sklearn.model_selection import train_test_split\n",
    "from sklearn.metrics import classification_report"
   ]
  },
  {
   "cell_type": "code",
   "execution_count": 2,
   "metadata": {},
   "outputs": [],
   "source": [
    "def read_tweets(pattern, fcount=None):\n",
    "    \n",
    "    paths = glob(pattern)\n",
    "    \n",
    "    if fcount:\n",
    "        paths = paths[:fcount]\n",
    "    \n",
    "    tweets = []\n",
    "    for path in paths:\n",
    "        \n",
    "        with open(path) as fh:\n",
    "            for line in fh:\n",
    "                tweet = ujson.loads(line)\n",
    "                text = re.sub('(#|@|http)\\S+', '', tweet['body'])\n",
    "                tweets.append(text)\n",
    "                \n",
    "    return tweets"
   ]
  },
  {
   "cell_type": "code",
   "execution_count": 3,
   "metadata": {},
   "outputs": [],
   "source": [
    "rural = read_tweets('../../data/geo-lt10k.json/*.json', 60)"
   ]
  },
  {
   "cell_type": "code",
   "execution_count": 4,
   "metadata": {},
   "outputs": [],
   "source": [
    "urban = read_tweets('../../data/geo-gt1m.json/*.json', 20)"
   ]
  },
  {
   "cell_type": "code",
   "execution_count": 5,
   "metadata": {},
   "outputs": [],
   "source": [
    "rural_ = rural[:5000000]"
   ]
  },
  {
   "cell_type": "code",
   "execution_count": 6,
   "metadata": {},
   "outputs": [],
   "source": [
    "urban_ = urban[:5000000]"
   ]
  },
  {
   "cell_type": "code",
   "execution_count": 7,
   "metadata": {},
   "outputs": [],
   "source": [
    "X = rural_ + urban_"
   ]
  },
  {
   "cell_type": "code",
   "execution_count": 8,
   "metadata": {},
   "outputs": [],
   "source": [
    "y = ([0] * len(rural_)) + ([1] * len(urban_))"
   ]
  },
  {
   "cell_type": "code",
   "execution_count": 9,
   "metadata": {},
   "outputs": [],
   "source": [
    "def train_model(X, y, ngram_range=(1, 1), max_features=5000):\n",
    "    \n",
    "    cv = CountVectorizer(\n",
    "        ngram_range=ngram_range,\n",
    "        max_features=max_features,\n",
    "    )\n",
    "    \n",
    "    X = cv.fit_transform(X)\n",
    "    \n",
    "    X_train, X_test, y_train, y_test = train_test_split(X, y)\n",
    "    \n",
    "    model = LogisticRegression()\n",
    "    fit = model.fit(X_train, y_train)\n",
    "    \n",
    "    y_pred = fit.predict(X_test)\n",
    "    \n",
    "    report = classification_report(\n",
    "        y_test, y_pred, target_names=('rural', 'urban'),\n",
    "    )\n",
    "    \n",
    "    print(report)\n",
    "    \n",
    "    return cv, model"
   ]
  },
  {
   "cell_type": "code",
   "execution_count": 10,
   "metadata": {},
   "outputs": [],
   "source": [
    "def print_rural(model, names, n=100):\n",
    "    idxs = model.coef_[0].argsort()\n",
    "    for idx in idxs[:n]:\n",
    "        print(model.coef_[0][idx], names[idx])"
   ]
  },
  {
   "cell_type": "code",
   "execution_count": 11,
   "metadata": {},
   "outputs": [],
   "source": [
    "def print_urban(model, names, n=100):\n",
    "    idxs = np.flip(model.coef_[0].argsort(), 0)\n",
    "    for idx in idxs[:n]:\n",
    "        print(model.coef_[0][idx], names[idx])"
   ]
  },
  {
   "cell_type": "code",
   "execution_count": 12,
   "metadata": {},
   "outputs": [
    {
     "name": "stdout",
     "output_type": "stream",
     "text": [
      "             precision    recall  f1-score   support\n",
      "\n",
      "      rural       0.57      0.63      0.60   1250201\n",
      "      urban       0.59      0.52      0.55   1249799\n",
      "\n",
      "avg / total       0.58      0.58      0.58   2500000\n",
      "\n"
     ]
    }
   ],
   "source": [
    "cv, model = train_model(X, y, (1, 3), 5000)"
   ]
  },
  {
   "cell_type": "code",
   "execution_count": 13,
   "metadata": {},
   "outputs": [],
   "source": [
    "names = cv.get_feature_names()"
   ]
  },
  {
   "cell_type": "code",
   "execution_count": 14,
   "metadata": {},
   "outputs": [
    {
     "name": "stdout",
     "output_type": "stream",
     "text": [
      "-3.0620563895 wind mph\n",
      "-2.25352476211 just checked in\n",
      "-1.92349184241 in humidity\n",
      "-1.62062621246 varsity\n",
      "-1.56009539182 softball\n",
      "-1.53803115317 0mph\n",
      "-1.51296762932 jv\n",
      "-1.51062805791 lady gaga\n",
      "-1.51043106102 honeoye\n",
      "-1.50552257552 new photo to\n",
      "-1.4521541186 more and more\n",
      "-1.3989904313 mt\n",
      "-1.37000092702 and people unfollowed\n",
      "-1.35647980027 temp\n",
      "-1.35128636105 q106 country\n",
      "-1.35128636105 on q106\n",
      "-1.35128636105 on q106 country\n",
      "-1.35128636105 is on q106\n",
      "-1.34811410741 edt\n",
      "-1.33945601818 honeoye falls\n",
      "-1.23880017948 honeoye falls ny\n",
      "-1.23880017948 falls ny weather\n",
      "-1.18132507037 00 in\n",
      "-1.17460225649 listing\n",
      "-1.16150198451 county\n",
      "-1.14682421764 gust\n",
      "-1.1465649779 available until\n",
      "-1.00746408354 forecast\n",
      "-0.988593857706 daily thanks to\n",
      "-0.977892921336 fishing\n",
      "-0.949679969394 earning\n",
      "-0.924271719527 mrs\n",
      "-0.902792611651 more for\n",
      "-0.848868668746 now playing\n",
      "-0.837856044103 liked video\n",
      "-0.836248957158 and one person\n",
      "-0.827108879237 listen to\n",
      "-0.802570356508 yasss it time\n",
      "-0.801439322328 rain today 00\n",
      "-0.784415743599 farm\n",
      "-0.780735242494 earning in\n",
      "-0.76159537915 just posted photo\n",
      "-0.735732576622 q106\n",
      "-0.698087136678 psa\n",
      "-0.697912478983 carolina\n",
      "-0.69668482466 ohio\n",
      "-0.691981896351 left in\n",
      "-0.686115673897 michigan\n",
      "-0.674920450183 georgia\n",
      "-0.669746475552 lots\n",
      "-0.669506833106 prom\n",
      "-0.664711867913 for sale\n",
      "-0.664375979194 ga\n",
      "-0.66243453236 lake\n",
      "-0.661156184987 unknown\n",
      "-0.660299179151 river\n",
      "-0.659787874399 for chance\n",
      "-0.656511723434 my twitter\n",
      "-0.656293079377 اللهم\n",
      "-0.655633470898 visits\n",
      "-0.653206883639 thunderstorm\n",
      "-0.638050147774 just earned the\n",
      "-0.630158737549 weather\n",
      "-0.624251988598 gt\n",
      "-0.614320125401 thankful\n",
      "-0.611395594564 ford\n",
      "-0.610030912395 yasss it\n",
      "-0.606578207093 gt gt gt\n",
      "-0.605858038218 lt\n",
      "-0.605627169551 leads\n",
      "-0.598418339401 the latest the\n",
      "-0.592810428981 automatically checked by\n",
      "-0.58626382687 on snapchat\n",
      "-0.582929406714 mountain\n",
      "-0.579528073227 wind\n",
      "-0.574922051254 person followed\n",
      "-0.57192801131 unit\n",
      "-0.566920681805 snow\n",
      "-0.565704685585 recap\n",
      "-0.563858912776 falls ny\n",
      "-0.563071534469 miles\n",
      "-0.562405655451 now available\n",
      "-0.555524672247 retweeted\n",
      "-0.547368586113 ny\n",
      "-0.54623614481 fl\n",
      "-0.543586296449 yard\n",
      "-0.539730292047 barometer\n",
      "-0.533665195079 tournament\n",
      "-0.533592590971 pm\n",
      "-0.533382929358 latest opening here\n",
      "-0.532536860588 vehicle\n",
      "-0.530914385336 flood\n",
      "-0.530030285938 recommend anyone\n",
      "-0.524844715518 golf\n",
      "-0.524290513589 prayers\n",
      "-0.523613392169 thank you to\n",
      "-0.522957540587 stop by\n",
      "-0.522149591957 great job\n",
      "-0.520125157488 baseball\n",
      "-0.519506196611 video to\n"
     ]
    }
   ],
   "source": [
    "print_rural(model, names)"
   ]
  },
  {
   "cell_type": "code",
   "execution_count": 15,
   "metadata": {},
   "outputs": [
    {
     "name": "stdout",
     "output_type": "stream",
     "text": [
      "5.43171810903 flight spotted\n",
      "2.58226917302 has appeared\n",
      "1.89327706226 gt lt\n",
      "1.6822911971 chicago\n",
      "1.58639506052 az\n",
      "1.5791550749 ny weather\n",
      "1.55490872429 houston\n",
      "1.55121115492 philadelphia\n",
      "1.53096597677 in ca\n",
      "1.49252368882 can you recommend\n",
      "1.45822027227 temperature\n",
      "1.44261830194 in tx\n",
      "1.43535342126 incident\n",
      "1.4023625555 angeles\n",
      "1.39224071814 dallas\n",
      "1.38690433386 wire\n",
      "1.29260366612 gt gt\n",
      "1.28832214387 il\n",
      "1.28118779423 brooklyn\n",
      "1.28043585478 phoenix\n",
      "1.2381390856 followed me and\n",
      "1.1735624452 lmaoo\n",
      "1.16200662445 nyc\n",
      "1.12209469622 lmaoooo\n",
      "1.11751729313 tix\n",
      "1.10435111042 ca\n",
      "1.08907364759 lmaooo\n",
      "1.08027349769 arizona\n",
      "1.05681955496 lakers\n",
      "1.05146749445 philly\n",
      "1.03009858074 mixtape\n",
      "0.991154824973 ave\n",
      "0.985268724958 bulls\n",
      "0.951521955975 today 00 in\n",
      "0.932210441335 spurs\n",
      "0.930252554106 san diego\n",
      "0.911461545956 lmfao\n",
      "0.910003205551 click for details\n",
      "0.907742240505 cubs\n",
      "0.906062397312 trending\n",
      "0.89884979869 mfs\n",
      "0.896729318412 articles\n",
      "0.891352801981 submit\n",
      "0.891065825365 listen\n",
      "0.889277551982 humidity\n",
      "0.865986898342 daily thanks\n",
      "0.863916247337 new york\n",
      "0.851727526765 dj\n",
      "0.848865697911 san\n",
      "0.838594977298 nowplaying\n",
      "0.819735180258 hollywood\n",
      "0.815762406675 tx\n",
      "0.815308433495 surely\n",
      "0.790101100397 uber\n",
      "0.782167133042 remix\n",
      "0.764041234145 poshmark\n",
      "0.753277314178 prod\n",
      "0.748486793781 comedy\n",
      "0.74418734192 in la\n",
      "0.697484021547 asks\n",
      "0.688640009499 tl\n",
      "0.68857030223 ig\n",
      "0.673544578587 film\n",
      "0.670286230194 california\n",
      "0.661380357052 dm\n",
      "0.660122410175 vibes\n",
      "0.653773752484 for great show\n",
      "0.647652537015 dope\n",
      "0.643087627474 latest opening\n",
      "0.636439649549 artists\n",
      "0.631685958763 lmao\n",
      "0.625185281781 great fit for\n",
      "0.62456324532 me and people\n",
      "0.620203640891 com\n",
      "0.613404097185 just added this\n",
      "0.611553396884 la\n",
      "0.610064580525 sis\n",
      "0.605287698405 ceo\n",
      "0.597008107746 29m\n",
      "0.586810677035 nba\n",
      "0.586748007596 cc\n",
      "0.582861783128 latest the\n",
      "0.576545079838 ep\n",
      "0.56829576125 fashion\n",
      "0.567783784776 new music\n",
      "0.56527108171 just earned\n",
      "0.5641610843 growth\n",
      "0.562715952711 brand\n",
      "0.556217859973 photos\n",
      "0.555468090428 thread\n",
      "0.554746904146 related\n",
      "0.55242602757 lowkey\n",
      "0.552316755258 gaga\n",
      "0.548734032924 smh\n",
      "0.541032897617 utc\n",
      "0.535713441116 train\n",
      "0.528369799023 lt lt lt\n",
      "0.525651132842 platform\n",
      "0.525546183833 studio\n",
      "0.521342974547 niggas\n"
     ]
    }
   ],
   "source": [
    "print_urban(model, names)"
   ]
  },
  {
   "cell_type": "code",
   "execution_count": null,
   "metadata": {},
   "outputs": [],
   "source": []
  }
 ],
 "metadata": {
  "kernelspec": {
   "display_name": "Python 3",
   "language": "python",
   "name": "python3"
  },
  "language_info": {
   "codemirror_mode": {
    "name": "ipython",
    "version": 3
   },
   "file_extension": ".py",
   "mimetype": "text/x-python",
   "name": "python",
   "nbconvert_exporter": "python",
   "pygments_lexer": "ipython3",
   "version": "3.6.2"
  }
 },
 "nbformat": 4,
 "nbformat_minor": 2
}
