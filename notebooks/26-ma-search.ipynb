{
 "cells": [
  {
   "cell_type": "code",
   "execution_count": 1,
   "metadata": {},
   "outputs": [],
   "source": [
    "import ujson\n",
    "import re\n",
    "import pandas as pd\n",
    "\n",
    "from glob import glob\n",
    "from gensim.models.word2vec import Word2Vec\n",
    "from itertools import product\n",
    "from IPython.display import Markdown, display\n",
    "from wordfreq import top_n_list\n",
    "from tqdm import tqdm_notebook\n",
    "from tabulate import tabulate"
   ]
  },
  {
   "cell_type": "code",
   "execution_count": 12,
   "metadata": {},
   "outputs": [],
   "source": [
    "def read_tweets(pattern, fcount=None):\n",
    "    \n",
    "    paths = glob(pattern)\n",
    "    \n",
    "    if fcount:\n",
    "        paths = paths[:fcount]\n",
    "    \n",
    "    tweets = []\n",
    "    for path in paths:\n",
    "        with open(path) as fh:\n",
    "            for line in fh:\n",
    "                \n",
    "                tweet = ujson.loads(line)\n",
    "                text = re.sub('(#|@|http)\\S+', '', tweet['body'])\n",
    "                tweet['tokens'] = re.findall('[a-z0-9]+', text.lower())\n",
    "                tweets.append(tweet)\n",
    "                \n",
    "    return tweets"
   ]
  },
  {
   "cell_type": "code",
   "execution_count": 13,
   "metadata": {},
   "outputs": [],
   "source": [
    "rural = read_tweets('../../data/ma-rural.json/*.json')"
   ]
  },
  {
   "cell_type": "code",
   "execution_count": 14,
   "metadata": {},
   "outputs": [],
   "source": [
    "urban = read_tweets('../../data/ma-boston.json/*.json')"
   ]
  },
  {
   "cell_type": "code",
   "execution_count": 15,
   "metadata": {},
   "outputs": [
    {
     "data": {
      "text/plain": [
       "2358948"
      ]
     },
     "execution_count": 15,
     "metadata": {},
     "output_type": "execute_result"
    }
   ],
   "source": [
    "len(rural)"
   ]
  },
  {
   "cell_type": "code",
   "execution_count": 16,
   "metadata": {},
   "outputs": [
    {
     "data": {
      "text/plain": [
       "4120216"
      ]
     },
     "execution_count": 16,
     "metadata": {},
     "output_type": "execute_result"
    }
   ],
   "source": [
    "len(urban)"
   ]
  },
  {
   "cell_type": "code",
   "execution_count": 42,
   "metadata": {},
   "outputs": [],
   "source": [
    "def search(tweets, tokens):\n",
    "    for tweet in tweets:\n",
    "        if all([t in tweet['tokens'] for t in tokens]):\n",
    "            print(tweet['body'])"
   ]
  },
  {
   "cell_type": "code",
   "execution_count": 71,
   "metadata": {
    "scrolled": false
   },
   "outputs": [
    {
     "name": "stdout",
     "output_type": "stream",
     "text": [
      "Just read this. Curious how many of you that went to reform and conservative Rosh Hashanah got political sermons? https://t.co/BJbBs8MKJw\n",
      "New story on NPR: Conservative Political Blogger Confirmed For Seat On Federal Appeals Court https://t.co/PwX7I2vUE8\n",
      "@OdieEsty @Linkara19 In my estimation, what makes them \"good\" makes them NOT conservative by U.S. political definit… https://t.co/titP6civaD\n",
      "John Koskinen has been in conservatives’ sights for a while now over political targeting of conservative groups https://t.co/8UHiH2T2vd\n",
      "Townhall's conservative all-stars mock lame celebrity political ads with their own video https://t.co/bs8Omv2HUh\n",
      "Hollywood we don't care!\n",
      "To all my conservative friends on the other side of the political spectrum, how do you not watch this video and... https://t.co/fbJkw3pC2F\n",
      "You're better than this Berkeley (and America) \"A Political Conservative Goes to Berkeley\" https://t.co/SfT9Tfo7Os\n",
      "My sister just said she had a dream that our very conservative aunt quit her full time job to make a living off of making political memes.😂😂\n",
      "This piece about political consequences of awful conservative media on our politics, was hilarious and awesome. https://t.co/xwiBgMg3HM\n",
      "It has absolutely nothing to do with race. To force political correctness on people with conservative values is dis… https://t.co/QVUou2pE8S\n",
      "Vapid argument, .@SenWarren\n",
      "\n",
      "Misleading to conflate conservative judicial view with political theory\n",
      "\n",
      "Textualism pr… https://t.co/1pMpRD3cec\n",
      "The two mainstream political orientations are progressive and conservative, but the public think those terms refer… https://t.co/szKH4CtwrG\n",
      "even if u ignore that they currently dominate the US political arena and are nowhere near actually being silenced, conservative fear is good\n",
      "@dk2475 That’s the problem. Conservative states are reluctant to invest in cities for the political reasons discussed before.\n",
      "I just did the political compass test and I'm a authoritarian conservative, just like non rogue Jerry, who is me\n",
      "Rt Her dream college turned into a real-life nightmare, all because she's a political conservative. Now, she's... https://t.co/3h2Z6da9yf\n",
      "It shows that being religious does not mean one must be a political conservative. https://t.co/NzvKHNuPFa\n",
      "@SenatorLankford @WSJ we have systemic racism political conservative pandering to only whites in farm houses go away bla bla\n",
      "@chercarlop @Evan_McMullin He may be conservative but I think he's a voice for sanity in an unmoored political environment.\n",
      "@jlupf I was wondering! They're one of the only conservative sites that makes it through FB's political bubble-pres… https://t.co/CFHd9DJzf1\n",
      "@tribelaw I'm old enough to remember when Conservative actually meant conservative, but DC social scene has always been intensely political.\n",
      "\"He’s vulgar, he’s a provocateur &amp; he fights political correctness. That’s definition now of being a conservative.” https://t.co/iLicinODbt\n",
      "Roger Stone is an example of how formerly fringe conservative voices have been thrust into the political fray.… https://t.co/tRr9yF3mRc\n"
     ]
    }
   ],
   "source": [
    "search(urban, ['political', 'conservative'])"
   ]
  },
  {
   "cell_type": "code",
   "execution_count": null,
   "metadata": {},
   "outputs": [],
   "source": []
  }
 ],
 "metadata": {
  "kernelspec": {
   "display_name": "Python 3",
   "language": "python",
   "name": "python3"
  },
  "language_info": {
   "codemirror_mode": {
    "name": "ipython",
    "version": 3
   },
   "file_extension": ".py",
   "mimetype": "text/x-python",
   "name": "python",
   "nbconvert_exporter": "python",
   "pygments_lexer": "ipython3",
   "version": "3.6.2"
  }
 },
 "nbformat": 4,
 "nbformat_minor": 2
}
